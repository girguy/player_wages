{
 "cells": [
  {
   "cell_type": "code",
   "execution_count": 22,
   "metadata": {},
   "outputs": [],
   "source": [
    "import pandas as pd\n",
    "import numpy as np\n",
    "from sklearn.model_selection import train_test_split\n",
    "from sklearn.preprocessing import MinMaxScaler\n",
    "from sklearn.preprocessing import StandardScaler\n",
    "from sklearn.model_selection import GridSearchCV\n",
    "\n",
    "from sklearn.linear_model import LinearRegression\n",
    "from sklearn.linear_model import Ridge, Lasso\n",
    "from sklearn.ensemble import RandomForestRegressor\n",
    "import lightgbm as ltb\n",
    "\n",
    "from sklearn import metrics\n",
    "from sklearn.metrics import mean_squared_error, r2_score\n",
    "\n",
    "import plotly.graph_objects as go\n",
    "import plotly.express as px"
   ]
  },
  {
   "cell_type": "markdown",
   "metadata": {},
   "source": [
    "#### NationalityId, PositionId, FootId, TeamId, LeagueId\n",
    "Those columns contains categorical values, in order to not create an 'importance' scale based on their ID value, we need to encode them\n",
    "\n",
    "- how can create numerical features without one-hot encoding\n",
    "    - For : Nationality, Position, Foot, Team, League\n",
    "        - y_level_mean = x.replace(y.groupby(x).mean()) \n",
    "        - JamesSteinEncoder\n",
    "    - For Foot only\n",
    "        -  WOEEncoder (for the foot)"
   ]
  },
  {
   "cell_type": "code",
   "execution_count": 23,
   "metadata": {},
   "outputs": [],
   "source": [
    "def compute_numerical_feature_from_categorical(dataset, y, categorical_feature_name, numerical_feature_name):\n",
    "\n",
    "    # Calculate the mean of the target variable grouped by the categorical feature\n",
    "    feature_mean_value = dataset.groupby(categorical_feature_name)[y].mean().reset_index()\n",
    "\n",
    "    # Rename the aggregated column to 'numerical_feature_name'\n",
    "    feature_mean_value = feature_mean_value.rename(columns={y: numerical_feature_name})\n",
    "\n",
    "    # Join the mean values back to the original dataset\n",
    "    dataset = dataset.merge(feature_mean_value, on=categorical_feature_name, how='left')\n",
    "\n",
    "    # Drop the original categorical feature and any duplicate columns that may have been created during the join\n",
    "    dataset = dataset.drop(columns=[categorical_feature_name])\n",
    "\n",
    "    return dataset, feature_mean_value"
   ]
  },
  {
   "cell_type": "code",
   "execution_count": 24,
   "metadata": {},
   "outputs": [],
   "source": [
    "def apply_encoder(dataset, encoder, categorical_feature_name, numerical_feature_name):\n",
    "    dataset = dataset.merge(encoder, on=categorical_feature_name, how='left')\n",
    "    dataset[numerical_feature_name] = dataset[numerical_feature_name].fillna(dataset[numerical_feature_name].mean())\n",
    "    dataset = dataset.drop(columns=[categorical_feature_name])\n",
    "\n",
    "    return dataset\n",
    "\n",
    "def get_player_name(player_ids, player_id_name):\n",
    "    player_ids = pd.DataFrame(player_ids)\n",
    "    player_name = player_ids \\\n",
    "        .merge(player_id_name, on='PlayerId', how='left') \\\n",
    "        .drop('PlayerId', axis=1)\n",
    "\n",
    "    return player_name\n",
    "\n",
    "def plot(df):\n",
    "    # Residuals Plot\n",
    "    fig_residuals = px.scatter(df, x='Predicted Salary', y='Residuals', hover_data=['PlayerName'])\n",
    "    fig_residuals.update_layout(title='Residuals vs Predicted Salary', xaxis_title='Predicted Salary', yaxis_title='Predicted - Actual')\n",
    "\n",
    "    # Prediction vs Actual Plot\n",
    "    fig_pred_vs_actual = px.scatter(df, x='Actual Salary', y='Predicted Salary', hover_data=['PlayerName'])\n",
    "    fig_pred_vs_actual.add_trace(go.Scatter(x=[df['Actual Salary'].min(), df['Actual Salary'].max()],\n",
    "                                            y=[df['Actual Salary'].min(), df['Actual Salary'].max()],\n",
    "                                            mode='lines', line=dict(dash='dash'), name='Perfect Prediction'))\n",
    "    fig_pred_vs_actual.update_layout(title='Predicted vs Actual Salary', xaxis_title='Actual Salary', yaxis_title='Predicted Salary')\n",
    "\n",
    "    # Histogram of Residuals\n",
    "    fig_hist_residuals = px.histogram(df, x='Residuals')\n",
    "    fig_hist_residuals.update_layout(title='Histogram of Residuals', xaxis_title='Residuals', yaxis_title='Count')\n",
    "\n",
    "    # Show the plots\n",
    "    fig_residuals.show()\n",
    "    fig_pred_vs_actual.show()\n",
    "    fig_hist_residuals.show()\n",
    "\n",
    "def compute_metrics(y, y_pred):\n",
    "    # Assuming predictions_df is your dataframe\n",
    "    # Mean Absolute Error (MAE)\n",
    "    mae = metrics.mean_absolute_error(y, y_pred)\n",
    "    # Mean Squared Error (MSE)\n",
    "    mse = metrics.mean_squared_error(y, y_pred)\n",
    "    # Root Mean Squared Error (RMSE)\n",
    "    rmse = np.sqrt(mse)  # Or directly, metrics.mean_squared_error(y_test, y_pred, squared=False)\n",
    "    # R-squared (R²)\n",
    "    r2 = metrics.r2_score(y, y_pred)\n",
    "\n",
    "    return mae, rmse, r2\n",
    "\n",
    "def get_metrics(name_model, predictions_df, y_train, y_train_pred):\n",
    "\n",
    "    mae_test, rmse_test, r2_test = compute_metrics(predictions_df['Actual Salary'], predictions_df['Predicted Salary'])\n",
    "    mae_train, rmse_train, r2_train = compute_metrics(y_train, y_train_pred)\n",
    "\n",
    "    computed_metrics = {\n",
    "        'Model': [name_model],\n",
    "        'Test - MAE': [mae_test],\n",
    "        'Test - RMSE': [rmse_test],\n",
    "        'Test - R-squared': [r2_test],\n",
    "        'Train - MAE': [mae_train],\n",
    "        'Train - RMSE': [rmse_train],\n",
    "        'Train - R-squared': [r2_train]\n",
    "    }\n",
    "\n",
    "    computed_metrics = pd.DataFrame(computed_metrics)\n",
    "\n",
    "    return computed_metrics\n",
    "\n",
    "def train_test_score_model(model_name, model, scaler, player_names, x_train, y_train, x_test, y_test):\n",
    "    model.fit(x_train, y_train)\n",
    "\n",
    "    # Transform the testing data (using the same scaler)\n",
    "    y_pred = model.predict(scaler.transform(x_test))\n",
    "    # Assuming 'predictions' is your array of predictions from the trained model\n",
    "    adjusted_y_pred = np.maximum(y_pred, 0)\n",
    "\n",
    "    a = len(player_names['PlayerName'].to_list())\n",
    "    b = len([model_name for i in range(len(adjusted_y_pred))])\n",
    "    c = len(list(y_test))\n",
    "    d = len(list(adjusted_y_pred))\n",
    "    e = len(list(adjusted_y_pred - y_test))\n",
    "    f = len(list(adjusted_y_pred - y_test)/y_test*100)\n",
    "\n",
    "    # Create a DataFrame\n",
    "    predictions_df = pd.DataFrame({\n",
    "        'PlayerName': player_names['PlayerName'].to_list(),\n",
    "        'Model': [model_name for i in range(len(adjusted_y_pred))],\n",
    "        'Actual Salary': list(y_test),\n",
    "        'Predicted Salary': list(adjusted_y_pred),\n",
    "        'Residuals': list(adjusted_y_pred - y_test),\n",
    "        'Percentage Error' : list(adjusted_y_pred - y_test)/y_test*100\n",
    "    })\n",
    "\n",
    "    y_pred_train = model.predict(x_train)\n",
    "    adjusted_y_pred_train = np.maximum(y_pred_train, 0)\n",
    "    computed_metrics = get_metrics(model_name, predictions_df, y_train, adjusted_y_pred_train)\n",
    "\n",
    "    return model, predictions_df, computed_metrics"
   ]
  },
  {
   "cell_type": "markdown",
   "metadata": {},
   "source": [
    "## Load dataset"
   ]
  },
  {
   "cell_type": "code",
   "execution_count": 25,
   "metadata": {},
   "outputs": [],
   "source": [
    "dataset = pd.read_csv('gold/dataset.csv')\n",
    "player_name_df = pd.read_csv('silver/PlayerName.csv')"
   ]
  },
  {
   "cell_type": "markdown",
   "metadata": {},
   "source": [
    "## Training, Validation, Testing split"
   ]
  },
  {
   "cell_type": "code",
   "execution_count": 26,
   "metadata": {},
   "outputs": [],
   "source": [
    "col_to_drop = ['Wage']\n",
    "X = dataset.drop(col_to_drop, axis=1)  # Assuming 'Value' is the target\n",
    "y = dataset['Wage']"
   ]
  },
  {
   "cell_type": "code",
   "execution_count": 27,
   "metadata": {},
   "outputs": [],
   "source": [
    "x_train, x_test, y_train, y_test = train_test_split(X, y, test_size=0.2, random_state=42)"
   ]
  },
  {
   "cell_type": "markdown",
   "metadata": {},
   "source": [
    "## Process training and testing set"
   ]
  },
  {
   "cell_type": "code",
   "execution_count": 28,
   "metadata": {},
   "outputs": [],
   "source": [
    "x_train = x_train.drop('PlayerId', axis=1)\n",
    "test_player_ids = x_test['PlayerId']\n",
    "player_names = get_player_name(test_player_ids, player_name_df)\n",
    "x_test = x_test.drop('PlayerId', axis=1)"
   ]
  },
  {
   "cell_type": "code",
   "execution_count": 29,
   "metadata": {},
   "outputs": [],
   "source": [
    "# encode categorical columns\n",
    "x_train, nationality_encoder = compute_numerical_feature_from_categorical(x_train, 'Value', 'NationalityId', 'Nationality')\n",
    "x_train, position_encoder = compute_numerical_feature_from_categorical(x_train, 'Value', 'PositionId', 'Position')\n",
    "x_train, foot_encoder = compute_numerical_feature_from_categorical(x_train, 'Value', 'FootId', 'Foot')\n",
    "x_train, team_encoder = compute_numerical_feature_from_categorical(x_train, 'Value', 'TeamId', 'Team')\n",
    "x_train, league_encoder = compute_numerical_feature_from_categorical(x_train, 'Value', 'LeagueId', 'League')\n",
    "\n",
    "x_test = apply_encoder(x_test, nationality_encoder, 'NationalityId', 'Nationality')\n",
    "x_test = apply_encoder(x_test, position_encoder, 'PositionId', 'Position')\n",
    "x_test = apply_encoder(x_test, foot_encoder, 'FootId', 'Foot')\n",
    "x_test = apply_encoder(x_test, team_encoder, 'TeamId', 'Team')\n",
    "x_test = apply_encoder(x_test, league_encoder, 'LeagueId', 'League')\n",
    "\n",
    "\n",
    "scaler_type = 'MinMaxScaler'\n",
    "if scaler_type == 'MinMaxScaler': scaler = MinMaxScaler(feature_range=(0, 1))\n",
    "else: scaler = StandardScaler()\n",
    "\n",
    "# Fit the scaler on the training data\n",
    "scaler.fit(x_train)\n",
    "\n",
    "# Transform the training data\n",
    "x_train_scaled = scaler.transform(x_train)"
   ]
  },
  {
   "cell_type": "markdown",
   "metadata": {},
   "source": [
    "## Train - Test - Score Models"
   ]
  },
  {
   "cell_type": "code",
   "execution_count": 31,
   "metadata": {},
   "outputs": [
    {
     "ename": "ValueError",
     "evalue": "All arrays must be of the same length",
     "output_type": "error",
     "traceback": [
      "\u001b[1;31m---------------------------------------------------------------------------\u001b[0m",
      "\u001b[1;31mValueError\u001b[0m                                Traceback (most recent call last)",
      "Cell \u001b[1;32mIn[31], line 16\u001b[0m\n\u001b[0;32m     13\u001b[0m computed_metrics \u001b[38;5;241m=\u001b[39m [] \u001b[38;5;66;03m# pd.DataFrame(columns=['Model', 'MAE', 'MSE', 'RMSE', 'R-squared', 'Adjusted R-squared'])\u001b[39;00m\n\u001b[0;32m     15\u001b[0m \u001b[38;5;28;01mfor\u001b[39;00m name, model \u001b[38;5;129;01min\u001b[39;00m models\u001b[38;5;241m.\u001b[39mitems():\n\u001b[1;32m---> 16\u001b[0m     trained_model, pred_df, metric_df \u001b[38;5;241m=\u001b[39m \u001b[43mtrain_test_score_model\u001b[49m\u001b[43m(\u001b[49m\u001b[43mname\u001b[49m\u001b[43m,\u001b[49m\u001b[43m \u001b[49m\u001b[43mmodel\u001b[49m\u001b[43m,\u001b[49m\u001b[43m \u001b[49m\u001b[43mscaler\u001b[49m\u001b[43m,\u001b[49m\u001b[43m \u001b[49m\u001b[43mplayer_names\u001b[49m\u001b[43m,\u001b[49m\u001b[43m \u001b[49m\u001b[43mx_train_scaled\u001b[49m\u001b[43m,\u001b[49m\u001b[43m \u001b[49m\u001b[43my_train\u001b[49m\u001b[43m,\u001b[49m\u001b[43m \u001b[49m\u001b[43mx_test\u001b[49m\u001b[43m,\u001b[49m\u001b[43m \u001b[49m\u001b[43my_test\u001b[49m\u001b[43m)\u001b[49m\n\u001b[0;32m     17\u001b[0m     models[name] \u001b[38;5;241m=\u001b[39m trained_model\n\u001b[0;32m     18\u001b[0m     prediction_df\u001b[38;5;241m.\u001b[39mappend(pred_df)\n",
      "Cell \u001b[1;32mIn[24], line 78\u001b[0m, in \u001b[0;36mtrain_test_score_model\u001b[1;34m(model_name, model, scaler, player_names, x_train, y_train, x_test, y_test)\u001b[0m\n\u001b[0;32m     75\u001b[0m adjusted_y_pred \u001b[38;5;241m=\u001b[39m np\u001b[38;5;241m.\u001b[39mmaximum(y_pred, \u001b[38;5;241m0\u001b[39m)\n\u001b[0;32m     77\u001b[0m \u001b[38;5;66;03m# Create a DataFrame\u001b[39;00m\n\u001b[1;32m---> 78\u001b[0m predictions_df \u001b[38;5;241m=\u001b[39m \u001b[43mpd\u001b[49m\u001b[38;5;241;43m.\u001b[39;49m\u001b[43mDataFrame\u001b[49m\u001b[43m(\u001b[49m\u001b[43m{\u001b[49m\n\u001b[0;32m     79\u001b[0m \u001b[43m    \u001b[49m\u001b[38;5;124;43m'\u001b[39;49m\u001b[38;5;124;43mPlayerName\u001b[39;49m\u001b[38;5;124;43m'\u001b[39;49m\u001b[43m:\u001b[49m\u001b[43m \u001b[49m\u001b[43mplayer_names\u001b[49m\u001b[43m[\u001b[49m\u001b[38;5;124;43m'\u001b[39;49m\u001b[38;5;124;43mPlayerName\u001b[39;49m\u001b[38;5;124;43m'\u001b[39;49m\u001b[43m]\u001b[49m\u001b[38;5;241;43m.\u001b[39;49m\u001b[43mto_list\u001b[49m\u001b[43m(\u001b[49m\u001b[43m)\u001b[49m\u001b[43m,\u001b[49m\n\u001b[0;32m     80\u001b[0m \u001b[43m    \u001b[49m\u001b[38;5;124;43m'\u001b[39;49m\u001b[38;5;124;43mModel\u001b[39;49m\u001b[38;5;124;43m'\u001b[39;49m\u001b[43m:\u001b[49m\u001b[43m \u001b[49m\u001b[43m[\u001b[49m\u001b[43mmodel_name\u001b[49m\u001b[43m \u001b[49m\u001b[38;5;28;43;01mfor\u001b[39;49;00m\u001b[43m \u001b[49m\u001b[43mi\u001b[49m\u001b[43m \u001b[49m\u001b[38;5;129;43;01min\u001b[39;49;00m\u001b[43m \u001b[49m\u001b[38;5;28;43mrange\u001b[39;49m\u001b[43m(\u001b[49m\u001b[38;5;28;43mlen\u001b[39;49m\u001b[43m(\u001b[49m\u001b[43madjusted_y_pred\u001b[49m\u001b[43m)\u001b[49m\u001b[43m)\u001b[49m\u001b[43m]\u001b[49m\u001b[43m,\u001b[49m\n\u001b[0;32m     81\u001b[0m \u001b[43m    \u001b[49m\u001b[38;5;124;43m'\u001b[39;49m\u001b[38;5;124;43mActual Salary\u001b[39;49m\u001b[38;5;124;43m'\u001b[39;49m\u001b[43m:\u001b[49m\u001b[43m \u001b[49m\u001b[38;5;28;43mlist\u001b[39;49m\u001b[43m(\u001b[49m\u001b[43my_test\u001b[49m\u001b[43m)\u001b[49m\u001b[43m,\u001b[49m\n\u001b[0;32m     82\u001b[0m \u001b[43m    \u001b[49m\u001b[38;5;124;43m'\u001b[39;49m\u001b[38;5;124;43mPredicted Salary\u001b[39;49m\u001b[38;5;124;43m'\u001b[39;49m\u001b[43m:\u001b[49m\u001b[43m \u001b[49m\u001b[38;5;28;43mlist\u001b[39;49m\u001b[43m(\u001b[49m\u001b[43madjusted_y_pred\u001b[49m\u001b[43m)\u001b[49m\u001b[43m,\u001b[49m\n\u001b[0;32m     83\u001b[0m \u001b[43m    \u001b[49m\u001b[38;5;124;43m'\u001b[39;49m\u001b[38;5;124;43mResiduals\u001b[39;49m\u001b[38;5;124;43m'\u001b[39;49m\u001b[43m:\u001b[49m\u001b[43m \u001b[49m\u001b[38;5;28;43mlist\u001b[39;49m\u001b[43m(\u001b[49m\u001b[43madjusted_y_pred\u001b[49m\u001b[43m \u001b[49m\u001b[38;5;241;43m-\u001b[39;49m\u001b[43m \u001b[49m\u001b[43my_test\u001b[49m\u001b[43m)\u001b[49m\u001b[43m,\u001b[49m\n\u001b[0;32m     84\u001b[0m \u001b[43m    \u001b[49m\u001b[38;5;124;43m'\u001b[39;49m\u001b[38;5;124;43mPercentage Error\u001b[39;49m\u001b[38;5;124;43m'\u001b[39;49m\u001b[43m \u001b[49m\u001b[43m:\u001b[49m\u001b[43m \u001b[49m\u001b[38;5;28;43mlist\u001b[39;49m\u001b[43m(\u001b[49m\u001b[43madjusted_y_pred\u001b[49m\u001b[43m \u001b[49m\u001b[38;5;241;43m-\u001b[39;49m\u001b[43m \u001b[49m\u001b[43my_test\u001b[49m\u001b[43m)\u001b[49m\u001b[38;5;241;43m/\u001b[39;49m\u001b[43my_test\u001b[49m\u001b[38;5;241;43m*\u001b[39;49m\u001b[38;5;241;43m100\u001b[39;49m\n\u001b[0;32m     85\u001b[0m \u001b[43m\u001b[49m\u001b[43m}\u001b[49m\u001b[43m)\u001b[49m\n\u001b[0;32m     87\u001b[0m y_pred_train \u001b[38;5;241m=\u001b[39m model\u001b[38;5;241m.\u001b[39mpredict(x_train)\n\u001b[0;32m     88\u001b[0m adjusted_y_pred_train \u001b[38;5;241m=\u001b[39m np\u001b[38;5;241m.\u001b[39mmaximum(y_pred_train, \u001b[38;5;241m0\u001b[39m)\n",
      "File \u001b[1;32mc:\\Users\\guygi\\OneDrive\\documents\\player_wages\\.venv\\lib\\site-packages\\pandas\\core\\frame.py:767\u001b[0m, in \u001b[0;36mDataFrame.__init__\u001b[1;34m(self, data, index, columns, dtype, copy)\u001b[0m\n\u001b[0;32m    761\u001b[0m     mgr \u001b[38;5;241m=\u001b[39m \u001b[38;5;28mself\u001b[39m\u001b[38;5;241m.\u001b[39m_init_mgr(\n\u001b[0;32m    762\u001b[0m         data, axes\u001b[38;5;241m=\u001b[39m{\u001b[38;5;124m\"\u001b[39m\u001b[38;5;124mindex\u001b[39m\u001b[38;5;124m\"\u001b[39m: index, \u001b[38;5;124m\"\u001b[39m\u001b[38;5;124mcolumns\u001b[39m\u001b[38;5;124m\"\u001b[39m: columns}, dtype\u001b[38;5;241m=\u001b[39mdtype, copy\u001b[38;5;241m=\u001b[39mcopy\n\u001b[0;32m    763\u001b[0m     )\n\u001b[0;32m    765\u001b[0m \u001b[38;5;28;01melif\u001b[39;00m \u001b[38;5;28misinstance\u001b[39m(data, \u001b[38;5;28mdict\u001b[39m):\n\u001b[0;32m    766\u001b[0m     \u001b[38;5;66;03m# GH#38939 de facto copy defaults to False only in non-dict cases\u001b[39;00m\n\u001b[1;32m--> 767\u001b[0m     mgr \u001b[38;5;241m=\u001b[39m \u001b[43mdict_to_mgr\u001b[49m\u001b[43m(\u001b[49m\u001b[43mdata\u001b[49m\u001b[43m,\u001b[49m\u001b[43m \u001b[49m\u001b[43mindex\u001b[49m\u001b[43m,\u001b[49m\u001b[43m \u001b[49m\u001b[43mcolumns\u001b[49m\u001b[43m,\u001b[49m\u001b[43m \u001b[49m\u001b[43mdtype\u001b[49m\u001b[38;5;241;43m=\u001b[39;49m\u001b[43mdtype\u001b[49m\u001b[43m,\u001b[49m\u001b[43m \u001b[49m\u001b[43mcopy\u001b[49m\u001b[38;5;241;43m=\u001b[39;49m\u001b[43mcopy\u001b[49m\u001b[43m,\u001b[49m\u001b[43m \u001b[49m\u001b[43mtyp\u001b[49m\u001b[38;5;241;43m=\u001b[39;49m\u001b[43mmanager\u001b[49m\u001b[43m)\u001b[49m\n\u001b[0;32m    768\u001b[0m \u001b[38;5;28;01melif\u001b[39;00m \u001b[38;5;28misinstance\u001b[39m(data, ma\u001b[38;5;241m.\u001b[39mMaskedArray):\n\u001b[0;32m    769\u001b[0m     \u001b[38;5;28;01mfrom\u001b[39;00m \u001b[38;5;21;01mnumpy\u001b[39;00m\u001b[38;5;21;01m.\u001b[39;00m\u001b[38;5;21;01mma\u001b[39;00m \u001b[38;5;28;01mimport\u001b[39;00m mrecords\n",
      "File \u001b[1;32mc:\\Users\\guygi\\OneDrive\\documents\\player_wages\\.venv\\lib\\site-packages\\pandas\\core\\internals\\construction.py:503\u001b[0m, in \u001b[0;36mdict_to_mgr\u001b[1;34m(data, index, columns, dtype, typ, copy)\u001b[0m\n\u001b[0;32m    499\u001b[0m     \u001b[38;5;28;01melse\u001b[39;00m:\n\u001b[0;32m    500\u001b[0m         \u001b[38;5;66;03m# dtype check to exclude e.g. range objects, scalars\u001b[39;00m\n\u001b[0;32m    501\u001b[0m         arrays \u001b[38;5;241m=\u001b[39m [x\u001b[38;5;241m.\u001b[39mcopy() \u001b[38;5;28;01mif\u001b[39;00m \u001b[38;5;28mhasattr\u001b[39m(x, \u001b[38;5;124m\"\u001b[39m\u001b[38;5;124mdtype\u001b[39m\u001b[38;5;124m\"\u001b[39m) \u001b[38;5;28;01melse\u001b[39;00m x \u001b[38;5;28;01mfor\u001b[39;00m x \u001b[38;5;129;01min\u001b[39;00m arrays]\n\u001b[1;32m--> 503\u001b[0m \u001b[38;5;28;01mreturn\u001b[39;00m \u001b[43marrays_to_mgr\u001b[49m\u001b[43m(\u001b[49m\u001b[43marrays\u001b[49m\u001b[43m,\u001b[49m\u001b[43m \u001b[49m\u001b[43mcolumns\u001b[49m\u001b[43m,\u001b[49m\u001b[43m \u001b[49m\u001b[43mindex\u001b[49m\u001b[43m,\u001b[49m\u001b[43m \u001b[49m\u001b[43mdtype\u001b[49m\u001b[38;5;241;43m=\u001b[39;49m\u001b[43mdtype\u001b[49m\u001b[43m,\u001b[49m\u001b[43m \u001b[49m\u001b[43mtyp\u001b[49m\u001b[38;5;241;43m=\u001b[39;49m\u001b[43mtyp\u001b[49m\u001b[43m,\u001b[49m\u001b[43m \u001b[49m\u001b[43mconsolidate\u001b[49m\u001b[38;5;241;43m=\u001b[39;49m\u001b[43mcopy\u001b[49m\u001b[43m)\u001b[49m\n",
      "File \u001b[1;32mc:\\Users\\guygi\\OneDrive\\documents\\player_wages\\.venv\\lib\\site-packages\\pandas\\core\\internals\\construction.py:114\u001b[0m, in \u001b[0;36marrays_to_mgr\u001b[1;34m(arrays, columns, index, dtype, verify_integrity, typ, consolidate)\u001b[0m\n\u001b[0;32m    111\u001b[0m \u001b[38;5;28;01mif\u001b[39;00m verify_integrity:\n\u001b[0;32m    112\u001b[0m     \u001b[38;5;66;03m# figure out the index, if necessary\u001b[39;00m\n\u001b[0;32m    113\u001b[0m     \u001b[38;5;28;01mif\u001b[39;00m index \u001b[38;5;129;01mis\u001b[39;00m \u001b[38;5;28;01mNone\u001b[39;00m:\n\u001b[1;32m--> 114\u001b[0m         index \u001b[38;5;241m=\u001b[39m \u001b[43m_extract_index\u001b[49m\u001b[43m(\u001b[49m\u001b[43marrays\u001b[49m\u001b[43m)\u001b[49m\n\u001b[0;32m    115\u001b[0m     \u001b[38;5;28;01melse\u001b[39;00m:\n\u001b[0;32m    116\u001b[0m         index \u001b[38;5;241m=\u001b[39m ensure_index(index)\n",
      "File \u001b[1;32mc:\\Users\\guygi\\OneDrive\\documents\\player_wages\\.venv\\lib\\site-packages\\pandas\\core\\internals\\construction.py:677\u001b[0m, in \u001b[0;36m_extract_index\u001b[1;34m(data)\u001b[0m\n\u001b[0;32m    675\u001b[0m lengths \u001b[38;5;241m=\u001b[39m \u001b[38;5;28mlist\u001b[39m(\u001b[38;5;28mset\u001b[39m(raw_lengths))\n\u001b[0;32m    676\u001b[0m \u001b[38;5;28;01mif\u001b[39;00m \u001b[38;5;28mlen\u001b[39m(lengths) \u001b[38;5;241m>\u001b[39m \u001b[38;5;241m1\u001b[39m:\n\u001b[1;32m--> 677\u001b[0m     \u001b[38;5;28;01mraise\u001b[39;00m \u001b[38;5;167;01mValueError\u001b[39;00m(\u001b[38;5;124m\"\u001b[39m\u001b[38;5;124mAll arrays must be of the same length\u001b[39m\u001b[38;5;124m\"\u001b[39m)\n\u001b[0;32m    679\u001b[0m \u001b[38;5;28;01mif\u001b[39;00m have_dicts:\n\u001b[0;32m    680\u001b[0m     \u001b[38;5;28;01mraise\u001b[39;00m \u001b[38;5;167;01mValueError\u001b[39;00m(\n\u001b[0;32m    681\u001b[0m         \u001b[38;5;124m\"\u001b[39m\u001b[38;5;124mMixing dicts with non-Series may lead to ambiguous ordering.\u001b[39m\u001b[38;5;124m\"\u001b[39m\n\u001b[0;32m    682\u001b[0m     )\n",
      "\u001b[1;31mValueError\u001b[0m: All arrays must be of the same length"
     ]
    }
   ],
   "source": [
    "models = {\n",
    "    'Linear Regressor': LinearRegression(),\n",
    "    'Random Forest Regressor': RandomForestRegressor(n_estimators=300, max_depth=30, random_state=42),\n",
    "    'LightGBM': ltb.LGBMRegressor(colsample_bytree=0.7, learning_rate=0.1, max_depth=10, min_child_samples=20, n_estimators=300, num_leaves=31, subsample=0.8, random_state=42, verbose=-1),\n",
    "    }\n",
    "\n",
    "# Ridge cv\n",
    "# Light gbm\n",
    "# XG boost\n",
    "# Any estimator using the Huber loss would also be robust to outliers, e.g. SGDRegressor with loss='huber'.\n",
    "\n",
    "prediction_df = [] # pd.DataFrame(columns=['Player', 'Model', 'Actual Salary', 'Predicted Salary', 'Residuals'])\n",
    "computed_metrics = [] # pd.DataFrame(columns=['Model', 'MAE', 'MSE', 'RMSE', 'R-squared', 'Adjusted R-squared'])\n",
    "\n",
    "for name, model in models.items():\n",
    "    trained_model, pred_df, metric_df = train_test_score_model(name, model, scaler, player_names, x_train_scaled, y_train, x_test, y_test)\n",
    "    models[name] = trained_model\n",
    "    prediction_df.append(pred_df)\n",
    "    computed_metrics.append(metric_df)\n",
    "\n",
    "prediction_df = pd.concat(prediction_df)\n",
    "computed_metrics = pd.concat(computed_metrics)"
   ]
  },
  {
   "cell_type": "code",
   "execution_count": null,
   "metadata": {},
   "outputs": [
    {
     "data": {
      "text/html": [
       "<div>\n",
       "<style scoped>\n",
       "    .dataframe tbody tr th:only-of-type {\n",
       "        vertical-align: middle;\n",
       "    }\n",
       "\n",
       "    .dataframe tbody tr th {\n",
       "        vertical-align: top;\n",
       "    }\n",
       "\n",
       "    .dataframe thead th {\n",
       "        text-align: right;\n",
       "    }\n",
       "</style>\n",
       "<table border=\"1\" class=\"dataframe\">\n",
       "  <thead>\n",
       "    <tr style=\"text-align: right;\">\n",
       "      <th></th>\n",
       "      <th>Model</th>\n",
       "      <th>Test - MAE</th>\n",
       "      <th>Test - RMSE</th>\n",
       "      <th>Test - R-squared</th>\n",
       "      <th>Train - MAE</th>\n",
       "      <th>Train - RMSE</th>\n",
       "      <th>Train - R-squared</th>\n",
       "    </tr>\n",
       "  </thead>\n",
       "  <tbody>\n",
       "    <tr>\n",
       "      <th>0</th>\n",
       "      <td>Linear Regressor</td>\n",
       "      <td>6768.662575</td>\n",
       "      <td>13418.278795</td>\n",
       "      <td>0.747218</td>\n",
       "      <td>6415.752532</td>\n",
       "      <td>11731.782080</td>\n",
       "      <td>0.794727</td>\n",
       "    </tr>\n",
       "    <tr>\n",
       "      <th>0</th>\n",
       "      <td>Random Forest Regressor</td>\n",
       "      <td>4159.433805</td>\n",
       "      <td>8563.151276</td>\n",
       "      <td>0.897052</td>\n",
       "      <td>1481.338177</td>\n",
       "      <td>3123.687571</td>\n",
       "      <td>0.985447</td>\n",
       "    </tr>\n",
       "    <tr>\n",
       "      <th>0</th>\n",
       "      <td>LightGBM</td>\n",
       "      <td>3512.014061</td>\n",
       "      <td>7585.279981</td>\n",
       "      <td>0.919221</td>\n",
       "      <td>1436.884805</td>\n",
       "      <td>2382.378230</td>\n",
       "      <td>0.991535</td>\n",
       "    </tr>\n",
       "  </tbody>\n",
       "</table>\n",
       "</div>"
      ],
      "text/plain": [
       "                     Model   Test - MAE   Test - RMSE  Test - R-squared  \\\n",
       "0         Linear Regressor  6768.662575  13418.278795          0.747218   \n",
       "0  Random Forest Regressor  4159.433805   8563.151276          0.897052   \n",
       "0                 LightGBM  3512.014061   7585.279981          0.919221   \n",
       "\n",
       "   Train - MAE  Train - RMSE  Train - R-squared  \n",
       "0  6415.752532  11731.782080           0.794727  \n",
       "0  1481.338177   3123.687571           0.985447  \n",
       "0  1436.884805   2382.378230           0.991535  "
      ]
     },
     "execution_count": 100,
     "metadata": {},
     "output_type": "execute_result"
    }
   ],
   "source": [
    "computed_metrics"
   ]
  },
  {
   "cell_type": "code",
   "execution_count": null,
   "metadata": {},
   "outputs": [
    {
     "data": {
      "application/vnd.plotly.v1+json": {
       "config": {
        "plotlyServerURL": "https://plot.ly"
       },
       "data": [
        {
         "customdata": [
          [
           "Jacopo Fazzini"
          ],
          [
           "Nathan Tella"
          ],
          [
           "Janik Haberer"
          ],
          [
           "Cristiano Piccini"
          ],
          [
           "Koen Van Langendonck"
          ],
          [
           "Sam Larsson"
          ],
          [
           "Garry Mendes Rodrigues"
          ],
          [
           "Florian Krüger"
          ],
          [
           "Xeber Alkain Mitxelena"
          ],
          [
           "Flynn Downes"
          ],
          [
           "Reyes Cleary"
          ],
          [
           "João Miguel Teixeira Mendes"
          ],
          [
           "Iñaki Rupérez Urtasun"
          ],
          [
           "Peer Koopmeiners"
          ],
          [
           "Antonio Jonjić"
          ],
          [
           "Sherel Floranus"
          ],
          [
           "Fabio Torsiello"
          ],
          [
           "Antoine Leautey"
          ],
          [
           "Peter Ouaneh"
          ],
          [
           "Dario Dumić"
          ],
          [
           "Paul Stock"
          ],
          [
           "Federico Dimarco"
          ],
          [
           "Lilian Brassier"
          ],
          [
           "Liam Lindsay"
          ],
          [
           "Aitor Paredes Casamichana"
          ],
          [
           "Ryan Isaac Mendes da Graça"
          ],
          [
           "Alex Matos"
          ],
          [
           "Leandro Chichizola"
          ],
          [
           "Jorge Filipe Oliveira Fernandes"
          ],
          [
           "Semir Telalovic"
          ],
          [
           "Domingos Quina"
          ],
          [
           "Julen Lobete Cienfuegos"
          ],
          [
           "Colin Dagba"
          ],
          [
           "Fernando Pacheco Flores"
          ],
          [
           "Daniel Grilo Azevedo"
          ],
          [
           "Rui Filipe Caetano Moura"
          ],
          [
           "Christian Kinsombi"
          ],
          [
           "Niclas Füllkrug"
          ],
          [
           "Florian Kainz"
          ],
          [
           "Luca Giudici"
          ],
          [
           "Luis Milla Manzanares"
          ],
          [
           "Emmanuel Okyere Boateng"
          ],
          [
           "Tawanda Chirewa"
          ],
          [
           "Bahadır Gölgeli"
          ],
          [
           "Diyaeddine Abzi"
          ],
          [
           "Erce Kardeşler"
          ],
          [
           "Moryké Fofana"
          ],
          [
           "Gabriel Gudmundsson"
          ],
          [
           "Nikolas Agrafiotis"
          ],
          [
           "Jannik Vestergaard"
          ],
          [
           "Kaio César Andrade Lima"
          ],
          [
           "José Francisco dos Santos Júnior"
          ],
          [
           "Tjaronn Inteff Chefren Chery"
          ],
          [
           "Alessandro Bellemo"
          ],
          [
           "Vincent Janssen"
          ],
          [
           "Olivier Dumont"
          ],
          [
           "Andreas Albers Nielsen"
          ],
          [
           "Thibaut Nicolas Marc Courtois"
          ],
          [
           "Pajtim Kasami"
          ],
          [
           "Albert-Mboyo Sambi Lokonga"
          ],
          [
           "André Hoffmann"
          ],
          [
           "Mergim Berisha"
          ],
          [
           "Terem Igobor Moffi"
          ],
          [
           "Aitor Mañas Buenadicha"
          ],
          [
           "Edmond Fayçal Tapsoba"
          ],
          [
           "Amari'i Bell"
          ],
          [
           "Edoardo Borrelli"
          ],
          [
           "Francisco Gámez López"
          ],
          [
           "Kayky da Silva Chagas"
          ],
          [
           "Lawrence Ofori"
          ],
          [
           "Florentin Lucien Jean Bloch"
          ],
          [
           "Benicio Baker-Boaitey"
          ],
          [
           "Sveinn Aron Guðjohnsen"
          ],
          [
           "Christian Lund Gytkjær"
          ],
          [
           "Leo Skiri Østigård"
          ],
          [
           "Ivan Filipović"
          ],
          [
           "Daniel Heber"
          ],
          [
           "Luis Perea Hernández"
          ],
          [
           "André Seruca de Oliveira"
          ],
          [
           "Marc Aguado Pallarés"
          ],
          [
           "Pape Ousmane Sakho"
          ],
          [
           "Rodrigo Ribeiro de Macedo"
          ],
          [
           "Ilias Koutsoupias"
          ],
          [
           "川邉 骏"
          ],
          [
           "Nicholas Pierini"
          ],
          [
           "Elbasan Rashani"
          ],
          [
           "Samuele Di Benedetto"
          ],
          [
           "Adryelson Lima Silva"
          ],
          [
           "Amar Gerxhaliu"
          ],
          [
           "Moïse Sahi Dion"
          ],
          [
           "Pedro González López"
          ],
          [
           "Miguel Ángel Atienza Villa"
          ],
          [
           "Mathias De Amorim"
          ],
          [
           "Alejandro Grimaldo García"
          ],
          [
           "Raphael Gregório Guzzo"
          ],
          [
           "Rui Pedro Silva Costa"
          ],
          [
           "Héctor José Hernández Marrero"
          ],
          [
           "Raúl Navarro del Río"
          ],
          [
           "Ferdy Druijf"
          ],
          [
           "Shahruddin Magomedaliyev"
          ],
          [
           "Enrico Baldini"
          ],
          [
           "Ruben Bover Izquierdo"
          ],
          [
           "Ravil Tagir"
          ],
          [
           "Daniel Gómez Alcón"
          ],
          [
           "Souleyman Doumbia"
          ],
          [
           "Jordan Tell"
          ],
          [
           "Giorgio Cittadini"
          ],
          [
           "Hélder José Oliveira Sá"
          ],
          [
           "Borja González Tomás"
          ],
          [
           "Luca Moro"
          ],
          [
           "Reece James"
          ],
          [
           "Márton Dárdai"
          ],
          [
           "Luka Bogdan"
          ],
          [
           "Mohamed Bamba"
          ],
          [
           "Ygor Nogueira de Paula"
          ],
          [
           "Harrison Clarke"
          ],
          [
           "Raffaele Pucino"
          ],
          [
           "Diego García Campos"
          ],
          [
           "Gaby Jean"
          ],
          [
           "Victor Jörgen Nilsson Lindelöf"
          ],
          [
           "Sokol Çikalleshi"
          ],
          [
           "Thibault Campanini"
          ],
          [
           "Joshua Myles Abraham Key"
          ],
          [
           "Kevin Strootman"
          ],
          [
           "Alessandro Livieri"
          ],
          [
           "Danny Ward"
          ],
          [
           "Çağlar Söyüncü"
          ],
          [
           "Junior Mwanga"
          ],
          [
           "Gregorio Luperini"
          ],
          [
           "Erick Barbosa dos Santos"
          ],
          [
           "Andrew Ferai Rinomhota"
          ],
          [
           "Kofi Jeremy Amoako"
          ],
          [
           "Malick Mbaye"
          ],
          [
           "Nelson Amadin"
          ],
          [
           "Daniel Bentley"
          ],
          [
           "Jon Pacheco Dozagarat"
          ],
          [
           "Robert Dickie"
          ],
          [
           "Nassim Chadli"
          ],
          [
           "Quentin Merlin"
          ],
          [
           "Youssef Amyn"
          ],
          [
           "Lucas Höler"
          ],
          [
           "Kyle Bartley"
          ],
          [
           "Madi Monamay Nsosemo"
          ],
          [
           "Ayman Benarous"
          ],
          [
           "Moritz Römling"
          ],
          [
           "Iñigo Córdoba Querejeta"
          ],
          [
           "Miguel Gutiérrez Ortega"
          ],
          [
           "Dimitris Giannoulis"
          ],
          [
           "James Shea"
          ],
          [
           "Hugo Novoa Ramos"
          ],
          [
           "Jamal Musiala"
          ],
          [
           "Mahlon Beresford Baker Romeo"
          ],
          [
           "Sergi Cardona Bermúdez"
          ],
          [
           "Nick Fichtinger"
          ],
          [
           "Marc Cucurella Saseta"
          ],
          [
           "Branco van den Boomen"
          ],
          [
           "Matthieu Udol"
          ],
          [
           "Divin Mubama"
          ],
          [
           "Nathangelo Alexandro Markelo"
          ],
          [
           "Arthur Vermeeren"
          ],
          [
           "Joaquín Fernández Moreno"
          ],
          [
           "Rafik Belghali"
          ],
          [
           "Federico Gatti"
          ],
          [
           "Mitchell Dijks"
          ],
          [
           "Hugo Magnetti"
          ],
          [
           "Mamadou Diop"
          ],
          [
           "Muammer Sarıkaya"
          ],
          [
           "Nouha Dicko"
          ],
          [
           "Garland Gbellé"
          ],
          [
           "Maxime Jean Roberto Leverbe"
          ],
          [
           "Edin Višća"
          ],
          [
           "Bradley Barcola"
          ],
          [
           "Imanol García de Albéniz Crecente"
          ],
          [
           "Gregor Kobel"
          ],
          [
           "Avdo Spahić"
          ],
          [
           "Connal Trueman"
          ],
          [
           "Kenan Yıldız"
          ],
          [
           "Ryan Allsop"
          ],
          [
           "Aurélio Gabriel Ulineia Buta"
          ],
          [
           "Leonardo Pavoletti"
          ],
          [
           "Regan Slater"
          ],
          [
           "Trazié Thomas Zai"
          ],
          [
           "Rachid Ghezzal"
          ],
          [
           "Modibo Sagnan"
          ],
          [
           "Maxime Dominguez"
          ],
          [
           "Juan Carlos Martín Corral"
          ],
          [
           "Marvin Olawale Akinlabi Park"
          ],
          [
           "Milan Corryn"
          ],
          [
           "Frank Feller"
          ],
          [
           "Hákon Arnar Haraldsson"
          ],
          [
           "Nicolás Federico Castro"
          ],
          [
           "Nilson David Angulo Ramírez"
          ],
          [
           "Danilo D'Ambrosio"
          ],
          [
           "Israel Salazar Piriz"
          ],
          [
           "Mathías Olivera Miramontes"
          ],
          [
           "Alireza Jahanbakhsh"
          ],
          [
           "Tiago Fontoura Fonseca Morais"
          ],
          [
           "Spyros Angelidis"
          ],
          [
           "Madson de Souza Silva"
          ],
          [
           "John Stones"
          ],
          [
           "Maxime Busi"
          ],
          [
           "Khalil Fayad"
          ],
          [
           "Felipe Augusto da Silva"
          ],
          [
           "Harry Winks"
          ],
          [
           "Konrad de la Fuente"
          ],
          [
           "Daan Rots"
          ],
          [
           "Patrick Cutrone"
          ],
          [
           "Matteo Cotali"
          ],
          [
           "Tomáš Čvančara"
          ],
          [
           "Alioune Ba"
          ],
          [
           "Miguel Ángel Almirón Rejala"
          ],
          [
           "Guglielmo Vicario"
          ],
          [
           "Tjark Scheller"
          ],
          [
           "Tom Bischof"
          ],
          [
           "Jason Davidson"
          ],
          [
           "Junior Marsoni Sambu Mansoni"
          ],
          [
           "Sem Westerveld"
          ],
          [
           "Guéla Doué"
          ],
          [
           "Adrian Blake"
          ],
          [
           "Jeanuël Belocian"
          ],
          [
           "Adama Boiro"
          ],
          [
           "Bart Verbruggen"
          ],
          [
           "Boris Popovic"
          ],
          [
           "Mario Sesé Vera"
          ],
          [
           "Clément Jerome Michelin"
          ],
          [
           "Milan Smits"
          ],
          [
           "Bouna Sarr"
          ],
          [
           "Edgar Alcañiz Baldovi"
          ],
          [
           "Rigoberto Manuel Rivas Vindel"
          ],
          [
           "Lamine Fomba"
          ],
          [
           "Christopher Schindler"
          ],
          [
           "Triantafyllos Pasalidis"
          ],
          [
           "Justin-Noël Kalumba"
          ],
          [
           "Jordan Henderson"
          ],
          [
           "Gabriel Fernando de Jesus"
          ],
          [
           "Lorenzo De Silvestri"
          ],
          [
           "Edgar González Estrada"
          ],
          [
           "Marlos Moreno Durán"
          ],
          [
           "Jack Bonham"
          ],
          [
           "Cheick Oumar Konaté"
          ],
          [
           "Kenneth Aboh"
          ],
          [
           "Yohan Demoncy"
          ],
          [
           "Gerrard Buabo"
          ],
          [
           "Baye Ablaye Mbaye"
          ],
          [
           "Idrissa Gana Gueye"
          ],
          [
           "Rayan Ghrieb"
          ],
          [
           "Michael Obafemi"
          ],
          [
           "Arouna Sangante"
          ],
          [
           "Florian Bohnert"
          ],
          [
           "Luan Silva"
          ],
          [
           "Przemysław Płacheta"
          ],
          [
           "Odysseus Velanas"
          ],
          [
           "Luis Alberto Romero Alconchel"
          ],
          [
           "Peter Pekarík"
          ],
          [
           "Toni Domgjoni"
          ],
          [
           "Christian Rivera Hernández"
          ],
          [
           "Wahidullah Faghir"
          ],
          [
           "Bernardo Martins Sousa"
          ],
          [
           "Seydouba Cisse"
          ],
          [
           "Vakoun Issouf Bayo"
          ],
          [
           "Isac Alexi Sivert Lidberg"
          ],
          [
           "Stipe Perica"
          ],
          [
           "Eric Junior Bocat"
          ],
          [
           "Mario Ierardi"
          ],
          [
           "Luca Ravanelli"
          ],
          [
           "Óscar Guido Trejo"
          ],
          [
           "Alexandre Mendy"
          ],
          [
           "Kristian Pedersen"
          ],
          [
           "Jeroen Zoet"
          ],
          [
           "Johan Gastien"
          ],
          [
           "Claud Adjapong"
          ],
          [
           "Gustavo Enrique Giordano Amaro Assunção da Silva"
          ],
          [
           "Noah Mawene"
          ],
          [
           "Thijs Dallinga"
          ],
          [
           "Zakaria El Ouahdi"
          ],
          [
           "Alessio Zerbin"
          ],
          [
           "Alexandre Corredera Alardi"
          ],
          [
           "Dante Bonfim da Costa Santos"
          ],
          [
           "Shane Patrick Michael Duffy"
          ],
          [
           "Adrián Liso Liso Lahoz"
          ],
          [
           "Richie Omorowa"
          ],
          [
           "Divock Okoth Origi"
          ],
          [
           "Jarne Steuckers"
          ],
          [
           "Florian Miguel"
          ],
          [
           "Anis Mehmeti"
          ],
          [
           "Thomas Lemar"
          ],
          [
           "Brooke Norton-Cuffy"
          ],
          [
           "Miguel Rodríguez Vidal"
          ],
          [
           "Bruno Oliveira Bertinato"
          ],
          [
           "Mehdi Chahiri"
          ],
          [
           "Yaw Moses"
          ],
          [
           "Carl Rushworth"
          ],
          [
           "Taylor Moore"
          ],
          [
           "Manuel Obafemi Akanji"
          ],
          [
           "Kangni Frederic Ananou"
          ],
          [
           "Francesco Di Tacchio"
          ],
          [
           "Ali Fadal"
          ],
          [
           "Robert Leipertz"
          ],
          [
           "Jeffrey Gouweleeuw"
          ],
          [
           "Francisco Barbosa Vieites"
          ],
          [
           "Maxence Lacroix"
          ],
          [
           "Marcel Łubik"
          ],
          [
           "황의조 Ui Jo Hwang"
          ],
          [
           "David Torres Ortiz"
          ],
          [
           "Pedro Ortiz Bernat"
          ],
          [
           "シュミット・ダニエル"
          ],
          [
           "Joe Bryan"
          ],
          [
           "Arsène Courel"
          ],
          [
           "Noussair Mazraoui"
          ],
          [
           "Florent Muslija"
          ],
          [
           "Jhafets Christ Dick Reyes"
          ],
          [
           "Vincent Gembalies"
          ],
          [
           "Ricardo Daniel Pepi"
          ],
          [
           "Berkay Aydoğmuş"
          ],
          [
           "Jay den Haan"
          ],
          [
           "Francisco Javier Montero Rubio"
          ],
          [
           "Samuele Birindelli"
          ],
          [
           "Stefano Turati"
          ],
          [
           "Lucas Pires Silva"
          ],
          [
           "Mario Pašalić"
          ],
          [
           "Benedikt Gimber"
          ],
          [
           "Ogün Özçiçek"
          ],
          [
           "Thomas Glyn Doyle"
          ],
          [
           "Lucas François Bernard Hernández Pi"
          ],
          [
           "Marcel Beifus"
          ],
          [
           "Johann Serge Obiang"
          ],
          [
           "Hugo Sotelo Gómez"
          ],
          [
           "Mouhamadou Diarra"
          ],
          [
           "Aurélien Scheidler"
          ],
          [
           "Evan Ferguson"
          ],
          [
           "D'Leanu Arts"
          ],
          [
           "Luca Jannis Kilian"
          ],
          [
           "Bas Edo Kuipers"
          ],
          [
           "Marcos Sánchez Arriero"
          ],
          [
           "Massimo Coda"
          ],
          [
           "David Morillas Jiménez"
          ],
          [
           "Ibrahim Maza"
          ],
          [
           "Andrea Bertolacci"
          ],
          [
           "José Ignacio Fernández Iglesias"
          ],
          [
           "Bradley Stretton"
          ],
          [
           "Thomas Foket"
          ],
          [
           "Bachirou Yameogo"
          ],
          [
           "Jesse Bal"
          ],
          [
           "Luis Ezequiel Ávila"
          ],
          [
           "Illan Meslier"
          ],
          [
           "Kevin Miranda"
          ],
          [
           "Allan Linguet"
          ],
          [
           "Kevin Kraus"
          ],
          [
           "Elvis Rexhbeçaj"
          ],
          [
           "Cam Bragg"
          ],
          [
           "Jason Eyenga-Lokilo"
          ],
          [
           "Kenny Lala"
          ],
          [
           "Antonio Rüdiger"
          ],
          [
           "Iwo Kaczmarski"
          ],
          [
           "Francesco Caputo"
          ],
          [
           "Iván Chapela López"
          ],
          [
           "Stefan Leković"
          ],
          [
           "Godfried Roemeratoe"
          ],
          [
           "Jérémie Boga"
          ],
          [
           "Julian Jeanvier"
          ],
          [
           "Dominic Solanke"
          ],
          [
           "Quentin Braat"
          ],
          [
           "Bilal Brahimi"
          ],
          [
           "Jean-Luc Mamadou Diarra Dompé"
          ],
          [
           "Pedro Gastón Álvarez Sosa"
          ],
          [
           "Phillip Tietz"
          ],
          [
           "José Andrés Rodriguez Gaitán"
          ],
          [
           "Germán Sánchez Barahona"
          ],
          [
           "Yáser Asprilla Martínez"
          ],
          [
           "Brandon Soppy"
          ],
          [
           "Timo Baumgartl"
          ],
          [
           "Vedat Karakuş"
          ],
          [
           "Warren Tchimbembé"
          ],
          [
           "Asmir Begović"
          ],
          [
           "Michele Collocolo"
          ],
          [
           "Onur Bulut"
          ],
          [
           "Jubal Rocha Mendes Júnior"
          ],
          [
           "Mamadou Camara"
          ],
          [
           "Miguel Muñoz Mora"
          ],
          [
           "Nikola Vlašić"
          ],
          [
           "Reece Burke"
          ],
          [
           "Tomás Mejías Osorio"
          ],
          [
           "Ayotomiwa Dele-Bashiru"
          ],
          [
           "Jean Romaric Kevin Koffi"
          ],
          [
           "Ahmet Ege Gürleyen"
          ],
          [
           "Giacomo Raspadori"
          ],
          [
           "José León Bernal"
          ],
          [
           "Rolando Mandragora"
          ],
          [
           "Dirk Asare"
          ],
          [
           "Marc Jurado Gómez"
          ],
          [
           "Saba Sazonov"
          ],
          [
           "Famara Diédhiou"
          ],
          [
           "Bruno Lourenço Pinto de Almeida Paz"
          ],
          [
           "Nikola Krstović"
          ],
          [
           "Jesurun Rak-Sakyi"
          ],
          [
           "Andrea Cagnano"
          ],
          [
           "Lucas Vennegoor of Hess."
          ],
          [
           "David López Silva"
          ],
          [
           "Antoni-Djibu Milambo"
          ],
          [
           "Iker Undabarrena Martínez"
          ],
          [
           "Antoine Semenyo"
          ],
          [
           "Armando Broja"
          ],
          [
           "Tobias Kempe"
          ],
          [
           "Valerio Mantovani"
          ],
          [
           "Danel Sinani"
          ],
          [
           "Mexx Meerdink"
          ],
          [
           "Miquel Parera Pizá"
          ],
          [
           "Manuel Marras"
          ],
          [
           "Filip Wojciech Jagiełło"
          ],
          [
           "Alejandro Iturbe Encabo"
          ],
          [
           "Mateo Kovačić"
          ],
          [
           "Sergio Lozano Lluch"
          ],
          [
           "Sergio Camello Pérez"
          ],
          [
           "Silvio Merkaj"
          ],
          [
           "Dilan Kumar Markanday"
          ],
          [
           "Yasser Baldé"
          ],
          [
           "Moussa Sissoko"
          ],
          [
           "Zak Vyner"
          ],
          [
           "Yann Sommer"
          ],
          [
           "Hervé Kouakou Koffi"
          ],
          [
           "Alin Vasilică Șerban"
          ],
          [
           "Darlin Zidane Yongwa Ngameni"
          ],
          [
           "Jimmy Dunne"
          ],
          [
           "Vic Chambaere"
          ],
          [
           "Xavier Laglais Kouassi"
          ],
          [
           "Yassine Haouari"
          ],
          [
           "Noah Engelbreth"
          ],
          [
           "Nicolas Oliveira Kisilowski"
          ],
          [
           "Henri Salomaa"
          ],
          [
           "Jay Idzes"
          ],
          [
           "Simone Pozzato"
          ],
          [
           "Raúl Fernández-Cavada Mateos"
          ],
          [
           "Thomas Buitink"
          ],
          [
           "Valentino Livramento"
          ],
          [
           "守田 英正"
          ],
          [
           "Harouna Sy"
          ],
          [
           "Yann Yves Laurent Bodiger"
          ],
          [
           "Yunus Mallı"
          ],
          [
           "Joël Schingtienne"
          ],
          [
           "Vital Manuel N"
          ],
          [
           "Lorenzo Lucchesi"
          ],
          [
           "Bruno Xavier Almeida Costa"
          ],
          [
           "Nicola Rauti"
          ],
          [
           "Nicolas De Préville"
          ],
          [
           "Gabriele Piccinini"
          ],
          [
           "Adil Aouchiche"
          ],
          [
           "Martin Erlić"
          ],
          [
           "Ferran Jutglà Blanch"
          ],
          [
           "Christian Fassnacht"
          ],
          [
           "Niklas Niehoff"
          ],
          [
           "Simon Walde"
          ],
          [
           "Papiss Mison Djilobodji"
          ],
          [
           "Vito Mannone"
          ],
          [
           "Mustafa Kapı"
          ],
          [
           "Falaye Sacko"
          ],
          [
           "Piero Martín Hincapié Reyna"
          ],
          [
           "Gédéon Kalulu Kyatengwa"
          ],
          [
           "Felix Passlack"
          ],
          [
           "Garang Kuol"
          ],
          [
           "Rafael Sousa Gancho Brito"
          ],
          [
           "Antonio Mirante"
          ],
          [
           "Ricardo Domingos Barbosa Pereira"
          ],
          [
           "Amadou Keita"
          ],
          [
           "Alessandro Micai"
          ],
          [
           "Ömer Toprak"
          ],
          [
           "Samuel Loureiro Carvalho Justo"
          ],
          [
           "Damian van der Haar"
          ],
          [
           "Agustín Martegani"
          ],
          [
           "Felix Platte"
          ],
          [
           "Joseph Boyamba"
          ],
          [
           "Iké Dominique Ugbo"
          ],
          [
           "Maxime Kali Wenssens"
          ],
          [
           "Christian Borrego Isabel"
          ],
          [
           "Unai Marino Alkorta"
          ],
          [
           "Gustavo H. Alves Rodrigues"
          ],
          [
           "Nader El-Jindaoui"
          ],
          [
           "Gavin Okeroghene Bazunu"
          ],
          [
           "Oriol Romeu Vidal"
          ],
          [
           "Ibrahim Sissoko"
          ],
          [
           "Ørjan Håskjold Nyland"
          ],
          [
           "Tayo Adaramola"
          ],
          [
           "José Luis Muñoz León"
          ],
          [
           "Mathias Oyewusi"
          ],
          [
           "Alfons Sampsted"
          ],
          [
           "Abel Ruiz Ortega"
          ],
          [
           "Marcus Lilian Thuram-Ulien"
          ],
          [
           "Antonio Pergreffi"
          ],
          [
           "Sergio Cubero Ezcurra"
          ],
          [
           "Berkay Sülüngöz"
          ],
          [
           "Marcos André de Sousa Mendonça"
          ],
          [
           "Sébastien Bruzzese"
          ],
          [
           "Mohamed El Arouch"
          ],
          [
           "Rúben Ismael Valente Ramos"
          ],
          [
           "Lucas Perrin"
          ],
          [
           "Levi Samuels Colwill"
          ],
          [
           "Iver Tobias Rørvik Fossum"
          ],
          [
           "Cameron Lisceous Humphreys-Grant"
          ],
          [
           "Luis Ismael Vázquez"
          ],
          [
           "João Miguel Vieira Freitas Silva Marques"
          ],
          [
           "Miguel Loureiro Ameijenda"
          ],
          [
           "Logan Costa"
          ],
          [
           "Kyliane Dong"
          ],
          [
           "Joel Julius Ilmari Pohjanpalo"
          ],
          [
           "Luis Dettling"
          ],
          [
           "Julien Le Cardinal"
          ],
          [
           "Mihajlo Ilić"
          ],
          [
           "Kasper Dolberg Rasmussen"
          ],
          [
           "Charles Boli"
          ],
          [
           "Isak Hien"
          ],
          [
           "Estéban Lepaul"
          ],
          [
           "Borja Garcés Moreno"
          ],
          [
           "Nicolas Pépé"
          ],
          [
           "Ryan Andrews"
          ],
          [
           "Ben Knight"
          ],
          [
           "Eddie Anthony Salcedo Mora"
          ],
          [
           "Jaume Albert Cuéllar Mendoza"
          ],
          [
           "Lenny Pirringuel"
          ],
          [
           "Álvaro Killane Giardini"
          ],
          [
           "Ethan Shea Horvath"
          ],
          [
           "Siebe Horemans"
          ],
          [
           "Riad Nouri"
          ],
          [
           "Andy Joseph Pelmard"
          ],
          [
           "Ylies Aradj"
          ],
          [
           "Ángel Fortuño Viñas"
          ],
          [
           "Sam Proctor"
          ],
          [
           "Loris Mouyokolo"
          ],
          [
           "Antonio José Raíllo Arenas"
          ],
          [
           "Mohamed Airam Ramos Wade"
          ],
          [
           "Sergi Darder Moll"
          ],
          [
           "Michael Langer"
          ],
          [
           "Sabin Merino Zuloaga"
          ],
          [
           "Immanuël-Johannes Pherai"
          ],
          [
           "Francesco D'Alessio"
          ],
          [
           "Thomas Lam"
          ],
          [
           "Tyrell Sellars-Fleming"
          ],
          [
           "Furkan Onur Akyüz"
          ],
          [
           "Andries Noppert"
          ],
          [
           "László Bénes"
          ],
          [
           "Mike van Duinen"
          ],
          [
           "Ignacio De Arruabarrena Fernández"
          ],
          [
           "Francisco Andrés Sierralta Carvallo"
          ],
          [
           "Mücahit Serbest"
          ],
          [
           "Florian Tardieu"
          ],
          [
           "Rui Tiago Dantas da Silva"
          ],
          [
           "Álvaro Sanz Catalán"
          ],
          [
           "Didier Lamkel Zé"
          ],
          [
           "Sven Botman"
          ],
          [
           "三笘 薫"
          ],
          [
           "Mousa Mohammad Mousa Sulaiman Al-Tamari"
          ],
          [
           "Alejandro San Cristóbal"
          ],
          [
           "Gerard Deulofeu Lázaro"
          ],
          [
           "Alessandro Salvi"
          ],
          [
           "Wesley Nathan Hylton Harding"
          ],
          [
           "Alexis Laurent Patrice Roge Flips"
          ],
          [
           "Denis Mihai Drăguş"
          ],
          [
           "Samuel Peter Barnes"
          ],
          [
           "Efe Tecimer"
          ],
          [
           "Diego González Cabanes"
          ],
          [
           "Jakub Stolarczyk"
          ],
          [
           "Joseph Nonge"
          ],
          [
           "Nuno Miguel da Costa Jóia"
          ],
          [
           "Andreas Voglsammer"
          ],
          [
           "Roman Květ"
          ],
          [
           "José Alejandro Martín Valerón"
          ],
          [
           "Bünyamin Balcı"
          ],
          [
           "Pedro Miguel Santos Amador"
          ],
          [
           "David Turnbull"
          ],
          [
           "Alper Uludağ"
          ],
          [
           "Jorge Benito de Valle"
          ],
          [
           "Amadou Sagna"
          ],
          [
           "Jules Gaudin"
          ],
          [
           "Alberth Josué Elis Martínez"
          ],
          [
           "Juan Antonio Iglesias Sánchez"
          ],
          [
           "Cristian Darío Álvarez"
          ],
          [
           "Pablo Paulino Rosario"
          ],
          [
           "Afonso Manuel Abreu de Freitas"
          ],
          [
           "Tom van de Looi"
          ],
          [
           "Giorgos Kyriakopoulos"
          ],
          [
           "Paul Nardi"
          ],
          [
           "Róbert Boženík"
          ],
          [
           "Danilo Cataldi"
          ],
          [
           "Mark Gillespie"
          ],
          [
           "Lukas Schleimer"
          ],
          [
           "Audenirton Soares da Silva"
          ],
          [
           "Yohan Roche"
          ],
          [
           "Sadibou Sané"
          ],
          [
           "Pedro Lomba Neto"
          ],
          [
           "Dean Henderson"
          ],
          [
           "Mateus Quaresma Correia"
          ],
          [
           "Philipp Pentke"
          ],
          [
           "Stephen Antunes Eustáquio"
          ],
          [
           "Yanis Rahmani Cordeiro"
          ],
          [
           "Jorge Karseladze"
          ],
          [
           "Jannis Heuer"
          ],
          [
           "Anderson-Lenda Lucoqui"
          ],
          [
           "Alessandro Caporale"
          ],
          [
           "Nordine Kandil"
          ],
          [
           "Cheikh Ahmadou Bamba Mbacke Dieng"
          ],
          [
           "Stéphane Imad Diarra"
          ],
          [
           "Vicente Guaita Panadero"
          ],
          [
           "Kristian Nökkvi Hlynsson"
          ],
          [
           "Luigi Pellegrini"
          ],
          [
           "Muhammet Ali Özbaskıcı"
          ],
          [
           "Romain Del Castillo"
          ],
          [
           "Jean Zimmer"
          ],
          [
           "Florian Thomas Danho"
          ],
          [
           "Isaac Palazón Camacho"
          ],
          [
           "Wladimiro Falcone"
          ],
          [
           "Ricardo Rodríguez Gil Carcedo"
          ],
          [
           "Luca Daniel de la Torre"
          ],
          [
           "Tarık Çetin"
          ],
          [
           "Alan Gonzalo Varela"
          ],
          [
           "Filip Bilbija"
          ],
          [
           "Haris Hajradinović"
          ],
          [
           "Tyler Shaan Adams"
          ],
          [
           "伊藤 涼太郎"
          ],
          [
           "Dean Ruben James"
          ],
          [
           "Diadié Samassékou"
          ],
          [
           "Stije Resink"
          ],
          [
           "Jose María Saldaña Baeza"
          ],
          [
           "Horaţiu Alexandru Moldovan"
          ],
          [
           "Jimmy Cabot"
          ],
          [
           "Luís Miguel Castelo Santos"
          ],
          [
           "Nick Pope"
          ],
          [
           "Dave Kwakman"
          ],
          [
           "Nazariy Rusyn"
          ],
          [
           "Gökhan Gül"
          ],
          [
           "Hugo Bueno López"
          ],
          [
           "Brajan Gruda"
          ],
          [
           "Kağan Moradaoğlu"
          ],
          [
           "Theodor Alexander Corbeanu"
          ],
          [
           "Selvi Clua Oya"
          ],
          [
           "Gustav Christensen"
          ],
          [
           "Kevin Martin Krygård"
          ],
          [
           "Ivan Ilić"
          ],
          [
           "Kamil Piątkowski"
          ],
          [
           "Djordjije Medenica"
          ],
          [
           "Hans Hateboer"
          ],
          [
           "Mattia Tonetto"
          ],
          [
           "Simon Rhein"
          ],
          [
           "Kalidou Sidibé"
          ],
          [
           "Brian Alexis Ocampo Ferreira"
          ],
          [
           "Damián Cáceres Rodríguez"
          ],
          [
           "Patrick Herrmann"
          ],
          [
           "Iván Calero Ruiz"
          ],
          [
           "Mert Kömür"
          ],
          [
           "Lorenzo Di Stefano"
          ],
          [
           "Filippo Romagna"
          ],
          [
           "Manolo Portanova"
          ],
          [
           "Tyler Roberts"
          ],
          [
           "Joe Rothwell"
          ],
          [
           "Mark Travers"
          ],
          [
           "Flávio Basilua Jacinto Nazinho"
          ],
          [
           "Benji Michel"
          ],
          [
           "Théo Barbet"
          ],
          [
           "Luca Maniero"
          ],
          [
           "Julien Fontaine Ngoy Bin Cibambi"
          ],
          [
           "Kalifa Coulibaly"
          ],
          [
           "Cláudio Winck Neto"
          ],
          [
           "Lucas Ariel Ocampos"
          ],
          [
           "Patrick Vroegh"
          ],
          [
           "Borja Mayoral Moya"
          ],
          [
           "Tan Kenneth Jerico Schmidt"
          ],
          [
           "Alessandro Sorrentino"
          ],
          [
           "Reno Münz"
          ],
          [
           "Thomas Dickson-Peters"
          ],
          [
           "Sergio Postigo Redondo"
          ],
          [
           "Pietro Pellegri"
          ],
          [
           "Oliver Hüsing"
          ],
          [
           "Neal Maupay"
          ],
          [
           "Joseph Oluwaseyi Temitope Ayodele-Aribo"
          ],
          [
           "Lenny Vallier"
          ],
          [
           "Matteo Grandi"
          ],
          [
           "Cristian Daniel Ansaldi"
          ],
          [
           "Calvin Marc Brackelmann"
          ],
          [
           "Tom Lees"
          ],
          [
           "Alexandre Lacazette"
          ],
          [
           "Anastasios Chatzigiovanis"
          ],
          [
           "Youssef Aït Bennasser"
          ],
          [
           "Franck Surdez"
          ],
          [
           "Ali Ibrahim Karim Ali Al-Hamadi"
          ],
          [
           "Max Herrmann"
          ],
          [
           "Andrea Sala"
          ],
          [
           "Fabian de Keijzer"
          ],
          [
           "Mattias Olof Svanberg"
          ],
          [
           "Vinicius Silvestre da Costa"
          ],
          [
           "Isaak Davies"
          ],
          [
           "Kamarai Simon-Swyer"
          ],
          [
           "Stanislav Kritsyuk"
          ],
          [
           "José Luís Mendes Andrade"
          ],
          [
           "Papa Amadou Diallo"
          ],
          [
           "Bahadır Han Güngördü"
          ],
          [
           "Shea Charles"
          ],
          [
           "Hugo Duro Perales"
          ],
          [
           "Yerson Mosquera Valdelamar"
          ],
          [
           "Javier Castro Urdín"
          ],
          [
           "Rafael Tolói"
          ],
          [
           "Nicolas N'Koulou"
          ],
          [
           "Domingos André Ribeiro Almeida"
          ],
          [
           "Marcelino Ignacio Nuñez Espinoza"
          ],
          [
           "Billy Gilmour"
          ],
          [
           "Rafael Obrador Burguera"
          ],
          [
           "Mads Frøkjær-Jensen"
          ],
          [
           "Karlo Lulić"
          ],
          [
           "Lucas Tolentino Coelho de Lima"
          ],
          [
           "Nicolás González Iglesias"
          ],
          [
           "Roberto Insigne"
          ],
          [
           "Andreas Müller"
          ],
          [
           "Júlio Augusto Dabó"
          ],
          [
           "Ahmed Musa"
          ],
          [
           "Quinten Ryan Crispito Timber"
          ],
          [
           "Micah Hamilton"
          ],
          [
           "Mike Hauptmeijer"
          ],
          [
           "Bram van Polen"
          ],
          [
           "Valentin André Henri Rosier"
          ],
          [
           "Paweł Marek Dawidowicz"
          ],
          [
           "Manfredi Nespola"
          ],
          [
           "本間 至恩"
          ],
          [
           "Jorge Pascual Medina"
          ],
          [
           "Jens Dalsgaard Stage"
          ],
          [
           "Myles Lewis-Skelly"
          ],
          [
           "Ismail Achik"
          ],
          [
           "Abat Aymbetov"
          ],
          [
           "Yannik Bangsow"
          ],
          [
           "Hubert Dawid Idasiak"
          ],
          [
           "Luke McNally"
          ],
          [
           "Timothy Chandler"
          ],
          [
           "Carlo Johan Holse Justesen"
          ],
          [
           "Roberto Maximiliano Pereyra"
          ],
          [
           "Pablo Íñiguez de Heredia Larraz"
          ],
          [
           "Mateusz Łęgowski"
          ],
          [
           "Benson Manuel Hedilazio"
          ],
          [
           "Maximilian Beier"
          ],
          [
           "Morgan Guilavogui"
          ],
          [
           "Jovan Manev"
          ],
          [
           "Arnaud Lusamba"
          ],
          [
           "Logan Delaurier-Chaubet"
          ],
          [
           "Filippo Veneran"
          ],
          [
           "Givairo Read"
          ],
          [
           "Kazımcan Karataş"
          ],
          [
           "Nachon Nsingi"
          ],
          [
           "Leo Greiml"
          ],
          [
           "Evan Eghosa"
          ],
          [
           "Yannik Keitel"
          ],
          [
           "Yassine Kechta"
          ],
          [
           "Jamiro Gregory Monteiro Alvarenga"
          ],
          [
           "Samuel Bamba"
          ],
          [
           "Kouassi Ryan Sessegnon"
          ],
          [
           "Elias Cobbaut"
          ],
          [
           "Domilson Cordeiro dos Santos"
          ],
          [
           "Nathan Wood-Gordon"
          ],
          [
           "Gabriel Slonina"
          ],
          [
           "Fernando Pérez Morillo"
          ],
          [
           "Aitor Ruibal García"
          ],
          [
           "Halid Šabanović"
          ],
          [
           "Can Keleş"
          ],
          [
           "Emir Karic"
          ],
          [
           "Hamjatou Soukouna"
          ],
          [
           "Vivaldo Leandro Semedo Moura Sousa"
          ],
          [
           "Jules Olivier Ntcham"
          ],
          [
           "Cristiano Biraghi"
          ],
          [
           "Andrew Robertson"
          ],
          [
           "Serif Nhaga"
          ],
          [
           "Dean Huijsen"
          ],
          [
           "Carlos Dominguez Cáceres"
          ],
          [
           "Gianfranco Gazzaniga Farías"
          ],
          [
           "Benjamin Chrisene"
          ],
          [
           "Mark Flekken"
          ],
          [
           "Víctor Wehbi Aznar Ussen"
          ],
          [
           "Rodrygo Silva de Goes"
          ],
          [
           "Riccardo Calafiori"
          ],
          [
           "Alaaddin Okumuş"
          ],
          [
           "Maximilian Wöber"
          ],
          [
           "Thomas Goiginger"
          ],
          [
           "Francisco Femenía Far"
          ],
          [
           "Milan Đurić"
          ],
          [
           "Liam Kelly"
          ],
          [
           "Mustafa Tan"
          ],
          [
           "Ismaïla Sarr"
          ],
          [
           "David Datro Fofana"
          ],
          [
           "Daniel Olmo Carvajal"
          ],
          [
           "Jean Felipe Nogueira da Silva"
          ],
          [
           "Nikola Šipčić"
          ],
          [
           "Daniël Virginio Deen"
          ],
          [
           "Simon Graves Jensen"
          ],
          [
           "Kenny Joelle Tete"
          ],
          [
           "Ben Doak"
          ],
          [
           "Jordi Masip López"
          ],
          [
           "Karol Borys"
          ],
          [
           "Joe Johnson"
          ],
          [
           "Miguel Filipe Nunes Cardoso"
          ],
          [
           "Valentin Henry"
          ],
          [
           "Noel Futkeu"
          ],
          [
           "Francisco Jesús Crespo García"
          ],
          [
           "Alberto Hórreo Taveras"
          ],
          [
           "Sergi Gómez Solà"
          ],
          [
           "Jean-Ricner Bellegarde"
          ],
          [
           "Côme Bianay Balcot"
          ],
          [
           "Johannes Dörfler"
          ],
          [
           "Gonzalo Aguilar López"
          ],
          [
           "Kianz González-Froese"
          ],
          [
           "Ivan Prtajin"
          ],
          [
           "Salis Abdul Samed"
          ],
          [
           "Abdul Fatawu Issahaku"
          ],
          [
           "Paulo Dino Gazzaniga"
          ],
          [
           "Laureano Antonio Villa Suárez"
          ],
          [
           "アペルカンプ 真大 カール"
          ],
          [
           "Andrea Danzi"
          ],
          [
           "Mark Alexander McKenzie"
          ],
          [
           "Craig Dawson"
          ],
          [
           "Moussa Cissé"
          ],
          [
           "Robin Fellhauer"
          ],
          [
           "Marco van Ginkel"
          ],
          [
           "Finn Jeltsch"
          ],
          [
           "Ridgeciano Delano Haps"
          ],
          [
           "Gilberto Dambi Batista"
          ],
          [
           "Benjamin Bouchouari"
          ],
          [
           "Lionel Mpasi-Nzau"
          ],
          [
           "Kieffer Roberto Francisco Moore"
          ],
          [
           "Leonardo Bonucci"
          ],
          [
           "Antoine Joujou"
          ],
          [
           "William Anthony Patrick Smallbone"
          ],
          [
           "Salomon Abergel"
          ],
          [
           "Soufiane Bidaoui"
          ],
          [
           "Fabian Tait"
          ],
          [
           "Fabio Cristian Chiarodia"
          ],
          [
           "Nathan Michael Collins"
          ],
          [
           "Shane Kevin Ferguson"
          ],
          [
           "Antonio-Mirko Čolak"
          ],
          [
           "Daniel Esmorís Tasende"
          ],
          [
           "Garissone Innocent"
          ],
          [
           "Lucas Cañizares Conchello"
          ],
          [
           "Soner Gönül"
          ],
          [
           "Jacques Ekomié"
          ],
          [
           "Rayyan Baniya"
          ],
          [
           "Andreas Schjølberg Hanche-Olsen"
          ],
          [
           "Romelu Lukaku Menama"
          ],
          [
           "Víctor Andrés Meseguer Cavas"
          ],
          [
           "David Olatukunbo Alaba"
          ],
          [
           "Dimitrios Kourmpelis"
          ],
          [
           "Reinildo Isnard Mandava"
          ],
          [
           "Saad Agouzoul"
          ],
          [
           "Gleison Bremer Silva Nascimento"
          ],
          [
           "Yira Collins Sor"
          ],
          [
           "Hernâni Infande Tchuda da Silva"
          ],
          [
           "Victor Christoffer Jensen"
          ],
          [
           "Ezechiel Fiemawhle"
          ],
          [
           "Iker Muñoz Cameros"
          ],
          [
           "Mory Gbane"
          ],
          [
           "Fidel Chaves de la Torre"
          ],
          [
           "Bryan Lasme"
          ],
          [
           "Tiemoué Bakayoko"
          ],
          [
           "Hamari Traoré"
          ],
          [
           "Žan Rogelj"
          ],
          [
           "Daniel Heuer Fernandes"
          ],
          [
           "Karim-David Adeyemi"
          ],
          [
           "Niccolò Pisilli"
          ],
          [
           "室屋 成"
          ],
          [
           "Raphaël Eyongo"
          ],
          [
           "Fermín López Marín"
          ],
          [
           "Gerónimo Rulli"
          ],
          [
           "Pierre Patron"
          ],
          [
           "Nathaniel Brown"
          ],
          [
           "Andrea Cecchetto"
          ],
          [
           "Hamdi Akujobi"
          ],
          [
           "Kaide Gordon"
          ],
          [
           "Raúl Parra Artal"
          ],
          [
           "Charilaos Charisis"
          ],
          [
           "Joel Leandro Ordóñez Guerrero"
          ],
          [
           "Jorge Mier Martínez"
          ],
          [
           "Kevin Vogt"
          ],
          [
           "Christopher Antwi-Adjei"
          ],
          [
           "Ludovic Blas"
          ],
          [
           "Daniel Parejo Muñoz"
          ],
          [
           "Chiedozie Ogbene"
          ],
          [
           "Juan Gutiérrez Martínez"
          ],
          [
           "Gonzalo Villar del Fraile"
          ],
          [
           "Håvard Kallevik Nielsen"
          ],
          [
           "Vasilis Cornelius Barkas"
          ],
          [
           "Tomáš Kalas"
          ],
          [
           "Fredrik Oppegård"
          ],
          [
           "Grejohn Kyei"
          ],
          [
           "Ahmed Kashi"
          ],
          [
           "Achraf Laâziri"
          ],
          [
           "Riccardo Orsolini"
          ],
          [
           "Leopold Wahlstedt"
          ],
          [
           "Juan Antonio Delgado Baeza"
          ],
          [
           "Yunus Emre Konak"
          ],
          [
           "Alexander Hartmann Bah"
          ],
          [
           "Nahuel Noll"
          ],
          [
           "Samuel John Bell"
          ],
          [
           "Memphis Depay"
          ],
          [
           "Johny Placide"
          ],
          [
           "Deivid W. de Souza Eugênio"
          ],
          [
           "Paul Seguin"
          ],
          [
           "Harry Leonard"
          ],
          [
           "Cauley Woodrow"
          ],
          [
           "André de Castro Pereira"
          ],
          [
           "Mattia Caldara"
          ],
          [
           "Robson Alves de Barros"
          ],
          [
           "Sergio Arribas Prieto"
          ],
          [
           "Nicolò Casale"
          ],
          [
           "Dominic Calvert-Lewin"
          ],
          [
           "Mamadou Diakhon"
          ],
          [
           "Lukas Kunze"
          ],
          [
           "Bart Vriends"
          ],
          [
           "Emmanuel Kouadio Koné"
          ],
          [
           "Lucas Buades"
          ],
          [
           "Ousmane Diomande"
          ],
          [
           "Alessandro Pilati"
          ],
          [
           "Davide Balestrero"
          ],
          [
           "Lorenzo Venuti"
          ],
          [
           "Vetle Winger Dragsnes"
          ],
          [
           "Mohamed Naser Elsayed Elneny"
          ],
          [
           "Alexander Isak"
          ],
          [
           "Rikelmi Valentim dos Santos"
          ],
          [
           "Christiaan Ravych"
          ],
          [
           "Faïz Mattoir"
          ],
          [
           "Ragnar Oratmangoen"
          ],
          [
           "Petko Hristov"
          ],
          [
           "Bryan Blanco"
          ],
          [
           "Héctor Junior Firpo Adamés"
          ],
          [
           "Stefan de Vrij"
          ],
          [
           "Tymoteusz Puchacz"
          ],
          [
           "Rune Paeshuyse"
          ],
          [
           "Filippo Lorenzo Sgarbi"
          ],
          [
           "Stanislav Lobotka"
          ],
          [
           "Alejandro Baena Rodríguez"
          ],
          [
           "Joe White"
          ],
          [
           "Benjamin Lhassine Kone"
          ],
          [
           "Filippo Distefano"
          ],
          [
           "Bingourou Kamara"
          ],
          [
           "Gnantin Yann Gboho"
          ],
          [
           "Milos Kerkez"
          ],
          [
           "Nuno Miguel Gomes dos Santos"
          ],
          [
           "Jan Hendrik Marx"
          ],
          [
           "Alen Halilović"
          ],
          [
           "Cristian Ioan Ponde"
          ],
          [
           "Philippe Paulin Keny"
          ],
          [
           "Jannik Huth"
          ],
          [
           "Nuno Miguel Reis Lima"
          ],
          [
           "Omar Haktab Traoré"
          ],
          [
           "Iván Azón Monzón"
          ],
          [
           "Wilfried Stephane Singo"
          ],
          [
           "Luca Everink"
          ],
          [
           "Martín Zubimendi Ibáñez"
          ],
          [
           "Aleksandar Radovanović"
          ],
          [
           "Wesley Theodorus Hoedt"
          ],
          [
           "Jérémy Sebas"
          ],
          [
           "Cristian Esteban Gamboa Luna"
          ],
          [
           "Harvey Wiles-Richards"
          ],
          [
           "Airam Guzmán Castillo"
          ],
          [
           "Felipe Nicolás Avenatti Dovillabichus"
          ],
          [
           "Javier Sola Gascón"
          ],
          [
           "Kaan Ayhan"
          ],
          [
           "Tijjani Reijnders"
          ],
          [
           "Jayson Patrick Molumby"
          ],
          [
           "George Earthy"
          ],
          [
           "Antonio Zarzana Pérez"
          ],
          [
           "Okan Kocuk"
          ],
          [
           "Raúl De Tomás Gómez"
          ],
          [
           "Alessandro Vogliacco"
          ],
          [
           "Serkan Asan"
          ],
          [
           "Valentin Jacob"
          ],
          [
           "Francesco Ruberto"
          ],
          [
           "Elio Capradossi"
          ],
          [
           "Timo Becker"
          ],
          [
           "Doğukan Sinik"
          ],
          [
           "Delano Burgzorg"
          ],
          [
           "Niels Patrick Nkounkou"
          ],
          [
           "Tjaš Begić"
          ],
          [
           "Jasper Samooja"
          ],
          [
           "Brian Jepthe Bayeye"
          ],
          [
           "Xavier Quintillà Guasch"
          ],
          [
           "Harvey Lewis Barnes"
          ],
          [
           "Tristan Degreef"
          ],
          [
           "ルシアン リトバルスキー"
          ],
          [
           "Gernot Trauner"
          ],
          [
           "Abdul Manaf Nurudeen"
          ],
          [
           "Borja Iglesias Quintás"
          ],
          [
           "Samuel Obeng Gyabaa"
          ],
          [
           "Erdal Rakip"
          ],
          [
           "Jake Clarke-Salter"
          ],
          [
           "Benjamin Luke Woodburn"
          ],
          [
           "Omari Kellyman"
          ],
          [
           "Jonathan Howson"
          ],
          [
           "Pieter Gerkens"
          ],
          [
           "Alistair Edward McCann"
          ],
          [
           "Pablo Pérez Rico"
          ],
          [
           "Kaj de Rooij"
          ],
          [
           "İlkay Gündoğan"
          ],
          [
           "Wissam Ben Yedder"
          ],
          [
           "Ihlas Bebou"
          ],
          [
           "Can Bozdoğan"
          ],
          [
           "Syam Habib Ben Youssef"
          ],
          [
           "Michaël Bruno Dominique Cuisance"
          ],
          [
           "Onel Lázaro Hernández Mayea"
          ],
          [
           "Jorge Cuenca Barreno"
          ],
          [
           "Zach Muscat"
          ],
          [
           "Viktor Tobias Johansson"
          ],
          [
           "Paulo Bruno Exequiel Dybala"
          ],
          [
           "Gustavo Marques A. Santos"
          ],
          [
           "Adam Mayor"
          ],
          [
           "Ross Barkley"
          ],
          [
           "Rodrigo Mendoza Martinez"
          ],
          [
           "相馬 勇紀"
          ],
          [
           "Daniel Maldini"
          ],
          [
           "Laurent Abergel"
          ],
          [
           "Oscar Uddenäs"
          ],
          [
           "Alassane Alexandre Pléa"
          ],
          [
           "Junior Castello Lukeba"
          ],
          [
           "Kevin Volland"
          ],
          [
           "Marco Friedl"
          ],
          [
           "Rubén García Santos"
          ],
          [
           "Patrik Hrošovský"
          ],
          [
           "David Herold"
          ],
          [
           "Oihan Sancet Tirapu"
          ],
          [
           "Sergio Fernández Escobar"
          ],
          [
           "Gabriele Moncini"
          ],
          [
           "Dimitrios Sounas"
          ],
          [
           "Hirving Rodrigo Lozano Bahena"
          ],
          [
           "Seedy Jarju"
          ],
          [
           "Bradley Danger"
          ],
          [
           "Marcus Edwards"
          ],
          [
           "Jorge Giovani Zarfino Calandria"
          ],
          [
           "Kyle John McFadzean"
          ],
          [
           "Jayden Jezairo Braaf"
          ],
          [
           "Rafael Tavares Gomes Fernandes"
          ],
          [
           "Mile Svilar"
          ],
          [
           "Jacob Brown"
          ],
          [
           "Pol Lozano Vizuete"
          ],
          [
           "Régis Gurtner"
          ],
          [
           "Aaron Seydel"
          ],
          [
           "Joshua Wilson-Esbrand"
          ],
          [
           "Ivo Grbić"
          ],
          [
           "Thorgan Ganael Francis Hazard"
          ],
          [
           "Jack David Vincent Whatmough"
          ],
          [
           "Federico Tavernaro"
          ],
          [
           "Rick van Drongelen"
          ],
          [
           "Toma Bašić"
          ],
          [
           "中山 雄太"
          ],
          [
           "Luca Pandolfi"
          ],
          [
           "Claudio Andrés Bravo Muñoz"
          ],
          [
           "Anton Gaaei"
          ],
          [
           "Michele Camporese"
          ],
          [
           "Vitor Hugo Roque Ferreira"
          ],
          [
           "George Long"
          ],
          [
           "Umut Tohumcu"
          ],
          [
           "Matteo Ricci"
          ],
          [
           "Antonio Foti"
          ],
          [
           "Jaume Vicent Costa Jordá"
          ],
          [
           "Weston James Earl McKennie"
          ],
          [
           "Luca Pascal Schnellbacher"
          ],
          [
           "Albert Guðmundsson"
          ],
          [
           "Calum Chambers"
          ],
          [
           "Batuhan Çelik"
          ],
          [
           "Tommaso Cassandro"
          ],
          [
           "Alessio Vita"
          ],
          [
           "Xavier Chavalerin"
          ],
          [
           "Đorđe Nikolić"
          ],
          [
           "Lee Nicholls"
          ],
          [
           "Yassin Belkhdim"
          ],
          [
           "Sofyan Amrabat"
          ],
          [
           "Samuel Shashoua"
          ],
          [
           "Lion Lauberbach"
          ],
          [
           "Karl Sebastian Ring"
          ],
          [
           "Teddy Alloh"
          ],
          [
           "Isaac Hayden"
          ],
          [
           "Aritz Muguruza Peña"
          ],
          [
           "Stredair Appuah"
          ],
          [
           "Yakup Arda Kılıç"
          ],
          [
           "Osman Çelik"
          ],
          [
           "Norberto Bercique Gomes Betuncal"
          ],
          [
           "Jannes Luca Wieckhoff"
          ],
          [
           "Omar El Hilali"
          ],
          [
           "Pontus Almqvist"
          ],
          [
           "Griffin McDorman Yow"
          ],
          [
           "Igor Julio dos Santos de Paulo"
          ],
          [
           "Camiel Neghli"
          ],
          [
           "Michele Besaggio"
          ],
          [
           "Leo Sauer"
          ],
          [
           "Mehdi Jeannin"
          ],
          [
           "Levin Mete Öztunali"
          ],
          [
           "Otabek Shukurov"
          ],
          [
           "Volnei Feltes"
          ],
          [
           "Ion Nicolăescu"
          ],
          [
           "Danilo Luiz da Silva"
          ],
          [
           "Momodou Lamin Sonko"
          ],
          [
           "Jamie Paterson"
          ],
          [
           "Mahamé Siby"
          ],
          [
           "Ramy Bensebaini"
          ],
          [
           "Louis Mafouta"
          ],
          [
           "Giovanni Corradini"
          ],
          [
           "Filip Stevanović"
          ],
          [
           "Derensili Sanches Fernandes"
          ],
          [
           "Tim-Henry Handwerker"
          ],
          [
           "Nicola Bagnolini"
          ],
          [
           "Simon Désiré Sylvanus Deli"
          ],
          [
           "Jairo Izquierdo González"
          ],
          [
           "Manor Solomon"
          ],
          [
           "Bernardo de Souza"
          ],
          [
           "Javier Hernández Coarasa"
          ],
          [
           "長谷 部誠"
          ],
          [
           "Moritz-Broni Kwarteng"
          ],
          [
           "Jose Luís García Vayá"
          ],
          [
           "Riccardo Sottil"
          ],
          [
           "Lewis Harry Holtby"
          ],
          [
           "Giuseppe Aurelio"
          ],
          [
           "Yvann Maçon"
          ],
          [
           "Alfie Jones"
          ],
          [
           "Hakan Arslan"
          ],
          [
           "Tiago Emanuel Embaló Djaló"
          ],
          [
           "Abdallah Ndour"
          ],
          [
           "Facundo Esnáider Ruiz"
          ],
          [
           "Helton Brant Aleixo Leite"
          ],
          [
           "Jesús Joaquín Fernández Sáez de la Torre"
          ],
          [
           "Ryan Trevitt"
          ],
          [
           "Ángel Alarcón Galiot"
          ],
          [
           "Gaetano Vittorio Masucci"
          ],
          [
           "Ali Alipour"
          ],
          [
           "Cengiz Ünder"
          ],
          [
           "Cristian Ignacio Herrera Pérez"
          ],
          [
           "Erdem Canpolat"
          ],
          [
           "Mehdi Zeffane"
          ],
          [
           "Toon Raemaekers"
          ],
          [
           "Joarlem Batista Santos"
          ],
          [
           "Tygo Land"
          ],
          [
           "Vladimír Coufal"
          ],
          [
           "Kylian Mbappé Lottin"
          ],
          [
           "Wilfried Zaha"
          ],
          [
           "Janio Bikel Figueiredo da Silva"
          ],
          [
           "Bastien Meupiyou"
          ],
          [
           "Marcos Aoás Corrêa"
          ],
          [
           "Mujaid Sadick Aliu"
          ],
          [
           "Adrien Rabiot"
          ],
          [
           "Giuseppe Caso"
          ],
          [
           "Florian Tristan Mariano Thauvin"
          ],
          [
           "Nathan Ferguson"
          ],
          [
           "Taylor Foran"
          ],
          [
           "David Nicolás Andrade"
          ],
          [
           "Lucas Martínez Quarta"
          ],
          [
           "Charles Traoré"
          ],
          [
           "Cameron Pring"
          ],
          [
           "Boubakary Soumaré"
          ],
          [
           "Johann Berg Guðmunds­son"
          ],
          [
           "Andreas Bruus"
          ],
          [
           "Sebastian Andersson"
          ],
          [
           "Zinedine Ferhat"
          ],
          [
           "Carlos Augusto Zopolato Neves"
          ],
          [
           "Victor James Osimhen"
          ],
          [
           "Joe Gauci"
          ],
          [
           "Omari Giraud-Hutchinson"
          ],
          [
           "Mykhailo Mudryk"
          ],
          [
           "Olivier Deman"
          ],
          [
           "Alexandre Phliponeau"
          ],
          [
           "Nanitamo Jonathan Ikoné"
          ],
          [
           "Burak Öğür"
          ],
          [
           "Georg Strauch"
          ],
          [
           "Nikola Sekulov"
          ],
          [
           "Bartosz Białkowski"
          ],
          [
           "Nicolò Brighenti"
          ],
          [
           "Jake Vokins"
          ],
          [
           "Pierluigi Gollini"
          ],
          [
           "Dylan Williams"
          ],
          [
           "Júnior Udeme Pius"
          ],
          [
           "Borja García Freire"
          ],
          [
           "Tobi Adeyemo"
          ],
          [
           "Jean Thierry Lazare Amani"
          ],
          [
           "José Ángel Esmoris Tasende"
          ],
          [
           "Marvin Senaya"
          ],
          [
           "Anas Ouahim"
          ],
          [
           "Stefan Bajic"
          ],
          [
           "Samuel Gigot"
          ],
          [
           "Amadou Diawara"
          ],
          [
           "Mattia Viviani"
          ],
          [
           "Oscar Vilhelmsson"
          ],
          [
           "Rubén Sobrino Pozuelo"
          ],
          [
           "Derrick Arthur Köhn"
          ],
          [
           "Nicolò Bertola"
          ],
          [
           "Marek Rodák"
          ],
          [
           "Babajide David Akintola"
          ],
          [
           "Matondo-Merveille Papela"
          ],
          [
           "William Silva de Carvalho"
          ],
          [
           "Frank Lehmann"
          ],
          [
           "Juan Miranda González"
          ],
          [
           "Miguel Luís Pinto Veloso"
          ],
          [
           "Antony Iannarilli"
          ],
          [
           "Daley Sinkgraven"
          ],
          [
           "Marc-Oliver Kempf"
          ],
          [
           "Sergio Gómez Martín"
          ],
          [
           "Bennet Winter"
          ],
          [
           "Cristián Alexis Borja González"
          ],
          [
           "Théo Borne"
          ],
          [
           "Gian-Luca Waldschmidt"
          ],
          [
           "Luca Mazzitelli"
          ],
          [
           "Federico Barba"
          ],
          [
           "Damián Rodríguez Sousa"
          ],
          [
           "Doğucan Haspolat"
          ],
          [
           "Niall Nathan Michael Ennis"
          ],
          [
           "Teenage Lingani Hadebe"
          ],
          [
           "Giuseppe Pezzella"
          ],
          [
           "Sardar Azmoun"
          ],
          [
           "Salih Özcan"
          ],
          [
           "Pedro Chirivella Burgos"
          ],
          [
           "Merlin Röhl"
          ],
          [
           "Kaden Rodney"
          ],
          [
           "Nikola Moro"
          ],
          [
           "Marco Schuster"
          ],
          [
           "Sergio González Poirrier"
          ],
          [
           "Tim Breithaupt"
          ],
          [
           "Donyell Malen"
          ],
          [
           "Fábio Samuel Amorim Silva"
          ],
          [
           "Liam Henderson"
          ],
          [
           "Lewis O'Brien"
          ],
          [
           "Armando Izzo"
          ],
          [
           "Pierre-Emile Kordt Højbjerg"
          ],
          [
           "Nicolas Isimat-Mirin"
          ],
          [
           "Adedire Mebude"
          ],
          [
           "Hady Camara"
          ],
          [
           "Maximilian Eggestein"
          ],
          [
           "Christopher Jeffrey Richards"
          ],
          [
           "本 寛也"
          ],
          [
           "Quentin Daubin"
          ],
          [
           "Kristian Šekularac"
          ],
          [
           "Ousmane Dembélé"
          ],
          [
           "Oier Olazábal Paredes"
          ],
          [
           "Tidyane Diagouraga"
          ],
          [
           "Lukas Pinckert"
          ],
          [
           "Anwan Lawrence Nicholas"
          ],
          [
           "Stijn van Gassel"
          ],
          [
           "Iddrisu Baba Mohammed"
          ],
          [
           "Celestin De Schrevel"
          ],
          [
           "Christian Joel Sánchez Leal"
          ],
          [
           "Miguel Rebelo"
          ],
          [
           "Endri Çekiçi"
          ],
          [
           "Mats Lemmens"
          ],
          [
           "George Honeyman"
          ],
          [
           "Brahim Traoré"
          ],
          [
           "Murat Akşit"
          ],
          [
           "John McGinn"
          ],
          [
           "Kerim Çalhanoğlu"
          ],
          [
           "Jean Butez"
          ],
          [
           "Bilal Nadir"
          ],
          [
           "Emil Alfons Holm"
          ],
          [
           "Anouar El Azzouzi"
          ],
          [
           "Gautier Lloris"
          ],
          [
           "Florian Richard Wirtz"
          ],
          [
           "Filipe Miguel Barros Soares"
          ],
          [
           "Carlos Vinícius Santos de Jesús"
          ],
          [
           "Michael John Smith"
          ],
          [
           "Cengiz Demir"
          ],
          [
           "Remi Matthews"
          ],
          [
           "Paul Nebel"
          ],
          [
           "Milad Mohammadi Keshmarzi"
          ],
          [
           "Abdel Hakim Abdallah"
          ],
          [
           "Assane Diao Diaoune"
          ],
          [
           "Harry Kane"
          ],
          [
           "Jamie Knight-Lebel"
          ],
          [
           "Adam Buksa"
          ],
          [
           "Eray Korkmaz"
          ],
          [
           "Mats Rits"
          ],
          [
           "Sergiño Gianni Dest"
          ],
          [
           "Krzysztof Piątek"
          ],
          [
           "Thibo Somers"
          ],
          [
           "Lorenzo Andrenacci"
          ],
          [
           "Bernabé Barragán Maestre"
          ],
          [
           "João Pedro Junqueira de Jesus"
          ],
          [
           "Simone Giordano"
          ],
          [
           "Mamadou Fofana"
          ],
          [
           "Enzo Camille Alain Millot"
          ],
          [
           "Bruno Miguel Semedo Varela"
          ],
          [
           "Kamal Sowah"
          ],
          [
           "Flavio Junior Bianchi"
          ],
          [
           "Fabricio Rosario Dos Santos"
          ],
          [
           "Tony Strata"
          ],
          [
           "Sebastian Rode"
          ],
          [
           "Teddy Boulhendi"
          ],
          [
           "Sofiane Diop"
          ],
          [
           "Philipp Förster"
          ],
          [
           "João Pedro Loureiro da Costa"
          ],
          [
           "Emre Bekir"
          ],
          [
           "Miguel Raimundo Nóbrega"
          ],
          [
           "Loic Williams Ntambue Kayumba"
          ],
          [
           "Robin Bird"
          ],
          [
           "Bakary Haidara"
          ],
          [
           "Raffaele Cartano"
          ],
          [
           "Abdoulie Sanyang"
          ],
          [
           "Salvador Sánchez Ponce"
          ],
          [
           "Víctor Chust García"
          ],
          [
           "Iker Bravo Solanilla"
          ],
          [
           "Gonçalo Baptista Franco"
          ],
          [
           "Nikola Milenković"
          ],
          [
           "Akinlolu Richard Olamide Famewo"
          ],
          [
           "Artur Ioniță"
          ],
          [
           "Raheem Conte"
          ],
          [
           "Jan-Niklas Beste"
          ],
          [
           "Michail Antonio"
          ],
          [
           "Silvan Dominic Widmer"
          ],
          [
           "Leart Paqarada"
          ],
          [
           "Alexandre Roger Oukidja"
          ],
          [
           "Dorukhan Toköz"
          ],
          [
           "Borja Sainz Eguskiza"
          ],
          [
           "João Rodrigo Pereira Escoval"
          ],
          [
           "Đorđe Petrović"
          ],
          [
           "Richie Mamah Laryea"
          ],
          [
           "Pietro Beruatto"
          ],
          [
           "Martin Turk"
          ],
          [
           "Rayan Ny Aina Arnaldo Raveloson"
          ],
          [
           "Sandro Plínio Rosa da Cruz"
          ],
          [
           "Mateusz Praszelik"
          ],
          [
           "Enes Ünal"
          ],
          [
           "Gustavo Fabrice Sangaré"
          ],
          [
           "Blendi Idrizi"
          ],
          [
           "Alex Král"
          ],
          [
           "Pablo Marí Villar"
          ],
          [
           "Sha'mar Lawson"
          ],
          [
           "Leon Bell Bell"
          ],
          [
           "Pedro Nuno Almeida Pinho"
          ],
          [
           "Sofian Kiyine"
          ],
          [
           "Daniel Andrés Luna García"
          ],
          [
           "Fabio Andrea Ruggeri"
          ],
          [
           "Ruslan Malinovskyi"
          ],
          [
           "Lars Edi Stindl"
          ],
          [
           "Boris Tomiak"
          ],
          [
           "Jorge Miramón Santagertrudis"
          ],
          [
           "Marco André da Silva Lopes Matias"
          ],
          [
           "Cebrail Karayel"
          ],
          [
           "Grant Hall"
          ],
          [
           "Iker Muniain Goñi"
          ],
          [
           "Fabian Nürnberger"
          ],
          [
           "Patrick Erras"
          ],
          [
           "Franck Honorat"
          ],
          [
           "Alfonso Pastor Vacas"
          ],
          [
           "Jannik Dehm"
          ],
          [
           "Nikola Vasilj"
          ],
          [
           "Alejandro Quevedo Barber"
          ],
          [
           "David López Guijarro"
          ],
          [
           "Erik Pieters"
          ],
          [
           "Amine Harit"
          ],
          [
           "Finn Gilbert Dahmen"
          ],
          [
           "İbrahim Akdağ"
          ],
          [
           "Ager Aketxe Barrutia"
          ],
          [
           "Lassana Diabaté"
          ],
          [
           "Eneko Ortiz Díaz"
          ],
          [
           "Rubén Alcaraz Jiménez"
          ],
          [
           "Jérémy Mellot"
          ],
          [
           "Javier Alonso Bello"
          ],
          [
           "Joris Chotard"
          ],
          [
           "Steven Skrzybski"
          ],
          [
           "Aitor Córdoba Querejeta"
          ],
          [
           "Romain Thomas"
          ],
          [
           "Mert Müldür"
          ],
          [
           "Julian Börner"
          ],
          [
           "Bryan Gil Salvatierra"
          ],
          [
           "Ahmed Touba"
          ],
          [
           "Robert Kampa"
          ],
          [
           "Adrià Miquel Bosch Sanchis"
          ],
          [
           "Jake Livermore"
          ],
          [
           "Elliott Anderson"
          ],
          [
           "Jochem van de Kamp"
          ],
          [
           "Davide Frattesi"
          ],
          [
           "Marcos Peña Ocaña"
          ],
          [
           "Óscar Clemente Mues"
          ],
          [
           "Diego López Noguerol"
          ],
          [
           "Williot Theo Swedberg"
          ],
          [
           "Pablo Torre Carral"
          ],
          [
           "Julio César Enciso Espínola"
          ],
          [
           "Niels Devalckeneer"
          ],
          [
           "Daniele Ghilardi"
          ],
          [
           "Jordan Semedo"
          ],
          [
           "Danilo dos Santos de Oliveira"
          ],
          [
           "Gonzalo Ávila Gordón"
          ],
          [
           "Djakaridja Junior Traoré"
          ],
          [
           "Armel Bella Kotchap"
          ],
          [
           "Hayden Carter"
          ],
          [
           "Lander Olaetxea Ibaibarriaga"
          ],
          [
           "Daley Blind"
          ],
          [
           "Rafael Jiménez Jarque"
          ],
          [
           "Ajdin Hrustić"
          ],
          [
           "Marius Mouandilmadji"
          ],
          [
           "Javier Puado Díaz"
          ],
          [
           "Florian Loshaj"
          ],
          [
           "Ajibola Alese"
          ],
          [
           "Marcus Tavernier"
          ],
          [
           "Granit Xhaka"
          ],
          [
           "João Manuel Neves Virgínia"
          ],
          [
           "Tim Schleinitz"
          ],
          [
           "Siemen Buvé"
          ],
          [
           "Florent Mollet"
          ],
          [
           "Rijad Smajić"
          ],
          [
           "Osaze Urhoghide"
          ],
          [
           "Aster Jan Vranckx"
          ],
          [
           "Loizos Loizou"
          ],
          [
           "Valerio Mastrantonio"
          ],
          [
           "Dimitrios Pelkas"
          ],
          [
           "Emanuel Vignato"
          ],
          [
           "Mostafa Mohamed Ahmed Abdallah"
          ],
          [
           "Jonathan de Guzmán"
          ],
          [
           "Alpaslan Öztürk"
          ],
          [
           "Ziyad Larkeche"
          ],
          [
           "Álvaro Odriozola Arzalluz"
          ],
          [
           "Gabriel Julien Dominique Barès"
          ],
          [
           "Kepa Arrizabalaga Revuelta"
          ],
          [
           "Charlie Casper"
          ],
          [
           "Théo Luis Fonseca"
          ],
          [
           "Paolo Rozzio"
          ],
          [
           "Unai López Cabrera"
          ],
          [
           "Mert Hakan Yandaş"
          ],
          [
           "Youssef Ramalho Chermiti"
          ],
          [
           "Tom Vandenberghe"
          ],
          [
           "Justin Antonius Lonwijk"
          ],
          [
           "Piotr Sebastian Zieliński"
          ],
          [
           "Tom Ducrocq"
          ],
          [
           "Jean-Charles Castelletto"
          ],
          [
           "Krépin Diatta"
          ],
          [
           "Thomas Christopher Cannon"
          ],
          [
           "Saúl García Cabrero"
          ],
          [
           "Jacopo Manconi"
          ],
          [
           "Nick Olij"
          ],
          [
           "Gonzalo Ariel Montiel"
          ],
          [
           "Diego Espinosa García"
          ],
          [
           "Jordan Yamoah Amissah"
          ],
          [
           "Javier Ontiveros Parra"
          ],
          [
           "Bonke Innocent"
          ],
          [
           "Axel Arthur Disasi"
          ],
          [
           "Aïman Maurer"
          ],
          [
           "Valdemiro Pinto Domingos"
          ],
          [
           "Serge David Gnabry"
          ],
          [
           "Mathis Hamdi"
          ],
          [
           "Mijo Caktaš"
          ],
          [
           "Dennis Geiger"
          ],
          [
           "Jonas Nickisch"
          ],
          [
           "Pietro Iemmello"
          ],
          [
           "Nobel Mendy"
          ],
          [
           "Salim Diakité"
          ],
          [
           "Martin Adeline"
          ],
          [
           "Elia Caprile"
          ],
          [
           "Max Rosenfelder"
          ],
          [
           "Mark Sykes"
          ],
          [
           "Kenneth Josiah Omeruo"
          ],
          [
           "Juan Ferney Otero Tovar"
          ],
          [
           "Robert Wagner"
          ],
          [
           "Matthew James Doherty"
          ],
          [
           "Kristoffer Paul Peterson"
          ],
          [
           "Rémy Boissier"
          ],
          [
           "Mattia Perin"
          ],
          [
           "Serdar Dursun"
          ],
          [
           "Dal Varešanović"
          ],
          [
           "Djenahro Nunumete"
          ],
          [
           "Zeki Yavru"
          ],
          [
           "Charlie Cresswell"
          ],
          [
           "Youri Regeer"
          ],
          [
           "Téva Gardies"
          ],
          [
           "Philana Tinotenda Kadewere"
          ],
          [
           "Sergio Guardiola Navarro"
          ],
          [
           "Maxime Chanot"
          ],
          [
           "William Balikwisha"
          ],
          [
           "Frederik Riis Rønnow"
          ],
          [
           "Giacomo Beretta"
          ],
          [
           "Bećir Omeragić"
          ],
          [
           "Álvaro Santamaría Arenas"
          ],
          [
           "Youri Baas"
          ],
          [
           "Benjamin André"
          ],
          [
           "Žan Majer"
          ],
          [
           "Emmanuel Afriyie Mario Sabbi"
          ],
          [
           "Darko Gyabi"
          ],
          [
           "Chris Anthony Willock"
          ],
          [
           "Han-Noah Massengo"
          ],
          [
           "Mario René Junior Lemina"
          ],
          [
           "Stijn Bultman"
          ],
          [
           "Anas Tahiri"
          ],
          [
           "Brandon Baiye"
          ],
          [
           "João Victor Tornich"
          ],
          [
           "Stipe Biuk"
          ],
          [
           "Auston Levi-Jesaiah Trusty"
          ],
          [
           "Álvaro Vadillo Cifuentes"
          ],
          [
           "Anthony Oyono Omva Torque"
          ],
          [
           "Murillo Costa dos Santos"
          ],
          [
           "Joelson Augusto Mendes Mango Fernandes"
          ],
          [
           "Lucas Estella Perri"
          ],
          [
           "Kwadwo Kyeremeh Baah"
          ],
          [
           "Ander Guevara Lajo"
          ],
          [
           "George Tanner"
          ],
          [
           "Francesco Amatucci"
          ],
          [
           "Mikel Oyarzabal Ugarte"
          ],
          [
           "Alejandro Francés Torrijo"
          ],
          [
           "Matteo Gabbia"
          ],
          [
           "Tony Jantschke"
          ],
          [
           "Steven Fortes"
          ],
          [
           "Toluwalase Emmanuel Arokodare"
          ],
          [
           "Jiří Pavlenka"
          ],
          [
           "Ionuț Nedelcearu"
          ],
          [
           "Luis Federico López Andúgar"
          ],
          [
           "Giovanni Crociata"
          ],
          [
           "Daniel Raba Antolin"
          ],
          [
           "Jean Michaël Seri"
          ],
          [
           "Miguel de la Fuente Escudero"
          ],
          [
           "Corentin Michel"
          ],
          [
           "Sammy Braybrooke"
          ],
          [
           "Andrew Hughes"
          ],
          [
           "Germán Fernández Hidalgo"
          ],
          [
           "Juan Manuel Bravo Alcántara"
          ],
          [
           "Djeidi Gassama"
          ],
          [
           "Marcos Alonso Mendoza"
          ],
          [
           "Luca Zinedine Zidane"
          ],
          [
           "Christian Kabasele"
          ],
          [
           "Javier Garrido López"
          ],
          [
           "Miguel Ângelo Gomes Ferreira Magalhães"
          ],
          [
           "Scott Brian Banks"
          ],
          [
           "Perry Ng Tian-Hee"
          ],
          [
           "João Filipe Iria Santos Moutinho"
          ],
          [
           "Luca Pfeiffer"
          ],
          [
           "Gino Fechner"
          ],
          [
           "Adrion Pajaziti"
          ],
          [
           "Efecan Karaca"
          ],
          [
           "Rob Holding"
          ],
          [
           "Jamie William Lindsay"
          ],
          [
           "Iñigo Vicente Elorduy"
          ],
          [
           "Fabiano Josué de Souza Silva"
          ],
          [
           "Jordi Mboula Queralt"
          ],
          [
           "Deniz Dilmen"
          ],
          [
           "Loïc Mbe Soh"
          ],
          [
           "Phillipp Klement"
          ],
          [
           "Timon Vanhoutte"
          ],
          [
           "Niklas Bernd Dorsch"
          ],
          [
           "Arthur Atta"
          ],
          [
           "Nathaniel Chalobah"
          ],
          [
           "Caio Henrique Oliveira Silva"
          ],
          [
           "Anssumane Fati"
          ],
          [
           "Søren Tengstedt"
          ],
          [
           "Marcus Vinícius Oliveira Alencar"
          ],
          [
           "Diego José Conde Alcolado"
          ],
          [
           "Afonso Bastardo Moreira"
          ],
          [
           "Matéo Loubatières"
          ],
          [
           "Andrea Colpani"
          ],
          [
           "Michael Simões Domingues"
          ],
          [
           "Ayman Aiki"
          ],
          [
           "Charlie Patino"
          ],
          [
           "Sven Ulreich"
          ],
          [
           "Bryan Heynen"
          ],
          [
           "Marco Moreno Ojeda"
          ],
          [
           "Mario Šitum"
          ],
          [
           "Dominick Drexler"
          ],
          [
           "Olimpiu Vasile Moruțan"
          ],
          [
           "Pep Biel Mas Jaume"
          ],
          [
           "Ghjuvanni Quilichini"
          ],
          [
           "Bruno Maximiliano Martins Indi"
          ],
          [
           "Rúben dos Santos Gato Alves Dias"
          ],
          [
           "Bogdan Milovanov"
          ],
          [
           "Oliver McBurnie"
          ],
          [
           "Pelle van Amersfoort"
          ],
          [
           "Leo Štulac"
          ],
          [
           "Pasquale Mazzocchi"
          ],
          [
           "Junior Tchamadeu"
          ],
          [
           "Bilal Bayazıt"
          ],
          [
           "Arda Güler"
          ],
          [
           "Isaac Ajayi Success"
          ],
          [
           "Jesús José Bernal Villarig"
          ],
          [
           "Jasper van der Werff"
          ],
          [
           "Vangelis Pavlidis"
          ],
          [
           "Antoine Batisse"
          ],
          [
           "Cédric Brunner"
          ],
          [
           "Edgar Badia Guardiola"
          ],
          [
           "Pablo Insua Blanco"
          ],
          [
           "Joshua Lloyd Ginnelly"
          ],
          [
           "Fodé Sylla"
          ]
         ],
         "hovertemplate": "Predicted Salary=%{x}<br>Residuals=%{y}<br>PlayerName=%{customdata[0]}<extra></extra>",
         "legendgroup": "",
         "marker": {
          "color": "#636efa",
          "symbol": "circle"
         },
         "mode": "markers",
         "name": "",
         "showlegend": false,
         "type": "scattergl",
         "x": [
          9899.460119924941,
          36327.60300426255,
          30943.746998771432,
          3681.7682341217924,
          3373.595053449676,
          17835.686593292645,
          13233.983163367635,
          5560.442422027215,
          13559.845914359337,
          15753.615459132732,
          2838.480447204764,
          3726.3645250693344,
          3145.3734732562616,
          4294.664459468734,
          3853.268125202619,
          3984.584838658186,
          1681.4870916418538,
          6161.922822935089,
          3092.847576045147,
          4242.389775861725,
          5750.161064205948,
          78339.69897612017,
          19358.13280099632,
          9096.62756678711,
          25247.780104323443,
          10787.032775472146,
          2932.25943395695,
          1772.0684463403038,
          13500.572791447887,
          5831.93784726642,
          3771.5997114097213,
          4483.593619627462,
          6065.172392347605,
          10558.488096522266,
          947.0835830127685,
          5389.424919860704,
          5087.500556221358,
          46744.854791062404,
          23504.322904800083,
          1637.0294194634891,
          29305.117920244553,
          12359.106410777682,
          4079.853186844894,
          1897.929800656211,
          1438.4980464190335,
          6747.769349827098,
          10854.357375368685,
          21860.918716995857,
          4628.207188667455,
          38026.03271940911,
          4752.5495207733975,
          5842.291734071892,
          2911.209999822914,
          6131.024036481895,
          30581.911504693708,
          2117.423486796077,
          7406.342917058486,
          208272.51555134985,
          4690.4317588120775,
          33184.10731626766,
          12829.030752075987,
          32145.985743235073,
          37985.424686266466,
          2406.454906835503,
          47243.25267625547,
          17375.97955481842,
          110.5404051208029,
          6626.7720087620555,
          12339.78408321539,
          7859.900691028118,
          1024.6194345934473,
          5256.669255966162,
          5214.33682934857,
          3912.1841086920244,
          28184.861329092273,
          1074.303636486339,
          5727.82135014376,
          3759.981121819829,
          904.4066831231235,
          5587.854755152678,
          741.5184405247627,
          887.4421573093739,
          1725.820638961364,
          15823.405533942758,
          2230.6343729747628,
          14598.21112575629,
          1172.2741092935698,
          27689.723054261853,
          1025.5988474768503,
          10827.84960601088,
          197983.50634528883,
          6582.166169408718,
          0,
          79312.22270340812,
          8904.942324785314,
          6724.560862499205,
          6154.1316160771285,
          4950.983925649779,
          8756.845854419167,
          8248.706171226071,
          1926.5780434745443,
          3250.754576454532,
          6866.942769440956,
          5402.299582970756,
          7776.314161029981,
          3711.081368155535,
          4239.67441277256,
          3146.5418038932426,
          6397.396207649761,
          4687.420499627956,
          113677.89787178999,
          9941.178987812023,
          1389.0820979531586,
          4574.798649033808,
          3107.1521146031128,
          7903.038841629695,
          1755.3013978158763,
          7178.810168147918,
          2878.028156365749,
          98379.98422024929,
          3376.6942077882027,
          1046.960805649464,
          4456.209430416202,
          17330.611133581693,
          1197.0902016855125,
          24216.696061793227,
          38374.89816514809,
          14632.751758962422,
          1935.0599383701735,
          2099.0078770161285,
          8382.959806959041,
          2287.8722416418623,
          2661.3008202245996,
          3206.85491832649,
          28985.161210850416,
          20976.473738825378,
          19714.878272514685,
          2081.518966381567,
          28311.865033927977,
          2392.176978046696,
          22526.316548181647,
          14501.046353791042,
          0,
          2676.4161784421617,
          4017.721915716865,
          10399.085612652421,
          45722.75952831549,
          19453.68312340949,
          8356.929647637153,
          6289.387086458404,
          97160.83227603463,
          5579.305778207008,
          21293.91720642264,
          1040.2531146854656,
          89180.1380202733,
          32275.17224582524,
          15925.056492861131,
          2724.057471553818,
          1582.0997940898892,
          20933.483918189602,
          27106.201293340146,
          3293.6626795099205,
          57447.906324267955,
          7038.9292134387215,
          16474.362059453393,
          662.0545688853124,
          3973.7621339035086,
          3252.9544034446462,
          1532.5206067678096,
          3652.8097004944484,
          35737.47840018779,
          55479.46889659262,
          13513.45916813023,
          97094.59214401408,
          3188.547905446911,
          5723.6211163939715,
          7522.756222705396,
          6272.667934756238,
          31980.610941010633,
          14274.645015819735,
          13206.557376277471,
          1970.7357066739316,
          43851.876548974265,
          10230.114667700347,
          7991.987903641171,
          8928.78063521326,
          18360.349131965137,
          1073.979419506756,
          862.7327555785782,
          19722.674697166225,
          8680.962942566202,
          5789.57478574043,
          23564.78527853257,
          2286.873761879829,
          44388.940579835704,
          17527.866643084362,
          15411.867130700251,
          527.5732023481231,
          4334.742607479797,
          194165.0087806463,
          9073.139203394216,
          7059.230913775638,
          6595.437411979393,
          39980.372585501704,
          7318.889470841358,
          5777.230208045579,
          8883.916900287886,
          5664.972063343518,
          27986.548506922383,
          1731.6154812938648,
          89172.940993122,
          82172.54035220905,
          2191.377476099161,
          4195.591619029847,
          3870.7481911101404,
          4306.160238085145,
          1896.3181085870601,
          8933.225133566355,
          431.87321981851085,
          6187.359906264098,
          4796.340940074089,
          28663.24034462115,
          6155.1546670096905,
          2209.705428749472,
          4699.790923582897,
          1330.9744406289062,
          27006.97404075441,
          654.4547546648128,
          4819.000383547688,
          5898.171530080483,
          7898.842163594739,
          20857.89388630569,
          619.4101646627399,
          28186.41342749205,
          173863.89973111433,
          14307.186413625566,
          24910.500446086295,
          7416.7222672492635,
          7697.602880079533,
          6018.313565925135,
          1801.3614143742207,
          1709.2702251700043,
          1867.1810218120524,
          694.317453640258,
          37688.15496722215,
          2100.799327657546,
          14033.140787585813,
          10748.285402978026,
          1202.6585382992082,
          1464.9344596255985,
          8982.17430870929,
          4637.302230313176,
          92906.16423525538,
          6702.894216592376,
          2684.820953320918,
          9973.071979837056,
          5713.197450134932,
          3853.31901808047,
          6108.035762872665,
          17214.731860182437,
          1929.5015418881424,
          6028.011834210422,
          4550.2821954793635,
          2482.5297619957214,
          7777.0268931434775,
          20680.69888528299,
          8289.88325693364,
          10019.743482037979,
          3783.348750879381,
          14736.73476365216,
          4369.567170280959,
          5795.886841130271,
          1851.6655738472987,
          24474.471751177236,
          8355.7592433252,
          17526.556657511435,
          9094.747531099092,
          23455.228873108194,
          22218.855152209984,
          545.9340654304034,
          1372.8775925205725,
          64130.97863534943,
          9290.445331905335,
          7123.342355643133,
          9738.202387612318,
          69929.46465252619,
          7355.409414566534,
          8426.834915318244,
          286.93808925451947,
          3129.872774454022,
          1091.335779064245,
          6715.295011987474,
          1389.7213681105552,
          137602.7659589649,
          3909.0523238400187,
          812.6856807741095,
          1617.8030347727317,
          7059.626090597616,
          22128.01881184463,
          9634.821420738785,
          32411.206859638194,
          2181.2562344659004,
          13967.73111516548,
          4725.033059914342,
          505.5891339510373,
          6146.798182106177,
          13234.567618916755,
          268.2445369037878,
          69313.9251867323,
          17419.248528080963,
          42.85466183083027,
          1322.9280621701282,
          14645.819424694691,
          1563.4437267005467,
          826.5279951999338,
          5327.159971129264,
          20949.432061299816,
          12984.648207182374,
          16601.21635883952,
          69867.8864993405,
          17343.35694981962,
          5643.6792976598545,
          28232.448666423297,
          86554.10719015592,
          3668.745858769877,
          2015.7278168198218,
          4332.912589449218,
          11244.11174086901,
          2847.330791156307,
          32279.713231012716,
          847.1676307747022,
          12407.55979624405,
          10409.527351489885,
          1650.2542905164576,
          9039.494843675962,
          2187.8209696370195,
          209.44494153262755,
          12993.192663952892,
          103334.18069369471,
          2421.8069243442,
          25449.993726980225,
          824.4994437181612,
          0,
          35064.21990246206,
          24460.8829341946,
          1405.1831297185627,
          1161.5906204583355,
          6253.484849130278,
          26200.985879278312,
          2113.1641455494255,
          2677.670226749189,
          16829.966661555998,
          145859.76347025155,
          1579.2704248726343,
          22977.79907394635,
          7936.545274172721,
          2617.4516315424053,
          2555.6697725106833,
          37524.38530042671,
          6677.664419103405,
          44639.274313439026,
          3356.89765208676,
          3818.890092130271,
          11461.592845732139,
          23790.73390435767,
          22310.940390532123,
          4072.265325747148,
          5047.4877601465905,
          14113.390373176664,
          9259.139536097304,
          8901.067227196814,
          2426.3829712402458,
          4862.976263604947,
          9991.246333401403,
          8284.223451342816,
          10235.436491654522,
          5784.122166449969,
          1062.9305582848456,
          5007.358574873713,
          49361.996925793814,
          24906.097768477644,
          2394.2768301369283,
          10948.45322837182,
          2948.164758949584,
          4545.4048458468405,
          61639.188454189985,
          5670.260405622632,
          40690.140183895455,
          574.6321258274934,
          472.35086075834306,
          26550.454087983504,
          11768.876491765299,
          5483.131871699786,
          26204.261363385827,
          26192.53349450181,
          1380.144129807731,
          678.0997337571077,
          41109.69887036904,
          2381.1875083435275,
          7676.622032618443,
          28908.09261740398,
          49466.869618457684,
          10917.016435259718,
          1496.0088205613267,
          6617.2497510673375,
          3087.9795736321494,
          3830.215496635429,
          4366.812142436154,
          6764.576293331061,
          7332.033702517191,
          156476.83363340324,
          7754.934693669246,
          22602.769581746972,
          2727.04998683541,
          8689.409830568593,
          1166.4066205941149,
          14299.773381136873,
          10300.857040996003,
          58768.903911326765,
          12285.9129249511,
          1569.550166270618,
          14232.723117329639,
          10205.41541651622,
          915.493117292404,
          1990.3619853765983,
          2585.916564229673,
          2824.3146641353633,
          2348.0848006564647,
          3169.8616048345166,
          2870.2079527582414,
          693.362103845405,
          4952.080736323879,
          2976.410895329869,
          51269.89152204055,
          14547.884345599869,
          2327.247998287018,
          5969.169463445498,
          9291.952077426567,
          2484.654636342297,
          7082.789941169296,
          957.2068265827662,
          8532.653435322409,
          4297.331677338747,
          5827.32751636623,
          582.9054171113663,
          16025.913058288057,
          24359.393228462395,
          24307.02976704445,
          28978.068214577586,
          1605.2318015074159,
          1093.4208962259004,
          7020.94944354637,
          12445.216663570882,
          2711.505020370248,
          17297.986227284946,
          44177.13761878265,
          17558.8628650787,
          11431.398027803456,
          1895.8344625792236,
          923.982573170964,
          19747.307461960587,
          52374.5198970521,
          2895.814758855566,
          2693.361735722705,
          14241.920126874838,
          4754.889584828977,
          817.410139222946,
          14475.466927328434,
          11642.899280735312,
          5801.185201515569,
          14653.095016868576,
          1339.2227558507773,
          2401.2862695468084,
          1574.3670458048232,
          5523.522270236156,
          4865.385721108562,
          16005.213100232417,
          97088.88942264774,
          9679.982263304408,
          12461.522277025184,
          1394.7334253484335,
          3472.6034440385797,
          2206.7540662809847,
          8379.78323929547,
          17578.400290286234,
          66422.74446158175,
          963.2194332728658,
          4185.177645885733,
          3408.9279004736727,
          11499.534739316714,
          3708.5390882572847,
          9016.015630339503,
          1898.4077544200677,
          23016.506752009973,
          45631.1256202331,
          7395.219012997475,
          8755.085226022764,
          13513.92063424213,
          9801.12376781025,
          5335.539147963233,
          14190.835509050468,
          1263.9443551507786,
          16339.1833414044,
          907.7914608089618,
          13109.640154231876,
          3539.7285942993303,
          23896.138729883856,
          1090.7007995967142,
          32856.36668925383,
          549.1033127538411,
          2856.478606013336,
          42007.587416589515,
          3688.4982114982586,
          13053.041143265435,
          4825.193640449861,
          14316.304616157067,
          760.601127649902,
          922.3810615805354,
          14463.625875391663,
          5817.606043166835,
          1388.1283364202886,
          17130.65268010412,
          748.0492542875111,
          1161.5488079407062,
          0,
          4471.160164456843,
          23454.40043890194,
          2260.8447957422345,
          53607.55048711972,
          2205.39654409935,
          5584.529697323226,
          15187.522961854576,
          3182.9891038476653,
          4046.7005131805845,
          1172.9850598529474,
          879.6728327674946,
          9970.650263134079,
          16487.10069897419,
          3402.2608799018285,
          13693.054613765516,
          15716.322282859192,
          67.32726345284901,
          5000.096895620612,
          29435.71203525646,
          3371.3563549047794,
          14564.788109734705,
          79002.27369064253,
          77147.66238166689,
          23255.154360433204,
          3119.6277285530077,
          32785.88754715154,
          2558.540274353322,
          8471.160736532607,
          12267.248085317384,
          7604.8914849548555,
          4527.906482570298,
          1645.5574837924928,
          2177.3677150986637,
          6684.956640768638,
          5495.781984728216,
          12007.710549077876,
          10665.236596153693,
          7083.133396409545,
          4521.134280907266,
          3742.7076081678388,
          3386.088865559307,
          14714.522128471686,
          4230.334000083401,
          205.66245197802164,
          2317.368136264139,
          1768.1772421274127,
          9189.161547417669,
          17816.769304778038,
          3972.1861773871383,
          27416.312739981782,
          4841.916308989659,
          3385.895187756377,
          23556.65488251858,
          13330.323175611493,
          6167.131111151023,
          51308.76060752907,
          23261.73666112913,
          5218.797371990781,
          3271.3793432116986,
          818.4153628155684,
          1643.6103908016114,
          46495.57305344699,
          42775.87081346068,
          11872.782847485227,
          4582.900928122051,
          13549.500370317073,
          6368.318657048747,
          0,
          5693.49076048996,
          4734.186677557246,
          1349.7863461072868,
          2181.7379207861013,
          18570.074480876745,
          6573.295516587911,
          14423.241934391628,
          9064.949596047465,
          0,
          835.402821954142,
          30772.0762608381,
          5526.130091185005,
          3358.14239418509,
          33848.532685789665,
          14518.311688821013,
          4875.363602551562,
          19483.150720965572,
          4256.4748690086935,
          11883.664676681898,
          4864.606344671387,
          11524.498739177796,
          35910.66305917744,
          2768.5035866472103,
          762.5541546216699,
          24569.467568663862,
          1939.3137117669962,
          782.1416881258286,
          20373.338847182014,
          19933.31455887561,
          2685.743851450327,
          88913.22978557782,
          384.7481800363527,
          11537.29830006931,
          2603.975057716438,
          30358.094699097695,
          10236.66185329031,
          3260.140121120967,
          10159.2253782006,
          1457.5965213128413,
          1011.800089762036,
          2261.9154448849986,
          40750.88554720672,
          16261.797631915177,
          524.7980273169138,
          40807.65765345709,
          1463.0086206469027,
          3985.6160259054773,
          2009.131610964532,
          18623.532304192013,
          1462.2691575208312,
          14520.687898209526,
          3954.61389325549,
          129.96572982217853,
          2020.3186253071535,
          4806.285089463211,
          6114.24470371004,
          5282.343407819369,
          31755.113963660886,
          23883.7111901491,
          5048.397372940644,
          2719.3819717338474,
          1619.2879808785178,
          941.2049453822565,
          5059.936420208289,
          5661.850199350533,
          10606.404009693391,
          33063.43768375399,
          1242.1213799670074,
          34596.81276778796,
          5946.6671162017465,
          4898.528077646937,
          147.218376839751,
          3286.318396434705,
          5855.192433759859,
          10665.77430796702,
          4606.219737386147,
          52274.15027057045,
          32414.780025971875,
          942.5202576332462,
          960.7417962096252,
          1590.2475259539444,
          4272.318889861378,
          4697.497586179421,
          44875.389461827224,
          8209.943798124134,
          10820.418670434437,
          5957.861476105638,
          6023.638790591535,
          2687.8695063054283,
          962.4526299516923,
          3304.509321711693,
          31662.23836371374,
          4720.762198255763,
          4570.120386043289,
          5711.9564298368505,
          4772.795183032411,
          11854.945345460945,
          2543.28269068265,
          3413.942170897229,
          7857.194694858239,
          20168.646582077487,
          10796.878487812974,
          1938.6505058639407,
          46463.57860692385,
          10768.423787391814,
          27236.662066467616,
          15144.302695551627,
          34386.553420663164,
          3853.8360513181383,
          18511.54367728339,
          3132.584869812565,
          100552.1542057945,
          11741.220733366346,
          9847.544920348615,
          7261.962252805585,
          1397.8161859546296,
          5079.678751184104,
          14625.70306762924,
          7697.010216389621,
          1315.769273894278,
          3100.652892872316,
          29545.990434367977,
          22514.33254920921,
          0,
          5729.56254234199,
          3132.5687258917387,
          26298.612127961114,
          2553.862900348712,
          793.0540380275152,
          4488.776585906,
          2492.270534059757,
          4902.010094749122,
          16200.891407807667,
          20412.224130919,
          7108.379289292113,
          33300.681824196545,
          2812.726468938692,
          6853.129810045185,
          36397.23988494898,
          29068.136194437026,
          26299.802518130724,
          3932.1935922760745,
          12090.948609464858,
          3408.6845787543966,
          0,
          0,
          2440.6884507686486,
          4750.773926358549,
          5235.166925185421,
          1341.9226905446842,
          15029.614274848787,
          12610.172241954544,
          12781.44989281668,
          6604.064423286313,
          62276.58872997361,
          9942.539553720571,
          46277.713607065336,
          10675.124203270847,
          6087.348280368431,
          725.8604730463825,
          27856.372028624017,
          2298.639365443253,
          4033.8010523794273,
          10481.804983579483,
          440.993623969243,
          1554.6728570084115,
          12406.298372946989,
          53229.297832443306,
          157833.65293724195,
          1079.1187035256676,
          3759.6421729211243,
          13931.311692091389,
          2357.242679702667,
          4649.040522668494,
          50182.01389330102,
          3650.5595583922463,
          194192.04366662417,
          21966.6458180172,
          3296.228230234631,
          25034.965882769342,
          8629.221945562016,
          19258.600514109305,
          24458.673189928806,
          7079.787990223758,
          2074.0995647594573,
          41827.90865556925,
          27241.647064209606,
          94574.16283053397,
          2633.371988635852,
          6273.178975767314,
          421.02377458231734,
          4349.873775502565,
          61815.88558934586,
          8606.156173770596,
          8567.74693383485,
          230.82836788437518,
          1768.57135720076,
          9836.772645392146,
          5945.054804724472,
          3802.12587352775,
          15686.603063077626,
          1290.872798148296,
          11163.412596318285,
          40369.80669109537,
          1238.6739497144035,
          3335.170649817785,
          5287.369065688338,
          4000.2181418599084,
          6424.218121146586,
          27498.333724400756,
          26954.925767001434,
          34273.72658931558,
          27833.970970316,
          15829.204719042345,
          1749.9707684481618,
          18573.66800721578,
          51038.12208282783,
          3426.3742467112734,
          4347.474219525555,
          9434.92523965175,
          574.3387706330175,
          13229.335521331575,
          674.7492771342221,
          4510.590999587746,
          3429.6655981196986,
          23380.625990392793,
          27856.107408368072,
          5787.241124037691,
          21707.673685509522,
          129.79586534559903,
          8158.676710463998,
          4035.241932720396,
          1193.9045062145717,
          36474.720341013555,
          5628.439915209343,
          5782.639940391267,
          2961.5878778999327,
          1799.7732094425096,
          12735.180527495175,
          3338.3949183828454,
          6262.321105339357,
          11161.071510158084,
          22373.680613693254,
          107291.43013871073,
          5486.398175058015,
          187696.83756897665,
          18653.935985299897,
          55497.6582856901,
          3813.9764238581315,
          92590.82114954578,
          12388.42419295713,
          2493.7927960423344,
          4664.697657244733,
          876.0997980741175,
          3412.1869345439095,
          1484.2753132154062,
          8538.615850833872,
          7675.028161442105,
          21087.493095824764,
          44489.6976648984,
          4957.457435840644,
          11362.618929146342,
          45297.50729126383,
          2777.237682430398,
          7750.230266317134,
          1616.4548404313311,
          27273.44186254727,
          17740.452371125164,
          3042.5757489095026,
          5375.754656950385,
          738.238734591309,
          1971.988372409223,
          6534.213292664697,
          2601.7114284449335,
          7522.963428958292,
          6240.165813299444,
          2296.7380778894058,
          33597.565971690165,
          14328.013210889829,
          45403.844443905924,
          45282.88410421576,
          33375.19090681252,
          1663.3584149952076,
          16846.139208240627,
          10084.744040188583,
          11589.217203295002,
          10076.736778713783,
          2298.4609380086863,
          15650.30704474348,
          2265.135366261428,
          1971.0755110419989,
          39487.805038818755,
          9351.434626011247,
          11272.10941713827,
          926.0533822622458,
          22492.181936456644,
          2280.6798896625683,
          6127.060080418216,
          88913.20291087487,
          1641.884553883644,
          9564.148119697184,
          8256.802123747542,
          7498.418887667766,
          23836.4364589451,
          4168.895883399157,
          23626.782402345514,
          8663.357994181692,
          2149.924792480343,
          44976.577663171396,
          46321.778107026075,
          611.7559488747644,
          4252.430423176905,
          4013.880076923348,
          30483.072865872342,
          768.0085773804835,
          6768.452564832889,
          2072.965583968875,
          1869.7805024890188,
          15106.019285631364,
          8173.579079263918,
          67639.36088346863,
          109736.42727521798,
          2422.301173771781,
          7637.76257185411,
          1163.1050026160724,
          2786.742585246365,
          6029.91586339781,
          113.51712408849043,
          30131.504263180315,
          86745.31917851832,
          5944.2397060023495,
          3332.8573169490537,
          1917.8986711132795,
          89176.78099250175,
          27745.315954127258,
          7354.636639294753,
          3899.9485318548705,
          1007.0300587429549,
          4224.7685838528605,
          10540.551188741476,
          20844.70854181005,
          24673.16466193273,
          4525.44892175268,
          13929.796550848825,
          3716.951136666117,
          4740.702006977745,
          6186.942005947755,
          4973.391024344389,
          13350.515744884755,
          6917.874937016359,
          37827.20432067061,
          751.5087028930838,
          56454.829383243195,
          9444.05480066183,
          23830.508375228783,
          2948.769873830149,
          13025.076803769169,
          1118.1532494947503,
          2271.3390308580133,
          6904.255626055434,
          1212.4325275936008,
          30576.28475663932,
          55008.02844478518,
          15573.895298446874,
          2710.5393237326048,
          6164.884274719953,
          4870.417267327703,
          23050.647967854795,
          10822.937991918441,
          4338.2933909515805,
          2953.556320221166,
          1702.3028993575874,
          2175.7434359827043,
          8017.397676404016,
          7968.437698953487,
          10252.141374438746,
          22741.061437826156,
          2023.681030398159,
          264.09208164874457,
          1072.7244112518033,
          3208.238592358747,
          87954.48907308171,
          1135.231167675578,
          1887.3702076561478,
          20296.76467000758,
          2901.0194407192025,
          59682.13442554513,
          6124.901998388916,
          7167.241986918911,
          11782.240811301404,
          5722.6392091290945,
          3202.8649019459003,
          13136.411826992036,
          14123.671302230232,
          16227.669448588416,
          7093.702120580601,
          1052.0778401336897,
          212010.48859630662,
          78950.5477893639,
          30794.1295976841,
          5846.984192304084,
          3507.434067706363,
          9739.928434287203,
          17197.97737748489,
          24400.665594019894,
          3564.4187519262846,
          6683.9033903964155,
          99931.64960832156,
          2965.2509636560653,
          3830.6296871673317,
          41020.316620193254,
          1267.129497304971,
          9313.398565333302,
          12455.591606646338,
          20752.053250003624,
          3323.507068207603,
          30697.125909826053,
          43867.96357315708,
          40030.54399295664,
          17820.08505891029,
          35284.56479749911,
          18784.769731663746,
          3117.0436386304973,
          46783.28846785194,
          995.54900921072,
          6313.717727574827,
          3662.996031433367,
          24006.312656491413,
          1226.5718382733753,
          2508.6526300626574,
          18651.947375325024,
          3398.7973335483057,
          7905.444727284776,
          6692.104745533714,
          4241.621108502013,
          16385.470736302832,
          22692.162799309637,
          4418.068868395391,
          1177.0011221128736,
          11114.719637445327,
          6313.61572340076,
          27952.412360567843,
          28212.12653548918,
          12495.940119193756,
          355.89299937575737,
          8223.05856387691,
          20678.912213309424,
          5052.221204220728,
          2361.342240113911,
          16445.596016730247,
          4999.194836219254,
          2521.098292098451,
          51235.02242477352,
          7711.554758651666,
          3829.519689556467,
          3899.825431607061,
          2956.705743512388,
          18033.163054041615,
          63331.27184271006,
          6764.614929155637,
          29094.401229673913,
          59465.490757564854,
          1278.362046706223,
          2028.3276031357664,
          3012.1590355036174,
          5465.524380034723,
          2954.2973252135776,
          10576.007093959759,
          427.3083605970973,
          89419.8348548976,
          5677.565142178531,
          5100.098413150772,
          1818.3596156218996,
          1687.5815058627102,
          16674.30758593785,
          1134.4971652194458,
          2689.4500176947986,
          1132.522305450477,
          4658.31424532696,
          60698.77334182483,
          908.1138381454793,
          3063.3983818070437,
          14846.7274889643,
          1751.2041753937822,
          48491.79602075054,
          3367.646515028575,
          1222.0864211445773,
          476.0348829211395,
          1640.8282323042977,
          10333.593508103018,
          9038.863478499285,
          4611.52975992836,
          6846.72587800544,
          78640.58945364541,
          3496.5258611705194,
          16540.81323759764,
          2706.2333442332097,
          53947.026158549066,
          4599.569604357811,
          498.48802124015634,
          4417.276082728901,
          1656.6226982474711,
          4778.667009393909,
          860.7530663506558,
          6418.075788567743,
          6248.178298388934,
          61405.11584697223,
          30220.79254996969,
          1278.3073292221754,
          16521.95927079407,
          9387.778608520146,
          29903.16477175871,
          38860.506653827266,
          10168.294765792365,
          3081.429820882032,
          4258.562322627342,
          16121.204520170671,
          7255.500947079798,
          47111.906423782966,
          3832.2321271616315,
          3255.264058701149,
          15401.16176299997,
          46893.109336413574,
          4678.318775901742,
          12426.556245985765,
          2756.8736834889755,
          4343.042538552845,
          42502.77548784763,
          4368.187972055706,
          3803.4062762718745,
          6676.934533434311,
          3090.092013242874,
          3161.5403992134543,
          0,
          68225.49163880912,
          217445.8430468573,
          65700.25643603639,
          7157.759932797907,
          476.1826172048831,
          99677.83656854519,
          16864.231583211767,
          117515.04976933308,
          15213.405642771017,
          24751.342257428947,
          8977.716273137397,
          7537.430418474556,
          3076.1891664819095,
          49800.95199508532,
          4605.021305928096,
          11291.431617298671,
          23478.686505704438,
          30883.671875868113,
          3593.629969258082,
          7580.893472414689,
          8605.288831739268,
          64677.273781117954,
          188594.69067327198,
          19456.77479819096,
          5379.295448484078,
          77102.45442751562,
          13215.529573995213,
          1545.4598968451744,
          37471.01540288867,
          2906.8133609246047,
          3509.140738452375,
          10207.141391756346,
          10530.569794710387,
          2310.906042231945,
          6360.7556030041915,
          44103.43551941932,
          9569.571278441203,
          3201.397684327707,
          21095.813870353963,
          2722.2335504892085,
          15965.86656752169,
          58539.269662063554,
          11822.810383368893,
          3180.2970737064716,
          3409.7292815805354,
          35484.37823870215,
          13980.37897379504,
          2606.2432266698297,
          7626.0316950943225,
          22272.729432234428,
          21192.622770887534,
          1325.7699455380396,
          46520.169724846535,
          8461.355775145665,
          8543.717577837722,
          32976.726800709635,
          3977.2850663945787,
          33421.47281835895,
          4167.367089757677,
          1495.2385962421934,
          15231.083577119749,
          12405.92860100112,
          60646.23824224725,
          2026.17908989815,
          10604.73292861084,
          1379.1037400710957,
          19746.25315623811,
          19211.00402822772,
          6757.454673671363,
          3410.335677754836,
          5729.210084162707,
          9458.835221158308,
          7571.372699682625,
          11824.010518333149,
          69379.04557752784,
          39907.72210959366,
          21639.7665333373,
          9621.5222035501,
          1950.777799997819,
          23760.38032219676,
          4391.814058699444,
          6218.9594766701275,
          8910.554566364915,
          77037.10721677441,
          11325.930731984768,
          4914.0640232356645,
          23547.153147190576,
          25544.76304933583,
          115017.30761244753,
          3579.399755962613,
          3173.256300233105,
          851.0619309144736,
          24040.688208225103,
          34656.87916968444,
          11180.456044628121,
          2024.0356966382094,
          5627.31787350874,
          112614.34218277398,
          3377.328810198581,
          727.9515312276774,
          2825.2676423232733,
          3181.0189246007612,
          7972.0036358610005,
          24923.32945829766,
          1438.1919067706024,
          3550.918840797167,
          1375.3528100217054,
          8182.85781244837,
          1513.8540862017508,
          19653.661353091244,
          1455.0545927593564,
          882.1551228017591,
          85116.53454550929,
          4967.102136716338,
          26348.062997989346,
          3758.4305242711243,
          27857.496740001283,
          1601.2935070724923,
          14207.436130187692,
          102948.66610067409,
          7015.4452184386755,
          10436.167987788196,
          10309.45927953789,
          1896.4425356729605,
          9183.989636040877,
          4559.304499861336,
          11920.692671902496,
          1006.5664668908788,
          0,
          223967.5652418663,
          1164.1812532382326,
          24408.2919625218,
          2270.7427940166076,
          23260.484519516827,
          16350.645212819554,
          16696.404016947505,
          9700.277890650535,
          1118.5531334497296,
          3786.610956600442,
          47304.63878820305,
          1823.646360126034,
          2421.252515455394,
          21333.023738399028,
          11252.423578768094,
          14208.862381490879,
          2484.7471329529067,
          9929.93200695287,
          466.37147590368534,
          36096.80424365212,
          4000.143315902588,
          28845.890459712893,
          13597.901784973546,
          12206.834433589784,
          2076.384253153514,
          4684.94501183649,
          5253.857553462601,
          2188.172445829117,
          0,
          467.0122857875722,
          2931.5446673135143,
          12187.515468790942,
          24855.18821585052,
          15626.462498411438,
          5643.970780812374,
          42744.15644855983,
          4735.2043345121065,
          4790.447389777697,
          2234.775081907155,
          26624.25975531881,
          64811.695463264965,
          23883.875884973007,
          18264.14433285813,
          13087.191237876681,
          18597.003899752202,
          12566.297535123673,
          4097.866439987811,
          53060.915511747975,
          33921.20613081637,
          9370.362904298328,
          1700.504296987114,
          4934.755070241332,
          3570.929173109031,
          2818.7516355580124,
          57979.87228441942,
          3532.826183036599,
          4606.857004445136,
          26275.006803402353,
          26206.372968050924,
          2904.251534285211,
          4990.204608213567,
          687.4153117279524,
          4682.683873174801,
          5156.861370508288,
          202.5491018920138,
          57849.003829225,
          18928.296187880736,
          6285.8064508894,
          6104.365051489379,
          3005.846001469078,
          4910.526029395749,
          6474.02014507355,
          32577.32139431153,
          13578.434516812114,
          6430.677801916077,
          28772.59282016242,
          1149.2176948932786,
          6926.710473868729,
          8773.587296251062,
          1055.0472267051935,
          3267.5779861740207,
          18717.90245503968,
          39822.44239052012,
          18396.51447206743,
          3813.0914708486175,
          17425.32938564186,
          150.63804725652503,
          3559.8909944655547,
          22231.09995350268,
          8012.257296690763,
          2737.9445062938316,
          17612.829019052,
          10239.76896882467,
          8352.617063466616,
          4112.24384688221,
          26417.788866383245,
          5452.499968947945,
          71561.23959969345,
          12273.426185432347,
          409.705377178649,
          4346.126344995756,
          16090.603619220929,
          37209.869489264755,
          2572.994571092633,
          77675.74823102445,
          1218.4467873876913,
          3984.8335665764607,
          25176.26529704606,
          11964.53695934751,
          25634.114728435932,
          25520.31301321838,
          546.4868122273136,
          1735.1407099553353,
          1333.4601878946733,
          38051.24754915424,
          17931.215614461773,
          2131.7121795699795,
          14308.196786542889,
          11685.704992579787,
          4453.519119343709,
          44346.971969668986,
          25051.412639033497,
          10336.88952660868,
          8191.858380715075,
          17820.59952398496,
          4488.650460882828,
          8644.881582114682,
          32380.573692978196,
          96854.18865213395,
          11060.521811391653,
          2855.8873140657865,
          547.5517066656829,
          21111.666076013702,
          1916.5752501095951,
          1562.6904600583994,
          25006.572464363144,
          7158.572402166586,
          1030.2874707040326,
          15875.467995543846,
          20052.640532536327,
          19797.57444348424,
          4445.68188300829,
          5716.134898542607,
          2286.7846928167646,
          31241.234863944523,
          1518.4803910640376,
          87708.69112851868,
          1210.1832297113374,
          3202.558208740128,
          1004.2821937824162,
          22208.425099348868,
          21196.521220078565,
          18708.43341913326,
          5160.539777943836,
          4027.432008612787,
          64504.98639690297,
          2504.712513502323,
          18540.019361068647,
          32397.31155549868,
          20924.284997464387,
          5536.481065130954,
          1453.7667289334206,
          8906.848465320403,
          58100.25044142192,
          310.62093093928866,
          2243.644993713466,
          6888.1320165741345,
          11141.623569567491,
          75880.68971638056,
          981.0563640405297,
          1132.0488857166497,
          107573.69873279992,
          689.8831622851932,
          16441.001335901838,
          27388.801370424535,
          1109.411477103063,
          3951.34368026783,
          1131.4512960377858,
          5207.846297564411,
          1909.1557406773063,
          15538.073271118174,
          5669.167395321701,
          8860.478273991075,
          7196.875421339047,
          20859.39562480507,
          5930.91152805487,
          37212.457756576405,
          6432.338718881325,
          2418.168708596434,
          53330.215187856076,
          20730.528868693727,
          8278.271455824737,
          1025.1782397459579,
          4366.141713233311,
          15021.880324712327,
          4751.8446957109245,
          388.4510303373689,
          19267.989256737415,
          16007.84166959102,
          6901.941148399731,
          8589.940344162495,
          24247.97827842659,
          2144.8516603214935,
          18350.241370689513,
          1503.0659419928943,
          2816.9143210193834,
          33356.08851192691,
          3408.4224862453625,
          9514.493803095469,
          4131.340588435589,
          17149.888019695038,
          19033.659276149912,
          71959.19031799394,
          225.23189718529858,
          6882.948329182111,
          2616.453674369478,
          3778.2694384000224,
          8727.700607235345,
          24100.231061520815,
          6439.007144641733,
          5924.210987351494,
          18669.39160178513,
          7700.996885111187,
          18977.49816442644,
          3614.616704124404,
          23114.983851966153,
          5470.782420773666,
          1918.5928224292059,
          65477.7980432933,
          13746.669850737539,
          31199.858914818815,
          15197.419782848487,
          3263.819887171517,
          11303.86548430424,
          16096.189867500481,
          5881.146086353493,
          1767.4748034073282,
          2830.108136857339,
          13147.347221194268,
          20987.209837498747,
          11570.081307500162,
          684.5339898336546,
          8058.702447143923,
          12833.7686155602,
          629.2853896578082,
          3980.1855036373972,
          4293.28864313764,
          103749.03944342161,
          8012.89453143129,
          11687.073825280282,
          611.4937375706431,
          5863.164642969248,
          3151.6418298315803,
          13635.621300818426,
          18079.498620139282,
          13091.29259472911,
          3149.782736106171,
          8283.103070698602,
          13795.756820945646,
          43879.07540838888,
          5913.925462736227,
          13457.026293246925,
          3858.4408979007358,
          8106.842129193829,
          1848.6235886538332,
          4698.343733777062,
          8532.63990002386,
          1029.5828971180856,
          27597.310324486592,
          4273.864525475516,
          17802.631266327415,
          56241.09714205657,
          74479.8602092355,
          3277.558698930452,
          27790.963069204387,
          5008.598556463959,
          3999.282573476356,
          351.0380682631221,
          40599.27235702883,
          4196.661295942567,
          400.16102059073063,
          9896.827171053941,
          22505.768536475276,
          26680.188775664898,
          9201.682529623611,
          3653.7295405721657,
          8218.585652434893,
          10745.095820214327,
          26266.349621745743,
          263.89995995857214,
          13813.940934407185,
          228692.23727586906,
          3320.622685352113,
          32189.096012640504,
          5789.657435389054,
          4137.626970855688,
          27063.72582163609,
          3490.957749545593,
          5982.518146317358,
          65511.98807115514,
          21223.240700087612,
          3172.1739437131946,
          3863.4177943518225,
          18006.217961326827,
          1900.748578288333,
          9489.33989683077,
          13836.452921612297,
          6986.081225464159,
          16375.033094446544,
          110.1210020802233
         ],
         "xaxis": "x",
         "y": [
          6899.460119924941,
          327.6030042625498,
          -1056.2530012285679,
          1681.7682341217924,
          1373.595053449676,
          -2164.313406707355,
          2233.983163367635,
          560.4424220272149,
          559.8459143593373,
          -12246.384540867268,
          -1161.519552795236,
          726.3645250693344,
          145.3734732562616,
          1294.664459468734,
          -146.7318747973809,
          984.5848386581861,
          -318.5129083581462,
          1161.9228229350892,
          1092.847576045147,
          1242.389775861725,
          750.1610642059477,
          -11660.30102387983,
          4358.132800996322,
          -5903.3724332128895,
          8247.780104323443,
          -5212.967224527854,
          2132.25943395695,
          -227.9315536596962,
          5500.572791447887,
          -2168.0621527335798,
          -1228.4002885902787,
          -1516.4063803725376,
          -20934.827607652394,
          2558.4880965222656,
          -2.916416987231514,
          1389.424919860704,
          87.50055622135824,
          -13255.145208937596,
          -5495.677095199917,
          637.0294194634891,
          -694.8820797554472,
          4359.106410777682,
          -1920.146813155106,
          897.929800656211,
          438.49804641903347,
          -1252.2306501729017,
          3854.357375368685,
          2860.918716995857,
          -371.79281133254517,
          2026.0327194091078,
          2752.5495207733975,
          -4157.708265928108,
          -3088.790000177086,
          2131.0240364818947,
          -4418.088495306292,
          117.42348679607721,
          -593.6570829415141,
          -41727.48444865015,
          2690.4317588120775,
          -27815.892683732338,
          -2170.969247924013,
          -5854.014256764927,
          -1014.5753137335341,
          406.45490683550315,
          -1756.7473237445301,
          -9624.02044518158,
          -389.4595948791971,
          626.7720087620555,
          -9660.21591678461,
          -140.09930897188224,
          24.619434593447295,
          -1743.3307440338376,
          1214.33682934857,
          912.1841086920244,
          184.86132909227308,
          -925.696363513661,
          727.8213501437604,
          -1240.0188781801712,
          4.406683123123457,
          1587.854755152678,
          -258.4815594752373,
          -1112.557842690626,
          725.820638961364,
          3823.4055339427578,
          230.63437297476275,
          598.2111257562901,
          672.2741092935698,
          -310.27694573814733,
          -974.4011525231497,
          1827.8496060108791,
          32983.50634528883,
          1582.166169408718,
          -700,
          -8687.777296591885,
          3904.9423247853138,
          2724.5608624992046,
          154.13161607712846,
          950.9839256497789,
          -2243.154145580833,
          1248.706171226071,
          926.5780434745443,
          250.75457645453207,
          -133.057230559044,
          -597.7004170292439,
          776.3141610299808,
          711.0813681555351,
          -2760.3255872274403,
          1146.5418038932426,
          1397.396207649761,
          -1312.579500372044,
          8677.897871789988,
          2941.1789878120235,
          389.0820979531586,
          -425.20135096619197,
          107.15211460311275,
          903.0388416296946,
          -244.69860218412373,
          2178.8101681479184,
          878.028156365749,
          -6620.015779750713,
          -2623.3057922117973,
          46.960805649463964,
          -2543.790569583798,
          -2669.388866418307,
          197.0902016855125,
          -783.3039382067727,
          -4625.1018348519065,
          3632.751758962422,
          -64.94006162982646,
          1099.0078770161285,
          1382.959806959041,
          287.8722416418623,
          661.3008202245996,
          1206.85491832649,
          -2014.838789149584,
          5976.473738825378,
          -2285.121727485315,
          -918.4810336184328,
          8311.865033927977,
          392.17697804669615,
          -2473.683451818353,
          -2498.953646208958,
          -500,
          -1323.5838215578383,
          1017.7219157168652,
          -1600.9143873475787,
          26722.759528315488,
          -2546.31687659051,
          -2643.070352362847,
          -8710.612913541596,
          18160.832276034635,
          -420.6942217929918,
          6293.91720642264,
          40.25311468546556,
          9180.138020273298,
          14275.17224582524,
          925.0564928611311,
          -1275.9425284461822,
          -417.9002059101108,
          8933.483918189602,
          -8893.798706659854,
          1293.6626795099205,
          -20552.093675732045,
          38.92921343872149,
          1474.3620594533932,
          -87.94543111468761,
          973.7621339035086,
          252.95440344464623,
          -467.47939323219043,
          1652.8097004944484,
          -20262.521599812208,
          -3520.531103407382,
          2513.45916813023,
          33094.59214401408,
          188.54790544691105,
          -276.37888360602847,
          -2477.243777294604,
          2272.6679347562376,
          -19.389058989367186,
          -725.3549841802651,
          5206.557376277471,
          -29.264293326068355,
          14851.876548974265,
          -1769.8853322996529,
          991.9879036411712,
          -1071.2193647867407,
          -49639.65086803486,
          73.9794195067559,
          -137.26724442142176,
          5722.674697166225,
          1680.9629425662024,
          789.5747857404303,
          -16435.21472146743,
          286.8737618798291,
          2388.940579835704,
          2527.8666430843623,
          7411.867130700251,
          27.573202348123118,
          334.7426074797968,
          14165.008780646313,
          -926.8607966057843,
          2059.2309137756383,
          3595.437411979393,
          3980.3725855017037,
          -4681.110529158642,
          -222.76979195442073,
          4883.916900287886,
          2664.972063343518,
          3986.5485069223832,
          731.6154812938648,
          -40827.059006878,
          -7827.459647790951,
          191.37747609916096,
          195.5916190298467,
          870.7481911101404,
          -693.8397619148554,
          896.3181085870601,
          -66.774866433645,
          -168.12678018148915,
          1187.3599062640978,
          796.3409400740893,
          -1336.7596553788499,
          1155.1546670096905,
          209.70542874947205,
          -300.20907641710255,
          -669.0255593710938,
          -993.0259592455914,
          -95.54524533518725,
          -1180.9996164523118,
          -101.82846991951737,
          -101.15783640526115,
          857.8938863056901,
          119.41016466273993,
          7186.413427492051,
          23863.899731114332,
          -1692.8135863744337,
          -89.49955391370531,
          -2583.2777327507365,
          -302.39711992046705,
          3018.3135659251348,
          -198.63858562577934,
          -290.7297748299957,
          867.1810218120524,
          194.317453640258,
          3688.1549672221518,
          100.7993276575462,
          -5966.859212414187,
          2748.2854029780265,
          202.6585382992082,
          464.9344596255985,
          -4017.825691290711,
          -362.69776968682436,
          14906.164235255375,
          2702.8942165923763,
          -315.17904667908215,
          3973.0719798370556,
          713.1974501349323,
          853.31901808047,
          1108.0357628726651,
          -2785.2681398175628,
          -2070.498458111858,
          1028.0118342104224,
          -1449.7178045206365,
          1482.5297619957214,
          4777.0268931434775,
          3680.698885282989,
          289.88325693363913,
          -2980.2565179620215,
          1783.348750879381,
          1736.7347636521608,
          2369.5671702809586,
          1795.886841130271,
          -148.33442615270133,
          3474.471751177236,
          3355.7592433251993,
          -9473.443342488565,
          2094.747531099092,
          -5544.7711268918065,
          -2781.144847790016,
          -104.0659345695966,
          522.8775925205725,
          8130.978635349427,
          2290.4453319053355,
          1123.3423556431326,
          -2261.7976123876815,
          6929.464652526192,
          -5644.590585433466,
          1426.8349153182444,
          -363.06191074548053,
          129.87277445402196,
          -908.6642209357551,
          -8284.704988012527,
          -610.2786318894448,
          7602.765958964912,
          -1090.9476761599813,
          -1187.3143192258904,
          -1382.1969652272683,
          -1940.373909402384,
          -871.9811881553687,
          2634.8214207387846,
          1411.2068596381941,
          1181.2562344659004,
          1967.7311151654794,
          1725.0330599143417,
          -3494.410866048963,
          -2853.2018178938233,
          -1765.4323810832448,
          -231.75546309621222,
          9313.925186732304,
          -1580.7514719190367,
          -457.14533816916975,
          -1677.0719378298718,
          3645.8194246946914,
          -436.5562732994533,
          -173.4720048000662,
          -3672.840028870736,
          -9050.567938700184,
          5984.648207182374,
          601.2163588395197,
          11867.8864993405,
          -1656.6430501803807,
          1643.6792976598545,
          -14767.551333576703,
          -18445.89280984408,
          668.745858769877,
          15.727816819821783,
          1332.912589449218,
          1244.1117408690097,
          847.330791156307,
          6279.713231012716,
          -152.83236922529784,
          -592.4402037559503,
          2409.5273514898854,
          900.2542905164576,
          -14960.505156324038,
          187.82096963701952,
          -290.5550584673724,
          8993.192663952892,
          -66665.81930630529,
          -578.1930756557999,
          5449.993726980225,
          324.49944371816116,
          -500,
          3064.219902462057,
          460.88293419460024,
          -594.8168702814373,
          161.59062045833548,
          -746.5151508697218,
          3200.9858792783125,
          113.16414554942548,
          -3322.329773250811,
          829.9666615559981,
          -54140.23652974845,
          679.2704248726343,
          13977.79907394635,
          4936.545274172721,
          1617.4516315424053,
          555.6697725106833,
          -6475.6146995732925,
          -322.3355808965953,
          -4360.725686560974,
          356.89765208676,
          818.8900921302711,
          -11538.407154267861,
          3790.7339043576685,
          -689.0596094678767,
          72.26532574714793,
          47.48776014659052,
          3113.390373176664,
          -7740.860463902696,
          1901.0672271968142,
          426.38297124024575,
          -137.02373639505277,
          1991.2463334014028,
          5284.223451342816,
          -764.5635083454781,
          -1215.877833550031,
          62.930558284845574,
          2007.3585748737132,
          -2638.0030742061863,
          2906.0977684776444,
          1394.2768301369283,
          -1051.54677162818,
          948.1647589495842,
          1545.4048458468405,
          12639.188454189985,
          670.2604056226319,
          -5309.859816104545,
          -25.367874172506617,
          -477.64913924165694,
          1550.454087983504,
          1768.8764917652989,
          483.13187169978573,
          11204.261363385827,
          8192.533494501811,
          430.1441298077309,
          178.09973375710774,
          12109.698870369037,
          1381.1875083435275,
          -323.377967381557,
          -2091.9073825960186,
          -9533.130381542316,
          -4082.9835647402815,
          -503.99117943867327,
          -1382.7502489326625,
          1087.9795736321494,
          830.2154966354292,
          2366.8121424361543,
          -6235.423706668939,
          3332.033702517191,
          6476.833633403236,
          754.9346936692464,
          4602.769581746972,
          1727.04998683541,
          689.409830568593,
          -833.5933794058851,
          -2700.2266188631274,
          -4699.142959003997,
          -31231.096088673235,
          2285.9129249511006,
          719.5501662706181,
          1232.7231173296386,
          2205.41541651622,
          -84.50688270759599,
          -1009.6380146234017,
          1735.916564229673,
          1824.3146641353633,
          348.0848006564647,
          1169.8616048345166,
          870.2079527582414,
          193.36210384540504,
          -47.91926367612086,
          -1023.5891046701308,
          -1730.108477959453,
          -3452.1156544001315,
          327.24799828701816,
          969.169463445498,
          291.9520774265675,
          484.6546363422972,
          82.78994116929607,
          -5042.793173417233,
          3532.6534353224088,
          -6702.668322661253,
          827.3275163662302,
          -167.09458288863368,
          2025.913058288057,
          10359.393228462395,
          5307.029767044449,
          -2021.9317854224137,
          -394.76819849258413,
          93.42089622590038,
          20.949443546370276,
          1445.2166635708818,
          711.5050203702481,
          -702.0137727150541,
          8177.137618782654,
          558.8628650786995,
          1431.398027803456,
          -5104.165537420777,
          -76.01742682903603,
          3747.307461960587,
          2374.5198970521014,
          895.8147588555662,
          693.3617357227049,
          -2758.0798731251616,
          1754.8895848289767,
          -182.589860777054,
          5475.466927328434,
          -3357.1007192646885,
          801.1852015155691,
          9653.095016868576,
          339.2227558507773,
          -1598.7137304531916,
          574.3670458048232,
          1523.5222702361561,
          1865.3857211085624,
          2005.2131002324168,
          -27911.110577352258,
          2679.9822633044078,
          -538.4777229748161,
          -1605.2665746515665,
          472.6034440385797,
          1206.7540662809847,
          379.7832392954697,
          3578.400290286234,
          -23577.25553841825,
          -36.780566727134214,
          1185.177645885733,
          408.9279004736727,
          2499.534739316714,
          708.5390882572847,
          3016.0156303395033,
          -101.5922455799323,
          7016.506752009973,
          -5368.874379766901,
          -604.7809870025249,
          2755.085226022764,
          513.9206342421294,
          5801.12376781025,
          -664.4608520367674,
          2190.8355090504683,
          513.9443551507786,
          11339.1833414044,
          107.7914608089618,
          -2890.3598457681237,
          539.7285942993303,
          -2103.8612701161437,
          90.7007995967142,
          1856.3666892538313,
          -1450.8966872461588,
          -8143.521393986664,
          -10992.412583410485,
          1688.4982114982586,
          1053.0411432654346,
          -15174.806359550139,
          -6683.695383842933,
          -239.39887235009803,
          422.3810615805354,
          3463.6258753916627,
          2817.6060431668348,
          -1611.8716635797114,
          6130.652680104118,
          -251.95074571248892,
          161.54880794070618,
          -500,
          471.1601644568427,
          1454.4004389019392,
          260.8447957422345,
          13607.550487119719,
          205.3965440993502,
          1584.5296973232262,
          -2812.4770381454236,
          -1817.0108961523347,
          -953.2994868194155,
          172.98505985294742,
          379.6728327674946,
          2970.650263134079,
          -6512.899301025809,
          1402.2608799018285,
          6693.0546137655165,
          -1283.6777171408085,
          -432.672736547151,
          -1999.9031043793884,
          4435.71203525646,
          1371.3563549047794,
          3564.7881097347054,
          -25997.726309357473,
          -17852.337618333113,
          1255.1543604332037,
          119.62772855300773,
          7785.887547151542,
          1558.5402743533218,
          -528.8392634673928,
          -2732.751914682616,
          -395.1085150451445,
          -472.09351742970193,
          -354.4425162075072,
          177.36771509866367,
          1684.956640768638,
          -504.21801527178377,
          1007.7105490778758,
          -6334.7634038463075,
          6583.133396409545,
          521.1342809072657,
          -3257.2923918321612,
          -613.9111344406929,
          2714.5221284716863,
          1230.3340000834014,
          -294.33754802197836,
          317.36813626413914,
          -231.82275787258732,
          1189.1615474176688,
          -183.23069522196238,
          -1027.8138226128617,
          -5583.687260018218,
          841.9163089896592,
          1385.8951877563768,
          10556.654882518578,
          -669.6768243885072,
          -1832.868888848977,
          8308.760607529068,
          8261.736661129129,
          1218.7973719907814,
          1271.3793432116986,
          -1181.5846371844316,
          -356.3896091983886,
          -21504.42694655301,
          7775.870813460679,
          5872.782847485227,
          582.9009281220506,
          -450.49962968292675,
          368.3186570487469,
          -550,
          -1306.50923951004,
          -265.8133224427538,
          349.7863461072868,
          -1818.2620792138987,
          570.0744808767449,
          -8426.70448341209,
          1423.241934391628,
          5064.949596047465,
          -500,
          335.40282195414204,
          9772.076260838101,
          526.1300911850049,
          1358.1423941850899,
          1848.5326857896653,
          518.3116888210134,
          875.3636025515616,
          1483.150720965572,
          1256.4748690086935,
          1883.6646766818976,
          -2135.393655328613,
          -475.50126082220413,
          -1089.3369408225626,
          -2231.4964133527897,
          -237.4458453783301,
          -1430.532431336138,
          939.3137117669962,
          -217.85831187417136,
          -1626.6611528179856,
          -2066.685441124391,
          -2314.256148549673,
          -21086.770214422184,
          -215.25181996364728,
          537.2983000693093,
          -396.0249422835618,
          358.0946990976954,
          3236.6618532903103,
          260.1401211209668,
          3159.225378200599,
          457.59652131284133,
          11.80008976203601,
          261.9154448849986,
          3750.8855472067225,
          4261.797631915177,
          24.798027316913817,
          -2192.3423465429078,
          513.0086206469027,
          -14.383974094522728,
          -990.868389035468,
          623.5323041920128,
          462.2691575208312,
          -479.3121017904741,
          -45.386106744510016,
          -420.03427017782144,
          1020.3186253071535,
          -1193.714910536789,
          -3885.75529628996,
          -717.6565921806314,
          -5244.886036339114,
          1883.7111901491007,
          3048.3973729406443,
          719.3819717338474,
          -380.7120191214822,
          241.20494538225648,
          -940.0635797917112,
          2661.8501993505333,
          -393.59599030660866,
          -4936.562316246011,
          -757.8786200329926,
          1596.8127677879602,
          -53.33288379825353,
          898.5280776469372,
          -352.781623160249,
          -1713.681603565295,
          -2144.8075662401407,
          -2334.22569203298,
          -1393.7802626138528,
          16274.150270570448,
          -1585.2199740281249,
          -57.47974236675384,
          310.74179620962525,
          -409.75247404605557,
          272.318889861378,
          1697.497586179421,
          -6124.610538172776,
          1209.9437981241335,
          3820.4186704344374,
          1957.8614761056378,
          2023.6387905915353,
          687.8695063054283,
          262.4526299516923,
          1304.5093217116928,
          -5337.761636286261,
          1720.762198255763,
          -429.8796139567112,
          -1288.0435701631495,
          -1227.204816967589,
          5854.945345460945,
          543.2826906826499,
          413.94217089722906,
          1857.194694858239,
          -8831.353417922513,
          -10203.121512187026,
          -61.34949413605932,
          -4536.421393076147,
          2768.4237873918137,
          1236.6620664676157,
          -3855.697304448373,
          -11613.446579336836,
          -9146.163948681862,
          -488.4563227166109,
          1132.584869812565,
          15552.154205794504,
          2741.2207333663464,
          3847.544920348615,
          -1738.0377471944148,
          -602.1838140453704,
          -920.3212488158961,
          -1374.2969323707603,
          -3302.989783610379,
          -684.2307261057219,
          -899.347107127684,
          6545.990434367977,
          514.3325492092117,
          -500,
          729.5625423419897,
          1132.5687258917387,
          3298.6121279611143,
          553.8629003487122,
          -206.94596197248484,
          1488.776585906,
          492.2705340597572,
          1902.010094749122,
          -5799.108592192333,
          1412.2241309189994,
          -891.6207107078872,
          13300.681824196545,
          812.726468938692,
          853.129810045185,
          -2602.7601150510236,
          6068.136194437026,
          -1700.197481869276,
          932.1935922760745,
          2090.9486094648582,
          1408.6845787543966,
          -500,
          -500,
          -4559.311549231352,
          750.773926358549,
          2235.166925185421,
          491.9226905446842,
          2029.6142748487873,
          3610.172241954544,
          -218.5501071833205,
          1604.0644232863133,
          13276.588729973613,
          6942.539553720571,
          7277.713607065336,
          2675.124203270847,
          -3912.651719631569,
          -24.13952695361752,
          6856.372028624017,
          298.63936544325315,
          33.80105237942735,
          481.8049835794827,
          -459.006376030757,
          554.6728570084115,
          2406.298372946989,
          -2770.702167556694,
          -12166.347062758054,
          429.11870352566757,
          -1240.3578270788757,
          3931.311692091389,
          357.2426797026669,
          -2350.9594773315057,
          2182.0138933010167,
          650.5595583922463,
          -15807.956333375827,
          5966.645818017201,
          -703.7717697653688,
          -13965.034117230658,
          629.2219455620161,
          -2741.3994858906954,
          -5541.326810071194,
          -3920.2120097762418,
          1474.0995647594573,
          7827.908655569248,
          -15758.352935790394,
          23574.16283053397,
          -1366.6280113641478,
          1273.1789757673141,
          -428.97622541768266,
          2349.873775502565,
          -3184.1144106541396,
          4606.156173770596,
          -432.2530661651508,
          -269.1716321156248,
          1268.57135720076,
          836.7726453921459,
          -54.94519527552802,
          -1197.8741264722498,
          -313.39693692237415,
          290.87279814829594,
          2163.412596318285,
          -10630.193308904629,
          -761.3260502855965,
          -664.829350182215,
          4287.369065688338,
          -999.7818581400916,
          -1575.7818788534141,
          498.3337244007562,
          19954.925767001434,
          9273.726589315578,
          4833.970970316001,
          -170.79528095765454,
          999.9707684481618,
          6573.66800721578,
          -3961.877917172169,
          426.3742467112734,
          347.4742195255549,
          434.9252396517495,
          74.33877063301748,
          10229.335521331575,
          -325.2507228657779,
          2510.5909995877464,
          429.66559811969864,
          -10619.374009607207,
          1856.1074083680724,
          787.2411240376914,
          -1292.3263144904777,
          -370.20413465440095,
          3158.6767104639976,
          2035.241932720396,
          -806.0954937854283,
          474.7203410135553,
          628.4399152093429,
          -217.36005960873263,
          961.5878778999327,
          799.7732094425096,
          -2264.819472504825,
          338.3949183828454,
          4262.321105339357,
          -7838.9284898419155,
          -626.3193863067463,
          -57708.569861289274,
          -4513.601824941985,
          -12303.162431023346,
          -16346.064014700103,
          -4502.3417143098995,
          -186.0235761418685,
          -42409.17885045422,
          3388.424192957131,
          -506.20720395766557,
          -335.3023427552671,
          226.09979807411753,
          -587.8130654560905,
          -515.7246867845938,
          538.6158508338722,
          1675.0281614421046,
          3087.493095824764,
          8489.697664898398,
          -1042.5425641593556,
          -7637.3810708536585,
          7297.507291263828,
          -222.76231756960215,
          -7249.769733682866,
          616.4548404313311,
          -2726.5581374527283,
          1740.452371125164,
          42.575748909502636,
          -2624.2453430496153,
          238.23873459130903,
          -28.011627590776925,
          -465.7867073353027,
          601.7114284449335,
          -477.03657104170816,
          2240.1658132994444,
          296.73807788940576,
          4597.565971690165,
          -5671.986789110171,
          -596.155556094076,
          -8717.115895784242,
          -2624.809093187483,
          663.3584149952076,
          2846.1392082406273,
          -5915.255959811417,
          589.217203295002,
          2076.7367787137828,
          -701.5390619913137,
          1650.3070447434802,
          265.13536626142786,
          -2028.9244889580011,
          4487.805038818755,
          -648.565373988753,
          3272.10941713827,
          426.0533822622458,
          7492.181936456644,
          280.67988966256826,
          -872.9399195817841,
          4913.202910874868,
          641.884553883644,
          -2435.8518803028164,
          -743.1978762524577,
          498.4188876677663,
          836.4364589450997,
          -3831.1041166008426,
          -3373.217597654486,
          -9336.642005818308,
          149.92479248034306,
          -1023.4223368286039,
          2321.7781070260753,
          -238.24405112523561,
          252.4304231769047,
          -1986.119923076652,
          5483.072865872342,
          -1231.9914226195165,
          -231.54743516711096,
          1072.9655839688749,
          869.7805024890188,
          4106.019285631364,
          173.57907926391817,
          -3360.639116531369,
          -10263.572724782018,
          -577.6988262282189,
          4637.76257185411,
          163.1050026160724,
          -2213.257414753635,
          4029.9158633978104,
          -386.48287591150955,
          -868.4957368196847,
          745.3191785183153,
          -6055.7602939976505,
          1332.8573169490537,
          917.8986711132795,
          11176.78099250175,
          5745.315954127258,
          -2645.363360705247,
          -6100.05146814513,
          -3992.9699412570453,
          1224.7685838528605,
          540.5511887414759,
          844.7085418100505,
          4673.164661932729,
          -474.5510782473202,
          3929.796550848825,
          1716.9511366661168,
          -2259.2979930222546,
          -2813.057994052245,
          973.3910243443888,
          -2649.484255115245,
          2917.8749370163587,
          827.2043206706076,
          -248.49129710691625,
          23454.829383243195,
          -555.9451993381699,
          -3169.491624771217,
          -51.23012616985079,
          -2974.9231962308313,
          -881.8467505052497,
          1271.3390308580133,
          -95.74437394456618,
          -1787.5674724063992,
          -1423.7152433606789,
          -1991.971555214819,
          -1426.1047015531258,
          -289.46067626739523,
          2164.8842747199533,
          -129.58273267229742,
          -949.3520321452052,
          -177.06200808155882,
          -5661.7066090484195,
          -46.44367977883394,
          702.3028993575874,
          1175.7434359827043,
          -3982.6023235959838,
          -1031.5623010465133,
          -3747.8586255612536,
          741.0614378261562,
          1173.681030398159,
          -485.90791835125543,
          -4927.275588748196,
          -791.7614076412528,
          -27045.510926918287,
          135.23116767557804,
          887.3702076561478,
          1296.7646700075784,
          901.0194407192025,
          21682.134425545133,
          1124.9019983889157,
          -2832.7580130810893,
          2782.2408113014044,
          -3277.3607908709055,
          2202.8649019459003,
          1136.4118269920364,
          1123.671302230232,
          227.66944858841634,
          1093.7021205806013,
          -947.9221598663103,
          -7989.511403693381,
          5950.547789363904,
          -5205.870402315901,
          -153.015807695916,
          507.43406770636284,
          6739.928434287203,
          -1802.022622515109,
          4400.665594019894,
          564.4187519262846,
          -316.0966096035845,
          -30068.35039167844,
          965.2509636560653,
          830.6296871673317,
          -2979.6833798067455,
          467.129497304971,
          2313.398565333302,
          -2544.408393353662,
          -247.94674999637573,
          1323.507068207603,
          1697.1259098260525,
          10867.963573157082,
          30.543992956641887,
          820.0850589102884,
          4284.564797499108,
          3784.769731663746,
          -3882.9563613695027,
          12783.28846785194,
          95.54900921071999,
          2313.717727574827,
          1662.996031433367,
          -2993.687343508587,
          226.5718382733753,
          508.6526300626574,
          -348.05262467497596,
          -601.2026664516943,
          -5094.555272715224,
          -307.89525446628613,
          241.62110850201316,
          -3614.529263697168,
          692.1627993096372,
          -581.9311316046087,
          -822.9988778871264,
          114.71963744532695,
          -13686.384276599241,
          3952.4123605678433,
          -787.8734645108198,
          -2504.059880806244,
          -144.10700062424263,
          1223.0585638769098,
          -16321.087786690576,
          2052.2212042207284,
          1361.342240113911,
          3445.5960167302474,
          999.1948362192543,
          521.0982920984511,
          7235.022424773517,
          -5288.445241348334,
          -1170.4803104435332,
          1899.825431607061,
          -1043.294256487612,
          33.163054041615396,
          -4668.728157289937,
          -235.38507084436333,
          94.4012296739129,
          3465.490757564854,
          -721.637953293777,
          1078.3276031357664,
          1012.1590355036174,
          -1534.4756199652766,
          -1045.7026747864224,
          4576.007093959759,
          -572.6916394029026,
          36419.83485489761,
          2677.5651421785306,
          -899.9015868492279,
          -181.6403843781004,
          687.5815058627102,
          -32325.69241406215,
          134.49716521944583,
          689.4500176947986,
          -867.477694549523,
          1658.3142453269602,
          11698.773341824832,
          -1091.8861618545207,
          63.398381807043734,
          2846.7274889642995,
          -248.79582460621782,
          -9508.203979249462,
          1367.6465150285749,
          472.08642114457734,
          -423.9651170788605,
          640.8282323042977,
          -4666.406491896982,
          2038.8634784992846,
          1611.5297599283604,
          2846.72587800544,
          -21359.410546354586,
          1496.5258611705194,
          -1459.1867624023616,
          -293.76665576679034,
          6947.026158549066,
          599.5696043578109,
          -1.5119787598436574,
          -12582.723917271098,
          -343.37730175252887,
          -1221.3329906060908,
          -139.24693364934421,
          -1581.924211432257,
          248.1782983889343,
          -6594.884153027771,
          -2779.2074500303097,
          278.30732922217544,
          1521.9592707940683,
          -2612.221391479854,
          -3096.835228241289,
          -5139.493346172734,
          -7831.705234207635,
          1081.429820882032,
          -741.4376773726581,
          7121.2045201706715,
          255.5009470797977,
          -13888.093576217034,
          832.2321271616315,
          255.26405870114922,
          -1598.8382370000309,
          8893.109336413574,
          -1321.681224098258,
          -9573.443754014235,
          756.8736834889755,
          343.04253855284514,
          7502.7754878476335,
          -3631.8120279442937,
          803.4062762718745,
          -323.06546656568935,
          90.09201324287415,
          161.5403992134543,
          -500,
          8225.491638809122,
          -12554.156953142694,
          12700.25643603639,
          1157.759932797907,
          -23.817382795116885,
          -40322.163431454814,
          5864.231583211767,
          -32484.950230666916,
          6213.405642771017,
          7751.342257428947,
          977.7162731373974,
          1537.430418474556,
          2076.1891664819095,
          4800.951995085321,
          1605.021305928096,
          -7708.568382701329,
          -7521.313494295562,
          -1116.3281241318873,
          1593.629969258082,
          2580.8934724146893,
          1605.288831739268,
          16677.273781117954,
          88594.69067327198,
          3456.7747981909597,
          2379.2954484840784,
          -897.5455724843778,
          -784.4704260047874,
          545.4598968451744,
          -13528.984597111332,
          906.8133609246047,
          509.140738452375,
          -2792.858608243654,
          4530.569794710387,
          1310.9060422319449,
          360.75560300419147,
          11103.43551941932,
          2569.5712784412026,
          201.39768432770688,
          -904.1861296460374,
          722.2335504892085,
          2965.8665675216907,
          12539.269662063554,
          1822.8103833688929,
          180.29707370647156,
          -590.2707184194646,
          -2515.6217612978508,
          -19.6210262049608,
          1656.2432266698297,
          1626.0316950943225,
          -2727.270567765572,
          -2807.377229112466,
          625.7699455380396,
          -479.83027515346475,
          1461.3557751456647,
          1543.7175778377223,
          2976.7268007096354,
          1977.2850663945787,
          13421.472818358947,
          1167.3670897576767,
          -504.76140375780665,
          2231.083577119749,
          405.9286010011201,
          -3353.761757752749,
          26.179089898150096,
          -395.26707138916026,
          379.1037400710957,
          -18253.74684376189,
          8211.004028227719,
          2757.454673671363,
          410.33567775483607,
          1729.210084162707,
          458.83522115830783,
          -428.62730031737465,
          3824.010518333149,
          13379.045577527839,
          907.722109593662,
          1639.7665333373006,
          -1378.4777964499008,
          -49.2222000021809,
          -239.61967780323903,
          -2608.185941300556,
          -781.0405233298725,
          -1089.4454336350846,
          25037.107216774413,
          4325.9307319847685,
          -4085.9359767643355,
          -11452.846852809424,
          -9455.23695066417,
          15017.307612447534,
          -1420.6002440373868,
          2173.256300233105,
          -148.93806908552642,
          1040.6882082251032,
          8656.879169684442,
          1180.4560446281212,
          -975.9643033617906,
          -372.6821264912596,
          -37385.65781722602,
          -622.6711898014191,
          -72.04846877232262,
          825.2676423232733,
          -818.9810753992388,
          3972.0036358610005,
          923.3294582976596,
          -561.8080932293976,
          1550.918840797167,
          375.3528100217054,
          1182.8578124483702,
          -486.14591379824924,
          -2346.3386469087563,
          505.0545927593564,
          -117.84487719824085,
          -4883.46545449071,
          1967.1021367163376,
          348.0629979893456,
          -241.56947572887566,
          24857.496740001283,
          -398.7064929275077,
          1207.4361301876925,
          25948.66610067409,
          6315.4452184386755,
          436.1679877881961,
          1309.4592795378903,
          -103.5574643270395,
          2183.9896360408766,
          -4440.695500138664,
          920.6926719024959,
          -993.4335331091212,
          -2000,
          53967.56524186631,
          164.18125323823256,
          -6591.708037478202,
          270.7427940166076,
          1260.4845195168273,
          -69649.35478718045,
          -3303.5959830524953,
          -299.7221093494645,
          -881.4468665502704,
          1786.610956600442,
          -4695.361211796953,
          1123.646360126034,
          421.25251545539413,
          5333.023738399028,
          3252.4235787680936,
          208.86238149087876,
          1484.7471329529067,
          2929.9320069528694,
          -33.62852409631466,
          5096.804243652121,
          -999.8566840974122,
          -7154.109540287107,
          -2402.0982150264535,
          4206.834433589784,
          76.38425315351378,
          1684.9450118364903,
          3253.8575534626007,
          -811.8275541708831,
          -550,
          -132.98771421242782,
          931.5446673135143,
          4187.515468790942,
          3855.1882158505214,
          9626.462498411438,
          -356.02921918762604,
          -7255.843551440172,
          -264.79566548789353,
          790.447389777697,
          234.7750819071548,
          -375.74024468119023,
          -6188.304536735035,
          -1116.1241150269925,
          264.1443328581299,
          87.19123787668104,
          5597.003899752202,
          -3433.702464876327,
          2097.8664399878107,
          6060.915511747975,
          -78.79386918363161,
          5370.362904298328,
          1200.504296987114,
          -65.24492975866815,
          1570.9291731090311,
          -4181.248364441988,
          16979.87228441942,
          1532.826183036599,
          -393.1429955548638,
          -724.9931965976466,
          -13793.627031949076,
          -95.74846571478884,
          -9.795391786433356,
          -312.58468827204763,
          -1317.3161268251988,
          -843.138629491712,
          -1797.4508981079862,
          27849.003829225003,
          2928.2961878807364,
          -714.1935491105996,
          -2895.634948510621,
          5.846001469078146,
          -89.47397060425101,
          474.02014507355034,
          -422.67860568847027,
          -421.56548318788555,
          -4569.322198083923,
          -227.40717983758077,
          149.21769489327858,
          -3073.2895261312706,
          773.5872962510621,
          55.04722670519345,
          -732.4220138259793,
          -1282.097544960321,
          1822.4423905201184,
          396.51447206742887,
          -186.90852915138248,
          6425.32938564186,
          -349.36195274347494,
          559.8909944655547,
          -7768.9000464973215,
          1012.2572966907628,
          -262.05549370616836,
          2612.8290190519983,
          -8760.23103117533,
          2352.617063466616,
          112.24384688221016,
          6417.7888663832455,
          -3547.5000310520554,
          3561.23959969345,
          273.42618543234676,
          -90.29462282135103,
          346.12634499575597,
          -909.3963807790715,
          -5790.1305107352455,
          1622.9945710926331,
          55675.74823102445,
          218.4467873876913,
          984.8335665764607,
          3176.2652970460585,
          4964.53695934751,
          -28365.885271564068,
          1520.3130132183796,
          -453.51318777268636,
          -1264.8592900446647,
          -3666.5398121053267,
          -5948.752450845757,
          -1068.784385538227,
          -868.2878204300205,
          -9691.803213457111,
          -6314.295007420213,
          453.51911934370855,
          18346.971969668986,
          -948.5873609665032,
          5336.88952660868,
          191.85838071507533,
          5820.599523984962,
          488.65046088282816,
          -355.1184178853182,
          -5619.426307021804,
          22854.188652133947,
          2060.5218113916526,
          1855.8873140657865,
          47.5517066656829,
          2111.666076013702,
          -83.42474989040488,
          -437.30953994160063,
          -993.4275356368562,
          5158.572402166586,
          280.28747070403256,
          -3124.532004456154,
          16052.640532536327,
          -3202.425556515758,
          445.68188300829024,
          716.1348985426066,
          286.7846928167646,
          4241.234863944523,
          -2481.5196089359624,
          -2291.3088714813202,
          610.1832297113374,
          202.55820874012807,
          4.282193782416243,
          6208.425099348868,
          196.5212200785645,
          2708.43341913326,
          -839.4602220561637,
          3527.432008612787,
          -7495.013603097032,
          504.71251350232296,
          -2459.9806389313526,
          -3602.68844450132,
          4924.284997464387,
          536.4810651309544,
          453.7667289334206,
          -93.15153467959681,
          32100.250441421922,
          -189.37906906071134,
          243.6449937134662,
          2888.1320165741345,
          -858.3764304325086,
          -13119.310283619445,
          -1018.9436359594703,
          -867.9511142833503,
          25573.698732799923,
          39.88316228519318,
          1441.0013359018376,
          388.801370424535,
          109.41147710306291,
          951.3436802678302,
          631.4512960377858,
          3207.8462975644106,
          -1090.8442593226937,
          -1461.9267288818264,
          669.1673953217014,
          -6139.521726008925,
          196.87542133904662,
          8859.39562480507,
          -69.08847194512964,
          -7787.542243423595,
          -567.6612811186751,
          418.16870859643404,
          -19669.784812143924,
          3730.5288686937274,
          3278.271455824737,
          25.178239745957853,
          1366.1417132333108,
          21.88032471232691,
          1751.8446957109245,
          -461.5489696626311,
          -5732.010743262585,
          -5992.15833040898,
          901.941148399731,
          2589.9403441624945,
          -2752.0217215734083,
          1144.8516603214935,
          7350.241370689513,
          503.0659419928943,
          -183.08567898061665,
          -1643.9114880730922,
          1408.4224862453625,
          -485.50619690453095,
          131.34058843558887,
          3149.8880196950377,
          1033.6592761499123,
          3959.19031799394,
          -274.7681028147014,
          2882.9483291821107,
          616.453674369478,
          1778.2694384000224,
          4727.700607235345,
          2100.2310615208153,
          1439.0071446417332,
          2924.2109873514937,
          -1330.6083982148702,
          4700.996885111187,
          -5022.501835573559,
          -1385.383295875596,
          2114.9838519661535,
          -3529.2175792263342,
          968.5928224292059,
          11477.798043293304,
          7746.669850737539,
          -1800.1410851811852,
          -802.5802171515134,
          1263.8198871715172,
          1303.8654843042405,
          -903.8101324995187,
          2881.146086353493,
          767.4748034073282,
          830.1081368573391,
          3147.347221194268,
          6987.209837498747,
          -2429.9186924998376,
          -165.46601016634543,
          4058.7024471439227,
          -4166.2313844397995,
          -370.7146103421918,
          980.1855036373972,
          1293.28864313764,
          -1250.9605565783859,
          3012.8945314312896,
          1687.073825280282,
          11.493737570643134,
          -136.83535703075177,
          -2848.3581701684197,
          5635.621300818426,
          7079.498620139282,
          1091.2925947291096,
          -850.2172638938291,
          -716.8969293013979,
          -204.2431790543542,
          10879.075408388882,
          913.925462736227,
          3457.026293246925,
          -2141.5591020992642,
          2106.8421291938294,
          1348.6235886538332,
          -10301.656266222937,
          532.6399000238598,
          29.58289711808561,
          4597.310324486592,
          1273.8645254755156,
          -3197.368733672585,
          8241.09714205657,
          -11520.1397907645,
          1277.558698930452,
          -5209.036930795613,
          8.59855646395863,
          999.282573476356,
          -248.9619317368779,
          -4400.727642971171,
          196.66129594256745,
          -149.83897940926937,
          -8103.172828946059,
          -9494.231463524724,
          8680.188775664898,
          3201.682529623611,
          1653.7295405721657,
          -781.4143475651072,
          1745.0958202143265,
          266.3496217457432,
          -386.10004004142786,
          4813.940934407185,
          -21307.76272413094,
          320.62268535211297,
          5189.096012640504,
          1789.6574353890537,
          1137.6269708556883,
          -8936.27417836391,
          490.95774954559283,
          982.5181463173576,
          24511.988071155138,
          7223.240700087612,
          172.1739437131946,
          -2136.5822056481775,
          3006.217961326827,
          -99.25142171166704,
          1489.3398968307702,
          4836.452921612297,
          986.0812254641587,
          -624.966905553456,
          -639.8789979197767
         ],
         "yaxis": "y"
        }
       ],
       "layout": {
        "legend": {
         "tracegroupgap": 0
        },
        "margin": {
         "t": 60
        },
        "template": {
         "data": {
          "bar": [
           {
            "error_x": {
             "color": "#2a3f5f"
            },
            "error_y": {
             "color": "#2a3f5f"
            },
            "marker": {
             "line": {
              "color": "#E5ECF6",
              "width": 0.5
             },
             "pattern": {
              "fillmode": "overlay",
              "size": 10,
              "solidity": 0.2
             }
            },
            "type": "bar"
           }
          ],
          "barpolar": [
           {
            "marker": {
             "line": {
              "color": "#E5ECF6",
              "width": 0.5
             },
             "pattern": {
              "fillmode": "overlay",
              "size": 10,
              "solidity": 0.2
             }
            },
            "type": "barpolar"
           }
          ],
          "carpet": [
           {
            "aaxis": {
             "endlinecolor": "#2a3f5f",
             "gridcolor": "white",
             "linecolor": "white",
             "minorgridcolor": "white",
             "startlinecolor": "#2a3f5f"
            },
            "baxis": {
             "endlinecolor": "#2a3f5f",
             "gridcolor": "white",
             "linecolor": "white",
             "minorgridcolor": "white",
             "startlinecolor": "#2a3f5f"
            },
            "type": "carpet"
           }
          ],
          "choropleth": [
           {
            "colorbar": {
             "outlinewidth": 0,
             "ticks": ""
            },
            "type": "choropleth"
           }
          ],
          "contour": [
           {
            "colorbar": {
             "outlinewidth": 0,
             "ticks": ""
            },
            "colorscale": [
             [
              0,
              "#0d0887"
             ],
             [
              0.1111111111111111,
              "#46039f"
             ],
             [
              0.2222222222222222,
              "#7201a8"
             ],
             [
              0.3333333333333333,
              "#9c179e"
             ],
             [
              0.4444444444444444,
              "#bd3786"
             ],
             [
              0.5555555555555556,
              "#d8576b"
             ],
             [
              0.6666666666666666,
              "#ed7953"
             ],
             [
              0.7777777777777778,
              "#fb9f3a"
             ],
             [
              0.8888888888888888,
              "#fdca26"
             ],
             [
              1,
              "#f0f921"
             ]
            ],
            "type": "contour"
           }
          ],
          "contourcarpet": [
           {
            "colorbar": {
             "outlinewidth": 0,
             "ticks": ""
            },
            "type": "contourcarpet"
           }
          ],
          "heatmap": [
           {
            "colorbar": {
             "outlinewidth": 0,
             "ticks": ""
            },
            "colorscale": [
             [
              0,
              "#0d0887"
             ],
             [
              0.1111111111111111,
              "#46039f"
             ],
             [
              0.2222222222222222,
              "#7201a8"
             ],
             [
              0.3333333333333333,
              "#9c179e"
             ],
             [
              0.4444444444444444,
              "#bd3786"
             ],
             [
              0.5555555555555556,
              "#d8576b"
             ],
             [
              0.6666666666666666,
              "#ed7953"
             ],
             [
              0.7777777777777778,
              "#fb9f3a"
             ],
             [
              0.8888888888888888,
              "#fdca26"
             ],
             [
              1,
              "#f0f921"
             ]
            ],
            "type": "heatmap"
           }
          ],
          "heatmapgl": [
           {
            "colorbar": {
             "outlinewidth": 0,
             "ticks": ""
            },
            "colorscale": [
             [
              0,
              "#0d0887"
             ],
             [
              0.1111111111111111,
              "#46039f"
             ],
             [
              0.2222222222222222,
              "#7201a8"
             ],
             [
              0.3333333333333333,
              "#9c179e"
             ],
             [
              0.4444444444444444,
              "#bd3786"
             ],
             [
              0.5555555555555556,
              "#d8576b"
             ],
             [
              0.6666666666666666,
              "#ed7953"
             ],
             [
              0.7777777777777778,
              "#fb9f3a"
             ],
             [
              0.8888888888888888,
              "#fdca26"
             ],
             [
              1,
              "#f0f921"
             ]
            ],
            "type": "heatmapgl"
           }
          ],
          "histogram": [
           {
            "marker": {
             "pattern": {
              "fillmode": "overlay",
              "size": 10,
              "solidity": 0.2
             }
            },
            "type": "histogram"
           }
          ],
          "histogram2d": [
           {
            "colorbar": {
             "outlinewidth": 0,
             "ticks": ""
            },
            "colorscale": [
             [
              0,
              "#0d0887"
             ],
             [
              0.1111111111111111,
              "#46039f"
             ],
             [
              0.2222222222222222,
              "#7201a8"
             ],
             [
              0.3333333333333333,
              "#9c179e"
             ],
             [
              0.4444444444444444,
              "#bd3786"
             ],
             [
              0.5555555555555556,
              "#d8576b"
             ],
             [
              0.6666666666666666,
              "#ed7953"
             ],
             [
              0.7777777777777778,
              "#fb9f3a"
             ],
             [
              0.8888888888888888,
              "#fdca26"
             ],
             [
              1,
              "#f0f921"
             ]
            ],
            "type": "histogram2d"
           }
          ],
          "histogram2dcontour": [
           {
            "colorbar": {
             "outlinewidth": 0,
             "ticks": ""
            },
            "colorscale": [
             [
              0,
              "#0d0887"
             ],
             [
              0.1111111111111111,
              "#46039f"
             ],
             [
              0.2222222222222222,
              "#7201a8"
             ],
             [
              0.3333333333333333,
              "#9c179e"
             ],
             [
              0.4444444444444444,
              "#bd3786"
             ],
             [
              0.5555555555555556,
              "#d8576b"
             ],
             [
              0.6666666666666666,
              "#ed7953"
             ],
             [
              0.7777777777777778,
              "#fb9f3a"
             ],
             [
              0.8888888888888888,
              "#fdca26"
             ],
             [
              1,
              "#f0f921"
             ]
            ],
            "type": "histogram2dcontour"
           }
          ],
          "mesh3d": [
           {
            "colorbar": {
             "outlinewidth": 0,
             "ticks": ""
            },
            "type": "mesh3d"
           }
          ],
          "parcoords": [
           {
            "line": {
             "colorbar": {
              "outlinewidth": 0,
              "ticks": ""
             }
            },
            "type": "parcoords"
           }
          ],
          "pie": [
           {
            "automargin": true,
            "type": "pie"
           }
          ],
          "scatter": [
           {
            "fillpattern": {
             "fillmode": "overlay",
             "size": 10,
             "solidity": 0.2
            },
            "type": "scatter"
           }
          ],
          "scatter3d": [
           {
            "line": {
             "colorbar": {
              "outlinewidth": 0,
              "ticks": ""
             }
            },
            "marker": {
             "colorbar": {
              "outlinewidth": 0,
              "ticks": ""
             }
            },
            "type": "scatter3d"
           }
          ],
          "scattercarpet": [
           {
            "marker": {
             "colorbar": {
              "outlinewidth": 0,
              "ticks": ""
             }
            },
            "type": "scattercarpet"
           }
          ],
          "scattergeo": [
           {
            "marker": {
             "colorbar": {
              "outlinewidth": 0,
              "ticks": ""
             }
            },
            "type": "scattergeo"
           }
          ],
          "scattergl": [
           {
            "marker": {
             "colorbar": {
              "outlinewidth": 0,
              "ticks": ""
             }
            },
            "type": "scattergl"
           }
          ],
          "scattermapbox": [
           {
            "marker": {
             "colorbar": {
              "outlinewidth": 0,
              "ticks": ""
             }
            },
            "type": "scattermapbox"
           }
          ],
          "scatterpolar": [
           {
            "marker": {
             "colorbar": {
              "outlinewidth": 0,
              "ticks": ""
             }
            },
            "type": "scatterpolar"
           }
          ],
          "scatterpolargl": [
           {
            "marker": {
             "colorbar": {
              "outlinewidth": 0,
              "ticks": ""
             }
            },
            "type": "scatterpolargl"
           }
          ],
          "scatterternary": [
           {
            "marker": {
             "colorbar": {
              "outlinewidth": 0,
              "ticks": ""
             }
            },
            "type": "scatterternary"
           }
          ],
          "surface": [
           {
            "colorbar": {
             "outlinewidth": 0,
             "ticks": ""
            },
            "colorscale": [
             [
              0,
              "#0d0887"
             ],
             [
              0.1111111111111111,
              "#46039f"
             ],
             [
              0.2222222222222222,
              "#7201a8"
             ],
             [
              0.3333333333333333,
              "#9c179e"
             ],
             [
              0.4444444444444444,
              "#bd3786"
             ],
             [
              0.5555555555555556,
              "#d8576b"
             ],
             [
              0.6666666666666666,
              "#ed7953"
             ],
             [
              0.7777777777777778,
              "#fb9f3a"
             ],
             [
              0.8888888888888888,
              "#fdca26"
             ],
             [
              1,
              "#f0f921"
             ]
            ],
            "type": "surface"
           }
          ],
          "table": [
           {
            "cells": {
             "fill": {
              "color": "#EBF0F8"
             },
             "line": {
              "color": "white"
             }
            },
            "header": {
             "fill": {
              "color": "#C8D4E3"
             },
             "line": {
              "color": "white"
             }
            },
            "type": "table"
           }
          ]
         },
         "layout": {
          "annotationdefaults": {
           "arrowcolor": "#2a3f5f",
           "arrowhead": 0,
           "arrowwidth": 1
          },
          "autotypenumbers": "strict",
          "coloraxis": {
           "colorbar": {
            "outlinewidth": 0,
            "ticks": ""
           }
          },
          "colorscale": {
           "diverging": [
            [
             0,
             "#8e0152"
            ],
            [
             0.1,
             "#c51b7d"
            ],
            [
             0.2,
             "#de77ae"
            ],
            [
             0.3,
             "#f1b6da"
            ],
            [
             0.4,
             "#fde0ef"
            ],
            [
             0.5,
             "#f7f7f7"
            ],
            [
             0.6,
             "#e6f5d0"
            ],
            [
             0.7,
             "#b8e186"
            ],
            [
             0.8,
             "#7fbc41"
            ],
            [
             0.9,
             "#4d9221"
            ],
            [
             1,
             "#276419"
            ]
           ],
           "sequential": [
            [
             0,
             "#0d0887"
            ],
            [
             0.1111111111111111,
             "#46039f"
            ],
            [
             0.2222222222222222,
             "#7201a8"
            ],
            [
             0.3333333333333333,
             "#9c179e"
            ],
            [
             0.4444444444444444,
             "#bd3786"
            ],
            [
             0.5555555555555556,
             "#d8576b"
            ],
            [
             0.6666666666666666,
             "#ed7953"
            ],
            [
             0.7777777777777778,
             "#fb9f3a"
            ],
            [
             0.8888888888888888,
             "#fdca26"
            ],
            [
             1,
             "#f0f921"
            ]
           ],
           "sequentialminus": [
            [
             0,
             "#0d0887"
            ],
            [
             0.1111111111111111,
             "#46039f"
            ],
            [
             0.2222222222222222,
             "#7201a8"
            ],
            [
             0.3333333333333333,
             "#9c179e"
            ],
            [
             0.4444444444444444,
             "#bd3786"
            ],
            [
             0.5555555555555556,
             "#d8576b"
            ],
            [
             0.6666666666666666,
             "#ed7953"
            ],
            [
             0.7777777777777778,
             "#fb9f3a"
            ],
            [
             0.8888888888888888,
             "#fdca26"
            ],
            [
             1,
             "#f0f921"
            ]
           ]
          },
          "colorway": [
           "#636efa",
           "#EF553B",
           "#00cc96",
           "#ab63fa",
           "#FFA15A",
           "#19d3f3",
           "#FF6692",
           "#B6E880",
           "#FF97FF",
           "#FECB52"
          ],
          "font": {
           "color": "#2a3f5f"
          },
          "geo": {
           "bgcolor": "white",
           "lakecolor": "white",
           "landcolor": "#E5ECF6",
           "showlakes": true,
           "showland": true,
           "subunitcolor": "white"
          },
          "hoverlabel": {
           "align": "left"
          },
          "hovermode": "closest",
          "mapbox": {
           "style": "light"
          },
          "paper_bgcolor": "white",
          "plot_bgcolor": "#E5ECF6",
          "polar": {
           "angularaxis": {
            "gridcolor": "white",
            "linecolor": "white",
            "ticks": ""
           },
           "bgcolor": "#E5ECF6",
           "radialaxis": {
            "gridcolor": "white",
            "linecolor": "white",
            "ticks": ""
           }
          },
          "scene": {
           "xaxis": {
            "backgroundcolor": "#E5ECF6",
            "gridcolor": "white",
            "gridwidth": 2,
            "linecolor": "white",
            "showbackground": true,
            "ticks": "",
            "zerolinecolor": "white"
           },
           "yaxis": {
            "backgroundcolor": "#E5ECF6",
            "gridcolor": "white",
            "gridwidth": 2,
            "linecolor": "white",
            "showbackground": true,
            "ticks": "",
            "zerolinecolor": "white"
           },
           "zaxis": {
            "backgroundcolor": "#E5ECF6",
            "gridcolor": "white",
            "gridwidth": 2,
            "linecolor": "white",
            "showbackground": true,
            "ticks": "",
            "zerolinecolor": "white"
           }
          },
          "shapedefaults": {
           "line": {
            "color": "#2a3f5f"
           }
          },
          "ternary": {
           "aaxis": {
            "gridcolor": "white",
            "linecolor": "white",
            "ticks": ""
           },
           "baxis": {
            "gridcolor": "white",
            "linecolor": "white",
            "ticks": ""
           },
           "bgcolor": "#E5ECF6",
           "caxis": {
            "gridcolor": "white",
            "linecolor": "white",
            "ticks": ""
           }
          },
          "title": {
           "x": 0.05
          },
          "xaxis": {
           "automargin": true,
           "gridcolor": "white",
           "linecolor": "white",
           "ticks": "",
           "title": {
            "standoff": 15
           },
           "zerolinecolor": "white",
           "zerolinewidth": 2
          },
          "yaxis": {
           "automargin": true,
           "gridcolor": "white",
           "linecolor": "white",
           "ticks": "",
           "title": {
            "standoff": 15
           },
           "zerolinecolor": "white",
           "zerolinewidth": 2
          }
         }
        },
        "title": {
         "text": "Residuals vs Predicted Salary"
        },
        "xaxis": {
         "anchor": "y",
         "domain": [
          0,
          1
         ],
         "title": {
          "text": "Predicted Salary"
         }
        },
        "yaxis": {
         "anchor": "x",
         "domain": [
          0,
          1
         ],
         "title": {
          "text": "Predicted - Actual"
         }
        }
       }
      }
     },
     "metadata": {},
     "output_type": "display_data"
    },
    {
     "data": {
      "application/vnd.plotly.v1+json": {
       "config": {
        "plotlyServerURL": "https://plot.ly"
       },
       "data": [
        {
         "customdata": [
          [
           "Jacopo Fazzini"
          ],
          [
           "Nathan Tella"
          ],
          [
           "Janik Haberer"
          ],
          [
           "Cristiano Piccini"
          ],
          [
           "Koen Van Langendonck"
          ],
          [
           "Sam Larsson"
          ],
          [
           "Garry Mendes Rodrigues"
          ],
          [
           "Florian Krüger"
          ],
          [
           "Xeber Alkain Mitxelena"
          ],
          [
           "Flynn Downes"
          ],
          [
           "Reyes Cleary"
          ],
          [
           "João Miguel Teixeira Mendes"
          ],
          [
           "Iñaki Rupérez Urtasun"
          ],
          [
           "Peer Koopmeiners"
          ],
          [
           "Antonio Jonjić"
          ],
          [
           "Sherel Floranus"
          ],
          [
           "Fabio Torsiello"
          ],
          [
           "Antoine Leautey"
          ],
          [
           "Peter Ouaneh"
          ],
          [
           "Dario Dumić"
          ],
          [
           "Paul Stock"
          ],
          [
           "Federico Dimarco"
          ],
          [
           "Lilian Brassier"
          ],
          [
           "Liam Lindsay"
          ],
          [
           "Aitor Paredes Casamichana"
          ],
          [
           "Ryan Isaac Mendes da Graça"
          ],
          [
           "Alex Matos"
          ],
          [
           "Leandro Chichizola"
          ],
          [
           "Jorge Filipe Oliveira Fernandes"
          ],
          [
           "Semir Telalovic"
          ],
          [
           "Domingos Quina"
          ],
          [
           "Julen Lobete Cienfuegos"
          ],
          [
           "Colin Dagba"
          ],
          [
           "Fernando Pacheco Flores"
          ],
          [
           "Daniel Grilo Azevedo"
          ],
          [
           "Rui Filipe Caetano Moura"
          ],
          [
           "Christian Kinsombi"
          ],
          [
           "Niclas Füllkrug"
          ],
          [
           "Florian Kainz"
          ],
          [
           "Luca Giudici"
          ],
          [
           "Luis Milla Manzanares"
          ],
          [
           "Emmanuel Okyere Boateng"
          ],
          [
           "Tawanda Chirewa"
          ],
          [
           "Bahadır Gölgeli"
          ],
          [
           "Diyaeddine Abzi"
          ],
          [
           "Erce Kardeşler"
          ],
          [
           "Moryké Fofana"
          ],
          [
           "Gabriel Gudmundsson"
          ],
          [
           "Nikolas Agrafiotis"
          ],
          [
           "Jannik Vestergaard"
          ],
          [
           "Kaio César Andrade Lima"
          ],
          [
           "José Francisco dos Santos Júnior"
          ],
          [
           "Tjaronn Inteff Chefren Chery"
          ],
          [
           "Alessandro Bellemo"
          ],
          [
           "Vincent Janssen"
          ],
          [
           "Olivier Dumont"
          ],
          [
           "Andreas Albers Nielsen"
          ],
          [
           "Thibaut Nicolas Marc Courtois"
          ],
          [
           "Pajtim Kasami"
          ],
          [
           "Albert-Mboyo Sambi Lokonga"
          ],
          [
           "André Hoffmann"
          ],
          [
           "Mergim Berisha"
          ],
          [
           "Terem Igobor Moffi"
          ],
          [
           "Aitor Mañas Buenadicha"
          ],
          [
           "Edmond Fayçal Tapsoba"
          ],
          [
           "Amari'i Bell"
          ],
          [
           "Edoardo Borrelli"
          ],
          [
           "Francisco Gámez López"
          ],
          [
           "Kayky da Silva Chagas"
          ],
          [
           "Lawrence Ofori"
          ],
          [
           "Florentin Lucien Jean Bloch"
          ],
          [
           "Benicio Baker-Boaitey"
          ],
          [
           "Sveinn Aron Guðjohnsen"
          ],
          [
           "Christian Lund Gytkjær"
          ],
          [
           "Leo Skiri Østigård"
          ],
          [
           "Ivan Filipović"
          ],
          [
           "Daniel Heber"
          ],
          [
           "Luis Perea Hernández"
          ],
          [
           "André Seruca de Oliveira"
          ],
          [
           "Marc Aguado Pallarés"
          ],
          [
           "Pape Ousmane Sakho"
          ],
          [
           "Rodrigo Ribeiro de Macedo"
          ],
          [
           "Ilias Koutsoupias"
          ],
          [
           "川邉 骏"
          ],
          [
           "Nicholas Pierini"
          ],
          [
           "Elbasan Rashani"
          ],
          [
           "Samuele Di Benedetto"
          ],
          [
           "Adryelson Lima Silva"
          ],
          [
           "Amar Gerxhaliu"
          ],
          [
           "Moïse Sahi Dion"
          ],
          [
           "Pedro González López"
          ],
          [
           "Miguel Ángel Atienza Villa"
          ],
          [
           "Mathias De Amorim"
          ],
          [
           "Alejandro Grimaldo García"
          ],
          [
           "Raphael Gregório Guzzo"
          ],
          [
           "Rui Pedro Silva Costa"
          ],
          [
           "Héctor José Hernández Marrero"
          ],
          [
           "Raúl Navarro del Río"
          ],
          [
           "Ferdy Druijf"
          ],
          [
           "Shahruddin Magomedaliyev"
          ],
          [
           "Enrico Baldini"
          ],
          [
           "Ruben Bover Izquierdo"
          ],
          [
           "Ravil Tagir"
          ],
          [
           "Daniel Gómez Alcón"
          ],
          [
           "Souleyman Doumbia"
          ],
          [
           "Jordan Tell"
          ],
          [
           "Giorgio Cittadini"
          ],
          [
           "Hélder José Oliveira Sá"
          ],
          [
           "Borja González Tomás"
          ],
          [
           "Luca Moro"
          ],
          [
           "Reece James"
          ],
          [
           "Márton Dárdai"
          ],
          [
           "Luka Bogdan"
          ],
          [
           "Mohamed Bamba"
          ],
          [
           "Ygor Nogueira de Paula"
          ],
          [
           "Harrison Clarke"
          ],
          [
           "Raffaele Pucino"
          ],
          [
           "Diego García Campos"
          ],
          [
           "Gaby Jean"
          ],
          [
           "Victor Jörgen Nilsson Lindelöf"
          ],
          [
           "Sokol Çikalleshi"
          ],
          [
           "Thibault Campanini"
          ],
          [
           "Joshua Myles Abraham Key"
          ],
          [
           "Kevin Strootman"
          ],
          [
           "Alessandro Livieri"
          ],
          [
           "Danny Ward"
          ],
          [
           "Çağlar Söyüncü"
          ],
          [
           "Junior Mwanga"
          ],
          [
           "Gregorio Luperini"
          ],
          [
           "Erick Barbosa dos Santos"
          ],
          [
           "Andrew Ferai Rinomhota"
          ],
          [
           "Kofi Jeremy Amoako"
          ],
          [
           "Malick Mbaye"
          ],
          [
           "Nelson Amadin"
          ],
          [
           "Daniel Bentley"
          ],
          [
           "Jon Pacheco Dozagarat"
          ],
          [
           "Robert Dickie"
          ],
          [
           "Nassim Chadli"
          ],
          [
           "Quentin Merlin"
          ],
          [
           "Youssef Amyn"
          ],
          [
           "Lucas Höler"
          ],
          [
           "Kyle Bartley"
          ],
          [
           "Madi Monamay Nsosemo"
          ],
          [
           "Ayman Benarous"
          ],
          [
           "Moritz Römling"
          ],
          [
           "Iñigo Córdoba Querejeta"
          ],
          [
           "Miguel Gutiérrez Ortega"
          ],
          [
           "Dimitris Giannoulis"
          ],
          [
           "James Shea"
          ],
          [
           "Hugo Novoa Ramos"
          ],
          [
           "Jamal Musiala"
          ],
          [
           "Mahlon Beresford Baker Romeo"
          ],
          [
           "Sergi Cardona Bermúdez"
          ],
          [
           "Nick Fichtinger"
          ],
          [
           "Marc Cucurella Saseta"
          ],
          [
           "Branco van den Boomen"
          ],
          [
           "Matthieu Udol"
          ],
          [
           "Divin Mubama"
          ],
          [
           "Nathangelo Alexandro Markelo"
          ],
          [
           "Arthur Vermeeren"
          ],
          [
           "Joaquín Fernández Moreno"
          ],
          [
           "Rafik Belghali"
          ],
          [
           "Federico Gatti"
          ],
          [
           "Mitchell Dijks"
          ],
          [
           "Hugo Magnetti"
          ],
          [
           "Mamadou Diop"
          ],
          [
           "Muammer Sarıkaya"
          ],
          [
           "Nouha Dicko"
          ],
          [
           "Garland Gbellé"
          ],
          [
           "Maxime Jean Roberto Leverbe"
          ],
          [
           "Edin Višća"
          ],
          [
           "Bradley Barcola"
          ],
          [
           "Imanol García de Albéniz Crecente"
          ],
          [
           "Gregor Kobel"
          ],
          [
           "Avdo Spahić"
          ],
          [
           "Connal Trueman"
          ],
          [
           "Kenan Yıldız"
          ],
          [
           "Ryan Allsop"
          ],
          [
           "Aurélio Gabriel Ulineia Buta"
          ],
          [
           "Leonardo Pavoletti"
          ],
          [
           "Regan Slater"
          ],
          [
           "Trazié Thomas Zai"
          ],
          [
           "Rachid Ghezzal"
          ],
          [
           "Modibo Sagnan"
          ],
          [
           "Maxime Dominguez"
          ],
          [
           "Juan Carlos Martín Corral"
          ],
          [
           "Marvin Olawale Akinlabi Park"
          ],
          [
           "Milan Corryn"
          ],
          [
           "Frank Feller"
          ],
          [
           "Hákon Arnar Haraldsson"
          ],
          [
           "Nicolás Federico Castro"
          ],
          [
           "Nilson David Angulo Ramírez"
          ],
          [
           "Danilo D'Ambrosio"
          ],
          [
           "Israel Salazar Piriz"
          ],
          [
           "Mathías Olivera Miramontes"
          ],
          [
           "Alireza Jahanbakhsh"
          ],
          [
           "Tiago Fontoura Fonseca Morais"
          ],
          [
           "Spyros Angelidis"
          ],
          [
           "Madson de Souza Silva"
          ],
          [
           "John Stones"
          ],
          [
           "Maxime Busi"
          ],
          [
           "Khalil Fayad"
          ],
          [
           "Felipe Augusto da Silva"
          ],
          [
           "Harry Winks"
          ],
          [
           "Konrad de la Fuente"
          ],
          [
           "Daan Rots"
          ],
          [
           "Patrick Cutrone"
          ],
          [
           "Matteo Cotali"
          ],
          [
           "Tomáš Čvančara"
          ],
          [
           "Alioune Ba"
          ],
          [
           "Miguel Ángel Almirón Rejala"
          ],
          [
           "Guglielmo Vicario"
          ],
          [
           "Tjark Scheller"
          ],
          [
           "Tom Bischof"
          ],
          [
           "Jason Davidson"
          ],
          [
           "Junior Marsoni Sambu Mansoni"
          ],
          [
           "Sem Westerveld"
          ],
          [
           "Guéla Doué"
          ],
          [
           "Adrian Blake"
          ],
          [
           "Jeanuël Belocian"
          ],
          [
           "Adama Boiro"
          ],
          [
           "Bart Verbruggen"
          ],
          [
           "Boris Popovic"
          ],
          [
           "Mario Sesé Vera"
          ],
          [
           "Clément Jerome Michelin"
          ],
          [
           "Milan Smits"
          ],
          [
           "Bouna Sarr"
          ],
          [
           "Edgar Alcañiz Baldovi"
          ],
          [
           "Rigoberto Manuel Rivas Vindel"
          ],
          [
           "Lamine Fomba"
          ],
          [
           "Christopher Schindler"
          ],
          [
           "Triantafyllos Pasalidis"
          ],
          [
           "Justin-Noël Kalumba"
          ],
          [
           "Jordan Henderson"
          ],
          [
           "Gabriel Fernando de Jesus"
          ],
          [
           "Lorenzo De Silvestri"
          ],
          [
           "Edgar González Estrada"
          ],
          [
           "Marlos Moreno Durán"
          ],
          [
           "Jack Bonham"
          ],
          [
           "Cheick Oumar Konaté"
          ],
          [
           "Kenneth Aboh"
          ],
          [
           "Yohan Demoncy"
          ],
          [
           "Gerrard Buabo"
          ],
          [
           "Baye Ablaye Mbaye"
          ],
          [
           "Idrissa Gana Gueye"
          ],
          [
           "Rayan Ghrieb"
          ],
          [
           "Michael Obafemi"
          ],
          [
           "Arouna Sangante"
          ],
          [
           "Florian Bohnert"
          ],
          [
           "Luan Silva"
          ],
          [
           "Przemysław Płacheta"
          ],
          [
           "Odysseus Velanas"
          ],
          [
           "Luis Alberto Romero Alconchel"
          ],
          [
           "Peter Pekarík"
          ],
          [
           "Toni Domgjoni"
          ],
          [
           "Christian Rivera Hernández"
          ],
          [
           "Wahidullah Faghir"
          ],
          [
           "Bernardo Martins Sousa"
          ],
          [
           "Seydouba Cisse"
          ],
          [
           "Vakoun Issouf Bayo"
          ],
          [
           "Isac Alexi Sivert Lidberg"
          ],
          [
           "Stipe Perica"
          ],
          [
           "Eric Junior Bocat"
          ],
          [
           "Mario Ierardi"
          ],
          [
           "Luca Ravanelli"
          ],
          [
           "Óscar Guido Trejo"
          ],
          [
           "Alexandre Mendy"
          ],
          [
           "Kristian Pedersen"
          ],
          [
           "Jeroen Zoet"
          ],
          [
           "Johan Gastien"
          ],
          [
           "Claud Adjapong"
          ],
          [
           "Gustavo Enrique Giordano Amaro Assunção da Silva"
          ],
          [
           "Noah Mawene"
          ],
          [
           "Thijs Dallinga"
          ],
          [
           "Zakaria El Ouahdi"
          ],
          [
           "Alessio Zerbin"
          ],
          [
           "Alexandre Corredera Alardi"
          ],
          [
           "Dante Bonfim da Costa Santos"
          ],
          [
           "Shane Patrick Michael Duffy"
          ],
          [
           "Adrián Liso Liso Lahoz"
          ],
          [
           "Richie Omorowa"
          ],
          [
           "Divock Okoth Origi"
          ],
          [
           "Jarne Steuckers"
          ],
          [
           "Florian Miguel"
          ],
          [
           "Anis Mehmeti"
          ],
          [
           "Thomas Lemar"
          ],
          [
           "Brooke Norton-Cuffy"
          ],
          [
           "Miguel Rodríguez Vidal"
          ],
          [
           "Bruno Oliveira Bertinato"
          ],
          [
           "Mehdi Chahiri"
          ],
          [
           "Yaw Moses"
          ],
          [
           "Carl Rushworth"
          ],
          [
           "Taylor Moore"
          ],
          [
           "Manuel Obafemi Akanji"
          ],
          [
           "Kangni Frederic Ananou"
          ],
          [
           "Francesco Di Tacchio"
          ],
          [
           "Ali Fadal"
          ],
          [
           "Robert Leipertz"
          ],
          [
           "Jeffrey Gouweleeuw"
          ],
          [
           "Francisco Barbosa Vieites"
          ],
          [
           "Maxence Lacroix"
          ],
          [
           "Marcel Łubik"
          ],
          [
           "황의조 Ui Jo Hwang"
          ],
          [
           "David Torres Ortiz"
          ],
          [
           "Pedro Ortiz Bernat"
          ],
          [
           "シュミット・ダニエル"
          ],
          [
           "Joe Bryan"
          ],
          [
           "Arsène Courel"
          ],
          [
           "Noussair Mazraoui"
          ],
          [
           "Florent Muslija"
          ],
          [
           "Jhafets Christ Dick Reyes"
          ],
          [
           "Vincent Gembalies"
          ],
          [
           "Ricardo Daniel Pepi"
          ],
          [
           "Berkay Aydoğmuş"
          ],
          [
           "Jay den Haan"
          ],
          [
           "Francisco Javier Montero Rubio"
          ],
          [
           "Samuele Birindelli"
          ],
          [
           "Stefano Turati"
          ],
          [
           "Lucas Pires Silva"
          ],
          [
           "Mario Pašalić"
          ],
          [
           "Benedikt Gimber"
          ],
          [
           "Ogün Özçiçek"
          ],
          [
           "Thomas Glyn Doyle"
          ],
          [
           "Lucas François Bernard Hernández Pi"
          ],
          [
           "Marcel Beifus"
          ],
          [
           "Johann Serge Obiang"
          ],
          [
           "Hugo Sotelo Gómez"
          ],
          [
           "Mouhamadou Diarra"
          ],
          [
           "Aurélien Scheidler"
          ],
          [
           "Evan Ferguson"
          ],
          [
           "D'Leanu Arts"
          ],
          [
           "Luca Jannis Kilian"
          ],
          [
           "Bas Edo Kuipers"
          ],
          [
           "Marcos Sánchez Arriero"
          ],
          [
           "Massimo Coda"
          ],
          [
           "David Morillas Jiménez"
          ],
          [
           "Ibrahim Maza"
          ],
          [
           "Andrea Bertolacci"
          ],
          [
           "José Ignacio Fernández Iglesias"
          ],
          [
           "Bradley Stretton"
          ],
          [
           "Thomas Foket"
          ],
          [
           "Bachirou Yameogo"
          ],
          [
           "Jesse Bal"
          ],
          [
           "Luis Ezequiel Ávila"
          ],
          [
           "Illan Meslier"
          ],
          [
           "Kevin Miranda"
          ],
          [
           "Allan Linguet"
          ],
          [
           "Kevin Kraus"
          ],
          [
           "Elvis Rexhbeçaj"
          ],
          [
           "Cam Bragg"
          ],
          [
           "Jason Eyenga-Lokilo"
          ],
          [
           "Kenny Lala"
          ],
          [
           "Antonio Rüdiger"
          ],
          [
           "Iwo Kaczmarski"
          ],
          [
           "Francesco Caputo"
          ],
          [
           "Iván Chapela López"
          ],
          [
           "Stefan Leković"
          ],
          [
           "Godfried Roemeratoe"
          ],
          [
           "Jérémie Boga"
          ],
          [
           "Julian Jeanvier"
          ],
          [
           "Dominic Solanke"
          ],
          [
           "Quentin Braat"
          ],
          [
           "Bilal Brahimi"
          ],
          [
           "Jean-Luc Mamadou Diarra Dompé"
          ],
          [
           "Pedro Gastón Álvarez Sosa"
          ],
          [
           "Phillip Tietz"
          ],
          [
           "José Andrés Rodriguez Gaitán"
          ],
          [
           "Germán Sánchez Barahona"
          ],
          [
           "Yáser Asprilla Martínez"
          ],
          [
           "Brandon Soppy"
          ],
          [
           "Timo Baumgartl"
          ],
          [
           "Vedat Karakuş"
          ],
          [
           "Warren Tchimbembé"
          ],
          [
           "Asmir Begović"
          ],
          [
           "Michele Collocolo"
          ],
          [
           "Onur Bulut"
          ],
          [
           "Jubal Rocha Mendes Júnior"
          ],
          [
           "Mamadou Camara"
          ],
          [
           "Miguel Muñoz Mora"
          ],
          [
           "Nikola Vlašić"
          ],
          [
           "Reece Burke"
          ],
          [
           "Tomás Mejías Osorio"
          ],
          [
           "Ayotomiwa Dele-Bashiru"
          ],
          [
           "Jean Romaric Kevin Koffi"
          ],
          [
           "Ahmet Ege Gürleyen"
          ],
          [
           "Giacomo Raspadori"
          ],
          [
           "José León Bernal"
          ],
          [
           "Rolando Mandragora"
          ],
          [
           "Dirk Asare"
          ],
          [
           "Marc Jurado Gómez"
          ],
          [
           "Saba Sazonov"
          ],
          [
           "Famara Diédhiou"
          ],
          [
           "Bruno Lourenço Pinto de Almeida Paz"
          ],
          [
           "Nikola Krstović"
          ],
          [
           "Jesurun Rak-Sakyi"
          ],
          [
           "Andrea Cagnano"
          ],
          [
           "Lucas Vennegoor of Hess."
          ],
          [
           "David López Silva"
          ],
          [
           "Antoni-Djibu Milambo"
          ],
          [
           "Iker Undabarrena Martínez"
          ],
          [
           "Antoine Semenyo"
          ],
          [
           "Armando Broja"
          ],
          [
           "Tobias Kempe"
          ],
          [
           "Valerio Mantovani"
          ],
          [
           "Danel Sinani"
          ],
          [
           "Mexx Meerdink"
          ],
          [
           "Miquel Parera Pizá"
          ],
          [
           "Manuel Marras"
          ],
          [
           "Filip Wojciech Jagiełło"
          ],
          [
           "Alejandro Iturbe Encabo"
          ],
          [
           "Mateo Kovačić"
          ],
          [
           "Sergio Lozano Lluch"
          ],
          [
           "Sergio Camello Pérez"
          ],
          [
           "Silvio Merkaj"
          ],
          [
           "Dilan Kumar Markanday"
          ],
          [
           "Yasser Baldé"
          ],
          [
           "Moussa Sissoko"
          ],
          [
           "Zak Vyner"
          ],
          [
           "Yann Sommer"
          ],
          [
           "Hervé Kouakou Koffi"
          ],
          [
           "Alin Vasilică Șerban"
          ],
          [
           "Darlin Zidane Yongwa Ngameni"
          ],
          [
           "Jimmy Dunne"
          ],
          [
           "Vic Chambaere"
          ],
          [
           "Xavier Laglais Kouassi"
          ],
          [
           "Yassine Haouari"
          ],
          [
           "Noah Engelbreth"
          ],
          [
           "Nicolas Oliveira Kisilowski"
          ],
          [
           "Henri Salomaa"
          ],
          [
           "Jay Idzes"
          ],
          [
           "Simone Pozzato"
          ],
          [
           "Raúl Fernández-Cavada Mateos"
          ],
          [
           "Thomas Buitink"
          ],
          [
           "Valentino Livramento"
          ],
          [
           "守田 英正"
          ],
          [
           "Harouna Sy"
          ],
          [
           "Yann Yves Laurent Bodiger"
          ],
          [
           "Yunus Mallı"
          ],
          [
           "Joël Schingtienne"
          ],
          [
           "Vital Manuel N"
          ],
          [
           "Lorenzo Lucchesi"
          ],
          [
           "Bruno Xavier Almeida Costa"
          ],
          [
           "Nicola Rauti"
          ],
          [
           "Nicolas De Préville"
          ],
          [
           "Gabriele Piccinini"
          ],
          [
           "Adil Aouchiche"
          ],
          [
           "Martin Erlić"
          ],
          [
           "Ferran Jutglà Blanch"
          ],
          [
           "Christian Fassnacht"
          ],
          [
           "Niklas Niehoff"
          ],
          [
           "Simon Walde"
          ],
          [
           "Papiss Mison Djilobodji"
          ],
          [
           "Vito Mannone"
          ],
          [
           "Mustafa Kapı"
          ],
          [
           "Falaye Sacko"
          ],
          [
           "Piero Martín Hincapié Reyna"
          ],
          [
           "Gédéon Kalulu Kyatengwa"
          ],
          [
           "Felix Passlack"
          ],
          [
           "Garang Kuol"
          ],
          [
           "Rafael Sousa Gancho Brito"
          ],
          [
           "Antonio Mirante"
          ],
          [
           "Ricardo Domingos Barbosa Pereira"
          ],
          [
           "Amadou Keita"
          ],
          [
           "Alessandro Micai"
          ],
          [
           "Ömer Toprak"
          ],
          [
           "Samuel Loureiro Carvalho Justo"
          ],
          [
           "Damian van der Haar"
          ],
          [
           "Agustín Martegani"
          ],
          [
           "Felix Platte"
          ],
          [
           "Joseph Boyamba"
          ],
          [
           "Iké Dominique Ugbo"
          ],
          [
           "Maxime Kali Wenssens"
          ],
          [
           "Christian Borrego Isabel"
          ],
          [
           "Unai Marino Alkorta"
          ],
          [
           "Gustavo H. Alves Rodrigues"
          ],
          [
           "Nader El-Jindaoui"
          ],
          [
           "Gavin Okeroghene Bazunu"
          ],
          [
           "Oriol Romeu Vidal"
          ],
          [
           "Ibrahim Sissoko"
          ],
          [
           "Ørjan Håskjold Nyland"
          ],
          [
           "Tayo Adaramola"
          ],
          [
           "José Luis Muñoz León"
          ],
          [
           "Mathias Oyewusi"
          ],
          [
           "Alfons Sampsted"
          ],
          [
           "Abel Ruiz Ortega"
          ],
          [
           "Marcus Lilian Thuram-Ulien"
          ],
          [
           "Antonio Pergreffi"
          ],
          [
           "Sergio Cubero Ezcurra"
          ],
          [
           "Berkay Sülüngöz"
          ],
          [
           "Marcos André de Sousa Mendonça"
          ],
          [
           "Sébastien Bruzzese"
          ],
          [
           "Mohamed El Arouch"
          ],
          [
           "Rúben Ismael Valente Ramos"
          ],
          [
           "Lucas Perrin"
          ],
          [
           "Levi Samuels Colwill"
          ],
          [
           "Iver Tobias Rørvik Fossum"
          ],
          [
           "Cameron Lisceous Humphreys-Grant"
          ],
          [
           "Luis Ismael Vázquez"
          ],
          [
           "João Miguel Vieira Freitas Silva Marques"
          ],
          [
           "Miguel Loureiro Ameijenda"
          ],
          [
           "Logan Costa"
          ],
          [
           "Kyliane Dong"
          ],
          [
           "Joel Julius Ilmari Pohjanpalo"
          ],
          [
           "Luis Dettling"
          ],
          [
           "Julien Le Cardinal"
          ],
          [
           "Mihajlo Ilić"
          ],
          [
           "Kasper Dolberg Rasmussen"
          ],
          [
           "Charles Boli"
          ],
          [
           "Isak Hien"
          ],
          [
           "Estéban Lepaul"
          ],
          [
           "Borja Garcés Moreno"
          ],
          [
           "Nicolas Pépé"
          ],
          [
           "Ryan Andrews"
          ],
          [
           "Ben Knight"
          ],
          [
           "Eddie Anthony Salcedo Mora"
          ],
          [
           "Jaume Albert Cuéllar Mendoza"
          ],
          [
           "Lenny Pirringuel"
          ],
          [
           "Álvaro Killane Giardini"
          ],
          [
           "Ethan Shea Horvath"
          ],
          [
           "Siebe Horemans"
          ],
          [
           "Riad Nouri"
          ],
          [
           "Andy Joseph Pelmard"
          ],
          [
           "Ylies Aradj"
          ],
          [
           "Ángel Fortuño Viñas"
          ],
          [
           "Sam Proctor"
          ],
          [
           "Loris Mouyokolo"
          ],
          [
           "Antonio José Raíllo Arenas"
          ],
          [
           "Mohamed Airam Ramos Wade"
          ],
          [
           "Sergi Darder Moll"
          ],
          [
           "Michael Langer"
          ],
          [
           "Sabin Merino Zuloaga"
          ],
          [
           "Immanuël-Johannes Pherai"
          ],
          [
           "Francesco D'Alessio"
          ],
          [
           "Thomas Lam"
          ],
          [
           "Tyrell Sellars-Fleming"
          ],
          [
           "Furkan Onur Akyüz"
          ],
          [
           "Andries Noppert"
          ],
          [
           "László Bénes"
          ],
          [
           "Mike van Duinen"
          ],
          [
           "Ignacio De Arruabarrena Fernández"
          ],
          [
           "Francisco Andrés Sierralta Carvallo"
          ],
          [
           "Mücahit Serbest"
          ],
          [
           "Florian Tardieu"
          ],
          [
           "Rui Tiago Dantas da Silva"
          ],
          [
           "Álvaro Sanz Catalán"
          ],
          [
           "Didier Lamkel Zé"
          ],
          [
           "Sven Botman"
          ],
          [
           "三笘 薫"
          ],
          [
           "Mousa Mohammad Mousa Sulaiman Al-Tamari"
          ],
          [
           "Alejandro San Cristóbal"
          ],
          [
           "Gerard Deulofeu Lázaro"
          ],
          [
           "Alessandro Salvi"
          ],
          [
           "Wesley Nathan Hylton Harding"
          ],
          [
           "Alexis Laurent Patrice Roge Flips"
          ],
          [
           "Denis Mihai Drăguş"
          ],
          [
           "Samuel Peter Barnes"
          ],
          [
           "Efe Tecimer"
          ],
          [
           "Diego González Cabanes"
          ],
          [
           "Jakub Stolarczyk"
          ],
          [
           "Joseph Nonge"
          ],
          [
           "Nuno Miguel da Costa Jóia"
          ],
          [
           "Andreas Voglsammer"
          ],
          [
           "Roman Květ"
          ],
          [
           "José Alejandro Martín Valerón"
          ],
          [
           "Bünyamin Balcı"
          ],
          [
           "Pedro Miguel Santos Amador"
          ],
          [
           "David Turnbull"
          ],
          [
           "Alper Uludağ"
          ],
          [
           "Jorge Benito de Valle"
          ],
          [
           "Amadou Sagna"
          ],
          [
           "Jules Gaudin"
          ],
          [
           "Alberth Josué Elis Martínez"
          ],
          [
           "Juan Antonio Iglesias Sánchez"
          ],
          [
           "Cristian Darío Álvarez"
          ],
          [
           "Pablo Paulino Rosario"
          ],
          [
           "Afonso Manuel Abreu de Freitas"
          ],
          [
           "Tom van de Looi"
          ],
          [
           "Giorgos Kyriakopoulos"
          ],
          [
           "Paul Nardi"
          ],
          [
           "Róbert Boženík"
          ],
          [
           "Danilo Cataldi"
          ],
          [
           "Mark Gillespie"
          ],
          [
           "Lukas Schleimer"
          ],
          [
           "Audenirton Soares da Silva"
          ],
          [
           "Yohan Roche"
          ],
          [
           "Sadibou Sané"
          ],
          [
           "Pedro Lomba Neto"
          ],
          [
           "Dean Henderson"
          ],
          [
           "Mateus Quaresma Correia"
          ],
          [
           "Philipp Pentke"
          ],
          [
           "Stephen Antunes Eustáquio"
          ],
          [
           "Yanis Rahmani Cordeiro"
          ],
          [
           "Jorge Karseladze"
          ],
          [
           "Jannis Heuer"
          ],
          [
           "Anderson-Lenda Lucoqui"
          ],
          [
           "Alessandro Caporale"
          ],
          [
           "Nordine Kandil"
          ],
          [
           "Cheikh Ahmadou Bamba Mbacke Dieng"
          ],
          [
           "Stéphane Imad Diarra"
          ],
          [
           "Vicente Guaita Panadero"
          ],
          [
           "Kristian Nökkvi Hlynsson"
          ],
          [
           "Luigi Pellegrini"
          ],
          [
           "Muhammet Ali Özbaskıcı"
          ],
          [
           "Romain Del Castillo"
          ],
          [
           "Jean Zimmer"
          ],
          [
           "Florian Thomas Danho"
          ],
          [
           "Isaac Palazón Camacho"
          ],
          [
           "Wladimiro Falcone"
          ],
          [
           "Ricardo Rodríguez Gil Carcedo"
          ],
          [
           "Luca Daniel de la Torre"
          ],
          [
           "Tarık Çetin"
          ],
          [
           "Alan Gonzalo Varela"
          ],
          [
           "Filip Bilbija"
          ],
          [
           "Haris Hajradinović"
          ],
          [
           "Tyler Shaan Adams"
          ],
          [
           "伊藤 涼太郎"
          ],
          [
           "Dean Ruben James"
          ],
          [
           "Diadié Samassékou"
          ],
          [
           "Stije Resink"
          ],
          [
           "Jose María Saldaña Baeza"
          ],
          [
           "Horaţiu Alexandru Moldovan"
          ],
          [
           "Jimmy Cabot"
          ],
          [
           "Luís Miguel Castelo Santos"
          ],
          [
           "Nick Pope"
          ],
          [
           "Dave Kwakman"
          ],
          [
           "Nazariy Rusyn"
          ],
          [
           "Gökhan Gül"
          ],
          [
           "Hugo Bueno López"
          ],
          [
           "Brajan Gruda"
          ],
          [
           "Kağan Moradaoğlu"
          ],
          [
           "Theodor Alexander Corbeanu"
          ],
          [
           "Selvi Clua Oya"
          ],
          [
           "Gustav Christensen"
          ],
          [
           "Kevin Martin Krygård"
          ],
          [
           "Ivan Ilić"
          ],
          [
           "Kamil Piątkowski"
          ],
          [
           "Djordjije Medenica"
          ],
          [
           "Hans Hateboer"
          ],
          [
           "Mattia Tonetto"
          ],
          [
           "Simon Rhein"
          ],
          [
           "Kalidou Sidibé"
          ],
          [
           "Brian Alexis Ocampo Ferreira"
          ],
          [
           "Damián Cáceres Rodríguez"
          ],
          [
           "Patrick Herrmann"
          ],
          [
           "Iván Calero Ruiz"
          ],
          [
           "Mert Kömür"
          ],
          [
           "Lorenzo Di Stefano"
          ],
          [
           "Filippo Romagna"
          ],
          [
           "Manolo Portanova"
          ],
          [
           "Tyler Roberts"
          ],
          [
           "Joe Rothwell"
          ],
          [
           "Mark Travers"
          ],
          [
           "Flávio Basilua Jacinto Nazinho"
          ],
          [
           "Benji Michel"
          ],
          [
           "Théo Barbet"
          ],
          [
           "Luca Maniero"
          ],
          [
           "Julien Fontaine Ngoy Bin Cibambi"
          ],
          [
           "Kalifa Coulibaly"
          ],
          [
           "Cláudio Winck Neto"
          ],
          [
           "Lucas Ariel Ocampos"
          ],
          [
           "Patrick Vroegh"
          ],
          [
           "Borja Mayoral Moya"
          ],
          [
           "Tan Kenneth Jerico Schmidt"
          ],
          [
           "Alessandro Sorrentino"
          ],
          [
           "Reno Münz"
          ],
          [
           "Thomas Dickson-Peters"
          ],
          [
           "Sergio Postigo Redondo"
          ],
          [
           "Pietro Pellegri"
          ],
          [
           "Oliver Hüsing"
          ],
          [
           "Neal Maupay"
          ],
          [
           "Joseph Oluwaseyi Temitope Ayodele-Aribo"
          ],
          [
           "Lenny Vallier"
          ],
          [
           "Matteo Grandi"
          ],
          [
           "Cristian Daniel Ansaldi"
          ],
          [
           "Calvin Marc Brackelmann"
          ],
          [
           "Tom Lees"
          ],
          [
           "Alexandre Lacazette"
          ],
          [
           "Anastasios Chatzigiovanis"
          ],
          [
           "Youssef Aït Bennasser"
          ],
          [
           "Franck Surdez"
          ],
          [
           "Ali Ibrahim Karim Ali Al-Hamadi"
          ],
          [
           "Max Herrmann"
          ],
          [
           "Andrea Sala"
          ],
          [
           "Fabian de Keijzer"
          ],
          [
           "Mattias Olof Svanberg"
          ],
          [
           "Vinicius Silvestre da Costa"
          ],
          [
           "Isaak Davies"
          ],
          [
           "Kamarai Simon-Swyer"
          ],
          [
           "Stanislav Kritsyuk"
          ],
          [
           "José Luís Mendes Andrade"
          ],
          [
           "Papa Amadou Diallo"
          ],
          [
           "Bahadır Han Güngördü"
          ],
          [
           "Shea Charles"
          ],
          [
           "Hugo Duro Perales"
          ],
          [
           "Yerson Mosquera Valdelamar"
          ],
          [
           "Javier Castro Urdín"
          ],
          [
           "Rafael Tolói"
          ],
          [
           "Nicolas N'Koulou"
          ],
          [
           "Domingos André Ribeiro Almeida"
          ],
          [
           "Marcelino Ignacio Nuñez Espinoza"
          ],
          [
           "Billy Gilmour"
          ],
          [
           "Rafael Obrador Burguera"
          ],
          [
           "Mads Frøkjær-Jensen"
          ],
          [
           "Karlo Lulić"
          ],
          [
           "Lucas Tolentino Coelho de Lima"
          ],
          [
           "Nicolás González Iglesias"
          ],
          [
           "Roberto Insigne"
          ],
          [
           "Andreas Müller"
          ],
          [
           "Júlio Augusto Dabó"
          ],
          [
           "Ahmed Musa"
          ],
          [
           "Quinten Ryan Crispito Timber"
          ],
          [
           "Micah Hamilton"
          ],
          [
           "Mike Hauptmeijer"
          ],
          [
           "Bram van Polen"
          ],
          [
           "Valentin André Henri Rosier"
          ],
          [
           "Paweł Marek Dawidowicz"
          ],
          [
           "Manfredi Nespola"
          ],
          [
           "本間 至恩"
          ],
          [
           "Jorge Pascual Medina"
          ],
          [
           "Jens Dalsgaard Stage"
          ],
          [
           "Myles Lewis-Skelly"
          ],
          [
           "Ismail Achik"
          ],
          [
           "Abat Aymbetov"
          ],
          [
           "Yannik Bangsow"
          ],
          [
           "Hubert Dawid Idasiak"
          ],
          [
           "Luke McNally"
          ],
          [
           "Timothy Chandler"
          ],
          [
           "Carlo Johan Holse Justesen"
          ],
          [
           "Roberto Maximiliano Pereyra"
          ],
          [
           "Pablo Íñiguez de Heredia Larraz"
          ],
          [
           "Mateusz Łęgowski"
          ],
          [
           "Benson Manuel Hedilazio"
          ],
          [
           "Maximilian Beier"
          ],
          [
           "Morgan Guilavogui"
          ],
          [
           "Jovan Manev"
          ],
          [
           "Arnaud Lusamba"
          ],
          [
           "Logan Delaurier-Chaubet"
          ],
          [
           "Filippo Veneran"
          ],
          [
           "Givairo Read"
          ],
          [
           "Kazımcan Karataş"
          ],
          [
           "Nachon Nsingi"
          ],
          [
           "Leo Greiml"
          ],
          [
           "Evan Eghosa"
          ],
          [
           "Yannik Keitel"
          ],
          [
           "Yassine Kechta"
          ],
          [
           "Jamiro Gregory Monteiro Alvarenga"
          ],
          [
           "Samuel Bamba"
          ],
          [
           "Kouassi Ryan Sessegnon"
          ],
          [
           "Elias Cobbaut"
          ],
          [
           "Domilson Cordeiro dos Santos"
          ],
          [
           "Nathan Wood-Gordon"
          ],
          [
           "Gabriel Slonina"
          ],
          [
           "Fernando Pérez Morillo"
          ],
          [
           "Aitor Ruibal García"
          ],
          [
           "Halid Šabanović"
          ],
          [
           "Can Keleş"
          ],
          [
           "Emir Karic"
          ],
          [
           "Hamjatou Soukouna"
          ],
          [
           "Vivaldo Leandro Semedo Moura Sousa"
          ],
          [
           "Jules Olivier Ntcham"
          ],
          [
           "Cristiano Biraghi"
          ],
          [
           "Andrew Robertson"
          ],
          [
           "Serif Nhaga"
          ],
          [
           "Dean Huijsen"
          ],
          [
           "Carlos Dominguez Cáceres"
          ],
          [
           "Gianfranco Gazzaniga Farías"
          ],
          [
           "Benjamin Chrisene"
          ],
          [
           "Mark Flekken"
          ],
          [
           "Víctor Wehbi Aznar Ussen"
          ],
          [
           "Rodrygo Silva de Goes"
          ],
          [
           "Riccardo Calafiori"
          ],
          [
           "Alaaddin Okumuş"
          ],
          [
           "Maximilian Wöber"
          ],
          [
           "Thomas Goiginger"
          ],
          [
           "Francisco Femenía Far"
          ],
          [
           "Milan Đurić"
          ],
          [
           "Liam Kelly"
          ],
          [
           "Mustafa Tan"
          ],
          [
           "Ismaïla Sarr"
          ],
          [
           "David Datro Fofana"
          ],
          [
           "Daniel Olmo Carvajal"
          ],
          [
           "Jean Felipe Nogueira da Silva"
          ],
          [
           "Nikola Šipčić"
          ],
          [
           "Daniël Virginio Deen"
          ],
          [
           "Simon Graves Jensen"
          ],
          [
           "Kenny Joelle Tete"
          ],
          [
           "Ben Doak"
          ],
          [
           "Jordi Masip López"
          ],
          [
           "Karol Borys"
          ],
          [
           "Joe Johnson"
          ],
          [
           "Miguel Filipe Nunes Cardoso"
          ],
          [
           "Valentin Henry"
          ],
          [
           "Noel Futkeu"
          ],
          [
           "Francisco Jesús Crespo García"
          ],
          [
           "Alberto Hórreo Taveras"
          ],
          [
           "Sergi Gómez Solà"
          ],
          [
           "Jean-Ricner Bellegarde"
          ],
          [
           "Côme Bianay Balcot"
          ],
          [
           "Johannes Dörfler"
          ],
          [
           "Gonzalo Aguilar López"
          ],
          [
           "Kianz González-Froese"
          ],
          [
           "Ivan Prtajin"
          ],
          [
           "Salis Abdul Samed"
          ],
          [
           "Abdul Fatawu Issahaku"
          ],
          [
           "Paulo Dino Gazzaniga"
          ],
          [
           "Laureano Antonio Villa Suárez"
          ],
          [
           "アペルカンプ 真大 カール"
          ],
          [
           "Andrea Danzi"
          ],
          [
           "Mark Alexander McKenzie"
          ],
          [
           "Craig Dawson"
          ],
          [
           "Moussa Cissé"
          ],
          [
           "Robin Fellhauer"
          ],
          [
           "Marco van Ginkel"
          ],
          [
           "Finn Jeltsch"
          ],
          [
           "Ridgeciano Delano Haps"
          ],
          [
           "Gilberto Dambi Batista"
          ],
          [
           "Benjamin Bouchouari"
          ],
          [
           "Lionel Mpasi-Nzau"
          ],
          [
           "Kieffer Roberto Francisco Moore"
          ],
          [
           "Leonardo Bonucci"
          ],
          [
           "Antoine Joujou"
          ],
          [
           "William Anthony Patrick Smallbone"
          ],
          [
           "Salomon Abergel"
          ],
          [
           "Soufiane Bidaoui"
          ],
          [
           "Fabian Tait"
          ],
          [
           "Fabio Cristian Chiarodia"
          ],
          [
           "Nathan Michael Collins"
          ],
          [
           "Shane Kevin Ferguson"
          ],
          [
           "Antonio-Mirko Čolak"
          ],
          [
           "Daniel Esmorís Tasende"
          ],
          [
           "Garissone Innocent"
          ],
          [
           "Lucas Cañizares Conchello"
          ],
          [
           "Soner Gönül"
          ],
          [
           "Jacques Ekomié"
          ],
          [
           "Rayyan Baniya"
          ],
          [
           "Andreas Schjølberg Hanche-Olsen"
          ],
          [
           "Romelu Lukaku Menama"
          ],
          [
           "Víctor Andrés Meseguer Cavas"
          ],
          [
           "David Olatukunbo Alaba"
          ],
          [
           "Dimitrios Kourmpelis"
          ],
          [
           "Reinildo Isnard Mandava"
          ],
          [
           "Saad Agouzoul"
          ],
          [
           "Gleison Bremer Silva Nascimento"
          ],
          [
           "Yira Collins Sor"
          ],
          [
           "Hernâni Infande Tchuda da Silva"
          ],
          [
           "Victor Christoffer Jensen"
          ],
          [
           "Ezechiel Fiemawhle"
          ],
          [
           "Iker Muñoz Cameros"
          ],
          [
           "Mory Gbane"
          ],
          [
           "Fidel Chaves de la Torre"
          ],
          [
           "Bryan Lasme"
          ],
          [
           "Tiemoué Bakayoko"
          ],
          [
           "Hamari Traoré"
          ],
          [
           "Žan Rogelj"
          ],
          [
           "Daniel Heuer Fernandes"
          ],
          [
           "Karim-David Adeyemi"
          ],
          [
           "Niccolò Pisilli"
          ],
          [
           "室屋 成"
          ],
          [
           "Raphaël Eyongo"
          ],
          [
           "Fermín López Marín"
          ],
          [
           "Gerónimo Rulli"
          ],
          [
           "Pierre Patron"
          ],
          [
           "Nathaniel Brown"
          ],
          [
           "Andrea Cecchetto"
          ],
          [
           "Hamdi Akujobi"
          ],
          [
           "Kaide Gordon"
          ],
          [
           "Raúl Parra Artal"
          ],
          [
           "Charilaos Charisis"
          ],
          [
           "Joel Leandro Ordóñez Guerrero"
          ],
          [
           "Jorge Mier Martínez"
          ],
          [
           "Kevin Vogt"
          ],
          [
           "Christopher Antwi-Adjei"
          ],
          [
           "Ludovic Blas"
          ],
          [
           "Daniel Parejo Muñoz"
          ],
          [
           "Chiedozie Ogbene"
          ],
          [
           "Juan Gutiérrez Martínez"
          ],
          [
           "Gonzalo Villar del Fraile"
          ],
          [
           "Håvard Kallevik Nielsen"
          ],
          [
           "Vasilis Cornelius Barkas"
          ],
          [
           "Tomáš Kalas"
          ],
          [
           "Fredrik Oppegård"
          ],
          [
           "Grejohn Kyei"
          ],
          [
           "Ahmed Kashi"
          ],
          [
           "Achraf Laâziri"
          ],
          [
           "Riccardo Orsolini"
          ],
          [
           "Leopold Wahlstedt"
          ],
          [
           "Juan Antonio Delgado Baeza"
          ],
          [
           "Yunus Emre Konak"
          ],
          [
           "Alexander Hartmann Bah"
          ],
          [
           "Nahuel Noll"
          ],
          [
           "Samuel John Bell"
          ],
          [
           "Memphis Depay"
          ],
          [
           "Johny Placide"
          ],
          [
           "Deivid W. de Souza Eugênio"
          ],
          [
           "Paul Seguin"
          ],
          [
           "Harry Leonard"
          ],
          [
           "Cauley Woodrow"
          ],
          [
           "André de Castro Pereira"
          ],
          [
           "Mattia Caldara"
          ],
          [
           "Robson Alves de Barros"
          ],
          [
           "Sergio Arribas Prieto"
          ],
          [
           "Nicolò Casale"
          ],
          [
           "Dominic Calvert-Lewin"
          ],
          [
           "Mamadou Diakhon"
          ],
          [
           "Lukas Kunze"
          ],
          [
           "Bart Vriends"
          ],
          [
           "Emmanuel Kouadio Koné"
          ],
          [
           "Lucas Buades"
          ],
          [
           "Ousmane Diomande"
          ],
          [
           "Alessandro Pilati"
          ],
          [
           "Davide Balestrero"
          ],
          [
           "Lorenzo Venuti"
          ],
          [
           "Vetle Winger Dragsnes"
          ],
          [
           "Mohamed Naser Elsayed Elneny"
          ],
          [
           "Alexander Isak"
          ],
          [
           "Rikelmi Valentim dos Santos"
          ],
          [
           "Christiaan Ravych"
          ],
          [
           "Faïz Mattoir"
          ],
          [
           "Ragnar Oratmangoen"
          ],
          [
           "Petko Hristov"
          ],
          [
           "Bryan Blanco"
          ],
          [
           "Héctor Junior Firpo Adamés"
          ],
          [
           "Stefan de Vrij"
          ],
          [
           "Tymoteusz Puchacz"
          ],
          [
           "Rune Paeshuyse"
          ],
          [
           "Filippo Lorenzo Sgarbi"
          ],
          [
           "Stanislav Lobotka"
          ],
          [
           "Alejandro Baena Rodríguez"
          ],
          [
           "Joe White"
          ],
          [
           "Benjamin Lhassine Kone"
          ],
          [
           "Filippo Distefano"
          ],
          [
           "Bingourou Kamara"
          ],
          [
           "Gnantin Yann Gboho"
          ],
          [
           "Milos Kerkez"
          ],
          [
           "Nuno Miguel Gomes dos Santos"
          ],
          [
           "Jan Hendrik Marx"
          ],
          [
           "Alen Halilović"
          ],
          [
           "Cristian Ioan Ponde"
          ],
          [
           "Philippe Paulin Keny"
          ],
          [
           "Jannik Huth"
          ],
          [
           "Nuno Miguel Reis Lima"
          ],
          [
           "Omar Haktab Traoré"
          ],
          [
           "Iván Azón Monzón"
          ],
          [
           "Wilfried Stephane Singo"
          ],
          [
           "Luca Everink"
          ],
          [
           "Martín Zubimendi Ibáñez"
          ],
          [
           "Aleksandar Radovanović"
          ],
          [
           "Wesley Theodorus Hoedt"
          ],
          [
           "Jérémy Sebas"
          ],
          [
           "Cristian Esteban Gamboa Luna"
          ],
          [
           "Harvey Wiles-Richards"
          ],
          [
           "Airam Guzmán Castillo"
          ],
          [
           "Felipe Nicolás Avenatti Dovillabichus"
          ],
          [
           "Javier Sola Gascón"
          ],
          [
           "Kaan Ayhan"
          ],
          [
           "Tijjani Reijnders"
          ],
          [
           "Jayson Patrick Molumby"
          ],
          [
           "George Earthy"
          ],
          [
           "Antonio Zarzana Pérez"
          ],
          [
           "Okan Kocuk"
          ],
          [
           "Raúl De Tomás Gómez"
          ],
          [
           "Alessandro Vogliacco"
          ],
          [
           "Serkan Asan"
          ],
          [
           "Valentin Jacob"
          ],
          [
           "Francesco Ruberto"
          ],
          [
           "Elio Capradossi"
          ],
          [
           "Timo Becker"
          ],
          [
           "Doğukan Sinik"
          ],
          [
           "Delano Burgzorg"
          ],
          [
           "Niels Patrick Nkounkou"
          ],
          [
           "Tjaš Begić"
          ],
          [
           "Jasper Samooja"
          ],
          [
           "Brian Jepthe Bayeye"
          ],
          [
           "Xavier Quintillà Guasch"
          ],
          [
           "Harvey Lewis Barnes"
          ],
          [
           "Tristan Degreef"
          ],
          [
           "ルシアン リトバルスキー"
          ],
          [
           "Gernot Trauner"
          ],
          [
           "Abdul Manaf Nurudeen"
          ],
          [
           "Borja Iglesias Quintás"
          ],
          [
           "Samuel Obeng Gyabaa"
          ],
          [
           "Erdal Rakip"
          ],
          [
           "Jake Clarke-Salter"
          ],
          [
           "Benjamin Luke Woodburn"
          ],
          [
           "Omari Kellyman"
          ],
          [
           "Jonathan Howson"
          ],
          [
           "Pieter Gerkens"
          ],
          [
           "Alistair Edward McCann"
          ],
          [
           "Pablo Pérez Rico"
          ],
          [
           "Kaj de Rooij"
          ],
          [
           "İlkay Gündoğan"
          ],
          [
           "Wissam Ben Yedder"
          ],
          [
           "Ihlas Bebou"
          ],
          [
           "Can Bozdoğan"
          ],
          [
           "Syam Habib Ben Youssef"
          ],
          [
           "Michaël Bruno Dominique Cuisance"
          ],
          [
           "Onel Lázaro Hernández Mayea"
          ],
          [
           "Jorge Cuenca Barreno"
          ],
          [
           "Zach Muscat"
          ],
          [
           "Viktor Tobias Johansson"
          ],
          [
           "Paulo Bruno Exequiel Dybala"
          ],
          [
           "Gustavo Marques A. Santos"
          ],
          [
           "Adam Mayor"
          ],
          [
           "Ross Barkley"
          ],
          [
           "Rodrigo Mendoza Martinez"
          ],
          [
           "相馬 勇紀"
          ],
          [
           "Daniel Maldini"
          ],
          [
           "Laurent Abergel"
          ],
          [
           "Oscar Uddenäs"
          ],
          [
           "Alassane Alexandre Pléa"
          ],
          [
           "Junior Castello Lukeba"
          ],
          [
           "Kevin Volland"
          ],
          [
           "Marco Friedl"
          ],
          [
           "Rubén García Santos"
          ],
          [
           "Patrik Hrošovský"
          ],
          [
           "David Herold"
          ],
          [
           "Oihan Sancet Tirapu"
          ],
          [
           "Sergio Fernández Escobar"
          ],
          [
           "Gabriele Moncini"
          ],
          [
           "Dimitrios Sounas"
          ],
          [
           "Hirving Rodrigo Lozano Bahena"
          ],
          [
           "Seedy Jarju"
          ],
          [
           "Bradley Danger"
          ],
          [
           "Marcus Edwards"
          ],
          [
           "Jorge Giovani Zarfino Calandria"
          ],
          [
           "Kyle John McFadzean"
          ],
          [
           "Jayden Jezairo Braaf"
          ],
          [
           "Rafael Tavares Gomes Fernandes"
          ],
          [
           "Mile Svilar"
          ],
          [
           "Jacob Brown"
          ],
          [
           "Pol Lozano Vizuete"
          ],
          [
           "Régis Gurtner"
          ],
          [
           "Aaron Seydel"
          ],
          [
           "Joshua Wilson-Esbrand"
          ],
          [
           "Ivo Grbić"
          ],
          [
           "Thorgan Ganael Francis Hazard"
          ],
          [
           "Jack David Vincent Whatmough"
          ],
          [
           "Federico Tavernaro"
          ],
          [
           "Rick van Drongelen"
          ],
          [
           "Toma Bašić"
          ],
          [
           "中山 雄太"
          ],
          [
           "Luca Pandolfi"
          ],
          [
           "Claudio Andrés Bravo Muñoz"
          ],
          [
           "Anton Gaaei"
          ],
          [
           "Michele Camporese"
          ],
          [
           "Vitor Hugo Roque Ferreira"
          ],
          [
           "George Long"
          ],
          [
           "Umut Tohumcu"
          ],
          [
           "Matteo Ricci"
          ],
          [
           "Antonio Foti"
          ],
          [
           "Jaume Vicent Costa Jordá"
          ],
          [
           "Weston James Earl McKennie"
          ],
          [
           "Luca Pascal Schnellbacher"
          ],
          [
           "Albert Guðmundsson"
          ],
          [
           "Calum Chambers"
          ],
          [
           "Batuhan Çelik"
          ],
          [
           "Tommaso Cassandro"
          ],
          [
           "Alessio Vita"
          ],
          [
           "Xavier Chavalerin"
          ],
          [
           "Đorđe Nikolić"
          ],
          [
           "Lee Nicholls"
          ],
          [
           "Yassin Belkhdim"
          ],
          [
           "Sofyan Amrabat"
          ],
          [
           "Samuel Shashoua"
          ],
          [
           "Lion Lauberbach"
          ],
          [
           "Karl Sebastian Ring"
          ],
          [
           "Teddy Alloh"
          ],
          [
           "Isaac Hayden"
          ],
          [
           "Aritz Muguruza Peña"
          ],
          [
           "Stredair Appuah"
          ],
          [
           "Yakup Arda Kılıç"
          ],
          [
           "Osman Çelik"
          ],
          [
           "Norberto Bercique Gomes Betuncal"
          ],
          [
           "Jannes Luca Wieckhoff"
          ],
          [
           "Omar El Hilali"
          ],
          [
           "Pontus Almqvist"
          ],
          [
           "Griffin McDorman Yow"
          ],
          [
           "Igor Julio dos Santos de Paulo"
          ],
          [
           "Camiel Neghli"
          ],
          [
           "Michele Besaggio"
          ],
          [
           "Leo Sauer"
          ],
          [
           "Mehdi Jeannin"
          ],
          [
           "Levin Mete Öztunali"
          ],
          [
           "Otabek Shukurov"
          ],
          [
           "Volnei Feltes"
          ],
          [
           "Ion Nicolăescu"
          ],
          [
           "Danilo Luiz da Silva"
          ],
          [
           "Momodou Lamin Sonko"
          ],
          [
           "Jamie Paterson"
          ],
          [
           "Mahamé Siby"
          ],
          [
           "Ramy Bensebaini"
          ],
          [
           "Louis Mafouta"
          ],
          [
           "Giovanni Corradini"
          ],
          [
           "Filip Stevanović"
          ],
          [
           "Derensili Sanches Fernandes"
          ],
          [
           "Tim-Henry Handwerker"
          ],
          [
           "Nicola Bagnolini"
          ],
          [
           "Simon Désiré Sylvanus Deli"
          ],
          [
           "Jairo Izquierdo González"
          ],
          [
           "Manor Solomon"
          ],
          [
           "Bernardo de Souza"
          ],
          [
           "Javier Hernández Coarasa"
          ],
          [
           "長谷 部誠"
          ],
          [
           "Moritz-Broni Kwarteng"
          ],
          [
           "Jose Luís García Vayá"
          ],
          [
           "Riccardo Sottil"
          ],
          [
           "Lewis Harry Holtby"
          ],
          [
           "Giuseppe Aurelio"
          ],
          [
           "Yvann Maçon"
          ],
          [
           "Alfie Jones"
          ],
          [
           "Hakan Arslan"
          ],
          [
           "Tiago Emanuel Embaló Djaló"
          ],
          [
           "Abdallah Ndour"
          ],
          [
           "Facundo Esnáider Ruiz"
          ],
          [
           "Helton Brant Aleixo Leite"
          ],
          [
           "Jesús Joaquín Fernández Sáez de la Torre"
          ],
          [
           "Ryan Trevitt"
          ],
          [
           "Ángel Alarcón Galiot"
          ],
          [
           "Gaetano Vittorio Masucci"
          ],
          [
           "Ali Alipour"
          ],
          [
           "Cengiz Ünder"
          ],
          [
           "Cristian Ignacio Herrera Pérez"
          ],
          [
           "Erdem Canpolat"
          ],
          [
           "Mehdi Zeffane"
          ],
          [
           "Toon Raemaekers"
          ],
          [
           "Joarlem Batista Santos"
          ],
          [
           "Tygo Land"
          ],
          [
           "Vladimír Coufal"
          ],
          [
           "Kylian Mbappé Lottin"
          ],
          [
           "Wilfried Zaha"
          ],
          [
           "Janio Bikel Figueiredo da Silva"
          ],
          [
           "Bastien Meupiyou"
          ],
          [
           "Marcos Aoás Corrêa"
          ],
          [
           "Mujaid Sadick Aliu"
          ],
          [
           "Adrien Rabiot"
          ],
          [
           "Giuseppe Caso"
          ],
          [
           "Florian Tristan Mariano Thauvin"
          ],
          [
           "Nathan Ferguson"
          ],
          [
           "Taylor Foran"
          ],
          [
           "David Nicolás Andrade"
          ],
          [
           "Lucas Martínez Quarta"
          ],
          [
           "Charles Traoré"
          ],
          [
           "Cameron Pring"
          ],
          [
           "Boubakary Soumaré"
          ],
          [
           "Johann Berg Guðmunds­son"
          ],
          [
           "Andreas Bruus"
          ],
          [
           "Sebastian Andersson"
          ],
          [
           "Zinedine Ferhat"
          ],
          [
           "Carlos Augusto Zopolato Neves"
          ],
          [
           "Victor James Osimhen"
          ],
          [
           "Joe Gauci"
          ],
          [
           "Omari Giraud-Hutchinson"
          ],
          [
           "Mykhailo Mudryk"
          ],
          [
           "Olivier Deman"
          ],
          [
           "Alexandre Phliponeau"
          ],
          [
           "Nanitamo Jonathan Ikoné"
          ],
          [
           "Burak Öğür"
          ],
          [
           "Georg Strauch"
          ],
          [
           "Nikola Sekulov"
          ],
          [
           "Bartosz Białkowski"
          ],
          [
           "Nicolò Brighenti"
          ],
          [
           "Jake Vokins"
          ],
          [
           "Pierluigi Gollini"
          ],
          [
           "Dylan Williams"
          ],
          [
           "Júnior Udeme Pius"
          ],
          [
           "Borja García Freire"
          ],
          [
           "Tobi Adeyemo"
          ],
          [
           "Jean Thierry Lazare Amani"
          ],
          [
           "José Ángel Esmoris Tasende"
          ],
          [
           "Marvin Senaya"
          ],
          [
           "Anas Ouahim"
          ],
          [
           "Stefan Bajic"
          ],
          [
           "Samuel Gigot"
          ],
          [
           "Amadou Diawara"
          ],
          [
           "Mattia Viviani"
          ],
          [
           "Oscar Vilhelmsson"
          ],
          [
           "Rubén Sobrino Pozuelo"
          ],
          [
           "Derrick Arthur Köhn"
          ],
          [
           "Nicolò Bertola"
          ],
          [
           "Marek Rodák"
          ],
          [
           "Babajide David Akintola"
          ],
          [
           "Matondo-Merveille Papela"
          ],
          [
           "William Silva de Carvalho"
          ],
          [
           "Frank Lehmann"
          ],
          [
           "Juan Miranda González"
          ],
          [
           "Miguel Luís Pinto Veloso"
          ],
          [
           "Antony Iannarilli"
          ],
          [
           "Daley Sinkgraven"
          ],
          [
           "Marc-Oliver Kempf"
          ],
          [
           "Sergio Gómez Martín"
          ],
          [
           "Bennet Winter"
          ],
          [
           "Cristián Alexis Borja González"
          ],
          [
           "Théo Borne"
          ],
          [
           "Gian-Luca Waldschmidt"
          ],
          [
           "Luca Mazzitelli"
          ],
          [
           "Federico Barba"
          ],
          [
           "Damián Rodríguez Sousa"
          ],
          [
           "Doğucan Haspolat"
          ],
          [
           "Niall Nathan Michael Ennis"
          ],
          [
           "Teenage Lingani Hadebe"
          ],
          [
           "Giuseppe Pezzella"
          ],
          [
           "Sardar Azmoun"
          ],
          [
           "Salih Özcan"
          ],
          [
           "Pedro Chirivella Burgos"
          ],
          [
           "Merlin Röhl"
          ],
          [
           "Kaden Rodney"
          ],
          [
           "Nikola Moro"
          ],
          [
           "Marco Schuster"
          ],
          [
           "Sergio González Poirrier"
          ],
          [
           "Tim Breithaupt"
          ],
          [
           "Donyell Malen"
          ],
          [
           "Fábio Samuel Amorim Silva"
          ],
          [
           "Liam Henderson"
          ],
          [
           "Lewis O'Brien"
          ],
          [
           "Armando Izzo"
          ],
          [
           "Pierre-Emile Kordt Højbjerg"
          ],
          [
           "Nicolas Isimat-Mirin"
          ],
          [
           "Adedire Mebude"
          ],
          [
           "Hady Camara"
          ],
          [
           "Maximilian Eggestein"
          ],
          [
           "Christopher Jeffrey Richards"
          ],
          [
           "本 寛也"
          ],
          [
           "Quentin Daubin"
          ],
          [
           "Kristian Šekularac"
          ],
          [
           "Ousmane Dembélé"
          ],
          [
           "Oier Olazábal Paredes"
          ],
          [
           "Tidyane Diagouraga"
          ],
          [
           "Lukas Pinckert"
          ],
          [
           "Anwan Lawrence Nicholas"
          ],
          [
           "Stijn van Gassel"
          ],
          [
           "Iddrisu Baba Mohammed"
          ],
          [
           "Celestin De Schrevel"
          ],
          [
           "Christian Joel Sánchez Leal"
          ],
          [
           "Miguel Rebelo"
          ],
          [
           "Endri Çekiçi"
          ],
          [
           "Mats Lemmens"
          ],
          [
           "George Honeyman"
          ],
          [
           "Brahim Traoré"
          ],
          [
           "Murat Akşit"
          ],
          [
           "John McGinn"
          ],
          [
           "Kerim Çalhanoğlu"
          ],
          [
           "Jean Butez"
          ],
          [
           "Bilal Nadir"
          ],
          [
           "Emil Alfons Holm"
          ],
          [
           "Anouar El Azzouzi"
          ],
          [
           "Gautier Lloris"
          ],
          [
           "Florian Richard Wirtz"
          ],
          [
           "Filipe Miguel Barros Soares"
          ],
          [
           "Carlos Vinícius Santos de Jesús"
          ],
          [
           "Michael John Smith"
          ],
          [
           "Cengiz Demir"
          ],
          [
           "Remi Matthews"
          ],
          [
           "Paul Nebel"
          ],
          [
           "Milad Mohammadi Keshmarzi"
          ],
          [
           "Abdel Hakim Abdallah"
          ],
          [
           "Assane Diao Diaoune"
          ],
          [
           "Harry Kane"
          ],
          [
           "Jamie Knight-Lebel"
          ],
          [
           "Adam Buksa"
          ],
          [
           "Eray Korkmaz"
          ],
          [
           "Mats Rits"
          ],
          [
           "Sergiño Gianni Dest"
          ],
          [
           "Krzysztof Piątek"
          ],
          [
           "Thibo Somers"
          ],
          [
           "Lorenzo Andrenacci"
          ],
          [
           "Bernabé Barragán Maestre"
          ],
          [
           "João Pedro Junqueira de Jesus"
          ],
          [
           "Simone Giordano"
          ],
          [
           "Mamadou Fofana"
          ],
          [
           "Enzo Camille Alain Millot"
          ],
          [
           "Bruno Miguel Semedo Varela"
          ],
          [
           "Kamal Sowah"
          ],
          [
           "Flavio Junior Bianchi"
          ],
          [
           "Fabricio Rosario Dos Santos"
          ],
          [
           "Tony Strata"
          ],
          [
           "Sebastian Rode"
          ],
          [
           "Teddy Boulhendi"
          ],
          [
           "Sofiane Diop"
          ],
          [
           "Philipp Förster"
          ],
          [
           "João Pedro Loureiro da Costa"
          ],
          [
           "Emre Bekir"
          ],
          [
           "Miguel Raimundo Nóbrega"
          ],
          [
           "Loic Williams Ntambue Kayumba"
          ],
          [
           "Robin Bird"
          ],
          [
           "Bakary Haidara"
          ],
          [
           "Raffaele Cartano"
          ],
          [
           "Abdoulie Sanyang"
          ],
          [
           "Salvador Sánchez Ponce"
          ],
          [
           "Víctor Chust García"
          ],
          [
           "Iker Bravo Solanilla"
          ],
          [
           "Gonçalo Baptista Franco"
          ],
          [
           "Nikola Milenković"
          ],
          [
           "Akinlolu Richard Olamide Famewo"
          ],
          [
           "Artur Ioniță"
          ],
          [
           "Raheem Conte"
          ],
          [
           "Jan-Niklas Beste"
          ],
          [
           "Michail Antonio"
          ],
          [
           "Silvan Dominic Widmer"
          ],
          [
           "Leart Paqarada"
          ],
          [
           "Alexandre Roger Oukidja"
          ],
          [
           "Dorukhan Toköz"
          ],
          [
           "Borja Sainz Eguskiza"
          ],
          [
           "João Rodrigo Pereira Escoval"
          ],
          [
           "Đorđe Petrović"
          ],
          [
           "Richie Mamah Laryea"
          ],
          [
           "Pietro Beruatto"
          ],
          [
           "Martin Turk"
          ],
          [
           "Rayan Ny Aina Arnaldo Raveloson"
          ],
          [
           "Sandro Plínio Rosa da Cruz"
          ],
          [
           "Mateusz Praszelik"
          ],
          [
           "Enes Ünal"
          ],
          [
           "Gustavo Fabrice Sangaré"
          ],
          [
           "Blendi Idrizi"
          ],
          [
           "Alex Král"
          ],
          [
           "Pablo Marí Villar"
          ],
          [
           "Sha'mar Lawson"
          ],
          [
           "Leon Bell Bell"
          ],
          [
           "Pedro Nuno Almeida Pinho"
          ],
          [
           "Sofian Kiyine"
          ],
          [
           "Daniel Andrés Luna García"
          ],
          [
           "Fabio Andrea Ruggeri"
          ],
          [
           "Ruslan Malinovskyi"
          ],
          [
           "Lars Edi Stindl"
          ],
          [
           "Boris Tomiak"
          ],
          [
           "Jorge Miramón Santagertrudis"
          ],
          [
           "Marco André da Silva Lopes Matias"
          ],
          [
           "Cebrail Karayel"
          ],
          [
           "Grant Hall"
          ],
          [
           "Iker Muniain Goñi"
          ],
          [
           "Fabian Nürnberger"
          ],
          [
           "Patrick Erras"
          ],
          [
           "Franck Honorat"
          ],
          [
           "Alfonso Pastor Vacas"
          ],
          [
           "Jannik Dehm"
          ],
          [
           "Nikola Vasilj"
          ],
          [
           "Alejandro Quevedo Barber"
          ],
          [
           "David López Guijarro"
          ],
          [
           "Erik Pieters"
          ],
          [
           "Amine Harit"
          ],
          [
           "Finn Gilbert Dahmen"
          ],
          [
           "İbrahim Akdağ"
          ],
          [
           "Ager Aketxe Barrutia"
          ],
          [
           "Lassana Diabaté"
          ],
          [
           "Eneko Ortiz Díaz"
          ],
          [
           "Rubén Alcaraz Jiménez"
          ],
          [
           "Jérémy Mellot"
          ],
          [
           "Javier Alonso Bello"
          ],
          [
           "Joris Chotard"
          ],
          [
           "Steven Skrzybski"
          ],
          [
           "Aitor Córdoba Querejeta"
          ],
          [
           "Romain Thomas"
          ],
          [
           "Mert Müldür"
          ],
          [
           "Julian Börner"
          ],
          [
           "Bryan Gil Salvatierra"
          ],
          [
           "Ahmed Touba"
          ],
          [
           "Robert Kampa"
          ],
          [
           "Adrià Miquel Bosch Sanchis"
          ],
          [
           "Jake Livermore"
          ],
          [
           "Elliott Anderson"
          ],
          [
           "Jochem van de Kamp"
          ],
          [
           "Davide Frattesi"
          ],
          [
           "Marcos Peña Ocaña"
          ],
          [
           "Óscar Clemente Mues"
          ],
          [
           "Diego López Noguerol"
          ],
          [
           "Williot Theo Swedberg"
          ],
          [
           "Pablo Torre Carral"
          ],
          [
           "Julio César Enciso Espínola"
          ],
          [
           "Niels Devalckeneer"
          ],
          [
           "Daniele Ghilardi"
          ],
          [
           "Jordan Semedo"
          ],
          [
           "Danilo dos Santos de Oliveira"
          ],
          [
           "Gonzalo Ávila Gordón"
          ],
          [
           "Djakaridja Junior Traoré"
          ],
          [
           "Armel Bella Kotchap"
          ],
          [
           "Hayden Carter"
          ],
          [
           "Lander Olaetxea Ibaibarriaga"
          ],
          [
           "Daley Blind"
          ],
          [
           "Rafael Jiménez Jarque"
          ],
          [
           "Ajdin Hrustić"
          ],
          [
           "Marius Mouandilmadji"
          ],
          [
           "Javier Puado Díaz"
          ],
          [
           "Florian Loshaj"
          ],
          [
           "Ajibola Alese"
          ],
          [
           "Marcus Tavernier"
          ],
          [
           "Granit Xhaka"
          ],
          [
           "João Manuel Neves Virgínia"
          ],
          [
           "Tim Schleinitz"
          ],
          [
           "Siemen Buvé"
          ],
          [
           "Florent Mollet"
          ],
          [
           "Rijad Smajić"
          ],
          [
           "Osaze Urhoghide"
          ],
          [
           "Aster Jan Vranckx"
          ],
          [
           "Loizos Loizou"
          ],
          [
           "Valerio Mastrantonio"
          ],
          [
           "Dimitrios Pelkas"
          ],
          [
           "Emanuel Vignato"
          ],
          [
           "Mostafa Mohamed Ahmed Abdallah"
          ],
          [
           "Jonathan de Guzmán"
          ],
          [
           "Alpaslan Öztürk"
          ],
          [
           "Ziyad Larkeche"
          ],
          [
           "Álvaro Odriozola Arzalluz"
          ],
          [
           "Gabriel Julien Dominique Barès"
          ],
          [
           "Kepa Arrizabalaga Revuelta"
          ],
          [
           "Charlie Casper"
          ],
          [
           "Théo Luis Fonseca"
          ],
          [
           "Paolo Rozzio"
          ],
          [
           "Unai López Cabrera"
          ],
          [
           "Mert Hakan Yandaş"
          ],
          [
           "Youssef Ramalho Chermiti"
          ],
          [
           "Tom Vandenberghe"
          ],
          [
           "Justin Antonius Lonwijk"
          ],
          [
           "Piotr Sebastian Zieliński"
          ],
          [
           "Tom Ducrocq"
          ],
          [
           "Jean-Charles Castelletto"
          ],
          [
           "Krépin Diatta"
          ],
          [
           "Thomas Christopher Cannon"
          ],
          [
           "Saúl García Cabrero"
          ],
          [
           "Jacopo Manconi"
          ],
          [
           "Nick Olij"
          ],
          [
           "Gonzalo Ariel Montiel"
          ],
          [
           "Diego Espinosa García"
          ],
          [
           "Jordan Yamoah Amissah"
          ],
          [
           "Javier Ontiveros Parra"
          ],
          [
           "Bonke Innocent"
          ],
          [
           "Axel Arthur Disasi"
          ],
          [
           "Aïman Maurer"
          ],
          [
           "Valdemiro Pinto Domingos"
          ],
          [
           "Serge David Gnabry"
          ],
          [
           "Mathis Hamdi"
          ],
          [
           "Mijo Caktaš"
          ],
          [
           "Dennis Geiger"
          ],
          [
           "Jonas Nickisch"
          ],
          [
           "Pietro Iemmello"
          ],
          [
           "Nobel Mendy"
          ],
          [
           "Salim Diakité"
          ],
          [
           "Martin Adeline"
          ],
          [
           "Elia Caprile"
          ],
          [
           "Max Rosenfelder"
          ],
          [
           "Mark Sykes"
          ],
          [
           "Kenneth Josiah Omeruo"
          ],
          [
           "Juan Ferney Otero Tovar"
          ],
          [
           "Robert Wagner"
          ],
          [
           "Matthew James Doherty"
          ],
          [
           "Kristoffer Paul Peterson"
          ],
          [
           "Rémy Boissier"
          ],
          [
           "Mattia Perin"
          ],
          [
           "Serdar Dursun"
          ],
          [
           "Dal Varešanović"
          ],
          [
           "Djenahro Nunumete"
          ],
          [
           "Zeki Yavru"
          ],
          [
           "Charlie Cresswell"
          ],
          [
           "Youri Regeer"
          ],
          [
           "Téva Gardies"
          ],
          [
           "Philana Tinotenda Kadewere"
          ],
          [
           "Sergio Guardiola Navarro"
          ],
          [
           "Maxime Chanot"
          ],
          [
           "William Balikwisha"
          ],
          [
           "Frederik Riis Rønnow"
          ],
          [
           "Giacomo Beretta"
          ],
          [
           "Bećir Omeragić"
          ],
          [
           "Álvaro Santamaría Arenas"
          ],
          [
           "Youri Baas"
          ],
          [
           "Benjamin André"
          ],
          [
           "Žan Majer"
          ],
          [
           "Emmanuel Afriyie Mario Sabbi"
          ],
          [
           "Darko Gyabi"
          ],
          [
           "Chris Anthony Willock"
          ],
          [
           "Han-Noah Massengo"
          ],
          [
           "Mario René Junior Lemina"
          ],
          [
           "Stijn Bultman"
          ],
          [
           "Anas Tahiri"
          ],
          [
           "Brandon Baiye"
          ],
          [
           "João Victor Tornich"
          ],
          [
           "Stipe Biuk"
          ],
          [
           "Auston Levi-Jesaiah Trusty"
          ],
          [
           "Álvaro Vadillo Cifuentes"
          ],
          [
           "Anthony Oyono Omva Torque"
          ],
          [
           "Murillo Costa dos Santos"
          ],
          [
           "Joelson Augusto Mendes Mango Fernandes"
          ],
          [
           "Lucas Estella Perri"
          ],
          [
           "Kwadwo Kyeremeh Baah"
          ],
          [
           "Ander Guevara Lajo"
          ],
          [
           "George Tanner"
          ],
          [
           "Francesco Amatucci"
          ],
          [
           "Mikel Oyarzabal Ugarte"
          ],
          [
           "Alejandro Francés Torrijo"
          ],
          [
           "Matteo Gabbia"
          ],
          [
           "Tony Jantschke"
          ],
          [
           "Steven Fortes"
          ],
          [
           "Toluwalase Emmanuel Arokodare"
          ],
          [
           "Jiří Pavlenka"
          ],
          [
           "Ionuț Nedelcearu"
          ],
          [
           "Luis Federico López Andúgar"
          ],
          [
           "Giovanni Crociata"
          ],
          [
           "Daniel Raba Antolin"
          ],
          [
           "Jean Michaël Seri"
          ],
          [
           "Miguel de la Fuente Escudero"
          ],
          [
           "Corentin Michel"
          ],
          [
           "Sammy Braybrooke"
          ],
          [
           "Andrew Hughes"
          ],
          [
           "Germán Fernández Hidalgo"
          ],
          [
           "Juan Manuel Bravo Alcántara"
          ],
          [
           "Djeidi Gassama"
          ],
          [
           "Marcos Alonso Mendoza"
          ],
          [
           "Luca Zinedine Zidane"
          ],
          [
           "Christian Kabasele"
          ],
          [
           "Javier Garrido López"
          ],
          [
           "Miguel Ângelo Gomes Ferreira Magalhães"
          ],
          [
           "Scott Brian Banks"
          ],
          [
           "Perry Ng Tian-Hee"
          ],
          [
           "João Filipe Iria Santos Moutinho"
          ],
          [
           "Luca Pfeiffer"
          ],
          [
           "Gino Fechner"
          ],
          [
           "Adrion Pajaziti"
          ],
          [
           "Efecan Karaca"
          ],
          [
           "Rob Holding"
          ],
          [
           "Jamie William Lindsay"
          ],
          [
           "Iñigo Vicente Elorduy"
          ],
          [
           "Fabiano Josué de Souza Silva"
          ],
          [
           "Jordi Mboula Queralt"
          ],
          [
           "Deniz Dilmen"
          ],
          [
           "Loïc Mbe Soh"
          ],
          [
           "Phillipp Klement"
          ],
          [
           "Timon Vanhoutte"
          ],
          [
           "Niklas Bernd Dorsch"
          ],
          [
           "Arthur Atta"
          ],
          [
           "Nathaniel Chalobah"
          ],
          [
           "Caio Henrique Oliveira Silva"
          ],
          [
           "Anssumane Fati"
          ],
          [
           "Søren Tengstedt"
          ],
          [
           "Marcus Vinícius Oliveira Alencar"
          ],
          [
           "Diego José Conde Alcolado"
          ],
          [
           "Afonso Bastardo Moreira"
          ],
          [
           "Matéo Loubatières"
          ],
          [
           "Andrea Colpani"
          ],
          [
           "Michael Simões Domingues"
          ],
          [
           "Ayman Aiki"
          ],
          [
           "Charlie Patino"
          ],
          [
           "Sven Ulreich"
          ],
          [
           "Bryan Heynen"
          ],
          [
           "Marco Moreno Ojeda"
          ],
          [
           "Mario Šitum"
          ],
          [
           "Dominick Drexler"
          ],
          [
           "Olimpiu Vasile Moruțan"
          ],
          [
           "Pep Biel Mas Jaume"
          ],
          [
           "Ghjuvanni Quilichini"
          ],
          [
           "Bruno Maximiliano Martins Indi"
          ],
          [
           "Rúben dos Santos Gato Alves Dias"
          ],
          [
           "Bogdan Milovanov"
          ],
          [
           "Oliver McBurnie"
          ],
          [
           "Pelle van Amersfoort"
          ],
          [
           "Leo Štulac"
          ],
          [
           "Pasquale Mazzocchi"
          ],
          [
           "Junior Tchamadeu"
          ],
          [
           "Bilal Bayazıt"
          ],
          [
           "Arda Güler"
          ],
          [
           "Isaac Ajayi Success"
          ],
          [
           "Jesús José Bernal Villarig"
          ],
          [
           "Jasper van der Werff"
          ],
          [
           "Vangelis Pavlidis"
          ],
          [
           "Antoine Batisse"
          ],
          [
           "Cédric Brunner"
          ],
          [
           "Edgar Badia Guardiola"
          ],
          [
           "Pablo Insua Blanco"
          ],
          [
           "Joshua Lloyd Ginnelly"
          ],
          [
           "Fodé Sylla"
          ]
         ],
         "hovertemplate": "Actual Salary=%{x}<br>Predicted Salary=%{y}<br>PlayerName=%{customdata[0]}<extra></extra>",
         "legendgroup": "",
         "marker": {
          "color": "#636efa",
          "symbol": "circle"
         },
         "mode": "markers",
         "name": "",
         "showlegend": false,
         "type": "scattergl",
         "x": [
          3000,
          36000,
          32000,
          2000,
          2000,
          20000,
          11000,
          5000,
          13000,
          28000,
          4000,
          3000,
          3000,
          3000,
          4000,
          3000,
          2000,
          5000,
          2000,
          3000,
          5000,
          90000,
          15000,
          15000,
          17000,
          16000,
          800,
          2000,
          8000,
          8000,
          5000,
          6000,
          27000,
          8000,
          950,
          4000,
          5000,
          60000,
          29000,
          1000,
          30000,
          8000,
          6000,
          1000,
          1000,
          8000,
          7000,
          19000,
          5000,
          36000,
          2000,
          10000,
          6000,
          4000,
          35000,
          2000,
          8000,
          250000,
          2000,
          61000,
          15000,
          38000,
          39000,
          2000,
          49000,
          27000,
          500,
          6000,
          22000,
          8000,
          1000,
          7000,
          4000,
          3000,
          28000,
          2000,
          5000,
          5000,
          900,
          4000,
          1000,
          2000,
          1000,
          12000,
          2000,
          14000,
          500,
          28000,
          2000,
          9000,
          165000,
          5000,
          700,
          88000,
          5000,
          4000,
          6000,
          4000,
          11000,
          7000,
          1000,
          3000,
          7000,
          6000,
          7000,
          3000,
          7000,
          2000,
          5000,
          6000,
          105000,
          7000,
          1000,
          5000,
          3000,
          7000,
          2000,
          5000,
          2000,
          105000,
          6000,
          1000,
          7000,
          20000,
          1000,
          25000,
          43000,
          11000,
          2000,
          1000,
          7000,
          2000,
          2000,
          2000,
          31000,
          15000,
          22000,
          3000,
          20000,
          2000,
          25000,
          17000,
          500,
          4000,
          3000,
          12000,
          19000,
          22000,
          11000,
          15000,
          79000,
          6000,
          15000,
          1000,
          80000,
          18000,
          15000,
          4000,
          2000,
          12000,
          36000,
          2000,
          78000,
          7000,
          15000,
          750,
          3000,
          3000,
          2000,
          2000,
          56000,
          59000,
          11000,
          64000,
          3000,
          6000,
          10000,
          4000,
          32000,
          15000,
          8000,
          2000,
          29000,
          12000,
          7000,
          10000,
          68000,
          1000,
          1000,
          14000,
          7000,
          5000,
          40000,
          2000,
          42000,
          15000,
          8000,
          500,
          4000,
          180000,
          10000,
          5000,
          3000,
          36000,
          12000,
          6000,
          4000,
          3000,
          24000,
          1000,
          130000,
          90000,
          2000,
          4000,
          3000,
          5000,
          1000,
          9000,
          600,
          5000,
          4000,
          30000,
          5000,
          2000,
          5000,
          2000,
          28000,
          750,
          6000,
          6000,
          8000,
          20000,
          500,
          21000,
          150000,
          16000,
          25000,
          10000,
          8000,
          3000,
          2000,
          2000,
          1000,
          500,
          34000,
          2000,
          20000,
          8000,
          1000,
          1000,
          13000,
          5000,
          78000,
          4000,
          3000,
          6000,
          5000,
          3000,
          5000,
          20000,
          4000,
          5000,
          6000,
          1000,
          3000,
          17000,
          8000,
          13000,
          2000,
          13000,
          2000,
          4000,
          2000,
          21000,
          5000,
          27000,
          7000,
          29000,
          25000,
          650,
          850,
          56000,
          7000,
          6000,
          12000,
          63000,
          13000,
          7000,
          650,
          3000,
          2000,
          15000,
          2000,
          130000,
          5000,
          2000,
          3000,
          9000,
          23000,
          7000,
          31000,
          1000,
          12000,
          3000,
          4000,
          9000,
          15000,
          500,
          60000,
          19000,
          500,
          3000,
          11000,
          2000,
          1000,
          9000,
          30000,
          7000,
          16000,
          58000,
          19000,
          4000,
          43000,
          105000,
          3000,
          2000,
          3000,
          10000,
          2000,
          26000,
          1000,
          13000,
          8000,
          750,
          24000,
          2000,
          500,
          4000,
          170000,
          3000,
          20000,
          500,
          500,
          32000,
          24000,
          2000,
          1000,
          7000,
          23000,
          2000,
          6000,
          16000,
          200000,
          900,
          9000,
          3000,
          1000,
          2000,
          44000,
          7000,
          49000,
          3000,
          3000,
          23000,
          20000,
          23000,
          4000,
          5000,
          11000,
          17000,
          7000,
          2000,
          5000,
          8000,
          3000,
          11000,
          7000,
          1000,
          3000,
          52000,
          22000,
          1000,
          12000,
          2000,
          3000,
          49000,
          5000,
          46000,
          600,
          950,
          25000,
          10000,
          5000,
          15000,
          18000,
          950,
          500,
          29000,
          1000,
          8000,
          31000,
          59000,
          15000,
          2000,
          8000,
          2000,
          3000,
          2000,
          13000,
          4000,
          150000,
          7000,
          18000,
          1000,
          8000,
          2000,
          17000,
          15000,
          90000,
          10000,
          850,
          13000,
          8000,
          1000,
          3000,
          850,
          1000,
          2000,
          2000,
          2000,
          500,
          5000,
          4000,
          53000,
          18000,
          2000,
          5000,
          9000,
          2000,
          7000,
          6000,
          5000,
          11000,
          5000,
          750,
          14000,
          14000,
          19000,
          31000,
          2000,
          1000,
          7000,
          11000,
          2000,
          18000,
          36000,
          17000,
          10000,
          7000,
          1000,
          16000,
          50000,
          2000,
          2000,
          17000,
          3000,
          1000,
          9000,
          15000,
          5000,
          5000,
          1000,
          4000,
          1000,
          4000,
          3000,
          14000,
          125000,
          7000,
          13000,
          3000,
          3000,
          1000,
          8000,
          14000,
          90000,
          1000,
          3000,
          3000,
          9000,
          3000,
          6000,
          2000,
          16000,
          51000,
          8000,
          6000,
          13000,
          4000,
          6000,
          12000,
          750,
          5000,
          800,
          16000,
          3000,
          26000,
          1000,
          31000,
          2000,
          11000,
          53000,
          2000,
          12000,
          20000,
          21000,
          1000,
          500,
          11000,
          3000,
          3000,
          11000,
          1000,
          1000,
          500,
          4000,
          22000,
          2000,
          40000,
          2000,
          4000,
          18000,
          5000,
          5000,
          1000,
          500,
          7000,
          23000,
          2000,
          7000,
          17000,
          500,
          7000,
          25000,
          2000,
          11000,
          105000,
          95000,
          22000,
          3000,
          25000,
          1000,
          9000,
          15000,
          8000,
          5000,
          2000,
          2000,
          5000,
          6000,
          11000,
          17000,
          500,
          4000,
          7000,
          4000,
          12000,
          3000,
          500,
          2000,
          2000,
          8000,
          18000,
          5000,
          33000,
          4000,
          2000,
          13000,
          14000,
          8000,
          43000,
          15000,
          4000,
          2000,
          2000,
          2000,
          68000,
          35000,
          6000,
          4000,
          14000,
          6000,
          550,
          7000,
          5000,
          1000,
          4000,
          18000,
          15000,
          13000,
          4000,
          500,
          500,
          21000,
          5000,
          2000,
          32000,
          14000,
          4000,
          18000,
          3000,
          10000,
          7000,
          12000,
          37000,
          5000,
          1000,
          26000,
          1000,
          1000,
          22000,
          22000,
          5000,
          110000,
          600,
          11000,
          3000,
          30000,
          7000,
          3000,
          7000,
          1000,
          1000,
          2000,
          37000,
          12000,
          500,
          43000,
          950,
          4000,
          3000,
          18000,
          1000,
          15000,
          4000,
          550,
          1000,
          6000,
          10000,
          6000,
          37000,
          22000,
          2000,
          2000,
          2000,
          700,
          6000,
          3000,
          11000,
          38000,
          2000,
          33000,
          6000,
          4000,
          500,
          5000,
          8000,
          13000,
          6000,
          36000,
          34000,
          1000,
          650,
          2000,
          4000,
          3000,
          51000,
          7000,
          7000,
          4000,
          4000,
          2000,
          700,
          2000,
          37000,
          3000,
          5000,
          7000,
          6000,
          6000,
          2000,
          3000,
          6000,
          29000,
          21000,
          2000,
          51000,
          8000,
          26000,
          19000,
          46000,
          13000,
          19000,
          2000,
          85000,
          9000,
          6000,
          9000,
          2000,
          6000,
          16000,
          11000,
          2000,
          4000,
          23000,
          22000,
          500,
          5000,
          2000,
          23000,
          2000,
          1000,
          3000,
          2000,
          3000,
          22000,
          19000,
          8000,
          20000,
          2000,
          6000,
          39000,
          23000,
          28000,
          3000,
          10000,
          2000,
          500,
          500,
          7000,
          4000,
          3000,
          850,
          13000,
          9000,
          13000,
          5000,
          49000,
          3000,
          39000,
          8000,
          10000,
          750,
          21000,
          2000,
          4000,
          10000,
          900,
          1000,
          10000,
          56000,
          170000,
          650,
          5000,
          10000,
          2000,
          7000,
          48000,
          3000,
          210000,
          16000,
          4000,
          39000,
          8000,
          22000,
          30000,
          11000,
          600,
          34000,
          43000,
          71000,
          4000,
          5000,
          850,
          2000,
          65000,
          4000,
          9000,
          500,
          500,
          9000,
          6000,
          5000,
          16000,
          1000,
          9000,
          51000,
          2000,
          4000,
          1000,
          5000,
          8000,
          27000,
          7000,
          25000,
          23000,
          16000,
          750,
          12000,
          55000,
          3000,
          4000,
          9000,
          500,
          3000,
          1000,
          2000,
          3000,
          34000,
          26000,
          5000,
          23000,
          500,
          5000,
          2000,
          2000,
          36000,
          5000,
          6000,
          2000,
          1000,
          15000,
          3000,
          2000,
          19000,
          23000,
          165000,
          10000,
          200000,
          35000,
          60000,
          4000,
          135000,
          9000,
          3000,
          5000,
          650,
          4000,
          2000,
          8000,
          6000,
          18000,
          36000,
          6000,
          19000,
          38000,
          3000,
          15000,
          1000,
          30000,
          16000,
          3000,
          8000,
          500,
          2000,
          7000,
          2000,
          8000,
          4000,
          2000,
          29000,
          20000,
          46000,
          54000,
          36000,
          1000,
          14000,
          16000,
          11000,
          8000,
          3000,
          14000,
          2000,
          4000,
          35000,
          10000,
          8000,
          500,
          15000,
          2000,
          7000,
          84000,
          1000,
          12000,
          9000,
          7000,
          23000,
          8000,
          27000,
          18000,
          2000,
          46000,
          44000,
          850,
          4000,
          6000,
          25000,
          2000,
          7000,
          1000,
          1000,
          11000,
          8000,
          71000,
          120000,
          3000,
          3000,
          1000,
          5000,
          2000,
          500,
          31000,
          86000,
          12000,
          2000,
          1000,
          78000,
          22000,
          10000,
          10000,
          5000,
          3000,
          10000,
          20000,
          20000,
          5000,
          10000,
          2000,
          7000,
          9000,
          4000,
          16000,
          4000,
          37000,
          1000,
          33000,
          10000,
          27000,
          3000,
          16000,
          2000,
          1000,
          7000,
          3000,
          32000,
          57000,
          17000,
          3000,
          4000,
          5000,
          24000,
          11000,
          10000,
          3000,
          1000,
          1000,
          12000,
          9000,
          14000,
          22000,
          850,
          750,
          6000,
          4000,
          115000,
          1000,
          1000,
          19000,
          2000,
          38000,
          5000,
          10000,
          9000,
          9000,
          1000,
          12000,
          13000,
          16000,
          6000,
          2000,
          220000,
          73000,
          36000,
          6000,
          3000,
          3000,
          19000,
          20000,
          3000,
          7000,
          130000,
          2000,
          3000,
          44000,
          800,
          7000,
          15000,
          21000,
          2000,
          29000,
          33000,
          40000,
          17000,
          31000,
          15000,
          7000,
          34000,
          900,
          4000,
          2000,
          27000,
          1000,
          2000,
          19000,
          4000,
          13000,
          7000,
          4000,
          20000,
          22000,
          5000,
          2000,
          11000,
          20000,
          24000,
          29000,
          15000,
          500,
          7000,
          37000,
          3000,
          1000,
          13000,
          4000,
          2000,
          44000,
          13000,
          5000,
          2000,
          4000,
          18000,
          68000,
          7000,
          29000,
          56000,
          2000,
          950,
          2000,
          7000,
          4000,
          6000,
          1000,
          53000,
          3000,
          6000,
          2000,
          1000,
          49000,
          1000,
          2000,
          2000,
          3000,
          49000,
          2000,
          3000,
          12000,
          2000,
          58000,
          2000,
          750,
          900,
          1000,
          15000,
          7000,
          3000,
          4000,
          100000,
          2000,
          18000,
          3000,
          47000,
          4000,
          500,
          17000,
          2000,
          6000,
          1000,
          8000,
          6000,
          68000,
          33000,
          1000,
          15000,
          12000,
          33000,
          44000,
          18000,
          2000,
          5000,
          9000,
          7000,
          61000,
          3000,
          3000,
          17000,
          38000,
          6000,
          22000,
          2000,
          4000,
          35000,
          8000,
          3000,
          7000,
          3000,
          3000,
          500,
          60000,
          230000,
          53000,
          6000,
          500,
          140000,
          11000,
          150000,
          9000,
          17000,
          8000,
          6000,
          1000,
          45000,
          3000,
          19000,
          31000,
          32000,
          2000,
          5000,
          7000,
          48000,
          100000,
          16000,
          3000,
          78000,
          14000,
          1000,
          51000,
          2000,
          3000,
          13000,
          6000,
          1000,
          6000,
          33000,
          7000,
          3000,
          22000,
          2000,
          13000,
          46000,
          10000,
          3000,
          4000,
          38000,
          14000,
          950,
          6000,
          25000,
          24000,
          700,
          47000,
          7000,
          7000,
          30000,
          2000,
          20000,
          3000,
          2000,
          13000,
          12000,
          64000,
          2000,
          11000,
          1000,
          38000,
          11000,
          4000,
          3000,
          4000,
          9000,
          8000,
          8000,
          56000,
          39000,
          20000,
          11000,
          2000,
          24000,
          7000,
          7000,
          10000,
          52000,
          7000,
          9000,
          35000,
          35000,
          100000,
          5000,
          1000,
          1000,
          23000,
          26000,
          10000,
          3000,
          6000,
          150000,
          4000,
          800,
          2000,
          4000,
          4000,
          24000,
          2000,
          2000,
          1000,
          7000,
          2000,
          22000,
          950,
          1000,
          90000,
          3000,
          26000,
          4000,
          3000,
          2000,
          13000,
          77000,
          700,
          10000,
          9000,
          2000,
          7000,
          9000,
          11000,
          2000,
          2000,
          170000,
          1000,
          31000,
          2000,
          22000,
          86000,
          20000,
          10000,
          2000,
          2000,
          52000,
          700,
          2000,
          16000,
          8000,
          14000,
          1000,
          7000,
          500,
          31000,
          5000,
          36000,
          16000,
          8000,
          2000,
          3000,
          2000,
          3000,
          550,
          600,
          2000,
          8000,
          21000,
          6000,
          6000,
          50000,
          5000,
          4000,
          2000,
          27000,
          71000,
          25000,
          18000,
          13000,
          13000,
          16000,
          2000,
          47000,
          34000,
          4000,
          500,
          5000,
          2000,
          7000,
          41000,
          2000,
          5000,
          27000,
          40000,
          3000,
          5000,
          1000,
          6000,
          6000,
          2000,
          30000,
          16000,
          7000,
          9000,
          3000,
          5000,
          6000,
          33000,
          14000,
          11000,
          29000,
          1000,
          10000,
          8000,
          1000,
          4000,
          20000,
          38000,
          18000,
          4000,
          11000,
          500,
          3000,
          30000,
          7000,
          3000,
          15000,
          19000,
          6000,
          4000,
          20000,
          9000,
          68000,
          12000,
          500,
          4000,
          17000,
          43000,
          950,
          22000,
          1000,
          3000,
          22000,
          7000,
          54000,
          24000,
          1000,
          3000,
          5000,
          44000,
          19000,
          3000,
          24000,
          18000,
          4000,
          26000,
          26000,
          5000,
          8000,
          12000,
          4000,
          9000,
          38000,
          74000,
          9000,
          1000,
          500,
          19000,
          2000,
          2000,
          26000,
          2000,
          750,
          19000,
          4000,
          23000,
          4000,
          5000,
          2000,
          27000,
          4000,
          90000,
          600,
          3000,
          1000,
          16000,
          21000,
          16000,
          6000,
          500,
          72000,
          2000,
          21000,
          36000,
          16000,
          5000,
          1000,
          9000,
          26000,
          500,
          2000,
          4000,
          12000,
          89000,
          2000,
          2000,
          82000,
          650,
          15000,
          27000,
          1000,
          3000,
          500,
          2000,
          3000,
          17000,
          5000,
          15000,
          7000,
          12000,
          6000,
          45000,
          7000,
          2000,
          73000,
          17000,
          5000,
          1000,
          3000,
          15000,
          3000,
          850,
          25000,
          22000,
          6000,
          6000,
          27000,
          1000,
          11000,
          1000,
          3000,
          35000,
          2000,
          10000,
          4000,
          14000,
          18000,
          68000,
          500,
          4000,
          2000,
          2000,
          4000,
          22000,
          5000,
          3000,
          20000,
          3000,
          24000,
          5000,
          21000,
          9000,
          950,
          54000,
          6000,
          33000,
          16000,
          2000,
          10000,
          17000,
          3000,
          1000,
          2000,
          10000,
          14000,
          14000,
          850,
          4000,
          17000,
          1000,
          3000,
          3000,
          105000,
          5000,
          10000,
          600,
          6000,
          6000,
          8000,
          11000,
          12000,
          4000,
          9000,
          14000,
          33000,
          5000,
          10000,
          6000,
          6000,
          500,
          15000,
          8000,
          1000,
          23000,
          3000,
          21000,
          48000,
          86000,
          2000,
          33000,
          5000,
          3000,
          600,
          45000,
          4000,
          550,
          18000,
          32000,
          18000,
          6000,
          2000,
          9000,
          9000,
          26000,
          650,
          9000,
          250000,
          3000,
          27000,
          4000,
          3000,
          36000,
          3000,
          5000,
          41000,
          14000,
          3000,
          6000,
          15000,
          2000,
          8000,
          9000,
          6000,
          17000,
          750
         ],
         "xaxis": "x",
         "y": [
          9899.460119924941,
          36327.60300426255,
          30943.746998771432,
          3681.7682341217924,
          3373.595053449676,
          17835.686593292645,
          13233.983163367635,
          5560.442422027215,
          13559.845914359337,
          15753.615459132732,
          2838.480447204764,
          3726.3645250693344,
          3145.3734732562616,
          4294.664459468734,
          3853.268125202619,
          3984.584838658186,
          1681.4870916418538,
          6161.922822935089,
          3092.847576045147,
          4242.389775861725,
          5750.161064205948,
          78339.69897612017,
          19358.13280099632,
          9096.62756678711,
          25247.780104323443,
          10787.032775472146,
          2932.25943395695,
          1772.0684463403038,
          13500.572791447887,
          5831.93784726642,
          3771.5997114097213,
          4483.593619627462,
          6065.172392347605,
          10558.488096522266,
          947.0835830127685,
          5389.424919860704,
          5087.500556221358,
          46744.854791062404,
          23504.322904800083,
          1637.0294194634891,
          29305.117920244553,
          12359.106410777682,
          4079.853186844894,
          1897.929800656211,
          1438.4980464190335,
          6747.769349827098,
          10854.357375368685,
          21860.918716995857,
          4628.207188667455,
          38026.03271940911,
          4752.5495207733975,
          5842.291734071892,
          2911.209999822914,
          6131.024036481895,
          30581.911504693708,
          2117.423486796077,
          7406.342917058486,
          208272.51555134985,
          4690.4317588120775,
          33184.10731626766,
          12829.030752075987,
          32145.985743235073,
          37985.424686266466,
          2406.454906835503,
          47243.25267625547,
          17375.97955481842,
          110.5404051208029,
          6626.7720087620555,
          12339.78408321539,
          7859.900691028118,
          1024.6194345934473,
          5256.669255966162,
          5214.33682934857,
          3912.1841086920244,
          28184.861329092273,
          1074.303636486339,
          5727.82135014376,
          3759.981121819829,
          904.4066831231235,
          5587.854755152678,
          741.5184405247627,
          887.4421573093739,
          1725.820638961364,
          15823.405533942758,
          2230.6343729747628,
          14598.21112575629,
          1172.2741092935698,
          27689.723054261853,
          1025.5988474768503,
          10827.84960601088,
          197983.50634528883,
          6582.166169408718,
          0,
          79312.22270340812,
          8904.942324785314,
          6724.560862499205,
          6154.1316160771285,
          4950.983925649779,
          8756.845854419167,
          8248.706171226071,
          1926.5780434745443,
          3250.754576454532,
          6866.942769440956,
          5402.299582970756,
          7776.314161029981,
          3711.081368155535,
          4239.67441277256,
          3146.5418038932426,
          6397.396207649761,
          4687.420499627956,
          113677.89787178999,
          9941.178987812023,
          1389.0820979531586,
          4574.798649033808,
          3107.1521146031128,
          7903.038841629695,
          1755.3013978158763,
          7178.810168147918,
          2878.028156365749,
          98379.98422024929,
          3376.6942077882027,
          1046.960805649464,
          4456.209430416202,
          17330.611133581693,
          1197.0902016855125,
          24216.696061793227,
          38374.89816514809,
          14632.751758962422,
          1935.0599383701735,
          2099.0078770161285,
          8382.959806959041,
          2287.8722416418623,
          2661.3008202245996,
          3206.85491832649,
          28985.161210850416,
          20976.473738825378,
          19714.878272514685,
          2081.518966381567,
          28311.865033927977,
          2392.176978046696,
          22526.316548181647,
          14501.046353791042,
          0,
          2676.4161784421617,
          4017.721915716865,
          10399.085612652421,
          45722.75952831549,
          19453.68312340949,
          8356.929647637153,
          6289.387086458404,
          97160.83227603463,
          5579.305778207008,
          21293.91720642264,
          1040.2531146854656,
          89180.1380202733,
          32275.17224582524,
          15925.056492861131,
          2724.057471553818,
          1582.0997940898892,
          20933.483918189602,
          27106.201293340146,
          3293.6626795099205,
          57447.906324267955,
          7038.9292134387215,
          16474.362059453393,
          662.0545688853124,
          3973.7621339035086,
          3252.9544034446462,
          1532.5206067678096,
          3652.8097004944484,
          35737.47840018779,
          55479.46889659262,
          13513.45916813023,
          97094.59214401408,
          3188.547905446911,
          5723.6211163939715,
          7522.756222705396,
          6272.667934756238,
          31980.610941010633,
          14274.645015819735,
          13206.557376277471,
          1970.7357066739316,
          43851.876548974265,
          10230.114667700347,
          7991.987903641171,
          8928.78063521326,
          18360.349131965137,
          1073.979419506756,
          862.7327555785782,
          19722.674697166225,
          8680.962942566202,
          5789.57478574043,
          23564.78527853257,
          2286.873761879829,
          44388.940579835704,
          17527.866643084362,
          15411.867130700251,
          527.5732023481231,
          4334.742607479797,
          194165.0087806463,
          9073.139203394216,
          7059.230913775638,
          6595.437411979393,
          39980.372585501704,
          7318.889470841358,
          5777.230208045579,
          8883.916900287886,
          5664.972063343518,
          27986.548506922383,
          1731.6154812938648,
          89172.940993122,
          82172.54035220905,
          2191.377476099161,
          4195.591619029847,
          3870.7481911101404,
          4306.160238085145,
          1896.3181085870601,
          8933.225133566355,
          431.87321981851085,
          6187.359906264098,
          4796.340940074089,
          28663.24034462115,
          6155.1546670096905,
          2209.705428749472,
          4699.790923582897,
          1330.9744406289062,
          27006.97404075441,
          654.4547546648128,
          4819.000383547688,
          5898.171530080483,
          7898.842163594739,
          20857.89388630569,
          619.4101646627399,
          28186.41342749205,
          173863.89973111433,
          14307.186413625566,
          24910.500446086295,
          7416.7222672492635,
          7697.602880079533,
          6018.313565925135,
          1801.3614143742207,
          1709.2702251700043,
          1867.1810218120524,
          694.317453640258,
          37688.15496722215,
          2100.799327657546,
          14033.140787585813,
          10748.285402978026,
          1202.6585382992082,
          1464.9344596255985,
          8982.17430870929,
          4637.302230313176,
          92906.16423525538,
          6702.894216592376,
          2684.820953320918,
          9973.071979837056,
          5713.197450134932,
          3853.31901808047,
          6108.035762872665,
          17214.731860182437,
          1929.5015418881424,
          6028.011834210422,
          4550.2821954793635,
          2482.5297619957214,
          7777.0268931434775,
          20680.69888528299,
          8289.88325693364,
          10019.743482037979,
          3783.348750879381,
          14736.73476365216,
          4369.567170280959,
          5795.886841130271,
          1851.6655738472987,
          24474.471751177236,
          8355.7592433252,
          17526.556657511435,
          9094.747531099092,
          23455.228873108194,
          22218.855152209984,
          545.9340654304034,
          1372.8775925205725,
          64130.97863534943,
          9290.445331905335,
          7123.342355643133,
          9738.202387612318,
          69929.46465252619,
          7355.409414566534,
          8426.834915318244,
          286.93808925451947,
          3129.872774454022,
          1091.335779064245,
          6715.295011987474,
          1389.7213681105552,
          137602.7659589649,
          3909.0523238400187,
          812.6856807741095,
          1617.8030347727317,
          7059.626090597616,
          22128.01881184463,
          9634.821420738785,
          32411.206859638194,
          2181.2562344659004,
          13967.73111516548,
          4725.033059914342,
          505.5891339510373,
          6146.798182106177,
          13234.567618916755,
          268.2445369037878,
          69313.9251867323,
          17419.248528080963,
          42.85466183083027,
          1322.9280621701282,
          14645.819424694691,
          1563.4437267005467,
          826.5279951999338,
          5327.159971129264,
          20949.432061299816,
          12984.648207182374,
          16601.21635883952,
          69867.8864993405,
          17343.35694981962,
          5643.6792976598545,
          28232.448666423297,
          86554.10719015592,
          3668.745858769877,
          2015.7278168198218,
          4332.912589449218,
          11244.11174086901,
          2847.330791156307,
          32279.713231012716,
          847.1676307747022,
          12407.55979624405,
          10409.527351489885,
          1650.2542905164576,
          9039.494843675962,
          2187.8209696370195,
          209.44494153262755,
          12993.192663952892,
          103334.18069369471,
          2421.8069243442,
          25449.993726980225,
          824.4994437181612,
          0,
          35064.21990246206,
          24460.8829341946,
          1405.1831297185627,
          1161.5906204583355,
          6253.484849130278,
          26200.985879278312,
          2113.1641455494255,
          2677.670226749189,
          16829.966661555998,
          145859.76347025155,
          1579.2704248726343,
          22977.79907394635,
          7936.545274172721,
          2617.4516315424053,
          2555.6697725106833,
          37524.38530042671,
          6677.664419103405,
          44639.274313439026,
          3356.89765208676,
          3818.890092130271,
          11461.592845732139,
          23790.73390435767,
          22310.940390532123,
          4072.265325747148,
          5047.4877601465905,
          14113.390373176664,
          9259.139536097304,
          8901.067227196814,
          2426.3829712402458,
          4862.976263604947,
          9991.246333401403,
          8284.223451342816,
          10235.436491654522,
          5784.122166449969,
          1062.9305582848456,
          5007.358574873713,
          49361.996925793814,
          24906.097768477644,
          2394.2768301369283,
          10948.45322837182,
          2948.164758949584,
          4545.4048458468405,
          61639.188454189985,
          5670.260405622632,
          40690.140183895455,
          574.6321258274934,
          472.35086075834306,
          26550.454087983504,
          11768.876491765299,
          5483.131871699786,
          26204.261363385827,
          26192.53349450181,
          1380.144129807731,
          678.0997337571077,
          41109.69887036904,
          2381.1875083435275,
          7676.622032618443,
          28908.09261740398,
          49466.869618457684,
          10917.016435259718,
          1496.0088205613267,
          6617.2497510673375,
          3087.9795736321494,
          3830.215496635429,
          4366.812142436154,
          6764.576293331061,
          7332.033702517191,
          156476.83363340324,
          7754.934693669246,
          22602.769581746972,
          2727.04998683541,
          8689.409830568593,
          1166.4066205941149,
          14299.773381136873,
          10300.857040996003,
          58768.903911326765,
          12285.9129249511,
          1569.550166270618,
          14232.723117329639,
          10205.41541651622,
          915.493117292404,
          1990.3619853765983,
          2585.916564229673,
          2824.3146641353633,
          2348.0848006564647,
          3169.8616048345166,
          2870.2079527582414,
          693.362103845405,
          4952.080736323879,
          2976.410895329869,
          51269.89152204055,
          14547.884345599869,
          2327.247998287018,
          5969.169463445498,
          9291.952077426567,
          2484.654636342297,
          7082.789941169296,
          957.2068265827662,
          8532.653435322409,
          4297.331677338747,
          5827.32751636623,
          582.9054171113663,
          16025.913058288057,
          24359.393228462395,
          24307.02976704445,
          28978.068214577586,
          1605.2318015074159,
          1093.4208962259004,
          7020.94944354637,
          12445.216663570882,
          2711.505020370248,
          17297.986227284946,
          44177.13761878265,
          17558.8628650787,
          11431.398027803456,
          1895.8344625792236,
          923.982573170964,
          19747.307461960587,
          52374.5198970521,
          2895.814758855566,
          2693.361735722705,
          14241.920126874838,
          4754.889584828977,
          817.410139222946,
          14475.466927328434,
          11642.899280735312,
          5801.185201515569,
          14653.095016868576,
          1339.2227558507773,
          2401.2862695468084,
          1574.3670458048232,
          5523.522270236156,
          4865.385721108562,
          16005.213100232417,
          97088.88942264774,
          9679.982263304408,
          12461.522277025184,
          1394.7334253484335,
          3472.6034440385797,
          2206.7540662809847,
          8379.78323929547,
          17578.400290286234,
          66422.74446158175,
          963.2194332728658,
          4185.177645885733,
          3408.9279004736727,
          11499.534739316714,
          3708.5390882572847,
          9016.015630339503,
          1898.4077544200677,
          23016.506752009973,
          45631.1256202331,
          7395.219012997475,
          8755.085226022764,
          13513.92063424213,
          9801.12376781025,
          5335.539147963233,
          14190.835509050468,
          1263.9443551507786,
          16339.1833414044,
          907.7914608089618,
          13109.640154231876,
          3539.7285942993303,
          23896.138729883856,
          1090.7007995967142,
          32856.36668925383,
          549.1033127538411,
          2856.478606013336,
          42007.587416589515,
          3688.4982114982586,
          13053.041143265435,
          4825.193640449861,
          14316.304616157067,
          760.601127649902,
          922.3810615805354,
          14463.625875391663,
          5817.606043166835,
          1388.1283364202886,
          17130.65268010412,
          748.0492542875111,
          1161.5488079407062,
          0,
          4471.160164456843,
          23454.40043890194,
          2260.8447957422345,
          53607.55048711972,
          2205.39654409935,
          5584.529697323226,
          15187.522961854576,
          3182.9891038476653,
          4046.7005131805845,
          1172.9850598529474,
          879.6728327674946,
          9970.650263134079,
          16487.10069897419,
          3402.2608799018285,
          13693.054613765516,
          15716.322282859192,
          67.32726345284901,
          5000.096895620612,
          29435.71203525646,
          3371.3563549047794,
          14564.788109734705,
          79002.27369064253,
          77147.66238166689,
          23255.154360433204,
          3119.6277285530077,
          32785.88754715154,
          2558.540274353322,
          8471.160736532607,
          12267.248085317384,
          7604.8914849548555,
          4527.906482570298,
          1645.5574837924928,
          2177.3677150986637,
          6684.956640768638,
          5495.781984728216,
          12007.710549077876,
          10665.236596153693,
          7083.133396409545,
          4521.134280907266,
          3742.7076081678388,
          3386.088865559307,
          14714.522128471686,
          4230.334000083401,
          205.66245197802164,
          2317.368136264139,
          1768.1772421274127,
          9189.161547417669,
          17816.769304778038,
          3972.1861773871383,
          27416.312739981782,
          4841.916308989659,
          3385.895187756377,
          23556.65488251858,
          13330.323175611493,
          6167.131111151023,
          51308.76060752907,
          23261.73666112913,
          5218.797371990781,
          3271.3793432116986,
          818.4153628155684,
          1643.6103908016114,
          46495.57305344699,
          42775.87081346068,
          11872.782847485227,
          4582.900928122051,
          13549.500370317073,
          6368.318657048747,
          0,
          5693.49076048996,
          4734.186677557246,
          1349.7863461072868,
          2181.7379207861013,
          18570.074480876745,
          6573.295516587911,
          14423.241934391628,
          9064.949596047465,
          0,
          835.402821954142,
          30772.0762608381,
          5526.130091185005,
          3358.14239418509,
          33848.532685789665,
          14518.311688821013,
          4875.363602551562,
          19483.150720965572,
          4256.4748690086935,
          11883.664676681898,
          4864.606344671387,
          11524.498739177796,
          35910.66305917744,
          2768.5035866472103,
          762.5541546216699,
          24569.467568663862,
          1939.3137117669962,
          782.1416881258286,
          20373.338847182014,
          19933.31455887561,
          2685.743851450327,
          88913.22978557782,
          384.7481800363527,
          11537.29830006931,
          2603.975057716438,
          30358.094699097695,
          10236.66185329031,
          3260.140121120967,
          10159.2253782006,
          1457.5965213128413,
          1011.800089762036,
          2261.9154448849986,
          40750.88554720672,
          16261.797631915177,
          524.7980273169138,
          40807.65765345709,
          1463.0086206469027,
          3985.6160259054773,
          2009.131610964532,
          18623.532304192013,
          1462.2691575208312,
          14520.687898209526,
          3954.61389325549,
          129.96572982217853,
          2020.3186253071535,
          4806.285089463211,
          6114.24470371004,
          5282.343407819369,
          31755.113963660886,
          23883.7111901491,
          5048.397372940644,
          2719.3819717338474,
          1619.2879808785178,
          941.2049453822565,
          5059.936420208289,
          5661.850199350533,
          10606.404009693391,
          33063.43768375399,
          1242.1213799670074,
          34596.81276778796,
          5946.6671162017465,
          4898.528077646937,
          147.218376839751,
          3286.318396434705,
          5855.192433759859,
          10665.77430796702,
          4606.219737386147,
          52274.15027057045,
          32414.780025971875,
          942.5202576332462,
          960.7417962096252,
          1590.2475259539444,
          4272.318889861378,
          4697.497586179421,
          44875.389461827224,
          8209.943798124134,
          10820.418670434437,
          5957.861476105638,
          6023.638790591535,
          2687.8695063054283,
          962.4526299516923,
          3304.509321711693,
          31662.23836371374,
          4720.762198255763,
          4570.120386043289,
          5711.9564298368505,
          4772.795183032411,
          11854.945345460945,
          2543.28269068265,
          3413.942170897229,
          7857.194694858239,
          20168.646582077487,
          10796.878487812974,
          1938.6505058639407,
          46463.57860692385,
          10768.423787391814,
          27236.662066467616,
          15144.302695551627,
          34386.553420663164,
          3853.8360513181383,
          18511.54367728339,
          3132.584869812565,
          100552.1542057945,
          11741.220733366346,
          9847.544920348615,
          7261.962252805585,
          1397.8161859546296,
          5079.678751184104,
          14625.70306762924,
          7697.010216389621,
          1315.769273894278,
          3100.652892872316,
          29545.990434367977,
          22514.33254920921,
          0,
          5729.56254234199,
          3132.5687258917387,
          26298.612127961114,
          2553.862900348712,
          793.0540380275152,
          4488.776585906,
          2492.270534059757,
          4902.010094749122,
          16200.891407807667,
          20412.224130919,
          7108.379289292113,
          33300.681824196545,
          2812.726468938692,
          6853.129810045185,
          36397.23988494898,
          29068.136194437026,
          26299.802518130724,
          3932.1935922760745,
          12090.948609464858,
          3408.6845787543966,
          0,
          0,
          2440.6884507686486,
          4750.773926358549,
          5235.166925185421,
          1341.9226905446842,
          15029.614274848787,
          12610.172241954544,
          12781.44989281668,
          6604.064423286313,
          62276.58872997361,
          9942.539553720571,
          46277.713607065336,
          10675.124203270847,
          6087.348280368431,
          725.8604730463825,
          27856.372028624017,
          2298.639365443253,
          4033.8010523794273,
          10481.804983579483,
          440.993623969243,
          1554.6728570084115,
          12406.298372946989,
          53229.297832443306,
          157833.65293724195,
          1079.1187035256676,
          3759.6421729211243,
          13931.311692091389,
          2357.242679702667,
          4649.040522668494,
          50182.01389330102,
          3650.5595583922463,
          194192.04366662417,
          21966.6458180172,
          3296.228230234631,
          25034.965882769342,
          8629.221945562016,
          19258.600514109305,
          24458.673189928806,
          7079.787990223758,
          2074.0995647594573,
          41827.90865556925,
          27241.647064209606,
          94574.16283053397,
          2633.371988635852,
          6273.178975767314,
          421.02377458231734,
          4349.873775502565,
          61815.88558934586,
          8606.156173770596,
          8567.74693383485,
          230.82836788437518,
          1768.57135720076,
          9836.772645392146,
          5945.054804724472,
          3802.12587352775,
          15686.603063077626,
          1290.872798148296,
          11163.412596318285,
          40369.80669109537,
          1238.6739497144035,
          3335.170649817785,
          5287.369065688338,
          4000.2181418599084,
          6424.218121146586,
          27498.333724400756,
          26954.925767001434,
          34273.72658931558,
          27833.970970316,
          15829.204719042345,
          1749.9707684481618,
          18573.66800721578,
          51038.12208282783,
          3426.3742467112734,
          4347.474219525555,
          9434.92523965175,
          574.3387706330175,
          13229.335521331575,
          674.7492771342221,
          4510.590999587746,
          3429.6655981196986,
          23380.625990392793,
          27856.107408368072,
          5787.241124037691,
          21707.673685509522,
          129.79586534559903,
          8158.676710463998,
          4035.241932720396,
          1193.9045062145717,
          36474.720341013555,
          5628.439915209343,
          5782.639940391267,
          2961.5878778999327,
          1799.7732094425096,
          12735.180527495175,
          3338.3949183828454,
          6262.321105339357,
          11161.071510158084,
          22373.680613693254,
          107291.43013871073,
          5486.398175058015,
          187696.83756897665,
          18653.935985299897,
          55497.6582856901,
          3813.9764238581315,
          92590.82114954578,
          12388.42419295713,
          2493.7927960423344,
          4664.697657244733,
          876.0997980741175,
          3412.1869345439095,
          1484.2753132154062,
          8538.615850833872,
          7675.028161442105,
          21087.493095824764,
          44489.6976648984,
          4957.457435840644,
          11362.618929146342,
          45297.50729126383,
          2777.237682430398,
          7750.230266317134,
          1616.4548404313311,
          27273.44186254727,
          17740.452371125164,
          3042.5757489095026,
          5375.754656950385,
          738.238734591309,
          1971.988372409223,
          6534.213292664697,
          2601.7114284449335,
          7522.963428958292,
          6240.165813299444,
          2296.7380778894058,
          33597.565971690165,
          14328.013210889829,
          45403.844443905924,
          45282.88410421576,
          33375.19090681252,
          1663.3584149952076,
          16846.139208240627,
          10084.744040188583,
          11589.217203295002,
          10076.736778713783,
          2298.4609380086863,
          15650.30704474348,
          2265.135366261428,
          1971.0755110419989,
          39487.805038818755,
          9351.434626011247,
          11272.10941713827,
          926.0533822622458,
          22492.181936456644,
          2280.6798896625683,
          6127.060080418216,
          88913.20291087487,
          1641.884553883644,
          9564.148119697184,
          8256.802123747542,
          7498.418887667766,
          23836.4364589451,
          4168.895883399157,
          23626.782402345514,
          8663.357994181692,
          2149.924792480343,
          44976.577663171396,
          46321.778107026075,
          611.7559488747644,
          4252.430423176905,
          4013.880076923348,
          30483.072865872342,
          768.0085773804835,
          6768.452564832889,
          2072.965583968875,
          1869.7805024890188,
          15106.019285631364,
          8173.579079263918,
          67639.36088346863,
          109736.42727521798,
          2422.301173771781,
          7637.76257185411,
          1163.1050026160724,
          2786.742585246365,
          6029.91586339781,
          113.51712408849043,
          30131.504263180315,
          86745.31917851832,
          5944.2397060023495,
          3332.8573169490537,
          1917.8986711132795,
          89176.78099250175,
          27745.315954127258,
          7354.636639294753,
          3899.9485318548705,
          1007.0300587429549,
          4224.7685838528605,
          10540.551188741476,
          20844.70854181005,
          24673.16466193273,
          4525.44892175268,
          13929.796550848825,
          3716.951136666117,
          4740.702006977745,
          6186.942005947755,
          4973.391024344389,
          13350.515744884755,
          6917.874937016359,
          37827.20432067061,
          751.5087028930838,
          56454.829383243195,
          9444.05480066183,
          23830.508375228783,
          2948.769873830149,
          13025.076803769169,
          1118.1532494947503,
          2271.3390308580133,
          6904.255626055434,
          1212.4325275936008,
          30576.28475663932,
          55008.02844478518,
          15573.895298446874,
          2710.5393237326048,
          6164.884274719953,
          4870.417267327703,
          23050.647967854795,
          10822.937991918441,
          4338.2933909515805,
          2953.556320221166,
          1702.3028993575874,
          2175.7434359827043,
          8017.397676404016,
          7968.437698953487,
          10252.141374438746,
          22741.061437826156,
          2023.681030398159,
          264.09208164874457,
          1072.7244112518033,
          3208.238592358747,
          87954.48907308171,
          1135.231167675578,
          1887.3702076561478,
          20296.76467000758,
          2901.0194407192025,
          59682.13442554513,
          6124.901998388916,
          7167.241986918911,
          11782.240811301404,
          5722.6392091290945,
          3202.8649019459003,
          13136.411826992036,
          14123.671302230232,
          16227.669448588416,
          7093.702120580601,
          1052.0778401336897,
          212010.48859630662,
          78950.5477893639,
          30794.1295976841,
          5846.984192304084,
          3507.434067706363,
          9739.928434287203,
          17197.97737748489,
          24400.665594019894,
          3564.4187519262846,
          6683.9033903964155,
          99931.64960832156,
          2965.2509636560653,
          3830.6296871673317,
          41020.316620193254,
          1267.129497304971,
          9313.398565333302,
          12455.591606646338,
          20752.053250003624,
          3323.507068207603,
          30697.125909826053,
          43867.96357315708,
          40030.54399295664,
          17820.08505891029,
          35284.56479749911,
          18784.769731663746,
          3117.0436386304973,
          46783.28846785194,
          995.54900921072,
          6313.717727574827,
          3662.996031433367,
          24006.312656491413,
          1226.5718382733753,
          2508.6526300626574,
          18651.947375325024,
          3398.7973335483057,
          7905.444727284776,
          6692.104745533714,
          4241.621108502013,
          16385.470736302832,
          22692.162799309637,
          4418.068868395391,
          1177.0011221128736,
          11114.719637445327,
          6313.61572340076,
          27952.412360567843,
          28212.12653548918,
          12495.940119193756,
          355.89299937575737,
          8223.05856387691,
          20678.912213309424,
          5052.221204220728,
          2361.342240113911,
          16445.596016730247,
          4999.194836219254,
          2521.098292098451,
          51235.02242477352,
          7711.554758651666,
          3829.519689556467,
          3899.825431607061,
          2956.705743512388,
          18033.163054041615,
          63331.27184271006,
          6764.614929155637,
          29094.401229673913,
          59465.490757564854,
          1278.362046706223,
          2028.3276031357664,
          3012.1590355036174,
          5465.524380034723,
          2954.2973252135776,
          10576.007093959759,
          427.3083605970973,
          89419.8348548976,
          5677.565142178531,
          5100.098413150772,
          1818.3596156218996,
          1687.5815058627102,
          16674.30758593785,
          1134.4971652194458,
          2689.4500176947986,
          1132.522305450477,
          4658.31424532696,
          60698.77334182483,
          908.1138381454793,
          3063.3983818070437,
          14846.7274889643,
          1751.2041753937822,
          48491.79602075054,
          3367.646515028575,
          1222.0864211445773,
          476.0348829211395,
          1640.8282323042977,
          10333.593508103018,
          9038.863478499285,
          4611.52975992836,
          6846.72587800544,
          78640.58945364541,
          3496.5258611705194,
          16540.81323759764,
          2706.2333442332097,
          53947.026158549066,
          4599.569604357811,
          498.48802124015634,
          4417.276082728901,
          1656.6226982474711,
          4778.667009393909,
          860.7530663506558,
          6418.075788567743,
          6248.178298388934,
          61405.11584697223,
          30220.79254996969,
          1278.3073292221754,
          16521.95927079407,
          9387.778608520146,
          29903.16477175871,
          38860.506653827266,
          10168.294765792365,
          3081.429820882032,
          4258.562322627342,
          16121.204520170671,
          7255.500947079798,
          47111.906423782966,
          3832.2321271616315,
          3255.264058701149,
          15401.16176299997,
          46893.109336413574,
          4678.318775901742,
          12426.556245985765,
          2756.8736834889755,
          4343.042538552845,
          42502.77548784763,
          4368.187972055706,
          3803.4062762718745,
          6676.934533434311,
          3090.092013242874,
          3161.5403992134543,
          0,
          68225.49163880912,
          217445.8430468573,
          65700.25643603639,
          7157.759932797907,
          476.1826172048831,
          99677.83656854519,
          16864.231583211767,
          117515.04976933308,
          15213.405642771017,
          24751.342257428947,
          8977.716273137397,
          7537.430418474556,
          3076.1891664819095,
          49800.95199508532,
          4605.021305928096,
          11291.431617298671,
          23478.686505704438,
          30883.671875868113,
          3593.629969258082,
          7580.893472414689,
          8605.288831739268,
          64677.273781117954,
          188594.69067327198,
          19456.77479819096,
          5379.295448484078,
          77102.45442751562,
          13215.529573995213,
          1545.4598968451744,
          37471.01540288867,
          2906.8133609246047,
          3509.140738452375,
          10207.141391756346,
          10530.569794710387,
          2310.906042231945,
          6360.7556030041915,
          44103.43551941932,
          9569.571278441203,
          3201.397684327707,
          21095.813870353963,
          2722.2335504892085,
          15965.86656752169,
          58539.269662063554,
          11822.810383368893,
          3180.2970737064716,
          3409.7292815805354,
          35484.37823870215,
          13980.37897379504,
          2606.2432266698297,
          7626.0316950943225,
          22272.729432234428,
          21192.622770887534,
          1325.7699455380396,
          46520.169724846535,
          8461.355775145665,
          8543.717577837722,
          32976.726800709635,
          3977.2850663945787,
          33421.47281835895,
          4167.367089757677,
          1495.2385962421934,
          15231.083577119749,
          12405.92860100112,
          60646.23824224725,
          2026.17908989815,
          10604.73292861084,
          1379.1037400710957,
          19746.25315623811,
          19211.00402822772,
          6757.454673671363,
          3410.335677754836,
          5729.210084162707,
          9458.835221158308,
          7571.372699682625,
          11824.010518333149,
          69379.04557752784,
          39907.72210959366,
          21639.7665333373,
          9621.5222035501,
          1950.777799997819,
          23760.38032219676,
          4391.814058699444,
          6218.9594766701275,
          8910.554566364915,
          77037.10721677441,
          11325.930731984768,
          4914.0640232356645,
          23547.153147190576,
          25544.76304933583,
          115017.30761244753,
          3579.399755962613,
          3173.256300233105,
          851.0619309144736,
          24040.688208225103,
          34656.87916968444,
          11180.456044628121,
          2024.0356966382094,
          5627.31787350874,
          112614.34218277398,
          3377.328810198581,
          727.9515312276774,
          2825.2676423232733,
          3181.0189246007612,
          7972.0036358610005,
          24923.32945829766,
          1438.1919067706024,
          3550.918840797167,
          1375.3528100217054,
          8182.85781244837,
          1513.8540862017508,
          19653.661353091244,
          1455.0545927593564,
          882.1551228017591,
          85116.53454550929,
          4967.102136716338,
          26348.062997989346,
          3758.4305242711243,
          27857.496740001283,
          1601.2935070724923,
          14207.436130187692,
          102948.66610067409,
          7015.4452184386755,
          10436.167987788196,
          10309.45927953789,
          1896.4425356729605,
          9183.989636040877,
          4559.304499861336,
          11920.692671902496,
          1006.5664668908788,
          0,
          223967.5652418663,
          1164.1812532382326,
          24408.2919625218,
          2270.7427940166076,
          23260.484519516827,
          16350.645212819554,
          16696.404016947505,
          9700.277890650535,
          1118.5531334497296,
          3786.610956600442,
          47304.63878820305,
          1823.646360126034,
          2421.252515455394,
          21333.023738399028,
          11252.423578768094,
          14208.862381490879,
          2484.7471329529067,
          9929.93200695287,
          466.37147590368534,
          36096.80424365212,
          4000.143315902588,
          28845.890459712893,
          13597.901784973546,
          12206.834433589784,
          2076.384253153514,
          4684.94501183649,
          5253.857553462601,
          2188.172445829117,
          0,
          467.0122857875722,
          2931.5446673135143,
          12187.515468790942,
          24855.18821585052,
          15626.462498411438,
          5643.970780812374,
          42744.15644855983,
          4735.2043345121065,
          4790.447389777697,
          2234.775081907155,
          26624.25975531881,
          64811.695463264965,
          23883.875884973007,
          18264.14433285813,
          13087.191237876681,
          18597.003899752202,
          12566.297535123673,
          4097.866439987811,
          53060.915511747975,
          33921.20613081637,
          9370.362904298328,
          1700.504296987114,
          4934.755070241332,
          3570.929173109031,
          2818.7516355580124,
          57979.87228441942,
          3532.826183036599,
          4606.857004445136,
          26275.006803402353,
          26206.372968050924,
          2904.251534285211,
          4990.204608213567,
          687.4153117279524,
          4682.683873174801,
          5156.861370508288,
          202.5491018920138,
          57849.003829225,
          18928.296187880736,
          6285.8064508894,
          6104.365051489379,
          3005.846001469078,
          4910.526029395749,
          6474.02014507355,
          32577.32139431153,
          13578.434516812114,
          6430.677801916077,
          28772.59282016242,
          1149.2176948932786,
          6926.710473868729,
          8773.587296251062,
          1055.0472267051935,
          3267.5779861740207,
          18717.90245503968,
          39822.44239052012,
          18396.51447206743,
          3813.0914708486175,
          17425.32938564186,
          150.63804725652503,
          3559.8909944655547,
          22231.09995350268,
          8012.257296690763,
          2737.9445062938316,
          17612.829019052,
          10239.76896882467,
          8352.617063466616,
          4112.24384688221,
          26417.788866383245,
          5452.499968947945,
          71561.23959969345,
          12273.426185432347,
          409.705377178649,
          4346.126344995756,
          16090.603619220929,
          37209.869489264755,
          2572.994571092633,
          77675.74823102445,
          1218.4467873876913,
          3984.8335665764607,
          25176.26529704606,
          11964.53695934751,
          25634.114728435932,
          25520.31301321838,
          546.4868122273136,
          1735.1407099553353,
          1333.4601878946733,
          38051.24754915424,
          17931.215614461773,
          2131.7121795699795,
          14308.196786542889,
          11685.704992579787,
          4453.519119343709,
          44346.971969668986,
          25051.412639033497,
          10336.88952660868,
          8191.858380715075,
          17820.59952398496,
          4488.650460882828,
          8644.881582114682,
          32380.573692978196,
          96854.18865213395,
          11060.521811391653,
          2855.8873140657865,
          547.5517066656829,
          21111.666076013702,
          1916.5752501095951,
          1562.6904600583994,
          25006.572464363144,
          7158.572402166586,
          1030.2874707040326,
          15875.467995543846,
          20052.640532536327,
          19797.57444348424,
          4445.68188300829,
          5716.134898542607,
          2286.7846928167646,
          31241.234863944523,
          1518.4803910640376,
          87708.69112851868,
          1210.1832297113374,
          3202.558208740128,
          1004.2821937824162,
          22208.425099348868,
          21196.521220078565,
          18708.43341913326,
          5160.539777943836,
          4027.432008612787,
          64504.98639690297,
          2504.712513502323,
          18540.019361068647,
          32397.31155549868,
          20924.284997464387,
          5536.481065130954,
          1453.7667289334206,
          8906.848465320403,
          58100.25044142192,
          310.62093093928866,
          2243.644993713466,
          6888.1320165741345,
          11141.623569567491,
          75880.68971638056,
          981.0563640405297,
          1132.0488857166497,
          107573.69873279992,
          689.8831622851932,
          16441.001335901838,
          27388.801370424535,
          1109.411477103063,
          3951.34368026783,
          1131.4512960377858,
          5207.846297564411,
          1909.1557406773063,
          15538.073271118174,
          5669.167395321701,
          8860.478273991075,
          7196.875421339047,
          20859.39562480507,
          5930.91152805487,
          37212.457756576405,
          6432.338718881325,
          2418.168708596434,
          53330.215187856076,
          20730.528868693727,
          8278.271455824737,
          1025.1782397459579,
          4366.141713233311,
          15021.880324712327,
          4751.8446957109245,
          388.4510303373689,
          19267.989256737415,
          16007.84166959102,
          6901.941148399731,
          8589.940344162495,
          24247.97827842659,
          2144.8516603214935,
          18350.241370689513,
          1503.0659419928943,
          2816.9143210193834,
          33356.08851192691,
          3408.4224862453625,
          9514.493803095469,
          4131.340588435589,
          17149.888019695038,
          19033.659276149912,
          71959.19031799394,
          225.23189718529858,
          6882.948329182111,
          2616.453674369478,
          3778.2694384000224,
          8727.700607235345,
          24100.231061520815,
          6439.007144641733,
          5924.210987351494,
          18669.39160178513,
          7700.996885111187,
          18977.49816442644,
          3614.616704124404,
          23114.983851966153,
          5470.782420773666,
          1918.5928224292059,
          65477.7980432933,
          13746.669850737539,
          31199.858914818815,
          15197.419782848487,
          3263.819887171517,
          11303.86548430424,
          16096.189867500481,
          5881.146086353493,
          1767.4748034073282,
          2830.108136857339,
          13147.347221194268,
          20987.209837498747,
          11570.081307500162,
          684.5339898336546,
          8058.702447143923,
          12833.7686155602,
          629.2853896578082,
          3980.1855036373972,
          4293.28864313764,
          103749.03944342161,
          8012.89453143129,
          11687.073825280282,
          611.4937375706431,
          5863.164642969248,
          3151.6418298315803,
          13635.621300818426,
          18079.498620139282,
          13091.29259472911,
          3149.782736106171,
          8283.103070698602,
          13795.756820945646,
          43879.07540838888,
          5913.925462736227,
          13457.026293246925,
          3858.4408979007358,
          8106.842129193829,
          1848.6235886538332,
          4698.343733777062,
          8532.63990002386,
          1029.5828971180856,
          27597.310324486592,
          4273.864525475516,
          17802.631266327415,
          56241.09714205657,
          74479.8602092355,
          3277.558698930452,
          27790.963069204387,
          5008.598556463959,
          3999.282573476356,
          351.0380682631221,
          40599.27235702883,
          4196.661295942567,
          400.16102059073063,
          9896.827171053941,
          22505.768536475276,
          26680.188775664898,
          9201.682529623611,
          3653.7295405721657,
          8218.585652434893,
          10745.095820214327,
          26266.349621745743,
          263.89995995857214,
          13813.940934407185,
          228692.23727586906,
          3320.622685352113,
          32189.096012640504,
          5789.657435389054,
          4137.626970855688,
          27063.72582163609,
          3490.957749545593,
          5982.518146317358,
          65511.98807115514,
          21223.240700087612,
          3172.1739437131946,
          3863.4177943518225,
          18006.217961326827,
          1900.748578288333,
          9489.33989683077,
          13836.452921612297,
          6986.081225464159,
          16375.033094446544,
          110.1210020802233
         ],
         "yaxis": "y"
        },
        {
         "line": {
          "dash": "dash"
         },
         "mode": "lines",
         "name": "Perfect Prediction",
         "type": "scatter",
         "x": [
          500,
          250000
         ],
         "y": [
          500,
          250000
         ]
        }
       ],
       "layout": {
        "legend": {
         "tracegroupgap": 0
        },
        "margin": {
         "t": 60
        },
        "template": {
         "data": {
          "bar": [
           {
            "error_x": {
             "color": "#2a3f5f"
            },
            "error_y": {
             "color": "#2a3f5f"
            },
            "marker": {
             "line": {
              "color": "#E5ECF6",
              "width": 0.5
             },
             "pattern": {
              "fillmode": "overlay",
              "size": 10,
              "solidity": 0.2
             }
            },
            "type": "bar"
           }
          ],
          "barpolar": [
           {
            "marker": {
             "line": {
              "color": "#E5ECF6",
              "width": 0.5
             },
             "pattern": {
              "fillmode": "overlay",
              "size": 10,
              "solidity": 0.2
             }
            },
            "type": "barpolar"
           }
          ],
          "carpet": [
           {
            "aaxis": {
             "endlinecolor": "#2a3f5f",
             "gridcolor": "white",
             "linecolor": "white",
             "minorgridcolor": "white",
             "startlinecolor": "#2a3f5f"
            },
            "baxis": {
             "endlinecolor": "#2a3f5f",
             "gridcolor": "white",
             "linecolor": "white",
             "minorgridcolor": "white",
             "startlinecolor": "#2a3f5f"
            },
            "type": "carpet"
           }
          ],
          "choropleth": [
           {
            "colorbar": {
             "outlinewidth": 0,
             "ticks": ""
            },
            "type": "choropleth"
           }
          ],
          "contour": [
           {
            "colorbar": {
             "outlinewidth": 0,
             "ticks": ""
            },
            "colorscale": [
             [
              0,
              "#0d0887"
             ],
             [
              0.1111111111111111,
              "#46039f"
             ],
             [
              0.2222222222222222,
              "#7201a8"
             ],
             [
              0.3333333333333333,
              "#9c179e"
             ],
             [
              0.4444444444444444,
              "#bd3786"
             ],
             [
              0.5555555555555556,
              "#d8576b"
             ],
             [
              0.6666666666666666,
              "#ed7953"
             ],
             [
              0.7777777777777778,
              "#fb9f3a"
             ],
             [
              0.8888888888888888,
              "#fdca26"
             ],
             [
              1,
              "#f0f921"
             ]
            ],
            "type": "contour"
           }
          ],
          "contourcarpet": [
           {
            "colorbar": {
             "outlinewidth": 0,
             "ticks": ""
            },
            "type": "contourcarpet"
           }
          ],
          "heatmap": [
           {
            "colorbar": {
             "outlinewidth": 0,
             "ticks": ""
            },
            "colorscale": [
             [
              0,
              "#0d0887"
             ],
             [
              0.1111111111111111,
              "#46039f"
             ],
             [
              0.2222222222222222,
              "#7201a8"
             ],
             [
              0.3333333333333333,
              "#9c179e"
             ],
             [
              0.4444444444444444,
              "#bd3786"
             ],
             [
              0.5555555555555556,
              "#d8576b"
             ],
             [
              0.6666666666666666,
              "#ed7953"
             ],
             [
              0.7777777777777778,
              "#fb9f3a"
             ],
             [
              0.8888888888888888,
              "#fdca26"
             ],
             [
              1,
              "#f0f921"
             ]
            ],
            "type": "heatmap"
           }
          ],
          "heatmapgl": [
           {
            "colorbar": {
             "outlinewidth": 0,
             "ticks": ""
            },
            "colorscale": [
             [
              0,
              "#0d0887"
             ],
             [
              0.1111111111111111,
              "#46039f"
             ],
             [
              0.2222222222222222,
              "#7201a8"
             ],
             [
              0.3333333333333333,
              "#9c179e"
             ],
             [
              0.4444444444444444,
              "#bd3786"
             ],
             [
              0.5555555555555556,
              "#d8576b"
             ],
             [
              0.6666666666666666,
              "#ed7953"
             ],
             [
              0.7777777777777778,
              "#fb9f3a"
             ],
             [
              0.8888888888888888,
              "#fdca26"
             ],
             [
              1,
              "#f0f921"
             ]
            ],
            "type": "heatmapgl"
           }
          ],
          "histogram": [
           {
            "marker": {
             "pattern": {
              "fillmode": "overlay",
              "size": 10,
              "solidity": 0.2
             }
            },
            "type": "histogram"
           }
          ],
          "histogram2d": [
           {
            "colorbar": {
             "outlinewidth": 0,
             "ticks": ""
            },
            "colorscale": [
             [
              0,
              "#0d0887"
             ],
             [
              0.1111111111111111,
              "#46039f"
             ],
             [
              0.2222222222222222,
              "#7201a8"
             ],
             [
              0.3333333333333333,
              "#9c179e"
             ],
             [
              0.4444444444444444,
              "#bd3786"
             ],
             [
              0.5555555555555556,
              "#d8576b"
             ],
             [
              0.6666666666666666,
              "#ed7953"
             ],
             [
              0.7777777777777778,
              "#fb9f3a"
             ],
             [
              0.8888888888888888,
              "#fdca26"
             ],
             [
              1,
              "#f0f921"
             ]
            ],
            "type": "histogram2d"
           }
          ],
          "histogram2dcontour": [
           {
            "colorbar": {
             "outlinewidth": 0,
             "ticks": ""
            },
            "colorscale": [
             [
              0,
              "#0d0887"
             ],
             [
              0.1111111111111111,
              "#46039f"
             ],
             [
              0.2222222222222222,
              "#7201a8"
             ],
             [
              0.3333333333333333,
              "#9c179e"
             ],
             [
              0.4444444444444444,
              "#bd3786"
             ],
             [
              0.5555555555555556,
              "#d8576b"
             ],
             [
              0.6666666666666666,
              "#ed7953"
             ],
             [
              0.7777777777777778,
              "#fb9f3a"
             ],
             [
              0.8888888888888888,
              "#fdca26"
             ],
             [
              1,
              "#f0f921"
             ]
            ],
            "type": "histogram2dcontour"
           }
          ],
          "mesh3d": [
           {
            "colorbar": {
             "outlinewidth": 0,
             "ticks": ""
            },
            "type": "mesh3d"
           }
          ],
          "parcoords": [
           {
            "line": {
             "colorbar": {
              "outlinewidth": 0,
              "ticks": ""
             }
            },
            "type": "parcoords"
           }
          ],
          "pie": [
           {
            "automargin": true,
            "type": "pie"
           }
          ],
          "scatter": [
           {
            "fillpattern": {
             "fillmode": "overlay",
             "size": 10,
             "solidity": 0.2
            },
            "type": "scatter"
           }
          ],
          "scatter3d": [
           {
            "line": {
             "colorbar": {
              "outlinewidth": 0,
              "ticks": ""
             }
            },
            "marker": {
             "colorbar": {
              "outlinewidth": 0,
              "ticks": ""
             }
            },
            "type": "scatter3d"
           }
          ],
          "scattercarpet": [
           {
            "marker": {
             "colorbar": {
              "outlinewidth": 0,
              "ticks": ""
             }
            },
            "type": "scattercarpet"
           }
          ],
          "scattergeo": [
           {
            "marker": {
             "colorbar": {
              "outlinewidth": 0,
              "ticks": ""
             }
            },
            "type": "scattergeo"
           }
          ],
          "scattergl": [
           {
            "marker": {
             "colorbar": {
              "outlinewidth": 0,
              "ticks": ""
             }
            },
            "type": "scattergl"
           }
          ],
          "scattermapbox": [
           {
            "marker": {
             "colorbar": {
              "outlinewidth": 0,
              "ticks": ""
             }
            },
            "type": "scattermapbox"
           }
          ],
          "scatterpolar": [
           {
            "marker": {
             "colorbar": {
              "outlinewidth": 0,
              "ticks": ""
             }
            },
            "type": "scatterpolar"
           }
          ],
          "scatterpolargl": [
           {
            "marker": {
             "colorbar": {
              "outlinewidth": 0,
              "ticks": ""
             }
            },
            "type": "scatterpolargl"
           }
          ],
          "scatterternary": [
           {
            "marker": {
             "colorbar": {
              "outlinewidth": 0,
              "ticks": ""
             }
            },
            "type": "scatterternary"
           }
          ],
          "surface": [
           {
            "colorbar": {
             "outlinewidth": 0,
             "ticks": ""
            },
            "colorscale": [
             [
              0,
              "#0d0887"
             ],
             [
              0.1111111111111111,
              "#46039f"
             ],
             [
              0.2222222222222222,
              "#7201a8"
             ],
             [
              0.3333333333333333,
              "#9c179e"
             ],
             [
              0.4444444444444444,
              "#bd3786"
             ],
             [
              0.5555555555555556,
              "#d8576b"
             ],
             [
              0.6666666666666666,
              "#ed7953"
             ],
             [
              0.7777777777777778,
              "#fb9f3a"
             ],
             [
              0.8888888888888888,
              "#fdca26"
             ],
             [
              1,
              "#f0f921"
             ]
            ],
            "type": "surface"
           }
          ],
          "table": [
           {
            "cells": {
             "fill": {
              "color": "#EBF0F8"
             },
             "line": {
              "color": "white"
             }
            },
            "header": {
             "fill": {
              "color": "#C8D4E3"
             },
             "line": {
              "color": "white"
             }
            },
            "type": "table"
           }
          ]
         },
         "layout": {
          "annotationdefaults": {
           "arrowcolor": "#2a3f5f",
           "arrowhead": 0,
           "arrowwidth": 1
          },
          "autotypenumbers": "strict",
          "coloraxis": {
           "colorbar": {
            "outlinewidth": 0,
            "ticks": ""
           }
          },
          "colorscale": {
           "diverging": [
            [
             0,
             "#8e0152"
            ],
            [
             0.1,
             "#c51b7d"
            ],
            [
             0.2,
             "#de77ae"
            ],
            [
             0.3,
             "#f1b6da"
            ],
            [
             0.4,
             "#fde0ef"
            ],
            [
             0.5,
             "#f7f7f7"
            ],
            [
             0.6,
             "#e6f5d0"
            ],
            [
             0.7,
             "#b8e186"
            ],
            [
             0.8,
             "#7fbc41"
            ],
            [
             0.9,
             "#4d9221"
            ],
            [
             1,
             "#276419"
            ]
           ],
           "sequential": [
            [
             0,
             "#0d0887"
            ],
            [
             0.1111111111111111,
             "#46039f"
            ],
            [
             0.2222222222222222,
             "#7201a8"
            ],
            [
             0.3333333333333333,
             "#9c179e"
            ],
            [
             0.4444444444444444,
             "#bd3786"
            ],
            [
             0.5555555555555556,
             "#d8576b"
            ],
            [
             0.6666666666666666,
             "#ed7953"
            ],
            [
             0.7777777777777778,
             "#fb9f3a"
            ],
            [
             0.8888888888888888,
             "#fdca26"
            ],
            [
             1,
             "#f0f921"
            ]
           ],
           "sequentialminus": [
            [
             0,
             "#0d0887"
            ],
            [
             0.1111111111111111,
             "#46039f"
            ],
            [
             0.2222222222222222,
             "#7201a8"
            ],
            [
             0.3333333333333333,
             "#9c179e"
            ],
            [
             0.4444444444444444,
             "#bd3786"
            ],
            [
             0.5555555555555556,
             "#d8576b"
            ],
            [
             0.6666666666666666,
             "#ed7953"
            ],
            [
             0.7777777777777778,
             "#fb9f3a"
            ],
            [
             0.8888888888888888,
             "#fdca26"
            ],
            [
             1,
             "#f0f921"
            ]
           ]
          },
          "colorway": [
           "#636efa",
           "#EF553B",
           "#00cc96",
           "#ab63fa",
           "#FFA15A",
           "#19d3f3",
           "#FF6692",
           "#B6E880",
           "#FF97FF",
           "#FECB52"
          ],
          "font": {
           "color": "#2a3f5f"
          },
          "geo": {
           "bgcolor": "white",
           "lakecolor": "white",
           "landcolor": "#E5ECF6",
           "showlakes": true,
           "showland": true,
           "subunitcolor": "white"
          },
          "hoverlabel": {
           "align": "left"
          },
          "hovermode": "closest",
          "mapbox": {
           "style": "light"
          },
          "paper_bgcolor": "white",
          "plot_bgcolor": "#E5ECF6",
          "polar": {
           "angularaxis": {
            "gridcolor": "white",
            "linecolor": "white",
            "ticks": ""
           },
           "bgcolor": "#E5ECF6",
           "radialaxis": {
            "gridcolor": "white",
            "linecolor": "white",
            "ticks": ""
           }
          },
          "scene": {
           "xaxis": {
            "backgroundcolor": "#E5ECF6",
            "gridcolor": "white",
            "gridwidth": 2,
            "linecolor": "white",
            "showbackground": true,
            "ticks": "",
            "zerolinecolor": "white"
           },
           "yaxis": {
            "backgroundcolor": "#E5ECF6",
            "gridcolor": "white",
            "gridwidth": 2,
            "linecolor": "white",
            "showbackground": true,
            "ticks": "",
            "zerolinecolor": "white"
           },
           "zaxis": {
            "backgroundcolor": "#E5ECF6",
            "gridcolor": "white",
            "gridwidth": 2,
            "linecolor": "white",
            "showbackground": true,
            "ticks": "",
            "zerolinecolor": "white"
           }
          },
          "shapedefaults": {
           "line": {
            "color": "#2a3f5f"
           }
          },
          "ternary": {
           "aaxis": {
            "gridcolor": "white",
            "linecolor": "white",
            "ticks": ""
           },
           "baxis": {
            "gridcolor": "white",
            "linecolor": "white",
            "ticks": ""
           },
           "bgcolor": "#E5ECF6",
           "caxis": {
            "gridcolor": "white",
            "linecolor": "white",
            "ticks": ""
           }
          },
          "title": {
           "x": 0.05
          },
          "xaxis": {
           "automargin": true,
           "gridcolor": "white",
           "linecolor": "white",
           "ticks": "",
           "title": {
            "standoff": 15
           },
           "zerolinecolor": "white",
           "zerolinewidth": 2
          },
          "yaxis": {
           "automargin": true,
           "gridcolor": "white",
           "linecolor": "white",
           "ticks": "",
           "title": {
            "standoff": 15
           },
           "zerolinecolor": "white",
           "zerolinewidth": 2
          }
         }
        },
        "title": {
         "text": "Predicted vs Actual Salary"
        },
        "xaxis": {
         "anchor": "y",
         "domain": [
          0,
          1
         ],
         "title": {
          "text": "Actual Salary"
         }
        },
        "yaxis": {
         "anchor": "x",
         "domain": [
          0,
          1
         ],
         "title": {
          "text": "Predicted Salary"
         }
        }
       }
      }
     },
     "metadata": {},
     "output_type": "display_data"
    },
    {
     "data": {
      "application/vnd.plotly.v1+json": {
       "config": {
        "plotlyServerURL": "https://plot.ly"
       },
       "data": [
        {
         "alignmentgroup": "True",
         "bingroup": "x",
         "hovertemplate": "Residuals=%{x}<br>count=%{y}<extra></extra>",
         "legendgroup": "",
         "marker": {
          "color": "#636efa",
          "pattern": {
           "shape": ""
          }
         },
         "name": "",
         "offsetgroup": "",
         "orientation": "v",
         "showlegend": false,
         "type": "histogram",
         "x": [
          6899.460119924941,
          327.6030042625498,
          -1056.2530012285679,
          1681.7682341217924,
          1373.595053449676,
          -2164.313406707355,
          2233.983163367635,
          560.4424220272149,
          559.8459143593373,
          -12246.384540867268,
          -1161.519552795236,
          726.3645250693344,
          145.3734732562616,
          1294.664459468734,
          -146.7318747973809,
          984.5848386581861,
          -318.5129083581462,
          1161.9228229350892,
          1092.847576045147,
          1242.389775861725,
          750.1610642059477,
          -11660.30102387983,
          4358.132800996322,
          -5903.3724332128895,
          8247.780104323443,
          -5212.967224527854,
          2132.25943395695,
          -227.9315536596962,
          5500.572791447887,
          -2168.0621527335798,
          -1228.4002885902787,
          -1516.4063803725376,
          -20934.827607652394,
          2558.4880965222656,
          -2.916416987231514,
          1389.424919860704,
          87.50055622135824,
          -13255.145208937596,
          -5495.677095199917,
          637.0294194634891,
          -694.8820797554472,
          4359.106410777682,
          -1920.146813155106,
          897.929800656211,
          438.49804641903347,
          -1252.2306501729017,
          3854.357375368685,
          2860.918716995857,
          -371.79281133254517,
          2026.0327194091078,
          2752.5495207733975,
          -4157.708265928108,
          -3088.790000177086,
          2131.0240364818947,
          -4418.088495306292,
          117.42348679607721,
          -593.6570829415141,
          -41727.48444865015,
          2690.4317588120775,
          -27815.892683732338,
          -2170.969247924013,
          -5854.014256764927,
          -1014.5753137335341,
          406.45490683550315,
          -1756.7473237445301,
          -9624.02044518158,
          -389.4595948791971,
          626.7720087620555,
          -9660.21591678461,
          -140.09930897188224,
          24.619434593447295,
          -1743.3307440338376,
          1214.33682934857,
          912.1841086920244,
          184.86132909227308,
          -925.696363513661,
          727.8213501437604,
          -1240.0188781801712,
          4.406683123123457,
          1587.854755152678,
          -258.4815594752373,
          -1112.557842690626,
          725.820638961364,
          3823.4055339427578,
          230.63437297476275,
          598.2111257562901,
          672.2741092935698,
          -310.27694573814733,
          -974.4011525231497,
          1827.8496060108791,
          32983.50634528883,
          1582.166169408718,
          -700,
          -8687.777296591885,
          3904.9423247853138,
          2724.5608624992046,
          154.13161607712846,
          950.9839256497789,
          -2243.154145580833,
          1248.706171226071,
          926.5780434745443,
          250.75457645453207,
          -133.057230559044,
          -597.7004170292439,
          776.3141610299808,
          711.0813681555351,
          -2760.3255872274403,
          1146.5418038932426,
          1397.396207649761,
          -1312.579500372044,
          8677.897871789988,
          2941.1789878120235,
          389.0820979531586,
          -425.20135096619197,
          107.15211460311275,
          903.0388416296946,
          -244.69860218412373,
          2178.8101681479184,
          878.028156365749,
          -6620.015779750713,
          -2623.3057922117973,
          46.960805649463964,
          -2543.790569583798,
          -2669.388866418307,
          197.0902016855125,
          -783.3039382067727,
          -4625.1018348519065,
          3632.751758962422,
          -64.94006162982646,
          1099.0078770161285,
          1382.959806959041,
          287.8722416418623,
          661.3008202245996,
          1206.85491832649,
          -2014.838789149584,
          5976.473738825378,
          -2285.121727485315,
          -918.4810336184328,
          8311.865033927977,
          392.17697804669615,
          -2473.683451818353,
          -2498.953646208958,
          -500,
          -1323.5838215578383,
          1017.7219157168652,
          -1600.9143873475787,
          26722.759528315488,
          -2546.31687659051,
          -2643.070352362847,
          -8710.612913541596,
          18160.832276034635,
          -420.6942217929918,
          6293.91720642264,
          40.25311468546556,
          9180.138020273298,
          14275.17224582524,
          925.0564928611311,
          -1275.9425284461822,
          -417.9002059101108,
          8933.483918189602,
          -8893.798706659854,
          1293.6626795099205,
          -20552.093675732045,
          38.92921343872149,
          1474.3620594533932,
          -87.94543111468761,
          973.7621339035086,
          252.95440344464623,
          -467.47939323219043,
          1652.8097004944484,
          -20262.521599812208,
          -3520.531103407382,
          2513.45916813023,
          33094.59214401408,
          188.54790544691105,
          -276.37888360602847,
          -2477.243777294604,
          2272.6679347562376,
          -19.389058989367186,
          -725.3549841802651,
          5206.557376277471,
          -29.264293326068355,
          14851.876548974265,
          -1769.8853322996529,
          991.9879036411712,
          -1071.2193647867407,
          -49639.65086803486,
          73.9794195067559,
          -137.26724442142176,
          5722.674697166225,
          1680.9629425662024,
          789.5747857404303,
          -16435.21472146743,
          286.8737618798291,
          2388.940579835704,
          2527.8666430843623,
          7411.867130700251,
          27.573202348123118,
          334.7426074797968,
          14165.008780646313,
          -926.8607966057843,
          2059.2309137756383,
          3595.437411979393,
          3980.3725855017037,
          -4681.110529158642,
          -222.76979195442073,
          4883.916900287886,
          2664.972063343518,
          3986.5485069223832,
          731.6154812938648,
          -40827.059006878,
          -7827.459647790951,
          191.37747609916096,
          195.5916190298467,
          870.7481911101404,
          -693.8397619148554,
          896.3181085870601,
          -66.774866433645,
          -168.12678018148915,
          1187.3599062640978,
          796.3409400740893,
          -1336.7596553788499,
          1155.1546670096905,
          209.70542874947205,
          -300.20907641710255,
          -669.0255593710938,
          -993.0259592455914,
          -95.54524533518725,
          -1180.9996164523118,
          -101.82846991951737,
          -101.15783640526115,
          857.8938863056901,
          119.41016466273993,
          7186.413427492051,
          23863.899731114332,
          -1692.8135863744337,
          -89.49955391370531,
          -2583.2777327507365,
          -302.39711992046705,
          3018.3135659251348,
          -198.63858562577934,
          -290.7297748299957,
          867.1810218120524,
          194.317453640258,
          3688.1549672221518,
          100.7993276575462,
          -5966.859212414187,
          2748.2854029780265,
          202.6585382992082,
          464.9344596255985,
          -4017.825691290711,
          -362.69776968682436,
          14906.164235255375,
          2702.8942165923763,
          -315.17904667908215,
          3973.0719798370556,
          713.1974501349323,
          853.31901808047,
          1108.0357628726651,
          -2785.2681398175628,
          -2070.498458111858,
          1028.0118342104224,
          -1449.7178045206365,
          1482.5297619957214,
          4777.0268931434775,
          3680.698885282989,
          289.88325693363913,
          -2980.2565179620215,
          1783.348750879381,
          1736.7347636521608,
          2369.5671702809586,
          1795.886841130271,
          -148.33442615270133,
          3474.471751177236,
          3355.7592433251993,
          -9473.443342488565,
          2094.747531099092,
          -5544.7711268918065,
          -2781.144847790016,
          -104.0659345695966,
          522.8775925205725,
          8130.978635349427,
          2290.4453319053355,
          1123.3423556431326,
          -2261.7976123876815,
          6929.464652526192,
          -5644.590585433466,
          1426.8349153182444,
          -363.06191074548053,
          129.87277445402196,
          -908.6642209357551,
          -8284.704988012527,
          -610.2786318894448,
          7602.765958964912,
          -1090.9476761599813,
          -1187.3143192258904,
          -1382.1969652272683,
          -1940.373909402384,
          -871.9811881553687,
          2634.8214207387846,
          1411.2068596381941,
          1181.2562344659004,
          1967.7311151654794,
          1725.0330599143417,
          -3494.410866048963,
          -2853.2018178938233,
          -1765.4323810832448,
          -231.75546309621222,
          9313.925186732304,
          -1580.7514719190367,
          -457.14533816916975,
          -1677.0719378298718,
          3645.8194246946914,
          -436.5562732994533,
          -173.4720048000662,
          -3672.840028870736,
          -9050.567938700184,
          5984.648207182374,
          601.2163588395197,
          11867.8864993405,
          -1656.6430501803807,
          1643.6792976598545,
          -14767.551333576703,
          -18445.89280984408,
          668.745858769877,
          15.727816819821783,
          1332.912589449218,
          1244.1117408690097,
          847.330791156307,
          6279.713231012716,
          -152.83236922529784,
          -592.4402037559503,
          2409.5273514898854,
          900.2542905164576,
          -14960.505156324038,
          187.82096963701952,
          -290.5550584673724,
          8993.192663952892,
          -66665.81930630529,
          -578.1930756557999,
          5449.993726980225,
          324.49944371816116,
          -500,
          3064.219902462057,
          460.88293419460024,
          -594.8168702814373,
          161.59062045833548,
          -746.5151508697218,
          3200.9858792783125,
          113.16414554942548,
          -3322.329773250811,
          829.9666615559981,
          -54140.23652974845,
          679.2704248726343,
          13977.79907394635,
          4936.545274172721,
          1617.4516315424053,
          555.6697725106833,
          -6475.6146995732925,
          -322.3355808965953,
          -4360.725686560974,
          356.89765208676,
          818.8900921302711,
          -11538.407154267861,
          3790.7339043576685,
          -689.0596094678767,
          72.26532574714793,
          47.48776014659052,
          3113.390373176664,
          -7740.860463902696,
          1901.0672271968142,
          426.38297124024575,
          -137.02373639505277,
          1991.2463334014028,
          5284.223451342816,
          -764.5635083454781,
          -1215.877833550031,
          62.930558284845574,
          2007.3585748737132,
          -2638.0030742061863,
          2906.0977684776444,
          1394.2768301369283,
          -1051.54677162818,
          948.1647589495842,
          1545.4048458468405,
          12639.188454189985,
          670.2604056226319,
          -5309.859816104545,
          -25.367874172506617,
          -477.64913924165694,
          1550.454087983504,
          1768.8764917652989,
          483.13187169978573,
          11204.261363385827,
          8192.533494501811,
          430.1441298077309,
          178.09973375710774,
          12109.698870369037,
          1381.1875083435275,
          -323.377967381557,
          -2091.9073825960186,
          -9533.130381542316,
          -4082.9835647402815,
          -503.99117943867327,
          -1382.7502489326625,
          1087.9795736321494,
          830.2154966354292,
          2366.8121424361543,
          -6235.423706668939,
          3332.033702517191,
          6476.833633403236,
          754.9346936692464,
          4602.769581746972,
          1727.04998683541,
          689.409830568593,
          -833.5933794058851,
          -2700.2266188631274,
          -4699.142959003997,
          -31231.096088673235,
          2285.9129249511006,
          719.5501662706181,
          1232.7231173296386,
          2205.41541651622,
          -84.50688270759599,
          -1009.6380146234017,
          1735.916564229673,
          1824.3146641353633,
          348.0848006564647,
          1169.8616048345166,
          870.2079527582414,
          193.36210384540504,
          -47.91926367612086,
          -1023.5891046701308,
          -1730.108477959453,
          -3452.1156544001315,
          327.24799828701816,
          969.169463445498,
          291.9520774265675,
          484.6546363422972,
          82.78994116929607,
          -5042.793173417233,
          3532.6534353224088,
          -6702.668322661253,
          827.3275163662302,
          -167.09458288863368,
          2025.913058288057,
          10359.393228462395,
          5307.029767044449,
          -2021.9317854224137,
          -394.76819849258413,
          93.42089622590038,
          20.949443546370276,
          1445.2166635708818,
          711.5050203702481,
          -702.0137727150541,
          8177.137618782654,
          558.8628650786995,
          1431.398027803456,
          -5104.165537420777,
          -76.01742682903603,
          3747.307461960587,
          2374.5198970521014,
          895.8147588555662,
          693.3617357227049,
          -2758.0798731251616,
          1754.8895848289767,
          -182.589860777054,
          5475.466927328434,
          -3357.1007192646885,
          801.1852015155691,
          9653.095016868576,
          339.2227558507773,
          -1598.7137304531916,
          574.3670458048232,
          1523.5222702361561,
          1865.3857211085624,
          2005.2131002324168,
          -27911.110577352258,
          2679.9822633044078,
          -538.4777229748161,
          -1605.2665746515665,
          472.6034440385797,
          1206.7540662809847,
          379.7832392954697,
          3578.400290286234,
          -23577.25553841825,
          -36.780566727134214,
          1185.177645885733,
          408.9279004736727,
          2499.534739316714,
          708.5390882572847,
          3016.0156303395033,
          -101.5922455799323,
          7016.506752009973,
          -5368.874379766901,
          -604.7809870025249,
          2755.085226022764,
          513.9206342421294,
          5801.12376781025,
          -664.4608520367674,
          2190.8355090504683,
          513.9443551507786,
          11339.1833414044,
          107.7914608089618,
          -2890.3598457681237,
          539.7285942993303,
          -2103.8612701161437,
          90.7007995967142,
          1856.3666892538313,
          -1450.8966872461588,
          -8143.521393986664,
          -10992.412583410485,
          1688.4982114982586,
          1053.0411432654346,
          -15174.806359550139,
          -6683.695383842933,
          -239.39887235009803,
          422.3810615805354,
          3463.6258753916627,
          2817.6060431668348,
          -1611.8716635797114,
          6130.652680104118,
          -251.95074571248892,
          161.54880794070618,
          -500,
          471.1601644568427,
          1454.4004389019392,
          260.8447957422345,
          13607.550487119719,
          205.3965440993502,
          1584.5296973232262,
          -2812.4770381454236,
          -1817.0108961523347,
          -953.2994868194155,
          172.98505985294742,
          379.6728327674946,
          2970.650263134079,
          -6512.899301025809,
          1402.2608799018285,
          6693.0546137655165,
          -1283.6777171408085,
          -432.672736547151,
          -1999.9031043793884,
          4435.71203525646,
          1371.3563549047794,
          3564.7881097347054,
          -25997.726309357473,
          -17852.337618333113,
          1255.1543604332037,
          119.62772855300773,
          7785.887547151542,
          1558.5402743533218,
          -528.8392634673928,
          -2732.751914682616,
          -395.1085150451445,
          -472.09351742970193,
          -354.4425162075072,
          177.36771509866367,
          1684.956640768638,
          -504.21801527178377,
          1007.7105490778758,
          -6334.7634038463075,
          6583.133396409545,
          521.1342809072657,
          -3257.2923918321612,
          -613.9111344406929,
          2714.5221284716863,
          1230.3340000834014,
          -294.33754802197836,
          317.36813626413914,
          -231.82275787258732,
          1189.1615474176688,
          -183.23069522196238,
          -1027.8138226128617,
          -5583.687260018218,
          841.9163089896592,
          1385.8951877563768,
          10556.654882518578,
          -669.6768243885072,
          -1832.868888848977,
          8308.760607529068,
          8261.736661129129,
          1218.7973719907814,
          1271.3793432116986,
          -1181.5846371844316,
          -356.3896091983886,
          -21504.42694655301,
          7775.870813460679,
          5872.782847485227,
          582.9009281220506,
          -450.49962968292675,
          368.3186570487469,
          -550,
          -1306.50923951004,
          -265.8133224427538,
          349.7863461072868,
          -1818.2620792138987,
          570.0744808767449,
          -8426.70448341209,
          1423.241934391628,
          5064.949596047465,
          -500,
          335.40282195414204,
          9772.076260838101,
          526.1300911850049,
          1358.1423941850899,
          1848.5326857896653,
          518.3116888210134,
          875.3636025515616,
          1483.150720965572,
          1256.4748690086935,
          1883.6646766818976,
          -2135.393655328613,
          -475.50126082220413,
          -1089.3369408225626,
          -2231.4964133527897,
          -237.4458453783301,
          -1430.532431336138,
          939.3137117669962,
          -217.85831187417136,
          -1626.6611528179856,
          -2066.685441124391,
          -2314.256148549673,
          -21086.770214422184,
          -215.25181996364728,
          537.2983000693093,
          -396.0249422835618,
          358.0946990976954,
          3236.6618532903103,
          260.1401211209668,
          3159.225378200599,
          457.59652131284133,
          11.80008976203601,
          261.9154448849986,
          3750.8855472067225,
          4261.797631915177,
          24.798027316913817,
          -2192.3423465429078,
          513.0086206469027,
          -14.383974094522728,
          -990.868389035468,
          623.5323041920128,
          462.2691575208312,
          -479.3121017904741,
          -45.386106744510016,
          -420.03427017782144,
          1020.3186253071535,
          -1193.714910536789,
          -3885.75529628996,
          -717.6565921806314,
          -5244.886036339114,
          1883.7111901491007,
          3048.3973729406443,
          719.3819717338474,
          -380.7120191214822,
          241.20494538225648,
          -940.0635797917112,
          2661.8501993505333,
          -393.59599030660866,
          -4936.562316246011,
          -757.8786200329926,
          1596.8127677879602,
          -53.33288379825353,
          898.5280776469372,
          -352.781623160249,
          -1713.681603565295,
          -2144.8075662401407,
          -2334.22569203298,
          -1393.7802626138528,
          16274.150270570448,
          -1585.2199740281249,
          -57.47974236675384,
          310.74179620962525,
          -409.75247404605557,
          272.318889861378,
          1697.497586179421,
          -6124.610538172776,
          1209.9437981241335,
          3820.4186704344374,
          1957.8614761056378,
          2023.6387905915353,
          687.8695063054283,
          262.4526299516923,
          1304.5093217116928,
          -5337.761636286261,
          1720.762198255763,
          -429.8796139567112,
          -1288.0435701631495,
          -1227.204816967589,
          5854.945345460945,
          543.2826906826499,
          413.94217089722906,
          1857.194694858239,
          -8831.353417922513,
          -10203.121512187026,
          -61.34949413605932,
          -4536.421393076147,
          2768.4237873918137,
          1236.6620664676157,
          -3855.697304448373,
          -11613.446579336836,
          -9146.163948681862,
          -488.4563227166109,
          1132.584869812565,
          15552.154205794504,
          2741.2207333663464,
          3847.544920348615,
          -1738.0377471944148,
          -602.1838140453704,
          -920.3212488158961,
          -1374.2969323707603,
          -3302.989783610379,
          -684.2307261057219,
          -899.347107127684,
          6545.990434367977,
          514.3325492092117,
          -500,
          729.5625423419897,
          1132.5687258917387,
          3298.6121279611143,
          553.8629003487122,
          -206.94596197248484,
          1488.776585906,
          492.2705340597572,
          1902.010094749122,
          -5799.108592192333,
          1412.2241309189994,
          -891.6207107078872,
          13300.681824196545,
          812.726468938692,
          853.129810045185,
          -2602.7601150510236,
          6068.136194437026,
          -1700.197481869276,
          932.1935922760745,
          2090.9486094648582,
          1408.6845787543966,
          -500,
          -500,
          -4559.311549231352,
          750.773926358549,
          2235.166925185421,
          491.9226905446842,
          2029.6142748487873,
          3610.172241954544,
          -218.5501071833205,
          1604.0644232863133,
          13276.588729973613,
          6942.539553720571,
          7277.713607065336,
          2675.124203270847,
          -3912.651719631569,
          -24.13952695361752,
          6856.372028624017,
          298.63936544325315,
          33.80105237942735,
          481.8049835794827,
          -459.006376030757,
          554.6728570084115,
          2406.298372946989,
          -2770.702167556694,
          -12166.347062758054,
          429.11870352566757,
          -1240.3578270788757,
          3931.311692091389,
          357.2426797026669,
          -2350.9594773315057,
          2182.0138933010167,
          650.5595583922463,
          -15807.956333375827,
          5966.645818017201,
          -703.7717697653688,
          -13965.034117230658,
          629.2219455620161,
          -2741.3994858906954,
          -5541.326810071194,
          -3920.2120097762418,
          1474.0995647594573,
          7827.908655569248,
          -15758.352935790394,
          23574.16283053397,
          -1366.6280113641478,
          1273.1789757673141,
          -428.97622541768266,
          2349.873775502565,
          -3184.1144106541396,
          4606.156173770596,
          -432.2530661651508,
          -269.1716321156248,
          1268.57135720076,
          836.7726453921459,
          -54.94519527552802,
          -1197.8741264722498,
          -313.39693692237415,
          290.87279814829594,
          2163.412596318285,
          -10630.193308904629,
          -761.3260502855965,
          -664.829350182215,
          4287.369065688338,
          -999.7818581400916,
          -1575.7818788534141,
          498.3337244007562,
          19954.925767001434,
          9273.726589315578,
          4833.970970316001,
          -170.79528095765454,
          999.9707684481618,
          6573.66800721578,
          -3961.877917172169,
          426.3742467112734,
          347.4742195255549,
          434.9252396517495,
          74.33877063301748,
          10229.335521331575,
          -325.2507228657779,
          2510.5909995877464,
          429.66559811969864,
          -10619.374009607207,
          1856.1074083680724,
          787.2411240376914,
          -1292.3263144904777,
          -370.20413465440095,
          3158.6767104639976,
          2035.241932720396,
          -806.0954937854283,
          474.7203410135553,
          628.4399152093429,
          -217.36005960873263,
          961.5878778999327,
          799.7732094425096,
          -2264.819472504825,
          338.3949183828454,
          4262.321105339357,
          -7838.9284898419155,
          -626.3193863067463,
          -57708.569861289274,
          -4513.601824941985,
          -12303.162431023346,
          -16346.064014700103,
          -4502.3417143098995,
          -186.0235761418685,
          -42409.17885045422,
          3388.424192957131,
          -506.20720395766557,
          -335.3023427552671,
          226.09979807411753,
          -587.8130654560905,
          -515.7246867845938,
          538.6158508338722,
          1675.0281614421046,
          3087.493095824764,
          8489.697664898398,
          -1042.5425641593556,
          -7637.3810708536585,
          7297.507291263828,
          -222.76231756960215,
          -7249.769733682866,
          616.4548404313311,
          -2726.5581374527283,
          1740.452371125164,
          42.575748909502636,
          -2624.2453430496153,
          238.23873459130903,
          -28.011627590776925,
          -465.7867073353027,
          601.7114284449335,
          -477.03657104170816,
          2240.1658132994444,
          296.73807788940576,
          4597.565971690165,
          -5671.986789110171,
          -596.155556094076,
          -8717.115895784242,
          -2624.809093187483,
          663.3584149952076,
          2846.1392082406273,
          -5915.255959811417,
          589.217203295002,
          2076.7367787137828,
          -701.5390619913137,
          1650.3070447434802,
          265.13536626142786,
          -2028.9244889580011,
          4487.805038818755,
          -648.565373988753,
          3272.10941713827,
          426.0533822622458,
          7492.181936456644,
          280.67988966256826,
          -872.9399195817841,
          4913.202910874868,
          641.884553883644,
          -2435.8518803028164,
          -743.1978762524577,
          498.4188876677663,
          836.4364589450997,
          -3831.1041166008426,
          -3373.217597654486,
          -9336.642005818308,
          149.92479248034306,
          -1023.4223368286039,
          2321.7781070260753,
          -238.24405112523561,
          252.4304231769047,
          -1986.119923076652,
          5483.072865872342,
          -1231.9914226195165,
          -231.54743516711096,
          1072.9655839688749,
          869.7805024890188,
          4106.019285631364,
          173.57907926391817,
          -3360.639116531369,
          -10263.572724782018,
          -577.6988262282189,
          4637.76257185411,
          163.1050026160724,
          -2213.257414753635,
          4029.9158633978104,
          -386.48287591150955,
          -868.4957368196847,
          745.3191785183153,
          -6055.7602939976505,
          1332.8573169490537,
          917.8986711132795,
          11176.78099250175,
          5745.315954127258,
          -2645.363360705247,
          -6100.05146814513,
          -3992.9699412570453,
          1224.7685838528605,
          540.5511887414759,
          844.7085418100505,
          4673.164661932729,
          -474.5510782473202,
          3929.796550848825,
          1716.9511366661168,
          -2259.2979930222546,
          -2813.057994052245,
          973.3910243443888,
          -2649.484255115245,
          2917.8749370163587,
          827.2043206706076,
          -248.49129710691625,
          23454.829383243195,
          -555.9451993381699,
          -3169.491624771217,
          -51.23012616985079,
          -2974.9231962308313,
          -881.8467505052497,
          1271.3390308580133,
          -95.74437394456618,
          -1787.5674724063992,
          -1423.7152433606789,
          -1991.971555214819,
          -1426.1047015531258,
          -289.46067626739523,
          2164.8842747199533,
          -129.58273267229742,
          -949.3520321452052,
          -177.06200808155882,
          -5661.7066090484195,
          -46.44367977883394,
          702.3028993575874,
          1175.7434359827043,
          -3982.6023235959838,
          -1031.5623010465133,
          -3747.8586255612536,
          741.0614378261562,
          1173.681030398159,
          -485.90791835125543,
          -4927.275588748196,
          -791.7614076412528,
          -27045.510926918287,
          135.23116767557804,
          887.3702076561478,
          1296.7646700075784,
          901.0194407192025,
          21682.134425545133,
          1124.9019983889157,
          -2832.7580130810893,
          2782.2408113014044,
          -3277.3607908709055,
          2202.8649019459003,
          1136.4118269920364,
          1123.671302230232,
          227.66944858841634,
          1093.7021205806013,
          -947.9221598663103,
          -7989.511403693381,
          5950.547789363904,
          -5205.870402315901,
          -153.015807695916,
          507.43406770636284,
          6739.928434287203,
          -1802.022622515109,
          4400.665594019894,
          564.4187519262846,
          -316.0966096035845,
          -30068.35039167844,
          965.2509636560653,
          830.6296871673317,
          -2979.6833798067455,
          467.129497304971,
          2313.398565333302,
          -2544.408393353662,
          -247.94674999637573,
          1323.507068207603,
          1697.1259098260525,
          10867.963573157082,
          30.543992956641887,
          820.0850589102884,
          4284.564797499108,
          3784.769731663746,
          -3882.9563613695027,
          12783.28846785194,
          95.54900921071999,
          2313.717727574827,
          1662.996031433367,
          -2993.687343508587,
          226.5718382733753,
          508.6526300626574,
          -348.05262467497596,
          -601.2026664516943,
          -5094.555272715224,
          -307.89525446628613,
          241.62110850201316,
          -3614.529263697168,
          692.1627993096372,
          -581.9311316046087,
          -822.9988778871264,
          114.71963744532695,
          -13686.384276599241,
          3952.4123605678433,
          -787.8734645108198,
          -2504.059880806244,
          -144.10700062424263,
          1223.0585638769098,
          -16321.087786690576,
          2052.2212042207284,
          1361.342240113911,
          3445.5960167302474,
          999.1948362192543,
          521.0982920984511,
          7235.022424773517,
          -5288.445241348334,
          -1170.4803104435332,
          1899.825431607061,
          -1043.294256487612,
          33.163054041615396,
          -4668.728157289937,
          -235.38507084436333,
          94.4012296739129,
          3465.490757564854,
          -721.637953293777,
          1078.3276031357664,
          1012.1590355036174,
          -1534.4756199652766,
          -1045.7026747864224,
          4576.007093959759,
          -572.6916394029026,
          36419.83485489761,
          2677.5651421785306,
          -899.9015868492279,
          -181.6403843781004,
          687.5815058627102,
          -32325.69241406215,
          134.49716521944583,
          689.4500176947986,
          -867.477694549523,
          1658.3142453269602,
          11698.773341824832,
          -1091.8861618545207,
          63.398381807043734,
          2846.7274889642995,
          -248.79582460621782,
          -9508.203979249462,
          1367.6465150285749,
          472.08642114457734,
          -423.9651170788605,
          640.8282323042977,
          -4666.406491896982,
          2038.8634784992846,
          1611.5297599283604,
          2846.72587800544,
          -21359.410546354586,
          1496.5258611705194,
          -1459.1867624023616,
          -293.76665576679034,
          6947.026158549066,
          599.5696043578109,
          -1.5119787598436574,
          -12582.723917271098,
          -343.37730175252887,
          -1221.3329906060908,
          -139.24693364934421,
          -1581.924211432257,
          248.1782983889343,
          -6594.884153027771,
          -2779.2074500303097,
          278.30732922217544,
          1521.9592707940683,
          -2612.221391479854,
          -3096.835228241289,
          -5139.493346172734,
          -7831.705234207635,
          1081.429820882032,
          -741.4376773726581,
          7121.2045201706715,
          255.5009470797977,
          -13888.093576217034,
          832.2321271616315,
          255.26405870114922,
          -1598.8382370000309,
          8893.109336413574,
          -1321.681224098258,
          -9573.443754014235,
          756.8736834889755,
          343.04253855284514,
          7502.7754878476335,
          -3631.8120279442937,
          803.4062762718745,
          -323.06546656568935,
          90.09201324287415,
          161.5403992134543,
          -500,
          8225.491638809122,
          -12554.156953142694,
          12700.25643603639,
          1157.759932797907,
          -23.817382795116885,
          -40322.163431454814,
          5864.231583211767,
          -32484.950230666916,
          6213.405642771017,
          7751.342257428947,
          977.7162731373974,
          1537.430418474556,
          2076.1891664819095,
          4800.951995085321,
          1605.021305928096,
          -7708.568382701329,
          -7521.313494295562,
          -1116.3281241318873,
          1593.629969258082,
          2580.8934724146893,
          1605.288831739268,
          16677.273781117954,
          88594.69067327198,
          3456.7747981909597,
          2379.2954484840784,
          -897.5455724843778,
          -784.4704260047874,
          545.4598968451744,
          -13528.984597111332,
          906.8133609246047,
          509.140738452375,
          -2792.858608243654,
          4530.569794710387,
          1310.9060422319449,
          360.75560300419147,
          11103.43551941932,
          2569.5712784412026,
          201.39768432770688,
          -904.1861296460374,
          722.2335504892085,
          2965.8665675216907,
          12539.269662063554,
          1822.8103833688929,
          180.29707370647156,
          -590.2707184194646,
          -2515.6217612978508,
          -19.6210262049608,
          1656.2432266698297,
          1626.0316950943225,
          -2727.270567765572,
          -2807.377229112466,
          625.7699455380396,
          -479.83027515346475,
          1461.3557751456647,
          1543.7175778377223,
          2976.7268007096354,
          1977.2850663945787,
          13421.472818358947,
          1167.3670897576767,
          -504.76140375780665,
          2231.083577119749,
          405.9286010011201,
          -3353.761757752749,
          26.179089898150096,
          -395.26707138916026,
          379.1037400710957,
          -18253.74684376189,
          8211.004028227719,
          2757.454673671363,
          410.33567775483607,
          1729.210084162707,
          458.83522115830783,
          -428.62730031737465,
          3824.010518333149,
          13379.045577527839,
          907.722109593662,
          1639.7665333373006,
          -1378.4777964499008,
          -49.2222000021809,
          -239.61967780323903,
          -2608.185941300556,
          -781.0405233298725,
          -1089.4454336350846,
          25037.107216774413,
          4325.9307319847685,
          -4085.9359767643355,
          -11452.846852809424,
          -9455.23695066417,
          15017.307612447534,
          -1420.6002440373868,
          2173.256300233105,
          -148.93806908552642,
          1040.6882082251032,
          8656.879169684442,
          1180.4560446281212,
          -975.9643033617906,
          -372.6821264912596,
          -37385.65781722602,
          -622.6711898014191,
          -72.04846877232262,
          825.2676423232733,
          -818.9810753992388,
          3972.0036358610005,
          923.3294582976596,
          -561.8080932293976,
          1550.918840797167,
          375.3528100217054,
          1182.8578124483702,
          -486.14591379824924,
          -2346.3386469087563,
          505.0545927593564,
          -117.84487719824085,
          -4883.46545449071,
          1967.1021367163376,
          348.0629979893456,
          -241.56947572887566,
          24857.496740001283,
          -398.7064929275077,
          1207.4361301876925,
          25948.66610067409,
          6315.4452184386755,
          436.1679877881961,
          1309.4592795378903,
          -103.5574643270395,
          2183.9896360408766,
          -4440.695500138664,
          920.6926719024959,
          -993.4335331091212,
          -2000,
          53967.56524186631,
          164.18125323823256,
          -6591.708037478202,
          270.7427940166076,
          1260.4845195168273,
          -69649.35478718045,
          -3303.5959830524953,
          -299.7221093494645,
          -881.4468665502704,
          1786.610956600442,
          -4695.361211796953,
          1123.646360126034,
          421.25251545539413,
          5333.023738399028,
          3252.4235787680936,
          208.86238149087876,
          1484.7471329529067,
          2929.9320069528694,
          -33.62852409631466,
          5096.804243652121,
          -999.8566840974122,
          -7154.109540287107,
          -2402.0982150264535,
          4206.834433589784,
          76.38425315351378,
          1684.9450118364903,
          3253.8575534626007,
          -811.8275541708831,
          -550,
          -132.98771421242782,
          931.5446673135143,
          4187.515468790942,
          3855.1882158505214,
          9626.462498411438,
          -356.02921918762604,
          -7255.843551440172,
          -264.79566548789353,
          790.447389777697,
          234.7750819071548,
          -375.74024468119023,
          -6188.304536735035,
          -1116.1241150269925,
          264.1443328581299,
          87.19123787668104,
          5597.003899752202,
          -3433.702464876327,
          2097.8664399878107,
          6060.915511747975,
          -78.79386918363161,
          5370.362904298328,
          1200.504296987114,
          -65.24492975866815,
          1570.9291731090311,
          -4181.248364441988,
          16979.87228441942,
          1532.826183036599,
          -393.1429955548638,
          -724.9931965976466,
          -13793.627031949076,
          -95.74846571478884,
          -9.795391786433356,
          -312.58468827204763,
          -1317.3161268251988,
          -843.138629491712,
          -1797.4508981079862,
          27849.003829225003,
          2928.2961878807364,
          -714.1935491105996,
          -2895.634948510621,
          5.846001469078146,
          -89.47397060425101,
          474.02014507355034,
          -422.67860568847027,
          -421.56548318788555,
          -4569.322198083923,
          -227.40717983758077,
          149.21769489327858,
          -3073.2895261312706,
          773.5872962510621,
          55.04722670519345,
          -732.4220138259793,
          -1282.097544960321,
          1822.4423905201184,
          396.51447206742887,
          -186.90852915138248,
          6425.32938564186,
          -349.36195274347494,
          559.8909944655547,
          -7768.9000464973215,
          1012.2572966907628,
          -262.05549370616836,
          2612.8290190519983,
          -8760.23103117533,
          2352.617063466616,
          112.24384688221016,
          6417.7888663832455,
          -3547.5000310520554,
          3561.23959969345,
          273.42618543234676,
          -90.29462282135103,
          346.12634499575597,
          -909.3963807790715,
          -5790.1305107352455,
          1622.9945710926331,
          55675.74823102445,
          218.4467873876913,
          984.8335665764607,
          3176.2652970460585,
          4964.53695934751,
          -28365.885271564068,
          1520.3130132183796,
          -453.51318777268636,
          -1264.8592900446647,
          -3666.5398121053267,
          -5948.752450845757,
          -1068.784385538227,
          -868.2878204300205,
          -9691.803213457111,
          -6314.295007420213,
          453.51911934370855,
          18346.971969668986,
          -948.5873609665032,
          5336.88952660868,
          191.85838071507533,
          5820.599523984962,
          488.65046088282816,
          -355.1184178853182,
          -5619.426307021804,
          22854.188652133947,
          2060.5218113916526,
          1855.8873140657865,
          47.5517066656829,
          2111.666076013702,
          -83.42474989040488,
          -437.30953994160063,
          -993.4275356368562,
          5158.572402166586,
          280.28747070403256,
          -3124.532004456154,
          16052.640532536327,
          -3202.425556515758,
          445.68188300829024,
          716.1348985426066,
          286.7846928167646,
          4241.234863944523,
          -2481.5196089359624,
          -2291.3088714813202,
          610.1832297113374,
          202.55820874012807,
          4.282193782416243,
          6208.425099348868,
          196.5212200785645,
          2708.43341913326,
          -839.4602220561637,
          3527.432008612787,
          -7495.013603097032,
          504.71251350232296,
          -2459.9806389313526,
          -3602.68844450132,
          4924.284997464387,
          536.4810651309544,
          453.7667289334206,
          -93.15153467959681,
          32100.250441421922,
          -189.37906906071134,
          243.6449937134662,
          2888.1320165741345,
          -858.3764304325086,
          -13119.310283619445,
          -1018.9436359594703,
          -867.9511142833503,
          25573.698732799923,
          39.88316228519318,
          1441.0013359018376,
          388.801370424535,
          109.41147710306291,
          951.3436802678302,
          631.4512960377858,
          3207.8462975644106,
          -1090.8442593226937,
          -1461.9267288818264,
          669.1673953217014,
          -6139.521726008925,
          196.87542133904662,
          8859.39562480507,
          -69.08847194512964,
          -7787.542243423595,
          -567.6612811186751,
          418.16870859643404,
          -19669.784812143924,
          3730.5288686937274,
          3278.271455824737,
          25.178239745957853,
          1366.1417132333108,
          21.88032471232691,
          1751.8446957109245,
          -461.5489696626311,
          -5732.010743262585,
          -5992.15833040898,
          901.941148399731,
          2589.9403441624945,
          -2752.0217215734083,
          1144.8516603214935,
          7350.241370689513,
          503.0659419928943,
          -183.08567898061665,
          -1643.9114880730922,
          1408.4224862453625,
          -485.50619690453095,
          131.34058843558887,
          3149.8880196950377,
          1033.6592761499123,
          3959.19031799394,
          -274.7681028147014,
          2882.9483291821107,
          616.453674369478,
          1778.2694384000224,
          4727.700607235345,
          2100.2310615208153,
          1439.0071446417332,
          2924.2109873514937,
          -1330.6083982148702,
          4700.996885111187,
          -5022.501835573559,
          -1385.383295875596,
          2114.9838519661535,
          -3529.2175792263342,
          968.5928224292059,
          11477.798043293304,
          7746.669850737539,
          -1800.1410851811852,
          -802.5802171515134,
          1263.8198871715172,
          1303.8654843042405,
          -903.8101324995187,
          2881.146086353493,
          767.4748034073282,
          830.1081368573391,
          3147.347221194268,
          6987.209837498747,
          -2429.9186924998376,
          -165.46601016634543,
          4058.7024471439227,
          -4166.2313844397995,
          -370.7146103421918,
          980.1855036373972,
          1293.28864313764,
          -1250.9605565783859,
          3012.8945314312896,
          1687.073825280282,
          11.493737570643134,
          -136.83535703075177,
          -2848.3581701684197,
          5635.621300818426,
          7079.498620139282,
          1091.2925947291096,
          -850.2172638938291,
          -716.8969293013979,
          -204.2431790543542,
          10879.075408388882,
          913.925462736227,
          3457.026293246925,
          -2141.5591020992642,
          2106.8421291938294,
          1348.6235886538332,
          -10301.656266222937,
          532.6399000238598,
          29.58289711808561,
          4597.310324486592,
          1273.8645254755156,
          -3197.368733672585,
          8241.09714205657,
          -11520.1397907645,
          1277.558698930452,
          -5209.036930795613,
          8.59855646395863,
          999.282573476356,
          -248.9619317368779,
          -4400.727642971171,
          196.66129594256745,
          -149.83897940926937,
          -8103.172828946059,
          -9494.231463524724,
          8680.188775664898,
          3201.682529623611,
          1653.7295405721657,
          -781.4143475651072,
          1745.0958202143265,
          266.3496217457432,
          -386.10004004142786,
          4813.940934407185,
          -21307.76272413094,
          320.62268535211297,
          5189.096012640504,
          1789.6574353890537,
          1137.6269708556883,
          -8936.27417836391,
          490.95774954559283,
          982.5181463173576,
          24511.988071155138,
          7223.240700087612,
          172.1739437131946,
          -2136.5822056481775,
          3006.217961326827,
          -99.25142171166704,
          1489.3398968307702,
          4836.452921612297,
          986.0812254641587,
          -624.966905553456,
          -639.8789979197767
         ],
         "xaxis": "x",
         "yaxis": "y"
        }
       ],
       "layout": {
        "barmode": "relative",
        "legend": {
         "tracegroupgap": 0
        },
        "margin": {
         "t": 60
        },
        "template": {
         "data": {
          "bar": [
           {
            "error_x": {
             "color": "#2a3f5f"
            },
            "error_y": {
             "color": "#2a3f5f"
            },
            "marker": {
             "line": {
              "color": "#E5ECF6",
              "width": 0.5
             },
             "pattern": {
              "fillmode": "overlay",
              "size": 10,
              "solidity": 0.2
             }
            },
            "type": "bar"
           }
          ],
          "barpolar": [
           {
            "marker": {
             "line": {
              "color": "#E5ECF6",
              "width": 0.5
             },
             "pattern": {
              "fillmode": "overlay",
              "size": 10,
              "solidity": 0.2
             }
            },
            "type": "barpolar"
           }
          ],
          "carpet": [
           {
            "aaxis": {
             "endlinecolor": "#2a3f5f",
             "gridcolor": "white",
             "linecolor": "white",
             "minorgridcolor": "white",
             "startlinecolor": "#2a3f5f"
            },
            "baxis": {
             "endlinecolor": "#2a3f5f",
             "gridcolor": "white",
             "linecolor": "white",
             "minorgridcolor": "white",
             "startlinecolor": "#2a3f5f"
            },
            "type": "carpet"
           }
          ],
          "choropleth": [
           {
            "colorbar": {
             "outlinewidth": 0,
             "ticks": ""
            },
            "type": "choropleth"
           }
          ],
          "contour": [
           {
            "colorbar": {
             "outlinewidth": 0,
             "ticks": ""
            },
            "colorscale": [
             [
              0,
              "#0d0887"
             ],
             [
              0.1111111111111111,
              "#46039f"
             ],
             [
              0.2222222222222222,
              "#7201a8"
             ],
             [
              0.3333333333333333,
              "#9c179e"
             ],
             [
              0.4444444444444444,
              "#bd3786"
             ],
             [
              0.5555555555555556,
              "#d8576b"
             ],
             [
              0.6666666666666666,
              "#ed7953"
             ],
             [
              0.7777777777777778,
              "#fb9f3a"
             ],
             [
              0.8888888888888888,
              "#fdca26"
             ],
             [
              1,
              "#f0f921"
             ]
            ],
            "type": "contour"
           }
          ],
          "contourcarpet": [
           {
            "colorbar": {
             "outlinewidth": 0,
             "ticks": ""
            },
            "type": "contourcarpet"
           }
          ],
          "heatmap": [
           {
            "colorbar": {
             "outlinewidth": 0,
             "ticks": ""
            },
            "colorscale": [
             [
              0,
              "#0d0887"
             ],
             [
              0.1111111111111111,
              "#46039f"
             ],
             [
              0.2222222222222222,
              "#7201a8"
             ],
             [
              0.3333333333333333,
              "#9c179e"
             ],
             [
              0.4444444444444444,
              "#bd3786"
             ],
             [
              0.5555555555555556,
              "#d8576b"
             ],
             [
              0.6666666666666666,
              "#ed7953"
             ],
             [
              0.7777777777777778,
              "#fb9f3a"
             ],
             [
              0.8888888888888888,
              "#fdca26"
             ],
             [
              1,
              "#f0f921"
             ]
            ],
            "type": "heatmap"
           }
          ],
          "heatmapgl": [
           {
            "colorbar": {
             "outlinewidth": 0,
             "ticks": ""
            },
            "colorscale": [
             [
              0,
              "#0d0887"
             ],
             [
              0.1111111111111111,
              "#46039f"
             ],
             [
              0.2222222222222222,
              "#7201a8"
             ],
             [
              0.3333333333333333,
              "#9c179e"
             ],
             [
              0.4444444444444444,
              "#bd3786"
             ],
             [
              0.5555555555555556,
              "#d8576b"
             ],
             [
              0.6666666666666666,
              "#ed7953"
             ],
             [
              0.7777777777777778,
              "#fb9f3a"
             ],
             [
              0.8888888888888888,
              "#fdca26"
             ],
             [
              1,
              "#f0f921"
             ]
            ],
            "type": "heatmapgl"
           }
          ],
          "histogram": [
           {
            "marker": {
             "pattern": {
              "fillmode": "overlay",
              "size": 10,
              "solidity": 0.2
             }
            },
            "type": "histogram"
           }
          ],
          "histogram2d": [
           {
            "colorbar": {
             "outlinewidth": 0,
             "ticks": ""
            },
            "colorscale": [
             [
              0,
              "#0d0887"
             ],
             [
              0.1111111111111111,
              "#46039f"
             ],
             [
              0.2222222222222222,
              "#7201a8"
             ],
             [
              0.3333333333333333,
              "#9c179e"
             ],
             [
              0.4444444444444444,
              "#bd3786"
             ],
             [
              0.5555555555555556,
              "#d8576b"
             ],
             [
              0.6666666666666666,
              "#ed7953"
             ],
             [
              0.7777777777777778,
              "#fb9f3a"
             ],
             [
              0.8888888888888888,
              "#fdca26"
             ],
             [
              1,
              "#f0f921"
             ]
            ],
            "type": "histogram2d"
           }
          ],
          "histogram2dcontour": [
           {
            "colorbar": {
             "outlinewidth": 0,
             "ticks": ""
            },
            "colorscale": [
             [
              0,
              "#0d0887"
             ],
             [
              0.1111111111111111,
              "#46039f"
             ],
             [
              0.2222222222222222,
              "#7201a8"
             ],
             [
              0.3333333333333333,
              "#9c179e"
             ],
             [
              0.4444444444444444,
              "#bd3786"
             ],
             [
              0.5555555555555556,
              "#d8576b"
             ],
             [
              0.6666666666666666,
              "#ed7953"
             ],
             [
              0.7777777777777778,
              "#fb9f3a"
             ],
             [
              0.8888888888888888,
              "#fdca26"
             ],
             [
              1,
              "#f0f921"
             ]
            ],
            "type": "histogram2dcontour"
           }
          ],
          "mesh3d": [
           {
            "colorbar": {
             "outlinewidth": 0,
             "ticks": ""
            },
            "type": "mesh3d"
           }
          ],
          "parcoords": [
           {
            "line": {
             "colorbar": {
              "outlinewidth": 0,
              "ticks": ""
             }
            },
            "type": "parcoords"
           }
          ],
          "pie": [
           {
            "automargin": true,
            "type": "pie"
           }
          ],
          "scatter": [
           {
            "fillpattern": {
             "fillmode": "overlay",
             "size": 10,
             "solidity": 0.2
            },
            "type": "scatter"
           }
          ],
          "scatter3d": [
           {
            "line": {
             "colorbar": {
              "outlinewidth": 0,
              "ticks": ""
             }
            },
            "marker": {
             "colorbar": {
              "outlinewidth": 0,
              "ticks": ""
             }
            },
            "type": "scatter3d"
           }
          ],
          "scattercarpet": [
           {
            "marker": {
             "colorbar": {
              "outlinewidth": 0,
              "ticks": ""
             }
            },
            "type": "scattercarpet"
           }
          ],
          "scattergeo": [
           {
            "marker": {
             "colorbar": {
              "outlinewidth": 0,
              "ticks": ""
             }
            },
            "type": "scattergeo"
           }
          ],
          "scattergl": [
           {
            "marker": {
             "colorbar": {
              "outlinewidth": 0,
              "ticks": ""
             }
            },
            "type": "scattergl"
           }
          ],
          "scattermapbox": [
           {
            "marker": {
             "colorbar": {
              "outlinewidth": 0,
              "ticks": ""
             }
            },
            "type": "scattermapbox"
           }
          ],
          "scatterpolar": [
           {
            "marker": {
             "colorbar": {
              "outlinewidth": 0,
              "ticks": ""
             }
            },
            "type": "scatterpolar"
           }
          ],
          "scatterpolargl": [
           {
            "marker": {
             "colorbar": {
              "outlinewidth": 0,
              "ticks": ""
             }
            },
            "type": "scatterpolargl"
           }
          ],
          "scatterternary": [
           {
            "marker": {
             "colorbar": {
              "outlinewidth": 0,
              "ticks": ""
             }
            },
            "type": "scatterternary"
           }
          ],
          "surface": [
           {
            "colorbar": {
             "outlinewidth": 0,
             "ticks": ""
            },
            "colorscale": [
             [
              0,
              "#0d0887"
             ],
             [
              0.1111111111111111,
              "#46039f"
             ],
             [
              0.2222222222222222,
              "#7201a8"
             ],
             [
              0.3333333333333333,
              "#9c179e"
             ],
             [
              0.4444444444444444,
              "#bd3786"
             ],
             [
              0.5555555555555556,
              "#d8576b"
             ],
             [
              0.6666666666666666,
              "#ed7953"
             ],
             [
              0.7777777777777778,
              "#fb9f3a"
             ],
             [
              0.8888888888888888,
              "#fdca26"
             ],
             [
              1,
              "#f0f921"
             ]
            ],
            "type": "surface"
           }
          ],
          "table": [
           {
            "cells": {
             "fill": {
              "color": "#EBF0F8"
             },
             "line": {
              "color": "white"
             }
            },
            "header": {
             "fill": {
              "color": "#C8D4E3"
             },
             "line": {
              "color": "white"
             }
            },
            "type": "table"
           }
          ]
         },
         "layout": {
          "annotationdefaults": {
           "arrowcolor": "#2a3f5f",
           "arrowhead": 0,
           "arrowwidth": 1
          },
          "autotypenumbers": "strict",
          "coloraxis": {
           "colorbar": {
            "outlinewidth": 0,
            "ticks": ""
           }
          },
          "colorscale": {
           "diverging": [
            [
             0,
             "#8e0152"
            ],
            [
             0.1,
             "#c51b7d"
            ],
            [
             0.2,
             "#de77ae"
            ],
            [
             0.3,
             "#f1b6da"
            ],
            [
             0.4,
             "#fde0ef"
            ],
            [
             0.5,
             "#f7f7f7"
            ],
            [
             0.6,
             "#e6f5d0"
            ],
            [
             0.7,
             "#b8e186"
            ],
            [
             0.8,
             "#7fbc41"
            ],
            [
             0.9,
             "#4d9221"
            ],
            [
             1,
             "#276419"
            ]
           ],
           "sequential": [
            [
             0,
             "#0d0887"
            ],
            [
             0.1111111111111111,
             "#46039f"
            ],
            [
             0.2222222222222222,
             "#7201a8"
            ],
            [
             0.3333333333333333,
             "#9c179e"
            ],
            [
             0.4444444444444444,
             "#bd3786"
            ],
            [
             0.5555555555555556,
             "#d8576b"
            ],
            [
             0.6666666666666666,
             "#ed7953"
            ],
            [
             0.7777777777777778,
             "#fb9f3a"
            ],
            [
             0.8888888888888888,
             "#fdca26"
            ],
            [
             1,
             "#f0f921"
            ]
           ],
           "sequentialminus": [
            [
             0,
             "#0d0887"
            ],
            [
             0.1111111111111111,
             "#46039f"
            ],
            [
             0.2222222222222222,
             "#7201a8"
            ],
            [
             0.3333333333333333,
             "#9c179e"
            ],
            [
             0.4444444444444444,
             "#bd3786"
            ],
            [
             0.5555555555555556,
             "#d8576b"
            ],
            [
             0.6666666666666666,
             "#ed7953"
            ],
            [
             0.7777777777777778,
             "#fb9f3a"
            ],
            [
             0.8888888888888888,
             "#fdca26"
            ],
            [
             1,
             "#f0f921"
            ]
           ]
          },
          "colorway": [
           "#636efa",
           "#EF553B",
           "#00cc96",
           "#ab63fa",
           "#FFA15A",
           "#19d3f3",
           "#FF6692",
           "#B6E880",
           "#FF97FF",
           "#FECB52"
          ],
          "font": {
           "color": "#2a3f5f"
          },
          "geo": {
           "bgcolor": "white",
           "lakecolor": "white",
           "landcolor": "#E5ECF6",
           "showlakes": true,
           "showland": true,
           "subunitcolor": "white"
          },
          "hoverlabel": {
           "align": "left"
          },
          "hovermode": "closest",
          "mapbox": {
           "style": "light"
          },
          "paper_bgcolor": "white",
          "plot_bgcolor": "#E5ECF6",
          "polar": {
           "angularaxis": {
            "gridcolor": "white",
            "linecolor": "white",
            "ticks": ""
           },
           "bgcolor": "#E5ECF6",
           "radialaxis": {
            "gridcolor": "white",
            "linecolor": "white",
            "ticks": ""
           }
          },
          "scene": {
           "xaxis": {
            "backgroundcolor": "#E5ECF6",
            "gridcolor": "white",
            "gridwidth": 2,
            "linecolor": "white",
            "showbackground": true,
            "ticks": "",
            "zerolinecolor": "white"
           },
           "yaxis": {
            "backgroundcolor": "#E5ECF6",
            "gridcolor": "white",
            "gridwidth": 2,
            "linecolor": "white",
            "showbackground": true,
            "ticks": "",
            "zerolinecolor": "white"
           },
           "zaxis": {
            "backgroundcolor": "#E5ECF6",
            "gridcolor": "white",
            "gridwidth": 2,
            "linecolor": "white",
            "showbackground": true,
            "ticks": "",
            "zerolinecolor": "white"
           }
          },
          "shapedefaults": {
           "line": {
            "color": "#2a3f5f"
           }
          },
          "ternary": {
           "aaxis": {
            "gridcolor": "white",
            "linecolor": "white",
            "ticks": ""
           },
           "baxis": {
            "gridcolor": "white",
            "linecolor": "white",
            "ticks": ""
           },
           "bgcolor": "#E5ECF6",
           "caxis": {
            "gridcolor": "white",
            "linecolor": "white",
            "ticks": ""
           }
          },
          "title": {
           "x": 0.05
          },
          "xaxis": {
           "automargin": true,
           "gridcolor": "white",
           "linecolor": "white",
           "ticks": "",
           "title": {
            "standoff": 15
           },
           "zerolinecolor": "white",
           "zerolinewidth": 2
          },
          "yaxis": {
           "automargin": true,
           "gridcolor": "white",
           "linecolor": "white",
           "ticks": "",
           "title": {
            "standoff": 15
           },
           "zerolinecolor": "white",
           "zerolinewidth": 2
          }
         }
        },
        "title": {
         "text": "Histogram of Residuals"
        },
        "xaxis": {
         "anchor": "y",
         "domain": [
          0,
          1
         ],
         "title": {
          "text": "Residuals"
         }
        },
        "yaxis": {
         "anchor": "x",
         "domain": [
          0,
          1
         ],
         "title": {
          "text": "Count"
         }
        }
       }
      }
     },
     "metadata": {},
     "output_type": "display_data"
    }
   ],
   "source": [
    "plot(prediction_df[prediction_df.Model == 'LightGBM'])"
   ]
  },
  {
   "cell_type": "markdown",
   "metadata": {},
   "source": [
    "## Feature selection"
   ]
  },
  {
   "cell_type": "code",
   "execution_count": null,
   "metadata": {},
   "outputs": [],
   "source": [
    "# Get feature importances\n",
    "importances = models['Random Forest Regressor'].feature_importances_\n",
    "\n",
    "# Match feature names (assuming you have a list of names in feature_names)\n",
    "feature_names = list(x_train.columns)  # replace with your actual feature names\n",
    "\n",
    "features = sorted(zip(feature_names, importances), key=lambda x: x[1], reverse=True)\n",
    "\n",
    "features_importance = pd.DataFrame(features, columns=['Feature', 'Importance'])"
   ]
  },
  {
   "cell_type": "code",
   "execution_count": null,
   "metadata": {},
   "outputs": [
    {
     "data": {
      "application/vnd.plotly.v1+json": {
       "config": {
        "plotlyServerURL": "https://plot.ly"
       },
       "data": [
        {
         "type": "bar",
         "x": [
          "Value",
          "Team",
          "Reactions",
          "League",
          "Age",
          "Composure",
          "Shot power",
          "Ball control",
          "Att. Position",
          "Nationality",
          "Curve",
          "Long passing",
          "Penalties",
          "Stamina",
          "Volleys",
          "Finishing",
          "FK Accuracy",
          "Crossing",
          "Aggression",
          "Long shots",
          "GK Handling",
          "GK Reflexes",
          "Short passing",
          "Jumping",
          "GK Kicking",
          "Defensive awareness",
          "Balance",
          "Height",
          "Weigh",
          "Vision",
          "Sprint speed",
          "Heading accuracy",
          "Strength",
          "GK Diving",
          "Dribbling",
          "Interceptions",
          "Agility",
          "Standing tackle",
          "Sliding tackle",
          "GK Positioning",
          "Acceleration",
          "Position",
          "Foot"
         ],
         "y": [
          0.6041130903092284,
          0.17115914640481852,
          0.05184285440005865,
          0.04456559634276698,
          0.02011939251313273,
          0.00939312906117765,
          0.007737096869436501,
          0.006852133981785517,
          0.004961434962841136,
          0.004110790409441256,
          0.00385994563904996,
          0.003653072886911808,
          0.003368510211886227,
          0.0032345538613403977,
          0.0031396256144305985,
          0.0030242802057774045,
          0.0027466944536438903,
          0.002736620071978306,
          0.0026731375518862593,
          0.0024872749620325554,
          0.0024820558019252588,
          0.0024553240903348018,
          0.0023923205068409536,
          0.002358948652283519,
          0.0022627324694118513,
          0.002143395792806513,
          0.002066494686005411,
          0.0020555595919800247,
          0.0019853503400013932,
          0.001976633345877667,
          0.001972816618765708,
          0.0019709013152506218,
          0.0019261934601017407,
          0.0019017616341561122,
          0.0018898316515099287,
          0.0018588696133208914,
          0.001843892833039438,
          0.0018338339393658908,
          0.0018123956589924852,
          0.001806947669394625,
          0.0016601065619929044,
          0.0012694758586599137,
          0.0002957771943575731
         ]
        }
       ],
       "layout": {
        "template": {
         "data": {
          "bar": [
           {
            "error_x": {
             "color": "#2a3f5f"
            },
            "error_y": {
             "color": "#2a3f5f"
            },
            "marker": {
             "line": {
              "color": "#E5ECF6",
              "width": 0.5
             },
             "pattern": {
              "fillmode": "overlay",
              "size": 10,
              "solidity": 0.2
             }
            },
            "type": "bar"
           }
          ],
          "barpolar": [
           {
            "marker": {
             "line": {
              "color": "#E5ECF6",
              "width": 0.5
             },
             "pattern": {
              "fillmode": "overlay",
              "size": 10,
              "solidity": 0.2
             }
            },
            "type": "barpolar"
           }
          ],
          "carpet": [
           {
            "aaxis": {
             "endlinecolor": "#2a3f5f",
             "gridcolor": "white",
             "linecolor": "white",
             "minorgridcolor": "white",
             "startlinecolor": "#2a3f5f"
            },
            "baxis": {
             "endlinecolor": "#2a3f5f",
             "gridcolor": "white",
             "linecolor": "white",
             "minorgridcolor": "white",
             "startlinecolor": "#2a3f5f"
            },
            "type": "carpet"
           }
          ],
          "choropleth": [
           {
            "colorbar": {
             "outlinewidth": 0,
             "ticks": ""
            },
            "type": "choropleth"
           }
          ],
          "contour": [
           {
            "colorbar": {
             "outlinewidth": 0,
             "ticks": ""
            },
            "colorscale": [
             [
              0,
              "#0d0887"
             ],
             [
              0.1111111111111111,
              "#46039f"
             ],
             [
              0.2222222222222222,
              "#7201a8"
             ],
             [
              0.3333333333333333,
              "#9c179e"
             ],
             [
              0.4444444444444444,
              "#bd3786"
             ],
             [
              0.5555555555555556,
              "#d8576b"
             ],
             [
              0.6666666666666666,
              "#ed7953"
             ],
             [
              0.7777777777777778,
              "#fb9f3a"
             ],
             [
              0.8888888888888888,
              "#fdca26"
             ],
             [
              1,
              "#f0f921"
             ]
            ],
            "type": "contour"
           }
          ],
          "contourcarpet": [
           {
            "colorbar": {
             "outlinewidth": 0,
             "ticks": ""
            },
            "type": "contourcarpet"
           }
          ],
          "heatmap": [
           {
            "colorbar": {
             "outlinewidth": 0,
             "ticks": ""
            },
            "colorscale": [
             [
              0,
              "#0d0887"
             ],
             [
              0.1111111111111111,
              "#46039f"
             ],
             [
              0.2222222222222222,
              "#7201a8"
             ],
             [
              0.3333333333333333,
              "#9c179e"
             ],
             [
              0.4444444444444444,
              "#bd3786"
             ],
             [
              0.5555555555555556,
              "#d8576b"
             ],
             [
              0.6666666666666666,
              "#ed7953"
             ],
             [
              0.7777777777777778,
              "#fb9f3a"
             ],
             [
              0.8888888888888888,
              "#fdca26"
             ],
             [
              1,
              "#f0f921"
             ]
            ],
            "type": "heatmap"
           }
          ],
          "heatmapgl": [
           {
            "colorbar": {
             "outlinewidth": 0,
             "ticks": ""
            },
            "colorscale": [
             [
              0,
              "#0d0887"
             ],
             [
              0.1111111111111111,
              "#46039f"
             ],
             [
              0.2222222222222222,
              "#7201a8"
             ],
             [
              0.3333333333333333,
              "#9c179e"
             ],
             [
              0.4444444444444444,
              "#bd3786"
             ],
             [
              0.5555555555555556,
              "#d8576b"
             ],
             [
              0.6666666666666666,
              "#ed7953"
             ],
             [
              0.7777777777777778,
              "#fb9f3a"
             ],
             [
              0.8888888888888888,
              "#fdca26"
             ],
             [
              1,
              "#f0f921"
             ]
            ],
            "type": "heatmapgl"
           }
          ],
          "histogram": [
           {
            "marker": {
             "pattern": {
              "fillmode": "overlay",
              "size": 10,
              "solidity": 0.2
             }
            },
            "type": "histogram"
           }
          ],
          "histogram2d": [
           {
            "colorbar": {
             "outlinewidth": 0,
             "ticks": ""
            },
            "colorscale": [
             [
              0,
              "#0d0887"
             ],
             [
              0.1111111111111111,
              "#46039f"
             ],
             [
              0.2222222222222222,
              "#7201a8"
             ],
             [
              0.3333333333333333,
              "#9c179e"
             ],
             [
              0.4444444444444444,
              "#bd3786"
             ],
             [
              0.5555555555555556,
              "#d8576b"
             ],
             [
              0.6666666666666666,
              "#ed7953"
             ],
             [
              0.7777777777777778,
              "#fb9f3a"
             ],
             [
              0.8888888888888888,
              "#fdca26"
             ],
             [
              1,
              "#f0f921"
             ]
            ],
            "type": "histogram2d"
           }
          ],
          "histogram2dcontour": [
           {
            "colorbar": {
             "outlinewidth": 0,
             "ticks": ""
            },
            "colorscale": [
             [
              0,
              "#0d0887"
             ],
             [
              0.1111111111111111,
              "#46039f"
             ],
             [
              0.2222222222222222,
              "#7201a8"
             ],
             [
              0.3333333333333333,
              "#9c179e"
             ],
             [
              0.4444444444444444,
              "#bd3786"
             ],
             [
              0.5555555555555556,
              "#d8576b"
             ],
             [
              0.6666666666666666,
              "#ed7953"
             ],
             [
              0.7777777777777778,
              "#fb9f3a"
             ],
             [
              0.8888888888888888,
              "#fdca26"
             ],
             [
              1,
              "#f0f921"
             ]
            ],
            "type": "histogram2dcontour"
           }
          ],
          "mesh3d": [
           {
            "colorbar": {
             "outlinewidth": 0,
             "ticks": ""
            },
            "type": "mesh3d"
           }
          ],
          "parcoords": [
           {
            "line": {
             "colorbar": {
              "outlinewidth": 0,
              "ticks": ""
             }
            },
            "type": "parcoords"
           }
          ],
          "pie": [
           {
            "automargin": true,
            "type": "pie"
           }
          ],
          "scatter": [
           {
            "fillpattern": {
             "fillmode": "overlay",
             "size": 10,
             "solidity": 0.2
            },
            "type": "scatter"
           }
          ],
          "scatter3d": [
           {
            "line": {
             "colorbar": {
              "outlinewidth": 0,
              "ticks": ""
             }
            },
            "marker": {
             "colorbar": {
              "outlinewidth": 0,
              "ticks": ""
             }
            },
            "type": "scatter3d"
           }
          ],
          "scattercarpet": [
           {
            "marker": {
             "colorbar": {
              "outlinewidth": 0,
              "ticks": ""
             }
            },
            "type": "scattercarpet"
           }
          ],
          "scattergeo": [
           {
            "marker": {
             "colorbar": {
              "outlinewidth": 0,
              "ticks": ""
             }
            },
            "type": "scattergeo"
           }
          ],
          "scattergl": [
           {
            "marker": {
             "colorbar": {
              "outlinewidth": 0,
              "ticks": ""
             }
            },
            "type": "scattergl"
           }
          ],
          "scattermapbox": [
           {
            "marker": {
             "colorbar": {
              "outlinewidth": 0,
              "ticks": ""
             }
            },
            "type": "scattermapbox"
           }
          ],
          "scatterpolar": [
           {
            "marker": {
             "colorbar": {
              "outlinewidth": 0,
              "ticks": ""
             }
            },
            "type": "scatterpolar"
           }
          ],
          "scatterpolargl": [
           {
            "marker": {
             "colorbar": {
              "outlinewidth": 0,
              "ticks": ""
             }
            },
            "type": "scatterpolargl"
           }
          ],
          "scatterternary": [
           {
            "marker": {
             "colorbar": {
              "outlinewidth": 0,
              "ticks": ""
             }
            },
            "type": "scatterternary"
           }
          ],
          "surface": [
           {
            "colorbar": {
             "outlinewidth": 0,
             "ticks": ""
            },
            "colorscale": [
             [
              0,
              "#0d0887"
             ],
             [
              0.1111111111111111,
              "#46039f"
             ],
             [
              0.2222222222222222,
              "#7201a8"
             ],
             [
              0.3333333333333333,
              "#9c179e"
             ],
             [
              0.4444444444444444,
              "#bd3786"
             ],
             [
              0.5555555555555556,
              "#d8576b"
             ],
             [
              0.6666666666666666,
              "#ed7953"
             ],
             [
              0.7777777777777778,
              "#fb9f3a"
             ],
             [
              0.8888888888888888,
              "#fdca26"
             ],
             [
              1,
              "#f0f921"
             ]
            ],
            "type": "surface"
           }
          ],
          "table": [
           {
            "cells": {
             "fill": {
              "color": "#EBF0F8"
             },
             "line": {
              "color": "white"
             }
            },
            "header": {
             "fill": {
              "color": "#C8D4E3"
             },
             "line": {
              "color": "white"
             }
            },
            "type": "table"
           }
          ]
         },
         "layout": {
          "annotationdefaults": {
           "arrowcolor": "#2a3f5f",
           "arrowhead": 0,
           "arrowwidth": 1
          },
          "autotypenumbers": "strict",
          "coloraxis": {
           "colorbar": {
            "outlinewidth": 0,
            "ticks": ""
           }
          },
          "colorscale": {
           "diverging": [
            [
             0,
             "#8e0152"
            ],
            [
             0.1,
             "#c51b7d"
            ],
            [
             0.2,
             "#de77ae"
            ],
            [
             0.3,
             "#f1b6da"
            ],
            [
             0.4,
             "#fde0ef"
            ],
            [
             0.5,
             "#f7f7f7"
            ],
            [
             0.6,
             "#e6f5d0"
            ],
            [
             0.7,
             "#b8e186"
            ],
            [
             0.8,
             "#7fbc41"
            ],
            [
             0.9,
             "#4d9221"
            ],
            [
             1,
             "#276419"
            ]
           ],
           "sequential": [
            [
             0,
             "#0d0887"
            ],
            [
             0.1111111111111111,
             "#46039f"
            ],
            [
             0.2222222222222222,
             "#7201a8"
            ],
            [
             0.3333333333333333,
             "#9c179e"
            ],
            [
             0.4444444444444444,
             "#bd3786"
            ],
            [
             0.5555555555555556,
             "#d8576b"
            ],
            [
             0.6666666666666666,
             "#ed7953"
            ],
            [
             0.7777777777777778,
             "#fb9f3a"
            ],
            [
             0.8888888888888888,
             "#fdca26"
            ],
            [
             1,
             "#f0f921"
            ]
           ],
           "sequentialminus": [
            [
             0,
             "#0d0887"
            ],
            [
             0.1111111111111111,
             "#46039f"
            ],
            [
             0.2222222222222222,
             "#7201a8"
            ],
            [
             0.3333333333333333,
             "#9c179e"
            ],
            [
             0.4444444444444444,
             "#bd3786"
            ],
            [
             0.5555555555555556,
             "#d8576b"
            ],
            [
             0.6666666666666666,
             "#ed7953"
            ],
            [
             0.7777777777777778,
             "#fb9f3a"
            ],
            [
             0.8888888888888888,
             "#fdca26"
            ],
            [
             1,
             "#f0f921"
            ]
           ]
          },
          "colorway": [
           "#636efa",
           "#EF553B",
           "#00cc96",
           "#ab63fa",
           "#FFA15A",
           "#19d3f3",
           "#FF6692",
           "#B6E880",
           "#FF97FF",
           "#FECB52"
          ],
          "font": {
           "color": "#2a3f5f"
          },
          "geo": {
           "bgcolor": "white",
           "lakecolor": "white",
           "landcolor": "#E5ECF6",
           "showlakes": true,
           "showland": true,
           "subunitcolor": "white"
          },
          "hoverlabel": {
           "align": "left"
          },
          "hovermode": "closest",
          "mapbox": {
           "style": "light"
          },
          "paper_bgcolor": "white",
          "plot_bgcolor": "#E5ECF6",
          "polar": {
           "angularaxis": {
            "gridcolor": "white",
            "linecolor": "white",
            "ticks": ""
           },
           "bgcolor": "#E5ECF6",
           "radialaxis": {
            "gridcolor": "white",
            "linecolor": "white",
            "ticks": ""
           }
          },
          "scene": {
           "xaxis": {
            "backgroundcolor": "#E5ECF6",
            "gridcolor": "white",
            "gridwidth": 2,
            "linecolor": "white",
            "showbackground": true,
            "ticks": "",
            "zerolinecolor": "white"
           },
           "yaxis": {
            "backgroundcolor": "#E5ECF6",
            "gridcolor": "white",
            "gridwidth": 2,
            "linecolor": "white",
            "showbackground": true,
            "ticks": "",
            "zerolinecolor": "white"
           },
           "zaxis": {
            "backgroundcolor": "#E5ECF6",
            "gridcolor": "white",
            "gridwidth": 2,
            "linecolor": "white",
            "showbackground": true,
            "ticks": "",
            "zerolinecolor": "white"
           }
          },
          "shapedefaults": {
           "line": {
            "color": "#2a3f5f"
           }
          },
          "ternary": {
           "aaxis": {
            "gridcolor": "white",
            "linecolor": "white",
            "ticks": ""
           },
           "baxis": {
            "gridcolor": "white",
            "linecolor": "white",
            "ticks": ""
           },
           "bgcolor": "#E5ECF6",
           "caxis": {
            "gridcolor": "white",
            "linecolor": "white",
            "ticks": ""
           }
          },
          "title": {
           "x": 0.05
          },
          "xaxis": {
           "automargin": true,
           "gridcolor": "white",
           "linecolor": "white",
           "ticks": "",
           "title": {
            "standoff": 15
           },
           "zerolinecolor": "white",
           "zerolinewidth": 2
          },
          "yaxis": {
           "automargin": true,
           "gridcolor": "white",
           "linecolor": "white",
           "ticks": "",
           "title": {
            "standoff": 15
           },
           "zerolinecolor": "white",
           "zerolinewidth": 2
          }
         }
        },
        "title": {
         "text": "Feature Importances from Random Forest Regressor"
        },
        "xaxis": {
         "tickangle": -45,
         "title": {
          "text": "Features"
         }
        },
        "yaxis": {
         "title": {
          "text": "Importance"
         }
        }
       }
      }
     },
     "metadata": {},
     "output_type": "display_data"
    }
   ],
   "source": [
    "# Sort features by importance\n",
    "sorted_indices = np.argsort(importances)[::-1]\n",
    "sorted_feature_names = [feature_names[idx] for idx in sorted_indices]\n",
    "sorted_importances = importances[sorted_indices]\n",
    "\n",
    "# Create Plotly bar chart\n",
    "fig = go.Figure([go.Bar(x=sorted_feature_names, y=sorted_importances)])\n",
    "fig.update_layout(\n",
    "    title='Feature Importances from Random Forest Regressor',\n",
    "    xaxis_title='Features',\n",
    "    yaxis_title='Importance',\n",
    "    xaxis_tickangle=-45\n",
    ")\n",
    "fig.show()"
   ]
  },
  {
   "cell_type": "markdown",
   "metadata": {},
   "source": [
    "## process prediction_df"
   ]
  },
  {
   "cell_type": "code",
   "execution_count": null,
   "metadata": {},
   "outputs": [],
   "source": [
    "player_df = pd.read_csv('silver\\Player.csv')\n",
    "player_team_df = pd.read_csv('silver\\PlayerTeam.csv')\n",
    "team_league_df = pd.read_csv('silver\\TeamLeague.csv')\n",
    "\n",
    "team_df = pd.read_csv('silver\\Team.csv')\n",
    "league_df = pd.read_csv('silver\\League.csv')\n",
    "nationality_df = pd.read_csv('silver/Nationality.csv')\n",
    "position_df = pd.read_csv('silver\\Position.csv')"
   ]
  },
  {
   "cell_type": "code",
   "execution_count": null,
   "metadata": {},
   "outputs": [
    {
     "data": {
      "text/html": [
       "<div>\n",
       "<style scoped>\n",
       "    .dataframe tbody tr th:only-of-type {\n",
       "        vertical-align: middle;\n",
       "    }\n",
       "\n",
       "    .dataframe tbody tr th {\n",
       "        vertical-align: top;\n",
       "    }\n",
       "\n",
       "    .dataframe thead th {\n",
       "        text-align: right;\n",
       "    }\n",
       "</style>\n",
       "<table border=\"1\" class=\"dataframe\">\n",
       "  <thead>\n",
       "    <tr style=\"text-align: right;\">\n",
       "      <th></th>\n",
       "      <th>PlayerName</th>\n",
       "      <th>Model</th>\n",
       "      <th>Actual Salary</th>\n",
       "      <th>Predicted Salary</th>\n",
       "      <th>Residuals</th>\n",
       "      <th>Percentage Error</th>\n",
       "    </tr>\n",
       "  </thead>\n",
       "  <tbody>\n",
       "    <tr>\n",
       "      <th>1142</th>\n",
       "      <td>Jacopo Fazzini</td>\n",
       "      <td>Linear Regressor</td>\n",
       "      <td>3000</td>\n",
       "      <td>13054.123337</td>\n",
       "      <td>10054.123337</td>\n",
       "      <td>335.137445</td>\n",
       "    </tr>\n",
       "    <tr>\n",
       "      <th>4567</th>\n",
       "      <td>Nathan Tella</td>\n",
       "      <td>Linear Regressor</td>\n",
       "      <td>36000</td>\n",
       "      <td>35949.654242</td>\n",
       "      <td>-50.345758</td>\n",
       "      <td>-0.139849</td>\n",
       "    </tr>\n",
       "    <tr>\n",
       "      <th>2592</th>\n",
       "      <td>Janik Haberer</td>\n",
       "      <td>Linear Regressor</td>\n",
       "      <td>32000</td>\n",
       "      <td>25882.685220</td>\n",
       "      <td>-6117.314780</td>\n",
       "      <td>-19.116609</td>\n",
       "    </tr>\n",
       "    <tr>\n",
       "      <th>1677</th>\n",
       "      <td>Cristiano Piccini</td>\n",
       "      <td>Linear Regressor</td>\n",
       "      <td>2000</td>\n",
       "      <td>13334.496620</td>\n",
       "      <td>11334.496620</td>\n",
       "      <td>566.724831</td>\n",
       "    </tr>\n",
       "    <tr>\n",
       "      <th>4958</th>\n",
       "      <td>Koen Van Langendonck</td>\n",
       "      <td>Linear Regressor</td>\n",
       "      <td>2000</td>\n",
       "      <td>6249.862289</td>\n",
       "      <td>4249.862289</td>\n",
       "      <td>212.493114</td>\n",
       "    </tr>\n",
       "  </tbody>\n",
       "</table>\n",
       "</div>"
      ],
      "text/plain": [
       "                PlayerName             Model  Actual Salary  Predicted Salary  \\\n",
       "1142        Jacopo Fazzini  Linear Regressor           3000      13054.123337   \n",
       "4567          Nathan Tella  Linear Regressor          36000      35949.654242   \n",
       "2592         Janik Haberer  Linear Regressor          32000      25882.685220   \n",
       "1677     Cristiano Piccini  Linear Regressor           2000      13334.496620   \n",
       "4958  Koen Van Langendonck  Linear Regressor           2000       6249.862289   \n",
       "\n",
       "         Residuals  Percentage Error  \n",
       "1142  10054.123337        335.137445  \n",
       "4567    -50.345758         -0.139849  \n",
       "2592  -6117.314780        -19.116609  \n",
       "1677  11334.496620        566.724831  \n",
       "4958   4249.862289        212.493114  "
      ]
     },
     "execution_count": 105,
     "metadata": {},
     "output_type": "execute_result"
    }
   ],
   "source": [
    "prediction_df.head()"
   ]
  },
  {
   "cell_type": "code",
   "execution_count": null,
   "metadata": {},
   "outputs": [
    {
     "data": {
      "text/html": [
       "<div>\n",
       "<style scoped>\n",
       "    .dataframe tbody tr th:only-of-type {\n",
       "        vertical-align: middle;\n",
       "    }\n",
       "\n",
       "    .dataframe tbody tr th {\n",
       "        vertical-align: top;\n",
       "    }\n",
       "\n",
       "    .dataframe thead th {\n",
       "        text-align: right;\n",
       "    }\n",
       "</style>\n",
       "<table border=\"1\" class=\"dataframe\">\n",
       "  <thead>\n",
       "    <tr style=\"text-align: right;\">\n",
       "      <th></th>\n",
       "      <th>PlayerName</th>\n",
       "      <th>PlayerId</th>\n",
       "      <th>Model</th>\n",
       "      <th>Actual Salary</th>\n",
       "      <th>Predicted Salary</th>\n",
       "      <th>Residuals</th>\n",
       "      <th>Percentage Error</th>\n",
       "      <th>Nationality</th>\n",
       "      <th>Position</th>\n",
       "      <th>Team</th>\n",
       "      <th>League</th>\n",
       "    </tr>\n",
       "  </thead>\n",
       "  <tbody>\n",
       "    <tr>\n",
       "      <th>0</th>\n",
       "      <td>Jacopo Fazzini</td>\n",
       "      <td>3201</td>\n",
       "      <td>LightGBM</td>\n",
       "      <td>3000</td>\n",
       "      <td>9899.460120</td>\n",
       "      <td>6899.460120</td>\n",
       "      <td>229.982004</td>\n",
       "      <td>Italy</td>\n",
       "      <td>SUB</td>\n",
       "      <td>Empoli</td>\n",
       "      <td>Serie A</td>\n",
       "    </tr>\n",
       "    <tr>\n",
       "      <th>1</th>\n",
       "      <td>Nathan Tella</td>\n",
       "      <td>3551</td>\n",
       "      <td>LightGBM</td>\n",
       "      <td>36000</td>\n",
       "      <td>36327.603004</td>\n",
       "      <td>327.603004</td>\n",
       "      <td>0.910008</td>\n",
       "      <td>Nigeria</td>\n",
       "      <td>SUB</td>\n",
       "      <td>Bayer 04 Leverkusen</td>\n",
       "      <td>Bundesliga</td>\n",
       "    </tr>\n",
       "    <tr>\n",
       "      <th>2</th>\n",
       "      <td>Janik Haberer</td>\n",
       "      <td>3687</td>\n",
       "      <td>LightGBM</td>\n",
       "      <td>32000</td>\n",
       "      <td>30943.746999</td>\n",
       "      <td>-1056.253001</td>\n",
       "      <td>-3.300791</td>\n",
       "      <td>Germany</td>\n",
       "      <td>Attacking Midfield</td>\n",
       "      <td>FC Union Berlin</td>\n",
       "      <td>Bundesliga</td>\n",
       "    </tr>\n",
       "    <tr>\n",
       "      <th>3</th>\n",
       "      <td>Cristiano Piccini</td>\n",
       "      <td>6295</td>\n",
       "      <td>LightGBM</td>\n",
       "      <td>2000</td>\n",
       "      <td>3681.768234</td>\n",
       "      <td>1681.768234</td>\n",
       "      <td>84.088412</td>\n",
       "      <td>Italy</td>\n",
       "      <td>SUB</td>\n",
       "      <td>Sampdoria</td>\n",
       "      <td>Serie B</td>\n",
       "    </tr>\n",
       "    <tr>\n",
       "      <th>4</th>\n",
       "      <td>Koen Van Langendonck</td>\n",
       "      <td>4471</td>\n",
       "      <td>LightGBM</td>\n",
       "      <td>2000</td>\n",
       "      <td>3373.595053</td>\n",
       "      <td>1373.595053</td>\n",
       "      <td>68.679753</td>\n",
       "      <td>Belgium</td>\n",
       "      <td>RES</td>\n",
       "      <td>Westerlo</td>\n",
       "      <td>Pro League</td>\n",
       "    </tr>\n",
       "  </tbody>\n",
       "</table>\n",
       "</div>"
      ],
      "text/plain": [
       "             PlayerName  PlayerId     Model  Actual Salary  Predicted Salary  \\\n",
       "0        Jacopo Fazzini      3201  LightGBM           3000       9899.460120   \n",
       "1          Nathan Tella      3551  LightGBM          36000      36327.603004   \n",
       "2         Janik Haberer      3687  LightGBM          32000      30943.746999   \n",
       "3     Cristiano Piccini      6295  LightGBM           2000       3681.768234   \n",
       "4  Koen Van Langendonck      4471  LightGBM           2000       3373.595053   \n",
       "\n",
       "     Residuals  Percentage Error Nationality            Position  \\\n",
       "0  6899.460120        229.982004       Italy                 SUB   \n",
       "1   327.603004          0.910008     Nigeria                 SUB   \n",
       "2 -1056.253001         -3.300791     Germany  Attacking Midfield   \n",
       "3  1681.768234         84.088412       Italy                 SUB   \n",
       "4  1373.595053         68.679753     Belgium                 RES   \n",
       "\n",
       "                  Team      League  \n",
       "0               Empoli     Serie A  \n",
       "1  Bayer 04 Leverkusen  Bundesliga  \n",
       "2      FC Union Berlin  Bundesliga  \n",
       "3            Sampdoria     Serie B  \n",
       "4             Westerlo  Pro League  "
      ]
     },
     "execution_count": 106,
     "metadata": {},
     "output_type": "execute_result"
    }
   ],
   "source": [
    "prediction_df = prediction_df[prediction_df.Model == 'LightGBM']\n",
    "\n",
    "prediction_df = prediction_df \\\n",
    "        .merge(player_name_df, on='PlayerName', how='left') \\\n",
    "        .merge(player_df, on='PlayerId', how='left') \\\n",
    "        .merge(player_team_df, on='PlayerId', how='left') \\\n",
    "        .merge(team_league_df, on='TeamId', how='left')\n",
    "\n",
    "prediction_df = prediction_df \\\n",
    "        .merge(nationality_df, on='NationalityId', how='left') \\\n",
    "        .merge(position_df, on='PositionId', how='left') \\\n",
    "        .merge(league_df, on='LeagueId', how='left') \\\n",
    "        .merge(team_df, on='TeamId', how='left')\n",
    "\n",
    "prediction_df = prediction_df[['PlayerName', 'PlayerId', 'Model', 'Actual Salary',\n",
    "                               'Predicted Salary','Residuals', 'Percentage Error',\n",
    "                               'Nationality', 'Position', 'Team', 'League']]\n",
    "\n",
    "prediction_df.head()"
   ]
  },
  {
   "cell_type": "markdown",
   "metadata": {},
   "source": [
    "## Save datasets"
   ]
  },
  {
   "cell_type": "code",
   "execution_count": 107,
   "metadata": {},
   "outputs": [],
   "source": [
    "prediction_df.to_csv('gold\\Prediction.csv')\n",
    "features_importance.to_csv('gold\\FeatureImportance.csv')"
   ]
  }
 ],
 "metadata": {
  "kernelspec": {
   "display_name": ".venv",
   "language": "python",
   "name": "python3"
  },
  "language_info": {
   "codemirror_mode": {
    "name": "ipython",
    "version": 3
   },
   "file_extension": ".py",
   "mimetype": "text/x-python",
   "name": "python",
   "nbconvert_exporter": "python",
   "pygments_lexer": "ipython3",
   "version": "3.10.10"
  }
 },
 "nbformat": 4,
 "nbformat_minor": 2
}
