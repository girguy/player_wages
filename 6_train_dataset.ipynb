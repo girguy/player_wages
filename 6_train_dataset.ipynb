{
 "cells": [
  {
   "cell_type": "code",
   "execution_count": 10,
   "metadata": {},
   "outputs": [],
   "source": [
    "import pandas as pd\n",
    "import numpy as np\n",
    "from sklearn.model_selection import train_test_split\n",
    "from sklearn.preprocessing import MinMaxScaler\n",
    "from sklearn.preprocessing import StandardScaler\n",
    "from sklearn.model_selection import GridSearchCV\n",
    "\n",
    "from sklearn.linear_model import LinearRegression\n",
    "from sklearn.linear_model import Ridge, Lasso\n",
    "from sklearn.ensemble import RandomForestRegressor\n",
    "import lightgbm as ltb\n",
    "\n",
    "from sklearn import metrics\n",
    "from sklearn.metrics import mean_squared_error, r2_score\n",
    "\n",
    "import plotly.graph_objects as go\n",
    "import plotly.express as px"
   ]
  },
  {
   "cell_type": "markdown",
   "metadata": {},
   "source": [
    "#### NationalityId, PositionId, FootId, TeamId, LeagueId\n",
    "Those columns contains categorical values, in order to not create an 'importance' scale based on their ID value, we need to encode them\n",
    "\n",
    "- how can create numerical features without one-hot encoding\n",
    "    - For : Nationality, Position, Foot, Team, League\n",
    "        - y_level_mean = x.replace(y.groupby(x).mean()) \n",
    "        - JamesSteinEncoder\n",
    "    - For Foot only\n",
    "        -  WOEEncoder (for the foot)"
   ]
  },
  {
   "cell_type": "code",
   "execution_count": 11,
   "metadata": {},
   "outputs": [],
   "source": [
    "def compute_numerical_feature_from_categorical(dataset, y, categorical_feature_name, numerical_feature_name):\n",
    "\n",
    "    # Calculate the mean of the target variable grouped by the categorical feature\n",
    "    feature_mean_value = dataset.groupby(categorical_feature_name)[y].mean().reset_index()\n",
    "\n",
    "    # Rename the aggregated column to 'numerical_feature_name'\n",
    "    feature_mean_value = feature_mean_value.rename(columns={y: numerical_feature_name})\n",
    "\n",
    "    # Join the mean values back to the original dataset\n",
    "    dataset = dataset.merge(feature_mean_value, on=categorical_feature_name, how='left')\n",
    "\n",
    "    # Drop the original categorical feature and any duplicate columns that may have been created during the join\n",
    "    dataset = dataset.drop(columns=[categorical_feature_name])\n",
    "\n",
    "    return dataset, feature_mean_value"
   ]
  },
  {
   "cell_type": "code",
   "execution_count": 12,
   "metadata": {},
   "outputs": [],
   "source": [
    "def apply_encoder(dataset, encoder, categorical_feature_name, numerical_feature_name):\n",
    "    dataset = dataset.merge(encoder, on=categorical_feature_name, how='left')\n",
    "    dataset[numerical_feature_name] = dataset[numerical_feature_name].fillna(dataset[numerical_feature_name].mean())\n",
    "    dataset = dataset.drop(columns=[categorical_feature_name])\n",
    "\n",
    "    return dataset\n",
    "\n",
    "def get_player_name(player_ids, player_id_name):\n",
    "    player_ids = pd.DataFrame(player_ids)\n",
    "    player_name = player_ids \\\n",
    "        .merge(player_id_name, on='PlayerId', how='left') \\\n",
    "        .drop('PlayerId', axis=1)\n",
    "\n",
    "    return player_name\n",
    "\n",
    "def plot(df):\n",
    "    # Residuals Plot\n",
    "    fig_residuals = px.scatter(df, x='Predicted Salary', y='Residuals', hover_data=['PlayerName'])\n",
    "    fig_residuals.update_layout(title='Residuals vs Predicted Salary', xaxis_title='Predicted Salary', yaxis_title='Predicted - Actual')\n",
    "\n",
    "    # Prediction vs Actual Plot\n",
    "    fig_pred_vs_actual = px.scatter(df, x='Actual Salary', y='Predicted Salary', hover_data=['PlayerName'])\n",
    "    fig_pred_vs_actual.add_trace(go.Scatter(x=[df['Actual Salary'].min(), df['Actual Salary'].max()],\n",
    "                                            y=[df['Actual Salary'].min(), df['Actual Salary'].max()],\n",
    "                                            mode='lines', line=dict(dash='dash'), name='Perfect Prediction'))\n",
    "    fig_pred_vs_actual.update_layout(title='Predicted vs Actual Salary', xaxis_title='Actual Salary', yaxis_title='Predicted Salary')\n",
    "\n",
    "    # Histogram of Residuals\n",
    "    fig_hist_residuals = px.histogram(df, x='Residuals')\n",
    "    fig_hist_residuals.update_layout(title='Histogram of Residuals', xaxis_title='Residuals', yaxis_title='Count')\n",
    "\n",
    "    # Show the plots\n",
    "    fig_residuals.show()\n",
    "    fig_pred_vs_actual.show()\n",
    "    fig_hist_residuals.show()\n",
    "\n",
    "def compute_metrics(y, y_pred):\n",
    "    # Assuming predictions_df is your dataframe\n",
    "    # Mean Absolute Error (MAE)\n",
    "    mae = metrics.mean_absolute_error(y, y_pred)\n",
    "    # Mean Squared Error (MSE)\n",
    "    mse = metrics.mean_squared_error(y, y_pred)\n",
    "    # Root Mean Squared Error (RMSE)\n",
    "    rmse = np.sqrt(mse)  # Or directly, metrics.mean_squared_error(y_test, y_pred, squared=False)\n",
    "    # R-squared (R²)\n",
    "    r2 = metrics.r2_score(y, y_pred)\n",
    "\n",
    "    return mae, rmse, r2\n",
    "\n",
    "def get_metrics(name_model, predictions_df, y_train, y_train_pred):\n",
    "\n",
    "    mae_test, rmse_test, r2_test = compute_metrics(predictions_df['Actual Salary'], predictions_df['Predicted Salary'])\n",
    "    mae_train, rmse_train, r2_train = compute_metrics(y_train, y_train_pred)\n",
    "\n",
    "    computed_metrics = {\n",
    "        'Model': [name_model],\n",
    "        'Test - MAE': [mae_test],\n",
    "        'Test - RMSE': [rmse_test],\n",
    "        'Test - R-squared': [r2_test],\n",
    "        'Train - MAE': [mae_train],\n",
    "        'Train - RMSE': [rmse_train],\n",
    "        'Train - R-squared': [r2_train]\n",
    "    }\n",
    "\n",
    "    computed_metrics = pd.DataFrame(computed_metrics)\n",
    "\n",
    "    return computed_metrics\n",
    "\n",
    "def train_test_score_model(model_name, model, scaler, player_names, x_train, y_train, x_test, y_test):\n",
    "    model.fit(x_train, y_train)\n",
    "\n",
    "    # Transform the testing data (using the same scaler)\n",
    "    y_pred = model.predict(scaler.transform(x_test))\n",
    "    # Assuming 'predictions' is your array of predictions from the trained model\n",
    "    adjusted_y_pred = np.maximum(y_pred, 0).astype(int)  \n",
    "\n",
    "    # Create a DataFrame\n",
    "    predictions_df = pd.DataFrame({\n",
    "        'PlayerName': player_names['PlayerName'].to_list(),\n",
    "        'Model': [model_name for i in range(len(adjusted_y_pred))],\n",
    "        'Actual Salary': list(y_test),\n",
    "        'Predicted Salary': list(adjusted_y_pred),\n",
    "        'Residuals': list(adjusted_y_pred - y_test),\n",
    "        'Percentage Error' : (list(adjusted_y_pred - y_test)/y_test)*100\n",
    "    })\n",
    "\n",
    "    y_pred_train = model.predict(x_train)\n",
    "    adjusted_y_pred_train = np.maximum(y_pred_train, 0)\n",
    "    computed_metrics = get_metrics(model_name, predictions_df, y_train, adjusted_y_pred_train)\n",
    "\n",
    "    return model, predictions_df, computed_metrics"
   ]
  },
  {
   "cell_type": "markdown",
   "metadata": {},
   "source": [
    "## Load dataset"
   ]
  },
  {
   "cell_type": "code",
   "execution_count": 13,
   "metadata": {},
   "outputs": [],
   "source": [
    "dataset = pd.read_csv('gold/dataset.csv')\n",
    "player_name_df = pd.read_csv('silver/PlayerName.csv')"
   ]
  },
  {
   "cell_type": "markdown",
   "metadata": {},
   "source": [
    "## Training, Validation, Testing split"
   ]
  },
  {
   "cell_type": "code",
   "execution_count": 14,
   "metadata": {},
   "outputs": [],
   "source": [
    "col_to_drop = ['Wage']\n",
    "X = dataset.drop(col_to_drop, axis=1)  # Assuming 'Value' is the target\n",
    "y = dataset['Wage']"
   ]
  },
  {
   "cell_type": "code",
   "execution_count": 15,
   "metadata": {},
   "outputs": [],
   "source": [
    "x_train, x_test, y_train, y_test = train_test_split(X, y, test_size=0.2, random_state=42)"
   ]
  },
  {
   "cell_type": "markdown",
   "metadata": {},
   "source": [
    "## Process training and testing set"
   ]
  },
  {
   "cell_type": "code",
   "execution_count": 16,
   "metadata": {},
   "outputs": [],
   "source": [
    "x_train = x_train.drop('PlayerId', axis=1)\n",
    "test_player_ids = x_test['PlayerId']\n",
    "player_names = get_player_name(test_player_ids, player_name_df)\n",
    "x_test = x_test.drop('PlayerId', axis=1)"
   ]
  },
  {
   "cell_type": "code",
   "execution_count": 17,
   "metadata": {},
   "outputs": [],
   "source": [
    "# encode categorical columns\n",
    "x_train, nationality_encoder = compute_numerical_feature_from_categorical(x_train, 'Value', 'NationalityId', 'Nationality')\n",
    "x_train, position_encoder = compute_numerical_feature_from_categorical(x_train, 'Value', 'PositionId', 'Position')\n",
    "x_train, foot_encoder = compute_numerical_feature_from_categorical(x_train, 'Value', 'FootId', 'Foot')\n",
    "x_train, team_encoder = compute_numerical_feature_from_categorical(x_train, 'Value', 'TeamId', 'Team')\n",
    "x_train, league_encoder = compute_numerical_feature_from_categorical(x_train, 'Value', 'LeagueId', 'League')\n",
    "x_train = x_train.drop('Value', axis=1)\n",
    "\n",
    "x_test = apply_encoder(x_test, nationality_encoder, 'NationalityId', 'Nationality')\n",
    "x_test = apply_encoder(x_test, position_encoder, 'PositionId', 'Position')\n",
    "x_test = apply_encoder(x_test, foot_encoder, 'FootId', 'Foot')\n",
    "x_test = apply_encoder(x_test, team_encoder, 'TeamId', 'Team')\n",
    "x_test = apply_encoder(x_test, league_encoder, 'LeagueId', 'League')\n",
    "x_test = x_test.drop('Value', axis=1)\n",
    "\n",
    "\n",
    "scaler_type = 'MinMaxScaler'\n",
    "if scaler_type == 'MinMaxScaler': scaler = MinMaxScaler(feature_range=(0, 1))\n",
    "else: scaler = StandardScaler()\n",
    "\n",
    "# Fit the scaler on the training data\n",
    "scaler.fit(x_train)\n",
    "\n",
    "# Transform the training data\n",
    "x_train_scaled = scaler.transform(x_train)"
   ]
  },
  {
   "cell_type": "markdown",
   "metadata": {},
   "source": [
    "## Train - Test - Score Models"
   ]
  },
  {
   "cell_type": "code",
   "execution_count": 18,
   "metadata": {},
   "outputs": [],
   "source": [
    "models = {\n",
    "    'Linear Regressor': LinearRegression(),\n",
    "    'Random Forest Regressor': RandomForestRegressor(n_estimators=300, max_depth=30, random_state=42),\n",
    "    'LightGBM': ltb.LGBMRegressor(colsample_bytree=0.7, learning_rate=0.1, max_depth=10, min_child_samples=20, n_estimators=300, num_leaves=31, subsample=0.8, random_state=42, verbose=-1),\n",
    "    }\n",
    "\n",
    "# Ridge cv\n",
    "# Light gbm\n",
    "# XG boost\n",
    "# Any estimator using the Huber loss would also be robust to outliers, e.g. SGDRegressor with loss='huber'.\n",
    "\n",
    "prediction_df = [] # pd.DataFrame(columns=['Player', 'Model', 'Actual Salary', 'Predicted Salary', 'Residuals'])\n",
    "computed_metrics = [] # pd.DataFrame(columns=['Model', 'MAE', 'MSE', 'RMSE', 'R-squared', 'Adjusted R-squared'])\n",
    "\n",
    "for name, model in models.items():\n",
    "    trained_model, pred_df, metric_df = train_test_score_model(name, model, scaler, player_names, x_train_scaled, y_train, x_test, y_test)\n",
    "    models[name] = trained_model\n",
    "    prediction_df.append(pred_df)\n",
    "    computed_metrics.append(metric_df)\n",
    "\n",
    "prediction_df = pd.concat(prediction_df)\n",
    "computed_metrics = pd.concat(computed_metrics)"
   ]
  },
  {
   "cell_type": "code",
   "execution_count": 19,
   "metadata": {},
   "outputs": [
    {
     "data": {
      "text/html": [
       "<div>\n",
       "<style scoped>\n",
       "    .dataframe tbody tr th:only-of-type {\n",
       "        vertical-align: middle;\n",
       "    }\n",
       "\n",
       "    .dataframe tbody tr th {\n",
       "        vertical-align: top;\n",
       "    }\n",
       "\n",
       "    .dataframe thead th {\n",
       "        text-align: right;\n",
       "    }\n",
       "</style>\n",
       "<table border=\"1\" class=\"dataframe\">\n",
       "  <thead>\n",
       "    <tr style=\"text-align: right;\">\n",
       "      <th></th>\n",
       "      <th>Model</th>\n",
       "      <th>Test - MAE</th>\n",
       "      <th>Test - RMSE</th>\n",
       "      <th>Test - R-squared</th>\n",
       "      <th>Train - MAE</th>\n",
       "      <th>Train - RMSE</th>\n",
       "      <th>Train - R-squared</th>\n",
       "    </tr>\n",
       "  </thead>\n",
       "  <tbody>\n",
       "    <tr>\n",
       "      <th>0</th>\n",
       "      <td>Linear Regressor</td>\n",
       "      <td>15930.162835</td>\n",
       "      <td>31083.138992</td>\n",
       "      <td>-0.356445</td>\n",
       "      <td>7913.127288</td>\n",
       "      <td>15315.278583</td>\n",
       "      <td>0.650173</td>\n",
       "    </tr>\n",
       "    <tr>\n",
       "      <th>0</th>\n",
       "      <td>Random Forest Regressor</td>\n",
       "      <td>15926.061303</td>\n",
       "      <td>31081.877888</td>\n",
       "      <td>-0.356335</td>\n",
       "      <td>1586.140931</td>\n",
       "      <td>3270.319695</td>\n",
       "      <td>0.984049</td>\n",
       "    </tr>\n",
       "    <tr>\n",
       "      <th>0</th>\n",
       "      <td>LightGBM</td>\n",
       "      <td>15927.040868</td>\n",
       "      <td>31079.772212</td>\n",
       "      <td>-0.356152</td>\n",
       "      <td>1506.505914</td>\n",
       "      <td>2409.858582</td>\n",
       "      <td>0.991339</td>\n",
       "    </tr>\n",
       "  </tbody>\n",
       "</table>\n",
       "</div>"
      ],
      "text/plain": [
       "                     Model    Test - MAE   Test - RMSE  Test - R-squared  \\\n",
       "0         Linear Regressor  15930.162835  31083.138992         -0.356445   \n",
       "0  Random Forest Regressor  15926.061303  31081.877888         -0.356335   \n",
       "0                 LightGBM  15927.040868  31079.772212         -0.356152   \n",
       "\n",
       "   Train - MAE  Train - RMSE  Train - R-squared  \n",
       "0  7913.127288  15315.278583           0.650173  \n",
       "0  1586.140931   3270.319695           0.984049  \n",
       "0  1506.505914   2409.858582           0.991339  "
      ]
     },
     "execution_count": 19,
     "metadata": {},
     "output_type": "execute_result"
    }
   ],
   "source": [
    "computed_metrics"
   ]
  },
  {
   "cell_type": "code",
   "execution_count": 20,
   "metadata": {},
   "outputs": [
    {
     "data": {
      "application/vnd.plotly.v1+json": {
       "config": {
        "plotlyServerURL": "https://plot.ly"
       },
       "data": [
        {
         "customdata": [
          [
           "Jacopo Fazzini"
          ],
          [
           "Nathan Tella"
          ],
          [
           "Janik Haberer"
          ],
          [
           "Cristiano Piccini"
          ],
          [
           "Koen Van Langendonck"
          ],
          [
           "Sam Larsson"
          ],
          [
           "Garry Mendes Rodrigues"
          ],
          [
           "Florian Krüger"
          ],
          [
           "Xeber Alkain Mitxelena"
          ],
          [
           "Flynn Downes"
          ],
          [
           "Reyes Cleary"
          ],
          [
           "João Miguel Teixeira Mendes"
          ],
          [
           "Iñaki Rupérez Urtasun"
          ],
          [
           "Peer Koopmeiners"
          ],
          [
           "Antonio Jonjić"
          ],
          [
           "Sherel Floranus"
          ],
          [
           "Fabio Torsiello"
          ],
          [
           "Antoine Leautey"
          ],
          [
           "Peter Ouaneh"
          ],
          [
           "Dario Dumić"
          ],
          [
           "Paul Stock"
          ],
          [
           "Federico Dimarco"
          ],
          [
           "Lilian Brassier"
          ],
          [
           "Liam Lindsay"
          ],
          [
           "Aitor Paredes Casamichana"
          ],
          [
           "Ryan Isaac Mendes da Graça"
          ],
          [
           "Alex Matos"
          ],
          [
           "Leandro Chichizola"
          ],
          [
           "Jorge Filipe Oliveira Fernandes"
          ],
          [
           "Semir Telalovic"
          ],
          [
           "Domingos Quina"
          ],
          [
           "Julen Lobete Cienfuegos"
          ],
          [
           "Colin Dagba"
          ],
          [
           "Fernando Pacheco Flores"
          ],
          [
           "Daniel Grilo Azevedo"
          ],
          [
           "Rui Filipe Caetano Moura"
          ],
          [
           "Christian Kinsombi"
          ],
          [
           "Niclas Füllkrug"
          ],
          [
           "Florian Kainz"
          ],
          [
           "Luca Giudici"
          ],
          [
           "Luis Milla Manzanares"
          ],
          [
           "Emmanuel Okyere Boateng"
          ],
          [
           "Tawanda Chirewa"
          ],
          [
           "Bahadır Gölgeli"
          ],
          [
           "Diyaeddine Abzi"
          ],
          [
           "Erce Kardeşler"
          ],
          [
           "Moryké Fofana"
          ],
          [
           "Gabriel Gudmundsson"
          ],
          [
           "Nikolas Agrafiotis"
          ],
          [
           "Jannik Vestergaard"
          ],
          [
           "Kaio César Andrade Lima"
          ],
          [
           "José Francisco dos Santos Júnior"
          ],
          [
           "Tjaronn Inteff Chefren Chery"
          ],
          [
           "Alessandro Bellemo"
          ],
          [
           "Vincent Janssen"
          ],
          [
           "Olivier Dumont"
          ],
          [
           "Andreas Albers Nielsen"
          ],
          [
           "Thibaut Nicolas Marc Courtois"
          ],
          [
           "Pajtim Kasami"
          ],
          [
           "Albert-Mboyo Sambi Lokonga"
          ],
          [
           "André Hoffmann"
          ],
          [
           "Mergim Berisha"
          ],
          [
           "Terem Igobor Moffi"
          ],
          [
           "Aitor Mañas Buenadicha"
          ],
          [
           "Edmond Fayçal Tapsoba"
          ],
          [
           "Amari'i Bell"
          ],
          [
           "Edoardo Borrelli"
          ],
          [
           "Francisco Gámez López"
          ],
          [
           "Kayky da Silva Chagas"
          ],
          [
           "Lawrence Ofori"
          ],
          [
           "Florentin Lucien Jean Bloch"
          ],
          [
           "Benicio Baker-Boaitey"
          ],
          [
           "Sveinn Aron Guðjohnsen"
          ],
          [
           "Christian Lund Gytkjær"
          ],
          [
           "Leo Skiri Østigård"
          ],
          [
           "Ivan Filipović"
          ],
          [
           "Daniel Heber"
          ],
          [
           "Luis Perea Hernández"
          ],
          [
           "André Seruca de Oliveira"
          ],
          [
           "Marc Aguado Pallarés"
          ],
          [
           "Pape Ousmane Sakho"
          ],
          [
           "Rodrigo Ribeiro de Macedo"
          ],
          [
           "Ilias Koutsoupias"
          ],
          [
           "川邉 骏"
          ],
          [
           "Nicholas Pierini"
          ],
          [
           "Elbasan Rashani"
          ],
          [
           "Samuele Di Benedetto"
          ],
          [
           "Adryelson Lima Silva"
          ],
          [
           "Amar Gerxhaliu"
          ],
          [
           "Moïse Sahi Dion"
          ],
          [
           "Pedro González López"
          ],
          [
           "Miguel Ángel Atienza Villa"
          ],
          [
           "Mathias De Amorim"
          ],
          [
           "Alejandro Grimaldo García"
          ],
          [
           "Raphael Gregório Guzzo"
          ],
          [
           "Rui Pedro Silva Costa"
          ],
          [
           "Héctor José Hernández Marrero"
          ],
          [
           "Raúl Navarro del Río"
          ],
          [
           "Ferdy Druijf"
          ],
          [
           "Shahruddin Magomedaliyev"
          ],
          [
           "Enrico Baldini"
          ],
          [
           "Ruben Bover Izquierdo"
          ],
          [
           "Ravil Tagir"
          ],
          [
           "Daniel Gómez Alcón"
          ],
          [
           "Souleyman Doumbia"
          ],
          [
           "Jordan Tell"
          ],
          [
           "Giorgio Cittadini"
          ],
          [
           "Hélder José Oliveira Sá"
          ],
          [
           "Borja González Tomás"
          ],
          [
           "Luca Moro"
          ],
          [
           "Reece James"
          ],
          [
           "Márton Dárdai"
          ],
          [
           "Luka Bogdan"
          ],
          [
           "Mohamed Bamba"
          ],
          [
           "Ygor Nogueira de Paula"
          ],
          [
           "Harrison Clarke"
          ],
          [
           "Raffaele Pucino"
          ],
          [
           "Diego García Campos"
          ],
          [
           "Gaby Jean"
          ],
          [
           "Victor Jörgen Nilsson Lindelöf"
          ],
          [
           "Sokol Çikalleshi"
          ],
          [
           "Thibault Campanini"
          ],
          [
           "Joshua Myles Abraham Key"
          ],
          [
           "Kevin Strootman"
          ],
          [
           "Alessandro Livieri"
          ],
          [
           "Danny Ward"
          ],
          [
           "Çağlar Söyüncü"
          ],
          [
           "Junior Mwanga"
          ],
          [
           "Gregorio Luperini"
          ],
          [
           "Erick Barbosa dos Santos"
          ],
          [
           "Andrew Ferai Rinomhota"
          ],
          [
           "Kofi Jeremy Amoako"
          ],
          [
           "Malick Mbaye"
          ],
          [
           "Nelson Amadin"
          ],
          [
           "Daniel Bentley"
          ],
          [
           "Jon Pacheco Dozagarat"
          ],
          [
           "Robert Dickie"
          ],
          [
           "Nassim Chadli"
          ],
          [
           "Quentin Merlin"
          ],
          [
           "Youssef Amyn"
          ],
          [
           "Lucas Höler"
          ],
          [
           "Kyle Bartley"
          ],
          [
           "Madi Monamay Nsosemo"
          ],
          [
           "Ayman Benarous"
          ],
          [
           "Moritz Römling"
          ],
          [
           "Iñigo Córdoba Querejeta"
          ],
          [
           "Miguel Gutiérrez Ortega"
          ],
          [
           "Dimitris Giannoulis"
          ],
          [
           "James Shea"
          ],
          [
           "Hugo Novoa Ramos"
          ],
          [
           "Jamal Musiala"
          ],
          [
           "Mahlon Beresford Baker Romeo"
          ],
          [
           "Sergi Cardona Bermúdez"
          ],
          [
           "Nick Fichtinger"
          ],
          [
           "Marc Cucurella Saseta"
          ],
          [
           "Branco van den Boomen"
          ],
          [
           "Matthieu Udol"
          ],
          [
           "Divin Mubama"
          ],
          [
           "Nathangelo Alexandro Markelo"
          ],
          [
           "Arthur Vermeeren"
          ],
          [
           "Joaquín Fernández Moreno"
          ],
          [
           "Rafik Belghali"
          ],
          [
           "Federico Gatti"
          ],
          [
           "Mitchell Dijks"
          ],
          [
           "Hugo Magnetti"
          ],
          [
           "Mamadou Diop"
          ],
          [
           "Muammer Sarıkaya"
          ],
          [
           "Nouha Dicko"
          ],
          [
           "Garland Gbellé"
          ],
          [
           "Maxime Jean Roberto Leverbe"
          ],
          [
           "Edin Višća"
          ],
          [
           "Bradley Barcola"
          ],
          [
           "Imanol García de Albéniz Crecente"
          ],
          [
           "Gregor Kobel"
          ],
          [
           "Avdo Spahić"
          ],
          [
           "Connal Trueman"
          ],
          [
           "Kenan Yıldız"
          ],
          [
           "Ryan Allsop"
          ],
          [
           "Aurélio Gabriel Ulineia Buta"
          ],
          [
           "Leonardo Pavoletti"
          ],
          [
           "Regan Slater"
          ],
          [
           "Trazié Thomas Zai"
          ],
          [
           "Rachid Ghezzal"
          ],
          [
           "Modibo Sagnan"
          ],
          [
           "Maxime Dominguez"
          ],
          [
           "Juan Carlos Martín Corral"
          ],
          [
           "Marvin Olawale Akinlabi Park"
          ],
          [
           "Milan Corryn"
          ],
          [
           "Frank Feller"
          ],
          [
           "Hákon Arnar Haraldsson"
          ],
          [
           "Nicolás Federico Castro"
          ],
          [
           "Nilson David Angulo Ramírez"
          ],
          [
           "Danilo D'Ambrosio"
          ],
          [
           "Israel Salazar Piriz"
          ],
          [
           "Mathías Olivera Miramontes"
          ],
          [
           "Alireza Jahanbakhsh"
          ],
          [
           "Tiago Fontoura Fonseca Morais"
          ],
          [
           "Spyros Angelidis"
          ],
          [
           "Madson de Souza Silva"
          ],
          [
           "John Stones"
          ],
          [
           "Maxime Busi"
          ],
          [
           "Khalil Fayad"
          ],
          [
           "Felipe Augusto da Silva"
          ],
          [
           "Harry Winks"
          ],
          [
           "Konrad de la Fuente"
          ],
          [
           "Daan Rots"
          ],
          [
           "Patrick Cutrone"
          ],
          [
           "Matteo Cotali"
          ],
          [
           "Tomáš Čvančara"
          ],
          [
           "Alioune Ba"
          ],
          [
           "Miguel Ángel Almirón Rejala"
          ],
          [
           "Guglielmo Vicario"
          ],
          [
           "Tjark Scheller"
          ],
          [
           "Tom Bischof"
          ],
          [
           "Jason Davidson"
          ],
          [
           "Junior Marsoni Sambu Mansoni"
          ],
          [
           "Sem Westerveld"
          ],
          [
           "Guéla Doué"
          ],
          [
           "Adrian Blake"
          ],
          [
           "Jeanuël Belocian"
          ],
          [
           "Adama Boiro"
          ],
          [
           "Bart Verbruggen"
          ],
          [
           "Boris Popovic"
          ],
          [
           "Mario Sesé Vera"
          ],
          [
           "Clément Jerome Michelin"
          ],
          [
           "Milan Smits"
          ],
          [
           "Bouna Sarr"
          ],
          [
           "Edgar Alcañiz Baldovi"
          ],
          [
           "Rigoberto Manuel Rivas Vindel"
          ],
          [
           "Lamine Fomba"
          ],
          [
           "Christopher Schindler"
          ],
          [
           "Triantafyllos Pasalidis"
          ],
          [
           "Justin-Noël Kalumba"
          ],
          [
           "Jordan Henderson"
          ],
          [
           "Gabriel Fernando de Jesus"
          ],
          [
           "Lorenzo De Silvestri"
          ],
          [
           "Edgar González Estrada"
          ],
          [
           "Marlos Moreno Durán"
          ],
          [
           "Jack Bonham"
          ],
          [
           "Cheick Oumar Konaté"
          ],
          [
           "Kenneth Aboh"
          ],
          [
           "Yohan Demoncy"
          ],
          [
           "Gerrard Buabo"
          ],
          [
           "Baye Ablaye Mbaye"
          ],
          [
           "Idrissa Gana Gueye"
          ],
          [
           "Rayan Ghrieb"
          ],
          [
           "Michael Obafemi"
          ],
          [
           "Arouna Sangante"
          ],
          [
           "Florian Bohnert"
          ],
          [
           "Luan Silva"
          ],
          [
           "Przemysław Płacheta"
          ],
          [
           "Odysseus Velanas"
          ],
          [
           "Luis Alberto Romero Alconchel"
          ],
          [
           "Peter Pekarík"
          ],
          [
           "Toni Domgjoni"
          ],
          [
           "Christian Rivera Hernández"
          ],
          [
           "Wahidullah Faghir"
          ],
          [
           "Bernardo Martins Sousa"
          ],
          [
           "Seydouba Cisse"
          ],
          [
           "Vakoun Issouf Bayo"
          ],
          [
           "Isac Alexi Sivert Lidberg"
          ],
          [
           "Stipe Perica"
          ],
          [
           "Eric Junior Bocat"
          ],
          [
           "Mario Ierardi"
          ],
          [
           "Luca Ravanelli"
          ],
          [
           "Óscar Guido Trejo"
          ],
          [
           "Alexandre Mendy"
          ],
          [
           "Kristian Pedersen"
          ],
          [
           "Jeroen Zoet"
          ],
          [
           "Johan Gastien"
          ],
          [
           "Claud Adjapong"
          ],
          [
           "Gustavo Enrique Giordano Amaro Assunção da Silva"
          ],
          [
           "Noah Mawene"
          ],
          [
           "Thijs Dallinga"
          ],
          [
           "Zakaria El Ouahdi"
          ],
          [
           "Alessio Zerbin"
          ],
          [
           "Alexandre Corredera Alardi"
          ],
          [
           "Dante Bonfim da Costa Santos"
          ],
          [
           "Shane Patrick Michael Duffy"
          ],
          [
           "Adrián Liso Liso Lahoz"
          ],
          [
           "Richie Omorowa"
          ],
          [
           "Divock Okoth Origi"
          ],
          [
           "Jarne Steuckers"
          ],
          [
           "Florian Miguel"
          ],
          [
           "Anis Mehmeti"
          ],
          [
           "Thomas Lemar"
          ],
          [
           "Brooke Norton-Cuffy"
          ],
          [
           "Miguel Rodríguez Vidal"
          ],
          [
           "Bruno Oliveira Bertinato"
          ],
          [
           "Mehdi Chahiri"
          ],
          [
           "Yaw Moses"
          ],
          [
           "Carl Rushworth"
          ],
          [
           "Taylor Moore"
          ],
          [
           "Manuel Obafemi Akanji"
          ],
          [
           "Kangni Frederic Ananou"
          ],
          [
           "Francesco Di Tacchio"
          ],
          [
           "Ali Fadal"
          ],
          [
           "Robert Leipertz"
          ],
          [
           "Jeffrey Gouweleeuw"
          ],
          [
           "Francisco Barbosa Vieites"
          ],
          [
           "Maxence Lacroix"
          ],
          [
           "Marcel Łubik"
          ],
          [
           "황의조 Ui Jo Hwang"
          ],
          [
           "David Torres Ortiz"
          ],
          [
           "Pedro Ortiz Bernat"
          ],
          [
           "シュミット・ダニエル"
          ],
          [
           "Joe Bryan"
          ],
          [
           "Arsène Courel"
          ],
          [
           "Noussair Mazraoui"
          ],
          [
           "Florent Muslija"
          ],
          [
           "Jhafets Christ Dick Reyes"
          ],
          [
           "Vincent Gembalies"
          ],
          [
           "Ricardo Daniel Pepi"
          ],
          [
           "Berkay Aydoğmuş"
          ],
          [
           "Jay den Haan"
          ],
          [
           "Francisco Javier Montero Rubio"
          ],
          [
           "Samuele Birindelli"
          ],
          [
           "Stefano Turati"
          ],
          [
           "Lucas Pires Silva"
          ],
          [
           "Mario Pašalić"
          ],
          [
           "Benedikt Gimber"
          ],
          [
           "Ogün Özçiçek"
          ],
          [
           "Thomas Glyn Doyle"
          ],
          [
           "Lucas François Bernard Hernández Pi"
          ],
          [
           "Marcel Beifus"
          ],
          [
           "Johann Serge Obiang"
          ],
          [
           "Hugo Sotelo Gómez"
          ],
          [
           "Mouhamadou Diarra"
          ],
          [
           "Aurélien Scheidler"
          ],
          [
           "Evan Ferguson"
          ],
          [
           "D'Leanu Arts"
          ],
          [
           "Luca Jannis Kilian"
          ],
          [
           "Bas Edo Kuipers"
          ],
          [
           "Marcos Sánchez Arriero"
          ],
          [
           "Massimo Coda"
          ],
          [
           "David Morillas Jiménez"
          ],
          [
           "Ibrahim Maza"
          ],
          [
           "Andrea Bertolacci"
          ],
          [
           "José Ignacio Fernández Iglesias"
          ],
          [
           "Bradley Stretton"
          ],
          [
           "Thomas Foket"
          ],
          [
           "Bachirou Yameogo"
          ],
          [
           "Jesse Bal"
          ],
          [
           "Luis Ezequiel Ávila"
          ],
          [
           "Illan Meslier"
          ],
          [
           "Kevin Miranda"
          ],
          [
           "Allan Linguet"
          ],
          [
           "Kevin Kraus"
          ],
          [
           "Elvis Rexhbeçaj"
          ],
          [
           "Cam Bragg"
          ],
          [
           "Jason Eyenga-Lokilo"
          ],
          [
           "Kenny Lala"
          ],
          [
           "Antonio Rüdiger"
          ],
          [
           "Iwo Kaczmarski"
          ],
          [
           "Francesco Caputo"
          ],
          [
           "Iván Chapela López"
          ],
          [
           "Stefan Leković"
          ],
          [
           "Godfried Roemeratoe"
          ],
          [
           "Jérémie Boga"
          ],
          [
           "Julian Jeanvier"
          ],
          [
           "Dominic Solanke"
          ],
          [
           "Quentin Braat"
          ],
          [
           "Bilal Brahimi"
          ],
          [
           "Jean-Luc Mamadou Diarra Dompé"
          ],
          [
           "Pedro Gastón Álvarez Sosa"
          ],
          [
           "Phillip Tietz"
          ],
          [
           "José Andrés Rodriguez Gaitán"
          ],
          [
           "Germán Sánchez Barahona"
          ],
          [
           "Yáser Asprilla Martínez"
          ],
          [
           "Brandon Soppy"
          ],
          [
           "Timo Baumgartl"
          ],
          [
           "Vedat Karakuş"
          ],
          [
           "Warren Tchimbembé"
          ],
          [
           "Asmir Begović"
          ],
          [
           "Michele Collocolo"
          ],
          [
           "Onur Bulut"
          ],
          [
           "Jubal Rocha Mendes Júnior"
          ],
          [
           "Mamadou Camara"
          ],
          [
           "Miguel Muñoz Mora"
          ],
          [
           "Nikola Vlašić"
          ],
          [
           "Reece Burke"
          ],
          [
           "Tomás Mejías Osorio"
          ],
          [
           "Ayotomiwa Dele-Bashiru"
          ],
          [
           "Jean Romaric Kevin Koffi"
          ],
          [
           "Ahmet Ege Gürleyen"
          ],
          [
           "Giacomo Raspadori"
          ],
          [
           "José León Bernal"
          ],
          [
           "Rolando Mandragora"
          ],
          [
           "Dirk Asare"
          ],
          [
           "Marc Jurado Gómez"
          ],
          [
           "Saba Sazonov"
          ],
          [
           "Famara Diédhiou"
          ],
          [
           "Bruno Lourenço Pinto de Almeida Paz"
          ],
          [
           "Nikola Krstović"
          ],
          [
           "Jesurun Rak-Sakyi"
          ],
          [
           "Andrea Cagnano"
          ],
          [
           "Lucas Vennegoor of Hess."
          ],
          [
           "David López Silva"
          ],
          [
           "Antoni-Djibu Milambo"
          ],
          [
           "Iker Undabarrena Martínez"
          ],
          [
           "Antoine Semenyo"
          ],
          [
           "Armando Broja"
          ],
          [
           "Tobias Kempe"
          ],
          [
           "Valerio Mantovani"
          ],
          [
           "Danel Sinani"
          ],
          [
           "Mexx Meerdink"
          ],
          [
           "Miquel Parera Pizá"
          ],
          [
           "Manuel Marras"
          ],
          [
           "Filip Wojciech Jagiełło"
          ],
          [
           "Alejandro Iturbe Encabo"
          ],
          [
           "Mateo Kovačić"
          ],
          [
           "Sergio Lozano Lluch"
          ],
          [
           "Sergio Camello Pérez"
          ],
          [
           "Silvio Merkaj"
          ],
          [
           "Dilan Kumar Markanday"
          ],
          [
           "Yasser Baldé"
          ],
          [
           "Moussa Sissoko"
          ],
          [
           "Zak Vyner"
          ],
          [
           "Yann Sommer"
          ],
          [
           "Hervé Kouakou Koffi"
          ],
          [
           "Alin Vasilică Șerban"
          ],
          [
           "Darlin Zidane Yongwa Ngameni"
          ],
          [
           "Jimmy Dunne"
          ],
          [
           "Vic Chambaere"
          ],
          [
           "Xavier Laglais Kouassi"
          ],
          [
           "Yassine Haouari"
          ],
          [
           "Noah Engelbreth"
          ],
          [
           "Nicolas Oliveira Kisilowski"
          ],
          [
           "Henri Salomaa"
          ],
          [
           "Jay Idzes"
          ],
          [
           "Simone Pozzato"
          ],
          [
           "Raúl Fernández-Cavada Mateos"
          ],
          [
           "Thomas Buitink"
          ],
          [
           "Valentino Livramento"
          ],
          [
           "守田 英正"
          ],
          [
           "Harouna Sy"
          ],
          [
           "Yann Yves Laurent Bodiger"
          ],
          [
           "Yunus Mallı"
          ],
          [
           "Joël Schingtienne"
          ],
          [
           "Vital Manuel N"
          ],
          [
           "Lorenzo Lucchesi"
          ],
          [
           "Bruno Xavier Almeida Costa"
          ],
          [
           "Nicola Rauti"
          ],
          [
           "Nicolas De Préville"
          ],
          [
           "Gabriele Piccinini"
          ],
          [
           "Adil Aouchiche"
          ],
          [
           "Martin Erlić"
          ],
          [
           "Ferran Jutglà Blanch"
          ],
          [
           "Christian Fassnacht"
          ],
          [
           "Niklas Niehoff"
          ],
          [
           "Simon Walde"
          ],
          [
           "Papiss Mison Djilobodji"
          ],
          [
           "Vito Mannone"
          ],
          [
           "Mustafa Kapı"
          ],
          [
           "Falaye Sacko"
          ],
          [
           "Piero Martín Hincapié Reyna"
          ],
          [
           "Gédéon Kalulu Kyatengwa"
          ],
          [
           "Felix Passlack"
          ],
          [
           "Garang Kuol"
          ],
          [
           "Rafael Sousa Gancho Brito"
          ],
          [
           "Antonio Mirante"
          ],
          [
           "Ricardo Domingos Barbosa Pereira"
          ],
          [
           "Amadou Keita"
          ],
          [
           "Alessandro Micai"
          ],
          [
           "Ömer Toprak"
          ],
          [
           "Samuel Loureiro Carvalho Justo"
          ],
          [
           "Damian van der Haar"
          ],
          [
           "Agustín Martegani"
          ],
          [
           "Felix Platte"
          ],
          [
           "Joseph Boyamba"
          ],
          [
           "Iké Dominique Ugbo"
          ],
          [
           "Maxime Kali Wenssens"
          ],
          [
           "Christian Borrego Isabel"
          ],
          [
           "Unai Marino Alkorta"
          ],
          [
           "Gustavo H. Alves Rodrigues"
          ],
          [
           "Nader El-Jindaoui"
          ],
          [
           "Gavin Okeroghene Bazunu"
          ],
          [
           "Oriol Romeu Vidal"
          ],
          [
           "Ibrahim Sissoko"
          ],
          [
           "Ørjan Håskjold Nyland"
          ],
          [
           "Tayo Adaramola"
          ],
          [
           "José Luis Muñoz León"
          ],
          [
           "Mathias Oyewusi"
          ],
          [
           "Alfons Sampsted"
          ],
          [
           "Abel Ruiz Ortega"
          ],
          [
           "Marcus Lilian Thuram-Ulien"
          ],
          [
           "Antonio Pergreffi"
          ],
          [
           "Sergio Cubero Ezcurra"
          ],
          [
           "Berkay Sülüngöz"
          ],
          [
           "Marcos André de Sousa Mendonça"
          ],
          [
           "Sébastien Bruzzese"
          ],
          [
           "Mohamed El Arouch"
          ],
          [
           "Rúben Ismael Valente Ramos"
          ],
          [
           "Lucas Perrin"
          ],
          [
           "Levi Samuels Colwill"
          ],
          [
           "Iver Tobias Rørvik Fossum"
          ],
          [
           "Cameron Lisceous Humphreys-Grant"
          ],
          [
           "Luis Ismael Vázquez"
          ],
          [
           "João Miguel Vieira Freitas Silva Marques"
          ],
          [
           "Miguel Loureiro Ameijenda"
          ],
          [
           "Logan Costa"
          ],
          [
           "Kyliane Dong"
          ],
          [
           "Joel Julius Ilmari Pohjanpalo"
          ],
          [
           "Luis Dettling"
          ],
          [
           "Julien Le Cardinal"
          ],
          [
           "Mihajlo Ilić"
          ],
          [
           "Kasper Dolberg Rasmussen"
          ],
          [
           "Charles Boli"
          ],
          [
           "Isak Hien"
          ],
          [
           "Estéban Lepaul"
          ],
          [
           "Borja Garcés Moreno"
          ],
          [
           "Nicolas Pépé"
          ],
          [
           "Ryan Andrews"
          ],
          [
           "Ben Knight"
          ],
          [
           "Eddie Anthony Salcedo Mora"
          ],
          [
           "Jaume Albert Cuéllar Mendoza"
          ],
          [
           "Lenny Pirringuel"
          ],
          [
           "Álvaro Killane Giardini"
          ],
          [
           "Ethan Shea Horvath"
          ],
          [
           "Siebe Horemans"
          ],
          [
           "Riad Nouri"
          ],
          [
           "Andy Joseph Pelmard"
          ],
          [
           "Ylies Aradj"
          ],
          [
           "Ángel Fortuño Viñas"
          ],
          [
           "Sam Proctor"
          ],
          [
           "Loris Mouyokolo"
          ],
          [
           "Antonio José Raíllo Arenas"
          ],
          [
           "Mohamed Airam Ramos Wade"
          ],
          [
           "Sergi Darder Moll"
          ],
          [
           "Michael Langer"
          ],
          [
           "Sabin Merino Zuloaga"
          ],
          [
           "Immanuël-Johannes Pherai"
          ],
          [
           "Francesco D'Alessio"
          ],
          [
           "Thomas Lam"
          ],
          [
           "Tyrell Sellars-Fleming"
          ],
          [
           "Furkan Onur Akyüz"
          ],
          [
           "Andries Noppert"
          ],
          [
           "László Bénes"
          ],
          [
           "Mike van Duinen"
          ],
          [
           "Ignacio De Arruabarrena Fernández"
          ],
          [
           "Francisco Andrés Sierralta Carvallo"
          ],
          [
           "Mücahit Serbest"
          ],
          [
           "Florian Tardieu"
          ],
          [
           "Rui Tiago Dantas da Silva"
          ],
          [
           "Álvaro Sanz Catalán"
          ],
          [
           "Didier Lamkel Zé"
          ],
          [
           "Sven Botman"
          ],
          [
           "三笘 薫"
          ],
          [
           "Mousa Mohammad Mousa Sulaiman Al-Tamari"
          ],
          [
           "Alejandro San Cristóbal"
          ],
          [
           "Gerard Deulofeu Lázaro"
          ],
          [
           "Alessandro Salvi"
          ],
          [
           "Wesley Nathan Hylton Harding"
          ],
          [
           "Alexis Laurent Patrice Roge Flips"
          ],
          [
           "Denis Mihai Drăguş"
          ],
          [
           "Samuel Peter Barnes"
          ],
          [
           "Efe Tecimer"
          ],
          [
           "Diego González Cabanes"
          ],
          [
           "Jakub Stolarczyk"
          ],
          [
           "Joseph Nonge"
          ],
          [
           "Nuno Miguel da Costa Jóia"
          ],
          [
           "Andreas Voglsammer"
          ],
          [
           "Roman Květ"
          ],
          [
           "José Alejandro Martín Valerón"
          ],
          [
           "Bünyamin Balcı"
          ],
          [
           "Pedro Miguel Santos Amador"
          ],
          [
           "David Turnbull"
          ],
          [
           "Alper Uludağ"
          ],
          [
           "Jorge Benito de Valle"
          ],
          [
           "Amadou Sagna"
          ],
          [
           "Jules Gaudin"
          ],
          [
           "Alberth Josué Elis Martínez"
          ],
          [
           "Juan Antonio Iglesias Sánchez"
          ],
          [
           "Cristian Darío Álvarez"
          ],
          [
           "Pablo Paulino Rosario"
          ],
          [
           "Afonso Manuel Abreu de Freitas"
          ],
          [
           "Tom van de Looi"
          ],
          [
           "Giorgos Kyriakopoulos"
          ],
          [
           "Paul Nardi"
          ],
          [
           "Róbert Boženík"
          ],
          [
           "Danilo Cataldi"
          ],
          [
           "Mark Gillespie"
          ],
          [
           "Lukas Schleimer"
          ],
          [
           "Audenirton Soares da Silva"
          ],
          [
           "Yohan Roche"
          ],
          [
           "Sadibou Sané"
          ],
          [
           "Pedro Lomba Neto"
          ],
          [
           "Dean Henderson"
          ],
          [
           "Mateus Quaresma Correia"
          ],
          [
           "Philipp Pentke"
          ],
          [
           "Stephen Antunes Eustáquio"
          ],
          [
           "Yanis Rahmani Cordeiro"
          ],
          [
           "Jorge Karseladze"
          ],
          [
           "Jannis Heuer"
          ],
          [
           "Anderson-Lenda Lucoqui"
          ],
          [
           "Alessandro Caporale"
          ],
          [
           "Nordine Kandil"
          ],
          [
           "Cheikh Ahmadou Bamba Mbacke Dieng"
          ],
          [
           "Stéphane Imad Diarra"
          ],
          [
           "Vicente Guaita Panadero"
          ],
          [
           "Kristian Nökkvi Hlynsson"
          ],
          [
           "Luigi Pellegrini"
          ],
          [
           "Muhammet Ali Özbaskıcı"
          ],
          [
           "Romain Del Castillo"
          ],
          [
           "Jean Zimmer"
          ],
          [
           "Florian Thomas Danho"
          ],
          [
           "Isaac Palazón Camacho"
          ],
          [
           "Wladimiro Falcone"
          ],
          [
           "Ricardo Rodríguez Gil Carcedo"
          ],
          [
           "Luca Daniel de la Torre"
          ],
          [
           "Tarık Çetin"
          ],
          [
           "Alan Gonzalo Varela"
          ],
          [
           "Filip Bilbija"
          ],
          [
           "Haris Hajradinović"
          ],
          [
           "Tyler Shaan Adams"
          ],
          [
           "伊藤 涼太郎"
          ],
          [
           "Dean Ruben James"
          ],
          [
           "Diadié Samassékou"
          ],
          [
           "Stije Resink"
          ],
          [
           "Jose María Saldaña Baeza"
          ],
          [
           "Horaţiu Alexandru Moldovan"
          ],
          [
           "Jimmy Cabot"
          ],
          [
           "Luís Miguel Castelo Santos"
          ],
          [
           "Nick Pope"
          ],
          [
           "Dave Kwakman"
          ],
          [
           "Nazariy Rusyn"
          ],
          [
           "Gökhan Gül"
          ],
          [
           "Hugo Bueno López"
          ],
          [
           "Brajan Gruda"
          ],
          [
           "Kağan Moradaoğlu"
          ],
          [
           "Theodor Alexander Corbeanu"
          ],
          [
           "Selvi Clua Oya"
          ],
          [
           "Gustav Christensen"
          ],
          [
           "Kevin Martin Krygård"
          ],
          [
           "Ivan Ilić"
          ],
          [
           "Kamil Piątkowski"
          ],
          [
           "Djordjije Medenica"
          ],
          [
           "Hans Hateboer"
          ],
          [
           "Mattia Tonetto"
          ],
          [
           "Simon Rhein"
          ],
          [
           "Kalidou Sidibé"
          ],
          [
           "Brian Alexis Ocampo Ferreira"
          ],
          [
           "Damián Cáceres Rodríguez"
          ],
          [
           "Patrick Herrmann"
          ],
          [
           "Iván Calero Ruiz"
          ],
          [
           "Mert Kömür"
          ],
          [
           "Lorenzo Di Stefano"
          ],
          [
           "Filippo Romagna"
          ],
          [
           "Manolo Portanova"
          ],
          [
           "Tyler Roberts"
          ],
          [
           "Joe Rothwell"
          ],
          [
           "Mark Travers"
          ],
          [
           "Flávio Basilua Jacinto Nazinho"
          ],
          [
           "Benji Michel"
          ],
          [
           "Théo Barbet"
          ],
          [
           "Luca Maniero"
          ],
          [
           "Julien Fontaine Ngoy Bin Cibambi"
          ],
          [
           "Kalifa Coulibaly"
          ],
          [
           "Cláudio Winck Neto"
          ],
          [
           "Lucas Ariel Ocampos"
          ],
          [
           "Patrick Vroegh"
          ],
          [
           "Borja Mayoral Moya"
          ],
          [
           "Tan Kenneth Jerico Schmidt"
          ],
          [
           "Alessandro Sorrentino"
          ],
          [
           "Reno Münz"
          ],
          [
           "Thomas Dickson-Peters"
          ],
          [
           "Sergio Postigo Redondo"
          ],
          [
           "Pietro Pellegri"
          ],
          [
           "Oliver Hüsing"
          ],
          [
           "Neal Maupay"
          ],
          [
           "Joseph Oluwaseyi Temitope Ayodele-Aribo"
          ],
          [
           "Lenny Vallier"
          ],
          [
           "Matteo Grandi"
          ],
          [
           "Cristian Daniel Ansaldi"
          ],
          [
           "Calvin Marc Brackelmann"
          ],
          [
           "Tom Lees"
          ],
          [
           "Alexandre Lacazette"
          ],
          [
           "Anastasios Chatzigiovanis"
          ],
          [
           "Youssef Aït Bennasser"
          ],
          [
           "Franck Surdez"
          ],
          [
           "Ali Ibrahim Karim Ali Al-Hamadi"
          ],
          [
           "Max Herrmann"
          ],
          [
           "Andrea Sala"
          ],
          [
           "Fabian de Keijzer"
          ],
          [
           "Mattias Olof Svanberg"
          ],
          [
           "Vinicius Silvestre da Costa"
          ],
          [
           "Isaak Davies"
          ],
          [
           "Kamarai Simon-Swyer"
          ],
          [
           "Stanislav Kritsyuk"
          ],
          [
           "José Luís Mendes Andrade"
          ],
          [
           "Papa Amadou Diallo"
          ],
          [
           "Bahadır Han Güngördü"
          ],
          [
           "Shea Charles"
          ],
          [
           "Hugo Duro Perales"
          ],
          [
           "Yerson Mosquera Valdelamar"
          ],
          [
           "Javier Castro Urdín"
          ],
          [
           "Rafael Tolói"
          ],
          [
           "Nicolas N'Koulou"
          ],
          [
           "Domingos André Ribeiro Almeida"
          ],
          [
           "Marcelino Ignacio Nuñez Espinoza"
          ],
          [
           "Billy Gilmour"
          ],
          [
           "Rafael Obrador Burguera"
          ],
          [
           "Mads Frøkjær-Jensen"
          ],
          [
           "Karlo Lulić"
          ],
          [
           "Lucas Tolentino Coelho de Lima"
          ],
          [
           "Nicolás González Iglesias"
          ],
          [
           "Roberto Insigne"
          ],
          [
           "Andreas Müller"
          ],
          [
           "Júlio Augusto Dabó"
          ],
          [
           "Ahmed Musa"
          ],
          [
           "Quinten Ryan Crispito Timber"
          ],
          [
           "Micah Hamilton"
          ],
          [
           "Mike Hauptmeijer"
          ],
          [
           "Bram van Polen"
          ],
          [
           "Valentin André Henri Rosier"
          ],
          [
           "Paweł Marek Dawidowicz"
          ],
          [
           "Manfredi Nespola"
          ],
          [
           "本間 至恩"
          ],
          [
           "Jorge Pascual Medina"
          ],
          [
           "Jens Dalsgaard Stage"
          ],
          [
           "Myles Lewis-Skelly"
          ],
          [
           "Ismail Achik"
          ],
          [
           "Abat Aymbetov"
          ],
          [
           "Yannik Bangsow"
          ],
          [
           "Hubert Dawid Idasiak"
          ],
          [
           "Luke McNally"
          ],
          [
           "Timothy Chandler"
          ],
          [
           "Carlo Johan Holse Justesen"
          ],
          [
           "Roberto Maximiliano Pereyra"
          ],
          [
           "Pablo Íñiguez de Heredia Larraz"
          ],
          [
           "Mateusz Łęgowski"
          ],
          [
           "Benson Manuel Hedilazio"
          ],
          [
           "Maximilian Beier"
          ],
          [
           "Morgan Guilavogui"
          ],
          [
           "Jovan Manev"
          ],
          [
           "Arnaud Lusamba"
          ],
          [
           "Logan Delaurier-Chaubet"
          ],
          [
           "Filippo Veneran"
          ],
          [
           "Givairo Read"
          ],
          [
           "Kazımcan Karataş"
          ],
          [
           "Nachon Nsingi"
          ],
          [
           "Leo Greiml"
          ],
          [
           "Evan Eghosa"
          ],
          [
           "Yannik Keitel"
          ],
          [
           "Yassine Kechta"
          ],
          [
           "Jamiro Gregory Monteiro Alvarenga"
          ],
          [
           "Samuel Bamba"
          ],
          [
           "Kouassi Ryan Sessegnon"
          ],
          [
           "Elias Cobbaut"
          ],
          [
           "Domilson Cordeiro dos Santos"
          ],
          [
           "Nathan Wood-Gordon"
          ],
          [
           "Gabriel Slonina"
          ],
          [
           "Fernando Pérez Morillo"
          ],
          [
           "Aitor Ruibal García"
          ],
          [
           "Halid Šabanović"
          ],
          [
           "Can Keleş"
          ],
          [
           "Emir Karic"
          ],
          [
           "Hamjatou Soukouna"
          ],
          [
           "Vivaldo Leandro Semedo Moura Sousa"
          ],
          [
           "Jules Olivier Ntcham"
          ],
          [
           "Cristiano Biraghi"
          ],
          [
           "Andrew Robertson"
          ],
          [
           "Serif Nhaga"
          ],
          [
           "Dean Huijsen"
          ],
          [
           "Carlos Dominguez Cáceres"
          ],
          [
           "Gianfranco Gazzaniga Farías"
          ],
          [
           "Benjamin Chrisene"
          ],
          [
           "Mark Flekken"
          ],
          [
           "Víctor Wehbi Aznar Ussen"
          ],
          [
           "Rodrygo Silva de Goes"
          ],
          [
           "Riccardo Calafiori"
          ],
          [
           "Alaaddin Okumuş"
          ],
          [
           "Maximilian Wöber"
          ],
          [
           "Thomas Goiginger"
          ],
          [
           "Francisco Femenía Far"
          ],
          [
           "Milan Đurić"
          ],
          [
           "Liam Kelly"
          ],
          [
           "Mustafa Tan"
          ],
          [
           "Ismaïla Sarr"
          ],
          [
           "David Datro Fofana"
          ],
          [
           "Daniel Olmo Carvajal"
          ],
          [
           "Jean Felipe Nogueira da Silva"
          ],
          [
           "Nikola Šipčić"
          ],
          [
           "Daniël Virginio Deen"
          ],
          [
           "Simon Graves Jensen"
          ],
          [
           "Kenny Joelle Tete"
          ],
          [
           "Ben Doak"
          ],
          [
           "Jordi Masip López"
          ],
          [
           "Karol Borys"
          ],
          [
           "Joe Johnson"
          ],
          [
           "Miguel Filipe Nunes Cardoso"
          ],
          [
           "Valentin Henry"
          ],
          [
           "Noel Futkeu"
          ],
          [
           "Francisco Jesús Crespo García"
          ],
          [
           "Alberto Hórreo Taveras"
          ],
          [
           "Sergi Gómez Solà"
          ],
          [
           "Jean-Ricner Bellegarde"
          ],
          [
           "Côme Bianay Balcot"
          ],
          [
           "Johannes Dörfler"
          ],
          [
           "Gonzalo Aguilar López"
          ],
          [
           "Kianz González-Froese"
          ],
          [
           "Ivan Prtajin"
          ],
          [
           "Salis Abdul Samed"
          ],
          [
           "Abdul Fatawu Issahaku"
          ],
          [
           "Paulo Dino Gazzaniga"
          ],
          [
           "Laureano Antonio Villa Suárez"
          ],
          [
           "アペルカンプ 真大 カール"
          ],
          [
           "Andrea Danzi"
          ],
          [
           "Mark Alexander McKenzie"
          ],
          [
           "Craig Dawson"
          ],
          [
           "Moussa Cissé"
          ],
          [
           "Robin Fellhauer"
          ],
          [
           "Marco van Ginkel"
          ],
          [
           "Finn Jeltsch"
          ],
          [
           "Ridgeciano Delano Haps"
          ],
          [
           "Gilberto Dambi Batista"
          ],
          [
           "Benjamin Bouchouari"
          ],
          [
           "Lionel Mpasi-Nzau"
          ],
          [
           "Kieffer Roberto Francisco Moore"
          ],
          [
           "Leonardo Bonucci"
          ],
          [
           "Antoine Joujou"
          ],
          [
           "William Anthony Patrick Smallbone"
          ],
          [
           "Salomon Abergel"
          ],
          [
           "Soufiane Bidaoui"
          ],
          [
           "Fabian Tait"
          ],
          [
           "Fabio Cristian Chiarodia"
          ],
          [
           "Nathan Michael Collins"
          ],
          [
           "Shane Kevin Ferguson"
          ],
          [
           "Antonio-Mirko Čolak"
          ],
          [
           "Daniel Esmorís Tasende"
          ],
          [
           "Garissone Innocent"
          ],
          [
           "Lucas Cañizares Conchello"
          ],
          [
           "Soner Gönül"
          ],
          [
           "Jacques Ekomié"
          ],
          [
           "Rayyan Baniya"
          ],
          [
           "Andreas Schjølberg Hanche-Olsen"
          ],
          [
           "Romelu Lukaku Menama"
          ],
          [
           "Víctor Andrés Meseguer Cavas"
          ],
          [
           "David Olatukunbo Alaba"
          ],
          [
           "Dimitrios Kourmpelis"
          ],
          [
           "Reinildo Isnard Mandava"
          ],
          [
           "Saad Agouzoul"
          ],
          [
           "Gleison Bremer Silva Nascimento"
          ],
          [
           "Yira Collins Sor"
          ],
          [
           "Hernâni Infande Tchuda da Silva"
          ],
          [
           "Victor Christoffer Jensen"
          ],
          [
           "Ezechiel Fiemawhle"
          ],
          [
           "Iker Muñoz Cameros"
          ],
          [
           "Mory Gbane"
          ],
          [
           "Fidel Chaves de la Torre"
          ],
          [
           "Bryan Lasme"
          ],
          [
           "Tiemoué Bakayoko"
          ],
          [
           "Hamari Traoré"
          ],
          [
           "Žan Rogelj"
          ],
          [
           "Daniel Heuer Fernandes"
          ],
          [
           "Karim-David Adeyemi"
          ],
          [
           "Niccolò Pisilli"
          ],
          [
           "室屋 成"
          ],
          [
           "Raphaël Eyongo"
          ],
          [
           "Fermín López Marín"
          ],
          [
           "Gerónimo Rulli"
          ],
          [
           "Pierre Patron"
          ],
          [
           "Nathaniel Brown"
          ],
          [
           "Andrea Cecchetto"
          ],
          [
           "Hamdi Akujobi"
          ],
          [
           "Kaide Gordon"
          ],
          [
           "Raúl Parra Artal"
          ],
          [
           "Charilaos Charisis"
          ],
          [
           "Joel Leandro Ordóñez Guerrero"
          ],
          [
           "Jorge Mier Martínez"
          ],
          [
           "Kevin Vogt"
          ],
          [
           "Christopher Antwi-Adjei"
          ],
          [
           "Ludovic Blas"
          ],
          [
           "Daniel Parejo Muñoz"
          ],
          [
           "Chiedozie Ogbene"
          ],
          [
           "Juan Gutiérrez Martínez"
          ],
          [
           "Gonzalo Villar del Fraile"
          ],
          [
           "Håvard Kallevik Nielsen"
          ],
          [
           "Vasilis Cornelius Barkas"
          ],
          [
           "Tomáš Kalas"
          ],
          [
           "Fredrik Oppegård"
          ],
          [
           "Grejohn Kyei"
          ],
          [
           "Ahmed Kashi"
          ],
          [
           "Achraf Laâziri"
          ],
          [
           "Riccardo Orsolini"
          ],
          [
           "Leopold Wahlstedt"
          ],
          [
           "Juan Antonio Delgado Baeza"
          ],
          [
           "Yunus Emre Konak"
          ],
          [
           "Alexander Hartmann Bah"
          ],
          [
           "Nahuel Noll"
          ],
          [
           "Samuel John Bell"
          ],
          [
           "Memphis Depay"
          ],
          [
           "Johny Placide"
          ],
          [
           "Deivid W. de Souza Eugênio"
          ],
          [
           "Paul Seguin"
          ],
          [
           "Harry Leonard"
          ],
          [
           "Cauley Woodrow"
          ],
          [
           "André de Castro Pereira"
          ],
          [
           "Mattia Caldara"
          ],
          [
           "Robson Alves de Barros"
          ],
          [
           "Sergio Arribas Prieto"
          ],
          [
           "Nicolò Casale"
          ],
          [
           "Dominic Calvert-Lewin"
          ],
          [
           "Mamadou Diakhon"
          ],
          [
           "Lukas Kunze"
          ],
          [
           "Bart Vriends"
          ],
          [
           "Emmanuel Kouadio Koné"
          ],
          [
           "Lucas Buades"
          ],
          [
           "Ousmane Diomande"
          ],
          [
           "Alessandro Pilati"
          ],
          [
           "Davide Balestrero"
          ],
          [
           "Lorenzo Venuti"
          ],
          [
           "Vetle Winger Dragsnes"
          ],
          [
           "Mohamed Naser Elsayed Elneny"
          ],
          [
           "Alexander Isak"
          ],
          [
           "Rikelmi Valentim dos Santos"
          ],
          [
           "Christiaan Ravych"
          ],
          [
           "Faïz Mattoir"
          ],
          [
           "Ragnar Oratmangoen"
          ],
          [
           "Petko Hristov"
          ],
          [
           "Bryan Blanco"
          ],
          [
           "Héctor Junior Firpo Adamés"
          ],
          [
           "Stefan de Vrij"
          ],
          [
           "Tymoteusz Puchacz"
          ],
          [
           "Rune Paeshuyse"
          ],
          [
           "Filippo Lorenzo Sgarbi"
          ],
          [
           "Stanislav Lobotka"
          ],
          [
           "Alejandro Baena Rodríguez"
          ],
          [
           "Joe White"
          ],
          [
           "Benjamin Lhassine Kone"
          ],
          [
           "Filippo Distefano"
          ],
          [
           "Bingourou Kamara"
          ],
          [
           "Gnantin Yann Gboho"
          ],
          [
           "Milos Kerkez"
          ],
          [
           "Nuno Miguel Gomes dos Santos"
          ],
          [
           "Jan Hendrik Marx"
          ],
          [
           "Alen Halilović"
          ],
          [
           "Cristian Ioan Ponde"
          ],
          [
           "Philippe Paulin Keny"
          ],
          [
           "Jannik Huth"
          ],
          [
           "Nuno Miguel Reis Lima"
          ],
          [
           "Omar Haktab Traoré"
          ],
          [
           "Iván Azón Monzón"
          ],
          [
           "Wilfried Stephane Singo"
          ],
          [
           "Luca Everink"
          ],
          [
           "Martín Zubimendi Ibáñez"
          ],
          [
           "Aleksandar Radovanović"
          ],
          [
           "Wesley Theodorus Hoedt"
          ],
          [
           "Jérémy Sebas"
          ],
          [
           "Cristian Esteban Gamboa Luna"
          ],
          [
           "Harvey Wiles-Richards"
          ],
          [
           "Airam Guzmán Castillo"
          ],
          [
           "Felipe Nicolás Avenatti Dovillabichus"
          ],
          [
           "Javier Sola Gascón"
          ],
          [
           "Kaan Ayhan"
          ],
          [
           "Tijjani Reijnders"
          ],
          [
           "Jayson Patrick Molumby"
          ],
          [
           "George Earthy"
          ],
          [
           "Antonio Zarzana Pérez"
          ],
          [
           "Okan Kocuk"
          ],
          [
           "Raúl De Tomás Gómez"
          ],
          [
           "Alessandro Vogliacco"
          ],
          [
           "Serkan Asan"
          ],
          [
           "Valentin Jacob"
          ],
          [
           "Francesco Ruberto"
          ],
          [
           "Elio Capradossi"
          ],
          [
           "Timo Becker"
          ],
          [
           "Doğukan Sinik"
          ],
          [
           "Delano Burgzorg"
          ],
          [
           "Niels Patrick Nkounkou"
          ],
          [
           "Tjaš Begić"
          ],
          [
           "Jasper Samooja"
          ],
          [
           "Brian Jepthe Bayeye"
          ],
          [
           "Xavier Quintillà Guasch"
          ],
          [
           "Harvey Lewis Barnes"
          ],
          [
           "Tristan Degreef"
          ],
          [
           "ルシアン リトバルスキー"
          ],
          [
           "Gernot Trauner"
          ],
          [
           "Abdul Manaf Nurudeen"
          ],
          [
           "Borja Iglesias Quintás"
          ],
          [
           "Samuel Obeng Gyabaa"
          ],
          [
           "Erdal Rakip"
          ],
          [
           "Jake Clarke-Salter"
          ],
          [
           "Benjamin Luke Woodburn"
          ],
          [
           "Omari Kellyman"
          ],
          [
           "Jonathan Howson"
          ],
          [
           "Pieter Gerkens"
          ],
          [
           "Alistair Edward McCann"
          ],
          [
           "Pablo Pérez Rico"
          ],
          [
           "Kaj de Rooij"
          ],
          [
           "İlkay Gündoğan"
          ],
          [
           "Wissam Ben Yedder"
          ],
          [
           "Ihlas Bebou"
          ],
          [
           "Can Bozdoğan"
          ],
          [
           "Syam Habib Ben Youssef"
          ],
          [
           "Michaël Bruno Dominique Cuisance"
          ],
          [
           "Onel Lázaro Hernández Mayea"
          ],
          [
           "Jorge Cuenca Barreno"
          ],
          [
           "Zach Muscat"
          ],
          [
           "Viktor Tobias Johansson"
          ],
          [
           "Paulo Bruno Exequiel Dybala"
          ],
          [
           "Gustavo Marques A. Santos"
          ],
          [
           "Adam Mayor"
          ],
          [
           "Ross Barkley"
          ],
          [
           "Rodrigo Mendoza Martinez"
          ],
          [
           "相馬 勇紀"
          ],
          [
           "Daniel Maldini"
          ],
          [
           "Laurent Abergel"
          ],
          [
           "Oscar Uddenäs"
          ],
          [
           "Alassane Alexandre Pléa"
          ],
          [
           "Junior Castello Lukeba"
          ],
          [
           "Kevin Volland"
          ],
          [
           "Marco Friedl"
          ],
          [
           "Rubén García Santos"
          ],
          [
           "Patrik Hrošovský"
          ],
          [
           "David Herold"
          ],
          [
           "Oihan Sancet Tirapu"
          ],
          [
           "Sergio Fernández Escobar"
          ],
          [
           "Gabriele Moncini"
          ],
          [
           "Dimitrios Sounas"
          ],
          [
           "Hirving Rodrigo Lozano Bahena"
          ],
          [
           "Seedy Jarju"
          ],
          [
           "Bradley Danger"
          ],
          [
           "Marcus Edwards"
          ],
          [
           "Jorge Giovani Zarfino Calandria"
          ],
          [
           "Kyle John McFadzean"
          ],
          [
           "Jayden Jezairo Braaf"
          ],
          [
           "Rafael Tavares Gomes Fernandes"
          ],
          [
           "Mile Svilar"
          ],
          [
           "Jacob Brown"
          ],
          [
           "Pol Lozano Vizuete"
          ],
          [
           "Régis Gurtner"
          ],
          [
           "Aaron Seydel"
          ],
          [
           "Joshua Wilson-Esbrand"
          ],
          [
           "Ivo Grbić"
          ],
          [
           "Thorgan Ganael Francis Hazard"
          ],
          [
           "Jack David Vincent Whatmough"
          ],
          [
           "Federico Tavernaro"
          ],
          [
           "Rick van Drongelen"
          ],
          [
           "Toma Bašić"
          ],
          [
           "中山 雄太"
          ],
          [
           "Luca Pandolfi"
          ],
          [
           "Claudio Andrés Bravo Muñoz"
          ],
          [
           "Anton Gaaei"
          ],
          [
           "Michele Camporese"
          ],
          [
           "Vitor Hugo Roque Ferreira"
          ],
          [
           "George Long"
          ],
          [
           "Umut Tohumcu"
          ],
          [
           "Matteo Ricci"
          ],
          [
           "Antonio Foti"
          ],
          [
           "Jaume Vicent Costa Jordá"
          ],
          [
           "Weston James Earl McKennie"
          ],
          [
           "Luca Pascal Schnellbacher"
          ],
          [
           "Albert Guðmundsson"
          ],
          [
           "Calum Chambers"
          ],
          [
           "Batuhan Çelik"
          ],
          [
           "Tommaso Cassandro"
          ],
          [
           "Alessio Vita"
          ],
          [
           "Xavier Chavalerin"
          ],
          [
           "Đorđe Nikolić"
          ],
          [
           "Lee Nicholls"
          ],
          [
           "Yassin Belkhdim"
          ],
          [
           "Sofyan Amrabat"
          ],
          [
           "Samuel Shashoua"
          ],
          [
           "Lion Lauberbach"
          ],
          [
           "Karl Sebastian Ring"
          ],
          [
           "Teddy Alloh"
          ],
          [
           "Isaac Hayden"
          ],
          [
           "Aritz Muguruza Peña"
          ],
          [
           "Stredair Appuah"
          ],
          [
           "Yakup Arda Kılıç"
          ],
          [
           "Osman Çelik"
          ],
          [
           "Norberto Bercique Gomes Betuncal"
          ],
          [
           "Jannes Luca Wieckhoff"
          ],
          [
           "Omar El Hilali"
          ],
          [
           "Pontus Almqvist"
          ],
          [
           "Griffin McDorman Yow"
          ],
          [
           "Igor Julio dos Santos de Paulo"
          ],
          [
           "Camiel Neghli"
          ],
          [
           "Michele Besaggio"
          ],
          [
           "Leo Sauer"
          ],
          [
           "Mehdi Jeannin"
          ],
          [
           "Levin Mete Öztunali"
          ],
          [
           "Otabek Shukurov"
          ],
          [
           "Volnei Feltes"
          ],
          [
           "Ion Nicolăescu"
          ],
          [
           "Danilo Luiz da Silva"
          ],
          [
           "Momodou Lamin Sonko"
          ],
          [
           "Jamie Paterson"
          ],
          [
           "Mahamé Siby"
          ],
          [
           "Ramy Bensebaini"
          ],
          [
           "Louis Mafouta"
          ],
          [
           "Giovanni Corradini"
          ],
          [
           "Filip Stevanović"
          ],
          [
           "Derensili Sanches Fernandes"
          ],
          [
           "Tim-Henry Handwerker"
          ],
          [
           "Nicola Bagnolini"
          ],
          [
           "Simon Désiré Sylvanus Deli"
          ],
          [
           "Jairo Izquierdo González"
          ],
          [
           "Manor Solomon"
          ],
          [
           "Bernardo de Souza"
          ],
          [
           "Javier Hernández Coarasa"
          ],
          [
           "長谷 部誠"
          ],
          [
           "Moritz-Broni Kwarteng"
          ],
          [
           "Jose Luís García Vayá"
          ],
          [
           "Riccardo Sottil"
          ],
          [
           "Lewis Harry Holtby"
          ],
          [
           "Giuseppe Aurelio"
          ],
          [
           "Yvann Maçon"
          ],
          [
           "Alfie Jones"
          ],
          [
           "Hakan Arslan"
          ],
          [
           "Tiago Emanuel Embaló Djaló"
          ],
          [
           "Abdallah Ndour"
          ],
          [
           "Facundo Esnáider Ruiz"
          ],
          [
           "Helton Brant Aleixo Leite"
          ],
          [
           "Jesús Joaquín Fernández Sáez de la Torre"
          ],
          [
           "Ryan Trevitt"
          ],
          [
           "Ángel Alarcón Galiot"
          ],
          [
           "Gaetano Vittorio Masucci"
          ],
          [
           "Ali Alipour"
          ],
          [
           "Cengiz Ünder"
          ],
          [
           "Cristian Ignacio Herrera Pérez"
          ],
          [
           "Erdem Canpolat"
          ],
          [
           "Mehdi Zeffane"
          ],
          [
           "Toon Raemaekers"
          ],
          [
           "Joarlem Batista Santos"
          ],
          [
           "Tygo Land"
          ],
          [
           "Vladimír Coufal"
          ],
          [
           "Kylian Mbappé Lottin"
          ],
          [
           "Wilfried Zaha"
          ],
          [
           "Janio Bikel Figueiredo da Silva"
          ],
          [
           "Bastien Meupiyou"
          ],
          [
           "Marcos Aoás Corrêa"
          ],
          [
           "Mujaid Sadick Aliu"
          ],
          [
           "Adrien Rabiot"
          ],
          [
           "Giuseppe Caso"
          ],
          [
           "Florian Tristan Mariano Thauvin"
          ],
          [
           "Nathan Ferguson"
          ],
          [
           "Taylor Foran"
          ],
          [
           "David Nicolás Andrade"
          ],
          [
           "Lucas Martínez Quarta"
          ],
          [
           "Charles Traoré"
          ],
          [
           "Cameron Pring"
          ],
          [
           "Boubakary Soumaré"
          ],
          [
           "Johann Berg Guðmunds­son"
          ],
          [
           "Andreas Bruus"
          ],
          [
           "Sebastian Andersson"
          ],
          [
           "Zinedine Ferhat"
          ],
          [
           "Carlos Augusto Zopolato Neves"
          ],
          [
           "Victor James Osimhen"
          ],
          [
           "Joe Gauci"
          ],
          [
           "Omari Giraud-Hutchinson"
          ],
          [
           "Mykhailo Mudryk"
          ],
          [
           "Olivier Deman"
          ],
          [
           "Alexandre Phliponeau"
          ],
          [
           "Nanitamo Jonathan Ikoné"
          ],
          [
           "Burak Öğür"
          ],
          [
           "Georg Strauch"
          ],
          [
           "Nikola Sekulov"
          ],
          [
           "Bartosz Białkowski"
          ],
          [
           "Nicolò Brighenti"
          ],
          [
           "Jake Vokins"
          ],
          [
           "Pierluigi Gollini"
          ],
          [
           "Dylan Williams"
          ],
          [
           "Júnior Udeme Pius"
          ],
          [
           "Borja García Freire"
          ],
          [
           "Tobi Adeyemo"
          ],
          [
           "Jean Thierry Lazare Amani"
          ],
          [
           "José Ángel Esmoris Tasende"
          ],
          [
           "Marvin Senaya"
          ],
          [
           "Anas Ouahim"
          ],
          [
           "Stefan Bajic"
          ],
          [
           "Samuel Gigot"
          ],
          [
           "Amadou Diawara"
          ],
          [
           "Mattia Viviani"
          ],
          [
           "Oscar Vilhelmsson"
          ],
          [
           "Rubén Sobrino Pozuelo"
          ],
          [
           "Derrick Arthur Köhn"
          ],
          [
           "Nicolò Bertola"
          ],
          [
           "Marek Rodák"
          ],
          [
           "Babajide David Akintola"
          ],
          [
           "Matondo-Merveille Papela"
          ],
          [
           "William Silva de Carvalho"
          ],
          [
           "Frank Lehmann"
          ],
          [
           "Juan Miranda González"
          ],
          [
           "Miguel Luís Pinto Veloso"
          ],
          [
           "Antony Iannarilli"
          ],
          [
           "Daley Sinkgraven"
          ],
          [
           "Marc-Oliver Kempf"
          ],
          [
           "Sergio Gómez Martín"
          ],
          [
           "Bennet Winter"
          ],
          [
           "Cristián Alexis Borja González"
          ],
          [
           "Théo Borne"
          ],
          [
           "Gian-Luca Waldschmidt"
          ],
          [
           "Luca Mazzitelli"
          ],
          [
           "Federico Barba"
          ],
          [
           "Damián Rodríguez Sousa"
          ],
          [
           "Doğucan Haspolat"
          ],
          [
           "Niall Nathan Michael Ennis"
          ],
          [
           "Teenage Lingani Hadebe"
          ],
          [
           "Giuseppe Pezzella"
          ],
          [
           "Sardar Azmoun"
          ],
          [
           "Salih Özcan"
          ],
          [
           "Pedro Chirivella Burgos"
          ],
          [
           "Merlin Röhl"
          ],
          [
           "Kaden Rodney"
          ],
          [
           "Nikola Moro"
          ],
          [
           "Marco Schuster"
          ],
          [
           "Sergio González Poirrier"
          ],
          [
           "Tim Breithaupt"
          ],
          [
           "Donyell Malen"
          ],
          [
           "Fábio Samuel Amorim Silva"
          ],
          [
           "Liam Henderson"
          ],
          [
           "Lewis O'Brien"
          ],
          [
           "Armando Izzo"
          ],
          [
           "Pierre-Emile Kordt Højbjerg"
          ],
          [
           "Nicolas Isimat-Mirin"
          ],
          [
           "Adedire Mebude"
          ],
          [
           "Hady Camara"
          ],
          [
           "Maximilian Eggestein"
          ],
          [
           "Christopher Jeffrey Richards"
          ],
          [
           "本 寛也"
          ],
          [
           "Quentin Daubin"
          ],
          [
           "Kristian Šekularac"
          ],
          [
           "Ousmane Dembélé"
          ],
          [
           "Oier Olazábal Paredes"
          ],
          [
           "Tidyane Diagouraga"
          ],
          [
           "Lukas Pinckert"
          ],
          [
           "Anwan Lawrence Nicholas"
          ],
          [
           "Stijn van Gassel"
          ],
          [
           "Iddrisu Baba Mohammed"
          ],
          [
           "Celestin De Schrevel"
          ],
          [
           "Christian Joel Sánchez Leal"
          ],
          [
           "Miguel Rebelo"
          ],
          [
           "Endri Çekiçi"
          ],
          [
           "Mats Lemmens"
          ],
          [
           "George Honeyman"
          ],
          [
           "Brahim Traoré"
          ],
          [
           "Murat Akşit"
          ],
          [
           "John McGinn"
          ],
          [
           "Kerim Çalhanoğlu"
          ],
          [
           "Jean Butez"
          ],
          [
           "Bilal Nadir"
          ],
          [
           "Emil Alfons Holm"
          ],
          [
           "Anouar El Azzouzi"
          ],
          [
           "Gautier Lloris"
          ],
          [
           "Florian Richard Wirtz"
          ],
          [
           "Filipe Miguel Barros Soares"
          ],
          [
           "Carlos Vinícius Santos de Jesús"
          ],
          [
           "Michael John Smith"
          ],
          [
           "Cengiz Demir"
          ],
          [
           "Remi Matthews"
          ],
          [
           "Paul Nebel"
          ],
          [
           "Milad Mohammadi Keshmarzi"
          ],
          [
           "Abdel Hakim Abdallah"
          ],
          [
           "Assane Diao Diaoune"
          ],
          [
           "Harry Kane"
          ],
          [
           "Jamie Knight-Lebel"
          ],
          [
           "Adam Buksa"
          ],
          [
           "Eray Korkmaz"
          ],
          [
           "Mats Rits"
          ],
          [
           "Sergiño Gianni Dest"
          ],
          [
           "Krzysztof Piątek"
          ],
          [
           "Thibo Somers"
          ],
          [
           "Lorenzo Andrenacci"
          ],
          [
           "Bernabé Barragán Maestre"
          ],
          [
           "João Pedro Junqueira de Jesus"
          ],
          [
           "Simone Giordano"
          ],
          [
           "Mamadou Fofana"
          ],
          [
           "Enzo Camille Alain Millot"
          ],
          [
           "Bruno Miguel Semedo Varela"
          ],
          [
           "Kamal Sowah"
          ],
          [
           "Flavio Junior Bianchi"
          ],
          [
           "Fabricio Rosario Dos Santos"
          ],
          [
           "Tony Strata"
          ],
          [
           "Sebastian Rode"
          ],
          [
           "Teddy Boulhendi"
          ],
          [
           "Sofiane Diop"
          ],
          [
           "Philipp Förster"
          ],
          [
           "João Pedro Loureiro da Costa"
          ],
          [
           "Emre Bekir"
          ],
          [
           "Miguel Raimundo Nóbrega"
          ],
          [
           "Loic Williams Ntambue Kayumba"
          ],
          [
           "Robin Bird"
          ],
          [
           "Bakary Haidara"
          ],
          [
           "Raffaele Cartano"
          ],
          [
           "Abdoulie Sanyang"
          ],
          [
           "Salvador Sánchez Ponce"
          ],
          [
           "Víctor Chust García"
          ],
          [
           "Iker Bravo Solanilla"
          ],
          [
           "Gonçalo Baptista Franco"
          ],
          [
           "Nikola Milenković"
          ],
          [
           "Akinlolu Richard Olamide Famewo"
          ],
          [
           "Artur Ioniță"
          ],
          [
           "Raheem Conte"
          ],
          [
           "Jan-Niklas Beste"
          ],
          [
           "Michail Antonio"
          ],
          [
           "Silvan Dominic Widmer"
          ],
          [
           "Leart Paqarada"
          ],
          [
           "Alexandre Roger Oukidja"
          ],
          [
           "Dorukhan Toköz"
          ],
          [
           "Borja Sainz Eguskiza"
          ],
          [
           "João Rodrigo Pereira Escoval"
          ],
          [
           "Đorđe Petrović"
          ],
          [
           "Richie Mamah Laryea"
          ],
          [
           "Pietro Beruatto"
          ],
          [
           "Martin Turk"
          ],
          [
           "Rayan Ny Aina Arnaldo Raveloson"
          ],
          [
           "Sandro Plínio Rosa da Cruz"
          ],
          [
           "Mateusz Praszelik"
          ],
          [
           "Enes Ünal"
          ],
          [
           "Gustavo Fabrice Sangaré"
          ],
          [
           "Blendi Idrizi"
          ],
          [
           "Alex Král"
          ],
          [
           "Pablo Marí Villar"
          ],
          [
           "Sha'mar Lawson"
          ],
          [
           "Leon Bell Bell"
          ],
          [
           "Pedro Nuno Almeida Pinho"
          ],
          [
           "Sofian Kiyine"
          ],
          [
           "Daniel Andrés Luna García"
          ],
          [
           "Fabio Andrea Ruggeri"
          ],
          [
           "Ruslan Malinovskyi"
          ],
          [
           "Lars Edi Stindl"
          ],
          [
           "Boris Tomiak"
          ],
          [
           "Jorge Miramón Santagertrudis"
          ],
          [
           "Marco André da Silva Lopes Matias"
          ],
          [
           "Cebrail Karayel"
          ],
          [
           "Grant Hall"
          ],
          [
           "Iker Muniain Goñi"
          ],
          [
           "Fabian Nürnberger"
          ],
          [
           "Patrick Erras"
          ],
          [
           "Franck Honorat"
          ],
          [
           "Alfonso Pastor Vacas"
          ],
          [
           "Jannik Dehm"
          ],
          [
           "Nikola Vasilj"
          ],
          [
           "Alejandro Quevedo Barber"
          ],
          [
           "David López Guijarro"
          ],
          [
           "Erik Pieters"
          ],
          [
           "Amine Harit"
          ],
          [
           "Finn Gilbert Dahmen"
          ],
          [
           "İbrahim Akdağ"
          ],
          [
           "Ager Aketxe Barrutia"
          ],
          [
           "Lassana Diabaté"
          ],
          [
           "Eneko Ortiz Díaz"
          ],
          [
           "Rubén Alcaraz Jiménez"
          ],
          [
           "Jérémy Mellot"
          ],
          [
           "Javier Alonso Bello"
          ],
          [
           "Joris Chotard"
          ],
          [
           "Steven Skrzybski"
          ],
          [
           "Aitor Córdoba Querejeta"
          ],
          [
           "Romain Thomas"
          ],
          [
           "Mert Müldür"
          ],
          [
           "Julian Börner"
          ],
          [
           "Bryan Gil Salvatierra"
          ],
          [
           "Ahmed Touba"
          ],
          [
           "Robert Kampa"
          ],
          [
           "Adrià Miquel Bosch Sanchis"
          ],
          [
           "Jake Livermore"
          ],
          [
           "Elliott Anderson"
          ],
          [
           "Jochem van de Kamp"
          ],
          [
           "Davide Frattesi"
          ],
          [
           "Marcos Peña Ocaña"
          ],
          [
           "Óscar Clemente Mues"
          ],
          [
           "Diego López Noguerol"
          ],
          [
           "Williot Theo Swedberg"
          ],
          [
           "Pablo Torre Carral"
          ],
          [
           "Julio César Enciso Espínola"
          ],
          [
           "Niels Devalckeneer"
          ],
          [
           "Daniele Ghilardi"
          ],
          [
           "Jordan Semedo"
          ],
          [
           "Danilo dos Santos de Oliveira"
          ],
          [
           "Gonzalo Ávila Gordón"
          ],
          [
           "Djakaridja Junior Traoré"
          ],
          [
           "Armel Bella Kotchap"
          ],
          [
           "Hayden Carter"
          ],
          [
           "Lander Olaetxea Ibaibarriaga"
          ],
          [
           "Daley Blind"
          ],
          [
           "Rafael Jiménez Jarque"
          ],
          [
           "Ajdin Hrustić"
          ],
          [
           "Marius Mouandilmadji"
          ],
          [
           "Javier Puado Díaz"
          ],
          [
           "Florian Loshaj"
          ],
          [
           "Ajibola Alese"
          ],
          [
           "Marcus Tavernier"
          ],
          [
           "Granit Xhaka"
          ],
          [
           "João Manuel Neves Virgínia"
          ],
          [
           "Tim Schleinitz"
          ],
          [
           "Siemen Buvé"
          ],
          [
           "Florent Mollet"
          ],
          [
           "Rijad Smajić"
          ],
          [
           "Osaze Urhoghide"
          ],
          [
           "Aster Jan Vranckx"
          ],
          [
           "Loizos Loizou"
          ],
          [
           "Valerio Mastrantonio"
          ],
          [
           "Dimitrios Pelkas"
          ],
          [
           "Emanuel Vignato"
          ],
          [
           "Mostafa Mohamed Ahmed Abdallah"
          ],
          [
           "Jonathan de Guzmán"
          ],
          [
           "Alpaslan Öztürk"
          ],
          [
           "Ziyad Larkeche"
          ],
          [
           "Álvaro Odriozola Arzalluz"
          ],
          [
           "Gabriel Julien Dominique Barès"
          ],
          [
           "Kepa Arrizabalaga Revuelta"
          ],
          [
           "Charlie Casper"
          ],
          [
           "Théo Luis Fonseca"
          ],
          [
           "Paolo Rozzio"
          ],
          [
           "Unai López Cabrera"
          ],
          [
           "Mert Hakan Yandaş"
          ],
          [
           "Youssef Ramalho Chermiti"
          ],
          [
           "Tom Vandenberghe"
          ],
          [
           "Justin Antonius Lonwijk"
          ],
          [
           "Piotr Sebastian Zieliński"
          ],
          [
           "Tom Ducrocq"
          ],
          [
           "Jean-Charles Castelletto"
          ],
          [
           "Krépin Diatta"
          ],
          [
           "Thomas Christopher Cannon"
          ],
          [
           "Saúl García Cabrero"
          ],
          [
           "Jacopo Manconi"
          ],
          [
           "Nick Olij"
          ],
          [
           "Gonzalo Ariel Montiel"
          ],
          [
           "Diego Espinosa García"
          ],
          [
           "Jordan Yamoah Amissah"
          ],
          [
           "Javier Ontiveros Parra"
          ],
          [
           "Bonke Innocent"
          ],
          [
           "Axel Arthur Disasi"
          ],
          [
           "Aïman Maurer"
          ],
          [
           "Valdemiro Pinto Domingos"
          ],
          [
           "Serge David Gnabry"
          ],
          [
           "Mathis Hamdi"
          ],
          [
           "Mijo Caktaš"
          ],
          [
           "Dennis Geiger"
          ],
          [
           "Jonas Nickisch"
          ],
          [
           "Pietro Iemmello"
          ],
          [
           "Nobel Mendy"
          ],
          [
           "Salim Diakité"
          ],
          [
           "Martin Adeline"
          ],
          [
           "Elia Caprile"
          ],
          [
           "Max Rosenfelder"
          ],
          [
           "Mark Sykes"
          ],
          [
           "Kenneth Josiah Omeruo"
          ],
          [
           "Juan Ferney Otero Tovar"
          ],
          [
           "Robert Wagner"
          ],
          [
           "Matthew James Doherty"
          ],
          [
           "Kristoffer Paul Peterson"
          ],
          [
           "Rémy Boissier"
          ],
          [
           "Mattia Perin"
          ],
          [
           "Serdar Dursun"
          ],
          [
           "Dal Varešanović"
          ],
          [
           "Djenahro Nunumete"
          ],
          [
           "Zeki Yavru"
          ],
          [
           "Charlie Cresswell"
          ],
          [
           "Youri Regeer"
          ],
          [
           "Téva Gardies"
          ],
          [
           "Philana Tinotenda Kadewere"
          ],
          [
           "Sergio Guardiola Navarro"
          ],
          [
           "Maxime Chanot"
          ],
          [
           "William Balikwisha"
          ],
          [
           "Frederik Riis Rønnow"
          ],
          [
           "Giacomo Beretta"
          ],
          [
           "Bećir Omeragić"
          ],
          [
           "Álvaro Santamaría Arenas"
          ],
          [
           "Youri Baas"
          ],
          [
           "Benjamin André"
          ],
          [
           "Žan Majer"
          ],
          [
           "Emmanuel Afriyie Mario Sabbi"
          ],
          [
           "Darko Gyabi"
          ],
          [
           "Chris Anthony Willock"
          ],
          [
           "Han-Noah Massengo"
          ],
          [
           "Mario René Junior Lemina"
          ],
          [
           "Stijn Bultman"
          ],
          [
           "Anas Tahiri"
          ],
          [
           "Brandon Baiye"
          ],
          [
           "João Victor Tornich"
          ],
          [
           "Stipe Biuk"
          ],
          [
           "Auston Levi-Jesaiah Trusty"
          ],
          [
           "Álvaro Vadillo Cifuentes"
          ],
          [
           "Anthony Oyono Omva Torque"
          ],
          [
           "Murillo Costa dos Santos"
          ],
          [
           "Joelson Augusto Mendes Mango Fernandes"
          ],
          [
           "Lucas Estella Perri"
          ],
          [
           "Kwadwo Kyeremeh Baah"
          ],
          [
           "Ander Guevara Lajo"
          ],
          [
           "George Tanner"
          ],
          [
           "Francesco Amatucci"
          ],
          [
           "Mikel Oyarzabal Ugarte"
          ],
          [
           "Alejandro Francés Torrijo"
          ],
          [
           "Matteo Gabbia"
          ],
          [
           "Tony Jantschke"
          ],
          [
           "Steven Fortes"
          ],
          [
           "Toluwalase Emmanuel Arokodare"
          ],
          [
           "Jiří Pavlenka"
          ],
          [
           "Ionuț Nedelcearu"
          ],
          [
           "Luis Federico López Andúgar"
          ],
          [
           "Giovanni Crociata"
          ],
          [
           "Daniel Raba Antolin"
          ],
          [
           "Jean Michaël Seri"
          ],
          [
           "Miguel de la Fuente Escudero"
          ],
          [
           "Corentin Michel"
          ],
          [
           "Sammy Braybrooke"
          ],
          [
           "Andrew Hughes"
          ],
          [
           "Germán Fernández Hidalgo"
          ],
          [
           "Juan Manuel Bravo Alcántara"
          ],
          [
           "Djeidi Gassama"
          ],
          [
           "Marcos Alonso Mendoza"
          ],
          [
           "Luca Zinedine Zidane"
          ],
          [
           "Christian Kabasele"
          ],
          [
           "Javier Garrido López"
          ],
          [
           "Miguel Ângelo Gomes Ferreira Magalhães"
          ],
          [
           "Scott Brian Banks"
          ],
          [
           "Perry Ng Tian-Hee"
          ],
          [
           "João Filipe Iria Santos Moutinho"
          ],
          [
           "Luca Pfeiffer"
          ],
          [
           "Gino Fechner"
          ],
          [
           "Adrion Pajaziti"
          ],
          [
           "Efecan Karaca"
          ],
          [
           "Rob Holding"
          ],
          [
           "Jamie William Lindsay"
          ],
          [
           "Iñigo Vicente Elorduy"
          ],
          [
           "Fabiano Josué de Souza Silva"
          ],
          [
           "Jordi Mboula Queralt"
          ],
          [
           "Deniz Dilmen"
          ],
          [
           "Loïc Mbe Soh"
          ],
          [
           "Phillipp Klement"
          ],
          [
           "Timon Vanhoutte"
          ],
          [
           "Niklas Bernd Dorsch"
          ],
          [
           "Arthur Atta"
          ],
          [
           "Nathaniel Chalobah"
          ],
          [
           "Caio Henrique Oliveira Silva"
          ],
          [
           "Anssumane Fati"
          ],
          [
           "Søren Tengstedt"
          ],
          [
           "Marcus Vinícius Oliveira Alencar"
          ],
          [
           "Diego José Conde Alcolado"
          ],
          [
           "Afonso Bastardo Moreira"
          ],
          [
           "Matéo Loubatières"
          ],
          [
           "Andrea Colpani"
          ],
          [
           "Michael Simões Domingues"
          ],
          [
           "Ayman Aiki"
          ],
          [
           "Charlie Patino"
          ],
          [
           "Sven Ulreich"
          ],
          [
           "Bryan Heynen"
          ],
          [
           "Marco Moreno Ojeda"
          ],
          [
           "Mario Šitum"
          ],
          [
           "Dominick Drexler"
          ],
          [
           "Olimpiu Vasile Moruțan"
          ],
          [
           "Pep Biel Mas Jaume"
          ],
          [
           "Ghjuvanni Quilichini"
          ],
          [
           "Bruno Maximiliano Martins Indi"
          ],
          [
           "Rúben dos Santos Gato Alves Dias"
          ],
          [
           "Bogdan Milovanov"
          ],
          [
           "Oliver McBurnie"
          ],
          [
           "Pelle van Amersfoort"
          ],
          [
           "Leo Štulac"
          ],
          [
           "Pasquale Mazzocchi"
          ],
          [
           "Junior Tchamadeu"
          ],
          [
           "Bilal Bayazıt"
          ],
          [
           "Arda Güler"
          ],
          [
           "Isaac Ajayi Success"
          ],
          [
           "Jesús José Bernal Villarig"
          ],
          [
           "Jasper van der Werff"
          ],
          [
           "Vangelis Pavlidis"
          ],
          [
           "Antoine Batisse"
          ],
          [
           "Cédric Brunner"
          ],
          [
           "Edgar Badia Guardiola"
          ],
          [
           "Pablo Insua Blanco"
          ],
          [
           "Joshua Lloyd Ginnelly"
          ],
          [
           "Fodé Sylla"
          ]
         ],
         "hovertemplate": "Predicted Salary=%{x}<br>Residuals=%{y}<br>PlayerName=%{customdata[0]}<extra></extra>",
         "legendgroup": "",
         "marker": {
          "color": "#636efa",
          "symbol": "circle"
         },
         "mode": "markers",
         "name": "",
         "showlegend": false,
         "type": "scattergl",
         "x": [
          -108,
          87,
          -58,
          44,
          114,
          16,
          -79,
          19,
          -94,
          11,
          -73,
          -127,
          96,
          78,
          -12,
          116,
          -87,
          20,
          -105,
          68,
          -73,
          -120,
          36,
          -101,
          -121,
          -125,
          -45,
          -114,
          -44,
          27,
          -7,
          -52,
          -116,
          64,
          3,
          23,
          64,
          -92,
          -59,
          -3,
          58,
          90,
          -29,
          -58,
          50,
          -54,
          -125,
          -59,
          -6,
          44,
          -87,
          -86,
          -29,
          71,
          -33,
          26,
          9,
          29,
          58,
          -91,
          -125,
          -113,
          60,
          -69,
          33,
          -117,
          56,
          53,
          -19,
          39,
          27,
          30,
          115,
          -107,
          17,
          -14,
          -4,
          114,
          -120,
          -22,
          58,
          -108,
          109,
          79,
          21,
          121,
          0,
          -65,
          106,
          -100,
          15,
          36,
          -23,
          -120,
          106,
          62,
          106,
          57,
          74,
          -40,
          91,
          -2,
          23,
          109,
          -44,
          0,
          -70,
          -92,
          100,
          42,
          -46,
          127,
          4,
          57,
          115,
          115,
          107,
          -9,
          -66,
          -24,
          82,
          84,
          -92,
          104,
          109,
          55,
          -127,
          -108,
          -101,
          -61,
          -63,
          -91,
          -33,
          9,
          100,
          -96,
          -110,
          103,
          15,
          -89,
          95,
          -115,
          -71,
          59,
          -72,
          82,
          21,
          -39,
          -70,
          -98,
          62,
          -110,
          103,
          84,
          -128,
          -81,
          113,
          3,
          -114,
          -115,
          -16,
          -59,
          72,
          -71,
          -37,
          -49,
          -78,
          39,
          -66,
          -73,
          -71,
          109,
          53,
          106,
          -108,
          52,
          8,
          -23,
          24,
          -66,
          -67,
          -70,
          -96,
          -84,
          -127,
          54,
          106,
          114,
          -79,
          -74,
          -27,
          -79,
          -39,
          87,
          20,
          -115,
          46,
          122,
          -43,
          0,
          11,
          56,
          -25,
          -17,
          51,
          88,
          10,
          -30,
          -111,
          18,
          -13,
          56,
          63,
          58,
          32,
          109,
          44,
          -77,
          -9,
          -19,
          -122,
          71,
          52,
          -104,
          -97,
          105,
          43,
          -57,
          -44,
          -38,
          72,
          -17,
          -9,
          -2,
          -120,
          -35,
          53,
          67,
          -36,
          37,
          113,
          -122,
          78,
          39,
          64,
          93,
          114,
          10,
          5,
          -28,
          94,
          -34,
          33,
          96,
          124,
          106,
          69,
          -49,
          -55,
          5,
          123,
          2,
          62,
          -23,
          37,
          63,
          90,
          53,
          10,
          -30,
          50,
          -86,
          -28,
          58,
          -99,
          78,
          -72,
          -32,
          4,
          -87,
          -37,
          -5,
          80,
          -46,
          64,
          -114,
          -29,
          15,
          11,
          -96,
          55,
          70,
          46,
          -50,
          90,
          -87,
          67,
          -82,
          73,
          107,
          -31,
          76,
          -27,
          -40,
          -2,
          -106,
          33,
          22,
          90,
          -86,
          0,
          -68,
          -40,
          6,
          42,
          9,
          -48,
          40,
          -60,
          68,
          -93,
          -122,
          23,
          92,
          23,
          36,
          18,
          110,
          42,
          116,
          -121,
          -10,
          -2,
          78,
          81,
          121,
          118,
          29,
          -14,
          89,
          18,
          -61,
          82,
          -93,
          84,
          -38,
          -91,
          70,
          -24,
          94,
          55,
          -32,
          -19,
          -91,
          26,
          -114,
          -125,
          67,
          35,
          114,
          18,
          95,
          20,
          -60,
          -108,
          6,
          16,
          -105,
          49,
          122,
          -5,
          97,
          -90,
          86,
          -7,
          -79,
          -116,
          45,
          20,
          92,
          -30,
          3,
          27,
          -71,
          -18,
          59,
          -22,
          -93,
          5,
          121,
          -64,
          62,
          87,
          49,
          -67,
          37,
          0,
          -118,
          -40,
          -88,
          -10,
          63,
          86,
          -113,
          -107,
          -61,
          69,
          -1,
          34,
          -122,
          68,
          56,
          -103,
          80,
          18,
          -32,
          -106,
          24,
          34,
          -38,
          -86,
          -96,
          -10,
          -18,
          -111,
          31,
          -62,
          -58,
          -30,
          57,
          52,
          -49,
          85,
          -66,
          -26,
          -3,
          -53,
          18,
          -5,
          75,
          46,
          -70,
          120,
          91,
          86,
          98,
          -93,
          -37,
          -123,
          -75,
          -49,
          2,
          -93,
          -99,
          -15,
          57,
          -48,
          -37,
          -119,
          123,
          -37,
          95,
          -4,
          48,
          71,
          61,
          -115,
          -31,
          -69,
          -73,
          73,
          -86,
          -7,
          -11,
          -50,
          -84,
          -28,
          -105,
          -78,
          -112,
          -108,
          -15,
          -74,
          -22,
          115,
          95,
          57,
          -58,
          117,
          -55,
          74,
          76,
          77,
          -85,
          95,
          45,
          -19,
          -26,
          -7,
          58,
          105,
          36,
          101,
          -106,
          48,
          -13,
          106,
          22,
          67,
          5,
          59,
          74,
          102,
          19,
          -38,
          -75,
          -36,
          -45,
          -101,
          -58,
          -77,
          -127,
          -19,
          74,
          -99,
          -90,
          33,
          -83,
          -44,
          -28,
          80,
          72,
          -71,
          11,
          -62,
          -4,
          117,
          -116,
          87,
          111,
          -93,
          48,
          -79,
          119,
          0,
          73,
          -91,
          -69,
          -81,
          -23,
          51,
          126,
          -60,
          31,
          93,
          -125,
          -126,
          51,
          123,
          37,
          101,
          -8,
          105,
          85,
          100,
          -71,
          -9,
          -50,
          0,
          -120,
          -52,
          22,
          68,
          73,
          52,
          6,
          103,
          0,
          -53,
          -120,
          -111,
          86,
          71,
          64,
          55,
          112,
          -17,
          57,
          58,
          -51,
          39,
          46,
          -66,
          45,
          87,
          -18,
          -25,
          -117,
          -31,
          -52,
          89,
          0,
          0,
          -35,
          5,
          -22,
          122,
          -94,
          40,
          -76,
          -46,
          29,
          84,
          -54,
          55,
          -13,
          -5,
          -51,
          56,
          -106,
          -104,
          117,
          -109,
          -20,
          76,
          124,
          28,
          64,
          16,
          -74,
          68,
          124,
          77,
          -15,
          90,
          125,
          0,
          -98,
          -103,
          -49,
          -111,
          -64,
          -68,
          -127,
          -64,
          92,
          108,
          -21,
          -127,
          -96,
          -2,
          -78,
          103,
          -102,
          -120,
          -100,
          -49,
          107,
          -55,
          22,
          75,
          -66,
          21,
          65,
          39,
          45,
          -76,
          -33,
          81,
          25,
          105,
          -4,
          -89,
          -125,
          -75,
          2,
          38,
          -40,
          -120,
          58,
          65,
          80,
          51,
          13,
          11,
          109,
          106,
          30,
          19,
          -105,
          -40,
          -39,
          20,
          106,
          3,
          88,
          11,
          -30,
          -73,
          -63,
          1,
          122,
          -70,
          127,
          40,
          65,
          -60,
          -111,
          -29,
          -90,
          -83,
          42,
          -116,
          72,
          -2,
          -15,
          0,
          38,
          -49,
          93,
          -48,
          -33,
          -17,
          119,
          -125,
          -83,
          118,
          -93,
          -110,
          22,
          -8,
          90,
          -114,
          -25,
          -53,
          120,
          0,
          0,
          0,
          -27,
          -20,
          -64,
          125,
          46,
          51,
          -103,
          -57,
          52,
          -128,
          -95,
          47,
          -85,
          -111,
          117,
          27,
          -6,
          60,
          -128,
          68,
          82,
          -89,
          52,
          -124,
          -25,
          -104,
          54,
          68,
          35,
          -123,
          -53,
          52,
          85,
          -73,
          15,
          -64,
          62,
          -99,
          4,
          67,
          116,
          -71,
          34,
          93,
          71,
          -82,
          -59,
          -30,
          -93,
          110,
          -126,
          -68,
          89,
          120,
          91,
          -10,
          -47,
          -117,
          -18,
          101,
          -71,
          75,
          -15,
          51,
          123,
          -29,
          82,
          -10,
          -72,
          38,
          -62,
          19,
          -125,
          82,
          -112,
          127,
          -14,
          87,
          65,
          -51,
          -3,
          55,
          -67,
          -14,
          -65,
          1,
          109,
          50,
          15,
          18,
          89,
          -104,
          -44,
          113,
          31,
          20,
          26,
          102,
          -53,
          107,
          -121,
          -75,
          69,
          57,
          40,
          -99,
          69,
          124,
          61,
          21,
          -74,
          -92,
          50,
          49,
          -15,
          39,
          -6,
          -100,
          30,
          106,
          -7,
          -110,
          -67,
          80,
          -50,
          -10,
          -39,
          -109,
          -38,
          98,
          43,
          -55,
          -85,
          97,
          18,
          -78,
          -43,
          -26,
          -38,
          -95,
          42,
          -29,
          42,
          -65,
          88,
          15,
          -120,
          -19,
          96,
          9,
          108,
          29,
          -3,
          82,
          109,
          66,
          94,
          62,
          94,
          -19,
          80,
          104,
          -17,
          16,
          38,
          57,
          84,
          -100,
          -55,
          93,
          62,
          -95,
          -72,
          75,
          47,
          -47,
          -89,
          21,
          -54,
          51,
          -61,
          -89,
          -18,
          19,
          -78,
          125,
          115,
          -109,
          -33,
          -81,
          81,
          103,
          81,
          4,
          -107,
          63,
          -110,
          38,
          35,
          -73,
          -86,
          -22,
          -63,
          41,
          -60,
          -116,
          115,
          16,
          54,
          76,
          74,
          -118,
          -122,
          100,
          -42,
          39,
          -86,
          -103,
          -112,
          -9,
          -11,
          -125,
          -1,
          8,
          84,
          -57,
          27,
          85,
          87,
          -51,
          -18,
          89,
          0,
          -82,
          67,
          40,
          122,
          -105,
          76,
          -41,
          -16,
          69,
          89,
          61,
          -2,
          -3,
          -107,
          29,
          -76,
          40,
          -85,
          33,
          121,
          -53,
          -120,
          -107,
          -55,
          -57,
          10,
          -12,
          -117,
          -94,
          -41,
          107,
          15,
          -15,
          -8,
          -78,
          -88,
          123,
          -59,
          60,
          -29,
          -5,
          -7,
          102,
          1,
          -117,
          -62,
          85,
          20,
          -43,
          -21,
          -29,
          58,
          -76,
          5,
          -33,
          7,
          -37,
          96,
          -111,
          -2,
          43,
          53,
          46,
          41,
          88,
          -126,
          -45,
          -100,
          80,
          124,
          85,
          127,
          -12,
          -62,
          -66,
          -21,
          124,
          2,
          103,
          80,
          -101,
          90,
          -12,
          -126,
          112,
          27,
          -109,
          -63,
          -31,
          87,
          125,
          -72,
          -8,
          -31,
          -62,
          -62,
          -38,
          -8,
          49,
          -113,
          -86,
          -40,
          0,
          -81,
          126,
          30,
          -45,
          -65,
          59,
          -77,
          122,
          -51,
          4,
          11,
          66,
          69,
          -8,
          -78,
          16,
          118,
          7,
          118,
          -10,
          45,
          -36,
          -14,
          29,
          14,
          64,
          -100,
          52,
          58,
          -72,
          -127,
          -121,
          50,
          4,
          47,
          1,
          92,
          42,
          -88,
          118,
          70,
          100,
          72,
          -64,
          -19,
          22,
          51,
          89,
          124,
          -36,
          -94,
          0,
          74,
          -110,
          58,
          -70,
          0,
          -41,
          58,
          18,
          103,
          -101,
          85,
          -102,
          -17,
          43,
          -56,
          -57,
          79,
          37,
          69,
          -105,
          -114,
          -72,
          104,
          102,
          -121,
          112,
          -52,
          46,
          57,
          24,
          -50,
          -89,
          93,
          -12,
          0,
          82,
          113,
          69,
          19,
          -28,
          -42,
          108,
          -51,
          121,
          -47,
          -41,
          106,
          51,
          74,
          81,
          3,
          6,
          74,
          101,
          45,
          38,
          -36,
          -53,
          -122,
          -127,
          53,
          -10,
          -40,
          -107,
          75,
          -108,
          -82,
          109,
          -33,
          97,
          76,
          5,
          -33,
          108,
          -19,
          71,
          81,
          -26,
          -57,
          15,
          -81,
          -47,
          57,
          51,
          67,
          -66,
          -102,
          -55,
          -42,
          -76,
          -37,
          12,
          12,
          30,
          69,
          73,
          90,
          -13,
          -19,
          -116,
          110,
          29,
          12,
          -8,
          -47,
          52,
          -128,
          -19,
          -54,
          66,
          41,
          122,
          42,
          -62,
          115,
          -95,
          16,
          38,
          71,
          79,
          122,
          -28,
          -125,
          -123,
          -60,
          -105,
          105,
          -89,
          44,
          -109,
          -4,
          -107,
          -80,
          11,
          -89,
          82,
          61,
          -45,
          -4,
          -116,
          -48,
          85,
          70,
          -87,
          101,
          -96,
          -59,
          -118,
          -106,
          -23,
          -54,
          -52,
          -62,
          98,
          69,
          -94,
          -72,
          0,
          -126,
          89,
          -85,
          -13,
          -127,
          124,
          91,
          86,
          -19,
          -86,
          -66,
          -123,
          -39,
          124,
          -108,
          -2,
          92,
          67,
          -89,
          28,
          -68,
          -13,
          -43,
          -64,
          -61,
          27,
          88,
          -106,
          -42,
          -33,
          101,
          80,
          -7,
          -67,
          -91,
          -11,
          5,
          11,
          -7,
          108,
          -12,
          7,
          -51,
          52,
          123,
          -128,
          -25,
          -95,
          11,
          -120,
          33,
          -35,
          30,
          -113,
          21,
          -117,
          -18,
          21,
          75,
          -74,
          -53,
          24,
          92,
          -84,
          125,
          127,
          40,
          57,
          -66,
          52,
          77,
          116,
          -69,
          -78,
          -107,
          57,
          -89,
          -54,
          -37,
          -56,
          64,
          124,
          23,
          121,
          -107,
          118,
          43,
          -110,
          -60,
          -32,
          60,
          77,
          -123,
          77,
          28,
          10,
          76,
          41,
          67,
          -100,
          -69,
          -110,
          14,
          122,
          105,
          -34,
          30,
          91,
          -110,
          -14,
          114,
          10,
          -3,
          28,
          -6,
          32,
          -40,
          5,
          -7,
          -41,
          98,
          -3,
          -123,
          15,
          83,
          75,
          -86,
          -54,
          36,
          76,
          -95,
          31,
          -22,
          116,
          -79,
          0,
          123,
          53,
          105,
          -14,
          120,
          -126,
          -71,
          -75,
          82,
          53,
          -59,
          -62,
          67,
          22,
          114,
          83,
          19,
          34,
          16,
          -39,
          90,
          15,
          -23,
          -41,
          -13,
          -48,
          -77,
          -51,
          -96,
          -17,
          30,
          60,
          66,
          -60,
          -109,
          -115,
          -111,
          20,
          -46,
          2,
          124,
          98,
          -106,
          101,
          -74,
          -121,
          -30,
          -83,
          21,
          78,
          -74,
          -120,
          -97,
          86,
          -15,
          -92,
          -114,
          -38,
          117,
          -13,
          -90,
          77,
          37,
          16,
          -114,
          60,
          -68,
          -22,
          93,
          66,
          -53,
          90,
          17,
          -42,
          93,
          113,
          106,
          86,
          -81,
          -120,
          -77,
          -117,
          50,
          22,
          -24,
          -91,
          50,
          95,
          35,
          -65,
          127,
          117,
          -34,
          -61,
          21,
          33,
          -128,
          -24,
          99,
          106,
          88,
          -2,
          -80,
          31,
          -18,
          -88,
          107,
          85,
          82,
          -17,
          -128,
          -23,
          95,
          -41,
          67,
          104,
          8,
          19,
          -6,
          -71,
          89,
          -14,
          -2,
          -12,
          -91,
          118,
          77,
          38,
          122,
          -98,
          -70,
          -70,
          82,
          49,
          89,
          -99,
          89,
          71,
          -109,
          -21,
          -6,
          17,
          -126,
          -16,
          0
         ],
         "xaxis": "x",
         "y": [
          -3108,
          -35913,
          -32058,
          -1956,
          -1886,
          -19984,
          -11079,
          -4981,
          -13094,
          -27989,
          -4073,
          -3127,
          -2904,
          -2922,
          -4012,
          -2884,
          -2087,
          -4980,
          -2105,
          -2932,
          -5073,
          -90120,
          -14964,
          -15101,
          -17121,
          -16125,
          -845,
          -2114,
          -8044,
          -7973,
          -5007,
          -6052,
          -27116,
          -7936,
          -947,
          -3977,
          -4936,
          -60092,
          -29059,
          -1003,
          -29942,
          -7910,
          -6029,
          -1058,
          -950,
          -8054,
          -7125,
          -19059,
          -5006,
          -35956,
          -2087,
          -10086,
          -6029,
          -3929,
          -35033,
          -1974,
          -7991,
          -249971,
          -1942,
          -61091,
          -15125,
          -38113,
          -38940,
          -2069,
          -48967,
          -27117,
          -444,
          -5947,
          -22019,
          -7961,
          -973,
          -6970,
          -3885,
          -3107,
          -27983,
          -2014,
          -5004,
          -4886,
          -1020,
          -4022,
          -942,
          -2108,
          -891,
          -11921,
          -1979,
          -13879,
          -500,
          -28065,
          -1894,
          -9100,
          -164985,
          -4964,
          -723,
          -88120,
          -4894,
          -3938,
          -5894,
          -3943,
          -10926,
          -7040,
          -909,
          -3002,
          -6977,
          -5891,
          -7044,
          -3000,
          -7070,
          -2092,
          -4900,
          -5958,
          -105046,
          -6873,
          -996,
          -4943,
          -2885,
          -6885,
          -1893,
          -5009,
          -2066,
          -105024,
          -5918,
          -916,
          -7092,
          -19896,
          -891,
          -24945,
          -43127,
          -11108,
          -2101,
          -1061,
          -7063,
          -2091,
          -2033,
          -1991,
          -30900,
          -15096,
          -22110,
          -2897,
          -19985,
          -2089,
          -24905,
          -17115,
          -571,
          -3941,
          -3072,
          -11918,
          -18979,
          -22039,
          -11070,
          -15098,
          -78938,
          -6110,
          -14897,
          -916,
          -80128,
          -18081,
          -14887,
          -3997,
          -2114,
          -12115,
          -36016,
          -2059,
          -77928,
          -7071,
          -15037,
          -799,
          -3078,
          -2961,
          -2066,
          -2073,
          -56071,
          -58891,
          -10947,
          -63894,
          -3108,
          -5948,
          -9992,
          -4023,
          -31976,
          -15066,
          -8067,
          -2070,
          -29096,
          -12084,
          -7127,
          -9946,
          -67894,
          -886,
          -1079,
          -14074,
          -7027,
          -5079,
          -40039,
          -1913,
          -41980,
          -15115,
          -7954,
          -378,
          -4043,
          -180000,
          -9989,
          -4944,
          -3025,
          -36017,
          -11949,
          -5912,
          -3990,
          -3030,
          -24111,
          -982,
          -130013,
          -89944,
          -1937,
          -3942,
          -2968,
          -4891,
          -956,
          -9077,
          -609,
          -5019,
          -4122,
          -29929,
          -4948,
          -2104,
          -5097,
          -1895,
          -27957,
          -807,
          -6044,
          -6038,
          -7928,
          -20017,
          -509,
          -21002,
          -150120,
          -16035,
          -24947,
          -9933,
          -8036,
          -2963,
          -1887,
          -2122,
          -922,
          -461,
          -33936,
          -1907,
          -19886,
          -7990,
          -995,
          -1028,
          -12906,
          -5034,
          -77967,
          -3904,
          -2876,
          -5894,
          -4931,
          -3049,
          -5055,
          -19995,
          -3877,
          -4998,
          -5938,
          -1023,
          -2963,
          -16937,
          -7910,
          -12947,
          -1990,
          -13030,
          -1950,
          -4086,
          -2028,
          -20942,
          -5099,
          -26922,
          -7072,
          -29032,
          -24996,
          -737,
          -887,
          -56005,
          -6920,
          -6046,
          -11936,
          -63114,
          -13029,
          -6985,
          -639,
          -3096,
          -1945,
          -14930,
          -1954,
          -130050,
          -4910,
          -2087,
          -2933,
          -9082,
          -22927,
          -6893,
          -31031,
          -924,
          -12027,
          -3040,
          -4002,
          -9106,
          -14967,
          -478,
          -59910,
          -19086,
          -500,
          -3068,
          -11040,
          -1994,
          -958,
          -8991,
          -30048,
          -6960,
          -16060,
          -57932,
          -19093,
          -4122,
          -42977,
          -104908,
          -2977,
          -1964,
          -2982,
          -9890,
          -1958,
          -25884,
          -1121,
          -13010,
          -8002,
          -672,
          -23919,
          -1879,
          -382,
          -3971,
          -170014,
          -2911,
          -19982,
          -561,
          -418,
          -32093,
          -23916,
          -2038,
          -1091,
          -6930,
          -23024,
          -1906,
          -5945,
          -16032,
          -200019,
          -991,
          -8974,
          -3114,
          -1125,
          -1933,
          -43965,
          -6886,
          -48982,
          -2905,
          -2980,
          -23060,
          -20108,
          -22994,
          -3984,
          -5105,
          -10951,
          -16878,
          -7005,
          -1903,
          -5090,
          -7914,
          -3007,
          -11079,
          -7116,
          -955,
          -2980,
          -51908,
          -22030,
          -997,
          -11973,
          -2071,
          -3018,
          -48941,
          -5022,
          -46093,
          -595,
          -829,
          -25064,
          -9938,
          -4913,
          -14951,
          -18067,
          -913,
          -500,
          -29118,
          -1040,
          -8088,
          -31010,
          -58937,
          -14914,
          -2113,
          -8107,
          -2061,
          -2931,
          -2001,
          -12966,
          -4122,
          -149932,
          -6944,
          -18103,
          -920,
          -7982,
          -2032,
          -17106,
          -14976,
          -89966,
          -10038,
          -936,
          -13096,
          -8010,
          -1018,
          -3111,
          -819,
          -1062,
          -2058,
          -2030,
          -1943,
          -448,
          -5049,
          -3915,
          -53066,
          -18026,
          -2003,
          -5053,
          -8982,
          -2005,
          -6925,
          -5954,
          -5070,
          -10880,
          -4909,
          -664,
          -13902,
          -14093,
          -19037,
          -31123,
          -2075,
          -1049,
          -6998,
          -11093,
          -2099,
          -18015,
          -35943,
          -17048,
          -10037,
          -7119,
          -877,
          -16037,
          -49905,
          -2004,
          -1952,
          -16929,
          -2939,
          -1115,
          -9031,
          -15069,
          -5073,
          -4927,
          -1086,
          -4007,
          -1011,
          -4050,
          -3084,
          -14028,
          -125105,
          -7078,
          -13112,
          -3108,
          -3015,
          -1074,
          -8022,
          -13885,
          -89905,
          -943,
          -3058,
          -2883,
          -9055,
          -2926,
          -5924,
          -1923,
          -16085,
          -50905,
          -7955,
          -6019,
          -13026,
          -4007,
          -5942,
          -11895,
          -714,
          -4899,
          -906,
          -15952,
          -3013,
          -25894,
          -978,
          -30933,
          -1995,
          -10941,
          -52926,
          -1898,
          -11981,
          -20038,
          -21075,
          -1036,
          -545,
          -11101,
          -3058,
          -3077,
          -11127,
          -1019,
          -926,
          -599,
          -4090,
          -21967,
          -2083,
          -40044,
          -2028,
          -3920,
          -17928,
          -5071,
          -4989,
          -1062,
          -504,
          -6883,
          -23116,
          -1913,
          -6889,
          -17093,
          -452,
          -7079,
          -24881,
          -2000,
          -10927,
          -105091,
          -95069,
          -22081,
          -3023,
          -24949,
          -874,
          -9060,
          -14969,
          -7907,
          -5125,
          -2126,
          -1949,
          -4877,
          -5963,
          -10899,
          -17008,
          -395,
          -3915,
          -6900,
          -4071,
          -12009,
          -3050,
          -500,
          -2120,
          -2052,
          -7978,
          -17932,
          -4927,
          -32948,
          -3994,
          -1897,
          -13000,
          -14053,
          -8120,
          -43111,
          -14914,
          -3929,
          -1936,
          -1945,
          -1888,
          -68017,
          -34943,
          -5942,
          -4051,
          -13961,
          -5954,
          -616,
          -6955,
          -4913,
          -1018,
          -4025,
          -18117,
          -15031,
          -13052,
          -3911,
          -500,
          -500,
          -21035,
          -4995,
          -2022,
          -31878,
          -14094,
          -3960,
          -18076,
          -3046,
          -9971,
          -6916,
          -12054,
          -36945,
          -5013,
          -1005,
          -26051,
          -944,
          -1106,
          -22104,
          -21883,
          -5109,
          -110020,
          -524,
          -10876,
          -2972,
          -29936,
          -6984,
          -3074,
          -6932,
          -876,
          -923,
          -2015,
          -36910,
          -11875,
          -500,
          -43098,
          -1053,
          -4049,
          -3111,
          -18064,
          -1068,
          -15127,
          -4064,
          -458,
          -892,
          -6021,
          -10127,
          -6096,
          -37002,
          -22078,
          -1897,
          -2102,
          -2120,
          -800,
          -6049,
          -2893,
          -11055,
          -37978,
          -1925,
          -33066,
          -5979,
          -3935,
          -461,
          -4955,
          -8076,
          -13033,
          -5919,
          -35975,
          -33895,
          -1004,
          -739,
          -2125,
          -4075,
          -2998,
          -50962,
          -7040,
          -7120,
          -3942,
          -3935,
          -1920,
          -649,
          -1987,
          -36989,
          -2891,
          -4894,
          -6970,
          -5981,
          -6105,
          -2040,
          -3039,
          -5980,
          -28894,
          -20997,
          -1912,
          -50989,
          -8030,
          -26073,
          -19063,
          -45999,
          -12878,
          -19070,
          -1873,
          -84960,
          -8935,
          -6060,
          -9111,
          -2029,
          -6090,
          -16083,
          -10958,
          -2116,
          -3928,
          -23002,
          -22015,
          -500,
          -4962,
          -2049,
          -22907,
          -2048,
          -1033,
          -3017,
          -1881,
          -3125,
          -22083,
          -18882,
          -8093,
          -20110,
          -1978,
          -6008,
          -38910,
          -23114,
          -28025,
          -3053,
          -9880,
          -2000,
          -500,
          -500,
          -7027,
          -4020,
          -3064,
          -725,
          -12954,
          -8949,
          -13103,
          -5057,
          -48948,
          -3128,
          -39095,
          -7953,
          -10085,
          -861,
          -20883,
          -1973,
          -4006,
          -9940,
          -1028,
          -932,
          -9918,
          -56089,
          -169948,
          -774,
          -5025,
          -10104,
          -1946,
          -6932,
          -47965,
          -3123,
          -210053,
          -15948,
          -3915,
          -39073,
          -7985,
          -22064,
          -29938,
          -11099,
          -596,
          -33933,
          -42884,
          -71071,
          -3966,
          -4907,
          -779,
          -2082,
          -65059,
          -4030,
          -9093,
          -390,
          -626,
          -9068,
          -5911,
          -4880,
          -15909,
          -1010,
          -9047,
          -51117,
          -2018,
          -3899,
          -1071,
          -4925,
          -8015,
          -26949,
          -6877,
          -25029,
          -22918,
          -16010,
          -822,
          -11962,
          -55062,
          -2981,
          -4125,
          -8918,
          -612,
          -2873,
          -1014,
          -1913,
          -2935,
          -34051,
          -26003,
          -4945,
          -23067,
          -514,
          -5065,
          -1999,
          -1891,
          -35950,
          -4985,
          -5982,
          -1911,
          -1104,
          -15044,
          -2887,
          -1969,
          -18980,
          -22974,
          -164898,
          -10053,
          -199893,
          -35121,
          -60075,
          -3931,
          -134943,
          -8960,
          -3099,
          -4931,
          -526,
          -3939,
          -1979,
          -8074,
          -6092,
          -17950,
          -35951,
          -6015,
          -18961,
          -38006,
          -3100,
          -14970,
          -894,
          -30007,
          -16110,
          -3067,
          -7920,
          -550,
          -2010,
          -7039,
          -2109,
          -8038,
          -3902,
          -1957,
          -29055,
          -20085,
          -45903,
          -53982,
          -36078,
          -1043,
          -14026,
          -16038,
          -11095,
          -7958,
          -3029,
          -13958,
          -2065,
          -3912,
          -34985,
          -10120,
          -8019,
          -404,
          -14991,
          -1892,
          -6971,
          -84003,
          -918,
          -11891,
          -8934,
          -6906,
          -22938,
          -7906,
          -27019,
          -17920,
          -1896,
          -46017,
          -43984,
          -812,
          -3943,
          -5916,
          -25100,
          -2055,
          -6907,
          -938,
          -1095,
          -11072,
          -7925,
          -70953,
          -120047,
          -3089,
          -2979,
          -1054,
          -4949,
          -2061,
          -589,
          -31018,
          -85981,
          -12078,
          -1875,
          -885,
          -78109,
          -22033,
          -10081,
          -9919,
          -4897,
          -2919,
          -9996,
          -20107,
          -19937,
          -5110,
          -9962,
          -1965,
          -7073,
          -9086,
          -4022,
          -16063,
          -3959,
          -37060,
          -1116,
          -32885,
          -9984,
          -26946,
          -2924,
          -15926,
          -2118,
          -1122,
          -6900,
          -3042,
          -31961,
          -57086,
          -17103,
          -3112,
          -4009,
          -5011,
          -24125,
          -11001,
          -9992,
          -2916,
          -1057,
          -973,
          -11915,
          -8913,
          -14051,
          -22018,
          -761,
          -750,
          -6082,
          -3933,
          -114960,
          -878,
          -1105,
          -18924,
          -2041,
          -38016,
          -4931,
          -9911,
          -8939,
          -9002,
          -1003,
          -12107,
          -12971,
          -16076,
          -5960,
          -2085,
          -219967,
          -72879,
          -36053,
          -6120,
          -3107,
          -3055,
          -19057,
          -19990,
          -3012,
          -7117,
          -130094,
          -2041,
          -2893,
          -43985,
          -815,
          -7008,
          -15078,
          -21088,
          -1877,
          -29059,
          -32940,
          -40029,
          -17005,
          -31007,
          -14898,
          -6999,
          -34117,
          -962,
          -3915,
          -1980,
          -27043,
          -1021,
          -2029,
          -18942,
          -4076,
          -12995,
          -7033,
          -3993,
          -20037,
          -21904,
          -5111,
          -2002,
          -10957,
          -19947,
          -23954,
          -28959,
          -14912,
          -626,
          -7045,
          -37100,
          -2920,
          -876,
          -12915,
          -3873,
          -2012,
          -44062,
          -13066,
          -5021,
          -1876,
          -3998,
          -17897,
          -67920,
          -7101,
          -28910,
          -56012,
          -2126,
          -838,
          -1973,
          -7109,
          -4063,
          -6031,
          -913,
          -52875,
          -3072,
          -6008,
          -2031,
          -1062,
          -49062,
          -1038,
          -2008,
          -1951,
          -3113,
          -49086,
          -2040,
          -3000,
          -12081,
          -1874,
          -57970,
          -2045,
          -815,
          -841,
          -1077,
          -14878,
          -7051,
          -2996,
          -3989,
          -99934,
          -1931,
          -18008,
          -3078,
          -46984,
          -3882,
          -493,
          -16882,
          -2010,
          -5955,
          -1036,
          -8014,
          -5971,
          -67986,
          -32936,
          -1100,
          -14948,
          -11942,
          -33072,
          -44127,
          -18121,
          -1950,
          -4996,
          -8953,
          -6999,
          -60908,
          -2958,
          -3088,
          -16882,
          -37930,
          -5900,
          -21928,
          -2064,
          -4019,
          -34978,
          -7949,
          -2911,
          -6876,
          -3036,
          -3094,
          -500,
          -59926,
          -230110,
          -52942,
          -6070,
          -500,
          -140041,
          -10942,
          -149982,
          -8897,
          -17101,
          -7915,
          -6102,
          -1017,
          -44957,
          -3056,
          -19057,
          -30921,
          -31963,
          -1931,
          -5105,
          -7114,
          -48072,
          -99896,
          -15898,
          -3121,
          -77888,
          -14052,
          -954,
          -50943,
          -1976,
          -3050,
          -13089,
          -5907,
          -1012,
          -6000,
          -32918,
          -6887,
          -2931,
          -21981,
          -2028,
          -13042,
          -45892,
          -10051,
          -2879,
          -4047,
          -38041,
          -13894,
          -899,
          -5926,
          -24919,
          -23997,
          -694,
          -46926,
          -6899,
          -6955,
          -29962,
          -2036,
          -20053,
          -3122,
          -2127,
          -12947,
          -12010,
          -64040,
          -2107,
          -10925,
          -1108,
          -38082,
          -10891,
          -4033,
          -2903,
          -3924,
          -8995,
          -8033,
          -7892,
          -56019,
          -38929,
          -19919,
          -11026,
          -2057,
          -23985,
          -7081,
          -7047,
          -9943,
          -51949,
          -6933,
          -9066,
          -35102,
          -35055,
          -100042,
          -5076,
          -1037,
          -988,
          -22988,
          -25970,
          -9931,
          -2927,
          -5910,
          -150013,
          -4019,
          -916,
          -1890,
          -3971,
          -3988,
          -24008,
          -2047,
          -1948,
          -1128,
          -7019,
          -2054,
          -21934,
          -909,
          -878,
          -89958,
          -3062,
          -25885,
          -4095,
          -2984,
          -1962,
          -12929,
          -76921,
          -578,
          -10028,
          -9125,
          -2123,
          -7060,
          -9105,
          -10895,
          -2089,
          -1956,
          -170109,
          -1004,
          -31107,
          -2080,
          -21989,
          -86089,
          -19918,
          -9939,
          -2045,
          -2004,
          -52116,
          -748,
          -1915,
          -15930,
          -8087,
          -13899,
          -1096,
          -7059,
          -618,
          -31106,
          -5023,
          -36054,
          -16052,
          -8062,
          -1902,
          -2931,
          -2094,
          -3072,
          -550,
          -726,
          -1911,
          -8085,
          -21013,
          -6127,
          -5876,
          -49909,
          -4914,
          -4019,
          -2086,
          -27066,
          -71123,
          -25039,
          -17876,
          -13108,
          -13002,
          -15908,
          -1933,
          -47089,
          -33972,
          -4068,
          -513,
          -5043,
          -2064,
          -7061,
          -40973,
          -1912,
          -5106,
          -27042,
          -40033,
          -2899,
          -4920,
          -1007,
          -6067,
          -6091,
          -2011,
          -29995,
          -15989,
          -7007,
          -8892,
          -3012,
          -4993,
          -6051,
          -32948,
          -13877,
          -11128,
          -29025,
          -1095,
          -9989,
          -8120,
          -967,
          -4035,
          -19970,
          -38113,
          -17979,
          -4117,
          -11018,
          -479,
          -2925,
          -30074,
          -7053,
          -2976,
          -14908,
          -19084,
          -5875,
          -3873,
          -19960,
          -8943,
          -68066,
          -11948,
          -423,
          -3884,
          -17069,
          -43078,
          -1057,
          -21943,
          -1089,
          -3054,
          -22037,
          -7056,
          -53936,
          -23876,
          -977,
          -2879,
          -5107,
          -43882,
          -18957,
          -3110,
          -24060,
          -18032,
          -3940,
          -25923,
          -26123,
          -4923,
          -7972,
          -11990,
          -3924,
          -8959,
          -37933,
          -74100,
          -9069,
          -1110,
          -486,
          -18878,
          -1895,
          -2034,
          -25970,
          -1909,
          -860,
          -19014,
          -3886,
          -22990,
          -4003,
          -4972,
          -2006,
          -26968,
          -4040,
          -89995,
          -607,
          -3041,
          -902,
          -16003,
          -21123,
          -15985,
          -5917,
          -425,
          -72086,
          -2054,
          -20964,
          -35924,
          -16095,
          -4969,
          -1022,
          -8884,
          -26079,
          -500,
          -1877,
          -3947,
          -11895,
          -89014,
          -1880,
          -2126,
          -82071,
          -725,
          -14918,
          -26947,
          -1059,
          -3062,
          -433,
          -1978,
          -2886,
          -16917,
          -4981,
          -14966,
          -6984,
          -12039,
          -5910,
          -44985,
          -7023,
          -2041,
          -73013,
          -17048,
          -5077,
          -1051,
          -3096,
          -15017,
          -2970,
          -790,
          -24934,
          -22060,
          -6109,
          -6115,
          -27111,
          -980,
          -11046,
          -998,
          -2876,
          -34902,
          -2106,
          -9899,
          -4074,
          -14121,
          -18030,
          -68083,
          -479,
          -3922,
          -2074,
          -2120,
          -4097,
          -21914,
          -5015,
          -3092,
          -20114,
          -3038,
          -23883,
          -5013,
          -21090,
          -8923,
          -913,
          -53984,
          -6114,
          -32940,
          -16068,
          -2022,
          -9907,
          -16934,
          -3053,
          -910,
          -1983,
          -10042,
          -13907,
          -13887,
          -744,
          -3914,
          -17081,
          -1120,
          -3077,
          -3117,
          -104950,
          -4978,
          -10024,
          -691,
          -5950,
          -5905,
          -7965,
          -11065,
          -11873,
          -3883,
          -9034,
          -14061,
          -32979,
          -4967,
          -10128,
          -6024,
          -5901,
          -394,
          -14912,
          -8002,
          -1080,
          -22969,
          -3018,
          -21088,
          -47893,
          -85915,
          -1918,
          -33017,
          -5128,
          -3023,
          -505,
          -45041,
          -3933,
          -446,
          -17992,
          -31981,
          -18006,
          -6071,
          -1911,
          -9014,
          -9002,
          -26012,
          -741,
          -8882,
          -249923,
          -2962,
          -26878,
          -4098,
          -3070,
          -36070,
          -2918,
          -4951,
          -40911,
          -14099,
          -2911,
          -5929,
          -15109,
          -2021,
          -8006,
          -8983,
          -6126,
          -17016,
          -750
         ],
         "yaxis": "y"
        }
       ],
       "layout": {
        "legend": {
         "tracegroupgap": 0
        },
        "margin": {
         "t": 60
        },
        "template": {
         "data": {
          "bar": [
           {
            "error_x": {
             "color": "#2a3f5f"
            },
            "error_y": {
             "color": "#2a3f5f"
            },
            "marker": {
             "line": {
              "color": "#E5ECF6",
              "width": 0.5
             },
             "pattern": {
              "fillmode": "overlay",
              "size": 10,
              "solidity": 0.2
             }
            },
            "type": "bar"
           }
          ],
          "barpolar": [
           {
            "marker": {
             "line": {
              "color": "#E5ECF6",
              "width": 0.5
             },
             "pattern": {
              "fillmode": "overlay",
              "size": 10,
              "solidity": 0.2
             }
            },
            "type": "barpolar"
           }
          ],
          "carpet": [
           {
            "aaxis": {
             "endlinecolor": "#2a3f5f",
             "gridcolor": "white",
             "linecolor": "white",
             "minorgridcolor": "white",
             "startlinecolor": "#2a3f5f"
            },
            "baxis": {
             "endlinecolor": "#2a3f5f",
             "gridcolor": "white",
             "linecolor": "white",
             "minorgridcolor": "white",
             "startlinecolor": "#2a3f5f"
            },
            "type": "carpet"
           }
          ],
          "choropleth": [
           {
            "colorbar": {
             "outlinewidth": 0,
             "ticks": ""
            },
            "type": "choropleth"
           }
          ],
          "contour": [
           {
            "colorbar": {
             "outlinewidth": 0,
             "ticks": ""
            },
            "colorscale": [
             [
              0,
              "#0d0887"
             ],
             [
              0.1111111111111111,
              "#46039f"
             ],
             [
              0.2222222222222222,
              "#7201a8"
             ],
             [
              0.3333333333333333,
              "#9c179e"
             ],
             [
              0.4444444444444444,
              "#bd3786"
             ],
             [
              0.5555555555555556,
              "#d8576b"
             ],
             [
              0.6666666666666666,
              "#ed7953"
             ],
             [
              0.7777777777777778,
              "#fb9f3a"
             ],
             [
              0.8888888888888888,
              "#fdca26"
             ],
             [
              1,
              "#f0f921"
             ]
            ],
            "type": "contour"
           }
          ],
          "contourcarpet": [
           {
            "colorbar": {
             "outlinewidth": 0,
             "ticks": ""
            },
            "type": "contourcarpet"
           }
          ],
          "heatmap": [
           {
            "colorbar": {
             "outlinewidth": 0,
             "ticks": ""
            },
            "colorscale": [
             [
              0,
              "#0d0887"
             ],
             [
              0.1111111111111111,
              "#46039f"
             ],
             [
              0.2222222222222222,
              "#7201a8"
             ],
             [
              0.3333333333333333,
              "#9c179e"
             ],
             [
              0.4444444444444444,
              "#bd3786"
             ],
             [
              0.5555555555555556,
              "#d8576b"
             ],
             [
              0.6666666666666666,
              "#ed7953"
             ],
             [
              0.7777777777777778,
              "#fb9f3a"
             ],
             [
              0.8888888888888888,
              "#fdca26"
             ],
             [
              1,
              "#f0f921"
             ]
            ],
            "type": "heatmap"
           }
          ],
          "heatmapgl": [
           {
            "colorbar": {
             "outlinewidth": 0,
             "ticks": ""
            },
            "colorscale": [
             [
              0,
              "#0d0887"
             ],
             [
              0.1111111111111111,
              "#46039f"
             ],
             [
              0.2222222222222222,
              "#7201a8"
             ],
             [
              0.3333333333333333,
              "#9c179e"
             ],
             [
              0.4444444444444444,
              "#bd3786"
             ],
             [
              0.5555555555555556,
              "#d8576b"
             ],
             [
              0.6666666666666666,
              "#ed7953"
             ],
             [
              0.7777777777777778,
              "#fb9f3a"
             ],
             [
              0.8888888888888888,
              "#fdca26"
             ],
             [
              1,
              "#f0f921"
             ]
            ],
            "type": "heatmapgl"
           }
          ],
          "histogram": [
           {
            "marker": {
             "pattern": {
              "fillmode": "overlay",
              "size": 10,
              "solidity": 0.2
             }
            },
            "type": "histogram"
           }
          ],
          "histogram2d": [
           {
            "colorbar": {
             "outlinewidth": 0,
             "ticks": ""
            },
            "colorscale": [
             [
              0,
              "#0d0887"
             ],
             [
              0.1111111111111111,
              "#46039f"
             ],
             [
              0.2222222222222222,
              "#7201a8"
             ],
             [
              0.3333333333333333,
              "#9c179e"
             ],
             [
              0.4444444444444444,
              "#bd3786"
             ],
             [
              0.5555555555555556,
              "#d8576b"
             ],
             [
              0.6666666666666666,
              "#ed7953"
             ],
             [
              0.7777777777777778,
              "#fb9f3a"
             ],
             [
              0.8888888888888888,
              "#fdca26"
             ],
             [
              1,
              "#f0f921"
             ]
            ],
            "type": "histogram2d"
           }
          ],
          "histogram2dcontour": [
           {
            "colorbar": {
             "outlinewidth": 0,
             "ticks": ""
            },
            "colorscale": [
             [
              0,
              "#0d0887"
             ],
             [
              0.1111111111111111,
              "#46039f"
             ],
             [
              0.2222222222222222,
              "#7201a8"
             ],
             [
              0.3333333333333333,
              "#9c179e"
             ],
             [
              0.4444444444444444,
              "#bd3786"
             ],
             [
              0.5555555555555556,
              "#d8576b"
             ],
             [
              0.6666666666666666,
              "#ed7953"
             ],
             [
              0.7777777777777778,
              "#fb9f3a"
             ],
             [
              0.8888888888888888,
              "#fdca26"
             ],
             [
              1,
              "#f0f921"
             ]
            ],
            "type": "histogram2dcontour"
           }
          ],
          "mesh3d": [
           {
            "colorbar": {
             "outlinewidth": 0,
             "ticks": ""
            },
            "type": "mesh3d"
           }
          ],
          "parcoords": [
           {
            "line": {
             "colorbar": {
              "outlinewidth": 0,
              "ticks": ""
             }
            },
            "type": "parcoords"
           }
          ],
          "pie": [
           {
            "automargin": true,
            "type": "pie"
           }
          ],
          "scatter": [
           {
            "fillpattern": {
             "fillmode": "overlay",
             "size": 10,
             "solidity": 0.2
            },
            "type": "scatter"
           }
          ],
          "scatter3d": [
           {
            "line": {
             "colorbar": {
              "outlinewidth": 0,
              "ticks": ""
             }
            },
            "marker": {
             "colorbar": {
              "outlinewidth": 0,
              "ticks": ""
             }
            },
            "type": "scatter3d"
           }
          ],
          "scattercarpet": [
           {
            "marker": {
             "colorbar": {
              "outlinewidth": 0,
              "ticks": ""
             }
            },
            "type": "scattercarpet"
           }
          ],
          "scattergeo": [
           {
            "marker": {
             "colorbar": {
              "outlinewidth": 0,
              "ticks": ""
             }
            },
            "type": "scattergeo"
           }
          ],
          "scattergl": [
           {
            "marker": {
             "colorbar": {
              "outlinewidth": 0,
              "ticks": ""
             }
            },
            "type": "scattergl"
           }
          ],
          "scattermapbox": [
           {
            "marker": {
             "colorbar": {
              "outlinewidth": 0,
              "ticks": ""
             }
            },
            "type": "scattermapbox"
           }
          ],
          "scatterpolar": [
           {
            "marker": {
             "colorbar": {
              "outlinewidth": 0,
              "ticks": ""
             }
            },
            "type": "scatterpolar"
           }
          ],
          "scatterpolargl": [
           {
            "marker": {
             "colorbar": {
              "outlinewidth": 0,
              "ticks": ""
             }
            },
            "type": "scatterpolargl"
           }
          ],
          "scatterternary": [
           {
            "marker": {
             "colorbar": {
              "outlinewidth": 0,
              "ticks": ""
             }
            },
            "type": "scatterternary"
           }
          ],
          "surface": [
           {
            "colorbar": {
             "outlinewidth": 0,
             "ticks": ""
            },
            "colorscale": [
             [
              0,
              "#0d0887"
             ],
             [
              0.1111111111111111,
              "#46039f"
             ],
             [
              0.2222222222222222,
              "#7201a8"
             ],
             [
              0.3333333333333333,
              "#9c179e"
             ],
             [
              0.4444444444444444,
              "#bd3786"
             ],
             [
              0.5555555555555556,
              "#d8576b"
             ],
             [
              0.6666666666666666,
              "#ed7953"
             ],
             [
              0.7777777777777778,
              "#fb9f3a"
             ],
             [
              0.8888888888888888,
              "#fdca26"
             ],
             [
              1,
              "#f0f921"
             ]
            ],
            "type": "surface"
           }
          ],
          "table": [
           {
            "cells": {
             "fill": {
              "color": "#EBF0F8"
             },
             "line": {
              "color": "white"
             }
            },
            "header": {
             "fill": {
              "color": "#C8D4E3"
             },
             "line": {
              "color": "white"
             }
            },
            "type": "table"
           }
          ]
         },
         "layout": {
          "annotationdefaults": {
           "arrowcolor": "#2a3f5f",
           "arrowhead": 0,
           "arrowwidth": 1
          },
          "autotypenumbers": "strict",
          "coloraxis": {
           "colorbar": {
            "outlinewidth": 0,
            "ticks": ""
           }
          },
          "colorscale": {
           "diverging": [
            [
             0,
             "#8e0152"
            ],
            [
             0.1,
             "#c51b7d"
            ],
            [
             0.2,
             "#de77ae"
            ],
            [
             0.3,
             "#f1b6da"
            ],
            [
             0.4,
             "#fde0ef"
            ],
            [
             0.5,
             "#f7f7f7"
            ],
            [
             0.6,
             "#e6f5d0"
            ],
            [
             0.7,
             "#b8e186"
            ],
            [
             0.8,
             "#7fbc41"
            ],
            [
             0.9,
             "#4d9221"
            ],
            [
             1,
             "#276419"
            ]
           ],
           "sequential": [
            [
             0,
             "#0d0887"
            ],
            [
             0.1111111111111111,
             "#46039f"
            ],
            [
             0.2222222222222222,
             "#7201a8"
            ],
            [
             0.3333333333333333,
             "#9c179e"
            ],
            [
             0.4444444444444444,
             "#bd3786"
            ],
            [
             0.5555555555555556,
             "#d8576b"
            ],
            [
             0.6666666666666666,
             "#ed7953"
            ],
            [
             0.7777777777777778,
             "#fb9f3a"
            ],
            [
             0.8888888888888888,
             "#fdca26"
            ],
            [
             1,
             "#f0f921"
            ]
           ],
           "sequentialminus": [
            [
             0,
             "#0d0887"
            ],
            [
             0.1111111111111111,
             "#46039f"
            ],
            [
             0.2222222222222222,
             "#7201a8"
            ],
            [
             0.3333333333333333,
             "#9c179e"
            ],
            [
             0.4444444444444444,
             "#bd3786"
            ],
            [
             0.5555555555555556,
             "#d8576b"
            ],
            [
             0.6666666666666666,
             "#ed7953"
            ],
            [
             0.7777777777777778,
             "#fb9f3a"
            ],
            [
             0.8888888888888888,
             "#fdca26"
            ],
            [
             1,
             "#f0f921"
            ]
           ]
          },
          "colorway": [
           "#636efa",
           "#EF553B",
           "#00cc96",
           "#ab63fa",
           "#FFA15A",
           "#19d3f3",
           "#FF6692",
           "#B6E880",
           "#FF97FF",
           "#FECB52"
          ],
          "font": {
           "color": "#2a3f5f"
          },
          "geo": {
           "bgcolor": "white",
           "lakecolor": "white",
           "landcolor": "#E5ECF6",
           "showlakes": true,
           "showland": true,
           "subunitcolor": "white"
          },
          "hoverlabel": {
           "align": "left"
          },
          "hovermode": "closest",
          "mapbox": {
           "style": "light"
          },
          "paper_bgcolor": "white",
          "plot_bgcolor": "#E5ECF6",
          "polar": {
           "angularaxis": {
            "gridcolor": "white",
            "linecolor": "white",
            "ticks": ""
           },
           "bgcolor": "#E5ECF6",
           "radialaxis": {
            "gridcolor": "white",
            "linecolor": "white",
            "ticks": ""
           }
          },
          "scene": {
           "xaxis": {
            "backgroundcolor": "#E5ECF6",
            "gridcolor": "white",
            "gridwidth": 2,
            "linecolor": "white",
            "showbackground": true,
            "ticks": "",
            "zerolinecolor": "white"
           },
           "yaxis": {
            "backgroundcolor": "#E5ECF6",
            "gridcolor": "white",
            "gridwidth": 2,
            "linecolor": "white",
            "showbackground": true,
            "ticks": "",
            "zerolinecolor": "white"
           },
           "zaxis": {
            "backgroundcolor": "#E5ECF6",
            "gridcolor": "white",
            "gridwidth": 2,
            "linecolor": "white",
            "showbackground": true,
            "ticks": "",
            "zerolinecolor": "white"
           }
          },
          "shapedefaults": {
           "line": {
            "color": "#2a3f5f"
           }
          },
          "ternary": {
           "aaxis": {
            "gridcolor": "white",
            "linecolor": "white",
            "ticks": ""
           },
           "baxis": {
            "gridcolor": "white",
            "linecolor": "white",
            "ticks": ""
           },
           "bgcolor": "#E5ECF6",
           "caxis": {
            "gridcolor": "white",
            "linecolor": "white",
            "ticks": ""
           }
          },
          "title": {
           "x": 0.05
          },
          "xaxis": {
           "automargin": true,
           "gridcolor": "white",
           "linecolor": "white",
           "ticks": "",
           "title": {
            "standoff": 15
           },
           "zerolinecolor": "white",
           "zerolinewidth": 2
          },
          "yaxis": {
           "automargin": true,
           "gridcolor": "white",
           "linecolor": "white",
           "ticks": "",
           "title": {
            "standoff": 15
           },
           "zerolinecolor": "white",
           "zerolinewidth": 2
          }
         }
        },
        "title": {
         "text": "Residuals vs Predicted Salary"
        },
        "xaxis": {
         "anchor": "y",
         "domain": [
          0,
          1
         ],
         "title": {
          "text": "Predicted Salary"
         }
        },
        "yaxis": {
         "anchor": "x",
         "domain": [
          0,
          1
         ],
         "title": {
          "text": "Predicted - Actual"
         }
        }
       }
      }
     },
     "metadata": {},
     "output_type": "display_data"
    },
    {
     "data": {
      "application/vnd.plotly.v1+json": {
       "config": {
        "plotlyServerURL": "https://plot.ly"
       },
       "data": [
        {
         "customdata": [
          [
           "Jacopo Fazzini"
          ],
          [
           "Nathan Tella"
          ],
          [
           "Janik Haberer"
          ],
          [
           "Cristiano Piccini"
          ],
          [
           "Koen Van Langendonck"
          ],
          [
           "Sam Larsson"
          ],
          [
           "Garry Mendes Rodrigues"
          ],
          [
           "Florian Krüger"
          ],
          [
           "Xeber Alkain Mitxelena"
          ],
          [
           "Flynn Downes"
          ],
          [
           "Reyes Cleary"
          ],
          [
           "João Miguel Teixeira Mendes"
          ],
          [
           "Iñaki Rupérez Urtasun"
          ],
          [
           "Peer Koopmeiners"
          ],
          [
           "Antonio Jonjić"
          ],
          [
           "Sherel Floranus"
          ],
          [
           "Fabio Torsiello"
          ],
          [
           "Antoine Leautey"
          ],
          [
           "Peter Ouaneh"
          ],
          [
           "Dario Dumić"
          ],
          [
           "Paul Stock"
          ],
          [
           "Federico Dimarco"
          ],
          [
           "Lilian Brassier"
          ],
          [
           "Liam Lindsay"
          ],
          [
           "Aitor Paredes Casamichana"
          ],
          [
           "Ryan Isaac Mendes da Graça"
          ],
          [
           "Alex Matos"
          ],
          [
           "Leandro Chichizola"
          ],
          [
           "Jorge Filipe Oliveira Fernandes"
          ],
          [
           "Semir Telalovic"
          ],
          [
           "Domingos Quina"
          ],
          [
           "Julen Lobete Cienfuegos"
          ],
          [
           "Colin Dagba"
          ],
          [
           "Fernando Pacheco Flores"
          ],
          [
           "Daniel Grilo Azevedo"
          ],
          [
           "Rui Filipe Caetano Moura"
          ],
          [
           "Christian Kinsombi"
          ],
          [
           "Niclas Füllkrug"
          ],
          [
           "Florian Kainz"
          ],
          [
           "Luca Giudici"
          ],
          [
           "Luis Milla Manzanares"
          ],
          [
           "Emmanuel Okyere Boateng"
          ],
          [
           "Tawanda Chirewa"
          ],
          [
           "Bahadır Gölgeli"
          ],
          [
           "Diyaeddine Abzi"
          ],
          [
           "Erce Kardeşler"
          ],
          [
           "Moryké Fofana"
          ],
          [
           "Gabriel Gudmundsson"
          ],
          [
           "Nikolas Agrafiotis"
          ],
          [
           "Jannik Vestergaard"
          ],
          [
           "Kaio César Andrade Lima"
          ],
          [
           "José Francisco dos Santos Júnior"
          ],
          [
           "Tjaronn Inteff Chefren Chery"
          ],
          [
           "Alessandro Bellemo"
          ],
          [
           "Vincent Janssen"
          ],
          [
           "Olivier Dumont"
          ],
          [
           "Andreas Albers Nielsen"
          ],
          [
           "Thibaut Nicolas Marc Courtois"
          ],
          [
           "Pajtim Kasami"
          ],
          [
           "Albert-Mboyo Sambi Lokonga"
          ],
          [
           "André Hoffmann"
          ],
          [
           "Mergim Berisha"
          ],
          [
           "Terem Igobor Moffi"
          ],
          [
           "Aitor Mañas Buenadicha"
          ],
          [
           "Edmond Fayçal Tapsoba"
          ],
          [
           "Amari'i Bell"
          ],
          [
           "Edoardo Borrelli"
          ],
          [
           "Francisco Gámez López"
          ],
          [
           "Kayky da Silva Chagas"
          ],
          [
           "Lawrence Ofori"
          ],
          [
           "Florentin Lucien Jean Bloch"
          ],
          [
           "Benicio Baker-Boaitey"
          ],
          [
           "Sveinn Aron Guðjohnsen"
          ],
          [
           "Christian Lund Gytkjær"
          ],
          [
           "Leo Skiri Østigård"
          ],
          [
           "Ivan Filipović"
          ],
          [
           "Daniel Heber"
          ],
          [
           "Luis Perea Hernández"
          ],
          [
           "André Seruca de Oliveira"
          ],
          [
           "Marc Aguado Pallarés"
          ],
          [
           "Pape Ousmane Sakho"
          ],
          [
           "Rodrigo Ribeiro de Macedo"
          ],
          [
           "Ilias Koutsoupias"
          ],
          [
           "川邉 骏"
          ],
          [
           "Nicholas Pierini"
          ],
          [
           "Elbasan Rashani"
          ],
          [
           "Samuele Di Benedetto"
          ],
          [
           "Adryelson Lima Silva"
          ],
          [
           "Amar Gerxhaliu"
          ],
          [
           "Moïse Sahi Dion"
          ],
          [
           "Pedro González López"
          ],
          [
           "Miguel Ángel Atienza Villa"
          ],
          [
           "Mathias De Amorim"
          ],
          [
           "Alejandro Grimaldo García"
          ],
          [
           "Raphael Gregório Guzzo"
          ],
          [
           "Rui Pedro Silva Costa"
          ],
          [
           "Héctor José Hernández Marrero"
          ],
          [
           "Raúl Navarro del Río"
          ],
          [
           "Ferdy Druijf"
          ],
          [
           "Shahruddin Magomedaliyev"
          ],
          [
           "Enrico Baldini"
          ],
          [
           "Ruben Bover Izquierdo"
          ],
          [
           "Ravil Tagir"
          ],
          [
           "Daniel Gómez Alcón"
          ],
          [
           "Souleyman Doumbia"
          ],
          [
           "Jordan Tell"
          ],
          [
           "Giorgio Cittadini"
          ],
          [
           "Hélder José Oliveira Sá"
          ],
          [
           "Borja González Tomás"
          ],
          [
           "Luca Moro"
          ],
          [
           "Reece James"
          ],
          [
           "Márton Dárdai"
          ],
          [
           "Luka Bogdan"
          ],
          [
           "Mohamed Bamba"
          ],
          [
           "Ygor Nogueira de Paula"
          ],
          [
           "Harrison Clarke"
          ],
          [
           "Raffaele Pucino"
          ],
          [
           "Diego García Campos"
          ],
          [
           "Gaby Jean"
          ],
          [
           "Victor Jörgen Nilsson Lindelöf"
          ],
          [
           "Sokol Çikalleshi"
          ],
          [
           "Thibault Campanini"
          ],
          [
           "Joshua Myles Abraham Key"
          ],
          [
           "Kevin Strootman"
          ],
          [
           "Alessandro Livieri"
          ],
          [
           "Danny Ward"
          ],
          [
           "Çağlar Söyüncü"
          ],
          [
           "Junior Mwanga"
          ],
          [
           "Gregorio Luperini"
          ],
          [
           "Erick Barbosa dos Santos"
          ],
          [
           "Andrew Ferai Rinomhota"
          ],
          [
           "Kofi Jeremy Amoako"
          ],
          [
           "Malick Mbaye"
          ],
          [
           "Nelson Amadin"
          ],
          [
           "Daniel Bentley"
          ],
          [
           "Jon Pacheco Dozagarat"
          ],
          [
           "Robert Dickie"
          ],
          [
           "Nassim Chadli"
          ],
          [
           "Quentin Merlin"
          ],
          [
           "Youssef Amyn"
          ],
          [
           "Lucas Höler"
          ],
          [
           "Kyle Bartley"
          ],
          [
           "Madi Monamay Nsosemo"
          ],
          [
           "Ayman Benarous"
          ],
          [
           "Moritz Römling"
          ],
          [
           "Iñigo Córdoba Querejeta"
          ],
          [
           "Miguel Gutiérrez Ortega"
          ],
          [
           "Dimitris Giannoulis"
          ],
          [
           "James Shea"
          ],
          [
           "Hugo Novoa Ramos"
          ],
          [
           "Jamal Musiala"
          ],
          [
           "Mahlon Beresford Baker Romeo"
          ],
          [
           "Sergi Cardona Bermúdez"
          ],
          [
           "Nick Fichtinger"
          ],
          [
           "Marc Cucurella Saseta"
          ],
          [
           "Branco van den Boomen"
          ],
          [
           "Matthieu Udol"
          ],
          [
           "Divin Mubama"
          ],
          [
           "Nathangelo Alexandro Markelo"
          ],
          [
           "Arthur Vermeeren"
          ],
          [
           "Joaquín Fernández Moreno"
          ],
          [
           "Rafik Belghali"
          ],
          [
           "Federico Gatti"
          ],
          [
           "Mitchell Dijks"
          ],
          [
           "Hugo Magnetti"
          ],
          [
           "Mamadou Diop"
          ],
          [
           "Muammer Sarıkaya"
          ],
          [
           "Nouha Dicko"
          ],
          [
           "Garland Gbellé"
          ],
          [
           "Maxime Jean Roberto Leverbe"
          ],
          [
           "Edin Višća"
          ],
          [
           "Bradley Barcola"
          ],
          [
           "Imanol García de Albéniz Crecente"
          ],
          [
           "Gregor Kobel"
          ],
          [
           "Avdo Spahić"
          ],
          [
           "Connal Trueman"
          ],
          [
           "Kenan Yıldız"
          ],
          [
           "Ryan Allsop"
          ],
          [
           "Aurélio Gabriel Ulineia Buta"
          ],
          [
           "Leonardo Pavoletti"
          ],
          [
           "Regan Slater"
          ],
          [
           "Trazié Thomas Zai"
          ],
          [
           "Rachid Ghezzal"
          ],
          [
           "Modibo Sagnan"
          ],
          [
           "Maxime Dominguez"
          ],
          [
           "Juan Carlos Martín Corral"
          ],
          [
           "Marvin Olawale Akinlabi Park"
          ],
          [
           "Milan Corryn"
          ],
          [
           "Frank Feller"
          ],
          [
           "Hákon Arnar Haraldsson"
          ],
          [
           "Nicolás Federico Castro"
          ],
          [
           "Nilson David Angulo Ramírez"
          ],
          [
           "Danilo D'Ambrosio"
          ],
          [
           "Israel Salazar Piriz"
          ],
          [
           "Mathías Olivera Miramontes"
          ],
          [
           "Alireza Jahanbakhsh"
          ],
          [
           "Tiago Fontoura Fonseca Morais"
          ],
          [
           "Spyros Angelidis"
          ],
          [
           "Madson de Souza Silva"
          ],
          [
           "John Stones"
          ],
          [
           "Maxime Busi"
          ],
          [
           "Khalil Fayad"
          ],
          [
           "Felipe Augusto da Silva"
          ],
          [
           "Harry Winks"
          ],
          [
           "Konrad de la Fuente"
          ],
          [
           "Daan Rots"
          ],
          [
           "Patrick Cutrone"
          ],
          [
           "Matteo Cotali"
          ],
          [
           "Tomáš Čvančara"
          ],
          [
           "Alioune Ba"
          ],
          [
           "Miguel Ángel Almirón Rejala"
          ],
          [
           "Guglielmo Vicario"
          ],
          [
           "Tjark Scheller"
          ],
          [
           "Tom Bischof"
          ],
          [
           "Jason Davidson"
          ],
          [
           "Junior Marsoni Sambu Mansoni"
          ],
          [
           "Sem Westerveld"
          ],
          [
           "Guéla Doué"
          ],
          [
           "Adrian Blake"
          ],
          [
           "Jeanuël Belocian"
          ],
          [
           "Adama Boiro"
          ],
          [
           "Bart Verbruggen"
          ],
          [
           "Boris Popovic"
          ],
          [
           "Mario Sesé Vera"
          ],
          [
           "Clément Jerome Michelin"
          ],
          [
           "Milan Smits"
          ],
          [
           "Bouna Sarr"
          ],
          [
           "Edgar Alcañiz Baldovi"
          ],
          [
           "Rigoberto Manuel Rivas Vindel"
          ],
          [
           "Lamine Fomba"
          ],
          [
           "Christopher Schindler"
          ],
          [
           "Triantafyllos Pasalidis"
          ],
          [
           "Justin-Noël Kalumba"
          ],
          [
           "Jordan Henderson"
          ],
          [
           "Gabriel Fernando de Jesus"
          ],
          [
           "Lorenzo De Silvestri"
          ],
          [
           "Edgar González Estrada"
          ],
          [
           "Marlos Moreno Durán"
          ],
          [
           "Jack Bonham"
          ],
          [
           "Cheick Oumar Konaté"
          ],
          [
           "Kenneth Aboh"
          ],
          [
           "Yohan Demoncy"
          ],
          [
           "Gerrard Buabo"
          ],
          [
           "Baye Ablaye Mbaye"
          ],
          [
           "Idrissa Gana Gueye"
          ],
          [
           "Rayan Ghrieb"
          ],
          [
           "Michael Obafemi"
          ],
          [
           "Arouna Sangante"
          ],
          [
           "Florian Bohnert"
          ],
          [
           "Luan Silva"
          ],
          [
           "Przemysław Płacheta"
          ],
          [
           "Odysseus Velanas"
          ],
          [
           "Luis Alberto Romero Alconchel"
          ],
          [
           "Peter Pekarík"
          ],
          [
           "Toni Domgjoni"
          ],
          [
           "Christian Rivera Hernández"
          ],
          [
           "Wahidullah Faghir"
          ],
          [
           "Bernardo Martins Sousa"
          ],
          [
           "Seydouba Cisse"
          ],
          [
           "Vakoun Issouf Bayo"
          ],
          [
           "Isac Alexi Sivert Lidberg"
          ],
          [
           "Stipe Perica"
          ],
          [
           "Eric Junior Bocat"
          ],
          [
           "Mario Ierardi"
          ],
          [
           "Luca Ravanelli"
          ],
          [
           "Óscar Guido Trejo"
          ],
          [
           "Alexandre Mendy"
          ],
          [
           "Kristian Pedersen"
          ],
          [
           "Jeroen Zoet"
          ],
          [
           "Johan Gastien"
          ],
          [
           "Claud Adjapong"
          ],
          [
           "Gustavo Enrique Giordano Amaro Assunção da Silva"
          ],
          [
           "Noah Mawene"
          ],
          [
           "Thijs Dallinga"
          ],
          [
           "Zakaria El Ouahdi"
          ],
          [
           "Alessio Zerbin"
          ],
          [
           "Alexandre Corredera Alardi"
          ],
          [
           "Dante Bonfim da Costa Santos"
          ],
          [
           "Shane Patrick Michael Duffy"
          ],
          [
           "Adrián Liso Liso Lahoz"
          ],
          [
           "Richie Omorowa"
          ],
          [
           "Divock Okoth Origi"
          ],
          [
           "Jarne Steuckers"
          ],
          [
           "Florian Miguel"
          ],
          [
           "Anis Mehmeti"
          ],
          [
           "Thomas Lemar"
          ],
          [
           "Brooke Norton-Cuffy"
          ],
          [
           "Miguel Rodríguez Vidal"
          ],
          [
           "Bruno Oliveira Bertinato"
          ],
          [
           "Mehdi Chahiri"
          ],
          [
           "Yaw Moses"
          ],
          [
           "Carl Rushworth"
          ],
          [
           "Taylor Moore"
          ],
          [
           "Manuel Obafemi Akanji"
          ],
          [
           "Kangni Frederic Ananou"
          ],
          [
           "Francesco Di Tacchio"
          ],
          [
           "Ali Fadal"
          ],
          [
           "Robert Leipertz"
          ],
          [
           "Jeffrey Gouweleeuw"
          ],
          [
           "Francisco Barbosa Vieites"
          ],
          [
           "Maxence Lacroix"
          ],
          [
           "Marcel Łubik"
          ],
          [
           "황의조 Ui Jo Hwang"
          ],
          [
           "David Torres Ortiz"
          ],
          [
           "Pedro Ortiz Bernat"
          ],
          [
           "シュミット・ダニエル"
          ],
          [
           "Joe Bryan"
          ],
          [
           "Arsène Courel"
          ],
          [
           "Noussair Mazraoui"
          ],
          [
           "Florent Muslija"
          ],
          [
           "Jhafets Christ Dick Reyes"
          ],
          [
           "Vincent Gembalies"
          ],
          [
           "Ricardo Daniel Pepi"
          ],
          [
           "Berkay Aydoğmuş"
          ],
          [
           "Jay den Haan"
          ],
          [
           "Francisco Javier Montero Rubio"
          ],
          [
           "Samuele Birindelli"
          ],
          [
           "Stefano Turati"
          ],
          [
           "Lucas Pires Silva"
          ],
          [
           "Mario Pašalić"
          ],
          [
           "Benedikt Gimber"
          ],
          [
           "Ogün Özçiçek"
          ],
          [
           "Thomas Glyn Doyle"
          ],
          [
           "Lucas François Bernard Hernández Pi"
          ],
          [
           "Marcel Beifus"
          ],
          [
           "Johann Serge Obiang"
          ],
          [
           "Hugo Sotelo Gómez"
          ],
          [
           "Mouhamadou Diarra"
          ],
          [
           "Aurélien Scheidler"
          ],
          [
           "Evan Ferguson"
          ],
          [
           "D'Leanu Arts"
          ],
          [
           "Luca Jannis Kilian"
          ],
          [
           "Bas Edo Kuipers"
          ],
          [
           "Marcos Sánchez Arriero"
          ],
          [
           "Massimo Coda"
          ],
          [
           "David Morillas Jiménez"
          ],
          [
           "Ibrahim Maza"
          ],
          [
           "Andrea Bertolacci"
          ],
          [
           "José Ignacio Fernández Iglesias"
          ],
          [
           "Bradley Stretton"
          ],
          [
           "Thomas Foket"
          ],
          [
           "Bachirou Yameogo"
          ],
          [
           "Jesse Bal"
          ],
          [
           "Luis Ezequiel Ávila"
          ],
          [
           "Illan Meslier"
          ],
          [
           "Kevin Miranda"
          ],
          [
           "Allan Linguet"
          ],
          [
           "Kevin Kraus"
          ],
          [
           "Elvis Rexhbeçaj"
          ],
          [
           "Cam Bragg"
          ],
          [
           "Jason Eyenga-Lokilo"
          ],
          [
           "Kenny Lala"
          ],
          [
           "Antonio Rüdiger"
          ],
          [
           "Iwo Kaczmarski"
          ],
          [
           "Francesco Caputo"
          ],
          [
           "Iván Chapela López"
          ],
          [
           "Stefan Leković"
          ],
          [
           "Godfried Roemeratoe"
          ],
          [
           "Jérémie Boga"
          ],
          [
           "Julian Jeanvier"
          ],
          [
           "Dominic Solanke"
          ],
          [
           "Quentin Braat"
          ],
          [
           "Bilal Brahimi"
          ],
          [
           "Jean-Luc Mamadou Diarra Dompé"
          ],
          [
           "Pedro Gastón Álvarez Sosa"
          ],
          [
           "Phillip Tietz"
          ],
          [
           "José Andrés Rodriguez Gaitán"
          ],
          [
           "Germán Sánchez Barahona"
          ],
          [
           "Yáser Asprilla Martínez"
          ],
          [
           "Brandon Soppy"
          ],
          [
           "Timo Baumgartl"
          ],
          [
           "Vedat Karakuş"
          ],
          [
           "Warren Tchimbembé"
          ],
          [
           "Asmir Begović"
          ],
          [
           "Michele Collocolo"
          ],
          [
           "Onur Bulut"
          ],
          [
           "Jubal Rocha Mendes Júnior"
          ],
          [
           "Mamadou Camara"
          ],
          [
           "Miguel Muñoz Mora"
          ],
          [
           "Nikola Vlašić"
          ],
          [
           "Reece Burke"
          ],
          [
           "Tomás Mejías Osorio"
          ],
          [
           "Ayotomiwa Dele-Bashiru"
          ],
          [
           "Jean Romaric Kevin Koffi"
          ],
          [
           "Ahmet Ege Gürleyen"
          ],
          [
           "Giacomo Raspadori"
          ],
          [
           "José León Bernal"
          ],
          [
           "Rolando Mandragora"
          ],
          [
           "Dirk Asare"
          ],
          [
           "Marc Jurado Gómez"
          ],
          [
           "Saba Sazonov"
          ],
          [
           "Famara Diédhiou"
          ],
          [
           "Bruno Lourenço Pinto de Almeida Paz"
          ],
          [
           "Nikola Krstović"
          ],
          [
           "Jesurun Rak-Sakyi"
          ],
          [
           "Andrea Cagnano"
          ],
          [
           "Lucas Vennegoor of Hess."
          ],
          [
           "David López Silva"
          ],
          [
           "Antoni-Djibu Milambo"
          ],
          [
           "Iker Undabarrena Martínez"
          ],
          [
           "Antoine Semenyo"
          ],
          [
           "Armando Broja"
          ],
          [
           "Tobias Kempe"
          ],
          [
           "Valerio Mantovani"
          ],
          [
           "Danel Sinani"
          ],
          [
           "Mexx Meerdink"
          ],
          [
           "Miquel Parera Pizá"
          ],
          [
           "Manuel Marras"
          ],
          [
           "Filip Wojciech Jagiełło"
          ],
          [
           "Alejandro Iturbe Encabo"
          ],
          [
           "Mateo Kovačić"
          ],
          [
           "Sergio Lozano Lluch"
          ],
          [
           "Sergio Camello Pérez"
          ],
          [
           "Silvio Merkaj"
          ],
          [
           "Dilan Kumar Markanday"
          ],
          [
           "Yasser Baldé"
          ],
          [
           "Moussa Sissoko"
          ],
          [
           "Zak Vyner"
          ],
          [
           "Yann Sommer"
          ],
          [
           "Hervé Kouakou Koffi"
          ],
          [
           "Alin Vasilică Șerban"
          ],
          [
           "Darlin Zidane Yongwa Ngameni"
          ],
          [
           "Jimmy Dunne"
          ],
          [
           "Vic Chambaere"
          ],
          [
           "Xavier Laglais Kouassi"
          ],
          [
           "Yassine Haouari"
          ],
          [
           "Noah Engelbreth"
          ],
          [
           "Nicolas Oliveira Kisilowski"
          ],
          [
           "Henri Salomaa"
          ],
          [
           "Jay Idzes"
          ],
          [
           "Simone Pozzato"
          ],
          [
           "Raúl Fernández-Cavada Mateos"
          ],
          [
           "Thomas Buitink"
          ],
          [
           "Valentino Livramento"
          ],
          [
           "守田 英正"
          ],
          [
           "Harouna Sy"
          ],
          [
           "Yann Yves Laurent Bodiger"
          ],
          [
           "Yunus Mallı"
          ],
          [
           "Joël Schingtienne"
          ],
          [
           "Vital Manuel N"
          ],
          [
           "Lorenzo Lucchesi"
          ],
          [
           "Bruno Xavier Almeida Costa"
          ],
          [
           "Nicola Rauti"
          ],
          [
           "Nicolas De Préville"
          ],
          [
           "Gabriele Piccinini"
          ],
          [
           "Adil Aouchiche"
          ],
          [
           "Martin Erlić"
          ],
          [
           "Ferran Jutglà Blanch"
          ],
          [
           "Christian Fassnacht"
          ],
          [
           "Niklas Niehoff"
          ],
          [
           "Simon Walde"
          ],
          [
           "Papiss Mison Djilobodji"
          ],
          [
           "Vito Mannone"
          ],
          [
           "Mustafa Kapı"
          ],
          [
           "Falaye Sacko"
          ],
          [
           "Piero Martín Hincapié Reyna"
          ],
          [
           "Gédéon Kalulu Kyatengwa"
          ],
          [
           "Felix Passlack"
          ],
          [
           "Garang Kuol"
          ],
          [
           "Rafael Sousa Gancho Brito"
          ],
          [
           "Antonio Mirante"
          ],
          [
           "Ricardo Domingos Barbosa Pereira"
          ],
          [
           "Amadou Keita"
          ],
          [
           "Alessandro Micai"
          ],
          [
           "Ömer Toprak"
          ],
          [
           "Samuel Loureiro Carvalho Justo"
          ],
          [
           "Damian van der Haar"
          ],
          [
           "Agustín Martegani"
          ],
          [
           "Felix Platte"
          ],
          [
           "Joseph Boyamba"
          ],
          [
           "Iké Dominique Ugbo"
          ],
          [
           "Maxime Kali Wenssens"
          ],
          [
           "Christian Borrego Isabel"
          ],
          [
           "Unai Marino Alkorta"
          ],
          [
           "Gustavo H. Alves Rodrigues"
          ],
          [
           "Nader El-Jindaoui"
          ],
          [
           "Gavin Okeroghene Bazunu"
          ],
          [
           "Oriol Romeu Vidal"
          ],
          [
           "Ibrahim Sissoko"
          ],
          [
           "Ørjan Håskjold Nyland"
          ],
          [
           "Tayo Adaramola"
          ],
          [
           "José Luis Muñoz León"
          ],
          [
           "Mathias Oyewusi"
          ],
          [
           "Alfons Sampsted"
          ],
          [
           "Abel Ruiz Ortega"
          ],
          [
           "Marcus Lilian Thuram-Ulien"
          ],
          [
           "Antonio Pergreffi"
          ],
          [
           "Sergio Cubero Ezcurra"
          ],
          [
           "Berkay Sülüngöz"
          ],
          [
           "Marcos André de Sousa Mendonça"
          ],
          [
           "Sébastien Bruzzese"
          ],
          [
           "Mohamed El Arouch"
          ],
          [
           "Rúben Ismael Valente Ramos"
          ],
          [
           "Lucas Perrin"
          ],
          [
           "Levi Samuels Colwill"
          ],
          [
           "Iver Tobias Rørvik Fossum"
          ],
          [
           "Cameron Lisceous Humphreys-Grant"
          ],
          [
           "Luis Ismael Vázquez"
          ],
          [
           "João Miguel Vieira Freitas Silva Marques"
          ],
          [
           "Miguel Loureiro Ameijenda"
          ],
          [
           "Logan Costa"
          ],
          [
           "Kyliane Dong"
          ],
          [
           "Joel Julius Ilmari Pohjanpalo"
          ],
          [
           "Luis Dettling"
          ],
          [
           "Julien Le Cardinal"
          ],
          [
           "Mihajlo Ilić"
          ],
          [
           "Kasper Dolberg Rasmussen"
          ],
          [
           "Charles Boli"
          ],
          [
           "Isak Hien"
          ],
          [
           "Estéban Lepaul"
          ],
          [
           "Borja Garcés Moreno"
          ],
          [
           "Nicolas Pépé"
          ],
          [
           "Ryan Andrews"
          ],
          [
           "Ben Knight"
          ],
          [
           "Eddie Anthony Salcedo Mora"
          ],
          [
           "Jaume Albert Cuéllar Mendoza"
          ],
          [
           "Lenny Pirringuel"
          ],
          [
           "Álvaro Killane Giardini"
          ],
          [
           "Ethan Shea Horvath"
          ],
          [
           "Siebe Horemans"
          ],
          [
           "Riad Nouri"
          ],
          [
           "Andy Joseph Pelmard"
          ],
          [
           "Ylies Aradj"
          ],
          [
           "Ángel Fortuño Viñas"
          ],
          [
           "Sam Proctor"
          ],
          [
           "Loris Mouyokolo"
          ],
          [
           "Antonio José Raíllo Arenas"
          ],
          [
           "Mohamed Airam Ramos Wade"
          ],
          [
           "Sergi Darder Moll"
          ],
          [
           "Michael Langer"
          ],
          [
           "Sabin Merino Zuloaga"
          ],
          [
           "Immanuël-Johannes Pherai"
          ],
          [
           "Francesco D'Alessio"
          ],
          [
           "Thomas Lam"
          ],
          [
           "Tyrell Sellars-Fleming"
          ],
          [
           "Furkan Onur Akyüz"
          ],
          [
           "Andries Noppert"
          ],
          [
           "László Bénes"
          ],
          [
           "Mike van Duinen"
          ],
          [
           "Ignacio De Arruabarrena Fernández"
          ],
          [
           "Francisco Andrés Sierralta Carvallo"
          ],
          [
           "Mücahit Serbest"
          ],
          [
           "Florian Tardieu"
          ],
          [
           "Rui Tiago Dantas da Silva"
          ],
          [
           "Álvaro Sanz Catalán"
          ],
          [
           "Didier Lamkel Zé"
          ],
          [
           "Sven Botman"
          ],
          [
           "三笘 薫"
          ],
          [
           "Mousa Mohammad Mousa Sulaiman Al-Tamari"
          ],
          [
           "Alejandro San Cristóbal"
          ],
          [
           "Gerard Deulofeu Lázaro"
          ],
          [
           "Alessandro Salvi"
          ],
          [
           "Wesley Nathan Hylton Harding"
          ],
          [
           "Alexis Laurent Patrice Roge Flips"
          ],
          [
           "Denis Mihai Drăguş"
          ],
          [
           "Samuel Peter Barnes"
          ],
          [
           "Efe Tecimer"
          ],
          [
           "Diego González Cabanes"
          ],
          [
           "Jakub Stolarczyk"
          ],
          [
           "Joseph Nonge"
          ],
          [
           "Nuno Miguel da Costa Jóia"
          ],
          [
           "Andreas Voglsammer"
          ],
          [
           "Roman Květ"
          ],
          [
           "José Alejandro Martín Valerón"
          ],
          [
           "Bünyamin Balcı"
          ],
          [
           "Pedro Miguel Santos Amador"
          ],
          [
           "David Turnbull"
          ],
          [
           "Alper Uludağ"
          ],
          [
           "Jorge Benito de Valle"
          ],
          [
           "Amadou Sagna"
          ],
          [
           "Jules Gaudin"
          ],
          [
           "Alberth Josué Elis Martínez"
          ],
          [
           "Juan Antonio Iglesias Sánchez"
          ],
          [
           "Cristian Darío Álvarez"
          ],
          [
           "Pablo Paulino Rosario"
          ],
          [
           "Afonso Manuel Abreu de Freitas"
          ],
          [
           "Tom van de Looi"
          ],
          [
           "Giorgos Kyriakopoulos"
          ],
          [
           "Paul Nardi"
          ],
          [
           "Róbert Boženík"
          ],
          [
           "Danilo Cataldi"
          ],
          [
           "Mark Gillespie"
          ],
          [
           "Lukas Schleimer"
          ],
          [
           "Audenirton Soares da Silva"
          ],
          [
           "Yohan Roche"
          ],
          [
           "Sadibou Sané"
          ],
          [
           "Pedro Lomba Neto"
          ],
          [
           "Dean Henderson"
          ],
          [
           "Mateus Quaresma Correia"
          ],
          [
           "Philipp Pentke"
          ],
          [
           "Stephen Antunes Eustáquio"
          ],
          [
           "Yanis Rahmani Cordeiro"
          ],
          [
           "Jorge Karseladze"
          ],
          [
           "Jannis Heuer"
          ],
          [
           "Anderson-Lenda Lucoqui"
          ],
          [
           "Alessandro Caporale"
          ],
          [
           "Nordine Kandil"
          ],
          [
           "Cheikh Ahmadou Bamba Mbacke Dieng"
          ],
          [
           "Stéphane Imad Diarra"
          ],
          [
           "Vicente Guaita Panadero"
          ],
          [
           "Kristian Nökkvi Hlynsson"
          ],
          [
           "Luigi Pellegrini"
          ],
          [
           "Muhammet Ali Özbaskıcı"
          ],
          [
           "Romain Del Castillo"
          ],
          [
           "Jean Zimmer"
          ],
          [
           "Florian Thomas Danho"
          ],
          [
           "Isaac Palazón Camacho"
          ],
          [
           "Wladimiro Falcone"
          ],
          [
           "Ricardo Rodríguez Gil Carcedo"
          ],
          [
           "Luca Daniel de la Torre"
          ],
          [
           "Tarık Çetin"
          ],
          [
           "Alan Gonzalo Varela"
          ],
          [
           "Filip Bilbija"
          ],
          [
           "Haris Hajradinović"
          ],
          [
           "Tyler Shaan Adams"
          ],
          [
           "伊藤 涼太郎"
          ],
          [
           "Dean Ruben James"
          ],
          [
           "Diadié Samassékou"
          ],
          [
           "Stije Resink"
          ],
          [
           "Jose María Saldaña Baeza"
          ],
          [
           "Horaţiu Alexandru Moldovan"
          ],
          [
           "Jimmy Cabot"
          ],
          [
           "Luís Miguel Castelo Santos"
          ],
          [
           "Nick Pope"
          ],
          [
           "Dave Kwakman"
          ],
          [
           "Nazariy Rusyn"
          ],
          [
           "Gökhan Gül"
          ],
          [
           "Hugo Bueno López"
          ],
          [
           "Brajan Gruda"
          ],
          [
           "Kağan Moradaoğlu"
          ],
          [
           "Theodor Alexander Corbeanu"
          ],
          [
           "Selvi Clua Oya"
          ],
          [
           "Gustav Christensen"
          ],
          [
           "Kevin Martin Krygård"
          ],
          [
           "Ivan Ilić"
          ],
          [
           "Kamil Piątkowski"
          ],
          [
           "Djordjije Medenica"
          ],
          [
           "Hans Hateboer"
          ],
          [
           "Mattia Tonetto"
          ],
          [
           "Simon Rhein"
          ],
          [
           "Kalidou Sidibé"
          ],
          [
           "Brian Alexis Ocampo Ferreira"
          ],
          [
           "Damián Cáceres Rodríguez"
          ],
          [
           "Patrick Herrmann"
          ],
          [
           "Iván Calero Ruiz"
          ],
          [
           "Mert Kömür"
          ],
          [
           "Lorenzo Di Stefano"
          ],
          [
           "Filippo Romagna"
          ],
          [
           "Manolo Portanova"
          ],
          [
           "Tyler Roberts"
          ],
          [
           "Joe Rothwell"
          ],
          [
           "Mark Travers"
          ],
          [
           "Flávio Basilua Jacinto Nazinho"
          ],
          [
           "Benji Michel"
          ],
          [
           "Théo Barbet"
          ],
          [
           "Luca Maniero"
          ],
          [
           "Julien Fontaine Ngoy Bin Cibambi"
          ],
          [
           "Kalifa Coulibaly"
          ],
          [
           "Cláudio Winck Neto"
          ],
          [
           "Lucas Ariel Ocampos"
          ],
          [
           "Patrick Vroegh"
          ],
          [
           "Borja Mayoral Moya"
          ],
          [
           "Tan Kenneth Jerico Schmidt"
          ],
          [
           "Alessandro Sorrentino"
          ],
          [
           "Reno Münz"
          ],
          [
           "Thomas Dickson-Peters"
          ],
          [
           "Sergio Postigo Redondo"
          ],
          [
           "Pietro Pellegri"
          ],
          [
           "Oliver Hüsing"
          ],
          [
           "Neal Maupay"
          ],
          [
           "Joseph Oluwaseyi Temitope Ayodele-Aribo"
          ],
          [
           "Lenny Vallier"
          ],
          [
           "Matteo Grandi"
          ],
          [
           "Cristian Daniel Ansaldi"
          ],
          [
           "Calvin Marc Brackelmann"
          ],
          [
           "Tom Lees"
          ],
          [
           "Alexandre Lacazette"
          ],
          [
           "Anastasios Chatzigiovanis"
          ],
          [
           "Youssef Aït Bennasser"
          ],
          [
           "Franck Surdez"
          ],
          [
           "Ali Ibrahim Karim Ali Al-Hamadi"
          ],
          [
           "Max Herrmann"
          ],
          [
           "Andrea Sala"
          ],
          [
           "Fabian de Keijzer"
          ],
          [
           "Mattias Olof Svanberg"
          ],
          [
           "Vinicius Silvestre da Costa"
          ],
          [
           "Isaak Davies"
          ],
          [
           "Kamarai Simon-Swyer"
          ],
          [
           "Stanislav Kritsyuk"
          ],
          [
           "José Luís Mendes Andrade"
          ],
          [
           "Papa Amadou Diallo"
          ],
          [
           "Bahadır Han Güngördü"
          ],
          [
           "Shea Charles"
          ],
          [
           "Hugo Duro Perales"
          ],
          [
           "Yerson Mosquera Valdelamar"
          ],
          [
           "Javier Castro Urdín"
          ],
          [
           "Rafael Tolói"
          ],
          [
           "Nicolas N'Koulou"
          ],
          [
           "Domingos André Ribeiro Almeida"
          ],
          [
           "Marcelino Ignacio Nuñez Espinoza"
          ],
          [
           "Billy Gilmour"
          ],
          [
           "Rafael Obrador Burguera"
          ],
          [
           "Mads Frøkjær-Jensen"
          ],
          [
           "Karlo Lulić"
          ],
          [
           "Lucas Tolentino Coelho de Lima"
          ],
          [
           "Nicolás González Iglesias"
          ],
          [
           "Roberto Insigne"
          ],
          [
           "Andreas Müller"
          ],
          [
           "Júlio Augusto Dabó"
          ],
          [
           "Ahmed Musa"
          ],
          [
           "Quinten Ryan Crispito Timber"
          ],
          [
           "Micah Hamilton"
          ],
          [
           "Mike Hauptmeijer"
          ],
          [
           "Bram van Polen"
          ],
          [
           "Valentin André Henri Rosier"
          ],
          [
           "Paweł Marek Dawidowicz"
          ],
          [
           "Manfredi Nespola"
          ],
          [
           "本間 至恩"
          ],
          [
           "Jorge Pascual Medina"
          ],
          [
           "Jens Dalsgaard Stage"
          ],
          [
           "Myles Lewis-Skelly"
          ],
          [
           "Ismail Achik"
          ],
          [
           "Abat Aymbetov"
          ],
          [
           "Yannik Bangsow"
          ],
          [
           "Hubert Dawid Idasiak"
          ],
          [
           "Luke McNally"
          ],
          [
           "Timothy Chandler"
          ],
          [
           "Carlo Johan Holse Justesen"
          ],
          [
           "Roberto Maximiliano Pereyra"
          ],
          [
           "Pablo Íñiguez de Heredia Larraz"
          ],
          [
           "Mateusz Łęgowski"
          ],
          [
           "Benson Manuel Hedilazio"
          ],
          [
           "Maximilian Beier"
          ],
          [
           "Morgan Guilavogui"
          ],
          [
           "Jovan Manev"
          ],
          [
           "Arnaud Lusamba"
          ],
          [
           "Logan Delaurier-Chaubet"
          ],
          [
           "Filippo Veneran"
          ],
          [
           "Givairo Read"
          ],
          [
           "Kazımcan Karataş"
          ],
          [
           "Nachon Nsingi"
          ],
          [
           "Leo Greiml"
          ],
          [
           "Evan Eghosa"
          ],
          [
           "Yannik Keitel"
          ],
          [
           "Yassine Kechta"
          ],
          [
           "Jamiro Gregory Monteiro Alvarenga"
          ],
          [
           "Samuel Bamba"
          ],
          [
           "Kouassi Ryan Sessegnon"
          ],
          [
           "Elias Cobbaut"
          ],
          [
           "Domilson Cordeiro dos Santos"
          ],
          [
           "Nathan Wood-Gordon"
          ],
          [
           "Gabriel Slonina"
          ],
          [
           "Fernando Pérez Morillo"
          ],
          [
           "Aitor Ruibal García"
          ],
          [
           "Halid Šabanović"
          ],
          [
           "Can Keleş"
          ],
          [
           "Emir Karic"
          ],
          [
           "Hamjatou Soukouna"
          ],
          [
           "Vivaldo Leandro Semedo Moura Sousa"
          ],
          [
           "Jules Olivier Ntcham"
          ],
          [
           "Cristiano Biraghi"
          ],
          [
           "Andrew Robertson"
          ],
          [
           "Serif Nhaga"
          ],
          [
           "Dean Huijsen"
          ],
          [
           "Carlos Dominguez Cáceres"
          ],
          [
           "Gianfranco Gazzaniga Farías"
          ],
          [
           "Benjamin Chrisene"
          ],
          [
           "Mark Flekken"
          ],
          [
           "Víctor Wehbi Aznar Ussen"
          ],
          [
           "Rodrygo Silva de Goes"
          ],
          [
           "Riccardo Calafiori"
          ],
          [
           "Alaaddin Okumuş"
          ],
          [
           "Maximilian Wöber"
          ],
          [
           "Thomas Goiginger"
          ],
          [
           "Francisco Femenía Far"
          ],
          [
           "Milan Đurić"
          ],
          [
           "Liam Kelly"
          ],
          [
           "Mustafa Tan"
          ],
          [
           "Ismaïla Sarr"
          ],
          [
           "David Datro Fofana"
          ],
          [
           "Daniel Olmo Carvajal"
          ],
          [
           "Jean Felipe Nogueira da Silva"
          ],
          [
           "Nikola Šipčić"
          ],
          [
           "Daniël Virginio Deen"
          ],
          [
           "Simon Graves Jensen"
          ],
          [
           "Kenny Joelle Tete"
          ],
          [
           "Ben Doak"
          ],
          [
           "Jordi Masip López"
          ],
          [
           "Karol Borys"
          ],
          [
           "Joe Johnson"
          ],
          [
           "Miguel Filipe Nunes Cardoso"
          ],
          [
           "Valentin Henry"
          ],
          [
           "Noel Futkeu"
          ],
          [
           "Francisco Jesús Crespo García"
          ],
          [
           "Alberto Hórreo Taveras"
          ],
          [
           "Sergi Gómez Solà"
          ],
          [
           "Jean-Ricner Bellegarde"
          ],
          [
           "Côme Bianay Balcot"
          ],
          [
           "Johannes Dörfler"
          ],
          [
           "Gonzalo Aguilar López"
          ],
          [
           "Kianz González-Froese"
          ],
          [
           "Ivan Prtajin"
          ],
          [
           "Salis Abdul Samed"
          ],
          [
           "Abdul Fatawu Issahaku"
          ],
          [
           "Paulo Dino Gazzaniga"
          ],
          [
           "Laureano Antonio Villa Suárez"
          ],
          [
           "アペルカンプ 真大 カール"
          ],
          [
           "Andrea Danzi"
          ],
          [
           "Mark Alexander McKenzie"
          ],
          [
           "Craig Dawson"
          ],
          [
           "Moussa Cissé"
          ],
          [
           "Robin Fellhauer"
          ],
          [
           "Marco van Ginkel"
          ],
          [
           "Finn Jeltsch"
          ],
          [
           "Ridgeciano Delano Haps"
          ],
          [
           "Gilberto Dambi Batista"
          ],
          [
           "Benjamin Bouchouari"
          ],
          [
           "Lionel Mpasi-Nzau"
          ],
          [
           "Kieffer Roberto Francisco Moore"
          ],
          [
           "Leonardo Bonucci"
          ],
          [
           "Antoine Joujou"
          ],
          [
           "William Anthony Patrick Smallbone"
          ],
          [
           "Salomon Abergel"
          ],
          [
           "Soufiane Bidaoui"
          ],
          [
           "Fabian Tait"
          ],
          [
           "Fabio Cristian Chiarodia"
          ],
          [
           "Nathan Michael Collins"
          ],
          [
           "Shane Kevin Ferguson"
          ],
          [
           "Antonio-Mirko Čolak"
          ],
          [
           "Daniel Esmorís Tasende"
          ],
          [
           "Garissone Innocent"
          ],
          [
           "Lucas Cañizares Conchello"
          ],
          [
           "Soner Gönül"
          ],
          [
           "Jacques Ekomié"
          ],
          [
           "Rayyan Baniya"
          ],
          [
           "Andreas Schjølberg Hanche-Olsen"
          ],
          [
           "Romelu Lukaku Menama"
          ],
          [
           "Víctor Andrés Meseguer Cavas"
          ],
          [
           "David Olatukunbo Alaba"
          ],
          [
           "Dimitrios Kourmpelis"
          ],
          [
           "Reinildo Isnard Mandava"
          ],
          [
           "Saad Agouzoul"
          ],
          [
           "Gleison Bremer Silva Nascimento"
          ],
          [
           "Yira Collins Sor"
          ],
          [
           "Hernâni Infande Tchuda da Silva"
          ],
          [
           "Victor Christoffer Jensen"
          ],
          [
           "Ezechiel Fiemawhle"
          ],
          [
           "Iker Muñoz Cameros"
          ],
          [
           "Mory Gbane"
          ],
          [
           "Fidel Chaves de la Torre"
          ],
          [
           "Bryan Lasme"
          ],
          [
           "Tiemoué Bakayoko"
          ],
          [
           "Hamari Traoré"
          ],
          [
           "Žan Rogelj"
          ],
          [
           "Daniel Heuer Fernandes"
          ],
          [
           "Karim-David Adeyemi"
          ],
          [
           "Niccolò Pisilli"
          ],
          [
           "室屋 成"
          ],
          [
           "Raphaël Eyongo"
          ],
          [
           "Fermín López Marín"
          ],
          [
           "Gerónimo Rulli"
          ],
          [
           "Pierre Patron"
          ],
          [
           "Nathaniel Brown"
          ],
          [
           "Andrea Cecchetto"
          ],
          [
           "Hamdi Akujobi"
          ],
          [
           "Kaide Gordon"
          ],
          [
           "Raúl Parra Artal"
          ],
          [
           "Charilaos Charisis"
          ],
          [
           "Joel Leandro Ordóñez Guerrero"
          ],
          [
           "Jorge Mier Martínez"
          ],
          [
           "Kevin Vogt"
          ],
          [
           "Christopher Antwi-Adjei"
          ],
          [
           "Ludovic Blas"
          ],
          [
           "Daniel Parejo Muñoz"
          ],
          [
           "Chiedozie Ogbene"
          ],
          [
           "Juan Gutiérrez Martínez"
          ],
          [
           "Gonzalo Villar del Fraile"
          ],
          [
           "Håvard Kallevik Nielsen"
          ],
          [
           "Vasilis Cornelius Barkas"
          ],
          [
           "Tomáš Kalas"
          ],
          [
           "Fredrik Oppegård"
          ],
          [
           "Grejohn Kyei"
          ],
          [
           "Ahmed Kashi"
          ],
          [
           "Achraf Laâziri"
          ],
          [
           "Riccardo Orsolini"
          ],
          [
           "Leopold Wahlstedt"
          ],
          [
           "Juan Antonio Delgado Baeza"
          ],
          [
           "Yunus Emre Konak"
          ],
          [
           "Alexander Hartmann Bah"
          ],
          [
           "Nahuel Noll"
          ],
          [
           "Samuel John Bell"
          ],
          [
           "Memphis Depay"
          ],
          [
           "Johny Placide"
          ],
          [
           "Deivid W. de Souza Eugênio"
          ],
          [
           "Paul Seguin"
          ],
          [
           "Harry Leonard"
          ],
          [
           "Cauley Woodrow"
          ],
          [
           "André de Castro Pereira"
          ],
          [
           "Mattia Caldara"
          ],
          [
           "Robson Alves de Barros"
          ],
          [
           "Sergio Arribas Prieto"
          ],
          [
           "Nicolò Casale"
          ],
          [
           "Dominic Calvert-Lewin"
          ],
          [
           "Mamadou Diakhon"
          ],
          [
           "Lukas Kunze"
          ],
          [
           "Bart Vriends"
          ],
          [
           "Emmanuel Kouadio Koné"
          ],
          [
           "Lucas Buades"
          ],
          [
           "Ousmane Diomande"
          ],
          [
           "Alessandro Pilati"
          ],
          [
           "Davide Balestrero"
          ],
          [
           "Lorenzo Venuti"
          ],
          [
           "Vetle Winger Dragsnes"
          ],
          [
           "Mohamed Naser Elsayed Elneny"
          ],
          [
           "Alexander Isak"
          ],
          [
           "Rikelmi Valentim dos Santos"
          ],
          [
           "Christiaan Ravych"
          ],
          [
           "Faïz Mattoir"
          ],
          [
           "Ragnar Oratmangoen"
          ],
          [
           "Petko Hristov"
          ],
          [
           "Bryan Blanco"
          ],
          [
           "Héctor Junior Firpo Adamés"
          ],
          [
           "Stefan de Vrij"
          ],
          [
           "Tymoteusz Puchacz"
          ],
          [
           "Rune Paeshuyse"
          ],
          [
           "Filippo Lorenzo Sgarbi"
          ],
          [
           "Stanislav Lobotka"
          ],
          [
           "Alejandro Baena Rodríguez"
          ],
          [
           "Joe White"
          ],
          [
           "Benjamin Lhassine Kone"
          ],
          [
           "Filippo Distefano"
          ],
          [
           "Bingourou Kamara"
          ],
          [
           "Gnantin Yann Gboho"
          ],
          [
           "Milos Kerkez"
          ],
          [
           "Nuno Miguel Gomes dos Santos"
          ],
          [
           "Jan Hendrik Marx"
          ],
          [
           "Alen Halilović"
          ],
          [
           "Cristian Ioan Ponde"
          ],
          [
           "Philippe Paulin Keny"
          ],
          [
           "Jannik Huth"
          ],
          [
           "Nuno Miguel Reis Lima"
          ],
          [
           "Omar Haktab Traoré"
          ],
          [
           "Iván Azón Monzón"
          ],
          [
           "Wilfried Stephane Singo"
          ],
          [
           "Luca Everink"
          ],
          [
           "Martín Zubimendi Ibáñez"
          ],
          [
           "Aleksandar Radovanović"
          ],
          [
           "Wesley Theodorus Hoedt"
          ],
          [
           "Jérémy Sebas"
          ],
          [
           "Cristian Esteban Gamboa Luna"
          ],
          [
           "Harvey Wiles-Richards"
          ],
          [
           "Airam Guzmán Castillo"
          ],
          [
           "Felipe Nicolás Avenatti Dovillabichus"
          ],
          [
           "Javier Sola Gascón"
          ],
          [
           "Kaan Ayhan"
          ],
          [
           "Tijjani Reijnders"
          ],
          [
           "Jayson Patrick Molumby"
          ],
          [
           "George Earthy"
          ],
          [
           "Antonio Zarzana Pérez"
          ],
          [
           "Okan Kocuk"
          ],
          [
           "Raúl De Tomás Gómez"
          ],
          [
           "Alessandro Vogliacco"
          ],
          [
           "Serkan Asan"
          ],
          [
           "Valentin Jacob"
          ],
          [
           "Francesco Ruberto"
          ],
          [
           "Elio Capradossi"
          ],
          [
           "Timo Becker"
          ],
          [
           "Doğukan Sinik"
          ],
          [
           "Delano Burgzorg"
          ],
          [
           "Niels Patrick Nkounkou"
          ],
          [
           "Tjaš Begić"
          ],
          [
           "Jasper Samooja"
          ],
          [
           "Brian Jepthe Bayeye"
          ],
          [
           "Xavier Quintillà Guasch"
          ],
          [
           "Harvey Lewis Barnes"
          ],
          [
           "Tristan Degreef"
          ],
          [
           "ルシアン リトバルスキー"
          ],
          [
           "Gernot Trauner"
          ],
          [
           "Abdul Manaf Nurudeen"
          ],
          [
           "Borja Iglesias Quintás"
          ],
          [
           "Samuel Obeng Gyabaa"
          ],
          [
           "Erdal Rakip"
          ],
          [
           "Jake Clarke-Salter"
          ],
          [
           "Benjamin Luke Woodburn"
          ],
          [
           "Omari Kellyman"
          ],
          [
           "Jonathan Howson"
          ],
          [
           "Pieter Gerkens"
          ],
          [
           "Alistair Edward McCann"
          ],
          [
           "Pablo Pérez Rico"
          ],
          [
           "Kaj de Rooij"
          ],
          [
           "İlkay Gündoğan"
          ],
          [
           "Wissam Ben Yedder"
          ],
          [
           "Ihlas Bebou"
          ],
          [
           "Can Bozdoğan"
          ],
          [
           "Syam Habib Ben Youssef"
          ],
          [
           "Michaël Bruno Dominique Cuisance"
          ],
          [
           "Onel Lázaro Hernández Mayea"
          ],
          [
           "Jorge Cuenca Barreno"
          ],
          [
           "Zach Muscat"
          ],
          [
           "Viktor Tobias Johansson"
          ],
          [
           "Paulo Bruno Exequiel Dybala"
          ],
          [
           "Gustavo Marques A. Santos"
          ],
          [
           "Adam Mayor"
          ],
          [
           "Ross Barkley"
          ],
          [
           "Rodrigo Mendoza Martinez"
          ],
          [
           "相馬 勇紀"
          ],
          [
           "Daniel Maldini"
          ],
          [
           "Laurent Abergel"
          ],
          [
           "Oscar Uddenäs"
          ],
          [
           "Alassane Alexandre Pléa"
          ],
          [
           "Junior Castello Lukeba"
          ],
          [
           "Kevin Volland"
          ],
          [
           "Marco Friedl"
          ],
          [
           "Rubén García Santos"
          ],
          [
           "Patrik Hrošovský"
          ],
          [
           "David Herold"
          ],
          [
           "Oihan Sancet Tirapu"
          ],
          [
           "Sergio Fernández Escobar"
          ],
          [
           "Gabriele Moncini"
          ],
          [
           "Dimitrios Sounas"
          ],
          [
           "Hirving Rodrigo Lozano Bahena"
          ],
          [
           "Seedy Jarju"
          ],
          [
           "Bradley Danger"
          ],
          [
           "Marcus Edwards"
          ],
          [
           "Jorge Giovani Zarfino Calandria"
          ],
          [
           "Kyle John McFadzean"
          ],
          [
           "Jayden Jezairo Braaf"
          ],
          [
           "Rafael Tavares Gomes Fernandes"
          ],
          [
           "Mile Svilar"
          ],
          [
           "Jacob Brown"
          ],
          [
           "Pol Lozano Vizuete"
          ],
          [
           "Régis Gurtner"
          ],
          [
           "Aaron Seydel"
          ],
          [
           "Joshua Wilson-Esbrand"
          ],
          [
           "Ivo Grbić"
          ],
          [
           "Thorgan Ganael Francis Hazard"
          ],
          [
           "Jack David Vincent Whatmough"
          ],
          [
           "Federico Tavernaro"
          ],
          [
           "Rick van Drongelen"
          ],
          [
           "Toma Bašić"
          ],
          [
           "中山 雄太"
          ],
          [
           "Luca Pandolfi"
          ],
          [
           "Claudio Andrés Bravo Muñoz"
          ],
          [
           "Anton Gaaei"
          ],
          [
           "Michele Camporese"
          ],
          [
           "Vitor Hugo Roque Ferreira"
          ],
          [
           "George Long"
          ],
          [
           "Umut Tohumcu"
          ],
          [
           "Matteo Ricci"
          ],
          [
           "Antonio Foti"
          ],
          [
           "Jaume Vicent Costa Jordá"
          ],
          [
           "Weston James Earl McKennie"
          ],
          [
           "Luca Pascal Schnellbacher"
          ],
          [
           "Albert Guðmundsson"
          ],
          [
           "Calum Chambers"
          ],
          [
           "Batuhan Çelik"
          ],
          [
           "Tommaso Cassandro"
          ],
          [
           "Alessio Vita"
          ],
          [
           "Xavier Chavalerin"
          ],
          [
           "Đorđe Nikolić"
          ],
          [
           "Lee Nicholls"
          ],
          [
           "Yassin Belkhdim"
          ],
          [
           "Sofyan Amrabat"
          ],
          [
           "Samuel Shashoua"
          ],
          [
           "Lion Lauberbach"
          ],
          [
           "Karl Sebastian Ring"
          ],
          [
           "Teddy Alloh"
          ],
          [
           "Isaac Hayden"
          ],
          [
           "Aritz Muguruza Peña"
          ],
          [
           "Stredair Appuah"
          ],
          [
           "Yakup Arda Kılıç"
          ],
          [
           "Osman Çelik"
          ],
          [
           "Norberto Bercique Gomes Betuncal"
          ],
          [
           "Jannes Luca Wieckhoff"
          ],
          [
           "Omar El Hilali"
          ],
          [
           "Pontus Almqvist"
          ],
          [
           "Griffin McDorman Yow"
          ],
          [
           "Igor Julio dos Santos de Paulo"
          ],
          [
           "Camiel Neghli"
          ],
          [
           "Michele Besaggio"
          ],
          [
           "Leo Sauer"
          ],
          [
           "Mehdi Jeannin"
          ],
          [
           "Levin Mete Öztunali"
          ],
          [
           "Otabek Shukurov"
          ],
          [
           "Volnei Feltes"
          ],
          [
           "Ion Nicolăescu"
          ],
          [
           "Danilo Luiz da Silva"
          ],
          [
           "Momodou Lamin Sonko"
          ],
          [
           "Jamie Paterson"
          ],
          [
           "Mahamé Siby"
          ],
          [
           "Ramy Bensebaini"
          ],
          [
           "Louis Mafouta"
          ],
          [
           "Giovanni Corradini"
          ],
          [
           "Filip Stevanović"
          ],
          [
           "Derensili Sanches Fernandes"
          ],
          [
           "Tim-Henry Handwerker"
          ],
          [
           "Nicola Bagnolini"
          ],
          [
           "Simon Désiré Sylvanus Deli"
          ],
          [
           "Jairo Izquierdo González"
          ],
          [
           "Manor Solomon"
          ],
          [
           "Bernardo de Souza"
          ],
          [
           "Javier Hernández Coarasa"
          ],
          [
           "長谷 部誠"
          ],
          [
           "Moritz-Broni Kwarteng"
          ],
          [
           "Jose Luís García Vayá"
          ],
          [
           "Riccardo Sottil"
          ],
          [
           "Lewis Harry Holtby"
          ],
          [
           "Giuseppe Aurelio"
          ],
          [
           "Yvann Maçon"
          ],
          [
           "Alfie Jones"
          ],
          [
           "Hakan Arslan"
          ],
          [
           "Tiago Emanuel Embaló Djaló"
          ],
          [
           "Abdallah Ndour"
          ],
          [
           "Facundo Esnáider Ruiz"
          ],
          [
           "Helton Brant Aleixo Leite"
          ],
          [
           "Jesús Joaquín Fernández Sáez de la Torre"
          ],
          [
           "Ryan Trevitt"
          ],
          [
           "Ángel Alarcón Galiot"
          ],
          [
           "Gaetano Vittorio Masucci"
          ],
          [
           "Ali Alipour"
          ],
          [
           "Cengiz Ünder"
          ],
          [
           "Cristian Ignacio Herrera Pérez"
          ],
          [
           "Erdem Canpolat"
          ],
          [
           "Mehdi Zeffane"
          ],
          [
           "Toon Raemaekers"
          ],
          [
           "Joarlem Batista Santos"
          ],
          [
           "Tygo Land"
          ],
          [
           "Vladimír Coufal"
          ],
          [
           "Kylian Mbappé Lottin"
          ],
          [
           "Wilfried Zaha"
          ],
          [
           "Janio Bikel Figueiredo da Silva"
          ],
          [
           "Bastien Meupiyou"
          ],
          [
           "Marcos Aoás Corrêa"
          ],
          [
           "Mujaid Sadick Aliu"
          ],
          [
           "Adrien Rabiot"
          ],
          [
           "Giuseppe Caso"
          ],
          [
           "Florian Tristan Mariano Thauvin"
          ],
          [
           "Nathan Ferguson"
          ],
          [
           "Taylor Foran"
          ],
          [
           "David Nicolás Andrade"
          ],
          [
           "Lucas Martínez Quarta"
          ],
          [
           "Charles Traoré"
          ],
          [
           "Cameron Pring"
          ],
          [
           "Boubakary Soumaré"
          ],
          [
           "Johann Berg Guðmunds­son"
          ],
          [
           "Andreas Bruus"
          ],
          [
           "Sebastian Andersson"
          ],
          [
           "Zinedine Ferhat"
          ],
          [
           "Carlos Augusto Zopolato Neves"
          ],
          [
           "Victor James Osimhen"
          ],
          [
           "Joe Gauci"
          ],
          [
           "Omari Giraud-Hutchinson"
          ],
          [
           "Mykhailo Mudryk"
          ],
          [
           "Olivier Deman"
          ],
          [
           "Alexandre Phliponeau"
          ],
          [
           "Nanitamo Jonathan Ikoné"
          ],
          [
           "Burak Öğür"
          ],
          [
           "Georg Strauch"
          ],
          [
           "Nikola Sekulov"
          ],
          [
           "Bartosz Białkowski"
          ],
          [
           "Nicolò Brighenti"
          ],
          [
           "Jake Vokins"
          ],
          [
           "Pierluigi Gollini"
          ],
          [
           "Dylan Williams"
          ],
          [
           "Júnior Udeme Pius"
          ],
          [
           "Borja García Freire"
          ],
          [
           "Tobi Adeyemo"
          ],
          [
           "Jean Thierry Lazare Amani"
          ],
          [
           "José Ángel Esmoris Tasende"
          ],
          [
           "Marvin Senaya"
          ],
          [
           "Anas Ouahim"
          ],
          [
           "Stefan Bajic"
          ],
          [
           "Samuel Gigot"
          ],
          [
           "Amadou Diawara"
          ],
          [
           "Mattia Viviani"
          ],
          [
           "Oscar Vilhelmsson"
          ],
          [
           "Rubén Sobrino Pozuelo"
          ],
          [
           "Derrick Arthur Köhn"
          ],
          [
           "Nicolò Bertola"
          ],
          [
           "Marek Rodák"
          ],
          [
           "Babajide David Akintola"
          ],
          [
           "Matondo-Merveille Papela"
          ],
          [
           "William Silva de Carvalho"
          ],
          [
           "Frank Lehmann"
          ],
          [
           "Juan Miranda González"
          ],
          [
           "Miguel Luís Pinto Veloso"
          ],
          [
           "Antony Iannarilli"
          ],
          [
           "Daley Sinkgraven"
          ],
          [
           "Marc-Oliver Kempf"
          ],
          [
           "Sergio Gómez Martín"
          ],
          [
           "Bennet Winter"
          ],
          [
           "Cristián Alexis Borja González"
          ],
          [
           "Théo Borne"
          ],
          [
           "Gian-Luca Waldschmidt"
          ],
          [
           "Luca Mazzitelli"
          ],
          [
           "Federico Barba"
          ],
          [
           "Damián Rodríguez Sousa"
          ],
          [
           "Doğucan Haspolat"
          ],
          [
           "Niall Nathan Michael Ennis"
          ],
          [
           "Teenage Lingani Hadebe"
          ],
          [
           "Giuseppe Pezzella"
          ],
          [
           "Sardar Azmoun"
          ],
          [
           "Salih Özcan"
          ],
          [
           "Pedro Chirivella Burgos"
          ],
          [
           "Merlin Röhl"
          ],
          [
           "Kaden Rodney"
          ],
          [
           "Nikola Moro"
          ],
          [
           "Marco Schuster"
          ],
          [
           "Sergio González Poirrier"
          ],
          [
           "Tim Breithaupt"
          ],
          [
           "Donyell Malen"
          ],
          [
           "Fábio Samuel Amorim Silva"
          ],
          [
           "Liam Henderson"
          ],
          [
           "Lewis O'Brien"
          ],
          [
           "Armando Izzo"
          ],
          [
           "Pierre-Emile Kordt Højbjerg"
          ],
          [
           "Nicolas Isimat-Mirin"
          ],
          [
           "Adedire Mebude"
          ],
          [
           "Hady Camara"
          ],
          [
           "Maximilian Eggestein"
          ],
          [
           "Christopher Jeffrey Richards"
          ],
          [
           "本 寛也"
          ],
          [
           "Quentin Daubin"
          ],
          [
           "Kristian Šekularac"
          ],
          [
           "Ousmane Dembélé"
          ],
          [
           "Oier Olazábal Paredes"
          ],
          [
           "Tidyane Diagouraga"
          ],
          [
           "Lukas Pinckert"
          ],
          [
           "Anwan Lawrence Nicholas"
          ],
          [
           "Stijn van Gassel"
          ],
          [
           "Iddrisu Baba Mohammed"
          ],
          [
           "Celestin De Schrevel"
          ],
          [
           "Christian Joel Sánchez Leal"
          ],
          [
           "Miguel Rebelo"
          ],
          [
           "Endri Çekiçi"
          ],
          [
           "Mats Lemmens"
          ],
          [
           "George Honeyman"
          ],
          [
           "Brahim Traoré"
          ],
          [
           "Murat Akşit"
          ],
          [
           "John McGinn"
          ],
          [
           "Kerim Çalhanoğlu"
          ],
          [
           "Jean Butez"
          ],
          [
           "Bilal Nadir"
          ],
          [
           "Emil Alfons Holm"
          ],
          [
           "Anouar El Azzouzi"
          ],
          [
           "Gautier Lloris"
          ],
          [
           "Florian Richard Wirtz"
          ],
          [
           "Filipe Miguel Barros Soares"
          ],
          [
           "Carlos Vinícius Santos de Jesús"
          ],
          [
           "Michael John Smith"
          ],
          [
           "Cengiz Demir"
          ],
          [
           "Remi Matthews"
          ],
          [
           "Paul Nebel"
          ],
          [
           "Milad Mohammadi Keshmarzi"
          ],
          [
           "Abdel Hakim Abdallah"
          ],
          [
           "Assane Diao Diaoune"
          ],
          [
           "Harry Kane"
          ],
          [
           "Jamie Knight-Lebel"
          ],
          [
           "Adam Buksa"
          ],
          [
           "Eray Korkmaz"
          ],
          [
           "Mats Rits"
          ],
          [
           "Sergiño Gianni Dest"
          ],
          [
           "Krzysztof Piątek"
          ],
          [
           "Thibo Somers"
          ],
          [
           "Lorenzo Andrenacci"
          ],
          [
           "Bernabé Barragán Maestre"
          ],
          [
           "João Pedro Junqueira de Jesus"
          ],
          [
           "Simone Giordano"
          ],
          [
           "Mamadou Fofana"
          ],
          [
           "Enzo Camille Alain Millot"
          ],
          [
           "Bruno Miguel Semedo Varela"
          ],
          [
           "Kamal Sowah"
          ],
          [
           "Flavio Junior Bianchi"
          ],
          [
           "Fabricio Rosario Dos Santos"
          ],
          [
           "Tony Strata"
          ],
          [
           "Sebastian Rode"
          ],
          [
           "Teddy Boulhendi"
          ],
          [
           "Sofiane Diop"
          ],
          [
           "Philipp Förster"
          ],
          [
           "João Pedro Loureiro da Costa"
          ],
          [
           "Emre Bekir"
          ],
          [
           "Miguel Raimundo Nóbrega"
          ],
          [
           "Loic Williams Ntambue Kayumba"
          ],
          [
           "Robin Bird"
          ],
          [
           "Bakary Haidara"
          ],
          [
           "Raffaele Cartano"
          ],
          [
           "Abdoulie Sanyang"
          ],
          [
           "Salvador Sánchez Ponce"
          ],
          [
           "Víctor Chust García"
          ],
          [
           "Iker Bravo Solanilla"
          ],
          [
           "Gonçalo Baptista Franco"
          ],
          [
           "Nikola Milenković"
          ],
          [
           "Akinlolu Richard Olamide Famewo"
          ],
          [
           "Artur Ioniță"
          ],
          [
           "Raheem Conte"
          ],
          [
           "Jan-Niklas Beste"
          ],
          [
           "Michail Antonio"
          ],
          [
           "Silvan Dominic Widmer"
          ],
          [
           "Leart Paqarada"
          ],
          [
           "Alexandre Roger Oukidja"
          ],
          [
           "Dorukhan Toköz"
          ],
          [
           "Borja Sainz Eguskiza"
          ],
          [
           "João Rodrigo Pereira Escoval"
          ],
          [
           "Đorđe Petrović"
          ],
          [
           "Richie Mamah Laryea"
          ],
          [
           "Pietro Beruatto"
          ],
          [
           "Martin Turk"
          ],
          [
           "Rayan Ny Aina Arnaldo Raveloson"
          ],
          [
           "Sandro Plínio Rosa da Cruz"
          ],
          [
           "Mateusz Praszelik"
          ],
          [
           "Enes Ünal"
          ],
          [
           "Gustavo Fabrice Sangaré"
          ],
          [
           "Blendi Idrizi"
          ],
          [
           "Alex Král"
          ],
          [
           "Pablo Marí Villar"
          ],
          [
           "Sha'mar Lawson"
          ],
          [
           "Leon Bell Bell"
          ],
          [
           "Pedro Nuno Almeida Pinho"
          ],
          [
           "Sofian Kiyine"
          ],
          [
           "Daniel Andrés Luna García"
          ],
          [
           "Fabio Andrea Ruggeri"
          ],
          [
           "Ruslan Malinovskyi"
          ],
          [
           "Lars Edi Stindl"
          ],
          [
           "Boris Tomiak"
          ],
          [
           "Jorge Miramón Santagertrudis"
          ],
          [
           "Marco André da Silva Lopes Matias"
          ],
          [
           "Cebrail Karayel"
          ],
          [
           "Grant Hall"
          ],
          [
           "Iker Muniain Goñi"
          ],
          [
           "Fabian Nürnberger"
          ],
          [
           "Patrick Erras"
          ],
          [
           "Franck Honorat"
          ],
          [
           "Alfonso Pastor Vacas"
          ],
          [
           "Jannik Dehm"
          ],
          [
           "Nikola Vasilj"
          ],
          [
           "Alejandro Quevedo Barber"
          ],
          [
           "David López Guijarro"
          ],
          [
           "Erik Pieters"
          ],
          [
           "Amine Harit"
          ],
          [
           "Finn Gilbert Dahmen"
          ],
          [
           "İbrahim Akdağ"
          ],
          [
           "Ager Aketxe Barrutia"
          ],
          [
           "Lassana Diabaté"
          ],
          [
           "Eneko Ortiz Díaz"
          ],
          [
           "Rubén Alcaraz Jiménez"
          ],
          [
           "Jérémy Mellot"
          ],
          [
           "Javier Alonso Bello"
          ],
          [
           "Joris Chotard"
          ],
          [
           "Steven Skrzybski"
          ],
          [
           "Aitor Córdoba Querejeta"
          ],
          [
           "Romain Thomas"
          ],
          [
           "Mert Müldür"
          ],
          [
           "Julian Börner"
          ],
          [
           "Bryan Gil Salvatierra"
          ],
          [
           "Ahmed Touba"
          ],
          [
           "Robert Kampa"
          ],
          [
           "Adrià Miquel Bosch Sanchis"
          ],
          [
           "Jake Livermore"
          ],
          [
           "Elliott Anderson"
          ],
          [
           "Jochem van de Kamp"
          ],
          [
           "Davide Frattesi"
          ],
          [
           "Marcos Peña Ocaña"
          ],
          [
           "Óscar Clemente Mues"
          ],
          [
           "Diego López Noguerol"
          ],
          [
           "Williot Theo Swedberg"
          ],
          [
           "Pablo Torre Carral"
          ],
          [
           "Julio César Enciso Espínola"
          ],
          [
           "Niels Devalckeneer"
          ],
          [
           "Daniele Ghilardi"
          ],
          [
           "Jordan Semedo"
          ],
          [
           "Danilo dos Santos de Oliveira"
          ],
          [
           "Gonzalo Ávila Gordón"
          ],
          [
           "Djakaridja Junior Traoré"
          ],
          [
           "Armel Bella Kotchap"
          ],
          [
           "Hayden Carter"
          ],
          [
           "Lander Olaetxea Ibaibarriaga"
          ],
          [
           "Daley Blind"
          ],
          [
           "Rafael Jiménez Jarque"
          ],
          [
           "Ajdin Hrustić"
          ],
          [
           "Marius Mouandilmadji"
          ],
          [
           "Javier Puado Díaz"
          ],
          [
           "Florian Loshaj"
          ],
          [
           "Ajibola Alese"
          ],
          [
           "Marcus Tavernier"
          ],
          [
           "Granit Xhaka"
          ],
          [
           "João Manuel Neves Virgínia"
          ],
          [
           "Tim Schleinitz"
          ],
          [
           "Siemen Buvé"
          ],
          [
           "Florent Mollet"
          ],
          [
           "Rijad Smajić"
          ],
          [
           "Osaze Urhoghide"
          ],
          [
           "Aster Jan Vranckx"
          ],
          [
           "Loizos Loizou"
          ],
          [
           "Valerio Mastrantonio"
          ],
          [
           "Dimitrios Pelkas"
          ],
          [
           "Emanuel Vignato"
          ],
          [
           "Mostafa Mohamed Ahmed Abdallah"
          ],
          [
           "Jonathan de Guzmán"
          ],
          [
           "Alpaslan Öztürk"
          ],
          [
           "Ziyad Larkeche"
          ],
          [
           "Álvaro Odriozola Arzalluz"
          ],
          [
           "Gabriel Julien Dominique Barès"
          ],
          [
           "Kepa Arrizabalaga Revuelta"
          ],
          [
           "Charlie Casper"
          ],
          [
           "Théo Luis Fonseca"
          ],
          [
           "Paolo Rozzio"
          ],
          [
           "Unai López Cabrera"
          ],
          [
           "Mert Hakan Yandaş"
          ],
          [
           "Youssef Ramalho Chermiti"
          ],
          [
           "Tom Vandenberghe"
          ],
          [
           "Justin Antonius Lonwijk"
          ],
          [
           "Piotr Sebastian Zieliński"
          ],
          [
           "Tom Ducrocq"
          ],
          [
           "Jean-Charles Castelletto"
          ],
          [
           "Krépin Diatta"
          ],
          [
           "Thomas Christopher Cannon"
          ],
          [
           "Saúl García Cabrero"
          ],
          [
           "Jacopo Manconi"
          ],
          [
           "Nick Olij"
          ],
          [
           "Gonzalo Ariel Montiel"
          ],
          [
           "Diego Espinosa García"
          ],
          [
           "Jordan Yamoah Amissah"
          ],
          [
           "Javier Ontiveros Parra"
          ],
          [
           "Bonke Innocent"
          ],
          [
           "Axel Arthur Disasi"
          ],
          [
           "Aïman Maurer"
          ],
          [
           "Valdemiro Pinto Domingos"
          ],
          [
           "Serge David Gnabry"
          ],
          [
           "Mathis Hamdi"
          ],
          [
           "Mijo Caktaš"
          ],
          [
           "Dennis Geiger"
          ],
          [
           "Jonas Nickisch"
          ],
          [
           "Pietro Iemmello"
          ],
          [
           "Nobel Mendy"
          ],
          [
           "Salim Diakité"
          ],
          [
           "Martin Adeline"
          ],
          [
           "Elia Caprile"
          ],
          [
           "Max Rosenfelder"
          ],
          [
           "Mark Sykes"
          ],
          [
           "Kenneth Josiah Omeruo"
          ],
          [
           "Juan Ferney Otero Tovar"
          ],
          [
           "Robert Wagner"
          ],
          [
           "Matthew James Doherty"
          ],
          [
           "Kristoffer Paul Peterson"
          ],
          [
           "Rémy Boissier"
          ],
          [
           "Mattia Perin"
          ],
          [
           "Serdar Dursun"
          ],
          [
           "Dal Varešanović"
          ],
          [
           "Djenahro Nunumete"
          ],
          [
           "Zeki Yavru"
          ],
          [
           "Charlie Cresswell"
          ],
          [
           "Youri Regeer"
          ],
          [
           "Téva Gardies"
          ],
          [
           "Philana Tinotenda Kadewere"
          ],
          [
           "Sergio Guardiola Navarro"
          ],
          [
           "Maxime Chanot"
          ],
          [
           "William Balikwisha"
          ],
          [
           "Frederik Riis Rønnow"
          ],
          [
           "Giacomo Beretta"
          ],
          [
           "Bećir Omeragić"
          ],
          [
           "Álvaro Santamaría Arenas"
          ],
          [
           "Youri Baas"
          ],
          [
           "Benjamin André"
          ],
          [
           "Žan Majer"
          ],
          [
           "Emmanuel Afriyie Mario Sabbi"
          ],
          [
           "Darko Gyabi"
          ],
          [
           "Chris Anthony Willock"
          ],
          [
           "Han-Noah Massengo"
          ],
          [
           "Mario René Junior Lemina"
          ],
          [
           "Stijn Bultman"
          ],
          [
           "Anas Tahiri"
          ],
          [
           "Brandon Baiye"
          ],
          [
           "João Victor Tornich"
          ],
          [
           "Stipe Biuk"
          ],
          [
           "Auston Levi-Jesaiah Trusty"
          ],
          [
           "Álvaro Vadillo Cifuentes"
          ],
          [
           "Anthony Oyono Omva Torque"
          ],
          [
           "Murillo Costa dos Santos"
          ],
          [
           "Joelson Augusto Mendes Mango Fernandes"
          ],
          [
           "Lucas Estella Perri"
          ],
          [
           "Kwadwo Kyeremeh Baah"
          ],
          [
           "Ander Guevara Lajo"
          ],
          [
           "George Tanner"
          ],
          [
           "Francesco Amatucci"
          ],
          [
           "Mikel Oyarzabal Ugarte"
          ],
          [
           "Alejandro Francés Torrijo"
          ],
          [
           "Matteo Gabbia"
          ],
          [
           "Tony Jantschke"
          ],
          [
           "Steven Fortes"
          ],
          [
           "Toluwalase Emmanuel Arokodare"
          ],
          [
           "Jiří Pavlenka"
          ],
          [
           "Ionuț Nedelcearu"
          ],
          [
           "Luis Federico López Andúgar"
          ],
          [
           "Giovanni Crociata"
          ],
          [
           "Daniel Raba Antolin"
          ],
          [
           "Jean Michaël Seri"
          ],
          [
           "Miguel de la Fuente Escudero"
          ],
          [
           "Corentin Michel"
          ],
          [
           "Sammy Braybrooke"
          ],
          [
           "Andrew Hughes"
          ],
          [
           "Germán Fernández Hidalgo"
          ],
          [
           "Juan Manuel Bravo Alcántara"
          ],
          [
           "Djeidi Gassama"
          ],
          [
           "Marcos Alonso Mendoza"
          ],
          [
           "Luca Zinedine Zidane"
          ],
          [
           "Christian Kabasele"
          ],
          [
           "Javier Garrido López"
          ],
          [
           "Miguel Ângelo Gomes Ferreira Magalhães"
          ],
          [
           "Scott Brian Banks"
          ],
          [
           "Perry Ng Tian-Hee"
          ],
          [
           "João Filipe Iria Santos Moutinho"
          ],
          [
           "Luca Pfeiffer"
          ],
          [
           "Gino Fechner"
          ],
          [
           "Adrion Pajaziti"
          ],
          [
           "Efecan Karaca"
          ],
          [
           "Rob Holding"
          ],
          [
           "Jamie William Lindsay"
          ],
          [
           "Iñigo Vicente Elorduy"
          ],
          [
           "Fabiano Josué de Souza Silva"
          ],
          [
           "Jordi Mboula Queralt"
          ],
          [
           "Deniz Dilmen"
          ],
          [
           "Loïc Mbe Soh"
          ],
          [
           "Phillipp Klement"
          ],
          [
           "Timon Vanhoutte"
          ],
          [
           "Niklas Bernd Dorsch"
          ],
          [
           "Arthur Atta"
          ],
          [
           "Nathaniel Chalobah"
          ],
          [
           "Caio Henrique Oliveira Silva"
          ],
          [
           "Anssumane Fati"
          ],
          [
           "Søren Tengstedt"
          ],
          [
           "Marcus Vinícius Oliveira Alencar"
          ],
          [
           "Diego José Conde Alcolado"
          ],
          [
           "Afonso Bastardo Moreira"
          ],
          [
           "Matéo Loubatières"
          ],
          [
           "Andrea Colpani"
          ],
          [
           "Michael Simões Domingues"
          ],
          [
           "Ayman Aiki"
          ],
          [
           "Charlie Patino"
          ],
          [
           "Sven Ulreich"
          ],
          [
           "Bryan Heynen"
          ],
          [
           "Marco Moreno Ojeda"
          ],
          [
           "Mario Šitum"
          ],
          [
           "Dominick Drexler"
          ],
          [
           "Olimpiu Vasile Moruțan"
          ],
          [
           "Pep Biel Mas Jaume"
          ],
          [
           "Ghjuvanni Quilichini"
          ],
          [
           "Bruno Maximiliano Martins Indi"
          ],
          [
           "Rúben dos Santos Gato Alves Dias"
          ],
          [
           "Bogdan Milovanov"
          ],
          [
           "Oliver McBurnie"
          ],
          [
           "Pelle van Amersfoort"
          ],
          [
           "Leo Štulac"
          ],
          [
           "Pasquale Mazzocchi"
          ],
          [
           "Junior Tchamadeu"
          ],
          [
           "Bilal Bayazıt"
          ],
          [
           "Arda Güler"
          ],
          [
           "Isaac Ajayi Success"
          ],
          [
           "Jesús José Bernal Villarig"
          ],
          [
           "Jasper van der Werff"
          ],
          [
           "Vangelis Pavlidis"
          ],
          [
           "Antoine Batisse"
          ],
          [
           "Cédric Brunner"
          ],
          [
           "Edgar Badia Guardiola"
          ],
          [
           "Pablo Insua Blanco"
          ],
          [
           "Joshua Lloyd Ginnelly"
          ],
          [
           "Fodé Sylla"
          ]
         ],
         "hovertemplate": "Actual Salary=%{x}<br>Predicted Salary=%{y}<br>PlayerName=%{customdata[0]}<extra></extra>",
         "legendgroup": "",
         "marker": {
          "color": "#636efa",
          "symbol": "circle"
         },
         "mode": "markers",
         "name": "",
         "showlegend": false,
         "type": "scattergl",
         "x": [
          3000,
          36000,
          32000,
          2000,
          2000,
          20000,
          11000,
          5000,
          13000,
          28000,
          4000,
          3000,
          3000,
          3000,
          4000,
          3000,
          2000,
          5000,
          2000,
          3000,
          5000,
          90000,
          15000,
          15000,
          17000,
          16000,
          800,
          2000,
          8000,
          8000,
          5000,
          6000,
          27000,
          8000,
          950,
          4000,
          5000,
          60000,
          29000,
          1000,
          30000,
          8000,
          6000,
          1000,
          1000,
          8000,
          7000,
          19000,
          5000,
          36000,
          2000,
          10000,
          6000,
          4000,
          35000,
          2000,
          8000,
          250000,
          2000,
          61000,
          15000,
          38000,
          39000,
          2000,
          49000,
          27000,
          500,
          6000,
          22000,
          8000,
          1000,
          7000,
          4000,
          3000,
          28000,
          2000,
          5000,
          5000,
          900,
          4000,
          1000,
          2000,
          1000,
          12000,
          2000,
          14000,
          500,
          28000,
          2000,
          9000,
          165000,
          5000,
          700,
          88000,
          5000,
          4000,
          6000,
          4000,
          11000,
          7000,
          1000,
          3000,
          7000,
          6000,
          7000,
          3000,
          7000,
          2000,
          5000,
          6000,
          105000,
          7000,
          1000,
          5000,
          3000,
          7000,
          2000,
          5000,
          2000,
          105000,
          6000,
          1000,
          7000,
          20000,
          1000,
          25000,
          43000,
          11000,
          2000,
          1000,
          7000,
          2000,
          2000,
          2000,
          31000,
          15000,
          22000,
          3000,
          20000,
          2000,
          25000,
          17000,
          500,
          4000,
          3000,
          12000,
          19000,
          22000,
          11000,
          15000,
          79000,
          6000,
          15000,
          1000,
          80000,
          18000,
          15000,
          4000,
          2000,
          12000,
          36000,
          2000,
          78000,
          7000,
          15000,
          750,
          3000,
          3000,
          2000,
          2000,
          56000,
          59000,
          11000,
          64000,
          3000,
          6000,
          10000,
          4000,
          32000,
          15000,
          8000,
          2000,
          29000,
          12000,
          7000,
          10000,
          68000,
          1000,
          1000,
          14000,
          7000,
          5000,
          40000,
          2000,
          42000,
          15000,
          8000,
          500,
          4000,
          180000,
          10000,
          5000,
          3000,
          36000,
          12000,
          6000,
          4000,
          3000,
          24000,
          1000,
          130000,
          90000,
          2000,
          4000,
          3000,
          5000,
          1000,
          9000,
          600,
          5000,
          4000,
          30000,
          5000,
          2000,
          5000,
          2000,
          28000,
          750,
          6000,
          6000,
          8000,
          20000,
          500,
          21000,
          150000,
          16000,
          25000,
          10000,
          8000,
          3000,
          2000,
          2000,
          1000,
          500,
          34000,
          2000,
          20000,
          8000,
          1000,
          1000,
          13000,
          5000,
          78000,
          4000,
          3000,
          6000,
          5000,
          3000,
          5000,
          20000,
          4000,
          5000,
          6000,
          1000,
          3000,
          17000,
          8000,
          13000,
          2000,
          13000,
          2000,
          4000,
          2000,
          21000,
          5000,
          27000,
          7000,
          29000,
          25000,
          650,
          850,
          56000,
          7000,
          6000,
          12000,
          63000,
          13000,
          7000,
          650,
          3000,
          2000,
          15000,
          2000,
          130000,
          5000,
          2000,
          3000,
          9000,
          23000,
          7000,
          31000,
          1000,
          12000,
          3000,
          4000,
          9000,
          15000,
          500,
          60000,
          19000,
          500,
          3000,
          11000,
          2000,
          1000,
          9000,
          30000,
          7000,
          16000,
          58000,
          19000,
          4000,
          43000,
          105000,
          3000,
          2000,
          3000,
          10000,
          2000,
          26000,
          1000,
          13000,
          8000,
          750,
          24000,
          2000,
          500,
          4000,
          170000,
          3000,
          20000,
          500,
          500,
          32000,
          24000,
          2000,
          1000,
          7000,
          23000,
          2000,
          6000,
          16000,
          200000,
          900,
          9000,
          3000,
          1000,
          2000,
          44000,
          7000,
          49000,
          3000,
          3000,
          23000,
          20000,
          23000,
          4000,
          5000,
          11000,
          17000,
          7000,
          2000,
          5000,
          8000,
          3000,
          11000,
          7000,
          1000,
          3000,
          52000,
          22000,
          1000,
          12000,
          2000,
          3000,
          49000,
          5000,
          46000,
          600,
          950,
          25000,
          10000,
          5000,
          15000,
          18000,
          950,
          500,
          29000,
          1000,
          8000,
          31000,
          59000,
          15000,
          2000,
          8000,
          2000,
          3000,
          2000,
          13000,
          4000,
          150000,
          7000,
          18000,
          1000,
          8000,
          2000,
          17000,
          15000,
          90000,
          10000,
          850,
          13000,
          8000,
          1000,
          3000,
          850,
          1000,
          2000,
          2000,
          2000,
          500,
          5000,
          4000,
          53000,
          18000,
          2000,
          5000,
          9000,
          2000,
          7000,
          6000,
          5000,
          11000,
          5000,
          750,
          14000,
          14000,
          19000,
          31000,
          2000,
          1000,
          7000,
          11000,
          2000,
          18000,
          36000,
          17000,
          10000,
          7000,
          1000,
          16000,
          50000,
          2000,
          2000,
          17000,
          3000,
          1000,
          9000,
          15000,
          5000,
          5000,
          1000,
          4000,
          1000,
          4000,
          3000,
          14000,
          125000,
          7000,
          13000,
          3000,
          3000,
          1000,
          8000,
          14000,
          90000,
          1000,
          3000,
          3000,
          9000,
          3000,
          6000,
          2000,
          16000,
          51000,
          8000,
          6000,
          13000,
          4000,
          6000,
          12000,
          750,
          5000,
          800,
          16000,
          3000,
          26000,
          1000,
          31000,
          2000,
          11000,
          53000,
          2000,
          12000,
          20000,
          21000,
          1000,
          500,
          11000,
          3000,
          3000,
          11000,
          1000,
          1000,
          500,
          4000,
          22000,
          2000,
          40000,
          2000,
          4000,
          18000,
          5000,
          5000,
          1000,
          500,
          7000,
          23000,
          2000,
          7000,
          17000,
          500,
          7000,
          25000,
          2000,
          11000,
          105000,
          95000,
          22000,
          3000,
          25000,
          1000,
          9000,
          15000,
          8000,
          5000,
          2000,
          2000,
          5000,
          6000,
          11000,
          17000,
          500,
          4000,
          7000,
          4000,
          12000,
          3000,
          500,
          2000,
          2000,
          8000,
          18000,
          5000,
          33000,
          4000,
          2000,
          13000,
          14000,
          8000,
          43000,
          15000,
          4000,
          2000,
          2000,
          2000,
          68000,
          35000,
          6000,
          4000,
          14000,
          6000,
          550,
          7000,
          5000,
          1000,
          4000,
          18000,
          15000,
          13000,
          4000,
          500,
          500,
          21000,
          5000,
          2000,
          32000,
          14000,
          4000,
          18000,
          3000,
          10000,
          7000,
          12000,
          37000,
          5000,
          1000,
          26000,
          1000,
          1000,
          22000,
          22000,
          5000,
          110000,
          600,
          11000,
          3000,
          30000,
          7000,
          3000,
          7000,
          1000,
          1000,
          2000,
          37000,
          12000,
          500,
          43000,
          950,
          4000,
          3000,
          18000,
          1000,
          15000,
          4000,
          550,
          1000,
          6000,
          10000,
          6000,
          37000,
          22000,
          2000,
          2000,
          2000,
          700,
          6000,
          3000,
          11000,
          38000,
          2000,
          33000,
          6000,
          4000,
          500,
          5000,
          8000,
          13000,
          6000,
          36000,
          34000,
          1000,
          650,
          2000,
          4000,
          3000,
          51000,
          7000,
          7000,
          4000,
          4000,
          2000,
          700,
          2000,
          37000,
          3000,
          5000,
          7000,
          6000,
          6000,
          2000,
          3000,
          6000,
          29000,
          21000,
          2000,
          51000,
          8000,
          26000,
          19000,
          46000,
          13000,
          19000,
          2000,
          85000,
          9000,
          6000,
          9000,
          2000,
          6000,
          16000,
          11000,
          2000,
          4000,
          23000,
          22000,
          500,
          5000,
          2000,
          23000,
          2000,
          1000,
          3000,
          2000,
          3000,
          22000,
          19000,
          8000,
          20000,
          2000,
          6000,
          39000,
          23000,
          28000,
          3000,
          10000,
          2000,
          500,
          500,
          7000,
          4000,
          3000,
          850,
          13000,
          9000,
          13000,
          5000,
          49000,
          3000,
          39000,
          8000,
          10000,
          750,
          21000,
          2000,
          4000,
          10000,
          900,
          1000,
          10000,
          56000,
          170000,
          650,
          5000,
          10000,
          2000,
          7000,
          48000,
          3000,
          210000,
          16000,
          4000,
          39000,
          8000,
          22000,
          30000,
          11000,
          600,
          34000,
          43000,
          71000,
          4000,
          5000,
          850,
          2000,
          65000,
          4000,
          9000,
          500,
          500,
          9000,
          6000,
          5000,
          16000,
          1000,
          9000,
          51000,
          2000,
          4000,
          1000,
          5000,
          8000,
          27000,
          7000,
          25000,
          23000,
          16000,
          750,
          12000,
          55000,
          3000,
          4000,
          9000,
          500,
          3000,
          1000,
          2000,
          3000,
          34000,
          26000,
          5000,
          23000,
          500,
          5000,
          2000,
          2000,
          36000,
          5000,
          6000,
          2000,
          1000,
          15000,
          3000,
          2000,
          19000,
          23000,
          165000,
          10000,
          200000,
          35000,
          60000,
          4000,
          135000,
          9000,
          3000,
          5000,
          650,
          4000,
          2000,
          8000,
          6000,
          18000,
          36000,
          6000,
          19000,
          38000,
          3000,
          15000,
          1000,
          30000,
          16000,
          3000,
          8000,
          500,
          2000,
          7000,
          2000,
          8000,
          4000,
          2000,
          29000,
          20000,
          46000,
          54000,
          36000,
          1000,
          14000,
          16000,
          11000,
          8000,
          3000,
          14000,
          2000,
          4000,
          35000,
          10000,
          8000,
          500,
          15000,
          2000,
          7000,
          84000,
          1000,
          12000,
          9000,
          7000,
          23000,
          8000,
          27000,
          18000,
          2000,
          46000,
          44000,
          850,
          4000,
          6000,
          25000,
          2000,
          7000,
          1000,
          1000,
          11000,
          8000,
          71000,
          120000,
          3000,
          3000,
          1000,
          5000,
          2000,
          500,
          31000,
          86000,
          12000,
          2000,
          1000,
          78000,
          22000,
          10000,
          10000,
          5000,
          3000,
          10000,
          20000,
          20000,
          5000,
          10000,
          2000,
          7000,
          9000,
          4000,
          16000,
          4000,
          37000,
          1000,
          33000,
          10000,
          27000,
          3000,
          16000,
          2000,
          1000,
          7000,
          3000,
          32000,
          57000,
          17000,
          3000,
          4000,
          5000,
          24000,
          11000,
          10000,
          3000,
          1000,
          1000,
          12000,
          9000,
          14000,
          22000,
          850,
          750,
          6000,
          4000,
          115000,
          1000,
          1000,
          19000,
          2000,
          38000,
          5000,
          10000,
          9000,
          9000,
          1000,
          12000,
          13000,
          16000,
          6000,
          2000,
          220000,
          73000,
          36000,
          6000,
          3000,
          3000,
          19000,
          20000,
          3000,
          7000,
          130000,
          2000,
          3000,
          44000,
          800,
          7000,
          15000,
          21000,
          2000,
          29000,
          33000,
          40000,
          17000,
          31000,
          15000,
          7000,
          34000,
          900,
          4000,
          2000,
          27000,
          1000,
          2000,
          19000,
          4000,
          13000,
          7000,
          4000,
          20000,
          22000,
          5000,
          2000,
          11000,
          20000,
          24000,
          29000,
          15000,
          500,
          7000,
          37000,
          3000,
          1000,
          13000,
          4000,
          2000,
          44000,
          13000,
          5000,
          2000,
          4000,
          18000,
          68000,
          7000,
          29000,
          56000,
          2000,
          950,
          2000,
          7000,
          4000,
          6000,
          1000,
          53000,
          3000,
          6000,
          2000,
          1000,
          49000,
          1000,
          2000,
          2000,
          3000,
          49000,
          2000,
          3000,
          12000,
          2000,
          58000,
          2000,
          750,
          900,
          1000,
          15000,
          7000,
          3000,
          4000,
          100000,
          2000,
          18000,
          3000,
          47000,
          4000,
          500,
          17000,
          2000,
          6000,
          1000,
          8000,
          6000,
          68000,
          33000,
          1000,
          15000,
          12000,
          33000,
          44000,
          18000,
          2000,
          5000,
          9000,
          7000,
          61000,
          3000,
          3000,
          17000,
          38000,
          6000,
          22000,
          2000,
          4000,
          35000,
          8000,
          3000,
          7000,
          3000,
          3000,
          500,
          60000,
          230000,
          53000,
          6000,
          500,
          140000,
          11000,
          150000,
          9000,
          17000,
          8000,
          6000,
          1000,
          45000,
          3000,
          19000,
          31000,
          32000,
          2000,
          5000,
          7000,
          48000,
          100000,
          16000,
          3000,
          78000,
          14000,
          1000,
          51000,
          2000,
          3000,
          13000,
          6000,
          1000,
          6000,
          33000,
          7000,
          3000,
          22000,
          2000,
          13000,
          46000,
          10000,
          3000,
          4000,
          38000,
          14000,
          950,
          6000,
          25000,
          24000,
          700,
          47000,
          7000,
          7000,
          30000,
          2000,
          20000,
          3000,
          2000,
          13000,
          12000,
          64000,
          2000,
          11000,
          1000,
          38000,
          11000,
          4000,
          3000,
          4000,
          9000,
          8000,
          8000,
          56000,
          39000,
          20000,
          11000,
          2000,
          24000,
          7000,
          7000,
          10000,
          52000,
          7000,
          9000,
          35000,
          35000,
          100000,
          5000,
          1000,
          1000,
          23000,
          26000,
          10000,
          3000,
          6000,
          150000,
          4000,
          800,
          2000,
          4000,
          4000,
          24000,
          2000,
          2000,
          1000,
          7000,
          2000,
          22000,
          950,
          1000,
          90000,
          3000,
          26000,
          4000,
          3000,
          2000,
          13000,
          77000,
          700,
          10000,
          9000,
          2000,
          7000,
          9000,
          11000,
          2000,
          2000,
          170000,
          1000,
          31000,
          2000,
          22000,
          86000,
          20000,
          10000,
          2000,
          2000,
          52000,
          700,
          2000,
          16000,
          8000,
          14000,
          1000,
          7000,
          500,
          31000,
          5000,
          36000,
          16000,
          8000,
          2000,
          3000,
          2000,
          3000,
          550,
          600,
          2000,
          8000,
          21000,
          6000,
          6000,
          50000,
          5000,
          4000,
          2000,
          27000,
          71000,
          25000,
          18000,
          13000,
          13000,
          16000,
          2000,
          47000,
          34000,
          4000,
          500,
          5000,
          2000,
          7000,
          41000,
          2000,
          5000,
          27000,
          40000,
          3000,
          5000,
          1000,
          6000,
          6000,
          2000,
          30000,
          16000,
          7000,
          9000,
          3000,
          5000,
          6000,
          33000,
          14000,
          11000,
          29000,
          1000,
          10000,
          8000,
          1000,
          4000,
          20000,
          38000,
          18000,
          4000,
          11000,
          500,
          3000,
          30000,
          7000,
          3000,
          15000,
          19000,
          6000,
          4000,
          20000,
          9000,
          68000,
          12000,
          500,
          4000,
          17000,
          43000,
          950,
          22000,
          1000,
          3000,
          22000,
          7000,
          54000,
          24000,
          1000,
          3000,
          5000,
          44000,
          19000,
          3000,
          24000,
          18000,
          4000,
          26000,
          26000,
          5000,
          8000,
          12000,
          4000,
          9000,
          38000,
          74000,
          9000,
          1000,
          500,
          19000,
          2000,
          2000,
          26000,
          2000,
          750,
          19000,
          4000,
          23000,
          4000,
          5000,
          2000,
          27000,
          4000,
          90000,
          600,
          3000,
          1000,
          16000,
          21000,
          16000,
          6000,
          500,
          72000,
          2000,
          21000,
          36000,
          16000,
          5000,
          1000,
          9000,
          26000,
          500,
          2000,
          4000,
          12000,
          89000,
          2000,
          2000,
          82000,
          650,
          15000,
          27000,
          1000,
          3000,
          500,
          2000,
          3000,
          17000,
          5000,
          15000,
          7000,
          12000,
          6000,
          45000,
          7000,
          2000,
          73000,
          17000,
          5000,
          1000,
          3000,
          15000,
          3000,
          850,
          25000,
          22000,
          6000,
          6000,
          27000,
          1000,
          11000,
          1000,
          3000,
          35000,
          2000,
          10000,
          4000,
          14000,
          18000,
          68000,
          500,
          4000,
          2000,
          2000,
          4000,
          22000,
          5000,
          3000,
          20000,
          3000,
          24000,
          5000,
          21000,
          9000,
          950,
          54000,
          6000,
          33000,
          16000,
          2000,
          10000,
          17000,
          3000,
          1000,
          2000,
          10000,
          14000,
          14000,
          850,
          4000,
          17000,
          1000,
          3000,
          3000,
          105000,
          5000,
          10000,
          600,
          6000,
          6000,
          8000,
          11000,
          12000,
          4000,
          9000,
          14000,
          33000,
          5000,
          10000,
          6000,
          6000,
          500,
          15000,
          8000,
          1000,
          23000,
          3000,
          21000,
          48000,
          86000,
          2000,
          33000,
          5000,
          3000,
          600,
          45000,
          4000,
          550,
          18000,
          32000,
          18000,
          6000,
          2000,
          9000,
          9000,
          26000,
          650,
          9000,
          250000,
          3000,
          27000,
          4000,
          3000,
          36000,
          3000,
          5000,
          41000,
          14000,
          3000,
          6000,
          15000,
          2000,
          8000,
          9000,
          6000,
          17000,
          750
         ],
         "xaxis": "x",
         "y": [
          -108,
          87,
          -58,
          44,
          114,
          16,
          -79,
          19,
          -94,
          11,
          -73,
          -127,
          96,
          78,
          -12,
          116,
          -87,
          20,
          -105,
          68,
          -73,
          -120,
          36,
          -101,
          -121,
          -125,
          -45,
          -114,
          -44,
          27,
          -7,
          -52,
          -116,
          64,
          3,
          23,
          64,
          -92,
          -59,
          -3,
          58,
          90,
          -29,
          -58,
          50,
          -54,
          -125,
          -59,
          -6,
          44,
          -87,
          -86,
          -29,
          71,
          -33,
          26,
          9,
          29,
          58,
          -91,
          -125,
          -113,
          60,
          -69,
          33,
          -117,
          56,
          53,
          -19,
          39,
          27,
          30,
          115,
          -107,
          17,
          -14,
          -4,
          114,
          -120,
          -22,
          58,
          -108,
          109,
          79,
          21,
          121,
          0,
          -65,
          106,
          -100,
          15,
          36,
          -23,
          -120,
          106,
          62,
          106,
          57,
          74,
          -40,
          91,
          -2,
          23,
          109,
          -44,
          0,
          -70,
          -92,
          100,
          42,
          -46,
          127,
          4,
          57,
          115,
          115,
          107,
          -9,
          -66,
          -24,
          82,
          84,
          -92,
          104,
          109,
          55,
          -127,
          -108,
          -101,
          -61,
          -63,
          -91,
          -33,
          9,
          100,
          -96,
          -110,
          103,
          15,
          -89,
          95,
          -115,
          -71,
          59,
          -72,
          82,
          21,
          -39,
          -70,
          -98,
          62,
          -110,
          103,
          84,
          -128,
          -81,
          113,
          3,
          -114,
          -115,
          -16,
          -59,
          72,
          -71,
          -37,
          -49,
          -78,
          39,
          -66,
          -73,
          -71,
          109,
          53,
          106,
          -108,
          52,
          8,
          -23,
          24,
          -66,
          -67,
          -70,
          -96,
          -84,
          -127,
          54,
          106,
          114,
          -79,
          -74,
          -27,
          -79,
          -39,
          87,
          20,
          -115,
          46,
          122,
          -43,
          0,
          11,
          56,
          -25,
          -17,
          51,
          88,
          10,
          -30,
          -111,
          18,
          -13,
          56,
          63,
          58,
          32,
          109,
          44,
          -77,
          -9,
          -19,
          -122,
          71,
          52,
          -104,
          -97,
          105,
          43,
          -57,
          -44,
          -38,
          72,
          -17,
          -9,
          -2,
          -120,
          -35,
          53,
          67,
          -36,
          37,
          113,
          -122,
          78,
          39,
          64,
          93,
          114,
          10,
          5,
          -28,
          94,
          -34,
          33,
          96,
          124,
          106,
          69,
          -49,
          -55,
          5,
          123,
          2,
          62,
          -23,
          37,
          63,
          90,
          53,
          10,
          -30,
          50,
          -86,
          -28,
          58,
          -99,
          78,
          -72,
          -32,
          4,
          -87,
          -37,
          -5,
          80,
          -46,
          64,
          -114,
          -29,
          15,
          11,
          -96,
          55,
          70,
          46,
          -50,
          90,
          -87,
          67,
          -82,
          73,
          107,
          -31,
          76,
          -27,
          -40,
          -2,
          -106,
          33,
          22,
          90,
          -86,
          0,
          -68,
          -40,
          6,
          42,
          9,
          -48,
          40,
          -60,
          68,
          -93,
          -122,
          23,
          92,
          23,
          36,
          18,
          110,
          42,
          116,
          -121,
          -10,
          -2,
          78,
          81,
          121,
          118,
          29,
          -14,
          89,
          18,
          -61,
          82,
          -93,
          84,
          -38,
          -91,
          70,
          -24,
          94,
          55,
          -32,
          -19,
          -91,
          26,
          -114,
          -125,
          67,
          35,
          114,
          18,
          95,
          20,
          -60,
          -108,
          6,
          16,
          -105,
          49,
          122,
          -5,
          97,
          -90,
          86,
          -7,
          -79,
          -116,
          45,
          20,
          92,
          -30,
          3,
          27,
          -71,
          -18,
          59,
          -22,
          -93,
          5,
          121,
          -64,
          62,
          87,
          49,
          -67,
          37,
          0,
          -118,
          -40,
          -88,
          -10,
          63,
          86,
          -113,
          -107,
          -61,
          69,
          -1,
          34,
          -122,
          68,
          56,
          -103,
          80,
          18,
          -32,
          -106,
          24,
          34,
          -38,
          -86,
          -96,
          -10,
          -18,
          -111,
          31,
          -62,
          -58,
          -30,
          57,
          52,
          -49,
          85,
          -66,
          -26,
          -3,
          -53,
          18,
          -5,
          75,
          46,
          -70,
          120,
          91,
          86,
          98,
          -93,
          -37,
          -123,
          -75,
          -49,
          2,
          -93,
          -99,
          -15,
          57,
          -48,
          -37,
          -119,
          123,
          -37,
          95,
          -4,
          48,
          71,
          61,
          -115,
          -31,
          -69,
          -73,
          73,
          -86,
          -7,
          -11,
          -50,
          -84,
          -28,
          -105,
          -78,
          -112,
          -108,
          -15,
          -74,
          -22,
          115,
          95,
          57,
          -58,
          117,
          -55,
          74,
          76,
          77,
          -85,
          95,
          45,
          -19,
          -26,
          -7,
          58,
          105,
          36,
          101,
          -106,
          48,
          -13,
          106,
          22,
          67,
          5,
          59,
          74,
          102,
          19,
          -38,
          -75,
          -36,
          -45,
          -101,
          -58,
          -77,
          -127,
          -19,
          74,
          -99,
          -90,
          33,
          -83,
          -44,
          -28,
          80,
          72,
          -71,
          11,
          -62,
          -4,
          117,
          -116,
          87,
          111,
          -93,
          48,
          -79,
          119,
          0,
          73,
          -91,
          -69,
          -81,
          -23,
          51,
          126,
          -60,
          31,
          93,
          -125,
          -126,
          51,
          123,
          37,
          101,
          -8,
          105,
          85,
          100,
          -71,
          -9,
          -50,
          0,
          -120,
          -52,
          22,
          68,
          73,
          52,
          6,
          103,
          0,
          -53,
          -120,
          -111,
          86,
          71,
          64,
          55,
          112,
          -17,
          57,
          58,
          -51,
          39,
          46,
          -66,
          45,
          87,
          -18,
          -25,
          -117,
          -31,
          -52,
          89,
          0,
          0,
          -35,
          5,
          -22,
          122,
          -94,
          40,
          -76,
          -46,
          29,
          84,
          -54,
          55,
          -13,
          -5,
          -51,
          56,
          -106,
          -104,
          117,
          -109,
          -20,
          76,
          124,
          28,
          64,
          16,
          -74,
          68,
          124,
          77,
          -15,
          90,
          125,
          0,
          -98,
          -103,
          -49,
          -111,
          -64,
          -68,
          -127,
          -64,
          92,
          108,
          -21,
          -127,
          -96,
          -2,
          -78,
          103,
          -102,
          -120,
          -100,
          -49,
          107,
          -55,
          22,
          75,
          -66,
          21,
          65,
          39,
          45,
          -76,
          -33,
          81,
          25,
          105,
          -4,
          -89,
          -125,
          -75,
          2,
          38,
          -40,
          -120,
          58,
          65,
          80,
          51,
          13,
          11,
          109,
          106,
          30,
          19,
          -105,
          -40,
          -39,
          20,
          106,
          3,
          88,
          11,
          -30,
          -73,
          -63,
          1,
          122,
          -70,
          127,
          40,
          65,
          -60,
          -111,
          -29,
          -90,
          -83,
          42,
          -116,
          72,
          -2,
          -15,
          0,
          38,
          -49,
          93,
          -48,
          -33,
          -17,
          119,
          -125,
          -83,
          118,
          -93,
          -110,
          22,
          -8,
          90,
          -114,
          -25,
          -53,
          120,
          0,
          0,
          0,
          -27,
          -20,
          -64,
          125,
          46,
          51,
          -103,
          -57,
          52,
          -128,
          -95,
          47,
          -85,
          -111,
          117,
          27,
          -6,
          60,
          -128,
          68,
          82,
          -89,
          52,
          -124,
          -25,
          -104,
          54,
          68,
          35,
          -123,
          -53,
          52,
          85,
          -73,
          15,
          -64,
          62,
          -99,
          4,
          67,
          116,
          -71,
          34,
          93,
          71,
          -82,
          -59,
          -30,
          -93,
          110,
          -126,
          -68,
          89,
          120,
          91,
          -10,
          -47,
          -117,
          -18,
          101,
          -71,
          75,
          -15,
          51,
          123,
          -29,
          82,
          -10,
          -72,
          38,
          -62,
          19,
          -125,
          82,
          -112,
          127,
          -14,
          87,
          65,
          -51,
          -3,
          55,
          -67,
          -14,
          -65,
          1,
          109,
          50,
          15,
          18,
          89,
          -104,
          -44,
          113,
          31,
          20,
          26,
          102,
          -53,
          107,
          -121,
          -75,
          69,
          57,
          40,
          -99,
          69,
          124,
          61,
          21,
          -74,
          -92,
          50,
          49,
          -15,
          39,
          -6,
          -100,
          30,
          106,
          -7,
          -110,
          -67,
          80,
          -50,
          -10,
          -39,
          -109,
          -38,
          98,
          43,
          -55,
          -85,
          97,
          18,
          -78,
          -43,
          -26,
          -38,
          -95,
          42,
          -29,
          42,
          -65,
          88,
          15,
          -120,
          -19,
          96,
          9,
          108,
          29,
          -3,
          82,
          109,
          66,
          94,
          62,
          94,
          -19,
          80,
          104,
          -17,
          16,
          38,
          57,
          84,
          -100,
          -55,
          93,
          62,
          -95,
          -72,
          75,
          47,
          -47,
          -89,
          21,
          -54,
          51,
          -61,
          -89,
          -18,
          19,
          -78,
          125,
          115,
          -109,
          -33,
          -81,
          81,
          103,
          81,
          4,
          -107,
          63,
          -110,
          38,
          35,
          -73,
          -86,
          -22,
          -63,
          41,
          -60,
          -116,
          115,
          16,
          54,
          76,
          74,
          -118,
          -122,
          100,
          -42,
          39,
          -86,
          -103,
          -112,
          -9,
          -11,
          -125,
          -1,
          8,
          84,
          -57,
          27,
          85,
          87,
          -51,
          -18,
          89,
          0,
          -82,
          67,
          40,
          122,
          -105,
          76,
          -41,
          -16,
          69,
          89,
          61,
          -2,
          -3,
          -107,
          29,
          -76,
          40,
          -85,
          33,
          121,
          -53,
          -120,
          -107,
          -55,
          -57,
          10,
          -12,
          -117,
          -94,
          -41,
          107,
          15,
          -15,
          -8,
          -78,
          -88,
          123,
          -59,
          60,
          -29,
          -5,
          -7,
          102,
          1,
          -117,
          -62,
          85,
          20,
          -43,
          -21,
          -29,
          58,
          -76,
          5,
          -33,
          7,
          -37,
          96,
          -111,
          -2,
          43,
          53,
          46,
          41,
          88,
          -126,
          -45,
          -100,
          80,
          124,
          85,
          127,
          -12,
          -62,
          -66,
          -21,
          124,
          2,
          103,
          80,
          -101,
          90,
          -12,
          -126,
          112,
          27,
          -109,
          -63,
          -31,
          87,
          125,
          -72,
          -8,
          -31,
          -62,
          -62,
          -38,
          -8,
          49,
          -113,
          -86,
          -40,
          0,
          -81,
          126,
          30,
          -45,
          -65,
          59,
          -77,
          122,
          -51,
          4,
          11,
          66,
          69,
          -8,
          -78,
          16,
          118,
          7,
          118,
          -10,
          45,
          -36,
          -14,
          29,
          14,
          64,
          -100,
          52,
          58,
          -72,
          -127,
          -121,
          50,
          4,
          47,
          1,
          92,
          42,
          -88,
          118,
          70,
          100,
          72,
          -64,
          -19,
          22,
          51,
          89,
          124,
          -36,
          -94,
          0,
          74,
          -110,
          58,
          -70,
          0,
          -41,
          58,
          18,
          103,
          -101,
          85,
          -102,
          -17,
          43,
          -56,
          -57,
          79,
          37,
          69,
          -105,
          -114,
          -72,
          104,
          102,
          -121,
          112,
          -52,
          46,
          57,
          24,
          -50,
          -89,
          93,
          -12,
          0,
          82,
          113,
          69,
          19,
          -28,
          -42,
          108,
          -51,
          121,
          -47,
          -41,
          106,
          51,
          74,
          81,
          3,
          6,
          74,
          101,
          45,
          38,
          -36,
          -53,
          -122,
          -127,
          53,
          -10,
          -40,
          -107,
          75,
          -108,
          -82,
          109,
          -33,
          97,
          76,
          5,
          -33,
          108,
          -19,
          71,
          81,
          -26,
          -57,
          15,
          -81,
          -47,
          57,
          51,
          67,
          -66,
          -102,
          -55,
          -42,
          -76,
          -37,
          12,
          12,
          30,
          69,
          73,
          90,
          -13,
          -19,
          -116,
          110,
          29,
          12,
          -8,
          -47,
          52,
          -128,
          -19,
          -54,
          66,
          41,
          122,
          42,
          -62,
          115,
          -95,
          16,
          38,
          71,
          79,
          122,
          -28,
          -125,
          -123,
          -60,
          -105,
          105,
          -89,
          44,
          -109,
          -4,
          -107,
          -80,
          11,
          -89,
          82,
          61,
          -45,
          -4,
          -116,
          -48,
          85,
          70,
          -87,
          101,
          -96,
          -59,
          -118,
          -106,
          -23,
          -54,
          -52,
          -62,
          98,
          69,
          -94,
          -72,
          0,
          -126,
          89,
          -85,
          -13,
          -127,
          124,
          91,
          86,
          -19,
          -86,
          -66,
          -123,
          -39,
          124,
          -108,
          -2,
          92,
          67,
          -89,
          28,
          -68,
          -13,
          -43,
          -64,
          -61,
          27,
          88,
          -106,
          -42,
          -33,
          101,
          80,
          -7,
          -67,
          -91,
          -11,
          5,
          11,
          -7,
          108,
          -12,
          7,
          -51,
          52,
          123,
          -128,
          -25,
          -95,
          11,
          -120,
          33,
          -35,
          30,
          -113,
          21,
          -117,
          -18,
          21,
          75,
          -74,
          -53,
          24,
          92,
          -84,
          125,
          127,
          40,
          57,
          -66,
          52,
          77,
          116,
          -69,
          -78,
          -107,
          57,
          -89,
          -54,
          -37,
          -56,
          64,
          124,
          23,
          121,
          -107,
          118,
          43,
          -110,
          -60,
          -32,
          60,
          77,
          -123,
          77,
          28,
          10,
          76,
          41,
          67,
          -100,
          -69,
          -110,
          14,
          122,
          105,
          -34,
          30,
          91,
          -110,
          -14,
          114,
          10,
          -3,
          28,
          -6,
          32,
          -40,
          5,
          -7,
          -41,
          98,
          -3,
          -123,
          15,
          83,
          75,
          -86,
          -54,
          36,
          76,
          -95,
          31,
          -22,
          116,
          -79,
          0,
          123,
          53,
          105,
          -14,
          120,
          -126,
          -71,
          -75,
          82,
          53,
          -59,
          -62,
          67,
          22,
          114,
          83,
          19,
          34,
          16,
          -39,
          90,
          15,
          -23,
          -41,
          -13,
          -48,
          -77,
          -51,
          -96,
          -17,
          30,
          60,
          66,
          -60,
          -109,
          -115,
          -111,
          20,
          -46,
          2,
          124,
          98,
          -106,
          101,
          -74,
          -121,
          -30,
          -83,
          21,
          78,
          -74,
          -120,
          -97,
          86,
          -15,
          -92,
          -114,
          -38,
          117,
          -13,
          -90,
          77,
          37,
          16,
          -114,
          60,
          -68,
          -22,
          93,
          66,
          -53,
          90,
          17,
          -42,
          93,
          113,
          106,
          86,
          -81,
          -120,
          -77,
          -117,
          50,
          22,
          -24,
          -91,
          50,
          95,
          35,
          -65,
          127,
          117,
          -34,
          -61,
          21,
          33,
          -128,
          -24,
          99,
          106,
          88,
          -2,
          -80,
          31,
          -18,
          -88,
          107,
          85,
          82,
          -17,
          -128,
          -23,
          95,
          -41,
          67,
          104,
          8,
          19,
          -6,
          -71,
          89,
          -14,
          -2,
          -12,
          -91,
          118,
          77,
          38,
          122,
          -98,
          -70,
          -70,
          82,
          49,
          89,
          -99,
          89,
          71,
          -109,
          -21,
          -6,
          17,
          -126,
          -16,
          0
         ],
         "yaxis": "y"
        },
        {
         "line": {
          "dash": "dash"
         },
         "mode": "lines",
         "name": "Perfect Prediction",
         "type": "scatter",
         "x": [
          500,
          250000
         ],
         "y": [
          500,
          250000
         ]
        }
       ],
       "layout": {
        "legend": {
         "tracegroupgap": 0
        },
        "margin": {
         "t": 60
        },
        "template": {
         "data": {
          "bar": [
           {
            "error_x": {
             "color": "#2a3f5f"
            },
            "error_y": {
             "color": "#2a3f5f"
            },
            "marker": {
             "line": {
              "color": "#E5ECF6",
              "width": 0.5
             },
             "pattern": {
              "fillmode": "overlay",
              "size": 10,
              "solidity": 0.2
             }
            },
            "type": "bar"
           }
          ],
          "barpolar": [
           {
            "marker": {
             "line": {
              "color": "#E5ECF6",
              "width": 0.5
             },
             "pattern": {
              "fillmode": "overlay",
              "size": 10,
              "solidity": 0.2
             }
            },
            "type": "barpolar"
           }
          ],
          "carpet": [
           {
            "aaxis": {
             "endlinecolor": "#2a3f5f",
             "gridcolor": "white",
             "linecolor": "white",
             "minorgridcolor": "white",
             "startlinecolor": "#2a3f5f"
            },
            "baxis": {
             "endlinecolor": "#2a3f5f",
             "gridcolor": "white",
             "linecolor": "white",
             "minorgridcolor": "white",
             "startlinecolor": "#2a3f5f"
            },
            "type": "carpet"
           }
          ],
          "choropleth": [
           {
            "colorbar": {
             "outlinewidth": 0,
             "ticks": ""
            },
            "type": "choropleth"
           }
          ],
          "contour": [
           {
            "colorbar": {
             "outlinewidth": 0,
             "ticks": ""
            },
            "colorscale": [
             [
              0,
              "#0d0887"
             ],
             [
              0.1111111111111111,
              "#46039f"
             ],
             [
              0.2222222222222222,
              "#7201a8"
             ],
             [
              0.3333333333333333,
              "#9c179e"
             ],
             [
              0.4444444444444444,
              "#bd3786"
             ],
             [
              0.5555555555555556,
              "#d8576b"
             ],
             [
              0.6666666666666666,
              "#ed7953"
             ],
             [
              0.7777777777777778,
              "#fb9f3a"
             ],
             [
              0.8888888888888888,
              "#fdca26"
             ],
             [
              1,
              "#f0f921"
             ]
            ],
            "type": "contour"
           }
          ],
          "contourcarpet": [
           {
            "colorbar": {
             "outlinewidth": 0,
             "ticks": ""
            },
            "type": "contourcarpet"
           }
          ],
          "heatmap": [
           {
            "colorbar": {
             "outlinewidth": 0,
             "ticks": ""
            },
            "colorscale": [
             [
              0,
              "#0d0887"
             ],
             [
              0.1111111111111111,
              "#46039f"
             ],
             [
              0.2222222222222222,
              "#7201a8"
             ],
             [
              0.3333333333333333,
              "#9c179e"
             ],
             [
              0.4444444444444444,
              "#bd3786"
             ],
             [
              0.5555555555555556,
              "#d8576b"
             ],
             [
              0.6666666666666666,
              "#ed7953"
             ],
             [
              0.7777777777777778,
              "#fb9f3a"
             ],
             [
              0.8888888888888888,
              "#fdca26"
             ],
             [
              1,
              "#f0f921"
             ]
            ],
            "type": "heatmap"
           }
          ],
          "heatmapgl": [
           {
            "colorbar": {
             "outlinewidth": 0,
             "ticks": ""
            },
            "colorscale": [
             [
              0,
              "#0d0887"
             ],
             [
              0.1111111111111111,
              "#46039f"
             ],
             [
              0.2222222222222222,
              "#7201a8"
             ],
             [
              0.3333333333333333,
              "#9c179e"
             ],
             [
              0.4444444444444444,
              "#bd3786"
             ],
             [
              0.5555555555555556,
              "#d8576b"
             ],
             [
              0.6666666666666666,
              "#ed7953"
             ],
             [
              0.7777777777777778,
              "#fb9f3a"
             ],
             [
              0.8888888888888888,
              "#fdca26"
             ],
             [
              1,
              "#f0f921"
             ]
            ],
            "type": "heatmapgl"
           }
          ],
          "histogram": [
           {
            "marker": {
             "pattern": {
              "fillmode": "overlay",
              "size": 10,
              "solidity": 0.2
             }
            },
            "type": "histogram"
           }
          ],
          "histogram2d": [
           {
            "colorbar": {
             "outlinewidth": 0,
             "ticks": ""
            },
            "colorscale": [
             [
              0,
              "#0d0887"
             ],
             [
              0.1111111111111111,
              "#46039f"
             ],
             [
              0.2222222222222222,
              "#7201a8"
             ],
             [
              0.3333333333333333,
              "#9c179e"
             ],
             [
              0.4444444444444444,
              "#bd3786"
             ],
             [
              0.5555555555555556,
              "#d8576b"
             ],
             [
              0.6666666666666666,
              "#ed7953"
             ],
             [
              0.7777777777777778,
              "#fb9f3a"
             ],
             [
              0.8888888888888888,
              "#fdca26"
             ],
             [
              1,
              "#f0f921"
             ]
            ],
            "type": "histogram2d"
           }
          ],
          "histogram2dcontour": [
           {
            "colorbar": {
             "outlinewidth": 0,
             "ticks": ""
            },
            "colorscale": [
             [
              0,
              "#0d0887"
             ],
             [
              0.1111111111111111,
              "#46039f"
             ],
             [
              0.2222222222222222,
              "#7201a8"
             ],
             [
              0.3333333333333333,
              "#9c179e"
             ],
             [
              0.4444444444444444,
              "#bd3786"
             ],
             [
              0.5555555555555556,
              "#d8576b"
             ],
             [
              0.6666666666666666,
              "#ed7953"
             ],
             [
              0.7777777777777778,
              "#fb9f3a"
             ],
             [
              0.8888888888888888,
              "#fdca26"
             ],
             [
              1,
              "#f0f921"
             ]
            ],
            "type": "histogram2dcontour"
           }
          ],
          "mesh3d": [
           {
            "colorbar": {
             "outlinewidth": 0,
             "ticks": ""
            },
            "type": "mesh3d"
           }
          ],
          "parcoords": [
           {
            "line": {
             "colorbar": {
              "outlinewidth": 0,
              "ticks": ""
             }
            },
            "type": "parcoords"
           }
          ],
          "pie": [
           {
            "automargin": true,
            "type": "pie"
           }
          ],
          "scatter": [
           {
            "fillpattern": {
             "fillmode": "overlay",
             "size": 10,
             "solidity": 0.2
            },
            "type": "scatter"
           }
          ],
          "scatter3d": [
           {
            "line": {
             "colorbar": {
              "outlinewidth": 0,
              "ticks": ""
             }
            },
            "marker": {
             "colorbar": {
              "outlinewidth": 0,
              "ticks": ""
             }
            },
            "type": "scatter3d"
           }
          ],
          "scattercarpet": [
           {
            "marker": {
             "colorbar": {
              "outlinewidth": 0,
              "ticks": ""
             }
            },
            "type": "scattercarpet"
           }
          ],
          "scattergeo": [
           {
            "marker": {
             "colorbar": {
              "outlinewidth": 0,
              "ticks": ""
             }
            },
            "type": "scattergeo"
           }
          ],
          "scattergl": [
           {
            "marker": {
             "colorbar": {
              "outlinewidth": 0,
              "ticks": ""
             }
            },
            "type": "scattergl"
           }
          ],
          "scattermapbox": [
           {
            "marker": {
             "colorbar": {
              "outlinewidth": 0,
              "ticks": ""
             }
            },
            "type": "scattermapbox"
           }
          ],
          "scatterpolar": [
           {
            "marker": {
             "colorbar": {
              "outlinewidth": 0,
              "ticks": ""
             }
            },
            "type": "scatterpolar"
           }
          ],
          "scatterpolargl": [
           {
            "marker": {
             "colorbar": {
              "outlinewidth": 0,
              "ticks": ""
             }
            },
            "type": "scatterpolargl"
           }
          ],
          "scatterternary": [
           {
            "marker": {
             "colorbar": {
              "outlinewidth": 0,
              "ticks": ""
             }
            },
            "type": "scatterternary"
           }
          ],
          "surface": [
           {
            "colorbar": {
             "outlinewidth": 0,
             "ticks": ""
            },
            "colorscale": [
             [
              0,
              "#0d0887"
             ],
             [
              0.1111111111111111,
              "#46039f"
             ],
             [
              0.2222222222222222,
              "#7201a8"
             ],
             [
              0.3333333333333333,
              "#9c179e"
             ],
             [
              0.4444444444444444,
              "#bd3786"
             ],
             [
              0.5555555555555556,
              "#d8576b"
             ],
             [
              0.6666666666666666,
              "#ed7953"
             ],
             [
              0.7777777777777778,
              "#fb9f3a"
             ],
             [
              0.8888888888888888,
              "#fdca26"
             ],
             [
              1,
              "#f0f921"
             ]
            ],
            "type": "surface"
           }
          ],
          "table": [
           {
            "cells": {
             "fill": {
              "color": "#EBF0F8"
             },
             "line": {
              "color": "white"
             }
            },
            "header": {
             "fill": {
              "color": "#C8D4E3"
             },
             "line": {
              "color": "white"
             }
            },
            "type": "table"
           }
          ]
         },
         "layout": {
          "annotationdefaults": {
           "arrowcolor": "#2a3f5f",
           "arrowhead": 0,
           "arrowwidth": 1
          },
          "autotypenumbers": "strict",
          "coloraxis": {
           "colorbar": {
            "outlinewidth": 0,
            "ticks": ""
           }
          },
          "colorscale": {
           "diverging": [
            [
             0,
             "#8e0152"
            ],
            [
             0.1,
             "#c51b7d"
            ],
            [
             0.2,
             "#de77ae"
            ],
            [
             0.3,
             "#f1b6da"
            ],
            [
             0.4,
             "#fde0ef"
            ],
            [
             0.5,
             "#f7f7f7"
            ],
            [
             0.6,
             "#e6f5d0"
            ],
            [
             0.7,
             "#b8e186"
            ],
            [
             0.8,
             "#7fbc41"
            ],
            [
             0.9,
             "#4d9221"
            ],
            [
             1,
             "#276419"
            ]
           ],
           "sequential": [
            [
             0,
             "#0d0887"
            ],
            [
             0.1111111111111111,
             "#46039f"
            ],
            [
             0.2222222222222222,
             "#7201a8"
            ],
            [
             0.3333333333333333,
             "#9c179e"
            ],
            [
             0.4444444444444444,
             "#bd3786"
            ],
            [
             0.5555555555555556,
             "#d8576b"
            ],
            [
             0.6666666666666666,
             "#ed7953"
            ],
            [
             0.7777777777777778,
             "#fb9f3a"
            ],
            [
             0.8888888888888888,
             "#fdca26"
            ],
            [
             1,
             "#f0f921"
            ]
           ],
           "sequentialminus": [
            [
             0,
             "#0d0887"
            ],
            [
             0.1111111111111111,
             "#46039f"
            ],
            [
             0.2222222222222222,
             "#7201a8"
            ],
            [
             0.3333333333333333,
             "#9c179e"
            ],
            [
             0.4444444444444444,
             "#bd3786"
            ],
            [
             0.5555555555555556,
             "#d8576b"
            ],
            [
             0.6666666666666666,
             "#ed7953"
            ],
            [
             0.7777777777777778,
             "#fb9f3a"
            ],
            [
             0.8888888888888888,
             "#fdca26"
            ],
            [
             1,
             "#f0f921"
            ]
           ]
          },
          "colorway": [
           "#636efa",
           "#EF553B",
           "#00cc96",
           "#ab63fa",
           "#FFA15A",
           "#19d3f3",
           "#FF6692",
           "#B6E880",
           "#FF97FF",
           "#FECB52"
          ],
          "font": {
           "color": "#2a3f5f"
          },
          "geo": {
           "bgcolor": "white",
           "lakecolor": "white",
           "landcolor": "#E5ECF6",
           "showlakes": true,
           "showland": true,
           "subunitcolor": "white"
          },
          "hoverlabel": {
           "align": "left"
          },
          "hovermode": "closest",
          "mapbox": {
           "style": "light"
          },
          "paper_bgcolor": "white",
          "plot_bgcolor": "#E5ECF6",
          "polar": {
           "angularaxis": {
            "gridcolor": "white",
            "linecolor": "white",
            "ticks": ""
           },
           "bgcolor": "#E5ECF6",
           "radialaxis": {
            "gridcolor": "white",
            "linecolor": "white",
            "ticks": ""
           }
          },
          "scene": {
           "xaxis": {
            "backgroundcolor": "#E5ECF6",
            "gridcolor": "white",
            "gridwidth": 2,
            "linecolor": "white",
            "showbackground": true,
            "ticks": "",
            "zerolinecolor": "white"
           },
           "yaxis": {
            "backgroundcolor": "#E5ECF6",
            "gridcolor": "white",
            "gridwidth": 2,
            "linecolor": "white",
            "showbackground": true,
            "ticks": "",
            "zerolinecolor": "white"
           },
           "zaxis": {
            "backgroundcolor": "#E5ECF6",
            "gridcolor": "white",
            "gridwidth": 2,
            "linecolor": "white",
            "showbackground": true,
            "ticks": "",
            "zerolinecolor": "white"
           }
          },
          "shapedefaults": {
           "line": {
            "color": "#2a3f5f"
           }
          },
          "ternary": {
           "aaxis": {
            "gridcolor": "white",
            "linecolor": "white",
            "ticks": ""
           },
           "baxis": {
            "gridcolor": "white",
            "linecolor": "white",
            "ticks": ""
           },
           "bgcolor": "#E5ECF6",
           "caxis": {
            "gridcolor": "white",
            "linecolor": "white",
            "ticks": ""
           }
          },
          "title": {
           "x": 0.05
          },
          "xaxis": {
           "automargin": true,
           "gridcolor": "white",
           "linecolor": "white",
           "ticks": "",
           "title": {
            "standoff": 15
           },
           "zerolinecolor": "white",
           "zerolinewidth": 2
          },
          "yaxis": {
           "automargin": true,
           "gridcolor": "white",
           "linecolor": "white",
           "ticks": "",
           "title": {
            "standoff": 15
           },
           "zerolinecolor": "white",
           "zerolinewidth": 2
          }
         }
        },
        "title": {
         "text": "Predicted vs Actual Salary"
        },
        "xaxis": {
         "anchor": "y",
         "domain": [
          0,
          1
         ],
         "title": {
          "text": "Actual Salary"
         }
        },
        "yaxis": {
         "anchor": "x",
         "domain": [
          0,
          1
         ],
         "title": {
          "text": "Predicted Salary"
         }
        }
       }
      }
     },
     "metadata": {},
     "output_type": "display_data"
    },
    {
     "data": {
      "application/vnd.plotly.v1+json": {
       "config": {
        "plotlyServerURL": "https://plot.ly"
       },
       "data": [
        {
         "alignmentgroup": "True",
         "bingroup": "x",
         "hovertemplate": "Residuals=%{x}<br>count=%{y}<extra></extra>",
         "legendgroup": "",
         "marker": {
          "color": "#636efa",
          "pattern": {
           "shape": ""
          }
         },
         "name": "",
         "offsetgroup": "",
         "orientation": "v",
         "showlegend": false,
         "type": "histogram",
         "x": [
          -3108,
          -35913,
          -32058,
          -1956,
          -1886,
          -19984,
          -11079,
          -4981,
          -13094,
          -27989,
          -4073,
          -3127,
          -2904,
          -2922,
          -4012,
          -2884,
          -2087,
          -4980,
          -2105,
          -2932,
          -5073,
          -90120,
          -14964,
          -15101,
          -17121,
          -16125,
          -845,
          -2114,
          -8044,
          -7973,
          -5007,
          -6052,
          -27116,
          -7936,
          -947,
          -3977,
          -4936,
          -60092,
          -29059,
          -1003,
          -29942,
          -7910,
          -6029,
          -1058,
          -950,
          -8054,
          -7125,
          -19059,
          -5006,
          -35956,
          -2087,
          -10086,
          -6029,
          -3929,
          -35033,
          -1974,
          -7991,
          -249971,
          -1942,
          -61091,
          -15125,
          -38113,
          -38940,
          -2069,
          -48967,
          -27117,
          -444,
          -5947,
          -22019,
          -7961,
          -973,
          -6970,
          -3885,
          -3107,
          -27983,
          -2014,
          -5004,
          -4886,
          -1020,
          -4022,
          -942,
          -2108,
          -891,
          -11921,
          -1979,
          -13879,
          -500,
          -28065,
          -1894,
          -9100,
          -164985,
          -4964,
          -723,
          -88120,
          -4894,
          -3938,
          -5894,
          -3943,
          -10926,
          -7040,
          -909,
          -3002,
          -6977,
          -5891,
          -7044,
          -3000,
          -7070,
          -2092,
          -4900,
          -5958,
          -105046,
          -6873,
          -996,
          -4943,
          -2885,
          -6885,
          -1893,
          -5009,
          -2066,
          -105024,
          -5918,
          -916,
          -7092,
          -19896,
          -891,
          -24945,
          -43127,
          -11108,
          -2101,
          -1061,
          -7063,
          -2091,
          -2033,
          -1991,
          -30900,
          -15096,
          -22110,
          -2897,
          -19985,
          -2089,
          -24905,
          -17115,
          -571,
          -3941,
          -3072,
          -11918,
          -18979,
          -22039,
          -11070,
          -15098,
          -78938,
          -6110,
          -14897,
          -916,
          -80128,
          -18081,
          -14887,
          -3997,
          -2114,
          -12115,
          -36016,
          -2059,
          -77928,
          -7071,
          -15037,
          -799,
          -3078,
          -2961,
          -2066,
          -2073,
          -56071,
          -58891,
          -10947,
          -63894,
          -3108,
          -5948,
          -9992,
          -4023,
          -31976,
          -15066,
          -8067,
          -2070,
          -29096,
          -12084,
          -7127,
          -9946,
          -67894,
          -886,
          -1079,
          -14074,
          -7027,
          -5079,
          -40039,
          -1913,
          -41980,
          -15115,
          -7954,
          -378,
          -4043,
          -180000,
          -9989,
          -4944,
          -3025,
          -36017,
          -11949,
          -5912,
          -3990,
          -3030,
          -24111,
          -982,
          -130013,
          -89944,
          -1937,
          -3942,
          -2968,
          -4891,
          -956,
          -9077,
          -609,
          -5019,
          -4122,
          -29929,
          -4948,
          -2104,
          -5097,
          -1895,
          -27957,
          -807,
          -6044,
          -6038,
          -7928,
          -20017,
          -509,
          -21002,
          -150120,
          -16035,
          -24947,
          -9933,
          -8036,
          -2963,
          -1887,
          -2122,
          -922,
          -461,
          -33936,
          -1907,
          -19886,
          -7990,
          -995,
          -1028,
          -12906,
          -5034,
          -77967,
          -3904,
          -2876,
          -5894,
          -4931,
          -3049,
          -5055,
          -19995,
          -3877,
          -4998,
          -5938,
          -1023,
          -2963,
          -16937,
          -7910,
          -12947,
          -1990,
          -13030,
          -1950,
          -4086,
          -2028,
          -20942,
          -5099,
          -26922,
          -7072,
          -29032,
          -24996,
          -737,
          -887,
          -56005,
          -6920,
          -6046,
          -11936,
          -63114,
          -13029,
          -6985,
          -639,
          -3096,
          -1945,
          -14930,
          -1954,
          -130050,
          -4910,
          -2087,
          -2933,
          -9082,
          -22927,
          -6893,
          -31031,
          -924,
          -12027,
          -3040,
          -4002,
          -9106,
          -14967,
          -478,
          -59910,
          -19086,
          -500,
          -3068,
          -11040,
          -1994,
          -958,
          -8991,
          -30048,
          -6960,
          -16060,
          -57932,
          -19093,
          -4122,
          -42977,
          -104908,
          -2977,
          -1964,
          -2982,
          -9890,
          -1958,
          -25884,
          -1121,
          -13010,
          -8002,
          -672,
          -23919,
          -1879,
          -382,
          -3971,
          -170014,
          -2911,
          -19982,
          -561,
          -418,
          -32093,
          -23916,
          -2038,
          -1091,
          -6930,
          -23024,
          -1906,
          -5945,
          -16032,
          -200019,
          -991,
          -8974,
          -3114,
          -1125,
          -1933,
          -43965,
          -6886,
          -48982,
          -2905,
          -2980,
          -23060,
          -20108,
          -22994,
          -3984,
          -5105,
          -10951,
          -16878,
          -7005,
          -1903,
          -5090,
          -7914,
          -3007,
          -11079,
          -7116,
          -955,
          -2980,
          -51908,
          -22030,
          -997,
          -11973,
          -2071,
          -3018,
          -48941,
          -5022,
          -46093,
          -595,
          -829,
          -25064,
          -9938,
          -4913,
          -14951,
          -18067,
          -913,
          -500,
          -29118,
          -1040,
          -8088,
          -31010,
          -58937,
          -14914,
          -2113,
          -8107,
          -2061,
          -2931,
          -2001,
          -12966,
          -4122,
          -149932,
          -6944,
          -18103,
          -920,
          -7982,
          -2032,
          -17106,
          -14976,
          -89966,
          -10038,
          -936,
          -13096,
          -8010,
          -1018,
          -3111,
          -819,
          -1062,
          -2058,
          -2030,
          -1943,
          -448,
          -5049,
          -3915,
          -53066,
          -18026,
          -2003,
          -5053,
          -8982,
          -2005,
          -6925,
          -5954,
          -5070,
          -10880,
          -4909,
          -664,
          -13902,
          -14093,
          -19037,
          -31123,
          -2075,
          -1049,
          -6998,
          -11093,
          -2099,
          -18015,
          -35943,
          -17048,
          -10037,
          -7119,
          -877,
          -16037,
          -49905,
          -2004,
          -1952,
          -16929,
          -2939,
          -1115,
          -9031,
          -15069,
          -5073,
          -4927,
          -1086,
          -4007,
          -1011,
          -4050,
          -3084,
          -14028,
          -125105,
          -7078,
          -13112,
          -3108,
          -3015,
          -1074,
          -8022,
          -13885,
          -89905,
          -943,
          -3058,
          -2883,
          -9055,
          -2926,
          -5924,
          -1923,
          -16085,
          -50905,
          -7955,
          -6019,
          -13026,
          -4007,
          -5942,
          -11895,
          -714,
          -4899,
          -906,
          -15952,
          -3013,
          -25894,
          -978,
          -30933,
          -1995,
          -10941,
          -52926,
          -1898,
          -11981,
          -20038,
          -21075,
          -1036,
          -545,
          -11101,
          -3058,
          -3077,
          -11127,
          -1019,
          -926,
          -599,
          -4090,
          -21967,
          -2083,
          -40044,
          -2028,
          -3920,
          -17928,
          -5071,
          -4989,
          -1062,
          -504,
          -6883,
          -23116,
          -1913,
          -6889,
          -17093,
          -452,
          -7079,
          -24881,
          -2000,
          -10927,
          -105091,
          -95069,
          -22081,
          -3023,
          -24949,
          -874,
          -9060,
          -14969,
          -7907,
          -5125,
          -2126,
          -1949,
          -4877,
          -5963,
          -10899,
          -17008,
          -395,
          -3915,
          -6900,
          -4071,
          -12009,
          -3050,
          -500,
          -2120,
          -2052,
          -7978,
          -17932,
          -4927,
          -32948,
          -3994,
          -1897,
          -13000,
          -14053,
          -8120,
          -43111,
          -14914,
          -3929,
          -1936,
          -1945,
          -1888,
          -68017,
          -34943,
          -5942,
          -4051,
          -13961,
          -5954,
          -616,
          -6955,
          -4913,
          -1018,
          -4025,
          -18117,
          -15031,
          -13052,
          -3911,
          -500,
          -500,
          -21035,
          -4995,
          -2022,
          -31878,
          -14094,
          -3960,
          -18076,
          -3046,
          -9971,
          -6916,
          -12054,
          -36945,
          -5013,
          -1005,
          -26051,
          -944,
          -1106,
          -22104,
          -21883,
          -5109,
          -110020,
          -524,
          -10876,
          -2972,
          -29936,
          -6984,
          -3074,
          -6932,
          -876,
          -923,
          -2015,
          -36910,
          -11875,
          -500,
          -43098,
          -1053,
          -4049,
          -3111,
          -18064,
          -1068,
          -15127,
          -4064,
          -458,
          -892,
          -6021,
          -10127,
          -6096,
          -37002,
          -22078,
          -1897,
          -2102,
          -2120,
          -800,
          -6049,
          -2893,
          -11055,
          -37978,
          -1925,
          -33066,
          -5979,
          -3935,
          -461,
          -4955,
          -8076,
          -13033,
          -5919,
          -35975,
          -33895,
          -1004,
          -739,
          -2125,
          -4075,
          -2998,
          -50962,
          -7040,
          -7120,
          -3942,
          -3935,
          -1920,
          -649,
          -1987,
          -36989,
          -2891,
          -4894,
          -6970,
          -5981,
          -6105,
          -2040,
          -3039,
          -5980,
          -28894,
          -20997,
          -1912,
          -50989,
          -8030,
          -26073,
          -19063,
          -45999,
          -12878,
          -19070,
          -1873,
          -84960,
          -8935,
          -6060,
          -9111,
          -2029,
          -6090,
          -16083,
          -10958,
          -2116,
          -3928,
          -23002,
          -22015,
          -500,
          -4962,
          -2049,
          -22907,
          -2048,
          -1033,
          -3017,
          -1881,
          -3125,
          -22083,
          -18882,
          -8093,
          -20110,
          -1978,
          -6008,
          -38910,
          -23114,
          -28025,
          -3053,
          -9880,
          -2000,
          -500,
          -500,
          -7027,
          -4020,
          -3064,
          -725,
          -12954,
          -8949,
          -13103,
          -5057,
          -48948,
          -3128,
          -39095,
          -7953,
          -10085,
          -861,
          -20883,
          -1973,
          -4006,
          -9940,
          -1028,
          -932,
          -9918,
          -56089,
          -169948,
          -774,
          -5025,
          -10104,
          -1946,
          -6932,
          -47965,
          -3123,
          -210053,
          -15948,
          -3915,
          -39073,
          -7985,
          -22064,
          -29938,
          -11099,
          -596,
          -33933,
          -42884,
          -71071,
          -3966,
          -4907,
          -779,
          -2082,
          -65059,
          -4030,
          -9093,
          -390,
          -626,
          -9068,
          -5911,
          -4880,
          -15909,
          -1010,
          -9047,
          -51117,
          -2018,
          -3899,
          -1071,
          -4925,
          -8015,
          -26949,
          -6877,
          -25029,
          -22918,
          -16010,
          -822,
          -11962,
          -55062,
          -2981,
          -4125,
          -8918,
          -612,
          -2873,
          -1014,
          -1913,
          -2935,
          -34051,
          -26003,
          -4945,
          -23067,
          -514,
          -5065,
          -1999,
          -1891,
          -35950,
          -4985,
          -5982,
          -1911,
          -1104,
          -15044,
          -2887,
          -1969,
          -18980,
          -22974,
          -164898,
          -10053,
          -199893,
          -35121,
          -60075,
          -3931,
          -134943,
          -8960,
          -3099,
          -4931,
          -526,
          -3939,
          -1979,
          -8074,
          -6092,
          -17950,
          -35951,
          -6015,
          -18961,
          -38006,
          -3100,
          -14970,
          -894,
          -30007,
          -16110,
          -3067,
          -7920,
          -550,
          -2010,
          -7039,
          -2109,
          -8038,
          -3902,
          -1957,
          -29055,
          -20085,
          -45903,
          -53982,
          -36078,
          -1043,
          -14026,
          -16038,
          -11095,
          -7958,
          -3029,
          -13958,
          -2065,
          -3912,
          -34985,
          -10120,
          -8019,
          -404,
          -14991,
          -1892,
          -6971,
          -84003,
          -918,
          -11891,
          -8934,
          -6906,
          -22938,
          -7906,
          -27019,
          -17920,
          -1896,
          -46017,
          -43984,
          -812,
          -3943,
          -5916,
          -25100,
          -2055,
          -6907,
          -938,
          -1095,
          -11072,
          -7925,
          -70953,
          -120047,
          -3089,
          -2979,
          -1054,
          -4949,
          -2061,
          -589,
          -31018,
          -85981,
          -12078,
          -1875,
          -885,
          -78109,
          -22033,
          -10081,
          -9919,
          -4897,
          -2919,
          -9996,
          -20107,
          -19937,
          -5110,
          -9962,
          -1965,
          -7073,
          -9086,
          -4022,
          -16063,
          -3959,
          -37060,
          -1116,
          -32885,
          -9984,
          -26946,
          -2924,
          -15926,
          -2118,
          -1122,
          -6900,
          -3042,
          -31961,
          -57086,
          -17103,
          -3112,
          -4009,
          -5011,
          -24125,
          -11001,
          -9992,
          -2916,
          -1057,
          -973,
          -11915,
          -8913,
          -14051,
          -22018,
          -761,
          -750,
          -6082,
          -3933,
          -114960,
          -878,
          -1105,
          -18924,
          -2041,
          -38016,
          -4931,
          -9911,
          -8939,
          -9002,
          -1003,
          -12107,
          -12971,
          -16076,
          -5960,
          -2085,
          -219967,
          -72879,
          -36053,
          -6120,
          -3107,
          -3055,
          -19057,
          -19990,
          -3012,
          -7117,
          -130094,
          -2041,
          -2893,
          -43985,
          -815,
          -7008,
          -15078,
          -21088,
          -1877,
          -29059,
          -32940,
          -40029,
          -17005,
          -31007,
          -14898,
          -6999,
          -34117,
          -962,
          -3915,
          -1980,
          -27043,
          -1021,
          -2029,
          -18942,
          -4076,
          -12995,
          -7033,
          -3993,
          -20037,
          -21904,
          -5111,
          -2002,
          -10957,
          -19947,
          -23954,
          -28959,
          -14912,
          -626,
          -7045,
          -37100,
          -2920,
          -876,
          -12915,
          -3873,
          -2012,
          -44062,
          -13066,
          -5021,
          -1876,
          -3998,
          -17897,
          -67920,
          -7101,
          -28910,
          -56012,
          -2126,
          -838,
          -1973,
          -7109,
          -4063,
          -6031,
          -913,
          -52875,
          -3072,
          -6008,
          -2031,
          -1062,
          -49062,
          -1038,
          -2008,
          -1951,
          -3113,
          -49086,
          -2040,
          -3000,
          -12081,
          -1874,
          -57970,
          -2045,
          -815,
          -841,
          -1077,
          -14878,
          -7051,
          -2996,
          -3989,
          -99934,
          -1931,
          -18008,
          -3078,
          -46984,
          -3882,
          -493,
          -16882,
          -2010,
          -5955,
          -1036,
          -8014,
          -5971,
          -67986,
          -32936,
          -1100,
          -14948,
          -11942,
          -33072,
          -44127,
          -18121,
          -1950,
          -4996,
          -8953,
          -6999,
          -60908,
          -2958,
          -3088,
          -16882,
          -37930,
          -5900,
          -21928,
          -2064,
          -4019,
          -34978,
          -7949,
          -2911,
          -6876,
          -3036,
          -3094,
          -500,
          -59926,
          -230110,
          -52942,
          -6070,
          -500,
          -140041,
          -10942,
          -149982,
          -8897,
          -17101,
          -7915,
          -6102,
          -1017,
          -44957,
          -3056,
          -19057,
          -30921,
          -31963,
          -1931,
          -5105,
          -7114,
          -48072,
          -99896,
          -15898,
          -3121,
          -77888,
          -14052,
          -954,
          -50943,
          -1976,
          -3050,
          -13089,
          -5907,
          -1012,
          -6000,
          -32918,
          -6887,
          -2931,
          -21981,
          -2028,
          -13042,
          -45892,
          -10051,
          -2879,
          -4047,
          -38041,
          -13894,
          -899,
          -5926,
          -24919,
          -23997,
          -694,
          -46926,
          -6899,
          -6955,
          -29962,
          -2036,
          -20053,
          -3122,
          -2127,
          -12947,
          -12010,
          -64040,
          -2107,
          -10925,
          -1108,
          -38082,
          -10891,
          -4033,
          -2903,
          -3924,
          -8995,
          -8033,
          -7892,
          -56019,
          -38929,
          -19919,
          -11026,
          -2057,
          -23985,
          -7081,
          -7047,
          -9943,
          -51949,
          -6933,
          -9066,
          -35102,
          -35055,
          -100042,
          -5076,
          -1037,
          -988,
          -22988,
          -25970,
          -9931,
          -2927,
          -5910,
          -150013,
          -4019,
          -916,
          -1890,
          -3971,
          -3988,
          -24008,
          -2047,
          -1948,
          -1128,
          -7019,
          -2054,
          -21934,
          -909,
          -878,
          -89958,
          -3062,
          -25885,
          -4095,
          -2984,
          -1962,
          -12929,
          -76921,
          -578,
          -10028,
          -9125,
          -2123,
          -7060,
          -9105,
          -10895,
          -2089,
          -1956,
          -170109,
          -1004,
          -31107,
          -2080,
          -21989,
          -86089,
          -19918,
          -9939,
          -2045,
          -2004,
          -52116,
          -748,
          -1915,
          -15930,
          -8087,
          -13899,
          -1096,
          -7059,
          -618,
          -31106,
          -5023,
          -36054,
          -16052,
          -8062,
          -1902,
          -2931,
          -2094,
          -3072,
          -550,
          -726,
          -1911,
          -8085,
          -21013,
          -6127,
          -5876,
          -49909,
          -4914,
          -4019,
          -2086,
          -27066,
          -71123,
          -25039,
          -17876,
          -13108,
          -13002,
          -15908,
          -1933,
          -47089,
          -33972,
          -4068,
          -513,
          -5043,
          -2064,
          -7061,
          -40973,
          -1912,
          -5106,
          -27042,
          -40033,
          -2899,
          -4920,
          -1007,
          -6067,
          -6091,
          -2011,
          -29995,
          -15989,
          -7007,
          -8892,
          -3012,
          -4993,
          -6051,
          -32948,
          -13877,
          -11128,
          -29025,
          -1095,
          -9989,
          -8120,
          -967,
          -4035,
          -19970,
          -38113,
          -17979,
          -4117,
          -11018,
          -479,
          -2925,
          -30074,
          -7053,
          -2976,
          -14908,
          -19084,
          -5875,
          -3873,
          -19960,
          -8943,
          -68066,
          -11948,
          -423,
          -3884,
          -17069,
          -43078,
          -1057,
          -21943,
          -1089,
          -3054,
          -22037,
          -7056,
          -53936,
          -23876,
          -977,
          -2879,
          -5107,
          -43882,
          -18957,
          -3110,
          -24060,
          -18032,
          -3940,
          -25923,
          -26123,
          -4923,
          -7972,
          -11990,
          -3924,
          -8959,
          -37933,
          -74100,
          -9069,
          -1110,
          -486,
          -18878,
          -1895,
          -2034,
          -25970,
          -1909,
          -860,
          -19014,
          -3886,
          -22990,
          -4003,
          -4972,
          -2006,
          -26968,
          -4040,
          -89995,
          -607,
          -3041,
          -902,
          -16003,
          -21123,
          -15985,
          -5917,
          -425,
          -72086,
          -2054,
          -20964,
          -35924,
          -16095,
          -4969,
          -1022,
          -8884,
          -26079,
          -500,
          -1877,
          -3947,
          -11895,
          -89014,
          -1880,
          -2126,
          -82071,
          -725,
          -14918,
          -26947,
          -1059,
          -3062,
          -433,
          -1978,
          -2886,
          -16917,
          -4981,
          -14966,
          -6984,
          -12039,
          -5910,
          -44985,
          -7023,
          -2041,
          -73013,
          -17048,
          -5077,
          -1051,
          -3096,
          -15017,
          -2970,
          -790,
          -24934,
          -22060,
          -6109,
          -6115,
          -27111,
          -980,
          -11046,
          -998,
          -2876,
          -34902,
          -2106,
          -9899,
          -4074,
          -14121,
          -18030,
          -68083,
          -479,
          -3922,
          -2074,
          -2120,
          -4097,
          -21914,
          -5015,
          -3092,
          -20114,
          -3038,
          -23883,
          -5013,
          -21090,
          -8923,
          -913,
          -53984,
          -6114,
          -32940,
          -16068,
          -2022,
          -9907,
          -16934,
          -3053,
          -910,
          -1983,
          -10042,
          -13907,
          -13887,
          -744,
          -3914,
          -17081,
          -1120,
          -3077,
          -3117,
          -104950,
          -4978,
          -10024,
          -691,
          -5950,
          -5905,
          -7965,
          -11065,
          -11873,
          -3883,
          -9034,
          -14061,
          -32979,
          -4967,
          -10128,
          -6024,
          -5901,
          -394,
          -14912,
          -8002,
          -1080,
          -22969,
          -3018,
          -21088,
          -47893,
          -85915,
          -1918,
          -33017,
          -5128,
          -3023,
          -505,
          -45041,
          -3933,
          -446,
          -17992,
          -31981,
          -18006,
          -6071,
          -1911,
          -9014,
          -9002,
          -26012,
          -741,
          -8882,
          -249923,
          -2962,
          -26878,
          -4098,
          -3070,
          -36070,
          -2918,
          -4951,
          -40911,
          -14099,
          -2911,
          -5929,
          -15109,
          -2021,
          -8006,
          -8983,
          -6126,
          -17016,
          -750
         ],
         "xaxis": "x",
         "yaxis": "y"
        }
       ],
       "layout": {
        "barmode": "relative",
        "legend": {
         "tracegroupgap": 0
        },
        "margin": {
         "t": 60
        },
        "template": {
         "data": {
          "bar": [
           {
            "error_x": {
             "color": "#2a3f5f"
            },
            "error_y": {
             "color": "#2a3f5f"
            },
            "marker": {
             "line": {
              "color": "#E5ECF6",
              "width": 0.5
             },
             "pattern": {
              "fillmode": "overlay",
              "size": 10,
              "solidity": 0.2
             }
            },
            "type": "bar"
           }
          ],
          "barpolar": [
           {
            "marker": {
             "line": {
              "color": "#E5ECF6",
              "width": 0.5
             },
             "pattern": {
              "fillmode": "overlay",
              "size": 10,
              "solidity": 0.2
             }
            },
            "type": "barpolar"
           }
          ],
          "carpet": [
           {
            "aaxis": {
             "endlinecolor": "#2a3f5f",
             "gridcolor": "white",
             "linecolor": "white",
             "minorgridcolor": "white",
             "startlinecolor": "#2a3f5f"
            },
            "baxis": {
             "endlinecolor": "#2a3f5f",
             "gridcolor": "white",
             "linecolor": "white",
             "minorgridcolor": "white",
             "startlinecolor": "#2a3f5f"
            },
            "type": "carpet"
           }
          ],
          "choropleth": [
           {
            "colorbar": {
             "outlinewidth": 0,
             "ticks": ""
            },
            "type": "choropleth"
           }
          ],
          "contour": [
           {
            "colorbar": {
             "outlinewidth": 0,
             "ticks": ""
            },
            "colorscale": [
             [
              0,
              "#0d0887"
             ],
             [
              0.1111111111111111,
              "#46039f"
             ],
             [
              0.2222222222222222,
              "#7201a8"
             ],
             [
              0.3333333333333333,
              "#9c179e"
             ],
             [
              0.4444444444444444,
              "#bd3786"
             ],
             [
              0.5555555555555556,
              "#d8576b"
             ],
             [
              0.6666666666666666,
              "#ed7953"
             ],
             [
              0.7777777777777778,
              "#fb9f3a"
             ],
             [
              0.8888888888888888,
              "#fdca26"
             ],
             [
              1,
              "#f0f921"
             ]
            ],
            "type": "contour"
           }
          ],
          "contourcarpet": [
           {
            "colorbar": {
             "outlinewidth": 0,
             "ticks": ""
            },
            "type": "contourcarpet"
           }
          ],
          "heatmap": [
           {
            "colorbar": {
             "outlinewidth": 0,
             "ticks": ""
            },
            "colorscale": [
             [
              0,
              "#0d0887"
             ],
             [
              0.1111111111111111,
              "#46039f"
             ],
             [
              0.2222222222222222,
              "#7201a8"
             ],
             [
              0.3333333333333333,
              "#9c179e"
             ],
             [
              0.4444444444444444,
              "#bd3786"
             ],
             [
              0.5555555555555556,
              "#d8576b"
             ],
             [
              0.6666666666666666,
              "#ed7953"
             ],
             [
              0.7777777777777778,
              "#fb9f3a"
             ],
             [
              0.8888888888888888,
              "#fdca26"
             ],
             [
              1,
              "#f0f921"
             ]
            ],
            "type": "heatmap"
           }
          ],
          "heatmapgl": [
           {
            "colorbar": {
             "outlinewidth": 0,
             "ticks": ""
            },
            "colorscale": [
             [
              0,
              "#0d0887"
             ],
             [
              0.1111111111111111,
              "#46039f"
             ],
             [
              0.2222222222222222,
              "#7201a8"
             ],
             [
              0.3333333333333333,
              "#9c179e"
             ],
             [
              0.4444444444444444,
              "#bd3786"
             ],
             [
              0.5555555555555556,
              "#d8576b"
             ],
             [
              0.6666666666666666,
              "#ed7953"
             ],
             [
              0.7777777777777778,
              "#fb9f3a"
             ],
             [
              0.8888888888888888,
              "#fdca26"
             ],
             [
              1,
              "#f0f921"
             ]
            ],
            "type": "heatmapgl"
           }
          ],
          "histogram": [
           {
            "marker": {
             "pattern": {
              "fillmode": "overlay",
              "size": 10,
              "solidity": 0.2
             }
            },
            "type": "histogram"
           }
          ],
          "histogram2d": [
           {
            "colorbar": {
             "outlinewidth": 0,
             "ticks": ""
            },
            "colorscale": [
             [
              0,
              "#0d0887"
             ],
             [
              0.1111111111111111,
              "#46039f"
             ],
             [
              0.2222222222222222,
              "#7201a8"
             ],
             [
              0.3333333333333333,
              "#9c179e"
             ],
             [
              0.4444444444444444,
              "#bd3786"
             ],
             [
              0.5555555555555556,
              "#d8576b"
             ],
             [
              0.6666666666666666,
              "#ed7953"
             ],
             [
              0.7777777777777778,
              "#fb9f3a"
             ],
             [
              0.8888888888888888,
              "#fdca26"
             ],
             [
              1,
              "#f0f921"
             ]
            ],
            "type": "histogram2d"
           }
          ],
          "histogram2dcontour": [
           {
            "colorbar": {
             "outlinewidth": 0,
             "ticks": ""
            },
            "colorscale": [
             [
              0,
              "#0d0887"
             ],
             [
              0.1111111111111111,
              "#46039f"
             ],
             [
              0.2222222222222222,
              "#7201a8"
             ],
             [
              0.3333333333333333,
              "#9c179e"
             ],
             [
              0.4444444444444444,
              "#bd3786"
             ],
             [
              0.5555555555555556,
              "#d8576b"
             ],
             [
              0.6666666666666666,
              "#ed7953"
             ],
             [
              0.7777777777777778,
              "#fb9f3a"
             ],
             [
              0.8888888888888888,
              "#fdca26"
             ],
             [
              1,
              "#f0f921"
             ]
            ],
            "type": "histogram2dcontour"
           }
          ],
          "mesh3d": [
           {
            "colorbar": {
             "outlinewidth": 0,
             "ticks": ""
            },
            "type": "mesh3d"
           }
          ],
          "parcoords": [
           {
            "line": {
             "colorbar": {
              "outlinewidth": 0,
              "ticks": ""
             }
            },
            "type": "parcoords"
           }
          ],
          "pie": [
           {
            "automargin": true,
            "type": "pie"
           }
          ],
          "scatter": [
           {
            "fillpattern": {
             "fillmode": "overlay",
             "size": 10,
             "solidity": 0.2
            },
            "type": "scatter"
           }
          ],
          "scatter3d": [
           {
            "line": {
             "colorbar": {
              "outlinewidth": 0,
              "ticks": ""
             }
            },
            "marker": {
             "colorbar": {
              "outlinewidth": 0,
              "ticks": ""
             }
            },
            "type": "scatter3d"
           }
          ],
          "scattercarpet": [
           {
            "marker": {
             "colorbar": {
              "outlinewidth": 0,
              "ticks": ""
             }
            },
            "type": "scattercarpet"
           }
          ],
          "scattergeo": [
           {
            "marker": {
             "colorbar": {
              "outlinewidth": 0,
              "ticks": ""
             }
            },
            "type": "scattergeo"
           }
          ],
          "scattergl": [
           {
            "marker": {
             "colorbar": {
              "outlinewidth": 0,
              "ticks": ""
             }
            },
            "type": "scattergl"
           }
          ],
          "scattermapbox": [
           {
            "marker": {
             "colorbar": {
              "outlinewidth": 0,
              "ticks": ""
             }
            },
            "type": "scattermapbox"
           }
          ],
          "scatterpolar": [
           {
            "marker": {
             "colorbar": {
              "outlinewidth": 0,
              "ticks": ""
             }
            },
            "type": "scatterpolar"
           }
          ],
          "scatterpolargl": [
           {
            "marker": {
             "colorbar": {
              "outlinewidth": 0,
              "ticks": ""
             }
            },
            "type": "scatterpolargl"
           }
          ],
          "scatterternary": [
           {
            "marker": {
             "colorbar": {
              "outlinewidth": 0,
              "ticks": ""
             }
            },
            "type": "scatterternary"
           }
          ],
          "surface": [
           {
            "colorbar": {
             "outlinewidth": 0,
             "ticks": ""
            },
            "colorscale": [
             [
              0,
              "#0d0887"
             ],
             [
              0.1111111111111111,
              "#46039f"
             ],
             [
              0.2222222222222222,
              "#7201a8"
             ],
             [
              0.3333333333333333,
              "#9c179e"
             ],
             [
              0.4444444444444444,
              "#bd3786"
             ],
             [
              0.5555555555555556,
              "#d8576b"
             ],
             [
              0.6666666666666666,
              "#ed7953"
             ],
             [
              0.7777777777777778,
              "#fb9f3a"
             ],
             [
              0.8888888888888888,
              "#fdca26"
             ],
             [
              1,
              "#f0f921"
             ]
            ],
            "type": "surface"
           }
          ],
          "table": [
           {
            "cells": {
             "fill": {
              "color": "#EBF0F8"
             },
             "line": {
              "color": "white"
             }
            },
            "header": {
             "fill": {
              "color": "#C8D4E3"
             },
             "line": {
              "color": "white"
             }
            },
            "type": "table"
           }
          ]
         },
         "layout": {
          "annotationdefaults": {
           "arrowcolor": "#2a3f5f",
           "arrowhead": 0,
           "arrowwidth": 1
          },
          "autotypenumbers": "strict",
          "coloraxis": {
           "colorbar": {
            "outlinewidth": 0,
            "ticks": ""
           }
          },
          "colorscale": {
           "diverging": [
            [
             0,
             "#8e0152"
            ],
            [
             0.1,
             "#c51b7d"
            ],
            [
             0.2,
             "#de77ae"
            ],
            [
             0.3,
             "#f1b6da"
            ],
            [
             0.4,
             "#fde0ef"
            ],
            [
             0.5,
             "#f7f7f7"
            ],
            [
             0.6,
             "#e6f5d0"
            ],
            [
             0.7,
             "#b8e186"
            ],
            [
             0.8,
             "#7fbc41"
            ],
            [
             0.9,
             "#4d9221"
            ],
            [
             1,
             "#276419"
            ]
           ],
           "sequential": [
            [
             0,
             "#0d0887"
            ],
            [
             0.1111111111111111,
             "#46039f"
            ],
            [
             0.2222222222222222,
             "#7201a8"
            ],
            [
             0.3333333333333333,
             "#9c179e"
            ],
            [
             0.4444444444444444,
             "#bd3786"
            ],
            [
             0.5555555555555556,
             "#d8576b"
            ],
            [
             0.6666666666666666,
             "#ed7953"
            ],
            [
             0.7777777777777778,
             "#fb9f3a"
            ],
            [
             0.8888888888888888,
             "#fdca26"
            ],
            [
             1,
             "#f0f921"
            ]
           ],
           "sequentialminus": [
            [
             0,
             "#0d0887"
            ],
            [
             0.1111111111111111,
             "#46039f"
            ],
            [
             0.2222222222222222,
             "#7201a8"
            ],
            [
             0.3333333333333333,
             "#9c179e"
            ],
            [
             0.4444444444444444,
             "#bd3786"
            ],
            [
             0.5555555555555556,
             "#d8576b"
            ],
            [
             0.6666666666666666,
             "#ed7953"
            ],
            [
             0.7777777777777778,
             "#fb9f3a"
            ],
            [
             0.8888888888888888,
             "#fdca26"
            ],
            [
             1,
             "#f0f921"
            ]
           ]
          },
          "colorway": [
           "#636efa",
           "#EF553B",
           "#00cc96",
           "#ab63fa",
           "#FFA15A",
           "#19d3f3",
           "#FF6692",
           "#B6E880",
           "#FF97FF",
           "#FECB52"
          ],
          "font": {
           "color": "#2a3f5f"
          },
          "geo": {
           "bgcolor": "white",
           "lakecolor": "white",
           "landcolor": "#E5ECF6",
           "showlakes": true,
           "showland": true,
           "subunitcolor": "white"
          },
          "hoverlabel": {
           "align": "left"
          },
          "hovermode": "closest",
          "mapbox": {
           "style": "light"
          },
          "paper_bgcolor": "white",
          "plot_bgcolor": "#E5ECF6",
          "polar": {
           "angularaxis": {
            "gridcolor": "white",
            "linecolor": "white",
            "ticks": ""
           },
           "bgcolor": "#E5ECF6",
           "radialaxis": {
            "gridcolor": "white",
            "linecolor": "white",
            "ticks": ""
           }
          },
          "scene": {
           "xaxis": {
            "backgroundcolor": "#E5ECF6",
            "gridcolor": "white",
            "gridwidth": 2,
            "linecolor": "white",
            "showbackground": true,
            "ticks": "",
            "zerolinecolor": "white"
           },
           "yaxis": {
            "backgroundcolor": "#E5ECF6",
            "gridcolor": "white",
            "gridwidth": 2,
            "linecolor": "white",
            "showbackground": true,
            "ticks": "",
            "zerolinecolor": "white"
           },
           "zaxis": {
            "backgroundcolor": "#E5ECF6",
            "gridcolor": "white",
            "gridwidth": 2,
            "linecolor": "white",
            "showbackground": true,
            "ticks": "",
            "zerolinecolor": "white"
           }
          },
          "shapedefaults": {
           "line": {
            "color": "#2a3f5f"
           }
          },
          "ternary": {
           "aaxis": {
            "gridcolor": "white",
            "linecolor": "white",
            "ticks": ""
           },
           "baxis": {
            "gridcolor": "white",
            "linecolor": "white",
            "ticks": ""
           },
           "bgcolor": "#E5ECF6",
           "caxis": {
            "gridcolor": "white",
            "linecolor": "white",
            "ticks": ""
           }
          },
          "title": {
           "x": 0.05
          },
          "xaxis": {
           "automargin": true,
           "gridcolor": "white",
           "linecolor": "white",
           "ticks": "",
           "title": {
            "standoff": 15
           },
           "zerolinecolor": "white",
           "zerolinewidth": 2
          },
          "yaxis": {
           "automargin": true,
           "gridcolor": "white",
           "linecolor": "white",
           "ticks": "",
           "title": {
            "standoff": 15
           },
           "zerolinecolor": "white",
           "zerolinewidth": 2
          }
         }
        },
        "title": {
         "text": "Histogram of Residuals"
        },
        "xaxis": {
         "anchor": "y",
         "domain": [
          0,
          1
         ],
         "title": {
          "text": "Residuals"
         }
        },
        "yaxis": {
         "anchor": "x",
         "domain": [
          0,
          1
         ],
         "title": {
          "text": "Count"
         }
        }
       }
      }
     },
     "metadata": {},
     "output_type": "display_data"
    }
   ],
   "source": [
    "plot(prediction_df[prediction_df.Model == 'LightGBM'])"
   ]
  },
  {
   "cell_type": "markdown",
   "metadata": {},
   "source": [
    "## Feature selection"
   ]
  },
  {
   "cell_type": "code",
   "execution_count": 106,
   "metadata": {},
   "outputs": [],
   "source": [
    "# Get feature importances\n",
    "importances = models['Random Forest Regressor'].feature_importances_\n",
    "\n",
    "# Match feature names (assuming you have a list of names in feature_names)\n",
    "feature_names = list(x_train.columns)  # replace with your actual feature names\n",
    "\n",
    "features = sorted(zip(feature_names, importances), key=lambda x: x[1], reverse=True)\n",
    "\n",
    "features_importance = pd.DataFrame(features, columns=['Feature', 'Importance'])"
   ]
  },
  {
   "cell_type": "code",
   "execution_count": 107,
   "metadata": {},
   "outputs": [
    {
     "data": {
      "application/vnd.plotly.v1+json": {
       "config": {
        "plotlyServerURL": "https://plot.ly"
       },
       "data": [
        {
         "type": "bar",
         "x": [
          "Reactions",
          "Team",
          "League",
          "Ball control",
          "Composure",
          "Shot power",
          "Age",
          "Att. Position",
          "Curve",
          "Dribbling",
          "Long passing",
          "Finishing",
          "Nationality",
          "Crossing",
          "Stamina",
          "Long shots",
          "Penalties",
          "Jumping",
          "Aggression",
          "Standing tackle",
          "FK Accuracy",
          "Sprint speed",
          "GK Reflexes",
          "Sliding tackle",
          "GK Handling",
          "Interceptions",
          "Short passing",
          "Vision",
          "GK Diving",
          "Volleys",
          "Heading accuracy",
          "Strength",
          "GK Kicking",
          "Defensive awareness",
          "Balance",
          "Height",
          "Acceleration",
          "Weigh",
          "Agility",
          "GK Positioning",
          "Position",
          "Foot"
         ],
         "y": [
          0.5530350921917797,
          0.250576041702296,
          0.04625643503167586,
          0.015269057247494713,
          0.009211625155020232,
          0.008859994032438888,
          0.007658731097518055,
          0.007171029887254061,
          0.004756589414726501,
          0.004737638174179084,
          0.004703022553636756,
          0.004144050712487213,
          0.004048196863910525,
          0.0036375645397811376,
          0.0036256831319893892,
          0.0034651998762133393,
          0.0034427667906542533,
          0.0033780852497929757,
          0.0032805588822667465,
          0.0031727639260486227,
          0.003160252026757815,
          0.0031049352658434476,
          0.003097033988994903,
          0.003041515262418303,
          0.0030093700575654723,
          0.0029382743240712345,
          0.0028943777123146735,
          0.0028928434307242614,
          0.0028008445131963424,
          0.002769606308583693,
          0.0027446440133336745,
          0.002627145055533324,
          0.0026243725875443455,
          0.0026129100578113217,
          0.0025436683212638846,
          0.0024863209683234893,
          0.0024561181554345825,
          0.002342383634483998,
          0.0021254728554684216,
          0.002021456770607095,
          0.0009767015182138104,
          0.00029962671034782553
         ]
        }
       ],
       "layout": {
        "template": {
         "data": {
          "bar": [
           {
            "error_x": {
             "color": "#2a3f5f"
            },
            "error_y": {
             "color": "#2a3f5f"
            },
            "marker": {
             "line": {
              "color": "#E5ECF6",
              "width": 0.5
             },
             "pattern": {
              "fillmode": "overlay",
              "size": 10,
              "solidity": 0.2
             }
            },
            "type": "bar"
           }
          ],
          "barpolar": [
           {
            "marker": {
             "line": {
              "color": "#E5ECF6",
              "width": 0.5
             },
             "pattern": {
              "fillmode": "overlay",
              "size": 10,
              "solidity": 0.2
             }
            },
            "type": "barpolar"
           }
          ],
          "carpet": [
           {
            "aaxis": {
             "endlinecolor": "#2a3f5f",
             "gridcolor": "white",
             "linecolor": "white",
             "minorgridcolor": "white",
             "startlinecolor": "#2a3f5f"
            },
            "baxis": {
             "endlinecolor": "#2a3f5f",
             "gridcolor": "white",
             "linecolor": "white",
             "minorgridcolor": "white",
             "startlinecolor": "#2a3f5f"
            },
            "type": "carpet"
           }
          ],
          "choropleth": [
           {
            "colorbar": {
             "outlinewidth": 0,
             "ticks": ""
            },
            "type": "choropleth"
           }
          ],
          "contour": [
           {
            "colorbar": {
             "outlinewidth": 0,
             "ticks": ""
            },
            "colorscale": [
             [
              0,
              "#0d0887"
             ],
             [
              0.1111111111111111,
              "#46039f"
             ],
             [
              0.2222222222222222,
              "#7201a8"
             ],
             [
              0.3333333333333333,
              "#9c179e"
             ],
             [
              0.4444444444444444,
              "#bd3786"
             ],
             [
              0.5555555555555556,
              "#d8576b"
             ],
             [
              0.6666666666666666,
              "#ed7953"
             ],
             [
              0.7777777777777778,
              "#fb9f3a"
             ],
             [
              0.8888888888888888,
              "#fdca26"
             ],
             [
              1,
              "#f0f921"
             ]
            ],
            "type": "contour"
           }
          ],
          "contourcarpet": [
           {
            "colorbar": {
             "outlinewidth": 0,
             "ticks": ""
            },
            "type": "contourcarpet"
           }
          ],
          "heatmap": [
           {
            "colorbar": {
             "outlinewidth": 0,
             "ticks": ""
            },
            "colorscale": [
             [
              0,
              "#0d0887"
             ],
             [
              0.1111111111111111,
              "#46039f"
             ],
             [
              0.2222222222222222,
              "#7201a8"
             ],
             [
              0.3333333333333333,
              "#9c179e"
             ],
             [
              0.4444444444444444,
              "#bd3786"
             ],
             [
              0.5555555555555556,
              "#d8576b"
             ],
             [
              0.6666666666666666,
              "#ed7953"
             ],
             [
              0.7777777777777778,
              "#fb9f3a"
             ],
             [
              0.8888888888888888,
              "#fdca26"
             ],
             [
              1,
              "#f0f921"
             ]
            ],
            "type": "heatmap"
           }
          ],
          "heatmapgl": [
           {
            "colorbar": {
             "outlinewidth": 0,
             "ticks": ""
            },
            "colorscale": [
             [
              0,
              "#0d0887"
             ],
             [
              0.1111111111111111,
              "#46039f"
             ],
             [
              0.2222222222222222,
              "#7201a8"
             ],
             [
              0.3333333333333333,
              "#9c179e"
             ],
             [
              0.4444444444444444,
              "#bd3786"
             ],
             [
              0.5555555555555556,
              "#d8576b"
             ],
             [
              0.6666666666666666,
              "#ed7953"
             ],
             [
              0.7777777777777778,
              "#fb9f3a"
             ],
             [
              0.8888888888888888,
              "#fdca26"
             ],
             [
              1,
              "#f0f921"
             ]
            ],
            "type": "heatmapgl"
           }
          ],
          "histogram": [
           {
            "marker": {
             "pattern": {
              "fillmode": "overlay",
              "size": 10,
              "solidity": 0.2
             }
            },
            "type": "histogram"
           }
          ],
          "histogram2d": [
           {
            "colorbar": {
             "outlinewidth": 0,
             "ticks": ""
            },
            "colorscale": [
             [
              0,
              "#0d0887"
             ],
             [
              0.1111111111111111,
              "#46039f"
             ],
             [
              0.2222222222222222,
              "#7201a8"
             ],
             [
              0.3333333333333333,
              "#9c179e"
             ],
             [
              0.4444444444444444,
              "#bd3786"
             ],
             [
              0.5555555555555556,
              "#d8576b"
             ],
             [
              0.6666666666666666,
              "#ed7953"
             ],
             [
              0.7777777777777778,
              "#fb9f3a"
             ],
             [
              0.8888888888888888,
              "#fdca26"
             ],
             [
              1,
              "#f0f921"
             ]
            ],
            "type": "histogram2d"
           }
          ],
          "histogram2dcontour": [
           {
            "colorbar": {
             "outlinewidth": 0,
             "ticks": ""
            },
            "colorscale": [
             [
              0,
              "#0d0887"
             ],
             [
              0.1111111111111111,
              "#46039f"
             ],
             [
              0.2222222222222222,
              "#7201a8"
             ],
             [
              0.3333333333333333,
              "#9c179e"
             ],
             [
              0.4444444444444444,
              "#bd3786"
             ],
             [
              0.5555555555555556,
              "#d8576b"
             ],
             [
              0.6666666666666666,
              "#ed7953"
             ],
             [
              0.7777777777777778,
              "#fb9f3a"
             ],
             [
              0.8888888888888888,
              "#fdca26"
             ],
             [
              1,
              "#f0f921"
             ]
            ],
            "type": "histogram2dcontour"
           }
          ],
          "mesh3d": [
           {
            "colorbar": {
             "outlinewidth": 0,
             "ticks": ""
            },
            "type": "mesh3d"
           }
          ],
          "parcoords": [
           {
            "line": {
             "colorbar": {
              "outlinewidth": 0,
              "ticks": ""
             }
            },
            "type": "parcoords"
           }
          ],
          "pie": [
           {
            "automargin": true,
            "type": "pie"
           }
          ],
          "scatter": [
           {
            "fillpattern": {
             "fillmode": "overlay",
             "size": 10,
             "solidity": 0.2
            },
            "type": "scatter"
           }
          ],
          "scatter3d": [
           {
            "line": {
             "colorbar": {
              "outlinewidth": 0,
              "ticks": ""
             }
            },
            "marker": {
             "colorbar": {
              "outlinewidth": 0,
              "ticks": ""
             }
            },
            "type": "scatter3d"
           }
          ],
          "scattercarpet": [
           {
            "marker": {
             "colorbar": {
              "outlinewidth": 0,
              "ticks": ""
             }
            },
            "type": "scattercarpet"
           }
          ],
          "scattergeo": [
           {
            "marker": {
             "colorbar": {
              "outlinewidth": 0,
              "ticks": ""
             }
            },
            "type": "scattergeo"
           }
          ],
          "scattergl": [
           {
            "marker": {
             "colorbar": {
              "outlinewidth": 0,
              "ticks": ""
             }
            },
            "type": "scattergl"
           }
          ],
          "scattermapbox": [
           {
            "marker": {
             "colorbar": {
              "outlinewidth": 0,
              "ticks": ""
             }
            },
            "type": "scattermapbox"
           }
          ],
          "scatterpolar": [
           {
            "marker": {
             "colorbar": {
              "outlinewidth": 0,
              "ticks": ""
             }
            },
            "type": "scatterpolar"
           }
          ],
          "scatterpolargl": [
           {
            "marker": {
             "colorbar": {
              "outlinewidth": 0,
              "ticks": ""
             }
            },
            "type": "scatterpolargl"
           }
          ],
          "scatterternary": [
           {
            "marker": {
             "colorbar": {
              "outlinewidth": 0,
              "ticks": ""
             }
            },
            "type": "scatterternary"
           }
          ],
          "surface": [
           {
            "colorbar": {
             "outlinewidth": 0,
             "ticks": ""
            },
            "colorscale": [
             [
              0,
              "#0d0887"
             ],
             [
              0.1111111111111111,
              "#46039f"
             ],
             [
              0.2222222222222222,
              "#7201a8"
             ],
             [
              0.3333333333333333,
              "#9c179e"
             ],
             [
              0.4444444444444444,
              "#bd3786"
             ],
             [
              0.5555555555555556,
              "#d8576b"
             ],
             [
              0.6666666666666666,
              "#ed7953"
             ],
             [
              0.7777777777777778,
              "#fb9f3a"
             ],
             [
              0.8888888888888888,
              "#fdca26"
             ],
             [
              1,
              "#f0f921"
             ]
            ],
            "type": "surface"
           }
          ],
          "table": [
           {
            "cells": {
             "fill": {
              "color": "#EBF0F8"
             },
             "line": {
              "color": "white"
             }
            },
            "header": {
             "fill": {
              "color": "#C8D4E3"
             },
             "line": {
              "color": "white"
             }
            },
            "type": "table"
           }
          ]
         },
         "layout": {
          "annotationdefaults": {
           "arrowcolor": "#2a3f5f",
           "arrowhead": 0,
           "arrowwidth": 1
          },
          "autotypenumbers": "strict",
          "coloraxis": {
           "colorbar": {
            "outlinewidth": 0,
            "ticks": ""
           }
          },
          "colorscale": {
           "diverging": [
            [
             0,
             "#8e0152"
            ],
            [
             0.1,
             "#c51b7d"
            ],
            [
             0.2,
             "#de77ae"
            ],
            [
             0.3,
             "#f1b6da"
            ],
            [
             0.4,
             "#fde0ef"
            ],
            [
             0.5,
             "#f7f7f7"
            ],
            [
             0.6,
             "#e6f5d0"
            ],
            [
             0.7,
             "#b8e186"
            ],
            [
             0.8,
             "#7fbc41"
            ],
            [
             0.9,
             "#4d9221"
            ],
            [
             1,
             "#276419"
            ]
           ],
           "sequential": [
            [
             0,
             "#0d0887"
            ],
            [
             0.1111111111111111,
             "#46039f"
            ],
            [
             0.2222222222222222,
             "#7201a8"
            ],
            [
             0.3333333333333333,
             "#9c179e"
            ],
            [
             0.4444444444444444,
             "#bd3786"
            ],
            [
             0.5555555555555556,
             "#d8576b"
            ],
            [
             0.6666666666666666,
             "#ed7953"
            ],
            [
             0.7777777777777778,
             "#fb9f3a"
            ],
            [
             0.8888888888888888,
             "#fdca26"
            ],
            [
             1,
             "#f0f921"
            ]
           ],
           "sequentialminus": [
            [
             0,
             "#0d0887"
            ],
            [
             0.1111111111111111,
             "#46039f"
            ],
            [
             0.2222222222222222,
             "#7201a8"
            ],
            [
             0.3333333333333333,
             "#9c179e"
            ],
            [
             0.4444444444444444,
             "#bd3786"
            ],
            [
             0.5555555555555556,
             "#d8576b"
            ],
            [
             0.6666666666666666,
             "#ed7953"
            ],
            [
             0.7777777777777778,
             "#fb9f3a"
            ],
            [
             0.8888888888888888,
             "#fdca26"
            ],
            [
             1,
             "#f0f921"
            ]
           ]
          },
          "colorway": [
           "#636efa",
           "#EF553B",
           "#00cc96",
           "#ab63fa",
           "#FFA15A",
           "#19d3f3",
           "#FF6692",
           "#B6E880",
           "#FF97FF",
           "#FECB52"
          ],
          "font": {
           "color": "#2a3f5f"
          },
          "geo": {
           "bgcolor": "white",
           "lakecolor": "white",
           "landcolor": "#E5ECF6",
           "showlakes": true,
           "showland": true,
           "subunitcolor": "white"
          },
          "hoverlabel": {
           "align": "left"
          },
          "hovermode": "closest",
          "mapbox": {
           "style": "light"
          },
          "paper_bgcolor": "white",
          "plot_bgcolor": "#E5ECF6",
          "polar": {
           "angularaxis": {
            "gridcolor": "white",
            "linecolor": "white",
            "ticks": ""
           },
           "bgcolor": "#E5ECF6",
           "radialaxis": {
            "gridcolor": "white",
            "linecolor": "white",
            "ticks": ""
           }
          },
          "scene": {
           "xaxis": {
            "backgroundcolor": "#E5ECF6",
            "gridcolor": "white",
            "gridwidth": 2,
            "linecolor": "white",
            "showbackground": true,
            "ticks": "",
            "zerolinecolor": "white"
           },
           "yaxis": {
            "backgroundcolor": "#E5ECF6",
            "gridcolor": "white",
            "gridwidth": 2,
            "linecolor": "white",
            "showbackground": true,
            "ticks": "",
            "zerolinecolor": "white"
           },
           "zaxis": {
            "backgroundcolor": "#E5ECF6",
            "gridcolor": "white",
            "gridwidth": 2,
            "linecolor": "white",
            "showbackground": true,
            "ticks": "",
            "zerolinecolor": "white"
           }
          },
          "shapedefaults": {
           "line": {
            "color": "#2a3f5f"
           }
          },
          "ternary": {
           "aaxis": {
            "gridcolor": "white",
            "linecolor": "white",
            "ticks": ""
           },
           "baxis": {
            "gridcolor": "white",
            "linecolor": "white",
            "ticks": ""
           },
           "bgcolor": "#E5ECF6",
           "caxis": {
            "gridcolor": "white",
            "linecolor": "white",
            "ticks": ""
           }
          },
          "title": {
           "x": 0.05
          },
          "xaxis": {
           "automargin": true,
           "gridcolor": "white",
           "linecolor": "white",
           "ticks": "",
           "title": {
            "standoff": 15
           },
           "zerolinecolor": "white",
           "zerolinewidth": 2
          },
          "yaxis": {
           "automargin": true,
           "gridcolor": "white",
           "linecolor": "white",
           "ticks": "",
           "title": {
            "standoff": 15
           },
           "zerolinecolor": "white",
           "zerolinewidth": 2
          }
         }
        },
        "title": {
         "text": "Feature Importances from Random Forest Regressor"
        },
        "xaxis": {
         "tickangle": -45,
         "title": {
          "text": "Features"
         }
        },
        "yaxis": {
         "title": {
          "text": "Importance"
         }
        }
       }
      }
     },
     "metadata": {},
     "output_type": "display_data"
    }
   ],
   "source": [
    "# Sort features by importance\n",
    "sorted_indices = np.argsort(importances)[::-1]\n",
    "sorted_feature_names = [feature_names[idx] for idx in sorted_indices]\n",
    "sorted_importances = importances[sorted_indices]\n",
    "\n",
    "# Create Plotly bar chart\n",
    "fig = go.Figure([go.Bar(x=sorted_feature_names, y=sorted_importances)])\n",
    "fig.update_layout(\n",
    "    title='Feature Importances from Random Forest Regressor',\n",
    "    xaxis_title='Features',\n",
    "    yaxis_title='Importance',\n",
    "    xaxis_tickangle=-45\n",
    ")\n",
    "fig.show()"
   ]
  },
  {
   "cell_type": "markdown",
   "metadata": {},
   "source": [
    "## process prediction_df"
   ]
  },
  {
   "cell_type": "code",
   "execution_count": 108,
   "metadata": {},
   "outputs": [],
   "source": [
    "player_df = pd.read_csv('silver\\Player.csv')\n",
    "player_team_df = pd.read_csv('silver\\PlayerTeam.csv')\n",
    "team_league_df = pd.read_csv('silver\\TeamLeague.csv')\n",
    "\n",
    "team_df = pd.read_csv('silver\\Team.csv')\n",
    "league_df = pd.read_csv('silver\\League.csv')\n",
    "nationality_df = pd.read_csv('silver/Nationality.csv')\n",
    "position_df = pd.read_csv('silver\\Position.csv')"
   ]
  },
  {
   "cell_type": "code",
   "execution_count": 109,
   "metadata": {},
   "outputs": [
    {
     "data": {
      "text/html": [
       "<div>\n",
       "<style scoped>\n",
       "    .dataframe tbody tr th:only-of-type {\n",
       "        vertical-align: middle;\n",
       "    }\n",
       "\n",
       "    .dataframe tbody tr th {\n",
       "        vertical-align: top;\n",
       "    }\n",
       "\n",
       "    .dataframe thead th {\n",
       "        text-align: right;\n",
       "    }\n",
       "</style>\n",
       "<table border=\"1\" class=\"dataframe\">\n",
       "  <thead>\n",
       "    <tr style=\"text-align: right;\">\n",
       "      <th></th>\n",
       "      <th>PlayerName</th>\n",
       "      <th>Model</th>\n",
       "      <th>Actual Salary</th>\n",
       "      <th>Predicted Salary</th>\n",
       "      <th>Residuals</th>\n",
       "      <th>Percentage Error</th>\n",
       "    </tr>\n",
       "  </thead>\n",
       "  <tbody>\n",
       "    <tr>\n",
       "      <th>1142</th>\n",
       "      <td>Jacopo Fazzini</td>\n",
       "      <td>Linear Regressor</td>\n",
       "      <td>3000</td>\n",
       "      <td>17145.901064</td>\n",
       "      <td>14145.901064</td>\n",
       "      <td>471.530035</td>\n",
       "    </tr>\n",
       "    <tr>\n",
       "      <th>4567</th>\n",
       "      <td>Nathan Tella</td>\n",
       "      <td>Linear Regressor</td>\n",
       "      <td>36000</td>\n",
       "      <td>48241.881307</td>\n",
       "      <td>12241.881307</td>\n",
       "      <td>34.005226</td>\n",
       "    </tr>\n",
       "    <tr>\n",
       "      <th>2592</th>\n",
       "      <td>Janik Haberer</td>\n",
       "      <td>Linear Regressor</td>\n",
       "      <td>32000</td>\n",
       "      <td>31984.035126</td>\n",
       "      <td>-15.964874</td>\n",
       "      <td>-0.049890</td>\n",
       "    </tr>\n",
       "    <tr>\n",
       "      <th>1677</th>\n",
       "      <td>Cristiano Piccini</td>\n",
       "      <td>Linear Regressor</td>\n",
       "      <td>2000</td>\n",
       "      <td>15837.543127</td>\n",
       "      <td>13837.543127</td>\n",
       "      <td>691.877156</td>\n",
       "    </tr>\n",
       "    <tr>\n",
       "      <th>4958</th>\n",
       "      <td>Koen Van Langendonck</td>\n",
       "      <td>Linear Regressor</td>\n",
       "      <td>2000</td>\n",
       "      <td>573.829858</td>\n",
       "      <td>-1426.170142</td>\n",
       "      <td>-71.308507</td>\n",
       "    </tr>\n",
       "  </tbody>\n",
       "</table>\n",
       "</div>"
      ],
      "text/plain": [
       "                PlayerName             Model  Actual Salary  Predicted Salary  \\\n",
       "1142        Jacopo Fazzini  Linear Regressor           3000      17145.901064   \n",
       "4567          Nathan Tella  Linear Regressor          36000      48241.881307   \n",
       "2592         Janik Haberer  Linear Regressor          32000      31984.035126   \n",
       "1677     Cristiano Piccini  Linear Regressor           2000      15837.543127   \n",
       "4958  Koen Van Langendonck  Linear Regressor           2000        573.829858   \n",
       "\n",
       "         Residuals  Percentage Error  \n",
       "1142  14145.901064        471.530035  \n",
       "4567  12241.881307         34.005226  \n",
       "2592    -15.964874         -0.049890  \n",
       "1677  13837.543127        691.877156  \n",
       "4958  -1426.170142        -71.308507  "
      ]
     },
     "execution_count": 109,
     "metadata": {},
     "output_type": "execute_result"
    }
   ],
   "source": [
    "prediction_df.head()"
   ]
  },
  {
   "cell_type": "code",
   "execution_count": 110,
   "metadata": {},
   "outputs": [
    {
     "data": {
      "text/html": [
       "<div>\n",
       "<style scoped>\n",
       "    .dataframe tbody tr th:only-of-type {\n",
       "        vertical-align: middle;\n",
       "    }\n",
       "\n",
       "    .dataframe tbody tr th {\n",
       "        vertical-align: top;\n",
       "    }\n",
       "\n",
       "    .dataframe thead th {\n",
       "        text-align: right;\n",
       "    }\n",
       "</style>\n",
       "<table border=\"1\" class=\"dataframe\">\n",
       "  <thead>\n",
       "    <tr style=\"text-align: right;\">\n",
       "      <th></th>\n",
       "      <th>PlayerName</th>\n",
       "      <th>PlayerId</th>\n",
       "      <th>Model</th>\n",
       "      <th>Actual Salary</th>\n",
       "      <th>Predicted Salary</th>\n",
       "      <th>Residuals</th>\n",
       "      <th>Percentage Error</th>\n",
       "      <th>Nationality</th>\n",
       "      <th>Position</th>\n",
       "      <th>Team</th>\n",
       "      <th>League</th>\n",
       "    </tr>\n",
       "  </thead>\n",
       "  <tbody>\n",
       "    <tr>\n",
       "      <th>0</th>\n",
       "      <td>Jacopo Fazzini</td>\n",
       "      <td>3201</td>\n",
       "      <td>LightGBM</td>\n",
       "      <td>3000</td>\n",
       "      <td>10644.636789</td>\n",
       "      <td>7644.636789</td>\n",
       "      <td>254.821226</td>\n",
       "      <td>Italy</td>\n",
       "      <td>Attacking Midfield</td>\n",
       "      <td>Empoli</td>\n",
       "      <td>Serie A</td>\n",
       "    </tr>\n",
       "    <tr>\n",
       "      <th>1</th>\n",
       "      <td>Nathan Tella</td>\n",
       "      <td>3551</td>\n",
       "      <td>LightGBM</td>\n",
       "      <td>36000</td>\n",
       "      <td>32087.563446</td>\n",
       "      <td>-3912.436554</td>\n",
       "      <td>-10.867879</td>\n",
       "      <td>Nigeria</td>\n",
       "      <td>Center Back</td>\n",
       "      <td>Bayer 04 Leverkusen</td>\n",
       "      <td>Bundesliga</td>\n",
       "    </tr>\n",
       "    <tr>\n",
       "      <th>2</th>\n",
       "      <td>Janik Haberer</td>\n",
       "      <td>3687</td>\n",
       "      <td>LightGBM</td>\n",
       "      <td>32000</td>\n",
       "      <td>25542.831299</td>\n",
       "      <td>-6457.168701</td>\n",
       "      <td>-20.178652</td>\n",
       "      <td>Germany</td>\n",
       "      <td>Attacking Midfield</td>\n",
       "      <td>FC Union Berlin</td>\n",
       "      <td>Bundesliga</td>\n",
       "    </tr>\n",
       "    <tr>\n",
       "      <th>3</th>\n",
       "      <td>Cristiano Piccini</td>\n",
       "      <td>6295</td>\n",
       "      <td>LightGBM</td>\n",
       "      <td>2000</td>\n",
       "      <td>5932.857601</td>\n",
       "      <td>3932.857601</td>\n",
       "      <td>196.642880</td>\n",
       "      <td>Italy</td>\n",
       "      <td>Center Back</td>\n",
       "      <td>Sampdoria</td>\n",
       "      <td>Serie B</td>\n",
       "    </tr>\n",
       "    <tr>\n",
       "      <th>4</th>\n",
       "      <td>Koen Van Langendonck</td>\n",
       "      <td>4471</td>\n",
       "      <td>LightGBM</td>\n",
       "      <td>2000</td>\n",
       "      <td>2674.791514</td>\n",
       "      <td>674.791514</td>\n",
       "      <td>33.739576</td>\n",
       "      <td>Belgium</td>\n",
       "      <td>Goal Keeper</td>\n",
       "      <td>Westerlo</td>\n",
       "      <td>Pro League</td>\n",
       "    </tr>\n",
       "  </tbody>\n",
       "</table>\n",
       "</div>"
      ],
      "text/plain": [
       "             PlayerName  PlayerId     Model  Actual Salary  Predicted Salary  \\\n",
       "0        Jacopo Fazzini      3201  LightGBM           3000      10644.636789   \n",
       "1          Nathan Tella      3551  LightGBM          36000      32087.563446   \n",
       "2         Janik Haberer      3687  LightGBM          32000      25542.831299   \n",
       "3     Cristiano Piccini      6295  LightGBM           2000       5932.857601   \n",
       "4  Koen Van Langendonck      4471  LightGBM           2000       2674.791514   \n",
       "\n",
       "     Residuals  Percentage Error Nationality            Position  \\\n",
       "0  7644.636789        254.821226       Italy  Attacking Midfield   \n",
       "1 -3912.436554        -10.867879     Nigeria         Center Back   \n",
       "2 -6457.168701        -20.178652     Germany  Attacking Midfield   \n",
       "3  3932.857601        196.642880       Italy         Center Back   \n",
       "4   674.791514         33.739576     Belgium         Goal Keeper   \n",
       "\n",
       "                  Team      League  \n",
       "0               Empoli     Serie A  \n",
       "1  Bayer 04 Leverkusen  Bundesliga  \n",
       "2      FC Union Berlin  Bundesliga  \n",
       "3            Sampdoria     Serie B  \n",
       "4             Westerlo  Pro League  "
      ]
     },
     "execution_count": 110,
     "metadata": {},
     "output_type": "execute_result"
    }
   ],
   "source": [
    "prediction_df = prediction_df[prediction_df.Model == 'LightGBM']\n",
    "\n",
    "prediction_df = prediction_df \\\n",
    "        .merge(player_name_df, on='PlayerName', how='left') \\\n",
    "        .merge(player_df, on='PlayerId', how='left') \\\n",
    "        .merge(player_team_df, on='PlayerId', how='left') \\\n",
    "        .merge(team_league_df, on='TeamId', how='left')\n",
    "\n",
    "prediction_df = prediction_df \\\n",
    "        .merge(nationality_df, on='NationalityId', how='left') \\\n",
    "        .merge(position_df, on='PositionId', how='left') \\\n",
    "        .merge(league_df, on='LeagueId', how='left') \\\n",
    "        .merge(team_df, on='TeamId', how='left')\n",
    "\n",
    "prediction_df = prediction_df[['PlayerName', 'PlayerId', 'Model', 'Actual Salary',\n",
    "                               'Predicted Salary','Residuals', 'Percentage Error',\n",
    "                               'Nationality', 'Position', 'Team', 'League']]\n",
    "\n",
    "prediction_df.head()"
   ]
  },
  {
   "cell_type": "markdown",
   "metadata": {},
   "source": [
    "## Save datasets"
   ]
  },
  {
   "cell_type": "code",
   "execution_count": 107,
   "metadata": {},
   "outputs": [],
   "source": [
    "prediction_df.to_csv('gold\\Prediction.csv')\n",
    "features_importance.to_csv('gold\\FeatureImportance.csv')"
   ]
  }
 ],
 "metadata": {
  "kernelspec": {
   "display_name": ".venv",
   "language": "python",
   "name": "python3"
  },
  "language_info": {
   "codemirror_mode": {
    "name": "ipython",
    "version": 3
   },
   "file_extension": ".py",
   "mimetype": "text/x-python",
   "name": "python",
   "nbconvert_exporter": "python",
   "pygments_lexer": "ipython3",
   "version": "3.10.10"
  }
 },
 "nbformat": 4,
 "nbformat_minor": 2
}
