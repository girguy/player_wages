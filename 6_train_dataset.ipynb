{
 "cells": [
  {
   "cell_type": "code",
   "execution_count": 58,
   "metadata": {},
   "outputs": [],
   "source": [
    "import pandas as pd\n",
    "import numpy as np\n",
    "from sklearn.model_selection import train_test_split\n",
    "from sklearn.preprocessing import MinMaxScaler\n",
    "from sklearn.preprocessing import StandardScaler\n",
    "from sklearn.model_selection import GridSearchCV\n",
    "\n",
    "from sklearn.linear_model import LinearRegression\n",
    "from sklearn.linear_model import Ridge, Lasso\n",
    "from sklearn.ensemble import RandomForestRegressor\n",
    "import lightgbm as ltb\n",
    "\n",
    "from sklearn import metrics\n",
    "from sklearn.metrics import mean_squared_error, r2_score\n",
    "\n",
    "import plotly.graph_objects as go\n",
    "import plotly.express as px"
   ]
  },
  {
   "cell_type": "markdown",
   "metadata": {},
   "source": [
    "#### NationalityId, PositionId, FootId, TeamId, LeagueId\n",
    "Those columns contains categorical values, in order to not create an 'importance' scale based on their ID value, we need to encode them\n",
    "\n",
    "- how can create numerical features without one-hot encoding\n",
    "    - For : Nationality, Position, Foot, Team, League\n",
    "        - y_level_mean = x.replace(y.groupby(x).mean()) \n",
    "        - JamesSteinEncoder\n",
    "    - For Foot only\n",
    "        -  WOEEncoder (for the foot)"
   ]
  },
  {
   "cell_type": "code",
   "execution_count": 59,
   "metadata": {},
   "outputs": [],
   "source": [
    "def compute_numerical_feature_from_categorical(dataset, y, categorical_feature_name, numerical_feature_name):\n",
    "\n",
    "    # Calculate the mean of the target variable grouped by the categorical feature\n",
    "    feature_mean_value = dataset.groupby(categorical_feature_name)[y].mean().reset_index()\n",
    "\n",
    "    # Rename the aggregated column to 'numerical_feature_name'\n",
    "    feature_mean_value = feature_mean_value.rename(columns={y: numerical_feature_name})\n",
    "\n",
    "    # Join the mean values back to the original dataset\n",
    "    dataset = dataset.merge(feature_mean_value, on=categorical_feature_name, how='left')\n",
    "\n",
    "    # Drop the original categorical feature and any duplicate columns that may have been created during the join\n",
    "    dataset = dataset.drop(columns=[categorical_feature_name])\n",
    "\n",
    "    return dataset, feature_mean_value"
   ]
  },
  {
   "cell_type": "code",
   "execution_count": 60,
   "metadata": {},
   "outputs": [],
   "source": [
    "def apply_encoder(dataset, encoder, categorical_feature_name, numerical_feature_name):\n",
    "    dataset = dataset.merge(encoder, on=categorical_feature_name, how='left')\n",
    "    dataset[numerical_feature_name] = dataset[numerical_feature_name].fillna(dataset[numerical_feature_name].mean())\n",
    "    dataset = dataset.drop(columns=[categorical_feature_name])\n",
    "\n",
    "    return dataset\n",
    "\n",
    "def get_player_name(player_ids, player_id_name):\n",
    "    player_ids = pd.DataFrame(player_ids)\n",
    "    player_name = player_ids \\\n",
    "        .merge(player_id_name, on='PlayerId', how='left') \\\n",
    "        .drop('PlayerId', axis=1)\n",
    "\n",
    "    return player_name\n",
    "\n",
    "def plot(df):\n",
    "    # Residuals Plot\n",
    "    fig_residuals = px.scatter(df, x='Predicted Salary', y='Residuals', hover_data=['PlayerName'])\n",
    "    fig_residuals.update_layout(title='Residuals vs Predicted Salary', xaxis_title='Predicted Salary', yaxis_title='Predicted - Actual')\n",
    "\n",
    "    # Prediction vs Actual Plot\n",
    "    fig_pred_vs_actual = px.scatter(df, x='Actual Salary', y='Predicted Salary', hover_data=['PlayerName'])\n",
    "    fig_pred_vs_actual.add_trace(go.Scatter(x=[df['Actual Salary'].min(), df['Actual Salary'].max()],\n",
    "                                            y=[df['Actual Salary'].min(), df['Actual Salary'].max()],\n",
    "                                            mode='lines', line=dict(dash='dash'), name='Perfect Prediction'))\n",
    "    fig_pred_vs_actual.update_layout(title='Predicted vs Actual Salary', xaxis_title='Actual Salary', yaxis_title='Predicted Salary')\n",
    "\n",
    "    # Histogram of Residuals\n",
    "    fig_hist_residuals = px.histogram(df, x='Residuals')\n",
    "    fig_hist_residuals.update_layout(title='Histogram of Residuals', xaxis_title='Residuals', yaxis_title='Count')\n",
    "\n",
    "    # Show the plots\n",
    "    fig_residuals.show()\n",
    "    fig_pred_vs_actual.show()\n",
    "    fig_hist_residuals.show()\n",
    "\n",
    "def compute_metrics(y, y_pred):\n",
    "    # Assuming predictions_df is your dataframe\n",
    "    # Mean Absolute Error (MAE)\n",
    "    mae = metrics.mean_absolute_error(y, y_pred)\n",
    "    # Mean Squared Error (MSE)\n",
    "    mse = metrics.mean_squared_error(y, y_pred)\n",
    "    # Root Mean Squared Error (RMSE)\n",
    "    rmse = np.sqrt(mse)  # Or directly, metrics.mean_squared_error(y_test, y_pred, squared=False)\n",
    "    # R-squared (R²)\n",
    "    r2 = metrics.r2_score(y, y_pred)\n",
    "\n",
    "    return mae, rmse, r2\n",
    "\n",
    "def get_metrics(name_model, predictions_df, y_train, y_train_pred):\n",
    "\n",
    "    mae_test, rmse_test, r2_test = compute_metrics(predictions_df['Actual Salary'], predictions_df['Predicted Salary'])\n",
    "    mae_train, rmse_train, r2_train = compute_metrics(y_train, y_train_pred)\n",
    "\n",
    "    computed_metrics = {\n",
    "        'Model': [name_model],\n",
    "        'Test - MAE': [mae_test],\n",
    "        'Test - RMSE': [rmse_test],\n",
    "        'Test - R-squared': [r2_test],\n",
    "        'Train - MAE': [mae_train],\n",
    "        'Train - RMSE': [rmse_train],\n",
    "        'Train - R-squared': [r2_train]\n",
    "    }\n",
    "\n",
    "    computed_metrics = pd.DataFrame(computed_metrics)\n",
    "\n",
    "    return computed_metrics\n",
    "\n",
    "def train_test_score_model(model_name, model, scaler, player_names, x_train, y_train, x_test, y_test):\n",
    "    model.fit(x_train, y_train)\n",
    "\n",
    "    # Transform the testing data (using the same scaler)\n",
    "    y_pred = model.predict(scaler.transform(x_test))\n",
    "    # Assuming 'predictions' is your array of predictions from the trained model\n",
    "    adjusted_y_pred = np.maximum(y_pred, 0).astype(int)  \n",
    "\n",
    "    # Create a DataFrame\n",
    "    predictions_df = pd.DataFrame({\n",
    "        'PlayerName': player_names['PlayerName'].to_list(),\n",
    "        'Model': [model_name for i in range(len(adjusted_y_pred))],\n",
    "        'Actual Salary': list(y_test),\n",
    "        'Predicted Salary': list(adjusted_y_pred),\n",
    "        'Residuals': list(adjusted_y_pred - y_test),\n",
    "        'Percentage Error' : (list(adjusted_y_pred - y_test)/y_test)*100\n",
    "    })\n",
    "\n",
    "    y_pred_train = model.predict(x_train)\n",
    "    adjusted_y_pred_train = np.maximum(y_pred_train, 0)\n",
    "    computed_metrics = get_metrics(model_name, predictions_df, y_train, adjusted_y_pred_train)\n",
    "\n",
    "    return model, predictions_df, computed_metrics"
   ]
  },
  {
   "cell_type": "markdown",
   "metadata": {},
   "source": [
    "## Load dataset"
   ]
  },
  {
   "cell_type": "code",
   "execution_count": 61,
   "metadata": {},
   "outputs": [],
   "source": [
    "dataset = pd.read_csv('gold/dataset.csv')\n",
    "player_name_df = pd.read_csv('silver/PlayerName.csv')"
   ]
  },
  {
   "cell_type": "markdown",
   "metadata": {},
   "source": [
    "## Training, Validation, Testing split"
   ]
  },
  {
   "cell_type": "code",
   "execution_count": 62,
   "metadata": {},
   "outputs": [],
   "source": [
    "col_to_drop = ['Wage']\n",
    "X = dataset.drop(col_to_drop, axis=1)  # Assuming 'Value' is the target\n",
    "y = dataset['Wage']"
   ]
  },
  {
   "cell_type": "code",
   "execution_count": 63,
   "metadata": {},
   "outputs": [],
   "source": [
    "x_train, x_test, y_train, y_test = train_test_split(X, y, test_size=0.2, random_state=42)"
   ]
  },
  {
   "cell_type": "markdown",
   "metadata": {},
   "source": [
    "## Process training and testing set"
   ]
  },
  {
   "cell_type": "code",
   "execution_count": 64,
   "metadata": {},
   "outputs": [],
   "source": [
    "x_train = x_train.drop('PlayerId', axis=1)\n",
    "test_player_ids = x_test['PlayerId']\n",
    "player_names = get_player_name(test_player_ids, player_name_df)\n",
    "x_test = x_test.drop('PlayerId', axis=1)"
   ]
  },
  {
   "cell_type": "code",
   "execution_count": 65,
   "metadata": {},
   "outputs": [],
   "source": [
    "# encode categorical columns\n",
    "x_train, nationality_encoder = compute_numerical_feature_from_categorical(x_train, 'Value', 'NationalityId', 'Nationality')\n",
    "x_train, position_encoder = compute_numerical_feature_from_categorical(x_train, 'Value', 'PositionId', 'Position')\n",
    "x_train, foot_encoder = compute_numerical_feature_from_categorical(x_train, 'Value', 'FootId', 'Foot')\n",
    "x_train, team_encoder = compute_numerical_feature_from_categorical(x_train, 'Value', 'TeamId', 'Team')\n",
    "x_train, league_encoder = compute_numerical_feature_from_categorical(x_train, 'Value', 'LeagueId', 'League')\n",
    "x_train = x_train.drop('Value', axis=1)\n",
    "\n",
    "x_test = apply_encoder(x_test, nationality_encoder, 'NationalityId', 'Nationality')\n",
    "x_test = apply_encoder(x_test, position_encoder, 'PositionId', 'Position')\n",
    "x_test = apply_encoder(x_test, foot_encoder, 'FootId', 'Foot')\n",
    "x_test = apply_encoder(x_test, team_encoder, 'TeamId', 'Team')\n",
    "x_test = apply_encoder(x_test, league_encoder, 'LeagueId', 'League')\n",
    "x_test = x_test.drop('Value', axis=1)\n",
    "\n",
    "\n",
    "scaler_type = 'MinMaxScaler'\n",
    "if scaler_type == 'MinMaxScaler': scaler = MinMaxScaler(feature_range=(0, 1))\n",
    "else: scaler = StandardScaler()\n",
    "\n",
    "# Fit the scaler on the training data\n",
    "scaler.fit(x_train)\n",
    "\n",
    "# Transform the training data\n",
    "x_train_scaled = scaler.transform(x_train)"
   ]
  },
  {
   "cell_type": "markdown",
   "metadata": {},
   "source": [
    "## Train - Test - Score Models"
   ]
  },
  {
   "cell_type": "code",
   "execution_count": 66,
   "metadata": {},
   "outputs": [],
   "source": [
    "models = {\n",
    "    'Linear Regressor': LinearRegression(),\n",
    "    'Random Forest Regressor': RandomForestRegressor(n_estimators=300, max_depth=30, random_state=42),\n",
    "    'LightGBM': ltb.LGBMRegressor(colsample_bytree=0.7, learning_rate=0.1, max_depth=10, min_child_samples=20, n_estimators=300, num_leaves=31, subsample=0.8, random_state=42, verbose=-1),\n",
    "    }\n",
    "\n",
    "# Ridge cv\n",
    "# Light gbm\n",
    "# XG boost\n",
    "# Any estimator using the Huber loss would also be robust to outliers, e.g. SGDRegressor with loss='huber'.\n",
    "\n",
    "prediction_df = [] # pd.DataFrame(columns=['Player', 'Model', 'Actual Salary', 'Predicted Salary', 'Residuals'])\n",
    "computed_metrics = [] # pd.DataFrame(columns=['Model', 'MAE', 'MSE', 'RMSE', 'R-squared', 'Adjusted R-squared'])\n",
    "\n",
    "for name, model in models.items():\n",
    "    trained_model, pred_df, metric_df = train_test_score_model(name, model, scaler, player_names, x_train_scaled, y_train, x_test, y_test)\n",
    "    models[name] = trained_model\n",
    "    prediction_df.append(pred_df)\n",
    "    computed_metrics.append(metric_df)\n",
    "\n",
    "prediction_df = pd.concat(prediction_df)\n",
    "computed_metrics = pd.concat(computed_metrics)"
   ]
  },
  {
   "cell_type": "code",
   "execution_count": 67,
   "metadata": {},
   "outputs": [
    {
     "data": {
      "text/html": [
       "<div>\n",
       "<style scoped>\n",
       "    .dataframe tbody tr th:only-of-type {\n",
       "        vertical-align: middle;\n",
       "    }\n",
       "\n",
       "    .dataframe tbody tr th {\n",
       "        vertical-align: top;\n",
       "    }\n",
       "\n",
       "    .dataframe thead th {\n",
       "        text-align: right;\n",
       "    }\n",
       "</style>\n",
       "<table border=\"1\" class=\"dataframe\">\n",
       "  <thead>\n",
       "    <tr style=\"text-align: right;\">\n",
       "      <th></th>\n",
       "      <th>Model</th>\n",
       "      <th>Test - MAE</th>\n",
       "      <th>Test - RMSE</th>\n",
       "      <th>Test - R-squared</th>\n",
       "      <th>Train - MAE</th>\n",
       "      <th>Train - RMSE</th>\n",
       "      <th>Train - R-squared</th>\n",
       "    </tr>\n",
       "  </thead>\n",
       "  <tbody>\n",
       "    <tr>\n",
       "      <th>0</th>\n",
       "      <td>Linear Regressor</td>\n",
       "      <td>8309.682631</td>\n",
       "      <td>15811.861751</td>\n",
       "      <td>0.648991</td>\n",
       "      <td>7913.127288</td>\n",
       "      <td>15315.278583</td>\n",
       "      <td>0.650173</td>\n",
       "    </tr>\n",
       "    <tr>\n",
       "      <th>0</th>\n",
       "      <td>Random Forest Regressor</td>\n",
       "      <td>4330.353768</td>\n",
       "      <td>8953.440944</td>\n",
       "      <td>0.887453</td>\n",
       "      <td>1586.140931</td>\n",
       "      <td>3270.319695</td>\n",
       "      <td>0.984049</td>\n",
       "    </tr>\n",
       "    <tr>\n",
       "      <th>0</th>\n",
       "      <td>LightGBM</td>\n",
       "      <td>3770.487867</td>\n",
       "      <td>7813.327188</td>\n",
       "      <td>0.914291</td>\n",
       "      <td>1506.505914</td>\n",
       "      <td>2409.858582</td>\n",
       "      <td>0.991339</td>\n",
       "    </tr>\n",
       "  </tbody>\n",
       "</table>\n",
       "</div>"
      ],
      "text/plain": [
       "                     Model   Test - MAE   Test - RMSE  Test - R-squared  \\\n",
       "0         Linear Regressor  8309.682631  15811.861751          0.648991   \n",
       "0  Random Forest Regressor  4330.353768   8953.440944          0.887453   \n",
       "0                 LightGBM  3770.487867   7813.327188          0.914291   \n",
       "\n",
       "   Train - MAE  Train - RMSE  Train - R-squared  \n",
       "0  7913.127288  15315.278583           0.650173  \n",
       "0  1586.140931   3270.319695           0.984049  \n",
       "0  1506.505914   2409.858582           0.991339  "
      ]
     },
     "execution_count": 67,
     "metadata": {},
     "output_type": "execute_result"
    }
   ],
   "source": [
    "computed_metrics"
   ]
  },
  {
   "cell_type": "code",
   "execution_count": 68,
   "metadata": {},
   "outputs": [
    {
     "data": {
      "application/vnd.plotly.v1+json": {
       "config": {
        "plotlyServerURL": "https://plot.ly"
       },
       "data": [
        {
         "customdata": [
          [
           "Jacopo Fazzini"
          ],
          [
           "Nathan Tella"
          ],
          [
           "Janik Haberer"
          ],
          [
           "Cristiano Piccini"
          ],
          [
           "Koen Van Langendonck"
          ],
          [
           "Sam Larsson"
          ],
          [
           "Garry Mendes Rodrigues"
          ],
          [
           "Florian Krüger"
          ],
          [
           "Xeber Alkain Mitxelena"
          ],
          [
           "Flynn Downes"
          ],
          [
           "Reyes Cleary"
          ],
          [
           "João Miguel Teixeira Mendes"
          ],
          [
           "Iñaki Rupérez Urtasun"
          ],
          [
           "Peer Koopmeiners"
          ],
          [
           "Antonio Jonjić"
          ],
          [
           "Sherel Floranus"
          ],
          [
           "Fabio Torsiello"
          ],
          [
           "Antoine Leautey"
          ],
          [
           "Peter Ouaneh"
          ],
          [
           "Dario Dumić"
          ],
          [
           "Paul Stock"
          ],
          [
           "Federico Dimarco"
          ],
          [
           "Lilian Brassier"
          ],
          [
           "Liam Lindsay"
          ],
          [
           "Aitor Paredes Casamichana"
          ],
          [
           "Ryan Isaac Mendes da Graça"
          ],
          [
           "Alex Matos"
          ],
          [
           "Leandro Chichizola"
          ],
          [
           "Jorge Filipe Oliveira Fernandes"
          ],
          [
           "Semir Telalovic"
          ],
          [
           "Domingos Quina"
          ],
          [
           "Julen Lobete Cienfuegos"
          ],
          [
           "Colin Dagba"
          ],
          [
           "Fernando Pacheco Flores"
          ],
          [
           "Daniel Grilo Azevedo"
          ],
          [
           "Rui Filipe Caetano Moura"
          ],
          [
           "Christian Kinsombi"
          ],
          [
           "Niclas Füllkrug"
          ],
          [
           "Florian Kainz"
          ],
          [
           "Luca Giudici"
          ],
          [
           "Luis Milla Manzanares"
          ],
          [
           "Emmanuel Okyere Boateng"
          ],
          [
           "Tawanda Chirewa"
          ],
          [
           "Bahadır Gölgeli"
          ],
          [
           "Diyaeddine Abzi"
          ],
          [
           "Erce Kardeşler"
          ],
          [
           "Moryké Fofana"
          ],
          [
           "Gabriel Gudmundsson"
          ],
          [
           "Nikolas Agrafiotis"
          ],
          [
           "Jannik Vestergaard"
          ],
          [
           "Kaio César Andrade Lima"
          ],
          [
           "José Francisco dos Santos Júnior"
          ],
          [
           "Tjaronn Inteff Chefren Chery"
          ],
          [
           "Alessandro Bellemo"
          ],
          [
           "Vincent Janssen"
          ],
          [
           "Olivier Dumont"
          ],
          [
           "Andreas Albers Nielsen"
          ],
          [
           "Thibaut Nicolas Marc Courtois"
          ],
          [
           "Pajtim Kasami"
          ],
          [
           "Albert-Mboyo Sambi Lokonga"
          ],
          [
           "André Hoffmann"
          ],
          [
           "Mergim Berisha"
          ],
          [
           "Terem Igobor Moffi"
          ],
          [
           "Aitor Mañas Buenadicha"
          ],
          [
           "Edmond Fayçal Tapsoba"
          ],
          [
           "Amari'i Bell"
          ],
          [
           "Edoardo Borrelli"
          ],
          [
           "Francisco Gámez López"
          ],
          [
           "Kayky da Silva Chagas"
          ],
          [
           "Lawrence Ofori"
          ],
          [
           "Florentin Lucien Jean Bloch"
          ],
          [
           "Benicio Baker-Boaitey"
          ],
          [
           "Sveinn Aron Guðjohnsen"
          ],
          [
           "Christian Lund Gytkjær"
          ],
          [
           "Leo Skiri Østigård"
          ],
          [
           "Ivan Filipović"
          ],
          [
           "Daniel Heber"
          ],
          [
           "Luis Perea Hernández"
          ],
          [
           "André Seruca de Oliveira"
          ],
          [
           "Marc Aguado Pallarés"
          ],
          [
           "Pape Ousmane Sakho"
          ],
          [
           "Rodrigo Ribeiro de Macedo"
          ],
          [
           "Ilias Koutsoupias"
          ],
          [
           "川邉 骏"
          ],
          [
           "Nicholas Pierini"
          ],
          [
           "Elbasan Rashani"
          ],
          [
           "Samuele Di Benedetto"
          ],
          [
           "Adryelson Lima Silva"
          ],
          [
           "Amar Gerxhaliu"
          ],
          [
           "Moïse Sahi Dion"
          ],
          [
           "Pedro González López"
          ],
          [
           "Miguel Ángel Atienza Villa"
          ],
          [
           "Mathias De Amorim"
          ],
          [
           "Alejandro Grimaldo García"
          ],
          [
           "Raphael Gregório Guzzo"
          ],
          [
           "Rui Pedro Silva Costa"
          ],
          [
           "Héctor José Hernández Marrero"
          ],
          [
           "Raúl Navarro del Río"
          ],
          [
           "Ferdy Druijf"
          ],
          [
           "Shahruddin Magomedaliyev"
          ],
          [
           "Enrico Baldini"
          ],
          [
           "Ruben Bover Izquierdo"
          ],
          [
           "Ravil Tagir"
          ],
          [
           "Daniel Gómez Alcón"
          ],
          [
           "Souleyman Doumbia"
          ],
          [
           "Jordan Tell"
          ],
          [
           "Giorgio Cittadini"
          ],
          [
           "Hélder José Oliveira Sá"
          ],
          [
           "Borja González Tomás"
          ],
          [
           "Luca Moro"
          ],
          [
           "Reece James"
          ],
          [
           "Márton Dárdai"
          ],
          [
           "Luka Bogdan"
          ],
          [
           "Mohamed Bamba"
          ],
          [
           "Ygor Nogueira de Paula"
          ],
          [
           "Harrison Clarke"
          ],
          [
           "Raffaele Pucino"
          ],
          [
           "Diego García Campos"
          ],
          [
           "Gaby Jean"
          ],
          [
           "Victor Jörgen Nilsson Lindelöf"
          ],
          [
           "Sokol Çikalleshi"
          ],
          [
           "Thibault Campanini"
          ],
          [
           "Joshua Myles Abraham Key"
          ],
          [
           "Kevin Strootman"
          ],
          [
           "Alessandro Livieri"
          ],
          [
           "Danny Ward"
          ],
          [
           "Çağlar Söyüncü"
          ],
          [
           "Junior Mwanga"
          ],
          [
           "Gregorio Luperini"
          ],
          [
           "Erick Barbosa dos Santos"
          ],
          [
           "Andrew Ferai Rinomhota"
          ],
          [
           "Kofi Jeremy Amoako"
          ],
          [
           "Malick Mbaye"
          ],
          [
           "Nelson Amadin"
          ],
          [
           "Daniel Bentley"
          ],
          [
           "Jon Pacheco Dozagarat"
          ],
          [
           "Robert Dickie"
          ],
          [
           "Nassim Chadli"
          ],
          [
           "Quentin Merlin"
          ],
          [
           "Youssef Amyn"
          ],
          [
           "Lucas Höler"
          ],
          [
           "Kyle Bartley"
          ],
          [
           "Madi Monamay Nsosemo"
          ],
          [
           "Ayman Benarous"
          ],
          [
           "Moritz Römling"
          ],
          [
           "Iñigo Córdoba Querejeta"
          ],
          [
           "Miguel Gutiérrez Ortega"
          ],
          [
           "Dimitris Giannoulis"
          ],
          [
           "James Shea"
          ],
          [
           "Hugo Novoa Ramos"
          ],
          [
           "Jamal Musiala"
          ],
          [
           "Mahlon Beresford Baker Romeo"
          ],
          [
           "Sergi Cardona Bermúdez"
          ],
          [
           "Nick Fichtinger"
          ],
          [
           "Marc Cucurella Saseta"
          ],
          [
           "Branco van den Boomen"
          ],
          [
           "Matthieu Udol"
          ],
          [
           "Divin Mubama"
          ],
          [
           "Nathangelo Alexandro Markelo"
          ],
          [
           "Arthur Vermeeren"
          ],
          [
           "Joaquín Fernández Moreno"
          ],
          [
           "Rafik Belghali"
          ],
          [
           "Federico Gatti"
          ],
          [
           "Mitchell Dijks"
          ],
          [
           "Hugo Magnetti"
          ],
          [
           "Mamadou Diop"
          ],
          [
           "Muammer Sarıkaya"
          ],
          [
           "Nouha Dicko"
          ],
          [
           "Garland Gbellé"
          ],
          [
           "Maxime Jean Roberto Leverbe"
          ],
          [
           "Edin Višća"
          ],
          [
           "Bradley Barcola"
          ],
          [
           "Imanol García de Albéniz Crecente"
          ],
          [
           "Gregor Kobel"
          ],
          [
           "Avdo Spahić"
          ],
          [
           "Connal Trueman"
          ],
          [
           "Kenan Yıldız"
          ],
          [
           "Ryan Allsop"
          ],
          [
           "Aurélio Gabriel Ulineia Buta"
          ],
          [
           "Leonardo Pavoletti"
          ],
          [
           "Regan Slater"
          ],
          [
           "Trazié Thomas Zai"
          ],
          [
           "Rachid Ghezzal"
          ],
          [
           "Modibo Sagnan"
          ],
          [
           "Maxime Dominguez"
          ],
          [
           "Juan Carlos Martín Corral"
          ],
          [
           "Marvin Olawale Akinlabi Park"
          ],
          [
           "Milan Corryn"
          ],
          [
           "Frank Feller"
          ],
          [
           "Hákon Arnar Haraldsson"
          ],
          [
           "Nicolás Federico Castro"
          ],
          [
           "Nilson David Angulo Ramírez"
          ],
          [
           "Danilo D'Ambrosio"
          ],
          [
           "Israel Salazar Piriz"
          ],
          [
           "Mathías Olivera Miramontes"
          ],
          [
           "Alireza Jahanbakhsh"
          ],
          [
           "Tiago Fontoura Fonseca Morais"
          ],
          [
           "Spyros Angelidis"
          ],
          [
           "Madson de Souza Silva"
          ],
          [
           "John Stones"
          ],
          [
           "Maxime Busi"
          ],
          [
           "Khalil Fayad"
          ],
          [
           "Felipe Augusto da Silva"
          ],
          [
           "Harry Winks"
          ],
          [
           "Konrad de la Fuente"
          ],
          [
           "Daan Rots"
          ],
          [
           "Patrick Cutrone"
          ],
          [
           "Matteo Cotali"
          ],
          [
           "Tomáš Čvančara"
          ],
          [
           "Alioune Ba"
          ],
          [
           "Miguel Ángel Almirón Rejala"
          ],
          [
           "Guglielmo Vicario"
          ],
          [
           "Tjark Scheller"
          ],
          [
           "Tom Bischof"
          ],
          [
           "Jason Davidson"
          ],
          [
           "Junior Marsoni Sambu Mansoni"
          ],
          [
           "Sem Westerveld"
          ],
          [
           "Guéla Doué"
          ],
          [
           "Adrian Blake"
          ],
          [
           "Jeanuël Belocian"
          ],
          [
           "Adama Boiro"
          ],
          [
           "Bart Verbruggen"
          ],
          [
           "Boris Popovic"
          ],
          [
           "Mario Sesé Vera"
          ],
          [
           "Clément Jerome Michelin"
          ],
          [
           "Milan Smits"
          ],
          [
           "Bouna Sarr"
          ],
          [
           "Edgar Alcañiz Baldovi"
          ],
          [
           "Rigoberto Manuel Rivas Vindel"
          ],
          [
           "Lamine Fomba"
          ],
          [
           "Christopher Schindler"
          ],
          [
           "Triantafyllos Pasalidis"
          ],
          [
           "Justin-Noël Kalumba"
          ],
          [
           "Jordan Henderson"
          ],
          [
           "Gabriel Fernando de Jesus"
          ],
          [
           "Lorenzo De Silvestri"
          ],
          [
           "Edgar González Estrada"
          ],
          [
           "Marlos Moreno Durán"
          ],
          [
           "Jack Bonham"
          ],
          [
           "Cheick Oumar Konaté"
          ],
          [
           "Kenneth Aboh"
          ],
          [
           "Yohan Demoncy"
          ],
          [
           "Gerrard Buabo"
          ],
          [
           "Baye Ablaye Mbaye"
          ],
          [
           "Idrissa Gana Gueye"
          ],
          [
           "Rayan Ghrieb"
          ],
          [
           "Michael Obafemi"
          ],
          [
           "Arouna Sangante"
          ],
          [
           "Florian Bohnert"
          ],
          [
           "Luan Silva"
          ],
          [
           "Przemysław Płacheta"
          ],
          [
           "Odysseus Velanas"
          ],
          [
           "Luis Alberto Romero Alconchel"
          ],
          [
           "Peter Pekarík"
          ],
          [
           "Toni Domgjoni"
          ],
          [
           "Christian Rivera Hernández"
          ],
          [
           "Wahidullah Faghir"
          ],
          [
           "Bernardo Martins Sousa"
          ],
          [
           "Seydouba Cisse"
          ],
          [
           "Vakoun Issouf Bayo"
          ],
          [
           "Isac Alexi Sivert Lidberg"
          ],
          [
           "Stipe Perica"
          ],
          [
           "Eric Junior Bocat"
          ],
          [
           "Mario Ierardi"
          ],
          [
           "Luca Ravanelli"
          ],
          [
           "Óscar Guido Trejo"
          ],
          [
           "Alexandre Mendy"
          ],
          [
           "Kristian Pedersen"
          ],
          [
           "Jeroen Zoet"
          ],
          [
           "Johan Gastien"
          ],
          [
           "Claud Adjapong"
          ],
          [
           "Gustavo Enrique Giordano Amaro Assunção da Silva"
          ],
          [
           "Noah Mawene"
          ],
          [
           "Thijs Dallinga"
          ],
          [
           "Zakaria El Ouahdi"
          ],
          [
           "Alessio Zerbin"
          ],
          [
           "Alexandre Corredera Alardi"
          ],
          [
           "Dante Bonfim da Costa Santos"
          ],
          [
           "Shane Patrick Michael Duffy"
          ],
          [
           "Adrián Liso Liso Lahoz"
          ],
          [
           "Richie Omorowa"
          ],
          [
           "Divock Okoth Origi"
          ],
          [
           "Jarne Steuckers"
          ],
          [
           "Florian Miguel"
          ],
          [
           "Anis Mehmeti"
          ],
          [
           "Thomas Lemar"
          ],
          [
           "Brooke Norton-Cuffy"
          ],
          [
           "Miguel Rodríguez Vidal"
          ],
          [
           "Bruno Oliveira Bertinato"
          ],
          [
           "Mehdi Chahiri"
          ],
          [
           "Yaw Moses"
          ],
          [
           "Carl Rushworth"
          ],
          [
           "Taylor Moore"
          ],
          [
           "Manuel Obafemi Akanji"
          ],
          [
           "Kangni Frederic Ananou"
          ],
          [
           "Francesco Di Tacchio"
          ],
          [
           "Ali Fadal"
          ],
          [
           "Robert Leipertz"
          ],
          [
           "Jeffrey Gouweleeuw"
          ],
          [
           "Francisco Barbosa Vieites"
          ],
          [
           "Maxence Lacroix"
          ],
          [
           "Marcel Łubik"
          ],
          [
           "황의조 Ui Jo Hwang"
          ],
          [
           "David Torres Ortiz"
          ],
          [
           "Pedro Ortiz Bernat"
          ],
          [
           "シュミット・ダニエル"
          ],
          [
           "Joe Bryan"
          ],
          [
           "Arsène Courel"
          ],
          [
           "Noussair Mazraoui"
          ],
          [
           "Florent Muslija"
          ],
          [
           "Jhafets Christ Dick Reyes"
          ],
          [
           "Vincent Gembalies"
          ],
          [
           "Ricardo Daniel Pepi"
          ],
          [
           "Berkay Aydoğmuş"
          ],
          [
           "Jay den Haan"
          ],
          [
           "Francisco Javier Montero Rubio"
          ],
          [
           "Samuele Birindelli"
          ],
          [
           "Stefano Turati"
          ],
          [
           "Lucas Pires Silva"
          ],
          [
           "Mario Pašalić"
          ],
          [
           "Benedikt Gimber"
          ],
          [
           "Ogün Özçiçek"
          ],
          [
           "Thomas Glyn Doyle"
          ],
          [
           "Lucas François Bernard Hernández Pi"
          ],
          [
           "Marcel Beifus"
          ],
          [
           "Johann Serge Obiang"
          ],
          [
           "Hugo Sotelo Gómez"
          ],
          [
           "Mouhamadou Diarra"
          ],
          [
           "Aurélien Scheidler"
          ],
          [
           "Evan Ferguson"
          ],
          [
           "D'Leanu Arts"
          ],
          [
           "Luca Jannis Kilian"
          ],
          [
           "Bas Edo Kuipers"
          ],
          [
           "Marcos Sánchez Arriero"
          ],
          [
           "Massimo Coda"
          ],
          [
           "David Morillas Jiménez"
          ],
          [
           "Ibrahim Maza"
          ],
          [
           "Andrea Bertolacci"
          ],
          [
           "José Ignacio Fernández Iglesias"
          ],
          [
           "Bradley Stretton"
          ],
          [
           "Thomas Foket"
          ],
          [
           "Bachirou Yameogo"
          ],
          [
           "Jesse Bal"
          ],
          [
           "Luis Ezequiel Ávila"
          ],
          [
           "Illan Meslier"
          ],
          [
           "Kevin Miranda"
          ],
          [
           "Allan Linguet"
          ],
          [
           "Kevin Kraus"
          ],
          [
           "Elvis Rexhbeçaj"
          ],
          [
           "Cam Bragg"
          ],
          [
           "Jason Eyenga-Lokilo"
          ],
          [
           "Kenny Lala"
          ],
          [
           "Antonio Rüdiger"
          ],
          [
           "Iwo Kaczmarski"
          ],
          [
           "Francesco Caputo"
          ],
          [
           "Iván Chapela López"
          ],
          [
           "Stefan Leković"
          ],
          [
           "Godfried Roemeratoe"
          ],
          [
           "Jérémie Boga"
          ],
          [
           "Julian Jeanvier"
          ],
          [
           "Dominic Solanke"
          ],
          [
           "Quentin Braat"
          ],
          [
           "Bilal Brahimi"
          ],
          [
           "Jean-Luc Mamadou Diarra Dompé"
          ],
          [
           "Pedro Gastón Álvarez Sosa"
          ],
          [
           "Phillip Tietz"
          ],
          [
           "José Andrés Rodriguez Gaitán"
          ],
          [
           "Germán Sánchez Barahona"
          ],
          [
           "Yáser Asprilla Martínez"
          ],
          [
           "Brandon Soppy"
          ],
          [
           "Timo Baumgartl"
          ],
          [
           "Vedat Karakuş"
          ],
          [
           "Warren Tchimbembé"
          ],
          [
           "Asmir Begović"
          ],
          [
           "Michele Collocolo"
          ],
          [
           "Onur Bulut"
          ],
          [
           "Jubal Rocha Mendes Júnior"
          ],
          [
           "Mamadou Camara"
          ],
          [
           "Miguel Muñoz Mora"
          ],
          [
           "Nikola Vlašić"
          ],
          [
           "Reece Burke"
          ],
          [
           "Tomás Mejías Osorio"
          ],
          [
           "Ayotomiwa Dele-Bashiru"
          ],
          [
           "Jean Romaric Kevin Koffi"
          ],
          [
           "Ahmet Ege Gürleyen"
          ],
          [
           "Giacomo Raspadori"
          ],
          [
           "José León Bernal"
          ],
          [
           "Rolando Mandragora"
          ],
          [
           "Dirk Asare"
          ],
          [
           "Marc Jurado Gómez"
          ],
          [
           "Saba Sazonov"
          ],
          [
           "Famara Diédhiou"
          ],
          [
           "Bruno Lourenço Pinto de Almeida Paz"
          ],
          [
           "Nikola Krstović"
          ],
          [
           "Jesurun Rak-Sakyi"
          ],
          [
           "Andrea Cagnano"
          ],
          [
           "Lucas Vennegoor of Hess."
          ],
          [
           "David López Silva"
          ],
          [
           "Antoni-Djibu Milambo"
          ],
          [
           "Iker Undabarrena Martínez"
          ],
          [
           "Antoine Semenyo"
          ],
          [
           "Armando Broja"
          ],
          [
           "Tobias Kempe"
          ],
          [
           "Valerio Mantovani"
          ],
          [
           "Danel Sinani"
          ],
          [
           "Mexx Meerdink"
          ],
          [
           "Miquel Parera Pizá"
          ],
          [
           "Manuel Marras"
          ],
          [
           "Filip Wojciech Jagiełło"
          ],
          [
           "Alejandro Iturbe Encabo"
          ],
          [
           "Mateo Kovačić"
          ],
          [
           "Sergio Lozano Lluch"
          ],
          [
           "Sergio Camello Pérez"
          ],
          [
           "Silvio Merkaj"
          ],
          [
           "Dilan Kumar Markanday"
          ],
          [
           "Yasser Baldé"
          ],
          [
           "Moussa Sissoko"
          ],
          [
           "Zak Vyner"
          ],
          [
           "Yann Sommer"
          ],
          [
           "Hervé Kouakou Koffi"
          ],
          [
           "Alin Vasilică Șerban"
          ],
          [
           "Darlin Zidane Yongwa Ngameni"
          ],
          [
           "Jimmy Dunne"
          ],
          [
           "Vic Chambaere"
          ],
          [
           "Xavier Laglais Kouassi"
          ],
          [
           "Yassine Haouari"
          ],
          [
           "Noah Engelbreth"
          ],
          [
           "Nicolas Oliveira Kisilowski"
          ],
          [
           "Henri Salomaa"
          ],
          [
           "Jay Idzes"
          ],
          [
           "Simone Pozzato"
          ],
          [
           "Raúl Fernández-Cavada Mateos"
          ],
          [
           "Thomas Buitink"
          ],
          [
           "Valentino Livramento"
          ],
          [
           "守田 英正"
          ],
          [
           "Harouna Sy"
          ],
          [
           "Yann Yves Laurent Bodiger"
          ],
          [
           "Yunus Mallı"
          ],
          [
           "Joël Schingtienne"
          ],
          [
           "Vital Manuel N"
          ],
          [
           "Lorenzo Lucchesi"
          ],
          [
           "Bruno Xavier Almeida Costa"
          ],
          [
           "Nicola Rauti"
          ],
          [
           "Nicolas De Préville"
          ],
          [
           "Gabriele Piccinini"
          ],
          [
           "Adil Aouchiche"
          ],
          [
           "Martin Erlić"
          ],
          [
           "Ferran Jutglà Blanch"
          ],
          [
           "Christian Fassnacht"
          ],
          [
           "Niklas Niehoff"
          ],
          [
           "Simon Walde"
          ],
          [
           "Papiss Mison Djilobodji"
          ],
          [
           "Vito Mannone"
          ],
          [
           "Mustafa Kapı"
          ],
          [
           "Falaye Sacko"
          ],
          [
           "Piero Martín Hincapié Reyna"
          ],
          [
           "Gédéon Kalulu Kyatengwa"
          ],
          [
           "Felix Passlack"
          ],
          [
           "Garang Kuol"
          ],
          [
           "Rafael Sousa Gancho Brito"
          ],
          [
           "Antonio Mirante"
          ],
          [
           "Ricardo Domingos Barbosa Pereira"
          ],
          [
           "Amadou Keita"
          ],
          [
           "Alessandro Micai"
          ],
          [
           "Ömer Toprak"
          ],
          [
           "Samuel Loureiro Carvalho Justo"
          ],
          [
           "Damian van der Haar"
          ],
          [
           "Agustín Martegani"
          ],
          [
           "Felix Platte"
          ],
          [
           "Joseph Boyamba"
          ],
          [
           "Iké Dominique Ugbo"
          ],
          [
           "Maxime Kali Wenssens"
          ],
          [
           "Christian Borrego Isabel"
          ],
          [
           "Unai Marino Alkorta"
          ],
          [
           "Gustavo H. Alves Rodrigues"
          ],
          [
           "Nader El-Jindaoui"
          ],
          [
           "Gavin Okeroghene Bazunu"
          ],
          [
           "Oriol Romeu Vidal"
          ],
          [
           "Ibrahim Sissoko"
          ],
          [
           "Ørjan Håskjold Nyland"
          ],
          [
           "Tayo Adaramola"
          ],
          [
           "José Luis Muñoz León"
          ],
          [
           "Mathias Oyewusi"
          ],
          [
           "Alfons Sampsted"
          ],
          [
           "Abel Ruiz Ortega"
          ],
          [
           "Marcus Lilian Thuram-Ulien"
          ],
          [
           "Antonio Pergreffi"
          ],
          [
           "Sergio Cubero Ezcurra"
          ],
          [
           "Berkay Sülüngöz"
          ],
          [
           "Marcos André de Sousa Mendonça"
          ],
          [
           "Sébastien Bruzzese"
          ],
          [
           "Mohamed El Arouch"
          ],
          [
           "Rúben Ismael Valente Ramos"
          ],
          [
           "Lucas Perrin"
          ],
          [
           "Levi Samuels Colwill"
          ],
          [
           "Iver Tobias Rørvik Fossum"
          ],
          [
           "Cameron Lisceous Humphreys-Grant"
          ],
          [
           "Luis Ismael Vázquez"
          ],
          [
           "João Miguel Vieira Freitas Silva Marques"
          ],
          [
           "Miguel Loureiro Ameijenda"
          ],
          [
           "Logan Costa"
          ],
          [
           "Kyliane Dong"
          ],
          [
           "Joel Julius Ilmari Pohjanpalo"
          ],
          [
           "Luis Dettling"
          ],
          [
           "Julien Le Cardinal"
          ],
          [
           "Mihajlo Ilić"
          ],
          [
           "Kasper Dolberg Rasmussen"
          ],
          [
           "Charles Boli"
          ],
          [
           "Isak Hien"
          ],
          [
           "Estéban Lepaul"
          ],
          [
           "Borja Garcés Moreno"
          ],
          [
           "Nicolas Pépé"
          ],
          [
           "Ryan Andrews"
          ],
          [
           "Ben Knight"
          ],
          [
           "Eddie Anthony Salcedo Mora"
          ],
          [
           "Jaume Albert Cuéllar Mendoza"
          ],
          [
           "Lenny Pirringuel"
          ],
          [
           "Álvaro Killane Giardini"
          ],
          [
           "Ethan Shea Horvath"
          ],
          [
           "Siebe Horemans"
          ],
          [
           "Riad Nouri"
          ],
          [
           "Andy Joseph Pelmard"
          ],
          [
           "Ylies Aradj"
          ],
          [
           "Ángel Fortuño Viñas"
          ],
          [
           "Sam Proctor"
          ],
          [
           "Loris Mouyokolo"
          ],
          [
           "Antonio José Raíllo Arenas"
          ],
          [
           "Mohamed Airam Ramos Wade"
          ],
          [
           "Sergi Darder Moll"
          ],
          [
           "Michael Langer"
          ],
          [
           "Sabin Merino Zuloaga"
          ],
          [
           "Immanuël-Johannes Pherai"
          ],
          [
           "Francesco D'Alessio"
          ],
          [
           "Thomas Lam"
          ],
          [
           "Tyrell Sellars-Fleming"
          ],
          [
           "Furkan Onur Akyüz"
          ],
          [
           "Andries Noppert"
          ],
          [
           "László Bénes"
          ],
          [
           "Mike van Duinen"
          ],
          [
           "Ignacio De Arruabarrena Fernández"
          ],
          [
           "Francisco Andrés Sierralta Carvallo"
          ],
          [
           "Mücahit Serbest"
          ],
          [
           "Florian Tardieu"
          ],
          [
           "Rui Tiago Dantas da Silva"
          ],
          [
           "Álvaro Sanz Catalán"
          ],
          [
           "Didier Lamkel Zé"
          ],
          [
           "Sven Botman"
          ],
          [
           "三笘 薫"
          ],
          [
           "Mousa Mohammad Mousa Sulaiman Al-Tamari"
          ],
          [
           "Alejandro San Cristóbal"
          ],
          [
           "Gerard Deulofeu Lázaro"
          ],
          [
           "Alessandro Salvi"
          ],
          [
           "Wesley Nathan Hylton Harding"
          ],
          [
           "Alexis Laurent Patrice Roge Flips"
          ],
          [
           "Denis Mihai Drăguş"
          ],
          [
           "Samuel Peter Barnes"
          ],
          [
           "Efe Tecimer"
          ],
          [
           "Diego González Cabanes"
          ],
          [
           "Jakub Stolarczyk"
          ],
          [
           "Joseph Nonge"
          ],
          [
           "Nuno Miguel da Costa Jóia"
          ],
          [
           "Andreas Voglsammer"
          ],
          [
           "Roman Květ"
          ],
          [
           "José Alejandro Martín Valerón"
          ],
          [
           "Bünyamin Balcı"
          ],
          [
           "Pedro Miguel Santos Amador"
          ],
          [
           "David Turnbull"
          ],
          [
           "Alper Uludağ"
          ],
          [
           "Jorge Benito de Valle"
          ],
          [
           "Amadou Sagna"
          ],
          [
           "Jules Gaudin"
          ],
          [
           "Alberth Josué Elis Martínez"
          ],
          [
           "Juan Antonio Iglesias Sánchez"
          ],
          [
           "Cristian Darío Álvarez"
          ],
          [
           "Pablo Paulino Rosario"
          ],
          [
           "Afonso Manuel Abreu de Freitas"
          ],
          [
           "Tom van de Looi"
          ],
          [
           "Giorgos Kyriakopoulos"
          ],
          [
           "Paul Nardi"
          ],
          [
           "Róbert Boženík"
          ],
          [
           "Danilo Cataldi"
          ],
          [
           "Mark Gillespie"
          ],
          [
           "Lukas Schleimer"
          ],
          [
           "Audenirton Soares da Silva"
          ],
          [
           "Yohan Roche"
          ],
          [
           "Sadibou Sané"
          ],
          [
           "Pedro Lomba Neto"
          ],
          [
           "Dean Henderson"
          ],
          [
           "Mateus Quaresma Correia"
          ],
          [
           "Philipp Pentke"
          ],
          [
           "Stephen Antunes Eustáquio"
          ],
          [
           "Yanis Rahmani Cordeiro"
          ],
          [
           "Jorge Karseladze"
          ],
          [
           "Jannis Heuer"
          ],
          [
           "Anderson-Lenda Lucoqui"
          ],
          [
           "Alessandro Caporale"
          ],
          [
           "Nordine Kandil"
          ],
          [
           "Cheikh Ahmadou Bamba Mbacke Dieng"
          ],
          [
           "Stéphane Imad Diarra"
          ],
          [
           "Vicente Guaita Panadero"
          ],
          [
           "Kristian Nökkvi Hlynsson"
          ],
          [
           "Luigi Pellegrini"
          ],
          [
           "Muhammet Ali Özbaskıcı"
          ],
          [
           "Romain Del Castillo"
          ],
          [
           "Jean Zimmer"
          ],
          [
           "Florian Thomas Danho"
          ],
          [
           "Isaac Palazón Camacho"
          ],
          [
           "Wladimiro Falcone"
          ],
          [
           "Ricardo Rodríguez Gil Carcedo"
          ],
          [
           "Luca Daniel de la Torre"
          ],
          [
           "Tarık Çetin"
          ],
          [
           "Alan Gonzalo Varela"
          ],
          [
           "Filip Bilbija"
          ],
          [
           "Haris Hajradinović"
          ],
          [
           "Tyler Shaan Adams"
          ],
          [
           "伊藤 涼太郎"
          ],
          [
           "Dean Ruben James"
          ],
          [
           "Diadié Samassékou"
          ],
          [
           "Stije Resink"
          ],
          [
           "Jose María Saldaña Baeza"
          ],
          [
           "Horaţiu Alexandru Moldovan"
          ],
          [
           "Jimmy Cabot"
          ],
          [
           "Luís Miguel Castelo Santos"
          ],
          [
           "Nick Pope"
          ],
          [
           "Dave Kwakman"
          ],
          [
           "Nazariy Rusyn"
          ],
          [
           "Gökhan Gül"
          ],
          [
           "Hugo Bueno López"
          ],
          [
           "Brajan Gruda"
          ],
          [
           "Kağan Moradaoğlu"
          ],
          [
           "Theodor Alexander Corbeanu"
          ],
          [
           "Selvi Clua Oya"
          ],
          [
           "Gustav Christensen"
          ],
          [
           "Kevin Martin Krygård"
          ],
          [
           "Ivan Ilić"
          ],
          [
           "Kamil Piątkowski"
          ],
          [
           "Djordjije Medenica"
          ],
          [
           "Hans Hateboer"
          ],
          [
           "Mattia Tonetto"
          ],
          [
           "Simon Rhein"
          ],
          [
           "Kalidou Sidibé"
          ],
          [
           "Brian Alexis Ocampo Ferreira"
          ],
          [
           "Damián Cáceres Rodríguez"
          ],
          [
           "Patrick Herrmann"
          ],
          [
           "Iván Calero Ruiz"
          ],
          [
           "Mert Kömür"
          ],
          [
           "Lorenzo Di Stefano"
          ],
          [
           "Filippo Romagna"
          ],
          [
           "Manolo Portanova"
          ],
          [
           "Tyler Roberts"
          ],
          [
           "Joe Rothwell"
          ],
          [
           "Mark Travers"
          ],
          [
           "Flávio Basilua Jacinto Nazinho"
          ],
          [
           "Benji Michel"
          ],
          [
           "Théo Barbet"
          ],
          [
           "Luca Maniero"
          ],
          [
           "Julien Fontaine Ngoy Bin Cibambi"
          ],
          [
           "Kalifa Coulibaly"
          ],
          [
           "Cláudio Winck Neto"
          ],
          [
           "Lucas Ariel Ocampos"
          ],
          [
           "Patrick Vroegh"
          ],
          [
           "Borja Mayoral Moya"
          ],
          [
           "Tan Kenneth Jerico Schmidt"
          ],
          [
           "Alessandro Sorrentino"
          ],
          [
           "Reno Münz"
          ],
          [
           "Thomas Dickson-Peters"
          ],
          [
           "Sergio Postigo Redondo"
          ],
          [
           "Pietro Pellegri"
          ],
          [
           "Oliver Hüsing"
          ],
          [
           "Neal Maupay"
          ],
          [
           "Joseph Oluwaseyi Temitope Ayodele-Aribo"
          ],
          [
           "Lenny Vallier"
          ],
          [
           "Matteo Grandi"
          ],
          [
           "Cristian Daniel Ansaldi"
          ],
          [
           "Calvin Marc Brackelmann"
          ],
          [
           "Tom Lees"
          ],
          [
           "Alexandre Lacazette"
          ],
          [
           "Anastasios Chatzigiovanis"
          ],
          [
           "Youssef Aït Bennasser"
          ],
          [
           "Franck Surdez"
          ],
          [
           "Ali Ibrahim Karim Ali Al-Hamadi"
          ],
          [
           "Max Herrmann"
          ],
          [
           "Andrea Sala"
          ],
          [
           "Fabian de Keijzer"
          ],
          [
           "Mattias Olof Svanberg"
          ],
          [
           "Vinicius Silvestre da Costa"
          ],
          [
           "Isaak Davies"
          ],
          [
           "Kamarai Simon-Swyer"
          ],
          [
           "Stanislav Kritsyuk"
          ],
          [
           "José Luís Mendes Andrade"
          ],
          [
           "Papa Amadou Diallo"
          ],
          [
           "Bahadır Han Güngördü"
          ],
          [
           "Shea Charles"
          ],
          [
           "Hugo Duro Perales"
          ],
          [
           "Yerson Mosquera Valdelamar"
          ],
          [
           "Javier Castro Urdín"
          ],
          [
           "Rafael Tolói"
          ],
          [
           "Nicolas N'Koulou"
          ],
          [
           "Domingos André Ribeiro Almeida"
          ],
          [
           "Marcelino Ignacio Nuñez Espinoza"
          ],
          [
           "Billy Gilmour"
          ],
          [
           "Rafael Obrador Burguera"
          ],
          [
           "Mads Frøkjær-Jensen"
          ],
          [
           "Karlo Lulić"
          ],
          [
           "Lucas Tolentino Coelho de Lima"
          ],
          [
           "Nicolás González Iglesias"
          ],
          [
           "Roberto Insigne"
          ],
          [
           "Andreas Müller"
          ],
          [
           "Júlio Augusto Dabó"
          ],
          [
           "Ahmed Musa"
          ],
          [
           "Quinten Ryan Crispito Timber"
          ],
          [
           "Micah Hamilton"
          ],
          [
           "Mike Hauptmeijer"
          ],
          [
           "Bram van Polen"
          ],
          [
           "Valentin André Henri Rosier"
          ],
          [
           "Paweł Marek Dawidowicz"
          ],
          [
           "Manfredi Nespola"
          ],
          [
           "本間 至恩"
          ],
          [
           "Jorge Pascual Medina"
          ],
          [
           "Jens Dalsgaard Stage"
          ],
          [
           "Myles Lewis-Skelly"
          ],
          [
           "Ismail Achik"
          ],
          [
           "Abat Aymbetov"
          ],
          [
           "Yannik Bangsow"
          ],
          [
           "Hubert Dawid Idasiak"
          ],
          [
           "Luke McNally"
          ],
          [
           "Timothy Chandler"
          ],
          [
           "Carlo Johan Holse Justesen"
          ],
          [
           "Roberto Maximiliano Pereyra"
          ],
          [
           "Pablo Íñiguez de Heredia Larraz"
          ],
          [
           "Mateusz Łęgowski"
          ],
          [
           "Benson Manuel Hedilazio"
          ],
          [
           "Maximilian Beier"
          ],
          [
           "Morgan Guilavogui"
          ],
          [
           "Jovan Manev"
          ],
          [
           "Arnaud Lusamba"
          ],
          [
           "Logan Delaurier-Chaubet"
          ],
          [
           "Filippo Veneran"
          ],
          [
           "Givairo Read"
          ],
          [
           "Kazımcan Karataş"
          ],
          [
           "Nachon Nsingi"
          ],
          [
           "Leo Greiml"
          ],
          [
           "Evan Eghosa"
          ],
          [
           "Yannik Keitel"
          ],
          [
           "Yassine Kechta"
          ],
          [
           "Jamiro Gregory Monteiro Alvarenga"
          ],
          [
           "Samuel Bamba"
          ],
          [
           "Kouassi Ryan Sessegnon"
          ],
          [
           "Elias Cobbaut"
          ],
          [
           "Domilson Cordeiro dos Santos"
          ],
          [
           "Nathan Wood-Gordon"
          ],
          [
           "Gabriel Slonina"
          ],
          [
           "Fernando Pérez Morillo"
          ],
          [
           "Aitor Ruibal García"
          ],
          [
           "Halid Šabanović"
          ],
          [
           "Can Keleş"
          ],
          [
           "Emir Karic"
          ],
          [
           "Hamjatou Soukouna"
          ],
          [
           "Vivaldo Leandro Semedo Moura Sousa"
          ],
          [
           "Jules Olivier Ntcham"
          ],
          [
           "Cristiano Biraghi"
          ],
          [
           "Andrew Robertson"
          ],
          [
           "Serif Nhaga"
          ],
          [
           "Dean Huijsen"
          ],
          [
           "Carlos Dominguez Cáceres"
          ],
          [
           "Gianfranco Gazzaniga Farías"
          ],
          [
           "Benjamin Chrisene"
          ],
          [
           "Mark Flekken"
          ],
          [
           "Víctor Wehbi Aznar Ussen"
          ],
          [
           "Rodrygo Silva de Goes"
          ],
          [
           "Riccardo Calafiori"
          ],
          [
           "Alaaddin Okumuş"
          ],
          [
           "Maximilian Wöber"
          ],
          [
           "Thomas Goiginger"
          ],
          [
           "Francisco Femenía Far"
          ],
          [
           "Milan Đurić"
          ],
          [
           "Liam Kelly"
          ],
          [
           "Mustafa Tan"
          ],
          [
           "Ismaïla Sarr"
          ],
          [
           "David Datro Fofana"
          ],
          [
           "Daniel Olmo Carvajal"
          ],
          [
           "Jean Felipe Nogueira da Silva"
          ],
          [
           "Nikola Šipčić"
          ],
          [
           "Daniël Virginio Deen"
          ],
          [
           "Simon Graves Jensen"
          ],
          [
           "Kenny Joelle Tete"
          ],
          [
           "Ben Doak"
          ],
          [
           "Jordi Masip López"
          ],
          [
           "Karol Borys"
          ],
          [
           "Joe Johnson"
          ],
          [
           "Miguel Filipe Nunes Cardoso"
          ],
          [
           "Valentin Henry"
          ],
          [
           "Noel Futkeu"
          ],
          [
           "Francisco Jesús Crespo García"
          ],
          [
           "Alberto Hórreo Taveras"
          ],
          [
           "Sergi Gómez Solà"
          ],
          [
           "Jean-Ricner Bellegarde"
          ],
          [
           "Côme Bianay Balcot"
          ],
          [
           "Johannes Dörfler"
          ],
          [
           "Gonzalo Aguilar López"
          ],
          [
           "Kianz González-Froese"
          ],
          [
           "Ivan Prtajin"
          ],
          [
           "Salis Abdul Samed"
          ],
          [
           "Abdul Fatawu Issahaku"
          ],
          [
           "Paulo Dino Gazzaniga"
          ],
          [
           "Laureano Antonio Villa Suárez"
          ],
          [
           "アペルカンプ 真大 カール"
          ],
          [
           "Andrea Danzi"
          ],
          [
           "Mark Alexander McKenzie"
          ],
          [
           "Craig Dawson"
          ],
          [
           "Moussa Cissé"
          ],
          [
           "Robin Fellhauer"
          ],
          [
           "Marco van Ginkel"
          ],
          [
           "Finn Jeltsch"
          ],
          [
           "Ridgeciano Delano Haps"
          ],
          [
           "Gilberto Dambi Batista"
          ],
          [
           "Benjamin Bouchouari"
          ],
          [
           "Lionel Mpasi-Nzau"
          ],
          [
           "Kieffer Roberto Francisco Moore"
          ],
          [
           "Leonardo Bonucci"
          ],
          [
           "Antoine Joujou"
          ],
          [
           "William Anthony Patrick Smallbone"
          ],
          [
           "Salomon Abergel"
          ],
          [
           "Soufiane Bidaoui"
          ],
          [
           "Fabian Tait"
          ],
          [
           "Fabio Cristian Chiarodia"
          ],
          [
           "Nathan Michael Collins"
          ],
          [
           "Shane Kevin Ferguson"
          ],
          [
           "Antonio-Mirko Čolak"
          ],
          [
           "Daniel Esmorís Tasende"
          ],
          [
           "Garissone Innocent"
          ],
          [
           "Lucas Cañizares Conchello"
          ],
          [
           "Soner Gönül"
          ],
          [
           "Jacques Ekomié"
          ],
          [
           "Rayyan Baniya"
          ],
          [
           "Andreas Schjølberg Hanche-Olsen"
          ],
          [
           "Romelu Lukaku Menama"
          ],
          [
           "Víctor Andrés Meseguer Cavas"
          ],
          [
           "David Olatukunbo Alaba"
          ],
          [
           "Dimitrios Kourmpelis"
          ],
          [
           "Reinildo Isnard Mandava"
          ],
          [
           "Saad Agouzoul"
          ],
          [
           "Gleison Bremer Silva Nascimento"
          ],
          [
           "Yira Collins Sor"
          ],
          [
           "Hernâni Infande Tchuda da Silva"
          ],
          [
           "Victor Christoffer Jensen"
          ],
          [
           "Ezechiel Fiemawhle"
          ],
          [
           "Iker Muñoz Cameros"
          ],
          [
           "Mory Gbane"
          ],
          [
           "Fidel Chaves de la Torre"
          ],
          [
           "Bryan Lasme"
          ],
          [
           "Tiemoué Bakayoko"
          ],
          [
           "Hamari Traoré"
          ],
          [
           "Žan Rogelj"
          ],
          [
           "Daniel Heuer Fernandes"
          ],
          [
           "Karim-David Adeyemi"
          ],
          [
           "Niccolò Pisilli"
          ],
          [
           "室屋 成"
          ],
          [
           "Raphaël Eyongo"
          ],
          [
           "Fermín López Marín"
          ],
          [
           "Gerónimo Rulli"
          ],
          [
           "Pierre Patron"
          ],
          [
           "Nathaniel Brown"
          ],
          [
           "Andrea Cecchetto"
          ],
          [
           "Hamdi Akujobi"
          ],
          [
           "Kaide Gordon"
          ],
          [
           "Raúl Parra Artal"
          ],
          [
           "Charilaos Charisis"
          ],
          [
           "Joel Leandro Ordóñez Guerrero"
          ],
          [
           "Jorge Mier Martínez"
          ],
          [
           "Kevin Vogt"
          ],
          [
           "Christopher Antwi-Adjei"
          ],
          [
           "Ludovic Blas"
          ],
          [
           "Daniel Parejo Muñoz"
          ],
          [
           "Chiedozie Ogbene"
          ],
          [
           "Juan Gutiérrez Martínez"
          ],
          [
           "Gonzalo Villar del Fraile"
          ],
          [
           "Håvard Kallevik Nielsen"
          ],
          [
           "Vasilis Cornelius Barkas"
          ],
          [
           "Tomáš Kalas"
          ],
          [
           "Fredrik Oppegård"
          ],
          [
           "Grejohn Kyei"
          ],
          [
           "Ahmed Kashi"
          ],
          [
           "Achraf Laâziri"
          ],
          [
           "Riccardo Orsolini"
          ],
          [
           "Leopold Wahlstedt"
          ],
          [
           "Juan Antonio Delgado Baeza"
          ],
          [
           "Yunus Emre Konak"
          ],
          [
           "Alexander Hartmann Bah"
          ],
          [
           "Nahuel Noll"
          ],
          [
           "Samuel John Bell"
          ],
          [
           "Memphis Depay"
          ],
          [
           "Johny Placide"
          ],
          [
           "Deivid W. de Souza Eugênio"
          ],
          [
           "Paul Seguin"
          ],
          [
           "Harry Leonard"
          ],
          [
           "Cauley Woodrow"
          ],
          [
           "André de Castro Pereira"
          ],
          [
           "Mattia Caldara"
          ],
          [
           "Robson Alves de Barros"
          ],
          [
           "Sergio Arribas Prieto"
          ],
          [
           "Nicolò Casale"
          ],
          [
           "Dominic Calvert-Lewin"
          ],
          [
           "Mamadou Diakhon"
          ],
          [
           "Lukas Kunze"
          ],
          [
           "Bart Vriends"
          ],
          [
           "Emmanuel Kouadio Koné"
          ],
          [
           "Lucas Buades"
          ],
          [
           "Ousmane Diomande"
          ],
          [
           "Alessandro Pilati"
          ],
          [
           "Davide Balestrero"
          ],
          [
           "Lorenzo Venuti"
          ],
          [
           "Vetle Winger Dragsnes"
          ],
          [
           "Mohamed Naser Elsayed Elneny"
          ],
          [
           "Alexander Isak"
          ],
          [
           "Rikelmi Valentim dos Santos"
          ],
          [
           "Christiaan Ravych"
          ],
          [
           "Faïz Mattoir"
          ],
          [
           "Ragnar Oratmangoen"
          ],
          [
           "Petko Hristov"
          ],
          [
           "Bryan Blanco"
          ],
          [
           "Héctor Junior Firpo Adamés"
          ],
          [
           "Stefan de Vrij"
          ],
          [
           "Tymoteusz Puchacz"
          ],
          [
           "Rune Paeshuyse"
          ],
          [
           "Filippo Lorenzo Sgarbi"
          ],
          [
           "Stanislav Lobotka"
          ],
          [
           "Alejandro Baena Rodríguez"
          ],
          [
           "Joe White"
          ],
          [
           "Benjamin Lhassine Kone"
          ],
          [
           "Filippo Distefano"
          ],
          [
           "Bingourou Kamara"
          ],
          [
           "Gnantin Yann Gboho"
          ],
          [
           "Milos Kerkez"
          ],
          [
           "Nuno Miguel Gomes dos Santos"
          ],
          [
           "Jan Hendrik Marx"
          ],
          [
           "Alen Halilović"
          ],
          [
           "Cristian Ioan Ponde"
          ],
          [
           "Philippe Paulin Keny"
          ],
          [
           "Jannik Huth"
          ],
          [
           "Nuno Miguel Reis Lima"
          ],
          [
           "Omar Haktab Traoré"
          ],
          [
           "Iván Azón Monzón"
          ],
          [
           "Wilfried Stephane Singo"
          ],
          [
           "Luca Everink"
          ],
          [
           "Martín Zubimendi Ibáñez"
          ],
          [
           "Aleksandar Radovanović"
          ],
          [
           "Wesley Theodorus Hoedt"
          ],
          [
           "Jérémy Sebas"
          ],
          [
           "Cristian Esteban Gamboa Luna"
          ],
          [
           "Harvey Wiles-Richards"
          ],
          [
           "Airam Guzmán Castillo"
          ],
          [
           "Felipe Nicolás Avenatti Dovillabichus"
          ],
          [
           "Javier Sola Gascón"
          ],
          [
           "Kaan Ayhan"
          ],
          [
           "Tijjani Reijnders"
          ],
          [
           "Jayson Patrick Molumby"
          ],
          [
           "George Earthy"
          ],
          [
           "Antonio Zarzana Pérez"
          ],
          [
           "Okan Kocuk"
          ],
          [
           "Raúl De Tomás Gómez"
          ],
          [
           "Alessandro Vogliacco"
          ],
          [
           "Serkan Asan"
          ],
          [
           "Valentin Jacob"
          ],
          [
           "Francesco Ruberto"
          ],
          [
           "Elio Capradossi"
          ],
          [
           "Timo Becker"
          ],
          [
           "Doğukan Sinik"
          ],
          [
           "Delano Burgzorg"
          ],
          [
           "Niels Patrick Nkounkou"
          ],
          [
           "Tjaš Begić"
          ],
          [
           "Jasper Samooja"
          ],
          [
           "Brian Jepthe Bayeye"
          ],
          [
           "Xavier Quintillà Guasch"
          ],
          [
           "Harvey Lewis Barnes"
          ],
          [
           "Tristan Degreef"
          ],
          [
           "ルシアン リトバルスキー"
          ],
          [
           "Gernot Trauner"
          ],
          [
           "Abdul Manaf Nurudeen"
          ],
          [
           "Borja Iglesias Quintás"
          ],
          [
           "Samuel Obeng Gyabaa"
          ],
          [
           "Erdal Rakip"
          ],
          [
           "Jake Clarke-Salter"
          ],
          [
           "Benjamin Luke Woodburn"
          ],
          [
           "Omari Kellyman"
          ],
          [
           "Jonathan Howson"
          ],
          [
           "Pieter Gerkens"
          ],
          [
           "Alistair Edward McCann"
          ],
          [
           "Pablo Pérez Rico"
          ],
          [
           "Kaj de Rooij"
          ],
          [
           "İlkay Gündoğan"
          ],
          [
           "Wissam Ben Yedder"
          ],
          [
           "Ihlas Bebou"
          ],
          [
           "Can Bozdoğan"
          ],
          [
           "Syam Habib Ben Youssef"
          ],
          [
           "Michaël Bruno Dominique Cuisance"
          ],
          [
           "Onel Lázaro Hernández Mayea"
          ],
          [
           "Jorge Cuenca Barreno"
          ],
          [
           "Zach Muscat"
          ],
          [
           "Viktor Tobias Johansson"
          ],
          [
           "Paulo Bruno Exequiel Dybala"
          ],
          [
           "Gustavo Marques A. Santos"
          ],
          [
           "Adam Mayor"
          ],
          [
           "Ross Barkley"
          ],
          [
           "Rodrigo Mendoza Martinez"
          ],
          [
           "相馬 勇紀"
          ],
          [
           "Daniel Maldini"
          ],
          [
           "Laurent Abergel"
          ],
          [
           "Oscar Uddenäs"
          ],
          [
           "Alassane Alexandre Pléa"
          ],
          [
           "Junior Castello Lukeba"
          ],
          [
           "Kevin Volland"
          ],
          [
           "Marco Friedl"
          ],
          [
           "Rubén García Santos"
          ],
          [
           "Patrik Hrošovský"
          ],
          [
           "David Herold"
          ],
          [
           "Oihan Sancet Tirapu"
          ],
          [
           "Sergio Fernández Escobar"
          ],
          [
           "Gabriele Moncini"
          ],
          [
           "Dimitrios Sounas"
          ],
          [
           "Hirving Rodrigo Lozano Bahena"
          ],
          [
           "Seedy Jarju"
          ],
          [
           "Bradley Danger"
          ],
          [
           "Marcus Edwards"
          ],
          [
           "Jorge Giovani Zarfino Calandria"
          ],
          [
           "Kyle John McFadzean"
          ],
          [
           "Jayden Jezairo Braaf"
          ],
          [
           "Rafael Tavares Gomes Fernandes"
          ],
          [
           "Mile Svilar"
          ],
          [
           "Jacob Brown"
          ],
          [
           "Pol Lozano Vizuete"
          ],
          [
           "Régis Gurtner"
          ],
          [
           "Aaron Seydel"
          ],
          [
           "Joshua Wilson-Esbrand"
          ],
          [
           "Ivo Grbić"
          ],
          [
           "Thorgan Ganael Francis Hazard"
          ],
          [
           "Jack David Vincent Whatmough"
          ],
          [
           "Federico Tavernaro"
          ],
          [
           "Rick van Drongelen"
          ],
          [
           "Toma Bašić"
          ],
          [
           "中山 雄太"
          ],
          [
           "Luca Pandolfi"
          ],
          [
           "Claudio Andrés Bravo Muñoz"
          ],
          [
           "Anton Gaaei"
          ],
          [
           "Michele Camporese"
          ],
          [
           "Vitor Hugo Roque Ferreira"
          ],
          [
           "George Long"
          ],
          [
           "Umut Tohumcu"
          ],
          [
           "Matteo Ricci"
          ],
          [
           "Antonio Foti"
          ],
          [
           "Jaume Vicent Costa Jordá"
          ],
          [
           "Weston James Earl McKennie"
          ],
          [
           "Luca Pascal Schnellbacher"
          ],
          [
           "Albert Guðmundsson"
          ],
          [
           "Calum Chambers"
          ],
          [
           "Batuhan Çelik"
          ],
          [
           "Tommaso Cassandro"
          ],
          [
           "Alessio Vita"
          ],
          [
           "Xavier Chavalerin"
          ],
          [
           "Đorđe Nikolić"
          ],
          [
           "Lee Nicholls"
          ],
          [
           "Yassin Belkhdim"
          ],
          [
           "Sofyan Amrabat"
          ],
          [
           "Samuel Shashoua"
          ],
          [
           "Lion Lauberbach"
          ],
          [
           "Karl Sebastian Ring"
          ],
          [
           "Teddy Alloh"
          ],
          [
           "Isaac Hayden"
          ],
          [
           "Aritz Muguruza Peña"
          ],
          [
           "Stredair Appuah"
          ],
          [
           "Yakup Arda Kılıç"
          ],
          [
           "Osman Çelik"
          ],
          [
           "Norberto Bercique Gomes Betuncal"
          ],
          [
           "Jannes Luca Wieckhoff"
          ],
          [
           "Omar El Hilali"
          ],
          [
           "Pontus Almqvist"
          ],
          [
           "Griffin McDorman Yow"
          ],
          [
           "Igor Julio dos Santos de Paulo"
          ],
          [
           "Camiel Neghli"
          ],
          [
           "Michele Besaggio"
          ],
          [
           "Leo Sauer"
          ],
          [
           "Mehdi Jeannin"
          ],
          [
           "Levin Mete Öztunali"
          ],
          [
           "Otabek Shukurov"
          ],
          [
           "Volnei Feltes"
          ],
          [
           "Ion Nicolăescu"
          ],
          [
           "Danilo Luiz da Silva"
          ],
          [
           "Momodou Lamin Sonko"
          ],
          [
           "Jamie Paterson"
          ],
          [
           "Mahamé Siby"
          ],
          [
           "Ramy Bensebaini"
          ],
          [
           "Louis Mafouta"
          ],
          [
           "Giovanni Corradini"
          ],
          [
           "Filip Stevanović"
          ],
          [
           "Derensili Sanches Fernandes"
          ],
          [
           "Tim-Henry Handwerker"
          ],
          [
           "Nicola Bagnolini"
          ],
          [
           "Simon Désiré Sylvanus Deli"
          ],
          [
           "Jairo Izquierdo González"
          ],
          [
           "Manor Solomon"
          ],
          [
           "Bernardo de Souza"
          ],
          [
           "Javier Hernández Coarasa"
          ],
          [
           "長谷 部誠"
          ],
          [
           "Moritz-Broni Kwarteng"
          ],
          [
           "Jose Luís García Vayá"
          ],
          [
           "Riccardo Sottil"
          ],
          [
           "Lewis Harry Holtby"
          ],
          [
           "Giuseppe Aurelio"
          ],
          [
           "Yvann Maçon"
          ],
          [
           "Alfie Jones"
          ],
          [
           "Hakan Arslan"
          ],
          [
           "Tiago Emanuel Embaló Djaló"
          ],
          [
           "Abdallah Ndour"
          ],
          [
           "Facundo Esnáider Ruiz"
          ],
          [
           "Helton Brant Aleixo Leite"
          ],
          [
           "Jesús Joaquín Fernández Sáez de la Torre"
          ],
          [
           "Ryan Trevitt"
          ],
          [
           "Ángel Alarcón Galiot"
          ],
          [
           "Gaetano Vittorio Masucci"
          ],
          [
           "Ali Alipour"
          ],
          [
           "Cengiz Ünder"
          ],
          [
           "Cristian Ignacio Herrera Pérez"
          ],
          [
           "Erdem Canpolat"
          ],
          [
           "Mehdi Zeffane"
          ],
          [
           "Toon Raemaekers"
          ],
          [
           "Joarlem Batista Santos"
          ],
          [
           "Tygo Land"
          ],
          [
           "Vladimír Coufal"
          ],
          [
           "Kylian Mbappé Lottin"
          ],
          [
           "Wilfried Zaha"
          ],
          [
           "Janio Bikel Figueiredo da Silva"
          ],
          [
           "Bastien Meupiyou"
          ],
          [
           "Marcos Aoás Corrêa"
          ],
          [
           "Mujaid Sadick Aliu"
          ],
          [
           "Adrien Rabiot"
          ],
          [
           "Giuseppe Caso"
          ],
          [
           "Florian Tristan Mariano Thauvin"
          ],
          [
           "Nathan Ferguson"
          ],
          [
           "Taylor Foran"
          ],
          [
           "David Nicolás Andrade"
          ],
          [
           "Lucas Martínez Quarta"
          ],
          [
           "Charles Traoré"
          ],
          [
           "Cameron Pring"
          ],
          [
           "Boubakary Soumaré"
          ],
          [
           "Johann Berg Guðmunds­son"
          ],
          [
           "Andreas Bruus"
          ],
          [
           "Sebastian Andersson"
          ],
          [
           "Zinedine Ferhat"
          ],
          [
           "Carlos Augusto Zopolato Neves"
          ],
          [
           "Victor James Osimhen"
          ],
          [
           "Joe Gauci"
          ],
          [
           "Omari Giraud-Hutchinson"
          ],
          [
           "Mykhailo Mudryk"
          ],
          [
           "Olivier Deman"
          ],
          [
           "Alexandre Phliponeau"
          ],
          [
           "Nanitamo Jonathan Ikoné"
          ],
          [
           "Burak Öğür"
          ],
          [
           "Georg Strauch"
          ],
          [
           "Nikola Sekulov"
          ],
          [
           "Bartosz Białkowski"
          ],
          [
           "Nicolò Brighenti"
          ],
          [
           "Jake Vokins"
          ],
          [
           "Pierluigi Gollini"
          ],
          [
           "Dylan Williams"
          ],
          [
           "Júnior Udeme Pius"
          ],
          [
           "Borja García Freire"
          ],
          [
           "Tobi Adeyemo"
          ],
          [
           "Jean Thierry Lazare Amani"
          ],
          [
           "José Ángel Esmoris Tasende"
          ],
          [
           "Marvin Senaya"
          ],
          [
           "Anas Ouahim"
          ],
          [
           "Stefan Bajic"
          ],
          [
           "Samuel Gigot"
          ],
          [
           "Amadou Diawara"
          ],
          [
           "Mattia Viviani"
          ],
          [
           "Oscar Vilhelmsson"
          ],
          [
           "Rubén Sobrino Pozuelo"
          ],
          [
           "Derrick Arthur Köhn"
          ],
          [
           "Nicolò Bertola"
          ],
          [
           "Marek Rodák"
          ],
          [
           "Babajide David Akintola"
          ],
          [
           "Matondo-Merveille Papela"
          ],
          [
           "William Silva de Carvalho"
          ],
          [
           "Frank Lehmann"
          ],
          [
           "Juan Miranda González"
          ],
          [
           "Miguel Luís Pinto Veloso"
          ],
          [
           "Antony Iannarilli"
          ],
          [
           "Daley Sinkgraven"
          ],
          [
           "Marc-Oliver Kempf"
          ],
          [
           "Sergio Gómez Martín"
          ],
          [
           "Bennet Winter"
          ],
          [
           "Cristián Alexis Borja González"
          ],
          [
           "Théo Borne"
          ],
          [
           "Gian-Luca Waldschmidt"
          ],
          [
           "Luca Mazzitelli"
          ],
          [
           "Federico Barba"
          ],
          [
           "Damián Rodríguez Sousa"
          ],
          [
           "Doğucan Haspolat"
          ],
          [
           "Niall Nathan Michael Ennis"
          ],
          [
           "Teenage Lingani Hadebe"
          ],
          [
           "Giuseppe Pezzella"
          ],
          [
           "Sardar Azmoun"
          ],
          [
           "Salih Özcan"
          ],
          [
           "Pedro Chirivella Burgos"
          ],
          [
           "Merlin Röhl"
          ],
          [
           "Kaden Rodney"
          ],
          [
           "Nikola Moro"
          ],
          [
           "Marco Schuster"
          ],
          [
           "Sergio González Poirrier"
          ],
          [
           "Tim Breithaupt"
          ],
          [
           "Donyell Malen"
          ],
          [
           "Fábio Samuel Amorim Silva"
          ],
          [
           "Liam Henderson"
          ],
          [
           "Lewis O'Brien"
          ],
          [
           "Armando Izzo"
          ],
          [
           "Pierre-Emile Kordt Højbjerg"
          ],
          [
           "Nicolas Isimat-Mirin"
          ],
          [
           "Adedire Mebude"
          ],
          [
           "Hady Camara"
          ],
          [
           "Maximilian Eggestein"
          ],
          [
           "Christopher Jeffrey Richards"
          ],
          [
           "本 寛也"
          ],
          [
           "Quentin Daubin"
          ],
          [
           "Kristian Šekularac"
          ],
          [
           "Ousmane Dembélé"
          ],
          [
           "Oier Olazábal Paredes"
          ],
          [
           "Tidyane Diagouraga"
          ],
          [
           "Lukas Pinckert"
          ],
          [
           "Anwan Lawrence Nicholas"
          ],
          [
           "Stijn van Gassel"
          ],
          [
           "Iddrisu Baba Mohammed"
          ],
          [
           "Celestin De Schrevel"
          ],
          [
           "Christian Joel Sánchez Leal"
          ],
          [
           "Miguel Rebelo"
          ],
          [
           "Endri Çekiçi"
          ],
          [
           "Mats Lemmens"
          ],
          [
           "George Honeyman"
          ],
          [
           "Brahim Traoré"
          ],
          [
           "Murat Akşit"
          ],
          [
           "John McGinn"
          ],
          [
           "Kerim Çalhanoğlu"
          ],
          [
           "Jean Butez"
          ],
          [
           "Bilal Nadir"
          ],
          [
           "Emil Alfons Holm"
          ],
          [
           "Anouar El Azzouzi"
          ],
          [
           "Gautier Lloris"
          ],
          [
           "Florian Richard Wirtz"
          ],
          [
           "Filipe Miguel Barros Soares"
          ],
          [
           "Carlos Vinícius Santos de Jesús"
          ],
          [
           "Michael John Smith"
          ],
          [
           "Cengiz Demir"
          ],
          [
           "Remi Matthews"
          ],
          [
           "Paul Nebel"
          ],
          [
           "Milad Mohammadi Keshmarzi"
          ],
          [
           "Abdel Hakim Abdallah"
          ],
          [
           "Assane Diao Diaoune"
          ],
          [
           "Harry Kane"
          ],
          [
           "Jamie Knight-Lebel"
          ],
          [
           "Adam Buksa"
          ],
          [
           "Eray Korkmaz"
          ],
          [
           "Mats Rits"
          ],
          [
           "Sergiño Gianni Dest"
          ],
          [
           "Krzysztof Piątek"
          ],
          [
           "Thibo Somers"
          ],
          [
           "Lorenzo Andrenacci"
          ],
          [
           "Bernabé Barragán Maestre"
          ],
          [
           "João Pedro Junqueira de Jesus"
          ],
          [
           "Simone Giordano"
          ],
          [
           "Mamadou Fofana"
          ],
          [
           "Enzo Camille Alain Millot"
          ],
          [
           "Bruno Miguel Semedo Varela"
          ],
          [
           "Kamal Sowah"
          ],
          [
           "Flavio Junior Bianchi"
          ],
          [
           "Fabricio Rosario Dos Santos"
          ],
          [
           "Tony Strata"
          ],
          [
           "Sebastian Rode"
          ],
          [
           "Teddy Boulhendi"
          ],
          [
           "Sofiane Diop"
          ],
          [
           "Philipp Förster"
          ],
          [
           "João Pedro Loureiro da Costa"
          ],
          [
           "Emre Bekir"
          ],
          [
           "Miguel Raimundo Nóbrega"
          ],
          [
           "Loic Williams Ntambue Kayumba"
          ],
          [
           "Robin Bird"
          ],
          [
           "Bakary Haidara"
          ],
          [
           "Raffaele Cartano"
          ],
          [
           "Abdoulie Sanyang"
          ],
          [
           "Salvador Sánchez Ponce"
          ],
          [
           "Víctor Chust García"
          ],
          [
           "Iker Bravo Solanilla"
          ],
          [
           "Gonçalo Baptista Franco"
          ],
          [
           "Nikola Milenković"
          ],
          [
           "Akinlolu Richard Olamide Famewo"
          ],
          [
           "Artur Ioniță"
          ],
          [
           "Raheem Conte"
          ],
          [
           "Jan-Niklas Beste"
          ],
          [
           "Michail Antonio"
          ],
          [
           "Silvan Dominic Widmer"
          ],
          [
           "Leart Paqarada"
          ],
          [
           "Alexandre Roger Oukidja"
          ],
          [
           "Dorukhan Toköz"
          ],
          [
           "Borja Sainz Eguskiza"
          ],
          [
           "João Rodrigo Pereira Escoval"
          ],
          [
           "Đorđe Petrović"
          ],
          [
           "Richie Mamah Laryea"
          ],
          [
           "Pietro Beruatto"
          ],
          [
           "Martin Turk"
          ],
          [
           "Rayan Ny Aina Arnaldo Raveloson"
          ],
          [
           "Sandro Plínio Rosa da Cruz"
          ],
          [
           "Mateusz Praszelik"
          ],
          [
           "Enes Ünal"
          ],
          [
           "Gustavo Fabrice Sangaré"
          ],
          [
           "Blendi Idrizi"
          ],
          [
           "Alex Král"
          ],
          [
           "Pablo Marí Villar"
          ],
          [
           "Sha'mar Lawson"
          ],
          [
           "Leon Bell Bell"
          ],
          [
           "Pedro Nuno Almeida Pinho"
          ],
          [
           "Sofian Kiyine"
          ],
          [
           "Daniel Andrés Luna García"
          ],
          [
           "Fabio Andrea Ruggeri"
          ],
          [
           "Ruslan Malinovskyi"
          ],
          [
           "Lars Edi Stindl"
          ],
          [
           "Boris Tomiak"
          ],
          [
           "Jorge Miramón Santagertrudis"
          ],
          [
           "Marco André da Silva Lopes Matias"
          ],
          [
           "Cebrail Karayel"
          ],
          [
           "Grant Hall"
          ],
          [
           "Iker Muniain Goñi"
          ],
          [
           "Fabian Nürnberger"
          ],
          [
           "Patrick Erras"
          ],
          [
           "Franck Honorat"
          ],
          [
           "Alfonso Pastor Vacas"
          ],
          [
           "Jannik Dehm"
          ],
          [
           "Nikola Vasilj"
          ],
          [
           "Alejandro Quevedo Barber"
          ],
          [
           "David López Guijarro"
          ],
          [
           "Erik Pieters"
          ],
          [
           "Amine Harit"
          ],
          [
           "Finn Gilbert Dahmen"
          ],
          [
           "İbrahim Akdağ"
          ],
          [
           "Ager Aketxe Barrutia"
          ],
          [
           "Lassana Diabaté"
          ],
          [
           "Eneko Ortiz Díaz"
          ],
          [
           "Rubén Alcaraz Jiménez"
          ],
          [
           "Jérémy Mellot"
          ],
          [
           "Javier Alonso Bello"
          ],
          [
           "Joris Chotard"
          ],
          [
           "Steven Skrzybski"
          ],
          [
           "Aitor Córdoba Querejeta"
          ],
          [
           "Romain Thomas"
          ],
          [
           "Mert Müldür"
          ],
          [
           "Julian Börner"
          ],
          [
           "Bryan Gil Salvatierra"
          ],
          [
           "Ahmed Touba"
          ],
          [
           "Robert Kampa"
          ],
          [
           "Adrià Miquel Bosch Sanchis"
          ],
          [
           "Jake Livermore"
          ],
          [
           "Elliott Anderson"
          ],
          [
           "Jochem van de Kamp"
          ],
          [
           "Davide Frattesi"
          ],
          [
           "Marcos Peña Ocaña"
          ],
          [
           "Óscar Clemente Mues"
          ],
          [
           "Diego López Noguerol"
          ],
          [
           "Williot Theo Swedberg"
          ],
          [
           "Pablo Torre Carral"
          ],
          [
           "Julio César Enciso Espínola"
          ],
          [
           "Niels Devalckeneer"
          ],
          [
           "Daniele Ghilardi"
          ],
          [
           "Jordan Semedo"
          ],
          [
           "Danilo dos Santos de Oliveira"
          ],
          [
           "Gonzalo Ávila Gordón"
          ],
          [
           "Djakaridja Junior Traoré"
          ],
          [
           "Armel Bella Kotchap"
          ],
          [
           "Hayden Carter"
          ],
          [
           "Lander Olaetxea Ibaibarriaga"
          ],
          [
           "Daley Blind"
          ],
          [
           "Rafael Jiménez Jarque"
          ],
          [
           "Ajdin Hrustić"
          ],
          [
           "Marius Mouandilmadji"
          ],
          [
           "Javier Puado Díaz"
          ],
          [
           "Florian Loshaj"
          ],
          [
           "Ajibola Alese"
          ],
          [
           "Marcus Tavernier"
          ],
          [
           "Granit Xhaka"
          ],
          [
           "João Manuel Neves Virgínia"
          ],
          [
           "Tim Schleinitz"
          ],
          [
           "Siemen Buvé"
          ],
          [
           "Florent Mollet"
          ],
          [
           "Rijad Smajić"
          ],
          [
           "Osaze Urhoghide"
          ],
          [
           "Aster Jan Vranckx"
          ],
          [
           "Loizos Loizou"
          ],
          [
           "Valerio Mastrantonio"
          ],
          [
           "Dimitrios Pelkas"
          ],
          [
           "Emanuel Vignato"
          ],
          [
           "Mostafa Mohamed Ahmed Abdallah"
          ],
          [
           "Jonathan de Guzmán"
          ],
          [
           "Alpaslan Öztürk"
          ],
          [
           "Ziyad Larkeche"
          ],
          [
           "Álvaro Odriozola Arzalluz"
          ],
          [
           "Gabriel Julien Dominique Barès"
          ],
          [
           "Kepa Arrizabalaga Revuelta"
          ],
          [
           "Charlie Casper"
          ],
          [
           "Théo Luis Fonseca"
          ],
          [
           "Paolo Rozzio"
          ],
          [
           "Unai López Cabrera"
          ],
          [
           "Mert Hakan Yandaş"
          ],
          [
           "Youssef Ramalho Chermiti"
          ],
          [
           "Tom Vandenberghe"
          ],
          [
           "Justin Antonius Lonwijk"
          ],
          [
           "Piotr Sebastian Zieliński"
          ],
          [
           "Tom Ducrocq"
          ],
          [
           "Jean-Charles Castelletto"
          ],
          [
           "Krépin Diatta"
          ],
          [
           "Thomas Christopher Cannon"
          ],
          [
           "Saúl García Cabrero"
          ],
          [
           "Jacopo Manconi"
          ],
          [
           "Nick Olij"
          ],
          [
           "Gonzalo Ariel Montiel"
          ],
          [
           "Diego Espinosa García"
          ],
          [
           "Jordan Yamoah Amissah"
          ],
          [
           "Javier Ontiveros Parra"
          ],
          [
           "Bonke Innocent"
          ],
          [
           "Axel Arthur Disasi"
          ],
          [
           "Aïman Maurer"
          ],
          [
           "Valdemiro Pinto Domingos"
          ],
          [
           "Serge David Gnabry"
          ],
          [
           "Mathis Hamdi"
          ],
          [
           "Mijo Caktaš"
          ],
          [
           "Dennis Geiger"
          ],
          [
           "Jonas Nickisch"
          ],
          [
           "Pietro Iemmello"
          ],
          [
           "Nobel Mendy"
          ],
          [
           "Salim Diakité"
          ],
          [
           "Martin Adeline"
          ],
          [
           "Elia Caprile"
          ],
          [
           "Max Rosenfelder"
          ],
          [
           "Mark Sykes"
          ],
          [
           "Kenneth Josiah Omeruo"
          ],
          [
           "Juan Ferney Otero Tovar"
          ],
          [
           "Robert Wagner"
          ],
          [
           "Matthew James Doherty"
          ],
          [
           "Kristoffer Paul Peterson"
          ],
          [
           "Rémy Boissier"
          ],
          [
           "Mattia Perin"
          ],
          [
           "Serdar Dursun"
          ],
          [
           "Dal Varešanović"
          ],
          [
           "Djenahro Nunumete"
          ],
          [
           "Zeki Yavru"
          ],
          [
           "Charlie Cresswell"
          ],
          [
           "Youri Regeer"
          ],
          [
           "Téva Gardies"
          ],
          [
           "Philana Tinotenda Kadewere"
          ],
          [
           "Sergio Guardiola Navarro"
          ],
          [
           "Maxime Chanot"
          ],
          [
           "William Balikwisha"
          ],
          [
           "Frederik Riis Rønnow"
          ],
          [
           "Giacomo Beretta"
          ],
          [
           "Bećir Omeragić"
          ],
          [
           "Álvaro Santamaría Arenas"
          ],
          [
           "Youri Baas"
          ],
          [
           "Benjamin André"
          ],
          [
           "Žan Majer"
          ],
          [
           "Emmanuel Afriyie Mario Sabbi"
          ],
          [
           "Darko Gyabi"
          ],
          [
           "Chris Anthony Willock"
          ],
          [
           "Han-Noah Massengo"
          ],
          [
           "Mario René Junior Lemina"
          ],
          [
           "Stijn Bultman"
          ],
          [
           "Anas Tahiri"
          ],
          [
           "Brandon Baiye"
          ],
          [
           "João Victor Tornich"
          ],
          [
           "Stipe Biuk"
          ],
          [
           "Auston Levi-Jesaiah Trusty"
          ],
          [
           "Álvaro Vadillo Cifuentes"
          ],
          [
           "Anthony Oyono Omva Torque"
          ],
          [
           "Murillo Costa dos Santos"
          ],
          [
           "Joelson Augusto Mendes Mango Fernandes"
          ],
          [
           "Lucas Estella Perri"
          ],
          [
           "Kwadwo Kyeremeh Baah"
          ],
          [
           "Ander Guevara Lajo"
          ],
          [
           "George Tanner"
          ],
          [
           "Francesco Amatucci"
          ],
          [
           "Mikel Oyarzabal Ugarte"
          ],
          [
           "Alejandro Francés Torrijo"
          ],
          [
           "Matteo Gabbia"
          ],
          [
           "Tony Jantschke"
          ],
          [
           "Steven Fortes"
          ],
          [
           "Toluwalase Emmanuel Arokodare"
          ],
          [
           "Jiří Pavlenka"
          ],
          [
           "Ionuț Nedelcearu"
          ],
          [
           "Luis Federico López Andúgar"
          ],
          [
           "Giovanni Crociata"
          ],
          [
           "Daniel Raba Antolin"
          ],
          [
           "Jean Michaël Seri"
          ],
          [
           "Miguel de la Fuente Escudero"
          ],
          [
           "Corentin Michel"
          ],
          [
           "Sammy Braybrooke"
          ],
          [
           "Andrew Hughes"
          ],
          [
           "Germán Fernández Hidalgo"
          ],
          [
           "Juan Manuel Bravo Alcántara"
          ],
          [
           "Djeidi Gassama"
          ],
          [
           "Marcos Alonso Mendoza"
          ],
          [
           "Luca Zinedine Zidane"
          ],
          [
           "Christian Kabasele"
          ],
          [
           "Javier Garrido López"
          ],
          [
           "Miguel Ângelo Gomes Ferreira Magalhães"
          ],
          [
           "Scott Brian Banks"
          ],
          [
           "Perry Ng Tian-Hee"
          ],
          [
           "João Filipe Iria Santos Moutinho"
          ],
          [
           "Luca Pfeiffer"
          ],
          [
           "Gino Fechner"
          ],
          [
           "Adrion Pajaziti"
          ],
          [
           "Efecan Karaca"
          ],
          [
           "Rob Holding"
          ],
          [
           "Jamie William Lindsay"
          ],
          [
           "Iñigo Vicente Elorduy"
          ],
          [
           "Fabiano Josué de Souza Silva"
          ],
          [
           "Jordi Mboula Queralt"
          ],
          [
           "Deniz Dilmen"
          ],
          [
           "Loïc Mbe Soh"
          ],
          [
           "Phillipp Klement"
          ],
          [
           "Timon Vanhoutte"
          ],
          [
           "Niklas Bernd Dorsch"
          ],
          [
           "Arthur Atta"
          ],
          [
           "Nathaniel Chalobah"
          ],
          [
           "Caio Henrique Oliveira Silva"
          ],
          [
           "Anssumane Fati"
          ],
          [
           "Søren Tengstedt"
          ],
          [
           "Marcus Vinícius Oliveira Alencar"
          ],
          [
           "Diego José Conde Alcolado"
          ],
          [
           "Afonso Bastardo Moreira"
          ],
          [
           "Matéo Loubatières"
          ],
          [
           "Andrea Colpani"
          ],
          [
           "Michael Simões Domingues"
          ],
          [
           "Ayman Aiki"
          ],
          [
           "Charlie Patino"
          ],
          [
           "Sven Ulreich"
          ],
          [
           "Bryan Heynen"
          ],
          [
           "Marco Moreno Ojeda"
          ],
          [
           "Mario Šitum"
          ],
          [
           "Dominick Drexler"
          ],
          [
           "Olimpiu Vasile Moruțan"
          ],
          [
           "Pep Biel Mas Jaume"
          ],
          [
           "Ghjuvanni Quilichini"
          ],
          [
           "Bruno Maximiliano Martins Indi"
          ],
          [
           "Rúben dos Santos Gato Alves Dias"
          ],
          [
           "Bogdan Milovanov"
          ],
          [
           "Oliver McBurnie"
          ],
          [
           "Pelle van Amersfoort"
          ],
          [
           "Leo Štulac"
          ],
          [
           "Pasquale Mazzocchi"
          ],
          [
           "Junior Tchamadeu"
          ],
          [
           "Bilal Bayazıt"
          ],
          [
           "Arda Güler"
          ],
          [
           "Isaac Ajayi Success"
          ],
          [
           "Jesús José Bernal Villarig"
          ],
          [
           "Jasper van der Werff"
          ],
          [
           "Vangelis Pavlidis"
          ],
          [
           "Antoine Batisse"
          ],
          [
           "Cédric Brunner"
          ],
          [
           "Edgar Badia Guardiola"
          ],
          [
           "Pablo Insua Blanco"
          ],
          [
           "Joshua Lloyd Ginnelly"
          ],
          [
           "Fodé Sylla"
          ]
         ],
         "hovertemplate": "Predicted Salary=%{x}<br>Residuals=%{y}<br>PlayerName=%{customdata[0]}<extra></extra>",
         "legendgroup": "",
         "marker": {
          "color": "#636efa",
          "symbol": "circle"
         },
         "mode": "markers",
         "name": "",
         "showlegend": false,
         "type": "scattergl",
         "x": [
          10644,
          32087,
          25542,
          5932,
          2674,
          15376,
          10929,
          6419,
          9890,
          15371,
          4279,
          5761,
          3680,
          2894,
          6132,
          3188,
          937,
          7188,
          1687,
          4420,
          6583,
          87688,
          21284,
          10139,
          22151,
          9091,
          5587,
          2446,
          11732,
          5403,
          5625,
          4300,
          7564,
          10304,
          1539,
          4631,
          4416,
          49316,
          25541,
          1277,
          29498,
          8282,
          4323,
          1990,
          1586,
          6602,
          6531,
          18629,
          4858,
          33580,
          3497,
          6826,
          4323,
          5447,
          31455,
          2330,
          10249,
          213021,
          6970,
          29093,
          11907,
          32143,
          32316,
          1979,
          63777,
          17547,
          56,
          5685,
          15853,
          9255,
          1307,
          7966,
          6515,
          2453,
          17681,
          1266,
          6908,
          4722,
          1160,
          6122,
          1594,
          1428,
          1645,
          14927,
          3605,
          13689,
          0,
          26047,
          1130,
          13468,
          184335,
          5412,
          745,
          86152,
          8298,
          6718,
          8298,
          6201,
          5706,
          9944,
          2651,
          4350,
          6679,
          5997,
          7636,
          3328,
          4026,
          2724,
          4964,
          2858,
          103634,
          11135,
          1796,
          3897,
          2931,
          5747,
          1131,
          6903,
          1726,
          98536,
          3922,
          1108,
          3748,
          16488,
          1389,
          20279,
          39297,
          11924,
          1435,
          2243,
          10689,
          1957,
          1503,
          2313,
          37220,
          19104,
          16274,
          2407,
          25871,
          4007,
          28255,
          13453,
          185,
          3387,
          3512,
          8018,
          41237,
          17369,
          10170,
          8094,
          86078,
          5778,
          21351,
          852,
          93312,
          31919,
          16753,
          5635,
          2190,
          21901,
          18416,
          3269,
          53320,
          8377,
          14811,
          1231,
          5554,
          3367,
          1726,
          4279,
          33977,
          72301,
          14901,
          65130,
          3220,
          5684,
          11016,
          5609,
          37144,
          13246,
          16061,
          1466,
          43424,
          11180,
          8321,
          10294,
          14954,
          1394,
          2225,
          15286,
          7909,
          5297,
          22745,
          2135,
          47380,
          11149,
          9262,
          122,
          4309,
          193280,
          13323,
          7736,
          4583,
          47087,
          10035,
          10584,
          13322,
          5090,
          26001,
          1042,
          91123,
          85304,
          2367,
          3642,
          3104,
          5229,
          556,
          7859,
          1015,
          7149,
          4998,
          35655,
          4660,
          2712,
          5279,
          873,
          38699,
          967,
          3540,
          7130,
          6984,
          14575,
          1271,
          36094,
          213128,
          17629,
          25397,
          7747,
          7644,
          8485,
          1137,
          902,
          1102,
          295,
          35136,
          1629,
          15730,
          9482,
          1541,
          996,
          7006,
          3806,
          78625,
          7776,
          2172,
          8554,
          4933,
          4815,
          5321,
          15621,
          3195,
          6914,
          3390,
          3817,
          8741,
          20799,
          11610,
          12853,
          4618,
          12258,
          4658,
          4778,
          996,
          28986,
          11677,
          20302,
          8632,
          23264,
          22532,
          681,
          987,
          64251,
          9552,
          7378,
          10048,
          61838,
          7139,
          5135,
          779,
          3232,
          2359,
          5702,
          3118,
          142030,
          5722,
          425,
          1603,
          8110,
          24649,
          10347,
          30945,
          1356,
          13541,
          3800,
          1022,
          10134,
          13089,
          534,
          69210,
          24746,
          0,
          3004,
          14040,
          1798,
          1578,
          7177,
          22224,
          12072,
          11972,
          69700,
          18339,
          6022,
          26903,
          93020,
          3095,
          2084,
          3090,
          10094,
          3882,
          24436,
          1159,
          15862,
          9726,
          1870,
          9553,
          633,
          630,
          13853,
          106738,
          1881,
          22546,
          963,
          338,
          28067,
          23892,
          1754,
          1445,
          6982,
          27112,
          2142,
          2615,
          17120,
          147693,
          933,
          22298,
          8846,
          1667,
          2115,
          33315,
          7538,
          40722,
          4447,
          2580,
          13508,
          24212,
          26118,
          3088,
          5015,
          15153,
          6522,
          8443,
          2913,
          6822,
          9558,
          8185,
          10417,
          3724,
          1837,
          4628,
          46940,
          24034,
          1539,
          11547,
          1465,
          5870,
          55611,
          7146,
          39331,
          261,
          4217,
          23744,
          11838,
          4695,
          23601,
          18621,
          1573,
          0,
          37514,
          1752,
          6312,
          32758,
          44351,
          14166,
          1679,
          8341,
          2243,
          3653,
          1535,
          5410,
          3462,
          178500,
          7224,
          31641,
          2896,
          7954,
          2272,
          19350,
          12056,
          79394,
          14554,
          3242,
          12192,
          10998,
          1774,
          1425,
          3615,
          1218,
          3270,
          2786,
          3641,
          564,
          6351,
          3413,
          48830,
          18150,
          2557,
          7115,
          10002,
          2299,
          9547,
          1326,
          7098,
          1912,
          5979,
          1366,
          17250,
          22947,
          23771,
          23941,
          1205,
          719,
          4866,
          10659,
          4253,
          19697,
          48953,
          18128,
          14555,
          1673,
          1915,
          13787,
          48479,
          3068,
          5168,
          13895,
          1597,
          653,
          14561,
          11963,
          5047,
          14153,
          1706,
          3577,
          1269,
          3534,
          5804,
          15588,
          98967,
          8370,
          15504,
          1684,
          3825,
          2230,
          7914,
          13683,
          81503,
          825,
          2758,
          3701,
          8905,
          2890,
          5452,
          2381,
          19115,
          50271,
          6701,
          9453,
          13030,
          7161,
          5946,
          13673,
          292,
          15205,
          662,
          12592,
          3571,
          26730,
          1302,
          32579,
          1797,
          3643,
          42058,
          3174,
          12563,
          6618,
          14005,
          2524,
          467,
          17563,
          7366,
          2227,
          16769,
          1261,
          2122,
          1181,
          2726,
          23073,
          1965,
          62420,
          996,
          3664,
          11592,
          3001,
          3595,
          962,
          252,
          10357,
          13452,
          3415,
          7279,
          13731,
          304,
          4785,
          25719,
          4608,
          13897,
          80549,
          77755,
          28079,
          3817,
          27443,
          1662,
          9156,
          9759,
          7773,
          4739,
          1154,
          2099,
          5499,
          8485,
          10597,
          11256,
          8041,
          4437,
          3428,
          5817,
          18679,
          4302,
          0,
          2952,
          1740,
          10518,
          16452,
          7497,
          29748,
          1798,
          2663,
          24576,
          13771,
          5000,
          47249,
          16982,
          4935,
          2112,
          2103,
          1648,
          60399,
          35129,
          10042,
          4301,
          13095,
          8494,
          190,
          5421,
          4695,
          1262,
          1511,
          21899,
          8929,
          17356,
          4697,
          0,
          0,
          30173,
          5125,
          4586,
          39802,
          11682,
          5928,
          20148,
          3538,
          14365,
          4180,
          13770,
          37943,
          3827,
          1275,
          24269,
          1336,
          1430,
          22424,
          23925,
          3731,
          77548,
          332,
          13180,
          3868,
          32320,
          6160,
          2230,
          14148,
          636,
          845,
          1265,
          37466,
          17277,
          0,
          39070,
          1433,
          4303,
          2449,
          15808,
          1724,
          15233,
          5312,
          1116,
          1900,
          3563,
          6529,
          5536,
          29694,
          26546,
          3175,
          3994,
          1928,
          412,
          7119,
          5483,
          9417,
          35094,
          1355,
          32446,
          6165,
          3649,
          551,
          3885,
          7092,
          11487,
          3409,
          52505,
          30313,
          1020,
          935,
          7043,
          3765,
          4098,
          44582,
          9432,
          14984,
          7738,
          5953,
          1616,
          819,
          3853,
          30219,
          4205,
          5994,
          10014,
          5139,
          9623,
          2776,
          4057,
          7956,
          23914,
          12035,
          2136,
          48651,
          9698,
          24503,
          19137,
          51969,
          10618,
          16058,
          2687,
          97832,
          12353,
          10692,
          9873,
          2019,
          5798,
          13485,
          7466,
          1420,
          1352,
          28670,
          17905,
          0,
          3878,
          4559,
          23901,
          3536,
          991,
          4591,
          2679,
          4483,
          17837,
          27510,
          7587,
          30098,
          3094,
          7928,
          31578,
          29582,
          26087,
          3275,
          12664,
          2048,
          0,
          0,
          3045,
          3308,
          6080,
          1405,
          16686,
          11571,
          15001,
          4807,
          68148,
          12416,
          45217,
          8239,
          6059,
          401,
          23413,
          2331,
          5626,
          10044,
          640,
          1348,
          17746,
          48295,
          141876,
          2692,
          2535,
          13976,
          2358,
          4932,
          46883,
          3461,
          190667,
          20532,
          2901,
          29111,
          7951,
          18368,
          27454,
          8861,
          772,
          41027,
          31860,
          105913,
          1826,
          5981,
          839,
          3758,
          54981,
          6882,
          8867,
          110,
          1922,
          9148,
          4953,
          3448,
          15451,
          1270,
          10705,
          51595,
          1518,
          2917,
          4281,
          3659,
          5617,
          31795,
          21627,
          34531,
          26450,
          10998,
          1720,
          18470,
          52162,
          2323,
          5251,
          7250,
          400,
          13439,
          1522,
          5719,
          2881,
          20685,
          41213,
          5943,
          20157,
          498,
          10431,
          3329,
          2925,
          42290,
          5903,
          11794,
          3417,
          2200,
          12244,
          3441,
          5663,
          9236,
          21530,
          88166,
          5579,
          224619,
          16775,
          54197,
          2117,
          82489,
          16936,
          3229,
          5445,
          636,
          2877,
          1557,
          8374,
          6564,
          18994,
          50481,
          4849,
          8999,
          48122,
          3228,
          5918,
          1386,
          30969,
          14994,
          3005,
          3920,
          718,
          2294,
          5849,
          2451,
          6874,
          5218,
          2347,
          31945,
          17579,
          51809,
          35346,
          34738,
          2005,
          16358,
          11482,
          10913,
          9258,
          1251,
          16426,
          1471,
          2136,
          37647,
          8584,
          11501,
          352,
          22281,
          2412,
          5149,
          85245,
          2386,
          5997,
          10562,
          6750,
          24382,
          3678,
          16365,
          5968,
          2920,
          46319,
          43024,
          550,
          4409,
          4180,
          35740,
          713,
          5213,
          1854,
          3233,
          16568,
          7499,
          62767,
          108497,
          1959,
          6421,
          1226,
          2867,
          5571,
          167,
          29678,
          80915,
          7090,
          2685,
          2419,
          90259,
          27103,
          7855,
          2897,
          1639,
          5201,
          12292,
          21909,
          12607,
          4498,
          13094,
          4131,
          4791,
          7082,
          3306,
          13505,
          6953,
          38084,
          1676,
          49523,
          10000,
          23606,
          2636,
          16458,
          2954,
          1926,
          10084,
          1494,
          38439,
          59818,
          15769,
          3728,
          6391,
          5365,
          27267,
          12031,
          4872,
          2132,
          1735,
          2843,
          8021,
          8023,
          13773,
          15854,
          1625,
          0,
          1710,
          3395,
          77096,
          890,
          2455,
          21324,
          5591,
          70896,
          5957,
          8793,
          9789,
          7166,
          5373,
          13973,
          18973,
          18100,
          7208,
          1451,
          219425,
          67961,
          32715,
          6024,
          1685,
          9929,
          12231,
          25098,
          5620,
          6539,
          77218,
          2263,
          5483,
          37135,
          497,
          10488,
          12978,
          21160,
          1915,
          28869,
          44348,
          32483,
          18427,
          26105,
          20582,
          2817,
          36491,
          1474,
          5973,
          3860,
          24021,
          2027,
          2787,
          36410,
          4276,
          8709,
          4063,
          3335,
          14299,
          24416,
          7057,
          2558,
          12843,
          5173,
          26926,
          29737,
          14936,
          130,
          6611,
          18332,
          4688,
          2172,
          18005,
          6783,
          1780,
          36546,
          7870,
          3819,
          4732,
          2306,
          18023,
          69456,
          6555,
          28762,
          62708,
          1154,
          1136,
          3099,
          8083,
          2753,
          12513,
          1367,
          81021,
          5560,
          5880,
          1505,
          1986,
          14530,
          1754,
          3832,
          817,
          4495,
          54698,
          1752,
          2816,
          15023,
          2686,
          37918,
          4563,
          959,
          1339,
          1715,
          9850,
          9677,
          2820,
          7691,
          80706,
          3141,
          17656,
          2226,
          59920,
          3190,
          775,
          1910,
          2550,
          5165,
          988,
          6642,
          6685,
          55566,
          36416,
          668,
          25396,
          12602,
          27320,
          37505,
          9607,
          2866,
          5636,
          14895,
          7937,
          54620,
          3370,
          2984,
          14454,
          46406,
          5988,
          17992,
          1984,
          2797,
          40982,
          6195,
          3673,
          8060,
          2524,
          3746,
          0,
          65610,
          209810,
          71482,
          6842,
          0,
          107479,
          15418,
          115218,
          18791,
          24731,
          7765,
          5274,
          2543,
          39467,
          4808,
          10183,
          24911,
          28453,
          3141,
          8855,
          6030,
          65976,
          143720,
          17510,
          6279,
          67440,
          15052,
          2094,
          37177,
          2072,
          3278,
          11687,
          8797,
          2292,
          5888,
          39762,
          7793,
          3909,
          25619,
          2020,
          19158,
          52076,
          11213,
          5241,
          3281,
          37079,
          13162,
          4147,
          9034,
          27473,
          17923,
          1542,
          47434,
          7013,
          8237,
          23590,
          2524,
          34763,
          8582,
          2689,
          18485,
          13302,
          78296,
          1941,
          11083,
          1684,
          22702,
          22125,
          4575,
          3169,
          6732,
          8453,
          5855,
          10348,
          62445,
          38215,
          24145,
          15078,
          1991,
          26383,
          4015,
          8145,
          9017,
          64051,
          13891,
          8638,
          22682,
          26057,
          112086,
          2740,
          3547,
          268,
          25356,
          37662,
          8773,
          1097,
          5210,
          98035,
          3821,
          908,
          2670,
          4125,
          5900,
          20984,
          1745,
          2100,
          2688,
          7149,
          1738,
          16450,
          1065,
          1402,
          86570,
          4546,
          20083,
          3233,
          23312,
          2086,
          13895,
          94543,
          7034,
          9188,
          9091,
          1925,
          4292,
          3223,
          10601,
          2727,
          6444,
          194707,
          1020,
          23445,
          2736,
          18187,
          23463,
          17490,
          12349,
          1491,
          2812,
          52364,
          1232,
          4181,
          20550,
          9641,
          20581,
          4256,
          7621,
          906,
          41110,
          4073,
          37322,
          18636,
          12994,
          2658,
          3909,
          5026,
          2488,
          0,
          898,
          4185,
          9131,
          23539,
          10113,
          7036,
          42843,
          4950,
          8173,
          2986,
          18622,
          64133,
          22745,
          17020,
          13460,
          17406,
          12892,
          4931,
          49063,
          42524,
          7868,
          1011,
          5589,
          2240,
          3011,
          49179,
          7000,
          5782,
          28374,
          25311,
          3173,
          5200,
          1529,
          5821,
          4517,
          501,
          55301,
          13323,
          6905,
          7532,
          3316,
          4615,
          7885,
          24628,
          14971,
          6272,
          33767,
          2209,
          6155,
          5768,
          1569,
          3037,
          24094,
          41871,
          17941,
          3467,
          16622,
          533,
          3147,
          23990,
          7115,
          4376,
          20060,
          9388,
          7293,
          1407,
          26152,
          5945,
          76478,
          8244,
          333,
          3700,
          16315,
          45234,
          2453,
          77369,
          167,
          4554,
          20187,
          6600,
          19264,
          20604,
          791,
          1657,
          2197,
          45174,
          15915,
          1938,
          14788,
          15584,
          4668,
          38221,
          22405,
          7245,
          7196,
          17674,
          3660,
          7209,
          37187,
          93340,
          9659,
          1170,
          14,
          18298,
          1641,
          2270,
          21790,
          3419,
          1170,
          17650,
          18290,
          17674,
          2557,
          5148,
          2810,
          34592,
          1240,
          69381,
          2297,
          3287,
          1122,
          21757,
          23173,
          18703,
          5459,
          2891,
          80042,
          3530,
          17956,
          23372,
          21409,
          5663,
          2026,
          6772,
          56753,
          0,
          3963,
          7733,
          12649,
          78322,
          1912,
          1666,
          94393,
          693,
          19282,
          31029,
          965,
          8386,
          835,
          3862,
          2930,
          14163,
          6931,
          8226,
          7440,
          17113,
          4186,
          47887,
          4585,
          1239,
          60403,
          24016,
          7091,
          1229,
          5024,
          10479,
          3358,
          828,
          18754,
          14788,
          6547,
          10125,
          24977,
          1556,
          17106,
          1538,
          2428,
          37986,
          2710,
          8037,
          5302,
          17799,
          21474,
          62893,
          533,
          4686,
          2486,
          2184,
          7583,
          22102,
          7665,
          5284,
          23438,
          5338,
          20597,
          4851,
          22438,
          4941,
          2853,
          64784,
          8590,
          20540,
          16828,
          3306,
          14941,
          19010,
          6091,
          1626,
          3601,
          12502,
          22877,
          8817,
          1130,
          11094,
          14511,
          904,
          3763,
          4235,
          140850,
          5654,
          12520,
          421,
          3634,
          3679,
          13603,
          16831,
          14975,
          3189,
          6110,
          14275,
          39445,
          6433,
          11648,
          4072,
          8803,
          1386,
          3416,
          9982,
          944,
          26655,
          5870,
          18088,
          43883,
          56661,
          2898,
          28143,
          5248,
          5609,
          607,
          35543,
          4419,
          616,
          8968,
          24083,
          26106,
          6073,
          3417,
          10994,
          11006,
          27124,
          677,
          13942,
          207949,
          3622,
          30586,
          6302,
          3514,
          30394,
          3666,
          4657,
          57945,
          23197,
          3417,
          4423,
          16531,
          2283,
          9978,
          11281,
          7298,
          13552,
          0
         ],
         "xaxis": "x",
         "y": [
          7644,
          -3913,
          -6458,
          3932,
          674,
          -4624,
          -71,
          1419,
          -3110,
          -12629,
          279,
          2761,
          680,
          -106,
          2132,
          188,
          -1063,
          2188,
          -313,
          1420,
          1583,
          -2312,
          6284,
          -4861,
          5151,
          -6909,
          4787,
          446,
          3732,
          -2597,
          625,
          -1700,
          -19436,
          2304,
          589,
          631,
          -584,
          -10684,
          -3459,
          277,
          -502,
          282,
          -1677,
          990,
          586,
          -1398,
          -469,
          -371,
          -142,
          -2420,
          1497,
          -3174,
          -1677,
          1447,
          -3545,
          330,
          2249,
          -36979,
          4970,
          -31907,
          -3093,
          -5857,
          -6684,
          -21,
          14777,
          -9453,
          -444,
          -315,
          -6147,
          1255,
          307,
          966,
          2515,
          -547,
          -10319,
          -734,
          1908,
          -278,
          260,
          2122,
          594,
          -572,
          645,
          2927,
          1605,
          -311,
          -500,
          -1953,
          -870,
          4468,
          19335,
          412,
          45,
          -1848,
          3298,
          2718,
          2298,
          2201,
          -5294,
          2944,
          1651,
          1350,
          -321,
          -3,
          636,
          328,
          -2974,
          724,
          -36,
          -3142,
          -1366,
          4135,
          796,
          -1103,
          -69,
          -1253,
          -869,
          1903,
          -274,
          -6464,
          -2078,
          108,
          -3252,
          -3512,
          389,
          -4721,
          -3703,
          924,
          -565,
          1243,
          3689,
          -43,
          -497,
          313,
          6220,
          4104,
          -5726,
          -593,
          5871,
          2007,
          3255,
          -3547,
          -315,
          -613,
          512,
          -3982,
          22237,
          -4631,
          -830,
          -6906,
          7078,
          -222,
          6351,
          -148,
          13312,
          13919,
          1753,
          1635,
          190,
          9901,
          -17584,
          1269,
          -24680,
          1377,
          -189,
          481,
          2554,
          367,
          -274,
          2279,
          -22023,
          13301,
          3901,
          1130,
          220,
          -316,
          1016,
          1609,
          5144,
          -1754,
          8061,
          -534,
          14424,
          -820,
          1321,
          294,
          -53046,
          394,
          1225,
          1286,
          909,
          297,
          -17255,
          135,
          5380,
          -3851,
          1262,
          -378,
          309,
          13280,
          3323,
          2736,
          1583,
          11087,
          -1965,
          4584,
          9322,
          2090,
          2001,
          42,
          -38877,
          -4696,
          367,
          -358,
          104,
          229,
          -444,
          -1141,
          415,
          2149,
          998,
          5655,
          -340,
          712,
          279,
          -1127,
          10699,
          217,
          -2460,
          1130,
          -1016,
          -5425,
          771,
          15094,
          63128,
          1629,
          397,
          -2253,
          -356,
          5485,
          -863,
          -1098,
          102,
          -205,
          1136,
          -371,
          -4270,
          1482,
          541,
          -4,
          -5994,
          -1194,
          625,
          3776,
          -828,
          2554,
          -67,
          1815,
          321,
          -4379,
          -805,
          1914,
          -2610,
          2817,
          5741,
          3799,
          3610,
          -147,
          2618,
          -742,
          2658,
          778,
          -1004,
          7986,
          6677,
          -6698,
          1632,
          -5736,
          -2468,
          31,
          137,
          8251,
          2552,
          1378,
          -1952,
          -1162,
          -5861,
          -1865,
          129,
          232,
          359,
          -9298,
          1118,
          12030,
          722,
          -1575,
          -1397,
          -890,
          1649,
          3347,
          -55,
          356,
          1541,
          800,
          -2978,
          1134,
          -1911,
          34,
          9210,
          5746,
          -500,
          4,
          3040,
          -202,
          578,
          -1823,
          -7776,
          5072,
          -4028,
          11700,
          -661,
          2022,
          -16097,
          -11980,
          95,
          84,
          90,
          94,
          1882,
          -1564,
          159,
          2862,
          1726,
          1120,
          -14447,
          -1367,
          130,
          9853,
          -63262,
          -1119,
          2546,
          463,
          -162,
          -3933,
          -108,
          -246,
          445,
          -18,
          4112,
          142,
          -3385,
          1120,
          -52307,
          33,
          13298,
          5846,
          667,
          115,
          -10685,
          538,
          -8278,
          1447,
          -420,
          -9492,
          4212,
          3118,
          -912,
          15,
          4153,
          -10478,
          1443,
          913,
          1822,
          1558,
          5185,
          -583,
          -3276,
          837,
          1628,
          -5060,
          2034,
          539,
          -453,
          -535,
          2870,
          6611,
          2146,
          -6669,
          -339,
          3267,
          -1256,
          1838,
          -305,
          8601,
          621,
          623,
          -500,
          8514,
          752,
          -1688,
          1758,
          -14649,
          -834,
          -321,
          341,
          243,
          653,
          -465,
          -7590,
          -538,
          28500,
          224,
          13641,
          1896,
          -46,
          272,
          2350,
          -2944,
          -10606,
          4554,
          2392,
          -808,
          2998,
          774,
          -1575,
          2765,
          218,
          1270,
          786,
          1641,
          64,
          1351,
          -587,
          -4170,
          150,
          557,
          2115,
          1002,
          299,
          2547,
          -4674,
          2098,
          -9088,
          979,
          616,
          3250,
          8947,
          4771,
          -7059,
          -795,
          -281,
          -2134,
          -341,
          2253,
          1697,
          12953,
          1128,
          4555,
          -5327,
          915,
          -2213,
          -1521,
          1068,
          3168,
          -3105,
          -1403,
          -347,
          5561,
          -3037,
          47,
          9153,
          706,
          -423,
          269,
          -466,
          2804,
          1588,
          -26033,
          1370,
          2504,
          -1316,
          825,
          1230,
          -86,
          -317,
          -8497,
          -175,
          -242,
          701,
          -95,
          -110,
          -548,
          381,
          3115,
          -729,
          -1299,
          3453,
          30,
          3161,
          -54,
          1673,
          -458,
          10205,
          -138,
          -3408,
          571,
          730,
          302,
          1579,
          -203,
          -7357,
          -10942,
          1174,
          563,
          -13382,
          -6995,
          1524,
          -33,
          6563,
          4366,
          -773,
          5769,
          261,
          1122,
          681,
          -1274,
          1073,
          -35,
          22420,
          -1004,
          -336,
          -6408,
          -1999,
          -1405,
          -38,
          -248,
          3357,
          -9548,
          1415,
          279,
          -3269,
          -196,
          -2215,
          719,
          2608,
          2897,
          -24451,
          -17245,
          6079,
          817,
          2443,
          662,
          156,
          -5241,
          -227,
          -261,
          -846,
          99,
          499,
          2485,
          -403,
          -5744,
          7541,
          437,
          -3572,
          1817,
          6679,
          1302,
          -500,
          952,
          -260,
          2518,
          -1548,
          2497,
          -3252,
          -2202,
          663,
          11576,
          -229,
          -3000,
          4249,
          1982,
          935,
          112,
          103,
          -352,
          -7601,
          129,
          4042,
          301,
          -905,
          2494,
          -360,
          -1579,
          -305,
          262,
          -2489,
          3899,
          -6071,
          4356,
          697,
          -500,
          -500,
          9173,
          125,
          2586,
          7802,
          -2318,
          1928,
          2148,
          538,
          4365,
          -2820,
          1770,
          943,
          -1173,
          275,
          -1731,
          336,
          430,
          424,
          1925,
          -1269,
          -32452,
          -268,
          2180,
          868,
          2320,
          -840,
          -770,
          7148,
          -364,
          -155,
          -735,
          466,
          5277,
          -500,
          -3930,
          483,
          303,
          -551,
          -2192,
          724,
          233,
          1312,
          566,
          900,
          -2437,
          -3471,
          -464,
          -7306,
          4546,
          1175,
          1994,
          -72,
          -288,
          1119,
          2483,
          -1583,
          -2906,
          -645,
          -554,
          165,
          -351,
          51,
          -1115,
          -908,
          -1513,
          -2591,
          16505,
          -3687,
          20,
          285,
          5043,
          -235,
          1098,
          -6418,
          2432,
          7984,
          3738,
          1953,
          -384,
          119,
          1853,
          -6781,
          1205,
          994,
          3014,
          -861,
          3623,
          776,
          1057,
          1956,
          -5086,
          -8965,
          136,
          -2349,
          1698,
          -1497,
          137,
          5969,
          -2382,
          -2942,
          687,
          12832,
          3353,
          4692,
          873,
          19,
          -202,
          -2515,
          -3534,
          -580,
          -2648,
          5670,
          -4095,
          -500,
          -1122,
          2559,
          901,
          1536,
          -9,
          1591,
          679,
          1483,
          -4163,
          8510,
          -413,
          10098,
          1094,
          1928,
          -7422,
          6582,
          -1913,
          275,
          2664,
          48,
          -500,
          -500,
          -3955,
          -692,
          3080,
          555,
          3686,
          2571,
          2001,
          -193,
          19148,
          9416,
          6217,
          239,
          -3941,
          -349,
          2413,
          331,
          1626,
          44,
          -260,
          348,
          7746,
          -7705,
          -28124,
          2042,
          -2465,
          3976,
          358,
          -2068,
          -1117,
          461,
          -19333,
          4532,
          -1099,
          -9889,
          -49,
          -3632,
          -2546,
          -2139,
          172,
          7027,
          -11140,
          34913,
          -2174,
          981,
          -11,
          1758,
          -10019,
          2882,
          -133,
          -390,
          1422,
          148,
          -1047,
          -1552,
          -549,
          270,
          1705,
          595,
          -482,
          -1083,
          3281,
          -1341,
          -2383,
          4795,
          14627,
          9531,
          3450,
          -5002,
          970,
          6470,
          -2838,
          -677,
          1251,
          -1750,
          -100,
          10439,
          522,
          3719,
          -119,
          -13315,
          15213,
          943,
          -2843,
          -2,
          5431,
          1329,
          925,
          6290,
          903,
          5794,
          1417,
          1200,
          -2756,
          441,
          3663,
          -9764,
          -1470,
          -76834,
          -4421,
          24619,
          -18225,
          -5803,
          -1883,
          -52511,
          7936,
          229,
          445,
          -14,
          -1123,
          -443,
          374,
          564,
          994,
          14481,
          -1151,
          -10001,
          10122,
          228,
          -9082,
          386,
          969,
          -1006,
          5,
          -4080,
          218,
          294,
          -1151,
          451,
          -1126,
          1218,
          347,
          2945,
          -2421,
          5809,
          -18654,
          -1262,
          1005,
          2358,
          -4518,
          -87,
          1258,
          -1749,
          2426,
          -529,
          -1864,
          2647,
          -1416,
          3501,
          -148,
          7281,
          412,
          -1851,
          1245,
          1386,
          -6003,
          1562,
          -250,
          1382,
          -4322,
          -10635,
          -12032,
          920,
          319,
          -976,
          -300,
          409,
          -1820,
          10740,
          -1287,
          -1787,
          854,
          2233,
          5568,
          -501,
          -8233,
          -11503,
          -1041,
          3421,
          226,
          -2133,
          3571,
          -333,
          -1322,
          -5085,
          -4910,
          685,
          1419,
          12259,
          5103,
          -2145,
          -7103,
          -3361,
          2201,
          2292,
          1909,
          -7393,
          -502,
          3094,
          2131,
          -2209,
          -1918,
          -694,
          -2495,
          2953,
          1084,
          676,
          16523,
          0,
          -3394,
          -364,
          458,
          954,
          926,
          3084,
          -1506,
          6439,
          2818,
          -1231,
          728,
          2391,
          365,
          3267,
          1031,
          -5128,
          -868,
          735,
          1843,
          -3979,
          -977,
          -227,
          -6146,
          775,
          -750,
          -4290,
          -605,
          -37904,
          -110,
          1455,
          2324,
          3591,
          32896,
          957,
          -1207,
          789,
          -1834,
          4373,
          1973,
          5973,
          2100,
          1208,
          -549,
          -575,
          -5039,
          -3285,
          24,
          -1315,
          6929,
          -6769,
          5098,
          2620,
          -461,
          -52782,
          263,
          2483,
          -6865,
          -303,
          3488,
          -2022,
          160,
          -85,
          -131,
          11348,
          -7517,
          1427,
          -4895,
          5582,
          -4183,
          2491,
          574,
          1973,
          1860,
          -2979,
          1027,
          787,
          17410,
          276,
          -4291,
          -2937,
          -665,
          -5701,
          2416,
          2057,
          558,
          1843,
          -14827,
          2926,
          737,
          -64,
          -370,
          -389,
          -18668,
          1688,
          1172,
          5005,
          2783,
          -220,
          -7454,
          -5130,
          -1181,
          2732,
          -1694,
          23,
          1456,
          -445,
          -238,
          6708,
          -846,
          186,
          1099,
          1083,
          -1247,
          6513,
          367,
          28021,
          2560,
          -120,
          -495,
          986,
          -34470,
          754,
          1832,
          -1183,
          1495,
          5698,
          -248,
          -184,
          3023,
          686,
          -20082,
          2563,
          209,
          439,
          715,
          -5150,
          2677,
          -180,
          3691,
          -19294,
          1141,
          -344,
          -774,
          12920,
          -810,
          275,
          -15090,
          550,
          -835,
          -12,
          -1358,
          685,
          -12434,
          3416,
          -332,
          10396,
          602,
          -5680,
          -6495,
          -8393,
          866,
          636,
          5895,
          937,
          -6380,
          370,
          -16,
          -2546,
          8406,
          -12,
          -4008,
          -16,
          -1203,
          5982,
          -1805,
          673,
          1060,
          -476,
          746,
          -500,
          5610,
          -20190,
          18482,
          842,
          -500,
          -32521,
          4418,
          -34782,
          9791,
          7731,
          -235,
          -726,
          1543,
          -5533,
          1808,
          -8817,
          -6089,
          -3547,
          1141,
          3855,
          -970,
          17976,
          43720,
          1510,
          3279,
          -10560,
          1052,
          1094,
          -13823,
          72,
          278,
          -1313,
          2797,
          1292,
          -112,
          6762,
          793,
          909,
          3619,
          20,
          6158,
          6076,
          1213,
          2241,
          -719,
          -921,
          -838,
          3197,
          3034,
          2473,
          -6077,
          842,
          434,
          13,
          1237,
          -6410,
          524,
          14763,
          5582,
          689,
          5485,
          1302,
          14296,
          -59,
          83,
          684,
          -15298,
          11125,
          575,
          169,
          2732,
          -547,
          -2145,
          2348,
          6445,
          -785,
          4145,
          4078,
          -9,
          2383,
          -2985,
          1145,
          -983,
          12051,
          6891,
          -362,
          -12318,
          -8943,
          12086,
          -2260,
          2547,
          -732,
          2356,
          11662,
          -1227,
          -1903,
          -790,
          -51965,
          -179,
          108,
          670,
          125,
          1900,
          -3016,
          -255,
          100,
          1688,
          149,
          -262,
          -5550,
          115,
          402,
          -3430,
          1546,
          -5917,
          -767,
          20312,
          86,
          895,
          17543,
          6334,
          -812,
          91,
          -75,
          -2708,
          -5777,
          -399,
          727,
          4444,
          24707,
          20,
          -7555,
          736,
          -3813,
          -62537,
          -2510,
          2349,
          -509,
          812,
          364,
          532,
          2181,
          4550,
          1641,
          6581,
          3256,
          621,
          406,
          10110,
          -927,
          1322,
          2636,
          4994,
          658,
          909,
          3026,
          -512,
          -550,
          298,
          2185,
          1131,
          2539,
          4113,
          1036,
          -7157,
          -50,
          4173,
          986,
          -8378,
          -6867,
          -2255,
          -980,
          460,
          4406,
          -3108,
          2931,
          2063,
          8524,
          3868,
          511,
          589,
          240,
          -3989,
          8179,
          5000,
          782,
          1374,
          -14689,
          173,
          200,
          529,
          -179,
          -1483,
          -1499,
          25301,
          -2677,
          -95,
          -1468,
          316,
          -385,
          1885,
          -8372,
          971,
          -4728,
          4767,
          1209,
          -3845,
          -2232,
          569,
          -963,
          4094,
          3871,
          -59,
          -533,
          5622,
          33,
          147,
          -6010,
          115,
          1376,
          5060,
          -9612,
          1293,
          -2593,
          6152,
          -3055,
          8478,
          -3756,
          -167,
          -300,
          -685,
          2234,
          1503,
          55369,
          -833,
          1554,
          -1813,
          -400,
          -34736,
          -3396,
          -209,
          -1343,
          -2803,
          1174,
          -3085,
          -1062,
          -9212,
          -2416,
          668,
          12221,
          -3595,
          2245,
          -804,
          5674,
          -340,
          -1791,
          -813,
          19340,
          659,
          170,
          -486,
          -702,
          -359,
          270,
          -4210,
          1419,
          420,
          -1350,
          14290,
          -5326,
          -1443,
          148,
          810,
          7592,
          -2760,
          -20619,
          1697,
          287,
          122,
          5757,
          2173,
          2703,
          -541,
          2391,
          8042,
          1530,
          -3044,
          -12628,
          5409,
          663,
          1026,
          -2228,
          30753,
          -500,
          1963,
          3733,
          649,
          -10678,
          -88,
          -334,
          12393,
          43,
          4282,
          4029,
          -35,
          5386,
          335,
          1862,
          -70,
          -2837,
          1931,
          -6774,
          440,
          5113,
          -1814,
          2887,
          -2415,
          -761,
          -12597,
          7016,
          2091,
          229,
          2024,
          -4521,
          358,
          -22,
          -6246,
          -7212,
          547,
          4125,
          -2023,
          556,
          6106,
          538,
          -572,
          2986,
          710,
          -1963,
          1302,
          3799,
          3474,
          -5107,
          33,
          686,
          486,
          184,
          3583,
          102,
          2665,
          2284,
          3438,
          2338,
          -3403,
          -149,
          1438,
          -4059,
          1903,
          10784,
          2590,
          -12460,
          828,
          1306,
          4941,
          2010,
          3091,
          626,
          1601,
          2502,
          8877,
          -5183,
          280,
          7094,
          -2489,
          -96,
          763,
          1235,
          35850,
          654,
          2520,
          -179,
          -2366,
          -2321,
          5603,
          5831,
          2975,
          -811,
          -2890,
          275,
          6445,
          1433,
          1648,
          -1928,
          2803,
          886,
          -11584,
          1982,
          -56,
          3655,
          2870,
          -2912,
          -4117,
          -29339,
          898,
          -4857,
          248,
          2609,
          7,
          -9457,
          419,
          66,
          -9032,
          -7917,
          8106,
          73,
          1417,
          1994,
          2006,
          1124,
          27,
          4942,
          -42051,
          622,
          3586,
          2302,
          514,
          -5606,
          666,
          -343,
          16945,
          9197,
          417,
          -1577,
          1531,
          283,
          1978,
          2281,
          1298,
          -3448,
          -750
         ],
         "yaxis": "y"
        }
       ],
       "layout": {
        "legend": {
         "tracegroupgap": 0
        },
        "margin": {
         "t": 60
        },
        "template": {
         "data": {
          "bar": [
           {
            "error_x": {
             "color": "#2a3f5f"
            },
            "error_y": {
             "color": "#2a3f5f"
            },
            "marker": {
             "line": {
              "color": "#E5ECF6",
              "width": 0.5
             },
             "pattern": {
              "fillmode": "overlay",
              "size": 10,
              "solidity": 0.2
             }
            },
            "type": "bar"
           }
          ],
          "barpolar": [
           {
            "marker": {
             "line": {
              "color": "#E5ECF6",
              "width": 0.5
             },
             "pattern": {
              "fillmode": "overlay",
              "size": 10,
              "solidity": 0.2
             }
            },
            "type": "barpolar"
           }
          ],
          "carpet": [
           {
            "aaxis": {
             "endlinecolor": "#2a3f5f",
             "gridcolor": "white",
             "linecolor": "white",
             "minorgridcolor": "white",
             "startlinecolor": "#2a3f5f"
            },
            "baxis": {
             "endlinecolor": "#2a3f5f",
             "gridcolor": "white",
             "linecolor": "white",
             "minorgridcolor": "white",
             "startlinecolor": "#2a3f5f"
            },
            "type": "carpet"
           }
          ],
          "choropleth": [
           {
            "colorbar": {
             "outlinewidth": 0,
             "ticks": ""
            },
            "type": "choropleth"
           }
          ],
          "contour": [
           {
            "colorbar": {
             "outlinewidth": 0,
             "ticks": ""
            },
            "colorscale": [
             [
              0,
              "#0d0887"
             ],
             [
              0.1111111111111111,
              "#46039f"
             ],
             [
              0.2222222222222222,
              "#7201a8"
             ],
             [
              0.3333333333333333,
              "#9c179e"
             ],
             [
              0.4444444444444444,
              "#bd3786"
             ],
             [
              0.5555555555555556,
              "#d8576b"
             ],
             [
              0.6666666666666666,
              "#ed7953"
             ],
             [
              0.7777777777777778,
              "#fb9f3a"
             ],
             [
              0.8888888888888888,
              "#fdca26"
             ],
             [
              1,
              "#f0f921"
             ]
            ],
            "type": "contour"
           }
          ],
          "contourcarpet": [
           {
            "colorbar": {
             "outlinewidth": 0,
             "ticks": ""
            },
            "type": "contourcarpet"
           }
          ],
          "heatmap": [
           {
            "colorbar": {
             "outlinewidth": 0,
             "ticks": ""
            },
            "colorscale": [
             [
              0,
              "#0d0887"
             ],
             [
              0.1111111111111111,
              "#46039f"
             ],
             [
              0.2222222222222222,
              "#7201a8"
             ],
             [
              0.3333333333333333,
              "#9c179e"
             ],
             [
              0.4444444444444444,
              "#bd3786"
             ],
             [
              0.5555555555555556,
              "#d8576b"
             ],
             [
              0.6666666666666666,
              "#ed7953"
             ],
             [
              0.7777777777777778,
              "#fb9f3a"
             ],
             [
              0.8888888888888888,
              "#fdca26"
             ],
             [
              1,
              "#f0f921"
             ]
            ],
            "type": "heatmap"
           }
          ],
          "heatmapgl": [
           {
            "colorbar": {
             "outlinewidth": 0,
             "ticks": ""
            },
            "colorscale": [
             [
              0,
              "#0d0887"
             ],
             [
              0.1111111111111111,
              "#46039f"
             ],
             [
              0.2222222222222222,
              "#7201a8"
             ],
             [
              0.3333333333333333,
              "#9c179e"
             ],
             [
              0.4444444444444444,
              "#bd3786"
             ],
             [
              0.5555555555555556,
              "#d8576b"
             ],
             [
              0.6666666666666666,
              "#ed7953"
             ],
             [
              0.7777777777777778,
              "#fb9f3a"
             ],
             [
              0.8888888888888888,
              "#fdca26"
             ],
             [
              1,
              "#f0f921"
             ]
            ],
            "type": "heatmapgl"
           }
          ],
          "histogram": [
           {
            "marker": {
             "pattern": {
              "fillmode": "overlay",
              "size": 10,
              "solidity": 0.2
             }
            },
            "type": "histogram"
           }
          ],
          "histogram2d": [
           {
            "colorbar": {
             "outlinewidth": 0,
             "ticks": ""
            },
            "colorscale": [
             [
              0,
              "#0d0887"
             ],
             [
              0.1111111111111111,
              "#46039f"
             ],
             [
              0.2222222222222222,
              "#7201a8"
             ],
             [
              0.3333333333333333,
              "#9c179e"
             ],
             [
              0.4444444444444444,
              "#bd3786"
             ],
             [
              0.5555555555555556,
              "#d8576b"
             ],
             [
              0.6666666666666666,
              "#ed7953"
             ],
             [
              0.7777777777777778,
              "#fb9f3a"
             ],
             [
              0.8888888888888888,
              "#fdca26"
             ],
             [
              1,
              "#f0f921"
             ]
            ],
            "type": "histogram2d"
           }
          ],
          "histogram2dcontour": [
           {
            "colorbar": {
             "outlinewidth": 0,
             "ticks": ""
            },
            "colorscale": [
             [
              0,
              "#0d0887"
             ],
             [
              0.1111111111111111,
              "#46039f"
             ],
             [
              0.2222222222222222,
              "#7201a8"
             ],
             [
              0.3333333333333333,
              "#9c179e"
             ],
             [
              0.4444444444444444,
              "#bd3786"
             ],
             [
              0.5555555555555556,
              "#d8576b"
             ],
             [
              0.6666666666666666,
              "#ed7953"
             ],
             [
              0.7777777777777778,
              "#fb9f3a"
             ],
             [
              0.8888888888888888,
              "#fdca26"
             ],
             [
              1,
              "#f0f921"
             ]
            ],
            "type": "histogram2dcontour"
           }
          ],
          "mesh3d": [
           {
            "colorbar": {
             "outlinewidth": 0,
             "ticks": ""
            },
            "type": "mesh3d"
           }
          ],
          "parcoords": [
           {
            "line": {
             "colorbar": {
              "outlinewidth": 0,
              "ticks": ""
             }
            },
            "type": "parcoords"
           }
          ],
          "pie": [
           {
            "automargin": true,
            "type": "pie"
           }
          ],
          "scatter": [
           {
            "fillpattern": {
             "fillmode": "overlay",
             "size": 10,
             "solidity": 0.2
            },
            "type": "scatter"
           }
          ],
          "scatter3d": [
           {
            "line": {
             "colorbar": {
              "outlinewidth": 0,
              "ticks": ""
             }
            },
            "marker": {
             "colorbar": {
              "outlinewidth": 0,
              "ticks": ""
             }
            },
            "type": "scatter3d"
           }
          ],
          "scattercarpet": [
           {
            "marker": {
             "colorbar": {
              "outlinewidth": 0,
              "ticks": ""
             }
            },
            "type": "scattercarpet"
           }
          ],
          "scattergeo": [
           {
            "marker": {
             "colorbar": {
              "outlinewidth": 0,
              "ticks": ""
             }
            },
            "type": "scattergeo"
           }
          ],
          "scattergl": [
           {
            "marker": {
             "colorbar": {
              "outlinewidth": 0,
              "ticks": ""
             }
            },
            "type": "scattergl"
           }
          ],
          "scattermapbox": [
           {
            "marker": {
             "colorbar": {
              "outlinewidth": 0,
              "ticks": ""
             }
            },
            "type": "scattermapbox"
           }
          ],
          "scatterpolar": [
           {
            "marker": {
             "colorbar": {
              "outlinewidth": 0,
              "ticks": ""
             }
            },
            "type": "scatterpolar"
           }
          ],
          "scatterpolargl": [
           {
            "marker": {
             "colorbar": {
              "outlinewidth": 0,
              "ticks": ""
             }
            },
            "type": "scatterpolargl"
           }
          ],
          "scatterternary": [
           {
            "marker": {
             "colorbar": {
              "outlinewidth": 0,
              "ticks": ""
             }
            },
            "type": "scatterternary"
           }
          ],
          "surface": [
           {
            "colorbar": {
             "outlinewidth": 0,
             "ticks": ""
            },
            "colorscale": [
             [
              0,
              "#0d0887"
             ],
             [
              0.1111111111111111,
              "#46039f"
             ],
             [
              0.2222222222222222,
              "#7201a8"
             ],
             [
              0.3333333333333333,
              "#9c179e"
             ],
             [
              0.4444444444444444,
              "#bd3786"
             ],
             [
              0.5555555555555556,
              "#d8576b"
             ],
             [
              0.6666666666666666,
              "#ed7953"
             ],
             [
              0.7777777777777778,
              "#fb9f3a"
             ],
             [
              0.8888888888888888,
              "#fdca26"
             ],
             [
              1,
              "#f0f921"
             ]
            ],
            "type": "surface"
           }
          ],
          "table": [
           {
            "cells": {
             "fill": {
              "color": "#EBF0F8"
             },
             "line": {
              "color": "white"
             }
            },
            "header": {
             "fill": {
              "color": "#C8D4E3"
             },
             "line": {
              "color": "white"
             }
            },
            "type": "table"
           }
          ]
         },
         "layout": {
          "annotationdefaults": {
           "arrowcolor": "#2a3f5f",
           "arrowhead": 0,
           "arrowwidth": 1
          },
          "autotypenumbers": "strict",
          "coloraxis": {
           "colorbar": {
            "outlinewidth": 0,
            "ticks": ""
           }
          },
          "colorscale": {
           "diverging": [
            [
             0,
             "#8e0152"
            ],
            [
             0.1,
             "#c51b7d"
            ],
            [
             0.2,
             "#de77ae"
            ],
            [
             0.3,
             "#f1b6da"
            ],
            [
             0.4,
             "#fde0ef"
            ],
            [
             0.5,
             "#f7f7f7"
            ],
            [
             0.6,
             "#e6f5d0"
            ],
            [
             0.7,
             "#b8e186"
            ],
            [
             0.8,
             "#7fbc41"
            ],
            [
             0.9,
             "#4d9221"
            ],
            [
             1,
             "#276419"
            ]
           ],
           "sequential": [
            [
             0,
             "#0d0887"
            ],
            [
             0.1111111111111111,
             "#46039f"
            ],
            [
             0.2222222222222222,
             "#7201a8"
            ],
            [
             0.3333333333333333,
             "#9c179e"
            ],
            [
             0.4444444444444444,
             "#bd3786"
            ],
            [
             0.5555555555555556,
             "#d8576b"
            ],
            [
             0.6666666666666666,
             "#ed7953"
            ],
            [
             0.7777777777777778,
             "#fb9f3a"
            ],
            [
             0.8888888888888888,
             "#fdca26"
            ],
            [
             1,
             "#f0f921"
            ]
           ],
           "sequentialminus": [
            [
             0,
             "#0d0887"
            ],
            [
             0.1111111111111111,
             "#46039f"
            ],
            [
             0.2222222222222222,
             "#7201a8"
            ],
            [
             0.3333333333333333,
             "#9c179e"
            ],
            [
             0.4444444444444444,
             "#bd3786"
            ],
            [
             0.5555555555555556,
             "#d8576b"
            ],
            [
             0.6666666666666666,
             "#ed7953"
            ],
            [
             0.7777777777777778,
             "#fb9f3a"
            ],
            [
             0.8888888888888888,
             "#fdca26"
            ],
            [
             1,
             "#f0f921"
            ]
           ]
          },
          "colorway": [
           "#636efa",
           "#EF553B",
           "#00cc96",
           "#ab63fa",
           "#FFA15A",
           "#19d3f3",
           "#FF6692",
           "#B6E880",
           "#FF97FF",
           "#FECB52"
          ],
          "font": {
           "color": "#2a3f5f"
          },
          "geo": {
           "bgcolor": "white",
           "lakecolor": "white",
           "landcolor": "#E5ECF6",
           "showlakes": true,
           "showland": true,
           "subunitcolor": "white"
          },
          "hoverlabel": {
           "align": "left"
          },
          "hovermode": "closest",
          "mapbox": {
           "style": "light"
          },
          "paper_bgcolor": "white",
          "plot_bgcolor": "#E5ECF6",
          "polar": {
           "angularaxis": {
            "gridcolor": "white",
            "linecolor": "white",
            "ticks": ""
           },
           "bgcolor": "#E5ECF6",
           "radialaxis": {
            "gridcolor": "white",
            "linecolor": "white",
            "ticks": ""
           }
          },
          "scene": {
           "xaxis": {
            "backgroundcolor": "#E5ECF6",
            "gridcolor": "white",
            "gridwidth": 2,
            "linecolor": "white",
            "showbackground": true,
            "ticks": "",
            "zerolinecolor": "white"
           },
           "yaxis": {
            "backgroundcolor": "#E5ECF6",
            "gridcolor": "white",
            "gridwidth": 2,
            "linecolor": "white",
            "showbackground": true,
            "ticks": "",
            "zerolinecolor": "white"
           },
           "zaxis": {
            "backgroundcolor": "#E5ECF6",
            "gridcolor": "white",
            "gridwidth": 2,
            "linecolor": "white",
            "showbackground": true,
            "ticks": "",
            "zerolinecolor": "white"
           }
          },
          "shapedefaults": {
           "line": {
            "color": "#2a3f5f"
           }
          },
          "ternary": {
           "aaxis": {
            "gridcolor": "white",
            "linecolor": "white",
            "ticks": ""
           },
           "baxis": {
            "gridcolor": "white",
            "linecolor": "white",
            "ticks": ""
           },
           "bgcolor": "#E5ECF6",
           "caxis": {
            "gridcolor": "white",
            "linecolor": "white",
            "ticks": ""
           }
          },
          "title": {
           "x": 0.05
          },
          "xaxis": {
           "automargin": true,
           "gridcolor": "white",
           "linecolor": "white",
           "ticks": "",
           "title": {
            "standoff": 15
           },
           "zerolinecolor": "white",
           "zerolinewidth": 2
          },
          "yaxis": {
           "automargin": true,
           "gridcolor": "white",
           "linecolor": "white",
           "ticks": "",
           "title": {
            "standoff": 15
           },
           "zerolinecolor": "white",
           "zerolinewidth": 2
          }
         }
        },
        "title": {
         "text": "Residuals vs Predicted Salary"
        },
        "xaxis": {
         "anchor": "y",
         "domain": [
          0,
          1
         ],
         "title": {
          "text": "Predicted Salary"
         }
        },
        "yaxis": {
         "anchor": "x",
         "domain": [
          0,
          1
         ],
         "title": {
          "text": "Predicted - Actual"
         }
        }
       }
      }
     },
     "metadata": {},
     "output_type": "display_data"
    },
    {
     "data": {
      "application/vnd.plotly.v1+json": {
       "config": {
        "plotlyServerURL": "https://plot.ly"
       },
       "data": [
        {
         "customdata": [
          [
           "Jacopo Fazzini"
          ],
          [
           "Nathan Tella"
          ],
          [
           "Janik Haberer"
          ],
          [
           "Cristiano Piccini"
          ],
          [
           "Koen Van Langendonck"
          ],
          [
           "Sam Larsson"
          ],
          [
           "Garry Mendes Rodrigues"
          ],
          [
           "Florian Krüger"
          ],
          [
           "Xeber Alkain Mitxelena"
          ],
          [
           "Flynn Downes"
          ],
          [
           "Reyes Cleary"
          ],
          [
           "João Miguel Teixeira Mendes"
          ],
          [
           "Iñaki Rupérez Urtasun"
          ],
          [
           "Peer Koopmeiners"
          ],
          [
           "Antonio Jonjić"
          ],
          [
           "Sherel Floranus"
          ],
          [
           "Fabio Torsiello"
          ],
          [
           "Antoine Leautey"
          ],
          [
           "Peter Ouaneh"
          ],
          [
           "Dario Dumić"
          ],
          [
           "Paul Stock"
          ],
          [
           "Federico Dimarco"
          ],
          [
           "Lilian Brassier"
          ],
          [
           "Liam Lindsay"
          ],
          [
           "Aitor Paredes Casamichana"
          ],
          [
           "Ryan Isaac Mendes da Graça"
          ],
          [
           "Alex Matos"
          ],
          [
           "Leandro Chichizola"
          ],
          [
           "Jorge Filipe Oliveira Fernandes"
          ],
          [
           "Semir Telalovic"
          ],
          [
           "Domingos Quina"
          ],
          [
           "Julen Lobete Cienfuegos"
          ],
          [
           "Colin Dagba"
          ],
          [
           "Fernando Pacheco Flores"
          ],
          [
           "Daniel Grilo Azevedo"
          ],
          [
           "Rui Filipe Caetano Moura"
          ],
          [
           "Christian Kinsombi"
          ],
          [
           "Niclas Füllkrug"
          ],
          [
           "Florian Kainz"
          ],
          [
           "Luca Giudici"
          ],
          [
           "Luis Milla Manzanares"
          ],
          [
           "Emmanuel Okyere Boateng"
          ],
          [
           "Tawanda Chirewa"
          ],
          [
           "Bahadır Gölgeli"
          ],
          [
           "Diyaeddine Abzi"
          ],
          [
           "Erce Kardeşler"
          ],
          [
           "Moryké Fofana"
          ],
          [
           "Gabriel Gudmundsson"
          ],
          [
           "Nikolas Agrafiotis"
          ],
          [
           "Jannik Vestergaard"
          ],
          [
           "Kaio César Andrade Lima"
          ],
          [
           "José Francisco dos Santos Júnior"
          ],
          [
           "Tjaronn Inteff Chefren Chery"
          ],
          [
           "Alessandro Bellemo"
          ],
          [
           "Vincent Janssen"
          ],
          [
           "Olivier Dumont"
          ],
          [
           "Andreas Albers Nielsen"
          ],
          [
           "Thibaut Nicolas Marc Courtois"
          ],
          [
           "Pajtim Kasami"
          ],
          [
           "Albert-Mboyo Sambi Lokonga"
          ],
          [
           "André Hoffmann"
          ],
          [
           "Mergim Berisha"
          ],
          [
           "Terem Igobor Moffi"
          ],
          [
           "Aitor Mañas Buenadicha"
          ],
          [
           "Edmond Fayçal Tapsoba"
          ],
          [
           "Amari'i Bell"
          ],
          [
           "Edoardo Borrelli"
          ],
          [
           "Francisco Gámez López"
          ],
          [
           "Kayky da Silva Chagas"
          ],
          [
           "Lawrence Ofori"
          ],
          [
           "Florentin Lucien Jean Bloch"
          ],
          [
           "Benicio Baker-Boaitey"
          ],
          [
           "Sveinn Aron Guðjohnsen"
          ],
          [
           "Christian Lund Gytkjær"
          ],
          [
           "Leo Skiri Østigård"
          ],
          [
           "Ivan Filipović"
          ],
          [
           "Daniel Heber"
          ],
          [
           "Luis Perea Hernández"
          ],
          [
           "André Seruca de Oliveira"
          ],
          [
           "Marc Aguado Pallarés"
          ],
          [
           "Pape Ousmane Sakho"
          ],
          [
           "Rodrigo Ribeiro de Macedo"
          ],
          [
           "Ilias Koutsoupias"
          ],
          [
           "川邉 骏"
          ],
          [
           "Nicholas Pierini"
          ],
          [
           "Elbasan Rashani"
          ],
          [
           "Samuele Di Benedetto"
          ],
          [
           "Adryelson Lima Silva"
          ],
          [
           "Amar Gerxhaliu"
          ],
          [
           "Moïse Sahi Dion"
          ],
          [
           "Pedro González López"
          ],
          [
           "Miguel Ángel Atienza Villa"
          ],
          [
           "Mathias De Amorim"
          ],
          [
           "Alejandro Grimaldo García"
          ],
          [
           "Raphael Gregório Guzzo"
          ],
          [
           "Rui Pedro Silva Costa"
          ],
          [
           "Héctor José Hernández Marrero"
          ],
          [
           "Raúl Navarro del Río"
          ],
          [
           "Ferdy Druijf"
          ],
          [
           "Shahruddin Magomedaliyev"
          ],
          [
           "Enrico Baldini"
          ],
          [
           "Ruben Bover Izquierdo"
          ],
          [
           "Ravil Tagir"
          ],
          [
           "Daniel Gómez Alcón"
          ],
          [
           "Souleyman Doumbia"
          ],
          [
           "Jordan Tell"
          ],
          [
           "Giorgio Cittadini"
          ],
          [
           "Hélder José Oliveira Sá"
          ],
          [
           "Borja González Tomás"
          ],
          [
           "Luca Moro"
          ],
          [
           "Reece James"
          ],
          [
           "Márton Dárdai"
          ],
          [
           "Luka Bogdan"
          ],
          [
           "Mohamed Bamba"
          ],
          [
           "Ygor Nogueira de Paula"
          ],
          [
           "Harrison Clarke"
          ],
          [
           "Raffaele Pucino"
          ],
          [
           "Diego García Campos"
          ],
          [
           "Gaby Jean"
          ],
          [
           "Victor Jörgen Nilsson Lindelöf"
          ],
          [
           "Sokol Çikalleshi"
          ],
          [
           "Thibault Campanini"
          ],
          [
           "Joshua Myles Abraham Key"
          ],
          [
           "Kevin Strootman"
          ],
          [
           "Alessandro Livieri"
          ],
          [
           "Danny Ward"
          ],
          [
           "Çağlar Söyüncü"
          ],
          [
           "Junior Mwanga"
          ],
          [
           "Gregorio Luperini"
          ],
          [
           "Erick Barbosa dos Santos"
          ],
          [
           "Andrew Ferai Rinomhota"
          ],
          [
           "Kofi Jeremy Amoako"
          ],
          [
           "Malick Mbaye"
          ],
          [
           "Nelson Amadin"
          ],
          [
           "Daniel Bentley"
          ],
          [
           "Jon Pacheco Dozagarat"
          ],
          [
           "Robert Dickie"
          ],
          [
           "Nassim Chadli"
          ],
          [
           "Quentin Merlin"
          ],
          [
           "Youssef Amyn"
          ],
          [
           "Lucas Höler"
          ],
          [
           "Kyle Bartley"
          ],
          [
           "Madi Monamay Nsosemo"
          ],
          [
           "Ayman Benarous"
          ],
          [
           "Moritz Römling"
          ],
          [
           "Iñigo Córdoba Querejeta"
          ],
          [
           "Miguel Gutiérrez Ortega"
          ],
          [
           "Dimitris Giannoulis"
          ],
          [
           "James Shea"
          ],
          [
           "Hugo Novoa Ramos"
          ],
          [
           "Jamal Musiala"
          ],
          [
           "Mahlon Beresford Baker Romeo"
          ],
          [
           "Sergi Cardona Bermúdez"
          ],
          [
           "Nick Fichtinger"
          ],
          [
           "Marc Cucurella Saseta"
          ],
          [
           "Branco van den Boomen"
          ],
          [
           "Matthieu Udol"
          ],
          [
           "Divin Mubama"
          ],
          [
           "Nathangelo Alexandro Markelo"
          ],
          [
           "Arthur Vermeeren"
          ],
          [
           "Joaquín Fernández Moreno"
          ],
          [
           "Rafik Belghali"
          ],
          [
           "Federico Gatti"
          ],
          [
           "Mitchell Dijks"
          ],
          [
           "Hugo Magnetti"
          ],
          [
           "Mamadou Diop"
          ],
          [
           "Muammer Sarıkaya"
          ],
          [
           "Nouha Dicko"
          ],
          [
           "Garland Gbellé"
          ],
          [
           "Maxime Jean Roberto Leverbe"
          ],
          [
           "Edin Višća"
          ],
          [
           "Bradley Barcola"
          ],
          [
           "Imanol García de Albéniz Crecente"
          ],
          [
           "Gregor Kobel"
          ],
          [
           "Avdo Spahić"
          ],
          [
           "Connal Trueman"
          ],
          [
           "Kenan Yıldız"
          ],
          [
           "Ryan Allsop"
          ],
          [
           "Aurélio Gabriel Ulineia Buta"
          ],
          [
           "Leonardo Pavoletti"
          ],
          [
           "Regan Slater"
          ],
          [
           "Trazié Thomas Zai"
          ],
          [
           "Rachid Ghezzal"
          ],
          [
           "Modibo Sagnan"
          ],
          [
           "Maxime Dominguez"
          ],
          [
           "Juan Carlos Martín Corral"
          ],
          [
           "Marvin Olawale Akinlabi Park"
          ],
          [
           "Milan Corryn"
          ],
          [
           "Frank Feller"
          ],
          [
           "Hákon Arnar Haraldsson"
          ],
          [
           "Nicolás Federico Castro"
          ],
          [
           "Nilson David Angulo Ramírez"
          ],
          [
           "Danilo D'Ambrosio"
          ],
          [
           "Israel Salazar Piriz"
          ],
          [
           "Mathías Olivera Miramontes"
          ],
          [
           "Alireza Jahanbakhsh"
          ],
          [
           "Tiago Fontoura Fonseca Morais"
          ],
          [
           "Spyros Angelidis"
          ],
          [
           "Madson de Souza Silva"
          ],
          [
           "John Stones"
          ],
          [
           "Maxime Busi"
          ],
          [
           "Khalil Fayad"
          ],
          [
           "Felipe Augusto da Silva"
          ],
          [
           "Harry Winks"
          ],
          [
           "Konrad de la Fuente"
          ],
          [
           "Daan Rots"
          ],
          [
           "Patrick Cutrone"
          ],
          [
           "Matteo Cotali"
          ],
          [
           "Tomáš Čvančara"
          ],
          [
           "Alioune Ba"
          ],
          [
           "Miguel Ángel Almirón Rejala"
          ],
          [
           "Guglielmo Vicario"
          ],
          [
           "Tjark Scheller"
          ],
          [
           "Tom Bischof"
          ],
          [
           "Jason Davidson"
          ],
          [
           "Junior Marsoni Sambu Mansoni"
          ],
          [
           "Sem Westerveld"
          ],
          [
           "Guéla Doué"
          ],
          [
           "Adrian Blake"
          ],
          [
           "Jeanuël Belocian"
          ],
          [
           "Adama Boiro"
          ],
          [
           "Bart Verbruggen"
          ],
          [
           "Boris Popovic"
          ],
          [
           "Mario Sesé Vera"
          ],
          [
           "Clément Jerome Michelin"
          ],
          [
           "Milan Smits"
          ],
          [
           "Bouna Sarr"
          ],
          [
           "Edgar Alcañiz Baldovi"
          ],
          [
           "Rigoberto Manuel Rivas Vindel"
          ],
          [
           "Lamine Fomba"
          ],
          [
           "Christopher Schindler"
          ],
          [
           "Triantafyllos Pasalidis"
          ],
          [
           "Justin-Noël Kalumba"
          ],
          [
           "Jordan Henderson"
          ],
          [
           "Gabriel Fernando de Jesus"
          ],
          [
           "Lorenzo De Silvestri"
          ],
          [
           "Edgar González Estrada"
          ],
          [
           "Marlos Moreno Durán"
          ],
          [
           "Jack Bonham"
          ],
          [
           "Cheick Oumar Konaté"
          ],
          [
           "Kenneth Aboh"
          ],
          [
           "Yohan Demoncy"
          ],
          [
           "Gerrard Buabo"
          ],
          [
           "Baye Ablaye Mbaye"
          ],
          [
           "Idrissa Gana Gueye"
          ],
          [
           "Rayan Ghrieb"
          ],
          [
           "Michael Obafemi"
          ],
          [
           "Arouna Sangante"
          ],
          [
           "Florian Bohnert"
          ],
          [
           "Luan Silva"
          ],
          [
           "Przemysław Płacheta"
          ],
          [
           "Odysseus Velanas"
          ],
          [
           "Luis Alberto Romero Alconchel"
          ],
          [
           "Peter Pekarík"
          ],
          [
           "Toni Domgjoni"
          ],
          [
           "Christian Rivera Hernández"
          ],
          [
           "Wahidullah Faghir"
          ],
          [
           "Bernardo Martins Sousa"
          ],
          [
           "Seydouba Cisse"
          ],
          [
           "Vakoun Issouf Bayo"
          ],
          [
           "Isac Alexi Sivert Lidberg"
          ],
          [
           "Stipe Perica"
          ],
          [
           "Eric Junior Bocat"
          ],
          [
           "Mario Ierardi"
          ],
          [
           "Luca Ravanelli"
          ],
          [
           "Óscar Guido Trejo"
          ],
          [
           "Alexandre Mendy"
          ],
          [
           "Kristian Pedersen"
          ],
          [
           "Jeroen Zoet"
          ],
          [
           "Johan Gastien"
          ],
          [
           "Claud Adjapong"
          ],
          [
           "Gustavo Enrique Giordano Amaro Assunção da Silva"
          ],
          [
           "Noah Mawene"
          ],
          [
           "Thijs Dallinga"
          ],
          [
           "Zakaria El Ouahdi"
          ],
          [
           "Alessio Zerbin"
          ],
          [
           "Alexandre Corredera Alardi"
          ],
          [
           "Dante Bonfim da Costa Santos"
          ],
          [
           "Shane Patrick Michael Duffy"
          ],
          [
           "Adrián Liso Liso Lahoz"
          ],
          [
           "Richie Omorowa"
          ],
          [
           "Divock Okoth Origi"
          ],
          [
           "Jarne Steuckers"
          ],
          [
           "Florian Miguel"
          ],
          [
           "Anis Mehmeti"
          ],
          [
           "Thomas Lemar"
          ],
          [
           "Brooke Norton-Cuffy"
          ],
          [
           "Miguel Rodríguez Vidal"
          ],
          [
           "Bruno Oliveira Bertinato"
          ],
          [
           "Mehdi Chahiri"
          ],
          [
           "Yaw Moses"
          ],
          [
           "Carl Rushworth"
          ],
          [
           "Taylor Moore"
          ],
          [
           "Manuel Obafemi Akanji"
          ],
          [
           "Kangni Frederic Ananou"
          ],
          [
           "Francesco Di Tacchio"
          ],
          [
           "Ali Fadal"
          ],
          [
           "Robert Leipertz"
          ],
          [
           "Jeffrey Gouweleeuw"
          ],
          [
           "Francisco Barbosa Vieites"
          ],
          [
           "Maxence Lacroix"
          ],
          [
           "Marcel Łubik"
          ],
          [
           "황의조 Ui Jo Hwang"
          ],
          [
           "David Torres Ortiz"
          ],
          [
           "Pedro Ortiz Bernat"
          ],
          [
           "シュミット・ダニエル"
          ],
          [
           "Joe Bryan"
          ],
          [
           "Arsène Courel"
          ],
          [
           "Noussair Mazraoui"
          ],
          [
           "Florent Muslija"
          ],
          [
           "Jhafets Christ Dick Reyes"
          ],
          [
           "Vincent Gembalies"
          ],
          [
           "Ricardo Daniel Pepi"
          ],
          [
           "Berkay Aydoğmuş"
          ],
          [
           "Jay den Haan"
          ],
          [
           "Francisco Javier Montero Rubio"
          ],
          [
           "Samuele Birindelli"
          ],
          [
           "Stefano Turati"
          ],
          [
           "Lucas Pires Silva"
          ],
          [
           "Mario Pašalić"
          ],
          [
           "Benedikt Gimber"
          ],
          [
           "Ogün Özçiçek"
          ],
          [
           "Thomas Glyn Doyle"
          ],
          [
           "Lucas François Bernard Hernández Pi"
          ],
          [
           "Marcel Beifus"
          ],
          [
           "Johann Serge Obiang"
          ],
          [
           "Hugo Sotelo Gómez"
          ],
          [
           "Mouhamadou Diarra"
          ],
          [
           "Aurélien Scheidler"
          ],
          [
           "Evan Ferguson"
          ],
          [
           "D'Leanu Arts"
          ],
          [
           "Luca Jannis Kilian"
          ],
          [
           "Bas Edo Kuipers"
          ],
          [
           "Marcos Sánchez Arriero"
          ],
          [
           "Massimo Coda"
          ],
          [
           "David Morillas Jiménez"
          ],
          [
           "Ibrahim Maza"
          ],
          [
           "Andrea Bertolacci"
          ],
          [
           "José Ignacio Fernández Iglesias"
          ],
          [
           "Bradley Stretton"
          ],
          [
           "Thomas Foket"
          ],
          [
           "Bachirou Yameogo"
          ],
          [
           "Jesse Bal"
          ],
          [
           "Luis Ezequiel Ávila"
          ],
          [
           "Illan Meslier"
          ],
          [
           "Kevin Miranda"
          ],
          [
           "Allan Linguet"
          ],
          [
           "Kevin Kraus"
          ],
          [
           "Elvis Rexhbeçaj"
          ],
          [
           "Cam Bragg"
          ],
          [
           "Jason Eyenga-Lokilo"
          ],
          [
           "Kenny Lala"
          ],
          [
           "Antonio Rüdiger"
          ],
          [
           "Iwo Kaczmarski"
          ],
          [
           "Francesco Caputo"
          ],
          [
           "Iván Chapela López"
          ],
          [
           "Stefan Leković"
          ],
          [
           "Godfried Roemeratoe"
          ],
          [
           "Jérémie Boga"
          ],
          [
           "Julian Jeanvier"
          ],
          [
           "Dominic Solanke"
          ],
          [
           "Quentin Braat"
          ],
          [
           "Bilal Brahimi"
          ],
          [
           "Jean-Luc Mamadou Diarra Dompé"
          ],
          [
           "Pedro Gastón Álvarez Sosa"
          ],
          [
           "Phillip Tietz"
          ],
          [
           "José Andrés Rodriguez Gaitán"
          ],
          [
           "Germán Sánchez Barahona"
          ],
          [
           "Yáser Asprilla Martínez"
          ],
          [
           "Brandon Soppy"
          ],
          [
           "Timo Baumgartl"
          ],
          [
           "Vedat Karakuş"
          ],
          [
           "Warren Tchimbembé"
          ],
          [
           "Asmir Begović"
          ],
          [
           "Michele Collocolo"
          ],
          [
           "Onur Bulut"
          ],
          [
           "Jubal Rocha Mendes Júnior"
          ],
          [
           "Mamadou Camara"
          ],
          [
           "Miguel Muñoz Mora"
          ],
          [
           "Nikola Vlašić"
          ],
          [
           "Reece Burke"
          ],
          [
           "Tomás Mejías Osorio"
          ],
          [
           "Ayotomiwa Dele-Bashiru"
          ],
          [
           "Jean Romaric Kevin Koffi"
          ],
          [
           "Ahmet Ege Gürleyen"
          ],
          [
           "Giacomo Raspadori"
          ],
          [
           "José León Bernal"
          ],
          [
           "Rolando Mandragora"
          ],
          [
           "Dirk Asare"
          ],
          [
           "Marc Jurado Gómez"
          ],
          [
           "Saba Sazonov"
          ],
          [
           "Famara Diédhiou"
          ],
          [
           "Bruno Lourenço Pinto de Almeida Paz"
          ],
          [
           "Nikola Krstović"
          ],
          [
           "Jesurun Rak-Sakyi"
          ],
          [
           "Andrea Cagnano"
          ],
          [
           "Lucas Vennegoor of Hess."
          ],
          [
           "David López Silva"
          ],
          [
           "Antoni-Djibu Milambo"
          ],
          [
           "Iker Undabarrena Martínez"
          ],
          [
           "Antoine Semenyo"
          ],
          [
           "Armando Broja"
          ],
          [
           "Tobias Kempe"
          ],
          [
           "Valerio Mantovani"
          ],
          [
           "Danel Sinani"
          ],
          [
           "Mexx Meerdink"
          ],
          [
           "Miquel Parera Pizá"
          ],
          [
           "Manuel Marras"
          ],
          [
           "Filip Wojciech Jagiełło"
          ],
          [
           "Alejandro Iturbe Encabo"
          ],
          [
           "Mateo Kovačić"
          ],
          [
           "Sergio Lozano Lluch"
          ],
          [
           "Sergio Camello Pérez"
          ],
          [
           "Silvio Merkaj"
          ],
          [
           "Dilan Kumar Markanday"
          ],
          [
           "Yasser Baldé"
          ],
          [
           "Moussa Sissoko"
          ],
          [
           "Zak Vyner"
          ],
          [
           "Yann Sommer"
          ],
          [
           "Hervé Kouakou Koffi"
          ],
          [
           "Alin Vasilică Șerban"
          ],
          [
           "Darlin Zidane Yongwa Ngameni"
          ],
          [
           "Jimmy Dunne"
          ],
          [
           "Vic Chambaere"
          ],
          [
           "Xavier Laglais Kouassi"
          ],
          [
           "Yassine Haouari"
          ],
          [
           "Noah Engelbreth"
          ],
          [
           "Nicolas Oliveira Kisilowski"
          ],
          [
           "Henri Salomaa"
          ],
          [
           "Jay Idzes"
          ],
          [
           "Simone Pozzato"
          ],
          [
           "Raúl Fernández-Cavada Mateos"
          ],
          [
           "Thomas Buitink"
          ],
          [
           "Valentino Livramento"
          ],
          [
           "守田 英正"
          ],
          [
           "Harouna Sy"
          ],
          [
           "Yann Yves Laurent Bodiger"
          ],
          [
           "Yunus Mallı"
          ],
          [
           "Joël Schingtienne"
          ],
          [
           "Vital Manuel N"
          ],
          [
           "Lorenzo Lucchesi"
          ],
          [
           "Bruno Xavier Almeida Costa"
          ],
          [
           "Nicola Rauti"
          ],
          [
           "Nicolas De Préville"
          ],
          [
           "Gabriele Piccinini"
          ],
          [
           "Adil Aouchiche"
          ],
          [
           "Martin Erlić"
          ],
          [
           "Ferran Jutglà Blanch"
          ],
          [
           "Christian Fassnacht"
          ],
          [
           "Niklas Niehoff"
          ],
          [
           "Simon Walde"
          ],
          [
           "Papiss Mison Djilobodji"
          ],
          [
           "Vito Mannone"
          ],
          [
           "Mustafa Kapı"
          ],
          [
           "Falaye Sacko"
          ],
          [
           "Piero Martín Hincapié Reyna"
          ],
          [
           "Gédéon Kalulu Kyatengwa"
          ],
          [
           "Felix Passlack"
          ],
          [
           "Garang Kuol"
          ],
          [
           "Rafael Sousa Gancho Brito"
          ],
          [
           "Antonio Mirante"
          ],
          [
           "Ricardo Domingos Barbosa Pereira"
          ],
          [
           "Amadou Keita"
          ],
          [
           "Alessandro Micai"
          ],
          [
           "Ömer Toprak"
          ],
          [
           "Samuel Loureiro Carvalho Justo"
          ],
          [
           "Damian van der Haar"
          ],
          [
           "Agustín Martegani"
          ],
          [
           "Felix Platte"
          ],
          [
           "Joseph Boyamba"
          ],
          [
           "Iké Dominique Ugbo"
          ],
          [
           "Maxime Kali Wenssens"
          ],
          [
           "Christian Borrego Isabel"
          ],
          [
           "Unai Marino Alkorta"
          ],
          [
           "Gustavo H. Alves Rodrigues"
          ],
          [
           "Nader El-Jindaoui"
          ],
          [
           "Gavin Okeroghene Bazunu"
          ],
          [
           "Oriol Romeu Vidal"
          ],
          [
           "Ibrahim Sissoko"
          ],
          [
           "Ørjan Håskjold Nyland"
          ],
          [
           "Tayo Adaramola"
          ],
          [
           "José Luis Muñoz León"
          ],
          [
           "Mathias Oyewusi"
          ],
          [
           "Alfons Sampsted"
          ],
          [
           "Abel Ruiz Ortega"
          ],
          [
           "Marcus Lilian Thuram-Ulien"
          ],
          [
           "Antonio Pergreffi"
          ],
          [
           "Sergio Cubero Ezcurra"
          ],
          [
           "Berkay Sülüngöz"
          ],
          [
           "Marcos André de Sousa Mendonça"
          ],
          [
           "Sébastien Bruzzese"
          ],
          [
           "Mohamed El Arouch"
          ],
          [
           "Rúben Ismael Valente Ramos"
          ],
          [
           "Lucas Perrin"
          ],
          [
           "Levi Samuels Colwill"
          ],
          [
           "Iver Tobias Rørvik Fossum"
          ],
          [
           "Cameron Lisceous Humphreys-Grant"
          ],
          [
           "Luis Ismael Vázquez"
          ],
          [
           "João Miguel Vieira Freitas Silva Marques"
          ],
          [
           "Miguel Loureiro Ameijenda"
          ],
          [
           "Logan Costa"
          ],
          [
           "Kyliane Dong"
          ],
          [
           "Joel Julius Ilmari Pohjanpalo"
          ],
          [
           "Luis Dettling"
          ],
          [
           "Julien Le Cardinal"
          ],
          [
           "Mihajlo Ilić"
          ],
          [
           "Kasper Dolberg Rasmussen"
          ],
          [
           "Charles Boli"
          ],
          [
           "Isak Hien"
          ],
          [
           "Estéban Lepaul"
          ],
          [
           "Borja Garcés Moreno"
          ],
          [
           "Nicolas Pépé"
          ],
          [
           "Ryan Andrews"
          ],
          [
           "Ben Knight"
          ],
          [
           "Eddie Anthony Salcedo Mora"
          ],
          [
           "Jaume Albert Cuéllar Mendoza"
          ],
          [
           "Lenny Pirringuel"
          ],
          [
           "Álvaro Killane Giardini"
          ],
          [
           "Ethan Shea Horvath"
          ],
          [
           "Siebe Horemans"
          ],
          [
           "Riad Nouri"
          ],
          [
           "Andy Joseph Pelmard"
          ],
          [
           "Ylies Aradj"
          ],
          [
           "Ángel Fortuño Viñas"
          ],
          [
           "Sam Proctor"
          ],
          [
           "Loris Mouyokolo"
          ],
          [
           "Antonio José Raíllo Arenas"
          ],
          [
           "Mohamed Airam Ramos Wade"
          ],
          [
           "Sergi Darder Moll"
          ],
          [
           "Michael Langer"
          ],
          [
           "Sabin Merino Zuloaga"
          ],
          [
           "Immanuël-Johannes Pherai"
          ],
          [
           "Francesco D'Alessio"
          ],
          [
           "Thomas Lam"
          ],
          [
           "Tyrell Sellars-Fleming"
          ],
          [
           "Furkan Onur Akyüz"
          ],
          [
           "Andries Noppert"
          ],
          [
           "László Bénes"
          ],
          [
           "Mike van Duinen"
          ],
          [
           "Ignacio De Arruabarrena Fernández"
          ],
          [
           "Francisco Andrés Sierralta Carvallo"
          ],
          [
           "Mücahit Serbest"
          ],
          [
           "Florian Tardieu"
          ],
          [
           "Rui Tiago Dantas da Silva"
          ],
          [
           "Álvaro Sanz Catalán"
          ],
          [
           "Didier Lamkel Zé"
          ],
          [
           "Sven Botman"
          ],
          [
           "三笘 薫"
          ],
          [
           "Mousa Mohammad Mousa Sulaiman Al-Tamari"
          ],
          [
           "Alejandro San Cristóbal"
          ],
          [
           "Gerard Deulofeu Lázaro"
          ],
          [
           "Alessandro Salvi"
          ],
          [
           "Wesley Nathan Hylton Harding"
          ],
          [
           "Alexis Laurent Patrice Roge Flips"
          ],
          [
           "Denis Mihai Drăguş"
          ],
          [
           "Samuel Peter Barnes"
          ],
          [
           "Efe Tecimer"
          ],
          [
           "Diego González Cabanes"
          ],
          [
           "Jakub Stolarczyk"
          ],
          [
           "Joseph Nonge"
          ],
          [
           "Nuno Miguel da Costa Jóia"
          ],
          [
           "Andreas Voglsammer"
          ],
          [
           "Roman Květ"
          ],
          [
           "José Alejandro Martín Valerón"
          ],
          [
           "Bünyamin Balcı"
          ],
          [
           "Pedro Miguel Santos Amador"
          ],
          [
           "David Turnbull"
          ],
          [
           "Alper Uludağ"
          ],
          [
           "Jorge Benito de Valle"
          ],
          [
           "Amadou Sagna"
          ],
          [
           "Jules Gaudin"
          ],
          [
           "Alberth Josué Elis Martínez"
          ],
          [
           "Juan Antonio Iglesias Sánchez"
          ],
          [
           "Cristian Darío Álvarez"
          ],
          [
           "Pablo Paulino Rosario"
          ],
          [
           "Afonso Manuel Abreu de Freitas"
          ],
          [
           "Tom van de Looi"
          ],
          [
           "Giorgos Kyriakopoulos"
          ],
          [
           "Paul Nardi"
          ],
          [
           "Róbert Boženík"
          ],
          [
           "Danilo Cataldi"
          ],
          [
           "Mark Gillespie"
          ],
          [
           "Lukas Schleimer"
          ],
          [
           "Audenirton Soares da Silva"
          ],
          [
           "Yohan Roche"
          ],
          [
           "Sadibou Sané"
          ],
          [
           "Pedro Lomba Neto"
          ],
          [
           "Dean Henderson"
          ],
          [
           "Mateus Quaresma Correia"
          ],
          [
           "Philipp Pentke"
          ],
          [
           "Stephen Antunes Eustáquio"
          ],
          [
           "Yanis Rahmani Cordeiro"
          ],
          [
           "Jorge Karseladze"
          ],
          [
           "Jannis Heuer"
          ],
          [
           "Anderson-Lenda Lucoqui"
          ],
          [
           "Alessandro Caporale"
          ],
          [
           "Nordine Kandil"
          ],
          [
           "Cheikh Ahmadou Bamba Mbacke Dieng"
          ],
          [
           "Stéphane Imad Diarra"
          ],
          [
           "Vicente Guaita Panadero"
          ],
          [
           "Kristian Nökkvi Hlynsson"
          ],
          [
           "Luigi Pellegrini"
          ],
          [
           "Muhammet Ali Özbaskıcı"
          ],
          [
           "Romain Del Castillo"
          ],
          [
           "Jean Zimmer"
          ],
          [
           "Florian Thomas Danho"
          ],
          [
           "Isaac Palazón Camacho"
          ],
          [
           "Wladimiro Falcone"
          ],
          [
           "Ricardo Rodríguez Gil Carcedo"
          ],
          [
           "Luca Daniel de la Torre"
          ],
          [
           "Tarık Çetin"
          ],
          [
           "Alan Gonzalo Varela"
          ],
          [
           "Filip Bilbija"
          ],
          [
           "Haris Hajradinović"
          ],
          [
           "Tyler Shaan Adams"
          ],
          [
           "伊藤 涼太郎"
          ],
          [
           "Dean Ruben James"
          ],
          [
           "Diadié Samassékou"
          ],
          [
           "Stije Resink"
          ],
          [
           "Jose María Saldaña Baeza"
          ],
          [
           "Horaţiu Alexandru Moldovan"
          ],
          [
           "Jimmy Cabot"
          ],
          [
           "Luís Miguel Castelo Santos"
          ],
          [
           "Nick Pope"
          ],
          [
           "Dave Kwakman"
          ],
          [
           "Nazariy Rusyn"
          ],
          [
           "Gökhan Gül"
          ],
          [
           "Hugo Bueno López"
          ],
          [
           "Brajan Gruda"
          ],
          [
           "Kağan Moradaoğlu"
          ],
          [
           "Theodor Alexander Corbeanu"
          ],
          [
           "Selvi Clua Oya"
          ],
          [
           "Gustav Christensen"
          ],
          [
           "Kevin Martin Krygård"
          ],
          [
           "Ivan Ilić"
          ],
          [
           "Kamil Piątkowski"
          ],
          [
           "Djordjije Medenica"
          ],
          [
           "Hans Hateboer"
          ],
          [
           "Mattia Tonetto"
          ],
          [
           "Simon Rhein"
          ],
          [
           "Kalidou Sidibé"
          ],
          [
           "Brian Alexis Ocampo Ferreira"
          ],
          [
           "Damián Cáceres Rodríguez"
          ],
          [
           "Patrick Herrmann"
          ],
          [
           "Iván Calero Ruiz"
          ],
          [
           "Mert Kömür"
          ],
          [
           "Lorenzo Di Stefano"
          ],
          [
           "Filippo Romagna"
          ],
          [
           "Manolo Portanova"
          ],
          [
           "Tyler Roberts"
          ],
          [
           "Joe Rothwell"
          ],
          [
           "Mark Travers"
          ],
          [
           "Flávio Basilua Jacinto Nazinho"
          ],
          [
           "Benji Michel"
          ],
          [
           "Théo Barbet"
          ],
          [
           "Luca Maniero"
          ],
          [
           "Julien Fontaine Ngoy Bin Cibambi"
          ],
          [
           "Kalifa Coulibaly"
          ],
          [
           "Cláudio Winck Neto"
          ],
          [
           "Lucas Ariel Ocampos"
          ],
          [
           "Patrick Vroegh"
          ],
          [
           "Borja Mayoral Moya"
          ],
          [
           "Tan Kenneth Jerico Schmidt"
          ],
          [
           "Alessandro Sorrentino"
          ],
          [
           "Reno Münz"
          ],
          [
           "Thomas Dickson-Peters"
          ],
          [
           "Sergio Postigo Redondo"
          ],
          [
           "Pietro Pellegri"
          ],
          [
           "Oliver Hüsing"
          ],
          [
           "Neal Maupay"
          ],
          [
           "Joseph Oluwaseyi Temitope Ayodele-Aribo"
          ],
          [
           "Lenny Vallier"
          ],
          [
           "Matteo Grandi"
          ],
          [
           "Cristian Daniel Ansaldi"
          ],
          [
           "Calvin Marc Brackelmann"
          ],
          [
           "Tom Lees"
          ],
          [
           "Alexandre Lacazette"
          ],
          [
           "Anastasios Chatzigiovanis"
          ],
          [
           "Youssef Aït Bennasser"
          ],
          [
           "Franck Surdez"
          ],
          [
           "Ali Ibrahim Karim Ali Al-Hamadi"
          ],
          [
           "Max Herrmann"
          ],
          [
           "Andrea Sala"
          ],
          [
           "Fabian de Keijzer"
          ],
          [
           "Mattias Olof Svanberg"
          ],
          [
           "Vinicius Silvestre da Costa"
          ],
          [
           "Isaak Davies"
          ],
          [
           "Kamarai Simon-Swyer"
          ],
          [
           "Stanislav Kritsyuk"
          ],
          [
           "José Luís Mendes Andrade"
          ],
          [
           "Papa Amadou Diallo"
          ],
          [
           "Bahadır Han Güngördü"
          ],
          [
           "Shea Charles"
          ],
          [
           "Hugo Duro Perales"
          ],
          [
           "Yerson Mosquera Valdelamar"
          ],
          [
           "Javier Castro Urdín"
          ],
          [
           "Rafael Tolói"
          ],
          [
           "Nicolas N'Koulou"
          ],
          [
           "Domingos André Ribeiro Almeida"
          ],
          [
           "Marcelino Ignacio Nuñez Espinoza"
          ],
          [
           "Billy Gilmour"
          ],
          [
           "Rafael Obrador Burguera"
          ],
          [
           "Mads Frøkjær-Jensen"
          ],
          [
           "Karlo Lulić"
          ],
          [
           "Lucas Tolentino Coelho de Lima"
          ],
          [
           "Nicolás González Iglesias"
          ],
          [
           "Roberto Insigne"
          ],
          [
           "Andreas Müller"
          ],
          [
           "Júlio Augusto Dabó"
          ],
          [
           "Ahmed Musa"
          ],
          [
           "Quinten Ryan Crispito Timber"
          ],
          [
           "Micah Hamilton"
          ],
          [
           "Mike Hauptmeijer"
          ],
          [
           "Bram van Polen"
          ],
          [
           "Valentin André Henri Rosier"
          ],
          [
           "Paweł Marek Dawidowicz"
          ],
          [
           "Manfredi Nespola"
          ],
          [
           "本間 至恩"
          ],
          [
           "Jorge Pascual Medina"
          ],
          [
           "Jens Dalsgaard Stage"
          ],
          [
           "Myles Lewis-Skelly"
          ],
          [
           "Ismail Achik"
          ],
          [
           "Abat Aymbetov"
          ],
          [
           "Yannik Bangsow"
          ],
          [
           "Hubert Dawid Idasiak"
          ],
          [
           "Luke McNally"
          ],
          [
           "Timothy Chandler"
          ],
          [
           "Carlo Johan Holse Justesen"
          ],
          [
           "Roberto Maximiliano Pereyra"
          ],
          [
           "Pablo Íñiguez de Heredia Larraz"
          ],
          [
           "Mateusz Łęgowski"
          ],
          [
           "Benson Manuel Hedilazio"
          ],
          [
           "Maximilian Beier"
          ],
          [
           "Morgan Guilavogui"
          ],
          [
           "Jovan Manev"
          ],
          [
           "Arnaud Lusamba"
          ],
          [
           "Logan Delaurier-Chaubet"
          ],
          [
           "Filippo Veneran"
          ],
          [
           "Givairo Read"
          ],
          [
           "Kazımcan Karataş"
          ],
          [
           "Nachon Nsingi"
          ],
          [
           "Leo Greiml"
          ],
          [
           "Evan Eghosa"
          ],
          [
           "Yannik Keitel"
          ],
          [
           "Yassine Kechta"
          ],
          [
           "Jamiro Gregory Monteiro Alvarenga"
          ],
          [
           "Samuel Bamba"
          ],
          [
           "Kouassi Ryan Sessegnon"
          ],
          [
           "Elias Cobbaut"
          ],
          [
           "Domilson Cordeiro dos Santos"
          ],
          [
           "Nathan Wood-Gordon"
          ],
          [
           "Gabriel Slonina"
          ],
          [
           "Fernando Pérez Morillo"
          ],
          [
           "Aitor Ruibal García"
          ],
          [
           "Halid Šabanović"
          ],
          [
           "Can Keleş"
          ],
          [
           "Emir Karic"
          ],
          [
           "Hamjatou Soukouna"
          ],
          [
           "Vivaldo Leandro Semedo Moura Sousa"
          ],
          [
           "Jules Olivier Ntcham"
          ],
          [
           "Cristiano Biraghi"
          ],
          [
           "Andrew Robertson"
          ],
          [
           "Serif Nhaga"
          ],
          [
           "Dean Huijsen"
          ],
          [
           "Carlos Dominguez Cáceres"
          ],
          [
           "Gianfranco Gazzaniga Farías"
          ],
          [
           "Benjamin Chrisene"
          ],
          [
           "Mark Flekken"
          ],
          [
           "Víctor Wehbi Aznar Ussen"
          ],
          [
           "Rodrygo Silva de Goes"
          ],
          [
           "Riccardo Calafiori"
          ],
          [
           "Alaaddin Okumuş"
          ],
          [
           "Maximilian Wöber"
          ],
          [
           "Thomas Goiginger"
          ],
          [
           "Francisco Femenía Far"
          ],
          [
           "Milan Đurić"
          ],
          [
           "Liam Kelly"
          ],
          [
           "Mustafa Tan"
          ],
          [
           "Ismaïla Sarr"
          ],
          [
           "David Datro Fofana"
          ],
          [
           "Daniel Olmo Carvajal"
          ],
          [
           "Jean Felipe Nogueira da Silva"
          ],
          [
           "Nikola Šipčić"
          ],
          [
           "Daniël Virginio Deen"
          ],
          [
           "Simon Graves Jensen"
          ],
          [
           "Kenny Joelle Tete"
          ],
          [
           "Ben Doak"
          ],
          [
           "Jordi Masip López"
          ],
          [
           "Karol Borys"
          ],
          [
           "Joe Johnson"
          ],
          [
           "Miguel Filipe Nunes Cardoso"
          ],
          [
           "Valentin Henry"
          ],
          [
           "Noel Futkeu"
          ],
          [
           "Francisco Jesús Crespo García"
          ],
          [
           "Alberto Hórreo Taveras"
          ],
          [
           "Sergi Gómez Solà"
          ],
          [
           "Jean-Ricner Bellegarde"
          ],
          [
           "Côme Bianay Balcot"
          ],
          [
           "Johannes Dörfler"
          ],
          [
           "Gonzalo Aguilar López"
          ],
          [
           "Kianz González-Froese"
          ],
          [
           "Ivan Prtajin"
          ],
          [
           "Salis Abdul Samed"
          ],
          [
           "Abdul Fatawu Issahaku"
          ],
          [
           "Paulo Dino Gazzaniga"
          ],
          [
           "Laureano Antonio Villa Suárez"
          ],
          [
           "アペルカンプ 真大 カール"
          ],
          [
           "Andrea Danzi"
          ],
          [
           "Mark Alexander McKenzie"
          ],
          [
           "Craig Dawson"
          ],
          [
           "Moussa Cissé"
          ],
          [
           "Robin Fellhauer"
          ],
          [
           "Marco van Ginkel"
          ],
          [
           "Finn Jeltsch"
          ],
          [
           "Ridgeciano Delano Haps"
          ],
          [
           "Gilberto Dambi Batista"
          ],
          [
           "Benjamin Bouchouari"
          ],
          [
           "Lionel Mpasi-Nzau"
          ],
          [
           "Kieffer Roberto Francisco Moore"
          ],
          [
           "Leonardo Bonucci"
          ],
          [
           "Antoine Joujou"
          ],
          [
           "William Anthony Patrick Smallbone"
          ],
          [
           "Salomon Abergel"
          ],
          [
           "Soufiane Bidaoui"
          ],
          [
           "Fabian Tait"
          ],
          [
           "Fabio Cristian Chiarodia"
          ],
          [
           "Nathan Michael Collins"
          ],
          [
           "Shane Kevin Ferguson"
          ],
          [
           "Antonio-Mirko Čolak"
          ],
          [
           "Daniel Esmorís Tasende"
          ],
          [
           "Garissone Innocent"
          ],
          [
           "Lucas Cañizares Conchello"
          ],
          [
           "Soner Gönül"
          ],
          [
           "Jacques Ekomié"
          ],
          [
           "Rayyan Baniya"
          ],
          [
           "Andreas Schjølberg Hanche-Olsen"
          ],
          [
           "Romelu Lukaku Menama"
          ],
          [
           "Víctor Andrés Meseguer Cavas"
          ],
          [
           "David Olatukunbo Alaba"
          ],
          [
           "Dimitrios Kourmpelis"
          ],
          [
           "Reinildo Isnard Mandava"
          ],
          [
           "Saad Agouzoul"
          ],
          [
           "Gleison Bremer Silva Nascimento"
          ],
          [
           "Yira Collins Sor"
          ],
          [
           "Hernâni Infande Tchuda da Silva"
          ],
          [
           "Victor Christoffer Jensen"
          ],
          [
           "Ezechiel Fiemawhle"
          ],
          [
           "Iker Muñoz Cameros"
          ],
          [
           "Mory Gbane"
          ],
          [
           "Fidel Chaves de la Torre"
          ],
          [
           "Bryan Lasme"
          ],
          [
           "Tiemoué Bakayoko"
          ],
          [
           "Hamari Traoré"
          ],
          [
           "Žan Rogelj"
          ],
          [
           "Daniel Heuer Fernandes"
          ],
          [
           "Karim-David Adeyemi"
          ],
          [
           "Niccolò Pisilli"
          ],
          [
           "室屋 成"
          ],
          [
           "Raphaël Eyongo"
          ],
          [
           "Fermín López Marín"
          ],
          [
           "Gerónimo Rulli"
          ],
          [
           "Pierre Patron"
          ],
          [
           "Nathaniel Brown"
          ],
          [
           "Andrea Cecchetto"
          ],
          [
           "Hamdi Akujobi"
          ],
          [
           "Kaide Gordon"
          ],
          [
           "Raúl Parra Artal"
          ],
          [
           "Charilaos Charisis"
          ],
          [
           "Joel Leandro Ordóñez Guerrero"
          ],
          [
           "Jorge Mier Martínez"
          ],
          [
           "Kevin Vogt"
          ],
          [
           "Christopher Antwi-Adjei"
          ],
          [
           "Ludovic Blas"
          ],
          [
           "Daniel Parejo Muñoz"
          ],
          [
           "Chiedozie Ogbene"
          ],
          [
           "Juan Gutiérrez Martínez"
          ],
          [
           "Gonzalo Villar del Fraile"
          ],
          [
           "Håvard Kallevik Nielsen"
          ],
          [
           "Vasilis Cornelius Barkas"
          ],
          [
           "Tomáš Kalas"
          ],
          [
           "Fredrik Oppegård"
          ],
          [
           "Grejohn Kyei"
          ],
          [
           "Ahmed Kashi"
          ],
          [
           "Achraf Laâziri"
          ],
          [
           "Riccardo Orsolini"
          ],
          [
           "Leopold Wahlstedt"
          ],
          [
           "Juan Antonio Delgado Baeza"
          ],
          [
           "Yunus Emre Konak"
          ],
          [
           "Alexander Hartmann Bah"
          ],
          [
           "Nahuel Noll"
          ],
          [
           "Samuel John Bell"
          ],
          [
           "Memphis Depay"
          ],
          [
           "Johny Placide"
          ],
          [
           "Deivid W. de Souza Eugênio"
          ],
          [
           "Paul Seguin"
          ],
          [
           "Harry Leonard"
          ],
          [
           "Cauley Woodrow"
          ],
          [
           "André de Castro Pereira"
          ],
          [
           "Mattia Caldara"
          ],
          [
           "Robson Alves de Barros"
          ],
          [
           "Sergio Arribas Prieto"
          ],
          [
           "Nicolò Casale"
          ],
          [
           "Dominic Calvert-Lewin"
          ],
          [
           "Mamadou Diakhon"
          ],
          [
           "Lukas Kunze"
          ],
          [
           "Bart Vriends"
          ],
          [
           "Emmanuel Kouadio Koné"
          ],
          [
           "Lucas Buades"
          ],
          [
           "Ousmane Diomande"
          ],
          [
           "Alessandro Pilati"
          ],
          [
           "Davide Balestrero"
          ],
          [
           "Lorenzo Venuti"
          ],
          [
           "Vetle Winger Dragsnes"
          ],
          [
           "Mohamed Naser Elsayed Elneny"
          ],
          [
           "Alexander Isak"
          ],
          [
           "Rikelmi Valentim dos Santos"
          ],
          [
           "Christiaan Ravych"
          ],
          [
           "Faïz Mattoir"
          ],
          [
           "Ragnar Oratmangoen"
          ],
          [
           "Petko Hristov"
          ],
          [
           "Bryan Blanco"
          ],
          [
           "Héctor Junior Firpo Adamés"
          ],
          [
           "Stefan de Vrij"
          ],
          [
           "Tymoteusz Puchacz"
          ],
          [
           "Rune Paeshuyse"
          ],
          [
           "Filippo Lorenzo Sgarbi"
          ],
          [
           "Stanislav Lobotka"
          ],
          [
           "Alejandro Baena Rodríguez"
          ],
          [
           "Joe White"
          ],
          [
           "Benjamin Lhassine Kone"
          ],
          [
           "Filippo Distefano"
          ],
          [
           "Bingourou Kamara"
          ],
          [
           "Gnantin Yann Gboho"
          ],
          [
           "Milos Kerkez"
          ],
          [
           "Nuno Miguel Gomes dos Santos"
          ],
          [
           "Jan Hendrik Marx"
          ],
          [
           "Alen Halilović"
          ],
          [
           "Cristian Ioan Ponde"
          ],
          [
           "Philippe Paulin Keny"
          ],
          [
           "Jannik Huth"
          ],
          [
           "Nuno Miguel Reis Lima"
          ],
          [
           "Omar Haktab Traoré"
          ],
          [
           "Iván Azón Monzón"
          ],
          [
           "Wilfried Stephane Singo"
          ],
          [
           "Luca Everink"
          ],
          [
           "Martín Zubimendi Ibáñez"
          ],
          [
           "Aleksandar Radovanović"
          ],
          [
           "Wesley Theodorus Hoedt"
          ],
          [
           "Jérémy Sebas"
          ],
          [
           "Cristian Esteban Gamboa Luna"
          ],
          [
           "Harvey Wiles-Richards"
          ],
          [
           "Airam Guzmán Castillo"
          ],
          [
           "Felipe Nicolás Avenatti Dovillabichus"
          ],
          [
           "Javier Sola Gascón"
          ],
          [
           "Kaan Ayhan"
          ],
          [
           "Tijjani Reijnders"
          ],
          [
           "Jayson Patrick Molumby"
          ],
          [
           "George Earthy"
          ],
          [
           "Antonio Zarzana Pérez"
          ],
          [
           "Okan Kocuk"
          ],
          [
           "Raúl De Tomás Gómez"
          ],
          [
           "Alessandro Vogliacco"
          ],
          [
           "Serkan Asan"
          ],
          [
           "Valentin Jacob"
          ],
          [
           "Francesco Ruberto"
          ],
          [
           "Elio Capradossi"
          ],
          [
           "Timo Becker"
          ],
          [
           "Doğukan Sinik"
          ],
          [
           "Delano Burgzorg"
          ],
          [
           "Niels Patrick Nkounkou"
          ],
          [
           "Tjaš Begić"
          ],
          [
           "Jasper Samooja"
          ],
          [
           "Brian Jepthe Bayeye"
          ],
          [
           "Xavier Quintillà Guasch"
          ],
          [
           "Harvey Lewis Barnes"
          ],
          [
           "Tristan Degreef"
          ],
          [
           "ルシアン リトバルスキー"
          ],
          [
           "Gernot Trauner"
          ],
          [
           "Abdul Manaf Nurudeen"
          ],
          [
           "Borja Iglesias Quintás"
          ],
          [
           "Samuel Obeng Gyabaa"
          ],
          [
           "Erdal Rakip"
          ],
          [
           "Jake Clarke-Salter"
          ],
          [
           "Benjamin Luke Woodburn"
          ],
          [
           "Omari Kellyman"
          ],
          [
           "Jonathan Howson"
          ],
          [
           "Pieter Gerkens"
          ],
          [
           "Alistair Edward McCann"
          ],
          [
           "Pablo Pérez Rico"
          ],
          [
           "Kaj de Rooij"
          ],
          [
           "İlkay Gündoğan"
          ],
          [
           "Wissam Ben Yedder"
          ],
          [
           "Ihlas Bebou"
          ],
          [
           "Can Bozdoğan"
          ],
          [
           "Syam Habib Ben Youssef"
          ],
          [
           "Michaël Bruno Dominique Cuisance"
          ],
          [
           "Onel Lázaro Hernández Mayea"
          ],
          [
           "Jorge Cuenca Barreno"
          ],
          [
           "Zach Muscat"
          ],
          [
           "Viktor Tobias Johansson"
          ],
          [
           "Paulo Bruno Exequiel Dybala"
          ],
          [
           "Gustavo Marques A. Santos"
          ],
          [
           "Adam Mayor"
          ],
          [
           "Ross Barkley"
          ],
          [
           "Rodrigo Mendoza Martinez"
          ],
          [
           "相馬 勇紀"
          ],
          [
           "Daniel Maldini"
          ],
          [
           "Laurent Abergel"
          ],
          [
           "Oscar Uddenäs"
          ],
          [
           "Alassane Alexandre Pléa"
          ],
          [
           "Junior Castello Lukeba"
          ],
          [
           "Kevin Volland"
          ],
          [
           "Marco Friedl"
          ],
          [
           "Rubén García Santos"
          ],
          [
           "Patrik Hrošovský"
          ],
          [
           "David Herold"
          ],
          [
           "Oihan Sancet Tirapu"
          ],
          [
           "Sergio Fernández Escobar"
          ],
          [
           "Gabriele Moncini"
          ],
          [
           "Dimitrios Sounas"
          ],
          [
           "Hirving Rodrigo Lozano Bahena"
          ],
          [
           "Seedy Jarju"
          ],
          [
           "Bradley Danger"
          ],
          [
           "Marcus Edwards"
          ],
          [
           "Jorge Giovani Zarfino Calandria"
          ],
          [
           "Kyle John McFadzean"
          ],
          [
           "Jayden Jezairo Braaf"
          ],
          [
           "Rafael Tavares Gomes Fernandes"
          ],
          [
           "Mile Svilar"
          ],
          [
           "Jacob Brown"
          ],
          [
           "Pol Lozano Vizuete"
          ],
          [
           "Régis Gurtner"
          ],
          [
           "Aaron Seydel"
          ],
          [
           "Joshua Wilson-Esbrand"
          ],
          [
           "Ivo Grbić"
          ],
          [
           "Thorgan Ganael Francis Hazard"
          ],
          [
           "Jack David Vincent Whatmough"
          ],
          [
           "Federico Tavernaro"
          ],
          [
           "Rick van Drongelen"
          ],
          [
           "Toma Bašić"
          ],
          [
           "中山 雄太"
          ],
          [
           "Luca Pandolfi"
          ],
          [
           "Claudio Andrés Bravo Muñoz"
          ],
          [
           "Anton Gaaei"
          ],
          [
           "Michele Camporese"
          ],
          [
           "Vitor Hugo Roque Ferreira"
          ],
          [
           "George Long"
          ],
          [
           "Umut Tohumcu"
          ],
          [
           "Matteo Ricci"
          ],
          [
           "Antonio Foti"
          ],
          [
           "Jaume Vicent Costa Jordá"
          ],
          [
           "Weston James Earl McKennie"
          ],
          [
           "Luca Pascal Schnellbacher"
          ],
          [
           "Albert Guðmundsson"
          ],
          [
           "Calum Chambers"
          ],
          [
           "Batuhan Çelik"
          ],
          [
           "Tommaso Cassandro"
          ],
          [
           "Alessio Vita"
          ],
          [
           "Xavier Chavalerin"
          ],
          [
           "Đorđe Nikolić"
          ],
          [
           "Lee Nicholls"
          ],
          [
           "Yassin Belkhdim"
          ],
          [
           "Sofyan Amrabat"
          ],
          [
           "Samuel Shashoua"
          ],
          [
           "Lion Lauberbach"
          ],
          [
           "Karl Sebastian Ring"
          ],
          [
           "Teddy Alloh"
          ],
          [
           "Isaac Hayden"
          ],
          [
           "Aritz Muguruza Peña"
          ],
          [
           "Stredair Appuah"
          ],
          [
           "Yakup Arda Kılıç"
          ],
          [
           "Osman Çelik"
          ],
          [
           "Norberto Bercique Gomes Betuncal"
          ],
          [
           "Jannes Luca Wieckhoff"
          ],
          [
           "Omar El Hilali"
          ],
          [
           "Pontus Almqvist"
          ],
          [
           "Griffin McDorman Yow"
          ],
          [
           "Igor Julio dos Santos de Paulo"
          ],
          [
           "Camiel Neghli"
          ],
          [
           "Michele Besaggio"
          ],
          [
           "Leo Sauer"
          ],
          [
           "Mehdi Jeannin"
          ],
          [
           "Levin Mete Öztunali"
          ],
          [
           "Otabek Shukurov"
          ],
          [
           "Volnei Feltes"
          ],
          [
           "Ion Nicolăescu"
          ],
          [
           "Danilo Luiz da Silva"
          ],
          [
           "Momodou Lamin Sonko"
          ],
          [
           "Jamie Paterson"
          ],
          [
           "Mahamé Siby"
          ],
          [
           "Ramy Bensebaini"
          ],
          [
           "Louis Mafouta"
          ],
          [
           "Giovanni Corradini"
          ],
          [
           "Filip Stevanović"
          ],
          [
           "Derensili Sanches Fernandes"
          ],
          [
           "Tim-Henry Handwerker"
          ],
          [
           "Nicola Bagnolini"
          ],
          [
           "Simon Désiré Sylvanus Deli"
          ],
          [
           "Jairo Izquierdo González"
          ],
          [
           "Manor Solomon"
          ],
          [
           "Bernardo de Souza"
          ],
          [
           "Javier Hernández Coarasa"
          ],
          [
           "長谷 部誠"
          ],
          [
           "Moritz-Broni Kwarteng"
          ],
          [
           "Jose Luís García Vayá"
          ],
          [
           "Riccardo Sottil"
          ],
          [
           "Lewis Harry Holtby"
          ],
          [
           "Giuseppe Aurelio"
          ],
          [
           "Yvann Maçon"
          ],
          [
           "Alfie Jones"
          ],
          [
           "Hakan Arslan"
          ],
          [
           "Tiago Emanuel Embaló Djaló"
          ],
          [
           "Abdallah Ndour"
          ],
          [
           "Facundo Esnáider Ruiz"
          ],
          [
           "Helton Brant Aleixo Leite"
          ],
          [
           "Jesús Joaquín Fernández Sáez de la Torre"
          ],
          [
           "Ryan Trevitt"
          ],
          [
           "Ángel Alarcón Galiot"
          ],
          [
           "Gaetano Vittorio Masucci"
          ],
          [
           "Ali Alipour"
          ],
          [
           "Cengiz Ünder"
          ],
          [
           "Cristian Ignacio Herrera Pérez"
          ],
          [
           "Erdem Canpolat"
          ],
          [
           "Mehdi Zeffane"
          ],
          [
           "Toon Raemaekers"
          ],
          [
           "Joarlem Batista Santos"
          ],
          [
           "Tygo Land"
          ],
          [
           "Vladimír Coufal"
          ],
          [
           "Kylian Mbappé Lottin"
          ],
          [
           "Wilfried Zaha"
          ],
          [
           "Janio Bikel Figueiredo da Silva"
          ],
          [
           "Bastien Meupiyou"
          ],
          [
           "Marcos Aoás Corrêa"
          ],
          [
           "Mujaid Sadick Aliu"
          ],
          [
           "Adrien Rabiot"
          ],
          [
           "Giuseppe Caso"
          ],
          [
           "Florian Tristan Mariano Thauvin"
          ],
          [
           "Nathan Ferguson"
          ],
          [
           "Taylor Foran"
          ],
          [
           "David Nicolás Andrade"
          ],
          [
           "Lucas Martínez Quarta"
          ],
          [
           "Charles Traoré"
          ],
          [
           "Cameron Pring"
          ],
          [
           "Boubakary Soumaré"
          ],
          [
           "Johann Berg Guðmunds­son"
          ],
          [
           "Andreas Bruus"
          ],
          [
           "Sebastian Andersson"
          ],
          [
           "Zinedine Ferhat"
          ],
          [
           "Carlos Augusto Zopolato Neves"
          ],
          [
           "Victor James Osimhen"
          ],
          [
           "Joe Gauci"
          ],
          [
           "Omari Giraud-Hutchinson"
          ],
          [
           "Mykhailo Mudryk"
          ],
          [
           "Olivier Deman"
          ],
          [
           "Alexandre Phliponeau"
          ],
          [
           "Nanitamo Jonathan Ikoné"
          ],
          [
           "Burak Öğür"
          ],
          [
           "Georg Strauch"
          ],
          [
           "Nikola Sekulov"
          ],
          [
           "Bartosz Białkowski"
          ],
          [
           "Nicolò Brighenti"
          ],
          [
           "Jake Vokins"
          ],
          [
           "Pierluigi Gollini"
          ],
          [
           "Dylan Williams"
          ],
          [
           "Júnior Udeme Pius"
          ],
          [
           "Borja García Freire"
          ],
          [
           "Tobi Adeyemo"
          ],
          [
           "Jean Thierry Lazare Amani"
          ],
          [
           "José Ángel Esmoris Tasende"
          ],
          [
           "Marvin Senaya"
          ],
          [
           "Anas Ouahim"
          ],
          [
           "Stefan Bajic"
          ],
          [
           "Samuel Gigot"
          ],
          [
           "Amadou Diawara"
          ],
          [
           "Mattia Viviani"
          ],
          [
           "Oscar Vilhelmsson"
          ],
          [
           "Rubén Sobrino Pozuelo"
          ],
          [
           "Derrick Arthur Köhn"
          ],
          [
           "Nicolò Bertola"
          ],
          [
           "Marek Rodák"
          ],
          [
           "Babajide David Akintola"
          ],
          [
           "Matondo-Merveille Papela"
          ],
          [
           "William Silva de Carvalho"
          ],
          [
           "Frank Lehmann"
          ],
          [
           "Juan Miranda González"
          ],
          [
           "Miguel Luís Pinto Veloso"
          ],
          [
           "Antony Iannarilli"
          ],
          [
           "Daley Sinkgraven"
          ],
          [
           "Marc-Oliver Kempf"
          ],
          [
           "Sergio Gómez Martín"
          ],
          [
           "Bennet Winter"
          ],
          [
           "Cristián Alexis Borja González"
          ],
          [
           "Théo Borne"
          ],
          [
           "Gian-Luca Waldschmidt"
          ],
          [
           "Luca Mazzitelli"
          ],
          [
           "Federico Barba"
          ],
          [
           "Damián Rodríguez Sousa"
          ],
          [
           "Doğucan Haspolat"
          ],
          [
           "Niall Nathan Michael Ennis"
          ],
          [
           "Teenage Lingani Hadebe"
          ],
          [
           "Giuseppe Pezzella"
          ],
          [
           "Sardar Azmoun"
          ],
          [
           "Salih Özcan"
          ],
          [
           "Pedro Chirivella Burgos"
          ],
          [
           "Merlin Röhl"
          ],
          [
           "Kaden Rodney"
          ],
          [
           "Nikola Moro"
          ],
          [
           "Marco Schuster"
          ],
          [
           "Sergio González Poirrier"
          ],
          [
           "Tim Breithaupt"
          ],
          [
           "Donyell Malen"
          ],
          [
           "Fábio Samuel Amorim Silva"
          ],
          [
           "Liam Henderson"
          ],
          [
           "Lewis O'Brien"
          ],
          [
           "Armando Izzo"
          ],
          [
           "Pierre-Emile Kordt Højbjerg"
          ],
          [
           "Nicolas Isimat-Mirin"
          ],
          [
           "Adedire Mebude"
          ],
          [
           "Hady Camara"
          ],
          [
           "Maximilian Eggestein"
          ],
          [
           "Christopher Jeffrey Richards"
          ],
          [
           "本 寛也"
          ],
          [
           "Quentin Daubin"
          ],
          [
           "Kristian Šekularac"
          ],
          [
           "Ousmane Dembélé"
          ],
          [
           "Oier Olazábal Paredes"
          ],
          [
           "Tidyane Diagouraga"
          ],
          [
           "Lukas Pinckert"
          ],
          [
           "Anwan Lawrence Nicholas"
          ],
          [
           "Stijn van Gassel"
          ],
          [
           "Iddrisu Baba Mohammed"
          ],
          [
           "Celestin De Schrevel"
          ],
          [
           "Christian Joel Sánchez Leal"
          ],
          [
           "Miguel Rebelo"
          ],
          [
           "Endri Çekiçi"
          ],
          [
           "Mats Lemmens"
          ],
          [
           "George Honeyman"
          ],
          [
           "Brahim Traoré"
          ],
          [
           "Murat Akşit"
          ],
          [
           "John McGinn"
          ],
          [
           "Kerim Çalhanoğlu"
          ],
          [
           "Jean Butez"
          ],
          [
           "Bilal Nadir"
          ],
          [
           "Emil Alfons Holm"
          ],
          [
           "Anouar El Azzouzi"
          ],
          [
           "Gautier Lloris"
          ],
          [
           "Florian Richard Wirtz"
          ],
          [
           "Filipe Miguel Barros Soares"
          ],
          [
           "Carlos Vinícius Santos de Jesús"
          ],
          [
           "Michael John Smith"
          ],
          [
           "Cengiz Demir"
          ],
          [
           "Remi Matthews"
          ],
          [
           "Paul Nebel"
          ],
          [
           "Milad Mohammadi Keshmarzi"
          ],
          [
           "Abdel Hakim Abdallah"
          ],
          [
           "Assane Diao Diaoune"
          ],
          [
           "Harry Kane"
          ],
          [
           "Jamie Knight-Lebel"
          ],
          [
           "Adam Buksa"
          ],
          [
           "Eray Korkmaz"
          ],
          [
           "Mats Rits"
          ],
          [
           "Sergiño Gianni Dest"
          ],
          [
           "Krzysztof Piątek"
          ],
          [
           "Thibo Somers"
          ],
          [
           "Lorenzo Andrenacci"
          ],
          [
           "Bernabé Barragán Maestre"
          ],
          [
           "João Pedro Junqueira de Jesus"
          ],
          [
           "Simone Giordano"
          ],
          [
           "Mamadou Fofana"
          ],
          [
           "Enzo Camille Alain Millot"
          ],
          [
           "Bruno Miguel Semedo Varela"
          ],
          [
           "Kamal Sowah"
          ],
          [
           "Flavio Junior Bianchi"
          ],
          [
           "Fabricio Rosario Dos Santos"
          ],
          [
           "Tony Strata"
          ],
          [
           "Sebastian Rode"
          ],
          [
           "Teddy Boulhendi"
          ],
          [
           "Sofiane Diop"
          ],
          [
           "Philipp Förster"
          ],
          [
           "João Pedro Loureiro da Costa"
          ],
          [
           "Emre Bekir"
          ],
          [
           "Miguel Raimundo Nóbrega"
          ],
          [
           "Loic Williams Ntambue Kayumba"
          ],
          [
           "Robin Bird"
          ],
          [
           "Bakary Haidara"
          ],
          [
           "Raffaele Cartano"
          ],
          [
           "Abdoulie Sanyang"
          ],
          [
           "Salvador Sánchez Ponce"
          ],
          [
           "Víctor Chust García"
          ],
          [
           "Iker Bravo Solanilla"
          ],
          [
           "Gonçalo Baptista Franco"
          ],
          [
           "Nikola Milenković"
          ],
          [
           "Akinlolu Richard Olamide Famewo"
          ],
          [
           "Artur Ioniță"
          ],
          [
           "Raheem Conte"
          ],
          [
           "Jan-Niklas Beste"
          ],
          [
           "Michail Antonio"
          ],
          [
           "Silvan Dominic Widmer"
          ],
          [
           "Leart Paqarada"
          ],
          [
           "Alexandre Roger Oukidja"
          ],
          [
           "Dorukhan Toköz"
          ],
          [
           "Borja Sainz Eguskiza"
          ],
          [
           "João Rodrigo Pereira Escoval"
          ],
          [
           "Đorđe Petrović"
          ],
          [
           "Richie Mamah Laryea"
          ],
          [
           "Pietro Beruatto"
          ],
          [
           "Martin Turk"
          ],
          [
           "Rayan Ny Aina Arnaldo Raveloson"
          ],
          [
           "Sandro Plínio Rosa da Cruz"
          ],
          [
           "Mateusz Praszelik"
          ],
          [
           "Enes Ünal"
          ],
          [
           "Gustavo Fabrice Sangaré"
          ],
          [
           "Blendi Idrizi"
          ],
          [
           "Alex Král"
          ],
          [
           "Pablo Marí Villar"
          ],
          [
           "Sha'mar Lawson"
          ],
          [
           "Leon Bell Bell"
          ],
          [
           "Pedro Nuno Almeida Pinho"
          ],
          [
           "Sofian Kiyine"
          ],
          [
           "Daniel Andrés Luna García"
          ],
          [
           "Fabio Andrea Ruggeri"
          ],
          [
           "Ruslan Malinovskyi"
          ],
          [
           "Lars Edi Stindl"
          ],
          [
           "Boris Tomiak"
          ],
          [
           "Jorge Miramón Santagertrudis"
          ],
          [
           "Marco André da Silva Lopes Matias"
          ],
          [
           "Cebrail Karayel"
          ],
          [
           "Grant Hall"
          ],
          [
           "Iker Muniain Goñi"
          ],
          [
           "Fabian Nürnberger"
          ],
          [
           "Patrick Erras"
          ],
          [
           "Franck Honorat"
          ],
          [
           "Alfonso Pastor Vacas"
          ],
          [
           "Jannik Dehm"
          ],
          [
           "Nikola Vasilj"
          ],
          [
           "Alejandro Quevedo Barber"
          ],
          [
           "David López Guijarro"
          ],
          [
           "Erik Pieters"
          ],
          [
           "Amine Harit"
          ],
          [
           "Finn Gilbert Dahmen"
          ],
          [
           "İbrahim Akdağ"
          ],
          [
           "Ager Aketxe Barrutia"
          ],
          [
           "Lassana Diabaté"
          ],
          [
           "Eneko Ortiz Díaz"
          ],
          [
           "Rubén Alcaraz Jiménez"
          ],
          [
           "Jérémy Mellot"
          ],
          [
           "Javier Alonso Bello"
          ],
          [
           "Joris Chotard"
          ],
          [
           "Steven Skrzybski"
          ],
          [
           "Aitor Córdoba Querejeta"
          ],
          [
           "Romain Thomas"
          ],
          [
           "Mert Müldür"
          ],
          [
           "Julian Börner"
          ],
          [
           "Bryan Gil Salvatierra"
          ],
          [
           "Ahmed Touba"
          ],
          [
           "Robert Kampa"
          ],
          [
           "Adrià Miquel Bosch Sanchis"
          ],
          [
           "Jake Livermore"
          ],
          [
           "Elliott Anderson"
          ],
          [
           "Jochem van de Kamp"
          ],
          [
           "Davide Frattesi"
          ],
          [
           "Marcos Peña Ocaña"
          ],
          [
           "Óscar Clemente Mues"
          ],
          [
           "Diego López Noguerol"
          ],
          [
           "Williot Theo Swedberg"
          ],
          [
           "Pablo Torre Carral"
          ],
          [
           "Julio César Enciso Espínola"
          ],
          [
           "Niels Devalckeneer"
          ],
          [
           "Daniele Ghilardi"
          ],
          [
           "Jordan Semedo"
          ],
          [
           "Danilo dos Santos de Oliveira"
          ],
          [
           "Gonzalo Ávila Gordón"
          ],
          [
           "Djakaridja Junior Traoré"
          ],
          [
           "Armel Bella Kotchap"
          ],
          [
           "Hayden Carter"
          ],
          [
           "Lander Olaetxea Ibaibarriaga"
          ],
          [
           "Daley Blind"
          ],
          [
           "Rafael Jiménez Jarque"
          ],
          [
           "Ajdin Hrustić"
          ],
          [
           "Marius Mouandilmadji"
          ],
          [
           "Javier Puado Díaz"
          ],
          [
           "Florian Loshaj"
          ],
          [
           "Ajibola Alese"
          ],
          [
           "Marcus Tavernier"
          ],
          [
           "Granit Xhaka"
          ],
          [
           "João Manuel Neves Virgínia"
          ],
          [
           "Tim Schleinitz"
          ],
          [
           "Siemen Buvé"
          ],
          [
           "Florent Mollet"
          ],
          [
           "Rijad Smajić"
          ],
          [
           "Osaze Urhoghide"
          ],
          [
           "Aster Jan Vranckx"
          ],
          [
           "Loizos Loizou"
          ],
          [
           "Valerio Mastrantonio"
          ],
          [
           "Dimitrios Pelkas"
          ],
          [
           "Emanuel Vignato"
          ],
          [
           "Mostafa Mohamed Ahmed Abdallah"
          ],
          [
           "Jonathan de Guzmán"
          ],
          [
           "Alpaslan Öztürk"
          ],
          [
           "Ziyad Larkeche"
          ],
          [
           "Álvaro Odriozola Arzalluz"
          ],
          [
           "Gabriel Julien Dominique Barès"
          ],
          [
           "Kepa Arrizabalaga Revuelta"
          ],
          [
           "Charlie Casper"
          ],
          [
           "Théo Luis Fonseca"
          ],
          [
           "Paolo Rozzio"
          ],
          [
           "Unai López Cabrera"
          ],
          [
           "Mert Hakan Yandaş"
          ],
          [
           "Youssef Ramalho Chermiti"
          ],
          [
           "Tom Vandenberghe"
          ],
          [
           "Justin Antonius Lonwijk"
          ],
          [
           "Piotr Sebastian Zieliński"
          ],
          [
           "Tom Ducrocq"
          ],
          [
           "Jean-Charles Castelletto"
          ],
          [
           "Krépin Diatta"
          ],
          [
           "Thomas Christopher Cannon"
          ],
          [
           "Saúl García Cabrero"
          ],
          [
           "Jacopo Manconi"
          ],
          [
           "Nick Olij"
          ],
          [
           "Gonzalo Ariel Montiel"
          ],
          [
           "Diego Espinosa García"
          ],
          [
           "Jordan Yamoah Amissah"
          ],
          [
           "Javier Ontiveros Parra"
          ],
          [
           "Bonke Innocent"
          ],
          [
           "Axel Arthur Disasi"
          ],
          [
           "Aïman Maurer"
          ],
          [
           "Valdemiro Pinto Domingos"
          ],
          [
           "Serge David Gnabry"
          ],
          [
           "Mathis Hamdi"
          ],
          [
           "Mijo Caktaš"
          ],
          [
           "Dennis Geiger"
          ],
          [
           "Jonas Nickisch"
          ],
          [
           "Pietro Iemmello"
          ],
          [
           "Nobel Mendy"
          ],
          [
           "Salim Diakité"
          ],
          [
           "Martin Adeline"
          ],
          [
           "Elia Caprile"
          ],
          [
           "Max Rosenfelder"
          ],
          [
           "Mark Sykes"
          ],
          [
           "Kenneth Josiah Omeruo"
          ],
          [
           "Juan Ferney Otero Tovar"
          ],
          [
           "Robert Wagner"
          ],
          [
           "Matthew James Doherty"
          ],
          [
           "Kristoffer Paul Peterson"
          ],
          [
           "Rémy Boissier"
          ],
          [
           "Mattia Perin"
          ],
          [
           "Serdar Dursun"
          ],
          [
           "Dal Varešanović"
          ],
          [
           "Djenahro Nunumete"
          ],
          [
           "Zeki Yavru"
          ],
          [
           "Charlie Cresswell"
          ],
          [
           "Youri Regeer"
          ],
          [
           "Téva Gardies"
          ],
          [
           "Philana Tinotenda Kadewere"
          ],
          [
           "Sergio Guardiola Navarro"
          ],
          [
           "Maxime Chanot"
          ],
          [
           "William Balikwisha"
          ],
          [
           "Frederik Riis Rønnow"
          ],
          [
           "Giacomo Beretta"
          ],
          [
           "Bećir Omeragić"
          ],
          [
           "Álvaro Santamaría Arenas"
          ],
          [
           "Youri Baas"
          ],
          [
           "Benjamin André"
          ],
          [
           "Žan Majer"
          ],
          [
           "Emmanuel Afriyie Mario Sabbi"
          ],
          [
           "Darko Gyabi"
          ],
          [
           "Chris Anthony Willock"
          ],
          [
           "Han-Noah Massengo"
          ],
          [
           "Mario René Junior Lemina"
          ],
          [
           "Stijn Bultman"
          ],
          [
           "Anas Tahiri"
          ],
          [
           "Brandon Baiye"
          ],
          [
           "João Victor Tornich"
          ],
          [
           "Stipe Biuk"
          ],
          [
           "Auston Levi-Jesaiah Trusty"
          ],
          [
           "Álvaro Vadillo Cifuentes"
          ],
          [
           "Anthony Oyono Omva Torque"
          ],
          [
           "Murillo Costa dos Santos"
          ],
          [
           "Joelson Augusto Mendes Mango Fernandes"
          ],
          [
           "Lucas Estella Perri"
          ],
          [
           "Kwadwo Kyeremeh Baah"
          ],
          [
           "Ander Guevara Lajo"
          ],
          [
           "George Tanner"
          ],
          [
           "Francesco Amatucci"
          ],
          [
           "Mikel Oyarzabal Ugarte"
          ],
          [
           "Alejandro Francés Torrijo"
          ],
          [
           "Matteo Gabbia"
          ],
          [
           "Tony Jantschke"
          ],
          [
           "Steven Fortes"
          ],
          [
           "Toluwalase Emmanuel Arokodare"
          ],
          [
           "Jiří Pavlenka"
          ],
          [
           "Ionuț Nedelcearu"
          ],
          [
           "Luis Federico López Andúgar"
          ],
          [
           "Giovanni Crociata"
          ],
          [
           "Daniel Raba Antolin"
          ],
          [
           "Jean Michaël Seri"
          ],
          [
           "Miguel de la Fuente Escudero"
          ],
          [
           "Corentin Michel"
          ],
          [
           "Sammy Braybrooke"
          ],
          [
           "Andrew Hughes"
          ],
          [
           "Germán Fernández Hidalgo"
          ],
          [
           "Juan Manuel Bravo Alcántara"
          ],
          [
           "Djeidi Gassama"
          ],
          [
           "Marcos Alonso Mendoza"
          ],
          [
           "Luca Zinedine Zidane"
          ],
          [
           "Christian Kabasele"
          ],
          [
           "Javier Garrido López"
          ],
          [
           "Miguel Ângelo Gomes Ferreira Magalhães"
          ],
          [
           "Scott Brian Banks"
          ],
          [
           "Perry Ng Tian-Hee"
          ],
          [
           "João Filipe Iria Santos Moutinho"
          ],
          [
           "Luca Pfeiffer"
          ],
          [
           "Gino Fechner"
          ],
          [
           "Adrion Pajaziti"
          ],
          [
           "Efecan Karaca"
          ],
          [
           "Rob Holding"
          ],
          [
           "Jamie William Lindsay"
          ],
          [
           "Iñigo Vicente Elorduy"
          ],
          [
           "Fabiano Josué de Souza Silva"
          ],
          [
           "Jordi Mboula Queralt"
          ],
          [
           "Deniz Dilmen"
          ],
          [
           "Loïc Mbe Soh"
          ],
          [
           "Phillipp Klement"
          ],
          [
           "Timon Vanhoutte"
          ],
          [
           "Niklas Bernd Dorsch"
          ],
          [
           "Arthur Atta"
          ],
          [
           "Nathaniel Chalobah"
          ],
          [
           "Caio Henrique Oliveira Silva"
          ],
          [
           "Anssumane Fati"
          ],
          [
           "Søren Tengstedt"
          ],
          [
           "Marcus Vinícius Oliveira Alencar"
          ],
          [
           "Diego José Conde Alcolado"
          ],
          [
           "Afonso Bastardo Moreira"
          ],
          [
           "Matéo Loubatières"
          ],
          [
           "Andrea Colpani"
          ],
          [
           "Michael Simões Domingues"
          ],
          [
           "Ayman Aiki"
          ],
          [
           "Charlie Patino"
          ],
          [
           "Sven Ulreich"
          ],
          [
           "Bryan Heynen"
          ],
          [
           "Marco Moreno Ojeda"
          ],
          [
           "Mario Šitum"
          ],
          [
           "Dominick Drexler"
          ],
          [
           "Olimpiu Vasile Moruțan"
          ],
          [
           "Pep Biel Mas Jaume"
          ],
          [
           "Ghjuvanni Quilichini"
          ],
          [
           "Bruno Maximiliano Martins Indi"
          ],
          [
           "Rúben dos Santos Gato Alves Dias"
          ],
          [
           "Bogdan Milovanov"
          ],
          [
           "Oliver McBurnie"
          ],
          [
           "Pelle van Amersfoort"
          ],
          [
           "Leo Štulac"
          ],
          [
           "Pasquale Mazzocchi"
          ],
          [
           "Junior Tchamadeu"
          ],
          [
           "Bilal Bayazıt"
          ],
          [
           "Arda Güler"
          ],
          [
           "Isaac Ajayi Success"
          ],
          [
           "Jesús José Bernal Villarig"
          ],
          [
           "Jasper van der Werff"
          ],
          [
           "Vangelis Pavlidis"
          ],
          [
           "Antoine Batisse"
          ],
          [
           "Cédric Brunner"
          ],
          [
           "Edgar Badia Guardiola"
          ],
          [
           "Pablo Insua Blanco"
          ],
          [
           "Joshua Lloyd Ginnelly"
          ],
          [
           "Fodé Sylla"
          ]
         ],
         "hovertemplate": "Actual Salary=%{x}<br>Predicted Salary=%{y}<br>PlayerName=%{customdata[0]}<extra></extra>",
         "legendgroup": "",
         "marker": {
          "color": "#636efa",
          "symbol": "circle"
         },
         "mode": "markers",
         "name": "",
         "showlegend": false,
         "type": "scattergl",
         "x": [
          3000,
          36000,
          32000,
          2000,
          2000,
          20000,
          11000,
          5000,
          13000,
          28000,
          4000,
          3000,
          3000,
          3000,
          4000,
          3000,
          2000,
          5000,
          2000,
          3000,
          5000,
          90000,
          15000,
          15000,
          17000,
          16000,
          800,
          2000,
          8000,
          8000,
          5000,
          6000,
          27000,
          8000,
          950,
          4000,
          5000,
          60000,
          29000,
          1000,
          30000,
          8000,
          6000,
          1000,
          1000,
          8000,
          7000,
          19000,
          5000,
          36000,
          2000,
          10000,
          6000,
          4000,
          35000,
          2000,
          8000,
          250000,
          2000,
          61000,
          15000,
          38000,
          39000,
          2000,
          49000,
          27000,
          500,
          6000,
          22000,
          8000,
          1000,
          7000,
          4000,
          3000,
          28000,
          2000,
          5000,
          5000,
          900,
          4000,
          1000,
          2000,
          1000,
          12000,
          2000,
          14000,
          500,
          28000,
          2000,
          9000,
          165000,
          5000,
          700,
          88000,
          5000,
          4000,
          6000,
          4000,
          11000,
          7000,
          1000,
          3000,
          7000,
          6000,
          7000,
          3000,
          7000,
          2000,
          5000,
          6000,
          105000,
          7000,
          1000,
          5000,
          3000,
          7000,
          2000,
          5000,
          2000,
          105000,
          6000,
          1000,
          7000,
          20000,
          1000,
          25000,
          43000,
          11000,
          2000,
          1000,
          7000,
          2000,
          2000,
          2000,
          31000,
          15000,
          22000,
          3000,
          20000,
          2000,
          25000,
          17000,
          500,
          4000,
          3000,
          12000,
          19000,
          22000,
          11000,
          15000,
          79000,
          6000,
          15000,
          1000,
          80000,
          18000,
          15000,
          4000,
          2000,
          12000,
          36000,
          2000,
          78000,
          7000,
          15000,
          750,
          3000,
          3000,
          2000,
          2000,
          56000,
          59000,
          11000,
          64000,
          3000,
          6000,
          10000,
          4000,
          32000,
          15000,
          8000,
          2000,
          29000,
          12000,
          7000,
          10000,
          68000,
          1000,
          1000,
          14000,
          7000,
          5000,
          40000,
          2000,
          42000,
          15000,
          8000,
          500,
          4000,
          180000,
          10000,
          5000,
          3000,
          36000,
          12000,
          6000,
          4000,
          3000,
          24000,
          1000,
          130000,
          90000,
          2000,
          4000,
          3000,
          5000,
          1000,
          9000,
          600,
          5000,
          4000,
          30000,
          5000,
          2000,
          5000,
          2000,
          28000,
          750,
          6000,
          6000,
          8000,
          20000,
          500,
          21000,
          150000,
          16000,
          25000,
          10000,
          8000,
          3000,
          2000,
          2000,
          1000,
          500,
          34000,
          2000,
          20000,
          8000,
          1000,
          1000,
          13000,
          5000,
          78000,
          4000,
          3000,
          6000,
          5000,
          3000,
          5000,
          20000,
          4000,
          5000,
          6000,
          1000,
          3000,
          17000,
          8000,
          13000,
          2000,
          13000,
          2000,
          4000,
          2000,
          21000,
          5000,
          27000,
          7000,
          29000,
          25000,
          650,
          850,
          56000,
          7000,
          6000,
          12000,
          63000,
          13000,
          7000,
          650,
          3000,
          2000,
          15000,
          2000,
          130000,
          5000,
          2000,
          3000,
          9000,
          23000,
          7000,
          31000,
          1000,
          12000,
          3000,
          4000,
          9000,
          15000,
          500,
          60000,
          19000,
          500,
          3000,
          11000,
          2000,
          1000,
          9000,
          30000,
          7000,
          16000,
          58000,
          19000,
          4000,
          43000,
          105000,
          3000,
          2000,
          3000,
          10000,
          2000,
          26000,
          1000,
          13000,
          8000,
          750,
          24000,
          2000,
          500,
          4000,
          170000,
          3000,
          20000,
          500,
          500,
          32000,
          24000,
          2000,
          1000,
          7000,
          23000,
          2000,
          6000,
          16000,
          200000,
          900,
          9000,
          3000,
          1000,
          2000,
          44000,
          7000,
          49000,
          3000,
          3000,
          23000,
          20000,
          23000,
          4000,
          5000,
          11000,
          17000,
          7000,
          2000,
          5000,
          8000,
          3000,
          11000,
          7000,
          1000,
          3000,
          52000,
          22000,
          1000,
          12000,
          2000,
          3000,
          49000,
          5000,
          46000,
          600,
          950,
          25000,
          10000,
          5000,
          15000,
          18000,
          950,
          500,
          29000,
          1000,
          8000,
          31000,
          59000,
          15000,
          2000,
          8000,
          2000,
          3000,
          2000,
          13000,
          4000,
          150000,
          7000,
          18000,
          1000,
          8000,
          2000,
          17000,
          15000,
          90000,
          10000,
          850,
          13000,
          8000,
          1000,
          3000,
          850,
          1000,
          2000,
          2000,
          2000,
          500,
          5000,
          4000,
          53000,
          18000,
          2000,
          5000,
          9000,
          2000,
          7000,
          6000,
          5000,
          11000,
          5000,
          750,
          14000,
          14000,
          19000,
          31000,
          2000,
          1000,
          7000,
          11000,
          2000,
          18000,
          36000,
          17000,
          10000,
          7000,
          1000,
          16000,
          50000,
          2000,
          2000,
          17000,
          3000,
          1000,
          9000,
          15000,
          5000,
          5000,
          1000,
          4000,
          1000,
          4000,
          3000,
          14000,
          125000,
          7000,
          13000,
          3000,
          3000,
          1000,
          8000,
          14000,
          90000,
          1000,
          3000,
          3000,
          9000,
          3000,
          6000,
          2000,
          16000,
          51000,
          8000,
          6000,
          13000,
          4000,
          6000,
          12000,
          750,
          5000,
          800,
          16000,
          3000,
          26000,
          1000,
          31000,
          2000,
          11000,
          53000,
          2000,
          12000,
          20000,
          21000,
          1000,
          500,
          11000,
          3000,
          3000,
          11000,
          1000,
          1000,
          500,
          4000,
          22000,
          2000,
          40000,
          2000,
          4000,
          18000,
          5000,
          5000,
          1000,
          500,
          7000,
          23000,
          2000,
          7000,
          17000,
          500,
          7000,
          25000,
          2000,
          11000,
          105000,
          95000,
          22000,
          3000,
          25000,
          1000,
          9000,
          15000,
          8000,
          5000,
          2000,
          2000,
          5000,
          6000,
          11000,
          17000,
          500,
          4000,
          7000,
          4000,
          12000,
          3000,
          500,
          2000,
          2000,
          8000,
          18000,
          5000,
          33000,
          4000,
          2000,
          13000,
          14000,
          8000,
          43000,
          15000,
          4000,
          2000,
          2000,
          2000,
          68000,
          35000,
          6000,
          4000,
          14000,
          6000,
          550,
          7000,
          5000,
          1000,
          4000,
          18000,
          15000,
          13000,
          4000,
          500,
          500,
          21000,
          5000,
          2000,
          32000,
          14000,
          4000,
          18000,
          3000,
          10000,
          7000,
          12000,
          37000,
          5000,
          1000,
          26000,
          1000,
          1000,
          22000,
          22000,
          5000,
          110000,
          600,
          11000,
          3000,
          30000,
          7000,
          3000,
          7000,
          1000,
          1000,
          2000,
          37000,
          12000,
          500,
          43000,
          950,
          4000,
          3000,
          18000,
          1000,
          15000,
          4000,
          550,
          1000,
          6000,
          10000,
          6000,
          37000,
          22000,
          2000,
          2000,
          2000,
          700,
          6000,
          3000,
          11000,
          38000,
          2000,
          33000,
          6000,
          4000,
          500,
          5000,
          8000,
          13000,
          6000,
          36000,
          34000,
          1000,
          650,
          2000,
          4000,
          3000,
          51000,
          7000,
          7000,
          4000,
          4000,
          2000,
          700,
          2000,
          37000,
          3000,
          5000,
          7000,
          6000,
          6000,
          2000,
          3000,
          6000,
          29000,
          21000,
          2000,
          51000,
          8000,
          26000,
          19000,
          46000,
          13000,
          19000,
          2000,
          85000,
          9000,
          6000,
          9000,
          2000,
          6000,
          16000,
          11000,
          2000,
          4000,
          23000,
          22000,
          500,
          5000,
          2000,
          23000,
          2000,
          1000,
          3000,
          2000,
          3000,
          22000,
          19000,
          8000,
          20000,
          2000,
          6000,
          39000,
          23000,
          28000,
          3000,
          10000,
          2000,
          500,
          500,
          7000,
          4000,
          3000,
          850,
          13000,
          9000,
          13000,
          5000,
          49000,
          3000,
          39000,
          8000,
          10000,
          750,
          21000,
          2000,
          4000,
          10000,
          900,
          1000,
          10000,
          56000,
          170000,
          650,
          5000,
          10000,
          2000,
          7000,
          48000,
          3000,
          210000,
          16000,
          4000,
          39000,
          8000,
          22000,
          30000,
          11000,
          600,
          34000,
          43000,
          71000,
          4000,
          5000,
          850,
          2000,
          65000,
          4000,
          9000,
          500,
          500,
          9000,
          6000,
          5000,
          16000,
          1000,
          9000,
          51000,
          2000,
          4000,
          1000,
          5000,
          8000,
          27000,
          7000,
          25000,
          23000,
          16000,
          750,
          12000,
          55000,
          3000,
          4000,
          9000,
          500,
          3000,
          1000,
          2000,
          3000,
          34000,
          26000,
          5000,
          23000,
          500,
          5000,
          2000,
          2000,
          36000,
          5000,
          6000,
          2000,
          1000,
          15000,
          3000,
          2000,
          19000,
          23000,
          165000,
          10000,
          200000,
          35000,
          60000,
          4000,
          135000,
          9000,
          3000,
          5000,
          650,
          4000,
          2000,
          8000,
          6000,
          18000,
          36000,
          6000,
          19000,
          38000,
          3000,
          15000,
          1000,
          30000,
          16000,
          3000,
          8000,
          500,
          2000,
          7000,
          2000,
          8000,
          4000,
          2000,
          29000,
          20000,
          46000,
          54000,
          36000,
          1000,
          14000,
          16000,
          11000,
          8000,
          3000,
          14000,
          2000,
          4000,
          35000,
          10000,
          8000,
          500,
          15000,
          2000,
          7000,
          84000,
          1000,
          12000,
          9000,
          7000,
          23000,
          8000,
          27000,
          18000,
          2000,
          46000,
          44000,
          850,
          4000,
          6000,
          25000,
          2000,
          7000,
          1000,
          1000,
          11000,
          8000,
          71000,
          120000,
          3000,
          3000,
          1000,
          5000,
          2000,
          500,
          31000,
          86000,
          12000,
          2000,
          1000,
          78000,
          22000,
          10000,
          10000,
          5000,
          3000,
          10000,
          20000,
          20000,
          5000,
          10000,
          2000,
          7000,
          9000,
          4000,
          16000,
          4000,
          37000,
          1000,
          33000,
          10000,
          27000,
          3000,
          16000,
          2000,
          1000,
          7000,
          3000,
          32000,
          57000,
          17000,
          3000,
          4000,
          5000,
          24000,
          11000,
          10000,
          3000,
          1000,
          1000,
          12000,
          9000,
          14000,
          22000,
          850,
          750,
          6000,
          4000,
          115000,
          1000,
          1000,
          19000,
          2000,
          38000,
          5000,
          10000,
          9000,
          9000,
          1000,
          12000,
          13000,
          16000,
          6000,
          2000,
          220000,
          73000,
          36000,
          6000,
          3000,
          3000,
          19000,
          20000,
          3000,
          7000,
          130000,
          2000,
          3000,
          44000,
          800,
          7000,
          15000,
          21000,
          2000,
          29000,
          33000,
          40000,
          17000,
          31000,
          15000,
          7000,
          34000,
          900,
          4000,
          2000,
          27000,
          1000,
          2000,
          19000,
          4000,
          13000,
          7000,
          4000,
          20000,
          22000,
          5000,
          2000,
          11000,
          20000,
          24000,
          29000,
          15000,
          500,
          7000,
          37000,
          3000,
          1000,
          13000,
          4000,
          2000,
          44000,
          13000,
          5000,
          2000,
          4000,
          18000,
          68000,
          7000,
          29000,
          56000,
          2000,
          950,
          2000,
          7000,
          4000,
          6000,
          1000,
          53000,
          3000,
          6000,
          2000,
          1000,
          49000,
          1000,
          2000,
          2000,
          3000,
          49000,
          2000,
          3000,
          12000,
          2000,
          58000,
          2000,
          750,
          900,
          1000,
          15000,
          7000,
          3000,
          4000,
          100000,
          2000,
          18000,
          3000,
          47000,
          4000,
          500,
          17000,
          2000,
          6000,
          1000,
          8000,
          6000,
          68000,
          33000,
          1000,
          15000,
          12000,
          33000,
          44000,
          18000,
          2000,
          5000,
          9000,
          7000,
          61000,
          3000,
          3000,
          17000,
          38000,
          6000,
          22000,
          2000,
          4000,
          35000,
          8000,
          3000,
          7000,
          3000,
          3000,
          500,
          60000,
          230000,
          53000,
          6000,
          500,
          140000,
          11000,
          150000,
          9000,
          17000,
          8000,
          6000,
          1000,
          45000,
          3000,
          19000,
          31000,
          32000,
          2000,
          5000,
          7000,
          48000,
          100000,
          16000,
          3000,
          78000,
          14000,
          1000,
          51000,
          2000,
          3000,
          13000,
          6000,
          1000,
          6000,
          33000,
          7000,
          3000,
          22000,
          2000,
          13000,
          46000,
          10000,
          3000,
          4000,
          38000,
          14000,
          950,
          6000,
          25000,
          24000,
          700,
          47000,
          7000,
          7000,
          30000,
          2000,
          20000,
          3000,
          2000,
          13000,
          12000,
          64000,
          2000,
          11000,
          1000,
          38000,
          11000,
          4000,
          3000,
          4000,
          9000,
          8000,
          8000,
          56000,
          39000,
          20000,
          11000,
          2000,
          24000,
          7000,
          7000,
          10000,
          52000,
          7000,
          9000,
          35000,
          35000,
          100000,
          5000,
          1000,
          1000,
          23000,
          26000,
          10000,
          3000,
          6000,
          150000,
          4000,
          800,
          2000,
          4000,
          4000,
          24000,
          2000,
          2000,
          1000,
          7000,
          2000,
          22000,
          950,
          1000,
          90000,
          3000,
          26000,
          4000,
          3000,
          2000,
          13000,
          77000,
          700,
          10000,
          9000,
          2000,
          7000,
          9000,
          11000,
          2000,
          2000,
          170000,
          1000,
          31000,
          2000,
          22000,
          86000,
          20000,
          10000,
          2000,
          2000,
          52000,
          700,
          2000,
          16000,
          8000,
          14000,
          1000,
          7000,
          500,
          31000,
          5000,
          36000,
          16000,
          8000,
          2000,
          3000,
          2000,
          3000,
          550,
          600,
          2000,
          8000,
          21000,
          6000,
          6000,
          50000,
          5000,
          4000,
          2000,
          27000,
          71000,
          25000,
          18000,
          13000,
          13000,
          16000,
          2000,
          47000,
          34000,
          4000,
          500,
          5000,
          2000,
          7000,
          41000,
          2000,
          5000,
          27000,
          40000,
          3000,
          5000,
          1000,
          6000,
          6000,
          2000,
          30000,
          16000,
          7000,
          9000,
          3000,
          5000,
          6000,
          33000,
          14000,
          11000,
          29000,
          1000,
          10000,
          8000,
          1000,
          4000,
          20000,
          38000,
          18000,
          4000,
          11000,
          500,
          3000,
          30000,
          7000,
          3000,
          15000,
          19000,
          6000,
          4000,
          20000,
          9000,
          68000,
          12000,
          500,
          4000,
          17000,
          43000,
          950,
          22000,
          1000,
          3000,
          22000,
          7000,
          54000,
          24000,
          1000,
          3000,
          5000,
          44000,
          19000,
          3000,
          24000,
          18000,
          4000,
          26000,
          26000,
          5000,
          8000,
          12000,
          4000,
          9000,
          38000,
          74000,
          9000,
          1000,
          500,
          19000,
          2000,
          2000,
          26000,
          2000,
          750,
          19000,
          4000,
          23000,
          4000,
          5000,
          2000,
          27000,
          4000,
          90000,
          600,
          3000,
          1000,
          16000,
          21000,
          16000,
          6000,
          500,
          72000,
          2000,
          21000,
          36000,
          16000,
          5000,
          1000,
          9000,
          26000,
          500,
          2000,
          4000,
          12000,
          89000,
          2000,
          2000,
          82000,
          650,
          15000,
          27000,
          1000,
          3000,
          500,
          2000,
          3000,
          17000,
          5000,
          15000,
          7000,
          12000,
          6000,
          45000,
          7000,
          2000,
          73000,
          17000,
          5000,
          1000,
          3000,
          15000,
          3000,
          850,
          25000,
          22000,
          6000,
          6000,
          27000,
          1000,
          11000,
          1000,
          3000,
          35000,
          2000,
          10000,
          4000,
          14000,
          18000,
          68000,
          500,
          4000,
          2000,
          2000,
          4000,
          22000,
          5000,
          3000,
          20000,
          3000,
          24000,
          5000,
          21000,
          9000,
          950,
          54000,
          6000,
          33000,
          16000,
          2000,
          10000,
          17000,
          3000,
          1000,
          2000,
          10000,
          14000,
          14000,
          850,
          4000,
          17000,
          1000,
          3000,
          3000,
          105000,
          5000,
          10000,
          600,
          6000,
          6000,
          8000,
          11000,
          12000,
          4000,
          9000,
          14000,
          33000,
          5000,
          10000,
          6000,
          6000,
          500,
          15000,
          8000,
          1000,
          23000,
          3000,
          21000,
          48000,
          86000,
          2000,
          33000,
          5000,
          3000,
          600,
          45000,
          4000,
          550,
          18000,
          32000,
          18000,
          6000,
          2000,
          9000,
          9000,
          26000,
          650,
          9000,
          250000,
          3000,
          27000,
          4000,
          3000,
          36000,
          3000,
          5000,
          41000,
          14000,
          3000,
          6000,
          15000,
          2000,
          8000,
          9000,
          6000,
          17000,
          750
         ],
         "xaxis": "x",
         "y": [
          10644,
          32087,
          25542,
          5932,
          2674,
          15376,
          10929,
          6419,
          9890,
          15371,
          4279,
          5761,
          3680,
          2894,
          6132,
          3188,
          937,
          7188,
          1687,
          4420,
          6583,
          87688,
          21284,
          10139,
          22151,
          9091,
          5587,
          2446,
          11732,
          5403,
          5625,
          4300,
          7564,
          10304,
          1539,
          4631,
          4416,
          49316,
          25541,
          1277,
          29498,
          8282,
          4323,
          1990,
          1586,
          6602,
          6531,
          18629,
          4858,
          33580,
          3497,
          6826,
          4323,
          5447,
          31455,
          2330,
          10249,
          213021,
          6970,
          29093,
          11907,
          32143,
          32316,
          1979,
          63777,
          17547,
          56,
          5685,
          15853,
          9255,
          1307,
          7966,
          6515,
          2453,
          17681,
          1266,
          6908,
          4722,
          1160,
          6122,
          1594,
          1428,
          1645,
          14927,
          3605,
          13689,
          0,
          26047,
          1130,
          13468,
          184335,
          5412,
          745,
          86152,
          8298,
          6718,
          8298,
          6201,
          5706,
          9944,
          2651,
          4350,
          6679,
          5997,
          7636,
          3328,
          4026,
          2724,
          4964,
          2858,
          103634,
          11135,
          1796,
          3897,
          2931,
          5747,
          1131,
          6903,
          1726,
          98536,
          3922,
          1108,
          3748,
          16488,
          1389,
          20279,
          39297,
          11924,
          1435,
          2243,
          10689,
          1957,
          1503,
          2313,
          37220,
          19104,
          16274,
          2407,
          25871,
          4007,
          28255,
          13453,
          185,
          3387,
          3512,
          8018,
          41237,
          17369,
          10170,
          8094,
          86078,
          5778,
          21351,
          852,
          93312,
          31919,
          16753,
          5635,
          2190,
          21901,
          18416,
          3269,
          53320,
          8377,
          14811,
          1231,
          5554,
          3367,
          1726,
          4279,
          33977,
          72301,
          14901,
          65130,
          3220,
          5684,
          11016,
          5609,
          37144,
          13246,
          16061,
          1466,
          43424,
          11180,
          8321,
          10294,
          14954,
          1394,
          2225,
          15286,
          7909,
          5297,
          22745,
          2135,
          47380,
          11149,
          9262,
          122,
          4309,
          193280,
          13323,
          7736,
          4583,
          47087,
          10035,
          10584,
          13322,
          5090,
          26001,
          1042,
          91123,
          85304,
          2367,
          3642,
          3104,
          5229,
          556,
          7859,
          1015,
          7149,
          4998,
          35655,
          4660,
          2712,
          5279,
          873,
          38699,
          967,
          3540,
          7130,
          6984,
          14575,
          1271,
          36094,
          213128,
          17629,
          25397,
          7747,
          7644,
          8485,
          1137,
          902,
          1102,
          295,
          35136,
          1629,
          15730,
          9482,
          1541,
          996,
          7006,
          3806,
          78625,
          7776,
          2172,
          8554,
          4933,
          4815,
          5321,
          15621,
          3195,
          6914,
          3390,
          3817,
          8741,
          20799,
          11610,
          12853,
          4618,
          12258,
          4658,
          4778,
          996,
          28986,
          11677,
          20302,
          8632,
          23264,
          22532,
          681,
          987,
          64251,
          9552,
          7378,
          10048,
          61838,
          7139,
          5135,
          779,
          3232,
          2359,
          5702,
          3118,
          142030,
          5722,
          425,
          1603,
          8110,
          24649,
          10347,
          30945,
          1356,
          13541,
          3800,
          1022,
          10134,
          13089,
          534,
          69210,
          24746,
          0,
          3004,
          14040,
          1798,
          1578,
          7177,
          22224,
          12072,
          11972,
          69700,
          18339,
          6022,
          26903,
          93020,
          3095,
          2084,
          3090,
          10094,
          3882,
          24436,
          1159,
          15862,
          9726,
          1870,
          9553,
          633,
          630,
          13853,
          106738,
          1881,
          22546,
          963,
          338,
          28067,
          23892,
          1754,
          1445,
          6982,
          27112,
          2142,
          2615,
          17120,
          147693,
          933,
          22298,
          8846,
          1667,
          2115,
          33315,
          7538,
          40722,
          4447,
          2580,
          13508,
          24212,
          26118,
          3088,
          5015,
          15153,
          6522,
          8443,
          2913,
          6822,
          9558,
          8185,
          10417,
          3724,
          1837,
          4628,
          46940,
          24034,
          1539,
          11547,
          1465,
          5870,
          55611,
          7146,
          39331,
          261,
          4217,
          23744,
          11838,
          4695,
          23601,
          18621,
          1573,
          0,
          37514,
          1752,
          6312,
          32758,
          44351,
          14166,
          1679,
          8341,
          2243,
          3653,
          1535,
          5410,
          3462,
          178500,
          7224,
          31641,
          2896,
          7954,
          2272,
          19350,
          12056,
          79394,
          14554,
          3242,
          12192,
          10998,
          1774,
          1425,
          3615,
          1218,
          3270,
          2786,
          3641,
          564,
          6351,
          3413,
          48830,
          18150,
          2557,
          7115,
          10002,
          2299,
          9547,
          1326,
          7098,
          1912,
          5979,
          1366,
          17250,
          22947,
          23771,
          23941,
          1205,
          719,
          4866,
          10659,
          4253,
          19697,
          48953,
          18128,
          14555,
          1673,
          1915,
          13787,
          48479,
          3068,
          5168,
          13895,
          1597,
          653,
          14561,
          11963,
          5047,
          14153,
          1706,
          3577,
          1269,
          3534,
          5804,
          15588,
          98967,
          8370,
          15504,
          1684,
          3825,
          2230,
          7914,
          13683,
          81503,
          825,
          2758,
          3701,
          8905,
          2890,
          5452,
          2381,
          19115,
          50271,
          6701,
          9453,
          13030,
          7161,
          5946,
          13673,
          292,
          15205,
          662,
          12592,
          3571,
          26730,
          1302,
          32579,
          1797,
          3643,
          42058,
          3174,
          12563,
          6618,
          14005,
          2524,
          467,
          17563,
          7366,
          2227,
          16769,
          1261,
          2122,
          1181,
          2726,
          23073,
          1965,
          62420,
          996,
          3664,
          11592,
          3001,
          3595,
          962,
          252,
          10357,
          13452,
          3415,
          7279,
          13731,
          304,
          4785,
          25719,
          4608,
          13897,
          80549,
          77755,
          28079,
          3817,
          27443,
          1662,
          9156,
          9759,
          7773,
          4739,
          1154,
          2099,
          5499,
          8485,
          10597,
          11256,
          8041,
          4437,
          3428,
          5817,
          18679,
          4302,
          0,
          2952,
          1740,
          10518,
          16452,
          7497,
          29748,
          1798,
          2663,
          24576,
          13771,
          5000,
          47249,
          16982,
          4935,
          2112,
          2103,
          1648,
          60399,
          35129,
          10042,
          4301,
          13095,
          8494,
          190,
          5421,
          4695,
          1262,
          1511,
          21899,
          8929,
          17356,
          4697,
          0,
          0,
          30173,
          5125,
          4586,
          39802,
          11682,
          5928,
          20148,
          3538,
          14365,
          4180,
          13770,
          37943,
          3827,
          1275,
          24269,
          1336,
          1430,
          22424,
          23925,
          3731,
          77548,
          332,
          13180,
          3868,
          32320,
          6160,
          2230,
          14148,
          636,
          845,
          1265,
          37466,
          17277,
          0,
          39070,
          1433,
          4303,
          2449,
          15808,
          1724,
          15233,
          5312,
          1116,
          1900,
          3563,
          6529,
          5536,
          29694,
          26546,
          3175,
          3994,
          1928,
          412,
          7119,
          5483,
          9417,
          35094,
          1355,
          32446,
          6165,
          3649,
          551,
          3885,
          7092,
          11487,
          3409,
          52505,
          30313,
          1020,
          935,
          7043,
          3765,
          4098,
          44582,
          9432,
          14984,
          7738,
          5953,
          1616,
          819,
          3853,
          30219,
          4205,
          5994,
          10014,
          5139,
          9623,
          2776,
          4057,
          7956,
          23914,
          12035,
          2136,
          48651,
          9698,
          24503,
          19137,
          51969,
          10618,
          16058,
          2687,
          97832,
          12353,
          10692,
          9873,
          2019,
          5798,
          13485,
          7466,
          1420,
          1352,
          28670,
          17905,
          0,
          3878,
          4559,
          23901,
          3536,
          991,
          4591,
          2679,
          4483,
          17837,
          27510,
          7587,
          30098,
          3094,
          7928,
          31578,
          29582,
          26087,
          3275,
          12664,
          2048,
          0,
          0,
          3045,
          3308,
          6080,
          1405,
          16686,
          11571,
          15001,
          4807,
          68148,
          12416,
          45217,
          8239,
          6059,
          401,
          23413,
          2331,
          5626,
          10044,
          640,
          1348,
          17746,
          48295,
          141876,
          2692,
          2535,
          13976,
          2358,
          4932,
          46883,
          3461,
          190667,
          20532,
          2901,
          29111,
          7951,
          18368,
          27454,
          8861,
          772,
          41027,
          31860,
          105913,
          1826,
          5981,
          839,
          3758,
          54981,
          6882,
          8867,
          110,
          1922,
          9148,
          4953,
          3448,
          15451,
          1270,
          10705,
          51595,
          1518,
          2917,
          4281,
          3659,
          5617,
          31795,
          21627,
          34531,
          26450,
          10998,
          1720,
          18470,
          52162,
          2323,
          5251,
          7250,
          400,
          13439,
          1522,
          5719,
          2881,
          20685,
          41213,
          5943,
          20157,
          498,
          10431,
          3329,
          2925,
          42290,
          5903,
          11794,
          3417,
          2200,
          12244,
          3441,
          5663,
          9236,
          21530,
          88166,
          5579,
          224619,
          16775,
          54197,
          2117,
          82489,
          16936,
          3229,
          5445,
          636,
          2877,
          1557,
          8374,
          6564,
          18994,
          50481,
          4849,
          8999,
          48122,
          3228,
          5918,
          1386,
          30969,
          14994,
          3005,
          3920,
          718,
          2294,
          5849,
          2451,
          6874,
          5218,
          2347,
          31945,
          17579,
          51809,
          35346,
          34738,
          2005,
          16358,
          11482,
          10913,
          9258,
          1251,
          16426,
          1471,
          2136,
          37647,
          8584,
          11501,
          352,
          22281,
          2412,
          5149,
          85245,
          2386,
          5997,
          10562,
          6750,
          24382,
          3678,
          16365,
          5968,
          2920,
          46319,
          43024,
          550,
          4409,
          4180,
          35740,
          713,
          5213,
          1854,
          3233,
          16568,
          7499,
          62767,
          108497,
          1959,
          6421,
          1226,
          2867,
          5571,
          167,
          29678,
          80915,
          7090,
          2685,
          2419,
          90259,
          27103,
          7855,
          2897,
          1639,
          5201,
          12292,
          21909,
          12607,
          4498,
          13094,
          4131,
          4791,
          7082,
          3306,
          13505,
          6953,
          38084,
          1676,
          49523,
          10000,
          23606,
          2636,
          16458,
          2954,
          1926,
          10084,
          1494,
          38439,
          59818,
          15769,
          3728,
          6391,
          5365,
          27267,
          12031,
          4872,
          2132,
          1735,
          2843,
          8021,
          8023,
          13773,
          15854,
          1625,
          0,
          1710,
          3395,
          77096,
          890,
          2455,
          21324,
          5591,
          70896,
          5957,
          8793,
          9789,
          7166,
          5373,
          13973,
          18973,
          18100,
          7208,
          1451,
          219425,
          67961,
          32715,
          6024,
          1685,
          9929,
          12231,
          25098,
          5620,
          6539,
          77218,
          2263,
          5483,
          37135,
          497,
          10488,
          12978,
          21160,
          1915,
          28869,
          44348,
          32483,
          18427,
          26105,
          20582,
          2817,
          36491,
          1474,
          5973,
          3860,
          24021,
          2027,
          2787,
          36410,
          4276,
          8709,
          4063,
          3335,
          14299,
          24416,
          7057,
          2558,
          12843,
          5173,
          26926,
          29737,
          14936,
          130,
          6611,
          18332,
          4688,
          2172,
          18005,
          6783,
          1780,
          36546,
          7870,
          3819,
          4732,
          2306,
          18023,
          69456,
          6555,
          28762,
          62708,
          1154,
          1136,
          3099,
          8083,
          2753,
          12513,
          1367,
          81021,
          5560,
          5880,
          1505,
          1986,
          14530,
          1754,
          3832,
          817,
          4495,
          54698,
          1752,
          2816,
          15023,
          2686,
          37918,
          4563,
          959,
          1339,
          1715,
          9850,
          9677,
          2820,
          7691,
          80706,
          3141,
          17656,
          2226,
          59920,
          3190,
          775,
          1910,
          2550,
          5165,
          988,
          6642,
          6685,
          55566,
          36416,
          668,
          25396,
          12602,
          27320,
          37505,
          9607,
          2866,
          5636,
          14895,
          7937,
          54620,
          3370,
          2984,
          14454,
          46406,
          5988,
          17992,
          1984,
          2797,
          40982,
          6195,
          3673,
          8060,
          2524,
          3746,
          0,
          65610,
          209810,
          71482,
          6842,
          0,
          107479,
          15418,
          115218,
          18791,
          24731,
          7765,
          5274,
          2543,
          39467,
          4808,
          10183,
          24911,
          28453,
          3141,
          8855,
          6030,
          65976,
          143720,
          17510,
          6279,
          67440,
          15052,
          2094,
          37177,
          2072,
          3278,
          11687,
          8797,
          2292,
          5888,
          39762,
          7793,
          3909,
          25619,
          2020,
          19158,
          52076,
          11213,
          5241,
          3281,
          37079,
          13162,
          4147,
          9034,
          27473,
          17923,
          1542,
          47434,
          7013,
          8237,
          23590,
          2524,
          34763,
          8582,
          2689,
          18485,
          13302,
          78296,
          1941,
          11083,
          1684,
          22702,
          22125,
          4575,
          3169,
          6732,
          8453,
          5855,
          10348,
          62445,
          38215,
          24145,
          15078,
          1991,
          26383,
          4015,
          8145,
          9017,
          64051,
          13891,
          8638,
          22682,
          26057,
          112086,
          2740,
          3547,
          268,
          25356,
          37662,
          8773,
          1097,
          5210,
          98035,
          3821,
          908,
          2670,
          4125,
          5900,
          20984,
          1745,
          2100,
          2688,
          7149,
          1738,
          16450,
          1065,
          1402,
          86570,
          4546,
          20083,
          3233,
          23312,
          2086,
          13895,
          94543,
          7034,
          9188,
          9091,
          1925,
          4292,
          3223,
          10601,
          2727,
          6444,
          194707,
          1020,
          23445,
          2736,
          18187,
          23463,
          17490,
          12349,
          1491,
          2812,
          52364,
          1232,
          4181,
          20550,
          9641,
          20581,
          4256,
          7621,
          906,
          41110,
          4073,
          37322,
          18636,
          12994,
          2658,
          3909,
          5026,
          2488,
          0,
          898,
          4185,
          9131,
          23539,
          10113,
          7036,
          42843,
          4950,
          8173,
          2986,
          18622,
          64133,
          22745,
          17020,
          13460,
          17406,
          12892,
          4931,
          49063,
          42524,
          7868,
          1011,
          5589,
          2240,
          3011,
          49179,
          7000,
          5782,
          28374,
          25311,
          3173,
          5200,
          1529,
          5821,
          4517,
          501,
          55301,
          13323,
          6905,
          7532,
          3316,
          4615,
          7885,
          24628,
          14971,
          6272,
          33767,
          2209,
          6155,
          5768,
          1569,
          3037,
          24094,
          41871,
          17941,
          3467,
          16622,
          533,
          3147,
          23990,
          7115,
          4376,
          20060,
          9388,
          7293,
          1407,
          26152,
          5945,
          76478,
          8244,
          333,
          3700,
          16315,
          45234,
          2453,
          77369,
          167,
          4554,
          20187,
          6600,
          19264,
          20604,
          791,
          1657,
          2197,
          45174,
          15915,
          1938,
          14788,
          15584,
          4668,
          38221,
          22405,
          7245,
          7196,
          17674,
          3660,
          7209,
          37187,
          93340,
          9659,
          1170,
          14,
          18298,
          1641,
          2270,
          21790,
          3419,
          1170,
          17650,
          18290,
          17674,
          2557,
          5148,
          2810,
          34592,
          1240,
          69381,
          2297,
          3287,
          1122,
          21757,
          23173,
          18703,
          5459,
          2891,
          80042,
          3530,
          17956,
          23372,
          21409,
          5663,
          2026,
          6772,
          56753,
          0,
          3963,
          7733,
          12649,
          78322,
          1912,
          1666,
          94393,
          693,
          19282,
          31029,
          965,
          8386,
          835,
          3862,
          2930,
          14163,
          6931,
          8226,
          7440,
          17113,
          4186,
          47887,
          4585,
          1239,
          60403,
          24016,
          7091,
          1229,
          5024,
          10479,
          3358,
          828,
          18754,
          14788,
          6547,
          10125,
          24977,
          1556,
          17106,
          1538,
          2428,
          37986,
          2710,
          8037,
          5302,
          17799,
          21474,
          62893,
          533,
          4686,
          2486,
          2184,
          7583,
          22102,
          7665,
          5284,
          23438,
          5338,
          20597,
          4851,
          22438,
          4941,
          2853,
          64784,
          8590,
          20540,
          16828,
          3306,
          14941,
          19010,
          6091,
          1626,
          3601,
          12502,
          22877,
          8817,
          1130,
          11094,
          14511,
          904,
          3763,
          4235,
          140850,
          5654,
          12520,
          421,
          3634,
          3679,
          13603,
          16831,
          14975,
          3189,
          6110,
          14275,
          39445,
          6433,
          11648,
          4072,
          8803,
          1386,
          3416,
          9982,
          944,
          26655,
          5870,
          18088,
          43883,
          56661,
          2898,
          28143,
          5248,
          5609,
          607,
          35543,
          4419,
          616,
          8968,
          24083,
          26106,
          6073,
          3417,
          10994,
          11006,
          27124,
          677,
          13942,
          207949,
          3622,
          30586,
          6302,
          3514,
          30394,
          3666,
          4657,
          57945,
          23197,
          3417,
          4423,
          16531,
          2283,
          9978,
          11281,
          7298,
          13552,
          0
         ],
         "yaxis": "y"
        },
        {
         "line": {
          "dash": "dash"
         },
         "mode": "lines",
         "name": "Perfect Prediction",
         "type": "scatter",
         "x": [
          500,
          250000
         ],
         "y": [
          500,
          250000
         ]
        }
       ],
       "layout": {
        "legend": {
         "tracegroupgap": 0
        },
        "margin": {
         "t": 60
        },
        "template": {
         "data": {
          "bar": [
           {
            "error_x": {
             "color": "#2a3f5f"
            },
            "error_y": {
             "color": "#2a3f5f"
            },
            "marker": {
             "line": {
              "color": "#E5ECF6",
              "width": 0.5
             },
             "pattern": {
              "fillmode": "overlay",
              "size": 10,
              "solidity": 0.2
             }
            },
            "type": "bar"
           }
          ],
          "barpolar": [
           {
            "marker": {
             "line": {
              "color": "#E5ECF6",
              "width": 0.5
             },
             "pattern": {
              "fillmode": "overlay",
              "size": 10,
              "solidity": 0.2
             }
            },
            "type": "barpolar"
           }
          ],
          "carpet": [
           {
            "aaxis": {
             "endlinecolor": "#2a3f5f",
             "gridcolor": "white",
             "linecolor": "white",
             "minorgridcolor": "white",
             "startlinecolor": "#2a3f5f"
            },
            "baxis": {
             "endlinecolor": "#2a3f5f",
             "gridcolor": "white",
             "linecolor": "white",
             "minorgridcolor": "white",
             "startlinecolor": "#2a3f5f"
            },
            "type": "carpet"
           }
          ],
          "choropleth": [
           {
            "colorbar": {
             "outlinewidth": 0,
             "ticks": ""
            },
            "type": "choropleth"
           }
          ],
          "contour": [
           {
            "colorbar": {
             "outlinewidth": 0,
             "ticks": ""
            },
            "colorscale": [
             [
              0,
              "#0d0887"
             ],
             [
              0.1111111111111111,
              "#46039f"
             ],
             [
              0.2222222222222222,
              "#7201a8"
             ],
             [
              0.3333333333333333,
              "#9c179e"
             ],
             [
              0.4444444444444444,
              "#bd3786"
             ],
             [
              0.5555555555555556,
              "#d8576b"
             ],
             [
              0.6666666666666666,
              "#ed7953"
             ],
             [
              0.7777777777777778,
              "#fb9f3a"
             ],
             [
              0.8888888888888888,
              "#fdca26"
             ],
             [
              1,
              "#f0f921"
             ]
            ],
            "type": "contour"
           }
          ],
          "contourcarpet": [
           {
            "colorbar": {
             "outlinewidth": 0,
             "ticks": ""
            },
            "type": "contourcarpet"
           }
          ],
          "heatmap": [
           {
            "colorbar": {
             "outlinewidth": 0,
             "ticks": ""
            },
            "colorscale": [
             [
              0,
              "#0d0887"
             ],
             [
              0.1111111111111111,
              "#46039f"
             ],
             [
              0.2222222222222222,
              "#7201a8"
             ],
             [
              0.3333333333333333,
              "#9c179e"
             ],
             [
              0.4444444444444444,
              "#bd3786"
             ],
             [
              0.5555555555555556,
              "#d8576b"
             ],
             [
              0.6666666666666666,
              "#ed7953"
             ],
             [
              0.7777777777777778,
              "#fb9f3a"
             ],
             [
              0.8888888888888888,
              "#fdca26"
             ],
             [
              1,
              "#f0f921"
             ]
            ],
            "type": "heatmap"
           }
          ],
          "heatmapgl": [
           {
            "colorbar": {
             "outlinewidth": 0,
             "ticks": ""
            },
            "colorscale": [
             [
              0,
              "#0d0887"
             ],
             [
              0.1111111111111111,
              "#46039f"
             ],
             [
              0.2222222222222222,
              "#7201a8"
             ],
             [
              0.3333333333333333,
              "#9c179e"
             ],
             [
              0.4444444444444444,
              "#bd3786"
             ],
             [
              0.5555555555555556,
              "#d8576b"
             ],
             [
              0.6666666666666666,
              "#ed7953"
             ],
             [
              0.7777777777777778,
              "#fb9f3a"
             ],
             [
              0.8888888888888888,
              "#fdca26"
             ],
             [
              1,
              "#f0f921"
             ]
            ],
            "type": "heatmapgl"
           }
          ],
          "histogram": [
           {
            "marker": {
             "pattern": {
              "fillmode": "overlay",
              "size": 10,
              "solidity": 0.2
             }
            },
            "type": "histogram"
           }
          ],
          "histogram2d": [
           {
            "colorbar": {
             "outlinewidth": 0,
             "ticks": ""
            },
            "colorscale": [
             [
              0,
              "#0d0887"
             ],
             [
              0.1111111111111111,
              "#46039f"
             ],
             [
              0.2222222222222222,
              "#7201a8"
             ],
             [
              0.3333333333333333,
              "#9c179e"
             ],
             [
              0.4444444444444444,
              "#bd3786"
             ],
             [
              0.5555555555555556,
              "#d8576b"
             ],
             [
              0.6666666666666666,
              "#ed7953"
             ],
             [
              0.7777777777777778,
              "#fb9f3a"
             ],
             [
              0.8888888888888888,
              "#fdca26"
             ],
             [
              1,
              "#f0f921"
             ]
            ],
            "type": "histogram2d"
           }
          ],
          "histogram2dcontour": [
           {
            "colorbar": {
             "outlinewidth": 0,
             "ticks": ""
            },
            "colorscale": [
             [
              0,
              "#0d0887"
             ],
             [
              0.1111111111111111,
              "#46039f"
             ],
             [
              0.2222222222222222,
              "#7201a8"
             ],
             [
              0.3333333333333333,
              "#9c179e"
             ],
             [
              0.4444444444444444,
              "#bd3786"
             ],
             [
              0.5555555555555556,
              "#d8576b"
             ],
             [
              0.6666666666666666,
              "#ed7953"
             ],
             [
              0.7777777777777778,
              "#fb9f3a"
             ],
             [
              0.8888888888888888,
              "#fdca26"
             ],
             [
              1,
              "#f0f921"
             ]
            ],
            "type": "histogram2dcontour"
           }
          ],
          "mesh3d": [
           {
            "colorbar": {
             "outlinewidth": 0,
             "ticks": ""
            },
            "type": "mesh3d"
           }
          ],
          "parcoords": [
           {
            "line": {
             "colorbar": {
              "outlinewidth": 0,
              "ticks": ""
             }
            },
            "type": "parcoords"
           }
          ],
          "pie": [
           {
            "automargin": true,
            "type": "pie"
           }
          ],
          "scatter": [
           {
            "fillpattern": {
             "fillmode": "overlay",
             "size": 10,
             "solidity": 0.2
            },
            "type": "scatter"
           }
          ],
          "scatter3d": [
           {
            "line": {
             "colorbar": {
              "outlinewidth": 0,
              "ticks": ""
             }
            },
            "marker": {
             "colorbar": {
              "outlinewidth": 0,
              "ticks": ""
             }
            },
            "type": "scatter3d"
           }
          ],
          "scattercarpet": [
           {
            "marker": {
             "colorbar": {
              "outlinewidth": 0,
              "ticks": ""
             }
            },
            "type": "scattercarpet"
           }
          ],
          "scattergeo": [
           {
            "marker": {
             "colorbar": {
              "outlinewidth": 0,
              "ticks": ""
             }
            },
            "type": "scattergeo"
           }
          ],
          "scattergl": [
           {
            "marker": {
             "colorbar": {
              "outlinewidth": 0,
              "ticks": ""
             }
            },
            "type": "scattergl"
           }
          ],
          "scattermapbox": [
           {
            "marker": {
             "colorbar": {
              "outlinewidth": 0,
              "ticks": ""
             }
            },
            "type": "scattermapbox"
           }
          ],
          "scatterpolar": [
           {
            "marker": {
             "colorbar": {
              "outlinewidth": 0,
              "ticks": ""
             }
            },
            "type": "scatterpolar"
           }
          ],
          "scatterpolargl": [
           {
            "marker": {
             "colorbar": {
              "outlinewidth": 0,
              "ticks": ""
             }
            },
            "type": "scatterpolargl"
           }
          ],
          "scatterternary": [
           {
            "marker": {
             "colorbar": {
              "outlinewidth": 0,
              "ticks": ""
             }
            },
            "type": "scatterternary"
           }
          ],
          "surface": [
           {
            "colorbar": {
             "outlinewidth": 0,
             "ticks": ""
            },
            "colorscale": [
             [
              0,
              "#0d0887"
             ],
             [
              0.1111111111111111,
              "#46039f"
             ],
             [
              0.2222222222222222,
              "#7201a8"
             ],
             [
              0.3333333333333333,
              "#9c179e"
             ],
             [
              0.4444444444444444,
              "#bd3786"
             ],
             [
              0.5555555555555556,
              "#d8576b"
             ],
             [
              0.6666666666666666,
              "#ed7953"
             ],
             [
              0.7777777777777778,
              "#fb9f3a"
             ],
             [
              0.8888888888888888,
              "#fdca26"
             ],
             [
              1,
              "#f0f921"
             ]
            ],
            "type": "surface"
           }
          ],
          "table": [
           {
            "cells": {
             "fill": {
              "color": "#EBF0F8"
             },
             "line": {
              "color": "white"
             }
            },
            "header": {
             "fill": {
              "color": "#C8D4E3"
             },
             "line": {
              "color": "white"
             }
            },
            "type": "table"
           }
          ]
         },
         "layout": {
          "annotationdefaults": {
           "arrowcolor": "#2a3f5f",
           "arrowhead": 0,
           "arrowwidth": 1
          },
          "autotypenumbers": "strict",
          "coloraxis": {
           "colorbar": {
            "outlinewidth": 0,
            "ticks": ""
           }
          },
          "colorscale": {
           "diverging": [
            [
             0,
             "#8e0152"
            ],
            [
             0.1,
             "#c51b7d"
            ],
            [
             0.2,
             "#de77ae"
            ],
            [
             0.3,
             "#f1b6da"
            ],
            [
             0.4,
             "#fde0ef"
            ],
            [
             0.5,
             "#f7f7f7"
            ],
            [
             0.6,
             "#e6f5d0"
            ],
            [
             0.7,
             "#b8e186"
            ],
            [
             0.8,
             "#7fbc41"
            ],
            [
             0.9,
             "#4d9221"
            ],
            [
             1,
             "#276419"
            ]
           ],
           "sequential": [
            [
             0,
             "#0d0887"
            ],
            [
             0.1111111111111111,
             "#46039f"
            ],
            [
             0.2222222222222222,
             "#7201a8"
            ],
            [
             0.3333333333333333,
             "#9c179e"
            ],
            [
             0.4444444444444444,
             "#bd3786"
            ],
            [
             0.5555555555555556,
             "#d8576b"
            ],
            [
             0.6666666666666666,
             "#ed7953"
            ],
            [
             0.7777777777777778,
             "#fb9f3a"
            ],
            [
             0.8888888888888888,
             "#fdca26"
            ],
            [
             1,
             "#f0f921"
            ]
           ],
           "sequentialminus": [
            [
             0,
             "#0d0887"
            ],
            [
             0.1111111111111111,
             "#46039f"
            ],
            [
             0.2222222222222222,
             "#7201a8"
            ],
            [
             0.3333333333333333,
             "#9c179e"
            ],
            [
             0.4444444444444444,
             "#bd3786"
            ],
            [
             0.5555555555555556,
             "#d8576b"
            ],
            [
             0.6666666666666666,
             "#ed7953"
            ],
            [
             0.7777777777777778,
             "#fb9f3a"
            ],
            [
             0.8888888888888888,
             "#fdca26"
            ],
            [
             1,
             "#f0f921"
            ]
           ]
          },
          "colorway": [
           "#636efa",
           "#EF553B",
           "#00cc96",
           "#ab63fa",
           "#FFA15A",
           "#19d3f3",
           "#FF6692",
           "#B6E880",
           "#FF97FF",
           "#FECB52"
          ],
          "font": {
           "color": "#2a3f5f"
          },
          "geo": {
           "bgcolor": "white",
           "lakecolor": "white",
           "landcolor": "#E5ECF6",
           "showlakes": true,
           "showland": true,
           "subunitcolor": "white"
          },
          "hoverlabel": {
           "align": "left"
          },
          "hovermode": "closest",
          "mapbox": {
           "style": "light"
          },
          "paper_bgcolor": "white",
          "plot_bgcolor": "#E5ECF6",
          "polar": {
           "angularaxis": {
            "gridcolor": "white",
            "linecolor": "white",
            "ticks": ""
           },
           "bgcolor": "#E5ECF6",
           "radialaxis": {
            "gridcolor": "white",
            "linecolor": "white",
            "ticks": ""
           }
          },
          "scene": {
           "xaxis": {
            "backgroundcolor": "#E5ECF6",
            "gridcolor": "white",
            "gridwidth": 2,
            "linecolor": "white",
            "showbackground": true,
            "ticks": "",
            "zerolinecolor": "white"
           },
           "yaxis": {
            "backgroundcolor": "#E5ECF6",
            "gridcolor": "white",
            "gridwidth": 2,
            "linecolor": "white",
            "showbackground": true,
            "ticks": "",
            "zerolinecolor": "white"
           },
           "zaxis": {
            "backgroundcolor": "#E5ECF6",
            "gridcolor": "white",
            "gridwidth": 2,
            "linecolor": "white",
            "showbackground": true,
            "ticks": "",
            "zerolinecolor": "white"
           }
          },
          "shapedefaults": {
           "line": {
            "color": "#2a3f5f"
           }
          },
          "ternary": {
           "aaxis": {
            "gridcolor": "white",
            "linecolor": "white",
            "ticks": ""
           },
           "baxis": {
            "gridcolor": "white",
            "linecolor": "white",
            "ticks": ""
           },
           "bgcolor": "#E5ECF6",
           "caxis": {
            "gridcolor": "white",
            "linecolor": "white",
            "ticks": ""
           }
          },
          "title": {
           "x": 0.05
          },
          "xaxis": {
           "automargin": true,
           "gridcolor": "white",
           "linecolor": "white",
           "ticks": "",
           "title": {
            "standoff": 15
           },
           "zerolinecolor": "white",
           "zerolinewidth": 2
          },
          "yaxis": {
           "automargin": true,
           "gridcolor": "white",
           "linecolor": "white",
           "ticks": "",
           "title": {
            "standoff": 15
           },
           "zerolinecolor": "white",
           "zerolinewidth": 2
          }
         }
        },
        "title": {
         "text": "Predicted vs Actual Salary"
        },
        "xaxis": {
         "anchor": "y",
         "domain": [
          0,
          1
         ],
         "title": {
          "text": "Actual Salary"
         }
        },
        "yaxis": {
         "anchor": "x",
         "domain": [
          0,
          1
         ],
         "title": {
          "text": "Predicted Salary"
         }
        }
       }
      }
     },
     "metadata": {},
     "output_type": "display_data"
    },
    {
     "data": {
      "application/vnd.plotly.v1+json": {
       "config": {
        "plotlyServerURL": "https://plot.ly"
       },
       "data": [
        {
         "alignmentgroup": "True",
         "bingroup": "x",
         "hovertemplate": "Residuals=%{x}<br>count=%{y}<extra></extra>",
         "legendgroup": "",
         "marker": {
          "color": "#636efa",
          "pattern": {
           "shape": ""
          }
         },
         "name": "",
         "offsetgroup": "",
         "orientation": "v",
         "showlegend": false,
         "type": "histogram",
         "x": [
          7644,
          -3913,
          -6458,
          3932,
          674,
          -4624,
          -71,
          1419,
          -3110,
          -12629,
          279,
          2761,
          680,
          -106,
          2132,
          188,
          -1063,
          2188,
          -313,
          1420,
          1583,
          -2312,
          6284,
          -4861,
          5151,
          -6909,
          4787,
          446,
          3732,
          -2597,
          625,
          -1700,
          -19436,
          2304,
          589,
          631,
          -584,
          -10684,
          -3459,
          277,
          -502,
          282,
          -1677,
          990,
          586,
          -1398,
          -469,
          -371,
          -142,
          -2420,
          1497,
          -3174,
          -1677,
          1447,
          -3545,
          330,
          2249,
          -36979,
          4970,
          -31907,
          -3093,
          -5857,
          -6684,
          -21,
          14777,
          -9453,
          -444,
          -315,
          -6147,
          1255,
          307,
          966,
          2515,
          -547,
          -10319,
          -734,
          1908,
          -278,
          260,
          2122,
          594,
          -572,
          645,
          2927,
          1605,
          -311,
          -500,
          -1953,
          -870,
          4468,
          19335,
          412,
          45,
          -1848,
          3298,
          2718,
          2298,
          2201,
          -5294,
          2944,
          1651,
          1350,
          -321,
          -3,
          636,
          328,
          -2974,
          724,
          -36,
          -3142,
          -1366,
          4135,
          796,
          -1103,
          -69,
          -1253,
          -869,
          1903,
          -274,
          -6464,
          -2078,
          108,
          -3252,
          -3512,
          389,
          -4721,
          -3703,
          924,
          -565,
          1243,
          3689,
          -43,
          -497,
          313,
          6220,
          4104,
          -5726,
          -593,
          5871,
          2007,
          3255,
          -3547,
          -315,
          -613,
          512,
          -3982,
          22237,
          -4631,
          -830,
          -6906,
          7078,
          -222,
          6351,
          -148,
          13312,
          13919,
          1753,
          1635,
          190,
          9901,
          -17584,
          1269,
          -24680,
          1377,
          -189,
          481,
          2554,
          367,
          -274,
          2279,
          -22023,
          13301,
          3901,
          1130,
          220,
          -316,
          1016,
          1609,
          5144,
          -1754,
          8061,
          -534,
          14424,
          -820,
          1321,
          294,
          -53046,
          394,
          1225,
          1286,
          909,
          297,
          -17255,
          135,
          5380,
          -3851,
          1262,
          -378,
          309,
          13280,
          3323,
          2736,
          1583,
          11087,
          -1965,
          4584,
          9322,
          2090,
          2001,
          42,
          -38877,
          -4696,
          367,
          -358,
          104,
          229,
          -444,
          -1141,
          415,
          2149,
          998,
          5655,
          -340,
          712,
          279,
          -1127,
          10699,
          217,
          -2460,
          1130,
          -1016,
          -5425,
          771,
          15094,
          63128,
          1629,
          397,
          -2253,
          -356,
          5485,
          -863,
          -1098,
          102,
          -205,
          1136,
          -371,
          -4270,
          1482,
          541,
          -4,
          -5994,
          -1194,
          625,
          3776,
          -828,
          2554,
          -67,
          1815,
          321,
          -4379,
          -805,
          1914,
          -2610,
          2817,
          5741,
          3799,
          3610,
          -147,
          2618,
          -742,
          2658,
          778,
          -1004,
          7986,
          6677,
          -6698,
          1632,
          -5736,
          -2468,
          31,
          137,
          8251,
          2552,
          1378,
          -1952,
          -1162,
          -5861,
          -1865,
          129,
          232,
          359,
          -9298,
          1118,
          12030,
          722,
          -1575,
          -1397,
          -890,
          1649,
          3347,
          -55,
          356,
          1541,
          800,
          -2978,
          1134,
          -1911,
          34,
          9210,
          5746,
          -500,
          4,
          3040,
          -202,
          578,
          -1823,
          -7776,
          5072,
          -4028,
          11700,
          -661,
          2022,
          -16097,
          -11980,
          95,
          84,
          90,
          94,
          1882,
          -1564,
          159,
          2862,
          1726,
          1120,
          -14447,
          -1367,
          130,
          9853,
          -63262,
          -1119,
          2546,
          463,
          -162,
          -3933,
          -108,
          -246,
          445,
          -18,
          4112,
          142,
          -3385,
          1120,
          -52307,
          33,
          13298,
          5846,
          667,
          115,
          -10685,
          538,
          -8278,
          1447,
          -420,
          -9492,
          4212,
          3118,
          -912,
          15,
          4153,
          -10478,
          1443,
          913,
          1822,
          1558,
          5185,
          -583,
          -3276,
          837,
          1628,
          -5060,
          2034,
          539,
          -453,
          -535,
          2870,
          6611,
          2146,
          -6669,
          -339,
          3267,
          -1256,
          1838,
          -305,
          8601,
          621,
          623,
          -500,
          8514,
          752,
          -1688,
          1758,
          -14649,
          -834,
          -321,
          341,
          243,
          653,
          -465,
          -7590,
          -538,
          28500,
          224,
          13641,
          1896,
          -46,
          272,
          2350,
          -2944,
          -10606,
          4554,
          2392,
          -808,
          2998,
          774,
          -1575,
          2765,
          218,
          1270,
          786,
          1641,
          64,
          1351,
          -587,
          -4170,
          150,
          557,
          2115,
          1002,
          299,
          2547,
          -4674,
          2098,
          -9088,
          979,
          616,
          3250,
          8947,
          4771,
          -7059,
          -795,
          -281,
          -2134,
          -341,
          2253,
          1697,
          12953,
          1128,
          4555,
          -5327,
          915,
          -2213,
          -1521,
          1068,
          3168,
          -3105,
          -1403,
          -347,
          5561,
          -3037,
          47,
          9153,
          706,
          -423,
          269,
          -466,
          2804,
          1588,
          -26033,
          1370,
          2504,
          -1316,
          825,
          1230,
          -86,
          -317,
          -8497,
          -175,
          -242,
          701,
          -95,
          -110,
          -548,
          381,
          3115,
          -729,
          -1299,
          3453,
          30,
          3161,
          -54,
          1673,
          -458,
          10205,
          -138,
          -3408,
          571,
          730,
          302,
          1579,
          -203,
          -7357,
          -10942,
          1174,
          563,
          -13382,
          -6995,
          1524,
          -33,
          6563,
          4366,
          -773,
          5769,
          261,
          1122,
          681,
          -1274,
          1073,
          -35,
          22420,
          -1004,
          -336,
          -6408,
          -1999,
          -1405,
          -38,
          -248,
          3357,
          -9548,
          1415,
          279,
          -3269,
          -196,
          -2215,
          719,
          2608,
          2897,
          -24451,
          -17245,
          6079,
          817,
          2443,
          662,
          156,
          -5241,
          -227,
          -261,
          -846,
          99,
          499,
          2485,
          -403,
          -5744,
          7541,
          437,
          -3572,
          1817,
          6679,
          1302,
          -500,
          952,
          -260,
          2518,
          -1548,
          2497,
          -3252,
          -2202,
          663,
          11576,
          -229,
          -3000,
          4249,
          1982,
          935,
          112,
          103,
          -352,
          -7601,
          129,
          4042,
          301,
          -905,
          2494,
          -360,
          -1579,
          -305,
          262,
          -2489,
          3899,
          -6071,
          4356,
          697,
          -500,
          -500,
          9173,
          125,
          2586,
          7802,
          -2318,
          1928,
          2148,
          538,
          4365,
          -2820,
          1770,
          943,
          -1173,
          275,
          -1731,
          336,
          430,
          424,
          1925,
          -1269,
          -32452,
          -268,
          2180,
          868,
          2320,
          -840,
          -770,
          7148,
          -364,
          -155,
          -735,
          466,
          5277,
          -500,
          -3930,
          483,
          303,
          -551,
          -2192,
          724,
          233,
          1312,
          566,
          900,
          -2437,
          -3471,
          -464,
          -7306,
          4546,
          1175,
          1994,
          -72,
          -288,
          1119,
          2483,
          -1583,
          -2906,
          -645,
          -554,
          165,
          -351,
          51,
          -1115,
          -908,
          -1513,
          -2591,
          16505,
          -3687,
          20,
          285,
          5043,
          -235,
          1098,
          -6418,
          2432,
          7984,
          3738,
          1953,
          -384,
          119,
          1853,
          -6781,
          1205,
          994,
          3014,
          -861,
          3623,
          776,
          1057,
          1956,
          -5086,
          -8965,
          136,
          -2349,
          1698,
          -1497,
          137,
          5969,
          -2382,
          -2942,
          687,
          12832,
          3353,
          4692,
          873,
          19,
          -202,
          -2515,
          -3534,
          -580,
          -2648,
          5670,
          -4095,
          -500,
          -1122,
          2559,
          901,
          1536,
          -9,
          1591,
          679,
          1483,
          -4163,
          8510,
          -413,
          10098,
          1094,
          1928,
          -7422,
          6582,
          -1913,
          275,
          2664,
          48,
          -500,
          -500,
          -3955,
          -692,
          3080,
          555,
          3686,
          2571,
          2001,
          -193,
          19148,
          9416,
          6217,
          239,
          -3941,
          -349,
          2413,
          331,
          1626,
          44,
          -260,
          348,
          7746,
          -7705,
          -28124,
          2042,
          -2465,
          3976,
          358,
          -2068,
          -1117,
          461,
          -19333,
          4532,
          -1099,
          -9889,
          -49,
          -3632,
          -2546,
          -2139,
          172,
          7027,
          -11140,
          34913,
          -2174,
          981,
          -11,
          1758,
          -10019,
          2882,
          -133,
          -390,
          1422,
          148,
          -1047,
          -1552,
          -549,
          270,
          1705,
          595,
          -482,
          -1083,
          3281,
          -1341,
          -2383,
          4795,
          14627,
          9531,
          3450,
          -5002,
          970,
          6470,
          -2838,
          -677,
          1251,
          -1750,
          -100,
          10439,
          522,
          3719,
          -119,
          -13315,
          15213,
          943,
          -2843,
          -2,
          5431,
          1329,
          925,
          6290,
          903,
          5794,
          1417,
          1200,
          -2756,
          441,
          3663,
          -9764,
          -1470,
          -76834,
          -4421,
          24619,
          -18225,
          -5803,
          -1883,
          -52511,
          7936,
          229,
          445,
          -14,
          -1123,
          -443,
          374,
          564,
          994,
          14481,
          -1151,
          -10001,
          10122,
          228,
          -9082,
          386,
          969,
          -1006,
          5,
          -4080,
          218,
          294,
          -1151,
          451,
          -1126,
          1218,
          347,
          2945,
          -2421,
          5809,
          -18654,
          -1262,
          1005,
          2358,
          -4518,
          -87,
          1258,
          -1749,
          2426,
          -529,
          -1864,
          2647,
          -1416,
          3501,
          -148,
          7281,
          412,
          -1851,
          1245,
          1386,
          -6003,
          1562,
          -250,
          1382,
          -4322,
          -10635,
          -12032,
          920,
          319,
          -976,
          -300,
          409,
          -1820,
          10740,
          -1287,
          -1787,
          854,
          2233,
          5568,
          -501,
          -8233,
          -11503,
          -1041,
          3421,
          226,
          -2133,
          3571,
          -333,
          -1322,
          -5085,
          -4910,
          685,
          1419,
          12259,
          5103,
          -2145,
          -7103,
          -3361,
          2201,
          2292,
          1909,
          -7393,
          -502,
          3094,
          2131,
          -2209,
          -1918,
          -694,
          -2495,
          2953,
          1084,
          676,
          16523,
          0,
          -3394,
          -364,
          458,
          954,
          926,
          3084,
          -1506,
          6439,
          2818,
          -1231,
          728,
          2391,
          365,
          3267,
          1031,
          -5128,
          -868,
          735,
          1843,
          -3979,
          -977,
          -227,
          -6146,
          775,
          -750,
          -4290,
          -605,
          -37904,
          -110,
          1455,
          2324,
          3591,
          32896,
          957,
          -1207,
          789,
          -1834,
          4373,
          1973,
          5973,
          2100,
          1208,
          -549,
          -575,
          -5039,
          -3285,
          24,
          -1315,
          6929,
          -6769,
          5098,
          2620,
          -461,
          -52782,
          263,
          2483,
          -6865,
          -303,
          3488,
          -2022,
          160,
          -85,
          -131,
          11348,
          -7517,
          1427,
          -4895,
          5582,
          -4183,
          2491,
          574,
          1973,
          1860,
          -2979,
          1027,
          787,
          17410,
          276,
          -4291,
          -2937,
          -665,
          -5701,
          2416,
          2057,
          558,
          1843,
          -14827,
          2926,
          737,
          -64,
          -370,
          -389,
          -18668,
          1688,
          1172,
          5005,
          2783,
          -220,
          -7454,
          -5130,
          -1181,
          2732,
          -1694,
          23,
          1456,
          -445,
          -238,
          6708,
          -846,
          186,
          1099,
          1083,
          -1247,
          6513,
          367,
          28021,
          2560,
          -120,
          -495,
          986,
          -34470,
          754,
          1832,
          -1183,
          1495,
          5698,
          -248,
          -184,
          3023,
          686,
          -20082,
          2563,
          209,
          439,
          715,
          -5150,
          2677,
          -180,
          3691,
          -19294,
          1141,
          -344,
          -774,
          12920,
          -810,
          275,
          -15090,
          550,
          -835,
          -12,
          -1358,
          685,
          -12434,
          3416,
          -332,
          10396,
          602,
          -5680,
          -6495,
          -8393,
          866,
          636,
          5895,
          937,
          -6380,
          370,
          -16,
          -2546,
          8406,
          -12,
          -4008,
          -16,
          -1203,
          5982,
          -1805,
          673,
          1060,
          -476,
          746,
          -500,
          5610,
          -20190,
          18482,
          842,
          -500,
          -32521,
          4418,
          -34782,
          9791,
          7731,
          -235,
          -726,
          1543,
          -5533,
          1808,
          -8817,
          -6089,
          -3547,
          1141,
          3855,
          -970,
          17976,
          43720,
          1510,
          3279,
          -10560,
          1052,
          1094,
          -13823,
          72,
          278,
          -1313,
          2797,
          1292,
          -112,
          6762,
          793,
          909,
          3619,
          20,
          6158,
          6076,
          1213,
          2241,
          -719,
          -921,
          -838,
          3197,
          3034,
          2473,
          -6077,
          842,
          434,
          13,
          1237,
          -6410,
          524,
          14763,
          5582,
          689,
          5485,
          1302,
          14296,
          -59,
          83,
          684,
          -15298,
          11125,
          575,
          169,
          2732,
          -547,
          -2145,
          2348,
          6445,
          -785,
          4145,
          4078,
          -9,
          2383,
          -2985,
          1145,
          -983,
          12051,
          6891,
          -362,
          -12318,
          -8943,
          12086,
          -2260,
          2547,
          -732,
          2356,
          11662,
          -1227,
          -1903,
          -790,
          -51965,
          -179,
          108,
          670,
          125,
          1900,
          -3016,
          -255,
          100,
          1688,
          149,
          -262,
          -5550,
          115,
          402,
          -3430,
          1546,
          -5917,
          -767,
          20312,
          86,
          895,
          17543,
          6334,
          -812,
          91,
          -75,
          -2708,
          -5777,
          -399,
          727,
          4444,
          24707,
          20,
          -7555,
          736,
          -3813,
          -62537,
          -2510,
          2349,
          -509,
          812,
          364,
          532,
          2181,
          4550,
          1641,
          6581,
          3256,
          621,
          406,
          10110,
          -927,
          1322,
          2636,
          4994,
          658,
          909,
          3026,
          -512,
          -550,
          298,
          2185,
          1131,
          2539,
          4113,
          1036,
          -7157,
          -50,
          4173,
          986,
          -8378,
          -6867,
          -2255,
          -980,
          460,
          4406,
          -3108,
          2931,
          2063,
          8524,
          3868,
          511,
          589,
          240,
          -3989,
          8179,
          5000,
          782,
          1374,
          -14689,
          173,
          200,
          529,
          -179,
          -1483,
          -1499,
          25301,
          -2677,
          -95,
          -1468,
          316,
          -385,
          1885,
          -8372,
          971,
          -4728,
          4767,
          1209,
          -3845,
          -2232,
          569,
          -963,
          4094,
          3871,
          -59,
          -533,
          5622,
          33,
          147,
          -6010,
          115,
          1376,
          5060,
          -9612,
          1293,
          -2593,
          6152,
          -3055,
          8478,
          -3756,
          -167,
          -300,
          -685,
          2234,
          1503,
          55369,
          -833,
          1554,
          -1813,
          -400,
          -34736,
          -3396,
          -209,
          -1343,
          -2803,
          1174,
          -3085,
          -1062,
          -9212,
          -2416,
          668,
          12221,
          -3595,
          2245,
          -804,
          5674,
          -340,
          -1791,
          -813,
          19340,
          659,
          170,
          -486,
          -702,
          -359,
          270,
          -4210,
          1419,
          420,
          -1350,
          14290,
          -5326,
          -1443,
          148,
          810,
          7592,
          -2760,
          -20619,
          1697,
          287,
          122,
          5757,
          2173,
          2703,
          -541,
          2391,
          8042,
          1530,
          -3044,
          -12628,
          5409,
          663,
          1026,
          -2228,
          30753,
          -500,
          1963,
          3733,
          649,
          -10678,
          -88,
          -334,
          12393,
          43,
          4282,
          4029,
          -35,
          5386,
          335,
          1862,
          -70,
          -2837,
          1931,
          -6774,
          440,
          5113,
          -1814,
          2887,
          -2415,
          -761,
          -12597,
          7016,
          2091,
          229,
          2024,
          -4521,
          358,
          -22,
          -6246,
          -7212,
          547,
          4125,
          -2023,
          556,
          6106,
          538,
          -572,
          2986,
          710,
          -1963,
          1302,
          3799,
          3474,
          -5107,
          33,
          686,
          486,
          184,
          3583,
          102,
          2665,
          2284,
          3438,
          2338,
          -3403,
          -149,
          1438,
          -4059,
          1903,
          10784,
          2590,
          -12460,
          828,
          1306,
          4941,
          2010,
          3091,
          626,
          1601,
          2502,
          8877,
          -5183,
          280,
          7094,
          -2489,
          -96,
          763,
          1235,
          35850,
          654,
          2520,
          -179,
          -2366,
          -2321,
          5603,
          5831,
          2975,
          -811,
          -2890,
          275,
          6445,
          1433,
          1648,
          -1928,
          2803,
          886,
          -11584,
          1982,
          -56,
          3655,
          2870,
          -2912,
          -4117,
          -29339,
          898,
          -4857,
          248,
          2609,
          7,
          -9457,
          419,
          66,
          -9032,
          -7917,
          8106,
          73,
          1417,
          1994,
          2006,
          1124,
          27,
          4942,
          -42051,
          622,
          3586,
          2302,
          514,
          -5606,
          666,
          -343,
          16945,
          9197,
          417,
          -1577,
          1531,
          283,
          1978,
          2281,
          1298,
          -3448,
          -750
         ],
         "xaxis": "x",
         "yaxis": "y"
        }
       ],
       "layout": {
        "barmode": "relative",
        "legend": {
         "tracegroupgap": 0
        },
        "margin": {
         "t": 60
        },
        "template": {
         "data": {
          "bar": [
           {
            "error_x": {
             "color": "#2a3f5f"
            },
            "error_y": {
             "color": "#2a3f5f"
            },
            "marker": {
             "line": {
              "color": "#E5ECF6",
              "width": 0.5
             },
             "pattern": {
              "fillmode": "overlay",
              "size": 10,
              "solidity": 0.2
             }
            },
            "type": "bar"
           }
          ],
          "barpolar": [
           {
            "marker": {
             "line": {
              "color": "#E5ECF6",
              "width": 0.5
             },
             "pattern": {
              "fillmode": "overlay",
              "size": 10,
              "solidity": 0.2
             }
            },
            "type": "barpolar"
           }
          ],
          "carpet": [
           {
            "aaxis": {
             "endlinecolor": "#2a3f5f",
             "gridcolor": "white",
             "linecolor": "white",
             "minorgridcolor": "white",
             "startlinecolor": "#2a3f5f"
            },
            "baxis": {
             "endlinecolor": "#2a3f5f",
             "gridcolor": "white",
             "linecolor": "white",
             "minorgridcolor": "white",
             "startlinecolor": "#2a3f5f"
            },
            "type": "carpet"
           }
          ],
          "choropleth": [
           {
            "colorbar": {
             "outlinewidth": 0,
             "ticks": ""
            },
            "type": "choropleth"
           }
          ],
          "contour": [
           {
            "colorbar": {
             "outlinewidth": 0,
             "ticks": ""
            },
            "colorscale": [
             [
              0,
              "#0d0887"
             ],
             [
              0.1111111111111111,
              "#46039f"
             ],
             [
              0.2222222222222222,
              "#7201a8"
             ],
             [
              0.3333333333333333,
              "#9c179e"
             ],
             [
              0.4444444444444444,
              "#bd3786"
             ],
             [
              0.5555555555555556,
              "#d8576b"
             ],
             [
              0.6666666666666666,
              "#ed7953"
             ],
             [
              0.7777777777777778,
              "#fb9f3a"
             ],
             [
              0.8888888888888888,
              "#fdca26"
             ],
             [
              1,
              "#f0f921"
             ]
            ],
            "type": "contour"
           }
          ],
          "contourcarpet": [
           {
            "colorbar": {
             "outlinewidth": 0,
             "ticks": ""
            },
            "type": "contourcarpet"
           }
          ],
          "heatmap": [
           {
            "colorbar": {
             "outlinewidth": 0,
             "ticks": ""
            },
            "colorscale": [
             [
              0,
              "#0d0887"
             ],
             [
              0.1111111111111111,
              "#46039f"
             ],
             [
              0.2222222222222222,
              "#7201a8"
             ],
             [
              0.3333333333333333,
              "#9c179e"
             ],
             [
              0.4444444444444444,
              "#bd3786"
             ],
             [
              0.5555555555555556,
              "#d8576b"
             ],
             [
              0.6666666666666666,
              "#ed7953"
             ],
             [
              0.7777777777777778,
              "#fb9f3a"
             ],
             [
              0.8888888888888888,
              "#fdca26"
             ],
             [
              1,
              "#f0f921"
             ]
            ],
            "type": "heatmap"
           }
          ],
          "heatmapgl": [
           {
            "colorbar": {
             "outlinewidth": 0,
             "ticks": ""
            },
            "colorscale": [
             [
              0,
              "#0d0887"
             ],
             [
              0.1111111111111111,
              "#46039f"
             ],
             [
              0.2222222222222222,
              "#7201a8"
             ],
             [
              0.3333333333333333,
              "#9c179e"
             ],
             [
              0.4444444444444444,
              "#bd3786"
             ],
             [
              0.5555555555555556,
              "#d8576b"
             ],
             [
              0.6666666666666666,
              "#ed7953"
             ],
             [
              0.7777777777777778,
              "#fb9f3a"
             ],
             [
              0.8888888888888888,
              "#fdca26"
             ],
             [
              1,
              "#f0f921"
             ]
            ],
            "type": "heatmapgl"
           }
          ],
          "histogram": [
           {
            "marker": {
             "pattern": {
              "fillmode": "overlay",
              "size": 10,
              "solidity": 0.2
             }
            },
            "type": "histogram"
           }
          ],
          "histogram2d": [
           {
            "colorbar": {
             "outlinewidth": 0,
             "ticks": ""
            },
            "colorscale": [
             [
              0,
              "#0d0887"
             ],
             [
              0.1111111111111111,
              "#46039f"
             ],
             [
              0.2222222222222222,
              "#7201a8"
             ],
             [
              0.3333333333333333,
              "#9c179e"
             ],
             [
              0.4444444444444444,
              "#bd3786"
             ],
             [
              0.5555555555555556,
              "#d8576b"
             ],
             [
              0.6666666666666666,
              "#ed7953"
             ],
             [
              0.7777777777777778,
              "#fb9f3a"
             ],
             [
              0.8888888888888888,
              "#fdca26"
             ],
             [
              1,
              "#f0f921"
             ]
            ],
            "type": "histogram2d"
           }
          ],
          "histogram2dcontour": [
           {
            "colorbar": {
             "outlinewidth": 0,
             "ticks": ""
            },
            "colorscale": [
             [
              0,
              "#0d0887"
             ],
             [
              0.1111111111111111,
              "#46039f"
             ],
             [
              0.2222222222222222,
              "#7201a8"
             ],
             [
              0.3333333333333333,
              "#9c179e"
             ],
             [
              0.4444444444444444,
              "#bd3786"
             ],
             [
              0.5555555555555556,
              "#d8576b"
             ],
             [
              0.6666666666666666,
              "#ed7953"
             ],
             [
              0.7777777777777778,
              "#fb9f3a"
             ],
             [
              0.8888888888888888,
              "#fdca26"
             ],
             [
              1,
              "#f0f921"
             ]
            ],
            "type": "histogram2dcontour"
           }
          ],
          "mesh3d": [
           {
            "colorbar": {
             "outlinewidth": 0,
             "ticks": ""
            },
            "type": "mesh3d"
           }
          ],
          "parcoords": [
           {
            "line": {
             "colorbar": {
              "outlinewidth": 0,
              "ticks": ""
             }
            },
            "type": "parcoords"
           }
          ],
          "pie": [
           {
            "automargin": true,
            "type": "pie"
           }
          ],
          "scatter": [
           {
            "fillpattern": {
             "fillmode": "overlay",
             "size": 10,
             "solidity": 0.2
            },
            "type": "scatter"
           }
          ],
          "scatter3d": [
           {
            "line": {
             "colorbar": {
              "outlinewidth": 0,
              "ticks": ""
             }
            },
            "marker": {
             "colorbar": {
              "outlinewidth": 0,
              "ticks": ""
             }
            },
            "type": "scatter3d"
           }
          ],
          "scattercarpet": [
           {
            "marker": {
             "colorbar": {
              "outlinewidth": 0,
              "ticks": ""
             }
            },
            "type": "scattercarpet"
           }
          ],
          "scattergeo": [
           {
            "marker": {
             "colorbar": {
              "outlinewidth": 0,
              "ticks": ""
             }
            },
            "type": "scattergeo"
           }
          ],
          "scattergl": [
           {
            "marker": {
             "colorbar": {
              "outlinewidth": 0,
              "ticks": ""
             }
            },
            "type": "scattergl"
           }
          ],
          "scattermapbox": [
           {
            "marker": {
             "colorbar": {
              "outlinewidth": 0,
              "ticks": ""
             }
            },
            "type": "scattermapbox"
           }
          ],
          "scatterpolar": [
           {
            "marker": {
             "colorbar": {
              "outlinewidth": 0,
              "ticks": ""
             }
            },
            "type": "scatterpolar"
           }
          ],
          "scatterpolargl": [
           {
            "marker": {
             "colorbar": {
              "outlinewidth": 0,
              "ticks": ""
             }
            },
            "type": "scatterpolargl"
           }
          ],
          "scatterternary": [
           {
            "marker": {
             "colorbar": {
              "outlinewidth": 0,
              "ticks": ""
             }
            },
            "type": "scatterternary"
           }
          ],
          "surface": [
           {
            "colorbar": {
             "outlinewidth": 0,
             "ticks": ""
            },
            "colorscale": [
             [
              0,
              "#0d0887"
             ],
             [
              0.1111111111111111,
              "#46039f"
             ],
             [
              0.2222222222222222,
              "#7201a8"
             ],
             [
              0.3333333333333333,
              "#9c179e"
             ],
             [
              0.4444444444444444,
              "#bd3786"
             ],
             [
              0.5555555555555556,
              "#d8576b"
             ],
             [
              0.6666666666666666,
              "#ed7953"
             ],
             [
              0.7777777777777778,
              "#fb9f3a"
             ],
             [
              0.8888888888888888,
              "#fdca26"
             ],
             [
              1,
              "#f0f921"
             ]
            ],
            "type": "surface"
           }
          ],
          "table": [
           {
            "cells": {
             "fill": {
              "color": "#EBF0F8"
             },
             "line": {
              "color": "white"
             }
            },
            "header": {
             "fill": {
              "color": "#C8D4E3"
             },
             "line": {
              "color": "white"
             }
            },
            "type": "table"
           }
          ]
         },
         "layout": {
          "annotationdefaults": {
           "arrowcolor": "#2a3f5f",
           "arrowhead": 0,
           "arrowwidth": 1
          },
          "autotypenumbers": "strict",
          "coloraxis": {
           "colorbar": {
            "outlinewidth": 0,
            "ticks": ""
           }
          },
          "colorscale": {
           "diverging": [
            [
             0,
             "#8e0152"
            ],
            [
             0.1,
             "#c51b7d"
            ],
            [
             0.2,
             "#de77ae"
            ],
            [
             0.3,
             "#f1b6da"
            ],
            [
             0.4,
             "#fde0ef"
            ],
            [
             0.5,
             "#f7f7f7"
            ],
            [
             0.6,
             "#e6f5d0"
            ],
            [
             0.7,
             "#b8e186"
            ],
            [
             0.8,
             "#7fbc41"
            ],
            [
             0.9,
             "#4d9221"
            ],
            [
             1,
             "#276419"
            ]
           ],
           "sequential": [
            [
             0,
             "#0d0887"
            ],
            [
             0.1111111111111111,
             "#46039f"
            ],
            [
             0.2222222222222222,
             "#7201a8"
            ],
            [
             0.3333333333333333,
             "#9c179e"
            ],
            [
             0.4444444444444444,
             "#bd3786"
            ],
            [
             0.5555555555555556,
             "#d8576b"
            ],
            [
             0.6666666666666666,
             "#ed7953"
            ],
            [
             0.7777777777777778,
             "#fb9f3a"
            ],
            [
             0.8888888888888888,
             "#fdca26"
            ],
            [
             1,
             "#f0f921"
            ]
           ],
           "sequentialminus": [
            [
             0,
             "#0d0887"
            ],
            [
             0.1111111111111111,
             "#46039f"
            ],
            [
             0.2222222222222222,
             "#7201a8"
            ],
            [
             0.3333333333333333,
             "#9c179e"
            ],
            [
             0.4444444444444444,
             "#bd3786"
            ],
            [
             0.5555555555555556,
             "#d8576b"
            ],
            [
             0.6666666666666666,
             "#ed7953"
            ],
            [
             0.7777777777777778,
             "#fb9f3a"
            ],
            [
             0.8888888888888888,
             "#fdca26"
            ],
            [
             1,
             "#f0f921"
            ]
           ]
          },
          "colorway": [
           "#636efa",
           "#EF553B",
           "#00cc96",
           "#ab63fa",
           "#FFA15A",
           "#19d3f3",
           "#FF6692",
           "#B6E880",
           "#FF97FF",
           "#FECB52"
          ],
          "font": {
           "color": "#2a3f5f"
          },
          "geo": {
           "bgcolor": "white",
           "lakecolor": "white",
           "landcolor": "#E5ECF6",
           "showlakes": true,
           "showland": true,
           "subunitcolor": "white"
          },
          "hoverlabel": {
           "align": "left"
          },
          "hovermode": "closest",
          "mapbox": {
           "style": "light"
          },
          "paper_bgcolor": "white",
          "plot_bgcolor": "#E5ECF6",
          "polar": {
           "angularaxis": {
            "gridcolor": "white",
            "linecolor": "white",
            "ticks": ""
           },
           "bgcolor": "#E5ECF6",
           "radialaxis": {
            "gridcolor": "white",
            "linecolor": "white",
            "ticks": ""
           }
          },
          "scene": {
           "xaxis": {
            "backgroundcolor": "#E5ECF6",
            "gridcolor": "white",
            "gridwidth": 2,
            "linecolor": "white",
            "showbackground": true,
            "ticks": "",
            "zerolinecolor": "white"
           },
           "yaxis": {
            "backgroundcolor": "#E5ECF6",
            "gridcolor": "white",
            "gridwidth": 2,
            "linecolor": "white",
            "showbackground": true,
            "ticks": "",
            "zerolinecolor": "white"
           },
           "zaxis": {
            "backgroundcolor": "#E5ECF6",
            "gridcolor": "white",
            "gridwidth": 2,
            "linecolor": "white",
            "showbackground": true,
            "ticks": "",
            "zerolinecolor": "white"
           }
          },
          "shapedefaults": {
           "line": {
            "color": "#2a3f5f"
           }
          },
          "ternary": {
           "aaxis": {
            "gridcolor": "white",
            "linecolor": "white",
            "ticks": ""
           },
           "baxis": {
            "gridcolor": "white",
            "linecolor": "white",
            "ticks": ""
           },
           "bgcolor": "#E5ECF6",
           "caxis": {
            "gridcolor": "white",
            "linecolor": "white",
            "ticks": ""
           }
          },
          "title": {
           "x": 0.05
          },
          "xaxis": {
           "automargin": true,
           "gridcolor": "white",
           "linecolor": "white",
           "ticks": "",
           "title": {
            "standoff": 15
           },
           "zerolinecolor": "white",
           "zerolinewidth": 2
          },
          "yaxis": {
           "automargin": true,
           "gridcolor": "white",
           "linecolor": "white",
           "ticks": "",
           "title": {
            "standoff": 15
           },
           "zerolinecolor": "white",
           "zerolinewidth": 2
          }
         }
        },
        "title": {
         "text": "Histogram of Residuals"
        },
        "xaxis": {
         "anchor": "y",
         "domain": [
          0,
          1
         ],
         "title": {
          "text": "Residuals"
         }
        },
        "yaxis": {
         "anchor": "x",
         "domain": [
          0,
          1
         ],
         "title": {
          "text": "Count"
         }
        }
       }
      }
     },
     "metadata": {},
     "output_type": "display_data"
    }
   ],
   "source": [
    "plot(prediction_df[prediction_df.Model == 'LightGBM'])"
   ]
  },
  {
   "cell_type": "markdown",
   "metadata": {},
   "source": [
    "## Feature selection"
   ]
  },
  {
   "cell_type": "code",
   "execution_count": 69,
   "metadata": {},
   "outputs": [],
   "source": [
    "# Get feature importances\n",
    "importances = models['Random Forest Regressor'].feature_importances_\n",
    "\n",
    "# Match feature names (assuming you have a list of names in feature_names)\n",
    "feature_names = list(x_train.columns)  # replace with your actual feature names\n",
    "\n",
    "features = sorted(zip(feature_names, importances), key=lambda x: x[1], reverse=True)\n",
    "\n",
    "features_importance = pd.DataFrame(features, columns=['Feature', 'Importance'])"
   ]
  },
  {
   "cell_type": "code",
   "execution_count": 70,
   "metadata": {},
   "outputs": [
    {
     "data": {
      "application/vnd.plotly.v1+json": {
       "config": {
        "plotlyServerURL": "https://plot.ly"
       },
       "data": [
        {
         "type": "bar",
         "x": [
          "Reactions",
          "Team",
          "League",
          "Ball control",
          "Composure",
          "Shot power",
          "Age",
          "Att. Position",
          "Curve",
          "Dribbling",
          "Long passing",
          "Finishing",
          "Nationality",
          "Crossing",
          "Stamina",
          "Long shots",
          "Penalties",
          "Jumping",
          "Aggression",
          "Standing tackle",
          "FK Accuracy",
          "Sprint speed",
          "GK Reflexes",
          "Sliding tackle",
          "GK Handling",
          "Interceptions",
          "Short passing",
          "Vision",
          "GK Diving",
          "Volleys",
          "Heading accuracy",
          "Strength",
          "GK Kicking",
          "Defensive awareness",
          "Balance",
          "Height",
          "Acceleration",
          "Weigh",
          "Agility",
          "GK Positioning",
          "Position",
          "Foot"
         ],
         "y": [
          0.5530350921917797,
          0.250576041702296,
          0.04625643503167586,
          0.015269057247494713,
          0.009211625155020232,
          0.008859994032438888,
          0.007658731097518055,
          0.007171029887254061,
          0.004756589414726501,
          0.004737638174179084,
          0.004703022553636756,
          0.004144050712487213,
          0.004048196863910525,
          0.0036375645397811376,
          0.0036256831319893892,
          0.0034651998762133393,
          0.0034427667906542533,
          0.0033780852497929757,
          0.0032805588822667465,
          0.0031727639260486227,
          0.003160252026757815,
          0.0031049352658434476,
          0.003097033988994903,
          0.003041515262418303,
          0.0030093700575654723,
          0.0029382743240712345,
          0.0028943777123146735,
          0.0028928434307242614,
          0.0028008445131963424,
          0.002769606308583693,
          0.0027446440133336745,
          0.002627145055533324,
          0.0026243725875443455,
          0.0026129100578113217,
          0.0025436683212638846,
          0.0024863209683234893,
          0.0024561181554345825,
          0.002342383634483998,
          0.0021254728554684216,
          0.002021456770607095,
          0.0009767015182138104,
          0.00029962671034782553
         ]
        }
       ],
       "layout": {
        "template": {
         "data": {
          "bar": [
           {
            "error_x": {
             "color": "#2a3f5f"
            },
            "error_y": {
             "color": "#2a3f5f"
            },
            "marker": {
             "line": {
              "color": "#E5ECF6",
              "width": 0.5
             },
             "pattern": {
              "fillmode": "overlay",
              "size": 10,
              "solidity": 0.2
             }
            },
            "type": "bar"
           }
          ],
          "barpolar": [
           {
            "marker": {
             "line": {
              "color": "#E5ECF6",
              "width": 0.5
             },
             "pattern": {
              "fillmode": "overlay",
              "size": 10,
              "solidity": 0.2
             }
            },
            "type": "barpolar"
           }
          ],
          "carpet": [
           {
            "aaxis": {
             "endlinecolor": "#2a3f5f",
             "gridcolor": "white",
             "linecolor": "white",
             "minorgridcolor": "white",
             "startlinecolor": "#2a3f5f"
            },
            "baxis": {
             "endlinecolor": "#2a3f5f",
             "gridcolor": "white",
             "linecolor": "white",
             "minorgridcolor": "white",
             "startlinecolor": "#2a3f5f"
            },
            "type": "carpet"
           }
          ],
          "choropleth": [
           {
            "colorbar": {
             "outlinewidth": 0,
             "ticks": ""
            },
            "type": "choropleth"
           }
          ],
          "contour": [
           {
            "colorbar": {
             "outlinewidth": 0,
             "ticks": ""
            },
            "colorscale": [
             [
              0,
              "#0d0887"
             ],
             [
              0.1111111111111111,
              "#46039f"
             ],
             [
              0.2222222222222222,
              "#7201a8"
             ],
             [
              0.3333333333333333,
              "#9c179e"
             ],
             [
              0.4444444444444444,
              "#bd3786"
             ],
             [
              0.5555555555555556,
              "#d8576b"
             ],
             [
              0.6666666666666666,
              "#ed7953"
             ],
             [
              0.7777777777777778,
              "#fb9f3a"
             ],
             [
              0.8888888888888888,
              "#fdca26"
             ],
             [
              1,
              "#f0f921"
             ]
            ],
            "type": "contour"
           }
          ],
          "contourcarpet": [
           {
            "colorbar": {
             "outlinewidth": 0,
             "ticks": ""
            },
            "type": "contourcarpet"
           }
          ],
          "heatmap": [
           {
            "colorbar": {
             "outlinewidth": 0,
             "ticks": ""
            },
            "colorscale": [
             [
              0,
              "#0d0887"
             ],
             [
              0.1111111111111111,
              "#46039f"
             ],
             [
              0.2222222222222222,
              "#7201a8"
             ],
             [
              0.3333333333333333,
              "#9c179e"
             ],
             [
              0.4444444444444444,
              "#bd3786"
             ],
             [
              0.5555555555555556,
              "#d8576b"
             ],
             [
              0.6666666666666666,
              "#ed7953"
             ],
             [
              0.7777777777777778,
              "#fb9f3a"
             ],
             [
              0.8888888888888888,
              "#fdca26"
             ],
             [
              1,
              "#f0f921"
             ]
            ],
            "type": "heatmap"
           }
          ],
          "heatmapgl": [
           {
            "colorbar": {
             "outlinewidth": 0,
             "ticks": ""
            },
            "colorscale": [
             [
              0,
              "#0d0887"
             ],
             [
              0.1111111111111111,
              "#46039f"
             ],
             [
              0.2222222222222222,
              "#7201a8"
             ],
             [
              0.3333333333333333,
              "#9c179e"
             ],
             [
              0.4444444444444444,
              "#bd3786"
             ],
             [
              0.5555555555555556,
              "#d8576b"
             ],
             [
              0.6666666666666666,
              "#ed7953"
             ],
             [
              0.7777777777777778,
              "#fb9f3a"
             ],
             [
              0.8888888888888888,
              "#fdca26"
             ],
             [
              1,
              "#f0f921"
             ]
            ],
            "type": "heatmapgl"
           }
          ],
          "histogram": [
           {
            "marker": {
             "pattern": {
              "fillmode": "overlay",
              "size": 10,
              "solidity": 0.2
             }
            },
            "type": "histogram"
           }
          ],
          "histogram2d": [
           {
            "colorbar": {
             "outlinewidth": 0,
             "ticks": ""
            },
            "colorscale": [
             [
              0,
              "#0d0887"
             ],
             [
              0.1111111111111111,
              "#46039f"
             ],
             [
              0.2222222222222222,
              "#7201a8"
             ],
             [
              0.3333333333333333,
              "#9c179e"
             ],
             [
              0.4444444444444444,
              "#bd3786"
             ],
             [
              0.5555555555555556,
              "#d8576b"
             ],
             [
              0.6666666666666666,
              "#ed7953"
             ],
             [
              0.7777777777777778,
              "#fb9f3a"
             ],
             [
              0.8888888888888888,
              "#fdca26"
             ],
             [
              1,
              "#f0f921"
             ]
            ],
            "type": "histogram2d"
           }
          ],
          "histogram2dcontour": [
           {
            "colorbar": {
             "outlinewidth": 0,
             "ticks": ""
            },
            "colorscale": [
             [
              0,
              "#0d0887"
             ],
             [
              0.1111111111111111,
              "#46039f"
             ],
             [
              0.2222222222222222,
              "#7201a8"
             ],
             [
              0.3333333333333333,
              "#9c179e"
             ],
             [
              0.4444444444444444,
              "#bd3786"
             ],
             [
              0.5555555555555556,
              "#d8576b"
             ],
             [
              0.6666666666666666,
              "#ed7953"
             ],
             [
              0.7777777777777778,
              "#fb9f3a"
             ],
             [
              0.8888888888888888,
              "#fdca26"
             ],
             [
              1,
              "#f0f921"
             ]
            ],
            "type": "histogram2dcontour"
           }
          ],
          "mesh3d": [
           {
            "colorbar": {
             "outlinewidth": 0,
             "ticks": ""
            },
            "type": "mesh3d"
           }
          ],
          "parcoords": [
           {
            "line": {
             "colorbar": {
              "outlinewidth": 0,
              "ticks": ""
             }
            },
            "type": "parcoords"
           }
          ],
          "pie": [
           {
            "automargin": true,
            "type": "pie"
           }
          ],
          "scatter": [
           {
            "fillpattern": {
             "fillmode": "overlay",
             "size": 10,
             "solidity": 0.2
            },
            "type": "scatter"
           }
          ],
          "scatter3d": [
           {
            "line": {
             "colorbar": {
              "outlinewidth": 0,
              "ticks": ""
             }
            },
            "marker": {
             "colorbar": {
              "outlinewidth": 0,
              "ticks": ""
             }
            },
            "type": "scatter3d"
           }
          ],
          "scattercarpet": [
           {
            "marker": {
             "colorbar": {
              "outlinewidth": 0,
              "ticks": ""
             }
            },
            "type": "scattercarpet"
           }
          ],
          "scattergeo": [
           {
            "marker": {
             "colorbar": {
              "outlinewidth": 0,
              "ticks": ""
             }
            },
            "type": "scattergeo"
           }
          ],
          "scattergl": [
           {
            "marker": {
             "colorbar": {
              "outlinewidth": 0,
              "ticks": ""
             }
            },
            "type": "scattergl"
           }
          ],
          "scattermapbox": [
           {
            "marker": {
             "colorbar": {
              "outlinewidth": 0,
              "ticks": ""
             }
            },
            "type": "scattermapbox"
           }
          ],
          "scatterpolar": [
           {
            "marker": {
             "colorbar": {
              "outlinewidth": 0,
              "ticks": ""
             }
            },
            "type": "scatterpolar"
           }
          ],
          "scatterpolargl": [
           {
            "marker": {
             "colorbar": {
              "outlinewidth": 0,
              "ticks": ""
             }
            },
            "type": "scatterpolargl"
           }
          ],
          "scatterternary": [
           {
            "marker": {
             "colorbar": {
              "outlinewidth": 0,
              "ticks": ""
             }
            },
            "type": "scatterternary"
           }
          ],
          "surface": [
           {
            "colorbar": {
             "outlinewidth": 0,
             "ticks": ""
            },
            "colorscale": [
             [
              0,
              "#0d0887"
             ],
             [
              0.1111111111111111,
              "#46039f"
             ],
             [
              0.2222222222222222,
              "#7201a8"
             ],
             [
              0.3333333333333333,
              "#9c179e"
             ],
             [
              0.4444444444444444,
              "#bd3786"
             ],
             [
              0.5555555555555556,
              "#d8576b"
             ],
             [
              0.6666666666666666,
              "#ed7953"
             ],
             [
              0.7777777777777778,
              "#fb9f3a"
             ],
             [
              0.8888888888888888,
              "#fdca26"
             ],
             [
              1,
              "#f0f921"
             ]
            ],
            "type": "surface"
           }
          ],
          "table": [
           {
            "cells": {
             "fill": {
              "color": "#EBF0F8"
             },
             "line": {
              "color": "white"
             }
            },
            "header": {
             "fill": {
              "color": "#C8D4E3"
             },
             "line": {
              "color": "white"
             }
            },
            "type": "table"
           }
          ]
         },
         "layout": {
          "annotationdefaults": {
           "arrowcolor": "#2a3f5f",
           "arrowhead": 0,
           "arrowwidth": 1
          },
          "autotypenumbers": "strict",
          "coloraxis": {
           "colorbar": {
            "outlinewidth": 0,
            "ticks": ""
           }
          },
          "colorscale": {
           "diverging": [
            [
             0,
             "#8e0152"
            ],
            [
             0.1,
             "#c51b7d"
            ],
            [
             0.2,
             "#de77ae"
            ],
            [
             0.3,
             "#f1b6da"
            ],
            [
             0.4,
             "#fde0ef"
            ],
            [
             0.5,
             "#f7f7f7"
            ],
            [
             0.6,
             "#e6f5d0"
            ],
            [
             0.7,
             "#b8e186"
            ],
            [
             0.8,
             "#7fbc41"
            ],
            [
             0.9,
             "#4d9221"
            ],
            [
             1,
             "#276419"
            ]
           ],
           "sequential": [
            [
             0,
             "#0d0887"
            ],
            [
             0.1111111111111111,
             "#46039f"
            ],
            [
             0.2222222222222222,
             "#7201a8"
            ],
            [
             0.3333333333333333,
             "#9c179e"
            ],
            [
             0.4444444444444444,
             "#bd3786"
            ],
            [
             0.5555555555555556,
             "#d8576b"
            ],
            [
             0.6666666666666666,
             "#ed7953"
            ],
            [
             0.7777777777777778,
             "#fb9f3a"
            ],
            [
             0.8888888888888888,
             "#fdca26"
            ],
            [
             1,
             "#f0f921"
            ]
           ],
           "sequentialminus": [
            [
             0,
             "#0d0887"
            ],
            [
             0.1111111111111111,
             "#46039f"
            ],
            [
             0.2222222222222222,
             "#7201a8"
            ],
            [
             0.3333333333333333,
             "#9c179e"
            ],
            [
             0.4444444444444444,
             "#bd3786"
            ],
            [
             0.5555555555555556,
             "#d8576b"
            ],
            [
             0.6666666666666666,
             "#ed7953"
            ],
            [
             0.7777777777777778,
             "#fb9f3a"
            ],
            [
             0.8888888888888888,
             "#fdca26"
            ],
            [
             1,
             "#f0f921"
            ]
           ]
          },
          "colorway": [
           "#636efa",
           "#EF553B",
           "#00cc96",
           "#ab63fa",
           "#FFA15A",
           "#19d3f3",
           "#FF6692",
           "#B6E880",
           "#FF97FF",
           "#FECB52"
          ],
          "font": {
           "color": "#2a3f5f"
          },
          "geo": {
           "bgcolor": "white",
           "lakecolor": "white",
           "landcolor": "#E5ECF6",
           "showlakes": true,
           "showland": true,
           "subunitcolor": "white"
          },
          "hoverlabel": {
           "align": "left"
          },
          "hovermode": "closest",
          "mapbox": {
           "style": "light"
          },
          "paper_bgcolor": "white",
          "plot_bgcolor": "#E5ECF6",
          "polar": {
           "angularaxis": {
            "gridcolor": "white",
            "linecolor": "white",
            "ticks": ""
           },
           "bgcolor": "#E5ECF6",
           "radialaxis": {
            "gridcolor": "white",
            "linecolor": "white",
            "ticks": ""
           }
          },
          "scene": {
           "xaxis": {
            "backgroundcolor": "#E5ECF6",
            "gridcolor": "white",
            "gridwidth": 2,
            "linecolor": "white",
            "showbackground": true,
            "ticks": "",
            "zerolinecolor": "white"
           },
           "yaxis": {
            "backgroundcolor": "#E5ECF6",
            "gridcolor": "white",
            "gridwidth": 2,
            "linecolor": "white",
            "showbackground": true,
            "ticks": "",
            "zerolinecolor": "white"
           },
           "zaxis": {
            "backgroundcolor": "#E5ECF6",
            "gridcolor": "white",
            "gridwidth": 2,
            "linecolor": "white",
            "showbackground": true,
            "ticks": "",
            "zerolinecolor": "white"
           }
          },
          "shapedefaults": {
           "line": {
            "color": "#2a3f5f"
           }
          },
          "ternary": {
           "aaxis": {
            "gridcolor": "white",
            "linecolor": "white",
            "ticks": ""
           },
           "baxis": {
            "gridcolor": "white",
            "linecolor": "white",
            "ticks": ""
           },
           "bgcolor": "#E5ECF6",
           "caxis": {
            "gridcolor": "white",
            "linecolor": "white",
            "ticks": ""
           }
          },
          "title": {
           "x": 0.05
          },
          "xaxis": {
           "automargin": true,
           "gridcolor": "white",
           "linecolor": "white",
           "ticks": "",
           "title": {
            "standoff": 15
           },
           "zerolinecolor": "white",
           "zerolinewidth": 2
          },
          "yaxis": {
           "automargin": true,
           "gridcolor": "white",
           "linecolor": "white",
           "ticks": "",
           "title": {
            "standoff": 15
           },
           "zerolinecolor": "white",
           "zerolinewidth": 2
          }
         }
        },
        "title": {
         "text": "Feature Importances from Random Forest Regressor"
        },
        "xaxis": {
         "tickangle": -45,
         "title": {
          "text": "Features"
         }
        },
        "yaxis": {
         "title": {
          "text": "Importance"
         }
        }
       }
      }
     },
     "metadata": {},
     "output_type": "display_data"
    }
   ],
   "source": [
    "# Sort features by importance\n",
    "sorted_indices = np.argsort(importances)[::-1]\n",
    "sorted_feature_names = [feature_names[idx] for idx in sorted_indices]\n",
    "sorted_importances = importances[sorted_indices]\n",
    "\n",
    "# Create Plotly bar chart\n",
    "fig = go.Figure([go.Bar(x=sorted_feature_names, y=sorted_importances)])\n",
    "fig.update_layout(\n",
    "    title='Feature Importances from Random Forest Regressor',\n",
    "    xaxis_title='Features',\n",
    "    yaxis_title='Importance',\n",
    "    xaxis_tickangle=-45\n",
    ")\n",
    "fig.show()"
   ]
  },
  {
   "cell_type": "markdown",
   "metadata": {},
   "source": [
    "## process prediction_df"
   ]
  },
  {
   "cell_type": "code",
   "execution_count": 71,
   "metadata": {},
   "outputs": [],
   "source": [
    "player_df = pd.read_csv('silver\\Player.csv')\n",
    "player_team_df = pd.read_csv('silver\\PlayerTeam.csv')\n",
    "team_league_df = pd.read_csv('silver\\TeamLeague.csv')\n",
    "\n",
    "team_df = pd.read_csv('silver\\Team.csv')\n",
    "league_df = pd.read_csv('silver\\League.csv')\n",
    "nationality_df = pd.read_csv('silver/Nationality.csv')\n",
    "position_df = pd.read_csv('silver\\Position.csv')"
   ]
  },
  {
   "cell_type": "code",
   "execution_count": 72,
   "metadata": {},
   "outputs": [
    {
     "data": {
      "text/html": [
       "<div>\n",
       "<style scoped>\n",
       "    .dataframe tbody tr th:only-of-type {\n",
       "        vertical-align: middle;\n",
       "    }\n",
       "\n",
       "    .dataframe tbody tr th {\n",
       "        vertical-align: top;\n",
       "    }\n",
       "\n",
       "    .dataframe thead th {\n",
       "        text-align: right;\n",
       "    }\n",
       "</style>\n",
       "<table border=\"1\" class=\"dataframe\">\n",
       "  <thead>\n",
       "    <tr style=\"text-align: right;\">\n",
       "      <th></th>\n",
       "      <th>PlayerName</th>\n",
       "      <th>Model</th>\n",
       "      <th>Actual Salary</th>\n",
       "      <th>Predicted Salary</th>\n",
       "      <th>Residuals</th>\n",
       "      <th>Percentage Error</th>\n",
       "    </tr>\n",
       "  </thead>\n",
       "  <tbody>\n",
       "    <tr>\n",
       "      <th>1142</th>\n",
       "      <td>Jacopo Fazzini</td>\n",
       "      <td>Linear Regressor</td>\n",
       "      <td>3000</td>\n",
       "      <td>17145</td>\n",
       "      <td>14145</td>\n",
       "      <td>471.500000</td>\n",
       "    </tr>\n",
       "    <tr>\n",
       "      <th>4567</th>\n",
       "      <td>Nathan Tella</td>\n",
       "      <td>Linear Regressor</td>\n",
       "      <td>36000</td>\n",
       "      <td>48241</td>\n",
       "      <td>12241</td>\n",
       "      <td>34.002778</td>\n",
       "    </tr>\n",
       "    <tr>\n",
       "      <th>2592</th>\n",
       "      <td>Janik Haberer</td>\n",
       "      <td>Linear Regressor</td>\n",
       "      <td>32000</td>\n",
       "      <td>31984</td>\n",
       "      <td>-16</td>\n",
       "      <td>-0.050000</td>\n",
       "    </tr>\n",
       "    <tr>\n",
       "      <th>1677</th>\n",
       "      <td>Cristiano Piccini</td>\n",
       "      <td>Linear Regressor</td>\n",
       "      <td>2000</td>\n",
       "      <td>15837</td>\n",
       "      <td>13837</td>\n",
       "      <td>691.850000</td>\n",
       "    </tr>\n",
       "    <tr>\n",
       "      <th>4958</th>\n",
       "      <td>Koen Van Langendonck</td>\n",
       "      <td>Linear Regressor</td>\n",
       "      <td>2000</td>\n",
       "      <td>573</td>\n",
       "      <td>-1427</td>\n",
       "      <td>-71.350000</td>\n",
       "    </tr>\n",
       "  </tbody>\n",
       "</table>\n",
       "</div>"
      ],
      "text/plain": [
       "                PlayerName             Model  Actual Salary  Predicted Salary  \\\n",
       "1142        Jacopo Fazzini  Linear Regressor           3000             17145   \n",
       "4567          Nathan Tella  Linear Regressor          36000             48241   \n",
       "2592         Janik Haberer  Linear Regressor          32000             31984   \n",
       "1677     Cristiano Piccini  Linear Regressor           2000             15837   \n",
       "4958  Koen Van Langendonck  Linear Regressor           2000               573   \n",
       "\n",
       "      Residuals  Percentage Error  \n",
       "1142      14145        471.500000  \n",
       "4567      12241         34.002778  \n",
       "2592        -16         -0.050000  \n",
       "1677      13837        691.850000  \n",
       "4958      -1427        -71.350000  "
      ]
     },
     "execution_count": 72,
     "metadata": {},
     "output_type": "execute_result"
    }
   ],
   "source": [
    "prediction_df.head()"
   ]
  },
  {
   "cell_type": "code",
   "execution_count": 73,
   "metadata": {},
   "outputs": [
    {
     "data": {
      "text/html": [
       "<div>\n",
       "<style scoped>\n",
       "    .dataframe tbody tr th:only-of-type {\n",
       "        vertical-align: middle;\n",
       "    }\n",
       "\n",
       "    .dataframe tbody tr th {\n",
       "        vertical-align: top;\n",
       "    }\n",
       "\n",
       "    .dataframe thead th {\n",
       "        text-align: right;\n",
       "    }\n",
       "</style>\n",
       "<table border=\"1\" class=\"dataframe\">\n",
       "  <thead>\n",
       "    <tr style=\"text-align: right;\">\n",
       "      <th></th>\n",
       "      <th>PlayerName</th>\n",
       "      <th>PlayerId</th>\n",
       "      <th>Model</th>\n",
       "      <th>Actual Salary</th>\n",
       "      <th>Predicted Salary</th>\n",
       "      <th>Residuals</th>\n",
       "      <th>Percentage Error</th>\n",
       "      <th>Nationality</th>\n",
       "      <th>Position</th>\n",
       "      <th>Team</th>\n",
       "      <th>League</th>\n",
       "      <th>Salary Assessment</th>\n",
       "    </tr>\n",
       "  </thead>\n",
       "  <tbody>\n",
       "    <tr>\n",
       "      <th>0</th>\n",
       "      <td>Jacopo Fazzini</td>\n",
       "      <td>3201</td>\n",
       "      <td>LightGBM</td>\n",
       "      <td>3000</td>\n",
       "      <td>10644</td>\n",
       "      <td>7644</td>\n",
       "      <td>254.800000</td>\n",
       "      <td>Italy</td>\n",
       "      <td>Attacking Midfield</td>\n",
       "      <td>Empoli</td>\n",
       "      <td>Serie A</td>\n",
       "      <td>Underpaid</td>\n",
       "    </tr>\n",
       "    <tr>\n",
       "      <th>1</th>\n",
       "      <td>Nathan Tella</td>\n",
       "      <td>3551</td>\n",
       "      <td>LightGBM</td>\n",
       "      <td>36000</td>\n",
       "      <td>32087</td>\n",
       "      <td>-3913</td>\n",
       "      <td>-10.869444</td>\n",
       "      <td>Nigeria</td>\n",
       "      <td>Center Back</td>\n",
       "      <td>Bayer 04 Leverkusen</td>\n",
       "      <td>Bundesliga</td>\n",
       "      <td>Overpaid</td>\n",
       "    </tr>\n",
       "    <tr>\n",
       "      <th>2</th>\n",
       "      <td>Janik Haberer</td>\n",
       "      <td>3687</td>\n",
       "      <td>LightGBM</td>\n",
       "      <td>32000</td>\n",
       "      <td>25542</td>\n",
       "      <td>-6458</td>\n",
       "      <td>-20.181250</td>\n",
       "      <td>Germany</td>\n",
       "      <td>Attacking Midfield</td>\n",
       "      <td>FC Union Berlin</td>\n",
       "      <td>Bundesliga</td>\n",
       "      <td>Overpaid</td>\n",
       "    </tr>\n",
       "    <tr>\n",
       "      <th>3</th>\n",
       "      <td>Cristiano Piccini</td>\n",
       "      <td>6295</td>\n",
       "      <td>LightGBM</td>\n",
       "      <td>2000</td>\n",
       "      <td>5932</td>\n",
       "      <td>3932</td>\n",
       "      <td>196.600000</td>\n",
       "      <td>Italy</td>\n",
       "      <td>Center Back</td>\n",
       "      <td>Sampdoria</td>\n",
       "      <td>Serie B</td>\n",
       "      <td>Underpaid</td>\n",
       "    </tr>\n",
       "    <tr>\n",
       "      <th>4</th>\n",
       "      <td>Koen Van Langendonck</td>\n",
       "      <td>4471</td>\n",
       "      <td>LightGBM</td>\n",
       "      <td>2000</td>\n",
       "      <td>2674</td>\n",
       "      <td>674</td>\n",
       "      <td>33.700000</td>\n",
       "      <td>Belgium</td>\n",
       "      <td>Goal Keeper</td>\n",
       "      <td>Westerlo</td>\n",
       "      <td>Pro League</td>\n",
       "      <td>Underpaid</td>\n",
       "    </tr>\n",
       "  </tbody>\n",
       "</table>\n",
       "</div>"
      ],
      "text/plain": [
       "             PlayerName  PlayerId     Model  Actual Salary  Predicted Salary  \\\n",
       "0        Jacopo Fazzini      3201  LightGBM           3000             10644   \n",
       "1          Nathan Tella      3551  LightGBM          36000             32087   \n",
       "2         Janik Haberer      3687  LightGBM          32000             25542   \n",
       "3     Cristiano Piccini      6295  LightGBM           2000              5932   \n",
       "4  Koen Van Langendonck      4471  LightGBM           2000              2674   \n",
       "\n",
       "   Residuals  Percentage Error Nationality            Position  \\\n",
       "0       7644        254.800000       Italy  Attacking Midfield   \n",
       "1      -3913        -10.869444     Nigeria         Center Back   \n",
       "2      -6458        -20.181250     Germany  Attacking Midfield   \n",
       "3       3932        196.600000       Italy         Center Back   \n",
       "4        674         33.700000     Belgium         Goal Keeper   \n",
       "\n",
       "                  Team      League Salary Assessment  \n",
       "0               Empoli     Serie A         Underpaid  \n",
       "1  Bayer 04 Leverkusen  Bundesliga          Overpaid  \n",
       "2      FC Union Berlin  Bundesliga          Overpaid  \n",
       "3            Sampdoria     Serie B         Underpaid  \n",
       "4             Westerlo  Pro League         Underpaid  "
      ]
     },
     "execution_count": 73,
     "metadata": {},
     "output_type": "execute_result"
    }
   ],
   "source": [
    "prediction_df = prediction_df[prediction_df.Model == 'LightGBM']\n",
    "\n",
    "prediction_df = prediction_df \\\n",
    "        .merge(player_name_df, on='PlayerName', how='left') \\\n",
    "        .merge(player_df, on='PlayerId', how='left') \\\n",
    "        .merge(player_team_df, on='PlayerId', how='left') \\\n",
    "        .merge(team_league_df, on='TeamId', how='left')\n",
    "\n",
    "prediction_df = prediction_df \\\n",
    "        .merge(nationality_df, on='NationalityId', how='left') \\\n",
    "        .merge(position_df, on='PositionId', how='left') \\\n",
    "        .merge(league_df, on='LeagueId', how='left') \\\n",
    "        .merge(team_df, on='TeamId', how='left')\n",
    "\n",
    "prediction_df = prediction_df[['PlayerName', 'PlayerId', 'Model', 'Actual Salary',\n",
    "                               'Predicted Salary','Residuals', 'Percentage Error',\n",
    "                               'Nationality', 'Position', 'Team', 'League']]\n",
    "\n",
    "# Assuming prediction_df is your existing DataFrame\n",
    "# Add a new column 'Salary Assessment' based on 'Percentage Error'\n",
    "prediction_df['Salary Assessment'] = prediction_df['Percentage Error'] \\\n",
    "        .apply(lambda x: 'Underpaid' if x > 10 else ('Overpaid' if x < -10 else 'Fair'))\n",
    "\n",
    "\n",
    "prediction_df.head()"
   ]
  },
  {
   "cell_type": "markdown",
   "metadata": {},
   "source": [
    "## Save datasets"
   ]
  },
  {
   "cell_type": "code",
   "execution_count": 74,
   "metadata": {},
   "outputs": [],
   "source": [
    "prediction_df.to_csv('gold\\Prediction.csv')\n",
    "features_importance.to_csv('gold\\FeatureImportance.csv')"
   ]
  }
 ],
 "metadata": {
  "kernelspec": {
   "display_name": ".venv",
   "language": "python",
   "name": "python3"
  },
  "language_info": {
   "codemirror_mode": {
    "name": "ipython",
    "version": 3
   },
   "file_extension": ".py",
   "mimetype": "text/x-python",
   "name": "python",
   "nbconvert_exporter": "python",
   "pygments_lexer": "ipython3",
   "version": "3.10.10"
  }
 },
 "nbformat": 4,
 "nbformat_minor": 2
}
