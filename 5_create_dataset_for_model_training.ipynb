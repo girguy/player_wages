{
 "cells": [
  {
   "cell_type": "code",
   "execution_count": 1,
   "metadata": {},
   "outputs": [],
   "source": [
    "import polars as pl"
   ]
  },
  {
   "cell_type": "code",
   "execution_count": 2,
   "metadata": {},
   "outputs": [],
   "source": [
    "def compute_numerical_feature_from_categorical(dataset, y, categorical_feature_name, numerical_feature_name):\n",
    "\n",
    "    feature_mean_value = dataset \\\n",
    "        .group_by(categorical_feature_name) \\\n",
    "            .agg(pl.col(y).mean()) \\\n",
    "        .sort(y)\n",
    "\n",
    "    feature_mean_value = feature_mean_value.rename({y:numerical_feature_name})\n",
    "\n",
    "    dataset = dataset.join(feature_mean_value, on=categorical_feature_name, how='left')\n",
    "    dataset = dataset.drop(categorical_feature_name, numerical_feature_name+'_right')\n",
    "    return dataset"
   ]
  },
  {
   "cell_type": "markdown",
   "metadata": {},
   "source": [
    "### Read data"
   ]
  },
  {
   "cell_type": "code",
   "execution_count": 3,
   "metadata": {},
   "outputs": [],
   "source": [
    "player_df = pl.read_csv('silver\\Player.csv')\n",
    "player_team_df = pl.read_csv('silver\\PlayerTeam.csv')\n",
    "team_df = pl.read_csv('silver\\Team.csv')\n",
    "team_league_df = pl.read_csv('silver\\TeamLeague.csv')\n",
    "nationality_df = pl.read_csv('silver/Nationality.csv')\n",
    "foot_df = pl.read_csv('silver\\Foot.csv')\n",
    "position_df = pl.read_csv('silver\\Position.csv')"
   ]
  },
  {
   "cell_type": "markdown",
   "metadata": {},
   "source": [
    "### Join data"
   ]
  },
  {
   "cell_type": "code",
   "execution_count": 4,
   "metadata": {},
   "outputs": [
    {
     "data": {
      "text/html": [
       "<div><style>\n",
       ".dataframe > thead > tr,\n",
       ".dataframe > tbody > tr {\n",
       "  text-align: right;\n",
       "  white-space: pre-wrap;\n",
       "}\n",
       "</style>\n",
       "<small>shape: (5, 45)</small><table border=\"1\" class=\"dataframe\"><thead><tr><th>PlayerId</th><th>Age</th><th>Height</th><th>Weigh</th><th>Value</th><th>Wage</th><th>Crossing</th><th>Finishing</th><th>Heading accuracy</th><th>Short passing</th><th>Volleys</th><th>Dribbling</th><th>Curve</th><th>FK Accuracy</th><th>Long passing</th><th>Ball control</th><th>Acceleration</th><th>Sprint speed</th><th>Agility</th><th>Reactions</th><th>Balance</th><th>Shot power</th><th>Jumping</th><th>Stamina</th><th>Strength</th><th>Long shots</th><th>Aggression</th><th>Interceptions</th><th>Att. Position</th><th>Vision</th><th>Penalties</th><th>Composure</th><th>Defensive awareness</th><th>Standing tackle</th><th>Sliding tackle</th><th>GK Diving</th><th>GK Handling</th><th>GK Kicking</th><th>GK Positioning</th><th>GK Reflexes</th><th>NationalityId</th><th>PositionId</th><th>FootId</th><th>TeamId</th><th>LeagueId</th></tr><tr><td>i64</td><td>i64</td><td>i64</td><td>i64</td><td>i64</td><td>i64</td><td>i64</td><td>i64</td><td>i64</td><td>i64</td><td>i64</td><td>i64</td><td>i64</td><td>i64</td><td>i64</td><td>i64</td><td>i64</td><td>i64</td><td>i64</td><td>i64</td><td>i64</td><td>i64</td><td>i64</td><td>i64</td><td>i64</td><td>i64</td><td>i64</td><td>i64</td><td>i64</td><td>i64</td><td>i64</td><td>i64</td><td>i64</td><td>i64</td><td>i64</td><td>i64</td><td>i64</td><td>i64</td><td>i64</td><td>i64</td><td>i64</td><td>i64</td><td>i64</td><td>i64</td><td>i64</td></tr></thead><tbody><tr><td>3061</td><td>23</td><td>185</td><td>78</td><td>5500000</td><td>33000</td><td>41</td><td>22</td><td>75</td><td>60</td><td>34</td><td>53</td><td>47</td><td>28</td><td>53</td><td>62</td><td>52</td><td>53</td><td>55</td><td>71</td><td>51</td><td>59</td><td>75</td><td>77</td><td>73</td><td>41</td><td>75</td><td>73</td><td>23</td><td>41</td><td>42</td><td>59</td><td>77</td><td>77</td><td>75</td><td>11</td><td>5</td><td>12</td><td>14</td><td>14</td><td>94</td><td>1</td><td>2</td><td>104</td><td>7</td></tr><tr><td>3412</td><td>27</td><td>182</td><td>75</td><td>1800000</td><td>14000</td><td>69</td><td>42</td><td>61</td><td>69</td><td>49</td><td>65</td><td>65</td><td>47</td><td>66</td><td>68</td><td>75</td><td>77</td><td>71</td><td>58</td><td>75</td><td>64</td><td>77</td><td>81</td><td>75</td><td>54</td><td>71</td><td>68</td><td>66</td><td>66</td><td>50</td><td>69</td><td>66</td><td>71</td><td>69</td><td>14</td><td>12</td><td>9</td><td>12</td><td>13</td><td>129</td><td>2</td><td>2</td><td>121</td><td>7</td></tr><tr><td>4627</td><td>21</td><td>187</td><td>78</td><td>2700000</td><td>9000</td><td>64</td><td>73</td><td>61</td><td>63</td><td>55</td><td>73</td><td>53</td><td>45</td><td>55</td><td>72</td><td>77</td><td>70</td><td>67</td><td>58</td><td>63</td><td>66</td><td>76</td><td>55</td><td>69</td><td>51</td><td>49</td><td>27</td><td>69</td><td>53</td><td>55</td><td>58</td><td>30</td><td>33</td><td>30</td><td>9</td><td>10</td><td>8</td><td>7</td><td>7</td><td>62</td><td>1</td><td>2</td><td>163</td><td>13</td></tr><tr><td>5029</td><td>22</td><td>183</td><td>75</td><td>2300000</td><td>8000</td><td>50</td><td>43</td><td>65</td><td>68</td><td>39</td><td>66</td><td>45</td><td>45</td><td>66</td><td>66</td><td>68</td><td>65</td><td>69</td><td>66</td><td>73</td><td>60</td><td>71</td><td>67</td><td>68</td><td>42</td><td>68</td><td>68</td><td>42</td><td>46</td><td>38</td><td>53</td><td>67</td><td>68</td><td>73</td><td>12</td><td>6</td><td>11</td><td>9</td><td>11</td><td>62</td><td>4</td><td>2</td><td>173</td><td>13</td></tr><tr><td>2373</td><td>21</td><td>180</td><td>78</td><td>32000000</td><td>15000</td><td>35</td><td>79</td><td>70</td><td>73</td><td>67</td><td>67</td><td>49</td><td>44</td><td>53</td><td>77</td><td>82</td><td>85</td><td>65</td><td>78</td><td>86</td><td>79</td><td>90</td><td>73</td><td>92</td><td>64</td><td>70</td><td>26</td><td>83</td><td>52</td><td>66</td><td>75</td><td>28</td><td>23</td><td>24</td><td>10</td><td>11</td><td>15</td><td>8</td><td>13</td><td>13</td><td>1</td><td>2</td><td>87</td><td>8</td></tr></tbody></table></div>"
      ],
      "text/plain": [
       "shape: (5, 45)\n",
       "┌──────────┬─────┬────────┬───────┬───┬────────────┬────────┬────────┬──────────┐\n",
       "│ PlayerId ┆ Age ┆ Height ┆ Weigh ┆ … ┆ PositionId ┆ FootId ┆ TeamId ┆ LeagueId │\n",
       "│ ---      ┆ --- ┆ ---    ┆ ---   ┆   ┆ ---        ┆ ---    ┆ ---    ┆ ---      │\n",
       "│ i64      ┆ i64 ┆ i64    ┆ i64   ┆   ┆ i64        ┆ i64    ┆ i64    ┆ i64      │\n",
       "╞══════════╪═════╪════════╪═══════╪═══╪════════════╪════════╪════════╪══════════╡\n",
       "│ 3061     ┆ 23  ┆ 185    ┆ 78    ┆ … ┆ 1          ┆ 2      ┆ 104    ┆ 7        │\n",
       "│ 3412     ┆ 27  ┆ 182    ┆ 75    ┆ … ┆ 2          ┆ 2      ┆ 121    ┆ 7        │\n",
       "│ 4627     ┆ 21  ┆ 187    ┆ 78    ┆ … ┆ 1          ┆ 2      ┆ 163    ┆ 13       │\n",
       "│ 5029     ┆ 22  ┆ 183    ┆ 75    ┆ … ┆ 4          ┆ 2      ┆ 173    ┆ 13       │\n",
       "│ 2373     ┆ 21  ┆ 180    ┆ 78    ┆ … ┆ 1          ┆ 2      ┆ 87     ┆ 8        │\n",
       "└──────────┴─────┴────────┴───────┴───┴────────────┴────────┴────────┴──────────┘"
      ]
     },
     "execution_count": 4,
     "metadata": {},
     "output_type": "execute_result"
    }
   ],
   "source": [
    "dataset = player_df.join(player_team_df, on='PlayerId', how='left')\n",
    "dataset = dataset \\\n",
    "    .join(team_df, on='TeamId', how='left') \\\n",
    "    .join(team_league_df, on='TeamId', how='left') \\\n",
    "    .join(foot_df, on='FootId', how='left') \\\n",
    "    .join(position_df, on='PositionId', how='left') \\\n",
    "    .join(nationality_df, on='NationalityId', how='left') \\\n",
    "    .drop(['Team', 'Foot', 'Position', 'Nationality'])\n",
    "\n",
    "dataset.head()"
   ]
  },
  {
   "cell_type": "markdown",
   "metadata": {},
   "source": [
    "#### Save dataset to gold directory"
   ]
  },
  {
   "cell_type": "code",
   "execution_count": 5,
   "metadata": {},
   "outputs": [],
   "source": [
    "dataset.write_csv('gold/Dataset.csv')"
   ]
  }
 ],
 "metadata": {
  "kernelspec": {
   "display_name": ".venv",
   "language": "python",
   "name": "python3"
  },
  "language_info": {
   "codemirror_mode": {
    "name": "ipython",
    "version": 3
   },
   "file_extension": ".py",
   "mimetype": "text/x-python",
   "name": "python",
   "nbconvert_exporter": "python",
   "pygments_lexer": "ipython3",
   "version": "3.10.10"
  }
 },
 "nbformat": 4,
 "nbformat_minor": 2
}
