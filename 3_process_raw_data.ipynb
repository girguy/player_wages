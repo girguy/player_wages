{
 "cells": [
  {
   "cell_type": "code",
   "execution_count": 79,
   "metadata": {},
   "outputs": [],
   "source": [
    "import polars as pl\n",
    "import re"
   ]
  },
  {
   "cell_type": "code",
   "execution_count": 80,
   "metadata": {},
   "outputs": [],
   "source": [
    "def create_ref_table(full_table, column_name):\n",
    "    df = full_table \\\n",
    "        .select(column_name) \\\n",
    "        .unique()\n",
    "\n",
    "    df = df \\\n",
    "        .with_columns(\n",
    "            pl.Series(column_name+'Id', list(range(1, len(df) + 1)))\n",
    "        )\n",
    "\n",
    "    full_table = full_table \\\n",
    "        .join(df, on=column_name, how='left') \\\n",
    "        .drop(column_name)\n",
    "    \n",
    "    return df, full_table\n",
    "\n",
    "# Define a function to convert the monetary values to integers\n",
    "def convert_to_int(value):\n",
    "    if 'M' in value:\n",
    "        # Remove the '€' symbol and 'M', then convert to float and multiply by 1,000,000\n",
    "        return int(float(value.replace('€', '').replace('M', '')) * 1000000)\n",
    "    elif 'K' in value:\n",
    "        # Remove the '€' symbol and 'K', then convert to float and multiply by 1,000\n",
    "        return int(float(value.replace('€', '').replace('K', '')) * 1000)\n",
    "    else:\n",
    "        # Just remove the '€' symbol and convert to int\n",
    "        return int(value.replace('€', ''))\n",
    "\n",
    "def transform_position(df):\n",
    "    goal_keeper = ['GK', 'Gardien de but']\n",
    "    center_back = ['CB', 'Défenseur central', 'Défense']\n",
    "    left_right_back = ['LCB', 'RCB', 'RB', 'LB', 'LWB', 'RWB', 'Arrière gauche', 'Arrière droit']\n",
    "    defensive_midfield = ['CDM', 'LDM', 'RDM', 'Milieu défensif']\n",
    "    attacking_midfield = ['RM', 'LM', 'CM', 'RCM', 'LCM', 'LAM', 'RAM', 'CAM',\n",
    "                          'Milieu offensif', 'Milieu droit', 'Milieu gauche',\n",
    "                          'Milieu de terrain', 'Milieu central']\n",
    "    attack = ['LW', 'RW', 'RF', 'LF', 'CF', 'LS', 'RS', 'ST', 'Ailier droit',\n",
    "              'Ailier gauche', 'Avant-centre', 'Deuxième attaquant', '']\n",
    "\n",
    "    df = df.with_columns(\n",
    "        pl.col(\"Position\").map_elements(\n",
    "            lambda value: (\n",
    "                'Goal Keeper' if value in goal_keeper else\n",
    "                'Center Back' if value in center_back else\n",
    "                'Wing Back' if value in left_right_back else\n",
    "                'Defensive Midfield' if value in defensive_midfield else\n",
    "                'Attacking Midfield' if value in attacking_midfield else\n",
    "                'Forward' if value in attack else\n",
    "                value\n",
    "            )\n",
    "        ).alias(\"Position\")\n",
    "    )\n",
    "\n",
    "    return df"
   ]
  },
  {
   "cell_type": "markdown",
   "metadata": {},
   "source": [
    "#### Read data"
   ]
  },
  {
   "cell_type": "code",
   "execution_count": 81,
   "metadata": {},
   "outputs": [],
   "source": [
    "player_df = pl.read_csv('raw\\Player.csv', separator=';').drop('PlayerName_right')\n",
    "player_team_df = pl.read_csv('raw\\PlayerTeam.csv', separator=';')\n",
    "team_df = pl.read_csv('raw\\Team.csv', separator=';')"
   ]
  },
  {
   "cell_type": "markdown",
   "metadata": {},
   "source": [
    "#### Process dataframes"
   ]
  },
  {
   "cell_type": "code",
   "execution_count": 83,
   "metadata": {},
   "outputs": [],
   "source": [
    "league_df, team_df = create_ref_table(team_df, 'League')\n",
    "\n",
    "team_df = team_df.drop('Link')\n",
    "\n",
    "team_league_df = team_df \\\n",
    "    .drop('Team') \\\n",
    "    .unique()\n",
    "\n",
    "team_df = team_df \\\n",
    "    .drop('LeagueId')\n",
    "\n",
    "player_team_df = player_team_df \\\n",
    "    .select(['PlayerId', 'TeamId'])\n",
    "\n",
    "### keep player name\n",
    "player_name_df = player_df \\\n",
    "    .select(['PlayerId', 'PlayerName'])\n",
    "\n",
    "player_df = player_df \\\n",
    "    .drop('PlayerName')\n",
    "\n",
    "nationality_df, player_df = create_ref_table(player_df, 'Nationality')\n",
    "player_df = transform_position(player_df)\n",
    "position_df, player_df = create_ref_table(player_df, 'Position')\n",
    "foot_df, player_df = create_ref_table(player_df, 'Foot')"
   ]
  },
  {
   "cell_type": "code",
   "execution_count": 84,
   "metadata": {},
   "outputs": [],
   "source": [
    "# Apply the conversion function to the column\n",
    "player_df = player_df.with_columns(pl.col(\"Value\").map_elements(convert_to_int))\n",
    "player_df = player_df.with_columns(pl.col(\"Wage\").map_elements(convert_to_int))"
   ]
  },
  {
   "cell_type": "markdown",
   "metadata": {},
   "source": [
    "#### Save dataframes into silver directory"
   ]
  },
  {
   "cell_type": "code",
   "execution_count": 85,
   "metadata": {},
   "outputs": [],
   "source": [
    "player_df.write_csv('silver/Player.csv')\n",
    "\n",
    "team_df.write_csv('silver/Team.csv')\n",
    "league_df.write_csv('silver/League.csv')\n",
    "nationality_df.write_csv('silver/Nationality.csv')\n",
    "foot_df.write_csv('silver/Foot.csv')\n",
    "position_df.write_csv('silver/Position.csv')\n",
    "\n",
    "player_team_df.write_csv('silver/PlayerTeam.csv')\n",
    "team_league_df.write_csv('silver/TeamLeague.csv')\n",
    "player_name_df.write_csv('silver/PlayerName.csv')"
   ]
  }
 ],
 "metadata": {
  "kernelspec": {
   "display_name": ".venv",
   "language": "python",
   "name": "python3"
  },
  "language_info": {
   "codemirror_mode": {
    "name": "ipython",
    "version": 3
   },
   "file_extension": ".py",
   "mimetype": "text/x-python",
   "name": "python",
   "nbconvert_exporter": "python",
   "pygments_lexer": "ipython3",
   "version": "3.10.10"
  }
 },
 "nbformat": 4,
 "nbformat_minor": 2
}
