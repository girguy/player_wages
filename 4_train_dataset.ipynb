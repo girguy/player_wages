{
 "cells": [
  {
   "cell_type": "code",
   "execution_count": 1,
   "metadata": {},
   "outputs": [],
   "source": [
    "import pandas as pd\n",
    "import numpy as np\n",
    "from sklearn.model_selection import train_test_split\n",
    "from sklearn.preprocessing import MinMaxScaler\n",
    "from sklearn.preprocessing import StandardScaler\n",
    "from sklearn.model_selection import GridSearchCV\n",
    "\n",
    "from sklearn.linear_model import LinearRegression\n",
    "from sklearn.linear_model import Ridge, Lasso\n",
    "from sklearn.ensemble import RandomForestRegressor\n",
    "import lightgbm as ltb\n",
    "\n",
    "from sklearn import metrics\n",
    "from sklearn.metrics import mean_squared_error, r2_score\n",
    "\n",
    "import plotly.graph_objects as go\n",
    "import plotly.express as px"
   ]
  },
  {
   "cell_type": "code",
   "execution_count": 2,
   "metadata": {},
   "outputs": [],
   "source": [
    "def compute_numerical_feature_from_categorical(dataset, y, categorical_feature_name, numerical_feature_name):\n",
    "\n",
    "    # Calculate the mean of the target variable grouped by the categorical feature\n",
    "    feature_mean_value = dataset.groupby(categorical_feature_name)[y].mean().reset_index()\n",
    "\n",
    "    # Rename the aggregated column to 'numerical_feature_name'\n",
    "    feature_mean_value = feature_mean_value.rename(columns={y: numerical_feature_name})\n",
    "\n",
    "    # Join the mean values back to the original dataset\n",
    "    dataset = dataset.merge(feature_mean_value, on=categorical_feature_name, how='left')\n",
    "\n",
    "    # Drop the original categorical feature and any duplicate columns that may have been created during the join\n",
    "    dataset = dataset.drop(columns=[categorical_feature_name])\n",
    "\n",
    "    return dataset, feature_mean_value\n",
    "\n",
    "def apply_encoder(dataset, encoder, categorical_feature_name, numerical_feature_name):\n",
    "    dataset = dataset.merge(encoder, on=categorical_feature_name, how='left')\n",
    "    dataset[numerical_feature_name] = dataset[numerical_feature_name].fillna(dataset[numerical_feature_name].mean())\n",
    "    dataset = dataset.drop(columns=[categorical_feature_name])\n",
    "\n",
    "    return dataset\n",
    "\n",
    "def get_player_name(player_ids, player_id_name):\n",
    "    player_ids = pd.DataFrame(player_ids)\n",
    "    player_name = player_ids \\\n",
    "        .merge(player_id_name, on='PlayerId', how='left') \\\n",
    "        .drop('PlayerId', axis=1)\n",
    "\n",
    "    return player_name\n",
    "\n",
    "def plot(df):\n",
    "    # Residuals Plot\n",
    "    fig_residuals = px.scatter(df, x='Predicted Salary', y='Residuals', hover_data=['Player'])\n",
    "    fig_residuals.update_layout(title='Residuals vs Predicted Salary', xaxis_title='Predicted Salary', yaxis_title='Predicted - Actual')\n",
    "\n",
    "    # Prediction vs Actual Plot\n",
    "    fig_pred_vs_actual = px.scatter(df, x='Actual Salary', y='Predicted Salary', hover_data=['Player'])\n",
    "    fig_pred_vs_actual.add_trace(go.Scatter(x=[df['Actual Salary'].min(), df['Actual Salary'].max()],\n",
    "                                            y=[df['Actual Salary'].min(), df['Actual Salary'].max()],\n",
    "                                            mode='lines', line=dict(dash='dash'), name='Perfect Prediction'))\n",
    "    fig_pred_vs_actual.update_layout(title='Predicted vs Actual Salary', xaxis_title='Actual Salary', yaxis_title='Predicted Salary')\n",
    "\n",
    "    # Histogram of Residuals\n",
    "    fig_hist_residuals = px.histogram(df, x='Residuals')\n",
    "    fig_hist_residuals.update_layout(title='Histogram of Residuals', xaxis_title='Residuals', yaxis_title='Count')\n",
    "\n",
    "    # Show the plots\n",
    "    fig_residuals.show()\n",
    "    fig_pred_vs_actual.show()\n",
    "    fig_hist_residuals.show()\n",
    "\n",
    "def compute_metrics(y, y_pred):\n",
    "    # Assuming predictions_df is your dataframe\n",
    "    # Mean Absolute Error (MAE)\n",
    "    mae = metrics.mean_absolute_error(y, y_pred)\n",
    "    # Mean Squared Error (MSE)\n",
    "    mse = metrics.mean_squared_error(y, y_pred)\n",
    "    # Root Mean Squared Error (RMSE)\n",
    "    rmse = np.sqrt(mse)  # Or directly, metrics.mean_squared_error(y_test, y_pred, squared=False)\n",
    "    # R-squared (R²)\n",
    "    r2 = metrics.r2_score(y, y_pred)\n",
    "\n",
    "    return mae, rmse, r2\n",
    "\n",
    "def get_metrics(name_model, predictions_df, y_train, y_train_pred):\n",
    "\n",
    "    mae_test, rmse_test, r2_test = compute_metrics(predictions_df['Actual Salary'], predictions_df['Predicted Salary'])\n",
    "    mae_train, rmse_train, r2_train = compute_metrics(y_train, y_train_pred)\n",
    "\n",
    "    computed_metrics = {\n",
    "        'Model': [name_model],\n",
    "        'Test - MAE': [mae_test],\n",
    "        'Test - RMSE': [rmse_test],\n",
    "        'Test - R-squared': [r2_test],\n",
    "        'Train - MAE': [mae_train],\n",
    "        'Train - RMSE': [rmse_train],\n",
    "        'Train - R-squared': [r2_train]\n",
    "    }\n",
    "\n",
    "    computed_metrics = pd.DataFrame(computed_metrics)\n",
    "\n",
    "    return computed_metrics\n",
    "\n",
    "def train_test_score_model(model_name, model, scaler, player_names, x_train, y_train, x_test, y_test):\n",
    "    model.fit(x_train, y_train)\n",
    "\n",
    "    # Transform the testing data (using the same scaler)\n",
    "    y_pred = model.predict(scaler.transform(x_test))\n",
    "    # Assuming 'predictions' is your array of predictions from the trained model\n",
    "    adjusted_y_pred = np.maximum(y_pred, 0)\n",
    "\n",
    "    # Create a DataFrame\n",
    "    predictions_df = pd.DataFrame({\n",
    "        'Player': player_names['PlayerName'].to_list(),\n",
    "        'Model': [model_name for i in range(len(adjusted_y_pred))],\n",
    "        'Actual Salary': list(y_test),\n",
    "        'Predicted Salary': list(adjusted_y_pred),\n",
    "        'Residuals': list(adjusted_y_pred - y_test)\n",
    "    })\n",
    "\n",
    "    y_pred_train = model.predict(x_train)\n",
    "    adjusted_y_pred_train = np.maximum(y_pred_train, 0)\n",
    "    computed_metrics = get_metrics(model_name, predictions_df, y_train, adjusted_y_pred_train)\n",
    "\n",
    "    return model, predictions_df, computed_metrics"
   ]
  },
  {
   "cell_type": "markdown",
   "metadata": {},
   "source": [
    "## Load dataset"
   ]
  },
  {
   "cell_type": "code",
   "execution_count": 3,
   "metadata": {},
   "outputs": [],
   "source": [
    "dataset = pd.read_csv('gold/dataset.csv', sep=';')\n",
    "player_name_df = pd.read_csv('silver/PlayerName.csv', sep=';')"
   ]
  },
  {
   "cell_type": "markdown",
   "metadata": {},
   "source": [
    "## Training, Validation, Testing split"
   ]
  },
  {
   "cell_type": "code",
   "execution_count": 4,
   "metadata": {},
   "outputs": [],
   "source": [
    "col_to_drop = ['Wage']\n",
    "X = dataset.drop(col_to_drop, axis=1)  # Assuming 'Value' is the target\n",
    "y = dataset['Wage']"
   ]
  },
  {
   "cell_type": "code",
   "execution_count": 5,
   "metadata": {},
   "outputs": [],
   "source": [
    "x_train, x_test, y_train, y_test = train_test_split(X, y, test_size=0.2, random_state=42)"
   ]
  },
  {
   "cell_type": "markdown",
   "metadata": {},
   "source": [
    "## Process training and testing set"
   ]
  },
  {
   "cell_type": "code",
   "execution_count": 6,
   "metadata": {},
   "outputs": [],
   "source": [
    "x_train = x_train.drop('PlayerId', axis=1)\n",
    "test_player_ids = x_test['PlayerId']\n",
    "player_names = get_player_name(test_player_ids, player_name_df)\n",
    "x_test = x_test.drop('PlayerId', axis=1)"
   ]
  },
  {
   "cell_type": "code",
   "execution_count": 7,
   "metadata": {},
   "outputs": [],
   "source": [
    "# encode categorical columns\n",
    "x_train, nationality_encoder = compute_numerical_feature_from_categorical(x_train, 'Value', 'NationalityId', 'Nationality')\n",
    "x_train, position_encoder = compute_numerical_feature_from_categorical(x_train, 'Value', 'PositionId', 'Position')\n",
    "x_train, foot_encoder = compute_numerical_feature_from_categorical(x_train, 'Value', 'FootId', 'Foot')\n",
    "x_train, team_encoder = compute_numerical_feature_from_categorical(x_train, 'Value', 'TeamId', 'Team')\n",
    "x_train, league_encoder = compute_numerical_feature_from_categorical(x_train, 'Value', 'LeagueId', 'League')\n",
    "\n",
    "x_test = apply_encoder(x_test, nationality_encoder, 'NationalityId', 'Nationality')\n",
    "x_test = apply_encoder(x_test, position_encoder, 'PositionId', 'Position')\n",
    "x_test = apply_encoder(x_test, foot_encoder, 'FootId', 'Foot')\n",
    "x_test = apply_encoder(x_test, team_encoder, 'TeamId', 'Team')\n",
    "x_test = apply_encoder(x_test, league_encoder, 'LeagueId', 'League')\n",
    "\n",
    "\n",
    "scaler_type = 'MinMaxScaler'\n",
    "if scaler_type == 'MinMaxScaler': scaler = MinMaxScaler(feature_range=(0, 1))\n",
    "else: scaler = StandardScaler()\n",
    "\n",
    "# Fit the scaler on the training data\n",
    "scaler.fit(x_train)\n",
    "\n",
    "# Transform the training data\n",
    "x_train_scaled = scaler.transform(x_train)"
   ]
  },
  {
   "cell_type": "markdown",
   "metadata": {},
   "source": [
    "## Train - Test - Score Models"
   ]
  },
  {
   "cell_type": "code",
   "execution_count": 8,
   "metadata": {},
   "outputs": [],
   "source": [
    "models = {\n",
    "    'Linear Regressor': LinearRegression(),\n",
    "    'Random Forest Regressor': RandomForestRegressor(n_estimators=300, max_depth=30, random_state=42),\n",
    "    'LightGBM': ltb.LGBMRegressor(colsample_bytree=0.7, learning_rate=0.1, max_depth=10, min_child_samples=20, n_estimators=300, num_leaves=31, subsample=0.8, random_state=42, verbose=-1),\n",
    "    }\n",
    "\n",
    "# Ridge cv\n",
    "# Light gbm\n",
    "# XG boost\n",
    "# Any estimator using the Huber loss would also be robust to outliers, e.g. SGDRegressor with loss='huber'.\n",
    "\n",
    "prediction_df = [] # pd.DataFrame(columns=['Player', 'Model', 'Actual Salary', 'Predicted Salary', 'Residuals'])\n",
    "computed_metrics = [] # pd.DataFrame(columns=['Model', 'MAE', 'MSE', 'RMSE', 'R-squared', 'Adjusted R-squared'])\n",
    "\n",
    "for name, model in models.items():\n",
    "    trained_model, pred_df, metric_df = train_test_score_model(name, model, scaler, player_names, x_train_scaled, y_train, x_test, y_test)\n",
    "    models[name] = trained_model\n",
    "    prediction_df.append(pred_df)\n",
    "    computed_metrics.append(metric_df)\n",
    "\n",
    "prediction_df = pd.concat(prediction_df)\n",
    "computed_metrics = pd.concat(computed_metrics)"
   ]
  },
  {
   "cell_type": "code",
   "execution_count": 9,
   "metadata": {},
   "outputs": [
    {
     "data": {
      "text/html": [
       "<div>\n",
       "<style scoped>\n",
       "    .dataframe tbody tr th:only-of-type {\n",
       "        vertical-align: middle;\n",
       "    }\n",
       "\n",
       "    .dataframe tbody tr th {\n",
       "        vertical-align: top;\n",
       "    }\n",
       "\n",
       "    .dataframe thead th {\n",
       "        text-align: right;\n",
       "    }\n",
       "</style>\n",
       "<table border=\"1\" class=\"dataframe\">\n",
       "  <thead>\n",
       "    <tr style=\"text-align: right;\">\n",
       "      <th></th>\n",
       "      <th>Model</th>\n",
       "      <th>Test - MAE</th>\n",
       "      <th>Test - RMSE</th>\n",
       "      <th>Test - R-squared</th>\n",
       "      <th>Train - MAE</th>\n",
       "      <th>Train - RMSE</th>\n",
       "      <th>Train - R-squared</th>\n",
       "    </tr>\n",
       "  </thead>\n",
       "  <tbody>\n",
       "    <tr>\n",
       "      <th>0</th>\n",
       "      <td>Linear Regressor</td>\n",
       "      <td>6769.848719</td>\n",
       "      <td>13431.906690</td>\n",
       "      <td>0.746704</td>\n",
       "      <td>6419.863956</td>\n",
       "      <td>11729.291074</td>\n",
       "      <td>0.794815</td>\n",
       "    </tr>\n",
       "    <tr>\n",
       "      <th>0</th>\n",
       "      <td>Random Forest Regressor</td>\n",
       "      <td>4162.475398</td>\n",
       "      <td>8591.590546</td>\n",
       "      <td>0.896367</td>\n",
       "      <td>1481.345057</td>\n",
       "      <td>3117.836783</td>\n",
       "      <td>0.985502</td>\n",
       "    </tr>\n",
       "    <tr>\n",
       "      <th>0</th>\n",
       "      <td>LightGBM</td>\n",
       "      <td>3498.799256</td>\n",
       "      <td>7636.322924</td>\n",
       "      <td>0.918131</td>\n",
       "      <td>1464.526556</td>\n",
       "      <td>2411.270508</td>\n",
       "      <td>0.991328</td>\n",
       "    </tr>\n",
       "  </tbody>\n",
       "</table>\n",
       "</div>"
      ],
      "text/plain": [
       "                     Model   Test - MAE   Test - RMSE  Test - R-squared  \\\n",
       "0         Linear Regressor  6769.848719  13431.906690          0.746704   \n",
       "0  Random Forest Regressor  4162.475398   8591.590546          0.896367   \n",
       "0                 LightGBM  3498.799256   7636.322924          0.918131   \n",
       "\n",
       "   Train - MAE  Train - RMSE  Train - R-squared  \n",
       "0  6419.863956  11729.291074           0.794815  \n",
       "0  1481.345057   3117.836783           0.985502  \n",
       "0  1464.526556   2411.270508           0.991328  "
      ]
     },
     "execution_count": 9,
     "metadata": {},
     "output_type": "execute_result"
    }
   ],
   "source": [
    "computed_metrics"
   ]
  },
  {
   "cell_type": "code",
   "execution_count": 10,
   "metadata": {},
   "outputs": [
    {
     "data": {
      "application/vnd.plotly.v1+json": {
       "config": {
        "plotlyServerURL": "https://plot.ly"
       },
       "data": [
        {
         "customdata": [
          [
           "Jacopo Fazzini"
          ],
          [
           "Nathan Tella"
          ],
          [
           "Janik Haberer"
          ],
          [
           "Cristiano Piccini"
          ],
          [
           "Koen Van Langendonck"
          ],
          [
           "Sam Larsson"
          ],
          [
           "Garry Mendes Rodrigues"
          ],
          [
           "Florian Krüger"
          ],
          [
           "Xeber Alkain Mitxelena"
          ],
          [
           "Flynn Downes"
          ],
          [
           "Reyes Cleary"
          ],
          [
           "João Miguel Teixeira Mendes"
          ],
          [
           "Iñaki Rupérez Urtasun"
          ],
          [
           "Peer Koopmeiners"
          ],
          [
           "Antonio Jonjić"
          ],
          [
           "Sherel Floranus"
          ],
          [
           "Fabio Torsiello"
          ],
          [
           "Antoine Leautey"
          ],
          [
           "Peter Ouaneh"
          ],
          [
           "Dario Dumić"
          ],
          [
           "Paul Stock"
          ],
          [
           "Federico Dimarco"
          ],
          [
           "Lilian Brassier"
          ],
          [
           "Liam Lindsay"
          ],
          [
           "Aitor Paredes Casamichana"
          ],
          [
           "Ryan Isaac Mendes da Graça"
          ],
          [
           "Alex Matos"
          ],
          [
           "Leandro Chichizola"
          ],
          [
           "Jorge Filipe Oliveira Fernandes"
          ],
          [
           "Semir Telalovic"
          ],
          [
           "Domingos Quina"
          ],
          [
           "Julen Lobete Cienfuegos"
          ],
          [
           "Colin Dagba"
          ],
          [
           "Fernando Pacheco Flores"
          ],
          [
           "Daniel Grilo Azevedo"
          ],
          [
           "Rui Filipe Caetano Moura"
          ],
          [
           "Christian Kinsombi"
          ],
          [
           "Niclas Füllkrug"
          ],
          [
           "Florian Kainz"
          ],
          [
           "Luca Giudici"
          ],
          [
           "Luis Milla Manzanares"
          ],
          [
           "Emmanuel Okyere Boateng"
          ],
          [
           "Tawanda Chirewa"
          ],
          [
           "Bahadır Gölgeli"
          ],
          [
           "Diyaeddine Abzi"
          ],
          [
           "Erce Kardeşler"
          ],
          [
           "Moryké Fofana"
          ],
          [
           "Gabriel Gudmundsson"
          ],
          [
           "Nikolas Agrafiotis"
          ],
          [
           "Jannik Vestergaard"
          ],
          [
           "Kaio César Andrade Lima"
          ],
          [
           "José Francisco dos Santos Júnior"
          ],
          [
           "Tjaronn Inteff Chefren Chery"
          ],
          [
           "Alessandro Bellemo"
          ],
          [
           "Vincent Janssen"
          ],
          [
           "Olivier Dumont"
          ],
          [
           "Andreas Albers Nielsen"
          ],
          [
           "Thibaut Nicolas Marc Courtois"
          ],
          [
           "Pajtim Kasami"
          ],
          [
           "Albert-Mboyo Sambi Lokonga"
          ],
          [
           "André Hoffmann"
          ],
          [
           "Mergim Berisha"
          ],
          [
           "Terem Igobor Moffi"
          ],
          [
           "Aitor Mañas Buenadicha"
          ],
          [
           "Edmond Fayçal Tapsoba"
          ],
          [
           "Amari'i Bell"
          ],
          [
           "Edoardo Borrelli"
          ],
          [
           "Francisco Gámez López"
          ],
          [
           "Kayky da Silva Chagas"
          ],
          [
           "Lawrence Ofori"
          ],
          [
           "Florentin Lucien Jean Bloch"
          ],
          [
           "Benicio Baker-Boaitey"
          ],
          [
           "Sveinn Aron Guðjohnsen"
          ],
          [
           "Christian Lund Gytkjær"
          ],
          [
           "Leo Skiri Østigård"
          ],
          [
           "Ivan Filipović"
          ],
          [
           "Daniel Heber"
          ],
          [
           "Luis Perea Hernández"
          ],
          [
           "André Seruca de Oliveira"
          ],
          [
           "Marc Aguado Pallarés"
          ],
          [
           "Pape Ousmane Sakho"
          ],
          [
           "Rodrigo Ribeiro de Macedo"
          ],
          [
           "Ilias Koutsoupias"
          ],
          [
           "川邉 骏"
          ],
          [
           "Nicholas Pierini"
          ],
          [
           "Elbasan Rashani"
          ],
          [
           "Samuele Di Benedetto"
          ],
          [
           "Adryelson Lima Silva"
          ],
          [
           "Amar Gerxhaliu"
          ],
          [
           "Moïse Sahi Dion"
          ],
          [
           "Pedro González López"
          ],
          [
           "Miguel Ángel Atienza Villa"
          ],
          [
           "Mathias De Amorim"
          ],
          [
           "Alejandro Grimaldo García"
          ],
          [
           "Raphael Gregório Guzzo"
          ],
          [
           "Rui Pedro Silva Costa"
          ],
          [
           "Héctor José Hernández Marrero"
          ],
          [
           "Raúl Navarro del Río"
          ],
          [
           "Ferdy Druijf"
          ],
          [
           "Shahruddin Magomedaliyev"
          ],
          [
           "Enrico Baldini"
          ],
          [
           "Ruben Bover Izquierdo"
          ],
          [
           "Ravil Tagir"
          ],
          [
           "Daniel Gómez Alcón"
          ],
          [
           "Souleyman Doumbia"
          ],
          [
           "Jordan Tell"
          ],
          [
           "Giorgio Cittadini"
          ],
          [
           "Hélder José Oliveira Sá"
          ],
          [
           "Borja González Tomás"
          ],
          [
           "Luca Moro"
          ],
          [
           "Reece James"
          ],
          [
           "Márton Dárdai"
          ],
          [
           "Luka Bogdan"
          ],
          [
           "Mohamed Bamba"
          ],
          [
           "Ygor Nogueira de Paula"
          ],
          [
           "Harrison Clarke"
          ],
          [
           "Raffaele Pucino"
          ],
          [
           "Diego García Campos"
          ],
          [
           "Gaby Jean"
          ],
          [
           "Victor Jörgen Nilsson Lindelöf"
          ],
          [
           "Sokol Çikalleshi"
          ],
          [
           "Thibault Campanini"
          ],
          [
           "Joshua Myles Abraham Key"
          ],
          [
           "Kevin Strootman"
          ],
          [
           "Alessandro Livieri"
          ],
          [
           "Danny Ward"
          ],
          [
           "Çağlar Söyüncü"
          ],
          [
           "Junior Mwanga"
          ],
          [
           "Gregorio Luperini"
          ],
          [
           "Erick Barbosa dos Santos"
          ],
          [
           "Andrew Ferai Rinomhota"
          ],
          [
           "Kofi Jeremy Amoako"
          ],
          [
           "Malick Mbaye"
          ],
          [
           "Nelson Amadin"
          ],
          [
           "Daniel Bentley"
          ],
          [
           "Jon Pacheco Dozagarat"
          ],
          [
           "Robert Dickie"
          ],
          [
           "Nassim Chadli"
          ],
          [
           "Quentin Merlin"
          ],
          [
           "Youssef Amyn"
          ],
          [
           "Lucas Höler"
          ],
          [
           "Kyle Bartley"
          ],
          [
           "Madi Monamay Nsosemo"
          ],
          [
           "Ayman Benarous"
          ],
          [
           "Moritz Römling"
          ],
          [
           "Iñigo Córdoba Querejeta"
          ],
          [
           "Miguel Gutiérrez Ortega"
          ],
          [
           "Dimitris Giannoulis"
          ],
          [
           "James Shea"
          ],
          [
           "Hugo Novoa Ramos"
          ],
          [
           "Jamal Musiala"
          ],
          [
           "Mahlon Beresford Baker Romeo"
          ],
          [
           "Sergi Cardona Bermúdez"
          ],
          [
           "Nick Fichtinger"
          ],
          [
           "Marc Cucurella Saseta"
          ],
          [
           "Branco van den Boomen"
          ],
          [
           "Matthieu Udol"
          ],
          [
           "Divin Mubama"
          ],
          [
           "Nathangelo Alexandro Markelo"
          ],
          [
           "Arthur Vermeeren"
          ],
          [
           "Joaquín Fernández Moreno"
          ],
          [
           "Rafik Belghali"
          ],
          [
           "Federico Gatti"
          ],
          [
           "Mitchell Dijks"
          ],
          [
           "Hugo Magnetti"
          ],
          [
           "Mamadou Diop"
          ],
          [
           "Muammer Sarıkaya"
          ],
          [
           "Nouha Dicko"
          ],
          [
           "Garland Gbellé"
          ],
          [
           "Maxime Jean Roberto Leverbe"
          ],
          [
           "Edin Višća"
          ],
          [
           "Bradley Barcola"
          ],
          [
           "Imanol García de Albéniz Crecente"
          ],
          [
           "Gregor Kobel"
          ],
          [
           "Avdo Spahić"
          ],
          [
           "Connal Trueman"
          ],
          [
           "Kenan Yıldız"
          ],
          [
           "Ryan Allsop"
          ],
          [
           "Aurélio Gabriel Ulineia Buta"
          ],
          [
           "Leonardo Pavoletti"
          ],
          [
           "Regan Slater"
          ],
          [
           "Trazié Thomas Zai"
          ],
          [
           "Rachid Ghezzal"
          ],
          [
           "Modibo Sagnan"
          ],
          [
           "Maxime Dominguez"
          ],
          [
           "Juan Carlos Martín Corral"
          ],
          [
           "Marvin Olawale Akinlabi Park"
          ],
          [
           "Milan Corryn"
          ],
          [
           "Frank Feller"
          ],
          [
           "Hákon Arnar Haraldsson"
          ],
          [
           "Nicolás Federico Castro"
          ],
          [
           "Nilson David Angulo Ramírez"
          ],
          [
           "Danilo D'Ambrosio"
          ],
          [
           "Israel Salazar Piriz"
          ],
          [
           "Mathías Olivera Miramontes"
          ],
          [
           "Alireza Jahanbakhsh"
          ],
          [
           "Tiago Fontoura Fonseca Morais"
          ],
          [
           "Spyros Angelidis"
          ],
          [
           "Madson de Souza Silva"
          ],
          [
           "John Stones"
          ],
          [
           "Maxime Busi"
          ],
          [
           "Khalil Fayad"
          ],
          [
           "Felipe Augusto da Silva"
          ],
          [
           "Harry Winks"
          ],
          [
           "Konrad de la Fuente"
          ],
          [
           "Daan Rots"
          ],
          [
           "Patrick Cutrone"
          ],
          [
           "Matteo Cotali"
          ],
          [
           "Tomáš Čvančara"
          ],
          [
           "Alioune Ba"
          ],
          [
           "Miguel Ángel Almirón Rejala"
          ],
          [
           "Guglielmo Vicario"
          ],
          [
           "Tjark Scheller"
          ],
          [
           "Tom Bischof"
          ],
          [
           "Jason Davidson"
          ],
          [
           "Junior Marsoni Sambu Mansoni"
          ],
          [
           "Sem Westerveld"
          ],
          [
           "Guéla Doué"
          ],
          [
           "Adrian Blake"
          ],
          [
           "Jeanuël Belocian"
          ],
          [
           "Adama Boiro"
          ],
          [
           "Bart Verbruggen"
          ],
          [
           "Boris Popovic"
          ],
          [
           "Mario Sesé Vera"
          ],
          [
           "Clément Jerome Michelin"
          ],
          [
           "Milan Smits"
          ],
          [
           "Bouna Sarr"
          ],
          [
           "Edgar Alcañiz Baldovi"
          ],
          [
           "Rigoberto Manuel Rivas Vindel"
          ],
          [
           "Lamine Fomba"
          ],
          [
           "Christopher Schindler"
          ],
          [
           "Triantafyllos Pasalidis"
          ],
          [
           "Justin-Noël Kalumba"
          ],
          [
           "Jordan Henderson"
          ],
          [
           "Gabriel Fernando de Jesus"
          ],
          [
           "Lorenzo De Silvestri"
          ],
          [
           "Edgar González Estrada"
          ],
          [
           "Marlos Moreno Durán"
          ],
          [
           "Jack Bonham"
          ],
          [
           "Cheick Oumar Konaté"
          ],
          [
           "Kenneth Aboh"
          ],
          [
           "Yohan Demoncy"
          ],
          [
           "Gerrard Buabo"
          ],
          [
           "Baye Ablaye Mbaye"
          ],
          [
           "Idrissa Gana Gueye"
          ],
          [
           "Rayan Ghrieb"
          ],
          [
           "Michael Obafemi"
          ],
          [
           "Arouna Sangante"
          ],
          [
           "Florian Bohnert"
          ],
          [
           "Luan Silva"
          ],
          [
           "Przemysław Płacheta"
          ],
          [
           "Odysseus Velanas"
          ],
          [
           "Luis Alberto Romero Alconchel"
          ],
          [
           "Peter Pekarík"
          ],
          [
           "Toni Domgjoni"
          ],
          [
           "Christian Rivera Hernández"
          ],
          [
           "Wahidullah Faghir"
          ],
          [
           "Bernardo Martins Sousa"
          ],
          [
           "Seydouba Cisse"
          ],
          [
           "Vakoun Issouf Bayo"
          ],
          [
           "Isac Alexi Sivert Lidberg"
          ],
          [
           "Stipe Perica"
          ],
          [
           "Eric Junior Bocat"
          ],
          [
           "Mario Ierardi"
          ],
          [
           "Luca Ravanelli"
          ],
          [
           "Óscar Guido Trejo"
          ],
          [
           "Alexandre Mendy"
          ],
          [
           "Kristian Pedersen"
          ],
          [
           "Jeroen Zoet"
          ],
          [
           "Johan Gastien"
          ],
          [
           "Claud Adjapong"
          ],
          [
           "Gustavo Enrique Giordano Amaro Assunção da Silva"
          ],
          [
           "Noah Mawene"
          ],
          [
           "Thijs Dallinga"
          ],
          [
           "Zakaria El Ouahdi"
          ],
          [
           "Alessio Zerbin"
          ],
          [
           "Alexandre Corredera Alardi"
          ],
          [
           "Dante Bonfim da Costa Santos"
          ],
          [
           "Shane Patrick Michael Duffy"
          ],
          [
           "Adrián Liso Liso Lahoz"
          ],
          [
           "Richie Omorowa"
          ],
          [
           "Divock Okoth Origi"
          ],
          [
           "Jarne Steuckers"
          ],
          [
           "Florian Miguel"
          ],
          [
           "Anis Mehmeti"
          ],
          [
           "Thomas Lemar"
          ],
          [
           "Brooke Norton-Cuffy"
          ],
          [
           "Miguel Rodríguez Vidal"
          ],
          [
           "Bruno Oliveira Bertinato"
          ],
          [
           "Mehdi Chahiri"
          ],
          [
           "Yaw Moses"
          ],
          [
           "Carl Rushworth"
          ],
          [
           "Taylor Moore"
          ],
          [
           "Manuel Obafemi Akanji"
          ],
          [
           "Kangni Frederic Ananou"
          ],
          [
           "Francesco Di Tacchio"
          ],
          [
           "Ali Fadal"
          ],
          [
           "Robert Leipertz"
          ],
          [
           "Jeffrey Gouweleeuw"
          ],
          [
           "Francisco Barbosa Vieites"
          ],
          [
           "Maxence Lacroix"
          ],
          [
           "Marcel Łubik"
          ],
          [
           "황의조 Ui Jo Hwang"
          ],
          [
           "David Torres Ortiz"
          ],
          [
           "Pedro Ortiz Bernat"
          ],
          [
           "シュミット・ダニエル"
          ],
          [
           "Joe Bryan"
          ],
          [
           "Arsène Courel"
          ],
          [
           "Noussair Mazraoui"
          ],
          [
           "Florent Muslija"
          ],
          [
           "Jhafets Christ Dick Reyes"
          ],
          [
           "Vincent Gembalies"
          ],
          [
           "Ricardo Daniel Pepi"
          ],
          [
           "Berkay Aydoğmuş"
          ],
          [
           "Jay den Haan"
          ],
          [
           "Francisco Javier Montero Rubio"
          ],
          [
           "Samuele Birindelli"
          ],
          [
           "Stefano Turati"
          ],
          [
           "Lucas Pires Silva"
          ],
          [
           "Mario Pašalić"
          ],
          [
           "Benedikt Gimber"
          ],
          [
           "Ogün Özçiçek"
          ],
          [
           "Thomas Glyn Doyle"
          ],
          [
           "Lucas François Bernard Hernández Pi"
          ],
          [
           "Marcel Beifus"
          ],
          [
           "Johann Serge Obiang"
          ],
          [
           "Hugo Sotelo Gómez"
          ],
          [
           "Mouhamadou Diarra"
          ],
          [
           "Aurélien Scheidler"
          ],
          [
           "Evan Ferguson"
          ],
          [
           "D'Leanu Arts"
          ],
          [
           "Luca Jannis Kilian"
          ],
          [
           "Bas Edo Kuipers"
          ],
          [
           "Marcos Sánchez Arriero"
          ],
          [
           "Massimo Coda"
          ],
          [
           "David Morillas Jiménez"
          ],
          [
           "Ibrahim Maza"
          ],
          [
           "Andrea Bertolacci"
          ],
          [
           "José Ignacio Fernández Iglesias"
          ],
          [
           "Bradley Stretton"
          ],
          [
           "Thomas Foket"
          ],
          [
           "Bachirou Yameogo"
          ],
          [
           "Jesse Bal"
          ],
          [
           "Luis Ezequiel Ávila"
          ],
          [
           "Illan Meslier"
          ],
          [
           "Kevin Miranda"
          ],
          [
           "Allan Linguet"
          ],
          [
           "Kevin Kraus"
          ],
          [
           "Elvis Rexhbeçaj"
          ],
          [
           "Cam Bragg"
          ],
          [
           "Jason Eyenga-Lokilo"
          ],
          [
           "Kenny Lala"
          ],
          [
           "Antonio Rüdiger"
          ],
          [
           "Iwo Kaczmarski"
          ],
          [
           "Francesco Caputo"
          ],
          [
           "Iván Chapela López"
          ],
          [
           "Stefan Leković"
          ],
          [
           "Godfried Roemeratoe"
          ],
          [
           "Jérémie Boga"
          ],
          [
           "Julian Jeanvier"
          ],
          [
           "Dominic Solanke"
          ],
          [
           "Quentin Braat"
          ],
          [
           "Bilal Brahimi"
          ],
          [
           "Jean-Luc Mamadou Diarra Dompé"
          ],
          [
           "Pedro Gastón Álvarez Sosa"
          ],
          [
           "Phillip Tietz"
          ],
          [
           "José Andrés Rodriguez Gaitán"
          ],
          [
           "Germán Sánchez Barahona"
          ],
          [
           "Yáser Asprilla Martínez"
          ],
          [
           "Brandon Soppy"
          ],
          [
           "Timo Baumgartl"
          ],
          [
           "Vedat Karakuş"
          ],
          [
           "Warren Tchimbembé"
          ],
          [
           "Asmir Begović"
          ],
          [
           "Michele Collocolo"
          ],
          [
           "Onur Bulut"
          ],
          [
           "Jubal Rocha Mendes Júnior"
          ],
          [
           "Mamadou Camara"
          ],
          [
           "Miguel Muñoz Mora"
          ],
          [
           "Nikola Vlašić"
          ],
          [
           "Reece Burke"
          ],
          [
           "Tomás Mejías Osorio"
          ],
          [
           "Ayotomiwa Dele-Bashiru"
          ],
          [
           "Jean Romaric Kevin Koffi"
          ],
          [
           "Ahmet Ege Gürleyen"
          ],
          [
           "Giacomo Raspadori"
          ],
          [
           "José León Bernal"
          ],
          [
           "Rolando Mandragora"
          ],
          [
           "Dirk Asare"
          ],
          [
           "Marc Jurado Gómez"
          ],
          [
           "Saba Sazonov"
          ],
          [
           "Famara Diédhiou"
          ],
          [
           "Bruno Lourenço Pinto de Almeida Paz"
          ],
          [
           "Nikola Krstović"
          ],
          [
           "Jesurun Rak-Sakyi"
          ],
          [
           "Andrea Cagnano"
          ],
          [
           "Lucas Vennegoor of Hess."
          ],
          [
           "David López Silva"
          ],
          [
           "Antoni-Djibu Milambo"
          ],
          [
           "Iker Undabarrena Martínez"
          ],
          [
           "Antoine Semenyo"
          ],
          [
           "Armando Broja"
          ],
          [
           "Tobias Kempe"
          ],
          [
           "Valerio Mantovani"
          ],
          [
           "Danel Sinani"
          ],
          [
           "Mexx Meerdink"
          ],
          [
           "Miquel Parera Pizá"
          ],
          [
           "Manuel Marras"
          ],
          [
           "Filip Wojciech Jagiełło"
          ],
          [
           "Alejandro Iturbe Encabo"
          ],
          [
           "Mateo Kovačić"
          ],
          [
           "Sergio Lozano Lluch"
          ],
          [
           "Sergio Camello Pérez"
          ],
          [
           "Silvio Merkaj"
          ],
          [
           "Dilan Kumar Markanday"
          ],
          [
           "Yasser Baldé"
          ],
          [
           "Moussa Sissoko"
          ],
          [
           "Zak Vyner"
          ],
          [
           "Yann Sommer"
          ],
          [
           "Hervé Kouakou Koffi"
          ],
          [
           "Alin Vasilică Șerban"
          ],
          [
           "Darlin Zidane Yongwa Ngameni"
          ],
          [
           "Jimmy Dunne"
          ],
          [
           "Vic Chambaere"
          ],
          [
           "Xavier Laglais Kouassi"
          ],
          [
           "Yassine Haouari"
          ],
          [
           "Noah Engelbreth"
          ],
          [
           "Nicolas Oliveira Kisilowski"
          ],
          [
           "Henri Salomaa"
          ],
          [
           "Jay Idzes"
          ],
          [
           "Simone Pozzato"
          ],
          [
           "Raúl Fernández-Cavada Mateos"
          ],
          [
           "Thomas Buitink"
          ],
          [
           "Valentino Livramento"
          ],
          [
           "守田 英正"
          ],
          [
           "Harouna Sy"
          ],
          [
           "Yann Yves Laurent Bodiger"
          ],
          [
           "Yunus Mallı"
          ],
          [
           "Joël Schingtienne"
          ],
          [
           "Vital Manuel N"
          ],
          [
           "Lorenzo Lucchesi"
          ],
          [
           "Bruno Xavier Almeida Costa"
          ],
          [
           "Nicola Rauti"
          ],
          [
           "Nicolas De Préville"
          ],
          [
           "Gabriele Piccinini"
          ],
          [
           "Adil Aouchiche"
          ],
          [
           "Martin Erlić"
          ],
          [
           "Ferran Jutglà Blanch"
          ],
          [
           "Christian Fassnacht"
          ],
          [
           "Niklas Niehoff"
          ],
          [
           "Simon Walde"
          ],
          [
           "Papiss Mison Djilobodji"
          ],
          [
           "Vito Mannone"
          ],
          [
           "Mustafa Kapı"
          ],
          [
           "Falaye Sacko"
          ],
          [
           "Piero Martín Hincapié Reyna"
          ],
          [
           "Gédéon Kalulu Kyatengwa"
          ],
          [
           "Felix Passlack"
          ],
          [
           "Garang Kuol"
          ],
          [
           "Rafael Sousa Gancho Brito"
          ],
          [
           "Antonio Mirante"
          ],
          [
           "Ricardo Domingos Barbosa Pereira"
          ],
          [
           "Amadou Keita"
          ],
          [
           "Alessandro Micai"
          ],
          [
           "Ömer Toprak"
          ],
          [
           "Samuel Loureiro Carvalho Justo"
          ],
          [
           "Damian van der Haar"
          ],
          [
           "Agustín Martegani"
          ],
          [
           "Felix Platte"
          ],
          [
           "Joseph Boyamba"
          ],
          [
           "Iké Dominique Ugbo"
          ],
          [
           "Maxime Kali Wenssens"
          ],
          [
           "Christian Borrego Isabel"
          ],
          [
           "Unai Marino Alkorta"
          ],
          [
           "Gustavo H. Alves Rodrigues"
          ],
          [
           "Nader El-Jindaoui"
          ],
          [
           "Gavin Okeroghene Bazunu"
          ],
          [
           "Oriol Romeu Vidal"
          ],
          [
           "Ibrahim Sissoko"
          ],
          [
           "Ørjan Håskjold Nyland"
          ],
          [
           "Tayo Adaramola"
          ],
          [
           "José Luis Muñoz León"
          ],
          [
           "Mathias Oyewusi"
          ],
          [
           "Alfons Sampsted"
          ],
          [
           "Abel Ruiz Ortega"
          ],
          [
           "Marcus Lilian Thuram-Ulien"
          ],
          [
           "Antonio Pergreffi"
          ],
          [
           "Sergio Cubero Ezcurra"
          ],
          [
           "Berkay Sülüngöz"
          ],
          [
           "Marcos André de Sousa Mendonça"
          ],
          [
           "Sébastien Bruzzese"
          ],
          [
           "Mohamed El Arouch"
          ],
          [
           "Rúben Ismael Valente Ramos"
          ],
          [
           "Lucas Perrin"
          ],
          [
           "Levi Samuels Colwill"
          ],
          [
           "Iver Tobias Rørvik Fossum"
          ],
          [
           "Cameron Lisceous Humphreys-Grant"
          ],
          [
           "Luis Ismael Vázquez"
          ],
          [
           "João Miguel Vieira Freitas Silva Marques"
          ],
          [
           "Miguel Loureiro Ameijenda"
          ],
          [
           "Logan Costa"
          ],
          [
           "Kyliane Dong"
          ],
          [
           "Joel Julius Ilmari Pohjanpalo"
          ],
          [
           "Luis Dettling"
          ],
          [
           "Julien Le Cardinal"
          ],
          [
           "Mihajlo Ilić"
          ],
          [
           "Kasper Dolberg Rasmussen"
          ],
          [
           "Charles Boli"
          ],
          [
           "Isak Hien"
          ],
          [
           "Estéban Lepaul"
          ],
          [
           "Borja Garcés Moreno"
          ],
          [
           "Nicolas Pépé"
          ],
          [
           "Ryan Andrews"
          ],
          [
           "Ben Knight"
          ],
          [
           "Eddie Anthony Salcedo Mora"
          ],
          [
           "Jaume Albert Cuéllar Mendoza"
          ],
          [
           "Lenny Pirringuel"
          ],
          [
           "Álvaro Killane Giardini"
          ],
          [
           "Ethan Shea Horvath"
          ],
          [
           "Siebe Horemans"
          ],
          [
           "Riad Nouri"
          ],
          [
           "Andy Joseph Pelmard"
          ],
          [
           "Ylies Aradj"
          ],
          [
           "Ángel Fortuño Viñas"
          ],
          [
           "Sam Proctor"
          ],
          [
           "Loris Mouyokolo"
          ],
          [
           "Antonio José Raíllo Arenas"
          ],
          [
           "Mohamed Airam Ramos Wade"
          ],
          [
           "Sergi Darder Moll"
          ],
          [
           "Michael Langer"
          ],
          [
           "Sabin Merino Zuloaga"
          ],
          [
           "Immanuël-Johannes Pherai"
          ],
          [
           "Francesco D'Alessio"
          ],
          [
           "Thomas Lam"
          ],
          [
           "Tyrell Sellars-Fleming"
          ],
          [
           "Furkan Onur Akyüz"
          ],
          [
           "Andries Noppert"
          ],
          [
           "László Bénes"
          ],
          [
           "Mike van Duinen"
          ],
          [
           "Ignacio De Arruabarrena Fernández"
          ],
          [
           "Francisco Andrés Sierralta Carvallo"
          ],
          [
           "Mücahit Serbest"
          ],
          [
           "Florian Tardieu"
          ],
          [
           "Rui Tiago Dantas da Silva"
          ],
          [
           "Álvaro Sanz Catalán"
          ],
          [
           "Didier Lamkel Zé"
          ],
          [
           "Sven Botman"
          ],
          [
           "三笘 薫"
          ],
          [
           "Mousa Mohammad Mousa Sulaiman Al-Tamari"
          ],
          [
           "Alejandro San Cristóbal"
          ],
          [
           "Gerard Deulofeu Lázaro"
          ],
          [
           "Alessandro Salvi"
          ],
          [
           "Wesley Nathan Hylton Harding"
          ],
          [
           "Alexis Laurent Patrice Roge Flips"
          ],
          [
           "Denis Mihai Drăguş"
          ],
          [
           "Samuel Peter Barnes"
          ],
          [
           "Efe Tecimer"
          ],
          [
           "Diego González Cabanes"
          ],
          [
           "Jakub Stolarczyk"
          ],
          [
           "Joseph Nonge"
          ],
          [
           "Nuno Miguel da Costa Jóia"
          ],
          [
           "Andreas Voglsammer"
          ],
          [
           "Roman Květ"
          ],
          [
           "José Alejandro Martín Valerón"
          ],
          [
           "Bünyamin Balcı"
          ],
          [
           "Pedro Miguel Santos Amador"
          ],
          [
           "David Turnbull"
          ],
          [
           "Alper Uludağ"
          ],
          [
           "Jorge Benito de Valle"
          ],
          [
           "Amadou Sagna"
          ],
          [
           "Jules Gaudin"
          ],
          [
           "Alberth Josué Elis Martínez"
          ],
          [
           "Juan Antonio Iglesias Sánchez"
          ],
          [
           "Cristian Darío Álvarez"
          ],
          [
           "Pablo Paulino Rosario"
          ],
          [
           "Afonso Manuel Abreu de Freitas"
          ],
          [
           "Tom van de Looi"
          ],
          [
           "Giorgos Kyriakopoulos"
          ],
          [
           "Paul Nardi"
          ],
          [
           "Róbert Boženík"
          ],
          [
           "Danilo Cataldi"
          ],
          [
           "Mark Gillespie"
          ],
          [
           "Lukas Schleimer"
          ],
          [
           "Audenirton Soares da Silva"
          ],
          [
           "Yohan Roche"
          ],
          [
           "Sadibou Sané"
          ],
          [
           "Pedro Lomba Neto"
          ],
          [
           "Dean Henderson"
          ],
          [
           "Mateus Quaresma Correia"
          ],
          [
           "Philipp Pentke"
          ],
          [
           "Stephen Antunes Eustáquio"
          ],
          [
           "Yanis Rahmani Cordeiro"
          ],
          [
           "Jorge Karseladze"
          ],
          [
           "Jannis Heuer"
          ],
          [
           "Anderson-Lenda Lucoqui"
          ],
          [
           "Alessandro Caporale"
          ],
          [
           "Nordine Kandil"
          ],
          [
           "Cheikh Ahmadou Bamba Mbacke Dieng"
          ],
          [
           "Stéphane Imad Diarra"
          ],
          [
           "Vicente Guaita Panadero"
          ],
          [
           "Kristian Nökkvi Hlynsson"
          ],
          [
           "Luigi Pellegrini"
          ],
          [
           "Muhammet Ali Özbaskıcı"
          ],
          [
           "Romain Del Castillo"
          ],
          [
           "Jean Zimmer"
          ],
          [
           "Florian Thomas Danho"
          ],
          [
           "Isaac Palazón Camacho"
          ],
          [
           "Wladimiro Falcone"
          ],
          [
           "Ricardo Rodríguez Gil Carcedo"
          ],
          [
           "Luca Daniel de la Torre"
          ],
          [
           "Tarık Çetin"
          ],
          [
           "Alan Gonzalo Varela"
          ],
          [
           "Filip Bilbija"
          ],
          [
           "Haris Hajradinović"
          ],
          [
           "Tyler Shaan Adams"
          ],
          [
           "伊藤 涼太郎"
          ],
          [
           "Dean Ruben James"
          ],
          [
           "Diadié Samassékou"
          ],
          [
           "Stije Resink"
          ],
          [
           "Jose María Saldaña Baeza"
          ],
          [
           "Horaţiu Alexandru Moldovan"
          ],
          [
           "Jimmy Cabot"
          ],
          [
           "Luís Miguel Castelo Santos"
          ],
          [
           "Nick Pope"
          ],
          [
           "Dave Kwakman"
          ],
          [
           "Nazariy Rusyn"
          ],
          [
           "Gökhan Gül"
          ],
          [
           "Hugo Bueno López"
          ],
          [
           "Brajan Gruda"
          ],
          [
           "Kağan Moradaoğlu"
          ],
          [
           "Theodor Alexander Corbeanu"
          ],
          [
           "Selvi Clua Oya"
          ],
          [
           "Gustav Christensen"
          ],
          [
           "Kevin Martin Krygård"
          ],
          [
           "Ivan Ilić"
          ],
          [
           "Kamil Piątkowski"
          ],
          [
           "Djordjije Medenica"
          ],
          [
           "Hans Hateboer"
          ],
          [
           "Mattia Tonetto"
          ],
          [
           "Simon Rhein"
          ],
          [
           "Kalidou Sidibé"
          ],
          [
           "Brian Alexis Ocampo Ferreira"
          ],
          [
           "Damián Cáceres Rodríguez"
          ],
          [
           "Patrick Herrmann"
          ],
          [
           "Iván Calero Ruiz"
          ],
          [
           "Mert Kömür"
          ],
          [
           "Lorenzo Di Stefano"
          ],
          [
           "Filippo Romagna"
          ],
          [
           "Manolo Portanova"
          ],
          [
           "Tyler Roberts"
          ],
          [
           "Joe Rothwell"
          ],
          [
           "Mark Travers"
          ],
          [
           "Flávio Basilua Jacinto Nazinho"
          ],
          [
           "Benji Michel"
          ],
          [
           "Théo Barbet"
          ],
          [
           "Luca Maniero"
          ],
          [
           "Julien Fontaine Ngoy Bin Cibambi"
          ],
          [
           "Kalifa Coulibaly"
          ],
          [
           "Cláudio Winck Neto"
          ],
          [
           "Lucas Ariel Ocampos"
          ],
          [
           "Patrick Vroegh"
          ],
          [
           "Borja Mayoral Moya"
          ],
          [
           "Tan Kenneth Jerico Schmidt"
          ],
          [
           "Alessandro Sorrentino"
          ],
          [
           "Reno Münz"
          ],
          [
           "Thomas Dickson-Peters"
          ],
          [
           "Sergio Postigo Redondo"
          ],
          [
           "Pietro Pellegri"
          ],
          [
           "Oliver Hüsing"
          ],
          [
           "Neal Maupay"
          ],
          [
           "Joseph Oluwaseyi Temitope Ayodele-Aribo"
          ],
          [
           "Lenny Vallier"
          ],
          [
           "Matteo Grandi"
          ],
          [
           "Cristian Daniel Ansaldi"
          ],
          [
           "Calvin Marc Brackelmann"
          ],
          [
           "Tom Lees"
          ],
          [
           "Alexandre Lacazette"
          ],
          [
           "Anastasios Chatzigiovanis"
          ],
          [
           "Youssef Aït Bennasser"
          ],
          [
           "Franck Surdez"
          ],
          [
           "Ali Ibrahim Karim Ali Al-Hamadi"
          ],
          [
           "Max Herrmann"
          ],
          [
           "Andrea Sala"
          ],
          [
           "Fabian de Keijzer"
          ],
          [
           "Mattias Olof Svanberg"
          ],
          [
           "Vinicius Silvestre da Costa"
          ],
          [
           "Isaak Davies"
          ],
          [
           "Kamarai Simon-Swyer"
          ],
          [
           "Stanislav Kritsyuk"
          ],
          [
           "José Luís Mendes Andrade"
          ],
          [
           "Papa Amadou Diallo"
          ],
          [
           "Bahadır Han Güngördü"
          ],
          [
           "Shea Charles"
          ],
          [
           "Hugo Duro Perales"
          ],
          [
           "Yerson Mosquera Valdelamar"
          ],
          [
           "Javier Castro Urdín"
          ],
          [
           "Rafael Tolói"
          ],
          [
           "Nicolas N'Koulou"
          ],
          [
           "Domingos André Ribeiro Almeida"
          ],
          [
           "Marcelino Ignacio Nuñez Espinoza"
          ],
          [
           "Billy Gilmour"
          ],
          [
           "Rafael Obrador Burguera"
          ],
          [
           "Mads Frøkjær-Jensen"
          ],
          [
           "Karlo Lulić"
          ],
          [
           "Lucas Tolentino Coelho de Lima"
          ],
          [
           "Nicolás González Iglesias"
          ],
          [
           "Roberto Insigne"
          ],
          [
           "Andreas Müller"
          ],
          [
           "Júlio Augusto Dabó"
          ],
          [
           "Ahmed Musa"
          ],
          [
           "Quinten Ryan Crispito Timber"
          ],
          [
           "Micah Hamilton"
          ],
          [
           "Mike Hauptmeijer"
          ],
          [
           "Bram van Polen"
          ],
          [
           "Valentin André Henri Rosier"
          ],
          [
           "Paweł Marek Dawidowicz"
          ],
          [
           "Manfredi Nespola"
          ],
          [
           "本間 至恩"
          ],
          [
           "Jorge Pascual Medina"
          ],
          [
           "Jens Dalsgaard Stage"
          ],
          [
           "Myles Lewis-Skelly"
          ],
          [
           "Ismail Achik"
          ],
          [
           "Abat Aymbetov"
          ],
          [
           "Yannik Bangsow"
          ],
          [
           "Hubert Dawid Idasiak"
          ],
          [
           "Luke McNally"
          ],
          [
           "Timothy Chandler"
          ],
          [
           "Carlo Johan Holse Justesen"
          ],
          [
           "Roberto Maximiliano Pereyra"
          ],
          [
           "Pablo Íñiguez de Heredia Larraz"
          ],
          [
           "Mateusz Łęgowski"
          ],
          [
           "Benson Manuel Hedilazio"
          ],
          [
           "Maximilian Beier"
          ],
          [
           "Morgan Guilavogui"
          ],
          [
           "Jovan Manev"
          ],
          [
           "Arnaud Lusamba"
          ],
          [
           "Logan Delaurier-Chaubet"
          ],
          [
           "Filippo Veneran"
          ],
          [
           "Givairo Read"
          ],
          [
           "Kazımcan Karataş"
          ],
          [
           "Nachon Nsingi"
          ],
          [
           "Leo Greiml"
          ],
          [
           "Evan Eghosa"
          ],
          [
           "Yannik Keitel"
          ],
          [
           "Yassine Kechta"
          ],
          [
           "Jamiro Gregory Monteiro Alvarenga"
          ],
          [
           "Samuel Bamba"
          ],
          [
           "Kouassi Ryan Sessegnon"
          ],
          [
           "Elias Cobbaut"
          ],
          [
           "Domilson Cordeiro dos Santos"
          ],
          [
           "Nathan Wood-Gordon"
          ],
          [
           "Gabriel Slonina"
          ],
          [
           "Fernando Pérez Morillo"
          ],
          [
           "Aitor Ruibal García"
          ],
          [
           "Halid Šabanović"
          ],
          [
           "Can Keleş"
          ],
          [
           "Emir Karic"
          ],
          [
           "Hamjatou Soukouna"
          ],
          [
           "Vivaldo Leandro Semedo Moura Sousa"
          ],
          [
           "Jules Olivier Ntcham"
          ],
          [
           "Cristiano Biraghi"
          ],
          [
           "Andrew Robertson"
          ],
          [
           "Serif Nhaga"
          ],
          [
           "Dean Huijsen"
          ],
          [
           "Carlos Dominguez Cáceres"
          ],
          [
           "Gianfranco Gazzaniga Farías"
          ],
          [
           "Benjamin Chrisene"
          ],
          [
           "Mark Flekken"
          ],
          [
           "Víctor Wehbi Aznar Ussen"
          ],
          [
           "Rodrygo Silva de Goes"
          ],
          [
           "Riccardo Calafiori"
          ],
          [
           "Alaaddin Okumuş"
          ],
          [
           "Maximilian Wöber"
          ],
          [
           "Thomas Goiginger"
          ],
          [
           "Francisco Femenía Far"
          ],
          [
           "Milan Đurić"
          ],
          [
           "Liam Kelly"
          ],
          [
           "Mustafa Tan"
          ],
          [
           "Ismaïla Sarr"
          ],
          [
           "David Datro Fofana"
          ],
          [
           "Daniel Olmo Carvajal"
          ],
          [
           "Jean Felipe Nogueira da Silva"
          ],
          [
           "Nikola Šipčić"
          ],
          [
           "Daniël Virginio Deen"
          ],
          [
           "Simon Graves Jensen"
          ],
          [
           "Kenny Joelle Tete"
          ],
          [
           "Ben Doak"
          ],
          [
           "Jordi Masip López"
          ],
          [
           "Karol Borys"
          ],
          [
           "Joe Johnson"
          ],
          [
           "Miguel Filipe Nunes Cardoso"
          ],
          [
           "Valentin Henry"
          ],
          [
           "Noel Futkeu"
          ],
          [
           "Francisco Jesús Crespo García"
          ],
          [
           "Alberto Hórreo Taveras"
          ],
          [
           "Sergi Gómez Solà"
          ],
          [
           "Jean-Ricner Bellegarde"
          ],
          [
           "Côme Bianay Balcot"
          ],
          [
           "Johannes Dörfler"
          ],
          [
           "Gonzalo Aguilar López"
          ],
          [
           "Kianz González-Froese"
          ],
          [
           "Ivan Prtajin"
          ],
          [
           "Salis Abdul Samed"
          ],
          [
           "Abdul Fatawu Issahaku"
          ],
          [
           "Paulo Dino Gazzaniga"
          ],
          [
           "Laureano Antonio Villa Suárez"
          ],
          [
           "アペルカンプ 真大 カール"
          ],
          [
           "Andrea Danzi"
          ],
          [
           "Mark Alexander McKenzie"
          ],
          [
           "Craig Dawson"
          ],
          [
           "Moussa Cissé"
          ],
          [
           "Robin Fellhauer"
          ],
          [
           "Marco van Ginkel"
          ],
          [
           "Finn Jeltsch"
          ],
          [
           "Ridgeciano Delano Haps"
          ],
          [
           "Gilberto Dambi Batista"
          ],
          [
           "Benjamin Bouchouari"
          ],
          [
           "Lionel Mpasi-Nzau"
          ],
          [
           "Kieffer Roberto Francisco Moore"
          ],
          [
           "Leonardo Bonucci"
          ],
          [
           "Antoine Joujou"
          ],
          [
           "William Anthony Patrick Smallbone"
          ],
          [
           "Salomon Abergel"
          ],
          [
           "Soufiane Bidaoui"
          ],
          [
           "Fabian Tait"
          ],
          [
           "Fabio Cristian Chiarodia"
          ],
          [
           "Nathan Michael Collins"
          ],
          [
           "Shane Kevin Ferguson"
          ],
          [
           "Antonio-Mirko Čolak"
          ],
          [
           "Daniel Esmorís Tasende"
          ],
          [
           "Garissone Innocent"
          ],
          [
           "Lucas Cañizares Conchello"
          ],
          [
           "Soner Gönül"
          ],
          [
           "Jacques Ekomié"
          ],
          [
           "Rayyan Baniya"
          ],
          [
           "Andreas Schjølberg Hanche-Olsen"
          ],
          [
           "Romelu Lukaku Menama"
          ],
          [
           "Víctor Andrés Meseguer Cavas"
          ],
          [
           "David Olatukunbo Alaba"
          ],
          [
           "Dimitrios Kourmpelis"
          ],
          [
           "Reinildo Isnard Mandava"
          ],
          [
           "Saad Agouzoul"
          ],
          [
           "Gleison Bremer Silva Nascimento"
          ],
          [
           "Yira Collins Sor"
          ],
          [
           "Hernâni Infande Tchuda da Silva"
          ],
          [
           "Victor Christoffer Jensen"
          ],
          [
           "Ezechiel Fiemawhle"
          ],
          [
           "Iker Muñoz Cameros"
          ],
          [
           "Mory Gbane"
          ],
          [
           "Fidel Chaves de la Torre"
          ],
          [
           "Bryan Lasme"
          ],
          [
           "Tiemoué Bakayoko"
          ],
          [
           "Hamari Traoré"
          ],
          [
           "Žan Rogelj"
          ],
          [
           "Daniel Heuer Fernandes"
          ],
          [
           "Karim-David Adeyemi"
          ],
          [
           "Niccolò Pisilli"
          ],
          [
           "室屋 成"
          ],
          [
           "Raphaël Eyongo"
          ],
          [
           "Fermín López Marín"
          ],
          [
           "Gerónimo Rulli"
          ],
          [
           "Pierre Patron"
          ],
          [
           "Nathaniel Brown"
          ],
          [
           "Andrea Cecchetto"
          ],
          [
           "Hamdi Akujobi"
          ],
          [
           "Kaide Gordon"
          ],
          [
           "Raúl Parra Artal"
          ],
          [
           "Charilaos Charisis"
          ],
          [
           "Joel Leandro Ordóñez Guerrero"
          ],
          [
           "Jorge Mier Martínez"
          ],
          [
           "Kevin Vogt"
          ],
          [
           "Christopher Antwi-Adjei"
          ],
          [
           "Ludovic Blas"
          ],
          [
           "Daniel Parejo Muñoz"
          ],
          [
           "Chiedozie Ogbene"
          ],
          [
           "Juan Gutiérrez Martínez"
          ],
          [
           "Gonzalo Villar del Fraile"
          ],
          [
           "Håvard Kallevik Nielsen"
          ],
          [
           "Vasilis Cornelius Barkas"
          ],
          [
           "Tomáš Kalas"
          ],
          [
           "Fredrik Oppegård"
          ],
          [
           "Grejohn Kyei"
          ],
          [
           "Ahmed Kashi"
          ],
          [
           "Achraf Laâziri"
          ],
          [
           "Riccardo Orsolini"
          ],
          [
           "Leopold Wahlstedt"
          ],
          [
           "Juan Antonio Delgado Baeza"
          ],
          [
           "Yunus Emre Konak"
          ],
          [
           "Alexander Hartmann Bah"
          ],
          [
           "Nahuel Noll"
          ],
          [
           "Samuel John Bell"
          ],
          [
           "Memphis Depay"
          ],
          [
           "Johny Placide"
          ],
          [
           "Deivid W. de Souza Eugênio"
          ],
          [
           "Paul Seguin"
          ],
          [
           "Harry Leonard"
          ],
          [
           "Cauley Woodrow"
          ],
          [
           "André de Castro Pereira"
          ],
          [
           "Mattia Caldara"
          ],
          [
           "Robson Alves de Barros"
          ],
          [
           "Sergio Arribas Prieto"
          ],
          [
           "Nicolò Casale"
          ],
          [
           "Dominic Calvert-Lewin"
          ],
          [
           "Mamadou Diakhon"
          ],
          [
           "Lukas Kunze"
          ],
          [
           "Bart Vriends"
          ],
          [
           "Emmanuel Kouadio Koné"
          ],
          [
           "Lucas Buades"
          ],
          [
           "Ousmane Diomande"
          ],
          [
           "Alessandro Pilati"
          ],
          [
           "Davide Balestrero"
          ],
          [
           "Lorenzo Venuti"
          ],
          [
           "Vetle Winger Dragsnes"
          ],
          [
           "Mohamed Naser Elsayed Elneny"
          ],
          [
           "Alexander Isak"
          ],
          [
           "Rikelmi Valentim dos Santos"
          ],
          [
           "Christiaan Ravych"
          ],
          [
           "Faïz Mattoir"
          ],
          [
           "Ragnar Oratmangoen"
          ],
          [
           "Petko Hristov"
          ],
          [
           "Bryan Blanco"
          ],
          [
           "Héctor Junior Firpo Adamés"
          ],
          [
           "Stefan de Vrij"
          ],
          [
           "Tymoteusz Puchacz"
          ],
          [
           "Rune Paeshuyse"
          ],
          [
           "Filippo Lorenzo Sgarbi"
          ],
          [
           "Stanislav Lobotka"
          ],
          [
           "Alejandro Baena Rodríguez"
          ],
          [
           "Joe White"
          ],
          [
           "Benjamin Lhassine Kone"
          ],
          [
           "Filippo Distefano"
          ],
          [
           "Bingourou Kamara"
          ],
          [
           "Gnantin Yann Gboho"
          ],
          [
           "Milos Kerkez"
          ],
          [
           "Nuno Miguel Gomes dos Santos"
          ],
          [
           "Jan Hendrik Marx"
          ],
          [
           "Alen Halilović"
          ],
          [
           "Cristian Ioan Ponde"
          ],
          [
           "Philippe Paulin Keny"
          ],
          [
           "Jannik Huth"
          ],
          [
           "Nuno Miguel Reis Lima"
          ],
          [
           "Omar Haktab Traoré"
          ],
          [
           "Iván Azón Monzón"
          ],
          [
           "Wilfried Stephane Singo"
          ],
          [
           "Luca Everink"
          ],
          [
           "Martín Zubimendi Ibáñez"
          ],
          [
           "Aleksandar Radovanović"
          ],
          [
           "Wesley Theodorus Hoedt"
          ],
          [
           "Jérémy Sebas"
          ],
          [
           "Cristian Esteban Gamboa Luna"
          ],
          [
           "Harvey Wiles-Richards"
          ],
          [
           "Airam Guzmán Castillo"
          ],
          [
           "Felipe Nicolás Avenatti Dovillabichus"
          ],
          [
           "Javier Sola Gascón"
          ],
          [
           "Kaan Ayhan"
          ],
          [
           "Tijjani Reijnders"
          ],
          [
           "Jayson Patrick Molumby"
          ],
          [
           "George Earthy"
          ],
          [
           "Antonio Zarzana Pérez"
          ],
          [
           "Okan Kocuk"
          ],
          [
           "Raúl De Tomás Gómez"
          ],
          [
           "Alessandro Vogliacco"
          ],
          [
           "Serkan Asan"
          ],
          [
           "Valentin Jacob"
          ],
          [
           "Francesco Ruberto"
          ],
          [
           "Elio Capradossi"
          ],
          [
           "Timo Becker"
          ],
          [
           "Doğukan Sinik"
          ],
          [
           "Delano Burgzorg"
          ],
          [
           "Niels Patrick Nkounkou"
          ],
          [
           "Tjaš Begić"
          ],
          [
           "Jasper Samooja"
          ],
          [
           "Brian Jepthe Bayeye"
          ],
          [
           "Xavier Quintillà Guasch"
          ],
          [
           "Harvey Lewis Barnes"
          ],
          [
           "Tristan Degreef"
          ],
          [
           "ルシアン リトバルスキー"
          ],
          [
           "Gernot Trauner"
          ],
          [
           "Abdul Manaf Nurudeen"
          ],
          [
           "Borja Iglesias Quintás"
          ],
          [
           "Samuel Obeng Gyabaa"
          ],
          [
           "Erdal Rakip"
          ],
          [
           "Jake Clarke-Salter"
          ],
          [
           "Benjamin Luke Woodburn"
          ],
          [
           "Omari Kellyman"
          ],
          [
           "Jonathan Howson"
          ],
          [
           "Pieter Gerkens"
          ],
          [
           "Alistair Edward McCann"
          ],
          [
           "Pablo Pérez Rico"
          ],
          [
           "Kaj de Rooij"
          ],
          [
           "İlkay Gündoğan"
          ],
          [
           "Wissam Ben Yedder"
          ],
          [
           "Ihlas Bebou"
          ],
          [
           "Can Bozdoğan"
          ],
          [
           "Syam Habib Ben Youssef"
          ],
          [
           "Michaël Bruno Dominique Cuisance"
          ],
          [
           "Onel Lázaro Hernández Mayea"
          ],
          [
           "Jorge Cuenca Barreno"
          ],
          [
           "Zach Muscat"
          ],
          [
           "Viktor Tobias Johansson"
          ],
          [
           "Paulo Bruno Exequiel Dybala"
          ],
          [
           "Gustavo Marques A. Santos"
          ],
          [
           "Adam Mayor"
          ],
          [
           "Ross Barkley"
          ],
          [
           "Rodrigo Mendoza Martinez"
          ],
          [
           "相馬 勇紀"
          ],
          [
           "Daniel Maldini"
          ],
          [
           "Laurent Abergel"
          ],
          [
           "Oscar Uddenäs"
          ],
          [
           "Alassane Alexandre Pléa"
          ],
          [
           "Junior Castello Lukeba"
          ],
          [
           "Kevin Volland"
          ],
          [
           "Marco Friedl"
          ],
          [
           "Rubén García Santos"
          ],
          [
           "Patrik Hrošovský"
          ],
          [
           "David Herold"
          ],
          [
           "Oihan Sancet Tirapu"
          ],
          [
           "Sergio Fernández Escobar"
          ],
          [
           "Gabriele Moncini"
          ],
          [
           "Dimitrios Sounas"
          ],
          [
           "Hirving Rodrigo Lozano Bahena"
          ],
          [
           "Seedy Jarju"
          ],
          [
           "Bradley Danger"
          ],
          [
           "Marcus Edwards"
          ],
          [
           "Jorge Giovani Zarfino Calandria"
          ],
          [
           "Kyle John McFadzean"
          ],
          [
           "Jayden Jezairo Braaf"
          ],
          [
           "Rafael Tavares Gomes Fernandes"
          ],
          [
           "Mile Svilar"
          ],
          [
           "Jacob Brown"
          ],
          [
           "Pol Lozano Vizuete"
          ],
          [
           "Régis Gurtner"
          ],
          [
           "Aaron Seydel"
          ],
          [
           "Joshua Wilson-Esbrand"
          ],
          [
           "Ivo Grbić"
          ],
          [
           "Thorgan Ganael Francis Hazard"
          ],
          [
           "Jack David Vincent Whatmough"
          ],
          [
           "Federico Tavernaro"
          ],
          [
           "Rick van Drongelen"
          ],
          [
           "Toma Bašić"
          ],
          [
           "中山 雄太"
          ],
          [
           "Luca Pandolfi"
          ],
          [
           "Claudio Andrés Bravo Muñoz"
          ],
          [
           "Anton Gaaei"
          ],
          [
           "Michele Camporese"
          ],
          [
           "Vitor Hugo Roque Ferreira"
          ],
          [
           "George Long"
          ],
          [
           "Umut Tohumcu"
          ],
          [
           "Matteo Ricci"
          ],
          [
           "Antonio Foti"
          ],
          [
           "Jaume Vicent Costa Jordá"
          ],
          [
           "Weston James Earl McKennie"
          ],
          [
           "Luca Pascal Schnellbacher"
          ],
          [
           "Albert Guðmundsson"
          ],
          [
           "Calum Chambers"
          ],
          [
           "Batuhan Çelik"
          ],
          [
           "Tommaso Cassandro"
          ],
          [
           "Alessio Vita"
          ],
          [
           "Xavier Chavalerin"
          ],
          [
           "Đorđe Nikolić"
          ],
          [
           "Lee Nicholls"
          ],
          [
           "Yassin Belkhdim"
          ],
          [
           "Sofyan Amrabat"
          ],
          [
           "Samuel Shashoua"
          ],
          [
           "Lion Lauberbach"
          ],
          [
           "Karl Sebastian Ring"
          ],
          [
           "Teddy Alloh"
          ],
          [
           "Isaac Hayden"
          ],
          [
           "Aritz Muguruza Peña"
          ],
          [
           "Stredair Appuah"
          ],
          [
           "Yakup Arda Kılıç"
          ],
          [
           "Osman Çelik"
          ],
          [
           "Norberto Bercique Gomes Betuncal"
          ],
          [
           "Jannes Luca Wieckhoff"
          ],
          [
           "Omar El Hilali"
          ],
          [
           "Pontus Almqvist"
          ],
          [
           "Griffin McDorman Yow"
          ],
          [
           "Igor Julio dos Santos de Paulo"
          ],
          [
           "Camiel Neghli"
          ],
          [
           "Michele Besaggio"
          ],
          [
           "Leo Sauer"
          ],
          [
           "Mehdi Jeannin"
          ],
          [
           "Levin Mete Öztunali"
          ],
          [
           "Otabek Shukurov"
          ],
          [
           "Volnei Feltes"
          ],
          [
           "Ion Nicolăescu"
          ],
          [
           "Danilo Luiz da Silva"
          ],
          [
           "Momodou Lamin Sonko"
          ],
          [
           "Jamie Paterson"
          ],
          [
           "Mahamé Siby"
          ],
          [
           "Ramy Bensebaini"
          ],
          [
           "Louis Mafouta"
          ],
          [
           "Giovanni Corradini"
          ],
          [
           "Filip Stevanović"
          ],
          [
           "Derensili Sanches Fernandes"
          ],
          [
           "Tim-Henry Handwerker"
          ],
          [
           "Nicola Bagnolini"
          ],
          [
           "Simon Désiré Sylvanus Deli"
          ],
          [
           "Jairo Izquierdo González"
          ],
          [
           "Manor Solomon"
          ],
          [
           "Bernardo de Souza"
          ],
          [
           "Javier Hernández Coarasa"
          ],
          [
           "長谷 部誠"
          ],
          [
           "Moritz-Broni Kwarteng"
          ],
          [
           "Jose Luís García Vayá"
          ],
          [
           "Riccardo Sottil"
          ],
          [
           "Lewis Harry Holtby"
          ],
          [
           "Giuseppe Aurelio"
          ],
          [
           "Yvann Maçon"
          ],
          [
           "Alfie Jones"
          ],
          [
           "Hakan Arslan"
          ],
          [
           "Tiago Emanuel Embaló Djaló"
          ],
          [
           "Abdallah Ndour"
          ],
          [
           "Facundo Esnáider Ruiz"
          ],
          [
           "Helton Brant Aleixo Leite"
          ],
          [
           "Jesús Joaquín Fernández Sáez de la Torre"
          ],
          [
           "Ryan Trevitt"
          ],
          [
           "Ángel Alarcón Galiot"
          ],
          [
           "Gaetano Vittorio Masucci"
          ],
          [
           "Ali Alipour"
          ],
          [
           "Cengiz Ünder"
          ],
          [
           "Cristian Ignacio Herrera Pérez"
          ],
          [
           "Erdem Canpolat"
          ],
          [
           "Mehdi Zeffane"
          ],
          [
           "Toon Raemaekers"
          ],
          [
           "Joarlem Batista Santos"
          ],
          [
           "Tygo Land"
          ],
          [
           "Vladimír Coufal"
          ],
          [
           "Kylian Mbappé Lottin"
          ],
          [
           "Wilfried Zaha"
          ],
          [
           "Janio Bikel Figueiredo da Silva"
          ],
          [
           "Bastien Meupiyou"
          ],
          [
           "Marcos Aoás Corrêa"
          ],
          [
           "Mujaid Sadick Aliu"
          ],
          [
           "Adrien Rabiot"
          ],
          [
           "Giuseppe Caso"
          ],
          [
           "Florian Tristan Mariano Thauvin"
          ],
          [
           "Nathan Ferguson"
          ],
          [
           "Taylor Foran"
          ],
          [
           "David Nicolás Andrade"
          ],
          [
           "Lucas Martínez Quarta"
          ],
          [
           "Charles Traoré"
          ],
          [
           "Cameron Pring"
          ],
          [
           "Boubakary Soumaré"
          ],
          [
           "Johann Berg Guðmunds­son"
          ],
          [
           "Andreas Bruus"
          ],
          [
           "Sebastian Andersson"
          ],
          [
           "Zinedine Ferhat"
          ],
          [
           "Carlos Augusto Zopolato Neves"
          ],
          [
           "Victor James Osimhen"
          ],
          [
           "Joe Gauci"
          ],
          [
           "Omari Giraud-Hutchinson"
          ],
          [
           "Mykhailo Mudryk"
          ],
          [
           "Olivier Deman"
          ],
          [
           "Alexandre Phliponeau"
          ],
          [
           "Nanitamo Jonathan Ikoné"
          ],
          [
           "Burak Öğür"
          ],
          [
           "Georg Strauch"
          ],
          [
           "Nikola Sekulov"
          ],
          [
           "Bartosz Białkowski"
          ],
          [
           "Nicolò Brighenti"
          ],
          [
           "Jake Vokins"
          ],
          [
           "Pierluigi Gollini"
          ],
          [
           "Dylan Williams"
          ],
          [
           "Júnior Udeme Pius"
          ],
          [
           "Borja García Freire"
          ],
          [
           "Tobi Adeyemo"
          ],
          [
           "Jean Thierry Lazare Amani"
          ],
          [
           "José Ángel Esmoris Tasende"
          ],
          [
           "Marvin Senaya"
          ],
          [
           "Anas Ouahim"
          ],
          [
           "Stefan Bajic"
          ],
          [
           "Samuel Gigot"
          ],
          [
           "Amadou Diawara"
          ],
          [
           "Mattia Viviani"
          ],
          [
           "Oscar Vilhelmsson"
          ],
          [
           "Rubén Sobrino Pozuelo"
          ],
          [
           "Derrick Arthur Köhn"
          ],
          [
           "Nicolò Bertola"
          ],
          [
           "Marek Rodák"
          ],
          [
           "Babajide David Akintola"
          ],
          [
           "Matondo-Merveille Papela"
          ],
          [
           "William Silva de Carvalho"
          ],
          [
           "Frank Lehmann"
          ],
          [
           "Juan Miranda González"
          ],
          [
           "Miguel Luís Pinto Veloso"
          ],
          [
           "Antony Iannarilli"
          ],
          [
           "Daley Sinkgraven"
          ],
          [
           "Marc-Oliver Kempf"
          ],
          [
           "Sergio Gómez Martín"
          ],
          [
           "Bennet Winter"
          ],
          [
           "Cristián Alexis Borja González"
          ],
          [
           "Théo Borne"
          ],
          [
           "Gian-Luca Waldschmidt"
          ],
          [
           "Luca Mazzitelli"
          ],
          [
           "Federico Barba"
          ],
          [
           "Damián Rodríguez Sousa"
          ],
          [
           "Doğucan Haspolat"
          ],
          [
           "Niall Nathan Michael Ennis"
          ],
          [
           "Teenage Lingani Hadebe"
          ],
          [
           "Giuseppe Pezzella"
          ],
          [
           "Sardar Azmoun"
          ],
          [
           "Salih Özcan"
          ],
          [
           "Pedro Chirivella Burgos"
          ],
          [
           "Merlin Röhl"
          ],
          [
           "Kaden Rodney"
          ],
          [
           "Nikola Moro"
          ],
          [
           "Marco Schuster"
          ],
          [
           "Sergio González Poirrier"
          ],
          [
           "Tim Breithaupt"
          ],
          [
           "Donyell Malen"
          ],
          [
           "Fábio Samuel Amorim Silva"
          ],
          [
           "Liam Henderson"
          ],
          [
           "Lewis O'Brien"
          ],
          [
           "Armando Izzo"
          ],
          [
           "Pierre-Emile Kordt Højbjerg"
          ],
          [
           "Nicolas Isimat-Mirin"
          ],
          [
           "Adedire Mebude"
          ],
          [
           "Hady Camara"
          ],
          [
           "Maximilian Eggestein"
          ],
          [
           "Christopher Jeffrey Richards"
          ],
          [
           "本 寛也"
          ],
          [
           "Quentin Daubin"
          ],
          [
           "Kristian Šekularac"
          ],
          [
           "Ousmane Dembélé"
          ],
          [
           "Oier Olazábal Paredes"
          ],
          [
           "Tidyane Diagouraga"
          ],
          [
           "Lukas Pinckert"
          ],
          [
           "Anwan Lawrence Nicholas"
          ],
          [
           "Stijn van Gassel"
          ],
          [
           "Iddrisu Baba Mohammed"
          ],
          [
           "Celestin De Schrevel"
          ],
          [
           "Christian Joel Sánchez Leal"
          ],
          [
           "Miguel Rebelo"
          ],
          [
           "Endri Çekiçi"
          ],
          [
           "Mats Lemmens"
          ],
          [
           "George Honeyman"
          ],
          [
           "Brahim Traoré"
          ],
          [
           "Murat Akşit"
          ],
          [
           "John McGinn"
          ],
          [
           "Kerim Çalhanoğlu"
          ],
          [
           "Jean Butez"
          ],
          [
           "Bilal Nadir"
          ],
          [
           "Emil Alfons Holm"
          ],
          [
           "Anouar El Azzouzi"
          ],
          [
           "Gautier Lloris"
          ],
          [
           "Florian Richard Wirtz"
          ],
          [
           "Filipe Miguel Barros Soares"
          ],
          [
           "Carlos Vinícius Santos de Jesús"
          ],
          [
           "Michael John Smith"
          ],
          [
           "Cengiz Demir"
          ],
          [
           "Remi Matthews"
          ],
          [
           "Paul Nebel"
          ],
          [
           "Milad Mohammadi Keshmarzi"
          ],
          [
           "Abdel Hakim Abdallah"
          ],
          [
           "Assane Diao Diaoune"
          ],
          [
           "Harry Kane"
          ],
          [
           "Jamie Knight-Lebel"
          ],
          [
           "Adam Buksa"
          ],
          [
           "Eray Korkmaz"
          ],
          [
           "Mats Rits"
          ],
          [
           "Sergiño Gianni Dest"
          ],
          [
           "Krzysztof Piątek"
          ],
          [
           "Thibo Somers"
          ],
          [
           "Lorenzo Andrenacci"
          ],
          [
           "Bernabé Barragán Maestre"
          ],
          [
           "João Pedro Junqueira de Jesus"
          ],
          [
           "Simone Giordano"
          ],
          [
           "Mamadou Fofana"
          ],
          [
           "Enzo Camille Alain Millot"
          ],
          [
           "Bruno Miguel Semedo Varela"
          ],
          [
           "Kamal Sowah"
          ],
          [
           "Flavio Junior Bianchi"
          ],
          [
           "Fabricio Rosario Dos Santos"
          ],
          [
           "Tony Strata"
          ],
          [
           "Sebastian Rode"
          ],
          [
           "Teddy Boulhendi"
          ],
          [
           "Sofiane Diop"
          ],
          [
           "Philipp Förster"
          ],
          [
           "João Pedro Loureiro da Costa"
          ],
          [
           "Emre Bekir"
          ],
          [
           "Miguel Raimundo Nóbrega"
          ],
          [
           "Loic Williams Ntambue Kayumba"
          ],
          [
           "Robin Bird"
          ],
          [
           "Bakary Haidara"
          ],
          [
           "Raffaele Cartano"
          ],
          [
           "Abdoulie Sanyang"
          ],
          [
           "Salvador Sánchez Ponce"
          ],
          [
           "Víctor Chust García"
          ],
          [
           "Iker Bravo Solanilla"
          ],
          [
           "Gonçalo Baptista Franco"
          ],
          [
           "Nikola Milenković"
          ],
          [
           "Akinlolu Richard Olamide Famewo"
          ],
          [
           "Artur Ioniță"
          ],
          [
           "Raheem Conte"
          ],
          [
           "Jan-Niklas Beste"
          ],
          [
           "Michail Antonio"
          ],
          [
           "Silvan Dominic Widmer"
          ],
          [
           "Leart Paqarada"
          ],
          [
           "Alexandre Roger Oukidja"
          ],
          [
           "Dorukhan Toköz"
          ],
          [
           "Borja Sainz Eguskiza"
          ],
          [
           "João Rodrigo Pereira Escoval"
          ],
          [
           "Đorđe Petrović"
          ],
          [
           "Richie Mamah Laryea"
          ],
          [
           "Pietro Beruatto"
          ],
          [
           "Martin Turk"
          ],
          [
           "Rayan Ny Aina Arnaldo Raveloson"
          ],
          [
           "Sandro Plínio Rosa da Cruz"
          ],
          [
           "Mateusz Praszelik"
          ],
          [
           "Enes Ünal"
          ],
          [
           "Gustavo Fabrice Sangaré"
          ],
          [
           "Blendi Idrizi"
          ],
          [
           "Alex Král"
          ],
          [
           "Pablo Marí Villar"
          ],
          [
           "Sha'mar Lawson"
          ],
          [
           "Leon Bell Bell"
          ],
          [
           "Pedro Nuno Almeida Pinho"
          ],
          [
           "Sofian Kiyine"
          ],
          [
           "Daniel Andrés Luna García"
          ],
          [
           "Fabio Andrea Ruggeri"
          ],
          [
           "Ruslan Malinovskyi"
          ],
          [
           "Lars Edi Stindl"
          ],
          [
           "Boris Tomiak"
          ],
          [
           "Jorge Miramón Santagertrudis"
          ],
          [
           "Marco André da Silva Lopes Matias"
          ],
          [
           "Cebrail Karayel"
          ],
          [
           "Grant Hall"
          ],
          [
           "Iker Muniain Goñi"
          ],
          [
           "Fabian Nürnberger"
          ],
          [
           "Patrick Erras"
          ],
          [
           "Franck Honorat"
          ],
          [
           "Alfonso Pastor Vacas"
          ],
          [
           "Jannik Dehm"
          ],
          [
           "Nikola Vasilj"
          ],
          [
           "Alejandro Quevedo Barber"
          ],
          [
           "David López Guijarro"
          ],
          [
           "Erik Pieters"
          ],
          [
           "Amine Harit"
          ],
          [
           "Finn Gilbert Dahmen"
          ],
          [
           "İbrahim Akdağ"
          ],
          [
           "Ager Aketxe Barrutia"
          ],
          [
           "Lassana Diabaté"
          ],
          [
           "Eneko Ortiz Díaz"
          ],
          [
           "Rubén Alcaraz Jiménez"
          ],
          [
           "Jérémy Mellot"
          ],
          [
           "Javier Alonso Bello"
          ],
          [
           "Joris Chotard"
          ],
          [
           "Steven Skrzybski"
          ],
          [
           "Aitor Córdoba Querejeta"
          ],
          [
           "Romain Thomas"
          ],
          [
           "Mert Müldür"
          ],
          [
           "Julian Börner"
          ],
          [
           "Bryan Gil Salvatierra"
          ],
          [
           "Ahmed Touba"
          ],
          [
           "Robert Kampa"
          ],
          [
           "Adrià Miquel Bosch Sanchis"
          ],
          [
           "Jake Livermore"
          ],
          [
           "Elliott Anderson"
          ],
          [
           "Jochem van de Kamp"
          ],
          [
           "Davide Frattesi"
          ],
          [
           "Marcos Peña Ocaña"
          ],
          [
           "Óscar Clemente Mues"
          ],
          [
           "Diego López Noguerol"
          ],
          [
           "Williot Theo Swedberg"
          ],
          [
           "Pablo Torre Carral"
          ],
          [
           "Julio César Enciso Espínola"
          ],
          [
           "Niels Devalckeneer"
          ],
          [
           "Daniele Ghilardi"
          ],
          [
           "Jordan Semedo"
          ],
          [
           "Danilo dos Santos de Oliveira"
          ],
          [
           "Gonzalo Ávila Gordón"
          ],
          [
           "Djakaridja Junior Traoré"
          ],
          [
           "Armel Bella Kotchap"
          ],
          [
           "Hayden Carter"
          ],
          [
           "Lander Olaetxea Ibaibarriaga"
          ],
          [
           "Daley Blind"
          ],
          [
           "Rafael Jiménez Jarque"
          ],
          [
           "Ajdin Hrustić"
          ],
          [
           "Marius Mouandilmadji"
          ],
          [
           "Javier Puado Díaz"
          ],
          [
           "Florian Loshaj"
          ],
          [
           "Ajibola Alese"
          ],
          [
           "Marcus Tavernier"
          ],
          [
           "Granit Xhaka"
          ],
          [
           "João Manuel Neves Virgínia"
          ],
          [
           "Tim Schleinitz"
          ],
          [
           "Siemen Buvé"
          ],
          [
           "Florent Mollet"
          ],
          [
           "Rijad Smajić"
          ],
          [
           "Osaze Urhoghide"
          ],
          [
           "Aster Jan Vranckx"
          ],
          [
           "Loizos Loizou"
          ],
          [
           "Valerio Mastrantonio"
          ],
          [
           "Dimitrios Pelkas"
          ],
          [
           "Emanuel Vignato"
          ],
          [
           "Mostafa Mohamed Ahmed Abdallah"
          ],
          [
           "Jonathan de Guzmán"
          ],
          [
           "Alpaslan Öztürk"
          ],
          [
           "Ziyad Larkeche"
          ],
          [
           "Álvaro Odriozola Arzalluz"
          ],
          [
           "Gabriel Julien Dominique Barès"
          ],
          [
           "Kepa Arrizabalaga Revuelta"
          ],
          [
           "Charlie Casper"
          ],
          [
           "Théo Luis Fonseca"
          ],
          [
           "Paolo Rozzio"
          ],
          [
           "Unai López Cabrera"
          ],
          [
           "Mert Hakan Yandaş"
          ],
          [
           "Youssef Ramalho Chermiti"
          ],
          [
           "Tom Vandenberghe"
          ],
          [
           "Justin Antonius Lonwijk"
          ],
          [
           "Piotr Sebastian Zieliński"
          ],
          [
           "Tom Ducrocq"
          ],
          [
           "Jean-Charles Castelletto"
          ],
          [
           "Krépin Diatta"
          ],
          [
           "Thomas Christopher Cannon"
          ],
          [
           "Saúl García Cabrero"
          ],
          [
           "Jacopo Manconi"
          ],
          [
           "Nick Olij"
          ],
          [
           "Gonzalo Ariel Montiel"
          ],
          [
           "Diego Espinosa García"
          ],
          [
           "Jordan Yamoah Amissah"
          ],
          [
           "Javier Ontiveros Parra"
          ],
          [
           "Bonke Innocent"
          ],
          [
           "Axel Arthur Disasi"
          ],
          [
           "Aïman Maurer"
          ],
          [
           "Valdemiro Pinto Domingos"
          ],
          [
           "Serge David Gnabry"
          ],
          [
           "Mathis Hamdi"
          ],
          [
           "Mijo Caktaš"
          ],
          [
           "Dennis Geiger"
          ],
          [
           "Jonas Nickisch"
          ],
          [
           "Pietro Iemmello"
          ],
          [
           "Nobel Mendy"
          ],
          [
           "Salim Diakité"
          ],
          [
           "Martin Adeline"
          ],
          [
           "Elia Caprile"
          ],
          [
           "Max Rosenfelder"
          ],
          [
           "Mark Sykes"
          ],
          [
           "Kenneth Josiah Omeruo"
          ],
          [
           "Juan Ferney Otero Tovar"
          ],
          [
           "Robert Wagner"
          ],
          [
           "Matthew James Doherty"
          ],
          [
           "Kristoffer Paul Peterson"
          ],
          [
           "Rémy Boissier"
          ],
          [
           "Mattia Perin"
          ],
          [
           "Serdar Dursun"
          ],
          [
           "Dal Varešanović"
          ],
          [
           "Djenahro Nunumete"
          ],
          [
           "Zeki Yavru"
          ],
          [
           "Charlie Cresswell"
          ],
          [
           "Youri Regeer"
          ],
          [
           "Téva Gardies"
          ],
          [
           "Philana Tinotenda Kadewere"
          ],
          [
           "Sergio Guardiola Navarro"
          ],
          [
           "Maxime Chanot"
          ],
          [
           "William Balikwisha"
          ],
          [
           "Frederik Riis Rønnow"
          ],
          [
           "Giacomo Beretta"
          ],
          [
           "Bećir Omeragić"
          ],
          [
           "Álvaro Santamaría Arenas"
          ],
          [
           "Youri Baas"
          ],
          [
           "Benjamin André"
          ],
          [
           "Žan Majer"
          ],
          [
           "Emmanuel Afriyie Mario Sabbi"
          ],
          [
           "Darko Gyabi"
          ],
          [
           "Chris Anthony Willock"
          ],
          [
           "Han-Noah Massengo"
          ],
          [
           "Mario René Junior Lemina"
          ],
          [
           "Stijn Bultman"
          ],
          [
           "Anas Tahiri"
          ],
          [
           "Brandon Baiye"
          ],
          [
           "João Victor Tornich"
          ],
          [
           "Stipe Biuk"
          ],
          [
           "Auston Levi-Jesaiah Trusty"
          ],
          [
           "Álvaro Vadillo Cifuentes"
          ],
          [
           "Anthony Oyono Omva Torque"
          ],
          [
           "Murillo Costa dos Santos"
          ],
          [
           "Joelson Augusto Mendes Mango Fernandes"
          ],
          [
           "Lucas Estella Perri"
          ],
          [
           "Kwadwo Kyeremeh Baah"
          ],
          [
           "Ander Guevara Lajo"
          ],
          [
           "George Tanner"
          ],
          [
           "Francesco Amatucci"
          ],
          [
           "Mikel Oyarzabal Ugarte"
          ],
          [
           "Alejandro Francés Torrijo"
          ],
          [
           "Matteo Gabbia"
          ],
          [
           "Tony Jantschke"
          ],
          [
           "Steven Fortes"
          ],
          [
           "Toluwalase Emmanuel Arokodare"
          ],
          [
           "Jiří Pavlenka"
          ],
          [
           "Ionuț Nedelcearu"
          ],
          [
           "Luis Federico López Andúgar"
          ],
          [
           "Giovanni Crociata"
          ],
          [
           "Daniel Raba Antolin"
          ],
          [
           "Jean Michaël Seri"
          ],
          [
           "Miguel de la Fuente Escudero"
          ],
          [
           "Corentin Michel"
          ],
          [
           "Sammy Braybrooke"
          ],
          [
           "Andrew Hughes"
          ],
          [
           "Germán Fernández Hidalgo"
          ],
          [
           "Juan Manuel Bravo Alcántara"
          ],
          [
           "Djeidi Gassama"
          ],
          [
           "Marcos Alonso Mendoza"
          ],
          [
           "Luca Zinedine Zidane"
          ],
          [
           "Christian Kabasele"
          ],
          [
           "Javier Garrido López"
          ],
          [
           "Miguel Ângelo Gomes Ferreira Magalhães"
          ],
          [
           "Scott Brian Banks"
          ],
          [
           "Perry Ng Tian-Hee"
          ],
          [
           "João Filipe Iria Santos Moutinho"
          ],
          [
           "Luca Pfeiffer"
          ],
          [
           "Gino Fechner"
          ],
          [
           "Adrion Pajaziti"
          ],
          [
           "Efecan Karaca"
          ],
          [
           "Rob Holding"
          ],
          [
           "Jamie William Lindsay"
          ],
          [
           "Iñigo Vicente Elorduy"
          ],
          [
           "Fabiano Josué de Souza Silva"
          ],
          [
           "Jordi Mboula Queralt"
          ],
          [
           "Deniz Dilmen"
          ],
          [
           "Loïc Mbe Soh"
          ],
          [
           "Phillipp Klement"
          ],
          [
           "Timon Vanhoutte"
          ],
          [
           "Niklas Bernd Dorsch"
          ],
          [
           "Arthur Atta"
          ],
          [
           "Nathaniel Chalobah"
          ],
          [
           "Caio Henrique Oliveira Silva"
          ],
          [
           "Anssumane Fati"
          ],
          [
           "Søren Tengstedt"
          ],
          [
           "Marcus Vinícius Oliveira Alencar"
          ],
          [
           "Diego José Conde Alcolado"
          ],
          [
           "Afonso Bastardo Moreira"
          ],
          [
           "Matéo Loubatières"
          ],
          [
           "Andrea Colpani"
          ],
          [
           "Michael Simões Domingues"
          ],
          [
           "Ayman Aiki"
          ],
          [
           "Charlie Patino"
          ],
          [
           "Sven Ulreich"
          ],
          [
           "Bryan Heynen"
          ],
          [
           "Marco Moreno Ojeda"
          ],
          [
           "Mario Šitum"
          ],
          [
           "Dominick Drexler"
          ],
          [
           "Olimpiu Vasile Moruțan"
          ],
          [
           "Pep Biel Mas Jaume"
          ],
          [
           "Ghjuvanni Quilichini"
          ],
          [
           "Bruno Maximiliano Martins Indi"
          ],
          [
           "Rúben dos Santos Gato Alves Dias"
          ],
          [
           "Bogdan Milovanov"
          ],
          [
           "Oliver McBurnie"
          ],
          [
           "Pelle van Amersfoort"
          ],
          [
           "Leo Štulac"
          ],
          [
           "Pasquale Mazzocchi"
          ],
          [
           "Junior Tchamadeu"
          ],
          [
           "Bilal Bayazıt"
          ],
          [
           "Arda Güler"
          ],
          [
           "Isaac Ajayi Success"
          ],
          [
           "Jesús José Bernal Villarig"
          ],
          [
           "Jasper van der Werff"
          ],
          [
           "Vangelis Pavlidis"
          ],
          [
           "Antoine Batisse"
          ],
          [
           "Cédric Brunner"
          ],
          [
           "Edgar Badia Guardiola"
          ],
          [
           "Pablo Insua Blanco"
          ],
          [
           "Joshua Lloyd Ginnelly"
          ],
          [
           "Fodé Sylla"
          ]
         ],
         "hovertemplate": "Predicted Salary=%{x}<br>Residuals=%{y}<br>Player=%{customdata[0]}<extra></extra>",
         "legendgroup": "",
         "marker": {
          "color": "#636efa",
          "symbol": "circle"
         },
         "mode": "markers",
         "name": "",
         "showlegend": false,
         "type": "scattergl",
         "x": [
          9245.806419499899,
          38227.76647874987,
          29481.404747106924,
          2899.828978038564,
          3326.088895867245,
          19141.266698217656,
          14087.831797842371,
          5382.419154303817,
          12509.462368800396,
          16351.052682584288,
          3085.6625200559774,
          4056.861873644698,
          3268.892869215414,
          3952.27070778168,
          4626.510161241577,
          2857.912559121633,
          1455.081805024189,
          7006.971681899076,
          3623.378760966297,
          4381.768726629256,
          6012.668258988066,
          81541.13979785559,
          20673.15700808836,
          8944.648564687097,
          24477.362429980807,
          10076.091455450513,
          2715.486908916434,
          1317.2321281632342,
          12771.212958313286,
          6099.175701621918,
          3340.1944822606847,
          5093.934779085135,
          5115.889053259568,
          10141.892210633812,
          824.7215970008968,
          6377.915004660595,
          4849.610667619761,
          50577.106557895,
          23511.935361307416,
          1646.80069215489,
          29108.809639166,
          13717.136054072173,
          3604.0694062791204,
          1708.4399030151833,
          2682.641412868834,
          8258.71014784679,
          9203.575325664406,
          21627.410547658183,
          5026.278165708757,
          34803.62369419857,
          5022.296267239862,
          6669.098118676287,
          4412.901115183299,
          5709.38990039783,
          32005.27326460647,
          2421.5085395498672,
          8413.149987494653,
          206579.1098236677,
          5170.705771657955,
          35218.15174082061,
          13347.442856503734,
          35422.91465171928,
          39023.8239694317,
          3103.185557028053,
          43772.78670372636,
          16422.951659287948,
          0,
          6316.908381837948,
          14433.122237156096,
          10471.6617733174,
          733.3629279364255,
          5715.92229905488,
          6298.722405107545,
          3460.233545098558,
          28090.019363486022,
          1208.8796492588033,
          6153.780055700413,
          3352.3965397248294,
          358.23502275129897,
          5696.916481188448,
          1638.2280411648292,
          1033.5483278939532,
          1330.0486250136369,
          14128.922793950742,
          2824.5125828760724,
          15163.761479149985,
          560.5755023337895,
          28644.63380941506,
          1159.7921323736434,
          10682.0121437522,
          197027.2712528108,
          6296.211797108647,
          0,
          87600.06313164519,
          8494.625127053381,
          6174.335065151863,
          5321.235159608945,
          6130.7499292531775,
          7412.34945212732,
          8820.728469569101,
          1226.436223432629,
          3025.5525066835976,
          7708.459169850157,
          5430.9883216105145,
          7509.243462739802,
          2793.7874923889963,
          4214.957787476541,
          3496.905458150143,
          6630.389834113451,
          4930.198650900821,
          108862.9718915923,
          10316.852871655128,
          959.7300150793483,
          4427.389646430205,
          3073.4882738955166,
          7627.765841027363,
          2082.5594532278947,
          8053.860923853937,
          2618.088914191421,
          97006.16055937082,
          3709.9913903198685,
          874.6349460602295,
          4232.232064957315,
          18800.6603474191,
          1178.2424298785972,
          25242.76893760597,
          38784.67573179302,
          14237.390334098049,
          1963.9671675605268,
          2319.1121767517434,
          7605.011887147182,
          1810.4939299410526,
          2367.6859951170554,
          2498.2720586703754,
          28049.663211113686,
          19648.12342446528,
          16392.14031401782,
          1521.139130099019,
          22854.59235390334,
          2634.056026013857,
          23693.353140463856,
          13628.92628169211,
          945.039591035059,
          2947.311747387827,
          4017.465102521039,
          10679.460971977549,
          45152.656237224604,
          19293.286489118072,
          7850.265358207431,
          7340.007127231253,
          100963.24813786043,
          5011.045068332215,
          21964.198416342246,
          1149.161107337868,
          90097.0891629457,
          27530.932712287435,
          15924.425808961436,
          2636.798599890411,
          1758.8693922517382,
          21615.400192436315,
          25742.57757359314,
          3040.356659194638,
          54946.46389217973,
          7025.64755070573,
          17537.549743716536,
          743.5574745828536,
          3735.5131247041045,
          3103.312361176071,
          1425.4873855101998,
          2652.627637981253,
          30814.310920977205,
          50851.70360184102,
          18691.303779253685,
          96035.35931393808,
          3228.72275421302,
          6436.158095372319,
          6611.540100102265,
          7479.866770022323,
          31636.365211282944,
          14460.84314105952,
          12943.67899150072,
          1898.087103011549,
          43556.89409245126,
          11474.725245838976,
          6773.338011359549,
          9373.501297809426,
          17591.16255299626,
          1477.707078422008,
          1143.2218550874572,
          21891.5420638076,
          8486.949984558103,
          4900.500698509894,
          23031.535371667687,
          2739.14890135313,
          41916.73755433812,
          15110.246061898028,
          14625.885626800398,
          0,
          2938.8937136923355,
          193912.85206804352,
          9713.95823307693,
          6322.41610313086,
          6916.969730067395,
          37720.47424264376,
          6561.439168745366,
          7644.615609516819,
          9451.982883943203,
          5705.445200082912,
          28603.58611212465,
          2115.5705521941227,
          94393.37639074368,
          86881.86266378225,
          1972.5639006912916,
          4291.541664732063,
          3506.806870727272,
          4270.343387997726,
          1651.0006619584335,
          8907.342548595076,
          32.462109293647494,
          7662.274950828753,
          4725.430150905086,
          27609.866471173347,
          5342.6286403853455,
          2444.301107365781,
          3964.722488551983,
          1229.7145851375917,
          28616.809654303685,
          872.5927514048751,
          5638.830141584725,
          6056.591029502048,
          8767.221063333745,
          17853.682428882246,
          433.2328437772728,
          27201.066838888484,
          165691.73039454967,
          15234.971031168501,
          25397.491279644815,
          7352.18445573196,
          8684.884168632681,
          5707.696070074133,
          1620.629379180123,
          1460.6577481966244,
          1521.6187207014084,
          582.330096907372,
          36254.89258662708,
          2082.244909721636,
          16688.52208281479,
          11366.042743058135,
          1109.2279472809216,
          1274.9145871889923,
          9191.018557246598,
          5146.768238310046,
          83354.89230553797,
          8651.21041431529,
          2410.409256102768,
          11180.719766595039,
          5415.66584040064,
          4213.68629759563,
          6395.992986771714,
          17173.415389495804,
          1984.4435005049304,
          6007.569726629072,
          4341.545413121442,
          2873.72535202498,
          7849.216706665988,
          17022.96902630683,
          9623.903856999354,
          10517.591299343127,
          3719.1518734716437,
          14761.04398831423,
          5364.193853446584,
          5141.023905999372,
          1528.9223105971244,
          26449.230303494325,
          9214.34519394885,
          18901.699715769573,
          8111.031136387043,
          23095.45176037153,
          20959.291402435363,
          782.1488951486691,
          1209.7757693412632,
          62978.59625482218,
          12498.635395224655,
          7113.9173441040475,
          10601.914505197636,
          69242.58207092364,
          7253.561262835482,
          7477.090148536612,
          664.5715910132222,
          2961.813592450791,
          768.5108331019012,
          6876.938617324681,
          1129.7314704951937,
          142374.99028247263,
          3513.570156945154,
          1207.6701704834204,
          1624.2646250297491,
          7664.02484392567,
          22357.218401310205,
          10721.501093308918,
          31735.571538508608,
          1867.858551068124,
          13531.697848919148,
          5515.411115705736,
          494.55955035796575,
          6602.970359867866,
          12917.193583471135,
          329.251456933075,
          69939.71025320808,
          16920.819383350503,
          135.20115480116192,
          1505.036480989773,
          15512.479406040577,
          1933.044771413247,
          514.8346533915277,
          7708.769500414503,
          22499.002844397633,
          12827.648025675115,
          16324.821411670046,
          71599.8787697799,
          17549.7948212466,
          7174.03847586635,
          30597.358716872448,
          81983.265876689,
          3321.9362591502468,
          2163.774716520904,
          3359.637060642199,
          12241.004352198408,
          3290.8626279576943,
          32412.89073313746,
          582.9932521432382,
          10943.23287330745,
          11950.289241237693,
          2303.608494540073,
          5785.485352454093,
          2241.84904996127,
          660.6516382589369,
          13104.362242780882,
          103700.6981756786,
          1969.9113262616388,
          24319.27427920484,
          359.1784609813824,
          90.56372287664475,
          31748.335445548964,
          20612.311553084757,
          1416.7024333201832,
          1013.9037489071521,
          7692.504009586692,
          26012.503435314866,
          2388.439412547691,
          2737.6028470096435,
          16091.872545170576,
          146003.44377697972,
          1698.4749017589477,
          20341.320054001782,
          7971.563197536584,
          2722.8002077983515,
          2213.038202943864,
          42921.944868776234,
          7155.121231594402,
          40829.29909194145,
          3310.8830419998058,
          3621.475138218231,
          11012.61643424805,
          21622.479884076452,
          23009.423428228463,
          4955.168033106027,
          5828.679894673376,
          15547.043768773772,
          8921.318775818045,
          7640.691379338385,
          2445.6678965160695,
          5178.3093964027885,
          9088.972570219768,
          8915.427746450732,
          12555.145663603562,
          7974.86267208506,
          1121.1607383396104,
          4856.541868827235,
          40339.09508374444,
          24875.09188539367,
          2675.1203287394674,
          10943.637635822104,
          2513.3883195839044,
          4814.487912741102,
          59781.99291487364,
          6240.89984188603,
          41520.28752392627,
          373.98501554022397,
          935.8390656097397,
          26054.269728897078,
          10653.27321157961,
          5893.330019394081,
          27859.94672031268,
          24601.46094105117,
          1132.979257335763,
          113.72588482347261,
          42210.293179323875,
          2948.100319433614,
          7341.891814468941,
          29910.239941916232,
          48503.18818519325,
          14103.390155631907,
          2280.7501515313875,
          7229.524062414074,
          3939.05666882625,
          3197.282904194972,
          2988.761073301434,
          7181.699951028463,
          6341.390596669636,
          157071.1162505529,
          6816.789561664418,
          23723.157067662312,
          3452.4418918476367,
          8206.273374379678,
          1329.538746646929,
          14558.68642257292,
          9965.132826211307,
          58782.97861971558,
          12982.146871145214,
          1770.4958019481985,
          14962.16457437267,
          11120.807480732723,
          859.7628923015678,
          1758.9273478103682,
          2233.2621685446206,
          1927.8384387369565,
          2541.3876222177337,
          2728.0026824726892,
          2448.645474649775,
          480.027058444423,
          3363.531673079506,
          3110.974320766503,
          53758.495124784255,
          16391.621346852913,
          2391.8257404401147,
          5680.014816132902,
          9176.696077329021,
          2423.410887496206,
          6744.551280354449,
          1128.4061750168162,
          10159.017749457758,
          4021.0501427810295,
          4642.005290472044,
          653.0406498911562,
          17029.321342013558,
          27349.518147734903,
          24645.59606031845,
          26148.48126802853,
          1161.25064295847,
          809.5506179891493,
          6939.470009031916,
          12109.807566214942,
          2807.816747403813,
          16935.95125597308,
          47982.346610724344,
          16481.297169434813,
          12006.523255597533,
          1842.1344062825424,
          1543.5825632312824,
          20172.726658484255,
          55669.797147863675,
          2016.9118452984908,
          3727.8755048478774,
          15970.107232796428,
          5127.473121877846,
          803.4314270766474,
          13920.107104582918,
          12124.977617041244,
          4850.920156948113,
          14275.47661046645,
          1228.0779666150784,
          2487.9570420449636,
          1479.5088865518765,
          4264.081245515034,
          5090.481278761833,
          16587.707320248246,
          100967.87605836657,
          7440.460256105454,
          12197.35427791819,
          1737.2424178389297,
          3737.51042044136,
          1755.1871570711144,
          9246.291106966399,
          18475.860224205848,
          69675.61241495624,
          942.186915878361,
          4354.030645051605,
          3442.3131698171505,
          11992.695975057464,
          3396.568341101813,
          8487.360543379567,
          1991.7848814932665,
          20260.593622797292,
          48944.79719793068,
          6166.889563096194,
          8948.715314754312,
          14500.680638412576,
          8962.362658109214,
          5071.472392345958,
          15027.807893428468,
          836.7043626952329,
          17893.84231402116,
          920.9256188638996,
          13737.568183771038,
          3377.3517983122815,
          29862.939684295874,
          1473.1476791827051,
          34179.6648423574,
          949.1910497093791,
          3491.931229433961,
          40425.44087101323,
          3911.092778746024,
          15072.98194379168,
          4974.11284009689,
          16121.781639638337,
          1376.0226631073974,
          171.17851788188472,
          14905.263224017499,
          6227.8916734195545,
          1928.0689822031638,
          18848.395926338868,
          518.5296654823828,
          900.6493252646588,
          904.320108299404,
          4012.790475592122,
          19590.316769491215,
          2353.5738038104114,
          61147.95494312972,
          2926.0342598753714,
          5541.314206407255,
          16168.310323442018,
          2647.622609838826,
          4155.659786584921,
          1231.5969624455192,
          153.08663416822932,
          9962.635093656887,
          15908.38842655205,
          2520.3634631210375,
          12755.687112215348,
          16248.62548564849,
          47.79762562651163,
          5030.38565149347,
          29078.380204165536,
          3779.2970955728942,
          14341.834110822254,
          81787.70604882587,
          82942.89374479222,
          22761.837695895436,
          3728.0399471750497,
          37239.11784023091,
          2846.5880428523083,
          8795.557845991827,
          13764.04409531477,
          8864.443312503785,
          5054.77403893245,
          1456.5378318994365,
          2741.1101639198805,
          6425.046088446587,
          5900.207696560991,
          9703.243449637344,
          10822.054279252963,
          7446.916344054637,
          5403.476307722307,
          3681.335984751947,
          3724.71993641054,
          15100.198951450639,
          4254.84033512018,
          0,
          2784.148427299751,
          1662.4392569081954,
          9590.977355709492,
          18204.923584220687,
          4969.25606492201,
          31406.773175387425,
          4601.881047181203,
          3398.4342213498717,
          22287.229803999475,
          13157.389457327672,
          6079.03283214314,
          50617.228097345185,
          22250.178269330754,
          5151.618691114376,
          3277.0750042531404,
          1291.099767213266,
          1148.491628233929,
          51624.74078116234,
          41267.40584836288,
          10224.873138749788,
          4767.913656664899,
          15404.149911145223,
          6744.901416630537,
          8.461899893835522,
          6609.63205342308,
          4216.3409082663875,
          1086.903520659408,
          1686.227895831609,
          17301.714759503644,
          6908.77732313682,
          14757.707720262068,
          9059.742104243862,
          0,
          319.93496310834865,
          31050.72617885973,
          5600.098074339291,
          3698.3916339454,
          35793.44287848401,
          13222.997248112744,
          4866.832917744941,
          18025.84465386878,
          3936.368418677462,
          11289.430068297828,
          6347.6045213006155,
          10663.205414441416,
          35111.81510548536,
          2844.832844275962,
          1431.950980536311,
          23380.042894558486,
          1903.1314410922123,
          671.891969475905,
          19931.166830819795,
          18520.146780741754,
          2155.667459957041,
          93834.24963487012,
          178.50713763306706,
          10397.53252015289,
          2618.7282332915934,
          30442.33829398979,
          10725.058977239618,
          3536.69456273727,
          10983.750997893789,
          1075.66529020368,
          1306.7128072212981,
          2471.6734146143317,
          36240.87228516082,
          18625.2752603361,
          0,
          41608.969980825794,
          1286.6231432678796,
          4093.285657464034,
          1897.7759539765977,
          21203.007596832693,
          1470.3373947115297,
          14725.72873985943,
          4763.224101388385,
          107.41432459309547,
          2101.6887926576933,
          4920.290922015829,
          5617.615014340441,
          4280.954748032968,
          30426.66262645974,
          24878.964034533386,
          3901.5839295145747,
          2439.023979297302,
          1587.4265916984377,
          1121.0335007377391,
          5797.044782965279,
          4299.319967256231,
          10622.983043766424,
          39653.404041099864,
          884.305629877575,
          38442.553295219484,
          5022.058722206563,
          4761.921623127242,
          378.07949379081,
          3164.0114745860265,
          5645.930165770224,
          12433.201198486264,
          5291.002114637717,
          58586.22125806288,
          29469.32181950879,
          603.9574786976849,
          985.7401951196777,
          3016.009603095509,
          4419.654144012026,
          5915.02448289121,
          48301.80217926804,
          8117.737473928158,
          11153.707887672812,
          5903.380925571647,
          5033.189281747509,
          1644.6681446983937,
          1378.254268353392,
          3439.6563712749125,
          32159.042292084385,
          4836.212069122664,
          5581.02619213179,
          6496.78738284924,
          4061.919839481564,
          13279.057129974946,
          2670.60039119026,
          3546.9766924049304,
          9098.039296238436,
          24587.14166951373,
          10154.033287678836,
          1946.0907936164424,
          48112.22279284227,
          12398.18900754344,
          26579.237096162913,
          16048.469563276087,
          37837.24779424475,
          3171.897948764358,
          18228.427727804592,
          3028.30535193573,
          102531.66470771731,
          11784.338926458371,
          11445.001531733826,
          8363.546674357493,
          843.5530860933139,
          4894.242519159128,
          13307.288289884184,
          11233.986453465133,
          1186.7021284844245,
          3943.0762261675895,
          31121.771282156995,
          22888.097232730102,
          0,
          4082.593520965181,
          4038.5077133633868,
          27093.436738945104,
          1881.8143712952524,
          941.7604068652838,
          4421.271297386994,
          2434.947525923107,
          4334.325260162331,
          15664.185023334525,
          21317.750973269536,
          6232.418995449664,
          30674.886512594112,
          2837.9399106138962,
          6623.074433048418,
          39109.77449929979,
          27678.663967193588,
          27565.970036965904,
          3116.358384093727,
          12412.889335723376,
          3733.382950244449,
          0,
          0,
          1976.9233353119325,
          5115.4103157505615,
          6284.400886985603,
          1410.3105388357262,
          12583.092937461115,
          14510.39246842339,
          13514.202542141818,
          5106.581700180425,
          62876.08764965268,
          11139.850016877892,
          50181.971357977585,
          11488.547036234006,
          5958.209851994776,
          1251.6821512730203,
          27815.845981191338,
          2162.589788391246,
          3701.436051115043,
          8934.438347126865,
          582.4957598369618,
          1296.3842443477492,
          11045.234724946758,
          57841.10297565276,
          156870.48898841563,
          2099.657810715079,
          3434.888592666738,
          11809.76759741267,
          2158.203254385175,
          4310.5393227975665,
          49518.51729315982,
          3582.2562689747524,
          197187.93504694305,
          20896.797411281936,
          3162.689392006071,
          25535.595687690515,
          10043.671157759352,
          20347.872352827413,
          25016.59631061197,
          8336.13428566033,
          708.5913036522121,
          41099.87262291464,
          27033.791369010378,
          94365.81907141338,
          3304.9309364287906,
          6121.673383482479,
          378.97145772832715,
          4001.7409401134137,
          61660.00261029184,
          8895.585481268097,
          10656.994301212444,
          192.66706608779702,
          1557.6148128041445,
          9593.436952400578,
          5826.828343751731,
          4317.163707018217,
          19715.061293503306,
          1344.306758034163,
          11838.084450555603,
          43723.525093922224,
          1138.86532307078,
          3032.6464143111575,
          4671.164472671988,
          3969.093443445251,
          6432.258744444323,
          27011.2858844017,
          25205.207694065175,
          32704.18390244246,
          24634.811811543965,
          13820.74433776552,
          1340.6246929305573,
          16280.280328033785,
          52769.839193299835,
          3436.891550776976,
          4957.603146222532,
          7531.614409560107,
          871.453067390905,
          13819.421781161289,
          1333.431857998861,
          4352.238339501297,
          2965.013044992981,
          22125.367060076762,
          27603.814890520393,
          5472.034902349603,
          22009.90486778838,
          66.63377408252839,
          7009.293196827678,
          3545.5378607404587,
          1096.0645215145078,
          35599.517084117695,
          5691.172594971348,
          5225.484048083354,
          3810.353785023432,
          1735.109042658315,
          12295.252590056376,
          3247.5513202664606,
          5650.4480202361265,
          10642.274093926013,
          24581.48985584168,
          96118.07243727605,
          5560.015002776954,
          194208.9730266399,
          15444.161609650811,
          61697.54625797367,
          5203.748223712252,
          88159.97019578889,
          14062.036725086611,
          2595.1864262981694,
          4663.7831297094435,
          563.1696803210945,
          3881.644335024039,
          1416.694442552308,
          9038.508754816146,
          7977.340898937801,
          21033.711371464815,
          43764.221729862074,
          5018.048438007068,
          12034.008973222535,
          37920.4324649094,
          2544.521880710499,
          8129.2848600168845,
          1726.3920592835107,
          30443.163742283414,
          16884.535532177746,
          2981.18335332823,
          5023.09178592189,
          574.1287172451051,
          1832.5494677822928,
          8463.368092100833,
          1552.072669231788,
          7791.388710530079,
          6416.229507977342,
          2456.2070737748745,
          31624.395771444306,
          14839.422667246594,
          44856.08149085834,
          43844.36647605994,
          34993.370862300195,
          1697.5009299584062,
          16394.478292190543,
          10520.49424980406,
          10927.164287145342,
          10261.39734215885,
          2437.021837868911,
          15250.502050552104,
          2063.341334954927,
          2186.8332132592855,
          47503.656024914875,
          8895.11596383574,
          11907.657015911573,
          1481.994389351283,
          21957.873796047294,
          2551.6546775302704,
          6297.779615933937,
          84203.51306060761,
          2348.5426471637006,
          9909.070854606236,
          8493.127652805473,
          6712.37097459798,
          23468.560530755112,
          3391.5830481179864,
          24220.16138410863,
          7202.762555713348,
          2798.0677044685135,
          43915.081616817806,
          46176.95989819176,
          846.8181331452425,
          3914.8338826630597,
          4710.869879936747,
          30069.011920714354,
          695.7577345265413,
          7958.836975031855,
          2263.13383767515,
          2051.1154123481147,
          13607.496756863036,
          8452.025761578658,
          67057.3316934924,
          110287.99745428565,
          1686.2757309251729,
          7444.646231333336,
          827.4173923064651,
          2720.3859559176926,
          6404.976622523641,
          204.13229004926174,
          28311.619263560224,
          92031.06440691903,
          6151.804016385198,
          3060.0537767975347,
          1259.3844983583056,
          83540.06874435523,
          26631.649922390334,
          8269.337010100944,
          3802.5416884172973,
          1494.3085939119344,
          4810.796530809308,
          10716.74596527993,
          17624.217486187972,
          15442.182388152412,
          4020.482437983762,
          14673.158724939369,
          3121.2583709419796,
          5514.722928757125,
          5835.183265044292,
          4379.253290382844,
          14357.96122356483,
          7263.6519266153255,
          38692.517369605186,
          467.2137853952565,
          59408.87328283992,
          9067.853994787918,
          22162.901314071358,
          2554.454902952168,
          11660.087024876637,
          1973.8422272288155,
          2330.2883039156663,
          6643.25107026355,
          1552.1285195018663,
          31586.196125691582,
          55955.61394831966,
          13552.954257988786,
          2515.6776782915945,
          6234.755283653589,
          5070.5477955618935,
          21387.0873209568,
          11156.279991601681,
          4714.373300988252,
          2647.541240212308,
          1417.4349542245054,
          1612.4273414851232,
          6973.772519892124,
          8893.286550454559,
          11042.537069954667,
          22320.064343177146,
          1893.528323532323,
          0,
          912.075974546522,
          2987.2462870139157,
          85848.4805769483,
          1103.582165266962,
          1845.6078823255052,
          21850.749326648263,
          3136.109737118621,
          61440.981939879384,
          7760.505157259526,
          8444.197921009929,
          11607.542809388973,
          6738.212415965211,
          3352.6059421511854,
          13486.620647806812,
          13215.591984765295,
          15575.505975861885,
          7134.828303372512,
          918.9827624708913,
          205823.2387562329,
          79324.15849921937,
          34444.792213777655,
          5511.79231944531,
          3736.7514740326483,
          9918.907448755652,
          17374.0751808561,
          26460.04979882627,
          2958.348866168749,
          7269.002746149278,
          90375.72306390242,
          2661.675091820752,
          4029.935938735083,
          41616.083862133775,
          1154.7160142217979,
          11373.11718398557,
          12913.530112599487,
          21410.88735070744,
          3395.8756587710095,
          27732.0464670725,
          42073.57414161343,
          35039.498301229934,
          19561.839701842902,
          35020.63950786436,
          17857.07750180489,
          2626.510975184631,
          47971.17769460146,
          1581.033717311126,
          5743.608334182917,
          4277.53198608875,
          25837.57982568576,
          1793.5278903574574,
          2861.5454639432883,
          23999.331516282375,
          4389.595484353254,
          8583.93450290883,
          5835.712922126097,
          4473.4404546828855,
          14626.278058138247,
          22560.994652541252,
          5045.495493535222,
          199.13837862529948,
          11177.57168364676,
          6167.284129766393,
          28483.688050119104,
          29670.262329166206,
          11789.26887614906,
          93.15495946047086,
          8900.516707457491,
          21779.483256471703,
          4692.075606336447,
          2369.588575100814,
          16573.8771999681,
          5126.671107876373,
          2004.3399896489768,
          57788.16325990132,
          8734.180059208435,
          5228.432014775538,
          6142.493724021333,
          2698.543666964856,
          18390.78274817639,
          64056.43569895525,
          7039.71098099935,
          32090.48860720783,
          62485.023353969074,
          1482.909254500483,
          1326.3616726433652,
          3475.5490054980123,
          5374.548712998401,
          2793.4147624366988,
          11110.250001836537,
          882.0634098491315,
          89941.48536776745,
          6440.8517424355105,
          4832.320425747472,
          2005.4393063378855,
          1571.2560566721972,
          15070.85985237453,
          1272.2684645859736,
          3032.8892256852628,
          801.2867031126206,
          4719.038299453618,
          55164.7584811095,
          1306.1110450510428,
          2961.651313306413,
          16243.543157459286,
          2300.493452628435,
          47592.76770040886,
          5419.3855970212435,
          762.7537708975475,
          130.7732481422588,
          1672.3345645731022,
          11014.216828185676,
          8477.935278381456,
          5741.224328033072,
          6000.047084361364,
          78259.99386265295,
          2787.3843241324716,
          18514.50021661515,
          2374.6055024209422,
          56831.13161579425,
          4203.555733349974,
          707.2757402604375,
          3326.5796320895065,
          1516.9931157002038,
          4527.083659839238,
          385.08694508314176,
          6323.34572386861,
          6937.555613173257,
          58022.64371073583,
          28066.61638020593,
          1670.6674728663459,
          16716.820739913444,
          9068.819827369573,
          31863.163741847497,
          39412.48117048086,
          10201.985101855329,
          3332.530615756887,
          4426.054429289894,
          14849.530447014107,
          9208.081377428756,
          45764.72636299114,
          2610.476826842622,
          3147.1768092383263,
          16694.919556369077,
          41512.741939053965,
          5309.7385704726385,
          11865.91229024658,
          2020.6458791013952,
          3294.653015770441,
          41346.54772180936,
          5035.546761909163,
          4360.616282255825,
          7398.660291097298,
          2832.818985943373,
          3668.6194810447805,
          0,
          66524.24108537313,
          216846.8121019669,
          59790.26339931288,
          6427.946331006569,
          476.40739831045096,
          101653.12949757327,
          19267.415233074487,
          114811.19573038862,
          15924.39773477828,
          25117.11783741903,
          8152.059603291678,
          6946.835813729631,
          3424.5781429397193,
          50847.8816928889,
          4630.761217912081,
          11971.425122364319,
          22935.380631326716,
          31033.987063139728,
          3551.2561408471147,
          6952.818457760268,
          8296.249662731023,
          64911.90344280095,
          180454.408515897,
          18170.60471465452,
          6507.49417597205,
          73221.31439284164,
          13180.78213129492,
          1405.2037768163295,
          40142.884255223966,
          3151.664969530695,
          3264.5031164605607,
          10045.194688709715,
          10819.496388213824,
          2332.5112825616893,
          6154.517763696943,
          42652.22339706423,
          9621.583118966482,
          3750.0339268762036,
          20998.07035461434,
          1721.6590817147378,
          15957.901465993698,
          58015.16101612707,
          11178.448972755657,
          3052.6761641838043,
          2856.512883089598,
          36423.43804432135,
          14191.41969744853,
          2175.0699379455446,
          9941.038423269536,
          20296.818904152882,
          21119.8310948266,
          1263.3750913789395,
          46728.39175733445,
          7907.705993816916,
          9263.200326214004,
          30885.078007388165,
          3292.9016693825024,
          39218.098142247574,
          3301.1146776736264,
          1357.886058989193,
          15200.59429945301,
          13117.862602894069,
          72593.71891170648,
          2116.358571691243,
          11075.811343796428,
          1270.7120156135998,
          26061.215877731207,
          19542.30364023127,
          8276.903592374803,
          3178.6181804521034,
          6262.286578410744,
          8981.630341390055,
          7134.734361131181,
          10931.755584234696,
          63171.41969507679,
          42460.76410139115,
          22766.30488969786,
          11098.292214981888,
          1095.7301560324622,
          23084.149062951168,
          4384.796738836959,
          6076.582229999203,
          9541.782696811371,
          70775.66130540731,
          13354.178178407286,
          6830.994656932815,
          21582.532014200704,
          24162.620558182218,
          117408.52300366048,
          3272.797688385486,
          2427.7127105014174,
          1062.9328047407287,
          26470.047547851456,
          34679.958892167386,
          11605.364331415794,
          1729.5593113997031,
          5581.476737636455,
          111516.63692466382,
          3639.4759413537727,
          614.5688926480747,
          2724.788536061734,
          2498.5413002114224,
          7601.550342340669,
          21639.358189206312,
          1569.39838836564,
          2750.0919475019577,
          1407.5314413322747,
          7517.050314021857,
          1340.4878755102159,
          20645.21022504617,
          1596.0523773677296,
          784.3887146579749,
          83798.575767969,
          5661.188596398272,
          27017.521719954664,
          3334.755892993398,
          24829.12763890326,
          1801.7989459980668,
          14326.36514275516,
          98448.54593619713,
          6530.185705930989,
          10916.327294401553,
          10527.351777190688,
          1946.4606910891996,
          8188.287392672783,
          4448.392767289271,
          10889.440656889552,
          940.3462897688847,
          1554.996041749105,
          226998.59659841825,
          1309.8293548823008,
          27445.1818078075,
          2516.069073895021,
          20811.507069531384,
          16429.313103837056,
          16903.659354593467,
          11585.721018437034,
          1127.8165023168424,
          2808.015955916503,
          51049.24406084612,
          1889.704537932476,
          1485.8236442617151,
          22187.47169663557,
          10646.491391126881,
          16102.582319601415,
          2506.2742559905573,
          8324.256569445419,
          415.3918808889603,
          35361.151174422295,
          3850.606574523,
          33435.236307993924,
          15166.458911286769,
          11086.486399438443,
          2037.4322876571623,
          4870.02762472897,
          6264.413726298387,
          2114.5910773235432,
          603.3745150422102,
          542.0886163158859,
          3619.92588242891,
          9669.570992243891,
          28069.274826682125,
          17608.830496753922,
          5616.730327402172,
          48579.98704550652,
          4527.44609116606,
          5565.054791732128,
          2468.1367220316433,
          26617.07701095501,
          59655.15558608995,
          25946.65114287613,
          18452.962028372098,
          13354.871564840589,
          17930.33621771406,
          12876.047079967393,
          4630.184565811647,
          51005.092092717794,
          35636.83394057688,
          9603.67681510845,
          1971.6681694071851,
          4902.156358531719,
          3432.9233340860633,
          2619.908747373006,
          58283.09310532664,
          3774.1887901391306,
          4945.055065321641,
          28055.988645773858,
          27979.15877961399,
          2978.162476362298,
          4970.258104610435,
          1077.0399822198428,
          5000.140011335145,
          6428.416674414265,
          1105.5834811570905,
          60673.12376649956,
          18118.884013085506,
          5974.8813295518985,
          6062.494203590016,
          3475.2223671103775,
          5274.096896186644,
          6536.672178995875,
          27721.284594782544,
          13029.213865375927,
          5708.768875910996,
          31499.636236756833,
          1186.264339866377,
          7635.7397429509065,
          8583.952077643109,
          948.0703862677124,
          4256.281475260377,
          19837.045138512498,
          41848.51355517889,
          20735.190600905593,
          3669.38696356144,
          23259.402087990555,
          262.8284397390086,
          3510.9646405684816,
          23434.72415631729,
          8282.096117464045,
          2812.757284175022,
          18079.771161666147,
          11329.089559166347,
          6877.745760773372,
          3391.525312075672,
          24187.971047180123,
          5539.524577617559,
          69709.46100984533,
          11522.78034217669,
          334.88885207724303,
          4061.6152391601995,
          15653.077690722268,
          35542.74582480951,
          2071.4957399020423,
          81578.92742184027,
          1264.622973728004,
          3120.9897916320583,
          23265.303106611613,
          10559.534610229824,
          22985.311517898255,
          24270.58723172117,
          851.0700588926157,
          1193.268325960619,
          1366.2976841943025,
          40149.52208453719,
          17701.538136284074,
          2611.089303559365,
          15257.663413962835,
          12311.668500557424,
          4952.072971817229,
          42569.18005833016,
          23094.377368459995,
          9048.373603658114,
          9221.106217791008,
          16254.496636888318,
          2734.100916834463,
          8556.925492557657,
          34101.384904573904,
          96914.98080087388,
          10745.07400862192,
          1736.6827670520347,
          269.8986755408786,
          19422.414066254343,
          1858.5214819605965,
          1380.290731611705,
          24486.373900528655,
          5083.968396232806,
          1002.3128757359715,
          14772.777872475546,
          20606.139986530852,
          20146.850159692356,
          3932.945702080954,
          5190.392241798501,
          2059.630446842192,
          30222.547754174255,
          1482.7801110866012,
          87158.14704706454,
          1102.0700732131966,
          3057.1018640395387,
          1242.0439845291332,
          22108.38372485693,
          20896.689878352838,
          15625.328423504881,
          5381.539562951015,
          3764.0207940699815,
          65793.05020953689,
          2746.8739520531767,
          19467.4093775174,
          31528.57596766534,
          19098.21600535868,
          5984.930224352465,
          1321.4737528718322,
          10295.886709683775,
          59593.2182464006,
          812.79384911306,
          2735.9613034585545,
          6272.519029989811,
          11135.20060299048,
          78244.37359782206,
          1285.4339316723847,
          1033.1065445068107,
          98926.81931223678,
          781.6292019376984,
          16033.060539912574,
          32080.19137022007,
          840.8690257963729,
          4179.251212637464,
          1564.5482551887878,
          3694.3087758084826,
          2543.570164129706,
          16272.1544627914,
          5542.474985615184,
          8643.973580279802,
          7726.09346986678,
          20318.049792388465,
          5209.677895801626,
          40240.54554436505,
          5564.550216910056,
          1875.6012804005672,
          53645.975262983615,
          20394.17783189571,
          7900.9742080261185,
          1084.856451134257,
          3209.3089661866934,
          13783.36693910701,
          4355.333145220423,
          520.225017136457,
          20401.50907574092,
          16157.324755485972,
          6908.374044934309,
          8702.885807321503,
          24330.496485811138,
          1905.0588629112658,
          18763.06325941528,
          1471.3459722895072,
          2579.0946462854236,
          36252.041935755915,
          3775.792542959214,
          9961.928566164643,
          4469.009773539812,
          18694.568644202314,
          18413.81271267964,
          70886.24419367386,
          555.0178411025755,
          6535.043002226006,
          2175.711716730134,
          3510.4340312831287,
          9978.086194810576,
          23022.76861219713,
          6252.956494388971,
          5997.72699649533,
          19273.373475352364,
          5907.901786300728,
          17536.02305388304,
          3207.3346644554153,
          23493.327457623665,
          5827.655915959958,
          1695.4739618862664,
          54261.34269896091,
          12101.184105911565,
          29631.437911804926,
          15678.530258117637,
          3679.0760694825417,
          13652.058892493671,
          16695.804227012963,
          4739.992142463878,
          1629.3123610098166,
          3298.008024258236,
          11546.301179166589,
          20287.010211383553,
          10941.224248891856,
          722.9673790101239,
          7323.350949993965,
          11142.261133120914,
          623.8318963666858,
          3012.7844036441106,
          3396.340141521432,
          100792.67472855515,
          7719.191594294239,
          11650.149600758026,
          919.9154669767277,
          7394.346825054542,
          3627.664996142206,
          13079.771707195388,
          17472.25638645389,
          11912.772139404988,
          2938.3629822488315,
          8367.101656317873,
          15819.890690126796,
          45268.11134466891,
          5898.560381094459,
          13332.394194640196,
          4444.741103328015,
          7843.137473192892,
          1904.622816660249,
          3544.454607409848,
          10083.673881259712,
          1025.0550142461934,
          24782.165297659438,
          3917.0166471111866,
          18109.654817025716,
          49945.91908036426,
          72603.5889313258,
          3140.693864120003,
          27600.51651059666,
          5982.242016487423,
          4742.613718893353,
          743.5405710609067,
          41422.45326528408,
          2860.4007546630955,
          419.18244226653775,
          10099.158065818214,
          22496.603881831637,
          25957.848979639068,
          9549.725890977337,
          3891.4852438685452,
          9158.098446017284,
          11534.855772033936,
          24128.46911184019,
          313.5475843528203,
          12802.949185377374,
          233113.54725127044,
          3563.4410511442043,
          33008.01011328746,
          5773.251289311623,
          4956.294287311898,
          27724.382804455297,
          3390.0926678762034,
          5972.02706532695,
          70995.0660932401,
          22140.24831086888,
          3322.0911888823125,
          4130.4722639045485,
          15795.988718914032,
          2280.3199763349135,
          8989.035497879202,
          14297.482865708644,
          7141.391210853031,
          14342.95683264265,
          1018.1318132977854
         ],
         "xaxis": "x",
         "y": [
          6245.806419499899,
          2227.7664787498725,
          -2518.5952528930757,
          899.828978038564,
          1326.088895867245,
          -858.7333017823439,
          3087.831797842371,
          382.41915430381687,
          -490.5376311996042,
          -11648.947317415712,
          -914.3374799440226,
          1056.8618736446979,
          268.89286921541407,
          952.2707077816799,
          626.5101612415774,
          -142.08744087836703,
          -544.918194975811,
          2006.9716818990764,
          1623.3787609662968,
          1381.768726629256,
          1012.6682589880656,
          -8458.86020214441,
          5673.157008088361,
          -6055.351435312903,
          7477.362429980807,
          -5923.9085445494875,
          1915.486908916434,
          -682.7678718367658,
          4771.212958313286,
          -1900.824298378082,
          -1659.8055177393153,
          -906.0652209148648,
          -21884.11094674043,
          2141.8922106338123,
          -125.27840299910315,
          2377.9150046605946,
          -150.38933238023856,
          -9422.893442105,
          -5488.064638692584,
          646.8006921548899,
          -891.1903608339999,
          5717.136054072173,
          -2395.9305937208796,
          708.4399030151833,
          1682.6414128688339,
          258.7101478467903,
          2203.5753256644057,
          2627.4105476581826,
          26.278165708757115,
          -1196.3763058014301,
          3022.2962672398617,
          -3330.9018813237126,
          -1587.0988848167008,
          1709.3899003978304,
          -2994.7267353935313,
          421.50853954986724,
          413.14998749465303,
          -43420.890176332294,
          3170.7057716579548,
          -25781.848259179387,
          -1652.5571434962658,
          -2577.0853482807215,
          23.8239694317017,
          1103.1855570280532,
          -5227.213296273643,
          -10577.048340712052,
          -500,
          316.9083818379477,
          -7566.877762843904,
          2471.6617733174007,
          -266.63707206357446,
          -1284.0777009451203,
          2298.7224051075445,
          460.2335450985579,
          90.01936348602248,
          -791.1203507411967,
          1153.780055700413,
          -1647.6034602751706,
          -541.764977248701,
          1696.9164811884484,
          638.2280411648292,
          -966.4516721060468,
          330.04862501363687,
          2128.922793950742,
          824.5125828760724,
          1163.7614791499855,
          60.57550233378947,
          644.6338094150597,
          -840.2078676263566,
          1682.0121437521993,
          32027.27125281081,
          1296.2117971086473,
          -700,
          -399.9368683548091,
          3494.625127053381,
          2174.335065151863,
          -678.7648403910553,
          2130.7499292531775,
          -3587.6505478726804,
          1820.7284695691014,
          226.43622343262905,
          25.552506683597585,
          708.4591698501572,
          -569.0116783894855,
          509.24346273980245,
          -206.21250761100373,
          -2785.042212523459,
          1496.9054581501432,
          1630.389834113451,
          -1069.8013490991789,
          3862.9718915923004,
          3316.852871655128,
          -40.26998492065172,
          -572.6103535697948,
          73.48827389551661,
          627.7658410273634,
          82.55945322789466,
          3053.8609238539366,
          618.0889141914208,
          -7993.839440629177,
          -2290.0086096801315,
          -125.36505393977052,
          -2767.767935042685,
          -1199.3396525809003,
          178.24242987859725,
          242.7689376059716,
          -4215.324268206983,
          3237.3903340980487,
          -36.03283243947317,
          1319.1121767517434,
          605.0118871471823,
          -189.50607005894744,
          367.6859951170554,
          498.2720586703754,
          -2950.336788886314,
          4648.123424465281,
          -5607.859685982181,
          -1478.860869900981,
          2854.5923539033392,
          634.0560260138568,
          -1306.646859536144,
          -3371.073718307891,
          445.03959103505895,
          -1052.688252612173,
          1017.4651025210392,
          -1320.539028022451,
          26152.656237224604,
          -2706.7135108819275,
          -3149.734641792569,
          -7659.992872768747,
          21963.248137860428,
          -988.9549316677849,
          6964.198416342246,
          149.1611073378681,
          10097.089162945704,
          9530.932712287435,
          924.4258089614359,
          -1363.201400109589,
          -241.1306077482618,
          9615.400192436315,
          -10257.422426406862,
          1040.3566591946378,
          -23053.53610782027,
          25.647550705730282,
          2537.549743716536,
          -6.442525417146385,
          735.5131247041045,
          103.31236117607114,
          -574.5126144898002,
          652.627637981253,
          -25185.689079022795,
          -8148.296398158978,
          7691.303779253685,
          32035.359313938083,
          228.72275421301993,
          436.1580953723187,
          -3388.4598998977353,
          3479.866770022323,
          -363.6347887170559,
          -539.1568589404797,
          4943.678991500719,
          -101.91289698845094,
          14556.894092451257,
          -525.2747541610242,
          -226.66198864045145,
          -626.4987021905745,
          -50408.83744700374,
          477.70707842200795,
          143.22185508745724,
          7891.542063807599,
          1486.949984558103,
          -99.49930149010561,
          -16968.464628332313,
          739.14890135313,
          -83.26244566187961,
          110.24606189802762,
          6625.885626800398,
          -500,
          -1061.1062863076645,
          13912.852068043518,
          -286.0417669230701,
          1322.4161031308604,
          3916.969730067395,
          1720.4742426437588,
          -5438.560831254634,
          1644.615609516819,
          5451.982883943203,
          2705.4452000829124,
          4603.586112124649,
          1115.5705521941227,
          -35606.62360925632,
          -3118.1373362177546,
          -27.436099308708435,
          291.5416647320626,
          506.80687072727187,
          -729.6566120022744,
          651.0006619584335,
          -92.65745140492436,
          -567.5378907063525,
          2662.2749508287534,
          725.4301509050856,
          -2390.1335288266528,
          342.62864038534553,
          444.3011073657808,
          -1035.2775114480169,
          -770.2854148624083,
          616.8096543036845,
          122.59275140487512,
          -361.1698584152746,
          56.591029502047604,
          767.2210633337454,
          -2146.3175711177537,
          -66.76715622272718,
          6201.066838888484,
          15691.730394549668,
          -765.0289688314988,
          397.4912796448152,
          -2647.81554426804,
          684.8841686326814,
          2707.696070074133,
          -379.3706208198771,
          -539.3422518033756,
          521.6187207014084,
          82.33009690737197,
          2254.89258662708,
          82.24490972163585,
          -3311.4779171852097,
          3366.042743058135,
          109.22794728092163,
          274.9145871889923,
          -3808.981442753402,
          146.7682383100464,
          5354.892305537971,
          4651.21041431529,
          -589.5907438972322,
          5180.719766595039,
          415.66584040064026,
          1213.68629759563,
          1395.9929867717137,
          -2826.5846105041965,
          -2015.5564994950696,
          1007.5697266290717,
          -1658.454586878558,
          1873.72535202498,
          4849.216706665988,
          22.96902630682962,
          1623.9038569993536,
          -2482.4087006568734,
          1719.1518734716437,
          1761.0439883142299,
          3364.1938534465844,
          1141.023905999372,
          -471.07768940287565,
          5449.230303494325,
          4214.34519394885,
          -8098.300284230427,
          1111.0311363870433,
          -5904.5482396284715,
          -4040.708597564637,
          132.1488951486691,
          359.7757693412632,
          6978.59625482218,
          5498.635395224655,
          1113.9173441040475,
          -1398.0854948023643,
          6242.582070923643,
          -5746.438737164518,
          477.0901485366121,
          14.571591013222246,
          -38.18640754920898,
          -1231.4891668980988,
          -8123.061382675319,
          -870.2685295048063,
          12374.99028247263,
          -1486.429843054846,
          -792.3298295165796,
          -1375.7353749702509,
          -1335.9751560743298,
          -642.7815986897949,
          3721.501093308918,
          735.5715385086078,
          867.8585510681239,
          1531.6978489191479,
          2515.411115705736,
          -3505.4404496420343,
          -2397.029640132134,
          -2082.806416528865,
          -170.74854306692498,
          9939.710253208075,
          -2079.180616649497,
          -364.7988451988381,
          -1494.963519010227,
          4512.479406040577,
          -66.95522858675304,
          -485.1653466084723,
          -1291.2304995854965,
          -7500.997155602367,
          5827.648025675115,
          324.82141167004556,
          13599.878769779898,
          -1450.2051787534,
          3174.0384758663504,
          -12402.641283127552,
          -23016.734123311006,
          321.93625915024677,
          163.7747165209039,
          359.6370606421988,
          2241.004352198408,
          1290.8626279576943,
          6412.890733137461,
          -417.00674785676176,
          -2056.76712669255,
          3950.289241237693,
          1553.608494540073,
          -18214.514647545908,
          241.84904996126988,
          160.65163825893694,
          9104.362242780882,
          -66299.3018243214,
          -1030.0886737383612,
          4319.274279204841,
          -140.8215390186176,
          -409.43627712335524,
          -251.66455445103566,
          -3387.688446915243,
          -583.2975666798168,
          13.903748907152135,
          692.5040095866916,
          3012.503435314866,
          388.43941254769106,
          -3262.3971529903565,
          91.8725451705759,
          -53996.55622302028,
          798.4749017589477,
          11341.320054001782,
          4971.563197536584,
          1722.8002077983515,
          213.03820294386378,
          -1078.0551312237658,
          155.12123159440216,
          -8170.7009080585485,
          310.88304199980576,
          621.4751382182312,
          -11987.38356575195,
          1622.4798840764524,
          9.423428228463308,
          955.168033106027,
          828.6798946733761,
          4547.043768773772,
          -8078.681224181955,
          640.6913793383846,
          445.6678965160695,
          178.30939640278848,
          1088.9725702197684,
          5915.427746450732,
          1555.1456636035618,
          974.8626720850598,
          121.16073833961036,
          1856.5418688272348,
          -11660.90491625556,
          2875.091885393671,
          1675.1203287394674,
          -1056.3623641778959,
          513.3883195839044,
          1814.4879127411023,
          10781.992914873641,
          1240.8998418860301,
          -4479.712476073728,
          -226.01498445977603,
          -14.160934390260309,
          1054.2697288970776,
          653.2732115796098,
          893.3300193940813,
          12859.94672031268,
          6601.460941051169,
          182.9792573357629,
          -386.2741151765274,
          13210.293179323875,
          1948.100319433614,
          -658.1081855310586,
          -1089.760058083768,
          -10496.811814806751,
          -896.609844368093,
          280.7501515313875,
          -770.4759375859257,
          1939.0566688262502,
          197.28290419497216,
          988.761073301434,
          -5818.300048971537,
          2341.3905966696357,
          7071.116250552906,
          -183.21043833558178,
          5723.157067662312,
          2452.4418918476367,
          206.273374379678,
          -670.461253353071,
          -2441.3135774270795,
          -5034.8671737886925,
          -31217.021380284423,
          2982.1468711452144,
          920.4958019481985,
          1962.1645743726694,
          3120.807480732723,
          -140.23710769843217,
          -1241.0726521896318,
          1383.2621685446206,
          927.8384387369565,
          541.3876222177337,
          728.0026824726892,
          448.6454746497752,
          -19.972941555576995,
          -1636.4683269204938,
          -889.0256792334972,
          758.4951247842546,
          -1608.3786531470869,
          391.8257404401147,
          680.0148161329016,
          176.69607732902114,
          423.4108874962062,
          -255.44871964555114,
          -4871.593824983183,
          5159.017749457758,
          -6978.9498572189705,
          -357.9947095279558,
          -96.95935010884375,
          3029.321342013558,
          13349.518147734903,
          5645.59606031845,
          -4851.518731971471,
          -838.74935704153,
          -190.44938201085074,
          -60.52999096808435,
          1109.8075662149422,
          807.8167474038132,
          -1064.0487440269208,
          11982.346610724344,
          -518.7028305651875,
          2006.5232555975326,
          -5157.865593717457,
          543.5825632312824,
          4172.726658484255,
          5669.7971478636755,
          16.91184529849079,
          1727.8755048478774,
          -1029.8927672035716,
          2127.473121877846,
          -196.56857292335258,
          4920.107104582918,
          -2875.0223829587558,
          -149.0798430518871,
          9275.47661046645,
          228.07796661507837,
          -1512.0429579550364,
          479.50888655187646,
          264.0812455150344,
          2090.481278761833,
          2587.707320248246,
          -24032.12394163343,
          440.4602561054544,
          -802.6457220818102,
          -1262.7575821610703,
          737.5104204413601,
          755.1871570711144,
          1246.2911069663987,
          4475.860224205848,
          -20324.38758504376,
          -57.81308412163901,
          1354.0306450516046,
          442.31316981715054,
          2992.6959750574642,
          396.5683411018131,
          2487.3605433795674,
          -8.215118506733461,
          4260.5936227972925,
          -2055.202802069318,
          -1833.1104369038057,
          2948.715314754312,
          1500.6806384125757,
          4962.362658109214,
          -928.5276076540422,
          3027.8078934284677,
          86.70436269523293,
          12893.84231402116,
          120.92561886389956,
          -2262.431816228962,
          377.3517983122815,
          3862.939684295874,
          473.14767918270513,
          3179.6648423574006,
          -1050.808950290621,
          -7508.068770566038,
          -12574.559128986773,
          1911.0927787460241,
          3072.9819437916794,
          -15025.88715990311,
          -4878.218360361663,
          376.0226631073974,
          -328.8214821181153,
          3905.263224017499,
          3227.8916734195545,
          -1071.9310177968362,
          7848.395926338868,
          -481.4703345176172,
          -99.35067473534116,
          404.32010829940396,
          12.79047559212222,
          -2409.6832305087846,
          353.5738038104114,
          21147.95494312972,
          926.0342598753714,
          1541.3142064072554,
          -1831.6896765579822,
          -2352.377390161174,
          -844.3402134150792,
          231.59696244551924,
          -346.91336583177065,
          2962.635093656887,
          -7091.61157344795,
          520.3634631210375,
          5755.687112215348,
          -751.3745143515098,
          -452.2023743734884,
          -1969.6143485065304,
          4078.3802041655363,
          1779.2970955728942,
          3341.834110822254,
          -23212.293951174128,
          -12057.106255207778,
          761.8376958954359,
          728.0399471750497,
          12239.117840230909,
          1846.5880428523083,
          -204.44215400817302,
          -1235.95590468523,
          864.4433125037849,
          54.77403893244991,
          -543.4621681005635,
          741.1101639198805,
          1425.0460884465874,
          -99.79230343900872,
          -1296.7565503626556,
          -6177.945720747037,
          6946.916344054637,
          1403.476307722307,
          -3318.664015248053,
          -275.28006358946004,
          3100.1989514506386,
          1254.8403351201796,
          -500,
          784.1484272997509,
          -337.5607430918046,
          1590.9773557094923,
          204.9235842206872,
          -30.74393507798959,
          -1593.226824612575,
          601.881047181203,
          1398.4342213498717,
          9287.229803999475,
          -842.6105426723279,
          -1920.9671678568602,
          7617.228097345185,
          7250.178269330754,
          1151.618691114376,
          1277.0750042531404,
          -708.900232786734,
          -851.5083717660709,
          -16375.259218837658,
          6267.405848362883,
          4224.873138749788,
          767.9136566648986,
          1404.149911145223,
          744.9014166305369,
          -541.5381001061645,
          -390.3679465769201,
          -783.6590917336125,
          86.90352065940806,
          -2313.772104168391,
          -698.285240496356,
          -8091.22267686318,
          1757.7077202620676,
          5059.742104243862,
          -500,
          -180.06503689165135,
          10050.726178859732,
          600.0980743392911,
          1698.3916339454,
          3793.442878484013,
          -777.0027518872557,
          866.8329177449414,
          25.84465386877855,
          936.3684186774622,
          1289.4300682978283,
          -652.3954786993845,
          -1336.794585558584,
          -1888.1848945146412,
          -2155.167155724038,
          431.9509805363109,
          -2619.9571054415137,
          903.1314410922123,
          -328.10803052409506,
          -2068.833169180205,
          -3479.853219258246,
          -2844.332540042959,
          -16165.750365129876,
          -421.49286236693297,
          -602.4674798471096,
          -381.27176670840663,
          442.33829398978924,
          3725.058977239618,
          536.6945627372702,
          3983.7509978937887,
          75.66529020367989,
          306.71280722129814,
          471.6734146143317,
          -759.1277148391819,
          6625.2752603361005,
          -500,
          -1391.0300191742062,
          336.62314326787964,
          93.2856574640341,
          -1102.2240460234023,
          3203.007596832693,
          470.33739471152967,
          -274.2712601405692,
          763.224101388385,
          -442.58567540690456,
          1101.6887926576933,
          -1079.709077984171,
          -4382.384985659559,
          -1719.0452519670316,
          -6573.33737354026,
          2878.9640345333864,
          1901.5839295145747,
          439.02397929730205,
          -412.57340830156227,
          421.03350073773913,
          -202.9552170347206,
          1299.3199672562314,
          -377.0169562335759,
          1653.4040410998641,
          -1115.694370122425,
          5442.553295219484,
          -977.9412777934367,
          761.9216231272421,
          -121.92050620919002,
          -1835.9885254139735,
          -2354.0698342297756,
          -566.7988015137362,
          -708.9978853622833,
          22586.221258062877,
          -4530.67818049121,
          -396.0425213023151,
          335.74019511967765,
          1016.0096030955092,
          419.65414401202634,
          2915.02448289121,
          -2698.1978207319626,
          1117.7374739281577,
          4153.707887672812,
          1903.380925571647,
          1033.189281747509,
          -355.3318553016063,
          678.254268353392,
          1439.6563712749125,
          -4840.957707915615,
          1836.2120691226637,
          581.0261921317897,
          -503.2126171507598,
          -1938.080160518436,
          7279.057129974946,
          670.6003911902599,
          546.9766924049304,
          3098.039296238436,
          -4412.85833048627,
          -10845.966712321164,
          -53.9092063835576,
          -2887.7772071577274,
          4398.18900754344,
          579.2370961629131,
          -2951.530436723913,
          -8162.752205755249,
          -9828.102051235643,
          -771.572272195408,
          1028.30535193573,
          17531.66470771731,
          2784.338926458371,
          5445.001531733826,
          -636.4533256425075,
          -1156.446913906686,
          -1105.7574808408717,
          -2692.7117101158165,
          233.9864534651333,
          -813.2978715155755,
          -56.92377383241046,
          8121.771282156995,
          888.0972327301024,
          -500,
          -917.4064790348189,
          2038.5077133633868,
          4093.4367389451036,
          -118.18562870474761,
          -58.23959313471619,
          1421.2712973869939,
          434.94752592310715,
          1334.3252601623308,
          -6335.814976665475,
          2317.750973269536,
          -1767.5810045503358,
          10674.886512594112,
          837.9399106138962,
          623.0744330484176,
          109.77449929979048,
          4678.663967193588,
          -434.029963034096,
          116.35838409372718,
          2412.8893357233756,
          1733.3829502444491,
          -500,
          -500,
          -5023.0766646880675,
          1115.4103157505615,
          3284.4008869856034,
          560.3105388357262,
          -416.90706253888493,
          5510.39246842339,
          514.2025421418184,
          106.58170018042529,
          13876.087649652683,
          8139.850016877892,
          11181.971357977585,
          3488.5470362340056,
          -4041.790148005224,
          501.6821512730203,
          6815.845981191338,
          162.5897883912462,
          -298.563948884957,
          -1065.5616528731352,
          -317.50424016303816,
          296.38424434774925,
          1045.2347249467584,
          1841.1029756527569,
          -13129.51101158437,
          1449.657810715079,
          -1565.111407333262,
          1809.7675974126705,
          158.20325438517511,
          -2689.4606772024335,
          1518.5172931598208,
          582.2562689747524,
          -12812.06495305695,
          4896.797411281936,
          -837.3106079939289,
          -13464.404312309485,
          2043.6711577593524,
          -1652.1276471725869,
          -4983.403689388029,
          -2663.8657143396704,
          108.5913036522121,
          7099.872622914641,
          -15966.208630989622,
          23365.81907141338,
          -695.0690635712094,
          1121.673383482479,
          -471.02854227167285,
          2001.7409401134137,
          -3339.997389708158,
          4895.585481268097,
          1656.994301212444,
          -307.332933912203,
          1057.6148128041445,
          593.4369524005779,
          -173.17165624826885,
          -682.8362929817831,
          3715.061293503306,
          344.30675803416307,
          2838.0844505556033,
          -7276.474906077776,
          -861.13467692922,
          -967.3535856888425,
          3671.164472671988,
          -1030.906556554749,
          -1567.7412555556766,
          11.28588440169915,
          18205.207694065175,
          7704.183902442459,
          1634.8118115439647,
          -2179.25566223448,
          590.6246929305573,
          4280.280328033785,
          -2230.1608067001653,
          436.89155077697615,
          957.6031462225319,
          -1468.3855904398933,
          371.45306739090495,
          10819.421781161289,
          333.431857998861,
          2352.2383395012967,
          -34.98695500701888,
          -11874.632939923238,
          1603.8148905203925,
          472.0349023496028,
          -990.0951322116198,
          -433.36622591747164,
          2009.293196827678,
          1545.5378607404587,
          -903.9354784854922,
          -400.48291588230495,
          691.1725949713482,
          -774.5159519166464,
          1810.353785023432,
          735.109042658315,
          -2704.747409943624,
          247.5513202664606,
          3650.4480202361265,
          -8357.725906073987,
          1581.489855841679,
          -68881.92756272395,
          -4439.984997223046,
          -5791.026973360102,
          -19555.83839034919,
          1697.5462579736704,
          1203.7482237122522,
          -46840.02980421111,
          5062.036725086611,
          -404.8135737018306,
          -336.21687029055647,
          -86.83031967890554,
          -118.35566497596119,
          -583.3055574476921,
          1038.5087548161464,
          1977.3408989378013,
          3033.711371464815,
          7764.221729862074,
          -981.9515619929316,
          -6965.991026777465,
          -79.56753509060218,
          -455.47811928950114,
          -6870.7151399831155,
          726.3920592835107,
          443.16374228341374,
          884.5355321777461,
          -18.81664667176983,
          -2976.90821407811,
          74.12871724510512,
          -167.45053221770718,
          1463.3680921008327,
          -447.92733076821196,
          -208.61128946992085,
          2416.229507977342,
          456.2070737748745,
          2624.395771444306,
          -5160.577332753406,
          -1143.9185091416584,
          -10155.633523940058,
          -1006.6291376998051,
          697.5009299584062,
          2394.4782921905426,
          -5479.50575019594,
          -72.83571285465769,
          2261.3973421588507,
          -562.978162131089,
          1250.5020505521043,
          63.34133495492688,
          -1813.1667867407145,
          12503.656024914875,
          -1104.8840361642597,
          3907.6570159115727,
          981.994389351283,
          6957.873796047294,
          551.6546775302704,
          -702.2203840660632,
          203.51306060761272,
          1348.5426471637006,
          -2090.929145393764,
          -506.8723471945268,
          -287.6290254020196,
          468.56053075511227,
          -4608.416951882014,
          -2779.838615891371,
          -10797.237444286653,
          798.0677044685135,
          -2084.918383182194,
          2176.959898191759,
          -3.181866854757459,
          -85.16611733694026,
          -1289.1301200632533,
          5069.011920714354,
          -1304.2422654734587,
          958.8369750318552,
          1263.13383767515,
          1051.1154123481147,
          2607.4967568630364,
          452.0257615786577,
          -3942.6683065076068,
          -9712.00254571435,
          -1313.7242690748271,
          4444.646231333336,
          -172.5826076935349,
          -2279.6140440823074,
          4404.976622523641,
          -295.86770995073823,
          -2688.3807364397762,
          6031.064406919031,
          -5848.195983614802,
          1060.0537767975347,
          259.38449835830556,
          5540.068744355231,
          4631.649922390334,
          -1730.662989899056,
          -6197.458311582703,
          -3505.6914060880654,
          1810.796530809308,
          716.7459652799298,
          -2375.782513812028,
          -4557.817611847588,
          -979.5175620162381,
          4673.158724939369,
          1121.2583709419796,
          -1485.2770712428746,
          -3164.816734955708,
          379.25329038284417,
          -1642.0387764351708,
          3263.6519266153255,
          1692.517369605186,
          -532.7862146047435,
          26408.873282839922,
          -932.146005212082,
          -4837.098685928642,
          -445.54509704783186,
          -4339.912975123363,
          -26.157772771184455,
          1330.2883039156663,
          -356.74892973645,
          -1447.8714804981337,
          -413.803874308418,
          -1044.3860516803397,
          -3447.0457420112143,
          -484.3223217084055,
          2234.755283653589,
          70.54779556189351,
          -2612.9126790431983,
          156.2799916016811,
          -5285.626699011748,
          -352.4587597876921,
          417.4349542245054,
          612.4273414851232,
          -5026.227480107876,
          -106.71344954544111,
          -2957.4629300453325,
          320.06434317714593,
          1043.528323532323,
          -750,
          -5087.924025453478,
          -1012.7537129860843,
          -29151.519423051694,
          103.58216526696197,
          845.6078823255052,
          2850.7493266482634,
          1136.109737118621,
          23440.981939879384,
          2760.5051572595257,
          -1555.802078990071,
          2607.542809388973,
          -2261.787584034789,
          2352.6059421511854,
          1486.6206478068125,
          215.5919847652949,
          -424.4940241381155,
          1134.828303372512,
          -1081.0172375291086,
          -14176.761243767105,
          6324.1584992193675,
          -1555.207786222345,
          -488.20768055469034,
          736.7514740326483,
          6918.907448755652,
          -1625.9248191439,
          6460.049798826269,
          -41.65113383125117,
          269.0027461492782,
          -39624.27693609758,
          661.6750918207522,
          1029.9359387350828,
          -2383.9161378662247,
          354.7160142217979,
          4373.117183985571,
          -2086.4698874005135,
          410.8873507074386,
          1395.8756587710095,
          -1267.9535329274986,
          9073.574141613433,
          -4960.501698770066,
          2561.8397018429023,
          4020.639507864362,
          2857.0775018048917,
          -4373.489024815369,
          13971.177694601458,
          681.0337173111261,
          1743.6083341829171,
          2277.5319860887503,
          -1162.4201743142403,
          793.5278903574574,
          861.5454639432883,
          4999.331516282375,
          389.5954843532536,
          -4416.065497091169,
          -1164.2870778739034,
          473.4404546828855,
          -5373.721941861753,
          560.9946525412524,
          45.49549353522161,
          -1800.8616213747005,
          177.57168364676,
          -13832.715870233607,
          4483.688050119104,
          670.2623291662057,
          -3210.731123850939,
          -406.8450405395291,
          1900.516707457491,
          -15220.516743528297,
          1692.075606336447,
          1369.588575100814,
          3573.877199968101,
          1126.6711078763728,
          4.339989648976825,
          13788.163259901317,
          -4265.819940791565,
          228.43201477553794,
          4142.493724021333,
          -1301.4563330351439,
          390.78274817638885,
          -3943.564301044753,
          39.710980999349886,
          3090.48860720783,
          6485.023353969074,
          -517.090745499517,
          376.3616726433652,
          1475.5490054980123,
          -1625.4512870015988,
          -1206.5852375633012,
          5110.250001836537,
          -117.93659015086848,
          36941.485367767455,
          3440.8517424355105,
          -1167.6795742525283,
          5.439306337885455,
          571.2560566721972,
          -33929.14014762547,
          272.26846458597356,
          1032.8892256852628,
          -1198.7132968873793,
          1719.0382994536176,
          6164.7584811095,
          -693.8889549489572,
          -38.34868669358684,
          4243.543157459286,
          300.4934526284351,
          -10407.232299591138,
          3419.3855970212435,
          12.753770897547497,
          -769.2267518577412,
          672.3345645731022,
          -3985.7831718143243,
          1477.9352783814556,
          2741.224328033072,
          2000.0470843613639,
          -21740.006137347053,
          787.3843241324716,
          514.5002166151498,
          -625.3944975790578,
          9831.13161579425,
          203.5557333499737,
          207.2757402604375,
          -13673.420367910494,
          -483.0068842997962,
          -1472.916340160762,
          -614.9130549168583,
          -1676.6542761313904,
          937.5556131732574,
          -9977.356289264171,
          -4933.383619794069,
          670.6674728663459,
          1716.8207399134444,
          -2931.1801726304275,
          -1136.8362581525034,
          -4587.51882951914,
          -7798.014898144671,
          1332.530615756887,
          -573.945570710106,
          5849.530447014107,
          2208.0813774287562,
          -15235.27363700886,
          -389.5231731573781,
          147.1768092383263,
          -305.0804436309227,
          3512.7419390539653,
          -690.2614295273615,
          -10134.08770975342,
          20.645879101395167,
          -705.346984229559,
          6346.547721809358,
          -2964.4532380908367,
          1360.6162822558254,
          398.6602910972979,
          -167.1810140566272,
          668.6194810447805,
          -500,
          6524.241085373127,
          -13153.187898033095,
          6790.263399312877,
          427.9463310065694,
          -23.592601689549042,
          -38346.870502426726,
          8267.415233074487,
          -35188.804269611384,
          6924.39773477828,
          8117.117837419031,
          152.0596032916783,
          946.8358137296309,
          2424.5781429397193,
          5847.881692888899,
          1630.7612179120806,
          -7028.574877635681,
          -8064.619368673284,
          -966.012936860272,
          1551.2561408471147,
          1952.8184577602678,
          1296.249662731023,
          16911.903442800947,
          80454.408515897,
          2170.6047146545206,
          3507.4941759720496,
          -4778.685607158361,
          -819.21786870508,
          405.20377681632954,
          -10857.115744776034,
          1151.664969530695,
          264.5031164605607,
          -2954.8053112902853,
          4819.496388213824,
          1332.5112825616893,
          154.5177636969429,
          9652.223397064226,
          2621.5831189664823,
          750.0339268762036,
          -1001.9296453856587,
          -278.3409182852622,
          2957.9014659936984,
          12015.161016127073,
          1178.4489727556575,
          52.6761641838043,
          -1143.4871169104022,
          -1576.5619556786478,
          191.4196974485294,
          1225.0699379455446,
          3941.038423269536,
          -4703.181095847118,
          -2880.1689051733993,
          563.3750913789395,
          -271.60824266554846,
          907.7059938169159,
          2263.2003262140042,
          885.0780073881651,
          1292.9016693825024,
          19218.098142247574,
          301.1146776736264,
          -642.1139410108069,
          2200.5942994530105,
          1117.862602894069,
          8593.718911706485,
          116.35857169124301,
          75.81134379642754,
          270.71201561359976,
          -11938.784122268793,
          8542.303640231268,
          4276.903592374803,
          178.6181804521034,
          2262.2865784107444,
          -18.369658609944963,
          -865.2656388688192,
          2931.7555842346956,
          7171.419695076787,
          3460.764101391149,
          2766.3048896978617,
          98.29221498188781,
          -904.2698439675378,
          -915.8509370488318,
          -2615.203261163041,
          -923.4177700007967,
          -458.21730318862865,
          18775.66130540731,
          6354.178178407286,
          -2169.005343067185,
          -13417.467985799296,
          -10837.379441817782,
          17408.523003660477,
          -1727.2023116145142,
          1427.7127105014174,
          62.93280474072867,
          3470.0475478514563,
          8679.958892167386,
          1605.3643314157944,
          -1270.4406886002969,
          -418.52326236354475,
          -38483.36307533618,
          -360.52405864622733,
          -185.43110735192533,
          724.7885360617338,
          -1501.4586997885776,
          3601.550342340669,
          -2360.641810793688,
          -430.6016116343601,
          750.0919475019577,
          407.53144133227465,
          517.050314021857,
          -659.5121244897841,
          -1354.7897749538315,
          646.0523773677296,
          -215.6112853420251,
          -6201.424232031,
          2661.1885963982722,
          1017.5217199546641,
          -665.244107006602,
          21829.12763890326,
          -198.20105400193324,
          1326.3651427551595,
          21448.54593619713,
          5830.185705930989,
          916.3272944015534,
          1527.3517771906882,
          -53.5393089108004,
          1188.2873926727834,
          -4551.607232710729,
          -110.55934311044803,
          -1059.6537102311154,
          -445.00395825089504,
          56998.596598418255,
          309.8293548823008,
          -3554.818192192499,
          516.0690738950211,
          -1188.4929304686157,
          -69570.68689616295,
          -3096.3406454065334,
          1585.7210184370342,
          -872.1834976831576,
          808.0159559165031,
          -950.7559391538816,
          1189.704537932476,
          -514.1763557382849,
          6187.47169663557,
          2646.4913911268814,
          2102.5823196014153,
          1506.2742559905573,
          1324.2565694454188,
          -84.60811911103968,
          4361.151174422295,
          -1149.3934254770002,
          -2564.763692006076,
          -833.5410887132311,
          3086.486399438443,
          37.432287657162306,
          1870.0276247289703,
          4264.413726298387,
          -885.4089226764568,
          53.37451504221019,
          -57.91138368411407,
          1619.92588242891,
          1669.570992243891,
          7069.274826682125,
          11608.830496753922,
          -383.2696725978276,
          -1420.0129544934825,
          -472.5539088339401,
          1565.0547917321283,
          468.13672203164333,
          -382.92298904498966,
          -11344.844413910047,
          946.6511428761296,
          452.96202837209785,
          354.8715648405887,
          4930.336217714059,
          -3123.952920032607,
          2630.184565811647,
          4005.092092717794,
          1636.8339405768784,
          5603.676815108451,
          1471.6681694071851,
          -97.84364146828102,
          1432.9233340860633,
          -4380.091252626994,
          17283.09310532664,
          1774.1887901391306,
          -54.94493467835855,
          1055.9886457738576,
          -12020.84122038601,
          -21.837523637701906,
          -29.74189538956489,
          77.03998221984284,
          -999.8599886648553,
          428.4166744142649,
          -894.4165188429095,
          30673.123766499557,
          2118.884013085506,
          -1025.1186704481015,
          -2937.505796409984,
          475.2223671103775,
          274.0968961866438,
          536.6721789958747,
          -5278.715405217456,
          -970.7861346240734,
          -5291.231124089004,
          2499.6362367568327,
          186.264339866377,
          -2364.2602570490935,
          583.9520776431091,
          -51.929613732287635,
          256.2814752603772,
          -162.95486148750206,
          3848.5135551788917,
          2735.190600905593,
          -330.6130364385599,
          12259.402087990555,
          -237.17156026099138,
          510.9646405684816,
          -6565.27584368271,
          1282.0961174640452,
          -187.24271582497795,
          3079.7711616661472,
          -7670.910440833653,
          877.7457607733722,
          -608.474687924328,
          4187.971047180123,
          -3460.475422382441,
          1709.4610098453268,
          -477.2196578233106,
          -165.11114792275697,
          61.61523916019951,
          -1346.922309277732,
          -7457.254175190486,
          1121.4957399020423,
          59578.92742184027,
          264.6229737280039,
          120.98979163205831,
          1265.3031066116127,
          3559.5346102298245,
          -31014.688482101745,
          270.5872317211688,
          -148.92994110738425,
          -1806.731674039381,
          -3633.7023158056973,
          -3850.4779154628122,
          -1298.4618637159256,
          -388.9106964406351,
          -8742.336586037165,
          -5688.331499442576,
          952.0729718172288,
          16569.18005833016,
          -2905.6226315400054,
          4048.373603658114,
          1221.106217791008,
          4254.496636888318,
          -1265.899083165537,
          -443.074507442343,
          -3898.6150954260956,
          22914.980800873876,
          1745.0740086219193,
          736.6827670520347,
          -230.10132445912137,
          422.4140662543432,
          -141.47851803940353,
          -619.709268388295,
          -1513.6260994713448,
          3083.9683962328063,
          252.3128757359715,
          -4227.222127524454,
          16606.139986530852,
          -2853.149840307644,
          -67.0542979190459,
          190.39224179850135,
          59.630446842192214,
          3222.547754174255,
          -2517.219888913399,
          -2841.8529529354564,
          502.07007321319657,
          57.10186403953867,
          242.04398452913324,
          6108.383724856929,
          -103.3101216471623,
          -374.67157649511864,
          -618.4604370489851,
          3264.0207940699815,
          -6206.9497904631135,
          746.8739520531767,
          -1532.5906224825994,
          -4471.42403233466,
          3098.2160053586813,
          984.9302243524653,
          321.4737528718322,
          1295.8867096837748,
          33593.2182464006,
          312.79384911306,
          735.9613034585545,
          2272.5190299898113,
          -864.7993970095195,
          -10755.626402177935,
          -714.5660683276153,
          -966.8934554931893,
          16926.81931223678,
          131.62920193769844,
          1033.0605399125743,
          5080.191370220069,
          -159.13097420362715,
          1179.251212637464,
          1064.5482551887878,
          1694.3087758084826,
          -456.429835870294,
          -727.8455372085991,
          542.4749856151839,
          -6356.026419720198,
          726.0934698667797,
          8318.049792388465,
          -790.3221041983743,
          -4759.45445563495,
          -1435.4497830899436,
          -124.39871959943275,
          -19354.024737016385,
          3394.1778318957113,
          2900.9742080261185,
          84.85645113425699,
          209.3089661866934,
          -1216.6330608929893,
          1355.333145220423,
          -329.77498286354296,
          -4598.49092425908,
          -5842.675244514028,
          908.3740449343086,
          2702.8858073215033,
          -2669.503514188862,
          905.0588629112658,
          7763.063259415281,
          471.34597228950724,
          -420.90535371457645,
          1252.041935755915,
          1775.7925429592142,
          -38.07143383535731,
          469.00977353981216,
          4694.568644202314,
          413.81271267963893,
          2886.2441936738614,
          55.01784110257552,
          2535.043002226006,
          175.71171673013396,
          1510.4340312831287,
          5978.086194810576,
          1022.768612197131,
          1252.956494388971,
          2997.7269964953302,
          -726.626524647636,
          2907.9017863007284,
          -6463.97694611696,
          -1792.6653355445847,
          2493.3274576236654,
          -3172.3440840400417,
          745.4739618862664,
          261.342698960907,
          6101.184105911565,
          -3368.5620881950745,
          -321.46974188236345,
          1679.0760694825417,
          3652.058892493671,
          -304.19577298703734,
          1739.9921424638778,
          629.3123610098166,
          1298.0080242582362,
          1546.3011791665886,
          6287.010211383553,
          -3058.7757511081436,
          -127.03262098987614,
          3323.3509499939646,
          -5857.738866879086,
          -376.1681036333142,
          12.784403644110625,
          396.3401415214321,
          -4207.325271444846,
          2719.1915942942387,
          1650.1496007580263,
          319.91546697672766,
          1394.346825054542,
          -2372.335003857794,
          5079.771707195388,
          6472.25638645389,
          -87.22786059501232,
          -1061.6370177511685,
          -632.8983436821272,
          1819.8906901267965,
          12268.111344668912,
          898.5603810944594,
          3332.3941946401956,
          -1555.258896671985,
          1843.1374731928918,
          1404.622816660249,
          -11455.545392590153,
          2083.6738812597123,
          25.055014246193423,
          1782.1652976594378,
          917.0166471111866,
          -2890.3451829742844,
          1945.9190803642632,
          -13396.411068674206,
          1140.6938641200031,
          -5399.483489403341,
          982.2420164874229,
          1742.6137188933526,
          143.5405710609067,
          -3577.546734715921,
          -1139.5992453369045,
          -130.81755773346225,
          -7900.841934181786,
          -9503.396118168363,
          7957.848979639068,
          3549.7258909773373,
          1891.4852438685452,
          158.098446017284,
          2534.855772033936,
          -1871.5308881598103,
          -336.4524156471797,
          3802.9491853773743,
          -16886.452748729556,
          563.4410511442043,
          6008.010113287462,
          1773.2512893116227,
          1956.2942873118982,
          -8275.617195544703,
          390.09266787620345,
          972.0270653269499,
          29995.066093240093,
          8140.248310868879,
          322.0911888823125,
          -1869.5277360954515,
          795.9887189140318,
          280.31997633491346,
          989.035497879202,
          5297.482865708644,
          1141.3912108530312,
          -2657.0431673573494,
          268.13181329778536
         ],
         "yaxis": "y"
        }
       ],
       "layout": {
        "legend": {
         "tracegroupgap": 0
        },
        "margin": {
         "t": 60
        },
        "template": {
         "data": {
          "bar": [
           {
            "error_x": {
             "color": "#2a3f5f"
            },
            "error_y": {
             "color": "#2a3f5f"
            },
            "marker": {
             "line": {
              "color": "#E5ECF6",
              "width": 0.5
             },
             "pattern": {
              "fillmode": "overlay",
              "size": 10,
              "solidity": 0.2
             }
            },
            "type": "bar"
           }
          ],
          "barpolar": [
           {
            "marker": {
             "line": {
              "color": "#E5ECF6",
              "width": 0.5
             },
             "pattern": {
              "fillmode": "overlay",
              "size": 10,
              "solidity": 0.2
             }
            },
            "type": "barpolar"
           }
          ],
          "carpet": [
           {
            "aaxis": {
             "endlinecolor": "#2a3f5f",
             "gridcolor": "white",
             "linecolor": "white",
             "minorgridcolor": "white",
             "startlinecolor": "#2a3f5f"
            },
            "baxis": {
             "endlinecolor": "#2a3f5f",
             "gridcolor": "white",
             "linecolor": "white",
             "minorgridcolor": "white",
             "startlinecolor": "#2a3f5f"
            },
            "type": "carpet"
           }
          ],
          "choropleth": [
           {
            "colorbar": {
             "outlinewidth": 0,
             "ticks": ""
            },
            "type": "choropleth"
           }
          ],
          "contour": [
           {
            "colorbar": {
             "outlinewidth": 0,
             "ticks": ""
            },
            "colorscale": [
             [
              0,
              "#0d0887"
             ],
             [
              0.1111111111111111,
              "#46039f"
             ],
             [
              0.2222222222222222,
              "#7201a8"
             ],
             [
              0.3333333333333333,
              "#9c179e"
             ],
             [
              0.4444444444444444,
              "#bd3786"
             ],
             [
              0.5555555555555556,
              "#d8576b"
             ],
             [
              0.6666666666666666,
              "#ed7953"
             ],
             [
              0.7777777777777778,
              "#fb9f3a"
             ],
             [
              0.8888888888888888,
              "#fdca26"
             ],
             [
              1,
              "#f0f921"
             ]
            ],
            "type": "contour"
           }
          ],
          "contourcarpet": [
           {
            "colorbar": {
             "outlinewidth": 0,
             "ticks": ""
            },
            "type": "contourcarpet"
           }
          ],
          "heatmap": [
           {
            "colorbar": {
             "outlinewidth": 0,
             "ticks": ""
            },
            "colorscale": [
             [
              0,
              "#0d0887"
             ],
             [
              0.1111111111111111,
              "#46039f"
             ],
             [
              0.2222222222222222,
              "#7201a8"
             ],
             [
              0.3333333333333333,
              "#9c179e"
             ],
             [
              0.4444444444444444,
              "#bd3786"
             ],
             [
              0.5555555555555556,
              "#d8576b"
             ],
             [
              0.6666666666666666,
              "#ed7953"
             ],
             [
              0.7777777777777778,
              "#fb9f3a"
             ],
             [
              0.8888888888888888,
              "#fdca26"
             ],
             [
              1,
              "#f0f921"
             ]
            ],
            "type": "heatmap"
           }
          ],
          "heatmapgl": [
           {
            "colorbar": {
             "outlinewidth": 0,
             "ticks": ""
            },
            "colorscale": [
             [
              0,
              "#0d0887"
             ],
             [
              0.1111111111111111,
              "#46039f"
             ],
             [
              0.2222222222222222,
              "#7201a8"
             ],
             [
              0.3333333333333333,
              "#9c179e"
             ],
             [
              0.4444444444444444,
              "#bd3786"
             ],
             [
              0.5555555555555556,
              "#d8576b"
             ],
             [
              0.6666666666666666,
              "#ed7953"
             ],
             [
              0.7777777777777778,
              "#fb9f3a"
             ],
             [
              0.8888888888888888,
              "#fdca26"
             ],
             [
              1,
              "#f0f921"
             ]
            ],
            "type": "heatmapgl"
           }
          ],
          "histogram": [
           {
            "marker": {
             "pattern": {
              "fillmode": "overlay",
              "size": 10,
              "solidity": 0.2
             }
            },
            "type": "histogram"
           }
          ],
          "histogram2d": [
           {
            "colorbar": {
             "outlinewidth": 0,
             "ticks": ""
            },
            "colorscale": [
             [
              0,
              "#0d0887"
             ],
             [
              0.1111111111111111,
              "#46039f"
             ],
             [
              0.2222222222222222,
              "#7201a8"
             ],
             [
              0.3333333333333333,
              "#9c179e"
             ],
             [
              0.4444444444444444,
              "#bd3786"
             ],
             [
              0.5555555555555556,
              "#d8576b"
             ],
             [
              0.6666666666666666,
              "#ed7953"
             ],
             [
              0.7777777777777778,
              "#fb9f3a"
             ],
             [
              0.8888888888888888,
              "#fdca26"
             ],
             [
              1,
              "#f0f921"
             ]
            ],
            "type": "histogram2d"
           }
          ],
          "histogram2dcontour": [
           {
            "colorbar": {
             "outlinewidth": 0,
             "ticks": ""
            },
            "colorscale": [
             [
              0,
              "#0d0887"
             ],
             [
              0.1111111111111111,
              "#46039f"
             ],
             [
              0.2222222222222222,
              "#7201a8"
             ],
             [
              0.3333333333333333,
              "#9c179e"
             ],
             [
              0.4444444444444444,
              "#bd3786"
             ],
             [
              0.5555555555555556,
              "#d8576b"
             ],
             [
              0.6666666666666666,
              "#ed7953"
             ],
             [
              0.7777777777777778,
              "#fb9f3a"
             ],
             [
              0.8888888888888888,
              "#fdca26"
             ],
             [
              1,
              "#f0f921"
             ]
            ],
            "type": "histogram2dcontour"
           }
          ],
          "mesh3d": [
           {
            "colorbar": {
             "outlinewidth": 0,
             "ticks": ""
            },
            "type": "mesh3d"
           }
          ],
          "parcoords": [
           {
            "line": {
             "colorbar": {
              "outlinewidth": 0,
              "ticks": ""
             }
            },
            "type": "parcoords"
           }
          ],
          "pie": [
           {
            "automargin": true,
            "type": "pie"
           }
          ],
          "scatter": [
           {
            "fillpattern": {
             "fillmode": "overlay",
             "size": 10,
             "solidity": 0.2
            },
            "type": "scatter"
           }
          ],
          "scatter3d": [
           {
            "line": {
             "colorbar": {
              "outlinewidth": 0,
              "ticks": ""
             }
            },
            "marker": {
             "colorbar": {
              "outlinewidth": 0,
              "ticks": ""
             }
            },
            "type": "scatter3d"
           }
          ],
          "scattercarpet": [
           {
            "marker": {
             "colorbar": {
              "outlinewidth": 0,
              "ticks": ""
             }
            },
            "type": "scattercarpet"
           }
          ],
          "scattergeo": [
           {
            "marker": {
             "colorbar": {
              "outlinewidth": 0,
              "ticks": ""
             }
            },
            "type": "scattergeo"
           }
          ],
          "scattergl": [
           {
            "marker": {
             "colorbar": {
              "outlinewidth": 0,
              "ticks": ""
             }
            },
            "type": "scattergl"
           }
          ],
          "scattermapbox": [
           {
            "marker": {
             "colorbar": {
              "outlinewidth": 0,
              "ticks": ""
             }
            },
            "type": "scattermapbox"
           }
          ],
          "scatterpolar": [
           {
            "marker": {
             "colorbar": {
              "outlinewidth": 0,
              "ticks": ""
             }
            },
            "type": "scatterpolar"
           }
          ],
          "scatterpolargl": [
           {
            "marker": {
             "colorbar": {
              "outlinewidth": 0,
              "ticks": ""
             }
            },
            "type": "scatterpolargl"
           }
          ],
          "scatterternary": [
           {
            "marker": {
             "colorbar": {
              "outlinewidth": 0,
              "ticks": ""
             }
            },
            "type": "scatterternary"
           }
          ],
          "surface": [
           {
            "colorbar": {
             "outlinewidth": 0,
             "ticks": ""
            },
            "colorscale": [
             [
              0,
              "#0d0887"
             ],
             [
              0.1111111111111111,
              "#46039f"
             ],
             [
              0.2222222222222222,
              "#7201a8"
             ],
             [
              0.3333333333333333,
              "#9c179e"
             ],
             [
              0.4444444444444444,
              "#bd3786"
             ],
             [
              0.5555555555555556,
              "#d8576b"
             ],
             [
              0.6666666666666666,
              "#ed7953"
             ],
             [
              0.7777777777777778,
              "#fb9f3a"
             ],
             [
              0.8888888888888888,
              "#fdca26"
             ],
             [
              1,
              "#f0f921"
             ]
            ],
            "type": "surface"
           }
          ],
          "table": [
           {
            "cells": {
             "fill": {
              "color": "#EBF0F8"
             },
             "line": {
              "color": "white"
             }
            },
            "header": {
             "fill": {
              "color": "#C8D4E3"
             },
             "line": {
              "color": "white"
             }
            },
            "type": "table"
           }
          ]
         },
         "layout": {
          "annotationdefaults": {
           "arrowcolor": "#2a3f5f",
           "arrowhead": 0,
           "arrowwidth": 1
          },
          "autotypenumbers": "strict",
          "coloraxis": {
           "colorbar": {
            "outlinewidth": 0,
            "ticks": ""
           }
          },
          "colorscale": {
           "diverging": [
            [
             0,
             "#8e0152"
            ],
            [
             0.1,
             "#c51b7d"
            ],
            [
             0.2,
             "#de77ae"
            ],
            [
             0.3,
             "#f1b6da"
            ],
            [
             0.4,
             "#fde0ef"
            ],
            [
             0.5,
             "#f7f7f7"
            ],
            [
             0.6,
             "#e6f5d0"
            ],
            [
             0.7,
             "#b8e186"
            ],
            [
             0.8,
             "#7fbc41"
            ],
            [
             0.9,
             "#4d9221"
            ],
            [
             1,
             "#276419"
            ]
           ],
           "sequential": [
            [
             0,
             "#0d0887"
            ],
            [
             0.1111111111111111,
             "#46039f"
            ],
            [
             0.2222222222222222,
             "#7201a8"
            ],
            [
             0.3333333333333333,
             "#9c179e"
            ],
            [
             0.4444444444444444,
             "#bd3786"
            ],
            [
             0.5555555555555556,
             "#d8576b"
            ],
            [
             0.6666666666666666,
             "#ed7953"
            ],
            [
             0.7777777777777778,
             "#fb9f3a"
            ],
            [
             0.8888888888888888,
             "#fdca26"
            ],
            [
             1,
             "#f0f921"
            ]
           ],
           "sequentialminus": [
            [
             0,
             "#0d0887"
            ],
            [
             0.1111111111111111,
             "#46039f"
            ],
            [
             0.2222222222222222,
             "#7201a8"
            ],
            [
             0.3333333333333333,
             "#9c179e"
            ],
            [
             0.4444444444444444,
             "#bd3786"
            ],
            [
             0.5555555555555556,
             "#d8576b"
            ],
            [
             0.6666666666666666,
             "#ed7953"
            ],
            [
             0.7777777777777778,
             "#fb9f3a"
            ],
            [
             0.8888888888888888,
             "#fdca26"
            ],
            [
             1,
             "#f0f921"
            ]
           ]
          },
          "colorway": [
           "#636efa",
           "#EF553B",
           "#00cc96",
           "#ab63fa",
           "#FFA15A",
           "#19d3f3",
           "#FF6692",
           "#B6E880",
           "#FF97FF",
           "#FECB52"
          ],
          "font": {
           "color": "#2a3f5f"
          },
          "geo": {
           "bgcolor": "white",
           "lakecolor": "white",
           "landcolor": "#E5ECF6",
           "showlakes": true,
           "showland": true,
           "subunitcolor": "white"
          },
          "hoverlabel": {
           "align": "left"
          },
          "hovermode": "closest",
          "mapbox": {
           "style": "light"
          },
          "paper_bgcolor": "white",
          "plot_bgcolor": "#E5ECF6",
          "polar": {
           "angularaxis": {
            "gridcolor": "white",
            "linecolor": "white",
            "ticks": ""
           },
           "bgcolor": "#E5ECF6",
           "radialaxis": {
            "gridcolor": "white",
            "linecolor": "white",
            "ticks": ""
           }
          },
          "scene": {
           "xaxis": {
            "backgroundcolor": "#E5ECF6",
            "gridcolor": "white",
            "gridwidth": 2,
            "linecolor": "white",
            "showbackground": true,
            "ticks": "",
            "zerolinecolor": "white"
           },
           "yaxis": {
            "backgroundcolor": "#E5ECF6",
            "gridcolor": "white",
            "gridwidth": 2,
            "linecolor": "white",
            "showbackground": true,
            "ticks": "",
            "zerolinecolor": "white"
           },
           "zaxis": {
            "backgroundcolor": "#E5ECF6",
            "gridcolor": "white",
            "gridwidth": 2,
            "linecolor": "white",
            "showbackground": true,
            "ticks": "",
            "zerolinecolor": "white"
           }
          },
          "shapedefaults": {
           "line": {
            "color": "#2a3f5f"
           }
          },
          "ternary": {
           "aaxis": {
            "gridcolor": "white",
            "linecolor": "white",
            "ticks": ""
           },
           "baxis": {
            "gridcolor": "white",
            "linecolor": "white",
            "ticks": ""
           },
           "bgcolor": "#E5ECF6",
           "caxis": {
            "gridcolor": "white",
            "linecolor": "white",
            "ticks": ""
           }
          },
          "title": {
           "x": 0.05
          },
          "xaxis": {
           "automargin": true,
           "gridcolor": "white",
           "linecolor": "white",
           "ticks": "",
           "title": {
            "standoff": 15
           },
           "zerolinecolor": "white",
           "zerolinewidth": 2
          },
          "yaxis": {
           "automargin": true,
           "gridcolor": "white",
           "linecolor": "white",
           "ticks": "",
           "title": {
            "standoff": 15
           },
           "zerolinecolor": "white",
           "zerolinewidth": 2
          }
         }
        },
        "title": {
         "text": "Residuals vs Predicted Salary"
        },
        "xaxis": {
         "anchor": "y",
         "domain": [
          0,
          1
         ],
         "title": {
          "text": "Predicted Salary"
         }
        },
        "yaxis": {
         "anchor": "x",
         "domain": [
          0,
          1
         ],
         "title": {
          "text": "Predicted - Actual"
         }
        }
       }
      }
     },
     "metadata": {},
     "output_type": "display_data"
    },
    {
     "data": {
      "application/vnd.plotly.v1+json": {
       "config": {
        "plotlyServerURL": "https://plot.ly"
       },
       "data": [
        {
         "customdata": [
          [
           "Jacopo Fazzini"
          ],
          [
           "Nathan Tella"
          ],
          [
           "Janik Haberer"
          ],
          [
           "Cristiano Piccini"
          ],
          [
           "Koen Van Langendonck"
          ],
          [
           "Sam Larsson"
          ],
          [
           "Garry Mendes Rodrigues"
          ],
          [
           "Florian Krüger"
          ],
          [
           "Xeber Alkain Mitxelena"
          ],
          [
           "Flynn Downes"
          ],
          [
           "Reyes Cleary"
          ],
          [
           "João Miguel Teixeira Mendes"
          ],
          [
           "Iñaki Rupérez Urtasun"
          ],
          [
           "Peer Koopmeiners"
          ],
          [
           "Antonio Jonjić"
          ],
          [
           "Sherel Floranus"
          ],
          [
           "Fabio Torsiello"
          ],
          [
           "Antoine Leautey"
          ],
          [
           "Peter Ouaneh"
          ],
          [
           "Dario Dumić"
          ],
          [
           "Paul Stock"
          ],
          [
           "Federico Dimarco"
          ],
          [
           "Lilian Brassier"
          ],
          [
           "Liam Lindsay"
          ],
          [
           "Aitor Paredes Casamichana"
          ],
          [
           "Ryan Isaac Mendes da Graça"
          ],
          [
           "Alex Matos"
          ],
          [
           "Leandro Chichizola"
          ],
          [
           "Jorge Filipe Oliveira Fernandes"
          ],
          [
           "Semir Telalovic"
          ],
          [
           "Domingos Quina"
          ],
          [
           "Julen Lobete Cienfuegos"
          ],
          [
           "Colin Dagba"
          ],
          [
           "Fernando Pacheco Flores"
          ],
          [
           "Daniel Grilo Azevedo"
          ],
          [
           "Rui Filipe Caetano Moura"
          ],
          [
           "Christian Kinsombi"
          ],
          [
           "Niclas Füllkrug"
          ],
          [
           "Florian Kainz"
          ],
          [
           "Luca Giudici"
          ],
          [
           "Luis Milla Manzanares"
          ],
          [
           "Emmanuel Okyere Boateng"
          ],
          [
           "Tawanda Chirewa"
          ],
          [
           "Bahadır Gölgeli"
          ],
          [
           "Diyaeddine Abzi"
          ],
          [
           "Erce Kardeşler"
          ],
          [
           "Moryké Fofana"
          ],
          [
           "Gabriel Gudmundsson"
          ],
          [
           "Nikolas Agrafiotis"
          ],
          [
           "Jannik Vestergaard"
          ],
          [
           "Kaio César Andrade Lima"
          ],
          [
           "José Francisco dos Santos Júnior"
          ],
          [
           "Tjaronn Inteff Chefren Chery"
          ],
          [
           "Alessandro Bellemo"
          ],
          [
           "Vincent Janssen"
          ],
          [
           "Olivier Dumont"
          ],
          [
           "Andreas Albers Nielsen"
          ],
          [
           "Thibaut Nicolas Marc Courtois"
          ],
          [
           "Pajtim Kasami"
          ],
          [
           "Albert-Mboyo Sambi Lokonga"
          ],
          [
           "André Hoffmann"
          ],
          [
           "Mergim Berisha"
          ],
          [
           "Terem Igobor Moffi"
          ],
          [
           "Aitor Mañas Buenadicha"
          ],
          [
           "Edmond Fayçal Tapsoba"
          ],
          [
           "Amari'i Bell"
          ],
          [
           "Edoardo Borrelli"
          ],
          [
           "Francisco Gámez López"
          ],
          [
           "Kayky da Silva Chagas"
          ],
          [
           "Lawrence Ofori"
          ],
          [
           "Florentin Lucien Jean Bloch"
          ],
          [
           "Benicio Baker-Boaitey"
          ],
          [
           "Sveinn Aron Guðjohnsen"
          ],
          [
           "Christian Lund Gytkjær"
          ],
          [
           "Leo Skiri Østigård"
          ],
          [
           "Ivan Filipović"
          ],
          [
           "Daniel Heber"
          ],
          [
           "Luis Perea Hernández"
          ],
          [
           "André Seruca de Oliveira"
          ],
          [
           "Marc Aguado Pallarés"
          ],
          [
           "Pape Ousmane Sakho"
          ],
          [
           "Rodrigo Ribeiro de Macedo"
          ],
          [
           "Ilias Koutsoupias"
          ],
          [
           "川邉 骏"
          ],
          [
           "Nicholas Pierini"
          ],
          [
           "Elbasan Rashani"
          ],
          [
           "Samuele Di Benedetto"
          ],
          [
           "Adryelson Lima Silva"
          ],
          [
           "Amar Gerxhaliu"
          ],
          [
           "Moïse Sahi Dion"
          ],
          [
           "Pedro González López"
          ],
          [
           "Miguel Ángel Atienza Villa"
          ],
          [
           "Mathias De Amorim"
          ],
          [
           "Alejandro Grimaldo García"
          ],
          [
           "Raphael Gregório Guzzo"
          ],
          [
           "Rui Pedro Silva Costa"
          ],
          [
           "Héctor José Hernández Marrero"
          ],
          [
           "Raúl Navarro del Río"
          ],
          [
           "Ferdy Druijf"
          ],
          [
           "Shahruddin Magomedaliyev"
          ],
          [
           "Enrico Baldini"
          ],
          [
           "Ruben Bover Izquierdo"
          ],
          [
           "Ravil Tagir"
          ],
          [
           "Daniel Gómez Alcón"
          ],
          [
           "Souleyman Doumbia"
          ],
          [
           "Jordan Tell"
          ],
          [
           "Giorgio Cittadini"
          ],
          [
           "Hélder José Oliveira Sá"
          ],
          [
           "Borja González Tomás"
          ],
          [
           "Luca Moro"
          ],
          [
           "Reece James"
          ],
          [
           "Márton Dárdai"
          ],
          [
           "Luka Bogdan"
          ],
          [
           "Mohamed Bamba"
          ],
          [
           "Ygor Nogueira de Paula"
          ],
          [
           "Harrison Clarke"
          ],
          [
           "Raffaele Pucino"
          ],
          [
           "Diego García Campos"
          ],
          [
           "Gaby Jean"
          ],
          [
           "Victor Jörgen Nilsson Lindelöf"
          ],
          [
           "Sokol Çikalleshi"
          ],
          [
           "Thibault Campanini"
          ],
          [
           "Joshua Myles Abraham Key"
          ],
          [
           "Kevin Strootman"
          ],
          [
           "Alessandro Livieri"
          ],
          [
           "Danny Ward"
          ],
          [
           "Çağlar Söyüncü"
          ],
          [
           "Junior Mwanga"
          ],
          [
           "Gregorio Luperini"
          ],
          [
           "Erick Barbosa dos Santos"
          ],
          [
           "Andrew Ferai Rinomhota"
          ],
          [
           "Kofi Jeremy Amoako"
          ],
          [
           "Malick Mbaye"
          ],
          [
           "Nelson Amadin"
          ],
          [
           "Daniel Bentley"
          ],
          [
           "Jon Pacheco Dozagarat"
          ],
          [
           "Robert Dickie"
          ],
          [
           "Nassim Chadli"
          ],
          [
           "Quentin Merlin"
          ],
          [
           "Youssef Amyn"
          ],
          [
           "Lucas Höler"
          ],
          [
           "Kyle Bartley"
          ],
          [
           "Madi Monamay Nsosemo"
          ],
          [
           "Ayman Benarous"
          ],
          [
           "Moritz Römling"
          ],
          [
           "Iñigo Córdoba Querejeta"
          ],
          [
           "Miguel Gutiérrez Ortega"
          ],
          [
           "Dimitris Giannoulis"
          ],
          [
           "James Shea"
          ],
          [
           "Hugo Novoa Ramos"
          ],
          [
           "Jamal Musiala"
          ],
          [
           "Mahlon Beresford Baker Romeo"
          ],
          [
           "Sergi Cardona Bermúdez"
          ],
          [
           "Nick Fichtinger"
          ],
          [
           "Marc Cucurella Saseta"
          ],
          [
           "Branco van den Boomen"
          ],
          [
           "Matthieu Udol"
          ],
          [
           "Divin Mubama"
          ],
          [
           "Nathangelo Alexandro Markelo"
          ],
          [
           "Arthur Vermeeren"
          ],
          [
           "Joaquín Fernández Moreno"
          ],
          [
           "Rafik Belghali"
          ],
          [
           "Federico Gatti"
          ],
          [
           "Mitchell Dijks"
          ],
          [
           "Hugo Magnetti"
          ],
          [
           "Mamadou Diop"
          ],
          [
           "Muammer Sarıkaya"
          ],
          [
           "Nouha Dicko"
          ],
          [
           "Garland Gbellé"
          ],
          [
           "Maxime Jean Roberto Leverbe"
          ],
          [
           "Edin Višća"
          ],
          [
           "Bradley Barcola"
          ],
          [
           "Imanol García de Albéniz Crecente"
          ],
          [
           "Gregor Kobel"
          ],
          [
           "Avdo Spahić"
          ],
          [
           "Connal Trueman"
          ],
          [
           "Kenan Yıldız"
          ],
          [
           "Ryan Allsop"
          ],
          [
           "Aurélio Gabriel Ulineia Buta"
          ],
          [
           "Leonardo Pavoletti"
          ],
          [
           "Regan Slater"
          ],
          [
           "Trazié Thomas Zai"
          ],
          [
           "Rachid Ghezzal"
          ],
          [
           "Modibo Sagnan"
          ],
          [
           "Maxime Dominguez"
          ],
          [
           "Juan Carlos Martín Corral"
          ],
          [
           "Marvin Olawale Akinlabi Park"
          ],
          [
           "Milan Corryn"
          ],
          [
           "Frank Feller"
          ],
          [
           "Hákon Arnar Haraldsson"
          ],
          [
           "Nicolás Federico Castro"
          ],
          [
           "Nilson David Angulo Ramírez"
          ],
          [
           "Danilo D'Ambrosio"
          ],
          [
           "Israel Salazar Piriz"
          ],
          [
           "Mathías Olivera Miramontes"
          ],
          [
           "Alireza Jahanbakhsh"
          ],
          [
           "Tiago Fontoura Fonseca Morais"
          ],
          [
           "Spyros Angelidis"
          ],
          [
           "Madson de Souza Silva"
          ],
          [
           "John Stones"
          ],
          [
           "Maxime Busi"
          ],
          [
           "Khalil Fayad"
          ],
          [
           "Felipe Augusto da Silva"
          ],
          [
           "Harry Winks"
          ],
          [
           "Konrad de la Fuente"
          ],
          [
           "Daan Rots"
          ],
          [
           "Patrick Cutrone"
          ],
          [
           "Matteo Cotali"
          ],
          [
           "Tomáš Čvančara"
          ],
          [
           "Alioune Ba"
          ],
          [
           "Miguel Ángel Almirón Rejala"
          ],
          [
           "Guglielmo Vicario"
          ],
          [
           "Tjark Scheller"
          ],
          [
           "Tom Bischof"
          ],
          [
           "Jason Davidson"
          ],
          [
           "Junior Marsoni Sambu Mansoni"
          ],
          [
           "Sem Westerveld"
          ],
          [
           "Guéla Doué"
          ],
          [
           "Adrian Blake"
          ],
          [
           "Jeanuël Belocian"
          ],
          [
           "Adama Boiro"
          ],
          [
           "Bart Verbruggen"
          ],
          [
           "Boris Popovic"
          ],
          [
           "Mario Sesé Vera"
          ],
          [
           "Clément Jerome Michelin"
          ],
          [
           "Milan Smits"
          ],
          [
           "Bouna Sarr"
          ],
          [
           "Edgar Alcañiz Baldovi"
          ],
          [
           "Rigoberto Manuel Rivas Vindel"
          ],
          [
           "Lamine Fomba"
          ],
          [
           "Christopher Schindler"
          ],
          [
           "Triantafyllos Pasalidis"
          ],
          [
           "Justin-Noël Kalumba"
          ],
          [
           "Jordan Henderson"
          ],
          [
           "Gabriel Fernando de Jesus"
          ],
          [
           "Lorenzo De Silvestri"
          ],
          [
           "Edgar González Estrada"
          ],
          [
           "Marlos Moreno Durán"
          ],
          [
           "Jack Bonham"
          ],
          [
           "Cheick Oumar Konaté"
          ],
          [
           "Kenneth Aboh"
          ],
          [
           "Yohan Demoncy"
          ],
          [
           "Gerrard Buabo"
          ],
          [
           "Baye Ablaye Mbaye"
          ],
          [
           "Idrissa Gana Gueye"
          ],
          [
           "Rayan Ghrieb"
          ],
          [
           "Michael Obafemi"
          ],
          [
           "Arouna Sangante"
          ],
          [
           "Florian Bohnert"
          ],
          [
           "Luan Silva"
          ],
          [
           "Przemysław Płacheta"
          ],
          [
           "Odysseus Velanas"
          ],
          [
           "Luis Alberto Romero Alconchel"
          ],
          [
           "Peter Pekarík"
          ],
          [
           "Toni Domgjoni"
          ],
          [
           "Christian Rivera Hernández"
          ],
          [
           "Wahidullah Faghir"
          ],
          [
           "Bernardo Martins Sousa"
          ],
          [
           "Seydouba Cisse"
          ],
          [
           "Vakoun Issouf Bayo"
          ],
          [
           "Isac Alexi Sivert Lidberg"
          ],
          [
           "Stipe Perica"
          ],
          [
           "Eric Junior Bocat"
          ],
          [
           "Mario Ierardi"
          ],
          [
           "Luca Ravanelli"
          ],
          [
           "Óscar Guido Trejo"
          ],
          [
           "Alexandre Mendy"
          ],
          [
           "Kristian Pedersen"
          ],
          [
           "Jeroen Zoet"
          ],
          [
           "Johan Gastien"
          ],
          [
           "Claud Adjapong"
          ],
          [
           "Gustavo Enrique Giordano Amaro Assunção da Silva"
          ],
          [
           "Noah Mawene"
          ],
          [
           "Thijs Dallinga"
          ],
          [
           "Zakaria El Ouahdi"
          ],
          [
           "Alessio Zerbin"
          ],
          [
           "Alexandre Corredera Alardi"
          ],
          [
           "Dante Bonfim da Costa Santos"
          ],
          [
           "Shane Patrick Michael Duffy"
          ],
          [
           "Adrián Liso Liso Lahoz"
          ],
          [
           "Richie Omorowa"
          ],
          [
           "Divock Okoth Origi"
          ],
          [
           "Jarne Steuckers"
          ],
          [
           "Florian Miguel"
          ],
          [
           "Anis Mehmeti"
          ],
          [
           "Thomas Lemar"
          ],
          [
           "Brooke Norton-Cuffy"
          ],
          [
           "Miguel Rodríguez Vidal"
          ],
          [
           "Bruno Oliveira Bertinato"
          ],
          [
           "Mehdi Chahiri"
          ],
          [
           "Yaw Moses"
          ],
          [
           "Carl Rushworth"
          ],
          [
           "Taylor Moore"
          ],
          [
           "Manuel Obafemi Akanji"
          ],
          [
           "Kangni Frederic Ananou"
          ],
          [
           "Francesco Di Tacchio"
          ],
          [
           "Ali Fadal"
          ],
          [
           "Robert Leipertz"
          ],
          [
           "Jeffrey Gouweleeuw"
          ],
          [
           "Francisco Barbosa Vieites"
          ],
          [
           "Maxence Lacroix"
          ],
          [
           "Marcel Łubik"
          ],
          [
           "황의조 Ui Jo Hwang"
          ],
          [
           "David Torres Ortiz"
          ],
          [
           "Pedro Ortiz Bernat"
          ],
          [
           "シュミット・ダニエル"
          ],
          [
           "Joe Bryan"
          ],
          [
           "Arsène Courel"
          ],
          [
           "Noussair Mazraoui"
          ],
          [
           "Florent Muslija"
          ],
          [
           "Jhafets Christ Dick Reyes"
          ],
          [
           "Vincent Gembalies"
          ],
          [
           "Ricardo Daniel Pepi"
          ],
          [
           "Berkay Aydoğmuş"
          ],
          [
           "Jay den Haan"
          ],
          [
           "Francisco Javier Montero Rubio"
          ],
          [
           "Samuele Birindelli"
          ],
          [
           "Stefano Turati"
          ],
          [
           "Lucas Pires Silva"
          ],
          [
           "Mario Pašalić"
          ],
          [
           "Benedikt Gimber"
          ],
          [
           "Ogün Özçiçek"
          ],
          [
           "Thomas Glyn Doyle"
          ],
          [
           "Lucas François Bernard Hernández Pi"
          ],
          [
           "Marcel Beifus"
          ],
          [
           "Johann Serge Obiang"
          ],
          [
           "Hugo Sotelo Gómez"
          ],
          [
           "Mouhamadou Diarra"
          ],
          [
           "Aurélien Scheidler"
          ],
          [
           "Evan Ferguson"
          ],
          [
           "D'Leanu Arts"
          ],
          [
           "Luca Jannis Kilian"
          ],
          [
           "Bas Edo Kuipers"
          ],
          [
           "Marcos Sánchez Arriero"
          ],
          [
           "Massimo Coda"
          ],
          [
           "David Morillas Jiménez"
          ],
          [
           "Ibrahim Maza"
          ],
          [
           "Andrea Bertolacci"
          ],
          [
           "José Ignacio Fernández Iglesias"
          ],
          [
           "Bradley Stretton"
          ],
          [
           "Thomas Foket"
          ],
          [
           "Bachirou Yameogo"
          ],
          [
           "Jesse Bal"
          ],
          [
           "Luis Ezequiel Ávila"
          ],
          [
           "Illan Meslier"
          ],
          [
           "Kevin Miranda"
          ],
          [
           "Allan Linguet"
          ],
          [
           "Kevin Kraus"
          ],
          [
           "Elvis Rexhbeçaj"
          ],
          [
           "Cam Bragg"
          ],
          [
           "Jason Eyenga-Lokilo"
          ],
          [
           "Kenny Lala"
          ],
          [
           "Antonio Rüdiger"
          ],
          [
           "Iwo Kaczmarski"
          ],
          [
           "Francesco Caputo"
          ],
          [
           "Iván Chapela López"
          ],
          [
           "Stefan Leković"
          ],
          [
           "Godfried Roemeratoe"
          ],
          [
           "Jérémie Boga"
          ],
          [
           "Julian Jeanvier"
          ],
          [
           "Dominic Solanke"
          ],
          [
           "Quentin Braat"
          ],
          [
           "Bilal Brahimi"
          ],
          [
           "Jean-Luc Mamadou Diarra Dompé"
          ],
          [
           "Pedro Gastón Álvarez Sosa"
          ],
          [
           "Phillip Tietz"
          ],
          [
           "José Andrés Rodriguez Gaitán"
          ],
          [
           "Germán Sánchez Barahona"
          ],
          [
           "Yáser Asprilla Martínez"
          ],
          [
           "Brandon Soppy"
          ],
          [
           "Timo Baumgartl"
          ],
          [
           "Vedat Karakuş"
          ],
          [
           "Warren Tchimbembé"
          ],
          [
           "Asmir Begović"
          ],
          [
           "Michele Collocolo"
          ],
          [
           "Onur Bulut"
          ],
          [
           "Jubal Rocha Mendes Júnior"
          ],
          [
           "Mamadou Camara"
          ],
          [
           "Miguel Muñoz Mora"
          ],
          [
           "Nikola Vlašić"
          ],
          [
           "Reece Burke"
          ],
          [
           "Tomás Mejías Osorio"
          ],
          [
           "Ayotomiwa Dele-Bashiru"
          ],
          [
           "Jean Romaric Kevin Koffi"
          ],
          [
           "Ahmet Ege Gürleyen"
          ],
          [
           "Giacomo Raspadori"
          ],
          [
           "José León Bernal"
          ],
          [
           "Rolando Mandragora"
          ],
          [
           "Dirk Asare"
          ],
          [
           "Marc Jurado Gómez"
          ],
          [
           "Saba Sazonov"
          ],
          [
           "Famara Diédhiou"
          ],
          [
           "Bruno Lourenço Pinto de Almeida Paz"
          ],
          [
           "Nikola Krstović"
          ],
          [
           "Jesurun Rak-Sakyi"
          ],
          [
           "Andrea Cagnano"
          ],
          [
           "Lucas Vennegoor of Hess."
          ],
          [
           "David López Silva"
          ],
          [
           "Antoni-Djibu Milambo"
          ],
          [
           "Iker Undabarrena Martínez"
          ],
          [
           "Antoine Semenyo"
          ],
          [
           "Armando Broja"
          ],
          [
           "Tobias Kempe"
          ],
          [
           "Valerio Mantovani"
          ],
          [
           "Danel Sinani"
          ],
          [
           "Mexx Meerdink"
          ],
          [
           "Miquel Parera Pizá"
          ],
          [
           "Manuel Marras"
          ],
          [
           "Filip Wojciech Jagiełło"
          ],
          [
           "Alejandro Iturbe Encabo"
          ],
          [
           "Mateo Kovačić"
          ],
          [
           "Sergio Lozano Lluch"
          ],
          [
           "Sergio Camello Pérez"
          ],
          [
           "Silvio Merkaj"
          ],
          [
           "Dilan Kumar Markanday"
          ],
          [
           "Yasser Baldé"
          ],
          [
           "Moussa Sissoko"
          ],
          [
           "Zak Vyner"
          ],
          [
           "Yann Sommer"
          ],
          [
           "Hervé Kouakou Koffi"
          ],
          [
           "Alin Vasilică Șerban"
          ],
          [
           "Darlin Zidane Yongwa Ngameni"
          ],
          [
           "Jimmy Dunne"
          ],
          [
           "Vic Chambaere"
          ],
          [
           "Xavier Laglais Kouassi"
          ],
          [
           "Yassine Haouari"
          ],
          [
           "Noah Engelbreth"
          ],
          [
           "Nicolas Oliveira Kisilowski"
          ],
          [
           "Henri Salomaa"
          ],
          [
           "Jay Idzes"
          ],
          [
           "Simone Pozzato"
          ],
          [
           "Raúl Fernández-Cavada Mateos"
          ],
          [
           "Thomas Buitink"
          ],
          [
           "Valentino Livramento"
          ],
          [
           "守田 英正"
          ],
          [
           "Harouna Sy"
          ],
          [
           "Yann Yves Laurent Bodiger"
          ],
          [
           "Yunus Mallı"
          ],
          [
           "Joël Schingtienne"
          ],
          [
           "Vital Manuel N"
          ],
          [
           "Lorenzo Lucchesi"
          ],
          [
           "Bruno Xavier Almeida Costa"
          ],
          [
           "Nicola Rauti"
          ],
          [
           "Nicolas De Préville"
          ],
          [
           "Gabriele Piccinini"
          ],
          [
           "Adil Aouchiche"
          ],
          [
           "Martin Erlić"
          ],
          [
           "Ferran Jutglà Blanch"
          ],
          [
           "Christian Fassnacht"
          ],
          [
           "Niklas Niehoff"
          ],
          [
           "Simon Walde"
          ],
          [
           "Papiss Mison Djilobodji"
          ],
          [
           "Vito Mannone"
          ],
          [
           "Mustafa Kapı"
          ],
          [
           "Falaye Sacko"
          ],
          [
           "Piero Martín Hincapié Reyna"
          ],
          [
           "Gédéon Kalulu Kyatengwa"
          ],
          [
           "Felix Passlack"
          ],
          [
           "Garang Kuol"
          ],
          [
           "Rafael Sousa Gancho Brito"
          ],
          [
           "Antonio Mirante"
          ],
          [
           "Ricardo Domingos Barbosa Pereira"
          ],
          [
           "Amadou Keita"
          ],
          [
           "Alessandro Micai"
          ],
          [
           "Ömer Toprak"
          ],
          [
           "Samuel Loureiro Carvalho Justo"
          ],
          [
           "Damian van der Haar"
          ],
          [
           "Agustín Martegani"
          ],
          [
           "Felix Platte"
          ],
          [
           "Joseph Boyamba"
          ],
          [
           "Iké Dominique Ugbo"
          ],
          [
           "Maxime Kali Wenssens"
          ],
          [
           "Christian Borrego Isabel"
          ],
          [
           "Unai Marino Alkorta"
          ],
          [
           "Gustavo H. Alves Rodrigues"
          ],
          [
           "Nader El-Jindaoui"
          ],
          [
           "Gavin Okeroghene Bazunu"
          ],
          [
           "Oriol Romeu Vidal"
          ],
          [
           "Ibrahim Sissoko"
          ],
          [
           "Ørjan Håskjold Nyland"
          ],
          [
           "Tayo Adaramola"
          ],
          [
           "José Luis Muñoz León"
          ],
          [
           "Mathias Oyewusi"
          ],
          [
           "Alfons Sampsted"
          ],
          [
           "Abel Ruiz Ortega"
          ],
          [
           "Marcus Lilian Thuram-Ulien"
          ],
          [
           "Antonio Pergreffi"
          ],
          [
           "Sergio Cubero Ezcurra"
          ],
          [
           "Berkay Sülüngöz"
          ],
          [
           "Marcos André de Sousa Mendonça"
          ],
          [
           "Sébastien Bruzzese"
          ],
          [
           "Mohamed El Arouch"
          ],
          [
           "Rúben Ismael Valente Ramos"
          ],
          [
           "Lucas Perrin"
          ],
          [
           "Levi Samuels Colwill"
          ],
          [
           "Iver Tobias Rørvik Fossum"
          ],
          [
           "Cameron Lisceous Humphreys-Grant"
          ],
          [
           "Luis Ismael Vázquez"
          ],
          [
           "João Miguel Vieira Freitas Silva Marques"
          ],
          [
           "Miguel Loureiro Ameijenda"
          ],
          [
           "Logan Costa"
          ],
          [
           "Kyliane Dong"
          ],
          [
           "Joel Julius Ilmari Pohjanpalo"
          ],
          [
           "Luis Dettling"
          ],
          [
           "Julien Le Cardinal"
          ],
          [
           "Mihajlo Ilić"
          ],
          [
           "Kasper Dolberg Rasmussen"
          ],
          [
           "Charles Boli"
          ],
          [
           "Isak Hien"
          ],
          [
           "Estéban Lepaul"
          ],
          [
           "Borja Garcés Moreno"
          ],
          [
           "Nicolas Pépé"
          ],
          [
           "Ryan Andrews"
          ],
          [
           "Ben Knight"
          ],
          [
           "Eddie Anthony Salcedo Mora"
          ],
          [
           "Jaume Albert Cuéllar Mendoza"
          ],
          [
           "Lenny Pirringuel"
          ],
          [
           "Álvaro Killane Giardini"
          ],
          [
           "Ethan Shea Horvath"
          ],
          [
           "Siebe Horemans"
          ],
          [
           "Riad Nouri"
          ],
          [
           "Andy Joseph Pelmard"
          ],
          [
           "Ylies Aradj"
          ],
          [
           "Ángel Fortuño Viñas"
          ],
          [
           "Sam Proctor"
          ],
          [
           "Loris Mouyokolo"
          ],
          [
           "Antonio José Raíllo Arenas"
          ],
          [
           "Mohamed Airam Ramos Wade"
          ],
          [
           "Sergi Darder Moll"
          ],
          [
           "Michael Langer"
          ],
          [
           "Sabin Merino Zuloaga"
          ],
          [
           "Immanuël-Johannes Pherai"
          ],
          [
           "Francesco D'Alessio"
          ],
          [
           "Thomas Lam"
          ],
          [
           "Tyrell Sellars-Fleming"
          ],
          [
           "Furkan Onur Akyüz"
          ],
          [
           "Andries Noppert"
          ],
          [
           "László Bénes"
          ],
          [
           "Mike van Duinen"
          ],
          [
           "Ignacio De Arruabarrena Fernández"
          ],
          [
           "Francisco Andrés Sierralta Carvallo"
          ],
          [
           "Mücahit Serbest"
          ],
          [
           "Florian Tardieu"
          ],
          [
           "Rui Tiago Dantas da Silva"
          ],
          [
           "Álvaro Sanz Catalán"
          ],
          [
           "Didier Lamkel Zé"
          ],
          [
           "Sven Botman"
          ],
          [
           "三笘 薫"
          ],
          [
           "Mousa Mohammad Mousa Sulaiman Al-Tamari"
          ],
          [
           "Alejandro San Cristóbal"
          ],
          [
           "Gerard Deulofeu Lázaro"
          ],
          [
           "Alessandro Salvi"
          ],
          [
           "Wesley Nathan Hylton Harding"
          ],
          [
           "Alexis Laurent Patrice Roge Flips"
          ],
          [
           "Denis Mihai Drăguş"
          ],
          [
           "Samuel Peter Barnes"
          ],
          [
           "Efe Tecimer"
          ],
          [
           "Diego González Cabanes"
          ],
          [
           "Jakub Stolarczyk"
          ],
          [
           "Joseph Nonge"
          ],
          [
           "Nuno Miguel da Costa Jóia"
          ],
          [
           "Andreas Voglsammer"
          ],
          [
           "Roman Květ"
          ],
          [
           "José Alejandro Martín Valerón"
          ],
          [
           "Bünyamin Balcı"
          ],
          [
           "Pedro Miguel Santos Amador"
          ],
          [
           "David Turnbull"
          ],
          [
           "Alper Uludağ"
          ],
          [
           "Jorge Benito de Valle"
          ],
          [
           "Amadou Sagna"
          ],
          [
           "Jules Gaudin"
          ],
          [
           "Alberth Josué Elis Martínez"
          ],
          [
           "Juan Antonio Iglesias Sánchez"
          ],
          [
           "Cristian Darío Álvarez"
          ],
          [
           "Pablo Paulino Rosario"
          ],
          [
           "Afonso Manuel Abreu de Freitas"
          ],
          [
           "Tom van de Looi"
          ],
          [
           "Giorgos Kyriakopoulos"
          ],
          [
           "Paul Nardi"
          ],
          [
           "Róbert Boženík"
          ],
          [
           "Danilo Cataldi"
          ],
          [
           "Mark Gillespie"
          ],
          [
           "Lukas Schleimer"
          ],
          [
           "Audenirton Soares da Silva"
          ],
          [
           "Yohan Roche"
          ],
          [
           "Sadibou Sané"
          ],
          [
           "Pedro Lomba Neto"
          ],
          [
           "Dean Henderson"
          ],
          [
           "Mateus Quaresma Correia"
          ],
          [
           "Philipp Pentke"
          ],
          [
           "Stephen Antunes Eustáquio"
          ],
          [
           "Yanis Rahmani Cordeiro"
          ],
          [
           "Jorge Karseladze"
          ],
          [
           "Jannis Heuer"
          ],
          [
           "Anderson-Lenda Lucoqui"
          ],
          [
           "Alessandro Caporale"
          ],
          [
           "Nordine Kandil"
          ],
          [
           "Cheikh Ahmadou Bamba Mbacke Dieng"
          ],
          [
           "Stéphane Imad Diarra"
          ],
          [
           "Vicente Guaita Panadero"
          ],
          [
           "Kristian Nökkvi Hlynsson"
          ],
          [
           "Luigi Pellegrini"
          ],
          [
           "Muhammet Ali Özbaskıcı"
          ],
          [
           "Romain Del Castillo"
          ],
          [
           "Jean Zimmer"
          ],
          [
           "Florian Thomas Danho"
          ],
          [
           "Isaac Palazón Camacho"
          ],
          [
           "Wladimiro Falcone"
          ],
          [
           "Ricardo Rodríguez Gil Carcedo"
          ],
          [
           "Luca Daniel de la Torre"
          ],
          [
           "Tarık Çetin"
          ],
          [
           "Alan Gonzalo Varela"
          ],
          [
           "Filip Bilbija"
          ],
          [
           "Haris Hajradinović"
          ],
          [
           "Tyler Shaan Adams"
          ],
          [
           "伊藤 涼太郎"
          ],
          [
           "Dean Ruben James"
          ],
          [
           "Diadié Samassékou"
          ],
          [
           "Stije Resink"
          ],
          [
           "Jose María Saldaña Baeza"
          ],
          [
           "Horaţiu Alexandru Moldovan"
          ],
          [
           "Jimmy Cabot"
          ],
          [
           "Luís Miguel Castelo Santos"
          ],
          [
           "Nick Pope"
          ],
          [
           "Dave Kwakman"
          ],
          [
           "Nazariy Rusyn"
          ],
          [
           "Gökhan Gül"
          ],
          [
           "Hugo Bueno López"
          ],
          [
           "Brajan Gruda"
          ],
          [
           "Kağan Moradaoğlu"
          ],
          [
           "Theodor Alexander Corbeanu"
          ],
          [
           "Selvi Clua Oya"
          ],
          [
           "Gustav Christensen"
          ],
          [
           "Kevin Martin Krygård"
          ],
          [
           "Ivan Ilić"
          ],
          [
           "Kamil Piątkowski"
          ],
          [
           "Djordjije Medenica"
          ],
          [
           "Hans Hateboer"
          ],
          [
           "Mattia Tonetto"
          ],
          [
           "Simon Rhein"
          ],
          [
           "Kalidou Sidibé"
          ],
          [
           "Brian Alexis Ocampo Ferreira"
          ],
          [
           "Damián Cáceres Rodríguez"
          ],
          [
           "Patrick Herrmann"
          ],
          [
           "Iván Calero Ruiz"
          ],
          [
           "Mert Kömür"
          ],
          [
           "Lorenzo Di Stefano"
          ],
          [
           "Filippo Romagna"
          ],
          [
           "Manolo Portanova"
          ],
          [
           "Tyler Roberts"
          ],
          [
           "Joe Rothwell"
          ],
          [
           "Mark Travers"
          ],
          [
           "Flávio Basilua Jacinto Nazinho"
          ],
          [
           "Benji Michel"
          ],
          [
           "Théo Barbet"
          ],
          [
           "Luca Maniero"
          ],
          [
           "Julien Fontaine Ngoy Bin Cibambi"
          ],
          [
           "Kalifa Coulibaly"
          ],
          [
           "Cláudio Winck Neto"
          ],
          [
           "Lucas Ariel Ocampos"
          ],
          [
           "Patrick Vroegh"
          ],
          [
           "Borja Mayoral Moya"
          ],
          [
           "Tan Kenneth Jerico Schmidt"
          ],
          [
           "Alessandro Sorrentino"
          ],
          [
           "Reno Münz"
          ],
          [
           "Thomas Dickson-Peters"
          ],
          [
           "Sergio Postigo Redondo"
          ],
          [
           "Pietro Pellegri"
          ],
          [
           "Oliver Hüsing"
          ],
          [
           "Neal Maupay"
          ],
          [
           "Joseph Oluwaseyi Temitope Ayodele-Aribo"
          ],
          [
           "Lenny Vallier"
          ],
          [
           "Matteo Grandi"
          ],
          [
           "Cristian Daniel Ansaldi"
          ],
          [
           "Calvin Marc Brackelmann"
          ],
          [
           "Tom Lees"
          ],
          [
           "Alexandre Lacazette"
          ],
          [
           "Anastasios Chatzigiovanis"
          ],
          [
           "Youssef Aït Bennasser"
          ],
          [
           "Franck Surdez"
          ],
          [
           "Ali Ibrahim Karim Ali Al-Hamadi"
          ],
          [
           "Max Herrmann"
          ],
          [
           "Andrea Sala"
          ],
          [
           "Fabian de Keijzer"
          ],
          [
           "Mattias Olof Svanberg"
          ],
          [
           "Vinicius Silvestre da Costa"
          ],
          [
           "Isaak Davies"
          ],
          [
           "Kamarai Simon-Swyer"
          ],
          [
           "Stanislav Kritsyuk"
          ],
          [
           "José Luís Mendes Andrade"
          ],
          [
           "Papa Amadou Diallo"
          ],
          [
           "Bahadır Han Güngördü"
          ],
          [
           "Shea Charles"
          ],
          [
           "Hugo Duro Perales"
          ],
          [
           "Yerson Mosquera Valdelamar"
          ],
          [
           "Javier Castro Urdín"
          ],
          [
           "Rafael Tolói"
          ],
          [
           "Nicolas N'Koulou"
          ],
          [
           "Domingos André Ribeiro Almeida"
          ],
          [
           "Marcelino Ignacio Nuñez Espinoza"
          ],
          [
           "Billy Gilmour"
          ],
          [
           "Rafael Obrador Burguera"
          ],
          [
           "Mads Frøkjær-Jensen"
          ],
          [
           "Karlo Lulić"
          ],
          [
           "Lucas Tolentino Coelho de Lima"
          ],
          [
           "Nicolás González Iglesias"
          ],
          [
           "Roberto Insigne"
          ],
          [
           "Andreas Müller"
          ],
          [
           "Júlio Augusto Dabó"
          ],
          [
           "Ahmed Musa"
          ],
          [
           "Quinten Ryan Crispito Timber"
          ],
          [
           "Micah Hamilton"
          ],
          [
           "Mike Hauptmeijer"
          ],
          [
           "Bram van Polen"
          ],
          [
           "Valentin André Henri Rosier"
          ],
          [
           "Paweł Marek Dawidowicz"
          ],
          [
           "Manfredi Nespola"
          ],
          [
           "本間 至恩"
          ],
          [
           "Jorge Pascual Medina"
          ],
          [
           "Jens Dalsgaard Stage"
          ],
          [
           "Myles Lewis-Skelly"
          ],
          [
           "Ismail Achik"
          ],
          [
           "Abat Aymbetov"
          ],
          [
           "Yannik Bangsow"
          ],
          [
           "Hubert Dawid Idasiak"
          ],
          [
           "Luke McNally"
          ],
          [
           "Timothy Chandler"
          ],
          [
           "Carlo Johan Holse Justesen"
          ],
          [
           "Roberto Maximiliano Pereyra"
          ],
          [
           "Pablo Íñiguez de Heredia Larraz"
          ],
          [
           "Mateusz Łęgowski"
          ],
          [
           "Benson Manuel Hedilazio"
          ],
          [
           "Maximilian Beier"
          ],
          [
           "Morgan Guilavogui"
          ],
          [
           "Jovan Manev"
          ],
          [
           "Arnaud Lusamba"
          ],
          [
           "Logan Delaurier-Chaubet"
          ],
          [
           "Filippo Veneran"
          ],
          [
           "Givairo Read"
          ],
          [
           "Kazımcan Karataş"
          ],
          [
           "Nachon Nsingi"
          ],
          [
           "Leo Greiml"
          ],
          [
           "Evan Eghosa"
          ],
          [
           "Yannik Keitel"
          ],
          [
           "Yassine Kechta"
          ],
          [
           "Jamiro Gregory Monteiro Alvarenga"
          ],
          [
           "Samuel Bamba"
          ],
          [
           "Kouassi Ryan Sessegnon"
          ],
          [
           "Elias Cobbaut"
          ],
          [
           "Domilson Cordeiro dos Santos"
          ],
          [
           "Nathan Wood-Gordon"
          ],
          [
           "Gabriel Slonina"
          ],
          [
           "Fernando Pérez Morillo"
          ],
          [
           "Aitor Ruibal García"
          ],
          [
           "Halid Šabanović"
          ],
          [
           "Can Keleş"
          ],
          [
           "Emir Karic"
          ],
          [
           "Hamjatou Soukouna"
          ],
          [
           "Vivaldo Leandro Semedo Moura Sousa"
          ],
          [
           "Jules Olivier Ntcham"
          ],
          [
           "Cristiano Biraghi"
          ],
          [
           "Andrew Robertson"
          ],
          [
           "Serif Nhaga"
          ],
          [
           "Dean Huijsen"
          ],
          [
           "Carlos Dominguez Cáceres"
          ],
          [
           "Gianfranco Gazzaniga Farías"
          ],
          [
           "Benjamin Chrisene"
          ],
          [
           "Mark Flekken"
          ],
          [
           "Víctor Wehbi Aznar Ussen"
          ],
          [
           "Rodrygo Silva de Goes"
          ],
          [
           "Riccardo Calafiori"
          ],
          [
           "Alaaddin Okumuş"
          ],
          [
           "Maximilian Wöber"
          ],
          [
           "Thomas Goiginger"
          ],
          [
           "Francisco Femenía Far"
          ],
          [
           "Milan Đurić"
          ],
          [
           "Liam Kelly"
          ],
          [
           "Mustafa Tan"
          ],
          [
           "Ismaïla Sarr"
          ],
          [
           "David Datro Fofana"
          ],
          [
           "Daniel Olmo Carvajal"
          ],
          [
           "Jean Felipe Nogueira da Silva"
          ],
          [
           "Nikola Šipčić"
          ],
          [
           "Daniël Virginio Deen"
          ],
          [
           "Simon Graves Jensen"
          ],
          [
           "Kenny Joelle Tete"
          ],
          [
           "Ben Doak"
          ],
          [
           "Jordi Masip López"
          ],
          [
           "Karol Borys"
          ],
          [
           "Joe Johnson"
          ],
          [
           "Miguel Filipe Nunes Cardoso"
          ],
          [
           "Valentin Henry"
          ],
          [
           "Noel Futkeu"
          ],
          [
           "Francisco Jesús Crespo García"
          ],
          [
           "Alberto Hórreo Taveras"
          ],
          [
           "Sergi Gómez Solà"
          ],
          [
           "Jean-Ricner Bellegarde"
          ],
          [
           "Côme Bianay Balcot"
          ],
          [
           "Johannes Dörfler"
          ],
          [
           "Gonzalo Aguilar López"
          ],
          [
           "Kianz González-Froese"
          ],
          [
           "Ivan Prtajin"
          ],
          [
           "Salis Abdul Samed"
          ],
          [
           "Abdul Fatawu Issahaku"
          ],
          [
           "Paulo Dino Gazzaniga"
          ],
          [
           "Laureano Antonio Villa Suárez"
          ],
          [
           "アペルカンプ 真大 カール"
          ],
          [
           "Andrea Danzi"
          ],
          [
           "Mark Alexander McKenzie"
          ],
          [
           "Craig Dawson"
          ],
          [
           "Moussa Cissé"
          ],
          [
           "Robin Fellhauer"
          ],
          [
           "Marco van Ginkel"
          ],
          [
           "Finn Jeltsch"
          ],
          [
           "Ridgeciano Delano Haps"
          ],
          [
           "Gilberto Dambi Batista"
          ],
          [
           "Benjamin Bouchouari"
          ],
          [
           "Lionel Mpasi-Nzau"
          ],
          [
           "Kieffer Roberto Francisco Moore"
          ],
          [
           "Leonardo Bonucci"
          ],
          [
           "Antoine Joujou"
          ],
          [
           "William Anthony Patrick Smallbone"
          ],
          [
           "Salomon Abergel"
          ],
          [
           "Soufiane Bidaoui"
          ],
          [
           "Fabian Tait"
          ],
          [
           "Fabio Cristian Chiarodia"
          ],
          [
           "Nathan Michael Collins"
          ],
          [
           "Shane Kevin Ferguson"
          ],
          [
           "Antonio-Mirko Čolak"
          ],
          [
           "Daniel Esmorís Tasende"
          ],
          [
           "Garissone Innocent"
          ],
          [
           "Lucas Cañizares Conchello"
          ],
          [
           "Soner Gönül"
          ],
          [
           "Jacques Ekomié"
          ],
          [
           "Rayyan Baniya"
          ],
          [
           "Andreas Schjølberg Hanche-Olsen"
          ],
          [
           "Romelu Lukaku Menama"
          ],
          [
           "Víctor Andrés Meseguer Cavas"
          ],
          [
           "David Olatukunbo Alaba"
          ],
          [
           "Dimitrios Kourmpelis"
          ],
          [
           "Reinildo Isnard Mandava"
          ],
          [
           "Saad Agouzoul"
          ],
          [
           "Gleison Bremer Silva Nascimento"
          ],
          [
           "Yira Collins Sor"
          ],
          [
           "Hernâni Infande Tchuda da Silva"
          ],
          [
           "Victor Christoffer Jensen"
          ],
          [
           "Ezechiel Fiemawhle"
          ],
          [
           "Iker Muñoz Cameros"
          ],
          [
           "Mory Gbane"
          ],
          [
           "Fidel Chaves de la Torre"
          ],
          [
           "Bryan Lasme"
          ],
          [
           "Tiemoué Bakayoko"
          ],
          [
           "Hamari Traoré"
          ],
          [
           "Žan Rogelj"
          ],
          [
           "Daniel Heuer Fernandes"
          ],
          [
           "Karim-David Adeyemi"
          ],
          [
           "Niccolò Pisilli"
          ],
          [
           "室屋 成"
          ],
          [
           "Raphaël Eyongo"
          ],
          [
           "Fermín López Marín"
          ],
          [
           "Gerónimo Rulli"
          ],
          [
           "Pierre Patron"
          ],
          [
           "Nathaniel Brown"
          ],
          [
           "Andrea Cecchetto"
          ],
          [
           "Hamdi Akujobi"
          ],
          [
           "Kaide Gordon"
          ],
          [
           "Raúl Parra Artal"
          ],
          [
           "Charilaos Charisis"
          ],
          [
           "Joel Leandro Ordóñez Guerrero"
          ],
          [
           "Jorge Mier Martínez"
          ],
          [
           "Kevin Vogt"
          ],
          [
           "Christopher Antwi-Adjei"
          ],
          [
           "Ludovic Blas"
          ],
          [
           "Daniel Parejo Muñoz"
          ],
          [
           "Chiedozie Ogbene"
          ],
          [
           "Juan Gutiérrez Martínez"
          ],
          [
           "Gonzalo Villar del Fraile"
          ],
          [
           "Håvard Kallevik Nielsen"
          ],
          [
           "Vasilis Cornelius Barkas"
          ],
          [
           "Tomáš Kalas"
          ],
          [
           "Fredrik Oppegård"
          ],
          [
           "Grejohn Kyei"
          ],
          [
           "Ahmed Kashi"
          ],
          [
           "Achraf Laâziri"
          ],
          [
           "Riccardo Orsolini"
          ],
          [
           "Leopold Wahlstedt"
          ],
          [
           "Juan Antonio Delgado Baeza"
          ],
          [
           "Yunus Emre Konak"
          ],
          [
           "Alexander Hartmann Bah"
          ],
          [
           "Nahuel Noll"
          ],
          [
           "Samuel John Bell"
          ],
          [
           "Memphis Depay"
          ],
          [
           "Johny Placide"
          ],
          [
           "Deivid W. de Souza Eugênio"
          ],
          [
           "Paul Seguin"
          ],
          [
           "Harry Leonard"
          ],
          [
           "Cauley Woodrow"
          ],
          [
           "André de Castro Pereira"
          ],
          [
           "Mattia Caldara"
          ],
          [
           "Robson Alves de Barros"
          ],
          [
           "Sergio Arribas Prieto"
          ],
          [
           "Nicolò Casale"
          ],
          [
           "Dominic Calvert-Lewin"
          ],
          [
           "Mamadou Diakhon"
          ],
          [
           "Lukas Kunze"
          ],
          [
           "Bart Vriends"
          ],
          [
           "Emmanuel Kouadio Koné"
          ],
          [
           "Lucas Buades"
          ],
          [
           "Ousmane Diomande"
          ],
          [
           "Alessandro Pilati"
          ],
          [
           "Davide Balestrero"
          ],
          [
           "Lorenzo Venuti"
          ],
          [
           "Vetle Winger Dragsnes"
          ],
          [
           "Mohamed Naser Elsayed Elneny"
          ],
          [
           "Alexander Isak"
          ],
          [
           "Rikelmi Valentim dos Santos"
          ],
          [
           "Christiaan Ravych"
          ],
          [
           "Faïz Mattoir"
          ],
          [
           "Ragnar Oratmangoen"
          ],
          [
           "Petko Hristov"
          ],
          [
           "Bryan Blanco"
          ],
          [
           "Héctor Junior Firpo Adamés"
          ],
          [
           "Stefan de Vrij"
          ],
          [
           "Tymoteusz Puchacz"
          ],
          [
           "Rune Paeshuyse"
          ],
          [
           "Filippo Lorenzo Sgarbi"
          ],
          [
           "Stanislav Lobotka"
          ],
          [
           "Alejandro Baena Rodríguez"
          ],
          [
           "Joe White"
          ],
          [
           "Benjamin Lhassine Kone"
          ],
          [
           "Filippo Distefano"
          ],
          [
           "Bingourou Kamara"
          ],
          [
           "Gnantin Yann Gboho"
          ],
          [
           "Milos Kerkez"
          ],
          [
           "Nuno Miguel Gomes dos Santos"
          ],
          [
           "Jan Hendrik Marx"
          ],
          [
           "Alen Halilović"
          ],
          [
           "Cristian Ioan Ponde"
          ],
          [
           "Philippe Paulin Keny"
          ],
          [
           "Jannik Huth"
          ],
          [
           "Nuno Miguel Reis Lima"
          ],
          [
           "Omar Haktab Traoré"
          ],
          [
           "Iván Azón Monzón"
          ],
          [
           "Wilfried Stephane Singo"
          ],
          [
           "Luca Everink"
          ],
          [
           "Martín Zubimendi Ibáñez"
          ],
          [
           "Aleksandar Radovanović"
          ],
          [
           "Wesley Theodorus Hoedt"
          ],
          [
           "Jérémy Sebas"
          ],
          [
           "Cristian Esteban Gamboa Luna"
          ],
          [
           "Harvey Wiles-Richards"
          ],
          [
           "Airam Guzmán Castillo"
          ],
          [
           "Felipe Nicolás Avenatti Dovillabichus"
          ],
          [
           "Javier Sola Gascón"
          ],
          [
           "Kaan Ayhan"
          ],
          [
           "Tijjani Reijnders"
          ],
          [
           "Jayson Patrick Molumby"
          ],
          [
           "George Earthy"
          ],
          [
           "Antonio Zarzana Pérez"
          ],
          [
           "Okan Kocuk"
          ],
          [
           "Raúl De Tomás Gómez"
          ],
          [
           "Alessandro Vogliacco"
          ],
          [
           "Serkan Asan"
          ],
          [
           "Valentin Jacob"
          ],
          [
           "Francesco Ruberto"
          ],
          [
           "Elio Capradossi"
          ],
          [
           "Timo Becker"
          ],
          [
           "Doğukan Sinik"
          ],
          [
           "Delano Burgzorg"
          ],
          [
           "Niels Patrick Nkounkou"
          ],
          [
           "Tjaš Begić"
          ],
          [
           "Jasper Samooja"
          ],
          [
           "Brian Jepthe Bayeye"
          ],
          [
           "Xavier Quintillà Guasch"
          ],
          [
           "Harvey Lewis Barnes"
          ],
          [
           "Tristan Degreef"
          ],
          [
           "ルシアン リトバルスキー"
          ],
          [
           "Gernot Trauner"
          ],
          [
           "Abdul Manaf Nurudeen"
          ],
          [
           "Borja Iglesias Quintás"
          ],
          [
           "Samuel Obeng Gyabaa"
          ],
          [
           "Erdal Rakip"
          ],
          [
           "Jake Clarke-Salter"
          ],
          [
           "Benjamin Luke Woodburn"
          ],
          [
           "Omari Kellyman"
          ],
          [
           "Jonathan Howson"
          ],
          [
           "Pieter Gerkens"
          ],
          [
           "Alistair Edward McCann"
          ],
          [
           "Pablo Pérez Rico"
          ],
          [
           "Kaj de Rooij"
          ],
          [
           "İlkay Gündoğan"
          ],
          [
           "Wissam Ben Yedder"
          ],
          [
           "Ihlas Bebou"
          ],
          [
           "Can Bozdoğan"
          ],
          [
           "Syam Habib Ben Youssef"
          ],
          [
           "Michaël Bruno Dominique Cuisance"
          ],
          [
           "Onel Lázaro Hernández Mayea"
          ],
          [
           "Jorge Cuenca Barreno"
          ],
          [
           "Zach Muscat"
          ],
          [
           "Viktor Tobias Johansson"
          ],
          [
           "Paulo Bruno Exequiel Dybala"
          ],
          [
           "Gustavo Marques A. Santos"
          ],
          [
           "Adam Mayor"
          ],
          [
           "Ross Barkley"
          ],
          [
           "Rodrigo Mendoza Martinez"
          ],
          [
           "相馬 勇紀"
          ],
          [
           "Daniel Maldini"
          ],
          [
           "Laurent Abergel"
          ],
          [
           "Oscar Uddenäs"
          ],
          [
           "Alassane Alexandre Pléa"
          ],
          [
           "Junior Castello Lukeba"
          ],
          [
           "Kevin Volland"
          ],
          [
           "Marco Friedl"
          ],
          [
           "Rubén García Santos"
          ],
          [
           "Patrik Hrošovský"
          ],
          [
           "David Herold"
          ],
          [
           "Oihan Sancet Tirapu"
          ],
          [
           "Sergio Fernández Escobar"
          ],
          [
           "Gabriele Moncini"
          ],
          [
           "Dimitrios Sounas"
          ],
          [
           "Hirving Rodrigo Lozano Bahena"
          ],
          [
           "Seedy Jarju"
          ],
          [
           "Bradley Danger"
          ],
          [
           "Marcus Edwards"
          ],
          [
           "Jorge Giovani Zarfino Calandria"
          ],
          [
           "Kyle John McFadzean"
          ],
          [
           "Jayden Jezairo Braaf"
          ],
          [
           "Rafael Tavares Gomes Fernandes"
          ],
          [
           "Mile Svilar"
          ],
          [
           "Jacob Brown"
          ],
          [
           "Pol Lozano Vizuete"
          ],
          [
           "Régis Gurtner"
          ],
          [
           "Aaron Seydel"
          ],
          [
           "Joshua Wilson-Esbrand"
          ],
          [
           "Ivo Grbić"
          ],
          [
           "Thorgan Ganael Francis Hazard"
          ],
          [
           "Jack David Vincent Whatmough"
          ],
          [
           "Federico Tavernaro"
          ],
          [
           "Rick van Drongelen"
          ],
          [
           "Toma Bašić"
          ],
          [
           "中山 雄太"
          ],
          [
           "Luca Pandolfi"
          ],
          [
           "Claudio Andrés Bravo Muñoz"
          ],
          [
           "Anton Gaaei"
          ],
          [
           "Michele Camporese"
          ],
          [
           "Vitor Hugo Roque Ferreira"
          ],
          [
           "George Long"
          ],
          [
           "Umut Tohumcu"
          ],
          [
           "Matteo Ricci"
          ],
          [
           "Antonio Foti"
          ],
          [
           "Jaume Vicent Costa Jordá"
          ],
          [
           "Weston James Earl McKennie"
          ],
          [
           "Luca Pascal Schnellbacher"
          ],
          [
           "Albert Guðmundsson"
          ],
          [
           "Calum Chambers"
          ],
          [
           "Batuhan Çelik"
          ],
          [
           "Tommaso Cassandro"
          ],
          [
           "Alessio Vita"
          ],
          [
           "Xavier Chavalerin"
          ],
          [
           "Đorđe Nikolić"
          ],
          [
           "Lee Nicholls"
          ],
          [
           "Yassin Belkhdim"
          ],
          [
           "Sofyan Amrabat"
          ],
          [
           "Samuel Shashoua"
          ],
          [
           "Lion Lauberbach"
          ],
          [
           "Karl Sebastian Ring"
          ],
          [
           "Teddy Alloh"
          ],
          [
           "Isaac Hayden"
          ],
          [
           "Aritz Muguruza Peña"
          ],
          [
           "Stredair Appuah"
          ],
          [
           "Yakup Arda Kılıç"
          ],
          [
           "Osman Çelik"
          ],
          [
           "Norberto Bercique Gomes Betuncal"
          ],
          [
           "Jannes Luca Wieckhoff"
          ],
          [
           "Omar El Hilali"
          ],
          [
           "Pontus Almqvist"
          ],
          [
           "Griffin McDorman Yow"
          ],
          [
           "Igor Julio dos Santos de Paulo"
          ],
          [
           "Camiel Neghli"
          ],
          [
           "Michele Besaggio"
          ],
          [
           "Leo Sauer"
          ],
          [
           "Mehdi Jeannin"
          ],
          [
           "Levin Mete Öztunali"
          ],
          [
           "Otabek Shukurov"
          ],
          [
           "Volnei Feltes"
          ],
          [
           "Ion Nicolăescu"
          ],
          [
           "Danilo Luiz da Silva"
          ],
          [
           "Momodou Lamin Sonko"
          ],
          [
           "Jamie Paterson"
          ],
          [
           "Mahamé Siby"
          ],
          [
           "Ramy Bensebaini"
          ],
          [
           "Louis Mafouta"
          ],
          [
           "Giovanni Corradini"
          ],
          [
           "Filip Stevanović"
          ],
          [
           "Derensili Sanches Fernandes"
          ],
          [
           "Tim-Henry Handwerker"
          ],
          [
           "Nicola Bagnolini"
          ],
          [
           "Simon Désiré Sylvanus Deli"
          ],
          [
           "Jairo Izquierdo González"
          ],
          [
           "Manor Solomon"
          ],
          [
           "Bernardo de Souza"
          ],
          [
           "Javier Hernández Coarasa"
          ],
          [
           "長谷 部誠"
          ],
          [
           "Moritz-Broni Kwarteng"
          ],
          [
           "Jose Luís García Vayá"
          ],
          [
           "Riccardo Sottil"
          ],
          [
           "Lewis Harry Holtby"
          ],
          [
           "Giuseppe Aurelio"
          ],
          [
           "Yvann Maçon"
          ],
          [
           "Alfie Jones"
          ],
          [
           "Hakan Arslan"
          ],
          [
           "Tiago Emanuel Embaló Djaló"
          ],
          [
           "Abdallah Ndour"
          ],
          [
           "Facundo Esnáider Ruiz"
          ],
          [
           "Helton Brant Aleixo Leite"
          ],
          [
           "Jesús Joaquín Fernández Sáez de la Torre"
          ],
          [
           "Ryan Trevitt"
          ],
          [
           "Ángel Alarcón Galiot"
          ],
          [
           "Gaetano Vittorio Masucci"
          ],
          [
           "Ali Alipour"
          ],
          [
           "Cengiz Ünder"
          ],
          [
           "Cristian Ignacio Herrera Pérez"
          ],
          [
           "Erdem Canpolat"
          ],
          [
           "Mehdi Zeffane"
          ],
          [
           "Toon Raemaekers"
          ],
          [
           "Joarlem Batista Santos"
          ],
          [
           "Tygo Land"
          ],
          [
           "Vladimír Coufal"
          ],
          [
           "Kylian Mbappé Lottin"
          ],
          [
           "Wilfried Zaha"
          ],
          [
           "Janio Bikel Figueiredo da Silva"
          ],
          [
           "Bastien Meupiyou"
          ],
          [
           "Marcos Aoás Corrêa"
          ],
          [
           "Mujaid Sadick Aliu"
          ],
          [
           "Adrien Rabiot"
          ],
          [
           "Giuseppe Caso"
          ],
          [
           "Florian Tristan Mariano Thauvin"
          ],
          [
           "Nathan Ferguson"
          ],
          [
           "Taylor Foran"
          ],
          [
           "David Nicolás Andrade"
          ],
          [
           "Lucas Martínez Quarta"
          ],
          [
           "Charles Traoré"
          ],
          [
           "Cameron Pring"
          ],
          [
           "Boubakary Soumaré"
          ],
          [
           "Johann Berg Guðmunds­son"
          ],
          [
           "Andreas Bruus"
          ],
          [
           "Sebastian Andersson"
          ],
          [
           "Zinedine Ferhat"
          ],
          [
           "Carlos Augusto Zopolato Neves"
          ],
          [
           "Victor James Osimhen"
          ],
          [
           "Joe Gauci"
          ],
          [
           "Omari Giraud-Hutchinson"
          ],
          [
           "Mykhailo Mudryk"
          ],
          [
           "Olivier Deman"
          ],
          [
           "Alexandre Phliponeau"
          ],
          [
           "Nanitamo Jonathan Ikoné"
          ],
          [
           "Burak Öğür"
          ],
          [
           "Georg Strauch"
          ],
          [
           "Nikola Sekulov"
          ],
          [
           "Bartosz Białkowski"
          ],
          [
           "Nicolò Brighenti"
          ],
          [
           "Jake Vokins"
          ],
          [
           "Pierluigi Gollini"
          ],
          [
           "Dylan Williams"
          ],
          [
           "Júnior Udeme Pius"
          ],
          [
           "Borja García Freire"
          ],
          [
           "Tobi Adeyemo"
          ],
          [
           "Jean Thierry Lazare Amani"
          ],
          [
           "José Ángel Esmoris Tasende"
          ],
          [
           "Marvin Senaya"
          ],
          [
           "Anas Ouahim"
          ],
          [
           "Stefan Bajic"
          ],
          [
           "Samuel Gigot"
          ],
          [
           "Amadou Diawara"
          ],
          [
           "Mattia Viviani"
          ],
          [
           "Oscar Vilhelmsson"
          ],
          [
           "Rubén Sobrino Pozuelo"
          ],
          [
           "Derrick Arthur Köhn"
          ],
          [
           "Nicolò Bertola"
          ],
          [
           "Marek Rodák"
          ],
          [
           "Babajide David Akintola"
          ],
          [
           "Matondo-Merveille Papela"
          ],
          [
           "William Silva de Carvalho"
          ],
          [
           "Frank Lehmann"
          ],
          [
           "Juan Miranda González"
          ],
          [
           "Miguel Luís Pinto Veloso"
          ],
          [
           "Antony Iannarilli"
          ],
          [
           "Daley Sinkgraven"
          ],
          [
           "Marc-Oliver Kempf"
          ],
          [
           "Sergio Gómez Martín"
          ],
          [
           "Bennet Winter"
          ],
          [
           "Cristián Alexis Borja González"
          ],
          [
           "Théo Borne"
          ],
          [
           "Gian-Luca Waldschmidt"
          ],
          [
           "Luca Mazzitelli"
          ],
          [
           "Federico Barba"
          ],
          [
           "Damián Rodríguez Sousa"
          ],
          [
           "Doğucan Haspolat"
          ],
          [
           "Niall Nathan Michael Ennis"
          ],
          [
           "Teenage Lingani Hadebe"
          ],
          [
           "Giuseppe Pezzella"
          ],
          [
           "Sardar Azmoun"
          ],
          [
           "Salih Özcan"
          ],
          [
           "Pedro Chirivella Burgos"
          ],
          [
           "Merlin Röhl"
          ],
          [
           "Kaden Rodney"
          ],
          [
           "Nikola Moro"
          ],
          [
           "Marco Schuster"
          ],
          [
           "Sergio González Poirrier"
          ],
          [
           "Tim Breithaupt"
          ],
          [
           "Donyell Malen"
          ],
          [
           "Fábio Samuel Amorim Silva"
          ],
          [
           "Liam Henderson"
          ],
          [
           "Lewis O'Brien"
          ],
          [
           "Armando Izzo"
          ],
          [
           "Pierre-Emile Kordt Højbjerg"
          ],
          [
           "Nicolas Isimat-Mirin"
          ],
          [
           "Adedire Mebude"
          ],
          [
           "Hady Camara"
          ],
          [
           "Maximilian Eggestein"
          ],
          [
           "Christopher Jeffrey Richards"
          ],
          [
           "本 寛也"
          ],
          [
           "Quentin Daubin"
          ],
          [
           "Kristian Šekularac"
          ],
          [
           "Ousmane Dembélé"
          ],
          [
           "Oier Olazábal Paredes"
          ],
          [
           "Tidyane Diagouraga"
          ],
          [
           "Lukas Pinckert"
          ],
          [
           "Anwan Lawrence Nicholas"
          ],
          [
           "Stijn van Gassel"
          ],
          [
           "Iddrisu Baba Mohammed"
          ],
          [
           "Celestin De Schrevel"
          ],
          [
           "Christian Joel Sánchez Leal"
          ],
          [
           "Miguel Rebelo"
          ],
          [
           "Endri Çekiçi"
          ],
          [
           "Mats Lemmens"
          ],
          [
           "George Honeyman"
          ],
          [
           "Brahim Traoré"
          ],
          [
           "Murat Akşit"
          ],
          [
           "John McGinn"
          ],
          [
           "Kerim Çalhanoğlu"
          ],
          [
           "Jean Butez"
          ],
          [
           "Bilal Nadir"
          ],
          [
           "Emil Alfons Holm"
          ],
          [
           "Anouar El Azzouzi"
          ],
          [
           "Gautier Lloris"
          ],
          [
           "Florian Richard Wirtz"
          ],
          [
           "Filipe Miguel Barros Soares"
          ],
          [
           "Carlos Vinícius Santos de Jesús"
          ],
          [
           "Michael John Smith"
          ],
          [
           "Cengiz Demir"
          ],
          [
           "Remi Matthews"
          ],
          [
           "Paul Nebel"
          ],
          [
           "Milad Mohammadi Keshmarzi"
          ],
          [
           "Abdel Hakim Abdallah"
          ],
          [
           "Assane Diao Diaoune"
          ],
          [
           "Harry Kane"
          ],
          [
           "Jamie Knight-Lebel"
          ],
          [
           "Adam Buksa"
          ],
          [
           "Eray Korkmaz"
          ],
          [
           "Mats Rits"
          ],
          [
           "Sergiño Gianni Dest"
          ],
          [
           "Krzysztof Piątek"
          ],
          [
           "Thibo Somers"
          ],
          [
           "Lorenzo Andrenacci"
          ],
          [
           "Bernabé Barragán Maestre"
          ],
          [
           "João Pedro Junqueira de Jesus"
          ],
          [
           "Simone Giordano"
          ],
          [
           "Mamadou Fofana"
          ],
          [
           "Enzo Camille Alain Millot"
          ],
          [
           "Bruno Miguel Semedo Varela"
          ],
          [
           "Kamal Sowah"
          ],
          [
           "Flavio Junior Bianchi"
          ],
          [
           "Fabricio Rosario Dos Santos"
          ],
          [
           "Tony Strata"
          ],
          [
           "Sebastian Rode"
          ],
          [
           "Teddy Boulhendi"
          ],
          [
           "Sofiane Diop"
          ],
          [
           "Philipp Förster"
          ],
          [
           "João Pedro Loureiro da Costa"
          ],
          [
           "Emre Bekir"
          ],
          [
           "Miguel Raimundo Nóbrega"
          ],
          [
           "Loic Williams Ntambue Kayumba"
          ],
          [
           "Robin Bird"
          ],
          [
           "Bakary Haidara"
          ],
          [
           "Raffaele Cartano"
          ],
          [
           "Abdoulie Sanyang"
          ],
          [
           "Salvador Sánchez Ponce"
          ],
          [
           "Víctor Chust García"
          ],
          [
           "Iker Bravo Solanilla"
          ],
          [
           "Gonçalo Baptista Franco"
          ],
          [
           "Nikola Milenković"
          ],
          [
           "Akinlolu Richard Olamide Famewo"
          ],
          [
           "Artur Ioniță"
          ],
          [
           "Raheem Conte"
          ],
          [
           "Jan-Niklas Beste"
          ],
          [
           "Michail Antonio"
          ],
          [
           "Silvan Dominic Widmer"
          ],
          [
           "Leart Paqarada"
          ],
          [
           "Alexandre Roger Oukidja"
          ],
          [
           "Dorukhan Toköz"
          ],
          [
           "Borja Sainz Eguskiza"
          ],
          [
           "João Rodrigo Pereira Escoval"
          ],
          [
           "Đorđe Petrović"
          ],
          [
           "Richie Mamah Laryea"
          ],
          [
           "Pietro Beruatto"
          ],
          [
           "Martin Turk"
          ],
          [
           "Rayan Ny Aina Arnaldo Raveloson"
          ],
          [
           "Sandro Plínio Rosa da Cruz"
          ],
          [
           "Mateusz Praszelik"
          ],
          [
           "Enes Ünal"
          ],
          [
           "Gustavo Fabrice Sangaré"
          ],
          [
           "Blendi Idrizi"
          ],
          [
           "Alex Král"
          ],
          [
           "Pablo Marí Villar"
          ],
          [
           "Sha'mar Lawson"
          ],
          [
           "Leon Bell Bell"
          ],
          [
           "Pedro Nuno Almeida Pinho"
          ],
          [
           "Sofian Kiyine"
          ],
          [
           "Daniel Andrés Luna García"
          ],
          [
           "Fabio Andrea Ruggeri"
          ],
          [
           "Ruslan Malinovskyi"
          ],
          [
           "Lars Edi Stindl"
          ],
          [
           "Boris Tomiak"
          ],
          [
           "Jorge Miramón Santagertrudis"
          ],
          [
           "Marco André da Silva Lopes Matias"
          ],
          [
           "Cebrail Karayel"
          ],
          [
           "Grant Hall"
          ],
          [
           "Iker Muniain Goñi"
          ],
          [
           "Fabian Nürnberger"
          ],
          [
           "Patrick Erras"
          ],
          [
           "Franck Honorat"
          ],
          [
           "Alfonso Pastor Vacas"
          ],
          [
           "Jannik Dehm"
          ],
          [
           "Nikola Vasilj"
          ],
          [
           "Alejandro Quevedo Barber"
          ],
          [
           "David López Guijarro"
          ],
          [
           "Erik Pieters"
          ],
          [
           "Amine Harit"
          ],
          [
           "Finn Gilbert Dahmen"
          ],
          [
           "İbrahim Akdağ"
          ],
          [
           "Ager Aketxe Barrutia"
          ],
          [
           "Lassana Diabaté"
          ],
          [
           "Eneko Ortiz Díaz"
          ],
          [
           "Rubén Alcaraz Jiménez"
          ],
          [
           "Jérémy Mellot"
          ],
          [
           "Javier Alonso Bello"
          ],
          [
           "Joris Chotard"
          ],
          [
           "Steven Skrzybski"
          ],
          [
           "Aitor Córdoba Querejeta"
          ],
          [
           "Romain Thomas"
          ],
          [
           "Mert Müldür"
          ],
          [
           "Julian Börner"
          ],
          [
           "Bryan Gil Salvatierra"
          ],
          [
           "Ahmed Touba"
          ],
          [
           "Robert Kampa"
          ],
          [
           "Adrià Miquel Bosch Sanchis"
          ],
          [
           "Jake Livermore"
          ],
          [
           "Elliott Anderson"
          ],
          [
           "Jochem van de Kamp"
          ],
          [
           "Davide Frattesi"
          ],
          [
           "Marcos Peña Ocaña"
          ],
          [
           "Óscar Clemente Mues"
          ],
          [
           "Diego López Noguerol"
          ],
          [
           "Williot Theo Swedberg"
          ],
          [
           "Pablo Torre Carral"
          ],
          [
           "Julio César Enciso Espínola"
          ],
          [
           "Niels Devalckeneer"
          ],
          [
           "Daniele Ghilardi"
          ],
          [
           "Jordan Semedo"
          ],
          [
           "Danilo dos Santos de Oliveira"
          ],
          [
           "Gonzalo Ávila Gordón"
          ],
          [
           "Djakaridja Junior Traoré"
          ],
          [
           "Armel Bella Kotchap"
          ],
          [
           "Hayden Carter"
          ],
          [
           "Lander Olaetxea Ibaibarriaga"
          ],
          [
           "Daley Blind"
          ],
          [
           "Rafael Jiménez Jarque"
          ],
          [
           "Ajdin Hrustić"
          ],
          [
           "Marius Mouandilmadji"
          ],
          [
           "Javier Puado Díaz"
          ],
          [
           "Florian Loshaj"
          ],
          [
           "Ajibola Alese"
          ],
          [
           "Marcus Tavernier"
          ],
          [
           "Granit Xhaka"
          ],
          [
           "João Manuel Neves Virgínia"
          ],
          [
           "Tim Schleinitz"
          ],
          [
           "Siemen Buvé"
          ],
          [
           "Florent Mollet"
          ],
          [
           "Rijad Smajić"
          ],
          [
           "Osaze Urhoghide"
          ],
          [
           "Aster Jan Vranckx"
          ],
          [
           "Loizos Loizou"
          ],
          [
           "Valerio Mastrantonio"
          ],
          [
           "Dimitrios Pelkas"
          ],
          [
           "Emanuel Vignato"
          ],
          [
           "Mostafa Mohamed Ahmed Abdallah"
          ],
          [
           "Jonathan de Guzmán"
          ],
          [
           "Alpaslan Öztürk"
          ],
          [
           "Ziyad Larkeche"
          ],
          [
           "Álvaro Odriozola Arzalluz"
          ],
          [
           "Gabriel Julien Dominique Barès"
          ],
          [
           "Kepa Arrizabalaga Revuelta"
          ],
          [
           "Charlie Casper"
          ],
          [
           "Théo Luis Fonseca"
          ],
          [
           "Paolo Rozzio"
          ],
          [
           "Unai López Cabrera"
          ],
          [
           "Mert Hakan Yandaş"
          ],
          [
           "Youssef Ramalho Chermiti"
          ],
          [
           "Tom Vandenberghe"
          ],
          [
           "Justin Antonius Lonwijk"
          ],
          [
           "Piotr Sebastian Zieliński"
          ],
          [
           "Tom Ducrocq"
          ],
          [
           "Jean-Charles Castelletto"
          ],
          [
           "Krépin Diatta"
          ],
          [
           "Thomas Christopher Cannon"
          ],
          [
           "Saúl García Cabrero"
          ],
          [
           "Jacopo Manconi"
          ],
          [
           "Nick Olij"
          ],
          [
           "Gonzalo Ariel Montiel"
          ],
          [
           "Diego Espinosa García"
          ],
          [
           "Jordan Yamoah Amissah"
          ],
          [
           "Javier Ontiveros Parra"
          ],
          [
           "Bonke Innocent"
          ],
          [
           "Axel Arthur Disasi"
          ],
          [
           "Aïman Maurer"
          ],
          [
           "Valdemiro Pinto Domingos"
          ],
          [
           "Serge David Gnabry"
          ],
          [
           "Mathis Hamdi"
          ],
          [
           "Mijo Caktaš"
          ],
          [
           "Dennis Geiger"
          ],
          [
           "Jonas Nickisch"
          ],
          [
           "Pietro Iemmello"
          ],
          [
           "Nobel Mendy"
          ],
          [
           "Salim Diakité"
          ],
          [
           "Martin Adeline"
          ],
          [
           "Elia Caprile"
          ],
          [
           "Max Rosenfelder"
          ],
          [
           "Mark Sykes"
          ],
          [
           "Kenneth Josiah Omeruo"
          ],
          [
           "Juan Ferney Otero Tovar"
          ],
          [
           "Robert Wagner"
          ],
          [
           "Matthew James Doherty"
          ],
          [
           "Kristoffer Paul Peterson"
          ],
          [
           "Rémy Boissier"
          ],
          [
           "Mattia Perin"
          ],
          [
           "Serdar Dursun"
          ],
          [
           "Dal Varešanović"
          ],
          [
           "Djenahro Nunumete"
          ],
          [
           "Zeki Yavru"
          ],
          [
           "Charlie Cresswell"
          ],
          [
           "Youri Regeer"
          ],
          [
           "Téva Gardies"
          ],
          [
           "Philana Tinotenda Kadewere"
          ],
          [
           "Sergio Guardiola Navarro"
          ],
          [
           "Maxime Chanot"
          ],
          [
           "William Balikwisha"
          ],
          [
           "Frederik Riis Rønnow"
          ],
          [
           "Giacomo Beretta"
          ],
          [
           "Bećir Omeragić"
          ],
          [
           "Álvaro Santamaría Arenas"
          ],
          [
           "Youri Baas"
          ],
          [
           "Benjamin André"
          ],
          [
           "Žan Majer"
          ],
          [
           "Emmanuel Afriyie Mario Sabbi"
          ],
          [
           "Darko Gyabi"
          ],
          [
           "Chris Anthony Willock"
          ],
          [
           "Han-Noah Massengo"
          ],
          [
           "Mario René Junior Lemina"
          ],
          [
           "Stijn Bultman"
          ],
          [
           "Anas Tahiri"
          ],
          [
           "Brandon Baiye"
          ],
          [
           "João Victor Tornich"
          ],
          [
           "Stipe Biuk"
          ],
          [
           "Auston Levi-Jesaiah Trusty"
          ],
          [
           "Álvaro Vadillo Cifuentes"
          ],
          [
           "Anthony Oyono Omva Torque"
          ],
          [
           "Murillo Costa dos Santos"
          ],
          [
           "Joelson Augusto Mendes Mango Fernandes"
          ],
          [
           "Lucas Estella Perri"
          ],
          [
           "Kwadwo Kyeremeh Baah"
          ],
          [
           "Ander Guevara Lajo"
          ],
          [
           "George Tanner"
          ],
          [
           "Francesco Amatucci"
          ],
          [
           "Mikel Oyarzabal Ugarte"
          ],
          [
           "Alejandro Francés Torrijo"
          ],
          [
           "Matteo Gabbia"
          ],
          [
           "Tony Jantschke"
          ],
          [
           "Steven Fortes"
          ],
          [
           "Toluwalase Emmanuel Arokodare"
          ],
          [
           "Jiří Pavlenka"
          ],
          [
           "Ionuț Nedelcearu"
          ],
          [
           "Luis Federico López Andúgar"
          ],
          [
           "Giovanni Crociata"
          ],
          [
           "Daniel Raba Antolin"
          ],
          [
           "Jean Michaël Seri"
          ],
          [
           "Miguel de la Fuente Escudero"
          ],
          [
           "Corentin Michel"
          ],
          [
           "Sammy Braybrooke"
          ],
          [
           "Andrew Hughes"
          ],
          [
           "Germán Fernández Hidalgo"
          ],
          [
           "Juan Manuel Bravo Alcántara"
          ],
          [
           "Djeidi Gassama"
          ],
          [
           "Marcos Alonso Mendoza"
          ],
          [
           "Luca Zinedine Zidane"
          ],
          [
           "Christian Kabasele"
          ],
          [
           "Javier Garrido López"
          ],
          [
           "Miguel Ângelo Gomes Ferreira Magalhães"
          ],
          [
           "Scott Brian Banks"
          ],
          [
           "Perry Ng Tian-Hee"
          ],
          [
           "João Filipe Iria Santos Moutinho"
          ],
          [
           "Luca Pfeiffer"
          ],
          [
           "Gino Fechner"
          ],
          [
           "Adrion Pajaziti"
          ],
          [
           "Efecan Karaca"
          ],
          [
           "Rob Holding"
          ],
          [
           "Jamie William Lindsay"
          ],
          [
           "Iñigo Vicente Elorduy"
          ],
          [
           "Fabiano Josué de Souza Silva"
          ],
          [
           "Jordi Mboula Queralt"
          ],
          [
           "Deniz Dilmen"
          ],
          [
           "Loïc Mbe Soh"
          ],
          [
           "Phillipp Klement"
          ],
          [
           "Timon Vanhoutte"
          ],
          [
           "Niklas Bernd Dorsch"
          ],
          [
           "Arthur Atta"
          ],
          [
           "Nathaniel Chalobah"
          ],
          [
           "Caio Henrique Oliveira Silva"
          ],
          [
           "Anssumane Fati"
          ],
          [
           "Søren Tengstedt"
          ],
          [
           "Marcus Vinícius Oliveira Alencar"
          ],
          [
           "Diego José Conde Alcolado"
          ],
          [
           "Afonso Bastardo Moreira"
          ],
          [
           "Matéo Loubatières"
          ],
          [
           "Andrea Colpani"
          ],
          [
           "Michael Simões Domingues"
          ],
          [
           "Ayman Aiki"
          ],
          [
           "Charlie Patino"
          ],
          [
           "Sven Ulreich"
          ],
          [
           "Bryan Heynen"
          ],
          [
           "Marco Moreno Ojeda"
          ],
          [
           "Mario Šitum"
          ],
          [
           "Dominick Drexler"
          ],
          [
           "Olimpiu Vasile Moruțan"
          ],
          [
           "Pep Biel Mas Jaume"
          ],
          [
           "Ghjuvanni Quilichini"
          ],
          [
           "Bruno Maximiliano Martins Indi"
          ],
          [
           "Rúben dos Santos Gato Alves Dias"
          ],
          [
           "Bogdan Milovanov"
          ],
          [
           "Oliver McBurnie"
          ],
          [
           "Pelle van Amersfoort"
          ],
          [
           "Leo Štulac"
          ],
          [
           "Pasquale Mazzocchi"
          ],
          [
           "Junior Tchamadeu"
          ],
          [
           "Bilal Bayazıt"
          ],
          [
           "Arda Güler"
          ],
          [
           "Isaac Ajayi Success"
          ],
          [
           "Jesús José Bernal Villarig"
          ],
          [
           "Jasper van der Werff"
          ],
          [
           "Vangelis Pavlidis"
          ],
          [
           "Antoine Batisse"
          ],
          [
           "Cédric Brunner"
          ],
          [
           "Edgar Badia Guardiola"
          ],
          [
           "Pablo Insua Blanco"
          ],
          [
           "Joshua Lloyd Ginnelly"
          ],
          [
           "Fodé Sylla"
          ]
         ],
         "hovertemplate": "Actual Salary=%{x}<br>Predicted Salary=%{y}<br>Player=%{customdata[0]}<extra></extra>",
         "legendgroup": "",
         "marker": {
          "color": "#636efa",
          "symbol": "circle"
         },
         "mode": "markers",
         "name": "",
         "showlegend": false,
         "type": "scattergl",
         "x": [
          3000,
          36000,
          32000,
          2000,
          2000,
          20000,
          11000,
          5000,
          13000,
          28000,
          4000,
          3000,
          3000,
          3000,
          4000,
          3000,
          2000,
          5000,
          2000,
          3000,
          5000,
          90000,
          15000,
          15000,
          17000,
          16000,
          800,
          2000,
          8000,
          8000,
          5000,
          6000,
          27000,
          8000,
          950,
          4000,
          5000,
          60000,
          29000,
          1000,
          30000,
          8000,
          6000,
          1000,
          1000,
          8000,
          7000,
          19000,
          5000,
          36000,
          2000,
          10000,
          6000,
          4000,
          35000,
          2000,
          8000,
          250000,
          2000,
          61000,
          15000,
          38000,
          39000,
          2000,
          49000,
          27000,
          500,
          6000,
          22000,
          8000,
          1000,
          7000,
          4000,
          3000,
          28000,
          2000,
          5000,
          5000,
          900,
          4000,
          1000,
          2000,
          1000,
          12000,
          2000,
          14000,
          500,
          28000,
          2000,
          9000,
          165000,
          5000,
          700,
          88000,
          5000,
          4000,
          6000,
          4000,
          11000,
          7000,
          1000,
          3000,
          7000,
          6000,
          7000,
          3000,
          7000,
          2000,
          5000,
          6000,
          105000,
          7000,
          1000,
          5000,
          3000,
          7000,
          2000,
          5000,
          2000,
          105000,
          6000,
          1000,
          7000,
          20000,
          1000,
          25000,
          43000,
          11000,
          2000,
          1000,
          7000,
          2000,
          2000,
          2000,
          31000,
          15000,
          22000,
          3000,
          20000,
          2000,
          25000,
          17000,
          500,
          4000,
          3000,
          12000,
          19000,
          22000,
          11000,
          15000,
          79000,
          6000,
          15000,
          1000,
          80000,
          18000,
          15000,
          4000,
          2000,
          12000,
          36000,
          2000,
          78000,
          7000,
          15000,
          750,
          3000,
          3000,
          2000,
          2000,
          56000,
          59000,
          11000,
          64000,
          3000,
          6000,
          10000,
          4000,
          32000,
          15000,
          8000,
          2000,
          29000,
          12000,
          7000,
          10000,
          68000,
          1000,
          1000,
          14000,
          7000,
          5000,
          40000,
          2000,
          42000,
          15000,
          8000,
          500,
          4000,
          180000,
          10000,
          5000,
          3000,
          36000,
          12000,
          6000,
          4000,
          3000,
          24000,
          1000,
          130000,
          90000,
          2000,
          4000,
          3000,
          5000,
          1000,
          9000,
          600,
          5000,
          4000,
          30000,
          5000,
          2000,
          5000,
          2000,
          28000,
          750,
          6000,
          6000,
          8000,
          20000,
          500,
          21000,
          150000,
          16000,
          25000,
          10000,
          8000,
          3000,
          2000,
          2000,
          1000,
          500,
          34000,
          2000,
          20000,
          8000,
          1000,
          1000,
          13000,
          5000,
          78000,
          4000,
          3000,
          6000,
          5000,
          3000,
          5000,
          20000,
          4000,
          5000,
          6000,
          1000,
          3000,
          17000,
          8000,
          13000,
          2000,
          13000,
          2000,
          4000,
          2000,
          21000,
          5000,
          27000,
          7000,
          29000,
          25000,
          650,
          850,
          56000,
          7000,
          6000,
          12000,
          63000,
          13000,
          7000,
          650,
          3000,
          2000,
          15000,
          2000,
          130000,
          5000,
          2000,
          3000,
          9000,
          23000,
          7000,
          31000,
          1000,
          12000,
          3000,
          4000,
          9000,
          15000,
          500,
          60000,
          19000,
          500,
          3000,
          11000,
          2000,
          1000,
          9000,
          30000,
          7000,
          16000,
          58000,
          19000,
          4000,
          43000,
          105000,
          3000,
          2000,
          3000,
          10000,
          2000,
          26000,
          1000,
          13000,
          8000,
          750,
          24000,
          2000,
          500,
          4000,
          170000,
          3000,
          20000,
          500,
          500,
          32000,
          24000,
          2000,
          1000,
          7000,
          23000,
          2000,
          6000,
          16000,
          200000,
          900,
          9000,
          3000,
          1000,
          2000,
          44000,
          7000,
          49000,
          3000,
          3000,
          23000,
          20000,
          23000,
          4000,
          5000,
          11000,
          17000,
          7000,
          2000,
          5000,
          8000,
          3000,
          11000,
          7000,
          1000,
          3000,
          52000,
          22000,
          1000,
          12000,
          2000,
          3000,
          49000,
          5000,
          46000,
          600,
          950,
          25000,
          10000,
          5000,
          15000,
          18000,
          950,
          500,
          29000,
          1000,
          8000,
          31000,
          59000,
          15000,
          2000,
          8000,
          2000,
          3000,
          2000,
          13000,
          4000,
          150000,
          7000,
          18000,
          1000,
          8000,
          2000,
          17000,
          15000,
          90000,
          10000,
          850,
          13000,
          8000,
          1000,
          3000,
          850,
          1000,
          2000,
          2000,
          2000,
          500,
          5000,
          4000,
          53000,
          18000,
          2000,
          5000,
          9000,
          2000,
          7000,
          6000,
          5000,
          11000,
          5000,
          750,
          14000,
          14000,
          19000,
          31000,
          2000,
          1000,
          7000,
          11000,
          2000,
          18000,
          36000,
          17000,
          10000,
          7000,
          1000,
          16000,
          50000,
          2000,
          2000,
          17000,
          3000,
          1000,
          9000,
          15000,
          5000,
          5000,
          1000,
          4000,
          1000,
          4000,
          3000,
          14000,
          125000,
          7000,
          13000,
          3000,
          3000,
          1000,
          8000,
          14000,
          90000,
          1000,
          3000,
          3000,
          9000,
          3000,
          6000,
          2000,
          16000,
          51000,
          8000,
          6000,
          13000,
          4000,
          6000,
          12000,
          750,
          5000,
          800,
          16000,
          3000,
          26000,
          1000,
          31000,
          2000,
          11000,
          53000,
          2000,
          12000,
          20000,
          21000,
          1000,
          500,
          11000,
          3000,
          3000,
          11000,
          1000,
          1000,
          500,
          4000,
          22000,
          2000,
          40000,
          2000,
          4000,
          18000,
          5000,
          5000,
          1000,
          500,
          7000,
          23000,
          2000,
          7000,
          17000,
          500,
          7000,
          25000,
          2000,
          11000,
          105000,
          95000,
          22000,
          3000,
          25000,
          1000,
          9000,
          15000,
          8000,
          5000,
          2000,
          2000,
          5000,
          6000,
          11000,
          17000,
          500,
          4000,
          7000,
          4000,
          12000,
          3000,
          500,
          2000,
          2000,
          8000,
          18000,
          5000,
          33000,
          4000,
          2000,
          13000,
          14000,
          8000,
          43000,
          15000,
          4000,
          2000,
          2000,
          2000,
          68000,
          35000,
          6000,
          4000,
          14000,
          6000,
          550,
          7000,
          5000,
          1000,
          4000,
          18000,
          15000,
          13000,
          4000,
          500,
          500,
          21000,
          5000,
          2000,
          32000,
          14000,
          4000,
          18000,
          3000,
          10000,
          7000,
          12000,
          37000,
          5000,
          1000,
          26000,
          1000,
          1000,
          22000,
          22000,
          5000,
          110000,
          600,
          11000,
          3000,
          30000,
          7000,
          3000,
          7000,
          1000,
          1000,
          2000,
          37000,
          12000,
          500,
          43000,
          950,
          4000,
          3000,
          18000,
          1000,
          15000,
          4000,
          550,
          1000,
          6000,
          10000,
          6000,
          37000,
          22000,
          2000,
          2000,
          2000,
          700,
          6000,
          3000,
          11000,
          38000,
          2000,
          33000,
          6000,
          4000,
          500,
          5000,
          8000,
          13000,
          6000,
          36000,
          34000,
          1000,
          650,
          2000,
          4000,
          3000,
          51000,
          7000,
          7000,
          4000,
          4000,
          2000,
          700,
          2000,
          37000,
          3000,
          5000,
          7000,
          6000,
          6000,
          2000,
          3000,
          6000,
          29000,
          21000,
          2000,
          51000,
          8000,
          26000,
          19000,
          46000,
          13000,
          19000,
          2000,
          85000,
          9000,
          6000,
          9000,
          2000,
          6000,
          16000,
          11000,
          2000,
          4000,
          23000,
          22000,
          500,
          5000,
          2000,
          23000,
          2000,
          1000,
          3000,
          2000,
          3000,
          22000,
          19000,
          8000,
          20000,
          2000,
          6000,
          39000,
          23000,
          28000,
          3000,
          10000,
          2000,
          500,
          500,
          7000,
          4000,
          3000,
          850,
          13000,
          9000,
          13000,
          5000,
          49000,
          3000,
          39000,
          8000,
          10000,
          750,
          21000,
          2000,
          4000,
          10000,
          900,
          1000,
          10000,
          56000,
          170000,
          650,
          5000,
          10000,
          2000,
          7000,
          48000,
          3000,
          210000,
          16000,
          4000,
          39000,
          8000,
          22000,
          30000,
          11000,
          600,
          34000,
          43000,
          71000,
          4000,
          5000,
          850,
          2000,
          65000,
          4000,
          9000,
          500,
          500,
          9000,
          6000,
          5000,
          16000,
          1000,
          9000,
          51000,
          2000,
          4000,
          1000,
          5000,
          8000,
          27000,
          7000,
          25000,
          23000,
          16000,
          750,
          12000,
          55000,
          3000,
          4000,
          9000,
          500,
          3000,
          1000,
          2000,
          3000,
          34000,
          26000,
          5000,
          23000,
          500,
          5000,
          2000,
          2000,
          36000,
          5000,
          6000,
          2000,
          1000,
          15000,
          3000,
          2000,
          19000,
          23000,
          165000,
          10000,
          200000,
          35000,
          60000,
          4000,
          135000,
          9000,
          3000,
          5000,
          650,
          4000,
          2000,
          8000,
          6000,
          18000,
          36000,
          6000,
          19000,
          38000,
          3000,
          15000,
          1000,
          30000,
          16000,
          3000,
          8000,
          500,
          2000,
          7000,
          2000,
          8000,
          4000,
          2000,
          29000,
          20000,
          46000,
          54000,
          36000,
          1000,
          14000,
          16000,
          11000,
          8000,
          3000,
          14000,
          2000,
          4000,
          35000,
          10000,
          8000,
          500,
          15000,
          2000,
          7000,
          84000,
          1000,
          12000,
          9000,
          7000,
          23000,
          8000,
          27000,
          18000,
          2000,
          46000,
          44000,
          850,
          4000,
          6000,
          25000,
          2000,
          7000,
          1000,
          1000,
          11000,
          8000,
          71000,
          120000,
          3000,
          3000,
          1000,
          5000,
          2000,
          500,
          31000,
          86000,
          12000,
          2000,
          1000,
          78000,
          22000,
          10000,
          10000,
          5000,
          3000,
          10000,
          20000,
          20000,
          5000,
          10000,
          2000,
          7000,
          9000,
          4000,
          16000,
          4000,
          37000,
          1000,
          33000,
          10000,
          27000,
          3000,
          16000,
          2000,
          1000,
          7000,
          3000,
          32000,
          57000,
          17000,
          3000,
          4000,
          5000,
          24000,
          11000,
          10000,
          3000,
          1000,
          1000,
          12000,
          9000,
          14000,
          22000,
          850,
          750,
          6000,
          4000,
          115000,
          1000,
          1000,
          19000,
          2000,
          38000,
          5000,
          10000,
          9000,
          9000,
          1000,
          12000,
          13000,
          16000,
          6000,
          2000,
          220000,
          73000,
          36000,
          6000,
          3000,
          3000,
          19000,
          20000,
          3000,
          7000,
          130000,
          2000,
          3000,
          44000,
          800,
          7000,
          15000,
          21000,
          2000,
          29000,
          33000,
          40000,
          17000,
          31000,
          15000,
          7000,
          34000,
          900,
          4000,
          2000,
          27000,
          1000,
          2000,
          19000,
          4000,
          13000,
          7000,
          4000,
          20000,
          22000,
          5000,
          2000,
          11000,
          20000,
          24000,
          29000,
          15000,
          500,
          7000,
          37000,
          3000,
          1000,
          13000,
          4000,
          2000,
          44000,
          13000,
          5000,
          2000,
          4000,
          18000,
          68000,
          7000,
          29000,
          56000,
          2000,
          950,
          2000,
          7000,
          4000,
          6000,
          1000,
          53000,
          3000,
          6000,
          2000,
          1000,
          49000,
          1000,
          2000,
          2000,
          3000,
          49000,
          2000,
          3000,
          12000,
          2000,
          58000,
          2000,
          750,
          900,
          1000,
          15000,
          7000,
          3000,
          4000,
          100000,
          2000,
          18000,
          3000,
          47000,
          4000,
          500,
          17000,
          2000,
          6000,
          1000,
          8000,
          6000,
          68000,
          33000,
          1000,
          15000,
          12000,
          33000,
          44000,
          18000,
          2000,
          5000,
          9000,
          7000,
          61000,
          3000,
          3000,
          17000,
          38000,
          6000,
          22000,
          2000,
          4000,
          35000,
          8000,
          3000,
          7000,
          3000,
          3000,
          500,
          60000,
          230000,
          53000,
          6000,
          500,
          140000,
          11000,
          150000,
          9000,
          17000,
          8000,
          6000,
          1000,
          45000,
          3000,
          19000,
          31000,
          32000,
          2000,
          5000,
          7000,
          48000,
          100000,
          16000,
          3000,
          78000,
          14000,
          1000,
          51000,
          2000,
          3000,
          13000,
          6000,
          1000,
          6000,
          33000,
          7000,
          3000,
          22000,
          2000,
          13000,
          46000,
          10000,
          3000,
          4000,
          38000,
          14000,
          950,
          6000,
          25000,
          24000,
          700,
          47000,
          7000,
          7000,
          30000,
          2000,
          20000,
          3000,
          2000,
          13000,
          12000,
          64000,
          2000,
          11000,
          1000,
          38000,
          11000,
          4000,
          3000,
          4000,
          9000,
          8000,
          8000,
          56000,
          39000,
          20000,
          11000,
          2000,
          24000,
          7000,
          7000,
          10000,
          52000,
          7000,
          9000,
          35000,
          35000,
          100000,
          5000,
          1000,
          1000,
          23000,
          26000,
          10000,
          3000,
          6000,
          150000,
          4000,
          800,
          2000,
          4000,
          4000,
          24000,
          2000,
          2000,
          1000,
          7000,
          2000,
          22000,
          950,
          1000,
          90000,
          3000,
          26000,
          4000,
          3000,
          2000,
          13000,
          77000,
          700,
          10000,
          9000,
          2000,
          7000,
          9000,
          11000,
          2000,
          2000,
          170000,
          1000,
          31000,
          2000,
          22000,
          86000,
          20000,
          10000,
          2000,
          2000,
          52000,
          700,
          2000,
          16000,
          8000,
          14000,
          1000,
          7000,
          500,
          31000,
          5000,
          36000,
          16000,
          8000,
          2000,
          3000,
          2000,
          3000,
          550,
          600,
          2000,
          8000,
          21000,
          6000,
          6000,
          50000,
          5000,
          4000,
          2000,
          27000,
          71000,
          25000,
          18000,
          13000,
          13000,
          16000,
          2000,
          47000,
          34000,
          4000,
          500,
          5000,
          2000,
          7000,
          41000,
          2000,
          5000,
          27000,
          40000,
          3000,
          5000,
          1000,
          6000,
          6000,
          2000,
          30000,
          16000,
          7000,
          9000,
          3000,
          5000,
          6000,
          33000,
          14000,
          11000,
          29000,
          1000,
          10000,
          8000,
          1000,
          4000,
          20000,
          38000,
          18000,
          4000,
          11000,
          500,
          3000,
          30000,
          7000,
          3000,
          15000,
          19000,
          6000,
          4000,
          20000,
          9000,
          68000,
          12000,
          500,
          4000,
          17000,
          43000,
          950,
          22000,
          1000,
          3000,
          22000,
          7000,
          54000,
          24000,
          1000,
          3000,
          5000,
          44000,
          19000,
          3000,
          24000,
          18000,
          4000,
          26000,
          26000,
          5000,
          8000,
          12000,
          4000,
          9000,
          38000,
          74000,
          9000,
          1000,
          500,
          19000,
          2000,
          2000,
          26000,
          2000,
          750,
          19000,
          4000,
          23000,
          4000,
          5000,
          2000,
          27000,
          4000,
          90000,
          600,
          3000,
          1000,
          16000,
          21000,
          16000,
          6000,
          500,
          72000,
          2000,
          21000,
          36000,
          16000,
          5000,
          1000,
          9000,
          26000,
          500,
          2000,
          4000,
          12000,
          89000,
          2000,
          2000,
          82000,
          650,
          15000,
          27000,
          1000,
          3000,
          500,
          2000,
          3000,
          17000,
          5000,
          15000,
          7000,
          12000,
          6000,
          45000,
          7000,
          2000,
          73000,
          17000,
          5000,
          1000,
          3000,
          15000,
          3000,
          850,
          25000,
          22000,
          6000,
          6000,
          27000,
          1000,
          11000,
          1000,
          3000,
          35000,
          2000,
          10000,
          4000,
          14000,
          18000,
          68000,
          500,
          4000,
          2000,
          2000,
          4000,
          22000,
          5000,
          3000,
          20000,
          3000,
          24000,
          5000,
          21000,
          9000,
          950,
          54000,
          6000,
          33000,
          16000,
          2000,
          10000,
          17000,
          3000,
          1000,
          2000,
          10000,
          14000,
          14000,
          850,
          4000,
          17000,
          1000,
          3000,
          3000,
          105000,
          5000,
          10000,
          600,
          6000,
          6000,
          8000,
          11000,
          12000,
          4000,
          9000,
          14000,
          33000,
          5000,
          10000,
          6000,
          6000,
          500,
          15000,
          8000,
          1000,
          23000,
          3000,
          21000,
          48000,
          86000,
          2000,
          33000,
          5000,
          3000,
          600,
          45000,
          4000,
          550,
          18000,
          32000,
          18000,
          6000,
          2000,
          9000,
          9000,
          26000,
          650,
          9000,
          250000,
          3000,
          27000,
          4000,
          3000,
          36000,
          3000,
          5000,
          41000,
          14000,
          3000,
          6000,
          15000,
          2000,
          8000,
          9000,
          6000,
          17000,
          750
         ],
         "xaxis": "x",
         "y": [
          9245.806419499899,
          38227.76647874987,
          29481.404747106924,
          2899.828978038564,
          3326.088895867245,
          19141.266698217656,
          14087.831797842371,
          5382.419154303817,
          12509.462368800396,
          16351.052682584288,
          3085.6625200559774,
          4056.861873644698,
          3268.892869215414,
          3952.27070778168,
          4626.510161241577,
          2857.912559121633,
          1455.081805024189,
          7006.971681899076,
          3623.378760966297,
          4381.768726629256,
          6012.668258988066,
          81541.13979785559,
          20673.15700808836,
          8944.648564687097,
          24477.362429980807,
          10076.091455450513,
          2715.486908916434,
          1317.2321281632342,
          12771.212958313286,
          6099.175701621918,
          3340.1944822606847,
          5093.934779085135,
          5115.889053259568,
          10141.892210633812,
          824.7215970008968,
          6377.915004660595,
          4849.610667619761,
          50577.106557895,
          23511.935361307416,
          1646.80069215489,
          29108.809639166,
          13717.136054072173,
          3604.0694062791204,
          1708.4399030151833,
          2682.641412868834,
          8258.71014784679,
          9203.575325664406,
          21627.410547658183,
          5026.278165708757,
          34803.62369419857,
          5022.296267239862,
          6669.098118676287,
          4412.901115183299,
          5709.38990039783,
          32005.27326460647,
          2421.5085395498672,
          8413.149987494653,
          206579.1098236677,
          5170.705771657955,
          35218.15174082061,
          13347.442856503734,
          35422.91465171928,
          39023.8239694317,
          3103.185557028053,
          43772.78670372636,
          16422.951659287948,
          0,
          6316.908381837948,
          14433.122237156096,
          10471.6617733174,
          733.3629279364255,
          5715.92229905488,
          6298.722405107545,
          3460.233545098558,
          28090.019363486022,
          1208.8796492588033,
          6153.780055700413,
          3352.3965397248294,
          358.23502275129897,
          5696.916481188448,
          1638.2280411648292,
          1033.5483278939532,
          1330.0486250136369,
          14128.922793950742,
          2824.5125828760724,
          15163.761479149985,
          560.5755023337895,
          28644.63380941506,
          1159.7921323736434,
          10682.0121437522,
          197027.2712528108,
          6296.211797108647,
          0,
          87600.06313164519,
          8494.625127053381,
          6174.335065151863,
          5321.235159608945,
          6130.7499292531775,
          7412.34945212732,
          8820.728469569101,
          1226.436223432629,
          3025.5525066835976,
          7708.459169850157,
          5430.9883216105145,
          7509.243462739802,
          2793.7874923889963,
          4214.957787476541,
          3496.905458150143,
          6630.389834113451,
          4930.198650900821,
          108862.9718915923,
          10316.852871655128,
          959.7300150793483,
          4427.389646430205,
          3073.4882738955166,
          7627.765841027363,
          2082.5594532278947,
          8053.860923853937,
          2618.088914191421,
          97006.16055937082,
          3709.9913903198685,
          874.6349460602295,
          4232.232064957315,
          18800.6603474191,
          1178.2424298785972,
          25242.76893760597,
          38784.67573179302,
          14237.390334098049,
          1963.9671675605268,
          2319.1121767517434,
          7605.011887147182,
          1810.4939299410526,
          2367.6859951170554,
          2498.2720586703754,
          28049.663211113686,
          19648.12342446528,
          16392.14031401782,
          1521.139130099019,
          22854.59235390334,
          2634.056026013857,
          23693.353140463856,
          13628.92628169211,
          945.039591035059,
          2947.311747387827,
          4017.465102521039,
          10679.460971977549,
          45152.656237224604,
          19293.286489118072,
          7850.265358207431,
          7340.007127231253,
          100963.24813786043,
          5011.045068332215,
          21964.198416342246,
          1149.161107337868,
          90097.0891629457,
          27530.932712287435,
          15924.425808961436,
          2636.798599890411,
          1758.8693922517382,
          21615.400192436315,
          25742.57757359314,
          3040.356659194638,
          54946.46389217973,
          7025.64755070573,
          17537.549743716536,
          743.5574745828536,
          3735.5131247041045,
          3103.312361176071,
          1425.4873855101998,
          2652.627637981253,
          30814.310920977205,
          50851.70360184102,
          18691.303779253685,
          96035.35931393808,
          3228.72275421302,
          6436.158095372319,
          6611.540100102265,
          7479.866770022323,
          31636.365211282944,
          14460.84314105952,
          12943.67899150072,
          1898.087103011549,
          43556.89409245126,
          11474.725245838976,
          6773.338011359549,
          9373.501297809426,
          17591.16255299626,
          1477.707078422008,
          1143.2218550874572,
          21891.5420638076,
          8486.949984558103,
          4900.500698509894,
          23031.535371667687,
          2739.14890135313,
          41916.73755433812,
          15110.246061898028,
          14625.885626800398,
          0,
          2938.8937136923355,
          193912.85206804352,
          9713.95823307693,
          6322.41610313086,
          6916.969730067395,
          37720.47424264376,
          6561.439168745366,
          7644.615609516819,
          9451.982883943203,
          5705.445200082912,
          28603.58611212465,
          2115.5705521941227,
          94393.37639074368,
          86881.86266378225,
          1972.5639006912916,
          4291.541664732063,
          3506.806870727272,
          4270.343387997726,
          1651.0006619584335,
          8907.342548595076,
          32.462109293647494,
          7662.274950828753,
          4725.430150905086,
          27609.866471173347,
          5342.6286403853455,
          2444.301107365781,
          3964.722488551983,
          1229.7145851375917,
          28616.809654303685,
          872.5927514048751,
          5638.830141584725,
          6056.591029502048,
          8767.221063333745,
          17853.682428882246,
          433.2328437772728,
          27201.066838888484,
          165691.73039454967,
          15234.971031168501,
          25397.491279644815,
          7352.18445573196,
          8684.884168632681,
          5707.696070074133,
          1620.629379180123,
          1460.6577481966244,
          1521.6187207014084,
          582.330096907372,
          36254.89258662708,
          2082.244909721636,
          16688.52208281479,
          11366.042743058135,
          1109.2279472809216,
          1274.9145871889923,
          9191.018557246598,
          5146.768238310046,
          83354.89230553797,
          8651.21041431529,
          2410.409256102768,
          11180.719766595039,
          5415.66584040064,
          4213.68629759563,
          6395.992986771714,
          17173.415389495804,
          1984.4435005049304,
          6007.569726629072,
          4341.545413121442,
          2873.72535202498,
          7849.216706665988,
          17022.96902630683,
          9623.903856999354,
          10517.591299343127,
          3719.1518734716437,
          14761.04398831423,
          5364.193853446584,
          5141.023905999372,
          1528.9223105971244,
          26449.230303494325,
          9214.34519394885,
          18901.699715769573,
          8111.031136387043,
          23095.45176037153,
          20959.291402435363,
          782.1488951486691,
          1209.7757693412632,
          62978.59625482218,
          12498.635395224655,
          7113.9173441040475,
          10601.914505197636,
          69242.58207092364,
          7253.561262835482,
          7477.090148536612,
          664.5715910132222,
          2961.813592450791,
          768.5108331019012,
          6876.938617324681,
          1129.7314704951937,
          142374.99028247263,
          3513.570156945154,
          1207.6701704834204,
          1624.2646250297491,
          7664.02484392567,
          22357.218401310205,
          10721.501093308918,
          31735.571538508608,
          1867.858551068124,
          13531.697848919148,
          5515.411115705736,
          494.55955035796575,
          6602.970359867866,
          12917.193583471135,
          329.251456933075,
          69939.71025320808,
          16920.819383350503,
          135.20115480116192,
          1505.036480989773,
          15512.479406040577,
          1933.044771413247,
          514.8346533915277,
          7708.769500414503,
          22499.002844397633,
          12827.648025675115,
          16324.821411670046,
          71599.8787697799,
          17549.7948212466,
          7174.03847586635,
          30597.358716872448,
          81983.265876689,
          3321.9362591502468,
          2163.774716520904,
          3359.637060642199,
          12241.004352198408,
          3290.8626279576943,
          32412.89073313746,
          582.9932521432382,
          10943.23287330745,
          11950.289241237693,
          2303.608494540073,
          5785.485352454093,
          2241.84904996127,
          660.6516382589369,
          13104.362242780882,
          103700.6981756786,
          1969.9113262616388,
          24319.27427920484,
          359.1784609813824,
          90.56372287664475,
          31748.335445548964,
          20612.311553084757,
          1416.7024333201832,
          1013.9037489071521,
          7692.504009586692,
          26012.503435314866,
          2388.439412547691,
          2737.6028470096435,
          16091.872545170576,
          146003.44377697972,
          1698.4749017589477,
          20341.320054001782,
          7971.563197536584,
          2722.8002077983515,
          2213.038202943864,
          42921.944868776234,
          7155.121231594402,
          40829.29909194145,
          3310.8830419998058,
          3621.475138218231,
          11012.61643424805,
          21622.479884076452,
          23009.423428228463,
          4955.168033106027,
          5828.679894673376,
          15547.043768773772,
          8921.318775818045,
          7640.691379338385,
          2445.6678965160695,
          5178.3093964027885,
          9088.972570219768,
          8915.427746450732,
          12555.145663603562,
          7974.86267208506,
          1121.1607383396104,
          4856.541868827235,
          40339.09508374444,
          24875.09188539367,
          2675.1203287394674,
          10943.637635822104,
          2513.3883195839044,
          4814.487912741102,
          59781.99291487364,
          6240.89984188603,
          41520.28752392627,
          373.98501554022397,
          935.8390656097397,
          26054.269728897078,
          10653.27321157961,
          5893.330019394081,
          27859.94672031268,
          24601.46094105117,
          1132.979257335763,
          113.72588482347261,
          42210.293179323875,
          2948.100319433614,
          7341.891814468941,
          29910.239941916232,
          48503.18818519325,
          14103.390155631907,
          2280.7501515313875,
          7229.524062414074,
          3939.05666882625,
          3197.282904194972,
          2988.761073301434,
          7181.699951028463,
          6341.390596669636,
          157071.1162505529,
          6816.789561664418,
          23723.157067662312,
          3452.4418918476367,
          8206.273374379678,
          1329.538746646929,
          14558.68642257292,
          9965.132826211307,
          58782.97861971558,
          12982.146871145214,
          1770.4958019481985,
          14962.16457437267,
          11120.807480732723,
          859.7628923015678,
          1758.9273478103682,
          2233.2621685446206,
          1927.8384387369565,
          2541.3876222177337,
          2728.0026824726892,
          2448.645474649775,
          480.027058444423,
          3363.531673079506,
          3110.974320766503,
          53758.495124784255,
          16391.621346852913,
          2391.8257404401147,
          5680.014816132902,
          9176.696077329021,
          2423.410887496206,
          6744.551280354449,
          1128.4061750168162,
          10159.017749457758,
          4021.0501427810295,
          4642.005290472044,
          653.0406498911562,
          17029.321342013558,
          27349.518147734903,
          24645.59606031845,
          26148.48126802853,
          1161.25064295847,
          809.5506179891493,
          6939.470009031916,
          12109.807566214942,
          2807.816747403813,
          16935.95125597308,
          47982.346610724344,
          16481.297169434813,
          12006.523255597533,
          1842.1344062825424,
          1543.5825632312824,
          20172.726658484255,
          55669.797147863675,
          2016.9118452984908,
          3727.8755048478774,
          15970.107232796428,
          5127.473121877846,
          803.4314270766474,
          13920.107104582918,
          12124.977617041244,
          4850.920156948113,
          14275.47661046645,
          1228.0779666150784,
          2487.9570420449636,
          1479.5088865518765,
          4264.081245515034,
          5090.481278761833,
          16587.707320248246,
          100967.87605836657,
          7440.460256105454,
          12197.35427791819,
          1737.2424178389297,
          3737.51042044136,
          1755.1871570711144,
          9246.291106966399,
          18475.860224205848,
          69675.61241495624,
          942.186915878361,
          4354.030645051605,
          3442.3131698171505,
          11992.695975057464,
          3396.568341101813,
          8487.360543379567,
          1991.7848814932665,
          20260.593622797292,
          48944.79719793068,
          6166.889563096194,
          8948.715314754312,
          14500.680638412576,
          8962.362658109214,
          5071.472392345958,
          15027.807893428468,
          836.7043626952329,
          17893.84231402116,
          920.9256188638996,
          13737.568183771038,
          3377.3517983122815,
          29862.939684295874,
          1473.1476791827051,
          34179.6648423574,
          949.1910497093791,
          3491.931229433961,
          40425.44087101323,
          3911.092778746024,
          15072.98194379168,
          4974.11284009689,
          16121.781639638337,
          1376.0226631073974,
          171.17851788188472,
          14905.263224017499,
          6227.8916734195545,
          1928.0689822031638,
          18848.395926338868,
          518.5296654823828,
          900.6493252646588,
          904.320108299404,
          4012.790475592122,
          19590.316769491215,
          2353.5738038104114,
          61147.95494312972,
          2926.0342598753714,
          5541.314206407255,
          16168.310323442018,
          2647.622609838826,
          4155.659786584921,
          1231.5969624455192,
          153.08663416822932,
          9962.635093656887,
          15908.38842655205,
          2520.3634631210375,
          12755.687112215348,
          16248.62548564849,
          47.79762562651163,
          5030.38565149347,
          29078.380204165536,
          3779.2970955728942,
          14341.834110822254,
          81787.70604882587,
          82942.89374479222,
          22761.837695895436,
          3728.0399471750497,
          37239.11784023091,
          2846.5880428523083,
          8795.557845991827,
          13764.04409531477,
          8864.443312503785,
          5054.77403893245,
          1456.5378318994365,
          2741.1101639198805,
          6425.046088446587,
          5900.207696560991,
          9703.243449637344,
          10822.054279252963,
          7446.916344054637,
          5403.476307722307,
          3681.335984751947,
          3724.71993641054,
          15100.198951450639,
          4254.84033512018,
          0,
          2784.148427299751,
          1662.4392569081954,
          9590.977355709492,
          18204.923584220687,
          4969.25606492201,
          31406.773175387425,
          4601.881047181203,
          3398.4342213498717,
          22287.229803999475,
          13157.389457327672,
          6079.03283214314,
          50617.228097345185,
          22250.178269330754,
          5151.618691114376,
          3277.0750042531404,
          1291.099767213266,
          1148.491628233929,
          51624.74078116234,
          41267.40584836288,
          10224.873138749788,
          4767.913656664899,
          15404.149911145223,
          6744.901416630537,
          8.461899893835522,
          6609.63205342308,
          4216.3409082663875,
          1086.903520659408,
          1686.227895831609,
          17301.714759503644,
          6908.77732313682,
          14757.707720262068,
          9059.742104243862,
          0,
          319.93496310834865,
          31050.72617885973,
          5600.098074339291,
          3698.3916339454,
          35793.44287848401,
          13222.997248112744,
          4866.832917744941,
          18025.84465386878,
          3936.368418677462,
          11289.430068297828,
          6347.6045213006155,
          10663.205414441416,
          35111.81510548536,
          2844.832844275962,
          1431.950980536311,
          23380.042894558486,
          1903.1314410922123,
          671.891969475905,
          19931.166830819795,
          18520.146780741754,
          2155.667459957041,
          93834.24963487012,
          178.50713763306706,
          10397.53252015289,
          2618.7282332915934,
          30442.33829398979,
          10725.058977239618,
          3536.69456273727,
          10983.750997893789,
          1075.66529020368,
          1306.7128072212981,
          2471.6734146143317,
          36240.87228516082,
          18625.2752603361,
          0,
          41608.969980825794,
          1286.6231432678796,
          4093.285657464034,
          1897.7759539765977,
          21203.007596832693,
          1470.3373947115297,
          14725.72873985943,
          4763.224101388385,
          107.41432459309547,
          2101.6887926576933,
          4920.290922015829,
          5617.615014340441,
          4280.954748032968,
          30426.66262645974,
          24878.964034533386,
          3901.5839295145747,
          2439.023979297302,
          1587.4265916984377,
          1121.0335007377391,
          5797.044782965279,
          4299.319967256231,
          10622.983043766424,
          39653.404041099864,
          884.305629877575,
          38442.553295219484,
          5022.058722206563,
          4761.921623127242,
          378.07949379081,
          3164.0114745860265,
          5645.930165770224,
          12433.201198486264,
          5291.002114637717,
          58586.22125806288,
          29469.32181950879,
          603.9574786976849,
          985.7401951196777,
          3016.009603095509,
          4419.654144012026,
          5915.02448289121,
          48301.80217926804,
          8117.737473928158,
          11153.707887672812,
          5903.380925571647,
          5033.189281747509,
          1644.6681446983937,
          1378.254268353392,
          3439.6563712749125,
          32159.042292084385,
          4836.212069122664,
          5581.02619213179,
          6496.78738284924,
          4061.919839481564,
          13279.057129974946,
          2670.60039119026,
          3546.9766924049304,
          9098.039296238436,
          24587.14166951373,
          10154.033287678836,
          1946.0907936164424,
          48112.22279284227,
          12398.18900754344,
          26579.237096162913,
          16048.469563276087,
          37837.24779424475,
          3171.897948764358,
          18228.427727804592,
          3028.30535193573,
          102531.66470771731,
          11784.338926458371,
          11445.001531733826,
          8363.546674357493,
          843.5530860933139,
          4894.242519159128,
          13307.288289884184,
          11233.986453465133,
          1186.7021284844245,
          3943.0762261675895,
          31121.771282156995,
          22888.097232730102,
          0,
          4082.593520965181,
          4038.5077133633868,
          27093.436738945104,
          1881.8143712952524,
          941.7604068652838,
          4421.271297386994,
          2434.947525923107,
          4334.325260162331,
          15664.185023334525,
          21317.750973269536,
          6232.418995449664,
          30674.886512594112,
          2837.9399106138962,
          6623.074433048418,
          39109.77449929979,
          27678.663967193588,
          27565.970036965904,
          3116.358384093727,
          12412.889335723376,
          3733.382950244449,
          0,
          0,
          1976.9233353119325,
          5115.4103157505615,
          6284.400886985603,
          1410.3105388357262,
          12583.092937461115,
          14510.39246842339,
          13514.202542141818,
          5106.581700180425,
          62876.08764965268,
          11139.850016877892,
          50181.971357977585,
          11488.547036234006,
          5958.209851994776,
          1251.6821512730203,
          27815.845981191338,
          2162.589788391246,
          3701.436051115043,
          8934.438347126865,
          582.4957598369618,
          1296.3842443477492,
          11045.234724946758,
          57841.10297565276,
          156870.48898841563,
          2099.657810715079,
          3434.888592666738,
          11809.76759741267,
          2158.203254385175,
          4310.5393227975665,
          49518.51729315982,
          3582.2562689747524,
          197187.93504694305,
          20896.797411281936,
          3162.689392006071,
          25535.595687690515,
          10043.671157759352,
          20347.872352827413,
          25016.59631061197,
          8336.13428566033,
          708.5913036522121,
          41099.87262291464,
          27033.791369010378,
          94365.81907141338,
          3304.9309364287906,
          6121.673383482479,
          378.97145772832715,
          4001.7409401134137,
          61660.00261029184,
          8895.585481268097,
          10656.994301212444,
          192.66706608779702,
          1557.6148128041445,
          9593.436952400578,
          5826.828343751731,
          4317.163707018217,
          19715.061293503306,
          1344.306758034163,
          11838.084450555603,
          43723.525093922224,
          1138.86532307078,
          3032.6464143111575,
          4671.164472671988,
          3969.093443445251,
          6432.258744444323,
          27011.2858844017,
          25205.207694065175,
          32704.18390244246,
          24634.811811543965,
          13820.74433776552,
          1340.6246929305573,
          16280.280328033785,
          52769.839193299835,
          3436.891550776976,
          4957.603146222532,
          7531.614409560107,
          871.453067390905,
          13819.421781161289,
          1333.431857998861,
          4352.238339501297,
          2965.013044992981,
          22125.367060076762,
          27603.814890520393,
          5472.034902349603,
          22009.90486778838,
          66.63377408252839,
          7009.293196827678,
          3545.5378607404587,
          1096.0645215145078,
          35599.517084117695,
          5691.172594971348,
          5225.484048083354,
          3810.353785023432,
          1735.109042658315,
          12295.252590056376,
          3247.5513202664606,
          5650.4480202361265,
          10642.274093926013,
          24581.48985584168,
          96118.07243727605,
          5560.015002776954,
          194208.9730266399,
          15444.161609650811,
          61697.54625797367,
          5203.748223712252,
          88159.97019578889,
          14062.036725086611,
          2595.1864262981694,
          4663.7831297094435,
          563.1696803210945,
          3881.644335024039,
          1416.694442552308,
          9038.508754816146,
          7977.340898937801,
          21033.711371464815,
          43764.221729862074,
          5018.048438007068,
          12034.008973222535,
          37920.4324649094,
          2544.521880710499,
          8129.2848600168845,
          1726.3920592835107,
          30443.163742283414,
          16884.535532177746,
          2981.18335332823,
          5023.09178592189,
          574.1287172451051,
          1832.5494677822928,
          8463.368092100833,
          1552.072669231788,
          7791.388710530079,
          6416.229507977342,
          2456.2070737748745,
          31624.395771444306,
          14839.422667246594,
          44856.08149085834,
          43844.36647605994,
          34993.370862300195,
          1697.5009299584062,
          16394.478292190543,
          10520.49424980406,
          10927.164287145342,
          10261.39734215885,
          2437.021837868911,
          15250.502050552104,
          2063.341334954927,
          2186.8332132592855,
          47503.656024914875,
          8895.11596383574,
          11907.657015911573,
          1481.994389351283,
          21957.873796047294,
          2551.6546775302704,
          6297.779615933937,
          84203.51306060761,
          2348.5426471637006,
          9909.070854606236,
          8493.127652805473,
          6712.37097459798,
          23468.560530755112,
          3391.5830481179864,
          24220.16138410863,
          7202.762555713348,
          2798.0677044685135,
          43915.081616817806,
          46176.95989819176,
          846.8181331452425,
          3914.8338826630597,
          4710.869879936747,
          30069.011920714354,
          695.7577345265413,
          7958.836975031855,
          2263.13383767515,
          2051.1154123481147,
          13607.496756863036,
          8452.025761578658,
          67057.3316934924,
          110287.99745428565,
          1686.2757309251729,
          7444.646231333336,
          827.4173923064651,
          2720.3859559176926,
          6404.976622523641,
          204.13229004926174,
          28311.619263560224,
          92031.06440691903,
          6151.804016385198,
          3060.0537767975347,
          1259.3844983583056,
          83540.06874435523,
          26631.649922390334,
          8269.337010100944,
          3802.5416884172973,
          1494.3085939119344,
          4810.796530809308,
          10716.74596527993,
          17624.217486187972,
          15442.182388152412,
          4020.482437983762,
          14673.158724939369,
          3121.2583709419796,
          5514.722928757125,
          5835.183265044292,
          4379.253290382844,
          14357.96122356483,
          7263.6519266153255,
          38692.517369605186,
          467.2137853952565,
          59408.87328283992,
          9067.853994787918,
          22162.901314071358,
          2554.454902952168,
          11660.087024876637,
          1973.8422272288155,
          2330.2883039156663,
          6643.25107026355,
          1552.1285195018663,
          31586.196125691582,
          55955.61394831966,
          13552.954257988786,
          2515.6776782915945,
          6234.755283653589,
          5070.5477955618935,
          21387.0873209568,
          11156.279991601681,
          4714.373300988252,
          2647.541240212308,
          1417.4349542245054,
          1612.4273414851232,
          6973.772519892124,
          8893.286550454559,
          11042.537069954667,
          22320.064343177146,
          1893.528323532323,
          0,
          912.075974546522,
          2987.2462870139157,
          85848.4805769483,
          1103.582165266962,
          1845.6078823255052,
          21850.749326648263,
          3136.109737118621,
          61440.981939879384,
          7760.505157259526,
          8444.197921009929,
          11607.542809388973,
          6738.212415965211,
          3352.6059421511854,
          13486.620647806812,
          13215.591984765295,
          15575.505975861885,
          7134.828303372512,
          918.9827624708913,
          205823.2387562329,
          79324.15849921937,
          34444.792213777655,
          5511.79231944531,
          3736.7514740326483,
          9918.907448755652,
          17374.0751808561,
          26460.04979882627,
          2958.348866168749,
          7269.002746149278,
          90375.72306390242,
          2661.675091820752,
          4029.935938735083,
          41616.083862133775,
          1154.7160142217979,
          11373.11718398557,
          12913.530112599487,
          21410.88735070744,
          3395.8756587710095,
          27732.0464670725,
          42073.57414161343,
          35039.498301229934,
          19561.839701842902,
          35020.63950786436,
          17857.07750180489,
          2626.510975184631,
          47971.17769460146,
          1581.033717311126,
          5743.608334182917,
          4277.53198608875,
          25837.57982568576,
          1793.5278903574574,
          2861.5454639432883,
          23999.331516282375,
          4389.595484353254,
          8583.93450290883,
          5835.712922126097,
          4473.4404546828855,
          14626.278058138247,
          22560.994652541252,
          5045.495493535222,
          199.13837862529948,
          11177.57168364676,
          6167.284129766393,
          28483.688050119104,
          29670.262329166206,
          11789.26887614906,
          93.15495946047086,
          8900.516707457491,
          21779.483256471703,
          4692.075606336447,
          2369.588575100814,
          16573.8771999681,
          5126.671107876373,
          2004.3399896489768,
          57788.16325990132,
          8734.180059208435,
          5228.432014775538,
          6142.493724021333,
          2698.543666964856,
          18390.78274817639,
          64056.43569895525,
          7039.71098099935,
          32090.48860720783,
          62485.023353969074,
          1482.909254500483,
          1326.3616726433652,
          3475.5490054980123,
          5374.548712998401,
          2793.4147624366988,
          11110.250001836537,
          882.0634098491315,
          89941.48536776745,
          6440.8517424355105,
          4832.320425747472,
          2005.4393063378855,
          1571.2560566721972,
          15070.85985237453,
          1272.2684645859736,
          3032.8892256852628,
          801.2867031126206,
          4719.038299453618,
          55164.7584811095,
          1306.1110450510428,
          2961.651313306413,
          16243.543157459286,
          2300.493452628435,
          47592.76770040886,
          5419.3855970212435,
          762.7537708975475,
          130.7732481422588,
          1672.3345645731022,
          11014.216828185676,
          8477.935278381456,
          5741.224328033072,
          6000.047084361364,
          78259.99386265295,
          2787.3843241324716,
          18514.50021661515,
          2374.6055024209422,
          56831.13161579425,
          4203.555733349974,
          707.2757402604375,
          3326.5796320895065,
          1516.9931157002038,
          4527.083659839238,
          385.08694508314176,
          6323.34572386861,
          6937.555613173257,
          58022.64371073583,
          28066.61638020593,
          1670.6674728663459,
          16716.820739913444,
          9068.819827369573,
          31863.163741847497,
          39412.48117048086,
          10201.985101855329,
          3332.530615756887,
          4426.054429289894,
          14849.530447014107,
          9208.081377428756,
          45764.72636299114,
          2610.476826842622,
          3147.1768092383263,
          16694.919556369077,
          41512.741939053965,
          5309.7385704726385,
          11865.91229024658,
          2020.6458791013952,
          3294.653015770441,
          41346.54772180936,
          5035.546761909163,
          4360.616282255825,
          7398.660291097298,
          2832.818985943373,
          3668.6194810447805,
          0,
          66524.24108537313,
          216846.8121019669,
          59790.26339931288,
          6427.946331006569,
          476.40739831045096,
          101653.12949757327,
          19267.415233074487,
          114811.19573038862,
          15924.39773477828,
          25117.11783741903,
          8152.059603291678,
          6946.835813729631,
          3424.5781429397193,
          50847.8816928889,
          4630.761217912081,
          11971.425122364319,
          22935.380631326716,
          31033.987063139728,
          3551.2561408471147,
          6952.818457760268,
          8296.249662731023,
          64911.90344280095,
          180454.408515897,
          18170.60471465452,
          6507.49417597205,
          73221.31439284164,
          13180.78213129492,
          1405.2037768163295,
          40142.884255223966,
          3151.664969530695,
          3264.5031164605607,
          10045.194688709715,
          10819.496388213824,
          2332.5112825616893,
          6154.517763696943,
          42652.22339706423,
          9621.583118966482,
          3750.0339268762036,
          20998.07035461434,
          1721.6590817147378,
          15957.901465993698,
          58015.16101612707,
          11178.448972755657,
          3052.6761641838043,
          2856.512883089598,
          36423.43804432135,
          14191.41969744853,
          2175.0699379455446,
          9941.038423269536,
          20296.818904152882,
          21119.8310948266,
          1263.3750913789395,
          46728.39175733445,
          7907.705993816916,
          9263.200326214004,
          30885.078007388165,
          3292.9016693825024,
          39218.098142247574,
          3301.1146776736264,
          1357.886058989193,
          15200.59429945301,
          13117.862602894069,
          72593.71891170648,
          2116.358571691243,
          11075.811343796428,
          1270.7120156135998,
          26061.215877731207,
          19542.30364023127,
          8276.903592374803,
          3178.6181804521034,
          6262.286578410744,
          8981.630341390055,
          7134.734361131181,
          10931.755584234696,
          63171.41969507679,
          42460.76410139115,
          22766.30488969786,
          11098.292214981888,
          1095.7301560324622,
          23084.149062951168,
          4384.796738836959,
          6076.582229999203,
          9541.782696811371,
          70775.66130540731,
          13354.178178407286,
          6830.994656932815,
          21582.532014200704,
          24162.620558182218,
          117408.52300366048,
          3272.797688385486,
          2427.7127105014174,
          1062.9328047407287,
          26470.047547851456,
          34679.958892167386,
          11605.364331415794,
          1729.5593113997031,
          5581.476737636455,
          111516.63692466382,
          3639.4759413537727,
          614.5688926480747,
          2724.788536061734,
          2498.5413002114224,
          7601.550342340669,
          21639.358189206312,
          1569.39838836564,
          2750.0919475019577,
          1407.5314413322747,
          7517.050314021857,
          1340.4878755102159,
          20645.21022504617,
          1596.0523773677296,
          784.3887146579749,
          83798.575767969,
          5661.188596398272,
          27017.521719954664,
          3334.755892993398,
          24829.12763890326,
          1801.7989459980668,
          14326.36514275516,
          98448.54593619713,
          6530.185705930989,
          10916.327294401553,
          10527.351777190688,
          1946.4606910891996,
          8188.287392672783,
          4448.392767289271,
          10889.440656889552,
          940.3462897688847,
          1554.996041749105,
          226998.59659841825,
          1309.8293548823008,
          27445.1818078075,
          2516.069073895021,
          20811.507069531384,
          16429.313103837056,
          16903.659354593467,
          11585.721018437034,
          1127.8165023168424,
          2808.015955916503,
          51049.24406084612,
          1889.704537932476,
          1485.8236442617151,
          22187.47169663557,
          10646.491391126881,
          16102.582319601415,
          2506.2742559905573,
          8324.256569445419,
          415.3918808889603,
          35361.151174422295,
          3850.606574523,
          33435.236307993924,
          15166.458911286769,
          11086.486399438443,
          2037.4322876571623,
          4870.02762472897,
          6264.413726298387,
          2114.5910773235432,
          603.3745150422102,
          542.0886163158859,
          3619.92588242891,
          9669.570992243891,
          28069.274826682125,
          17608.830496753922,
          5616.730327402172,
          48579.98704550652,
          4527.44609116606,
          5565.054791732128,
          2468.1367220316433,
          26617.07701095501,
          59655.15558608995,
          25946.65114287613,
          18452.962028372098,
          13354.871564840589,
          17930.33621771406,
          12876.047079967393,
          4630.184565811647,
          51005.092092717794,
          35636.83394057688,
          9603.67681510845,
          1971.6681694071851,
          4902.156358531719,
          3432.9233340860633,
          2619.908747373006,
          58283.09310532664,
          3774.1887901391306,
          4945.055065321641,
          28055.988645773858,
          27979.15877961399,
          2978.162476362298,
          4970.258104610435,
          1077.0399822198428,
          5000.140011335145,
          6428.416674414265,
          1105.5834811570905,
          60673.12376649956,
          18118.884013085506,
          5974.8813295518985,
          6062.494203590016,
          3475.2223671103775,
          5274.096896186644,
          6536.672178995875,
          27721.284594782544,
          13029.213865375927,
          5708.768875910996,
          31499.636236756833,
          1186.264339866377,
          7635.7397429509065,
          8583.952077643109,
          948.0703862677124,
          4256.281475260377,
          19837.045138512498,
          41848.51355517889,
          20735.190600905593,
          3669.38696356144,
          23259.402087990555,
          262.8284397390086,
          3510.9646405684816,
          23434.72415631729,
          8282.096117464045,
          2812.757284175022,
          18079.771161666147,
          11329.089559166347,
          6877.745760773372,
          3391.525312075672,
          24187.971047180123,
          5539.524577617559,
          69709.46100984533,
          11522.78034217669,
          334.88885207724303,
          4061.6152391601995,
          15653.077690722268,
          35542.74582480951,
          2071.4957399020423,
          81578.92742184027,
          1264.622973728004,
          3120.9897916320583,
          23265.303106611613,
          10559.534610229824,
          22985.311517898255,
          24270.58723172117,
          851.0700588926157,
          1193.268325960619,
          1366.2976841943025,
          40149.52208453719,
          17701.538136284074,
          2611.089303559365,
          15257.663413962835,
          12311.668500557424,
          4952.072971817229,
          42569.18005833016,
          23094.377368459995,
          9048.373603658114,
          9221.106217791008,
          16254.496636888318,
          2734.100916834463,
          8556.925492557657,
          34101.384904573904,
          96914.98080087388,
          10745.07400862192,
          1736.6827670520347,
          269.8986755408786,
          19422.414066254343,
          1858.5214819605965,
          1380.290731611705,
          24486.373900528655,
          5083.968396232806,
          1002.3128757359715,
          14772.777872475546,
          20606.139986530852,
          20146.850159692356,
          3932.945702080954,
          5190.392241798501,
          2059.630446842192,
          30222.547754174255,
          1482.7801110866012,
          87158.14704706454,
          1102.0700732131966,
          3057.1018640395387,
          1242.0439845291332,
          22108.38372485693,
          20896.689878352838,
          15625.328423504881,
          5381.539562951015,
          3764.0207940699815,
          65793.05020953689,
          2746.8739520531767,
          19467.4093775174,
          31528.57596766534,
          19098.21600535868,
          5984.930224352465,
          1321.4737528718322,
          10295.886709683775,
          59593.2182464006,
          812.79384911306,
          2735.9613034585545,
          6272.519029989811,
          11135.20060299048,
          78244.37359782206,
          1285.4339316723847,
          1033.1065445068107,
          98926.81931223678,
          781.6292019376984,
          16033.060539912574,
          32080.19137022007,
          840.8690257963729,
          4179.251212637464,
          1564.5482551887878,
          3694.3087758084826,
          2543.570164129706,
          16272.1544627914,
          5542.474985615184,
          8643.973580279802,
          7726.09346986678,
          20318.049792388465,
          5209.677895801626,
          40240.54554436505,
          5564.550216910056,
          1875.6012804005672,
          53645.975262983615,
          20394.17783189571,
          7900.9742080261185,
          1084.856451134257,
          3209.3089661866934,
          13783.36693910701,
          4355.333145220423,
          520.225017136457,
          20401.50907574092,
          16157.324755485972,
          6908.374044934309,
          8702.885807321503,
          24330.496485811138,
          1905.0588629112658,
          18763.06325941528,
          1471.3459722895072,
          2579.0946462854236,
          36252.041935755915,
          3775.792542959214,
          9961.928566164643,
          4469.009773539812,
          18694.568644202314,
          18413.81271267964,
          70886.24419367386,
          555.0178411025755,
          6535.043002226006,
          2175.711716730134,
          3510.4340312831287,
          9978.086194810576,
          23022.76861219713,
          6252.956494388971,
          5997.72699649533,
          19273.373475352364,
          5907.901786300728,
          17536.02305388304,
          3207.3346644554153,
          23493.327457623665,
          5827.655915959958,
          1695.4739618862664,
          54261.34269896091,
          12101.184105911565,
          29631.437911804926,
          15678.530258117637,
          3679.0760694825417,
          13652.058892493671,
          16695.804227012963,
          4739.992142463878,
          1629.3123610098166,
          3298.008024258236,
          11546.301179166589,
          20287.010211383553,
          10941.224248891856,
          722.9673790101239,
          7323.350949993965,
          11142.261133120914,
          623.8318963666858,
          3012.7844036441106,
          3396.340141521432,
          100792.67472855515,
          7719.191594294239,
          11650.149600758026,
          919.9154669767277,
          7394.346825054542,
          3627.664996142206,
          13079.771707195388,
          17472.25638645389,
          11912.772139404988,
          2938.3629822488315,
          8367.101656317873,
          15819.890690126796,
          45268.11134466891,
          5898.560381094459,
          13332.394194640196,
          4444.741103328015,
          7843.137473192892,
          1904.622816660249,
          3544.454607409848,
          10083.673881259712,
          1025.0550142461934,
          24782.165297659438,
          3917.0166471111866,
          18109.654817025716,
          49945.91908036426,
          72603.5889313258,
          3140.693864120003,
          27600.51651059666,
          5982.242016487423,
          4742.613718893353,
          743.5405710609067,
          41422.45326528408,
          2860.4007546630955,
          419.18244226653775,
          10099.158065818214,
          22496.603881831637,
          25957.848979639068,
          9549.725890977337,
          3891.4852438685452,
          9158.098446017284,
          11534.855772033936,
          24128.46911184019,
          313.5475843528203,
          12802.949185377374,
          233113.54725127044,
          3563.4410511442043,
          33008.01011328746,
          5773.251289311623,
          4956.294287311898,
          27724.382804455297,
          3390.0926678762034,
          5972.02706532695,
          70995.0660932401,
          22140.24831086888,
          3322.0911888823125,
          4130.4722639045485,
          15795.988718914032,
          2280.3199763349135,
          8989.035497879202,
          14297.482865708644,
          7141.391210853031,
          14342.95683264265,
          1018.1318132977854
         ],
         "yaxis": "y"
        },
        {
         "line": {
          "dash": "dash"
         },
         "mode": "lines",
         "name": "Perfect Prediction",
         "type": "scatter",
         "x": [
          500,
          250000
         ],
         "y": [
          500,
          250000
         ]
        }
       ],
       "layout": {
        "legend": {
         "tracegroupgap": 0
        },
        "margin": {
         "t": 60
        },
        "template": {
         "data": {
          "bar": [
           {
            "error_x": {
             "color": "#2a3f5f"
            },
            "error_y": {
             "color": "#2a3f5f"
            },
            "marker": {
             "line": {
              "color": "#E5ECF6",
              "width": 0.5
             },
             "pattern": {
              "fillmode": "overlay",
              "size": 10,
              "solidity": 0.2
             }
            },
            "type": "bar"
           }
          ],
          "barpolar": [
           {
            "marker": {
             "line": {
              "color": "#E5ECF6",
              "width": 0.5
             },
             "pattern": {
              "fillmode": "overlay",
              "size": 10,
              "solidity": 0.2
             }
            },
            "type": "barpolar"
           }
          ],
          "carpet": [
           {
            "aaxis": {
             "endlinecolor": "#2a3f5f",
             "gridcolor": "white",
             "linecolor": "white",
             "minorgridcolor": "white",
             "startlinecolor": "#2a3f5f"
            },
            "baxis": {
             "endlinecolor": "#2a3f5f",
             "gridcolor": "white",
             "linecolor": "white",
             "minorgridcolor": "white",
             "startlinecolor": "#2a3f5f"
            },
            "type": "carpet"
           }
          ],
          "choropleth": [
           {
            "colorbar": {
             "outlinewidth": 0,
             "ticks": ""
            },
            "type": "choropleth"
           }
          ],
          "contour": [
           {
            "colorbar": {
             "outlinewidth": 0,
             "ticks": ""
            },
            "colorscale": [
             [
              0,
              "#0d0887"
             ],
             [
              0.1111111111111111,
              "#46039f"
             ],
             [
              0.2222222222222222,
              "#7201a8"
             ],
             [
              0.3333333333333333,
              "#9c179e"
             ],
             [
              0.4444444444444444,
              "#bd3786"
             ],
             [
              0.5555555555555556,
              "#d8576b"
             ],
             [
              0.6666666666666666,
              "#ed7953"
             ],
             [
              0.7777777777777778,
              "#fb9f3a"
             ],
             [
              0.8888888888888888,
              "#fdca26"
             ],
             [
              1,
              "#f0f921"
             ]
            ],
            "type": "contour"
           }
          ],
          "contourcarpet": [
           {
            "colorbar": {
             "outlinewidth": 0,
             "ticks": ""
            },
            "type": "contourcarpet"
           }
          ],
          "heatmap": [
           {
            "colorbar": {
             "outlinewidth": 0,
             "ticks": ""
            },
            "colorscale": [
             [
              0,
              "#0d0887"
             ],
             [
              0.1111111111111111,
              "#46039f"
             ],
             [
              0.2222222222222222,
              "#7201a8"
             ],
             [
              0.3333333333333333,
              "#9c179e"
             ],
             [
              0.4444444444444444,
              "#bd3786"
             ],
             [
              0.5555555555555556,
              "#d8576b"
             ],
             [
              0.6666666666666666,
              "#ed7953"
             ],
             [
              0.7777777777777778,
              "#fb9f3a"
             ],
             [
              0.8888888888888888,
              "#fdca26"
             ],
             [
              1,
              "#f0f921"
             ]
            ],
            "type": "heatmap"
           }
          ],
          "heatmapgl": [
           {
            "colorbar": {
             "outlinewidth": 0,
             "ticks": ""
            },
            "colorscale": [
             [
              0,
              "#0d0887"
             ],
             [
              0.1111111111111111,
              "#46039f"
             ],
             [
              0.2222222222222222,
              "#7201a8"
             ],
             [
              0.3333333333333333,
              "#9c179e"
             ],
             [
              0.4444444444444444,
              "#bd3786"
             ],
             [
              0.5555555555555556,
              "#d8576b"
             ],
             [
              0.6666666666666666,
              "#ed7953"
             ],
             [
              0.7777777777777778,
              "#fb9f3a"
             ],
             [
              0.8888888888888888,
              "#fdca26"
             ],
             [
              1,
              "#f0f921"
             ]
            ],
            "type": "heatmapgl"
           }
          ],
          "histogram": [
           {
            "marker": {
             "pattern": {
              "fillmode": "overlay",
              "size": 10,
              "solidity": 0.2
             }
            },
            "type": "histogram"
           }
          ],
          "histogram2d": [
           {
            "colorbar": {
             "outlinewidth": 0,
             "ticks": ""
            },
            "colorscale": [
             [
              0,
              "#0d0887"
             ],
             [
              0.1111111111111111,
              "#46039f"
             ],
             [
              0.2222222222222222,
              "#7201a8"
             ],
             [
              0.3333333333333333,
              "#9c179e"
             ],
             [
              0.4444444444444444,
              "#bd3786"
             ],
             [
              0.5555555555555556,
              "#d8576b"
             ],
             [
              0.6666666666666666,
              "#ed7953"
             ],
             [
              0.7777777777777778,
              "#fb9f3a"
             ],
             [
              0.8888888888888888,
              "#fdca26"
             ],
             [
              1,
              "#f0f921"
             ]
            ],
            "type": "histogram2d"
           }
          ],
          "histogram2dcontour": [
           {
            "colorbar": {
             "outlinewidth": 0,
             "ticks": ""
            },
            "colorscale": [
             [
              0,
              "#0d0887"
             ],
             [
              0.1111111111111111,
              "#46039f"
             ],
             [
              0.2222222222222222,
              "#7201a8"
             ],
             [
              0.3333333333333333,
              "#9c179e"
             ],
             [
              0.4444444444444444,
              "#bd3786"
             ],
             [
              0.5555555555555556,
              "#d8576b"
             ],
             [
              0.6666666666666666,
              "#ed7953"
             ],
             [
              0.7777777777777778,
              "#fb9f3a"
             ],
             [
              0.8888888888888888,
              "#fdca26"
             ],
             [
              1,
              "#f0f921"
             ]
            ],
            "type": "histogram2dcontour"
           }
          ],
          "mesh3d": [
           {
            "colorbar": {
             "outlinewidth": 0,
             "ticks": ""
            },
            "type": "mesh3d"
           }
          ],
          "parcoords": [
           {
            "line": {
             "colorbar": {
              "outlinewidth": 0,
              "ticks": ""
             }
            },
            "type": "parcoords"
           }
          ],
          "pie": [
           {
            "automargin": true,
            "type": "pie"
           }
          ],
          "scatter": [
           {
            "fillpattern": {
             "fillmode": "overlay",
             "size": 10,
             "solidity": 0.2
            },
            "type": "scatter"
           }
          ],
          "scatter3d": [
           {
            "line": {
             "colorbar": {
              "outlinewidth": 0,
              "ticks": ""
             }
            },
            "marker": {
             "colorbar": {
              "outlinewidth": 0,
              "ticks": ""
             }
            },
            "type": "scatter3d"
           }
          ],
          "scattercarpet": [
           {
            "marker": {
             "colorbar": {
              "outlinewidth": 0,
              "ticks": ""
             }
            },
            "type": "scattercarpet"
           }
          ],
          "scattergeo": [
           {
            "marker": {
             "colorbar": {
              "outlinewidth": 0,
              "ticks": ""
             }
            },
            "type": "scattergeo"
           }
          ],
          "scattergl": [
           {
            "marker": {
             "colorbar": {
              "outlinewidth": 0,
              "ticks": ""
             }
            },
            "type": "scattergl"
           }
          ],
          "scattermapbox": [
           {
            "marker": {
             "colorbar": {
              "outlinewidth": 0,
              "ticks": ""
             }
            },
            "type": "scattermapbox"
           }
          ],
          "scatterpolar": [
           {
            "marker": {
             "colorbar": {
              "outlinewidth": 0,
              "ticks": ""
             }
            },
            "type": "scatterpolar"
           }
          ],
          "scatterpolargl": [
           {
            "marker": {
             "colorbar": {
              "outlinewidth": 0,
              "ticks": ""
             }
            },
            "type": "scatterpolargl"
           }
          ],
          "scatterternary": [
           {
            "marker": {
             "colorbar": {
              "outlinewidth": 0,
              "ticks": ""
             }
            },
            "type": "scatterternary"
           }
          ],
          "surface": [
           {
            "colorbar": {
             "outlinewidth": 0,
             "ticks": ""
            },
            "colorscale": [
             [
              0,
              "#0d0887"
             ],
             [
              0.1111111111111111,
              "#46039f"
             ],
             [
              0.2222222222222222,
              "#7201a8"
             ],
             [
              0.3333333333333333,
              "#9c179e"
             ],
             [
              0.4444444444444444,
              "#bd3786"
             ],
             [
              0.5555555555555556,
              "#d8576b"
             ],
             [
              0.6666666666666666,
              "#ed7953"
             ],
             [
              0.7777777777777778,
              "#fb9f3a"
             ],
             [
              0.8888888888888888,
              "#fdca26"
             ],
             [
              1,
              "#f0f921"
             ]
            ],
            "type": "surface"
           }
          ],
          "table": [
           {
            "cells": {
             "fill": {
              "color": "#EBF0F8"
             },
             "line": {
              "color": "white"
             }
            },
            "header": {
             "fill": {
              "color": "#C8D4E3"
             },
             "line": {
              "color": "white"
             }
            },
            "type": "table"
           }
          ]
         },
         "layout": {
          "annotationdefaults": {
           "arrowcolor": "#2a3f5f",
           "arrowhead": 0,
           "arrowwidth": 1
          },
          "autotypenumbers": "strict",
          "coloraxis": {
           "colorbar": {
            "outlinewidth": 0,
            "ticks": ""
           }
          },
          "colorscale": {
           "diverging": [
            [
             0,
             "#8e0152"
            ],
            [
             0.1,
             "#c51b7d"
            ],
            [
             0.2,
             "#de77ae"
            ],
            [
             0.3,
             "#f1b6da"
            ],
            [
             0.4,
             "#fde0ef"
            ],
            [
             0.5,
             "#f7f7f7"
            ],
            [
             0.6,
             "#e6f5d0"
            ],
            [
             0.7,
             "#b8e186"
            ],
            [
             0.8,
             "#7fbc41"
            ],
            [
             0.9,
             "#4d9221"
            ],
            [
             1,
             "#276419"
            ]
           ],
           "sequential": [
            [
             0,
             "#0d0887"
            ],
            [
             0.1111111111111111,
             "#46039f"
            ],
            [
             0.2222222222222222,
             "#7201a8"
            ],
            [
             0.3333333333333333,
             "#9c179e"
            ],
            [
             0.4444444444444444,
             "#bd3786"
            ],
            [
             0.5555555555555556,
             "#d8576b"
            ],
            [
             0.6666666666666666,
             "#ed7953"
            ],
            [
             0.7777777777777778,
             "#fb9f3a"
            ],
            [
             0.8888888888888888,
             "#fdca26"
            ],
            [
             1,
             "#f0f921"
            ]
           ],
           "sequentialminus": [
            [
             0,
             "#0d0887"
            ],
            [
             0.1111111111111111,
             "#46039f"
            ],
            [
             0.2222222222222222,
             "#7201a8"
            ],
            [
             0.3333333333333333,
             "#9c179e"
            ],
            [
             0.4444444444444444,
             "#bd3786"
            ],
            [
             0.5555555555555556,
             "#d8576b"
            ],
            [
             0.6666666666666666,
             "#ed7953"
            ],
            [
             0.7777777777777778,
             "#fb9f3a"
            ],
            [
             0.8888888888888888,
             "#fdca26"
            ],
            [
             1,
             "#f0f921"
            ]
           ]
          },
          "colorway": [
           "#636efa",
           "#EF553B",
           "#00cc96",
           "#ab63fa",
           "#FFA15A",
           "#19d3f3",
           "#FF6692",
           "#B6E880",
           "#FF97FF",
           "#FECB52"
          ],
          "font": {
           "color": "#2a3f5f"
          },
          "geo": {
           "bgcolor": "white",
           "lakecolor": "white",
           "landcolor": "#E5ECF6",
           "showlakes": true,
           "showland": true,
           "subunitcolor": "white"
          },
          "hoverlabel": {
           "align": "left"
          },
          "hovermode": "closest",
          "mapbox": {
           "style": "light"
          },
          "paper_bgcolor": "white",
          "plot_bgcolor": "#E5ECF6",
          "polar": {
           "angularaxis": {
            "gridcolor": "white",
            "linecolor": "white",
            "ticks": ""
           },
           "bgcolor": "#E5ECF6",
           "radialaxis": {
            "gridcolor": "white",
            "linecolor": "white",
            "ticks": ""
           }
          },
          "scene": {
           "xaxis": {
            "backgroundcolor": "#E5ECF6",
            "gridcolor": "white",
            "gridwidth": 2,
            "linecolor": "white",
            "showbackground": true,
            "ticks": "",
            "zerolinecolor": "white"
           },
           "yaxis": {
            "backgroundcolor": "#E5ECF6",
            "gridcolor": "white",
            "gridwidth": 2,
            "linecolor": "white",
            "showbackground": true,
            "ticks": "",
            "zerolinecolor": "white"
           },
           "zaxis": {
            "backgroundcolor": "#E5ECF6",
            "gridcolor": "white",
            "gridwidth": 2,
            "linecolor": "white",
            "showbackground": true,
            "ticks": "",
            "zerolinecolor": "white"
           }
          },
          "shapedefaults": {
           "line": {
            "color": "#2a3f5f"
           }
          },
          "ternary": {
           "aaxis": {
            "gridcolor": "white",
            "linecolor": "white",
            "ticks": ""
           },
           "baxis": {
            "gridcolor": "white",
            "linecolor": "white",
            "ticks": ""
           },
           "bgcolor": "#E5ECF6",
           "caxis": {
            "gridcolor": "white",
            "linecolor": "white",
            "ticks": ""
           }
          },
          "title": {
           "x": 0.05
          },
          "xaxis": {
           "automargin": true,
           "gridcolor": "white",
           "linecolor": "white",
           "ticks": "",
           "title": {
            "standoff": 15
           },
           "zerolinecolor": "white",
           "zerolinewidth": 2
          },
          "yaxis": {
           "automargin": true,
           "gridcolor": "white",
           "linecolor": "white",
           "ticks": "",
           "title": {
            "standoff": 15
           },
           "zerolinecolor": "white",
           "zerolinewidth": 2
          }
         }
        },
        "title": {
         "text": "Predicted vs Actual Salary"
        },
        "xaxis": {
         "anchor": "y",
         "domain": [
          0,
          1
         ],
         "title": {
          "text": "Actual Salary"
         }
        },
        "yaxis": {
         "anchor": "x",
         "domain": [
          0,
          1
         ],
         "title": {
          "text": "Predicted Salary"
         }
        }
       }
      }
     },
     "metadata": {},
     "output_type": "display_data"
    },
    {
     "data": {
      "application/vnd.plotly.v1+json": {
       "config": {
        "plotlyServerURL": "https://plot.ly"
       },
       "data": [
        {
         "alignmentgroup": "True",
         "bingroup": "x",
         "hovertemplate": "Residuals=%{x}<br>count=%{y}<extra></extra>",
         "legendgroup": "",
         "marker": {
          "color": "#636efa",
          "pattern": {
           "shape": ""
          }
         },
         "name": "",
         "offsetgroup": "",
         "orientation": "v",
         "showlegend": false,
         "type": "histogram",
         "x": [
          6245.806419499899,
          2227.7664787498725,
          -2518.5952528930757,
          899.828978038564,
          1326.088895867245,
          -858.7333017823439,
          3087.831797842371,
          382.41915430381687,
          -490.5376311996042,
          -11648.947317415712,
          -914.3374799440226,
          1056.8618736446979,
          268.89286921541407,
          952.2707077816799,
          626.5101612415774,
          -142.08744087836703,
          -544.918194975811,
          2006.9716818990764,
          1623.3787609662968,
          1381.768726629256,
          1012.6682589880656,
          -8458.86020214441,
          5673.157008088361,
          -6055.351435312903,
          7477.362429980807,
          -5923.9085445494875,
          1915.486908916434,
          -682.7678718367658,
          4771.212958313286,
          -1900.824298378082,
          -1659.8055177393153,
          -906.0652209148648,
          -21884.11094674043,
          2141.8922106338123,
          -125.27840299910315,
          2377.9150046605946,
          -150.38933238023856,
          -9422.893442105,
          -5488.064638692584,
          646.8006921548899,
          -891.1903608339999,
          5717.136054072173,
          -2395.9305937208796,
          708.4399030151833,
          1682.6414128688339,
          258.7101478467903,
          2203.5753256644057,
          2627.4105476581826,
          26.278165708757115,
          -1196.3763058014301,
          3022.2962672398617,
          -3330.9018813237126,
          -1587.0988848167008,
          1709.3899003978304,
          -2994.7267353935313,
          421.50853954986724,
          413.14998749465303,
          -43420.890176332294,
          3170.7057716579548,
          -25781.848259179387,
          -1652.5571434962658,
          -2577.0853482807215,
          23.8239694317017,
          1103.1855570280532,
          -5227.213296273643,
          -10577.048340712052,
          -500,
          316.9083818379477,
          -7566.877762843904,
          2471.6617733174007,
          -266.63707206357446,
          -1284.0777009451203,
          2298.7224051075445,
          460.2335450985579,
          90.01936348602248,
          -791.1203507411967,
          1153.780055700413,
          -1647.6034602751706,
          -541.764977248701,
          1696.9164811884484,
          638.2280411648292,
          -966.4516721060468,
          330.04862501363687,
          2128.922793950742,
          824.5125828760724,
          1163.7614791499855,
          60.57550233378947,
          644.6338094150597,
          -840.2078676263566,
          1682.0121437521993,
          32027.27125281081,
          1296.2117971086473,
          -700,
          -399.9368683548091,
          3494.625127053381,
          2174.335065151863,
          -678.7648403910553,
          2130.7499292531775,
          -3587.6505478726804,
          1820.7284695691014,
          226.43622343262905,
          25.552506683597585,
          708.4591698501572,
          -569.0116783894855,
          509.24346273980245,
          -206.21250761100373,
          -2785.042212523459,
          1496.9054581501432,
          1630.389834113451,
          -1069.8013490991789,
          3862.9718915923004,
          3316.852871655128,
          -40.26998492065172,
          -572.6103535697948,
          73.48827389551661,
          627.7658410273634,
          82.55945322789466,
          3053.8609238539366,
          618.0889141914208,
          -7993.839440629177,
          -2290.0086096801315,
          -125.36505393977052,
          -2767.767935042685,
          -1199.3396525809003,
          178.24242987859725,
          242.7689376059716,
          -4215.324268206983,
          3237.3903340980487,
          -36.03283243947317,
          1319.1121767517434,
          605.0118871471823,
          -189.50607005894744,
          367.6859951170554,
          498.2720586703754,
          -2950.336788886314,
          4648.123424465281,
          -5607.859685982181,
          -1478.860869900981,
          2854.5923539033392,
          634.0560260138568,
          -1306.646859536144,
          -3371.073718307891,
          445.03959103505895,
          -1052.688252612173,
          1017.4651025210392,
          -1320.539028022451,
          26152.656237224604,
          -2706.7135108819275,
          -3149.734641792569,
          -7659.992872768747,
          21963.248137860428,
          -988.9549316677849,
          6964.198416342246,
          149.1611073378681,
          10097.089162945704,
          9530.932712287435,
          924.4258089614359,
          -1363.201400109589,
          -241.1306077482618,
          9615.400192436315,
          -10257.422426406862,
          1040.3566591946378,
          -23053.53610782027,
          25.647550705730282,
          2537.549743716536,
          -6.442525417146385,
          735.5131247041045,
          103.31236117607114,
          -574.5126144898002,
          652.627637981253,
          -25185.689079022795,
          -8148.296398158978,
          7691.303779253685,
          32035.359313938083,
          228.72275421301993,
          436.1580953723187,
          -3388.4598998977353,
          3479.866770022323,
          -363.6347887170559,
          -539.1568589404797,
          4943.678991500719,
          -101.91289698845094,
          14556.894092451257,
          -525.2747541610242,
          -226.66198864045145,
          -626.4987021905745,
          -50408.83744700374,
          477.70707842200795,
          143.22185508745724,
          7891.542063807599,
          1486.949984558103,
          -99.49930149010561,
          -16968.464628332313,
          739.14890135313,
          -83.26244566187961,
          110.24606189802762,
          6625.885626800398,
          -500,
          -1061.1062863076645,
          13912.852068043518,
          -286.0417669230701,
          1322.4161031308604,
          3916.969730067395,
          1720.4742426437588,
          -5438.560831254634,
          1644.615609516819,
          5451.982883943203,
          2705.4452000829124,
          4603.586112124649,
          1115.5705521941227,
          -35606.62360925632,
          -3118.1373362177546,
          -27.436099308708435,
          291.5416647320626,
          506.80687072727187,
          -729.6566120022744,
          651.0006619584335,
          -92.65745140492436,
          -567.5378907063525,
          2662.2749508287534,
          725.4301509050856,
          -2390.1335288266528,
          342.62864038534553,
          444.3011073657808,
          -1035.2775114480169,
          -770.2854148624083,
          616.8096543036845,
          122.59275140487512,
          -361.1698584152746,
          56.591029502047604,
          767.2210633337454,
          -2146.3175711177537,
          -66.76715622272718,
          6201.066838888484,
          15691.730394549668,
          -765.0289688314988,
          397.4912796448152,
          -2647.81554426804,
          684.8841686326814,
          2707.696070074133,
          -379.3706208198771,
          -539.3422518033756,
          521.6187207014084,
          82.33009690737197,
          2254.89258662708,
          82.24490972163585,
          -3311.4779171852097,
          3366.042743058135,
          109.22794728092163,
          274.9145871889923,
          -3808.981442753402,
          146.7682383100464,
          5354.892305537971,
          4651.21041431529,
          -589.5907438972322,
          5180.719766595039,
          415.66584040064026,
          1213.68629759563,
          1395.9929867717137,
          -2826.5846105041965,
          -2015.5564994950696,
          1007.5697266290717,
          -1658.454586878558,
          1873.72535202498,
          4849.216706665988,
          22.96902630682962,
          1623.9038569993536,
          -2482.4087006568734,
          1719.1518734716437,
          1761.0439883142299,
          3364.1938534465844,
          1141.023905999372,
          -471.07768940287565,
          5449.230303494325,
          4214.34519394885,
          -8098.300284230427,
          1111.0311363870433,
          -5904.5482396284715,
          -4040.708597564637,
          132.1488951486691,
          359.7757693412632,
          6978.59625482218,
          5498.635395224655,
          1113.9173441040475,
          -1398.0854948023643,
          6242.582070923643,
          -5746.438737164518,
          477.0901485366121,
          14.571591013222246,
          -38.18640754920898,
          -1231.4891668980988,
          -8123.061382675319,
          -870.2685295048063,
          12374.99028247263,
          -1486.429843054846,
          -792.3298295165796,
          -1375.7353749702509,
          -1335.9751560743298,
          -642.7815986897949,
          3721.501093308918,
          735.5715385086078,
          867.8585510681239,
          1531.6978489191479,
          2515.411115705736,
          -3505.4404496420343,
          -2397.029640132134,
          -2082.806416528865,
          -170.74854306692498,
          9939.710253208075,
          -2079.180616649497,
          -364.7988451988381,
          -1494.963519010227,
          4512.479406040577,
          -66.95522858675304,
          -485.1653466084723,
          -1291.2304995854965,
          -7500.997155602367,
          5827.648025675115,
          324.82141167004556,
          13599.878769779898,
          -1450.2051787534,
          3174.0384758663504,
          -12402.641283127552,
          -23016.734123311006,
          321.93625915024677,
          163.7747165209039,
          359.6370606421988,
          2241.004352198408,
          1290.8626279576943,
          6412.890733137461,
          -417.00674785676176,
          -2056.76712669255,
          3950.289241237693,
          1553.608494540073,
          -18214.514647545908,
          241.84904996126988,
          160.65163825893694,
          9104.362242780882,
          -66299.3018243214,
          -1030.0886737383612,
          4319.274279204841,
          -140.8215390186176,
          -409.43627712335524,
          -251.66455445103566,
          -3387.688446915243,
          -583.2975666798168,
          13.903748907152135,
          692.5040095866916,
          3012.503435314866,
          388.43941254769106,
          -3262.3971529903565,
          91.8725451705759,
          -53996.55622302028,
          798.4749017589477,
          11341.320054001782,
          4971.563197536584,
          1722.8002077983515,
          213.03820294386378,
          -1078.0551312237658,
          155.12123159440216,
          -8170.7009080585485,
          310.88304199980576,
          621.4751382182312,
          -11987.38356575195,
          1622.4798840764524,
          9.423428228463308,
          955.168033106027,
          828.6798946733761,
          4547.043768773772,
          -8078.681224181955,
          640.6913793383846,
          445.6678965160695,
          178.30939640278848,
          1088.9725702197684,
          5915.427746450732,
          1555.1456636035618,
          974.8626720850598,
          121.16073833961036,
          1856.5418688272348,
          -11660.90491625556,
          2875.091885393671,
          1675.1203287394674,
          -1056.3623641778959,
          513.3883195839044,
          1814.4879127411023,
          10781.992914873641,
          1240.8998418860301,
          -4479.712476073728,
          -226.01498445977603,
          -14.160934390260309,
          1054.2697288970776,
          653.2732115796098,
          893.3300193940813,
          12859.94672031268,
          6601.460941051169,
          182.9792573357629,
          -386.2741151765274,
          13210.293179323875,
          1948.100319433614,
          -658.1081855310586,
          -1089.760058083768,
          -10496.811814806751,
          -896.609844368093,
          280.7501515313875,
          -770.4759375859257,
          1939.0566688262502,
          197.28290419497216,
          988.761073301434,
          -5818.300048971537,
          2341.3905966696357,
          7071.116250552906,
          -183.21043833558178,
          5723.157067662312,
          2452.4418918476367,
          206.273374379678,
          -670.461253353071,
          -2441.3135774270795,
          -5034.8671737886925,
          -31217.021380284423,
          2982.1468711452144,
          920.4958019481985,
          1962.1645743726694,
          3120.807480732723,
          -140.23710769843217,
          -1241.0726521896318,
          1383.2621685446206,
          927.8384387369565,
          541.3876222177337,
          728.0026824726892,
          448.6454746497752,
          -19.972941555576995,
          -1636.4683269204938,
          -889.0256792334972,
          758.4951247842546,
          -1608.3786531470869,
          391.8257404401147,
          680.0148161329016,
          176.69607732902114,
          423.4108874962062,
          -255.44871964555114,
          -4871.593824983183,
          5159.017749457758,
          -6978.9498572189705,
          -357.9947095279558,
          -96.95935010884375,
          3029.321342013558,
          13349.518147734903,
          5645.59606031845,
          -4851.518731971471,
          -838.74935704153,
          -190.44938201085074,
          -60.52999096808435,
          1109.8075662149422,
          807.8167474038132,
          -1064.0487440269208,
          11982.346610724344,
          -518.7028305651875,
          2006.5232555975326,
          -5157.865593717457,
          543.5825632312824,
          4172.726658484255,
          5669.7971478636755,
          16.91184529849079,
          1727.8755048478774,
          -1029.8927672035716,
          2127.473121877846,
          -196.56857292335258,
          4920.107104582918,
          -2875.0223829587558,
          -149.0798430518871,
          9275.47661046645,
          228.07796661507837,
          -1512.0429579550364,
          479.50888655187646,
          264.0812455150344,
          2090.481278761833,
          2587.707320248246,
          -24032.12394163343,
          440.4602561054544,
          -802.6457220818102,
          -1262.7575821610703,
          737.5104204413601,
          755.1871570711144,
          1246.2911069663987,
          4475.860224205848,
          -20324.38758504376,
          -57.81308412163901,
          1354.0306450516046,
          442.31316981715054,
          2992.6959750574642,
          396.5683411018131,
          2487.3605433795674,
          -8.215118506733461,
          4260.5936227972925,
          -2055.202802069318,
          -1833.1104369038057,
          2948.715314754312,
          1500.6806384125757,
          4962.362658109214,
          -928.5276076540422,
          3027.8078934284677,
          86.70436269523293,
          12893.84231402116,
          120.92561886389956,
          -2262.431816228962,
          377.3517983122815,
          3862.939684295874,
          473.14767918270513,
          3179.6648423574006,
          -1050.808950290621,
          -7508.068770566038,
          -12574.559128986773,
          1911.0927787460241,
          3072.9819437916794,
          -15025.88715990311,
          -4878.218360361663,
          376.0226631073974,
          -328.8214821181153,
          3905.263224017499,
          3227.8916734195545,
          -1071.9310177968362,
          7848.395926338868,
          -481.4703345176172,
          -99.35067473534116,
          404.32010829940396,
          12.79047559212222,
          -2409.6832305087846,
          353.5738038104114,
          21147.95494312972,
          926.0342598753714,
          1541.3142064072554,
          -1831.6896765579822,
          -2352.377390161174,
          -844.3402134150792,
          231.59696244551924,
          -346.91336583177065,
          2962.635093656887,
          -7091.61157344795,
          520.3634631210375,
          5755.687112215348,
          -751.3745143515098,
          -452.2023743734884,
          -1969.6143485065304,
          4078.3802041655363,
          1779.2970955728942,
          3341.834110822254,
          -23212.293951174128,
          -12057.106255207778,
          761.8376958954359,
          728.0399471750497,
          12239.117840230909,
          1846.5880428523083,
          -204.44215400817302,
          -1235.95590468523,
          864.4433125037849,
          54.77403893244991,
          -543.4621681005635,
          741.1101639198805,
          1425.0460884465874,
          -99.79230343900872,
          -1296.7565503626556,
          -6177.945720747037,
          6946.916344054637,
          1403.476307722307,
          -3318.664015248053,
          -275.28006358946004,
          3100.1989514506386,
          1254.8403351201796,
          -500,
          784.1484272997509,
          -337.5607430918046,
          1590.9773557094923,
          204.9235842206872,
          -30.74393507798959,
          -1593.226824612575,
          601.881047181203,
          1398.4342213498717,
          9287.229803999475,
          -842.6105426723279,
          -1920.9671678568602,
          7617.228097345185,
          7250.178269330754,
          1151.618691114376,
          1277.0750042531404,
          -708.900232786734,
          -851.5083717660709,
          -16375.259218837658,
          6267.405848362883,
          4224.873138749788,
          767.9136566648986,
          1404.149911145223,
          744.9014166305369,
          -541.5381001061645,
          -390.3679465769201,
          -783.6590917336125,
          86.90352065940806,
          -2313.772104168391,
          -698.285240496356,
          -8091.22267686318,
          1757.7077202620676,
          5059.742104243862,
          -500,
          -180.06503689165135,
          10050.726178859732,
          600.0980743392911,
          1698.3916339454,
          3793.442878484013,
          -777.0027518872557,
          866.8329177449414,
          25.84465386877855,
          936.3684186774622,
          1289.4300682978283,
          -652.3954786993845,
          -1336.794585558584,
          -1888.1848945146412,
          -2155.167155724038,
          431.9509805363109,
          -2619.9571054415137,
          903.1314410922123,
          -328.10803052409506,
          -2068.833169180205,
          -3479.853219258246,
          -2844.332540042959,
          -16165.750365129876,
          -421.49286236693297,
          -602.4674798471096,
          -381.27176670840663,
          442.33829398978924,
          3725.058977239618,
          536.6945627372702,
          3983.7509978937887,
          75.66529020367989,
          306.71280722129814,
          471.6734146143317,
          -759.1277148391819,
          6625.2752603361005,
          -500,
          -1391.0300191742062,
          336.62314326787964,
          93.2856574640341,
          -1102.2240460234023,
          3203.007596832693,
          470.33739471152967,
          -274.2712601405692,
          763.224101388385,
          -442.58567540690456,
          1101.6887926576933,
          -1079.709077984171,
          -4382.384985659559,
          -1719.0452519670316,
          -6573.33737354026,
          2878.9640345333864,
          1901.5839295145747,
          439.02397929730205,
          -412.57340830156227,
          421.03350073773913,
          -202.9552170347206,
          1299.3199672562314,
          -377.0169562335759,
          1653.4040410998641,
          -1115.694370122425,
          5442.553295219484,
          -977.9412777934367,
          761.9216231272421,
          -121.92050620919002,
          -1835.9885254139735,
          -2354.0698342297756,
          -566.7988015137362,
          -708.9978853622833,
          22586.221258062877,
          -4530.67818049121,
          -396.0425213023151,
          335.74019511967765,
          1016.0096030955092,
          419.65414401202634,
          2915.02448289121,
          -2698.1978207319626,
          1117.7374739281577,
          4153.707887672812,
          1903.380925571647,
          1033.189281747509,
          -355.3318553016063,
          678.254268353392,
          1439.6563712749125,
          -4840.957707915615,
          1836.2120691226637,
          581.0261921317897,
          -503.2126171507598,
          -1938.080160518436,
          7279.057129974946,
          670.6003911902599,
          546.9766924049304,
          3098.039296238436,
          -4412.85833048627,
          -10845.966712321164,
          -53.9092063835576,
          -2887.7772071577274,
          4398.18900754344,
          579.2370961629131,
          -2951.530436723913,
          -8162.752205755249,
          -9828.102051235643,
          -771.572272195408,
          1028.30535193573,
          17531.66470771731,
          2784.338926458371,
          5445.001531733826,
          -636.4533256425075,
          -1156.446913906686,
          -1105.7574808408717,
          -2692.7117101158165,
          233.9864534651333,
          -813.2978715155755,
          -56.92377383241046,
          8121.771282156995,
          888.0972327301024,
          -500,
          -917.4064790348189,
          2038.5077133633868,
          4093.4367389451036,
          -118.18562870474761,
          -58.23959313471619,
          1421.2712973869939,
          434.94752592310715,
          1334.3252601623308,
          -6335.814976665475,
          2317.750973269536,
          -1767.5810045503358,
          10674.886512594112,
          837.9399106138962,
          623.0744330484176,
          109.77449929979048,
          4678.663967193588,
          -434.029963034096,
          116.35838409372718,
          2412.8893357233756,
          1733.3829502444491,
          -500,
          -500,
          -5023.0766646880675,
          1115.4103157505615,
          3284.4008869856034,
          560.3105388357262,
          -416.90706253888493,
          5510.39246842339,
          514.2025421418184,
          106.58170018042529,
          13876.087649652683,
          8139.850016877892,
          11181.971357977585,
          3488.5470362340056,
          -4041.790148005224,
          501.6821512730203,
          6815.845981191338,
          162.5897883912462,
          -298.563948884957,
          -1065.5616528731352,
          -317.50424016303816,
          296.38424434774925,
          1045.2347249467584,
          1841.1029756527569,
          -13129.51101158437,
          1449.657810715079,
          -1565.111407333262,
          1809.7675974126705,
          158.20325438517511,
          -2689.4606772024335,
          1518.5172931598208,
          582.2562689747524,
          -12812.06495305695,
          4896.797411281936,
          -837.3106079939289,
          -13464.404312309485,
          2043.6711577593524,
          -1652.1276471725869,
          -4983.403689388029,
          -2663.8657143396704,
          108.5913036522121,
          7099.872622914641,
          -15966.208630989622,
          23365.81907141338,
          -695.0690635712094,
          1121.673383482479,
          -471.02854227167285,
          2001.7409401134137,
          -3339.997389708158,
          4895.585481268097,
          1656.994301212444,
          -307.332933912203,
          1057.6148128041445,
          593.4369524005779,
          -173.17165624826885,
          -682.8362929817831,
          3715.061293503306,
          344.30675803416307,
          2838.0844505556033,
          -7276.474906077776,
          -861.13467692922,
          -967.3535856888425,
          3671.164472671988,
          -1030.906556554749,
          -1567.7412555556766,
          11.28588440169915,
          18205.207694065175,
          7704.183902442459,
          1634.8118115439647,
          -2179.25566223448,
          590.6246929305573,
          4280.280328033785,
          -2230.1608067001653,
          436.89155077697615,
          957.6031462225319,
          -1468.3855904398933,
          371.45306739090495,
          10819.421781161289,
          333.431857998861,
          2352.2383395012967,
          -34.98695500701888,
          -11874.632939923238,
          1603.8148905203925,
          472.0349023496028,
          -990.0951322116198,
          -433.36622591747164,
          2009.293196827678,
          1545.5378607404587,
          -903.9354784854922,
          -400.48291588230495,
          691.1725949713482,
          -774.5159519166464,
          1810.353785023432,
          735.109042658315,
          -2704.747409943624,
          247.5513202664606,
          3650.4480202361265,
          -8357.725906073987,
          1581.489855841679,
          -68881.92756272395,
          -4439.984997223046,
          -5791.026973360102,
          -19555.83839034919,
          1697.5462579736704,
          1203.7482237122522,
          -46840.02980421111,
          5062.036725086611,
          -404.8135737018306,
          -336.21687029055647,
          -86.83031967890554,
          -118.35566497596119,
          -583.3055574476921,
          1038.5087548161464,
          1977.3408989378013,
          3033.711371464815,
          7764.221729862074,
          -981.9515619929316,
          -6965.991026777465,
          -79.56753509060218,
          -455.47811928950114,
          -6870.7151399831155,
          726.3920592835107,
          443.16374228341374,
          884.5355321777461,
          -18.81664667176983,
          -2976.90821407811,
          74.12871724510512,
          -167.45053221770718,
          1463.3680921008327,
          -447.92733076821196,
          -208.61128946992085,
          2416.229507977342,
          456.2070737748745,
          2624.395771444306,
          -5160.577332753406,
          -1143.9185091416584,
          -10155.633523940058,
          -1006.6291376998051,
          697.5009299584062,
          2394.4782921905426,
          -5479.50575019594,
          -72.83571285465769,
          2261.3973421588507,
          -562.978162131089,
          1250.5020505521043,
          63.34133495492688,
          -1813.1667867407145,
          12503.656024914875,
          -1104.8840361642597,
          3907.6570159115727,
          981.994389351283,
          6957.873796047294,
          551.6546775302704,
          -702.2203840660632,
          203.51306060761272,
          1348.5426471637006,
          -2090.929145393764,
          -506.8723471945268,
          -287.6290254020196,
          468.56053075511227,
          -4608.416951882014,
          -2779.838615891371,
          -10797.237444286653,
          798.0677044685135,
          -2084.918383182194,
          2176.959898191759,
          -3.181866854757459,
          -85.16611733694026,
          -1289.1301200632533,
          5069.011920714354,
          -1304.2422654734587,
          958.8369750318552,
          1263.13383767515,
          1051.1154123481147,
          2607.4967568630364,
          452.0257615786577,
          -3942.6683065076068,
          -9712.00254571435,
          -1313.7242690748271,
          4444.646231333336,
          -172.5826076935349,
          -2279.6140440823074,
          4404.976622523641,
          -295.86770995073823,
          -2688.3807364397762,
          6031.064406919031,
          -5848.195983614802,
          1060.0537767975347,
          259.38449835830556,
          5540.068744355231,
          4631.649922390334,
          -1730.662989899056,
          -6197.458311582703,
          -3505.6914060880654,
          1810.796530809308,
          716.7459652799298,
          -2375.782513812028,
          -4557.817611847588,
          -979.5175620162381,
          4673.158724939369,
          1121.2583709419796,
          -1485.2770712428746,
          -3164.816734955708,
          379.25329038284417,
          -1642.0387764351708,
          3263.6519266153255,
          1692.517369605186,
          -532.7862146047435,
          26408.873282839922,
          -932.146005212082,
          -4837.098685928642,
          -445.54509704783186,
          -4339.912975123363,
          -26.157772771184455,
          1330.2883039156663,
          -356.74892973645,
          -1447.8714804981337,
          -413.803874308418,
          -1044.3860516803397,
          -3447.0457420112143,
          -484.3223217084055,
          2234.755283653589,
          70.54779556189351,
          -2612.9126790431983,
          156.2799916016811,
          -5285.626699011748,
          -352.4587597876921,
          417.4349542245054,
          612.4273414851232,
          -5026.227480107876,
          -106.71344954544111,
          -2957.4629300453325,
          320.06434317714593,
          1043.528323532323,
          -750,
          -5087.924025453478,
          -1012.7537129860843,
          -29151.519423051694,
          103.58216526696197,
          845.6078823255052,
          2850.7493266482634,
          1136.109737118621,
          23440.981939879384,
          2760.5051572595257,
          -1555.802078990071,
          2607.542809388973,
          -2261.787584034789,
          2352.6059421511854,
          1486.6206478068125,
          215.5919847652949,
          -424.4940241381155,
          1134.828303372512,
          -1081.0172375291086,
          -14176.761243767105,
          6324.1584992193675,
          -1555.207786222345,
          -488.20768055469034,
          736.7514740326483,
          6918.907448755652,
          -1625.9248191439,
          6460.049798826269,
          -41.65113383125117,
          269.0027461492782,
          -39624.27693609758,
          661.6750918207522,
          1029.9359387350828,
          -2383.9161378662247,
          354.7160142217979,
          4373.117183985571,
          -2086.4698874005135,
          410.8873507074386,
          1395.8756587710095,
          -1267.9535329274986,
          9073.574141613433,
          -4960.501698770066,
          2561.8397018429023,
          4020.639507864362,
          2857.0775018048917,
          -4373.489024815369,
          13971.177694601458,
          681.0337173111261,
          1743.6083341829171,
          2277.5319860887503,
          -1162.4201743142403,
          793.5278903574574,
          861.5454639432883,
          4999.331516282375,
          389.5954843532536,
          -4416.065497091169,
          -1164.2870778739034,
          473.4404546828855,
          -5373.721941861753,
          560.9946525412524,
          45.49549353522161,
          -1800.8616213747005,
          177.57168364676,
          -13832.715870233607,
          4483.688050119104,
          670.2623291662057,
          -3210.731123850939,
          -406.8450405395291,
          1900.516707457491,
          -15220.516743528297,
          1692.075606336447,
          1369.588575100814,
          3573.877199968101,
          1126.6711078763728,
          4.339989648976825,
          13788.163259901317,
          -4265.819940791565,
          228.43201477553794,
          4142.493724021333,
          -1301.4563330351439,
          390.78274817638885,
          -3943.564301044753,
          39.710980999349886,
          3090.48860720783,
          6485.023353969074,
          -517.090745499517,
          376.3616726433652,
          1475.5490054980123,
          -1625.4512870015988,
          -1206.5852375633012,
          5110.250001836537,
          -117.93659015086848,
          36941.485367767455,
          3440.8517424355105,
          -1167.6795742525283,
          5.439306337885455,
          571.2560566721972,
          -33929.14014762547,
          272.26846458597356,
          1032.8892256852628,
          -1198.7132968873793,
          1719.0382994536176,
          6164.7584811095,
          -693.8889549489572,
          -38.34868669358684,
          4243.543157459286,
          300.4934526284351,
          -10407.232299591138,
          3419.3855970212435,
          12.753770897547497,
          -769.2267518577412,
          672.3345645731022,
          -3985.7831718143243,
          1477.9352783814556,
          2741.224328033072,
          2000.0470843613639,
          -21740.006137347053,
          787.3843241324716,
          514.5002166151498,
          -625.3944975790578,
          9831.13161579425,
          203.5557333499737,
          207.2757402604375,
          -13673.420367910494,
          -483.0068842997962,
          -1472.916340160762,
          -614.9130549168583,
          -1676.6542761313904,
          937.5556131732574,
          -9977.356289264171,
          -4933.383619794069,
          670.6674728663459,
          1716.8207399134444,
          -2931.1801726304275,
          -1136.8362581525034,
          -4587.51882951914,
          -7798.014898144671,
          1332.530615756887,
          -573.945570710106,
          5849.530447014107,
          2208.0813774287562,
          -15235.27363700886,
          -389.5231731573781,
          147.1768092383263,
          -305.0804436309227,
          3512.7419390539653,
          -690.2614295273615,
          -10134.08770975342,
          20.645879101395167,
          -705.346984229559,
          6346.547721809358,
          -2964.4532380908367,
          1360.6162822558254,
          398.6602910972979,
          -167.1810140566272,
          668.6194810447805,
          -500,
          6524.241085373127,
          -13153.187898033095,
          6790.263399312877,
          427.9463310065694,
          -23.592601689549042,
          -38346.870502426726,
          8267.415233074487,
          -35188.804269611384,
          6924.39773477828,
          8117.117837419031,
          152.0596032916783,
          946.8358137296309,
          2424.5781429397193,
          5847.881692888899,
          1630.7612179120806,
          -7028.574877635681,
          -8064.619368673284,
          -966.012936860272,
          1551.2561408471147,
          1952.8184577602678,
          1296.249662731023,
          16911.903442800947,
          80454.408515897,
          2170.6047146545206,
          3507.4941759720496,
          -4778.685607158361,
          -819.21786870508,
          405.20377681632954,
          -10857.115744776034,
          1151.664969530695,
          264.5031164605607,
          -2954.8053112902853,
          4819.496388213824,
          1332.5112825616893,
          154.5177636969429,
          9652.223397064226,
          2621.5831189664823,
          750.0339268762036,
          -1001.9296453856587,
          -278.3409182852622,
          2957.9014659936984,
          12015.161016127073,
          1178.4489727556575,
          52.6761641838043,
          -1143.4871169104022,
          -1576.5619556786478,
          191.4196974485294,
          1225.0699379455446,
          3941.038423269536,
          -4703.181095847118,
          -2880.1689051733993,
          563.3750913789395,
          -271.60824266554846,
          907.7059938169159,
          2263.2003262140042,
          885.0780073881651,
          1292.9016693825024,
          19218.098142247574,
          301.1146776736264,
          -642.1139410108069,
          2200.5942994530105,
          1117.862602894069,
          8593.718911706485,
          116.35857169124301,
          75.81134379642754,
          270.71201561359976,
          -11938.784122268793,
          8542.303640231268,
          4276.903592374803,
          178.6181804521034,
          2262.2865784107444,
          -18.369658609944963,
          -865.2656388688192,
          2931.7555842346956,
          7171.419695076787,
          3460.764101391149,
          2766.3048896978617,
          98.29221498188781,
          -904.2698439675378,
          -915.8509370488318,
          -2615.203261163041,
          -923.4177700007967,
          -458.21730318862865,
          18775.66130540731,
          6354.178178407286,
          -2169.005343067185,
          -13417.467985799296,
          -10837.379441817782,
          17408.523003660477,
          -1727.2023116145142,
          1427.7127105014174,
          62.93280474072867,
          3470.0475478514563,
          8679.958892167386,
          1605.3643314157944,
          -1270.4406886002969,
          -418.52326236354475,
          -38483.36307533618,
          -360.52405864622733,
          -185.43110735192533,
          724.7885360617338,
          -1501.4586997885776,
          3601.550342340669,
          -2360.641810793688,
          -430.6016116343601,
          750.0919475019577,
          407.53144133227465,
          517.050314021857,
          -659.5121244897841,
          -1354.7897749538315,
          646.0523773677296,
          -215.6112853420251,
          -6201.424232031,
          2661.1885963982722,
          1017.5217199546641,
          -665.244107006602,
          21829.12763890326,
          -198.20105400193324,
          1326.3651427551595,
          21448.54593619713,
          5830.185705930989,
          916.3272944015534,
          1527.3517771906882,
          -53.5393089108004,
          1188.2873926727834,
          -4551.607232710729,
          -110.55934311044803,
          -1059.6537102311154,
          -445.00395825089504,
          56998.596598418255,
          309.8293548823008,
          -3554.818192192499,
          516.0690738950211,
          -1188.4929304686157,
          -69570.68689616295,
          -3096.3406454065334,
          1585.7210184370342,
          -872.1834976831576,
          808.0159559165031,
          -950.7559391538816,
          1189.704537932476,
          -514.1763557382849,
          6187.47169663557,
          2646.4913911268814,
          2102.5823196014153,
          1506.2742559905573,
          1324.2565694454188,
          -84.60811911103968,
          4361.151174422295,
          -1149.3934254770002,
          -2564.763692006076,
          -833.5410887132311,
          3086.486399438443,
          37.432287657162306,
          1870.0276247289703,
          4264.413726298387,
          -885.4089226764568,
          53.37451504221019,
          -57.91138368411407,
          1619.92588242891,
          1669.570992243891,
          7069.274826682125,
          11608.830496753922,
          -383.2696725978276,
          -1420.0129544934825,
          -472.5539088339401,
          1565.0547917321283,
          468.13672203164333,
          -382.92298904498966,
          -11344.844413910047,
          946.6511428761296,
          452.96202837209785,
          354.8715648405887,
          4930.336217714059,
          -3123.952920032607,
          2630.184565811647,
          4005.092092717794,
          1636.8339405768784,
          5603.676815108451,
          1471.6681694071851,
          -97.84364146828102,
          1432.9233340860633,
          -4380.091252626994,
          17283.09310532664,
          1774.1887901391306,
          -54.94493467835855,
          1055.9886457738576,
          -12020.84122038601,
          -21.837523637701906,
          -29.74189538956489,
          77.03998221984284,
          -999.8599886648553,
          428.4166744142649,
          -894.4165188429095,
          30673.123766499557,
          2118.884013085506,
          -1025.1186704481015,
          -2937.505796409984,
          475.2223671103775,
          274.0968961866438,
          536.6721789958747,
          -5278.715405217456,
          -970.7861346240734,
          -5291.231124089004,
          2499.6362367568327,
          186.264339866377,
          -2364.2602570490935,
          583.9520776431091,
          -51.929613732287635,
          256.2814752603772,
          -162.95486148750206,
          3848.5135551788917,
          2735.190600905593,
          -330.6130364385599,
          12259.402087990555,
          -237.17156026099138,
          510.9646405684816,
          -6565.27584368271,
          1282.0961174640452,
          -187.24271582497795,
          3079.7711616661472,
          -7670.910440833653,
          877.7457607733722,
          -608.474687924328,
          4187.971047180123,
          -3460.475422382441,
          1709.4610098453268,
          -477.2196578233106,
          -165.11114792275697,
          61.61523916019951,
          -1346.922309277732,
          -7457.254175190486,
          1121.4957399020423,
          59578.92742184027,
          264.6229737280039,
          120.98979163205831,
          1265.3031066116127,
          3559.5346102298245,
          -31014.688482101745,
          270.5872317211688,
          -148.92994110738425,
          -1806.731674039381,
          -3633.7023158056973,
          -3850.4779154628122,
          -1298.4618637159256,
          -388.9106964406351,
          -8742.336586037165,
          -5688.331499442576,
          952.0729718172288,
          16569.18005833016,
          -2905.6226315400054,
          4048.373603658114,
          1221.106217791008,
          4254.496636888318,
          -1265.899083165537,
          -443.074507442343,
          -3898.6150954260956,
          22914.980800873876,
          1745.0740086219193,
          736.6827670520347,
          -230.10132445912137,
          422.4140662543432,
          -141.47851803940353,
          -619.709268388295,
          -1513.6260994713448,
          3083.9683962328063,
          252.3128757359715,
          -4227.222127524454,
          16606.139986530852,
          -2853.149840307644,
          -67.0542979190459,
          190.39224179850135,
          59.630446842192214,
          3222.547754174255,
          -2517.219888913399,
          -2841.8529529354564,
          502.07007321319657,
          57.10186403953867,
          242.04398452913324,
          6108.383724856929,
          -103.3101216471623,
          -374.67157649511864,
          -618.4604370489851,
          3264.0207940699815,
          -6206.9497904631135,
          746.8739520531767,
          -1532.5906224825994,
          -4471.42403233466,
          3098.2160053586813,
          984.9302243524653,
          321.4737528718322,
          1295.8867096837748,
          33593.2182464006,
          312.79384911306,
          735.9613034585545,
          2272.5190299898113,
          -864.7993970095195,
          -10755.626402177935,
          -714.5660683276153,
          -966.8934554931893,
          16926.81931223678,
          131.62920193769844,
          1033.0605399125743,
          5080.191370220069,
          -159.13097420362715,
          1179.251212637464,
          1064.5482551887878,
          1694.3087758084826,
          -456.429835870294,
          -727.8455372085991,
          542.4749856151839,
          -6356.026419720198,
          726.0934698667797,
          8318.049792388465,
          -790.3221041983743,
          -4759.45445563495,
          -1435.4497830899436,
          -124.39871959943275,
          -19354.024737016385,
          3394.1778318957113,
          2900.9742080261185,
          84.85645113425699,
          209.3089661866934,
          -1216.6330608929893,
          1355.333145220423,
          -329.77498286354296,
          -4598.49092425908,
          -5842.675244514028,
          908.3740449343086,
          2702.8858073215033,
          -2669.503514188862,
          905.0588629112658,
          7763.063259415281,
          471.34597228950724,
          -420.90535371457645,
          1252.041935755915,
          1775.7925429592142,
          -38.07143383535731,
          469.00977353981216,
          4694.568644202314,
          413.81271267963893,
          2886.2441936738614,
          55.01784110257552,
          2535.043002226006,
          175.71171673013396,
          1510.4340312831287,
          5978.086194810576,
          1022.768612197131,
          1252.956494388971,
          2997.7269964953302,
          -726.626524647636,
          2907.9017863007284,
          -6463.97694611696,
          -1792.6653355445847,
          2493.3274576236654,
          -3172.3440840400417,
          745.4739618862664,
          261.342698960907,
          6101.184105911565,
          -3368.5620881950745,
          -321.46974188236345,
          1679.0760694825417,
          3652.058892493671,
          -304.19577298703734,
          1739.9921424638778,
          629.3123610098166,
          1298.0080242582362,
          1546.3011791665886,
          6287.010211383553,
          -3058.7757511081436,
          -127.03262098987614,
          3323.3509499939646,
          -5857.738866879086,
          -376.1681036333142,
          12.784403644110625,
          396.3401415214321,
          -4207.325271444846,
          2719.1915942942387,
          1650.1496007580263,
          319.91546697672766,
          1394.346825054542,
          -2372.335003857794,
          5079.771707195388,
          6472.25638645389,
          -87.22786059501232,
          -1061.6370177511685,
          -632.8983436821272,
          1819.8906901267965,
          12268.111344668912,
          898.5603810944594,
          3332.3941946401956,
          -1555.258896671985,
          1843.1374731928918,
          1404.622816660249,
          -11455.545392590153,
          2083.6738812597123,
          25.055014246193423,
          1782.1652976594378,
          917.0166471111866,
          -2890.3451829742844,
          1945.9190803642632,
          -13396.411068674206,
          1140.6938641200031,
          -5399.483489403341,
          982.2420164874229,
          1742.6137188933526,
          143.5405710609067,
          -3577.546734715921,
          -1139.5992453369045,
          -130.81755773346225,
          -7900.841934181786,
          -9503.396118168363,
          7957.848979639068,
          3549.7258909773373,
          1891.4852438685452,
          158.098446017284,
          2534.855772033936,
          -1871.5308881598103,
          -336.4524156471797,
          3802.9491853773743,
          -16886.452748729556,
          563.4410511442043,
          6008.010113287462,
          1773.2512893116227,
          1956.2942873118982,
          -8275.617195544703,
          390.09266787620345,
          972.0270653269499,
          29995.066093240093,
          8140.248310868879,
          322.0911888823125,
          -1869.5277360954515,
          795.9887189140318,
          280.31997633491346,
          989.035497879202,
          5297.482865708644,
          1141.3912108530312,
          -2657.0431673573494,
          268.13181329778536
         ],
         "xaxis": "x",
         "yaxis": "y"
        }
       ],
       "layout": {
        "barmode": "relative",
        "legend": {
         "tracegroupgap": 0
        },
        "margin": {
         "t": 60
        },
        "template": {
         "data": {
          "bar": [
           {
            "error_x": {
             "color": "#2a3f5f"
            },
            "error_y": {
             "color": "#2a3f5f"
            },
            "marker": {
             "line": {
              "color": "#E5ECF6",
              "width": 0.5
             },
             "pattern": {
              "fillmode": "overlay",
              "size": 10,
              "solidity": 0.2
             }
            },
            "type": "bar"
           }
          ],
          "barpolar": [
           {
            "marker": {
             "line": {
              "color": "#E5ECF6",
              "width": 0.5
             },
             "pattern": {
              "fillmode": "overlay",
              "size": 10,
              "solidity": 0.2
             }
            },
            "type": "barpolar"
           }
          ],
          "carpet": [
           {
            "aaxis": {
             "endlinecolor": "#2a3f5f",
             "gridcolor": "white",
             "linecolor": "white",
             "minorgridcolor": "white",
             "startlinecolor": "#2a3f5f"
            },
            "baxis": {
             "endlinecolor": "#2a3f5f",
             "gridcolor": "white",
             "linecolor": "white",
             "minorgridcolor": "white",
             "startlinecolor": "#2a3f5f"
            },
            "type": "carpet"
           }
          ],
          "choropleth": [
           {
            "colorbar": {
             "outlinewidth": 0,
             "ticks": ""
            },
            "type": "choropleth"
           }
          ],
          "contour": [
           {
            "colorbar": {
             "outlinewidth": 0,
             "ticks": ""
            },
            "colorscale": [
             [
              0,
              "#0d0887"
             ],
             [
              0.1111111111111111,
              "#46039f"
             ],
             [
              0.2222222222222222,
              "#7201a8"
             ],
             [
              0.3333333333333333,
              "#9c179e"
             ],
             [
              0.4444444444444444,
              "#bd3786"
             ],
             [
              0.5555555555555556,
              "#d8576b"
             ],
             [
              0.6666666666666666,
              "#ed7953"
             ],
             [
              0.7777777777777778,
              "#fb9f3a"
             ],
             [
              0.8888888888888888,
              "#fdca26"
             ],
             [
              1,
              "#f0f921"
             ]
            ],
            "type": "contour"
           }
          ],
          "contourcarpet": [
           {
            "colorbar": {
             "outlinewidth": 0,
             "ticks": ""
            },
            "type": "contourcarpet"
           }
          ],
          "heatmap": [
           {
            "colorbar": {
             "outlinewidth": 0,
             "ticks": ""
            },
            "colorscale": [
             [
              0,
              "#0d0887"
             ],
             [
              0.1111111111111111,
              "#46039f"
             ],
             [
              0.2222222222222222,
              "#7201a8"
             ],
             [
              0.3333333333333333,
              "#9c179e"
             ],
             [
              0.4444444444444444,
              "#bd3786"
             ],
             [
              0.5555555555555556,
              "#d8576b"
             ],
             [
              0.6666666666666666,
              "#ed7953"
             ],
             [
              0.7777777777777778,
              "#fb9f3a"
             ],
             [
              0.8888888888888888,
              "#fdca26"
             ],
             [
              1,
              "#f0f921"
             ]
            ],
            "type": "heatmap"
           }
          ],
          "heatmapgl": [
           {
            "colorbar": {
             "outlinewidth": 0,
             "ticks": ""
            },
            "colorscale": [
             [
              0,
              "#0d0887"
             ],
             [
              0.1111111111111111,
              "#46039f"
             ],
             [
              0.2222222222222222,
              "#7201a8"
             ],
             [
              0.3333333333333333,
              "#9c179e"
             ],
             [
              0.4444444444444444,
              "#bd3786"
             ],
             [
              0.5555555555555556,
              "#d8576b"
             ],
             [
              0.6666666666666666,
              "#ed7953"
             ],
             [
              0.7777777777777778,
              "#fb9f3a"
             ],
             [
              0.8888888888888888,
              "#fdca26"
             ],
             [
              1,
              "#f0f921"
             ]
            ],
            "type": "heatmapgl"
           }
          ],
          "histogram": [
           {
            "marker": {
             "pattern": {
              "fillmode": "overlay",
              "size": 10,
              "solidity": 0.2
             }
            },
            "type": "histogram"
           }
          ],
          "histogram2d": [
           {
            "colorbar": {
             "outlinewidth": 0,
             "ticks": ""
            },
            "colorscale": [
             [
              0,
              "#0d0887"
             ],
             [
              0.1111111111111111,
              "#46039f"
             ],
             [
              0.2222222222222222,
              "#7201a8"
             ],
             [
              0.3333333333333333,
              "#9c179e"
             ],
             [
              0.4444444444444444,
              "#bd3786"
             ],
             [
              0.5555555555555556,
              "#d8576b"
             ],
             [
              0.6666666666666666,
              "#ed7953"
             ],
             [
              0.7777777777777778,
              "#fb9f3a"
             ],
             [
              0.8888888888888888,
              "#fdca26"
             ],
             [
              1,
              "#f0f921"
             ]
            ],
            "type": "histogram2d"
           }
          ],
          "histogram2dcontour": [
           {
            "colorbar": {
             "outlinewidth": 0,
             "ticks": ""
            },
            "colorscale": [
             [
              0,
              "#0d0887"
             ],
             [
              0.1111111111111111,
              "#46039f"
             ],
             [
              0.2222222222222222,
              "#7201a8"
             ],
             [
              0.3333333333333333,
              "#9c179e"
             ],
             [
              0.4444444444444444,
              "#bd3786"
             ],
             [
              0.5555555555555556,
              "#d8576b"
             ],
             [
              0.6666666666666666,
              "#ed7953"
             ],
             [
              0.7777777777777778,
              "#fb9f3a"
             ],
             [
              0.8888888888888888,
              "#fdca26"
             ],
             [
              1,
              "#f0f921"
             ]
            ],
            "type": "histogram2dcontour"
           }
          ],
          "mesh3d": [
           {
            "colorbar": {
             "outlinewidth": 0,
             "ticks": ""
            },
            "type": "mesh3d"
           }
          ],
          "parcoords": [
           {
            "line": {
             "colorbar": {
              "outlinewidth": 0,
              "ticks": ""
             }
            },
            "type": "parcoords"
           }
          ],
          "pie": [
           {
            "automargin": true,
            "type": "pie"
           }
          ],
          "scatter": [
           {
            "fillpattern": {
             "fillmode": "overlay",
             "size": 10,
             "solidity": 0.2
            },
            "type": "scatter"
           }
          ],
          "scatter3d": [
           {
            "line": {
             "colorbar": {
              "outlinewidth": 0,
              "ticks": ""
             }
            },
            "marker": {
             "colorbar": {
              "outlinewidth": 0,
              "ticks": ""
             }
            },
            "type": "scatter3d"
           }
          ],
          "scattercarpet": [
           {
            "marker": {
             "colorbar": {
              "outlinewidth": 0,
              "ticks": ""
             }
            },
            "type": "scattercarpet"
           }
          ],
          "scattergeo": [
           {
            "marker": {
             "colorbar": {
              "outlinewidth": 0,
              "ticks": ""
             }
            },
            "type": "scattergeo"
           }
          ],
          "scattergl": [
           {
            "marker": {
             "colorbar": {
              "outlinewidth": 0,
              "ticks": ""
             }
            },
            "type": "scattergl"
           }
          ],
          "scattermapbox": [
           {
            "marker": {
             "colorbar": {
              "outlinewidth": 0,
              "ticks": ""
             }
            },
            "type": "scattermapbox"
           }
          ],
          "scatterpolar": [
           {
            "marker": {
             "colorbar": {
              "outlinewidth": 0,
              "ticks": ""
             }
            },
            "type": "scatterpolar"
           }
          ],
          "scatterpolargl": [
           {
            "marker": {
             "colorbar": {
              "outlinewidth": 0,
              "ticks": ""
             }
            },
            "type": "scatterpolargl"
           }
          ],
          "scatterternary": [
           {
            "marker": {
             "colorbar": {
              "outlinewidth": 0,
              "ticks": ""
             }
            },
            "type": "scatterternary"
           }
          ],
          "surface": [
           {
            "colorbar": {
             "outlinewidth": 0,
             "ticks": ""
            },
            "colorscale": [
             [
              0,
              "#0d0887"
             ],
             [
              0.1111111111111111,
              "#46039f"
             ],
             [
              0.2222222222222222,
              "#7201a8"
             ],
             [
              0.3333333333333333,
              "#9c179e"
             ],
             [
              0.4444444444444444,
              "#bd3786"
             ],
             [
              0.5555555555555556,
              "#d8576b"
             ],
             [
              0.6666666666666666,
              "#ed7953"
             ],
             [
              0.7777777777777778,
              "#fb9f3a"
             ],
             [
              0.8888888888888888,
              "#fdca26"
             ],
             [
              1,
              "#f0f921"
             ]
            ],
            "type": "surface"
           }
          ],
          "table": [
           {
            "cells": {
             "fill": {
              "color": "#EBF0F8"
             },
             "line": {
              "color": "white"
             }
            },
            "header": {
             "fill": {
              "color": "#C8D4E3"
             },
             "line": {
              "color": "white"
             }
            },
            "type": "table"
           }
          ]
         },
         "layout": {
          "annotationdefaults": {
           "arrowcolor": "#2a3f5f",
           "arrowhead": 0,
           "arrowwidth": 1
          },
          "autotypenumbers": "strict",
          "coloraxis": {
           "colorbar": {
            "outlinewidth": 0,
            "ticks": ""
           }
          },
          "colorscale": {
           "diverging": [
            [
             0,
             "#8e0152"
            ],
            [
             0.1,
             "#c51b7d"
            ],
            [
             0.2,
             "#de77ae"
            ],
            [
             0.3,
             "#f1b6da"
            ],
            [
             0.4,
             "#fde0ef"
            ],
            [
             0.5,
             "#f7f7f7"
            ],
            [
             0.6,
             "#e6f5d0"
            ],
            [
             0.7,
             "#b8e186"
            ],
            [
             0.8,
             "#7fbc41"
            ],
            [
             0.9,
             "#4d9221"
            ],
            [
             1,
             "#276419"
            ]
           ],
           "sequential": [
            [
             0,
             "#0d0887"
            ],
            [
             0.1111111111111111,
             "#46039f"
            ],
            [
             0.2222222222222222,
             "#7201a8"
            ],
            [
             0.3333333333333333,
             "#9c179e"
            ],
            [
             0.4444444444444444,
             "#bd3786"
            ],
            [
             0.5555555555555556,
             "#d8576b"
            ],
            [
             0.6666666666666666,
             "#ed7953"
            ],
            [
             0.7777777777777778,
             "#fb9f3a"
            ],
            [
             0.8888888888888888,
             "#fdca26"
            ],
            [
             1,
             "#f0f921"
            ]
           ],
           "sequentialminus": [
            [
             0,
             "#0d0887"
            ],
            [
             0.1111111111111111,
             "#46039f"
            ],
            [
             0.2222222222222222,
             "#7201a8"
            ],
            [
             0.3333333333333333,
             "#9c179e"
            ],
            [
             0.4444444444444444,
             "#bd3786"
            ],
            [
             0.5555555555555556,
             "#d8576b"
            ],
            [
             0.6666666666666666,
             "#ed7953"
            ],
            [
             0.7777777777777778,
             "#fb9f3a"
            ],
            [
             0.8888888888888888,
             "#fdca26"
            ],
            [
             1,
             "#f0f921"
            ]
           ]
          },
          "colorway": [
           "#636efa",
           "#EF553B",
           "#00cc96",
           "#ab63fa",
           "#FFA15A",
           "#19d3f3",
           "#FF6692",
           "#B6E880",
           "#FF97FF",
           "#FECB52"
          ],
          "font": {
           "color": "#2a3f5f"
          },
          "geo": {
           "bgcolor": "white",
           "lakecolor": "white",
           "landcolor": "#E5ECF6",
           "showlakes": true,
           "showland": true,
           "subunitcolor": "white"
          },
          "hoverlabel": {
           "align": "left"
          },
          "hovermode": "closest",
          "mapbox": {
           "style": "light"
          },
          "paper_bgcolor": "white",
          "plot_bgcolor": "#E5ECF6",
          "polar": {
           "angularaxis": {
            "gridcolor": "white",
            "linecolor": "white",
            "ticks": ""
           },
           "bgcolor": "#E5ECF6",
           "radialaxis": {
            "gridcolor": "white",
            "linecolor": "white",
            "ticks": ""
           }
          },
          "scene": {
           "xaxis": {
            "backgroundcolor": "#E5ECF6",
            "gridcolor": "white",
            "gridwidth": 2,
            "linecolor": "white",
            "showbackground": true,
            "ticks": "",
            "zerolinecolor": "white"
           },
           "yaxis": {
            "backgroundcolor": "#E5ECF6",
            "gridcolor": "white",
            "gridwidth": 2,
            "linecolor": "white",
            "showbackground": true,
            "ticks": "",
            "zerolinecolor": "white"
           },
           "zaxis": {
            "backgroundcolor": "#E5ECF6",
            "gridcolor": "white",
            "gridwidth": 2,
            "linecolor": "white",
            "showbackground": true,
            "ticks": "",
            "zerolinecolor": "white"
           }
          },
          "shapedefaults": {
           "line": {
            "color": "#2a3f5f"
           }
          },
          "ternary": {
           "aaxis": {
            "gridcolor": "white",
            "linecolor": "white",
            "ticks": ""
           },
           "baxis": {
            "gridcolor": "white",
            "linecolor": "white",
            "ticks": ""
           },
           "bgcolor": "#E5ECF6",
           "caxis": {
            "gridcolor": "white",
            "linecolor": "white",
            "ticks": ""
           }
          },
          "title": {
           "x": 0.05
          },
          "xaxis": {
           "automargin": true,
           "gridcolor": "white",
           "linecolor": "white",
           "ticks": "",
           "title": {
            "standoff": 15
           },
           "zerolinecolor": "white",
           "zerolinewidth": 2
          },
          "yaxis": {
           "automargin": true,
           "gridcolor": "white",
           "linecolor": "white",
           "ticks": "",
           "title": {
            "standoff": 15
           },
           "zerolinecolor": "white",
           "zerolinewidth": 2
          }
         }
        },
        "title": {
         "text": "Histogram of Residuals"
        },
        "xaxis": {
         "anchor": "y",
         "domain": [
          0,
          1
         ],
         "title": {
          "text": "Residuals"
         }
        },
        "yaxis": {
         "anchor": "x",
         "domain": [
          0,
          1
         ],
         "title": {
          "text": "Count"
         }
        }
       }
      }
     },
     "metadata": {},
     "output_type": "display_data"
    }
   ],
   "source": [
    "plot(prediction_df[prediction_df.Model == 'LightGBM'])"
   ]
  },
  {
   "cell_type": "markdown",
   "metadata": {},
   "source": [
    "## Feature selection"
   ]
  },
  {
   "cell_type": "code",
   "execution_count": 11,
   "metadata": {},
   "outputs": [],
   "source": [
    "# Get feature importances\n",
    "importances = models['Random Forest Regressor'].feature_importances_\n",
    "\n",
    "# Match feature names (assuming you have a list of names in feature_names)\n",
    "feature_names = list(x_train.columns)  # replace with your actual feature names\n",
    "\n",
    "features = sorted(zip(feature_names, importances), key=lambda x: x[1], reverse=True)"
   ]
  },
  {
   "cell_type": "code",
   "execution_count": 12,
   "metadata": {},
   "outputs": [
    {
     "data": {
      "application/vnd.plotly.v1+json": {
       "config": {
        "plotlyServerURL": "https://plot.ly"
       },
       "data": [
        {
         "type": "bar",
         "x": [
          "Value",
          "Team",
          "Reactions",
          "League",
          "Age",
          "Composure",
          "Shot power",
          "Ball control",
          "Att. Position",
          "Nationality",
          "Curve",
          "Long passing",
          "Stamina",
          "Penalties",
          "Volleys",
          "Finishing",
          "FK Accuracy",
          "Crossing",
          "Aggression",
          "Long shots",
          "GK Handling",
          "Short passing",
          "GK Reflexes",
          "Jumping",
          "GK Kicking",
          "Position",
          "Height",
          "Strength",
          "Balance",
          "Sprint speed",
          "Heading accuracy",
          "Vision",
          "Defensive awareness",
          "Standing tackle",
          "GK Diving",
          "Weigh",
          "Dribbling",
          "GK Positioning",
          "Sliding tackle",
          "Agility",
          "Acceleration",
          "Interceptions",
          "Foot"
         ],
         "y": [
          0.6040558803286665,
          0.1709395965164424,
          0.05140772951160302,
          0.04459114562133968,
          0.019979558302567358,
          0.009477447941145441,
          0.008151167695417367,
          0.006880207609559332,
          0.00523960532813636,
          0.004090394380917129,
          0.003830401732890988,
          0.0036185087547254426,
          0.0032371585193329243,
          0.0032314274892040816,
          0.0030626090969271213,
          0.002810899715316229,
          0.002749986033982061,
          0.0026546426998832707,
          0.0026542479011161502,
          0.002593339050776137,
          0.0024431504246657802,
          0.002408195985367514,
          0.0023891335867807987,
          0.0023163757284542195,
          0.002226068175183147,
          0.002135963371960354,
          0.0020979393424755558,
          0.002056569415684819,
          0.0020454826724432434,
          0.0020175717411379983,
          0.001967512653869434,
          0.0019180464351619894,
          0.001910887776169009,
          0.001908671595506301,
          0.0019041446100973095,
          0.0018925802730542602,
          0.0018755209888858344,
          0.0018648080807345954,
          0.001836427410030325,
          0.0017943074264924186,
          0.001740165503512397,
          0.0017176328719106925,
          0.0002768897004729642
         ]
        }
       ],
       "layout": {
        "template": {
         "data": {
          "bar": [
           {
            "error_x": {
             "color": "#2a3f5f"
            },
            "error_y": {
             "color": "#2a3f5f"
            },
            "marker": {
             "line": {
              "color": "#E5ECF6",
              "width": 0.5
             },
             "pattern": {
              "fillmode": "overlay",
              "size": 10,
              "solidity": 0.2
             }
            },
            "type": "bar"
           }
          ],
          "barpolar": [
           {
            "marker": {
             "line": {
              "color": "#E5ECF6",
              "width": 0.5
             },
             "pattern": {
              "fillmode": "overlay",
              "size": 10,
              "solidity": 0.2
             }
            },
            "type": "barpolar"
           }
          ],
          "carpet": [
           {
            "aaxis": {
             "endlinecolor": "#2a3f5f",
             "gridcolor": "white",
             "linecolor": "white",
             "minorgridcolor": "white",
             "startlinecolor": "#2a3f5f"
            },
            "baxis": {
             "endlinecolor": "#2a3f5f",
             "gridcolor": "white",
             "linecolor": "white",
             "minorgridcolor": "white",
             "startlinecolor": "#2a3f5f"
            },
            "type": "carpet"
           }
          ],
          "choropleth": [
           {
            "colorbar": {
             "outlinewidth": 0,
             "ticks": ""
            },
            "type": "choropleth"
           }
          ],
          "contour": [
           {
            "colorbar": {
             "outlinewidth": 0,
             "ticks": ""
            },
            "colorscale": [
             [
              0,
              "#0d0887"
             ],
             [
              0.1111111111111111,
              "#46039f"
             ],
             [
              0.2222222222222222,
              "#7201a8"
             ],
             [
              0.3333333333333333,
              "#9c179e"
             ],
             [
              0.4444444444444444,
              "#bd3786"
             ],
             [
              0.5555555555555556,
              "#d8576b"
             ],
             [
              0.6666666666666666,
              "#ed7953"
             ],
             [
              0.7777777777777778,
              "#fb9f3a"
             ],
             [
              0.8888888888888888,
              "#fdca26"
             ],
             [
              1,
              "#f0f921"
             ]
            ],
            "type": "contour"
           }
          ],
          "contourcarpet": [
           {
            "colorbar": {
             "outlinewidth": 0,
             "ticks": ""
            },
            "type": "contourcarpet"
           }
          ],
          "heatmap": [
           {
            "colorbar": {
             "outlinewidth": 0,
             "ticks": ""
            },
            "colorscale": [
             [
              0,
              "#0d0887"
             ],
             [
              0.1111111111111111,
              "#46039f"
             ],
             [
              0.2222222222222222,
              "#7201a8"
             ],
             [
              0.3333333333333333,
              "#9c179e"
             ],
             [
              0.4444444444444444,
              "#bd3786"
             ],
             [
              0.5555555555555556,
              "#d8576b"
             ],
             [
              0.6666666666666666,
              "#ed7953"
             ],
             [
              0.7777777777777778,
              "#fb9f3a"
             ],
             [
              0.8888888888888888,
              "#fdca26"
             ],
             [
              1,
              "#f0f921"
             ]
            ],
            "type": "heatmap"
           }
          ],
          "heatmapgl": [
           {
            "colorbar": {
             "outlinewidth": 0,
             "ticks": ""
            },
            "colorscale": [
             [
              0,
              "#0d0887"
             ],
             [
              0.1111111111111111,
              "#46039f"
             ],
             [
              0.2222222222222222,
              "#7201a8"
             ],
             [
              0.3333333333333333,
              "#9c179e"
             ],
             [
              0.4444444444444444,
              "#bd3786"
             ],
             [
              0.5555555555555556,
              "#d8576b"
             ],
             [
              0.6666666666666666,
              "#ed7953"
             ],
             [
              0.7777777777777778,
              "#fb9f3a"
             ],
             [
              0.8888888888888888,
              "#fdca26"
             ],
             [
              1,
              "#f0f921"
             ]
            ],
            "type": "heatmapgl"
           }
          ],
          "histogram": [
           {
            "marker": {
             "pattern": {
              "fillmode": "overlay",
              "size": 10,
              "solidity": 0.2
             }
            },
            "type": "histogram"
           }
          ],
          "histogram2d": [
           {
            "colorbar": {
             "outlinewidth": 0,
             "ticks": ""
            },
            "colorscale": [
             [
              0,
              "#0d0887"
             ],
             [
              0.1111111111111111,
              "#46039f"
             ],
             [
              0.2222222222222222,
              "#7201a8"
             ],
             [
              0.3333333333333333,
              "#9c179e"
             ],
             [
              0.4444444444444444,
              "#bd3786"
             ],
             [
              0.5555555555555556,
              "#d8576b"
             ],
             [
              0.6666666666666666,
              "#ed7953"
             ],
             [
              0.7777777777777778,
              "#fb9f3a"
             ],
             [
              0.8888888888888888,
              "#fdca26"
             ],
             [
              1,
              "#f0f921"
             ]
            ],
            "type": "histogram2d"
           }
          ],
          "histogram2dcontour": [
           {
            "colorbar": {
             "outlinewidth": 0,
             "ticks": ""
            },
            "colorscale": [
             [
              0,
              "#0d0887"
             ],
             [
              0.1111111111111111,
              "#46039f"
             ],
             [
              0.2222222222222222,
              "#7201a8"
             ],
             [
              0.3333333333333333,
              "#9c179e"
             ],
             [
              0.4444444444444444,
              "#bd3786"
             ],
             [
              0.5555555555555556,
              "#d8576b"
             ],
             [
              0.6666666666666666,
              "#ed7953"
             ],
             [
              0.7777777777777778,
              "#fb9f3a"
             ],
             [
              0.8888888888888888,
              "#fdca26"
             ],
             [
              1,
              "#f0f921"
             ]
            ],
            "type": "histogram2dcontour"
           }
          ],
          "mesh3d": [
           {
            "colorbar": {
             "outlinewidth": 0,
             "ticks": ""
            },
            "type": "mesh3d"
           }
          ],
          "parcoords": [
           {
            "line": {
             "colorbar": {
              "outlinewidth": 0,
              "ticks": ""
             }
            },
            "type": "parcoords"
           }
          ],
          "pie": [
           {
            "automargin": true,
            "type": "pie"
           }
          ],
          "scatter": [
           {
            "fillpattern": {
             "fillmode": "overlay",
             "size": 10,
             "solidity": 0.2
            },
            "type": "scatter"
           }
          ],
          "scatter3d": [
           {
            "line": {
             "colorbar": {
              "outlinewidth": 0,
              "ticks": ""
             }
            },
            "marker": {
             "colorbar": {
              "outlinewidth": 0,
              "ticks": ""
             }
            },
            "type": "scatter3d"
           }
          ],
          "scattercarpet": [
           {
            "marker": {
             "colorbar": {
              "outlinewidth": 0,
              "ticks": ""
             }
            },
            "type": "scattercarpet"
           }
          ],
          "scattergeo": [
           {
            "marker": {
             "colorbar": {
              "outlinewidth": 0,
              "ticks": ""
             }
            },
            "type": "scattergeo"
           }
          ],
          "scattergl": [
           {
            "marker": {
             "colorbar": {
              "outlinewidth": 0,
              "ticks": ""
             }
            },
            "type": "scattergl"
           }
          ],
          "scattermapbox": [
           {
            "marker": {
             "colorbar": {
              "outlinewidth": 0,
              "ticks": ""
             }
            },
            "type": "scattermapbox"
           }
          ],
          "scatterpolar": [
           {
            "marker": {
             "colorbar": {
              "outlinewidth": 0,
              "ticks": ""
             }
            },
            "type": "scatterpolar"
           }
          ],
          "scatterpolargl": [
           {
            "marker": {
             "colorbar": {
              "outlinewidth": 0,
              "ticks": ""
             }
            },
            "type": "scatterpolargl"
           }
          ],
          "scatterternary": [
           {
            "marker": {
             "colorbar": {
              "outlinewidth": 0,
              "ticks": ""
             }
            },
            "type": "scatterternary"
           }
          ],
          "surface": [
           {
            "colorbar": {
             "outlinewidth": 0,
             "ticks": ""
            },
            "colorscale": [
             [
              0,
              "#0d0887"
             ],
             [
              0.1111111111111111,
              "#46039f"
             ],
             [
              0.2222222222222222,
              "#7201a8"
             ],
             [
              0.3333333333333333,
              "#9c179e"
             ],
             [
              0.4444444444444444,
              "#bd3786"
             ],
             [
              0.5555555555555556,
              "#d8576b"
             ],
             [
              0.6666666666666666,
              "#ed7953"
             ],
             [
              0.7777777777777778,
              "#fb9f3a"
             ],
             [
              0.8888888888888888,
              "#fdca26"
             ],
             [
              1,
              "#f0f921"
             ]
            ],
            "type": "surface"
           }
          ],
          "table": [
           {
            "cells": {
             "fill": {
              "color": "#EBF0F8"
             },
             "line": {
              "color": "white"
             }
            },
            "header": {
             "fill": {
              "color": "#C8D4E3"
             },
             "line": {
              "color": "white"
             }
            },
            "type": "table"
           }
          ]
         },
         "layout": {
          "annotationdefaults": {
           "arrowcolor": "#2a3f5f",
           "arrowhead": 0,
           "arrowwidth": 1
          },
          "autotypenumbers": "strict",
          "coloraxis": {
           "colorbar": {
            "outlinewidth": 0,
            "ticks": ""
           }
          },
          "colorscale": {
           "diverging": [
            [
             0,
             "#8e0152"
            ],
            [
             0.1,
             "#c51b7d"
            ],
            [
             0.2,
             "#de77ae"
            ],
            [
             0.3,
             "#f1b6da"
            ],
            [
             0.4,
             "#fde0ef"
            ],
            [
             0.5,
             "#f7f7f7"
            ],
            [
             0.6,
             "#e6f5d0"
            ],
            [
             0.7,
             "#b8e186"
            ],
            [
             0.8,
             "#7fbc41"
            ],
            [
             0.9,
             "#4d9221"
            ],
            [
             1,
             "#276419"
            ]
           ],
           "sequential": [
            [
             0,
             "#0d0887"
            ],
            [
             0.1111111111111111,
             "#46039f"
            ],
            [
             0.2222222222222222,
             "#7201a8"
            ],
            [
             0.3333333333333333,
             "#9c179e"
            ],
            [
             0.4444444444444444,
             "#bd3786"
            ],
            [
             0.5555555555555556,
             "#d8576b"
            ],
            [
             0.6666666666666666,
             "#ed7953"
            ],
            [
             0.7777777777777778,
             "#fb9f3a"
            ],
            [
             0.8888888888888888,
             "#fdca26"
            ],
            [
             1,
             "#f0f921"
            ]
           ],
           "sequentialminus": [
            [
             0,
             "#0d0887"
            ],
            [
             0.1111111111111111,
             "#46039f"
            ],
            [
             0.2222222222222222,
             "#7201a8"
            ],
            [
             0.3333333333333333,
             "#9c179e"
            ],
            [
             0.4444444444444444,
             "#bd3786"
            ],
            [
             0.5555555555555556,
             "#d8576b"
            ],
            [
             0.6666666666666666,
             "#ed7953"
            ],
            [
             0.7777777777777778,
             "#fb9f3a"
            ],
            [
             0.8888888888888888,
             "#fdca26"
            ],
            [
             1,
             "#f0f921"
            ]
           ]
          },
          "colorway": [
           "#636efa",
           "#EF553B",
           "#00cc96",
           "#ab63fa",
           "#FFA15A",
           "#19d3f3",
           "#FF6692",
           "#B6E880",
           "#FF97FF",
           "#FECB52"
          ],
          "font": {
           "color": "#2a3f5f"
          },
          "geo": {
           "bgcolor": "white",
           "lakecolor": "white",
           "landcolor": "#E5ECF6",
           "showlakes": true,
           "showland": true,
           "subunitcolor": "white"
          },
          "hoverlabel": {
           "align": "left"
          },
          "hovermode": "closest",
          "mapbox": {
           "style": "light"
          },
          "paper_bgcolor": "white",
          "plot_bgcolor": "#E5ECF6",
          "polar": {
           "angularaxis": {
            "gridcolor": "white",
            "linecolor": "white",
            "ticks": ""
           },
           "bgcolor": "#E5ECF6",
           "radialaxis": {
            "gridcolor": "white",
            "linecolor": "white",
            "ticks": ""
           }
          },
          "scene": {
           "xaxis": {
            "backgroundcolor": "#E5ECF6",
            "gridcolor": "white",
            "gridwidth": 2,
            "linecolor": "white",
            "showbackground": true,
            "ticks": "",
            "zerolinecolor": "white"
           },
           "yaxis": {
            "backgroundcolor": "#E5ECF6",
            "gridcolor": "white",
            "gridwidth": 2,
            "linecolor": "white",
            "showbackground": true,
            "ticks": "",
            "zerolinecolor": "white"
           },
           "zaxis": {
            "backgroundcolor": "#E5ECF6",
            "gridcolor": "white",
            "gridwidth": 2,
            "linecolor": "white",
            "showbackground": true,
            "ticks": "",
            "zerolinecolor": "white"
           }
          },
          "shapedefaults": {
           "line": {
            "color": "#2a3f5f"
           }
          },
          "ternary": {
           "aaxis": {
            "gridcolor": "white",
            "linecolor": "white",
            "ticks": ""
           },
           "baxis": {
            "gridcolor": "white",
            "linecolor": "white",
            "ticks": ""
           },
           "bgcolor": "#E5ECF6",
           "caxis": {
            "gridcolor": "white",
            "linecolor": "white",
            "ticks": ""
           }
          },
          "title": {
           "x": 0.05
          },
          "xaxis": {
           "automargin": true,
           "gridcolor": "white",
           "linecolor": "white",
           "ticks": "",
           "title": {
            "standoff": 15
           },
           "zerolinecolor": "white",
           "zerolinewidth": 2
          },
          "yaxis": {
           "automargin": true,
           "gridcolor": "white",
           "linecolor": "white",
           "ticks": "",
           "title": {
            "standoff": 15
           },
           "zerolinecolor": "white",
           "zerolinewidth": 2
          }
         }
        },
        "title": {
         "text": "Feature Importances from Random Forest Regressor"
        },
        "xaxis": {
         "tickangle": -45,
         "title": {
          "text": "Features"
         }
        },
        "yaxis": {
         "title": {
          "text": "Importance"
         }
        }
       }
      }
     },
     "metadata": {},
     "output_type": "display_data"
    }
   ],
   "source": [
    "# Sort features by importance\n",
    "sorted_indices = np.argsort(importances)[::-1]\n",
    "sorted_feature_names = [feature_names[idx] for idx in sorted_indices]\n",
    "sorted_importances = importances[sorted_indices]\n",
    "\n",
    "# Create Plotly bar chart\n",
    "fig = go.Figure([go.Bar(x=sorted_feature_names, y=sorted_importances)])\n",
    "fig.update_layout(\n",
    "    title='Feature Importances from Random Forest Regressor',\n",
    "    xaxis_title='Features',\n",
    "    yaxis_title='Importance',\n",
    "    xaxis_tickangle=-45\n",
    ")\n",
    "fig.show()"
   ]
  },
  {
   "cell_type": "markdown",
   "metadata": {},
   "source": [
    "- extract the wi of the linear LinearRegression (?) -> not needed\n",
    "- extract the feature importance of the decision tree -> OK\n",
    "- check if you need to do feature selection with ridge regression -> Done\n",
    "- light gbm -> ok\n",
    "- xgboost -> nope\n",
    "- grid search for random forest and grid search -> useless\n",
    "- Then analysis of the results\n",
    "- dashboard (2)\n",
    "- Value in function of predicted_salary\n",
    "- actual salary in function of predicted_salary"
   ]
  },
  {
   "cell_type": "markdown",
   "metadata": {},
   "source": [
    "## Results Analysis"
   ]
  },
  {
   "cell_type": "markdown",
   "metadata": {},
   "source": [
    "- distribution des salaires\n",
    "- classes de salaires (laquelle est la mieux prédite ?)\n",
    "- pourcentage d erreur (pred-true)/true if pos salary should be higher"
   ]
  },
  {
   "cell_type": "code",
   "execution_count": null,
   "metadata": {},
   "outputs": [
    {
     "data": {
      "text/plain": [
       "0.5"
      ]
     },
     "execution_count": 155,
     "metadata": {},
     "output_type": "execute_result"
    }
   ],
   "source": []
  },
  {
   "cell_type": "markdown",
   "metadata": {},
   "source": [
    "## Save datasets"
   ]
  },
  {
   "cell_type": "code",
   "execution_count": null,
   "metadata": {},
   "outputs": [],
   "source": []
  },
  {
   "cell_type": "code",
   "execution_count": null,
   "metadata": {},
   "outputs": [],
   "source": []
  }
 ],
 "metadata": {
  "kernelspec": {
   "display_name": ".venv",
   "language": "python",
   "name": "python3"
  },
  "language_info": {
   "codemirror_mode": {
    "name": "ipython",
    "version": 3
   },
   "file_extension": ".py",
   "mimetype": "text/x-python",
   "name": "python",
   "nbconvert_exporter": "python",
   "pygments_lexer": "ipython3",
   "version": "3.10.10"
  }
 },
 "nbformat": 4,
 "nbformat_minor": 2
}
