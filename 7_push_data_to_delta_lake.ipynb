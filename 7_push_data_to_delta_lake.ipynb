{
 "cells": [
  {
   "cell_type": "code",
   "execution_count": 5,
   "metadata": {},
   "outputs": [],
   "source": [
    "import re\n",
    "import pandas as pd\n",
    "from io import BytesIO\n",
    "from azure.storage.blob import BlobServiceClient\n",
    "import logging\n",
    "\n",
    "\n",
    "SILVER = 'silver/'\n",
    "GOLD = 'gold/'\n",
    "\n",
    "foot_df = pd.read_csv(f\"{SILVER}Foot.csv\")\n",
    "league_df = pd.read_csv(f\"{SILVER}League.csv\")\n",
    "nationality_df = pd.read_csv(f\"{SILVER}Nationality.csv\")\n",
    "player_df = pd.read_csv(f\"{SILVER}Player.csv\")\n",
    "player_name_df = pd.read_csv(f\"{SILVER}PlayerName.csv\")\n",
    "player_team_df = pd.read_csv(f\"{SILVER}PlayerTeam.csv\")\n",
    "position_df = pd.read_csv(f\"{SILVER}Position.csv\")\n",
    "team_df = pd.read_csv(f\"{SILVER}Team.csv\")\n",
    "team_league_df = pd.read_csv(f\"{SILVER}TeamLeague.csv\")\n",
    "\n",
    "dataset_df = pd.read_csv(f\"{GOLD}dataset.csv\")\n",
    "feature_importance_df = pd.read_csv(f\"{GOLD}FeatureImportance.csv\")\n",
    "prediction_df = pd.read_csv(f\"{GOLD}Prediction.csv\")"
   ]
  },
  {
   "cell_type": "code",
   "execution_count": 6,
   "metadata": {},
   "outputs": [],
   "source": [
    "def create_blob_client_with_connection_string(connection_string):\n",
    "    connection_string = re.sub(r'%2B', '+', connection_string)\n",
    "    blob_service_client = BlobServiceClient.from_connection_string(connection_string)\n",
    "    return blob_service_client\n",
    "\n",
    "def from_pandas_to_parquet(df):\n",
    "    parquet_file = BytesIO()\n",
    "    df.to_parquet(parquet_file, engine = 'pyarrow')\n",
    "    return parquet_file"
   ]
  },
  {
   "cell_type": "code",
   "execution_count": 7,
   "metadata": {},
   "outputs": [
    {
     "name": "stderr",
     "output_type": "stream",
     "text": [
      "INFO:__To_Azure_Blob_Storage__:Successfully created blob client\n",
      "\n",
      "INFO:__To_Azure_Blob_Storage__:Successfully got container client for player-salaries container.\n",
      "\n"
     ]
    }
   ],
   "source": [
    "logging.info('Data Uploaded to the Azure Blob Storage.')\n",
    "logger = logging.getLogger('__To_Azure_Blob_Storage__')\n",
    "logger.setLevel(logging.INFO)\n",
    "\n",
    "# Create a blob client\n",
    "connection_string = \"DefaultEndpointsProtocol=https;AccountName=storagefootanalysis;AccountKey=UHMmYUJDVHJI1IhTCy/2UXVqjoRJYw2gJTKNPQ8jL9juuD5cJeNMIYXwXbkpfSEIE3cByx%2BkQ29e%2BAStk2zvmQ==;EndpointSuffix=core.windows.net\"\n",
    "blob_service_client = create_blob_client_with_connection_string(connection_string)\n",
    "logger.info(f\"Successfully created blob client\\n\")\n",
    "\n",
    "container_name = \"player-salaries\"\n",
    "logger.info(f\"Successfully got container client for {container_name} container.\\n\")"
   ]
  },
  {
   "cell_type": "code",
   "execution_count": 8,
   "metadata": {},
   "outputs": [
    {
     "name": "stderr",
     "output_type": "stream",
     "text": [
      "INFO:__To_Azure_Blob_Storage__:Successfully uploaded dataset to player-salaries container !\n",
      "\n",
      "INFO:__To_Azure_Blob_Storage__:Successfully uploaded Foot to player-salaries container !\n",
      "\n",
      "INFO:__To_Azure_Blob_Storage__:Successfully uploaded League to player-salaries container !\n",
      "\n",
      "INFO:__To_Azure_Blob_Storage__:Successfully uploaded Nationality to player-salaries container !\n",
      "\n",
      "INFO:__To_Azure_Blob_Storage__:Successfully uploaded Player to player-salaries container !\n",
      "\n",
      "INFO:__To_Azure_Blob_Storage__:Successfully uploaded PlayerName to player-salaries container !\n",
      "\n",
      "INFO:__To_Azure_Blob_Storage__:Successfully uploaded PlayerTeam to player-salaries container !\n",
      "\n",
      "INFO:__To_Azure_Blob_Storage__:Successfully uploaded Position to player-salaries container !\n",
      "\n",
      "INFO:__To_Azure_Blob_Storage__:Successfully uploaded Team to player-salaries container !\n",
      "\n",
      "INFO:__To_Azure_Blob_Storage__:Successfully uploaded TeamLeague to player-salaries container !\n",
      "\n",
      "INFO:__To_Azure_Blob_Storage__:Successfully uploaded FeatureImportance to player-salaries container !\n",
      "\n",
      "INFO:__To_Azure_Blob_Storage__:Successfully uploaded Prediction to player-salaries container !\n",
      "\n"
     ]
    }
   ],
   "source": [
    "file_names = ['dataset', 'Foot', 'League', 'Nationality', 'Player', 'PlayerName',\n",
    "              'PlayerTeam', 'Position', 'Team', 'TeamLeague', 'FeatureImportance', 'Prediction']\n",
    "\n",
    "dataframes = [dataset_df, foot_df, league_df, nationality_df, player_df, player_name_df, player_team_df,\n",
    "              position_df, team_df, team_league_df, feature_importance_df, prediction_df]\n",
    "\n",
    "for df_name, df in zip(file_names, dataframes):\n",
    "        parquet_buffer = from_pandas_to_parquet(df)\n",
    "        blob_client = blob_service_client.get_blob_client(container=container_name, blob=f\"{df_name}.parquet\")\n",
    "        blob_client.upload_blob(parquet_buffer.getvalue(), blob_type=\"BlockBlob\", overwrite=True)\n",
    "        logger.info(f\"Successfully uploaded {df_name} to {container_name} container !\\n\")"
   ]
  },
  {
   "cell_type": "code",
   "execution_count": null,
   "metadata": {},
   "outputs": [],
   "source": []
  },
  {
   "cell_type": "code",
   "execution_count": null,
   "metadata": {},
   "outputs": [],
   "source": []
  }
 ],
 "metadata": {
  "kernelspec": {
   "display_name": ".venv",
   "language": "python",
   "name": "python3"
  },
  "language_info": {
   "codemirror_mode": {
    "name": "ipython",
    "version": 3
   },
   "file_extension": ".py",
   "mimetype": "text/x-python",
   "name": "python",
   "nbconvert_exporter": "python",
   "pygments_lexer": "ipython3",
   "version": "3.10.10"
  }
 },
 "nbformat": 4,
 "nbformat_minor": 2
}
