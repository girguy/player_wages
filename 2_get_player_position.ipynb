{
 "cells": [
  {
   "cell_type": "code",
   "execution_count": 137,
   "metadata": {},
   "outputs": [],
   "source": [
    "import requests\n",
    "import time\n",
    "import re\n",
    "import polars as pl\n",
    "from bs4 import BeautifulSoup\n",
    "from urllib.parse import urlencode, urlunparse\n",
    "from thefuzz import process"
   ]
  },
  {
   "cell_type": "code",
   "execution_count": 165,
   "metadata": {},
   "outputs": [],
   "source": [
    "def get_formated_url(path):\n",
    "    # Define the base components of the URL\n",
    "    scheme = 'https'\n",
    "    netloc = 'transfermarkt-api.vercel.app'\n",
    "    params = ''\n",
    "    query = urlencode({'page_number': 1})  # Converts parameters to URL-encoded string\n",
    "    fragment = ''\n",
    "    # Construct the URL\n",
    "    url = urlunparse((scheme, netloc, path, params, query, fragment))\n",
    "\n",
    "    return url\n",
    "\n",
    "def get_transfertmarkt_team_id(team_name, team_id):\n",
    "    path = f\"/clubs/search/{team_name}\"  # Spaces will be encoded automatically\n",
    "    url = get_formated_url(path)\n",
    "\n",
    "    # Set the headers\n",
    "    headers = {\n",
    "        'accept': 'application/json'\n",
    "    }\n",
    "\n",
    "    # Make the GET request\n",
    "    response = requests.get(url, headers=headers)\n",
    "\n",
    "    # Check if the request was successful\n",
    "    if response.status_code == 200:\n",
    "        # Convert the response to JSON\n",
    "        if response.json():\n",
    "            data = response.json()\n",
    "            return {'TeamName': team_name, 'TeamId': team_id, 'results': data}\n",
    "        else:\n",
    "            return {'TeamName': team_name, 'TeamId': team_id, 'results': None}\n",
    "    else:\n",
    "        print(f\"Failed to retrieve data: {response.status_code}\")\n",
    "        return {'TeamName': team_name, 'TeamId': team_id, 'results': None}\n",
    "\n",
    "\n",
    "def get_players_from_team(t_team_id):\n",
    "    # Define the URL and parameters\n",
    "    path = f\"/clubs/{t_team_id}/players\"\n",
    "    url = get_formated_url(path)\n",
    "\n",
    "    # Set the headers\n",
    "    headers = {\n",
    "        'accept': 'application/json'\n",
    "    }\n",
    "\n",
    "    # Make the GET request\n",
    "    response = requests.get(url, headers=headers)\n",
    "\n",
    "    # Check if the request was successful\n",
    "    if response.status_code == 200:\n",
    "        # Convert the response to JSON\n",
    "        return response.json()\n",
    "    else:\n",
    "        print(f\"Failed to retrieve data: {response.status_code}\")\n",
    "        return None\n",
    "\n",
    "def scrap_team_transfertmarkt(team_id):\n",
    "    headers = {\n",
    "        'User-Agent': 'Mozilla/5.0 (X11; Linux x86_64) AppleWebKit/537.36 (KHTML, like Gecko) Chrome/47.0.2526.106 Safari/537.36'\n",
    "    }\n",
    "\n",
    "    try:\n",
    "        page = f\"https://www.transfermarkt.fr/elfenbeinkuste/kader/verein/{team_id}\"\n",
    "        response = requests.get(page, headers=headers)\n",
    "        response.raise_for_status()  # Raise an error for bad status codes\n",
    "        pageSoup = BeautifulSoup(response.content, 'html.parser')\n",
    "\n",
    "        players_info = extract_players_information(pageSoup)\n",
    "        \n",
    "        return players_info\n",
    "\n",
    "    except requests.RequestException as e:\n",
    "        print(f\"Request error: {e}\")\n",
    "        return None\n",
    "    except ValueError as e:\n",
    "        print(f\"Request error: {e}\")\n",
    "        return None\n",
    "\n",
    "def extract_players_information(pageSoup):\n",
    "    # Initialize an empty list to store player information\n",
    "    players_info = []\n",
    "\n",
    "    # Iterate through each player entry in the HTML\n",
    "    for row in pageSoup.find_all('tr', {'class': ['even', 'odd']}):\n",
    "        player_link = row.find('a', href=re.compile(r'/profil/spieler/'))\n",
    "        player_name = player_link.text.strip()\n",
    "        position = row.find_all('td')[4].text.strip()  # Adjust index based on HTML structure\n",
    "\n",
    "        players_info.append({\n",
    "            'PlayerName': player_name,\n",
    "            'PositionName': position\n",
    "        })\n",
    "\n",
    "    return players_info"
   ]
  },
  {
   "cell_type": "markdown",
   "metadata": {},
   "source": [
    "## Read player table"
   ]
  },
  {
   "cell_type": "code",
   "execution_count": 172,
   "metadata": {},
   "outputs": [],
   "source": [
    "player_df = pl.read_csv('raw\\Player.csv', separator=';')\n",
    "player_team_df = pl.read_csv('raw\\PlayerTeam.csv', separator=';')\n",
    "\n",
    "player_to_process = player_df \\\n",
    "    .select(['PlayerId', 'PlayerName', 'Position']) \\\n",
    "    .filter(pl.col(\"Position\").is_in(['SUB', 'RES'])) \\\n",
    "    .join(player_team_df, on='PlayerId', how='left') \\\n",
    "    .drop('Position', 'Link') \n",
    "\n",
    "teams = player_to_process[['Team', 'TeamId']].unique()"
   ]
  },
  {
   "cell_type": "markdown",
   "metadata": {},
   "source": [
    "## Get teams of player with no position"
   ]
  },
  {
   "cell_type": "code",
   "execution_count": 173,
   "metadata": {},
   "outputs": [
    {
     "name": "stdout",
     "output_type": "stream",
     "text": [
      "Number of teams done : 10\n",
      "Number of teams done : 20\n",
      "Number of teams done : 30\n",
      "Number of teams done : 40\n",
      "Number of teams done : 50\n",
      "Number of teams done : 60\n",
      "Number of teams done : 70\n",
      "Number of teams done : 80\n",
      "Number of teams done : 90\n",
      "Number of teams done : 100\n",
      "Number of teams done : 110\n",
      "Number of teams done : 120\n",
      "Number of teams done : 130\n",
      "Number of teams done : 140\n",
      "Number of teams done : 150\n",
      "Number of teams done : 160\n",
      "Number of teams done : 170\n",
      "Number of teams done : 180\n",
      "Number of teams done : 190\n",
      "Number of teams done : 200\n",
      "Number of teams done : 210\n",
      "Number of teams done : 220\n",
      "Number of teams done : 230\n",
      "Number of teams done : 240\n",
      "Number of teams done : 250\n",
      "Number of teams done : 260\n",
      "Number of teams done : 270\n"
     ]
    }
   ],
   "source": [
    "team_info = []\n",
    "nb_teams_done = 0 \n",
    "for row in teams.iter_rows():\n",
    "    team_name = row[0]\n",
    "    team_id = row[1]\n",
    "    res = get_transfertmarkt_team_id(team_name, team_id)['results']['results']\n",
    "    if res:\n",
    "        team_transfertmarkt_id = res[0]['id']\n",
    "        team_info.append([team_name, team_id, team_transfertmarkt_id])\n",
    "    else:\n",
    "        team_info.append([team_name, team_id, None])\n",
    "\n",
    "    nb_teams_done = nb_teams_done + 1\n",
    "    if nb_teams_done %10 == 0:\n",
    "        print(f\"Number of teams done : {nb_teams_done}\")"
   ]
  },
  {
   "cell_type": "code",
   "execution_count": 174,
   "metadata": {},
   "outputs": [
    {
     "data": {
      "text/html": [
       "<div><style>\n",
       ".dataframe > thead > tr,\n",
       ".dataframe > tbody > tr {\n",
       "  text-align: right;\n",
       "  white-space: pre-wrap;\n",
       "}\n",
       "</style>\n",
       "<small>shape: (5, 3)</small><table border=\"1\" class=\"dataframe\"><thead><tr><th>TeamName</th><th>TeamId</th><th>TransfertmarktId</th></tr><tr><td>str</td><td>i64</td><td>str</td></tr></thead><tbody><tr><td>&quot;Swansea City&quot;</td><td>17</td><td>&quot;2288&quot;</td></tr><tr><td>&quot;Chelsea&quot;</td><td>203</td><td>&quot;631&quot;</td></tr><tr><td>&quot;Schalke 04&quot;</td><td>162</td><td>&quot;33&quot;</td></tr><tr><td>&quot;Aston Villa&quot;</td><td>198</td><td>&quot;405&quot;</td></tr><tr><td>&quot;Samsunspor&quot;</td><td>261</td><td>&quot;152&quot;</td></tr></tbody></table></div>"
      ],
      "text/plain": [
       "shape: (5, 3)\n",
       "┌──────────────┬────────┬──────────────────┐\n",
       "│ TeamName     ┆ TeamId ┆ TransfertmarktId │\n",
       "│ ---          ┆ ---    ┆ ---              │\n",
       "│ str          ┆ i64    ┆ str              │\n",
       "╞══════════════╪════════╪══════════════════╡\n",
       "│ Swansea City ┆ 17     ┆ 2288             │\n",
       "│ Chelsea      ┆ 203    ┆ 631              │\n",
       "│ Schalke 04   ┆ 162    ┆ 33               │\n",
       "│ Aston Villa  ┆ 198    ┆ 405              │\n",
       "│ Samsunspor   ┆ 261    ┆ 152              │\n",
       "└──────────────┴────────┴──────────────────┘"
      ]
     },
     "execution_count": 174,
     "metadata": {},
     "output_type": "execute_result"
    }
   ],
   "source": [
    "team_info = pl.DataFrame(team_info, schema = ['TeamName', 'TeamId', 'TransfertmarktId'])\n",
    "team_info.head()"
   ]
  },
  {
   "cell_type": "code",
   "execution_count": 175,
   "metadata": {},
   "outputs": [
    {
     "name": "stdout",
     "output_type": "stream",
     "text": [
      "shape: (7, 3)\n",
      "┌────────────────────┬────────┬──────────────────┐\n",
      "│ TeamName           ┆ TeamId ┆ TransfertmarktId │\n",
      "│ ---                ┆ ---    ┆ ---              │\n",
      "│ str                ┆ i64    ┆ str              │\n",
      "╞════════════════════╪════════╪══════════════════╡\n",
      "│ Bari 1908          ┆ 223    ┆ null             │\n",
      "│ VfL Bochum 1848    ┆ 137    ┆ null             │\n",
      "│ Gaziantep F.K.     ┆ 264    ┆ null             │\n",
      "│ Sporting Charleroi ┆ 148    ┆ null             │\n",
      "│ Sporting Braga     ┆ 238    ┆ null             │\n",
      "│ Quevilly Rouen     ┆ 38     ┆ null             │\n",
      "│ Villarreal II      ┆ 80     ┆ null             │\n",
      "└────────────────────┴────────┴──────────────────┘\n"
     ]
    }
   ],
   "source": [
    "print(team_info.filter(pl.col(\"TransfertmarktId\").is_null()))"
   ]
  },
  {
   "cell_type": "markdown",
   "metadata": {},
   "source": [
    "### Manual correction"
   ]
  },
  {
   "cell_type": "code",
   "execution_count": 176,
   "metadata": {},
   "outputs": [
    {
     "data": {
      "text/html": [
       "<div><style>\n",
       ".dataframe > thead > tr,\n",
       ".dataframe > tbody > tr {\n",
       "  text-align: right;\n",
       "  white-space: pre-wrap;\n",
       "}\n",
       "</style>\n",
       "<small>shape: (7, 3)</small><table border=\"1\" class=\"dataframe\"><thead><tr><th>TeamName</th><th>TeamId</th><th>TransfertmarktId</th></tr><tr><td>str</td><td>i64</td><td>str</td></tr></thead><tbody><tr><td>&quot;Bari 1908&quot;</td><td>223</td><td>&quot;332&quot;</td></tr><tr><td>&quot;VfL Bochum 184…</td><td>137</td><td>&quot;80&quot;</td></tr><tr><td>&quot;Gaziantep F.K.…</td><td>264</td><td>&quot;2832&quot;</td></tr><tr><td>&quot;Sporting Charl…</td><td>148</td><td>&quot;172&quot;</td></tr><tr><td>&quot;Sporting Braga…</td><td>238</td><td>&quot;1075&quot;</td></tr><tr><td>&quot;Quevilly Rouen…</td><td>38</td><td>&quot;7124&quot;</td></tr><tr><td>&quot;Villarreal II&quot;</td><td>80</td><td>&quot;11972&quot;</td></tr></tbody></table></div>"
      ],
      "text/plain": [
       "shape: (7, 3)\n",
       "┌────────────────────┬────────┬──────────────────┐\n",
       "│ TeamName           ┆ TeamId ┆ TransfertmarktId │\n",
       "│ ---                ┆ ---    ┆ ---              │\n",
       "│ str                ┆ i64    ┆ str              │\n",
       "╞════════════════════╪════════╪══════════════════╡\n",
       "│ Bari 1908          ┆ 223    ┆ 332              │\n",
       "│ VfL Bochum 1848    ┆ 137    ┆ 80               │\n",
       "│ Gaziantep F.K.     ┆ 264    ┆ 2832             │\n",
       "│ Sporting Charleroi ┆ 148    ┆ 172              │\n",
       "│ Sporting Braga     ┆ 238    ┆ 1075             │\n",
       "│ Quevilly Rouen     ┆ 38     ┆ 7124             │\n",
       "│ Villarreal II      ┆ 80     ┆ 11972            │\n",
       "└────────────────────┴────────┴──────────────────┘"
      ]
     },
     "execution_count": 176,
     "metadata": {},
     "output_type": "execute_result"
    }
   ],
   "source": [
    "team_info = team_info.with_columns(\n",
    "    pl.when(pl.col(\"TeamName\") == 'Gaziantep F.K.').then(2832) \\\n",
    "    .when(pl.col(\"TeamName\") == 'Villarreal II').then(11972) \\\n",
    "    .when(pl.col(\"TeamName\") == 'Bari 1908').then(332) \\\n",
    "    .when(pl.col(\"TeamName\") == 'VfL Bochum 1848').then(80) \\\n",
    "    .when(pl.col(\"TeamName\") == 'Quevilly Rouen').then(7124) \\\n",
    "    .when(pl.col(\"TeamName\") == 'Sporting Braga').then(1075) \\\n",
    "    .when(pl.col(\"TeamName\") == 'Sporting Charleroi').then(172) \\\n",
    "    .otherwise(pl.col(\"TransfertmarktId\"))\n",
    "    .alias(\"TransfertmarktId\")\n",
    ")\n",
    "\n",
    "team_info.filter(pl.col(\"TransfertmarktId\").is_in(['2832', '11972', '332', '80', '7124', '1075', '172']))"
   ]
  },
  {
   "cell_type": "markdown",
   "metadata": {},
   "source": [
    "## Extract correct players from team"
   ]
  },
  {
   "cell_type": "code",
   "execution_count": null,
   "metadata": {},
   "outputs": [],
   "source": [
    "players_list = []\n",
    "\n",
    "# Initialize the index\n",
    "index = 0\n",
    "\n",
    "# Convert team_info to a list of rows if it's not already in that format\n",
    "team_rows = list(team_info.iter_rows())\n",
    "\n",
    "# Start the while loop\n",
    "while index < len(team_rows):\n",
    "    row = team_rows[index]\n",
    "    t_team_id = row[2]\n",
    "    players_info = None\n",
    "\n",
    "    # Attempt to get players info from the team\n",
    "    while players_info is None:\n",
    "        players_info = scrap_team_transfertmarkt(t_team_id)\n",
    "\n",
    "        # Check if players_info is not None before processing\n",
    "        if players_info:\n",
    "            players_list.append(pl.DataFrame(players_info))\n",
    "        else:\n",
    "            time.sleep(20) # seconds\n",
    "\n",
    "    # Increment the index to move to the next team\n",
    "    index += 1\n",
    "    if index %10 == 0:\n",
    "        print(f\"Number of teams done : {index}\")\n",
    "    "
   ]
  },
  {
   "cell_type": "code",
   "execution_count": 296,
   "metadata": {},
   "outputs": [
    {
     "data": {
      "text/plain": [
       "(7427, 2)"
      ]
     },
     "execution_count": 296,
     "metadata": {},
     "output_type": "execute_result"
    }
   ],
   "source": [
    "full_players_df = pl.concat(players_list)\n",
    "full_players_df.shape"
   ]
  },
  {
   "cell_type": "code",
   "execution_count": 297,
   "metadata": {},
   "outputs": [],
   "source": [
    "players_without_positions = player_to_process['PlayerName'].to_list()"
   ]
  },
  {
   "cell_type": "code",
   "execution_count": 289,
   "metadata": {},
   "outputs": [
    {
     "name": "stdout",
     "output_type": "stream",
     "text": [
      "Number of players with positions : 7427\n",
      "Number of players without positions : 4853\n"
     ]
    }
   ],
   "source": [
    "print(f\"Number of players with positions : {full_players_df.shape[0]}\")\n",
    "print(f\"Number of players without positions : {len(players_without_positions)}\")"
   ]
  },
  {
   "cell_type": "code",
   "execution_count": 298,
   "metadata": {},
   "outputs": [],
   "source": [
    "# Create a dictionary to hold the best matches for each player to process\n",
    "matches = []\n",
    "\n",
    "while len(players_without_positions) > 0:\n",
    "    players_with_positions = full_players_df['PlayerName'].to_list()\n",
    "    # get the first name on that list and then delete it from this list\n",
    "    player = players_without_positions.pop()\n",
    "    # find the match\n",
    "    player_found = process.extractOne(player, players_with_positions)[0]\n",
    "    # extract the first position\n",
    "    first_position = full_players_df.filter(pl.col(\"PlayerName\") == player_found)[\"PositionName\"][0]\n",
    "    # filter out every rows having this name\n",
    "    full_players_df = full_players_df.filter(~(pl.col(\"PlayerName\") == player_found))\n",
    "    # keep results\n",
    "    matches.append([player, first_position])"
   ]
  },
  {
   "cell_type": "code",
   "execution_count": 299,
   "metadata": {},
   "outputs": [
    {
     "data": {
      "text/plain": [
       "(4853, 2)"
      ]
     },
     "execution_count": 299,
     "metadata": {},
     "output_type": "execute_result"
    }
   ],
   "source": [
    "matche_df = pl.DataFrame(matches, schema=['PlayerName', 'NewPosition'])\n",
    "matche_df.shape"
   ]
  },
  {
   "cell_type": "code",
   "execution_count": 300,
   "metadata": {},
   "outputs": [
    {
     "data": {
      "text/html": [
       "<div><style>\n",
       ".dataframe > thead > tr,\n",
       ".dataframe > tbody > tr {\n",
       "  text-align: right;\n",
       "  white-space: pre-wrap;\n",
       "}\n",
       "</style>\n",
       "<small>shape: (5, 3)</small><table border=\"1\" class=\"dataframe\"><thead><tr><th>PlayerName</th><th>NewPosition</th><th>PlayerId</th></tr><tr><td>str</td><td>str</td><td>i64</td></tr></thead><tbody><tr><td>&quot;Eray Korkmaz&quot;</td><td>&quot;Arrière droit&quot;</td><td>7800</td></tr><tr><td>&quot;Rayane Aabid&quot;</td><td>&quot;Milieu central…</td><td>7694</td></tr><tr><td>&quot;Renat Oleq Oğl…</td><td>&quot;Avant-centre&quot;</td><td>7695</td></tr><tr><td>&quot;Mehdi Boudjema…</td><td>&quot;Milieu central…</td><td>7697</td></tr><tr><td>&quot;Kerim Alıcı&quot;</td><td>&quot;Arrière droit&quot;</td><td>7696</td></tr></tbody></table></div>"
      ],
      "text/plain": [
       "shape: (5, 3)\n",
       "┌─────────────────────────┬────────────────┬──────────┐\n",
       "│ PlayerName              ┆ NewPosition    ┆ PlayerId │\n",
       "│ ---                     ┆ ---            ┆ ---      │\n",
       "│ str                     ┆ str            ┆ i64      │\n",
       "╞═════════════════════════╪════════════════╪══════════╡\n",
       "│ Eray Korkmaz            ┆ Arrière droit  ┆ 7800     │\n",
       "│ Rayane Aabid            ┆ Milieu central ┆ 7694     │\n",
       "│ Renat Oleq Oğlu Dadaşov ┆ Avant-centre   ┆ 7695     │\n",
       "│ Mehdi Boudjemaa         ┆ Milieu central ┆ 7697     │\n",
       "│ Kerim Alıcı             ┆ Arrière droit  ┆ 7696     │\n",
       "└─────────────────────────┴────────────────┴──────────┘"
      ]
     },
     "execution_count": 300,
     "metadata": {},
     "output_type": "execute_result"
    }
   ],
   "source": [
    "player_name_df = pl.read_csv('silver\\PlayerName.csv')\n",
    "\n",
    "matche_df = matche_df.join(player_name_df, on='PlayerName', how='left')\n",
    "matche_df.head()"
   ]
  },
  {
   "cell_type": "code",
   "execution_count": 303,
   "metadata": {},
   "outputs": [],
   "source": [
    "# Perform a left join to match and merge the new positions with the existing ones\n",
    "df_joined = player_df.join(matche_df, on='PlayerId', how='left')"
   ]
  },
  {
   "cell_type": "code",
   "execution_count": 306,
   "metadata": {},
   "outputs": [],
   "source": [
    "# Update the 'Position' only if 'NewPosition' is not null; otherwise, keep the original 'Position'\n",
    "df_updated = df_joined.with_columns(\n",
    "    pl.when(pl.col(\"NewPosition\").is_null())\n",
    "    .then(pl.col(\"Position\"))\n",
    "    .otherwise(pl.col(\"NewPosition\"))\n",
    "    .alias(\"UpdatedPosition\")\n",
    ")"
   ]
  },
  {
   "cell_type": "code",
   "execution_count": 307,
   "metadata": {},
   "outputs": [],
   "source": [
    "df_final = df_updated.drop([\"Position\", \"NewPosition\"]).rename({\"UpdatedPosition\": \"Position\"})"
   ]
  },
  {
   "cell_type": "markdown",
   "metadata": {},
   "source": [
    "## Save data"
   ]
  },
  {
   "cell_type": "code",
   "execution_count": 310,
   "metadata": {},
   "outputs": [],
   "source": [
    "df_final.write_csv('raw/Player.csv', separator=\";\")"
   ]
  }
 ],
 "metadata": {
  "kernelspec": {
   "display_name": ".venv",
   "language": "python",
   "name": "python3"
  },
  "language_info": {
   "codemirror_mode": {
    "name": "ipython",
    "version": 3
   },
   "file_extension": ".py",
   "mimetype": "text/x-python",
   "name": "python",
   "nbconvert_exporter": "python",
   "pygments_lexer": "ipython3",
   "version": "3.10.10"
  }
 },
 "nbformat": 4,
 "nbformat_minor": 2
}
