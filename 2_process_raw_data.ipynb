{
 "cells": [
  {
   "cell_type": "code",
   "execution_count": 243,
   "metadata": {},
   "outputs": [],
   "source": [
    "import polars as pl\n",
    "import re"
   ]
  },
  {
   "cell_type": "code",
   "execution_count": 244,
   "metadata": {},
   "outputs": [],
   "source": [
    "def create_ref_table(full_table, column_name):\n",
    "    df = full_table \\\n",
    "        .select(column_name) \\\n",
    "        .unique()\n",
    "\n",
    "    df = df \\\n",
    "        .with_columns(\n",
    "            pl.Series(column_name+'Id', list(range(1, len(df) + 1)))\n",
    "        )\n",
    "\n",
    "    full_table = full_table \\\n",
    "        .join(df, on=column_name, how='left') \\\n",
    "        .drop(column_name)\n",
    "    \n",
    "    return df, full_table\n",
    "\n",
    "# Define a function to convert the monetary values to integers\n",
    "def convert_to_int(value):\n",
    "    if 'M' in value:\n",
    "        # Remove the '€' symbol and 'M', then convert to float and multiply by 1,000,000\n",
    "        return int(float(value.replace('€', '').replace('M', '')) * 1000000)\n",
    "    elif 'K' in value:\n",
    "        # Remove the '€' symbol and 'K', then convert to float and multiply by 1,000\n",
    "        return int(float(value.replace('€', '').replace('K', '')) * 1000)\n",
    "    else:\n",
    "        # Just remove the '€' symbol and convert to int\n",
    "        return int(value.replace('€', ''))"
   ]
  },
  {
   "cell_type": "markdown",
   "metadata": {},
   "source": [
    "#### Read data"
   ]
  },
  {
   "cell_type": "code",
   "execution_count": 245,
   "metadata": {},
   "outputs": [],
   "source": [
    "player_df = pl.read_csv('raw\\Player.csv', separator=';')\n",
    "player_team_df = pl.read_csv('raw\\PlayerTeam.csv', separator=';')\n",
    "team_df = pl.read_csv('raw\\Team.csv', separator=';')"
   ]
  },
  {
   "cell_type": "markdown",
   "metadata": {},
   "source": [
    "#### Process dataframes"
   ]
  },
  {
   "cell_type": "code",
   "execution_count": 246,
   "metadata": {},
   "outputs": [],
   "source": [
    "league_df, team_df = create_ref_table(team_df, 'League')\n",
    "\n",
    "team_df = team_df.drop('Link')\n",
    "\n",
    "team_league_df = team_df \\\n",
    "    .drop('Team') \\\n",
    "    .unique()\n",
    "\n",
    "team_df = team_df \\\n",
    "    .drop('LeagueId')\n",
    "\n",
    "player_team_df = player_team_df \\\n",
    "    .select(['PlayerId', 'TeamId'])\n",
    "\n",
    "### keep player name\n",
    "player_name_df = player_df \\\n",
    "    .select(['PlayerId', 'PlayerName'])\n",
    "\n",
    "player_df = player_df \\\n",
    "    .drop('PlayerName')\n",
    "\n",
    "nationality_df, player_df = create_ref_table(player_df, 'Nationality')\n",
    "position_df, player_df = create_ref_table(player_df, 'Position')\n",
    "foot_df, player_df = create_ref_table(player_df, 'Foot')"
   ]
  },
  {
   "cell_type": "code",
   "execution_count": 247,
   "metadata": {},
   "outputs": [],
   "source": [
    "## rerun everything to extract best position ... \n",
    "## keep the information of sub or not sub ..."
   ]
  },
  {
   "cell_type": "code",
   "execution_count": 248,
   "metadata": {},
   "outputs": [],
   "source": [
    "# Apply the conversion function to the column\n",
    "player_df = player_df.with_columns(pl.col(\"Value\").map_elements(convert_to_int))\n",
    "player_df = player_df.with_columns(pl.col(\"Wage\").map_elements(convert_to_int))"
   ]
  },
  {
   "cell_type": "markdown",
   "metadata": {},
   "source": [
    "#### Save dataframes into silver directory"
   ]
  },
  {
   "cell_type": "code",
   "execution_count": 249,
   "metadata": {},
   "outputs": [],
   "source": [
    "player_df.write_csv('silver/Player.csv', separator=\";\")\n",
    "\n",
    "team_df.write_csv('silver/Team.csv', separator=\";\")\n",
    "league_df.write_csv('silver/League.csv', separator=\";\")\n",
    "nationality_df.write_csv('silver/Nationality.csv', separator=\";\")\n",
    "foot_df.write_csv('silver/Foot.csv', separator=\";\")\n",
    "position_df.write_csv('silver/Position.csv', separator=\";\")\n",
    "\n",
    "player_team_df.write_csv('silver/PlayerTeam.csv', separator=\";\")\n",
    "team_league_df.write_csv('silver/TeamLeague.csv', separator=\";\")\n",
    "player_name_df.write_csv('silver/PlayerName.csv', separator=\";\")"
   ]
  }
 ],
 "metadata": {
  "kernelspec": {
   "display_name": ".venv",
   "language": "python",
   "name": "python3"
  },
  "language_info": {
   "codemirror_mode": {
    "name": "ipython",
    "version": 3
   },
   "file_extension": ".py",
   "mimetype": "text/x-python",
   "name": "python",
   "nbconvert_exporter": "python",
   "pygments_lexer": "ipython3",
   "version": "3.10.10"
  }
 },
 "nbformat": 4,
 "nbformat_minor": 2
}
