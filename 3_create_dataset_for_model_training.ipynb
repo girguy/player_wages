{
 "cells": [
  {
   "cell_type": "code",
   "execution_count": 5,
   "metadata": {},
   "outputs": [],
   "source": [
    "import polars as pl"
   ]
  },
  {
   "cell_type": "code",
   "execution_count": 6,
   "metadata": {},
   "outputs": [],
   "source": [
    "def compute_numerical_feature_from_categorical(dataset, y, categorical_feature_name, numerical_feature_name):\n",
    "\n",
    "    feature_mean_value = dataset \\\n",
    "        .group_by(categorical_feature_name) \\\n",
    "            .agg(pl.col(y).mean()) \\\n",
    "        .sort(y)\n",
    "\n",
    "    feature_mean_value = feature_mean_value.rename({y:numerical_feature_name})\n",
    "\n",
    "    dataset = dataset.join(feature_mean_value, on=categorical_feature_name, how='left')\n",
    "    dataset = dataset.drop(categorical_feature_name, numerical_feature_name+'_right')\n",
    "    return dataset"
   ]
  },
  {
   "cell_type": "markdown",
   "metadata": {},
   "source": [
    "### Read data"
   ]
  },
  {
   "cell_type": "code",
   "execution_count": 7,
   "metadata": {},
   "outputs": [
    {
     "ename": "SyntaxError",
     "evalue": "(unicode error) 'unicodeescape' codec can't decode bytes in position 6-7: malformed \\N character escape (727476159.py, line 5)",
     "output_type": "error",
     "traceback": [
      "\u001b[1;36m  Cell \u001b[1;32mIn[7], line 5\u001b[1;36m\u001b[0m\n\u001b[1;33m    nationality_df = pl.read_csv('silver\\Nationality.csv', separator=';')\u001b[0m\n\u001b[1;37m                                                         ^\u001b[0m\n\u001b[1;31mSyntaxError\u001b[0m\u001b[1;31m:\u001b[0m (unicode error) 'unicodeescape' codec can't decode bytes in position 6-7: malformed \\N character escape\n"
     ]
    }
   ],
   "source": [
    "player_df = pl.read_csv('silver\\Player.csv', separator=';')\n",
    "player_team_df = pl.read_csv('silver\\PlayerTeam.csv', separator=';')\n",
    "team_df = pl.read_csv('silver\\Team.csv', separator=';')\n",
    "team_league_df = pl.read_csv('silver\\TeamLeague.csv', separator=';')\n",
    "nationality_df = pl.read_csv('silver\\Nationality.csv', separator=';')\n",
    "foot_df = pl.read_csv('silver\\Foot.csv', separator=';')\n",
    "position_df = pl.read_csv('silver\\Position.csv', separator=';')"
   ]
  },
  {
   "cell_type": "markdown",
   "metadata": {},
   "source": [
    "### Join data"
   ]
  },
  {
   "cell_type": "code",
   "execution_count": null,
   "metadata": {},
   "outputs": [],
   "source": [
    "dataset = player_df.join(player_team_df, on='PlayerId', how='left')\n",
    "dataset = dataset \\\n",
    "    .join(team_df, on='TeamId', how='left') \\\n",
    "    .join(team_league_df, on='TeamId', how='left') \\\n",
    "    .join(foot_df, on='FootId', how='left') \\\n",
    "    .join(position_df, on='PositionId', left='left') \\\n",
    "    .join(nationality_df, on='NationalityId', left='left')\n",
    "    \n",
    "dataset.head()"
   ]
  },
  {
   "cell_type": "code",
   "execution_count": 4,
   "metadata": {},
   "outputs": [
    {
     "data": {
      "text/html": [
       "<div><style>\n",
       ".dataframe > thead > tr,\n",
       ".dataframe > tbody > tr {\n",
       "  text-align: right;\n",
       "  white-space: pre-wrap;\n",
       "}\n",
       "</style>\n",
       "<small>shape: (5, 47)</small><table border=\"1\" class=\"dataframe\"><thead><tr><th>PlayerId</th><th>PlayerName</th><th>Nationality</th><th>Age</th><th>Height</th><th>Weigh</th><th>Foot</th><th>Position</th><th>Value</th><th>Wage</th><th>Crossing</th><th>Finishing</th><th>Heading accuracy</th><th>Short passing</th><th>Volleys</th><th>Dribbling</th><th>Curve</th><th>FK Accuracy</th><th>Long passing</th><th>Ball control</th><th>Acceleration</th><th>Sprint speed</th><th>Agility</th><th>Reactions</th><th>Balance</th><th>Shot power</th><th>Jumping</th><th>Stamina</th><th>Strength</th><th>Long shots</th><th>Aggression</th><th>Interceptions</th><th>Att. Position</th><th>Vision</th><th>Penalties</th><th>Composure</th><th>Defensive awareness</th><th>Standing tackle</th><th>Sliding tackle</th><th>GK Diving</th><th>GK Handling</th><th>GK Kicking</th><th>GK Positioning</th><th>GK Reflexes</th><th>TeamId</th><th>League</th><th>LeagueId</th></tr><tr><td>i64</td><td>str</td><td>str</td><td>i64</td><td>i64</td><td>i64</td><td>str</td><td>str</td><td>str</td><td>str</td><td>i64</td><td>i64</td><td>i64</td><td>i64</td><td>i64</td><td>i64</td><td>i64</td><td>i64</td><td>i64</td><td>i64</td><td>i64</td><td>i64</td><td>i64</td><td>i64</td><td>i64</td><td>i64</td><td>i64</td><td>i64</td><td>i64</td><td>i64</td><td>i64</td><td>i64</td><td>i64</td><td>i64</td><td>i64</td><td>i64</td><td>i64</td><td>i64</td><td>i64</td><td>i64</td><td>i64</td><td>i64</td><td>i64</td><td>i64</td><td>i64</td><td>str</td><td>i64</td></tr></thead><tbody><tr><td>3061</td><td>&quot;Matteo Gabbia&quot;</td><td>&quot;Italy&quot;</td><td>23</td><td>185</td><td>78</td><td>&quot;Right&quot;</td><td>&quot;SUB&quot;</td><td>&quot;€5.5M&quot;</td><td>&quot;€33K&quot;</td><td>41</td><td>22</td><td>75</td><td>60</td><td>34</td><td>53</td><td>47</td><td>28</td><td>53</td><td>62</td><td>52</td><td>53</td><td>55</td><td>71</td><td>51</td><td>59</td><td>75</td><td>77</td><td>73</td><td>41</td><td>75</td><td>73</td><td>23</td><td>41</td><td>42</td><td>59</td><td>77</td><td>77</td><td>75</td><td>11</td><td>5</td><td>12</td><td>14</td><td>14</td><td>104</td><td>&quot;Serie A&quot;</td><td>10</td></tr><tr><td>3412</td><td>&quot;Fabien Centonz…</td><td>&quot;France&quot;</td><td>27</td><td>182</td><td>75</td><td>&quot;Right&quot;</td><td>&quot;SUB&quot;</td><td>&quot;€1.8M&quot;</td><td>&quot;€14K&quot;</td><td>69</td><td>42</td><td>61</td><td>69</td><td>49</td><td>65</td><td>65</td><td>47</td><td>66</td><td>68</td><td>75</td><td>77</td><td>71</td><td>58</td><td>75</td><td>64</td><td>77</td><td>81</td><td>75</td><td>54</td><td>71</td><td>68</td><td>66</td><td>66</td><td>50</td><td>69</td><td>66</td><td>71</td><td>69</td><td>14</td><td>12</td><td>9</td><td>12</td><td>13</td><td>121</td><td>&quot;Serie A&quot;</td><td>10</td></tr><tr><td>4627</td><td>&quot;Tim Lemperle&quot;</td><td>&quot;Germany&quot;</td><td>21</td><td>187</td><td>78</td><td>&quot;Right&quot;</td><td>&quot;LS&quot;</td><td>&quot;€2.7M&quot;</td><td>&quot;€9K&quot;</td><td>64</td><td>73</td><td>61</td><td>63</td><td>55</td><td>73</td><td>53</td><td>45</td><td>55</td><td>72</td><td>77</td><td>70</td><td>67</td><td>58</td><td>63</td><td>66</td><td>76</td><td>55</td><td>69</td><td>51</td><td>49</td><td>27</td><td>69</td><td>53</td><td>55</td><td>58</td><td>30</td><td>33</td><td>30</td><td>9</td><td>10</td><td>8</td><td>7</td><td>7</td><td>163</td><td>&quot;2. Bundesliga&quot;</td><td>6</td></tr><tr><td>5029</td><td>&quot;Niklas Tauer&quot;</td><td>&quot;Germany&quot;</td><td>22</td><td>183</td><td>75</td><td>&quot;Right&quot;</td><td>&quot;SUB&quot;</td><td>&quot;€2.3M&quot;</td><td>&quot;€8K&quot;</td><td>50</td><td>43</td><td>65</td><td>68</td><td>39</td><td>66</td><td>45</td><td>45</td><td>66</td><td>66</td><td>68</td><td>65</td><td>69</td><td>66</td><td>73</td><td>60</td><td>71</td><td>67</td><td>68</td><td>42</td><td>68</td><td>68</td><td>42</td><td>46</td><td>38</td><td>53</td><td>67</td><td>68</td><td>73</td><td>12</td><td>6</td><td>11</td><td>9</td><td>11</td><td>173</td><td>&quot;2. Bundesliga&quot;</td><td>6</td></tr><tr><td>2373</td><td>&quot;Brian Ebenezer…</td><td>&quot;Netherlands&quot;</td><td>21</td><td>180</td><td>78</td><td>&quot;Right&quot;</td><td>&quot;ST&quot;</td><td>&quot;€32M&quot;</td><td>&quot;€15K&quot;</td><td>35</td><td>79</td><td>70</td><td>73</td><td>67</td><td>67</td><td>49</td><td>44</td><td>53</td><td>77</td><td>82</td><td>85</td><td>65</td><td>78</td><td>86</td><td>79</td><td>90</td><td>73</td><td>92</td><td>64</td><td>70</td><td>26</td><td>83</td><td>52</td><td>66</td><td>75</td><td>28</td><td>23</td><td>24</td><td>10</td><td>11</td><td>15</td><td>8</td><td>13</td><td>87</td><td>&quot;Eredivisie&quot;</td><td>3</td></tr></tbody></table></div>"
      ],
      "text/plain": [
       "shape: (5, 47)\n",
       "┌──────────┬──────────────┬─────────────┬─────┬───┬─────────────┬────────┬──────────────┬──────────┐\n",
       "│ PlayerId ┆ PlayerName   ┆ Nationality ┆ Age ┆ … ┆ GK Reflexes ┆ TeamId ┆ League       ┆ LeagueId │\n",
       "│ ---      ┆ ---          ┆ ---         ┆ --- ┆   ┆ ---         ┆ ---    ┆ ---          ┆ ---      │\n",
       "│ i64      ┆ str          ┆ str         ┆ i64 ┆   ┆ i64         ┆ i64    ┆ str          ┆ i64      │\n",
       "╞══════════╪══════════════╪═════════════╪═════╪═══╪═════════════╪════════╪══════════════╪══════════╡\n",
       "│ 3061     ┆ Matteo       ┆ Italy       ┆ 23  ┆ … ┆ 14          ┆ 104    ┆ Serie A      ┆ 10       │\n",
       "│          ┆ Gabbia       ┆             ┆     ┆   ┆             ┆        ┆              ┆          │\n",
       "│ 3412     ┆ Fabien       ┆ France      ┆ 27  ┆ … ┆ 13          ┆ 121    ┆ Serie A      ┆ 10       │\n",
       "│          ┆ Centonze     ┆             ┆     ┆   ┆             ┆        ┆              ┆          │\n",
       "│ 4627     ┆ Tim Lemperle ┆ Germany     ┆ 21  ┆ … ┆ 7           ┆ 163    ┆ 2.           ┆ 6        │\n",
       "│          ┆              ┆             ┆     ┆   ┆             ┆        ┆ Bundesliga   ┆          │\n",
       "│ 5029     ┆ Niklas Tauer ┆ Germany     ┆ 22  ┆ … ┆ 11          ┆ 173    ┆ 2.           ┆ 6        │\n",
       "│          ┆              ┆             ┆     ┆   ┆             ┆        ┆ Bundesliga   ┆          │\n",
       "│ 2373     ┆ Brian        ┆ Netherlands ┆ 21  ┆ … ┆ 13          ┆ 87     ┆ Eredivisie   ┆ 3        │\n",
       "│          ┆ Ebenezer     ┆             ┆     ┆   ┆             ┆        ┆              ┆          │\n",
       "│          ┆ Adjei        ┆             ┆     ┆   ┆             ┆        ┆              ┆          │\n",
       "│          ┆ Brobbey      ┆             ┆     ┆   ┆             ┆        ┆              ┆          │\n",
       "└──────────┴──────────────┴─────────────┴─────┴───┴─────────────┴────────┴──────────────┴──────────┘"
      ]
     },
     "execution_count": 4,
     "metadata": {},
     "output_type": "execute_result"
    }
   ],
   "source": [
    "dataset = player_df.join(player_team_df, on='PlayerId', how='left')\n",
    "dataset = dataset \\\n",
    "    .join(team_df, on='TeamId', how='left') \\\n",
    "    .join(team_league_df, on='TeamId', how='left') \\\n",
    "    .drop('Team')\n",
    "\n",
    "dataset.head()"
   ]
  },
  {
   "cell_type": "code",
   "execution_count": null,
   "metadata": {},
   "outputs": [],
   "source": []
  },
  {
   "cell_type": "markdown",
   "metadata": {},
   "source": [
    "### Feature engineering"
   ]
  },
  {
   "cell_type": "markdown",
   "metadata": {},
   "source": [
    "#### NationalityId, PositionId, FootId, TeamId, LeagueId\n",
    "Those columns contains categorical values, in order to not create an 'importance' scale based on their ID value, we need to encode them"
   ]
  },
  {
   "cell_type": "markdown",
   "metadata": {},
   "source": [
    "- how can create numerical features without one-hot encoding\n",
    "    - For : Nationality, Position, Foot, Team, League\n",
    "        - y_level_mean = x.replace(y.groupby(x).mean()) \n",
    "        - JamesSteinEncoder\n",
    "    - For Foot only\n",
    "        -  WOEEncoder (for the foot)"
   ]
  },
  {
   "cell_type": "code",
   "execution_count": 16,
   "metadata": {},
   "outputs": [
    {
     "data": {
      "text/html": [
       "<div><style>\n",
       ".dataframe > thead > tr,\n",
       ".dataframe > tbody > tr {\n",
       "  text-align: right;\n",
       "  white-space: pre-wrap;\n",
       "}\n",
       "</style>\n",
       "<small>shape: (5, 47)</small><table border=\"1\" class=\"dataframe\"><thead><tr><th>PlayerId</th><th>PlayerName</th><th>Nationality</th><th>Age</th><th>Height</th><th>Weigh</th><th>Foot</th><th>Position</th><th>Value</th><th>Wage</th><th>Crossing</th><th>Finishing</th><th>Heading accuracy</th><th>Short passing</th><th>Volleys</th><th>Dribbling</th><th>Curve</th><th>FK Accuracy</th><th>Long passing</th><th>Ball control</th><th>Acceleration</th><th>Sprint speed</th><th>Agility</th><th>Reactions</th><th>Balance</th><th>Shot power</th><th>Jumping</th><th>Stamina</th><th>Strength</th><th>Long shots</th><th>Aggression</th><th>Interceptions</th><th>Att. Position</th><th>Vision</th><th>Penalties</th><th>Composure</th><th>Defensive awareness</th><th>Standing tackle</th><th>Sliding tackle</th><th>GK Diving</th><th>GK Handling</th><th>GK Kicking</th><th>GK Positioning</th><th>GK Reflexes</th><th>TeamId</th><th>League</th><th>LeagueId</th></tr><tr><td>i64</td><td>str</td><td>str</td><td>i64</td><td>i64</td><td>i64</td><td>str</td><td>str</td><td>str</td><td>str</td><td>i64</td><td>i64</td><td>i64</td><td>i64</td><td>i64</td><td>i64</td><td>i64</td><td>i64</td><td>i64</td><td>i64</td><td>i64</td><td>i64</td><td>i64</td><td>i64</td><td>i64</td><td>i64</td><td>i64</td><td>i64</td><td>i64</td><td>i64</td><td>i64</td><td>i64</td><td>i64</td><td>i64</td><td>i64</td><td>i64</td><td>i64</td><td>i64</td><td>i64</td><td>i64</td><td>i64</td><td>i64</td><td>i64</td><td>i64</td><td>i64</td><td>str</td><td>i64</td></tr></thead><tbody><tr><td>3061</td><td>&quot;Matteo Gabbia&quot;</td><td>&quot;Italy&quot;</td><td>23</td><td>185</td><td>78</td><td>&quot;Right&quot;</td><td>&quot;SUB&quot;</td><td>&quot;€5.5M&quot;</td><td>&quot;€33K&quot;</td><td>41</td><td>22</td><td>75</td><td>60</td><td>34</td><td>53</td><td>47</td><td>28</td><td>53</td><td>62</td><td>52</td><td>53</td><td>55</td><td>71</td><td>51</td><td>59</td><td>75</td><td>77</td><td>73</td><td>41</td><td>75</td><td>73</td><td>23</td><td>41</td><td>42</td><td>59</td><td>77</td><td>77</td><td>75</td><td>11</td><td>5</td><td>12</td><td>14</td><td>14</td><td>104</td><td>&quot;Serie A&quot;</td><td>10</td></tr><tr><td>3412</td><td>&quot;Fabien Centonz…</td><td>&quot;France&quot;</td><td>27</td><td>182</td><td>75</td><td>&quot;Right&quot;</td><td>&quot;SUB&quot;</td><td>&quot;€1.8M&quot;</td><td>&quot;€14K&quot;</td><td>69</td><td>42</td><td>61</td><td>69</td><td>49</td><td>65</td><td>65</td><td>47</td><td>66</td><td>68</td><td>75</td><td>77</td><td>71</td><td>58</td><td>75</td><td>64</td><td>77</td><td>81</td><td>75</td><td>54</td><td>71</td><td>68</td><td>66</td><td>66</td><td>50</td><td>69</td><td>66</td><td>71</td><td>69</td><td>14</td><td>12</td><td>9</td><td>12</td><td>13</td><td>121</td><td>&quot;Serie A&quot;</td><td>10</td></tr><tr><td>4627</td><td>&quot;Tim Lemperle&quot;</td><td>&quot;Germany&quot;</td><td>21</td><td>187</td><td>78</td><td>&quot;Right&quot;</td><td>&quot;LS&quot;</td><td>&quot;€2.7M&quot;</td><td>&quot;€9K&quot;</td><td>64</td><td>73</td><td>61</td><td>63</td><td>55</td><td>73</td><td>53</td><td>45</td><td>55</td><td>72</td><td>77</td><td>70</td><td>67</td><td>58</td><td>63</td><td>66</td><td>76</td><td>55</td><td>69</td><td>51</td><td>49</td><td>27</td><td>69</td><td>53</td><td>55</td><td>58</td><td>30</td><td>33</td><td>30</td><td>9</td><td>10</td><td>8</td><td>7</td><td>7</td><td>163</td><td>&quot;2. Bundesliga&quot;</td><td>6</td></tr><tr><td>5029</td><td>&quot;Niklas Tauer&quot;</td><td>&quot;Germany&quot;</td><td>22</td><td>183</td><td>75</td><td>&quot;Right&quot;</td><td>&quot;SUB&quot;</td><td>&quot;€2.3M&quot;</td><td>&quot;€8K&quot;</td><td>50</td><td>43</td><td>65</td><td>68</td><td>39</td><td>66</td><td>45</td><td>45</td><td>66</td><td>66</td><td>68</td><td>65</td><td>69</td><td>66</td><td>73</td><td>60</td><td>71</td><td>67</td><td>68</td><td>42</td><td>68</td><td>68</td><td>42</td><td>46</td><td>38</td><td>53</td><td>67</td><td>68</td><td>73</td><td>12</td><td>6</td><td>11</td><td>9</td><td>11</td><td>173</td><td>&quot;2. Bundesliga&quot;</td><td>6</td></tr><tr><td>2373</td><td>&quot;Brian Ebenezer…</td><td>&quot;Netherlands&quot;</td><td>21</td><td>180</td><td>78</td><td>&quot;Right&quot;</td><td>&quot;ST&quot;</td><td>&quot;€32M&quot;</td><td>&quot;€15K&quot;</td><td>35</td><td>79</td><td>70</td><td>73</td><td>67</td><td>67</td><td>49</td><td>44</td><td>53</td><td>77</td><td>82</td><td>85</td><td>65</td><td>78</td><td>86</td><td>79</td><td>90</td><td>73</td><td>92</td><td>64</td><td>70</td><td>26</td><td>83</td><td>52</td><td>66</td><td>75</td><td>28</td><td>23</td><td>24</td><td>10</td><td>11</td><td>15</td><td>8</td><td>13</td><td>87</td><td>&quot;Eredivisie&quot;</td><td>3</td></tr></tbody></table></div>"
      ],
      "text/plain": [
       "shape: (5, 47)\n",
       "┌──────────┬──────────────┬─────────────┬─────┬───┬─────────────┬────────┬──────────────┬──────────┐\n",
       "│ PlayerId ┆ PlayerName   ┆ Nationality ┆ Age ┆ … ┆ GK Reflexes ┆ TeamId ┆ League       ┆ LeagueId │\n",
       "│ ---      ┆ ---          ┆ ---         ┆ --- ┆   ┆ ---         ┆ ---    ┆ ---          ┆ ---      │\n",
       "│ i64      ┆ str          ┆ str         ┆ i64 ┆   ┆ i64         ┆ i64    ┆ str          ┆ i64      │\n",
       "╞══════════╪══════════════╪═════════════╪═════╪═══╪═════════════╪════════╪══════════════╪══════════╡\n",
       "│ 3061     ┆ Matteo       ┆ Italy       ┆ 23  ┆ … ┆ 14          ┆ 104    ┆ Serie A      ┆ 10       │\n",
       "│          ┆ Gabbia       ┆             ┆     ┆   ┆             ┆        ┆              ┆          │\n",
       "│ 3412     ┆ Fabien       ┆ France      ┆ 27  ┆ … ┆ 13          ┆ 121    ┆ Serie A      ┆ 10       │\n",
       "│          ┆ Centonze     ┆             ┆     ┆   ┆             ┆        ┆              ┆          │\n",
       "│ 4627     ┆ Tim Lemperle ┆ Germany     ┆ 21  ┆ … ┆ 7           ┆ 163    ┆ 2.           ┆ 6        │\n",
       "│          ┆              ┆             ┆     ┆   ┆             ┆        ┆ Bundesliga   ┆          │\n",
       "│ 5029     ┆ Niklas Tauer ┆ Germany     ┆ 22  ┆ … ┆ 11          ┆ 173    ┆ 2.           ┆ 6        │\n",
       "│          ┆              ┆             ┆     ┆   ┆             ┆        ┆ Bundesliga   ┆          │\n",
       "│ 2373     ┆ Brian        ┆ Netherlands ┆ 21  ┆ … ┆ 13          ┆ 87     ┆ Eredivisie   ┆ 3        │\n",
       "│          ┆ Ebenezer     ┆             ┆     ┆   ┆             ┆        ┆              ┆          │\n",
       "│          ┆ Adjei        ┆             ┆     ┆   ┆             ┆        ┆              ┆          │\n",
       "│          ┆ Brobbey      ┆             ┆     ┆   ┆             ┆        ┆              ┆          │\n",
       "└──────────┴──────────────┴─────────────┴─────┴───┴─────────────┴────────┴──────────────┴──────────┘"
      ]
     },
     "execution_count": 16,
     "metadata": {},
     "output_type": "execute_result"
    }
   ],
   "source": [
    "dataset.head()"
   ]
  },
  {
   "cell_type": "code",
   "execution_count": 14,
   "metadata": {},
   "outputs": [
    {
     "ename": "ColumnNotFoundError",
     "evalue": "NationalityId\n\nError originated just after this operation:\nDF [\"PlayerId\", \"PlayerName\", \"Nationality\", \"Age\"]; PROJECT */47 COLUMNS; SELECTION: \"None\"",
     "output_type": "error",
     "traceback": [
      "\u001b[1;31m---------------------------------------------------------------------------\u001b[0m",
      "\u001b[1;31mColumnNotFoundError\u001b[0m                       Traceback (most recent call last)",
      "Cell \u001b[1;32mIn[14], line 1\u001b[0m\n\u001b[1;32m----> 1\u001b[0m dataset \u001b[38;5;241m=\u001b[39m \u001b[43mcompute_numerical_feature_from_categorical\u001b[49m\u001b[43m(\u001b[49m\u001b[43mdataset\u001b[49m\u001b[43m,\u001b[49m\u001b[43m \u001b[49m\u001b[38;5;124;43m'\u001b[39;49m\u001b[38;5;124;43mValue\u001b[39;49m\u001b[38;5;124;43m'\u001b[39;49m\u001b[43m,\u001b[49m\u001b[43m \u001b[49m\u001b[38;5;124;43m'\u001b[39;49m\u001b[38;5;124;43mNationalityId\u001b[39;49m\u001b[38;5;124;43m'\u001b[39;49m\u001b[43m,\u001b[49m\u001b[43m \u001b[49m\u001b[38;5;124;43m'\u001b[39;49m\u001b[38;5;124;43mNationality\u001b[39;49m\u001b[38;5;124;43m'\u001b[39;49m\u001b[43m)\u001b[49m\n\u001b[0;32m      2\u001b[0m dataset \u001b[38;5;241m=\u001b[39m compute_numerical_feature_from_categorical(dataset, \u001b[38;5;124m'\u001b[39m\u001b[38;5;124mValue\u001b[39m\u001b[38;5;124m'\u001b[39m, \u001b[38;5;124m'\u001b[39m\u001b[38;5;124mPositionId\u001b[39m\u001b[38;5;124m'\u001b[39m, \u001b[38;5;124m'\u001b[39m\u001b[38;5;124mPosition\u001b[39m\u001b[38;5;124m'\u001b[39m)\n\u001b[0;32m      3\u001b[0m dataset \u001b[38;5;241m=\u001b[39m compute_numerical_feature_from_categorical(dataset, \u001b[38;5;124m'\u001b[39m\u001b[38;5;124mValue\u001b[39m\u001b[38;5;124m'\u001b[39m, \u001b[38;5;124m'\u001b[39m\u001b[38;5;124mFootId\u001b[39m\u001b[38;5;124m'\u001b[39m, \u001b[38;5;124m'\u001b[39m\u001b[38;5;124mFoot\u001b[39m\u001b[38;5;124m'\u001b[39m)\n",
      "Cell \u001b[1;32mIn[11], line 5\u001b[0m, in \u001b[0;36mcompute_numerical_feature_from_categorical\u001b[1;34m(dataset, y, categorical_feature_name, numerical_feature_name)\u001b[0m\n\u001b[0;32m      1\u001b[0m \u001b[38;5;28;01mdef\u001b[39;00m \u001b[38;5;21mcompute_numerical_feature_from_categorical\u001b[39m(dataset, y, categorical_feature_name, numerical_feature_name):\n\u001b[0;32m      3\u001b[0m     feature_mean_value \u001b[38;5;241m=\u001b[39m \u001b[43mdataset\u001b[49m\u001b[43m \u001b[49m\u001b[43m\\\u001b[49m\n\u001b[0;32m      4\u001b[0m \u001b[43m        \u001b[49m\u001b[38;5;241;43m.\u001b[39;49m\u001b[43mgroup_by\u001b[49m\u001b[43m(\u001b[49m\u001b[43mcategorical_feature_name\u001b[49m\u001b[43m)\u001b[49m\u001b[43m \u001b[49m\u001b[43m\\\u001b[49m\n\u001b[1;32m----> 5\u001b[0m \u001b[43m            \u001b[49m\u001b[38;5;241;43m.\u001b[39;49m\u001b[43magg\u001b[49m\u001b[43m(\u001b[49m\u001b[43mpl\u001b[49m\u001b[38;5;241;43m.\u001b[39;49m\u001b[43mcol\u001b[49m\u001b[43m(\u001b[49m\u001b[43my\u001b[49m\u001b[43m)\u001b[49m\u001b[38;5;241;43m.\u001b[39;49m\u001b[43mmean\u001b[49m\u001b[43m(\u001b[49m\u001b[43m)\u001b[49m\u001b[43m)\u001b[49m \\\n\u001b[0;32m      6\u001b[0m         \u001b[38;5;241m.\u001b[39msort(y)\n\u001b[0;32m      8\u001b[0m     feature_mean_value \u001b[38;5;241m=\u001b[39m feature_mean_value\u001b[38;5;241m.\u001b[39mrename({y:numerical_feature_name})\n\u001b[0;32m     10\u001b[0m     dataset \u001b[38;5;241m=\u001b[39m dataset\u001b[38;5;241m.\u001b[39mjoin(feature_mean_value, on\u001b[38;5;241m=\u001b[39mcategorical_feature_name, how\u001b[38;5;241m=\u001b[39m\u001b[38;5;124m'\u001b[39m\u001b[38;5;124mleft\u001b[39m\u001b[38;5;124m'\u001b[39m)\n",
      "File \u001b[1;32mc:\\Users\\guygi\\OneDrive\\documents\\player_wages\\.venv\\lib\\site-packages\\polars\\dataframe\\group_by.py:244\u001b[0m, in \u001b[0;36mGroupBy.agg\u001b[1;34m(self, *aggs, **named_aggs)\u001b[0m\n\u001b[0;32m    138\u001b[0m \u001b[38;5;28;01mdef\u001b[39;00m \u001b[38;5;21magg\u001b[39m(\n\u001b[0;32m    139\u001b[0m     \u001b[38;5;28mself\u001b[39m,\n\u001b[0;32m    140\u001b[0m     \u001b[38;5;241m*\u001b[39maggs: IntoExpr \u001b[38;5;241m|\u001b[39m Iterable[IntoExpr],\n\u001b[0;32m    141\u001b[0m     \u001b[38;5;241m*\u001b[39m\u001b[38;5;241m*\u001b[39mnamed_aggs: IntoExpr,\n\u001b[0;32m    142\u001b[0m ) \u001b[38;5;241m-\u001b[39m\u001b[38;5;241m>\u001b[39m DataFrame:\n\u001b[0;32m    143\u001b[0m \u001b[38;5;250m    \u001b[39m\u001b[38;5;124;03m\"\"\"\u001b[39;00m\n\u001b[0;32m    144\u001b[0m \u001b[38;5;124;03m    Compute aggregations for each group of a group by operation.\u001b[39;00m\n\u001b[0;32m    145\u001b[0m \n\u001b[1;32m   (...)\u001b[0m\n\u001b[0;32m    241\u001b[0m \u001b[38;5;124;03m    └─────┴───────┴────────────────┘\u001b[39;00m\n\u001b[0;32m    242\u001b[0m \u001b[38;5;124;03m    \"\"\"\u001b[39;00m\n\u001b[0;32m    243\u001b[0m     \u001b[38;5;28;01mreturn\u001b[39;00m (\n\u001b[1;32m--> 244\u001b[0m         \u001b[38;5;28;43mself\u001b[39;49m\u001b[38;5;241;43m.\u001b[39;49m\u001b[43mdf\u001b[49m\u001b[38;5;241;43m.\u001b[39;49m\u001b[43mlazy\u001b[49m\u001b[43m(\u001b[49m\u001b[43m)\u001b[49m\n\u001b[0;32m    245\u001b[0m \u001b[43m        \u001b[49m\u001b[38;5;241;43m.\u001b[39;49m\u001b[43mgroup_by\u001b[49m\u001b[43m(\u001b[49m\u001b[38;5;28;43mself\u001b[39;49m\u001b[38;5;241;43m.\u001b[39;49m\u001b[43mby\u001b[49m\u001b[43m,\u001b[49m\u001b[43m \u001b[49m\u001b[38;5;241;43m*\u001b[39;49m\u001b[38;5;28;43mself\u001b[39;49m\u001b[38;5;241;43m.\u001b[39;49m\u001b[43mmore_by\u001b[49m\u001b[43m,\u001b[49m\u001b[43m \u001b[49m\u001b[43mmaintain_order\u001b[49m\u001b[38;5;241;43m=\u001b[39;49m\u001b[38;5;28;43mself\u001b[39;49m\u001b[38;5;241;43m.\u001b[39;49m\u001b[43mmaintain_order\u001b[49m\u001b[43m)\u001b[49m\n\u001b[0;32m    246\u001b[0m \u001b[43m        \u001b[49m\u001b[38;5;241;43m.\u001b[39;49m\u001b[43magg\u001b[49m\u001b[43m(\u001b[49m\u001b[38;5;241;43m*\u001b[39;49m\u001b[43maggs\u001b[49m\u001b[43m,\u001b[49m\u001b[43m \u001b[49m\u001b[38;5;241;43m*\u001b[39;49m\u001b[38;5;241;43m*\u001b[39;49m\u001b[43mnamed_aggs\u001b[49m\u001b[43m)\u001b[49m\n\u001b[0;32m    247\u001b[0m \u001b[43m        \u001b[49m\u001b[38;5;241;43m.\u001b[39;49m\u001b[43mcollect\u001b[49m\u001b[43m(\u001b[49m\u001b[43mno_optimization\u001b[49m\u001b[38;5;241;43m=\u001b[39;49m\u001b[38;5;28;43;01mTrue\u001b[39;49;00m\u001b[43m)\u001b[49m\n\u001b[0;32m    248\u001b[0m     )\n",
      "File \u001b[1;32mc:\\Users\\guygi\\OneDrive\\documents\\player_wages\\.venv\\lib\\site-packages\\polars\\lazyframe\\frame.py:1730\u001b[0m, in \u001b[0;36mLazyFrame.collect\u001b[1;34m(self, type_coercion, predicate_pushdown, projection_pushdown, simplify_expression, slice_pushdown, comm_subplan_elim, comm_subexpr_elim, no_optimization, streaming, background, _eager)\u001b[0m\n\u001b[0;32m   1727\u001b[0m \u001b[38;5;28;01mif\u001b[39;00m background:\n\u001b[0;32m   1728\u001b[0m     \u001b[38;5;28;01mreturn\u001b[39;00m InProcessQuery(ldf\u001b[38;5;241m.\u001b[39mcollect_concurrently())\n\u001b[1;32m-> 1730\u001b[0m \u001b[38;5;28;01mreturn\u001b[39;00m wrap_df(\u001b[43mldf\u001b[49m\u001b[38;5;241;43m.\u001b[39;49m\u001b[43mcollect\u001b[49m\u001b[43m(\u001b[49m\u001b[43m)\u001b[49m)\n",
      "\u001b[1;31mColumnNotFoundError\u001b[0m: NationalityId\n\nError originated just after this operation:\nDF [\"PlayerId\", \"PlayerName\", \"Nationality\", \"Age\"]; PROJECT */47 COLUMNS; SELECTION: \"None\""
     ]
    }
   ],
   "source": [
    "dataset = compute_numerical_feature_from_categorical(dataset, 'Value', 'NationalityId', 'Nationality')\n",
    "dataset = compute_numerical_feature_from_categorical(dataset, 'Value', 'PositionId', 'Position')\n",
    "dataset = compute_numerical_feature_from_categorical(dataset, 'Value', 'FootId', 'Foot')\n",
    "dataset = compute_numerical_feature_from_categorical(dataset, 'Value', 'TeamId', 'Team')\n",
    "dataset = compute_numerical_feature_from_categorical(dataset, 'Value', 'LeagueId', 'League')\n",
    "\n",
    "dataset.head()"
   ]
  },
  {
   "cell_type": "markdown",
   "metadata": {},
   "source": [
    "#### Save dataset to gold directory"
   ]
  },
  {
   "cell_type": "code",
   "execution_count": null,
   "metadata": {},
   "outputs": [],
   "source": [
    "#dataset.write_csv('gold/dataset.csv', separator=\";\")"
   ]
  }
 ],
 "metadata": {
  "kernelspec": {
   "display_name": ".venv",
   "language": "python",
   "name": "python3"
  },
  "language_info": {
   "codemirror_mode": {
    "name": "ipython",
    "version": 3
   },
   "file_extension": ".py",
   "mimetype": "text/x-python",
   "name": "python",
   "nbconvert_exporter": "python",
   "pygments_lexer": "ipython3",
   "version": "3.10.10"
  }
 },
 "nbformat": 4,
 "nbformat_minor": 2
}
